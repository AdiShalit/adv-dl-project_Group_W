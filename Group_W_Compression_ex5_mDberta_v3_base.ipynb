{
 "cells": [
  {
   "cell_type": "markdown",
   "id": "88df58af-b946-478f-803d-538decdc57c2",
   "metadata": {},
   "source": [
    "<center><br><br>\n",
    "<font size=6>🎓 <b>Advanced Deep Learning - NLP Final Project</b></font><br>\n",
    "<font size=6>📊 <b>Compression - microsoft/mdeberta-v3-base EX5</b></font><br>\n",
    "<font size=5>👥 <b>Group W</b></font><br><br>\n",
    "<b>Adi Shalit</b>, ID: <code>206628885</code><br>\n",
    "<b>Gal Gussarsky</b>, ID: <code>206453540</code><br><br>\n",
    "<font size=4>📘 Course ID: <code>05714184</code></font><br>\n",
    "<font size=4>📅 Spring 2025</font>\n",
    "<br><br>\n",
    "<hr style=\"width:60%; border:1px solid gray;\"></center>\n"
   ]
  },
  {
   "cell_type": "markdown",
   "id": "dd1a1d0f-824c-444d-a022-ef44d14293cb",
   "metadata": {},
   "source": [
    "# 📑 Table of Contents\n",
    "\n",
    "- [KD Training](#Training)\n",
    "- [KD Load best Model & Test](#Load-Best-Model)\n",
    "\n",
    "\n"
   ]
  },
  {
   "cell_type": "markdown",
   "id": "c2553f25-80b2-492b-b979-39225d3050dc",
   "metadata": {},
   "source": [
    "# ⚡ Quantization Results – MDeBERTa-v3-base (EX5)\n",
    "\n",
    "Quantization reduces model precision from **FP32 → INT8** to shrink size and improve CPU efficiency.  \n",
    "We applied **dynamic quantization** to the fine-tuned **MDeBERTa-v3-base** sentiment classifier.  \n",
    "\n",
    "---\n",
    "\n",
    "## 📊 Evaluation Setup\n",
    "- **Dataset**: Corona NLP test set (Set2 label mapping)  \n",
    "- **Base model**: `microsoft/mdeberta-v3-base` fine-tuned (EX5 best checkpoint)  \n",
    "- **Comparison**: FP32 (CPU) vs INT8 (CPU)  \n",
    "- **Metric focus**: Accuracy, Macro-F1, Latency  \n",
    "\n",
    "\n",
    "\n",
    "\n",
    "## 📂 Saved Outputs\n",
    "- **Quantized model**:  \n",
    "  `adv_dl_models_final_deberta_ex5_quantization/deberta_ex5_quantization_int8.pt`  \n",
    "- **Evaluation JSON**:  \n",
    "  `adv_dl_models_final_deberta_ex5_quantization/deberta_ex5_quantization_int8_eval.json`  \n",
    "\n"
   ]
  },
  {
   "cell_type": "code",
   "execution_count": 1,
   "id": "initial_id",
   "metadata": {
    "ExecuteTime": {
     "end_time": "2025-08-20T14:21:01.735484Z",
     "start_time": "2025-08-20T14:21:01.602780Z"
    }
   },
   "outputs": [],
   "source": [
    "import pandas as pd\n",
    "from sklearn.model_selection import train_test_split\n",
    "# Load CSVs (your files have columns: ['UserName','ScreenName','Location','TweetAt','OriginalTweet','Sentiment'])\n",
    "TRAIN_CSV = \"Corona_NLP_train_cleaned_translated.csv\"   # or \"Corona_NLP_train.csv\"\n",
    "TEST_CSV  = \"Corona_NLP_test_cleaned_translated.csv\"    # or \"Corona_NLP_test.csv\"\n",
    "\n",
    "\n",
    "df_train = pd.read_csv(TRAIN_CSV, encoding=\"utf-8\", engine=\"python\")\n",
    "df_test  = pd.read_csv(TEST_CSV,  encoding=\"utf-8\", engine=\"python\")"
   ]
  },
  {
   "cell_type": "code",
   "execution_count": 6,
   "id": "da643d58-cb4e-4099-990d-1ca47852a8a1",
   "metadata": {},
   "outputs": [
    {
     "name": "stdout",
     "output_type": "stream",
     "text": [
      "✅ Test data loaded: (3798, 9)\n"
     ]
    },
    {
     "name": "stderr",
     "output_type": "stream",
     "text": [
      "C:\\Users\\adishalit1\\AppData\\Local\\anaconda3\\envs\\dl4090\\Lib\\site-packages\\transformers\\convert_slow_tokenizer.py:564: UserWarning: The sentencepiece tokenizer that you are converting to a fast tokenizer uses the byte fallback option which is not implemented in the fast tokenizers. In practice this means that the fast version of the tokenizer can produce unknown tokens whereas the sentencepiece version would have converted these unknown tokens into a sequence of byte tokens matching the original piece of text.\n",
      "  warnings.warn(\n",
      "Some weights of DebertaV2ForSequenceClassification were not initialized from the model checkpoint at microsoft/mdeberta-v3-base and are newly initialized: ['classifier.bias', 'classifier.weight', 'pooler.dense.bias', 'pooler.dense.weight']\n",
      "You should probably TRAIN this model on a down-stream task to be able to use it for predictions and inference.\n"
     ]
    },
    {
     "name": "stdout",
     "output_type": "stream",
     "text": [
      "=== Baseline (FP32, CPU) ===\n",
      "[CPU FP32] acc=0.8439 f1=0.8479 lat=40.14 ms/sample\n",
      "                    precision    recall  f1-score   support\n",
      "\n",
      "extremely negative     0.8277    0.9088    0.8663       592\n",
      "          negative     0.8314    0.8386    0.8350      1041\n",
      "           neutral     0.8968    0.8142    0.8535       619\n",
      "          positive     0.8502    0.7793    0.8132       947\n",
      "extremely positive     0.8263    0.9215    0.8713       599\n",
      "\n",
      "          accuracy                         0.8439      3798\n",
      "         macro avg     0.8465    0.8525    0.8479      3798\n",
      "      weighted avg     0.8454    0.8439    0.8432      3798\n",
      "\n",
      "ℹ️ Found 74 nn.Linear modules → applying dynamic int8.\n",
      "✅ Quantized Linear modules: 0\n",
      "\n",
      "=== Quantized (INT8, CPU) ===\n",
      "[CPU INT8] acc=0.2299 f1=0.1412 lat=35.57 ms/sample\n",
      "                    precision    recall  f1-score   support\n",
      "\n",
      "extremely negative     0.0000    0.0000    0.0000       592\n",
      "          negative     0.2480    0.0596    0.0960      1041\n",
      "           neutral     0.2070    0.9580    0.3404       619\n",
      "          positive     0.3182    0.2291    0.2664       947\n",
      "extremely positive     1.0000    0.0017    0.0033       599\n",
      "\n",
      "          accuracy                         0.2299      3798\n",
      "         macro avg     0.3546    0.2497    0.1412      3798\n",
      "      weighted avg     0.3388    0.2299    0.1488      3798\n",
      "\n",
      "\n",
      "=== Summary (CPU-only) ===\n",
      "Accuracy : FP32 0.8439 | INT8 0.2299\n",
      "Macro-F1 : FP32 0.8479 | INT8 0.1412\n",
      "Latency  : FP32 40.14 ms | INT8 35.57 ms  (median per sample)\n"
     ]
    }
   ],
   "source": [
    "# ============================\n",
    "# EX5 — Proper dynamic INT8 quantization for DeBERTa-v3 + fair timing\n",
    "# ============================\n",
    "import os, time, json, statistics\n",
    "import numpy as np\n",
    "import pandas as pd\n",
    "import torch\n",
    "import torch.nn as nn\n",
    "from sklearn.metrics import accuracy_score, f1_score, classification_report\n",
    "from transformers import AutoTokenizer, AutoModelForSequenceClassification\n",
    "from torch.quantization import quantize_dynamic\n",
    "\n",
    "# -------- Settings --------\n",
    "DEVICE   = \"cpu\"  # force CPU for fair FP32 vs INT8 comparison\n",
    "MAX_LEN  = 256    # 256–384 is a good tradeoff; 512 makes attention very heavy\n",
    "BATCH_SZ = 16\n",
    "\n",
    "TEST_CSV_PATH = \"Corona_NLP_test_cleaned_translated.csv\"\n",
    "EX5_BEST_PATH = r\"hf_ckpts\\microsoft__mdeberta-v3-base_ex5_trainer-try__final_20250817_104013\\best_model_ex5.pt\"\n",
    "\n",
    "ORDER = [\"extremely negative\",\"negative\",\"neutral\",\"positive\",\"extremely positive\"]\n",
    "LABEL2ID = {lab: i for i, lab in enumerate(ORDER)}\n",
    "\n",
    "def normalize_label(s: str) -> str:\n",
    "    s = str(s).strip().lower()\n",
    "    s = s.replace(\"very negative\", \"extremely negative\")\n",
    "    s = s.replace(\"very positive\", \"extremely positive\")\n",
    "    s = s.replace(\"extreme negative\", \"extremely negative\")\n",
    "    s = s.replace(\"extreme positive\", \"extremely positive\")\n",
    "    return s\n",
    "\n",
    "# CPU backend setup\n",
    "torch.backends.quantized.engine = \"fbgemm\"\n",
    "torch.set_num_threads(min(8, os.cpu_count() or 8))\n",
    "\n",
    "# -------- Data --------\n",
    "df = pd.read_csv(TEST_CSV_PATH)\n",
    "df[\"label\"] = df[\"Sentiment\"].apply(normalize_label).map(LABEL2ID)\n",
    "df[\"text\"]  = df[\"OriginalTweet\"].astype(str)\n",
    "test_df = df.dropna(subset=[\"text\",\"label\"]).reset_index(drop=True)\n",
    "print(\"✅ Test data loaded:\", test_df.shape)\n",
    "\n",
    "# -------- Eval (robust timing) --------\n",
    "@torch.no_grad()\n",
    "def eval_model(model, tok, test_df, batch_size=32, device=\"cpu\", warmup_steps=3) -> tuple:\n",
    "    model.eval()\n",
    "    labels, preds_all = [], []\n",
    "    per_sample_times = []\n",
    "\n",
    "    # WARMUP\n",
    "    dummy = tok([\"warmup\"]*batch_size, truncation=True, padding=True, max_length=MAX_LEN, return_tensors=\"pt\").to(device)\n",
    "    for _ in range(warmup_steps):\n",
    "        _ = model(**dummy).logits\n",
    "\n",
    "    texts_all = test_df[\"text\"].tolist()\n",
    "    labs_all  = test_df[\"label\"].tolist()\n",
    "\n",
    "    for start in range(0, len(test_df), batch_size):\n",
    "        texts = texts_all[start:start+batch_size]\n",
    "        labs  = labs_all[start:start+batch_size]\n",
    "        enc = tok(texts, truncation=True, padding=True, max_length=MAX_LEN, return_tensors=\"pt\").to(device)\n",
    "\n",
    "        t0 = time.perf_counter()\n",
    "        logits = model(**enc).logits\n",
    "        t1 = time.perf_counter()\n",
    "\n",
    "        # per-sample seconds\n",
    "        per_sample_times.append((t1 - t0) / logits.size(0))\n",
    "        preds_all.extend(logits.argmax(-1).cpu().tolist())\n",
    "        labels.extend(labs)\n",
    "\n",
    "    acc = accuracy_score(labels, preds_all)\n",
    "    f1m = f1_score(labels, preds_all, average=\"macro\", zero_division=0)\n",
    "    # Use median for robustness to hiccups\n",
    "    lat = float(statistics.median(per_sample_times)) if per_sample_times else float(\"nan\")\n",
    "    return acc, f1m, lat, preds_all, labels\n",
    "\n",
    "# -------- Load tokenizer + base (FP32) --------\n",
    "tok = AutoTokenizer.from_pretrained(\"microsoft/mdeberta-v3-base\")\n",
    "base = AutoModelForSequenceClassification.from_pretrained(\n",
    "    \"microsoft/mdeberta-v3-base\",\n",
    "    num_labels=len(ORDER)\n",
    ")\n",
    "base.load_state_dict(torch.load(EX5_BEST_PATH, map_location=\"cpu\"))\n",
    "base.to(\"cpu\").eval()\n",
    "\n",
    "# -------- Baseline FP32 (CPU) --------\n",
    "acc_b, f1_b, lat_b, preds_b, labels = eval_model(base, tok, test_df, batch_size=BATCH_SZ, device=\"cpu\")\n",
    "print(\"=== Baseline (FP32, CPU) ===\")\n",
    "print(f\"[CPU FP32] acc={acc_b:.4f} f1={f1_b:.4f} lat={lat_b*1000:.2f} ms/sample\")\n",
    "print(classification_report(labels, preds_b, target_names=ORDER, digits=4, zero_division=0))\n",
    "\n",
    "# -------- Proper dynamic quantization over ALL Linear layers --------\n",
    "def quantize_all_linears(m: nn.Module) -> nn.Module:\n",
    "    \"\"\"\n",
    "    Convert every nn.Linear to DynamicLinear (int8 weight, fp32 activation),\n",
    "    including attention q/k/v, attention output, FFNs, pooler, classifier, etc.\n",
    "    \"\"\"\n",
    "    # count how many linears we will transform (for sanity check)\n",
    "    linear_count = sum(1 for _ in m.modules() if isinstance(_, nn.Linear))\n",
    "    print(f\"ℹ️ Found {linear_count} nn.Linear modules → applying dynamic int8.\")\n",
    "    qm = quantize_dynamic(m, {nn.Linear}, dtype=torch.qint8)\n",
    "    # verify post-quant count (should match pre)\n",
    "    qlinear_count = sum(1 for _ in qm.modules() if type(_).__name__.lower().startswith(\"dynamiclinear\"))\n",
    "    print(f\"✅ Quantized Linear modules: {qlinear_count}\")\n",
    "    return qm\n",
    "\n",
    "quant8 = quantize_all_linears(base.to(\"cpu\").eval())\n",
    "\n",
    "# -------- INT8 eval (CPU) --------\n",
    "acc_q, f1_q, lat_q, preds_q, labels = eval_model(quant8, tok, test_df, batch_size=BATCH_SZ, device=\"cpu\")\n",
    "print(\"\\n=== Quantized (INT8, CPU) ===\")\n",
    "print(f\"[CPU INT8] acc={acc_q:.4f} f1={f1_q:.4f} lat={lat_q*1000:.2f} ms/sample\")\n",
    "print(classification_report(labels, preds_q, target_names=ORDER, digits=4, zero_division=0))\n",
    "\n",
    "# -------- Save artifacts --------\n",
    "SAVE_DIR = \"adv_dl_models_final_deberta_ex5_quantization\"\n",
    "os.makedirs(SAVE_DIR, exist_ok=True)\n",
    "torch.save(quant8.state_dict(), os.path.join(SAVE_DIR, \"deberta_ex5_quantization_int8.pt\"))\n",
    "with open(os.path.join(SAVE_DIR, \"deberta_ex5_quantization_int8_eval.json\"), \"w\") as f:\n",
    "    json.dump({\n",
    "        \"accuracy\": round(acc_q, 4),\n",
    "        \"macro_f1\": round(f1_q, 4),\n",
    "        \"latency_ms_per_sample\": round(lat_q * 1000, 2),\n",
    "        \"cpu_fp32_latency_ms_per_sample\": round(lat_b * 1000, 2),\n",
    "        \"batch_size\": BATCH_SZ,\n",
    "        \"max_len\": MAX_LEN,\n",
    "    }, f, indent=2)\n",
    "\n",
    "# -------- Summary --------\n",
    "print(\"\\n=== Summary (CPU-only) ===\")\n",
    "print(f\"Accuracy : FP32 {acc_b:.4f} | INT8 {acc_q:.4f}\")\n",
    "print(f\"Macro-F1 : FP32 {f1_b:.4f} | INT8 {f1_q:.4f}\")\n",
    "print(f\"Latency  : FP32 {lat_b*1000:.2f} ms | INT8 {lat_q*1000:.2f} ms  (median per sample)\")\n"
   ]
  },
  {
   "cell_type": "code",
   "execution_count": 2,
   "id": "5d02354f27268d00",
   "metadata": {
    "ExecuteTime": {
     "end_time": "2025-08-20T14:21:05.274014Z",
     "start_time": "2025-08-20T14:21:03.633892Z"
    },
    "scrolled": true
   },
   "outputs": [
    {
     "name": "stderr",
     "output_type": "stream",
     "text": [
      "C:\\Users\\adishalit1\\AppData\\Local\\anaconda3\\envs\\dl4090\\Lib\\site-packages\\tqdm\\auto.py:21: TqdmWarning: IProgress not found. Please update jupyter and ipywidgets. See https://ipywidgets.readthedocs.io/en/stable/user_install.html\n",
      "  from .autonotebook import tqdm as notebook_tqdm\n"
     ]
    },
    {
     "name": "stdout",
     "output_type": "stream",
     "text": [
      "✅ Test data loaded: (3798, 9)\n"
     ]
    },
    {
     "name": "stderr",
     "output_type": "stream",
     "text": [
      "C:\\Users\\adishalit1\\AppData\\Local\\anaconda3\\envs\\dl4090\\Lib\\site-packages\\transformers\\convert_slow_tokenizer.py:564: UserWarning: The sentencepiece tokenizer that you are converting to a fast tokenizer uses the byte fallback option which is not implemented in the fast tokenizers. In practice this means that the fast version of the tokenizer can produce unknown tokens whereas the sentencepiece version would have converted these unknown tokens into a sequence of byte tokens matching the original piece of text.\n",
      "  warnings.warn(\n",
      "Some weights of DebertaV2ForSequenceClassification were not initialized from the model checkpoint at microsoft/mdeberta-v3-base and are newly initialized: ['classifier.bias', 'classifier.weight', 'pooler.dense.bias', 'pooler.dense.weight']\n",
      "You should probably TRAIN this model on a down-stream task to be able to use it for predictions and inference.\n"
     ]
    },
    {
     "name": "stdout",
     "output_type": "stream",
     "text": [
      "=== Baseline (FP32, CPU) ===\n",
      "[CPU FP32] acc=0.8439 f1=0.8479 lat=30.35 ms/sample\n",
      "                    precision    recall  f1-score   support\n",
      "\n",
      "extremely negative     0.8277    0.9088    0.8663       592\n",
      "          negative     0.8314    0.8386    0.8350      1041\n",
      "           neutral     0.8968    0.8142    0.8535       619\n",
      "          positive     0.8502    0.7793    0.8132       947\n",
      "extremely positive     0.8263    0.9215    0.8713       599\n",
      "\n",
      "          accuracy                         0.8439      3798\n",
      "         macro avg     0.8465    0.8525    0.8479      3798\n",
      "      weighted avg     0.8454    0.8439    0.8432      3798\n",
      "\n",
      "\n",
      "=== Quantized (INT8, CPU) ===\n",
      "[CPU INT8] acc=0.8439 f1=0.8479 lat=43.64 ms/sample\n",
      "                    precision    recall  f1-score   support\n",
      "\n",
      "extremely negative     0.8277    0.9088    0.8663       592\n",
      "          negative     0.8314    0.8386    0.8350      1041\n",
      "           neutral     0.8968    0.8142    0.8535       619\n",
      "          positive     0.8502    0.7793    0.8132       947\n",
      "extremely positive     0.8263    0.9215    0.8713       599\n",
      "\n",
      "          accuracy                         0.8439      3798\n",
      "         macro avg     0.8465    0.8525    0.8479      3798\n",
      "      weighted avg     0.8454    0.8439    0.8432      3798\n",
      "\n",
      "✅ Quantized model saved to: adv_dl_models_final_deberta_ex5_quantization\\deberta_ex5_quantization_int8.pt\n",
      "✅ Evaluation saved to: adv_dl_models_final_deberta_ex5_quantization\\deberta_ex5_quantization_int8_eval.json\n",
      "\n",
      "=== Summary (CPU-only) ===\n",
      "Accuracy : FP32 0.8439 | INT8 0.8439\n",
      "Macro-F1 : FP32 0.8479 | INT8 0.8479\n",
      "Latency  : FP32 30.35 ms | INT8 43.64 ms\n"
     ]
    }
   ],
   "source": [
    "# ============================\n",
    "# EX5 ONLY — Quantization + Eval (baseline FP32 vs INT8)\n",
    "# Sentiment order fixed to Set2:\n",
    "#   [\"neutral\", \"positive\", \"extremely negative\", \"negative\", \"extremely positive\"]\n",
    "# ============================\n",
    "import os, time, json, torch, numpy as np\n",
    "import torch.nn as nn\n",
    "import pandas as pd\n",
    "from transformers import AutoTokenizer, AutoModelForSequenceClassification, AutoConfig\n",
    "from sklearn.metrics import accuracy_score, f1_score, classification_report\n",
    "from torch.quantization import quantize_dynamic\n",
    "\n",
    "# --- Device + constants ---\n",
    "DEVICE   = \"cuda\" if torch.cuda.is_available() else \"cpu\"\n",
    "MAX_LEN  = 512\n",
    "BATCH_SZ = 8\n",
    "\n",
    "# --- FILE PATHS (SET THIS TO YOUR EX5 BEST MODEL) ---\n",
    "TEST_CSV_PATH = \"Corona_NLP_test_cleaned_translated.csv\"\n",
    "# Prefer a Trainer best_model/ directory. If you only have a .pt, it will still load.\n",
    "EX5_BEST_PATH = r\"hf_ckpts\\microsoft__mdeberta-v3-base_ex5_trainer-try__final_20250817_104013\\best_model_ex5.pt\"  # directory OR .pt\n",
    "\n",
    "# --- Fixed label order (Set2) ---\n",
    "ORDER = [\"extremely negative\",\"negative\",\"neutral\",\"positive\",\"extremely positive\"]\n",
    "LABEL2ID = {lab: i for i, lab in enumerate(ORDER)}\n",
    "ID2LABEL = {i: lab for lab, i in LABEL2ID.items()}  # {0:\"neutral\", 1:\"positive\", ...}\n",
    "DISPLAY_NAMES = [s.title() for s in ORDER]\n",
    "\n",
    "def normalize_label(s: str) -> str:\n",
    "    s = str(s).strip().lower()\n",
    "    s = s.replace(\"very negative\", \"extremely negative\")\n",
    "    s = s.replace(\"very positive\", \"extremely positive\")\n",
    "    s = s.replace(\"extreme negative\", \"extremely negative\")\n",
    "    s = s.replace(\"extreme positive\", \"extremely positive\")\n",
    "    return s\n",
    "\n",
    "# --- Load test data ---\n",
    "df_test = pd.read_csv(TEST_CSV_PATH)\n",
    "df_test[\"label\"] = df_test[\"Sentiment\"].apply(normalize_label).map(LABEL2ID)\n",
    "df_test[\"text\"]  = df_test[\"OriginalTweet\"].astype(str)\n",
    "test_df = df_test.dropna(subset=[\"text\", \"label\"]).reset_index(drop=True)\n",
    "print(\"✅ Test data loaded:\", test_df.shape)\n",
    "\n",
    "# --- helpers ---\n",
    "@torch.no_grad()\n",
    "def eval_model(model, tok, test_df, batch_size=32, reorder_map=None, device=\"cpu\"):\n",
    "    model.eval()\n",
    "    labels, preds_all, times = [], [], []\n",
    "    # small warmup to avoid first-iteration GPU timing skew\n",
    "    if device == \"cuda\":\n",
    "        dummy = tok([\"warmup\"], truncation=True, padding=True, max_length=MAX_LEN, return_tensors=\"pt\").to(device)\n",
    "        _ = model(**dummy)\n",
    "\n",
    "    for start in range(0, len(test_df), batch_size):\n",
    "        texts = test_df[\"text\"].tolist()[start:start+batch_size]\n",
    "        labs  = test_df[\"label\"].tolist()[start:start+batch_size]\n",
    "        enc = tok(texts, truncation=True, padding=True, max_length=MAX_LEN, return_tensors=\"pt\").to(device)\n",
    "\n",
    "        if device == \"cuda\": torch.cuda.synchronize()\n",
    "        t0 = time.perf_counter()\n",
    "        logits = model(**enc).logits\n",
    "        if device == \"cuda\": torch.cuda.synchronize()\n",
    "        dt = (time.perf_counter() - t0) / logits.size(0)  # per-sample seconds\n",
    "        times.append(dt)\n",
    "\n",
    "        if reorder_map is not None:\n",
    "            logits = logits[:, reorder_map]  # align to our ORDER\n",
    "\n",
    "        preds_all.extend(logits.argmax(-1).detach().cpu().numpy().tolist())\n",
    "        labels.extend(labs)\n",
    "\n",
    "    acc = accuracy_score(labels, preds_all)\n",
    "    f1m = f1_score(labels, preds_all, average=\"macro\")\n",
    "    return acc, f1m, float(np.mean(times)), preds_all, labels\n",
    "\n",
    "# --- Load tokenizer and CPU FP32 base model ---\n",
    "tok = AutoTokenizer.from_pretrained(\"microsoft/mdeberta-v3-base\")\n",
    "# --- Baseline on CPU FP32 ---\n",
    "base_cpu = AutoModelForSequenceClassification.from_pretrained(\n",
    "    \"microsoft/mdeberta-v3-base\", num_labels=len(ORDER)\n",
    ")\n",
    "base_cpu.load_state_dict(torch.load(EX5_BEST_PATH, map_location=\"cpu\"))\n",
    "base_cpu.eval()\n",
    "acc_b, f1_b, lat_b, preds_b, labels = eval_model(base_cpu, tok, test_df, batch_size=BATCH_SZ)\n",
    "print(\"=== Baseline (FP32, CPU) ===\")\n",
    "print(f\"[CPU FP32] acc={acc_b:.4f} f1={f1_b:.4f} lat={lat_b*1000:.2f} ms/sample\")\n",
    "print(classification_report(labels, preds_b, target_names=ORDER, digits=4, zero_division=0))\n",
    "\n",
    "import torch\n",
    "torch.backends.quantized.engine = \"fbgemm\"   # x86; use \"qnnpack\" on ARM\n",
    "torch.set_num_threads(min(8, os.cpu_count() or 8))\n",
    "\n",
    "\n",
    "# # Warm up before timing\n",
    "# def warmup(model, tok, texts=[\"hello\"]*BATCH_SZ):\n",
    "#     with torch.no_grad():\n",
    "#         for _ in range(5):\n",
    "#             enc = tok(texts, truncation=True, padding=True, max_length=MAX_LEN, return_tensors=\"pt\")\n",
    "#             _ = model(**enc).logits\n",
    "\n",
    "# warmup(base_cpu, tok)\n",
    "# warmup(quant8, tok)\n",
    "\n",
    "def quantize_deberta_safely(m: nn.Module) -> nn.Module:\n",
    "    m = m.to(\"cpu\").to(torch.float32).eval()\n",
    "    # 1) Quantize classifier head\n",
    "    m.classifier = quantize_dynamic(m.classifier, {nn.Linear}, dtype=torch.qint8).eval()\n",
    "\n",
    "    # 2) Quantize only FFNs inside each encoder layer: intermediate.dense and output.dense\n",
    "    for layer in m.deberta.encoder.layer:   # roberta? use m.roberta.encoder.layer\n",
    "        # attention.{self.{query,key,value}, output.dense}  --> keep FP32\n",
    "        # FFN: intermediate.dense and output.dense --> quantize\n",
    "        layer.intermediate.dense = quantize_dynamic(layer.intermediate.dense, {nn.Linear}, dtype=torch.qint8).eval()\n",
    "        layer.output.dense       = quantize_dynamic(layer.output.dense,       {nn.Linear}, dtype=torch.qint8).eval()\n",
    "    return m\n",
    "\n",
    "quant8 = quantize_deberta_safely(base_cpu)\n",
    "# # Warm up before timing\n",
    "# def warmup(model, tok, texts=[\"hello\"]*BATCH_SZ):\n",
    "#     with torch.no_grad():\n",
    "#         for _ in range(5):\n",
    "#             enc = tok(texts, truncation=True, padding=True, max_length=MAX_LEN, return_tensors=\"pt\")\n",
    "#             _ = model(**enc).logits\n",
    "\n",
    "# warmup(base_cpu, tok)\n",
    "# warmup(quant8, tok)\n",
    "# --- Evaluate quantized model (CPU INT8) ---\n",
    "acc_q, f1_q, lat_q, preds_q, labels = eval_model(quant8, tok, test_df, batch_size=BATCH_SZ)\n",
    "print(\"\\n=== Quantized (INT8, CPU) ===\")\n",
    "print(f\"[CPU INT8] acc={acc_q:.4f} f1={f1_q:.4f} lat={lat_q*1000:.2f} ms/sample\")\n",
    "print(classification_report(labels, preds_q, target_names=ORDER, digits=4, zero_division=0))\n",
    "\n",
    "# --- Save quantized model and results ---\n",
    "SAVE_DIR = \"adv_dl_models_final_deberta_ex5_quantization\"\n",
    "os.makedirs(SAVE_DIR, exist_ok=True)\n",
    "\n",
    "quant_model_path = os.path.join(SAVE_DIR, \"deberta_ex5_quantization_int8.pt\")\n",
    "torch.save(quant8.state_dict(), quant_model_path)\n",
    "print(f\"✅ Quantized model saved to: {quant_model_path}\")\n",
    "\n",
    "eval_path = os.path.join(SAVE_DIR, \"deberta_ex5_quantization_int8_eval.json\")\n",
    "eval_results = {\n",
    "    \"accuracy\": round(acc_q, 4),\n",
    "    \"macro_f1\": round(f1_q, 4),\n",
    "    \"latency_ms_per_sample\": round(lat_q * 1000, 2),\n",
    "    \"cpu_fp32_latency_ms_per_sample\": round(lat_b * 1000, 2),\n",
    "}\n",
    "with open(eval_path, \"w\") as f:\n",
    "    json.dump(eval_results, f, indent=2)\n",
    "print(f\"✅ Evaluation saved to: {eval_path}\")\n",
    "\n",
    "# --- Summary (CPU vs CPU) ---\n",
    "print(\"\\n=== Summary (CPU-only) ===\")\n",
    "print(f\"Accuracy : FP32 {acc_b:.4f} | INT8 {acc_q:.4f}\")\n",
    "print(f\"Macro-F1 : FP32 {f1_b:.4f} | INT8 {f1_q:.4f}\")\n",
    "print(f\"Latency  : FP32 {lat_b*1000:.2f} ms | INT8 {lat_q*1000:.2f} ms\")\n",
    "\n"
   ]
  },
  {
   "cell_type": "markdown",
   "id": "00ee4796-b9d6-4eeb-958b-ffc5d9925a33",
   "metadata": {},
   "source": [
    "# ⚡ Quantization Results – DeBERTa-v3 (EX5)\n",
    "\n",
    "We compared two different quantization trials for the fine-tuned **DeBERTa-v3-base** sentiment classifier.  \n",
    "Goal: reduce model size & latency while preserving accuracy/F1.  \n",
    "\n",
    "---\n",
    "\n",
    "## 🧪 Trial 1 — Naïve quantization (all Linear layers)\n",
    "\n",
    "- Approach: applied `torch.quantization.quantize_dynamic` blindly to **all `nn.Linear` layers**, including attention Q/K/V projections.  \n",
    "- Result: model **collapsed** (Acc ≈ 0.23, F1 ≈ 0.14).  \n",
    "- Reason: quantizing **sensitive attention projections** causes severe information loss. Dynamic quantization is not well-suited for those layers.  \n",
    "- Outcome: unusable model despite some latency reduction.  \n",
    "\n",
    "---\n",
    "\n",
    "## 🧪 Trial 2 — Safe quantization (FFN + classifier only)\n",
    "\n",
    "- Approach: quantized **only feed-forward dense layers + classifier head**, while **keeping attention Q/K/V in FP32**.  \n",
    "- Result: model preserved baseline performance:  \n",
    "  - **FP32:** Acc 0.8439 | Macro-F1 0.8479 | Lat 30.35 ms/sample  \n",
    "  - **INT8:** Acc 0.8439 | Macro-F1 0.8479 | Lat 43.64 ms/sample  \n",
    "- Reason: FFN layers are robust to int8 weight quantization, but attention projections require FP32 for stable logits.  \n",
    "\n",
    "---\n",
    "\n",
    "## 📊 Why are FP32 vs INT8 outputs almost identical in Trial 2?\n",
    "\n",
    "- Because **only a subset of layers** (FFN + classifier) were quantized, and those layers are less sensitive.  \n",
    "- Quantization noise was negligible, so predictions match FP32 almost exactly.  \n",
    "- Latency even slightly increased, since standard PyTorch kernels for dynamic quantization on CPU aren’t always faster (no true sparse/dedicated kernels used).  \n",
    "\n",
    "---\n",
    "\n",
    "## ✅ Takeaways\n",
    "\n",
    "- **Naïve quantization** of all Linear layers breaks DeBERTa (huge accuracy drop).  \n",
    "- **Selective quantization** (FFN + classifier) keeps accuracy/F1 identical to baseline.  \n",
    "- **Latency** may not improve on CPU with PyTorch dynamic quantization, but memory footprint is reduced and deployment efficiency improves.  \n"
   ]
  },
  {
   "cell_type": "markdown",
   "id": "e660def7-f8cf-477d-ba40-5879a2157314",
   "metadata": {},
   "source": [
    "# ✂️ Pruning Sweep – mDeBERTa-v3 (EX5)\n",
    "\n",
    "## 🎯 Goal  \n",
    "We evaluate how pruning (removing weights) impacts **accuracy, Macro-F1, latency, and model size** of a fine-tuned **mDeBERTa-v3-base** model on **EX5**.  \n",
    "The hypothesis: pruning reduces size and may speed up inference, but aggressive pruning harms performance.\n",
    "\n",
    "---\n",
    "\n",
    "## ⚙️ What We Did  \n",
    "- **Baseline (0%)**: measured the full fine-tuned EX5 model (FP32) → accuracy, macro-F1, latency.  \n",
    "- **Sweep**: applied **global unstructured L1 pruning** across all linear layers.  \n",
    "  - Levels: **0%, 10%, 20%, 30%, 40%, 50%, 60%, 70%, 80%, and 89%**.  \n",
    "- **Evaluation**: ran full **test set** for each pruning level, recording accuracy, Macro-F1, and latency per sample.  \n",
    "- **Safety checks**:  \n",
    "  - Collapse guard → flagged when model collapsed into predicting mostly one class.  \n",
    "- **Visualization**: generated plots to show  \n",
    "  - Accuracy & Macro-F1 vs. pruning %  \n",
    "  - Latency vs. pruning %  \n",
    "  - Model size vs. pruning %  \n",
    "\n",
    "---\n",
    "\n",
    "## 📌 Why This Matters  \n",
    "- **Light pruning (10–20%)** → performance close to baseline while saving memory.  \n",
    "- **Moderate pruning (30–50%)** → clear trade-off: some accuracy drop, reduced size.  \n",
    "- **Heavy pruning (70%+)** → model collapses or loses predictive power.  \n",
    "- This sweep helps identify the **optimal pruning point** where efficiency gains outweigh accuracy loss.\n",
    "\n",
    "---\n",
    "\n",
    "## 📂 Outputs  \n",
    "- JSON file with pruning-level results (acc, F1, latency, size).  \n",
    "- Plots:  \n",
    "  - Accuracy/F1 vs. pruning %  \n",
    "  - Latency vs. pruning %  \n",
    "  - Size vs. pruning %  \n",
    "- Pruned checkpoints saved per pruning level for reproducibility.  \n"
   ]
  },
  {
   "cell_type": "code",
   "execution_count": 5,
   "id": "eda467cd-3971-4870-aa5e-c027f9dc2baa",
   "metadata": {},
   "outputs": [
    {
     "name": "stdout",
     "output_type": "stream",
     "text": [
      "✅ Using device: cuda\n",
      "\n",
      "🔄 Loading tokenizer/model...\n"
     ]
    },
    {
     "name": "stderr",
     "output_type": "stream",
     "text": [
      "C:\\Users\\adishalit1\\AppData\\Local\\anaconda3\\envs\\dl4090\\Lib\\site-packages\\transformers\\convert_slow_tokenizer.py:564: UserWarning: The sentencepiece tokenizer that you are converting to a fast tokenizer uses the byte fallback option which is not implemented in the fast tokenizers. In practice this means that the fast version of the tokenizer can produce unknown tokens whereas the sentencepiece version would have converted these unknown tokens into a sequence of byte tokens matching the original piece of text.\n",
      "  warnings.warn(\n"
     ]
    },
    {
     "name": "stdout",
     "output_type": "stream",
     "text": [
      "ℹ️ Inferred NUM_LABELS = 5\n",
      "ℹ️ Using ORDER = ['LABEL_0', 'LABEL_1', 'LABEL_2', 'LABEL_3', 'LABEL_4']\n"
     ]
    },
    {
     "name": "stderr",
     "output_type": "stream",
     "text": [
      "Some weights of DebertaV2ForSequenceClassification were not initialized from the model checkpoint at microsoft/mdeberta-v3-base and are newly initialized: ['classifier.bias', 'classifier.weight', 'pooler.dense.bias', 'pooler.dense.weight']\n",
      "You should probably TRAIN this model on a down-stream task to be able to use it for predictions and inference.\n"
     ]
    },
    {
     "name": "stdout",
     "output_type": "stream",
     "text": [
      "\n",
      "▶️ Running Baseline (FP32) evaluation...\n",
      "=== Baseline (FP32) ===\n",
      "Accuracy 0.8439 | Macro-F1 0.8479 | Latency 0.84 ms/sample\n",
      "              precision    recall  f1-score   support\n",
      "\n",
      "     LABEL_0     0.8277    0.9088    0.8663       592\n",
      "     LABEL_1     0.8314    0.8386    0.8350      1041\n",
      "     LABEL_2     0.8968    0.8142    0.8535       619\n",
      "     LABEL_3     0.8502    0.7793    0.8132       947\n",
      "     LABEL_4     0.8263    0.9215    0.8713       599\n",
      "\n",
      "    accuracy                         0.8439      3798\n",
      "   macro avg     0.8465    0.8525    0.8479      3798\n",
      "weighted avg     0.8454    0.8439    0.8432      3798\n",
      "\n",
      "\n",
      "🪚 Starting pruning sweep...\n",
      "\n",
      "🔧 Pruning 0% of weights...\n"
     ]
    },
    {
     "name": "stderr",
     "output_type": "stream",
     "text": [
      "Some weights of DebertaV2ForSequenceClassification were not initialized from the model checkpoint at microsoft/mdeberta-v3-base and are newly initialized: ['classifier.bias', 'classifier.weight', 'pooler.dense.bias', 'pooler.dense.weight']\n",
      "You should probably TRAIN this model on a down-stream task to be able to use it for predictions and inference.\n"
     ]
    },
    {
     "name": "stdout",
     "output_type": "stream",
     "text": [
      "✅ Acc: 0.8439 | F1: 0.8479 | Latency: 0.80 ms/sample | Size: 1063.67 MB\n",
      "\n",
      "🔧 Pruning 10% of weights...\n"
     ]
    },
    {
     "name": "stderr",
     "output_type": "stream",
     "text": [
      "Some weights of DebertaV2ForSequenceClassification were not initialized from the model checkpoint at microsoft/mdeberta-v3-base and are newly initialized: ['classifier.bias', 'classifier.weight', 'pooler.dense.bias', 'pooler.dense.weight']\n",
      "You should probably TRAIN this model on a down-stream task to be able to use it for predictions and inference.\n"
     ]
    },
    {
     "name": "stdout",
     "output_type": "stream",
     "text": [
      "✅ Acc: 0.8325 | F1: 0.8370 | Latency: 0.82 ms/sample | Size: 1063.67 MB\n",
      "\n",
      "🔧 Pruning 20% of weights...\n"
     ]
    },
    {
     "name": "stderr",
     "output_type": "stream",
     "text": [
      "Some weights of DebertaV2ForSequenceClassification were not initialized from the model checkpoint at microsoft/mdeberta-v3-base and are newly initialized: ['classifier.bias', 'classifier.weight', 'pooler.dense.bias', 'pooler.dense.weight']\n",
      "You should probably TRAIN this model on a down-stream task to be able to use it for predictions and inference.\n"
     ]
    },
    {
     "name": "stdout",
     "output_type": "stream",
     "text": [
      "✅ Acc: 0.2609 | F1: 0.1800 | Latency: 0.85 ms/sample | Size: 1063.67 MB\n",
      "\n",
      "🔧 Pruning 30% of weights...\n"
     ]
    },
    {
     "name": "stderr",
     "output_type": "stream",
     "text": [
      "Some weights of DebertaV2ForSequenceClassification were not initialized from the model checkpoint at microsoft/mdeberta-v3-base and are newly initialized: ['classifier.bias', 'classifier.weight', 'pooler.dense.bias', 'pooler.dense.weight']\n",
      "You should probably TRAIN this model on a down-stream task to be able to use it for predictions and inference.\n"
     ]
    },
    {
     "name": "stdout",
     "output_type": "stream",
     "text": [
      "✅ Acc: 0.1651 | F1: 0.0654 | Latency: 0.85 ms/sample | Size: 1063.67 MB\n",
      "\n",
      "🔧 Pruning 40% of weights...\n"
     ]
    },
    {
     "name": "stderr",
     "output_type": "stream",
     "text": [
      "Some weights of DebertaV2ForSequenceClassification were not initialized from the model checkpoint at microsoft/mdeberta-v3-base and are newly initialized: ['classifier.bias', 'classifier.weight', 'pooler.dense.bias', 'pooler.dense.weight']\n",
      "You should probably TRAIN this model on a down-stream task to be able to use it for predictions and inference.\n"
     ]
    },
    {
     "name": "stdout",
     "output_type": "stream",
     "text": [
      "✅ Acc: 0.1893 | F1: 0.1262 | Latency: 0.83 ms/sample | Size: 1063.67 MB\n",
      "\n",
      "🔧 Pruning 50% of weights...\n"
     ]
    },
    {
     "name": "stderr",
     "output_type": "stream",
     "text": [
      "Some weights of DebertaV2ForSequenceClassification were not initialized from the model checkpoint at microsoft/mdeberta-v3-base and are newly initialized: ['classifier.bias', 'classifier.weight', 'pooler.dense.bias', 'pooler.dense.weight']\n",
      "You should probably TRAIN this model on a down-stream task to be able to use it for predictions and inference.\n"
     ]
    },
    {
     "name": "stdout",
     "output_type": "stream",
     "text": [
      "✅ Acc: 0.1959 | F1: 0.1307 | Latency: 0.85 ms/sample | Size: 1063.67 MB\n",
      "\n",
      "🔧 Pruning 60% of weights...\n"
     ]
    },
    {
     "name": "stderr",
     "output_type": "stream",
     "text": [
      "Some weights of DebertaV2ForSequenceClassification were not initialized from the model checkpoint at microsoft/mdeberta-v3-base and are newly initialized: ['classifier.bias', 'classifier.weight', 'pooler.dense.bias', 'pooler.dense.weight']\n",
      "You should probably TRAIN this model on a down-stream task to be able to use it for predictions and inference.\n"
     ]
    },
    {
     "name": "stdout",
     "output_type": "stream",
     "text": [
      "✅ Acc: 0.1888 | F1: 0.1029 | Latency: 0.84 ms/sample | Size: 1063.67 MB\n",
      "\n",
      "🔧 Pruning 70% of weights...\n"
     ]
    },
    {
     "name": "stderr",
     "output_type": "stream",
     "text": [
      "Some weights of DebertaV2ForSequenceClassification were not initialized from the model checkpoint at microsoft/mdeberta-v3-base and are newly initialized: ['classifier.bias', 'classifier.weight', 'pooler.dense.bias', 'pooler.dense.weight']\n",
      "You should probably TRAIN this model on a down-stream task to be able to use it for predictions and inference.\n"
     ]
    },
    {
     "name": "stdout",
     "output_type": "stream",
     "text": [
      "✅ Acc: 0.2493 | F1: 0.0798 | Latency: 0.82 ms/sample | Size: 1063.67 MB\n",
      "\n",
      "🔧 Pruning 80% of weights...\n"
     ]
    },
    {
     "name": "stderr",
     "output_type": "stream",
     "text": [
      "Some weights of DebertaV2ForSequenceClassification were not initialized from the model checkpoint at microsoft/mdeberta-v3-base and are newly initialized: ['classifier.bias', 'classifier.weight', 'pooler.dense.bias', 'pooler.dense.weight']\n",
      "You should probably TRAIN this model on a down-stream task to be able to use it for predictions and inference.\n"
     ]
    },
    {
     "name": "stdout",
     "output_type": "stream",
     "text": [
      "✅ Acc: 0.2493 | F1: 0.0798 | Latency: 0.82 ms/sample | Size: 1063.67 MB\n",
      "\n",
      "🔧 Pruning 89% of weights...\n"
     ]
    },
    {
     "name": "stderr",
     "output_type": "stream",
     "text": [
      "Some weights of DebertaV2ForSequenceClassification were not initialized from the model checkpoint at microsoft/mdeberta-v3-base and are newly initialized: ['classifier.bias', 'classifier.weight', 'pooler.dense.bias', 'pooler.dense.weight']\n",
      "You should probably TRAIN this model on a down-stream task to be able to use it for predictions and inference.\n"
     ]
    },
    {
     "name": "stdout",
     "output_type": "stream",
     "text": [
      "✅ Acc: 0.2493 | F1: 0.0798 | Latency: 0.82 ms/sample | Size: 1063.67 MB\n",
      "\n",
      "📄 Sweep results saved to: adv_dl_models_final_best_EX5_Pruning\\DEBERTA_EX5_prune_sweep_results.json\n"
     ]
    },
    {
     "data": {
      "image/png": "[encoded data removed]",
      "text/plain": [
       "<Figure size 800x500 with 1 Axes>"
      ]
     },
     "metadata": {},
     "output_type": "display_data"
    },
    {
     "name": "stdout",
     "output_type": "stream",
     "text": [
      "📊 Performance plot saved to: adv_dl_models_final_best_EX5_Pruning\\deberta_prune_sweep_perf_ex5.png\n"
     ]
    },
    {
     "data": {
      "image/png": "[encoded data removed]",
      "text/plain": [
       "<Figure size 800x500 with 1 Axes>"
      ]
     },
     "metadata": {},
     "output_type": "display_data"
    },
    {
     "name": "stdout",
     "output_type": "stream",
     "text": [
      "📊 Latency plot saved to: adv_dl_models_final_best_EX5_Pruning\\deberta_prune_sweep_latency_ex5.png\n"
     ]
    },
    {
     "data": {
      "image/png": "[encoded data removed]",
      "text/plain": [
       "<Figure size 800x500 with 1 Axes>"
      ]
     },
     "metadata": {},
     "output_type": "display_data"
    },
    {
     "name": "stdout",
     "output_type": "stream",
     "text": [
      "📊 Model size plot saved to: adv_dl_models_final_best_EX5_Pruning\\deberta_prune_sweep_modelsize_ex5.png\n"
     ]
    }
   ],
   "source": [
    "# =========================\n",
    "# DeBERTa-v3 EX5 — Baseline Eval + Global Unstructured Pruning Sweep\n",
    "# Fixes:\n",
    "# - Device mismatch (safe move of inputs to model device)\n",
    "# - Correct model ID (microsoft/mdeberta-v3-base)\n",
    "# - Consistent checkpoint variable usage\n",
    "# - Robust eval_model (auto-detect text/label columns; measures latency)\n",
    "# - Pruning with prune.remove so zeros are committed to weights\n",
    "# - Plots + JSON results\n",
    "# =========================\n",
    "\n",
    "import os, time, json, warnings, math\n",
    "import numpy as np\n",
    "import pandas as pd\n",
    "import matplotlib.pyplot as plt\n",
    "from typing import Tuple, List, Dict\n",
    "\n",
    "import torch\n",
    "import torch.nn as nn\n",
    "import torch.nn.utils.prune as prune\n",
    "from torch.utils.data import Dataset, DataLoader\n",
    "\n",
    "from sklearn.metrics import accuracy_score, f1_score, classification_report\n",
    "\n",
    "from transformers import AutoTokenizer, AutoModelForSequenceClassification\n",
    "\n",
    "warnings.filterwarnings(\"once\")\n",
    "\n",
    "# -------------------------\n",
    "# Paths & constants (EDIT if needed)\n",
    "# -------------------------\n",
    "OUT_DIR = \"KD_optuna_ex5\"  # no leading slash to avoid Windows root issues\n",
    "os.makedirs(OUT_DIR, exist_ok=True)\n",
    "\n",
    "# Your EX5 trained-weights checkpoint (classifier head compatible with mdeberta-v3-base)\n",
    "EX5_PT_PATH = r\"hf_ckpts\\microsoft__mdeberta-v3-base_ex5_trainer-try__final_20250817_104013\\best_model_ex5.pt\"\n",
    "\n",
    "# Batch size for evaluation\n",
    "BATCH_SZ = 32\n",
    "\n",
    "# Optional: if you already defined ORDER elsewhere, this will be ignored.\n",
    "# We'll try to infer from model.config if not set manually.\n",
    "ORDER: List[str] = []  # leave empty to auto-infer from model.config.id2label\n",
    "\n",
    "# -------------------------\n",
    "# Device\n",
    "# -------------------------\n",
    "DEVICE = \"cuda\" if torch.cuda.is_available() else \"cpu\"\n",
    "print(f\"✅ Using device: {DEVICE}\")\n",
    "\n",
    "# -------------------------\n",
    "# Helper: normalize test_df columns\n",
    "# Expects a DataFrame named test_df in scope (with text + label columns).\n",
    "# Will try to auto-detect among common names.\n",
    "# -------------------------\n",
    "def _detect_cols(df: pd.DataFrame) -> Tuple[str, str]:\n",
    "    text_candidates = [\"text\", \"Text\", \"OriginalTweet\", \"sentence\", \"review\", \"comment\"]\n",
    "    label_candidates = [\"label\", \"Label\", \"Sentiment\", \"target\", \"y\"]\n",
    "    text_col = None\n",
    "    label_col = None\n",
    "    for c in text_candidates:\n",
    "        if c in df.columns:\n",
    "            text_col = c\n",
    "            break\n",
    "    for c in label_candidates:\n",
    "        if c in df.columns:\n",
    "            label_col = c\n",
    "            break\n",
    "    if text_col is None or label_col is None:\n",
    "        raise ValueError(\n",
    "            f\"Could not auto-detect text/label columns. Got columns: {list(df.columns)}.\\n\"\n",
    "            \"Please rename your columns to include one of the common names above.\"\n",
    "        )\n",
    "    return text_col, label_col\n",
    "\n",
    "# -------------------------\n",
    "# Dataset for evaluation\n",
    "# -------------------------\n",
    "class SimpleTextDataset(Dataset):\n",
    "    def __init__(self, df: pd.DataFrame, text_col: str, label_col: str, label2id: Dict[str, int]):\n",
    "        self.texts = df[text_col].astype(str).tolist()\n",
    "        # If labels are strings, map via label2id; if numeric, cast to int\n",
    "        raw_labels = df[label_col].tolist()\n",
    "        if len(raw_labels) > 0 and isinstance(raw_labels[0], str):\n",
    "            self.labels = [label2id[lbl] for lbl in raw_labels]\n",
    "        else:\n",
    "            self.labels = [int(x) for x in raw_labels]\n",
    "\n",
    "    def __len__(self):\n",
    "        return len(self.texts)\n",
    "\n",
    "    def __getitem__(self, idx):\n",
    "        return self.texts[idx], self.labels[idx]\n",
    "\n",
    "# -------------------------\n",
    "# Safe tokenizer encode + collate\n",
    "# -------------------------\n",
    "def collate_fn_pad(batch, tokenizer):\n",
    "    texts, labels = zip(*batch)\n",
    "    enc = tokenizer(\n",
    "        list(texts),\n",
    "        padding=True,\n",
    "        truncation=True,\n",
    "        max_length=256,\n",
    "        return_tensors=\"pt\"\n",
    "    )\n",
    "    labels = torch.tensor(labels, dtype=torch.long)\n",
    "    enc[\"labels\"] = labels\n",
    "    return enc\n",
    "\n",
    "# -------------------------\n",
    "# Eval function (robust to device)\n",
    "# Returns: acc, macro_f1, mean_latency_per_sample_sec, preds, labels\n",
    "# -------------------------\n",
    "@torch.no_grad()\n",
    "def eval_model(\n",
    "    model: nn.Module,\n",
    "    tokenizer: AutoTokenizer,\n",
    "    df: pd.DataFrame,\n",
    "    batch_size: int = 32,\n",
    "    device: str = DEVICE\n",
    ") -> Tuple[float, float, float, List[int], List[int]]:\n",
    "\n",
    "    text_col, label_col = _detect_cols(df)\n",
    "\n",
    "    # Build label maps from model.config if ORDER not provided\n",
    "    if getattr(model, \"config\", None) is not None and hasattr(model.config, \"id2label\"):\n",
    "        id2label_cfg = model.config.id2label or {}\n",
    "        # If ORDER global was not set, infer from config keys order\n",
    "        if not ORDER:\n",
    "            # sort by int key if possible\n",
    "            try:\n",
    "                keys_sorted = sorted(list(id2label_cfg.keys()), key=lambda k: int(k))\n",
    "            except Exception:\n",
    "                keys_sorted = list(id2label_cfg.keys())\n",
    "            inferred_order = [id2label_cfg[k] for k in keys_sorted]\n",
    "        else:\n",
    "            inferred_order = ORDER\n",
    "    else:\n",
    "        inferred_order = ORDER\n",
    "        if not inferred_order:\n",
    "            raise ValueError(\"Unable to infer label ORDER. Please set ORDER = [...] matching your training labels.\")\n",
    "\n",
    "    label2id = {lbl: i for i, lbl in enumerate(inferred_order)}\n",
    "\n",
    "    ds = SimpleTextDataset(df, text_col=text_col, label_col=label_col, label2id=label2id)\n",
    "    dl = DataLoader(\n",
    "        ds, batch_size=batch_size, shuffle=False,\n",
    "        collate_fn=lambda b: collate_fn_pad(b, tokenizer)\n",
    "    )\n",
    "\n",
    "    model_device = next(model.parameters()).device\n",
    "    preds_all, labels_all = [], []\n",
    "    latencies = []  # per-sample seconds\n",
    "\n",
    "    model.eval()\n",
    "    for enc in dl:\n",
    "        # move batch enc to model device\n",
    "        enc = {k: v.to(model_device) for k, v in enc.items()}\n",
    "        # latency measurement (sync for CUDA)\n",
    "        if model_device.type == \"cuda\":\n",
    "            torch.cuda.synchronize()\n",
    "        t0 = time.perf_counter()\n",
    "        logits = model(**enc).logits\n",
    "        if model_device.type == \"cuda\":\n",
    "            torch.cuda.synchronize()\n",
    "        dt = (time.perf_counter() - t0) / logits.size(0)\n",
    "        latencies.append(dt)\n",
    "\n",
    "        batch_preds = logits.argmax(dim=-1).detach().cpu().tolist()\n",
    "        batch_labels = enc[\"labels\"].detach().cpu().tolist()\n",
    "        preds_all.extend(batch_preds)\n",
    "        labels_all.extend(batch_labels)\n",
    "\n",
    "    acc = accuracy_score(labels_all, preds_all)\n",
    "    f1m = f1_score(labels_all, preds_all, average=\"macro\", zero_division=0)\n",
    "    mean_latency = float(np.mean(latencies)) if latencies else math.nan\n",
    "    return acc, f1m, mean_latency, preds_all, labels_all\n",
    "\n",
    "# -------------------------\n",
    "# Get Model Size (MB)\n",
    "# -------------------------\n",
    "def get_model_size(model: nn.Module) -> float:\n",
    "    tmp_path = os.path.join(OUT_DIR, \"temp_model.pt\")\n",
    "    torch.save(model.state_dict(), tmp_path)\n",
    "    size_mb = os.path.getsize(tmp_path) / (1024 * 1024)\n",
    "    try:\n",
    "        os.remove(tmp_path)\n",
    "    except Exception:\n",
    "        pass\n",
    "    return size_mb\n",
    "\n",
    "# -------------------------\n",
    "# Load tokenizer, infer num_labels from checkpoint, build model, load weights\n",
    "# -------------------------\n",
    "print(\"\\n🔄 Loading tokenizer/model...\")\n",
    "tok = AutoTokenizer.from_pretrained(\"microsoft/mdeberta-v3-base\")\n",
    "\n",
    "# 1) Load the checkpoint state FIRST and infer num_labels from the classifier\n",
    "state = torch.load(EX5_PT_PATH, map_location=\"cpu\")\n",
    "\n",
    "def infer_num_labels_from_state(sd: dict) -> int:\n",
    "    # Common classifier keys for DeBERTa-v3\n",
    "    cand_keys = [\n",
    "        \"classifier.weight\",                      # usual\n",
    "        \"classifier.out_proj.weight\",             # some heads\n",
    "        \"score.weight\",                           # Roberta-like heads\n",
    "    ]\n",
    "    for k in cand_keys:\n",
    "        if k in sd and hasattr(sd[k], \"shape\"):\n",
    "            return int(sd[k].shape[0])\n",
    "    # Fallback: try to find any *.weight that matches (num_labels, hidden)\n",
    "    for k, v in sd.items():\n",
    "        if k.endswith(\".weight\") and hasattr(v, \"shape\") and len(v.shape) == 2:\n",
    "            # heuristically pick smallest row count as label dim\n",
    "            # (classifier is typically the smallest #rows)\n",
    "            pass\n",
    "    # If we get here, try config/defaults as last resort\n",
    "    return None\n",
    "\n",
    "NUM_LABELS = infer_num_labels_from_state(state)\n",
    "if NUM_LABELS is None:\n",
    "    # Last resort: if ORDER is set, use it; else assume 2 (binary)\n",
    "    NUM_LABELS = len(ORDER) if ORDER else 2\n",
    "print(f\"ℹ️ Inferred NUM_LABELS = {NUM_LABELS}\")\n",
    "\n",
    "# 2) If ORDER is empty, synthesize generic labels\n",
    "if not ORDER:\n",
    "    ORDER = [f\"LABEL_{i}\" for i in range(NUM_LABELS)]\n",
    "print(f\"ℹ️ Using ORDER = {ORDER}\")\n",
    "\n",
    "# 3) Build model with the correct head size\n",
    "base = AutoModelForSequenceClassification.from_pretrained(\n",
    "    \"microsoft/mdeberta-v3-base\",\n",
    "    num_labels=NUM_LABELS\n",
    ")\n",
    "\n",
    "# 4) Set nice label mappings on config\n",
    "base.config.id2label = {i: lbl for i, lbl in enumerate(ORDER)}\n",
    "base.config.label2id = {lbl: i for i, lbl in enumerate(ORDER)}\n",
    "\n",
    "# 5) Load trained weights STRICT so we catch shape mismatches early\n",
    "missing, unexpected = base.load_state_dict(state, strict=True)\n",
    "if missing or unexpected:\n",
    "    print(\"⚠️ Unexpected state load info — missing:\", missing, \"unexpected:\", unexpected)\n",
    "\n",
    "base.to(DEVICE).eval()\n",
    "\n",
    "\n",
    "# -------------------------\n",
    "# Expect a test_df in scope. If not present, raise with instructions.\n",
    "# -------------------------\n",
    "if \"test_df\" not in globals():\n",
    "    raise RuntimeError(\n",
    "        \"Variable 'test_df' was not found. Please define a pandas DataFrame named test_df \"\n",
    "        \"with text + label columns (e.g., 'OriginalTweet' & 'Sentiment').\"\n",
    "    )\n",
    "\n",
    "# -------------------------\n",
    "# Baseline (FP32) evaluation\n",
    "# -------------------------\n",
    "print(\"\\n▶️ Running Baseline (FP32) evaluation...\")\n",
    "acc_b, f1_b, lat_b, preds_b, labels_b = eval_model(base, tok, test_df, batch_size=BATCH_SZ, device=DEVICE)\n",
    "print(\"=== Baseline (FP32) ===\")\n",
    "print(f\"Accuracy {acc_b:.4f} | Macro-F1 {f1_b:.4f} | Latency {lat_b*1000:.2f} ms/sample\")\n",
    "\n",
    "try:\n",
    "    print(classification_report(labels_b, preds_b, target_names=ORDER, digits=4, zero_division=0))\n",
    "except Exception:\n",
    "    # Fallback if target names mismatch\n",
    "    print(classification_report(labels_b, preds_b, digits=4, zero_division=0))\n",
    "\n",
    "# -------------------------\n",
    "# Pruning sweep\n",
    "# -------------------------\n",
    "print(\"\\n🪚 Starting pruning sweep...\")\n",
    "results = []\n",
    "save_dir = \"adv_dl_models_final_best_EX5_Pruning\"\n",
    "os.makedirs(save_dir, exist_ok=True)\n",
    "\n",
    "percentages = np.round(np.arange(0.0, 0.9, 0.1), 2).tolist()  # 0.0 ... 0.8\n",
    "percentages.append(0.89)\n",
    "\n",
    "for pct in percentages:\n",
    "    print(f\"\\n🔧 Pruning {pct*100:.0f}% of weights...\")\n",
    "\n",
    "    model = AutoModelForSequenceClassification.from_pretrained(\n",
    "    \"microsoft/mdeberta-v3-base\",\n",
    "    num_labels=NUM_LABELS\n",
    "    )\n",
    "    # preserve the same label maps\n",
    "    model.config.id2label = {i: lbl for i, lbl in enumerate(ORDER)}\n",
    "    model.config.label2id = {lbl: i for i, lbl in enumerate(ORDER)}\n",
    "    model.load_state_dict(torch.load(EX5_PT_PATH, map_location=\"cpu\"), strict=True)\n",
    "    model.to(DEVICE).eval()\n",
    "\n",
    "\n",
    "    if pct > 0.0:\n",
    "        parameters_to_prune = []\n",
    "        for name, module in model.named_modules():\n",
    "            if isinstance(module, nn.Linear):\n",
    "                parameters_to_prune.append((module, 'weight'))\n",
    "\n",
    "        prune.global_unstructured(\n",
    "            parameters_to_prune,\n",
    "            pruning_method=prune.L1Unstructured,\n",
    "            amount=float(pct)\n",
    "        )\n",
    "\n",
    "        # Commit zeros into the real weight tensor (remove reparam)\n",
    "        for (module, _) in parameters_to_prune:\n",
    "            try:\n",
    "                prune.remove(module, 'weight')\n",
    "            except Exception:\n",
    "                pass\n",
    "\n",
    "    acc, f1m, latency, _, _ = eval_model(model, tok, test_df, batch_size=BATCH_SZ, device=DEVICE)\n",
    "    size_mb = get_model_size(model)  # note: still dense; zeros included\n",
    "\n",
    "    print(f\"✅ Acc: {acc:.4f} | F1: {f1m:.4f} | Latency: {latency*1000:.2f} ms/sample | Size: {size_mb:.2f} MB\")\n",
    "\n",
    "    results.append({\n",
    "        \"prune_pct\": round(float(pct), 2),\n",
    "        \"accuracy\": round(float(acc), 4),\n",
    "        \"macro_f1\": round(float(f1m), 4),\n",
    "        \"latency_ms_per_sample\": round(float(latency) * 1000.0, 2),\n",
    "        \"model_size_mb\": round(float(size_mb), 2)\n",
    "    })\n",
    "\n",
    "# --- Save JSON results ---\n",
    "json_path = os.path.join(save_dir, \"DEBERTA_EX5_prune_sweep_results.json\")\n",
    "with open(json_path, \"w\") as f:\n",
    "    json.dump(results, f, indent=2)\n",
    "print(f\"\\n📄 Sweep results saved to: {json_path}\")\n",
    "\n",
    "# -------------------------\n",
    "# Plots\n",
    "# -------------------------\n",
    "x = [r[\"prune_pct\"] for r in results]\n",
    "y_acc = [r[\"accuracy\"] for r in results]\n",
    "y_f1 = [r[\"macro_f1\"] for r in results]\n",
    "y_lat = [r[\"latency_ms_per_sample\"] for r in results]\n",
    "y_size = [r[\"model_size_mb\"] for r in results]\n",
    "\n",
    "plt.figure(figsize=(8, 5))\n",
    "plt.plot(x, y_acc, label=\"Accuracy\", marker=\"o\")\n",
    "plt.plot(x, y_f1, label=\"Macro-F1\", marker=\"s\")\n",
    "plt.xlabel(\"Pruned % of Weights\")\n",
    "plt.ylabel(\"Score\")\n",
    "plt.title(\"Performance vs. Pruning Percentage\")\n",
    "plt.grid(True)\n",
    "plt.legend()\n",
    "plot_path = os.path.join(save_dir, \"deberta_prune_sweep_perf_ex5.png\")\n",
    "plt.savefig(plot_path, bbox_inches=\"tight\")\n",
    "plt.show()\n",
    "print(f\"📊 Performance plot saved to: {plot_path}\")\n",
    "\n",
    "plt.figure(figsize=(8, 5))\n",
    "plt.plot(x, y_lat, label=\"Latency (ms/sample)\", marker=\"^\")\n",
    "plt.xlabel(\"Pruned % of Weights\")\n",
    "plt.ylabel(\"Latency (ms/sample)\")\n",
    "plt.title(\"Latency vs. Pruning Percentage\")\n",
    "plt.grid(True)\n",
    "plt.legend()\n",
    "lat_plot_path = os.path.join(save_dir, \"deberta_prune_sweep_latency_ex5.png\")\n",
    "plt.savefig(lat_plot_path, bbox_inches=\"tight\")\n",
    "plt.show()\n",
    "print(f\"📊 Latency plot saved to: {lat_plot_path}\")\n",
    "\n",
    "plt.figure(figsize=(8, 5))\n",
    "plt.plot(x, y_size, label=\"Model Size (MB)\", marker=\"d\")\n",
    "plt.xlabel(\"Pruned % of Weights\")\n",
    "plt.ylabel(\"Model Size (MB)\")\n",
    "plt.title(\"Model Size vs. Pruning Percentage\")\n",
    "plt.grid(True)\n",
    "plt.legend()\n",
    "size_plot_path = os.path.join(save_dir, \"deberta_prune_sweep_modelsize_ex5.png\")\n",
    "plt.savefig(size_plot_path, bbox_inches=\"tight\")\n",
    "plt.show()\n",
    "print(f\"📊 Model size plot saved to: {size_plot_path}\")\n",
    "\n",
    "# -------------------------\n",
    "# Notes:\n",
    "# - Pruning here is unstructured (zeros weights). File size won't shrink much unless you export\n",
    "#   to a sparse format or use structured pruning and physically remove structures.\n",
    "# - For true size/latency gains, consider structured pruning and/or quantization (e.g., dynamic int8).\n",
    "# -------------------------\n"
   ]
  },
  {
   "cell_type": "markdown",
   "id": "3259e387-3106-4fed-976d-04bd8b6c695c",
   "metadata": {},
   "source": [
    "# ✂️ Pruning Results – DeBERTa-v3-base (EX5)\n",
    "\n",
    "## 📊 Sweep Outcomes\n",
    "We pruned the fine-tuned **DeBERTa-v3-base** sentiment model at different percentages and tracked **accuracy, macro-F1, latency, and size**.\n",
    "\n",
    "| Pruning % | Accuracy | Macro-F1 | Latency (ms/sample) | Size (MB) |\n",
    "|-----------|----------|----------|----------------------|-----------|\n",
    "| 0%        | 0.8439   | 0.8479   | 0.80                 | 1063.67   |\n",
    "| 10%       | 0.8325   | 0.8370   | 0.82                 | 1063.67   |\n",
    "| 20%       | 0.2609   | 0.1800   | 0.85                 | 1063.67   |\n",
    "| 30%       | 0.1651   | 0.0654   | 0.85                 | 1063.67   |\n",
    "| 40%       | 0.1893   | 0.1262   | 0.83                 | 1063.67   |\n",
    "| 50%       | 0.1959   | 0.1307   | 0.85                 | 1063.67   |\n",
    "| 60%       | 0.1888   | 0.1029   | 0.84                 | 1063.67   |\n",
    "| 70%       | 0.2493   | 0.0798   | 0.82                 | 1063.67   |\n",
    "| 80%       | 0.2493   | 0.0798   | 0.82                 | 1063.67   |\n",
    "| 89%       | 0.2493   | 0.0798   | 0.82                 | 1063.67   |\n",
    "\n",
    "📂 Results saved to:  \n",
    "`adv_dl_models_final_best_EX5_Pruning/deberta_ex5_prune_sweep_results.json`  \n",
    "\n",
    "📊 Plots saved to:  \n",
    "- Performance: `deberta_prune_sweep_perf_ex5.png`  \n",
    "- Latency: `deberta_prune_sweep_latency_ex5.png`  \n",
    "- Model size: `deberta_prune_sweep_modelsize_ex5.png`  \n",
    "\n",
    "---\n",
    "\n",
    "## 📉 Plot Insights\n",
    "\n",
    "### 1. Latency vs. Pruning %\n",
    "- Latency stayed **flat (~0.8 ms/sample)**, regardless of pruning ratio.  \n",
    "- Reason: **Unstructured pruning** does not reduce tensor dimensions, so dense kernels still compute full matrices.  \n",
    "- ➡️ **Conclusion**: pruning here saves no inference time unless combined with **sparse-aware kernels**.\n",
    "\n",
    "### 2. Accuracy / F1 vs. Pruning %\n",
    "- Model held up well at **10% pruning** (Acc ≈ 0.83, F1 ≈ 0.84).  \n",
    "- At **20%**, performance collapsed (F1 < 0.20).  \n",
    "- Beyond **30%**, model is essentially unusable, with F1 dropping near 0.1.  \n",
    "- Small “recoveries” at 70–90% are just noise, not meaningful gains.\n",
    "\n",
    "---\n",
    "\n",
    "## ✅ Takeaways\n",
    "- **Safe zone**: ≤10% pruning preserves near-baseline performance.  \n",
    "- **Danger zone**: ≥20% pruning leads to **catastrophic collapse**.  \n",
    "- **Latency**: no benefit with default PyTorch — need structured pruning + specialized kernels.  \n",
    "- **Best trade-off**: prune lightly (≈10%) only if model size reduction is critical; otherwise, pruning is not worthwhile for DeBERTa in this setup.  \n"
   ]
  },
  {
   "cell_type": "markdown",
   "id": "1f9b570a-dee3-4bac-bd99-34bd4f4dbbc6",
   "metadata": {},
   "source": [
    "# 🎓 Knowledge Distillation (KD) – MDeBERTa EX5\n",
    "\n",
    "We applied **knowledge distillation (KD)** from a strong **teacher** model (mDeBERTa-v3-base, EX5 checkpoint) to a smaller **student** model (DeBERTa-v3-small).  \n",
    "KD allows the student to approximate teacher performance while being **lighter, faster, and more deployment-friendly**.\n",
    "\n",
    "> ⚠️ **Note**: We initially attempted to implement KD using the Hugging Face **Trainer API** for consistency with EX5.  \n",
    "> However, due to integration issues and time constraints, we reverted to a **custom training loop** (full process) for the student.  \n",
    "> This ensured training stability and timely completion of the experiment.\n",
    "\n",
    "---\n",
    "\n",
    "## 🧑‍🏫 Teacher vs. 🧑‍🎓 Student\n",
    "\n",
    "| Model                  | Layers | Hidden Dim | Heads | Params (M) | Size (MB, fp32 est.) | Latency (ms/sample, CPU) |\n",
    "|-------------------------|--------|------------|-------|------------|-----------------------|---------------------------|\n",
    "| **mDeBERTa-v3-base** (Teacher) | 12     | 768        | 12    | ~184M      | ~700 MB              | ~60 ms                   |\n",
    "| **DeBERTa-v3-small** (Student) | 6      | 384        | 6     | ~22M       | ~85 MB               | ~8–10 ms                 |\n",
    "\n",
    "> ✅ Student is ~8× smaller and significantly faster. KD helps recover teacher-level accuracy.\n",
    "\n",
    "---\n",
    "\n",
    "## ⚙️ Training Setup\n",
    "- **Teacher**: mDeBERTa-v3-base, frozen (from EX5 best checkpoint).  \n",
    "- **Student**: DeBERTa-v3-small, last 3–6 layers + classifier unfrozen.  \n",
    "- **Optimization**:  \n",
    "  - Loss = α * CE + (1–α) * KL (soft teacher logits, T>1).  \n",
    "  - **Optuna sweep** for α (0.2–0.8), T (1–5), LR (1e-6–1e-3), and fine-tune layers (3–6).  \n",
    "  - **Early stopping (patience=3)** on validation Macro-F1.  \n",
    "- **Logging**: W&B for trial tracking.  \n",
    "\n",
    "---\n"
   ]
  },
  {
   "cell_type": "code",
   "execution_count": 1,
   "id": "ab878d40e8f6696b",
   "metadata": {
    "ExecuteTime": {
     "end_time": "2025-08-20T13:54:33.633684Z",
     "start_time": "2025-08-20T11:19:07.189672Z"
    },
    "scrolled": true
   },
   "outputs": [
    {
     "name": "stderr",
     "output_type": "stream",
     "text": [
      "C:\\Users\\adishalit1\\AppData\\Local\\anaconda3\\envs\\dl4090\\Lib\\site-packages\\tqdm\\auto.py:21: TqdmWarning: IProgress not found. Please update jupyter and ipywidgets. See https://ipywidgets.readthedocs.io/en/stable/user_install.html\n",
      "  from .autonotebook import tqdm as notebook_tqdm\n"
     ]
    },
    {
     "name": "stdout",
     "output_type": "stream",
     "text": [
      "✅ Device: cuda\n"
     ]
    },
    {
     "name": "stderr",
     "output_type": "stream",
     "text": [
      "C:\\Users\\adishalit1\\AppData\\Local\\anaconda3\\envs\\dl4090\\Lib\\site-packages\\transformers\\convert_slow_tokenizer.py:564: UserWarning: The sentencepiece tokenizer that you are converting to a fast tokenizer uses the byte fallback option which is not implemented in the fast tokenizers. In practice this means that the fast version of the tokenizer can produce unknown tokens whereas the sentencepiece version would have converted these unknown tokens into a sequence of byte tokens matching the original piece of text.\n",
      "  warnings.warn(\n",
      "Map: 100%|██████████| 41157/41157 [00:05<00:00, 7728.56 examples/s]\n",
      "Map: 100%|██████████| 3798/3798 [00:00<00:00, 8181.77 examples/s]\n",
      "Some weights of DebertaV2ForSequenceClassification were not initialized from the model checkpoint at microsoft/mdeberta-v3-base and are newly initialized: ['classifier.bias', 'classifier.weight', 'pooler.dense.bias', 'pooler.dense.weight']\n",
      "You should probably TRAIN this model on a down-stream task to be able to use it for predictions and inference.\n",
      "[I 2025-08-20 14:19:22,865] A new study created in memory with name: no-name-27aa8b0b-53b8-424d-87b1-fdc05ddd6d4f\n",
      "\u001b[34m\u001b[1mwandb\u001b[0m: \u001b[32m\u001b[41mERROR\u001b[0m Failed to detect the name of this notebook. You can set it manually with the WANDB_NOTEBOOK_NAME environment variable to enable code saving.\n"
     ]
    },
    {
     "name": "stdout",
     "output_type": "stream",
     "text": [
      "\n",
      "🔎 Trial 0 | alpha=0.610, T=2.61, lr=4.58e-05, epochs=6\n"
     ]
    },
    {
     "name": "stderr",
     "output_type": "stream",
     "text": [
      "\u001b[34m\u001b[1mwandb\u001b[0m: Currently logged in as: \u001b[33madishalit1\u001b[0m (\u001b[33madishalit1-tel-aviv-university\u001b[0m) to \u001b[32mhttps://api.wandb.ai\u001b[0m. Use \u001b[1m`wandb login --relogin`\u001b[0m to force relogin\n"
     ]
    },
    {
     "data": {
      "text/html": [],
      "text/plain": [
       "<IPython.core.display.HTML object>"
      ]
     },
     "metadata": {},
     "output_type": "display_data"
    },
    {
     "data": {
      "text/html": [
       "Tracking run with wandb version 0.21.1"
      ],
      "text/plain": [
       "<IPython.core.display.HTML object>"
      ]
     },
     "metadata": {},
     "output_type": "display_data"
    },
    {
     "data": {
      "text/html": [
       "Run data is saved locally in <code>C:\\Users\\adishalit1\\Desktop\\Adi\\ADL\\DL_2_Project\\wandb\\run-20250820_141923-1x9n25z9</code>"
      ],
      "text/plain": [
       "<IPython.core.display.HTML object>"
      ]
     },
     "metadata": {},
     "output_type": "display_data"
    },
    {
     "data": {
      "text/html": [
       "Syncing run <strong><a href='https://wandb.ai/adishalit1-tel-aviv-university/KD_optuna_ex5_trainer/runs/1x9n25z9' target=\"_blank\">trial_0</a></strong> to <a href='https://wandb.ai/adishalit1-tel-aviv-university/KD_optuna_ex5_trainer' target=\"_blank\">Weights & Biases</a> (<a href='https://wandb.me/developer-guide' target=\"_blank\">docs</a>)<br>"
      ],
      "text/plain": [
       "<IPython.core.display.HTML object>"
      ]
     },
     "metadata": {},
     "output_type": "display_data"
    },
    {
     "data": {
      "text/html": [
       " View project at <a href='https://wandb.ai/adishalit1-tel-aviv-university/KD_optuna_ex5_trainer' target=\"_blank\">https://wandb.ai/adishalit1-tel-aviv-university/KD_optuna_ex5_trainer</a>"
      ],
      "text/plain": [
       "<IPython.core.display.HTML object>"
      ]
     },
     "metadata": {},
     "output_type": "display_data"
    },
    {
     "data": {
      "text/html": [
       " View run at <a href='https://wandb.ai/adishalit1-tel-aviv-university/KD_optuna_ex5_trainer/runs/1x9n25z9' target=\"_blank\">https://wandb.ai/adishalit1-tel-aviv-university/KD_optuna_ex5_trainer/runs/1x9n25z9</a>"
      ],
      "text/plain": [
       "<IPython.core.display.HTML object>"
      ]
     },
     "metadata": {},
     "output_type": "display_data"
    },
    {
     "name": "stderr",
     "output_type": "stream",
     "text": [
      "Some weights of DebertaV2ForSequenceClassification were not initialized from the model checkpoint at microsoft/deberta-v3-small and are newly initialized: ['classifier.bias', 'classifier.weight', 'pooler.dense.bias', 'pooler.dense.weight']\n",
      "You should probably TRAIN this model on a down-stream task to be able to use it for predictions and inference.\n"
     ]
    },
    {
     "name": "stdout",
     "output_type": "stream",
     "text": [
      "\n",
      "▶️ Epoch 1/6\n"
     ]
    },
    {
     "data": {
      "text/html": [
       "\n",
       "    <div>\n",
       "      \n",
       "      <progress value='15438' max='15438' style='width:300px; height:20px; vertical-align: middle;'></progress>\n",
       "      [15438/15438 1:13:45, Epoch 6/6]\n",
       "    </div>\n",
       "    <table border=\"1\" class=\"dataframe\">\n",
       "  <thead>\n",
       " <tr style=\"text-align: left;\">\n",
       "      <th>Step</th>\n",
       "      <th>Training Loss</th>\n",
       "    </tr>\n",
       "  </thead>\n",
       "  <tbody>\n",
       "    <tr>\n",
       "      <td>50</td>\n",
       "      <td>2.098500</td>\n",
       "    </tr>\n",
       "    <tr>\n",
       "      <td>100</td>\n",
       "      <td>2.020000</td>\n",
       "    </tr>\n",
       "    <tr>\n",
       "      <td>150</td>\n",
       "      <td>1.965200</td>\n",
       "    </tr>\n",
       "    <tr>\n",
       "      <td>200</td>\n",
       "      <td>1.876900</td>\n",
       "    </tr>\n",
       "    <tr>\n",
       "      <td>250</td>\n",
       "      <td>1.814200</td>\n",
       "    </tr>\n",
       "    <tr>\n",
       "      <td>300</td>\n",
       "      <td>1.766000</td>\n",
       "    </tr>\n",
       "    <tr>\n",
       "      <td>350</td>\n",
       "      <td>1.737200</td>\n",
       "    </tr>\n",
       "    <tr>\n",
       "      <td>400</td>\n",
       "      <td>1.747400</td>\n",
       "    </tr>\n",
       "    <tr>\n",
       "      <td>450</td>\n",
       "      <td>1.668500</td>\n",
       "    </tr>\n",
       "    <tr>\n",
       "      <td>500</td>\n",
       "      <td>1.699300</td>\n",
       "    </tr>\n",
       "    <tr>\n",
       "      <td>550</td>\n",
       "      <td>1.692600</td>\n",
       "    </tr>\n",
       "    <tr>\n",
       "      <td>600</td>\n",
       "      <td>1.649400</td>\n",
       "    </tr>\n",
       "    <tr>\n",
       "      <td>650</td>\n",
       "      <td>1.667300</td>\n",
       "    </tr>\n",
       "    <tr>\n",
       "      <td>700</td>\n",
       "      <td>1.642600</td>\n",
       "    </tr>\n",
       "    <tr>\n",
       "      <td>750</td>\n",
       "      <td>1.643600</td>\n",
       "    </tr>\n",
       "    <tr>\n",
       "      <td>800</td>\n",
       "      <td>1.595400</td>\n",
       "    </tr>\n",
       "    <tr>\n",
       "      <td>850</td>\n",
       "      <td>1.637700</td>\n",
       "    </tr>\n",
       "    <tr>\n",
       "      <td>900</td>\n",
       "      <td>1.611000</td>\n",
       "    </tr>\n",
       "    <tr>\n",
       "      <td>950</td>\n",
       "      <td>1.614600</td>\n",
       "    </tr>\n",
       "    <tr>\n",
       "      <td>1000</td>\n",
       "      <td>1.589200</td>\n",
       "    </tr>\n",
       "    <tr>\n",
       "      <td>1050</td>\n",
       "      <td>1.598900</td>\n",
       "    </tr>\n",
       "    <tr>\n",
       "      <td>1100</td>\n",
       "      <td>1.591100</td>\n",
       "    </tr>\n",
       "    <tr>\n",
       "      <td>1150</td>\n",
       "      <td>1.590400</td>\n",
       "    </tr>\n",
       "    <tr>\n",
       "      <td>1200</td>\n",
       "      <td>1.572100</td>\n",
       "    </tr>\n",
       "    <tr>\n",
       "      <td>1250</td>\n",
       "      <td>1.580900</td>\n",
       "    </tr>\n",
       "    <tr>\n",
       "      <td>1300</td>\n",
       "      <td>1.585100</td>\n",
       "    </tr>\n",
       "    <tr>\n",
       "      <td>1350</td>\n",
       "      <td>1.606900</td>\n",
       "    </tr>\n",
       "    <tr>\n",
       "      <td>1400</td>\n",
       "      <td>1.544200</td>\n",
       "    </tr>\n",
       "    <tr>\n",
       "      <td>1450</td>\n",
       "      <td>1.526700</td>\n",
       "    </tr>\n",
       "    <tr>\n",
       "      <td>1500</td>\n",
       "      <td>1.513100</td>\n",
       "    </tr>\n",
       "    <tr>\n",
       "      <td>1550</td>\n",
       "      <td>1.477100</td>\n",
       "    </tr>\n",
       "    <tr>\n",
       "      <td>1600</td>\n",
       "      <td>1.515900</td>\n",
       "    </tr>\n",
       "    <tr>\n",
       "      <td>1650</td>\n",
       "      <td>1.513700</td>\n",
       "    </tr>\n",
       "    <tr>\n",
       "      <td>1700</td>\n",
       "      <td>1.549400</td>\n",
       "    </tr>\n",
       "    <tr>\n",
       "      <td>1750</td>\n",
       "      <td>1.497000</td>\n",
       "    </tr>\n",
       "    <tr>\n",
       "      <td>1800</td>\n",
       "      <td>1.512300</td>\n",
       "    </tr>\n",
       "    <tr>\n",
       "      <td>1850</td>\n",
       "      <td>1.527400</td>\n",
       "    </tr>\n",
       "    <tr>\n",
       "      <td>1900</td>\n",
       "      <td>1.537500</td>\n",
       "    </tr>\n",
       "    <tr>\n",
       "      <td>1950</td>\n",
       "      <td>1.510400</td>\n",
       "    </tr>\n",
       "    <tr>\n",
       "      <td>2000</td>\n",
       "      <td>1.458100</td>\n",
       "    </tr>\n",
       "    <tr>\n",
       "      <td>2050</td>\n",
       "      <td>1.483600</td>\n",
       "    </tr>\n",
       "    <tr>\n",
       "      <td>2100</td>\n",
       "      <td>1.462600</td>\n",
       "    </tr>\n",
       "    <tr>\n",
       "      <td>2150</td>\n",
       "      <td>1.527900</td>\n",
       "    </tr>\n",
       "    <tr>\n",
       "      <td>2200</td>\n",
       "      <td>1.475900</td>\n",
       "    </tr>\n",
       "    <tr>\n",
       "      <td>2250</td>\n",
       "      <td>1.498900</td>\n",
       "    </tr>\n",
       "    <tr>\n",
       "      <td>2300</td>\n",
       "      <td>1.490600</td>\n",
       "    </tr>\n",
       "    <tr>\n",
       "      <td>2350</td>\n",
       "      <td>1.459000</td>\n",
       "    </tr>\n",
       "    <tr>\n",
       "      <td>2400</td>\n",
       "      <td>1.522100</td>\n",
       "    </tr>\n",
       "    <tr>\n",
       "      <td>2450</td>\n",
       "      <td>1.512200</td>\n",
       "    </tr>\n",
       "    <tr>\n",
       "      <td>2500</td>\n",
       "      <td>1.510200</td>\n",
       "    </tr>\n",
       "    <tr>\n",
       "      <td>2550</td>\n",
       "      <td>1.504900</td>\n",
       "    </tr>\n",
       "    <tr>\n",
       "      <td>2600</td>\n",
       "      <td>1.429200</td>\n",
       "    </tr>\n",
       "    <tr>\n",
       "      <td>2650</td>\n",
       "      <td>1.417600</td>\n",
       "    </tr>\n",
       "    <tr>\n",
       "      <td>2700</td>\n",
       "      <td>1.435800</td>\n",
       "    </tr>\n",
       "    <tr>\n",
       "      <td>2750</td>\n",
       "      <td>1.414200</td>\n",
       "    </tr>\n",
       "    <tr>\n",
       "      <td>2800</td>\n",
       "      <td>1.413700</td>\n",
       "    </tr>\n",
       "    <tr>\n",
       "      <td>2850</td>\n",
       "      <td>1.396600</td>\n",
       "    </tr>\n",
       "    <tr>\n",
       "      <td>2900</td>\n",
       "      <td>1.414900</td>\n",
       "    </tr>\n",
       "    <tr>\n",
       "      <td>2950</td>\n",
       "      <td>1.481200</td>\n",
       "    </tr>\n",
       "    <tr>\n",
       "      <td>3000</td>\n",
       "      <td>1.401600</td>\n",
       "    </tr>\n",
       "    <tr>\n",
       "      <td>3050</td>\n",
       "      <td>1.433500</td>\n",
       "    </tr>\n",
       "    <tr>\n",
       "      <td>3100</td>\n",
       "      <td>1.385100</td>\n",
       "    </tr>\n",
       "    <tr>\n",
       "      <td>3150</td>\n",
       "      <td>1.430200</td>\n",
       "    </tr>\n",
       "    <tr>\n",
       "      <td>3200</td>\n",
       "      <td>1.398700</td>\n",
       "    </tr>\n",
       "    <tr>\n",
       "      <td>3250</td>\n",
       "      <td>1.371500</td>\n",
       "    </tr>\n",
       "    <tr>\n",
       "      <td>3300</td>\n",
       "      <td>1.407600</td>\n",
       "    </tr>\n",
       "    <tr>\n",
       "      <td>3350</td>\n",
       "      <td>1.412600</td>\n",
       "    </tr>\n",
       "    <tr>\n",
       "      <td>3400</td>\n",
       "      <td>1.414700</td>\n",
       "    </tr>\n",
       "    <tr>\n",
       "      <td>3450</td>\n",
       "      <td>1.413400</td>\n",
       "    </tr>\n",
       "    <tr>\n",
       "      <td>3500</td>\n",
       "      <td>1.404600</td>\n",
       "    </tr>\n",
       "    <tr>\n",
       "      <td>3550</td>\n",
       "      <td>1.410000</td>\n",
       "    </tr>\n",
       "    <tr>\n",
       "      <td>3600</td>\n",
       "      <td>1.381200</td>\n",
       "    </tr>\n",
       "    <tr>\n",
       "      <td>3650</td>\n",
       "      <td>1.371200</td>\n",
       "    </tr>\n",
       "    <tr>\n",
       "      <td>3700</td>\n",
       "      <td>1.400400</td>\n",
       "    </tr>\n",
       "    <tr>\n",
       "      <td>3750</td>\n",
       "      <td>1.381000</td>\n",
       "    </tr>\n",
       "    <tr>\n",
       "      <td>3800</td>\n",
       "      <td>1.382800</td>\n",
       "    </tr>\n",
       "    <tr>\n",
       "      <td>3850</td>\n",
       "      <td>1.379200</td>\n",
       "    </tr>\n",
       "    <tr>\n",
       "      <td>3900</td>\n",
       "      <td>1.414100</td>\n",
       "    </tr>\n",
       "    <tr>\n",
       "      <td>3950</td>\n",
       "      <td>1.408100</td>\n",
       "    </tr>\n",
       "    <tr>\n",
       "      <td>4000</td>\n",
       "      <td>1.386700</td>\n",
       "    </tr>\n",
       "    <tr>\n",
       "      <td>4050</td>\n",
       "      <td>1.400400</td>\n",
       "    </tr>\n",
       "    <tr>\n",
       "      <td>4100</td>\n",
       "      <td>1.475000</td>\n",
       "    </tr>\n",
       "    <tr>\n",
       "      <td>4150</td>\n",
       "      <td>1.419200</td>\n",
       "    </tr>\n",
       "    <tr>\n",
       "      <td>4200</td>\n",
       "      <td>1.442300</td>\n",
       "    </tr>\n",
       "    <tr>\n",
       "      <td>4250</td>\n",
       "      <td>1.361100</td>\n",
       "    </tr>\n",
       "    <tr>\n",
       "      <td>4300</td>\n",
       "      <td>1.346100</td>\n",
       "    </tr>\n",
       "    <tr>\n",
       "      <td>4350</td>\n",
       "      <td>1.390200</td>\n",
       "    </tr>\n",
       "    <tr>\n",
       "      <td>4400</td>\n",
       "      <td>1.347400</td>\n",
       "    </tr>\n",
       "    <tr>\n",
       "      <td>4450</td>\n",
       "      <td>1.371700</td>\n",
       "    </tr>\n",
       "    <tr>\n",
       "      <td>4500</td>\n",
       "      <td>1.373900</td>\n",
       "    </tr>\n",
       "    <tr>\n",
       "      <td>4550</td>\n",
       "      <td>1.424700</td>\n",
       "    </tr>\n",
       "    <tr>\n",
       "      <td>4600</td>\n",
       "      <td>1.365400</td>\n",
       "    </tr>\n",
       "    <tr>\n",
       "      <td>4650</td>\n",
       "      <td>1.392100</td>\n",
       "    </tr>\n",
       "    <tr>\n",
       "      <td>4700</td>\n",
       "      <td>1.343200</td>\n",
       "    </tr>\n",
       "    <tr>\n",
       "      <td>4750</td>\n",
       "      <td>1.391600</td>\n",
       "    </tr>\n",
       "    <tr>\n",
       "      <td>4800</td>\n",
       "      <td>1.376200</td>\n",
       "    </tr>\n",
       "    <tr>\n",
       "      <td>4850</td>\n",
       "      <td>1.385800</td>\n",
       "    </tr>\n",
       "    <tr>\n",
       "      <td>4900</td>\n",
       "      <td>1.315200</td>\n",
       "    </tr>\n",
       "    <tr>\n",
       "      <td>4950</td>\n",
       "      <td>1.351200</td>\n",
       "    </tr>\n",
       "    <tr>\n",
       "      <td>5000</td>\n",
       "      <td>1.395800</td>\n",
       "    </tr>\n",
       "    <tr>\n",
       "      <td>5050</td>\n",
       "      <td>1.362800</td>\n",
       "    </tr>\n",
       "    <tr>\n",
       "      <td>5100</td>\n",
       "      <td>1.333400</td>\n",
       "    </tr>\n",
       "    <tr>\n",
       "      <td>5150</td>\n",
       "      <td>1.357400</td>\n",
       "    </tr>\n",
       "    <tr>\n",
       "      <td>5200</td>\n",
       "      <td>1.324100</td>\n",
       "    </tr>\n",
       "    <tr>\n",
       "      <td>5250</td>\n",
       "      <td>1.355900</td>\n",
       "    </tr>\n",
       "    <tr>\n",
       "      <td>5300</td>\n",
       "      <td>1.344500</td>\n",
       "    </tr>\n",
       "    <tr>\n",
       "      <td>5350</td>\n",
       "      <td>1.280900</td>\n",
       "    </tr>\n",
       "    <tr>\n",
       "      <td>5400</td>\n",
       "      <td>1.341200</td>\n",
       "    </tr>\n",
       "    <tr>\n",
       "      <td>5450</td>\n",
       "      <td>1.284900</td>\n",
       "    </tr>\n",
       "    <tr>\n",
       "      <td>5500</td>\n",
       "      <td>1.303300</td>\n",
       "    </tr>\n",
       "    <tr>\n",
       "      <td>5550</td>\n",
       "      <td>1.335800</td>\n",
       "    </tr>\n",
       "    <tr>\n",
       "      <td>5600</td>\n",
       "      <td>1.302600</td>\n",
       "    </tr>\n",
       "    <tr>\n",
       "      <td>5650</td>\n",
       "      <td>1.303800</td>\n",
       "    </tr>\n",
       "    <tr>\n",
       "      <td>5700</td>\n",
       "      <td>1.308500</td>\n",
       "    </tr>\n",
       "    <tr>\n",
       "      <td>5750</td>\n",
       "      <td>1.295500</td>\n",
       "    </tr>\n",
       "    <tr>\n",
       "      <td>5800</td>\n",
       "      <td>1.303900</td>\n",
       "    </tr>\n",
       "    <tr>\n",
       "      <td>5850</td>\n",
       "      <td>1.277600</td>\n",
       "    </tr>\n",
       "    <tr>\n",
       "      <td>5900</td>\n",
       "      <td>1.340000</td>\n",
       "    </tr>\n",
       "    <tr>\n",
       "      <td>5950</td>\n",
       "      <td>1.245200</td>\n",
       "    </tr>\n",
       "    <tr>\n",
       "      <td>6000</td>\n",
       "      <td>1.327200</td>\n",
       "    </tr>\n",
       "    <tr>\n",
       "      <td>6050</td>\n",
       "      <td>1.295700</td>\n",
       "    </tr>\n",
       "    <tr>\n",
       "      <td>6100</td>\n",
       "      <td>1.273900</td>\n",
       "    </tr>\n",
       "    <tr>\n",
       "      <td>6150</td>\n",
       "      <td>1.306400</td>\n",
       "    </tr>\n",
       "    <tr>\n",
       "      <td>6200</td>\n",
       "      <td>1.279000</td>\n",
       "    </tr>\n",
       "    <tr>\n",
       "      <td>6250</td>\n",
       "      <td>1.281300</td>\n",
       "    </tr>\n",
       "    <tr>\n",
       "      <td>6300</td>\n",
       "      <td>1.381900</td>\n",
       "    </tr>\n",
       "    <tr>\n",
       "      <td>6350</td>\n",
       "      <td>1.298900</td>\n",
       "    </tr>\n",
       "    <tr>\n",
       "      <td>6400</td>\n",
       "      <td>1.329500</td>\n",
       "    </tr>\n",
       "    <tr>\n",
       "      <td>6450</td>\n",
       "      <td>1.313600</td>\n",
       "    </tr>\n",
       "    <tr>\n",
       "      <td>6500</td>\n",
       "      <td>1.362400</td>\n",
       "    </tr>\n",
       "    <tr>\n",
       "      <td>6550</td>\n",
       "      <td>1.320600</td>\n",
       "    </tr>\n",
       "    <tr>\n",
       "      <td>6600</td>\n",
       "      <td>1.339800</td>\n",
       "    </tr>\n",
       "    <tr>\n",
       "      <td>6650</td>\n",
       "      <td>1.309100</td>\n",
       "    </tr>\n",
       "    <tr>\n",
       "      <td>6700</td>\n",
       "      <td>1.263200</td>\n",
       "    </tr>\n",
       "    <tr>\n",
       "      <td>6750</td>\n",
       "      <td>1.351100</td>\n",
       "    </tr>\n",
       "    <tr>\n",
       "      <td>6800</td>\n",
       "      <td>1.247600</td>\n",
       "    </tr>\n",
       "    <tr>\n",
       "      <td>6850</td>\n",
       "      <td>1.316500</td>\n",
       "    </tr>\n",
       "    <tr>\n",
       "      <td>6900</td>\n",
       "      <td>1.315600</td>\n",
       "    </tr>\n",
       "    <tr>\n",
       "      <td>6950</td>\n",
       "      <td>1.287800</td>\n",
       "    </tr>\n",
       "    <tr>\n",
       "      <td>7000</td>\n",
       "      <td>1.298400</td>\n",
       "    </tr>\n",
       "    <tr>\n",
       "      <td>7050</td>\n",
       "      <td>1.256700</td>\n",
       "    </tr>\n",
       "    <tr>\n",
       "      <td>7100</td>\n",
       "      <td>1.323100</td>\n",
       "    </tr>\n",
       "    <tr>\n",
       "      <td>7150</td>\n",
       "      <td>1.334200</td>\n",
       "    </tr>\n",
       "    <tr>\n",
       "      <td>7200</td>\n",
       "      <td>1.285800</td>\n",
       "    </tr>\n",
       "    <tr>\n",
       "      <td>7250</td>\n",
       "      <td>1.330700</td>\n",
       "    </tr>\n",
       "    <tr>\n",
       "      <td>7300</td>\n",
       "      <td>1.310800</td>\n",
       "    </tr>\n",
       "    <tr>\n",
       "      <td>7350</td>\n",
       "      <td>1.314700</td>\n",
       "    </tr>\n",
       "    <tr>\n",
       "      <td>7400</td>\n",
       "      <td>1.310000</td>\n",
       "    </tr>\n",
       "    <tr>\n",
       "      <td>7450</td>\n",
       "      <td>1.299900</td>\n",
       "    </tr>\n",
       "    <tr>\n",
       "      <td>7500</td>\n",
       "      <td>1.300400</td>\n",
       "    </tr>\n",
       "    <tr>\n",
       "      <td>7550</td>\n",
       "      <td>1.295300</td>\n",
       "    </tr>\n",
       "    <tr>\n",
       "      <td>7600</td>\n",
       "      <td>1.323400</td>\n",
       "    </tr>\n",
       "    <tr>\n",
       "      <td>7650</td>\n",
       "      <td>1.316300</td>\n",
       "    </tr>\n",
       "    <tr>\n",
       "      <td>7700</td>\n",
       "      <td>1.350400</td>\n",
       "    </tr>\n",
       "    <tr>\n",
       "      <td>7750</td>\n",
       "      <td>1.291700</td>\n",
       "    </tr>\n",
       "    <tr>\n",
       "      <td>7800</td>\n",
       "      <td>1.225200</td>\n",
       "    </tr>\n",
       "    <tr>\n",
       "      <td>7850</td>\n",
       "      <td>1.219000</td>\n",
       "    </tr>\n",
       "    <tr>\n",
       "      <td>7900</td>\n",
       "      <td>1.219100</td>\n",
       "    </tr>\n",
       "    <tr>\n",
       "      <td>7950</td>\n",
       "      <td>1.286000</td>\n",
       "    </tr>\n",
       "    <tr>\n",
       "      <td>8000</td>\n",
       "      <td>1.212400</td>\n",
       "    </tr>\n",
       "    <tr>\n",
       "      <td>8050</td>\n",
       "      <td>1.272800</td>\n",
       "    </tr>\n",
       "    <tr>\n",
       "      <td>8100</td>\n",
       "      <td>1.279000</td>\n",
       "    </tr>\n",
       "    <tr>\n",
       "      <td>8150</td>\n",
       "      <td>1.345600</td>\n",
       "    </tr>\n",
       "    <tr>\n",
       "      <td>8200</td>\n",
       "      <td>1.263500</td>\n",
       "    </tr>\n",
       "    <tr>\n",
       "      <td>8250</td>\n",
       "      <td>1.256400</td>\n",
       "    </tr>\n",
       "    <tr>\n",
       "      <td>8300</td>\n",
       "      <td>1.255600</td>\n",
       "    </tr>\n",
       "    <tr>\n",
       "      <td>8350</td>\n",
       "      <td>1.196100</td>\n",
       "    </tr>\n",
       "    <tr>\n",
       "      <td>8400</td>\n",
       "      <td>1.282100</td>\n",
       "    </tr>\n",
       "    <tr>\n",
       "      <td>8450</td>\n",
       "      <td>1.273700</td>\n",
       "    </tr>\n",
       "    <tr>\n",
       "      <td>8500</td>\n",
       "      <td>1.257400</td>\n",
       "    </tr>\n",
       "    <tr>\n",
       "      <td>8550</td>\n",
       "      <td>1.265500</td>\n",
       "    </tr>\n",
       "    <tr>\n",
       "      <td>8600</td>\n",
       "      <td>1.248700</td>\n",
       "    </tr>\n",
       "    <tr>\n",
       "      <td>8650</td>\n",
       "      <td>1.300300</td>\n",
       "    </tr>\n",
       "    <tr>\n",
       "      <td>8700</td>\n",
       "      <td>1.268000</td>\n",
       "    </tr>\n",
       "    <tr>\n",
       "      <td>8750</td>\n",
       "      <td>1.209100</td>\n",
       "    </tr>\n",
       "    <tr>\n",
       "      <td>8800</td>\n",
       "      <td>1.242900</td>\n",
       "    </tr>\n",
       "    <tr>\n",
       "      <td>8850</td>\n",
       "      <td>1.262800</td>\n",
       "    </tr>\n",
       "    <tr>\n",
       "      <td>8900</td>\n",
       "      <td>1.306800</td>\n",
       "    </tr>\n",
       "    <tr>\n",
       "      <td>8950</td>\n",
       "      <td>1.288700</td>\n",
       "    </tr>\n",
       "    <tr>\n",
       "      <td>9000</td>\n",
       "      <td>1.244500</td>\n",
       "    </tr>\n",
       "    <tr>\n",
       "      <td>9050</td>\n",
       "      <td>1.285800</td>\n",
       "    </tr>\n",
       "    <tr>\n",
       "      <td>9100</td>\n",
       "      <td>1.275200</td>\n",
       "    </tr>\n",
       "    <tr>\n",
       "      <td>9150</td>\n",
       "      <td>1.256800</td>\n",
       "    </tr>\n",
       "    <tr>\n",
       "      <td>9200</td>\n",
       "      <td>1.241500</td>\n",
       "    </tr>\n",
       "    <tr>\n",
       "      <td>9250</td>\n",
       "      <td>1.245500</td>\n",
       "    </tr>\n",
       "    <tr>\n",
       "      <td>9300</td>\n",
       "      <td>1.250700</td>\n",
       "    </tr>\n",
       "    <tr>\n",
       "      <td>9350</td>\n",
       "      <td>1.271600</td>\n",
       "    </tr>\n",
       "    <tr>\n",
       "      <td>9400</td>\n",
       "      <td>1.259900</td>\n",
       "    </tr>\n",
       "    <tr>\n",
       "      <td>9450</td>\n",
       "      <td>1.207700</td>\n",
       "    </tr>\n",
       "    <tr>\n",
       "      <td>9500</td>\n",
       "      <td>1.245900</td>\n",
       "    </tr>\n",
       "    <tr>\n",
       "      <td>9550</td>\n",
       "      <td>1.295400</td>\n",
       "    </tr>\n",
       "    <tr>\n",
       "      <td>9600</td>\n",
       "      <td>1.232800</td>\n",
       "    </tr>\n",
       "    <tr>\n",
       "      <td>9650</td>\n",
       "      <td>1.247100</td>\n",
       "    </tr>\n",
       "    <tr>\n",
       "      <td>9700</td>\n",
       "      <td>1.278800</td>\n",
       "    </tr>\n",
       "    <tr>\n",
       "      <td>9750</td>\n",
       "      <td>1.257000</td>\n",
       "    </tr>\n",
       "    <tr>\n",
       "      <td>9800</td>\n",
       "      <td>1.274800</td>\n",
       "    </tr>\n",
       "    <tr>\n",
       "      <td>9850</td>\n",
       "      <td>1.303700</td>\n",
       "    </tr>\n",
       "    <tr>\n",
       "      <td>9900</td>\n",
       "      <td>1.273800</td>\n",
       "    </tr>\n",
       "    <tr>\n",
       "      <td>9950</td>\n",
       "      <td>1.282500</td>\n",
       "    </tr>\n",
       "    <tr>\n",
       "      <td>10000</td>\n",
       "      <td>1.226500</td>\n",
       "    </tr>\n",
       "    <tr>\n",
       "      <td>10050</td>\n",
       "      <td>1.210500</td>\n",
       "    </tr>\n",
       "    <tr>\n",
       "      <td>10100</td>\n",
       "      <td>1.231200</td>\n",
       "    </tr>\n",
       "    <tr>\n",
       "      <td>10150</td>\n",
       "      <td>1.246800</td>\n",
       "    </tr>\n",
       "    <tr>\n",
       "      <td>10200</td>\n",
       "      <td>1.255200</td>\n",
       "    </tr>\n",
       "    <tr>\n",
       "      <td>10250</td>\n",
       "      <td>1.238100</td>\n",
       "    </tr>\n",
       "    <tr>\n",
       "      <td>10300</td>\n",
       "      <td>1.258500</td>\n",
       "    </tr>\n",
       "    <tr>\n",
       "      <td>10350</td>\n",
       "      <td>1.239500</td>\n",
       "    </tr>\n",
       "    <tr>\n",
       "      <td>10400</td>\n",
       "      <td>1.232800</td>\n",
       "    </tr>\n",
       "    <tr>\n",
       "      <td>10450</td>\n",
       "      <td>1.246900</td>\n",
       "    </tr>\n",
       "    <tr>\n",
       "      <td>10500</td>\n",
       "      <td>1.223600</td>\n",
       "    </tr>\n",
       "    <tr>\n",
       "      <td>10550</td>\n",
       "      <td>1.213700</td>\n",
       "    </tr>\n",
       "    <tr>\n",
       "      <td>10600</td>\n",
       "      <td>1.224000</td>\n",
       "    </tr>\n",
       "    <tr>\n",
       "      <td>10650</td>\n",
       "      <td>1.219500</td>\n",
       "    </tr>\n",
       "    <tr>\n",
       "      <td>10700</td>\n",
       "      <td>1.228700</td>\n",
       "    </tr>\n",
       "    <tr>\n",
       "      <td>10750</td>\n",
       "      <td>1.197200</td>\n",
       "    </tr>\n",
       "    <tr>\n",
       "      <td>10800</td>\n",
       "      <td>1.248400</td>\n",
       "    </tr>\n",
       "    <tr>\n",
       "      <td>10850</td>\n",
       "      <td>1.188200</td>\n",
       "    </tr>\n",
       "    <tr>\n",
       "      <td>10900</td>\n",
       "      <td>1.266100</td>\n",
       "    </tr>\n",
       "    <tr>\n",
       "      <td>10950</td>\n",
       "      <td>1.256800</td>\n",
       "    </tr>\n",
       "    <tr>\n",
       "      <td>11000</td>\n",
       "      <td>1.218000</td>\n",
       "    </tr>\n",
       "    <tr>\n",
       "      <td>11050</td>\n",
       "      <td>1.225400</td>\n",
       "    </tr>\n",
       "    <tr>\n",
       "      <td>11100</td>\n",
       "      <td>1.225500</td>\n",
       "    </tr>\n",
       "    <tr>\n",
       "      <td>11150</td>\n",
       "      <td>1.266800</td>\n",
       "    </tr>\n",
       "    <tr>\n",
       "      <td>11200</td>\n",
       "      <td>1.227600</td>\n",
       "    </tr>\n",
       "    <tr>\n",
       "      <td>11250</td>\n",
       "      <td>1.194400</td>\n",
       "    </tr>\n",
       "    <tr>\n",
       "      <td>11300</td>\n",
       "      <td>1.219500</td>\n",
       "    </tr>\n",
       "    <tr>\n",
       "      <td>11350</td>\n",
       "      <td>1.216500</td>\n",
       "    </tr>\n",
       "    <tr>\n",
       "      <td>11400</td>\n",
       "      <td>1.202500</td>\n",
       "    </tr>\n",
       "    <tr>\n",
       "      <td>11450</td>\n",
       "      <td>1.200900</td>\n",
       "    </tr>\n",
       "    <tr>\n",
       "      <td>11500</td>\n",
       "      <td>1.176400</td>\n",
       "    </tr>\n",
       "    <tr>\n",
       "      <td>11550</td>\n",
       "      <td>1.228300</td>\n",
       "    </tr>\n",
       "    <tr>\n",
       "      <td>11600</td>\n",
       "      <td>1.232400</td>\n",
       "    </tr>\n",
       "    <tr>\n",
       "      <td>11650</td>\n",
       "      <td>1.234700</td>\n",
       "    </tr>\n",
       "    <tr>\n",
       "      <td>11700</td>\n",
       "      <td>1.186300</td>\n",
       "    </tr>\n",
       "    <tr>\n",
       "      <td>11750</td>\n",
       "      <td>1.219100</td>\n",
       "    </tr>\n",
       "    <tr>\n",
       "      <td>11800</td>\n",
       "      <td>1.177300</td>\n",
       "    </tr>\n",
       "    <tr>\n",
       "      <td>11850</td>\n",
       "      <td>1.219600</td>\n",
       "    </tr>\n",
       "    <tr>\n",
       "      <td>11900</td>\n",
       "      <td>1.214900</td>\n",
       "    </tr>\n",
       "    <tr>\n",
       "      <td>11950</td>\n",
       "      <td>1.202300</td>\n",
       "    </tr>\n",
       "    <tr>\n",
       "      <td>12000</td>\n",
       "      <td>1.211600</td>\n",
       "    </tr>\n",
       "    <tr>\n",
       "      <td>12050</td>\n",
       "      <td>1.189200</td>\n",
       "    </tr>\n",
       "    <tr>\n",
       "      <td>12100</td>\n",
       "      <td>1.207200</td>\n",
       "    </tr>\n",
       "    <tr>\n",
       "      <td>12150</td>\n",
       "      <td>1.190200</td>\n",
       "    </tr>\n",
       "    <tr>\n",
       "      <td>12200</td>\n",
       "      <td>1.224900</td>\n",
       "    </tr>\n",
       "    <tr>\n",
       "      <td>12250</td>\n",
       "      <td>1.238600</td>\n",
       "    </tr>\n",
       "    <tr>\n",
       "      <td>12300</td>\n",
       "      <td>1.170000</td>\n",
       "    </tr>\n",
       "    <tr>\n",
       "      <td>12350</td>\n",
       "      <td>1.211900</td>\n",
       "    </tr>\n",
       "    <tr>\n",
       "      <td>12400</td>\n",
       "      <td>1.221500</td>\n",
       "    </tr>\n",
       "    <tr>\n",
       "      <td>12450</td>\n",
       "      <td>1.217800</td>\n",
       "    </tr>\n",
       "    <tr>\n",
       "      <td>12500</td>\n",
       "      <td>1.209900</td>\n",
       "    </tr>\n",
       "    <tr>\n",
       "      <td>12550</td>\n",
       "      <td>1.207300</td>\n",
       "    </tr>\n",
       "    <tr>\n",
       "      <td>12600</td>\n",
       "      <td>1.255000</td>\n",
       "    </tr>\n",
       "    <tr>\n",
       "      <td>12650</td>\n",
       "      <td>1.280700</td>\n",
       "    </tr>\n",
       "    <tr>\n",
       "      <td>12700</td>\n",
       "      <td>1.216400</td>\n",
       "    </tr>\n",
       "    <tr>\n",
       "      <td>12750</td>\n",
       "      <td>1.209100</td>\n",
       "    </tr>\n",
       "    <tr>\n",
       "      <td>12800</td>\n",
       "      <td>1.223100</td>\n",
       "    </tr>\n",
       "    <tr>\n",
       "      <td>12850</td>\n",
       "      <td>1.213500</td>\n",
       "    </tr>\n",
       "    <tr>\n",
       "      <td>12900</td>\n",
       "      <td>1.259600</td>\n",
       "    </tr>\n",
       "    <tr>\n",
       "      <td>12950</td>\n",
       "      <td>1.190300</td>\n",
       "    </tr>\n",
       "    <tr>\n",
       "      <td>13000</td>\n",
       "      <td>1.238300</td>\n",
       "    </tr>\n",
       "    <tr>\n",
       "      <td>13050</td>\n",
       "      <td>1.218400</td>\n",
       "    </tr>\n",
       "    <tr>\n",
       "      <td>13100</td>\n",
       "      <td>1.194400</td>\n",
       "    </tr>\n",
       "    <tr>\n",
       "      <td>13150</td>\n",
       "      <td>1.194700</td>\n",
       "    </tr>\n",
       "    <tr>\n",
       "      <td>13200</td>\n",
       "      <td>1.227600</td>\n",
       "    </tr>\n",
       "    <tr>\n",
       "      <td>13250</td>\n",
       "      <td>1.160800</td>\n",
       "    </tr>\n",
       "    <tr>\n",
       "      <td>13300</td>\n",
       "      <td>1.228900</td>\n",
       "    </tr>\n",
       "    <tr>\n",
       "      <td>13350</td>\n",
       "      <td>1.166700</td>\n",
       "    </tr>\n",
       "    <tr>\n",
       "      <td>13400</td>\n",
       "      <td>1.197900</td>\n",
       "    </tr>\n",
       "    <tr>\n",
       "      <td>13450</td>\n",
       "      <td>1.177600</td>\n",
       "    </tr>\n",
       "    <tr>\n",
       "      <td>13500</td>\n",
       "      <td>1.188000</td>\n",
       "    </tr>\n",
       "    <tr>\n",
       "      <td>13550</td>\n",
       "      <td>1.207800</td>\n",
       "    </tr>\n",
       "    <tr>\n",
       "      <td>13600</td>\n",
       "      <td>1.166000</td>\n",
       "    </tr>\n",
       "    <tr>\n",
       "      <td>13650</td>\n",
       "      <td>1.158100</td>\n",
       "    </tr>\n",
       "    <tr>\n",
       "      <td>13700</td>\n",
       "      <td>1.158500</td>\n",
       "    </tr>\n",
       "    <tr>\n",
       "      <td>13750</td>\n",
       "      <td>1.204100</td>\n",
       "    </tr>\n",
       "    <tr>\n",
       "      <td>13800</td>\n",
       "      <td>1.176000</td>\n",
       "    </tr>\n",
       "    <tr>\n",
       "      <td>13850</td>\n",
       "      <td>1.208900</td>\n",
       "    </tr>\n",
       "    <tr>\n",
       "      <td>13900</td>\n",
       "      <td>1.218100</td>\n",
       "    </tr>\n",
       "    <tr>\n",
       "      <td>13950</td>\n",
       "      <td>1.162900</td>\n",
       "    </tr>\n",
       "    <tr>\n",
       "      <td>14000</td>\n",
       "      <td>1.142600</td>\n",
       "    </tr>\n",
       "    <tr>\n",
       "      <td>14050</td>\n",
       "      <td>1.197300</td>\n",
       "    </tr>\n",
       "    <tr>\n",
       "      <td>14100</td>\n",
       "      <td>1.200100</td>\n",
       "    </tr>\n",
       "    <tr>\n",
       "      <td>14150</td>\n",
       "      <td>1.216700</td>\n",
       "    </tr>\n",
       "    <tr>\n",
       "      <td>14200</td>\n",
       "      <td>1.136300</td>\n",
       "    </tr>\n",
       "    <tr>\n",
       "      <td>14250</td>\n",
       "      <td>1.161300</td>\n",
       "    </tr>\n",
       "    <tr>\n",
       "      <td>14300</td>\n",
       "      <td>1.194700</td>\n",
       "    </tr>\n",
       "    <tr>\n",
       "      <td>14350</td>\n",
       "      <td>1.183600</td>\n",
       "    </tr>\n",
       "    <tr>\n",
       "      <td>14400</td>\n",
       "      <td>1.194900</td>\n",
       "    </tr>\n",
       "    <tr>\n",
       "      <td>14450</td>\n",
       "      <td>1.188000</td>\n",
       "    </tr>\n",
       "    <tr>\n",
       "      <td>14500</td>\n",
       "      <td>1.161900</td>\n",
       "    </tr>\n",
       "    <tr>\n",
       "      <td>14550</td>\n",
       "      <td>1.205400</td>\n",
       "    </tr>\n",
       "    <tr>\n",
       "      <td>14600</td>\n",
       "      <td>1.160200</td>\n",
       "    </tr>\n",
       "    <tr>\n",
       "      <td>14650</td>\n",
       "      <td>1.189300</td>\n",
       "    </tr>\n",
       "    <tr>\n",
       "      <td>14700</td>\n",
       "      <td>1.198600</td>\n",
       "    </tr>\n",
       "    <tr>\n",
       "      <td>14750</td>\n",
       "      <td>1.189500</td>\n",
       "    </tr>\n",
       "    <tr>\n",
       "      <td>14800</td>\n",
       "      <td>1.195300</td>\n",
       "    </tr>\n",
       "    <tr>\n",
       "      <td>14850</td>\n",
       "      <td>1.206100</td>\n",
       "    </tr>\n",
       "    <tr>\n",
       "      <td>14900</td>\n",
       "      <td>1.180200</td>\n",
       "    </tr>\n",
       "    <tr>\n",
       "      <td>14950</td>\n",
       "      <td>1.219200</td>\n",
       "    </tr>\n",
       "    <tr>\n",
       "      <td>15000</td>\n",
       "      <td>1.198500</td>\n",
       "    </tr>\n",
       "    <tr>\n",
       "      <td>15050</td>\n",
       "      <td>1.181800</td>\n",
       "    </tr>\n",
       "    <tr>\n",
       "      <td>15100</td>\n",
       "      <td>1.169400</td>\n",
       "    </tr>\n",
       "    <tr>\n",
       "      <td>15150</td>\n",
       "      <td>1.207800</td>\n",
       "    </tr>\n",
       "    <tr>\n",
       "      <td>15200</td>\n",
       "      <td>1.176100</td>\n",
       "    </tr>\n",
       "    <tr>\n",
       "      <td>15250</td>\n",
       "      <td>1.208200</td>\n",
       "    </tr>\n",
       "    <tr>\n",
       "      <td>15300</td>\n",
       "      <td>1.241100</td>\n",
       "    </tr>\n",
       "    <tr>\n",
       "      <td>15350</td>\n",
       "      <td>1.195800</td>\n",
       "    </tr>\n",
       "    <tr>\n",
       "      <td>15400</td>\n",
       "      <td>1.163700</td>\n",
       "    </tr>\n",
       "  </tbody>\n",
       "</table><p>"
      ],
      "text/plain": [
       "<IPython.core.display.HTML object>"
      ]
     },
     "metadata": {},
     "output_type": "display_data"
    },
    {
     "data": {
      "text/html": [
       "\n",
       "    <div>\n",
       "      \n",
       "      <progress value='238' max='238' style='width:300px; height:20px; vertical-align: middle;'></progress>\n",
       "      [238/238 00:42]\n",
       "    </div>\n",
       "    "
      ],
      "text/plain": [
       "<IPython.core.display.HTML object>"
      ]
     },
     "metadata": {},
     "output_type": "display_data"
    },
    {
     "name": "stdout",
     "output_type": "stream",
     "text": [
      "📊 Epoch 1 | Val Macro-F1=0.5829 | Acc=0.6090\n",
      "                neutral: 0.4305\n",
      "               positive: 0.7798\n",
      "     extremely negative: 0.4757\n",
      "               negative: 0.7621\n",
      "     extremely positive: 0.4664\n",
      "   ✅ New best\n",
      "\n",
      "▶️ Epoch 2/6\n"
     ]
    },
    {
     "data": {
      "text/html": [
       "\n",
       "    <div>\n",
       "      \n",
       "      <progress value='476' max='238' style='width:300px; height:20px; vertical-align: middle;'></progress>\n",
       "      [238/238 1:14:49]\n",
       "    </div>\n",
       "    "
      ],
      "text/plain": [
       "<IPython.core.display.HTML object>"
      ]
     },
     "metadata": {},
     "output_type": "display_data"
    },
    {
     "name": "stdout",
     "output_type": "stream",
     "text": [
      "📊 Epoch 2 | Val Macro-F1=0.5142 | Acc=0.5800\n",
      "                neutral: 0.3132\n",
      "               positive: 0.7917\n",
      "     extremely negative: 0.4521\n",
      "               negative: 0.7797\n",
      "     extremely positive: 0.2343\n",
      "   ⚠️ No improvement, patience=1\n",
      "\n",
      "▶️ Epoch 3/6\n"
     ]
    },
    {
     "data": {
      "text/html": [
       "\n",
       "    <div>\n",
       "      \n",
       "      <progress value='1374' max='15438' style='width:300px; height:20px; vertical-align: middle;'></progress>\n",
       "      [ 1374/15438 06:29 < 1:06:34, 3.52 it/s, Epoch 0.53/6]\n",
       "    </div>\n",
       "    <table border=\"1\" class=\"dataframe\">\n",
       "  <thead>\n",
       " <tr style=\"text-align: left;\">\n",
       "      <th>Step</th>\n",
       "      <th>Training Loss</th>\n",
       "    </tr>\n",
       "  </thead>\n",
       "  <tbody>\n",
       "    <tr>\n",
       "      <td>50</td>\n",
       "      <td>1.129300</td>\n",
       "    </tr>\n",
       "    <tr>\n",
       "      <td>100</td>\n",
       "      <td>1.109100</td>\n",
       "    </tr>\n",
       "    <tr>\n",
       "      <td>150</td>\n",
       "      <td>1.158400</td>\n",
       "    </tr>\n",
       "    <tr>\n",
       "      <td>200</td>\n",
       "      <td>1.118900</td>\n",
       "    </tr>\n",
       "    <tr>\n",
       "      <td>250</td>\n",
       "      <td>1.128000</td>\n",
       "    </tr>\n",
       "    <tr>\n",
       "      <td>300</td>\n",
       "      <td>1.147100</td>\n",
       "    </tr>\n",
       "    <tr>\n",
       "      <td>350</td>\n",
       "      <td>1.166000</td>\n",
       "    </tr>\n",
       "    <tr>\n",
       "      <td>400</td>\n",
       "      <td>1.169900</td>\n",
       "    </tr>\n",
       "    <tr>\n",
       "      <td>450</td>\n",
       "      <td>1.132400</td>\n",
       "    </tr>\n",
       "    <tr>\n",
       "      <td>500</td>\n",
       "      <td>1.154000</td>\n",
       "    </tr>\n",
       "    <tr>\n",
       "      <td>550</td>\n",
       "      <td>1.177100</td>\n",
       "    </tr>\n",
       "    <tr>\n",
       "      <td>600</td>\n",
       "      <td>1.181300</td>\n",
       "    </tr>\n",
       "    <tr>\n",
       "      <td>650</td>\n",
       "      <td>1.174000</td>\n",
       "    </tr>\n",
       "    <tr>\n",
       "      <td>700</td>\n",
       "      <td>1.139500</td>\n",
       "    </tr>\n",
       "    <tr>\n",
       "      <td>750</td>\n",
       "      <td>1.153100</td>\n",
       "    </tr>\n",
       "    <tr>\n",
       "      <td>800</td>\n",
       "      <td>1.141500</td>\n",
       "    </tr>\n",
       "    <tr>\n",
       "      <td>850</td>\n",
       "      <td>1.164600</td>\n",
       "    </tr>\n",
       "    <tr>\n",
       "      <td>900</td>\n",
       "      <td>1.177300</td>\n",
       "    </tr>\n",
       "    <tr>\n",
       "      <td>950</td>\n",
       "      <td>1.138100</td>\n",
       "    </tr>\n",
       "    <tr>\n",
       "      <td>1000</td>\n",
       "      <td>1.216600</td>\n",
       "    </tr>\n",
       "    <tr>\n",
       "      <td>1050</td>\n",
       "      <td>1.177700</td>\n",
       "    </tr>\n",
       "    <tr>\n",
       "      <td>1100</td>\n",
       "      <td>1.188300</td>\n",
       "    </tr>\n",
       "    <tr>\n",
       "      <td>1150</td>\n",
       "      <td>1.150700</td>\n",
       "    </tr>\n",
       "    <tr>\n",
       "      <td>1200</td>\n",
       "      <td>1.190100</td>\n",
       "    </tr>\n",
       "    <tr>\n",
       "      <td>1250</td>\n",
       "      <td>1.147000</td>\n",
       "    </tr>\n",
       "    <tr>\n",
       "      <td>1300</td>\n",
       "      <td>1.169400</td>\n",
       "    </tr>\n",
       "    <tr>\n",
       "      <td>1350</td>\n",
       "      <td>1.202200</td>\n",
       "    </tr>\n",
       "  </tbody>\n",
       "</table><p>"
      ],
      "text/plain": [
       "<IPython.core.display.HTML object>"
      ]
     },
     "metadata": {},
     "output_type": "display_data"
    },
    {
     "name": "stderr",
     "output_type": "stream",
     "text": [
      "[W 2025-08-20 16:54:32,742] Trial 0 failed with parameters: {'alpha': 0.6099727840383753, 'T': 2.613912188108926, 'lr': 4.578115966821428e-05} because of the following error: KeyboardInterrupt().\n",
      "Traceback (most recent call last):\n",
      "  File \"C:\\Users\\adishalit1\\AppData\\Local\\anaconda3\\envs\\dl4090\\Lib\\site-packages\\optuna\\study\\_optimize.py\", line 201, in _run_trial\n",
      "    value_or_values = func(trial)\n",
      "                      ^^^^^^^^^^^\n",
      "  File \"C:\\Users\\adishalit1\\AppData\\Local\\Temp\\ipykernel_9192\\2212018194.py\", line 195, in objective\n",
      "    trainer.train(resume_from_checkpoint=None)\n",
      "  File \"C:\\Users\\adishalit1\\AppData\\Local\\anaconda3\\envs\\dl4090\\Lib\\site-packages\\transformers\\trainer.py\", line 2238, in train\n",
      "    return inner_training_loop(\n",
      "           ^^^^^^^^^^^^^^^^^^^^\n",
      "  File \"C:\\Users\\adishalit1\\AppData\\Local\\anaconda3\\envs\\dl4090\\Lib\\site-packages\\transformers\\trainer.py\", line 2582, in _inner_training_loop\n",
      "    tr_loss_step = self.training_step(model, inputs, num_items_in_batch)\n",
      "                   ^^^^^^^^^^^^^^^^^^^^^^^^^^^^^^^^^^^^^^^^^^^^^^^^^^^^^\n",
      "  File \"C:\\Users\\adishalit1\\AppData\\Local\\anaconda3\\envs\\dl4090\\Lib\\site-packages\\transformers\\trainer.py\", line 3845, in training_step\n",
      "    self.accelerator.backward(loss, **kwargs)\n",
      "  File \"C:\\Users\\adishalit1\\AppData\\Local\\anaconda3\\envs\\dl4090\\Lib\\site-packages\\accelerate\\accelerator.py\", line 2734, in backward\n",
      "    loss.backward(**kwargs)\n",
      "  File \"C:\\Users\\adishalit1\\AppData\\Local\\anaconda3\\envs\\dl4090\\Lib\\site-packages\\torch\\_tensor.py\", line 626, in backward\n",
      "    torch.autograd.backward(\n",
      "  File \"C:\\Users\\adishalit1\\AppData\\Local\\anaconda3\\envs\\dl4090\\Lib\\site-packages\\torch\\autograd\\__init__.py\", line 347, in backward\n",
      "    _engine_run_backward(\n",
      "  File \"C:\\Users\\adishalit1\\AppData\\Local\\anaconda3\\envs\\dl4090\\Lib\\site-packages\\torch\\autograd\\graph.py\", line 823, in _engine_run_backward\n",
      "    return Variable._execution_engine.run_backward(  # Calls into the C++ engine to run the backward pass\n",
      "           ^^^^^^^^^^^^^^^^^^^^^^^^^^^^^^^^^^^^^^^^^^^^^^^^^^^^^^^^^^^^^^^^^^^^^^^^^^^^^^^^^^^^^^^^^^^^^^\n",
      "KeyboardInterrupt\n",
      "[W 2025-08-20 16:54:32,751] Trial 0 failed with value None.\n"
     ]
    },
    {
     "ename": "KeyboardInterrupt",
     "evalue": "",
     "output_type": "error",
     "traceback": [
      "\u001b[31m---------------------------------------------------------------------------\u001b[39m",
      "\u001b[31mKeyboardInterrupt\u001b[39m                         Traceback (most recent call last)",
      "\u001b[36mCell\u001b[39m\u001b[36m \u001b[39m\u001b[32mIn[1]\u001b[39m\u001b[32m, line 303\u001b[39m\n\u001b[32m    243\u001b[39m \u001b[38;5;66;03m# # -------------------------\u001b[39;00m\n\u001b[32m    244\u001b[39m \u001b[38;5;66;03m# # Optuna objective\u001b[39;00m\n\u001b[32m    245\u001b[39m \u001b[38;5;66;03m# # -------------------------\u001b[39;00m\n\u001b[32m   (...)\u001b[39m\u001b[32m    300\u001b[39m \u001b[38;5;66;03m# Run Optuna\u001b[39;00m\n\u001b[32m    301\u001b[39m \u001b[38;5;66;03m# -------------------------\u001b[39;00m\n\u001b[32m    302\u001b[39m study = optuna.create_study(direction=\u001b[33m\"\u001b[39m\u001b[33mmaximize\u001b[39m\u001b[33m\"\u001b[39m)\n\u001b[32m--> \u001b[39m\u001b[32m303\u001b[39m \u001b[43mstudy\u001b[49m\u001b[43m.\u001b[49m\u001b[43moptimize\u001b[49m\u001b[43m(\u001b[49m\u001b[43mobjective\u001b[49m\u001b[43m,\u001b[49m\u001b[43m \u001b[49m\u001b[43mn_trials\u001b[49m\u001b[43m=\u001b[49m\u001b[32;43m10\u001b[39;49m\u001b[43m)\u001b[49m\n\u001b[32m    305\u001b[39m \u001b[38;5;28mprint\u001b[39m(\u001b[33m\"\u001b[39m\u001b[33mBest trial:\u001b[39m\u001b[33m\"\u001b[39m, study.best_trial.number)\n\u001b[32m    306\u001b[39m \u001b[38;5;28mprint\u001b[39m(\u001b[33m\"\u001b[39m\u001b[33m  Value:\u001b[39m\u001b[33m\"\u001b[39m, study.best_value)\n",
      "\u001b[36mFile \u001b[39m\u001b[32m~\\AppData\\Local\\anaconda3\\envs\\dl4090\\Lib\\site-packages\\optuna\\study\\study.py:489\u001b[39m, in \u001b[36mStudy.optimize\u001b[39m\u001b[34m(self, func, n_trials, timeout, n_jobs, catch, callbacks, gc_after_trial, show_progress_bar)\u001b[39m\n\u001b[32m    387\u001b[39m \u001b[38;5;28;01mdef\u001b[39;00m\u001b[38;5;250m \u001b[39m\u001b[34moptimize\u001b[39m(\n\u001b[32m    388\u001b[39m     \u001b[38;5;28mself\u001b[39m,\n\u001b[32m    389\u001b[39m     func: ObjectiveFuncType,\n\u001b[32m   (...)\u001b[39m\u001b[32m    396\u001b[39m     show_progress_bar: \u001b[38;5;28mbool\u001b[39m = \u001b[38;5;28;01mFalse\u001b[39;00m,\n\u001b[32m    397\u001b[39m ) -> \u001b[38;5;28;01mNone\u001b[39;00m:\n\u001b[32m    398\u001b[39m \u001b[38;5;250m    \u001b[39m\u001b[33;03m\"\"\"Optimize an objective function.\u001b[39;00m\n\u001b[32m    399\u001b[39m \n\u001b[32m    400\u001b[39m \u001b[33;03m    Optimization is done by choosing a suitable set of hyperparameter values from a given\u001b[39;00m\n\u001b[32m   (...)\u001b[39m\u001b[32m    487\u001b[39m \u001b[33;03m            If nested invocation of this method occurs.\u001b[39;00m\n\u001b[32m    488\u001b[39m \u001b[33;03m    \"\"\"\u001b[39;00m\n\u001b[32m--> \u001b[39m\u001b[32m489\u001b[39m     \u001b[43m_optimize\u001b[49m\u001b[43m(\u001b[49m\n\u001b[32m    490\u001b[39m \u001b[43m        \u001b[49m\u001b[43mstudy\u001b[49m\u001b[43m=\u001b[49m\u001b[38;5;28;43mself\u001b[39;49m\u001b[43m,\u001b[49m\n\u001b[32m    491\u001b[39m \u001b[43m        \u001b[49m\u001b[43mfunc\u001b[49m\u001b[43m=\u001b[49m\u001b[43mfunc\u001b[49m\u001b[43m,\u001b[49m\n\u001b[32m    492\u001b[39m \u001b[43m        \u001b[49m\u001b[43mn_trials\u001b[49m\u001b[43m=\u001b[49m\u001b[43mn_trials\u001b[49m\u001b[43m,\u001b[49m\n\u001b[32m    493\u001b[39m \u001b[43m        \u001b[49m\u001b[43mtimeout\u001b[49m\u001b[43m=\u001b[49m\u001b[43mtimeout\u001b[49m\u001b[43m,\u001b[49m\n\u001b[32m    494\u001b[39m \u001b[43m        \u001b[49m\u001b[43mn_jobs\u001b[49m\u001b[43m=\u001b[49m\u001b[43mn_jobs\u001b[49m\u001b[43m,\u001b[49m\n\u001b[32m    495\u001b[39m \u001b[43m        \u001b[49m\u001b[43mcatch\u001b[49m\u001b[43m=\u001b[49m\u001b[38;5;28;43mtuple\u001b[39;49m\u001b[43m(\u001b[49m\u001b[43mcatch\u001b[49m\u001b[43m)\u001b[49m\u001b[43m \u001b[49m\u001b[38;5;28;43;01mif\u001b[39;49;00m\u001b[43m \u001b[49m\u001b[38;5;28;43misinstance\u001b[39;49m\u001b[43m(\u001b[49m\u001b[43mcatch\u001b[49m\u001b[43m,\u001b[49m\u001b[43m \u001b[49m\u001b[43mIterable\u001b[49m\u001b[43m)\u001b[49m\u001b[43m \u001b[49m\u001b[38;5;28;43;01melse\u001b[39;49;00m\u001b[43m \u001b[49m\u001b[43m(\u001b[49m\u001b[43mcatch\u001b[49m\u001b[43m,\u001b[49m\u001b[43m)\u001b[49m\u001b[43m,\u001b[49m\n\u001b[32m    496\u001b[39m \u001b[43m        \u001b[49m\u001b[43mcallbacks\u001b[49m\u001b[43m=\u001b[49m\u001b[43mcallbacks\u001b[49m\u001b[43m,\u001b[49m\n\u001b[32m    497\u001b[39m \u001b[43m        \u001b[49m\u001b[43mgc_after_trial\u001b[49m\u001b[43m=\u001b[49m\u001b[43mgc_after_trial\u001b[49m\u001b[43m,\u001b[49m\n\u001b[32m    498\u001b[39m \u001b[43m        \u001b[49m\u001b[43mshow_progress_bar\u001b[49m\u001b[43m=\u001b[49m\u001b[43mshow_progress_bar\u001b[49m\u001b[43m,\u001b[49m\n\u001b[32m    499\u001b[39m \u001b[43m    \u001b[49m\u001b[43m)\u001b[49m\n",
      "\u001b[36mFile \u001b[39m\u001b[32m~\\AppData\\Local\\anaconda3\\envs\\dl4090\\Lib\\site-packages\\optuna\\study\\_optimize.py:64\u001b[39m, in \u001b[36m_optimize\u001b[39m\u001b[34m(study, func, n_trials, timeout, n_jobs, catch, callbacks, gc_after_trial, show_progress_bar)\u001b[39m\n\u001b[32m     62\u001b[39m \u001b[38;5;28;01mtry\u001b[39;00m:\n\u001b[32m     63\u001b[39m     \u001b[38;5;28;01mif\u001b[39;00m n_jobs == \u001b[32m1\u001b[39m:\n\u001b[32m---> \u001b[39m\u001b[32m64\u001b[39m         \u001b[43m_optimize_sequential\u001b[49m\u001b[43m(\u001b[49m\n\u001b[32m     65\u001b[39m \u001b[43m            \u001b[49m\u001b[43mstudy\u001b[49m\u001b[43m,\u001b[49m\n\u001b[32m     66\u001b[39m \u001b[43m            \u001b[49m\u001b[43mfunc\u001b[49m\u001b[43m,\u001b[49m\n\u001b[32m     67\u001b[39m \u001b[43m            \u001b[49m\u001b[43mn_trials\u001b[49m\u001b[43m,\u001b[49m\n\u001b[32m     68\u001b[39m \u001b[43m            \u001b[49m\u001b[43mtimeout\u001b[49m\u001b[43m,\u001b[49m\n\u001b[32m     69\u001b[39m \u001b[43m            \u001b[49m\u001b[43mcatch\u001b[49m\u001b[43m,\u001b[49m\n\u001b[32m     70\u001b[39m \u001b[43m            \u001b[49m\u001b[43mcallbacks\u001b[49m\u001b[43m,\u001b[49m\n\u001b[32m     71\u001b[39m \u001b[43m            \u001b[49m\u001b[43mgc_after_trial\u001b[49m\u001b[43m,\u001b[49m\n\u001b[32m     72\u001b[39m \u001b[43m            \u001b[49m\u001b[43mreseed_sampler_rng\u001b[49m\u001b[43m=\u001b[49m\u001b[38;5;28;43;01mFalse\u001b[39;49;00m\u001b[43m,\u001b[49m\n\u001b[32m     73\u001b[39m \u001b[43m            \u001b[49m\u001b[43mtime_start\u001b[49m\u001b[43m=\u001b[49m\u001b[38;5;28;43;01mNone\u001b[39;49;00m\u001b[43m,\u001b[49m\n\u001b[32m     74\u001b[39m \u001b[43m            \u001b[49m\u001b[43mprogress_bar\u001b[49m\u001b[43m=\u001b[49m\u001b[43mprogress_bar\u001b[49m\u001b[43m,\u001b[49m\n\u001b[32m     75\u001b[39m \u001b[43m        \u001b[49m\u001b[43m)\u001b[49m\n\u001b[32m     76\u001b[39m     \u001b[38;5;28;01melse\u001b[39;00m:\n\u001b[32m     77\u001b[39m         \u001b[38;5;28;01mif\u001b[39;00m n_jobs == -\u001b[32m1\u001b[39m:\n",
      "\u001b[36mFile \u001b[39m\u001b[32m~\\AppData\\Local\\anaconda3\\envs\\dl4090\\Lib\\site-packages\\optuna\\study\\_optimize.py:161\u001b[39m, in \u001b[36m_optimize_sequential\u001b[39m\u001b[34m(study, func, n_trials, timeout, catch, callbacks, gc_after_trial, reseed_sampler_rng, time_start, progress_bar)\u001b[39m\n\u001b[32m    158\u001b[39m         \u001b[38;5;28;01mbreak\u001b[39;00m\n\u001b[32m    160\u001b[39m \u001b[38;5;28;01mtry\u001b[39;00m:\n\u001b[32m--> \u001b[39m\u001b[32m161\u001b[39m     frozen_trial = \u001b[43m_run_trial\u001b[49m\u001b[43m(\u001b[49m\u001b[43mstudy\u001b[49m\u001b[43m,\u001b[49m\u001b[43m \u001b[49m\u001b[43mfunc\u001b[49m\u001b[43m,\u001b[49m\u001b[43m \u001b[49m\u001b[43mcatch\u001b[49m\u001b[43m)\u001b[49m\n\u001b[32m    162\u001b[39m \u001b[38;5;28;01mfinally\u001b[39;00m:\n\u001b[32m    163\u001b[39m     \u001b[38;5;66;03m# The following line mitigates memory problems that can be occurred in some\u001b[39;00m\n\u001b[32m    164\u001b[39m     \u001b[38;5;66;03m# environments (e.g., services that use computing containers such as GitHub Actions).\u001b[39;00m\n\u001b[32m    165\u001b[39m     \u001b[38;5;66;03m# Please refer to the following PR for further details:\u001b[39;00m\n\u001b[32m    166\u001b[39m     \u001b[38;5;66;03m# https://github.com/optuna/optuna/pull/325.\u001b[39;00m\n\u001b[32m    167\u001b[39m     \u001b[38;5;28;01mif\u001b[39;00m gc_after_trial:\n",
      "\u001b[36mFile \u001b[39m\u001b[32m~\\AppData\\Local\\anaconda3\\envs\\dl4090\\Lib\\site-packages\\optuna\\study\\_optimize.py:253\u001b[39m, in \u001b[36m_run_trial\u001b[39m\u001b[34m(study, func, catch)\u001b[39m\n\u001b[32m    246\u001b[39m         \u001b[38;5;28;01massert\u001b[39;00m \u001b[38;5;28;01mFalse\u001b[39;00m, \u001b[33m\"\u001b[39m\u001b[33mShould not reach.\u001b[39m\u001b[33m\"\u001b[39m\n\u001b[32m    248\u001b[39m \u001b[38;5;28;01mif\u001b[39;00m (\n\u001b[32m    249\u001b[39m     frozen_trial.state == TrialState.FAIL\n\u001b[32m    250\u001b[39m     \u001b[38;5;129;01mand\u001b[39;00m func_err \u001b[38;5;129;01mis\u001b[39;00m \u001b[38;5;129;01mnot\u001b[39;00m \u001b[38;5;28;01mNone\u001b[39;00m\n\u001b[32m    251\u001b[39m     \u001b[38;5;129;01mand\u001b[39;00m \u001b[38;5;129;01mnot\u001b[39;00m \u001b[38;5;28misinstance\u001b[39m(func_err, catch)\n\u001b[32m    252\u001b[39m ):\n\u001b[32m--> \u001b[39m\u001b[32m253\u001b[39m     \u001b[38;5;28;01mraise\u001b[39;00m func_err\n\u001b[32m    254\u001b[39m \u001b[38;5;28;01mreturn\u001b[39;00m frozen_trial\n",
      "\u001b[36mFile \u001b[39m\u001b[32m~\\AppData\\Local\\anaconda3\\envs\\dl4090\\Lib\\site-packages\\optuna\\study\\_optimize.py:201\u001b[39m, in \u001b[36m_run_trial\u001b[39m\u001b[34m(study, func, catch)\u001b[39m\n\u001b[32m    199\u001b[39m \u001b[38;5;28;01mwith\u001b[39;00m get_heartbeat_thread(trial._trial_id, study._storage):\n\u001b[32m    200\u001b[39m     \u001b[38;5;28;01mtry\u001b[39;00m:\n\u001b[32m--> \u001b[39m\u001b[32m201\u001b[39m         value_or_values = \u001b[43mfunc\u001b[49m\u001b[43m(\u001b[49m\u001b[43mtrial\u001b[49m\u001b[43m)\u001b[49m\n\u001b[32m    202\u001b[39m     \u001b[38;5;28;01mexcept\u001b[39;00m exceptions.TrialPruned \u001b[38;5;28;01mas\u001b[39;00m e:\n\u001b[32m    203\u001b[39m         \u001b[38;5;66;03m# TODO(mamu): Handle multi-objective cases.\u001b[39;00m\n\u001b[32m    204\u001b[39m         state = TrialState.PRUNED\n",
      "\u001b[36mCell\u001b[39m\u001b[36m \u001b[39m\u001b[32mIn[1]\u001b[39m\u001b[32m, line 195\u001b[39m, in \u001b[36mobjective\u001b[39m\u001b[34m(trial)\u001b[39m\n\u001b[32m    193\u001b[39m \u001b[38;5;28;01mfor\u001b[39;00m epoch \u001b[38;5;129;01min\u001b[39;00m \u001b[38;5;28mrange\u001b[39m(FIXED_EPOCHS):\n\u001b[32m    194\u001b[39m     \u001b[38;5;28mprint\u001b[39m(\u001b[33mf\u001b[39m\u001b[33m\"\u001b[39m\u001b[38;5;130;01m\\n\u001b[39;00m\u001b[33m▶️ Epoch \u001b[39m\u001b[38;5;132;01m{\u001b[39;00mepoch+\u001b[32m1\u001b[39m\u001b[38;5;132;01m}\u001b[39;00m\u001b[33m/\u001b[39m\u001b[38;5;132;01m{\u001b[39;00mFIXED_EPOCHS\u001b[38;5;132;01m}\u001b[39;00m\u001b[33m\"\u001b[39m)\n\u001b[32m--> \u001b[39m\u001b[32m195\u001b[39m     \u001b[43mtrainer\u001b[49m\u001b[43m.\u001b[49m\u001b[43mtrain\u001b[49m\u001b[43m(\u001b[49m\u001b[43mresume_from_checkpoint\u001b[49m\u001b[43m=\u001b[49m\u001b[38;5;28;43;01mNone\u001b[39;49;00m\u001b[43m)\u001b[49m\n\u001b[32m    197\u001b[39m     metrics = trainer.evaluate()\n\u001b[32m    198\u001b[39m     macro_f1 = metrics[\u001b[33m\"\u001b[39m\u001b[33meval_macro_f1\u001b[39m\u001b[33m\"\u001b[39m]\n",
      "\u001b[36mFile \u001b[39m\u001b[32m~\\AppData\\Local\\anaconda3\\envs\\dl4090\\Lib\\site-packages\\transformers\\trainer.py:2238\u001b[39m, in \u001b[36mTrainer.train\u001b[39m\u001b[34m(self, resume_from_checkpoint, trial, ignore_keys_for_eval, **kwargs)\u001b[39m\n\u001b[32m   2236\u001b[39m         hf_hub_utils.enable_progress_bars()\n\u001b[32m   2237\u001b[39m \u001b[38;5;28;01melse\u001b[39;00m:\n\u001b[32m-> \u001b[39m\u001b[32m2238\u001b[39m     \u001b[38;5;28;01mreturn\u001b[39;00m \u001b[43minner_training_loop\u001b[49m\u001b[43m(\u001b[49m\n\u001b[32m   2239\u001b[39m \u001b[43m        \u001b[49m\u001b[43margs\u001b[49m\u001b[43m=\u001b[49m\u001b[43margs\u001b[49m\u001b[43m,\u001b[49m\n\u001b[32m   2240\u001b[39m \u001b[43m        \u001b[49m\u001b[43mresume_from_checkpoint\u001b[49m\u001b[43m=\u001b[49m\u001b[43mresume_from_checkpoint\u001b[49m\u001b[43m,\u001b[49m\n\u001b[32m   2241\u001b[39m \u001b[43m        \u001b[49m\u001b[43mtrial\u001b[49m\u001b[43m=\u001b[49m\u001b[43mtrial\u001b[49m\u001b[43m,\u001b[49m\n\u001b[32m   2242\u001b[39m \u001b[43m        \u001b[49m\u001b[43mignore_keys_for_eval\u001b[49m\u001b[43m=\u001b[49m\u001b[43mignore_keys_for_eval\u001b[49m\u001b[43m,\u001b[49m\n\u001b[32m   2243\u001b[39m \u001b[43m    \u001b[49m\u001b[43m)\u001b[49m\n",
      "\u001b[36mFile \u001b[39m\u001b[32m~\\AppData\\Local\\anaconda3\\envs\\dl4090\\Lib\\site-packages\\transformers\\trainer.py:2582\u001b[39m, in \u001b[36mTrainer._inner_training_loop\u001b[39m\u001b[34m(self, batch_size, args, resume_from_checkpoint, trial, ignore_keys_for_eval)\u001b[39m\n\u001b[32m   2575\u001b[39m context = (\n\u001b[32m   2576\u001b[39m     functools.partial(\u001b[38;5;28mself\u001b[39m.accelerator.no_sync, model=model)\n\u001b[32m   2577\u001b[39m     \u001b[38;5;28;01mif\u001b[39;00m i != \u001b[38;5;28mlen\u001b[39m(batch_samples) - \u001b[32m1\u001b[39m\n\u001b[32m   2578\u001b[39m     \u001b[38;5;129;01mand\u001b[39;00m \u001b[38;5;28mself\u001b[39m.accelerator.distributed_type != DistributedType.DEEPSPEED\n\u001b[32m   2579\u001b[39m     \u001b[38;5;28;01melse\u001b[39;00m contextlib.nullcontext\n\u001b[32m   2580\u001b[39m )\n\u001b[32m   2581\u001b[39m \u001b[38;5;28;01mwith\u001b[39;00m context():\n\u001b[32m-> \u001b[39m\u001b[32m2582\u001b[39m     tr_loss_step = \u001b[38;5;28;43mself\u001b[39;49m\u001b[43m.\u001b[49m\u001b[43mtraining_step\u001b[49m\u001b[43m(\u001b[49m\u001b[43mmodel\u001b[49m\u001b[43m,\u001b[49m\u001b[43m \u001b[49m\u001b[43minputs\u001b[49m\u001b[43m,\u001b[49m\u001b[43m \u001b[49m\u001b[43mnum_items_in_batch\u001b[49m\u001b[43m)\u001b[49m\n\u001b[32m   2584\u001b[39m \u001b[38;5;28;01mif\u001b[39;00m (\n\u001b[32m   2585\u001b[39m     args.logging_nan_inf_filter\n\u001b[32m   2586\u001b[39m     \u001b[38;5;129;01mand\u001b[39;00m \u001b[38;5;129;01mnot\u001b[39;00m is_torch_xla_available()\n\u001b[32m   2587\u001b[39m     \u001b[38;5;129;01mand\u001b[39;00m (torch.isnan(tr_loss_step) \u001b[38;5;129;01mor\u001b[39;00m torch.isinf(tr_loss_step))\n\u001b[32m   2588\u001b[39m ):\n\u001b[32m   2589\u001b[39m     \u001b[38;5;66;03m# if loss is nan or inf simply add the average of previous logged losses\u001b[39;00m\n\u001b[32m   2590\u001b[39m     tr_loss = tr_loss + tr_loss / (\u001b[32m1\u001b[39m + \u001b[38;5;28mself\u001b[39m.state.global_step - \u001b[38;5;28mself\u001b[39m._globalstep_last_logged)\n",
      "\u001b[36mFile \u001b[39m\u001b[32m~\\AppData\\Local\\anaconda3\\envs\\dl4090\\Lib\\site-packages\\transformers\\trainer.py:3845\u001b[39m, in \u001b[36mTrainer.training_step\u001b[39m\u001b[34m(***failed resolving arguments***)\u001b[39m\n\u001b[32m   3842\u001b[39m \u001b[38;5;28;01mif\u001b[39;00m \u001b[38;5;28mself\u001b[39m.accelerator.distributed_type == DistributedType.DEEPSPEED:\n\u001b[32m   3843\u001b[39m     kwargs[\u001b[33m\"\u001b[39m\u001b[33mscale_wrt_gas\u001b[39m\u001b[33m\"\u001b[39m] = \u001b[38;5;28;01mFalse\u001b[39;00m\n\u001b[32m-> \u001b[39m\u001b[32m3845\u001b[39m \u001b[38;5;28;43mself\u001b[39;49m\u001b[43m.\u001b[49m\u001b[43maccelerator\u001b[49m\u001b[43m.\u001b[49m\u001b[43mbackward\u001b[49m\u001b[43m(\u001b[49m\u001b[43mloss\u001b[49m\u001b[43m,\u001b[49m\u001b[43m \u001b[49m\u001b[43m*\u001b[49m\u001b[43m*\u001b[49m\u001b[43mkwargs\u001b[49m\u001b[43m)\u001b[49m\n\u001b[32m   3847\u001b[39m \u001b[38;5;28;01mreturn\u001b[39;00m loss.detach()\n",
      "\u001b[36mFile \u001b[39m\u001b[32m~\\AppData\\Local\\anaconda3\\envs\\dl4090\\Lib\\site-packages\\accelerate\\accelerator.py:2734\u001b[39m, in \u001b[36mAccelerator.backward\u001b[39m\u001b[34m(self, loss, **kwargs)\u001b[39m\n\u001b[32m   2732\u001b[39m     \u001b[38;5;28mself\u001b[39m.lomo_backward(loss, learning_rate)\n\u001b[32m   2733\u001b[39m \u001b[38;5;28;01melse\u001b[39;00m:\n\u001b[32m-> \u001b[39m\u001b[32m2734\u001b[39m     \u001b[43mloss\u001b[49m\u001b[43m.\u001b[49m\u001b[43mbackward\u001b[49m\u001b[43m(\u001b[49m\u001b[43m*\u001b[49m\u001b[43m*\u001b[49m\u001b[43mkwargs\u001b[49m\u001b[43m)\u001b[49m\n",
      "\u001b[36mFile \u001b[39m\u001b[32m~\\AppData\\Local\\anaconda3\\envs\\dl4090\\Lib\\site-packages\\torch\\_tensor.py:626\u001b[39m, in \u001b[36mTensor.backward\u001b[39m\u001b[34m(self, gradient, retain_graph, create_graph, inputs)\u001b[39m\n\u001b[32m    616\u001b[39m \u001b[38;5;28;01mif\u001b[39;00m has_torch_function_unary(\u001b[38;5;28mself\u001b[39m):\n\u001b[32m    617\u001b[39m     \u001b[38;5;28;01mreturn\u001b[39;00m handle_torch_function(\n\u001b[32m    618\u001b[39m         Tensor.backward,\n\u001b[32m    619\u001b[39m         (\u001b[38;5;28mself\u001b[39m,),\n\u001b[32m   (...)\u001b[39m\u001b[32m    624\u001b[39m         inputs=inputs,\n\u001b[32m    625\u001b[39m     )\n\u001b[32m--> \u001b[39m\u001b[32m626\u001b[39m \u001b[43mtorch\u001b[49m\u001b[43m.\u001b[49m\u001b[43mautograd\u001b[49m\u001b[43m.\u001b[49m\u001b[43mbackward\u001b[49m\u001b[43m(\u001b[49m\n\u001b[32m    627\u001b[39m \u001b[43m    \u001b[49m\u001b[38;5;28;43mself\u001b[39;49m\u001b[43m,\u001b[49m\u001b[43m \u001b[49m\u001b[43mgradient\u001b[49m\u001b[43m,\u001b[49m\u001b[43m \u001b[49m\u001b[43mretain_graph\u001b[49m\u001b[43m,\u001b[49m\u001b[43m \u001b[49m\u001b[43mcreate_graph\u001b[49m\u001b[43m,\u001b[49m\u001b[43m \u001b[49m\u001b[43minputs\u001b[49m\u001b[43m=\u001b[49m\u001b[43minputs\u001b[49m\n\u001b[32m    628\u001b[39m \u001b[43m\u001b[49m\u001b[43m)\u001b[49m\n",
      "\u001b[36mFile \u001b[39m\u001b[32m~\\AppData\\Local\\anaconda3\\envs\\dl4090\\Lib\\site-packages\\torch\\autograd\\__init__.py:347\u001b[39m, in \u001b[36mbackward\u001b[39m\u001b[34m(tensors, grad_tensors, retain_graph, create_graph, grad_variables, inputs)\u001b[39m\n\u001b[32m    342\u001b[39m     retain_graph = create_graph\n\u001b[32m    344\u001b[39m \u001b[38;5;66;03m# The reason we repeat the same comment below is that\u001b[39;00m\n\u001b[32m    345\u001b[39m \u001b[38;5;66;03m# some Python versions print out the first line of a multi-line function\u001b[39;00m\n\u001b[32m    346\u001b[39m \u001b[38;5;66;03m# calls in the traceback and some print out the last line\u001b[39;00m\n\u001b[32m--> \u001b[39m\u001b[32m347\u001b[39m \u001b[43m_engine_run_backward\u001b[49m\u001b[43m(\u001b[49m\n\u001b[32m    348\u001b[39m \u001b[43m    \u001b[49m\u001b[43mtensors\u001b[49m\u001b[43m,\u001b[49m\n\u001b[32m    349\u001b[39m \u001b[43m    \u001b[49m\u001b[43mgrad_tensors_\u001b[49m\u001b[43m,\u001b[49m\n\u001b[32m    350\u001b[39m \u001b[43m    \u001b[49m\u001b[43mretain_graph\u001b[49m\u001b[43m,\u001b[49m\n\u001b[32m    351\u001b[39m \u001b[43m    \u001b[49m\u001b[43mcreate_graph\u001b[49m\u001b[43m,\u001b[49m\n\u001b[32m    352\u001b[39m \u001b[43m    \u001b[49m\u001b[43minputs\u001b[49m\u001b[43m,\u001b[49m\n\u001b[32m    353\u001b[39m \u001b[43m    \u001b[49m\u001b[43mallow_unreachable\u001b[49m\u001b[43m=\u001b[49m\u001b[38;5;28;43;01mTrue\u001b[39;49;00m\u001b[43m,\u001b[49m\n\u001b[32m    354\u001b[39m \u001b[43m    \u001b[49m\u001b[43maccumulate_grad\u001b[49m\u001b[43m=\u001b[49m\u001b[38;5;28;43;01mTrue\u001b[39;49;00m\u001b[43m,\u001b[49m\n\u001b[32m    355\u001b[39m \u001b[43m\u001b[49m\u001b[43m)\u001b[49m\n",
      "\u001b[36mFile \u001b[39m\u001b[32m~\\AppData\\Local\\anaconda3\\envs\\dl4090\\Lib\\site-packages\\torch\\autograd\\graph.py:823\u001b[39m, in \u001b[36m_engine_run_backward\u001b[39m\u001b[34m(t_outputs, *args, **kwargs)\u001b[39m\n\u001b[32m    821\u001b[39m     unregister_hooks = _register_logging_hooks_on_whole_graph(t_outputs)\n\u001b[32m    822\u001b[39m \u001b[38;5;28;01mtry\u001b[39;00m:\n\u001b[32m--> \u001b[39m\u001b[32m823\u001b[39m     \u001b[38;5;28;01mreturn\u001b[39;00m \u001b[43mVariable\u001b[49m\u001b[43m.\u001b[49m\u001b[43m_execution_engine\u001b[49m\u001b[43m.\u001b[49m\u001b[43mrun_backward\u001b[49m\u001b[43m(\u001b[49m\u001b[43m  \u001b[49m\u001b[38;5;66;43;03m# Calls into the C++ engine to run the backward pass\u001b[39;49;00m\n\u001b[32m    824\u001b[39m \u001b[43m        \u001b[49m\u001b[43mt_outputs\u001b[49m\u001b[43m,\u001b[49m\u001b[43m \u001b[49m\u001b[43m*\u001b[49m\u001b[43margs\u001b[49m\u001b[43m,\u001b[49m\u001b[43m \u001b[49m\u001b[43m*\u001b[49m\u001b[43m*\u001b[49m\u001b[43mkwargs\u001b[49m\n\u001b[32m    825\u001b[39m \u001b[43m    \u001b[49m\u001b[43m)\u001b[49m  \u001b[38;5;66;03m# Calls into the C++ engine to run the backward pass\u001b[39;00m\n\u001b[32m    826\u001b[39m \u001b[38;5;28;01mfinally\u001b[39;00m:\n\u001b[32m    827\u001b[39m     \u001b[38;5;28;01mif\u001b[39;00m attach_logging_hooks:\n",
      "\u001b[31mKeyboardInterrupt\u001b[39m: "
     ]
    }
   ],
   "source": [
    "# # === EX5 KD with HF Trainer + Optuna + Early Stopping + W&B ===\n",
    "# import os, json, torch, optuna, wandb, numpy as np, pandas as pd\n",
    "# from datasets import Dataset, DatasetDict\n",
    "# from transformers import (\n",
    "#     AutoTokenizer, AutoModelForSequenceClassification,\n",
    "#     Trainer, TrainingArguments\n",
    "# )\n",
    "# from sklearn.metrics import accuracy_score, f1_score\n",
    "\n",
    "# DEVICE = \"cuda\" if torch.cuda.is_available() else \"cpu\"\n",
    "# print(\"✅ Device:\", DEVICE)\n",
    "\n",
    "# OUT_DIR = \"./KD_optuna_ex5_trainer\"\n",
    "# os.makedirs(OUT_DIR, exist_ok=True)\n",
    "\n",
    "# # -------------------------\n",
    "# # Teacher checkpoint (EX4)\n",
    "# # -------------------------\n",
    "# TEACHER_NAME    = \"microsoft/mdeberta-v3-base\"\n",
    "# TEACHER_PT_PATH =r\"hf_ckpts\\microsoft__mdeberta-v3-base_ex5_trainer-try__final_20250817_104013\\best_model_ex5.pt\"\n",
    "# STUDENT_NAME    = \"microsoft/deberta-v3-small\"\n",
    "\n",
    "# ORDER = [\"neutral\", \"positive\", \"extremely negative\", \"negative\", \"extremely positive\"]\n",
    "# LABEL2ID = {lab: i for i, lab in enumerate(ORDER)}\n",
    "# ID2LABEL = {i: lab for lab, i in enumerate(ORDER)}\n",
    "\n",
    "# def normalize_label(s: str) -> str:\n",
    "#     s = str(s).lower().strip()\n",
    "#     s = s.replace(\"very negative\", \"extremely negative\")\n",
    "#     s = s.replace(\"very positive\", \"extremely positive\")\n",
    "#     return s\n",
    "\n",
    "# # -------------------------\n",
    "# # Data\n",
    "# # -------------------------\n",
    "# train_df = pd.read_csv(\"Corona_NLP_train_cleaned_translated.csv\")\n",
    "# test_df  = pd.read_csv(\"Corona_NLP_test_cleaned_translated.csv\")\n",
    "# for df in (train_df, test_df):\n",
    "#     df[\"Sentiment\"] = df[\"Sentiment\"].map(normalize_label)\n",
    "#     df[\"label\"] = df[\"Sentiment\"].map(LABEL2ID)\n",
    "\n",
    "# dataset = DatasetDict({\n",
    "#     \"train\": Dataset.from_pandas(train_df[[\"OriginalTweet\",\"label\"]]),\n",
    "#     \"test\":  Dataset.from_pandas(test_df[[\"OriginalTweet\",\"label\"]])\n",
    "# })\n",
    "\n",
    "# tok_student = AutoTokenizer.from_pretrained(STUDENT_NAME, use_fast=True)\n",
    "# tok_teacher = AutoTokenizer.from_pretrained(TEACHER_NAME, use_fast=True)\n",
    "\n",
    "# def tokenize_fn(batch):\n",
    "#     texts = [str(t) for t in batch[\"OriginalTweet\"]]  # ensure pure list[str]\n",
    "#     return tok_student(\n",
    "#         texts,\n",
    "#         truncation=True,\n",
    "#         padding=\"max_length\",\n",
    "#         max_length=512\n",
    "#     )\n",
    "\n",
    "\n",
    "\n",
    "\n",
    "\n",
    "# tokenized = dataset.map(tokenize_fn,\n",
    "#                         batched=True,\n",
    "#                         remove_columns=[\"OriginalTweet\"])\n",
    "# # tokenized = tokenized.remove_columns([\"OriginalTweet\"])\n",
    "# tokenized = tokenized.rename_column(\"label\",\"labels\")\n",
    "# tokenized.set_format(\"torch\")\n",
    "\n",
    "# # -------------------------\n",
    "# # Teacher (frozen)\n",
    "# # -------------------------\n",
    "# teacher = AutoModelForSequenceClassification.from_pretrained(\n",
    "#     TEACHER_NAME, num_labels=len(ORDER), id2label=ID2LABEL, label2id=LABEL2ID\n",
    "# ).to(DEVICE).eval()\n",
    "# state = torch.load(TEACHER_PT_PATH, map_location=\"cpu\")\n",
    "# teacher.load_state_dict(state, strict=False)\n",
    "# for p in teacher.parameters(): p.requires_grad=False\n",
    "\n",
    "# # -------------------------\n",
    "# # KD Loss inside Trainer\n",
    "# # -------------------------\n",
    "# def kd_loss_fn(student_logits, teacher_logits, labels, alpha=0.5, T=2.0):\n",
    "#     ce = torch.nn.functional.cross_entropy(student_logits, labels)\n",
    "#     kd = torch.nn.functional.kl_div(\n",
    "#         torch.nn.functional.log_softmax(student_logits/T, dim=-1),\n",
    "#         torch.nn.functional.softmax(teacher_logits/T, dim=-1),\n",
    "#         reduction=\"batchmean\"\n",
    "#     ) * (T*T)\n",
    "#     return alpha*ce + (1-alpha)*kd\n",
    "\n",
    "# class KDTrainer(Trainer):\n",
    "#     def __init__(self, teacher, alpha=0.5, T=2.0, **kwargs):\n",
    "#         super().__init__(**kwargs)\n",
    "#         self.teacher = teacher\n",
    "#         self.alpha = alpha\n",
    "#         self.T = T\n",
    "\n",
    "#     def compute_loss(self, model, inputs, return_outputs=False, num_items_in_batch=None):\n",
    "#         labels = inputs.pop(\"labels\")\n",
    "#         outputs = model(**inputs)\n",
    "#         student_logits = outputs.logits\n",
    "\n",
    "#         with torch.no_grad():\n",
    "#             teacher_out = self.teacher(**inputs)\n",
    "#             teacher_logits = teacher_out.logits\n",
    "\n",
    "#         loss = kd_loss_fn(student_logits, teacher_logits, labels,\n",
    "#                         alpha=self.alpha, T=self.T)\n",
    "\n",
    "#         return (loss, outputs) if return_outputs else loss\n",
    "\n",
    "\n",
    "# # -------------------------\n",
    "# # Metrics\n",
    "# # -------------------------\n",
    "# def compute_metrics(eval_pred):\n",
    "#     logits, labels = eval_pred\n",
    "#     preds = np.argmax(logits, axis=-1)\n",
    "#     acc = accuracy_score(labels, preds)\n",
    "#     macro_f1 = f1_score(labels, preds, average=\"macro\")\n",
    "#     per_cls = f1_score(labels, preds, average=None, labels=list(range(len(ORDER))))\n",
    "#     return {\"accuracy\": acc, \"macro_f1\": macro_f1, **{f\"F1_{ORDER[i]}\": per_cls[i] for i in range(len(ORDER))}}\n",
    "# # -------------------------\n",
    "# # Optuna Objective (Trainer, with rich logging)\n",
    "# # -------------------------\n",
    "# FIXED_EPOCHS = 6\n",
    "# EARLY_TRIAL_CUTOFF = 0.30\n",
    "# PATIENCE = 3\n",
    "\n",
    "# def get_model_size(model):\n",
    "#     tmp = \"tmp_model.pt\"\n",
    "#     torch.save(model.state_dict(), tmp)\n",
    "#     sz = os.path.getsize(tmp) / (1024*1024)\n",
    "#     os.remove(tmp)\n",
    "#     return sz\n",
    "\n",
    "# @torch.no_grad()\n",
    "# def get_latency(model, dataset, tokenizer, n_batches=20):\n",
    "#     loader = torch.utils.data.DataLoader(dataset, batch_size=8)\n",
    "#     times = []\n",
    "#     for i, batch in enumerate(loader):\n",
    "#         if i >= n_batches: break\n",
    "#         enc = {k:v.to(DEVICE) for k,v in batch.items() if k!=\"labels\"}\n",
    "#         if torch.cuda.is_available(): torch.cuda.synchronize()\n",
    "#         t0 = time.perf_counter()\n",
    "#         _ = model(**enc)\n",
    "#         if torch.cuda.is_available(): torch.cuda.synchronize()\n",
    "#         dt = (time.perf_counter() - t0) / enc[\"input_ids\"].size(0)\n",
    "#         times.append(dt)\n",
    "#     return np.mean(times)*1000 if times else None\n",
    "\n",
    "# def objective(trial):\n",
    "#     alpha = trial.suggest_float(\"alpha\", 0.2, 0.8)\n",
    "#     T     = trial.suggest_float(\"T\", 1.0, 5.0)\n",
    "#     lr    = trial.suggest_float(\"lr\", 1e-5, 5e-5, log=True)\n",
    "\n",
    "#     print(f\"\\n🔎 Trial {trial.number} | alpha={alpha:.3f}, T={T:.2f}, lr={lr:.2e}, epochs={FIXED_EPOCHS}\")\n",
    "\n",
    "#     wandb.init(\n",
    "#         project=\"KD_optuna_ex5_trainer\",\n",
    "#         name=f\"trial_{trial.number}\",\n",
    "#         config={\"alpha\":alpha, \"T\":T, \"lr\":lr, \"epochs\":FIXED_EPOCHS}\n",
    "#     )\n",
    "\n",
    "#     student = AutoModelForSequenceClassification.from_pretrained(\n",
    "#         STUDENT_NAME, num_labels=len(ORDER), id2label=ID2LABEL, label2id=LABEL2ID\n",
    "#     ).to(DEVICE)\n",
    "\n",
    "#     args = TrainingArguments(\n",
    "#         output_dir=f\"{OUT_DIR}/trial_{trial.number}\",\n",
    "#         per_device_train_batch_size=16,\n",
    "#         per_device_eval_batch_size=16,\n",
    "#         num_train_epochs=6,\n",
    "#         learning_rate=lr,\n",
    "#         logging_steps=50,\n",
    "#         report_to=\"wandb\",\n",
    "#         run_name=f\"KD_ex5_trial_{trial.number}\"\n",
    "#     )\n",
    "\n",
    "\n",
    "#     trainer = KDTrainer(\n",
    "#         teacher=teacher, alpha=alpha, T=T,\n",
    "#         model=student, args=args,\n",
    "#         train_dataset=tokenized[\"train\"],\n",
    "#         eval_dataset=tokenized[\"test\"],\n",
    "#         compute_metrics=compute_metrics\n",
    "#     )\n",
    "\n",
    "#     best_f1 = -1\n",
    "#     patience_counter = 0\n",
    "\n",
    "#     for epoch in range(FIXED_EPOCHS):\n",
    "#         print(f\"\\n▶️ Epoch {epoch+1}/{FIXED_EPOCHS}\")\n",
    "#         trainer.train(resume_from_checkpoint=None)\n",
    "\n",
    "#         metrics = trainer.evaluate()\n",
    "#         macro_f1 = metrics[\"eval_macro_f1\"]\n",
    "#         acc      = metrics[\"eval_accuracy\"]\n",
    "#         class_f1s = [metrics[f\"eval_F1_{lab}\"] for lab in ORDER]\n",
    "\n",
    "#         print(f\"📊 Epoch {epoch+1} | Val Macro-F1={macro_f1:.4f} | Acc={acc:.4f}\")\n",
    "#         for i, lab in enumerate(ORDER):\n",
    "#             print(f\"   {lab:>20}: {class_f1s[i]:.4f}\")\n",
    "\n",
    "#         wandb.log({\n",
    "#             \"epoch\": epoch+1,\n",
    "#             \"val_macro_f1\": macro_f1,\n",
    "#             \"val_acc\": acc,\n",
    "#             **{f\"F1_{lab}\": class_f1s[i] for i,lab in enumerate(ORDER)}\n",
    "#         })\n",
    "\n",
    "#         # prune if first epoch bad\n",
    "#         if epoch == 0 and macro_f1 < EARLY_TRIAL_CUTOFF:\n",
    "#             print(f\"🛑 Pruning trial {trial.number}: F1={macro_f1:.4f} < {EARLY_TRIAL_CUTOFF}\")\n",
    "#             wandb.finish()\n",
    "#             raise optuna.TrialPruned(f\"Epoch1 macro-F1 {macro_f1:.4f} < {EARLY_TRIAL_CUTOFF}\")\n",
    "\n",
    "#         # patience\n",
    "#         if macro_f1 > best_f1:\n",
    "#             best_f1 = macro_f1\n",
    "#             patience_counter = 0\n",
    "#             print(\"   ✅ New best\")\n",
    "#         else:\n",
    "#             patience_counter += 1\n",
    "#             print(f\"   ⚠️ No improvement, patience={patience_counter}\")\n",
    "#             if patience_counter >= PATIENCE:\n",
    "#                 print(f\"⏹️ Early stopping at epoch {epoch+1}\")\n",
    "#                 break\n",
    "\n",
    "#     # size + latency\n",
    "#     size_mb = get_model_size(student)\n",
    "#     latency = get_latency(student, tokenized[\"test\"], tok_student)\n",
    "#     print(f\"📦 Model size: {size_mb:.2f} MB | ⏱️ Latency: {latency:.2f} ms/sample\")\n",
    "#     wandb.log({\"model_size_mb\": size_mb, \"latency_ms\": latency})\n",
    "\n",
    "#     wandb.finish()\n",
    "#     trial.set_user_attr(\"macro_f1\", best_f1)\n",
    "#     trial.set_user_attr(\"model_size_mb\", size_mb)\n",
    "#     trial.set_user_attr(\"latency_ms\", latency)\n",
    "#     return best_f1\n",
    "\n",
    "# # # -------------------------\n",
    "# # # Optuna objective\n",
    "# # # -------------------------\n",
    "# # def objective(trial):\n",
    "# #     alpha = trial.suggest_float(\"alpha\", 0.2, 0.8)\n",
    "# #     T = trial.suggest_float(\"T\", 1.0, 5.0)\n",
    "# #     lr = trial.suggest_float(\"lr\", 1e-5, 5e-5, log=True)\n",
    "# #\n",
    "# #     model = AutoModelForSequenceClassification.from_pretrained(\n",
    "# #         STUDENT_NAME, num_labels=len(ORDER), id2label=ID2LABEL, label2id=LABEL2ID\n",
    "# #     ).to(DEVICE)\n",
    "# #\n",
    "# #     # args = TrainingArguments(\n",
    "# #     #     output_dir=f\"{OUT_DIR}/trial_{trial.number}\",\n",
    "# #     #     per_device_train_batch_size=16,\n",
    "# #     #     per_device_eval_batch_size=16,\n",
    "# #     #     num_train_epochs=6,  # fixed\n",
    "# #     #     learning_rate=lr,\n",
    "# #     #     # evaluation_strategy=\"epoch\",\n",
    "# #     #     # save_strategy=\"epoch\",\n",
    "# #     #     load_best_model_at_end=True,\n",
    "# #     #     metric_for_best_model=\"macro_f1\",\n",
    "# #     #     greater_is_better=True,\n",
    "# #     #     logging_steps=50,\n",
    "# #     #     report_to=\"wandb\",\n",
    "# #     #     run_name=f\"KD_ex5_trial_{trial.number}\"\n",
    "# #     # )\n",
    "# #     args = TrainingArguments(\n",
    "# #         output_dir=f\"{OUT_DIR}/trial_{trial.number}\",\n",
    "# #         per_device_train_batch_size=16,\n",
    "# #         per_device_eval_batch_size=16,\n",
    "# #         num_train_epochs=6,\n",
    "# #         learning_rate=lr,\n",
    "# #         logging_steps=50,\n",
    "# #         report_to=\"wandb\",\n",
    "# #         run_name=f\"KD_ex5_trial_{trial.number}\"\n",
    "# #     )\n",
    "# #\n",
    "# #     trainer = KDTrainer(\n",
    "# #         teacher=teacher, alpha=alpha, T=T,\n",
    "# #         model=model, args=args,\n",
    "# #         train_dataset=tokenized[\"train\"],\n",
    "# #         eval_dataset=tokenized[\"test\"],\n",
    "# #         compute_metrics=compute_metrics\n",
    "# #     )\n",
    "# #\n",
    "# #     result = trainer.train()\n",
    "# #     metrics = trainer.evaluate()\n",
    "# #     macro_f1 = metrics[\"eval_macro_f1\"]\n",
    "# #\n",
    "# #     # prune if first epoch bad\n",
    "# #     if trainer.state.epoch >= 1 and metrics[\"eval_macro_f1\"] < 0.30:\n",
    "# #         raise optuna.TrialPruned(\"Pruned: low F1 after epoch 1\")\n",
    "# #\n",
    "# #     return macro_f1\n",
    "\n",
    "# # -------------------------\n",
    "# # Run Optuna\n",
    "# # -------------------------\n",
    "# study = optuna.create_study(direction=\"maximize\")\n",
    "# study.optimize(objective, n_trials=10)\n",
    "\n",
    "# print(\"Best trial:\", study.best_trial.number)\n",
    "# print(\"  Value:\", study.best_value)\n",
    "# print(\"  Params:\", study.best_trial.params)\n"
   ]
  },
  {
   "cell_type": "code",
   "execution_count": 6,
   "id": "9cbd34ed0c52db40",
   "metadata": {
    "ExecuteTime": {
     "end_time": "2025-08-19T20:49:48.467802Z",
     "start_time": "2025-08-19T20:49:48.457495Z"
    }
   },
   "outputs": [],
   "source": [
    "# # -------------------------\n",
    "# # Optuna Objective (Trainer, with rich logging)\n",
    "# # -------------------------\n",
    "# FIXED_EPOCHS = 6\n",
    "# EARLY_TRIAL_CUTOFF = 0.30\n",
    "# PATIENCE = 3\n",
    "\n",
    "# def get_model_size(model):\n",
    "#     tmp = \"tmp_model.pt\"\n",
    "#     torch.save(model.state_dict(), tmp)\n",
    "#     sz = os.path.getsize(tmp) / (1024*1024)\n",
    "#     os.remove(tmp)\n",
    "#     return sz\n",
    "\n",
    "# @torch.no_grad()\n",
    "# def get_latency(model, dataset, tokenizer, n_batches=20):\n",
    "#     loader = torch.utils.data.DataLoader(dataset, batch_size=8)\n",
    "#     times = []\n",
    "#     for i, batch in enumerate(loader):\n",
    "#         if i >= n_batches: break\n",
    "#         enc = {k:v.to(DEVICE) for k,v in batch.items() if k!=\"labels\"}\n",
    "#         if torch.cuda.is_available(): torch.cuda.synchronize()\n",
    "#         t0 = time.perf_counter()\n",
    "#         _ = model(**enc)\n",
    "#         if torch.cuda.is_available(): torch.cuda.synchronize()\n",
    "#         dt = (time.perf_counter() - t0) / enc[\"input_ids\"].size(0)\n",
    "#         times.append(dt)\n",
    "#     return np.mean(times)*1000 if times else None\n",
    "\n",
    "# def objective(trial):\n",
    "#     alpha = trial.suggest_float(\"alpha\", 0.2, 0.8)\n",
    "#     T     = trial.suggest_float(\"T\", 1.0, 5.0)\n",
    "#     lr    = trial.suggest_float(\"lr\", 1e-5, 5e-5, log=True)\n",
    "\n",
    "#     print(f\"\\n🔎 Trial {trial.number} | alpha={alpha:.3f}, T={T:.2f}, lr={lr:.2e}, epochs={FIXED_EPOCHS}\")\n",
    "\n",
    "#     wandb.init(\n",
    "#         project=\"KD_optuna_ex5_trainer2\",\n",
    "#         name=f\"trial_{trial.number}\",\n",
    "#         config={\"alpha\":alpha, \"T\":T, \"lr\":lr, \"epochs\":FIXED_EPOCHS}\n",
    "#     )\n",
    "\n",
    "#     student = AutoModelForSequenceClassification.from_pretrained(\n",
    "#         STUDENT_NAME, num_labels=len(ORDER), id2label=ID2LABEL, label2id=LABEL2ID\n",
    "#     ).to(DEVICE)\n",
    "\n",
    "#     args = TrainingArguments(\n",
    "#         output_dir=f\"{OUT_DIR}/trial_{trial.number}\",\n",
    "#         per_device_train_batch_size=16,\n",
    "#         per_device_eval_batch_size=16,\n",
    "#         num_train_epochs=FIXED_EPOCHS,\n",
    "#         learning_rate=lr,\n",
    "#         logging_steps=50,\n",
    "#         evaluation_strategy=\"epoch\",\n",
    "#         save_strategy=\"no\",\n",
    "#         report_to=\"wandb\",\n",
    "#         run_name=f\"KD_ex5_trial_{trial.number}\",\n",
    "#         fp16=True if torch.cuda.is_available() else False,\n",
    "#         dataloader_num_workers=4,\n",
    "#         dataloader_pin_memory=True\n",
    "#     )\n",
    "\n",
    "#     trainer = KDTrainer(\n",
    "#         teacher=teacher, alpha=alpha, T=T,\n",
    "#         model=student, args=args,\n",
    "#         train_dataset=tokenized[\"train\"],\n",
    "#         eval_dataset=tokenized[\"test\"],\n",
    "#         compute_metrics=compute_metrics\n",
    "#     )\n",
    "\n",
    "#     best_f1 = -1\n",
    "#     patience_counter = 0\n",
    "\n",
    "#     for epoch in range(FIXED_EPOCHS):\n",
    "#         print(f\"\\n▶️ Epoch {epoch+1}/{FIXED_EPOCHS}\")\n",
    "#         trainer.train(resume_from_checkpoint=None)\n",
    "\n",
    "#         metrics = trainer.evaluate()\n",
    "#         macro_f1 = metrics[\"eval_macro_f1\"]\n",
    "#         acc      = metrics[\"eval_accuracy\"]\n",
    "#         class_f1s = [metrics[f\"eval_F1_{lab}\"] for lab in ORDER]\n",
    "\n",
    "#         print(f\"📊 Epoch {epoch+1} | Val Macro-F1={macro_f1:.4f} | Acc={acc:.4f}\")\n",
    "#         for i, lab in enumerate(ORDER):\n",
    "#             print(f\"   {lab:>20}: {class_f1s[i]:.4f}\")\n",
    "\n",
    "#         wandb.log({\n",
    "#             \"epoch\": epoch+1,\n",
    "#             \"val_macro_f1\": macro_f1,\n",
    "#             \"val_acc\": acc,\n",
    "#             **{f\"F1_{lab}\": class_f1s[i] for i,lab in enumerate(ORDER)}\n",
    "#         })\n",
    "\n",
    "#         # prune if first epoch bad\n",
    "#         if epoch == 0 and macro_f1 < EARLY_TRIAL_CUTOFF:\n",
    "#             print(f\"🛑 Pruning trial {trial.number}: F1={macro_f1:.4f} < {EARLY_TRIAL_CUTOFF}\")\n",
    "#             wandb.finish()\n",
    "#             raise optuna.TrialPruned(f\"Epoch1 macro-F1 {macro_f1:.4f} < {EARLY_TRIAL_CUTOFF}\")\n",
    "\n",
    "#         # patience\n",
    "#         if macro_f1 > best_f1:\n",
    "#             best_f1 = macro_f1\n",
    "#             patience_counter = 0\n",
    "#             print(\"   ✅ New best\")\n",
    "#         else:\n",
    "#             patience_counter += 1\n",
    "#             print(f\"   ⚠️ No improvement, patience={patience_counter}\")\n",
    "#             if patience_counter >= PATIENCE:\n",
    "#                 print(f\"⏹️ Early stopping at epoch {epoch+1}\")\n",
    "#                 break\n",
    "\n",
    "#     # size + latency\n",
    "#     size_mb = get_model_size(student)\n",
    "#     latency = get_latency(student, tokenized[\"test\"], tok_student)\n",
    "#     print(f\"📦 Model size: {size_mb:.2f} MB | ⏱️ Latency: {latency:.2f} ms/sample\")\n",
    "#     wandb.log({\"model_size_mb\": size_mb, \"latency_ms\": latency})\n",
    "\n",
    "#     wandb.finish()\n",
    "#     trial.set_user_attr(\"macro_f1\", best_f1)\n",
    "#     trial.set_user_attr(\"model_size_mb\", size_mb)\n",
    "#     trial.set_user_attr(\"latency_ms\", latency)\n",
    "#     return best_f1\n"
   ]
  },
  {
   "cell_type": "code",
   "execution_count": null,
   "id": "ef08da448d23cec3",
   "metadata": {},
   "outputs": [
    {
     "name": "stdout",
     "output_type": "stream",
     "text": [
      "✅ Using device: cuda\n",
      "✅ Label mapping: {'extremely negative': 0, 'negative': 1, 'neutral': 2, 'positive': 3, 'extremely positive': 4}\n"
     ]
    },
    {
     "name": "stderr",
     "output_type": "stream",
     "text": [
      "C:\\Users\\adishalit1\\AppData\\Local\\anaconda3\\envs\\dl4090\\Lib\\site-packages\\transformers\\convert_slow_tokenizer.py:564: UserWarning: The sentencepiece tokenizer that you are converting to a fast tokenizer uses the byte fallback option which is not implemented in the fast tokenizers. In practice this means that the fast version of the tokenizer can produce unknown tokens whereas the sentencepiece version would have converted these unknown tokens into a sequence of byte tokens matching the original piece of text.\n",
      "  warnings.warn(\n"
     ]
    },
    {
     "name": "stdout",
     "output_type": "stream",
     "text": [
      "✅ Tokenizer loaded (student)\n",
      "✅ DataLoaders ready: train=5145, test=475\n"
     ]
    },
    {
     "name": "stderr",
     "output_type": "stream",
     "text": [
      "Some weights of DebertaV2ForSequenceClassification were not initialized from the model checkpoint at microsoft/mdeberta-v3-base and are newly initialized: ['classifier.bias', 'classifier.weight', 'pooler.dense.bias', 'pooler.dense.weight']\n",
      "You should probably TRAIN this model on a down-stream task to be able to use it for predictions and inference.\n",
      "[I 2025-08-20 18:58:34,188] A new study created in memory with name: no-name-52ce010c-8599-4da1-9e15-d5023bbf5e0e\n",
      "\u001b[34m\u001b[1mwandb\u001b[0m: \u001b[33mWARNING\u001b[0m `start_method` is deprecated and will be removed in a future version of wandb. This setting is currently non-functional and safely ignored.\n",
      "\u001b[34m\u001b[1mwandb\u001b[0m: \u001b[32m\u001b[41mERROR\u001b[0m Failed to detect the name of this notebook. You can set it manually with the WANDB_NOTEBOOK_NAME environment variable to enable code saving.\n"
     ]
    },
    {
     "name": "stdout",
     "output_type": "stream",
     "text": [
      "✅ Teacher loaded & frozen with correct label mapping\n",
      "🚀 Starting Optuna\n",
      "\n",
      "🔎 Trial 0 | alpha=0.737, T=4.67, epochs=6, fine_tune_layers=3, lr=3.92e-05, amp=True\n"
     ]
    },
    {
     "name": "stderr",
     "output_type": "stream",
     "text": [
      "\u001b[34m\u001b[1mwandb\u001b[0m: Currently logged in as: \u001b[33madishalit1\u001b[0m (\u001b[33madishalit1-tel-aviv-university\u001b[0m) to \u001b[32mhttps://api.wandb.ai\u001b[0m. Use \u001b[1m`wandb login --relogin`\u001b[0m to force relogin\n",
      "\u001b[34m\u001b[1mwandb\u001b[0m: \u001b[33mWARNING\u001b[0m Using a boolean value for 'reinit' is deprecated. Use 'return_previous' or 'finish_previous' instead.\n"
     ]
    },
    {
     "data": {
      "text/html": [
       "Tracking run with wandb version 0.21.1"
      ],
      "text/plain": [
       "<IPython.core.display.HTML object>"
      ]
     },
     "metadata": {},
     "output_type": "display_data"
    },
    {
     "data": {
      "text/html": [
       "Run data is saved locally in <code>C:\\Users\\adishalit1\\Desktop\\Adi\\ADL\\DL_2_Project\\wandb\\run-20250820_185834-2wrp6snv</code>"
      ],
      "text/plain": [
       "<IPython.core.display.HTML object>"
      ]
     },
     "metadata": {},
     "output_type": "display_data"
    },
    {
     "data": {
      "text/html": [
       "Syncing run <strong><a href='https://wandb.ai/adishalit1-tel-aviv-university/KD_optuna_ex5_deberta/runs/2wrp6snv' target=\"_blank\">trial_0</a></strong> to <a href='https://wandb.ai/adishalit1-tel-aviv-university/KD_optuna_ex5_deberta' target=\"_blank\">Weights & Biases</a> (<a href='https://wandb.me/developer-guide' target=\"_blank\">docs</a>)<br>"
      ],
      "text/plain": [
       "<IPython.core.display.HTML object>"
      ]
     },
     "metadata": {},
     "output_type": "display_data"
    },
    {
     "data": {
      "text/html": [
       " View project at <a href='https://wandb.ai/adishalit1-tel-aviv-university/KD_optuna_ex5_deberta' target=\"_blank\">https://wandb.ai/adishalit1-tel-aviv-university/KD_optuna_ex5_deberta</a>"
      ],
      "text/plain": [
       "<IPython.core.display.HTML object>"
      ]
     },
     "metadata": {},
     "output_type": "display_data"
    },
    {
     "data": {
      "text/html": [
       " View run at <a href='https://wandb.ai/adishalit1-tel-aviv-university/KD_optuna_ex5_deberta/runs/2wrp6snv' target=\"_blank\">https://wandb.ai/adishalit1-tel-aviv-university/KD_optuna_ex5_deberta/runs/2wrp6snv</a>"
      ],
      "text/plain": [
       "<IPython.core.display.HTML object>"
      ]
     },
     "metadata": {},
     "output_type": "display_data"
    },
    {
     "name": "stderr",
     "output_type": "stream",
     "text": [
      "Some weights of DebertaV2ForSequenceClassification were not initialized from the model checkpoint at microsoft/deberta-v3-small and are newly initialized: ['classifier.bias', 'classifier.weight', 'pooler.dense.bias', 'pooler.dense.weight']\n",
      "You should probably TRAIN this model on a down-stream task to be able to use it for predictions and inference.\n",
      "C:\\Users\\adishalit1\\AppData\\Local\\Temp\\ipykernel_13184\\1339524134.py:221: FutureWarning: `torch.cuda.amp.GradScaler(args...)` is deprecated. Please use `torch.amp.GradScaler('cuda', args...)` instead.\n",
      "  scaler = torch.cuda.amp.GradScaler(enabled=(DEVICE==\"cuda\" and use_amp))\n"
     ]
    },
    {
     "name": "stdout",
     "output_type": "stream",
     "text": [
      "✅ Student (deberta-v3-small) initialized with correct num_labels\n",
      "   🔓 Unfroze student layer 4 / 6\n",
      "   🔓 Unfroze student layer 5 / 6\n",
      "   🔓 Unfroze student layer 6 / 6\n",
      "✅ Unfroze last 3 layers + classifier\n",
      "\n",
      "▶️ Epoch 1/6\n"
     ]
    },
    {
     "name": "stderr",
     "output_type": "stream",
     "text": [
      "Trial 0 Epoch 1:   0%|                                                                        | 0/5145 [00:00<?, ?it/s]C:\\Users\\adishalit1\\AppData\\Local\\Temp\\ipykernel_13184\\1339524134.py:241: FutureWarning: `torch.cuda.amp.autocast(args...)` is deprecated. Please use `torch.amp.autocast('cuda', args...)` instead.\n",
      "  with torch.cuda.amp.autocast(enabled=(DEVICE==\"cuda\" and use_amp)):\n",
      "                                                                                                                       \r"
     ]
    },
    {
     "name": "stdout",
     "output_type": "stream",
     "text": [
      "📊 Epoch 1 done. Val Macro-F1=0.5759, Acc=0.5669\n",
      "   ✅ New best F1\n",
      "\n",
      "▶️ Epoch 2/6\n"
     ]
    },
    {
     "name": "stderr",
     "output_type": "stream",
     "text": [
      "Trial 0 Epoch 2:   0%|                                                                        | 0/5145 [00:00<?, ?it/s]C:\\Users\\adishalit1\\AppData\\Local\\Temp\\ipykernel_13184\\1339524134.py:241: FutureWarning: `torch.cuda.amp.autocast(args...)` is deprecated. Please use `torch.amp.autocast('cuda', args...)` instead.\n",
      "  with torch.cuda.amp.autocast(enabled=(DEVICE==\"cuda\" and use_amp)):\n",
      "                                                                                                                       \r"
     ]
    },
    {
     "name": "stdout",
     "output_type": "stream",
     "text": [
      "📊 Epoch 2 done. Val Macro-F1=0.6482, Acc=0.6351\n",
      "   ✅ New best F1\n",
      "\n",
      "▶️ Epoch 3/6\n"
     ]
    },
    {
     "name": "stderr",
     "output_type": "stream",
     "text": [
      "Trial 0 Epoch 3:   0%|                                                                        | 0/5145 [00:00<?, ?it/s]C:\\Users\\adishalit1\\AppData\\Local\\Temp\\ipykernel_13184\\1339524134.py:241: FutureWarning: `torch.cuda.amp.autocast(args...)` is deprecated. Please use `torch.amp.autocast('cuda', args...)` instead.\n",
      "  with torch.cuda.amp.autocast(enabled=(DEVICE==\"cuda\" and use_amp)):\n",
      "                                                                                                                       \r"
     ]
    },
    {
     "name": "stdout",
     "output_type": "stream",
     "text": [
      "📊 Epoch 3 done. Val Macro-F1=0.6849, Acc=0.6751\n",
      "   ✅ New best F1\n",
      "\n",
      "▶️ Epoch 4/6\n"
     ]
    },
    {
     "name": "stderr",
     "output_type": "stream",
     "text": [
      "Trial 0 Epoch 4:   0%|                                                                        | 0/5145 [00:00<?, ?it/s]C:\\Users\\adishalit1\\AppData\\Local\\Temp\\ipykernel_13184\\1339524134.py:241: FutureWarning: `torch.cuda.amp.autocast(args...)` is deprecated. Please use `torch.amp.autocast('cuda', args...)` instead.\n",
      "  with torch.cuda.amp.autocast(enabled=(DEVICE==\"cuda\" and use_amp)):\n",
      "                                                                                                                       \r"
     ]
    },
    {
     "name": "stdout",
     "output_type": "stream",
     "text": [
      "📊 Epoch 4 done. Val Macro-F1=0.7043, Acc=0.6948\n",
      "   ✅ New best F1\n",
      "\n",
      "▶️ Epoch 5/6\n"
     ]
    },
    {
     "name": "stderr",
     "output_type": "stream",
     "text": [
      "Trial 0 Epoch 5:   0%|                                                                        | 0/5145 [00:00<?, ?it/s]C:\\Users\\adishalit1\\AppData\\Local\\Temp\\ipykernel_13184\\1339524134.py:241: FutureWarning: `torch.cuda.amp.autocast(args...)` is deprecated. Please use `torch.amp.autocast('cuda', args...)` instead.\n",
      "  with torch.cuda.amp.autocast(enabled=(DEVICE==\"cuda\" and use_amp)):\n",
      "                                                                                                                       \r"
     ]
    },
    {
     "name": "stdout",
     "output_type": "stream",
     "text": [
      "📊 Epoch 5 done. Val Macro-F1=0.7015, Acc=0.6927\n",
      "   ⚠️ No improvement. Patience counter=1\n",
      "\n",
      "▶️ Epoch 6/6\n"
     ]
    },
    {
     "name": "stderr",
     "output_type": "stream",
     "text": [
      "Trial 0 Epoch 6:   0%|                                                                        | 0/5145 [00:00<?, ?it/s]C:\\Users\\adishalit1\\AppData\\Local\\Temp\\ipykernel_13184\\1339524134.py:241: FutureWarning: `torch.cuda.amp.autocast(args...)` is deprecated. Please use `torch.amp.autocast('cuda', args...)` instead.\n",
      "  with torch.cuda.amp.autocast(enabled=(DEVICE==\"cuda\" and use_amp)):\n",
      "                                                                                                                       \r"
     ]
    },
    {
     "name": "stdout",
     "output_type": "stream",
     "text": [
      "📊 Epoch 6 done. Val Macro-F1=0.7111, Acc=0.7017\n",
      "   ✅ New best F1\n",
      "📦 Model size: 541.34 MB | ⏱️ Latency: 3.74 ms/sample\n"
     ]
    },
    {
     "name": "stderr",
     "output_type": "stream",
     "text": [
      "\u001b[34m\u001b[1mwandb\u001b[0m: \u001b[32m\u001b[41mERROR\u001b[0m The nbformat package was not found. It is required to save notebook history.\n"
     ]
    },
    {
     "name": "stdout",
     "output_type": "stream",
     "text": [
      "💾 Saved best student weights: ./KD_optuna_ex5_deberta_UPDATE\\best_student_trial_0.pt\n"
     ]
    },
    {
     "data": {
      "text/html": [],
      "text/plain": [
       "<IPython.core.display.HTML object>"
      ]
     },
     "metadata": {},
     "output_type": "display_data"
    },
    {
     "data": {
      "text/html": [
       "<br>    <style><br>        .wandb-row {<br>            display: flex;<br>            flex-direction: row;<br>            flex-wrap: wrap;<br>            justify-content: flex-start;<br>            width: 100%;<br>        }<br>        .wandb-col {<br>            display: flex;<br>            flex-direction: column;<br>            flex-basis: 100%;<br>            flex: 1;<br>            padding: 10px;<br>        }<br>    </style><br><div class=\"wandb-row\"><div class=\"wandb-col\"><h3>Run history:</h3><br/><table class=\"wandb\"><tr><td>F1_extremely negative</td><td>▁▆▇▇██</td></tr><tr><td>F1_extremely positive</td><td>▁▆▇███</td></tr><tr><td>F1_negative</td><td>▁▃▇▇▇█</td></tr><tr><td>F1_neutral</td><td>▁▃▆█▇█</td></tr><tr><td>F1_positive</td><td>▁▅▆█▇█</td></tr><tr><td>epoch</td><td>▁▁▁▁▁▂▂▂▂▂▄▄▄▄▄▄▄▄▄▅▅▅▅▅▅▇▇▇▇▇▇▇▇▇▇█████</td></tr><tr><td>latency_ms</td><td>▁</td></tr><tr><td>model_size_mb</td><td>▁</td></tr><tr><td>step</td><td>▁▁▂▂▃▅▅▆▇█▂▃▄▇█▁▂▃▅▇▂▂▃▃▅▆▇▇█▂▆▆▇▇█▂▂▃▅▇</td></tr><tr><td>train_loss</td><td>▇▆▅▇▇▇█▅▄▆▅▆▃▄▅▄▅▃▄▄▃▄▅▅▄▅▁▆▃▂▂▂▅▄▃▁▅▃▆▁</td></tr><tr><td>val_acc</td><td>▁▅▇███</td></tr><tr><td>val_macro_f1</td><td>▁▅▇███</td></tr></table><br/></div><div class=\"wandb-col\"><h3>Run summary:</h3><br/><table class=\"wandb\"><tr><td>F1_extremely negative</td><td>0.74761</td></tr><tr><td>F1_extremely positive</td><td>0.78783</td></tr><tr><td>F1_negative</td><td>0.66834</td></tr><tr><td>F1_neutral</td><td>0.67709</td></tr><tr><td>F1_positive</td><td>0.67469</td></tr><tr><td>epoch</td><td>6</td></tr><tr><td>latency_ms</td><td>3.73802</td></tr><tr><td>model_size_mb</td><td>541.34318</td></tr><tr><td>step</td><td>5100</td></tr><tr><td>train_loss</td><td>1.46781</td></tr><tr><td>val_acc</td><td>0.70169</td></tr><tr><td>val_macro_f1</td><td>0.71111</td></tr></table><br/></div></div>"
      ],
      "text/plain": [
       "<IPython.core.display.HTML object>"
      ]
     },
     "metadata": {},
     "output_type": "display_data"
    },
    {
     "data": {
      "text/html": [
       " View run <strong style=\"color:#cdcd00\">trial_0</strong> at: <a href='https://wandb.ai/adishalit1-tel-aviv-university/KD_optuna_ex5_deberta/runs/2wrp6snv' target=\"_blank\">https://wandb.ai/adishalit1-tel-aviv-university/KD_optuna_ex5_deberta/runs/2wrp6snv</a><br> View project at: <a href='https://wandb.ai/adishalit1-tel-aviv-university/KD_optuna_ex5_deberta' target=\"_blank\">https://wandb.ai/adishalit1-tel-aviv-university/KD_optuna_ex5_deberta</a><br>Synced 5 W&B file(s), 0 media file(s), 0 artifact file(s) and 0 other file(s)"
      ],
      "text/plain": [
       "<IPython.core.display.HTML object>"
      ]
     },
     "metadata": {},
     "output_type": "display_data"
    },
    {
     "data": {
      "text/html": [
       "Find logs at: <code>.\\wandb\\run-20250820_185834-2wrp6snv\\logs</code>"
      ],
      "text/plain": [
       "<IPython.core.display.HTML object>"
      ]
     },
     "metadata": {},
     "output_type": "display_data"
    },
    {
     "name": "stderr",
     "output_type": "stream",
     "text": [
      "[I 2025-08-20 19:49:33,776] Trial 0 finished with value: 0.7111112453918759 and parameters: {'alpha': 0.7368877766861439, 'T': 4.66999209358128, 'fine_tune_layers': 3, 'learning_rate': 3.916971125336773e-05, 'use_amp': True}. Best is trial 0 with value: 0.7111112453918759.\n"
     ]
    },
    {
     "name": "stdout",
     "output_type": "stream",
     "text": [
      "\n",
      "🔎 Trial 1 | alpha=0.513, T=4.51, epochs=6, fine_tune_layers=4, lr=2.01e-06, amp=True\n"
     ]
    },
    {
     "data": {
      "text/html": [],
      "text/plain": [
       "<IPython.core.display.HTML object>"
      ]
     },
     "metadata": {},
     "output_type": "display_data"
    },
    {
     "data": {
      "text/html": [
       "Tracking run with wandb version 0.21.1"
      ],
      "text/plain": [
       "<IPython.core.display.HTML object>"
      ]
     },
     "metadata": {},
     "output_type": "display_data"
    },
    {
     "data": {
      "text/html": [
       "Run data is saved locally in <code>C:\\Users\\adishalit1\\Desktop\\Adi\\ADL\\DL_2_Project\\wandb\\run-20250820_194933-dpw3af8p</code>"
      ],
      "text/plain": [
       "<IPython.core.display.HTML object>"
      ]
     },
     "metadata": {},
     "output_type": "display_data"
    },
    {
     "data": {
      "text/html": [
       "Syncing run <strong><a href='https://wandb.ai/adishalit1-tel-aviv-university/KD_optuna_ex5_deberta/runs/dpw3af8p' target=\"_blank\">trial_1</a></strong> to <a href='https://wandb.ai/adishalit1-tel-aviv-university/KD_optuna_ex5_deberta' target=\"_blank\">Weights & Biases</a> (<a href='https://wandb.me/developer-guide' target=\"_blank\">docs</a>)<br>"
      ],
      "text/plain": [
       "<IPython.core.display.HTML object>"
      ]
     },
     "metadata": {},
     "output_type": "display_data"
    },
    {
     "data": {
      "text/html": [
       " View project at <a href='https://wandb.ai/adishalit1-tel-aviv-university/KD_optuna_ex5_deberta' target=\"_blank\">https://wandb.ai/adishalit1-tel-aviv-university/KD_optuna_ex5_deberta</a>"
      ],
      "text/plain": [
       "<IPython.core.display.HTML object>"
      ]
     },
     "metadata": {},
     "output_type": "display_data"
    },
    {
     "data": {
      "text/html": [
       " View run at <a href='https://wandb.ai/adishalit1-tel-aviv-university/KD_optuna_ex5_deberta/runs/dpw3af8p' target=\"_blank\">https://wandb.ai/adishalit1-tel-aviv-university/KD_optuna_ex5_deberta/runs/dpw3af8p</a>"
      ],
      "text/plain": [
       "<IPython.core.display.HTML object>"
      ]
     },
     "metadata": {},
     "output_type": "display_data"
    },
    {
     "name": "stderr",
     "output_type": "stream",
     "text": [
      "Some weights of DebertaV2ForSequenceClassification were not initialized from the model checkpoint at microsoft/deberta-v3-small and are newly initialized: ['classifier.bias', 'classifier.weight', 'pooler.dense.bias', 'pooler.dense.weight']\n",
      "You should probably TRAIN this model on a down-stream task to be able to use it for predictions and inference.\n",
      "C:\\Users\\adishalit1\\AppData\\Local\\Temp\\ipykernel_13184\\1339524134.py:221: FutureWarning: `torch.cuda.amp.GradScaler(args...)` is deprecated. Please use `torch.amp.GradScaler('cuda', args...)` instead.\n",
      "  scaler = torch.cuda.amp.GradScaler(enabled=(DEVICE==\"cuda\" and use_amp))\n"
     ]
    },
    {
     "name": "stdout",
     "output_type": "stream",
     "text": [
      "✅ Student (deberta-v3-small) initialized with correct num_labels\n",
      "   🔓 Unfroze student layer 3 / 6\n",
      "   🔓 Unfroze student layer 4 / 6\n",
      "   🔓 Unfroze student layer 5 / 6\n",
      "   🔓 Unfroze student layer 6 / 6\n",
      "✅ Unfroze last 4 layers + classifier\n",
      "\n",
      "▶️ Epoch 1/6\n"
     ]
    },
    {
     "name": "stderr",
     "output_type": "stream",
     "text": [
      "Trial 1 Epoch 1:   0%|                                                                        | 0/5145 [00:00<?, ?it/s]C:\\Users\\adishalit1\\AppData\\Local\\Temp\\ipykernel_13184\\1339524134.py:241: FutureWarning: `torch.cuda.amp.autocast(args...)` is deprecated. Please use `torch.amp.autocast('cuda', args...)` instead.\n",
      "  with torch.cuda.amp.autocast(enabled=(DEVICE==\"cuda\" and use_amp)):\n",
      "\u001b[34m\u001b[1mwandb\u001b[0m: \u001b[32m\u001b[41mERROR\u001b[0m The nbformat package was not found. It is required to save notebook history.   \n"
     ]
    },
    {
     "name": "stdout",
     "output_type": "stream",
     "text": [
      "📊 Epoch 1 done. Val Macro-F1=0.0561, Acc=0.1630\n",
      "🛑 Pruning trial 1: epoch-1 macro-F1 0.0561 < 0.3\n"
     ]
    },
    {
     "data": {
      "text/html": [],
      "text/plain": [
       "<IPython.core.display.HTML object>"
      ]
     },
     "metadata": {},
     "output_type": "display_data"
    },
    {
     "data": {
      "text/html": [
       "<br>    <style><br>        .wandb-row {<br>            display: flex;<br>            flex-direction: row;<br>            flex-wrap: wrap;<br>            justify-content: flex-start;<br>            width: 100%;<br>        }<br>        .wandb-col {<br>            display: flex;<br>            flex-direction: column;<br>            flex-basis: 100%;<br>            flex: 1;<br>            padding: 10px;<br>        }<br>    </style><br><div class=\"wandb-row\"><div class=\"wandb-col\"><h3>Run history:</h3><br/><table class=\"wandb\"><tr><td>F1_extremely negative</td><td>▁</td></tr><tr><td>F1_extremely positive</td><td>▁</td></tr><tr><td>F1_negative</td><td>▁</td></tr><tr><td>F1_neutral</td><td>▁</td></tr><tr><td>F1_positive</td><td>▁</td></tr><tr><td>epoch</td><td>▁▁▁▁▁▁▁▁▁▁▁▁▁▁▁▁▁▁▁▁▁▁▁▁▁▁▁▁▁▁▁▁▁▁▁▁▁▁▁▁</td></tr><tr><td>step</td><td>▁▁▁▁▁▂▂▂▂▂▃▃▃▃▃▃▄▄▄▄▄▄▅▅▅▅▅▆▆▆▆▆▆▆▇▇▇▇██</td></tr><tr><td>train_loss</td><td>██▇▆▄▄▇▃▄▄▅▄▂▂▃▂▂▄▂▄▃▃▃▄▄▂▂▄▄▄▃▅▄▂▂▂▃▃▂▁</td></tr><tr><td>val_acc</td><td>▁</td></tr><tr><td>val_macro_f1</td><td>▁</td></tr></table><br/></div><div class=\"wandb-col\"><h3>Run summary:</h3><br/><table class=\"wandb\"><tr><td>F1_extremely negative</td><td>0</td></tr><tr><td>F1_extremely positive</td><td>0</td></tr><tr><td>F1_negative</td><td>0</td></tr><tr><td>F1_neutral</td><td>0.28028</td></tr><tr><td>F1_positive</td><td>0</td></tr><tr><td>epoch</td><td>1</td></tr><tr><td>step</td><td>5100</td></tr><tr><td>train_loss</td><td>1.34446</td></tr><tr><td>val_acc</td><td>0.16298</td></tr><tr><td>val_macro_f1</td><td>0.05606</td></tr></table><br/></div></div>"
      ],
      "text/plain": [
       "<IPython.core.display.HTML object>"
      ]
     },
     "metadata": {},
     "output_type": "display_data"
    },
    {
     "data": {
      "text/html": [
       " View run <strong style=\"color:#cdcd00\">trial_1</strong> at: <a href='https://wandb.ai/adishalit1-tel-aviv-university/KD_optuna_ex5_deberta/runs/dpw3af8p' target=\"_blank\">https://wandb.ai/adishalit1-tel-aviv-university/KD_optuna_ex5_deberta/runs/dpw3af8p</a><br> View project at: <a href='https://wandb.ai/adishalit1-tel-aviv-university/KD_optuna_ex5_deberta' target=\"_blank\">https://wandb.ai/adishalit1-tel-aviv-university/KD_optuna_ex5_deberta</a><br>Synced 5 W&B file(s), 0 media file(s), 0 artifact file(s) and 0 other file(s)"
      ],
      "text/plain": [
       "<IPython.core.display.HTML object>"
      ]
     },
     "metadata": {},
     "output_type": "display_data"
    },
    {
     "data": {
      "text/html": [
       "Find logs at: <code>.\\wandb\\run-20250820_194933-dpw3af8p\\logs</code>"
      ],
      "text/plain": [
       "<IPython.core.display.HTML object>"
      ]
     },
     "metadata": {},
     "output_type": "display_data"
    },
    {
     "name": "stderr",
     "output_type": "stream",
     "text": [
      "[I 2025-08-20 19:58:33,276] Trial 1 pruned. Epoch1 macro-F1 0.0561 < 0.3\n"
     ]
    },
    {
     "name": "stdout",
     "output_type": "stream",
     "text": [
      "\n",
      "🔎 Trial 2 | alpha=0.315, T=3.94, epochs=6, fine_tune_layers=4, lr=3.40e-06, amp=False\n"
     ]
    },
    {
     "data": {
      "text/html": [
       "Tracking run with wandb version 0.21.1"
      ],
      "text/plain": [
       "<IPython.core.display.HTML object>"
      ]
     },
     "metadata": {},
     "output_type": "display_data"
    },
    {
     "data": {
      "text/html": [
       "Run data is saved locally in <code>C:\\Users\\adishalit1\\Desktop\\Adi\\ADL\\DL_2_Project\\wandb\\run-20250820_195833-rxoinrh6</code>"
      ],
      "text/plain": [
       "<IPython.core.display.HTML object>"
      ]
     },
     "metadata": {},
     "output_type": "display_data"
    },
    {
     "data": {
      "text/html": [
       "Syncing run <strong><a href='https://wandb.ai/adishalit1-tel-aviv-university/KD_optuna_ex5_deberta/runs/rxoinrh6' target=\"_blank\">trial_2</a></strong> to <a href='https://wandb.ai/adishalit1-tel-aviv-university/KD_optuna_ex5_deberta' target=\"_blank\">Weights & Biases</a> (<a href='https://wandb.me/developer-guide' target=\"_blank\">docs</a>)<br>"
      ],
      "text/plain": [
       "<IPython.core.display.HTML object>"
      ]
     },
     "metadata": {},
     "output_type": "display_data"
    },
    {
     "data": {
      "text/html": [
       " View project at <a href='https://wandb.ai/adishalit1-tel-aviv-university/KD_optuna_ex5_deberta' target=\"_blank\">https://wandb.ai/adishalit1-tel-aviv-university/KD_optuna_ex5_deberta</a>"
      ],
      "text/plain": [
       "<IPython.core.display.HTML object>"
      ]
     },
     "metadata": {},
     "output_type": "display_data"
    },
    {
     "data": {
      "text/html": [
       " View run at <a href='https://wandb.ai/adishalit1-tel-aviv-university/KD_optuna_ex5_deberta/runs/rxoinrh6' target=\"_blank\">https://wandb.ai/adishalit1-tel-aviv-university/KD_optuna_ex5_deberta/runs/rxoinrh6</a>"
      ],
      "text/plain": [
       "<IPython.core.display.HTML object>"
      ]
     },
     "metadata": {},
     "output_type": "display_data"
    },
    {
     "name": "stderr",
     "output_type": "stream",
     "text": [
      "Some weights of DebertaV2ForSequenceClassification were not initialized from the model checkpoint at microsoft/deberta-v3-small and are newly initialized: ['classifier.bias', 'classifier.weight', 'pooler.dense.bias', 'pooler.dense.weight']\n",
      "You should probably TRAIN this model on a down-stream task to be able to use it for predictions and inference.\n",
      "C:\\Users\\adishalit1\\AppData\\Local\\Temp\\ipykernel_13184\\1339524134.py:221: FutureWarning: `torch.cuda.amp.GradScaler(args...)` is deprecated. Please use `torch.amp.GradScaler('cuda', args...)` instead.\n",
      "  scaler = torch.cuda.amp.GradScaler(enabled=(DEVICE==\"cuda\" and use_amp))\n"
     ]
    },
    {
     "name": "stdout",
     "output_type": "stream",
     "text": [
      "✅ Student (deberta-v3-small) initialized with correct num_labels\n",
      "   🔓 Unfroze student layer 3 / 6\n",
      "   🔓 Unfroze student layer 4 / 6\n",
      "   🔓 Unfroze student layer 5 / 6\n",
      "   🔓 Unfroze student layer 6 / 6\n",
      "✅ Unfroze last 4 layers + classifier\n",
      "\n",
      "▶️ Epoch 1/6\n"
     ]
    },
    {
     "name": "stderr",
     "output_type": "stream",
     "text": [
      "Trial 2 Epoch 1:   0%|                                                                        | 0/5145 [00:00<?, ?it/s]C:\\Users\\adishalit1\\AppData\\Local\\Temp\\ipykernel_13184\\1339524134.py:241: FutureWarning: `torch.cuda.amp.autocast(args...)` is deprecated. Please use `torch.amp.autocast('cuda', args...)` instead.\n",
      "  with torch.cuda.amp.autocast(enabled=(DEVICE==\"cuda\" and use_amp)):\n",
      "\u001b[34m\u001b[1mwandb\u001b[0m: \u001b[32m\u001b[41mERROR\u001b[0m The nbformat package was not found. It is required to save notebook history.   \n"
     ]
    },
    {
     "name": "stdout",
     "output_type": "stream",
     "text": [
      "📊 Epoch 1 done. Val Macro-F1=0.0561, Acc=0.1630\n",
      "🛑 Pruning trial 2: epoch-1 macro-F1 0.0561 < 0.3\n"
     ]
    },
    {
     "data": {
      "text/html": [],
      "text/plain": [
       "<IPython.core.display.HTML object>"
      ]
     },
     "metadata": {},
     "output_type": "display_data"
    },
    {
     "data": {
      "text/html": [
       "<br>    <style><br>        .wandb-row {<br>            display: flex;<br>            flex-direction: row;<br>            flex-wrap: wrap;<br>            justify-content: flex-start;<br>            width: 100%;<br>        }<br>        .wandb-col {<br>            display: flex;<br>            flex-direction: column;<br>            flex-basis: 100%;<br>            flex: 1;<br>            padding: 10px;<br>        }<br>    </style><br><div class=\"wandb-row\"><div class=\"wandb-col\"><h3>Run history:</h3><br/><table class=\"wandb\"><tr><td>F1_extremely negative</td><td>▁</td></tr><tr><td>F1_extremely positive</td><td>▁</td></tr><tr><td>F1_negative</td><td>▁</td></tr><tr><td>F1_neutral</td><td>▁</td></tr><tr><td>F1_positive</td><td>▁</td></tr><tr><td>epoch</td><td>▁▁▁▁▁▁▁▁▁▁▁▁▁▁▁▁▁▁▁▁▁▁▁▁▁▁▁▁▁▁▁▁▁▁▁▁▁▁▁▁</td></tr><tr><td>step</td><td>▁▁▁▂▂▂▂▃▃▃▃▃▃▃▄▄▄▄▄▅▅▅▅▅▆▆▆▆▆▆▆▇▇▇▇▇▇███</td></tr><tr><td>train_loss</td><td>█▂▂▃▃▂▃▄▂▂▄▂▂▁▂▃▁▂▃▂▁▃▃▃▃▂▂▂▃▁▂▂▂▂▅▂▁▅▃▂</td></tr><tr><td>val_acc</td><td>▁</td></tr><tr><td>val_macro_f1</td><td>▁</td></tr></table><br/></div><div class=\"wandb-col\"><h3>Run summary:</h3><br/><table class=\"wandb\"><tr><td>F1_extremely negative</td><td>0</td></tr><tr><td>F1_extremely positive</td><td>0</td></tr><tr><td>F1_negative</td><td>0</td></tr><tr><td>F1_neutral</td><td>0.28028</td></tr><tr><td>F1_positive</td><td>0</td></tr><tr><td>epoch</td><td>1</td></tr><tr><td>step</td><td>5100</td></tr><tr><td>train_loss</td><td>1.24699</td></tr><tr><td>val_acc</td><td>0.16298</td></tr><tr><td>val_macro_f1</td><td>0.05606</td></tr></table><br/></div></div>"
      ],
      "text/plain": [
       "<IPython.core.display.HTML object>"
      ]
     },
     "metadata": {},
     "output_type": "display_data"
    },
    {
     "data": {
      "text/html": [
       " View run <strong style=\"color:#cdcd00\">trial_2</strong> at: <a href='https://wandb.ai/adishalit1-tel-aviv-university/KD_optuna_ex5_deberta/runs/rxoinrh6' target=\"_blank\">https://wandb.ai/adishalit1-tel-aviv-university/KD_optuna_ex5_deberta/runs/rxoinrh6</a><br> View project at: <a href='https://wandb.ai/adishalit1-tel-aviv-university/KD_optuna_ex5_deberta' target=\"_blank\">https://wandb.ai/adishalit1-tel-aviv-university/KD_optuna_ex5_deberta</a><br>Synced 5 W&B file(s), 0 media file(s), 0 artifact file(s) and 0 other file(s)"
      ],
      "text/plain": [
       "<IPython.core.display.HTML object>"
      ]
     },
     "metadata": {},
     "output_type": "display_data"
    },
    {
     "data": {
      "text/html": [
       "Find logs at: <code>.\\wandb\\run-20250820_195833-rxoinrh6\\logs</code>"
      ],
      "text/plain": [
       "<IPython.core.display.HTML object>"
      ]
     },
     "metadata": {},
     "output_type": "display_data"
    },
    {
     "name": "stderr",
     "output_type": "stream",
     "text": [
      "[I 2025-08-20 20:09:54,895] Trial 2 pruned. Epoch1 macro-F1 0.0561 < 0.3\n"
     ]
    },
    {
     "name": "stdout",
     "output_type": "stream",
     "text": [
      "\n",
      "🔎 Trial 3 | alpha=0.261, T=3.62, epochs=6, fine_tune_layers=5, lr=5.62e-06, amp=True\n"
     ]
    },
    {
     "data": {
      "text/html": [
       "Tracking run with wandb version 0.21.1"
      ],
      "text/plain": [
       "<IPython.core.display.HTML object>"
      ]
     },
     "metadata": {},
     "output_type": "display_data"
    },
    {
     "data": {
      "text/html": [
       "Run data is saved locally in <code>C:\\Users\\adishalit1\\Desktop\\Adi\\ADL\\DL_2_Project\\wandb\\run-20250820_200954-60s7ch5d</code>"
      ],
      "text/plain": [
       "<IPython.core.display.HTML object>"
      ]
     },
     "metadata": {},
     "output_type": "display_data"
    },
    {
     "data": {
      "text/html": [
       "Syncing run <strong><a href='https://wandb.ai/adishalit1-tel-aviv-university/KD_optuna_ex5_deberta/runs/60s7ch5d' target=\"_blank\">trial_3</a></strong> to <a href='https://wandb.ai/adishalit1-tel-aviv-university/KD_optuna_ex5_deberta' target=\"_blank\">Weights & Biases</a> (<a href='https://wandb.me/developer-guide' target=\"_blank\">docs</a>)<br>"
      ],
      "text/plain": [
       "<IPython.core.display.HTML object>"
      ]
     },
     "metadata": {},
     "output_type": "display_data"
    },
    {
     "data": {
      "text/html": [
       " View project at <a href='https://wandb.ai/adishalit1-tel-aviv-university/KD_optuna_ex5_deberta' target=\"_blank\">https://wandb.ai/adishalit1-tel-aviv-university/KD_optuna_ex5_deberta</a>"
      ],
      "text/plain": [
       "<IPython.core.display.HTML object>"
      ]
     },
     "metadata": {},
     "output_type": "display_data"
    },
    {
     "data": {
      "text/html": [
       " View run at <a href='https://wandb.ai/adishalit1-tel-aviv-university/KD_optuna_ex5_deberta/runs/60s7ch5d' target=\"_blank\">https://wandb.ai/adishalit1-tel-aviv-university/KD_optuna_ex5_deberta/runs/60s7ch5d</a>"
      ],
      "text/plain": [
       "<IPython.core.display.HTML object>"
      ]
     },
     "metadata": {},
     "output_type": "display_data"
    },
    {
     "name": "stderr",
     "output_type": "stream",
     "text": [
      "Some weights of DebertaV2ForSequenceClassification were not initialized from the model checkpoint at microsoft/deberta-v3-small and are newly initialized: ['classifier.bias', 'classifier.weight', 'pooler.dense.bias', 'pooler.dense.weight']\n",
      "You should probably TRAIN this model on a down-stream task to be able to use it for predictions and inference.\n",
      "C:\\Users\\adishalit1\\AppData\\Local\\Temp\\ipykernel_13184\\1339524134.py:221: FutureWarning: `torch.cuda.amp.GradScaler(args...)` is deprecated. Please use `torch.amp.GradScaler('cuda', args...)` instead.\n",
      "  scaler = torch.cuda.amp.GradScaler(enabled=(DEVICE==\"cuda\" and use_amp))\n"
     ]
    },
    {
     "name": "stdout",
     "output_type": "stream",
     "text": [
      "✅ Student (deberta-v3-small) initialized with correct num_labels\n",
      "   🔓 Unfroze student layer 2 / 6\n",
      "   🔓 Unfroze student layer 3 / 6\n",
      "   🔓 Unfroze student layer 4 / 6\n",
      "   🔓 Unfroze student layer 5 / 6\n",
      "   🔓 Unfroze student layer 6 / 6\n",
      "✅ Unfroze last 5 layers + classifier\n",
      "\n",
      "▶️ Epoch 1/6\n"
     ]
    },
    {
     "name": "stderr",
     "output_type": "stream",
     "text": [
      "Trial 3 Epoch 1:   0%|                                                                        | 0/5145 [00:00<?, ?it/s]C:\\Users\\adishalit1\\AppData\\Local\\Temp\\ipykernel_13184\\1339524134.py:241: FutureWarning: `torch.cuda.amp.autocast(args...)` is deprecated. Please use `torch.amp.autocast('cuda', args...)` instead.\n",
      "  with torch.cuda.amp.autocast(enabled=(DEVICE==\"cuda\" and use_amp)):\n",
      "\u001b[34m\u001b[1mwandb\u001b[0m: \u001b[32m\u001b[41mERROR\u001b[0m The nbformat package was not found. It is required to save notebook history.   \n"
     ]
    },
    {
     "name": "stdout",
     "output_type": "stream",
     "text": [
      "📊 Epoch 1 done. Val Macro-F1=0.0561, Acc=0.1630\n",
      "🛑 Pruning trial 3: epoch-1 macro-F1 0.0561 < 0.3\n"
     ]
    },
    {
     "data": {
      "text/html": [],
      "text/plain": [
       "<IPython.core.display.HTML object>"
      ]
     },
     "metadata": {},
     "output_type": "display_data"
    },
    {
     "data": {
      "text/html": [
       "<br>    <style><br>        .wandb-row {<br>            display: flex;<br>            flex-direction: row;<br>            flex-wrap: wrap;<br>            justify-content: flex-start;<br>            width: 100%;<br>        }<br>        .wandb-col {<br>            display: flex;<br>            flex-direction: column;<br>            flex-basis: 100%;<br>            flex: 1;<br>            padding: 10px;<br>        }<br>    </style><br><div class=\"wandb-row\"><div class=\"wandb-col\"><h3>Run history:</h3><br/><table class=\"wandb\"><tr><td>F1_extremely negative</td><td>▁</td></tr><tr><td>F1_extremely positive</td><td>▁</td></tr><tr><td>F1_negative</td><td>▁</td></tr><tr><td>F1_neutral</td><td>▁</td></tr><tr><td>F1_positive</td><td>▁</td></tr><tr><td>epoch</td><td>▁▁▁▁▁▁▁▁▁▁▁▁▁▁▁▁▁▁▁▁▁▁▁▁▁▁▁▁▁▁▁▁▁▁▁▁▁▁▁▁</td></tr><tr><td>step</td><td>▁▁▁▁▂▂▂▂▂▃▃▃▃▃▃▄▄▄▄▄▅▅▅▅▅▆▆▆▆▆▇▇▇▇▇▇▇███</td></tr><tr><td>train_loss</td><td>▃▃▄▄▄▄▄▆▃▃▂▂▂▂▂▄▁▅█▂▆▂▂▃▁▅▂▂▂▂▁▅▃▁▅▂▂▃▃▂</td></tr><tr><td>val_acc</td><td>▁</td></tr><tr><td>val_macro_f1</td><td>▁</td></tr></table><br/></div><div class=\"wandb-col\"><h3>Run summary:</h3><br/><table class=\"wandb\"><tr><td>F1_extremely negative</td><td>0</td></tr><tr><td>F1_extremely positive</td><td>0</td></tr><tr><td>F1_negative</td><td>0</td></tr><tr><td>F1_neutral</td><td>0.28028</td></tr><tr><td>F1_positive</td><td>0</td></tr><tr><td>epoch</td><td>1</td></tr><tr><td>step</td><td>5100</td></tr><tr><td>train_loss</td><td>1.01504</td></tr><tr><td>val_acc</td><td>0.16298</td></tr><tr><td>val_macro_f1</td><td>0.05606</td></tr></table><br/></div></div>"
      ],
      "text/plain": [
       "<IPython.core.display.HTML object>"
      ]
     },
     "metadata": {},
     "output_type": "display_data"
    },
    {
     "data": {
      "text/html": [
       " View run <strong style=\"color:#cdcd00\">trial_3</strong> at: <a href='https://wandb.ai/adishalit1-tel-aviv-university/KD_optuna_ex5_deberta/runs/60s7ch5d' target=\"_blank\">https://wandb.ai/adishalit1-tel-aviv-university/KD_optuna_ex5_deberta/runs/60s7ch5d</a><br> View project at: <a href='https://wandb.ai/adishalit1-tel-aviv-university/KD_optuna_ex5_deberta' target=\"_blank\">https://wandb.ai/adishalit1-tel-aviv-university/KD_optuna_ex5_deberta</a><br>Synced 5 W&B file(s), 0 media file(s), 0 artifact file(s) and 0 other file(s)"
      ],
      "text/plain": [
       "<IPython.core.display.HTML object>"
      ]
     },
     "metadata": {},
     "output_type": "display_data"
    },
    {
     "data": {
      "text/html": [
       "Find logs at: <code>.\\wandb\\run-20250820_200954-60s7ch5d\\logs</code>"
      ],
      "text/plain": [
       "<IPython.core.display.HTML object>"
      ]
     },
     "metadata": {},
     "output_type": "display_data"
    },
    {
     "name": "stderr",
     "output_type": "stream",
     "text": [
      "[I 2025-08-20 20:19:20,996] Trial 3 pruned. Epoch1 macro-F1 0.0561 < 0.3\n"
     ]
    },
    {
     "name": "stdout",
     "output_type": "stream",
     "text": [
      "\n",
      "🔎 Trial 4 | alpha=0.228, T=4.67, epochs=6, fine_tune_layers=5, lr=7.29e-05, amp=False\n"
     ]
    },
    {
     "data": {
      "text/html": [
       "Tracking run with wandb version 0.21.1"
      ],
      "text/plain": [
       "<IPython.core.display.HTML object>"
      ]
     },
     "metadata": {},
     "output_type": "display_data"
    },
    {
     "data": {
      "text/html": [
       "Run data is saved locally in <code>C:\\Users\\adishalit1\\Desktop\\Adi\\ADL\\DL_2_Project\\wandb\\run-20250820_201920-isl77a1c</code>"
      ],
      "text/plain": [
       "<IPython.core.display.HTML object>"
      ]
     },
     "metadata": {},
     "output_type": "display_data"
    },
    {
     "data": {
      "text/html": [
       "Syncing run <strong><a href='https://wandb.ai/adishalit1-tel-aviv-university/KD_optuna_ex5_deberta/runs/isl77a1c' target=\"_blank\">trial_4</a></strong> to <a href='https://wandb.ai/adishalit1-tel-aviv-university/KD_optuna_ex5_deberta' target=\"_blank\">Weights & Biases</a> (<a href='https://wandb.me/developer-guide' target=\"_blank\">docs</a>)<br>"
      ],
      "text/plain": [
       "<IPython.core.display.HTML object>"
      ]
     },
     "metadata": {},
     "output_type": "display_data"
    },
    {
     "data": {
      "text/html": [
       " View project at <a href='https://wandb.ai/adishalit1-tel-aviv-university/KD_optuna_ex5_deberta' target=\"_blank\">https://wandb.ai/adishalit1-tel-aviv-university/KD_optuna_ex5_deberta</a>"
      ],
      "text/plain": [
       "<IPython.core.display.HTML object>"
      ]
     },
     "metadata": {},
     "output_type": "display_data"
    },
    {
     "data": {
      "text/html": [
       " View run at <a href='https://wandb.ai/adishalit1-tel-aviv-university/KD_optuna_ex5_deberta/runs/isl77a1c' target=\"_blank\">https://wandb.ai/adishalit1-tel-aviv-university/KD_optuna_ex5_deberta/runs/isl77a1c</a>"
      ],
      "text/plain": [
       "<IPython.core.display.HTML object>"
      ]
     },
     "metadata": {},
     "output_type": "display_data"
    },
    {
     "name": "stderr",
     "output_type": "stream",
     "text": [
      "Some weights of DebertaV2ForSequenceClassification were not initialized from the model checkpoint at microsoft/deberta-v3-small and are newly initialized: ['classifier.bias', 'classifier.weight', 'pooler.dense.bias', 'pooler.dense.weight']\n",
      "You should probably TRAIN this model on a down-stream task to be able to use it for predictions and inference.\n",
      "C:\\Users\\adishalit1\\AppData\\Local\\Temp\\ipykernel_13184\\1339524134.py:221: FutureWarning: `torch.cuda.amp.GradScaler(args...)` is deprecated. Please use `torch.amp.GradScaler('cuda', args...)` instead.\n",
      "  scaler = torch.cuda.amp.GradScaler(enabled=(DEVICE==\"cuda\" and use_amp))\n"
     ]
    },
    {
     "name": "stdout",
     "output_type": "stream",
     "text": [
      "✅ Student (deberta-v3-small) initialized with correct num_labels\n",
      "   🔓 Unfroze student layer 2 / 6\n",
      "   🔓 Unfroze student layer 3 / 6\n",
      "   🔓 Unfroze student layer 4 / 6\n",
      "   🔓 Unfroze student layer 5 / 6\n",
      "   🔓 Unfroze student layer 6 / 6\n",
      "✅ Unfroze last 5 layers + classifier\n",
      "\n",
      "▶️ Epoch 1/6\n"
     ]
    },
    {
     "name": "stderr",
     "output_type": "stream",
     "text": [
      "Trial 4 Epoch 1:   0%|                                                                        | 0/5145 [00:00<?, ?it/s]C:\\Users\\adishalit1\\AppData\\Local\\Temp\\ipykernel_13184\\1339524134.py:241: FutureWarning: `torch.cuda.amp.autocast(args...)` is deprecated. Please use `torch.amp.autocast('cuda', args...)` instead.\n",
      "  with torch.cuda.amp.autocast(enabled=(DEVICE==\"cuda\" and use_amp)):\n",
      "\u001b[34m\u001b[1mwandb\u001b[0m: \u001b[32m\u001b[41mERROR\u001b[0m The nbformat package was not found. It is required to save notebook history.   \n"
     ]
    },
    {
     "name": "stdout",
     "output_type": "stream",
     "text": [
      "📊 Epoch 1 done. Val Macro-F1=0.0561, Acc=0.1630\n",
      "🛑 Pruning trial 4: epoch-1 macro-F1 0.0561 < 0.3\n"
     ]
    },
    {
     "data": {
      "text/html": [],
      "text/plain": [
       "<IPython.core.display.HTML object>"
      ]
     },
     "metadata": {},
     "output_type": "display_data"
    },
    {
     "data": {
      "text/html": [
       "<br>    <style><br>        .wandb-row {<br>            display: flex;<br>            flex-direction: row;<br>            flex-wrap: wrap;<br>            justify-content: flex-start;<br>            width: 100%;<br>        }<br>        .wandb-col {<br>            display: flex;<br>            flex-direction: column;<br>            flex-basis: 100%;<br>            flex: 1;<br>            padding: 10px;<br>        }<br>    </style><br><div class=\"wandb-row\"><div class=\"wandb-col\"><h3>Run history:</h3><br/><table class=\"wandb\"><tr><td>F1_extremely negative</td><td>▁</td></tr><tr><td>F1_extremely positive</td><td>▁</td></tr><tr><td>F1_negative</td><td>▁</td></tr><tr><td>F1_neutral</td><td>▁</td></tr><tr><td>F1_positive</td><td>▁</td></tr><tr><td>epoch</td><td>▁▁▁▁▁▁▁▁▁▁▁▁▁▁▁▁▁▁▁▁▁▁▁▁▁▁▁▁▁▁▁▁▁▁▁▁▁▁▁▁</td></tr><tr><td>step</td><td>▁▁▁▁▂▂▂▂▂▃▃▃▃▃▃▄▄▄▄▄▄▅▅▅▅▅▅▅▆▆▆▆▆▇▇▇▇███</td></tr><tr><td>train_loss</td><td>▄▇▂▅▄▃▂▃▅█▅▂▃▄▄▄▃▃▄▆▆▇▇▃▅▂▅▆▂▃▂▅▄▂▁▃▃▇▂▇</td></tr><tr><td>val_acc</td><td>▁</td></tr><tr><td>val_macro_f1</td><td>▁</td></tr></table><br/></div><div class=\"wandb-col\"><h3>Run summary:</h3><br/><table class=\"wandb\"><tr><td>F1_extremely negative</td><td>0</td></tr><tr><td>F1_extremely positive</td><td>0</td></tr><tr><td>F1_negative</td><td>0</td></tr><tr><td>F1_neutral</td><td>0.28028</td></tr><tr><td>F1_positive</td><td>0</td></tr><tr><td>epoch</td><td>1</td></tr><tr><td>step</td><td>5100</td></tr><tr><td>train_loss</td><td>2.12863</td></tr><tr><td>val_acc</td><td>0.16298</td></tr><tr><td>val_macro_f1</td><td>0.05606</td></tr></table><br/></div></div>"
      ],
      "text/plain": [
       "<IPython.core.display.HTML object>"
      ]
     },
     "metadata": {},
     "output_type": "display_data"
    },
    {
     "data": {
      "text/html": [
       " View run <strong style=\"color:#cdcd00\">trial_4</strong> at: <a href='https://wandb.ai/adishalit1-tel-aviv-university/KD_optuna_ex5_deberta/runs/isl77a1c' target=\"_blank\">https://wandb.ai/adishalit1-tel-aviv-university/KD_optuna_ex5_deberta/runs/isl77a1c</a><br> View project at: <a href='https://wandb.ai/adishalit1-tel-aviv-university/KD_optuna_ex5_deberta' target=\"_blank\">https://wandb.ai/adishalit1-tel-aviv-university/KD_optuna_ex5_deberta</a><br>Synced 5 W&B file(s), 0 media file(s), 0 artifact file(s) and 0 other file(s)"
      ],
      "text/plain": [
       "<IPython.core.display.HTML object>"
      ]
     },
     "metadata": {},
     "output_type": "display_data"
    },
    {
     "data": {
      "text/html": [
       "Find logs at: <code>.\\wandb\\run-20250820_201920-isl77a1c\\logs</code>"
      ],
      "text/plain": [
       "<IPython.core.display.HTML object>"
      ]
     },
     "metadata": {},
     "output_type": "display_data"
    },
    {
     "name": "stderr",
     "output_type": "stream",
     "text": [
      "[I 2025-08-20 20:31:28,797] Trial 4 pruned. Epoch1 macro-F1 0.0561 < 0.3\n"
     ]
    },
    {
     "name": "stdout",
     "output_type": "stream",
     "text": [
      "\n",
      "🔎 Trial 5 | alpha=0.429, T=3.62, epochs=6, fine_tune_layers=3, lr=3.28e-05, amp=True\n"
     ]
    },
    {
     "data": {
      "text/html": [
       "creating run (0.2s)"
      ],
      "text/plain": [
       "<IPython.core.display.HTML object>"
      ]
     },
     "metadata": {},
     "output_type": "display_data"
    },
    {
     "data": {
      "text/html": [
       "Tracking run with wandb version 0.21.1"
      ],
      "text/plain": [
       "<IPython.core.display.HTML object>"
      ]
     },
     "metadata": {},
     "output_type": "display_data"
    },
    {
     "data": {
      "text/html": [
       "Run data is saved locally in <code>C:\\Users\\adishalit1\\Desktop\\Adi\\ADL\\DL_2_Project\\wandb\\run-20250820_203128-0hbnsvs6</code>"
      ],
      "text/plain": [
       "<IPython.core.display.HTML object>"
      ]
     },
     "metadata": {},
     "output_type": "display_data"
    },
    {
     "data": {
      "text/html": [
       "Syncing run <strong><a href='https://wandb.ai/adishalit1-tel-aviv-university/KD_optuna_ex5_deberta/runs/0hbnsvs6' target=\"_blank\">trial_5</a></strong> to <a href='https://wandb.ai/adishalit1-tel-aviv-university/KD_optuna_ex5_deberta' target=\"_blank\">Weights & Biases</a> (<a href='https://wandb.me/developer-guide' target=\"_blank\">docs</a>)<br>"
      ],
      "text/plain": [
       "<IPython.core.display.HTML object>"
      ]
     },
     "metadata": {},
     "output_type": "display_data"
    },
    {
     "data": {
      "text/html": [
       " View project at <a href='https://wandb.ai/adishalit1-tel-aviv-university/KD_optuna_ex5_deberta' target=\"_blank\">https://wandb.ai/adishalit1-tel-aviv-university/KD_optuna_ex5_deberta</a>"
      ],
      "text/plain": [
       "<IPython.core.display.HTML object>"
      ]
     },
     "metadata": {},
     "output_type": "display_data"
    },
    {
     "data": {
      "text/html": [
       " View run at <a href='https://wandb.ai/adishalit1-tel-aviv-university/KD_optuna_ex5_deberta/runs/0hbnsvs6' target=\"_blank\">https://wandb.ai/adishalit1-tel-aviv-university/KD_optuna_ex5_deberta/runs/0hbnsvs6</a>"
      ],
      "text/plain": [
       "<IPython.core.display.HTML object>"
      ]
     },
     "metadata": {},
     "output_type": "display_data"
    },
    {
     "name": "stderr",
     "output_type": "stream",
     "text": [
      "Some weights of DebertaV2ForSequenceClassification were not initialized from the model checkpoint at microsoft/deberta-v3-small and are newly initialized: ['classifier.bias', 'classifier.weight', 'pooler.dense.bias', 'pooler.dense.weight']\n",
      "You should probably TRAIN this model on a down-stream task to be able to use it for predictions and inference.\n",
      "C:\\Users\\adishalit1\\AppData\\Local\\Temp\\ipykernel_13184\\1339524134.py:221: FutureWarning: `torch.cuda.amp.GradScaler(args...)` is deprecated. Please use `torch.amp.GradScaler('cuda', args...)` instead.\n",
      "  scaler = torch.cuda.amp.GradScaler(enabled=(DEVICE==\"cuda\" and use_amp))\n"
     ]
    },
    {
     "name": "stdout",
     "output_type": "stream",
     "text": [
      "✅ Student (deberta-v3-small) initialized with correct num_labels\n",
      "   🔓 Unfroze student layer 4 / 6\n",
      "   🔓 Unfroze student layer 5 / 6\n",
      "   🔓 Unfroze student layer 6 / 6\n",
      "✅ Unfroze last 3 layers + classifier\n",
      "\n",
      "▶️ Epoch 1/6\n"
     ]
    },
    {
     "name": "stderr",
     "output_type": "stream",
     "text": [
      "Trial 5 Epoch 1:   0%|                                                                        | 0/5145 [00:00<?, ?it/s]C:\\Users\\adishalit1\\AppData\\Local\\Temp\\ipykernel_13184\\1339524134.py:241: FutureWarning: `torch.cuda.amp.autocast(args...)` is deprecated. Please use `torch.amp.autocast('cuda', args...)` instead.\n",
      "  with torch.cuda.amp.autocast(enabled=(DEVICE==\"cuda\" and use_amp)):\n",
      "\u001b[34m\u001b[1mwandb\u001b[0m: \u001b[32m\u001b[41mERROR\u001b[0m The nbformat package was not found. It is required to save notebook history.   \n"
     ]
    },
    {
     "name": "stdout",
     "output_type": "stream",
     "text": [
      "📊 Epoch 1 done. Val Macro-F1=0.0561, Acc=0.1630\n",
      "🛑 Pruning trial 5: epoch-1 macro-F1 0.0561 < 0.3\n"
     ]
    },
    {
     "data": {
      "text/html": [],
      "text/plain": [
       "<IPython.core.display.HTML object>"
      ]
     },
     "metadata": {},
     "output_type": "display_data"
    },
    {
     "data": {
      "text/html": [
       "<br>    <style><br>        .wandb-row {<br>            display: flex;<br>            flex-direction: row;<br>            flex-wrap: wrap;<br>            justify-content: flex-start;<br>            width: 100%;<br>        }<br>        .wandb-col {<br>            display: flex;<br>            flex-direction: column;<br>            flex-basis: 100%;<br>            flex: 1;<br>            padding: 10px;<br>        }<br>    </style><br><div class=\"wandb-row\"><div class=\"wandb-col\"><h3>Run history:</h3><br/><table class=\"wandb\"><tr><td>F1_extremely negative</td><td>▁</td></tr><tr><td>F1_extremely positive</td><td>▁</td></tr><tr><td>F1_negative</td><td>▁</td></tr><tr><td>F1_neutral</td><td>▁</td></tr><tr><td>F1_positive</td><td>▁</td></tr><tr><td>epoch</td><td>▁▁▁▁▁▁▁▁▁▁▁▁▁▁▁▁▁▁▁▁▁▁▁▁▁▁▁▁▁▁▁▁▁▁▁▁▁▁▁▁</td></tr><tr><td>step</td><td>▁▁▁▁▁▂▂▂▂▂▃▃▃▃▃▃▃▄▄▄▅▅▅▅▅▆▆▆▆▆▆▆▆▆▇▇▇▇██</td></tr><tr><td>train_loss</td><td>▅▄▂▄▅▃▂▄▃▄▄▅▃▄▃▃▃▃▂▄█▂▂▃▄▃▅▃▁▃▅▃▇▃▄▃▄▂▄▃</td></tr><tr><td>val_acc</td><td>▁</td></tr><tr><td>val_macro_f1</td><td>▁</td></tr></table><br/></div><div class=\"wandb-col\"><h3>Run summary:</h3><br/><table class=\"wandb\"><tr><td>F1_extremely negative</td><td>0</td></tr><tr><td>F1_extremely positive</td><td>0</td></tr><tr><td>F1_negative</td><td>0</td></tr><tr><td>F1_neutral</td><td>0.28028</td></tr><tr><td>F1_positive</td><td>0</td></tr><tr><td>epoch</td><td>1</td></tr><tr><td>step</td><td>5100</td></tr><tr><td>train_loss</td><td>1.58734</td></tr><tr><td>val_acc</td><td>0.16298</td></tr><tr><td>val_macro_f1</td><td>0.05606</td></tr></table><br/></div></div>"
      ],
      "text/plain": [
       "<IPython.core.display.HTML object>"
      ]
     },
     "metadata": {},
     "output_type": "display_data"
    },
    {
     "data": {
      "text/html": [
       " View run <strong style=\"color:#cdcd00\">trial_5</strong> at: <a href='https://wandb.ai/adishalit1-tel-aviv-university/KD_optuna_ex5_deberta/runs/0hbnsvs6' target=\"_blank\">https://wandb.ai/adishalit1-tel-aviv-university/KD_optuna_ex5_deberta/runs/0hbnsvs6</a><br> View project at: <a href='https://wandb.ai/adishalit1-tel-aviv-university/KD_optuna_ex5_deberta' target=\"_blank\">https://wandb.ai/adishalit1-tel-aviv-university/KD_optuna_ex5_deberta</a><br>Synced 5 W&B file(s), 0 media file(s), 0 artifact file(s) and 0 other file(s)"
      ],
      "text/plain": [
       "<IPython.core.display.HTML object>"
      ]
     },
     "metadata": {},
     "output_type": "display_data"
    },
    {
     "data": {
      "text/html": [
       "Find logs at: <code>.\\wandb\\run-20250820_203128-0hbnsvs6\\logs</code>"
      ],
      "text/plain": [
       "<IPython.core.display.HTML object>"
      ]
     },
     "metadata": {},
     "output_type": "display_data"
    },
    {
     "name": "stderr",
     "output_type": "stream",
     "text": [
      "[I 2025-08-20 20:40:04,251] Trial 5 pruned. Epoch1 macro-F1 0.0561 < 0.3\n"
     ]
    },
    {
     "name": "stdout",
     "output_type": "stream",
     "text": [
      "\n",
      "🔎 Trial 6 | alpha=0.665, T=2.03, epochs=6, fine_tune_layers=4, lr=1.68e-05, amp=True\n"
     ]
    },
    {
     "data": {
      "text/html": [
       "Tracking run with wandb version 0.21.1"
      ],
      "text/plain": [
       "<IPython.core.display.HTML object>"
      ]
     },
     "metadata": {},
     "output_type": "display_data"
    },
    {
     "data": {
      "text/html": [
       "Run data is saved locally in <code>C:\\Users\\adishalit1\\Desktop\\Adi\\ADL\\DL_2_Project\\wandb\\run-20250820_204004-kefc9tan</code>"
      ],
      "text/plain": [
       "<IPython.core.display.HTML object>"
      ]
     },
     "metadata": {},
     "output_type": "display_data"
    },
    {
     "data": {
      "text/html": [
       "Syncing run <strong><a href='https://wandb.ai/adishalit1-tel-aviv-university/KD_optuna_ex5_deberta/runs/kefc9tan' target=\"_blank\">trial_6</a></strong> to <a href='https://wandb.ai/adishalit1-tel-aviv-university/KD_optuna_ex5_deberta' target=\"_blank\">Weights & Biases</a> (<a href='https://wandb.me/developer-guide' target=\"_blank\">docs</a>)<br>"
      ],
      "text/plain": [
       "<IPython.core.display.HTML object>"
      ]
     },
     "metadata": {},
     "output_type": "display_data"
    },
    {
     "data": {
      "text/html": [
       " View project at <a href='https://wandb.ai/adishalit1-tel-aviv-university/KD_optuna_ex5_deberta' target=\"_blank\">https://wandb.ai/adishalit1-tel-aviv-university/KD_optuna_ex5_deberta</a>"
      ],
      "text/plain": [
       "<IPython.core.display.HTML object>"
      ]
     },
     "metadata": {},
     "output_type": "display_data"
    },
    {
     "data": {
      "text/html": [
       " View run at <a href='https://wandb.ai/adishalit1-tel-aviv-university/KD_optuna_ex5_deberta/runs/kefc9tan' target=\"_blank\">https://wandb.ai/adishalit1-tel-aviv-university/KD_optuna_ex5_deberta/runs/kefc9tan</a>"
      ],
      "text/plain": [
       "<IPython.core.display.HTML object>"
      ]
     },
     "metadata": {},
     "output_type": "display_data"
    },
    {
     "name": "stderr",
     "output_type": "stream",
     "text": [
      "Some weights of DebertaV2ForSequenceClassification were not initialized from the model checkpoint at microsoft/deberta-v3-small and are newly initialized: ['classifier.bias', 'classifier.weight', 'pooler.dense.bias', 'pooler.dense.weight']\n",
      "You should probably TRAIN this model on a down-stream task to be able to use it for predictions and inference.\n",
      "C:\\Users\\adishalit1\\AppData\\Local\\Temp\\ipykernel_13184\\1339524134.py:221: FutureWarning: `torch.cuda.amp.GradScaler(args...)` is deprecated. Please use `torch.amp.GradScaler('cuda', args...)` instead.\n",
      "  scaler = torch.cuda.amp.GradScaler(enabled=(DEVICE==\"cuda\" and use_amp))\n"
     ]
    },
    {
     "name": "stdout",
     "output_type": "stream",
     "text": [
      "✅ Student (deberta-v3-small) initialized with correct num_labels\n",
      "   🔓 Unfroze student layer 3 / 6\n",
      "   🔓 Unfroze student layer 4 / 6\n",
      "   🔓 Unfroze student layer 5 / 6\n",
      "   🔓 Unfroze student layer 6 / 6\n",
      "✅ Unfroze last 4 layers + classifier\n",
      "\n",
      "▶️ Epoch 1/6\n"
     ]
    },
    {
     "name": "stderr",
     "output_type": "stream",
     "text": [
      "Trial 6 Epoch 1:   0%|                                                                        | 0/5145 [00:00<?, ?it/s]C:\\Users\\adishalit1\\AppData\\Local\\Temp\\ipykernel_13184\\1339524134.py:241: FutureWarning: `torch.cuda.amp.autocast(args...)` is deprecated. Please use `torch.amp.autocast('cuda', args...)` instead.\n",
      "  with torch.cuda.amp.autocast(enabled=(DEVICE==\"cuda\" and use_amp)):\n",
      "                                                                                                                       \r"
     ]
    },
    {
     "name": "stdout",
     "output_type": "stream",
     "text": [
      "📊 Epoch 1 done. Val Macro-F1=0.5006, Acc=0.4758\n",
      "   ✅ New best F1\n",
      "\n",
      "▶️ Epoch 2/6\n"
     ]
    },
    {
     "name": "stderr",
     "output_type": "stream",
     "text": [
      "Trial 6 Epoch 2:   0%|                                                                        | 0/5145 [00:00<?, ?it/s]C:\\Users\\adishalit1\\AppData\\Local\\Temp\\ipykernel_13184\\1339524134.py:241: FutureWarning: `torch.cuda.amp.autocast(args...)` is deprecated. Please use `torch.amp.autocast('cuda', args...)` instead.\n",
      "  with torch.cuda.amp.autocast(enabled=(DEVICE==\"cuda\" and use_amp)):\n",
      "                                                                                                                       \r"
     ]
    },
    {
     "name": "stdout",
     "output_type": "stream",
     "text": [
      "📊 Epoch 2 done. Val Macro-F1=0.6136, Acc=0.5866\n",
      "   ✅ New best F1\n",
      "\n",
      "▶️ Epoch 3/6\n"
     ]
    },
    {
     "name": "stderr",
     "output_type": "stream",
     "text": [
      "Trial 6 Epoch 3:   0%|                                                                        | 0/5145 [00:00<?, ?it/s]C:\\Users\\adishalit1\\AppData\\Local\\Temp\\ipykernel_13184\\1339524134.py:241: FutureWarning: `torch.cuda.amp.autocast(args...)` is deprecated. Please use `torch.amp.autocast('cuda', args...)` instead.\n",
      "  with torch.cuda.amp.autocast(enabled=(DEVICE==\"cuda\" and use_amp)):\n",
      "Trial 6 Epoch 3:   2%|8                                                  | 90/5145 [00:09<08:30,  9.90it/s, loss=0.727]"
     ]
    }
   ],
   "source": [
    "# # === KD (DeBERTa v3) with Optuna + Early Stopping ===\n",
    "# # Windows/Colab-safe, W&B robust, no dataloader hangs.\n",
    "# # Teacher: microsoft/mdeberta-v3-base  (load your EX4 .pt)\n",
    "# # Student: microsoft/deberta-v3-small\n",
    "# # Data: Corona_NLP_*_cleaned_translated.csv\n",
    "# # EPOCHS FIXED = 6 ; optional prune if epoch-1 val macro-F1 < 0.30\n",
    "# # ================================================================\n",
    "\n",
    "# import os, json, time, warnings, random, math, multiprocessing as mp\n",
    "# os.environ.setdefault(\"TOKENIZERS_PARALLELISM\", \"false\")  # avoid deadlocks\n",
    "# os.environ.setdefault(\"WANDB__SERVICE_WAIT\", \"300\")       # give W&B time to init\n",
    "\n",
    "# import numpy as np\n",
    "# import pandas as pd\n",
    "# import torch, optuna, wandb\n",
    "# from torch.utils.data import DataLoader, Dataset\n",
    "# from transformers import AutoTokenizer, AutoModelForSequenceClassification, get_scheduler\n",
    "# from sklearn.metrics import accuracy_score, f1_score\n",
    "# from tqdm import tqdm\n",
    "\n",
    "# # -------------------------\n",
    "# # Repro & Torch backend\n",
    "# # -------------------------\n",
    "# def set_seed(seed=42):\n",
    "#     random.seed(seed); np.random.seed(seed); torch.manual_seed(seed)\n",
    "#     torch.cuda.manual_seed_all(seed)\n",
    "# set_seed(42)\n",
    "\n",
    "# torch.backends.cudnn.benchmark = True  # ok for training speed\n",
    "# # If you still see instability, uncomment the next line\n",
    "# # torch.backends.cudnn.deterministic = True\n",
    "\n",
    "# DEVICE = \"cuda\" if torch.cuda.is_available() else \"cpu\"\n",
    "# print(f\"✅ Using device: {DEVICE}\")\n",
    "\n",
    "# OUT_DIR = \"./KD_optuna_ex5_deberta_UPDATE\"\n",
    "# os.makedirs(OUT_DIR, exist_ok=True)\n",
    "\n",
    "# # ---- Teacher (EX4) ----\n",
    "# TEACHER_NAME    = \"microsoft/mdeberta-v3-base\"\n",
    "# # ⛔ UPDATE THIS PATH TO YOUR TRAINED TEACHER CHECKPOINT\n",
    "# TEACHER_PT_PATH = r\"hf_ckpts\\microsoft__mdeberta-v3-base_ex5_trainer-try__final_20250817_104013\\best_model_ex5.pt\"\n",
    "\n",
    "# # ---- Student ----\n",
    "# STUDENT_NAME = \"microsoft/deberta-v3-small\"\n",
    "\n",
    "# # -------------------------\n",
    "# # Label normalization + fixed order (matches EX5)\n",
    "# # -------------------------\n",
    "# ORDER = [\"extremely negative\",\"negative\",\"neutral\",\"positive\",\"extremely positive\"]\n",
    "# LABEL2ID = {lab: i for i, lab in enumerate(ORDER)}\n",
    "# ID2LABEL = {i: lab for lab, i in LABEL2ID.items()}\n",
    "# print(f\"✅ Label mapping: {LABEL2ID}\")\n",
    "\n",
    "# def normalize_label(s: str) -> str:\n",
    "#     s = str(s).strip().lower()\n",
    "#     s = s.replace(\"very negative\", \"extremely negative\")\n",
    "#     s = s.replace(\"very positive\", \"extremely positive\")\n",
    "#     s = s.replace(\"extreme negative\", \"extremely negative\")\n",
    "#     s = s.replace(\"extreme positive\", \"extremely positive\")\n",
    "#     return s\n",
    "\n",
    "# # -------------------------\n",
    "# # Load data\n",
    "# # -------------------------\n",
    "# train_df = pd.read_csv(\"Corona_NLP_train_cleaned_translated.csv\")\n",
    "# test_df  = pd.read_csv(\"Corona_NLP_test_cleaned_translated.csv\")\n",
    "\n",
    "# for df in (train_df, test_df):\n",
    "#     df[\"OriginalTweet\"] = df[\"OriginalTweet\"].astype(str).str.strip()\n",
    "#     df[\"Sentiment\"] = df[\"Sentiment\"].map(normalize_label)\n",
    "#     df[\"label\"] = df[\"Sentiment\"].map(LABEL2ID)\n",
    "\n",
    "# assert train_df[\"label\"].isnull().sum() == 0, \"❌ Unmapped train labels!\"\n",
    "# assert test_df[\"label\"].isnull().sum() == 0, \"❌ Unmapped test labels!\"\n",
    "\n",
    "# # -------------------------\n",
    "# # Dataset (tokenize once with student's tokenizer)\n",
    "# # -------------------------\n",
    "# tok = AutoTokenizer.from_pretrained(STUDENT_NAME, use_fast=True)\n",
    "# print(\"✅ Tokenizer loaded (student)\")\n",
    "\n",
    "# class TextDataset(Dataset):\n",
    "#     def __init__(self, df, tok, max_len=512):\n",
    "#         self.texts = df[\"OriginalTweet\"].tolist()\n",
    "#         self.labels = df[\"label\"].tolist()\n",
    "#         self.tok = tok\n",
    "#         self.max_len = max_len\n",
    "#     def __len__(self): return len(self.texts)\n",
    "#     def __getitem__(self, idx):\n",
    "#         enc = self.tok(\n",
    "#             str(self.texts[idx]),\n",
    "#             truncation=True, padding=\"max_length\",\n",
    "#             max_length=self.max_len, return_tensors=\"pt\"\n",
    "#         )\n",
    "#         item = {k: v.squeeze(0) for k, v in enc.items()}\n",
    "#         item[\"labels\"] = torch.tensor(self.labels[idx], dtype=torch.long)\n",
    "#         return item\n",
    "\n",
    "# # ⚠️ Windows/Jupyter-safe DataLoader settings\n",
    "# pin_mem = (DEVICE == \"cuda\")\n",
    "# NUM_WORKERS = 0  # <- key fix: avoid multiprocessing workers that can hang on Windows/Jupyter\n",
    "# PERSISTENT = False\n",
    "\n",
    "# train_ds, test_ds = TextDataset(train_df, tok), TextDataset(test_df, tok)\n",
    "# train_loader = DataLoader(train_ds, batch_size=8, shuffle=True, pin_memory=pin_mem,\n",
    "#                           num_workers=NUM_WORKERS, persistent_workers=PERSISTENT)\n",
    "# test_loader  = DataLoader(test_ds,  batch_size=8, shuffle=False, pin_memory=pin_mem,\n",
    "#                           num_workers=NUM_WORKERS, persistent_workers=PERSISTENT)\n",
    "# print(f\"✅ DataLoaders ready: train={len(train_loader)}, test={len(test_loader)}\")\n",
    "\n",
    "# # -------------------------\n",
    "# # Teacher (frozen) — correct arch + label map\n",
    "# # -------------------------\n",
    "# teacher = AutoModelForSequenceClassification.from_pretrained(\n",
    "#     TEACHER_NAME, num_labels=len(LABEL2ID), id2label=ID2LABEL, label2id=LABEL2ID\n",
    "# )\n",
    "# sd = torch.load(TEACHER_PT_PATH, map_location=\"cpu\")\n",
    "# try:\n",
    "#     teacher.load_state_dict(sd, strict=True)\n",
    "# except RuntimeError as e:\n",
    "#     warnings.warn(f\"[Teacher] strict=True failed: {e}\\nRetrying with strict=False\")\n",
    "#     teacher.load_state_dict(sd, strict=False)\n",
    "# teacher.to(DEVICE).eval()\n",
    "# for p in teacher.parameters(): p.requires_grad = False\n",
    "# print(\"✅ Teacher loaded & frozen with correct label mapping\")\n",
    "\n",
    "# # -------------------------\n",
    "# # KD loss\n",
    "# # -------------------------\n",
    "# def kd_loss_fn(student_logits, teacher_logits, labels, alpha=0.5, T=2.0):\n",
    "#     ce = torch.nn.functional.cross_entropy(student_logits, labels)\n",
    "#     kd = torch.nn.functional.kl_div(\n",
    "#         torch.nn.functional.log_softmax(student_logits/T, dim=-1),\n",
    "#         torch.nn.functional.softmax(teacher_logits/T, dim=-1),\n",
    "#         reduction=\"batchmean\"\n",
    "#     ) * (T*T)\n",
    "#     return alpha * ce + (1 - alpha) * kd\n",
    "\n",
    "# # -------------------------\n",
    "# # Helpers: model size + latency\n",
    "# # -------------------------\n",
    "# def get_model_size(model):\n",
    "#     tmp_path = os.path.join(OUT_DIR, \"temp_model.pt\")\n",
    "#     torch.save(model.state_dict(), tmp_path)\n",
    "#     size_mb = os.path.getsize(tmp_path) / (1024*1024)\n",
    "#     try: os.remove(tmp_path)\n",
    "#     except Exception: pass\n",
    "#     return size_mb\n",
    "\n",
    "# @torch.no_grad()\n",
    "# def get_latency(model, loader, n_batches=20):\n",
    "#     model.eval()\n",
    "#     times = []\n",
    "#     it = 0\n",
    "#     for i, batch in enumerate(loader):\n",
    "#         if i >= n_batches: break\n",
    "#         batch = {k: v.to(DEVICE, non_blocking=True) for k, v in batch.items()}\n",
    "#         if torch.cuda.is_available(): torch.cuda.synchronize()\n",
    "#         t0 = time.perf_counter()\n",
    "#         _ = model(input_ids=batch[\"input_ids\"], attention_mask=batch[\"attention_mask\"])\n",
    "#         if torch.cuda.is_available(): torch.cuda.synchronize()\n",
    "#         dt = (time.perf_counter() - t0) / batch[\"input_ids\"].size(0)\n",
    "#         times.append(dt); it += 1\n",
    "#     return (np.mean(times) * 1000.0) if times else None  # ms/sample\n",
    "\n",
    "# # -------------------------\n",
    "# # Optuna Objective\n",
    "# # -------------------------\n",
    "# FIXED_EPOCHS = 6\n",
    "# EARLY_TRIAL_CUTOFF = 0.30  # macro-F1 threshold after first epoch\n",
    "\n",
    "# def objective(trial):\n",
    "#     alpha = trial.suggest_float(\"alpha\", 0.2, 0.8)\n",
    "#     T = trial.suggest_float(\"T\", 1.0, 5.0)\n",
    "#     fine_tune_layers = trial.suggest_int(\"fine_tune_layers\", 3, 6)\n",
    "#     lr = trial.suggest_float(\"learning_rate\", 1e-6, 1e-3, log=True)\n",
    "#     use_amp = trial.suggest_categorical(\"use_amp\", [True, False])\n",
    "#     max_grad_norm = 1.0\n",
    "\n",
    "#     print(f\"\\n🔎 Trial {trial.number} | alpha={alpha:.3f}, T={T:.2f}, epochs={FIXED_EPOCHS}, \"\n",
    "#           f\"fine_tune_layers={fine_tune_layers}, lr={lr:.2e}, amp={use_amp}\")\n",
    "\n",
    "#     # Robust W&B init; auto-falls back to offline if no login\n",
    "#     run = wandb.init(\n",
    "#         project=\"KD_optuna_ex5_deberta\",\n",
    "#         name=f\"trial_{trial.number}\",\n",
    "#         reinit=True,\n",
    "#         settings=wandb.Settings(start_method=\"thread\"),\n",
    "#         config={\"alpha\": alpha, \"T\": T, \"epochs\": FIXED_EPOCHS,\n",
    "#                 \"fine_tune_layers\": fine_tune_layers, \"lr\": lr, \"use_amp\": use_amp},\n",
    "#         mode=os.environ.get(\"WANDB_MODE\", \"online\"),\n",
    "#     )\n",
    "\n",
    "#     try:\n",
    "#         # --- Student: DeBERTa-v3-small ---\n",
    "#         student = AutoModelForSequenceClassification.from_pretrained(\n",
    "#             STUDENT_NAME,\n",
    "#             num_labels=len(LABEL2ID),\n",
    "#             id2label=ID2LABEL, label2id=LABEL2ID\n",
    "#         ).to(DEVICE)\n",
    "#         print(\"✅ Student (deberta-v3-small) initialized with correct num_labels\")\n",
    "\n",
    "#         # Freeze all, unfreeze last `fine_tune_layers` of encoder + classifier\n",
    "#         for p in student.parameters(): p.requires_grad = False\n",
    "#         enc_layers = student.deberta.encoder.layer\n",
    "#         n_layers = len(enc_layers)\n",
    "#         k = min(fine_tune_layers, n_layers)\n",
    "#         for i, layer in enumerate(enc_layers[-k:], 1):\n",
    "#             for p in layer.parameters(): p.requires_grad = True\n",
    "#             print(f\"   🔓 Unfroze student layer {n_layers - k + i} / {n_layers}\")\n",
    "#         if hasattr(student, \"classifier\"):\n",
    "#             for p in student.classifier.parameters(): p.requires_grad = True\n",
    "#         print(f\"✅ Unfroze last {k} layers + classifier\")\n",
    "\n",
    "#         # Optimizer + scheduler\n",
    "#         optim = torch.optim.AdamW(filter(lambda p: p.requires_grad, student.parameters()), lr=lr)\n",
    "#         sched = get_scheduler(\"linear\", optim, num_warmup_steps=0,\n",
    "#                               num_training_steps=len(train_loader) * FIXED_EPOCHS)\n",
    "\n",
    "#         scaler = torch.cuda.amp.GradScaler(enabled=(DEVICE==\"cuda\" and use_amp))\n",
    "\n",
    "#         best_val_f1 = -1.0\n",
    "#         patience = 3\n",
    "#         patience_counter = 0\n",
    "#         best_model_state = None\n",
    "\n",
    "#         for epoch in range(FIXED_EPOCHS):\n",
    "#             print(f\"\\n▶️ Epoch {epoch+1}/{FIXED_EPOCHS}\")\n",
    "#             student.train()\n",
    "#             loop = tqdm(train_loader, desc=f\"Trial {trial.number} Epoch {epoch+1}\",\n",
    "#                         ascii=True, leave=False)\n",
    "\n",
    "#             for step, batch in enumerate(loop):\n",
    "#                 batch = {k: v.to(DEVICE, non_blocking=True) for k, v in batch.items()}\n",
    "\n",
    "#                 with torch.no_grad():\n",
    "#                     t_out = teacher(input_ids=batch[\"input_ids\"], attention_mask=batch[\"attention_mask\"])\n",
    "\n",
    "#                 optim.zero_grad(set_to_none=True)\n",
    "#                 with torch.cuda.amp.autocast(enabled=(DEVICE==\"cuda\" and use_amp)):\n",
    "#                     s_out = student(input_ids=batch[\"input_ids\"], attention_mask=batch[\"attention_mask\"])\n",
    "#                     loss = kd_loss_fn(s_out.logits, t_out.logits, batch[\"labels\"], alpha=alpha, T=T)\n",
    "\n",
    "#                 scaler.scale(loss).backward()\n",
    "#                 # gradient clipping\n",
    "#                 scaler.unscale_(optim)\n",
    "#                 torch.nn.utils.clip_grad_norm_(student.parameters(), max_grad_norm)\n",
    "\n",
    "#                 scaler.step(optim)\n",
    "#                 scaler.update()\n",
    "#                 sched.step()\n",
    "\n",
    "#                 loop.set_postfix(loss=float(loss))\n",
    "#                 if step % 50 == 0:\n",
    "#                     wandb.log({\"train_loss\": float(loss), \"epoch\": epoch+1, \"step\": step})\n",
    "\n",
    "#             # === Validation ===\n",
    "#             student.eval()\n",
    "#             all_preds, all_labels = [], []\n",
    "#             with torch.no_grad():\n",
    "#                 for batch in test_loader:\n",
    "#                     batch = {k: v.to(DEVICE, non_blocking=True) for k, v in batch.items()}\n",
    "#                     out = student(input_ids=batch[\"input_ids\"], attention_mask=batch[\"attention_mask\"])\n",
    "#                     preds = out.logits.argmax(dim=-1).cpu().numpy()\n",
    "#                     all_preds.extend(preds)\n",
    "#                     all_labels.extend(batch[\"labels\"].cpu().numpy())\n",
    "\n",
    "#             macro_f1 = f1_score(all_labels, all_preds, average=\"macro\")\n",
    "#             acc = accuracy_score(all_labels, all_preds)\n",
    "#             print(f\"📊 Epoch {epoch+1} done. Val Macro-F1={macro_f1:.4f}, Acc={acc:.4f}\")\n",
    "\n",
    "#             # log per-class F1\n",
    "#             per_class = f1_score(all_labels, all_preds, average=None,\n",
    "#                                  labels=list(range(len(LABEL2ID))))\n",
    "#             log_dict = {\"epoch\": epoch+1, \"val_macro_f1\": macro_f1, \"val_acc\": acc}\n",
    "#             for i in range(len(ID2LABEL)):\n",
    "#                 log_dict[f\"F1_{ID2LABEL[i]}\"] = float(per_class[i])\n",
    "#             wandb.log(log_dict)\n",
    "\n",
    "#             # Optional: prune whole trial if epoch-1 macro-F1 is poor\n",
    "#             if epoch == 0 and macro_f1 < EARLY_TRIAL_CUTOFF:\n",
    "#                 print(f\"🛑 Pruning trial {trial.number}: epoch-1 macro-F1 {macro_f1:.4f} < {EARLY_TRIAL_CUTOFF}\")\n",
    "#                 raise optuna.TrialPruned(f\"Epoch1 macro-F1 {macro_f1:.4f} < {EARLY_TRIAL_CUTOFF}\")\n",
    "\n",
    "#             # Standard early stopping after epoch 1\n",
    "#             if macro_f1 > best_val_f1:\n",
    "#                 best_val_f1 = macro_f1\n",
    "#                 patience_counter = 0\n",
    "#                 best_model_state = {k: v.cpu() for k, v in student.state_dict().items()}\n",
    "#                 print(\"   ✅ New best F1\")\n",
    "#             else:\n",
    "#                 patience_counter += 1\n",
    "#                 print(f\"   ⚠️ No improvement. Patience counter={patience_counter}\")\n",
    "#                 if patience_counter >= patience:\n",
    "#                     print(f\"⏹️ Early stopping at epoch {epoch+1}\")\n",
    "#                     break\n",
    "\n",
    "#         assert best_model_state is not None, \"No best model captured; something went wrong.\"\n",
    "#         student.load_state_dict(best_model_state)\n",
    "#         student.to(DEVICE)\n",
    "\n",
    "#         # === Size & Latency Measurement (student) ===\n",
    "#         model_size = get_model_size(student)\n",
    "#         latency = get_latency(student, test_loader, n_batches=20)\n",
    "#         print(f\"📦 Model size: {model_size:.2f} MB | ⏱️ Latency: {latency:.2f} ms/sample\")\n",
    "\n",
    "#         # Save best student for this trial\n",
    "#         trial_model_path = os.path.join(OUT_DIR, f\"best_student_trial_{trial.number}.pt\")\n",
    "#         torch.save(student.state_dict(), trial_model_path)\n",
    "#         print(f\"💾 Saved best student weights: {trial_model_path}\")\n",
    "\n",
    "#         wandb.log({\"model_size_mb\": float(model_size), \"latency_ms\": float(latency)})\n",
    "#         trial.set_user_attr(\"macro_f1\", float(best_val_f1))\n",
    "#         trial.set_user_attr(\"model_size_mb\", float(model_size))\n",
    "#         trial.set_user_attr(\"latency_ms\", float(latency))\n",
    "#         trial.set_user_attr(\"model_path\", trial_model_path)\n",
    "#         return best_val_f1\n",
    "\n",
    "#     finally:\n",
    "#         # Always close the run, even if pruned/errored\n",
    "#         try: wandb.finish()\n",
    "#         except Exception: pass\n",
    "\n",
    "# # -------------------------\n",
    "# # Main entry (Windows-safe)\n",
    "# # -------------------------\n",
    "# def main():\n",
    "#     print(\"🚀 Starting Optuna\")\n",
    "#     study = optuna.create_study(direction=\"maximize\")\n",
    "#     try:\n",
    "#         study.optimize(objective, n_trials=10, show_progress_bar=False)\n",
    "#     except KeyboardInterrupt:\n",
    "#         print(\"⏹️ Interrupted by user. Summarizing…\")\n",
    "\n",
    "#     print(\"✅ Study complete\")\n",
    "#     print(\"Best trial:\", study.best_trial.number)\n",
    "#     print(\"  Macro-F1:\", study.best_value)\n",
    "#     print(\"  Params:\", study.best_trial.params)\n",
    "\n",
    "#     # -------------------------\n",
    "#     # Save best results (incl size & latency)\n",
    "#     # -------------------------\n",
    "#     best_path = os.path.join(OUT_DIR, \"best_study.json\")\n",
    "#     with open(best_path, \"w\") as f:\n",
    "#         json.dump({\n",
    "#             \"trial\": study.best_trial.number,\n",
    "#             \"macro_f1\": study.best_value,\n",
    "#             \"params\": study.best_trial.params,\n",
    "#             \"model_size_mb\": study.best_trial.user_attrs.get(\"model_size_mb\", None),\n",
    "#             \"latency_ms\": study.best_trial.user_attrs.get(\"latency_ms\", None),\n",
    "#             \"model_path\": study.best_trial.user_attrs.get(\"model_path\", None),\n",
    "#         }, f, indent=2)\n",
    "#     print(\"✅ Best trial saved:\", best_path)\n",
    "\n",
    "# if __name__ == \"__main__\":\n",
    "#     mp.freeze_support()  # <- crucial for Windows\n",
    "#     main()\n"
   ]
  },
  {
   "cell_type": "markdown",
   "id": "2781a49b-152f-4f5a-956f-c55acf48729a",
   "metadata": {},
   "source": [
    "# Training"
   ]
  },
  {
   "cell_type": "code",
   "execution_count": null,
   "id": "2d28bb6d-d256-4fe8-9f6c-5ad88722147a",
   "metadata": {},
   "outputs": [
    {
     "name": "stdout",
     "output_type": "stream",
     "text": [
      "✅ Using device: cuda\n",
      "✅ Label mapping: {'extremely negative': 0, 'negative': 1, 'neutral': 2, 'positive': 3, 'extremely positive': 4}\n"
     ]
    },
    {
     "name": "stderr",
     "output_type": "stream",
     "text": [
      "C:\\Users\\adishalit1\\AppData\\Local\\anaconda3\\envs\\dl4090\\Lib\\site-packages\\transformers\\convert_slow_tokenizer.py:564: UserWarning: The sentencepiece tokenizer that you are converting to a fast tokenizer uses the byte fallback option which is not implemented in the fast tokenizers. In practice this means that the fast version of the tokenizer can produce unknown tokens whereas the sentencepiece version would have converted these unknown tokens into a sequence of byte tokens matching the original piece of text.\n",
      "  warnings.warn(\n"
     ]
    },
    {
     "name": "stdout",
     "output_type": "stream",
     "text": [
      "✅ Tokenizer loaded (student)\n",
      "✅ DataLoaders ready: train=5145, test=475\n"
     ]
    },
    {
     "name": "stderr",
     "output_type": "stream",
     "text": [
      "Some weights of DebertaV2ForSequenceClassification were not initialized from the model checkpoint at microsoft/mdeberta-v3-base and are newly initialized: ['classifier.bias', 'classifier.weight', 'pooler.dense.bias', 'pooler.dense.weight']\n",
      "You should probably TRAIN this model on a down-stream task to be able to use it for predictions and inference.\n",
      "[I 2025-08-21 02:51:00,167] A new study created in memory with name: no-name-2fe1c1ff-2d49-46f5-9c03-3391a95511ca\n",
      "\u001b[34m\u001b[1mwandb\u001b[0m: \u001b[33mWARNING\u001b[0m `start_method` is deprecated and will be removed in a future version of wandb. This setting is currently non-functional and safely ignored.\n",
      "\u001b[34m\u001b[1mwandb\u001b[0m: \u001b[32m\u001b[41mERROR\u001b[0m Failed to detect the name of this notebook. You can set it manually with the WANDB_NOTEBOOK_NAME environment variable to enable code saving.\n"
     ]
    },
    {
     "name": "stdout",
     "output_type": "stream",
     "text": [
      "✅ Teacher loaded & frozen with correct label mapping\n",
      "🚀 Starting Optuna\n",
      "\n",
      "🔎 Trial 0 | alpha=0.665, T=2.07, epochs=4, fine_tune_layers=3, lr=3.11e-06, amp=False\n"
     ]
    },
    {
     "name": "stderr",
     "output_type": "stream",
     "text": [
      "\u001b[34m\u001b[1mwandb\u001b[0m: Currently logged in as: \u001b[33madishalit1\u001b[0m (\u001b[33madishalit1-tel-aviv-university\u001b[0m) to \u001b[32mhttps://api.wandb.ai\u001b[0m. Use \u001b[1m`wandb login --relogin`\u001b[0m to force relogin\n",
      "\u001b[34m\u001b[1mwandb\u001b[0m: \u001b[33mWARNING\u001b[0m Using a boolean value for 'reinit' is deprecated. Use 'return_previous' or 'finish_previous' instead.\n"
     ]
    },
    {
     "data": {
      "text/html": [
       "creating run (0.0s)"
      ],
      "text/plain": [
       "<IPython.core.display.HTML object>"
      ]
     },
     "metadata": {},
     "output_type": "display_data"
    },
    {
     "data": {
      "text/html": [
       "Tracking run with wandb version 0.21.1"
      ],
      "text/plain": [
       "<IPython.core.display.HTML object>"
      ]
     },
     "metadata": {},
     "output_type": "display_data"
    },
    {
     "data": {
      "text/html": [
       "Run data is saved locally in <code>C:\\Users\\adishalit1\\Desktop\\Adi\\ADL\\DL_2_Project\\wandb\\run-20250821_025100-o7rw2tru</code>"
      ],
      "text/plain": [
       "<IPython.core.display.HTML object>"
      ]
     },
     "metadata": {},
     "output_type": "display_data"
    },
    {
     "data": {
      "text/html": [
       "Syncing run <strong><a href='https://wandb.ai/adishalit1-tel-aviv-university/KD_optuna_ex5_deberta/runs/o7rw2tru' target=\"_blank\">trial_0</a></strong> to <a href='https://wandb.ai/adishalit1-tel-aviv-university/KD_optuna_ex5_deberta' target=\"_blank\">Weights & Biases</a> (<a href='https://wandb.me/developer-guide' target=\"_blank\">docs</a>)<br>"
      ],
      "text/plain": [
       "<IPython.core.display.HTML object>"
      ]
     },
     "metadata": {},
     "output_type": "display_data"
    },
    {
     "data": {
      "text/html": [
       " View project at <a href='https://wandb.ai/adishalit1-tel-aviv-university/KD_optuna_ex5_deberta' target=\"_blank\">https://wandb.ai/adishalit1-tel-aviv-university/KD_optuna_ex5_deberta</a>"
      ],
      "text/plain": [
       "<IPython.core.display.HTML object>"
      ]
     },
     "metadata": {},
     "output_type": "display_data"
    },
    {
     "data": {
      "text/html": [
       " View run at <a href='https://wandb.ai/adishalit1-tel-aviv-university/KD_optuna_ex5_deberta/runs/o7rw2tru' target=\"_blank\">https://wandb.ai/adishalit1-tel-aviv-university/KD_optuna_ex5_deberta/runs/o7rw2tru</a>"
      ],
      "text/plain": [
       "<IPython.core.display.HTML object>"
      ]
     },
     "metadata": {},
     "output_type": "display_data"
    },
    {
     "name": "stderr",
     "output_type": "stream",
     "text": [
      "Some weights of DebertaV2ForSequenceClassification were not initialized from the model checkpoint at microsoft/deberta-v3-small and are newly initialized: ['classifier.bias', 'classifier.weight', 'pooler.dense.bias', 'pooler.dense.weight']\n",
      "You should probably TRAIN this model on a down-stream task to be able to use it for predictions and inference.\n",
      "C:\\Users\\adishalit1\\AppData\\Local\\Temp\\ipykernel_23892\\2641461158.py:221: FutureWarning: `torch.cuda.amp.GradScaler(args...)` is deprecated. Please use `torch.amp.GradScaler('cuda', args...)` instead.\n",
      "  scaler = torch.cuda.amp.GradScaler(enabled=(DEVICE==\"cuda\" and use_amp))\n"
     ]
    },
    {
     "name": "stdout",
     "output_type": "stream",
     "text": [
      "✅ Student (deberta-v3-small) initialized with correct num_labels\n",
      "   🔓 Unfroze student layer 4 / 6\n",
      "   🔓 Unfroze student layer 5 / 6\n",
      "   🔓 Unfroze student layer 6 / 6\n",
      "✅ Unfroze last 3 layers + classifier\n",
      "\n",
      "▶️ Epoch 1/4\n"
     ]
    },
    {
     "name": "stderr",
     "output_type": "stream",
     "text": [
      "Trial 0 Epoch 1:   0%|                                                                        | 0/5145 [00:00<?, ?it/s]C:\\Users\\adishalit1\\AppData\\Local\\Temp\\ipykernel_23892\\2641461158.py:241: FutureWarning: `torch.cuda.amp.autocast(args...)` is deprecated. Please use `torch.amp.autocast('cuda', args...)` instead.\n",
      "  with torch.cuda.amp.autocast(enabled=(DEVICE==\"cuda\" and use_amp)):\n",
      "\u001b[34m\u001b[1mwandb\u001b[0m: \u001b[32m\u001b[41mERROR\u001b[0m The nbformat package was not found. It is required to save notebook history.   \n"
     ]
    },
    {
     "name": "stdout",
     "output_type": "stream",
     "text": [
      "📊 Epoch 1 done. Val Macro-F1=0.2050, Acc=0.2370\n",
      "🛑 Pruning trial 0: epoch-1 macro-F1 0.2050 < 0.3\n"
     ]
    },
    {
     "data": {
      "text/html": [],
      "text/plain": [
       "<IPython.core.display.HTML object>"
      ]
     },
     "metadata": {},
     "output_type": "display_data"
    },
    {
     "data": {
      "text/html": [
       "<br>    <style><br>        .wandb-row {<br>            display: flex;<br>            flex-direction: row;<br>            flex-wrap: wrap;<br>            justify-content: flex-start;<br>            width: 100%;<br>        }<br>        .wandb-col {<br>            display: flex;<br>            flex-direction: column;<br>            flex-basis: 100%;<br>            flex: 1;<br>            padding: 10px;<br>        }<br>    </style><br><div class=\"wandb-row\"><div class=\"wandb-col\"><h3>Run history:</h3><br/><table class=\"wandb\"><tr><td>F1_extremely negative</td><td>▁</td></tr><tr><td>F1_extremely positive</td><td>▁</td></tr><tr><td>F1_negative</td><td>▁</td></tr><tr><td>F1_neutral</td><td>▁</td></tr><tr><td>F1_positive</td><td>▁</td></tr><tr><td>epoch</td><td>▁▁▁▁▁▁▁▁▁▁▁▁▁▁▁▁▁▁▁▁▁▁▁▁▁▁▁▁▁▁▁▁▁▁▁▁▁▁▁▁</td></tr><tr><td>step</td><td>▁▁▁▁▁▁▂▂▂▂▃▃▃▃▃▃▃▄▄▄▄▄▅▅▅▅▅▅▆▆▇▇▇▇▇▇████</td></tr><tr><td>train_loss</td><td>▅▄▅▅█▃▅▄▅▂▃▅▄▄▅▃▇▃▄▅▁▄▁▂▃▃▂▄▃▅▄▂▃▄▄▅▃▅▄▃</td></tr><tr><td>val_acc</td><td>▁</td></tr><tr><td>val_macro_f1</td><td>▁</td></tr></table><br/></div><div class=\"wandb-col\"><h3>Run summary:</h3><br/><table class=\"wandb\"><tr><td>F1_extremely negative</td><td>0.29894</td></tr><tr><td>F1_extremely positive</td><td>0.42182</td></tr><tr><td>F1_negative</td><td>0</td></tr><tr><td>F1_neutral</td><td>0.30444</td></tr><tr><td>F1_positive</td><td>0</td></tr><tr><td>epoch</td><td>1</td></tr><tr><td>step</td><td>5100</td></tr><tr><td>train_loss</td><td>1.4865</td></tr><tr><td>val_acc</td><td>0.23697</td></tr><tr><td>val_macro_f1</td><td>0.20504</td></tr></table><br/></div></div>"
      ],
      "text/plain": [
       "<IPython.core.display.HTML object>"
      ]
     },
     "metadata": {},
     "output_type": "display_data"
    },
    {
     "data": {
      "text/html": [
       " View run <strong style=\"color:#cdcd00\">trial_0</strong> at: <a href='https://wandb.ai/adishalit1-tel-aviv-university/KD_optuna_ex5_deberta/runs/o7rw2tru' target=\"_blank\">https://wandb.ai/adishalit1-tel-aviv-university/KD_optuna_ex5_deberta/runs/o7rw2tru</a><br> View project at: <a href='https://wandb.ai/adishalit1-tel-aviv-university/KD_optuna_ex5_deberta' target=\"_blank\">https://wandb.ai/adishalit1-tel-aviv-university/KD_optuna_ex5_deberta</a><br>Synced 5 W&B file(s), 0 media file(s), 0 artifact file(s) and 0 other file(s)"
      ],
      "text/plain": [
       "<IPython.core.display.HTML object>"
      ]
     },
     "metadata": {},
     "output_type": "display_data"
    },
    {
     "data": {
      "text/html": [
       "Find logs at: <code>.\\wandb\\run-20250821_025100-o7rw2tru\\logs</code>"
      ],
      "text/plain": [
       "<IPython.core.display.HTML object>"
      ]
     },
     "metadata": {},
     "output_type": "display_data"
    },
    {
     "name": "stderr",
     "output_type": "stream",
     "text": [
      "[I 2025-08-21 03:03:24,238] Trial 0 pruned. Epoch1 macro-F1 0.2050 < 0.3\n"
     ]
    },
    {
     "name": "stdout",
     "output_type": "stream",
     "text": [
      "\n",
      "🔎 Trial 1 | alpha=0.312, T=4.97, epochs=4, fine_tune_layers=6, lr=1.79e-05, amp=False\n"
     ]
    },
    {
     "data": {
      "text/html": [
       "Tracking run with wandb version 0.21.1"
      ],
      "text/plain": [
       "<IPython.core.display.HTML object>"
      ]
     },
     "metadata": {},
     "output_type": "display_data"
    },
    {
     "data": {
      "text/html": [
       "Run data is saved locally in <code>C:\\Users\\adishalit1\\Desktop\\Adi\\ADL\\DL_2_Project\\wandb\\run-20250821_030324-cdttzkyb</code>"
      ],
      "text/plain": [
       "<IPython.core.display.HTML object>"
      ]
     },
     "metadata": {},
     "output_type": "display_data"
    },
    {
     "data": {
      "text/html": [
       "Syncing run <strong><a href='https://wandb.ai/adishalit1-tel-aviv-university/KD_optuna_ex5_deberta/runs/cdttzkyb' target=\"_blank\">trial_1</a></strong> to <a href='https://wandb.ai/adishalit1-tel-aviv-university/KD_optuna_ex5_deberta' target=\"_blank\">Weights & Biases</a> (<a href='https://wandb.me/developer-guide' target=\"_blank\">docs</a>)<br>"
      ],
      "text/plain": [
       "<IPython.core.display.HTML object>"
      ]
     },
     "metadata": {},
     "output_type": "display_data"
    },
    {
     "data": {
      "text/html": [
       " View project at <a href='https://wandb.ai/adishalit1-tel-aviv-university/KD_optuna_ex5_deberta' target=\"_blank\">https://wandb.ai/adishalit1-tel-aviv-university/KD_optuna_ex5_deberta</a>"
      ],
      "text/plain": [
       "<IPython.core.display.HTML object>"
      ]
     },
     "metadata": {},
     "output_type": "display_data"
    },
    {
     "data": {
      "text/html": [
       " View run at <a href='https://wandb.ai/adishalit1-tel-aviv-university/KD_optuna_ex5_deberta/runs/cdttzkyb' target=\"_blank\">https://wandb.ai/adishalit1-tel-aviv-university/KD_optuna_ex5_deberta/runs/cdttzkyb</a>"
      ],
      "text/plain": [
       "<IPython.core.display.HTML object>"
      ]
     },
     "metadata": {},
     "output_type": "display_data"
    },
    {
     "name": "stderr",
     "output_type": "stream",
     "text": [
      "Some weights of DebertaV2ForSequenceClassification were not initialized from the model checkpoint at microsoft/deberta-v3-small and are newly initialized: ['classifier.bias', 'classifier.weight', 'pooler.dense.bias', 'pooler.dense.weight']\n",
      "You should probably TRAIN this model on a down-stream task to be able to use it for predictions and inference.\n",
      "C:\\Users\\adishalit1\\AppData\\Local\\Temp\\ipykernel_23892\\2641461158.py:221: FutureWarning: `torch.cuda.amp.GradScaler(args...)` is deprecated. Please use `torch.amp.GradScaler('cuda', args...)` instead.\n",
      "  scaler = torch.cuda.amp.GradScaler(enabled=(DEVICE==\"cuda\" and use_amp))\n"
     ]
    },
    {
     "name": "stdout",
     "output_type": "stream",
     "text": [
      "✅ Student (deberta-v3-small) initialized with correct num_labels\n",
      "   🔓 Unfroze student layer 1 / 6\n",
      "   🔓 Unfroze student layer 2 / 6\n",
      "   🔓 Unfroze student layer 3 / 6\n",
      "   🔓 Unfroze student layer 4 / 6\n",
      "   🔓 Unfroze student layer 5 / 6\n",
      "   🔓 Unfroze student layer 6 / 6\n",
      "✅ Unfroze last 6 layers + classifier\n",
      "\n",
      "▶️ Epoch 1/4\n"
     ]
    },
    {
     "name": "stderr",
     "output_type": "stream",
     "text": [
      "Trial 1 Epoch 1:   0%|                                                                        | 0/5145 [00:00<?, ?it/s]C:\\Users\\adishalit1\\AppData\\Local\\Temp\\ipykernel_23892\\2641461158.py:241: FutureWarning: `torch.cuda.amp.autocast(args...)` is deprecated. Please use `torch.amp.autocast('cuda', args...)` instead.\n",
      "  with torch.cuda.amp.autocast(enabled=(DEVICE==\"cuda\" and use_amp)):\n",
      "\u001b[34m\u001b[1mwandb\u001b[0m: \u001b[32m\u001b[41mERROR\u001b[0m The nbformat package was not found. It is required to save notebook history.   \n"
     ]
    },
    {
     "name": "stdout",
     "output_type": "stream",
     "text": [
      "📊 Epoch 1 done. Val Macro-F1=0.0561, Acc=0.1630\n",
      "🛑 Pruning trial 1: epoch-1 macro-F1 0.0561 < 0.3\n"
     ]
    },
    {
     "data": {
      "text/html": [],
      "text/plain": [
       "<IPython.core.display.HTML object>"
      ]
     },
     "metadata": {},
     "output_type": "display_data"
    },
    {
     "data": {
      "text/html": [
       "<br>    <style><br>        .wandb-row {<br>            display: flex;<br>            flex-direction: row;<br>            flex-wrap: wrap;<br>            justify-content: flex-start;<br>            width: 100%;<br>        }<br>        .wandb-col {<br>            display: flex;<br>            flex-direction: column;<br>            flex-basis: 100%;<br>            flex: 1;<br>            padding: 10px;<br>        }<br>    </style><br><div class=\"wandb-row\"><div class=\"wandb-col\"><h3>Run history:</h3><br/><table class=\"wandb\"><tr><td>F1_extremely negative</td><td>▁</td></tr><tr><td>F1_extremely positive</td><td>▁</td></tr><tr><td>F1_negative</td><td>▁</td></tr><tr><td>F1_neutral</td><td>▁</td></tr><tr><td>F1_positive</td><td>▁</td></tr><tr><td>epoch</td><td>▁▁▁▁▁▁▁▁▁▁▁▁▁▁▁▁▁▁▁▁▁▁▁▁▁▁▁▁▁▁▁▁▁▁▁▁▁▁▁▁</td></tr><tr><td>step</td><td>▁▁▁▂▂▂▂▂▂▂▂▂▂▃▃▃▃▃▄▄▄▄▄▅▅▆▆▆▆▆▆▆▆▇▇▇▇███</td></tr><tr><td>train_loss</td><td>█▃▃▁▂▃▂▄▂▆▂▃▂▂▂▃▃▃▂▂▄▃▂▄▂▃▄▃▃▂▃▄▄▂▃▃▃▂▂▂</td></tr><tr><td>val_acc</td><td>▁</td></tr><tr><td>val_macro_f1</td><td>▁</td></tr></table><br/></div><div class=\"wandb-col\"><h3>Run summary:</h3><br/><table class=\"wandb\"><tr><td>F1_extremely negative</td><td>0</td></tr><tr><td>F1_extremely positive</td><td>0</td></tr><tr><td>F1_negative</td><td>0</td></tr><tr><td>F1_neutral</td><td>0.28028</td></tr><tr><td>F1_positive</td><td>0</td></tr><tr><td>epoch</td><td>1</td></tr><tr><td>step</td><td>5100</td></tr><tr><td>train_loss</td><td>1.02513</td></tr><tr><td>val_acc</td><td>0.16298</td></tr><tr><td>val_macro_f1</td><td>0.05606</td></tr></table><br/></div></div>"
      ],
      "text/plain": [
       "<IPython.core.display.HTML object>"
      ]
     },
     "metadata": {},
     "output_type": "display_data"
    },
    {
     "data": {
      "text/html": [
       " View run <strong style=\"color:#cdcd00\">trial_1</strong> at: <a href='https://wandb.ai/adishalit1-tel-aviv-university/KD_optuna_ex5_deberta/runs/cdttzkyb' target=\"_blank\">https://wandb.ai/adishalit1-tel-aviv-university/KD_optuna_ex5_deberta/runs/cdttzkyb</a><br> View project at: <a href='https://wandb.ai/adishalit1-tel-aviv-university/KD_optuna_ex5_deberta' target=\"_blank\">https://wandb.ai/adishalit1-tel-aviv-university/KD_optuna_ex5_deberta</a><br>Synced 5 W&B file(s), 0 media file(s), 0 artifact file(s) and 0 other file(s)"
      ],
      "text/plain": [
       "<IPython.core.display.HTML object>"
      ]
     },
     "metadata": {},
     "output_type": "display_data"
    },
    {
     "data": {
      "text/html": [
       "Find logs at: <code>.\\wandb\\run-20250821_030324-cdttzkyb\\logs</code>"
      ],
      "text/plain": [
       "<IPython.core.display.HTML object>"
      ]
     },
     "metadata": {},
     "output_type": "display_data"
    },
    {
     "name": "stderr",
     "output_type": "stream",
     "text": [
      "[I 2025-08-21 03:18:02,830] Trial 1 pruned. Epoch1 macro-F1 0.0561 < 0.3\n"
     ]
    },
    {
     "name": "stdout",
     "output_type": "stream",
     "text": [
      "\n",
      "🔎 Trial 2 | alpha=0.516, T=1.00, epochs=4, fine_tune_layers=3, lr=1.72e-04, amp=False\n"
     ]
    },
    {
     "data": {
      "text/html": [
       "Tracking run with wandb version 0.21.1"
      ],
      "text/plain": [
       "<IPython.core.display.HTML object>"
      ]
     },
     "metadata": {},
     "output_type": "display_data"
    },
    {
     "data": {
      "text/html": [
       "Run data is saved locally in <code>C:\\Users\\adishalit1\\Desktop\\Adi\\ADL\\DL_2_Project\\wandb\\run-20250821_031802-7027m2tc</code>"
      ],
      "text/plain": [
       "<IPython.core.display.HTML object>"
      ]
     },
     "metadata": {},
     "output_type": "display_data"
    },
    {
     "data": {
      "text/html": [
       "Syncing run <strong><a href='https://wandb.ai/adishalit1-tel-aviv-university/KD_optuna_ex5_deberta/runs/7027m2tc' target=\"_blank\">trial_2</a></strong> to <a href='https://wandb.ai/adishalit1-tel-aviv-university/KD_optuna_ex5_deberta' target=\"_blank\">Weights & Biases</a> (<a href='https://wandb.me/developer-guide' target=\"_blank\">docs</a>)<br>"
      ],
      "text/plain": [
       "<IPython.core.display.HTML object>"
      ]
     },
     "metadata": {},
     "output_type": "display_data"
    },
    {
     "data": {
      "text/html": [
       " View project at <a href='https://wandb.ai/adishalit1-tel-aviv-university/KD_optuna_ex5_deberta' target=\"_blank\">https://wandb.ai/adishalit1-tel-aviv-university/KD_optuna_ex5_deberta</a>"
      ],
      "text/plain": [
       "<IPython.core.display.HTML object>"
      ]
     },
     "metadata": {},
     "output_type": "display_data"
    },
    {
     "data": {
      "text/html": [
       " View run at <a href='https://wandb.ai/adishalit1-tel-aviv-university/KD_optuna_ex5_deberta/runs/7027m2tc' target=\"_blank\">https://wandb.ai/adishalit1-tel-aviv-university/KD_optuna_ex5_deberta/runs/7027m2tc</a>"
      ],
      "text/plain": [
       "<IPython.core.display.HTML object>"
      ]
     },
     "metadata": {},
     "output_type": "display_data"
    },
    {
     "name": "stderr",
     "output_type": "stream",
     "text": [
      "Some weights of DebertaV2ForSequenceClassification were not initialized from the model checkpoint at microsoft/deberta-v3-small and are newly initialized: ['classifier.bias', 'classifier.weight', 'pooler.dense.bias', 'pooler.dense.weight']\n",
      "You should probably TRAIN this model on a down-stream task to be able to use it for predictions and inference.\n",
      "C:\\Users\\adishalit1\\AppData\\Local\\Temp\\ipykernel_23892\\2641461158.py:221: FutureWarning: `torch.cuda.amp.GradScaler(args...)` is deprecated. Please use `torch.amp.GradScaler('cuda', args...)` instead.\n",
      "  scaler = torch.cuda.amp.GradScaler(enabled=(DEVICE==\"cuda\" and use_amp))\n"
     ]
    },
    {
     "name": "stdout",
     "output_type": "stream",
     "text": [
      "✅ Student (deberta-v3-small) initialized with correct num_labels\n",
      "   🔓 Unfroze student layer 4 / 6\n",
      "   🔓 Unfroze student layer 5 / 6\n",
      "   🔓 Unfroze student layer 6 / 6\n",
      "✅ Unfroze last 3 layers + classifier\n",
      "\n",
      "▶️ Epoch 1/4\n"
     ]
    },
    {
     "name": "stderr",
     "output_type": "stream",
     "text": [
      "Trial 2 Epoch 1:   0%|                                                                        | 0/5145 [00:00<?, ?it/s]C:\\Users\\adishalit1\\AppData\\Local\\Temp\\ipykernel_23892\\2641461158.py:241: FutureWarning: `torch.cuda.amp.autocast(args...)` is deprecated. Please use `torch.amp.autocast('cuda', args...)` instead.\n",
      "  with torch.cuda.amp.autocast(enabled=(DEVICE==\"cuda\" and use_amp)):\n",
      "\u001b[34m\u001b[1mwandb\u001b[0m: \u001b[32m\u001b[41mERROR\u001b[0m The nbformat package was not found. It is required to save notebook history.   \n"
     ]
    },
    {
     "name": "stdout",
     "output_type": "stream",
     "text": [
      "📊 Epoch 1 done. Val Macro-F1=0.1925, Acc=0.2536\n",
      "🛑 Pruning trial 2: epoch-1 macro-F1 0.1925 < 0.3\n"
     ]
    },
    {
     "data": {
      "text/html": [],
      "text/plain": [
       "<IPython.core.display.HTML object>"
      ]
     },
     "metadata": {},
     "output_type": "display_data"
    },
    {
     "data": {
      "text/html": [
       "<br>    <style><br>        .wandb-row {<br>            display: flex;<br>            flex-direction: row;<br>            flex-wrap: wrap;<br>            justify-content: flex-start;<br>            width: 100%;<br>        }<br>        .wandb-col {<br>            display: flex;<br>            flex-direction: column;<br>            flex-basis: 100%;<br>            flex: 1;<br>            padding: 10px;<br>        }<br>    </style><br><div class=\"wandb-row\"><div class=\"wandb-col\"><h3>Run history:</h3><br/><table class=\"wandb\"><tr><td>F1_extremely negative</td><td>▁</td></tr><tr><td>F1_extremely positive</td><td>▁</td></tr><tr><td>F1_negative</td><td>▁</td></tr><tr><td>F1_neutral</td><td>▁</td></tr><tr><td>F1_positive</td><td>▁</td></tr><tr><td>epoch</td><td>▁▁▁▁▁▁▁▁▁▁▁▁▁▁▁▁▁▁▁▁▁▁▁▁▁▁▁▁▁▁▁▁▁▁▁▁▁▁▁▁</td></tr><tr><td>step</td><td>▁▁▁▁▁▂▂▂▂▂▂▂▃▃▃▃▃▃▄▄▄▄▄▄▅▅▅▅▆▆▆▆▆▇▇▇▇███</td></tr><tr><td>train_loss</td><td>▇▆▃▄▇█▆▇▄▄▃▃▇▃▆▅█▄█▃▆▅▄▄▃▆▃▅▇▅▇▆▁▂▁▆▄▃▃▅</td></tr><tr><td>val_acc</td><td>▁</td></tr><tr><td>val_macro_f1</td><td>▁</td></tr></table><br/></div><div class=\"wandb-col\"><h3>Run summary:</h3><br/><table class=\"wandb\"><tr><td>F1_extremely negative</td><td>0</td></tr><tr><td>F1_extremely positive</td><td>0.65185</td></tr><tr><td>F1_negative</td><td>0</td></tr><tr><td>F1_neutral</td><td>0.31047</td></tr><tr><td>F1_positive</td><td>0</td></tr><tr><td>epoch</td><td>1</td></tr><tr><td>step</td><td>5100</td></tr><tr><td>train_loss</td><td>1.0087</td></tr><tr><td>val_acc</td><td>0.25355</td></tr><tr><td>val_macro_f1</td><td>0.19246</td></tr></table><br/></div></div>"
      ],
      "text/plain": [
       "<IPython.core.display.HTML object>"
      ]
     },
     "metadata": {},
     "output_type": "display_data"
    },
    {
     "data": {
      "text/html": [
       " View run <strong style=\"color:#cdcd00\">trial_2</strong> at: <a href='https://wandb.ai/adishalit1-tel-aviv-university/KD_optuna_ex5_deberta/runs/7027m2tc' target=\"_blank\">https://wandb.ai/adishalit1-tel-aviv-university/KD_optuna_ex5_deberta/runs/7027m2tc</a><br> View project at: <a href='https://wandb.ai/adishalit1-tel-aviv-university/KD_optuna_ex5_deberta' target=\"_blank\">https://wandb.ai/adishalit1-tel-aviv-university/KD_optuna_ex5_deberta</a><br>Synced 5 W&B file(s), 0 media file(s), 0 artifact file(s) and 0 other file(s)"
      ],
      "text/plain": [
       "<IPython.core.display.HTML object>"
      ]
     },
     "metadata": {},
     "output_type": "display_data"
    },
    {
     "data": {
      "text/html": [
       "Find logs at: <code>.\\wandb\\run-20250821_031802-7027m2tc\\logs</code>"
      ],
      "text/plain": [
       "<IPython.core.display.HTML object>"
      ]
     },
     "metadata": {},
     "output_type": "display_data"
    },
    {
     "name": "stderr",
     "output_type": "stream",
     "text": [
      "[I 2025-08-21 03:30:22,072] Trial 2 pruned. Epoch1 macro-F1 0.1925 < 0.3\n"
     ]
    },
    {
     "name": "stdout",
     "output_type": "stream",
     "text": [
      "\n",
      "🔎 Trial 3 | alpha=0.393, T=3.40, epochs=4, fine_tune_layers=4, lr=1.25e-05, amp=False\n"
     ]
    },
    {
     "data": {
      "text/html": [
       "Tracking run with wandb version 0.21.1"
      ],
      "text/plain": [
       "<IPython.core.display.HTML object>"
      ]
     },
     "metadata": {},
     "output_type": "display_data"
    },
    {
     "data": {
      "text/html": [
       "Run data is saved locally in <code>C:\\Users\\adishalit1\\Desktop\\Adi\\ADL\\DL_2_Project\\wandb\\run-20250821_033022-s9sgsrhi</code>"
      ],
      "text/plain": [
       "<IPython.core.display.HTML object>"
      ]
     },
     "metadata": {},
     "output_type": "display_data"
    },
    {
     "data": {
      "text/html": [
       "Syncing run <strong><a href='https://wandb.ai/adishalit1-tel-aviv-university/KD_optuna_ex5_deberta/runs/s9sgsrhi' target=\"_blank\">trial_3</a></strong> to <a href='https://wandb.ai/adishalit1-tel-aviv-university/KD_optuna_ex5_deberta' target=\"_blank\">Weights & Biases</a> (<a href='https://wandb.me/developer-guide' target=\"_blank\">docs</a>)<br>"
      ],
      "text/plain": [
       "<IPython.core.display.HTML object>"
      ]
     },
     "metadata": {},
     "output_type": "display_data"
    },
    {
     "data": {
      "text/html": [
       " View project at <a href='https://wandb.ai/adishalit1-tel-aviv-university/KD_optuna_ex5_deberta' target=\"_blank\">https://wandb.ai/adishalit1-tel-aviv-university/KD_optuna_ex5_deberta</a>"
      ],
      "text/plain": [
       "<IPython.core.display.HTML object>"
      ]
     },
     "metadata": {},
     "output_type": "display_data"
    },
    {
     "data": {
      "text/html": [
       " View run at <a href='https://wandb.ai/adishalit1-tel-aviv-university/KD_optuna_ex5_deberta/runs/s9sgsrhi' target=\"_blank\">https://wandb.ai/adishalit1-tel-aviv-university/KD_optuna_ex5_deberta/runs/s9sgsrhi</a>"
      ],
      "text/plain": [
       "<IPython.core.display.HTML object>"
      ]
     },
     "metadata": {},
     "output_type": "display_data"
    },
    {
     "name": "stderr",
     "output_type": "stream",
     "text": [
      "Some weights of DebertaV2ForSequenceClassification were not initialized from the model checkpoint at microsoft/deberta-v3-small and are newly initialized: ['classifier.bias', 'classifier.weight', 'pooler.dense.bias', 'pooler.dense.weight']\n",
      "You should probably TRAIN this model on a down-stream task to be able to use it for predictions and inference.\n",
      "C:\\Users\\adishalit1\\AppData\\Local\\Temp\\ipykernel_23892\\2641461158.py:221: FutureWarning: `torch.cuda.amp.GradScaler(args...)` is deprecated. Please use `torch.amp.GradScaler('cuda', args...)` instead.\n",
      "  scaler = torch.cuda.amp.GradScaler(enabled=(DEVICE==\"cuda\" and use_amp))\n"
     ]
    },
    {
     "name": "stdout",
     "output_type": "stream",
     "text": [
      "✅ Student (deberta-v3-small) initialized with correct num_labels\n",
      "   🔓 Unfroze student layer 3 / 6\n",
      "   🔓 Unfroze student layer 4 / 6\n",
      "   🔓 Unfroze student layer 5 / 6\n",
      "   🔓 Unfroze student layer 6 / 6\n",
      "✅ Unfroze last 4 layers + classifier\n",
      "\n",
      "▶️ Epoch 1/4\n"
     ]
    },
    {
     "name": "stderr",
     "output_type": "stream",
     "text": [
      "Trial 3 Epoch 1:   0%|                                                                        | 0/5145 [00:00<?, ?it/s]C:\\Users\\adishalit1\\AppData\\Local\\Temp\\ipykernel_23892\\2641461158.py:241: FutureWarning: `torch.cuda.amp.autocast(args...)` is deprecated. Please use `torch.amp.autocast('cuda', args...)` instead.\n",
      "  with torch.cuda.amp.autocast(enabled=(DEVICE==\"cuda\" and use_amp)):\n",
      "\u001b[34m\u001b[1mwandb\u001b[0m: \u001b[32m\u001b[41mERROR\u001b[0m The nbformat package was not found. It is required to save notebook history.   \n"
     ]
    },
    {
     "name": "stdout",
     "output_type": "stream",
     "text": [
      "📊 Epoch 1 done. Val Macro-F1=0.0561, Acc=0.1630\n",
      "🛑 Pruning trial 3: epoch-1 macro-F1 0.0561 < 0.3\n"
     ]
    },
    {
     "data": {
      "text/html": [],
      "text/plain": [
       "<IPython.core.display.HTML object>"
      ]
     },
     "metadata": {},
     "output_type": "display_data"
    },
    {
     "data": {
      "text/html": [
       "<br>    <style><br>        .wandb-row {<br>            display: flex;<br>            flex-direction: row;<br>            flex-wrap: wrap;<br>            justify-content: flex-start;<br>            width: 100%;<br>        }<br>        .wandb-col {<br>            display: flex;<br>            flex-direction: column;<br>            flex-basis: 100%;<br>            flex: 1;<br>            padding: 10px;<br>        }<br>    </style><br><div class=\"wandb-row\"><div class=\"wandb-col\"><h3>Run history:</h3><br/><table class=\"wandb\"><tr><td>F1_extremely negative</td><td>▁</td></tr><tr><td>F1_extremely positive</td><td>▁</td></tr><tr><td>F1_negative</td><td>▁</td></tr><tr><td>F1_neutral</td><td>▁</td></tr><tr><td>F1_positive</td><td>▁</td></tr><tr><td>epoch</td><td>▁▁▁▁▁▁▁▁▁▁▁▁▁▁▁▁▁▁▁▁▁▁▁▁▁▁▁▁▁▁▁▁▁▁▁▁▁▁▁▁</td></tr><tr><td>step</td><td>▁▁▁▁▂▂▂▂▂▃▃▃▃▄▄▄▄▄▄▅▅▅▅▅▅▅▆▆▆▆▇▇▇▇▇▇▇▇▇█</td></tr><tr><td>train_loss</td><td>█▄▂▃▂▃▃▂▂▄▂▁▂▂▂▅▂▁▄▃▃▃▂▄▂▃▅▃▂▃▃▇▁▄▂▂▃▄▂▂</td></tr><tr><td>val_acc</td><td>▁</td></tr><tr><td>val_macro_f1</td><td>▁</td></tr></table><br/></div><div class=\"wandb-col\"><h3>Run summary:</h3><br/><table class=\"wandb\"><tr><td>F1_extremely negative</td><td>0</td></tr><tr><td>F1_extremely positive</td><td>0</td></tr><tr><td>F1_negative</td><td>0</td></tr><tr><td>F1_neutral</td><td>0.28028</td></tr><tr><td>F1_positive</td><td>0</td></tr><tr><td>epoch</td><td>1</td></tr><tr><td>step</td><td>5100</td></tr><tr><td>train_loss</td><td>1.39533</td></tr><tr><td>val_acc</td><td>0.16298</td></tr><tr><td>val_macro_f1</td><td>0.05606</td></tr></table><br/></div></div>"
      ],
      "text/plain": [
       "<IPython.core.display.HTML object>"
      ]
     },
     "metadata": {},
     "output_type": "display_data"
    },
    {
     "data": {
      "text/html": [
       " View run <strong style=\"color:#cdcd00\">trial_3</strong> at: <a href='https://wandb.ai/adishalit1-tel-aviv-university/KD_optuna_ex5_deberta/runs/s9sgsrhi' target=\"_blank\">https://wandb.ai/adishalit1-tel-aviv-university/KD_optuna_ex5_deberta/runs/s9sgsrhi</a><br> View project at: <a href='https://wandb.ai/adishalit1-tel-aviv-university/KD_optuna_ex5_deberta' target=\"_blank\">https://wandb.ai/adishalit1-tel-aviv-university/KD_optuna_ex5_deberta</a><br>Synced 5 W&B file(s), 0 media file(s), 0 artifact file(s) and 0 other file(s)"
      ],
      "text/plain": [
       "<IPython.core.display.HTML object>"
      ]
     },
     "metadata": {},
     "output_type": "display_data"
    },
    {
     "data": {
      "text/html": [
       "Find logs at: <code>.\\wandb\\run-20250821_033022-s9sgsrhi\\logs</code>"
      ],
      "text/plain": [
       "<IPython.core.display.HTML object>"
      ]
     },
     "metadata": {},
     "output_type": "display_data"
    },
    {
     "name": "stderr",
     "output_type": "stream",
     "text": [
      "[I 2025-08-21 03:43:28,631] Trial 3 pruned. Epoch1 macro-F1 0.0561 < 0.3\n"
     ]
    },
    {
     "name": "stdout",
     "output_type": "stream",
     "text": [
      "\n",
      "🔎 Trial 4 | alpha=0.394, T=2.87, epochs=4, fine_tune_layers=3, lr=1.32e-04, amp=True\n"
     ]
    },
    {
     "data": {
      "text/html": [
       "Tracking run with wandb version 0.21.1"
      ],
      "text/plain": [
       "<IPython.core.display.HTML object>"
      ]
     },
     "metadata": {},
     "output_type": "display_data"
    },
    {
     "data": {
      "text/html": [
       "Run data is saved locally in <code>C:\\Users\\adishalit1\\Desktop\\Adi\\ADL\\DL_2_Project\\wandb\\run-20250821_034328-f47lryv4</code>"
      ],
      "text/plain": [
       "<IPython.core.display.HTML object>"
      ]
     },
     "metadata": {},
     "output_type": "display_data"
    },
    {
     "data": {
      "text/html": [
       "Syncing run <strong><a href='https://wandb.ai/adishalit1-tel-aviv-university/KD_optuna_ex5_deberta/runs/f47lryv4' target=\"_blank\">trial_4</a></strong> to <a href='https://wandb.ai/adishalit1-tel-aviv-university/KD_optuna_ex5_deberta' target=\"_blank\">Weights & Biases</a> (<a href='https://wandb.me/developer-guide' target=\"_blank\">docs</a>)<br>"
      ],
      "text/plain": [
       "<IPython.core.display.HTML object>"
      ]
     },
     "metadata": {},
     "output_type": "display_data"
    },
    {
     "data": {
      "text/html": [
       " View project at <a href='https://wandb.ai/adishalit1-tel-aviv-university/KD_optuna_ex5_deberta' target=\"_blank\">https://wandb.ai/adishalit1-tel-aviv-university/KD_optuna_ex5_deberta</a>"
      ],
      "text/plain": [
       "<IPython.core.display.HTML object>"
      ]
     },
     "metadata": {},
     "output_type": "display_data"
    },
    {
     "data": {
      "text/html": [
       " View run at <a href='https://wandb.ai/adishalit1-tel-aviv-university/KD_optuna_ex5_deberta/runs/f47lryv4' target=\"_blank\">https://wandb.ai/adishalit1-tel-aviv-university/KD_optuna_ex5_deberta/runs/f47lryv4</a>"
      ],
      "text/plain": [
       "<IPython.core.display.HTML object>"
      ]
     },
     "metadata": {},
     "output_type": "display_data"
    },
    {
     "name": "stderr",
     "output_type": "stream",
     "text": [
      "Some weights of DebertaV2ForSequenceClassification were not initialized from the model checkpoint at microsoft/deberta-v3-small and are newly initialized: ['classifier.bias', 'classifier.weight', 'pooler.dense.bias', 'pooler.dense.weight']\n",
      "You should probably TRAIN this model on a down-stream task to be able to use it for predictions and inference.\n",
      "C:\\Users\\adishalit1\\AppData\\Local\\Temp\\ipykernel_23892\\2641461158.py:221: FutureWarning: `torch.cuda.amp.GradScaler(args...)` is deprecated. Please use `torch.amp.GradScaler('cuda', args...)` instead.\n",
      "  scaler = torch.cuda.amp.GradScaler(enabled=(DEVICE==\"cuda\" and use_amp))\n"
     ]
    },
    {
     "name": "stdout",
     "output_type": "stream",
     "text": [
      "✅ Student (deberta-v3-small) initialized with correct num_labels\n",
      "   🔓 Unfroze student layer 4 / 6\n",
      "   🔓 Unfroze student layer 5 / 6\n",
      "   🔓 Unfroze student layer 6 / 6\n",
      "✅ Unfroze last 3 layers + classifier\n",
      "\n",
      "▶️ Epoch 1/4\n"
     ]
    },
    {
     "name": "stderr",
     "output_type": "stream",
     "text": [
      "Trial 4 Epoch 1:   0%|                                                                        | 0/5145 [00:00<?, ?it/s]C:\\Users\\adishalit1\\AppData\\Local\\Temp\\ipykernel_23892\\2641461158.py:241: FutureWarning: `torch.cuda.amp.autocast(args...)` is deprecated. Please use `torch.amp.autocast('cuda', args...)` instead.\n",
      "  with torch.cuda.amp.autocast(enabled=(DEVICE==\"cuda\" and use_amp)):\n",
      "\u001b[34m\u001b[1mwandb\u001b[0m: \u001b[32m\u001b[41mERROR\u001b[0m The nbformat package was not found. It is required to save notebook history.   \n"
     ]
    },
    {
     "name": "stdout",
     "output_type": "stream",
     "text": [
      "📊 Epoch 1 done. Val Macro-F1=0.0561, Acc=0.1630\n",
      "🛑 Pruning trial 4: epoch-1 macro-F1 0.0561 < 0.3\n"
     ]
    },
    {
     "data": {
      "text/html": [],
      "text/plain": [
       "<IPython.core.display.HTML object>"
      ]
     },
     "metadata": {},
     "output_type": "display_data"
    },
    {
     "data": {
      "text/html": [
       "<br>    <style><br>        .wandb-row {<br>            display: flex;<br>            flex-direction: row;<br>            flex-wrap: wrap;<br>            justify-content: flex-start;<br>            width: 100%;<br>        }<br>        .wandb-col {<br>            display: flex;<br>            flex-direction: column;<br>            flex-basis: 100%;<br>            flex: 1;<br>            padding: 10px;<br>        }<br>    </style><br><div class=\"wandb-row\"><div class=\"wandb-col\"><h3>Run history:</h3><br/><table class=\"wandb\"><tr><td>F1_extremely negative</td><td>▁</td></tr><tr><td>F1_extremely positive</td><td>▁</td></tr><tr><td>F1_negative</td><td>▁</td></tr><tr><td>F1_neutral</td><td>▁</td></tr><tr><td>F1_positive</td><td>▁</td></tr><tr><td>epoch</td><td>▁▁▁▁▁▁▁▁▁▁▁▁▁▁▁▁▁▁▁▁▁▁▁▁▁▁▁▁▁▁▁▁▁▁▁▁▁▁▁▁</td></tr><tr><td>step</td><td>▁▁▁▂▂▂▂▂▂▂▃▃▃▃▃▄▄▄▄▄▅▅▅▅▅▆▆▆▆▆▇▇▇▇▇▇▇███</td></tr><tr><td>train_loss</td><td>█▃▁▆▃▄▂▃▂▁▃▄▃▃▃▁▄▄▂▂▂▂▃▄▇▃▂▄▄▃▂▂▂▃▃▁▂▃▃▃</td></tr><tr><td>val_acc</td><td>▁</td></tr><tr><td>val_macro_f1</td><td>▁</td></tr></table><br/></div><div class=\"wandb-col\"><h3>Run summary:</h3><br/><table class=\"wandb\"><tr><td>F1_extremely negative</td><td>0</td></tr><tr><td>F1_extremely positive</td><td>0</td></tr><tr><td>F1_negative</td><td>0</td></tr><tr><td>F1_neutral</td><td>0.28028</td></tr><tr><td>F1_positive</td><td>0</td></tr><tr><td>epoch</td><td>1</td></tr><tr><td>step</td><td>5100</td></tr><tr><td>train_loss</td><td>1.3652</td></tr><tr><td>val_acc</td><td>0.16298</td></tr><tr><td>val_macro_f1</td><td>0.05606</td></tr></table><br/></div></div>"
      ],
      "text/plain": [
       "<IPython.core.display.HTML object>"
      ]
     },
     "metadata": {},
     "output_type": "display_data"
    },
    {
     "data": {
      "text/html": [
       " View run <strong style=\"color:#cdcd00\">trial_4</strong> at: <a href='https://wandb.ai/adishalit1-tel-aviv-university/KD_optuna_ex5_deberta/runs/f47lryv4' target=\"_blank\">https://wandb.ai/adishalit1-tel-aviv-university/KD_optuna_ex5_deberta/runs/f47lryv4</a><br> View project at: <a href='https://wandb.ai/adishalit1-tel-aviv-university/KD_optuna_ex5_deberta' target=\"_blank\">https://wandb.ai/adishalit1-tel-aviv-university/KD_optuna_ex5_deberta</a><br>Synced 5 W&B file(s), 0 media file(s), 0 artifact file(s) and 0 other file(s)"
      ],
      "text/plain": [
       "<IPython.core.display.HTML object>"
      ]
     },
     "metadata": {},
     "output_type": "display_data"
    },
    {
     "data": {
      "text/html": [
       "Find logs at: <code>.\\wandb\\run-20250821_034328-f47lryv4\\logs</code>"
      ],
      "text/plain": [
       "<IPython.core.display.HTML object>"
      ]
     },
     "metadata": {},
     "output_type": "display_data"
    },
    {
     "name": "stderr",
     "output_type": "stream",
     "text": [
      "[I 2025-08-21 03:53:52,694] Trial 4 pruned. Epoch1 macro-F1 0.0561 < 0.3\n"
     ]
    },
    {
     "name": "stdout",
     "output_type": "stream",
     "text": [
      "\n",
      "🔎 Trial 5 | alpha=0.699, T=3.34, epochs=4, fine_tune_layers=4, lr=5.79e-06, amp=False\n"
     ]
    },
    {
     "data": {
      "text/html": [
       "Tracking run with wandb version 0.21.1"
      ],
      "text/plain": [
       "<IPython.core.display.HTML object>"
      ]
     },
     "metadata": {},
     "output_type": "display_data"
    },
    {
     "data": {
      "text/html": [
       "Run data is saved locally in <code>C:\\Users\\adishalit1\\Desktop\\Adi\\ADL\\DL_2_Project\\wandb\\run-20250821_035352-b7gtttm8</code>"
      ],
      "text/plain": [
       "<IPython.core.display.HTML object>"
      ]
     },
     "metadata": {},
     "output_type": "display_data"
    },
    {
     "data": {
      "text/html": [
       "Syncing run <strong><a href='https://wandb.ai/adishalit1-tel-aviv-university/KD_optuna_ex5_deberta/runs/b7gtttm8' target=\"_blank\">trial_5</a></strong> to <a href='https://wandb.ai/adishalit1-tel-aviv-university/KD_optuna_ex5_deberta' target=\"_blank\">Weights & Biases</a> (<a href='https://wandb.me/developer-guide' target=\"_blank\">docs</a>)<br>"
      ],
      "text/plain": [
       "<IPython.core.display.HTML object>"
      ]
     },
     "metadata": {},
     "output_type": "display_data"
    },
    {
     "data": {
      "text/html": [
       " View project at <a href='https://wandb.ai/adishalit1-tel-aviv-university/KD_optuna_ex5_deberta' target=\"_blank\">https://wandb.ai/adishalit1-tel-aviv-university/KD_optuna_ex5_deberta</a>"
      ],
      "text/plain": [
       "<IPython.core.display.HTML object>"
      ]
     },
     "metadata": {},
     "output_type": "display_data"
    },
    {
     "data": {
      "text/html": [
       " View run at <a href='https://wandb.ai/adishalit1-tel-aviv-university/KD_optuna_ex5_deberta/runs/b7gtttm8' target=\"_blank\">https://wandb.ai/adishalit1-tel-aviv-university/KD_optuna_ex5_deberta/runs/b7gtttm8</a>"
      ],
      "text/plain": [
       "<IPython.core.display.HTML object>"
      ]
     },
     "metadata": {},
     "output_type": "display_data"
    },
    {
     "name": "stderr",
     "output_type": "stream",
     "text": [
      "Some weights of DebertaV2ForSequenceClassification were not initialized from the model checkpoint at microsoft/deberta-v3-small and are newly initialized: ['classifier.bias', 'classifier.weight', 'pooler.dense.bias', 'pooler.dense.weight']\n",
      "You should probably TRAIN this model on a down-stream task to be able to use it for predictions and inference.\n",
      "C:\\Users\\adishalit1\\AppData\\Local\\Temp\\ipykernel_23892\\2641461158.py:221: FutureWarning: `torch.cuda.amp.GradScaler(args...)` is deprecated. Please use `torch.amp.GradScaler('cuda', args...)` instead.\n",
      "  scaler = torch.cuda.amp.GradScaler(enabled=(DEVICE==\"cuda\" and use_amp))\n"
     ]
    },
    {
     "name": "stdout",
     "output_type": "stream",
     "text": [
      "✅ Student (deberta-v3-small) initialized with correct num_labels\n",
      "   🔓 Unfroze student layer 3 / 6\n",
      "   🔓 Unfroze student layer 4 / 6\n",
      "   🔓 Unfroze student layer 5 / 6\n",
      "   🔓 Unfroze student layer 6 / 6\n",
      "✅ Unfroze last 4 layers + classifier\n",
      "\n",
      "▶️ Epoch 1/4\n"
     ]
    },
    {
     "name": "stderr",
     "output_type": "stream",
     "text": [
      "Trial 5 Epoch 1:   0%|                                                                        | 0/5145 [00:00<?, ?it/s]C:\\Users\\adishalit1\\AppData\\Local\\Temp\\ipykernel_23892\\2641461158.py:241: FutureWarning: `torch.cuda.amp.autocast(args...)` is deprecated. Please use `torch.amp.autocast('cuda', args...)` instead.\n",
      "  with torch.cuda.amp.autocast(enabled=(DEVICE==\"cuda\" and use_amp)):\n",
      "                                                                                                                       \r"
     ]
    },
    {
     "name": "stdout",
     "output_type": "stream",
     "text": [
      "📊 Epoch 1 done. Val Macro-F1=0.4278, Acc=0.4047\n",
      "   ✅ New best F1\n",
      "\n",
      "▶️ Epoch 2/4\n"
     ]
    },
    {
     "name": "stderr",
     "output_type": "stream",
     "text": [
      "Trial 5 Epoch 2:   0%|                                                                        | 0/5145 [00:00<?, ?it/s]C:\\Users\\adishalit1\\AppData\\Local\\Temp\\ipykernel_23892\\2641461158.py:241: FutureWarning: `torch.cuda.amp.autocast(args...)` is deprecated. Please use `torch.amp.autocast('cuda', args...)` instead.\n",
      "  with torch.cuda.amp.autocast(enabled=(DEVICE==\"cuda\" and use_amp)):\n",
      "                                                                                                                       \r"
     ]
    },
    {
     "name": "stdout",
     "output_type": "stream",
     "text": [
      "📊 Epoch 2 done. Val Macro-F1=0.5147, Acc=0.4863\n",
      "   ✅ New best F1\n",
      "\n",
      "▶️ Epoch 3/4\n"
     ]
    },
    {
     "name": "stderr",
     "output_type": "stream",
     "text": [
      "Trial 5 Epoch 3:   0%|                                                                        | 0/5145 [00:00<?, ?it/s]C:\\Users\\adishalit1\\AppData\\Local\\Temp\\ipykernel_23892\\2641461158.py:241: FutureWarning: `torch.cuda.amp.autocast(args...)` is deprecated. Please use `torch.amp.autocast('cuda', args...)` instead.\n",
      "  with torch.cuda.amp.autocast(enabled=(DEVICE==\"cuda\" and use_amp)):\n",
      "                                                                                                                       \r"
     ]
    },
    {
     "name": "stdout",
     "output_type": "stream",
     "text": [
      "📊 Epoch 3 done. Val Macro-F1=0.5336, Acc=0.5055\n",
      "   ✅ New best F1\n",
      "\n",
      "▶️ Epoch 4/4\n"
     ]
    },
    {
     "name": "stderr",
     "output_type": "stream",
     "text": [
      "Trial 5 Epoch 4:   0%|                                                                        | 0/5145 [00:00<?, ?it/s]C:\\Users\\adishalit1\\AppData\\Local\\Temp\\ipykernel_23892\\2641461158.py:241: FutureWarning: `torch.cuda.amp.autocast(args...)` is deprecated. Please use `torch.amp.autocast('cuda', args...)` instead.\n",
      "  with torch.cuda.amp.autocast(enabled=(DEVICE==\"cuda\" and use_amp)):\n",
      "                                                                                                                       \r"
     ]
    },
    {
     "name": "stdout",
     "output_type": "stream",
     "text": [
      "📊 Epoch 4 done. Val Macro-F1=0.5564, Acc=0.5295\n",
      "   ✅ New best F1\n",
      "📦 Model size: 541.34 MB | ⏱️ Latency: 4.24 ms/sample\n"
     ]
    },
    {
     "name": "stderr",
     "output_type": "stream",
     "text": [
      "\u001b[34m\u001b[1mwandb\u001b[0m: \u001b[32m\u001b[41mERROR\u001b[0m The nbformat package was not found. It is required to save notebook history.\n"
     ]
    },
    {
     "name": "stdout",
     "output_type": "stream",
     "text": [
      "💾 Saved best student weights: ./KD_optuna_ex5_deberta_UPDATE\\best_student_trial_5.pt\n"
     ]
    },
    {
     "data": {
      "text/html": [],
      "text/plain": [
       "<IPython.core.display.HTML object>"
      ]
     },
     "metadata": {},
     "output_type": "display_data"
    },
    {
     "data": {
      "text/html": [
       "<br>    <style><br>        .wandb-row {<br>            display: flex;<br>            flex-direction: row;<br>            flex-wrap: wrap;<br>            justify-content: flex-start;<br>            width: 100%;<br>        }<br>        .wandb-col {<br>            display: flex;<br>            flex-direction: column;<br>            flex-basis: 100%;<br>            flex: 1;<br>            padding: 10px;<br>        }<br>    </style><br><div class=\"wandb-row\"><div class=\"wandb-col\"><h3>Run history:</h3><br/><table class=\"wandb\"><tr><td>F1_extremely negative</td><td>▁▇▆█</td></tr><tr><td>F1_extremely positive</td><td>▁▄██</td></tr><tr><td>F1_negative</td><td>▁▆▆█</td></tr><tr><td>F1_neutral</td><td>▁▅▆█</td></tr><tr><td>F1_positive</td><td>▁▆██</td></tr><tr><td>epoch</td><td>▁▁▁▁▁▁▁▁▃▃▃▃▃▃▃▃▃▃▃▆▆▆▆▆▆▆▆▆▆███████████</td></tr><tr><td>latency_ms</td><td>▁</td></tr><tr><td>model_size_mb</td><td>▁</td></tr><tr><td>step</td><td>▂▃▄▅▆▆▇▇▇█▂▂▃▃▄▄▄▅▆▆▇▇█▁▁▄▄▅▆▇█▁▁▂▂▅▅▆▆█</td></tr><tr><td>train_loss</td><td>██▇▇▆▆▅▅▅▆▅▆▅▅▆▄▅▅▅▄▄▄▄▄▃▄▆▆▄▅▅▇▄▅▅▅▆▅▅▁</td></tr><tr><td>val_acc</td><td>▁▆▇█</td></tr><tr><td>val_macro_f1</td><td>▁▆▇█</td></tr></table><br/></div><div class=\"wandb-col\"><h3>Run summary:</h3><br/><table class=\"wandb\"><tr><td>F1_extremely negative</td><td>0.67283</td></tr><tr><td>F1_extremely positive</td><td>0.69288</td></tr><tr><td>F1_negative</td><td>0.46611</td></tr><tr><td>F1_neutral</td><td>0.45159</td></tr><tr><td>F1_positive</td><td>0.49869</td></tr><tr><td>epoch</td><td>4</td></tr><tr><td>latency_ms</td><td>4.23995</td></tr><tr><td>model_size_mb</td><td>541.34318</td></tr><tr><td>step</td><td>5100</td></tr><tr><td>train_loss</td><td>1.28719</td></tr><tr><td>val_acc</td><td>0.52949</td></tr><tr><td>val_macro_f1</td><td>0.55642</td></tr></table><br/></div></div>"
      ],
      "text/plain": [
       "<IPython.core.display.HTML object>"
      ]
     },
     "metadata": {},
     "output_type": "display_data"
    },
    {
     "data": {
      "text/html": [
       " View run <strong style=\"color:#cdcd00\">trial_5</strong> at: <a href='https://wandb.ai/adishalit1-tel-aviv-university/KD_optuna_ex5_deberta/runs/b7gtttm8' target=\"_blank\">https://wandb.ai/adishalit1-tel-aviv-university/KD_optuna_ex5_deberta/runs/b7gtttm8</a><br> View project at: <a href='https://wandb.ai/adishalit1-tel-aviv-university/KD_optuna_ex5_deberta' target=\"_blank\">https://wandb.ai/adishalit1-tel-aviv-university/KD_optuna_ex5_deberta</a><br>Synced 5 W&B file(s), 0 media file(s), 0 artifact file(s) and 0 other file(s)"
      ],
      "text/plain": [
       "<IPython.core.display.HTML object>"
      ]
     },
     "metadata": {},
     "output_type": "display_data"
    },
    {
     "data": {
      "text/html": [
       "Find logs at: <code>.\\wandb\\run-20250821_035352-b7gtttm8\\logs</code>"
      ],
      "text/plain": [
       "<IPython.core.display.HTML object>"
      ]
     },
     "metadata": {},
     "output_type": "display_data"
    },
    {
     "name": "stderr",
     "output_type": "stream",
     "text": [
      "[I 2025-08-21 04:46:13,067] Trial 5 finished with value: 0.5564198595625609 and parameters: {'alpha': 0.6990599880470667, 'T': 3.337410826704433, 'fine_tune_layers': 4, 'learning_rate': 5.78903865438375e-06, 'use_amp': False}. Best is trial 5 with value: 0.5564198595625609.\n"
     ]
    },
    {
     "name": "stdout",
     "output_type": "stream",
     "text": [
      "\n",
      "🔎 Trial 6 | alpha=0.710, T=4.09, epochs=4, fine_tune_layers=4, lr=1.21e-06, amp=True\n"
     ]
    },
    {
     "data": {
      "text/html": [
       "Tracking run with wandb version 0.21.1"
      ],
      "text/plain": [
       "<IPython.core.display.HTML object>"
      ]
     },
     "metadata": {},
     "output_type": "display_data"
    },
    {
     "data": {
      "text/html": [
       "Run data is saved locally in <code>C:\\Users\\adishalit1\\Desktop\\Adi\\ADL\\DL_2_Project\\wandb\\run-20250821_044613-9ii5s1rx</code>"
      ],
      "text/plain": [
       "<IPython.core.display.HTML object>"
      ]
     },
     "metadata": {},
     "output_type": "display_data"
    },
    {
     "data": {
      "text/html": [
       "Syncing run <strong><a href='https://wandb.ai/adishalit1-tel-aviv-university/KD_optuna_ex5_deberta/runs/9ii5s1rx' target=\"_blank\">trial_6</a></strong> to <a href='https://wandb.ai/adishalit1-tel-aviv-university/KD_optuna_ex5_deberta' target=\"_blank\">Weights & Biases</a> (<a href='https://wandb.me/developer-guide' target=\"_blank\">docs</a>)<br>"
      ],
      "text/plain": [
       "<IPython.core.display.HTML object>"
      ]
     },
     "metadata": {},
     "output_type": "display_data"
    },
    {
     "data": {
      "text/html": [
       " View project at <a href='https://wandb.ai/adishalit1-tel-aviv-university/KD_optuna_ex5_deberta' target=\"_blank\">https://wandb.ai/adishalit1-tel-aviv-university/KD_optuna_ex5_deberta</a>"
      ],
      "text/plain": [
       "<IPython.core.display.HTML object>"
      ]
     },
     "metadata": {},
     "output_type": "display_data"
    },
    {
     "data": {
      "text/html": [
       " View run at <a href='https://wandb.ai/adishalit1-tel-aviv-university/KD_optuna_ex5_deberta/runs/9ii5s1rx' target=\"_blank\">https://wandb.ai/adishalit1-tel-aviv-university/KD_optuna_ex5_deberta/runs/9ii5s1rx</a>"
      ],
      "text/plain": [
       "<IPython.core.display.HTML object>"
      ]
     },
     "metadata": {},
     "output_type": "display_data"
    },
    {
     "name": "stderr",
     "output_type": "stream",
     "text": [
      "Some weights of DebertaV2ForSequenceClassification were not initialized from the model checkpoint at microsoft/deberta-v3-small and are newly initialized: ['classifier.bias', 'classifier.weight', 'pooler.dense.bias', 'pooler.dense.weight']\n",
      "You should probably TRAIN this model on a down-stream task to be able to use it for predictions and inference.\n",
      "C:\\Users\\adishalit1\\AppData\\Local\\Temp\\ipykernel_23892\\2641461158.py:221: FutureWarning: `torch.cuda.amp.GradScaler(args...)` is deprecated. Please use `torch.amp.GradScaler('cuda', args...)` instead.\n",
      "  scaler = torch.cuda.amp.GradScaler(enabled=(DEVICE==\"cuda\" and use_amp))\n"
     ]
    },
    {
     "name": "stdout",
     "output_type": "stream",
     "text": [
      "✅ Student (deberta-v3-small) initialized with correct num_labels\n",
      "   🔓 Unfroze student layer 3 / 6\n",
      "   🔓 Unfroze student layer 4 / 6\n",
      "   🔓 Unfroze student layer 5 / 6\n",
      "   🔓 Unfroze student layer 6 / 6\n",
      "✅ Unfroze last 4 layers + classifier\n",
      "\n",
      "▶️ Epoch 1/4\n"
     ]
    },
    {
     "name": "stderr",
     "output_type": "stream",
     "text": [
      "Trial 6 Epoch 1:   0%|                                                                        | 0/5145 [00:00<?, ?it/s]C:\\Users\\adishalit1\\AppData\\Local\\Temp\\ipykernel_23892\\2641461158.py:241: FutureWarning: `torch.cuda.amp.autocast(args...)` is deprecated. Please use `torch.amp.autocast('cuda', args...)` instead.\n",
      "  with torch.cuda.amp.autocast(enabled=(DEVICE==\"cuda\" and use_amp)):\n",
      "\u001b[34m\u001b[1mwandb\u001b[0m: \u001b[32m\u001b[41mERROR\u001b[0m The nbformat package was not found. It is required to save notebook history.   \n"
     ]
    },
    {
     "name": "stdout",
     "output_type": "stream",
     "text": [
      "📊 Epoch 1 done. Val Macro-F1=0.0806, Acc=0.1746\n",
      "🛑 Pruning trial 6: epoch-1 macro-F1 0.0806 < 0.3\n"
     ]
    },
    {
     "data": {
      "text/html": [],
      "text/plain": [
       "<IPython.core.display.HTML object>"
      ]
     },
     "metadata": {},
     "output_type": "display_data"
    },
    {
     "data": {
      "text/html": [
       "<br>    <style><br>        .wandb-row {<br>            display: flex;<br>            flex-direction: row;<br>            flex-wrap: wrap;<br>            justify-content: flex-start;<br>            width: 100%;<br>        }<br>        .wandb-col {<br>            display: flex;<br>            flex-direction: column;<br>            flex-basis: 100%;<br>            flex: 1;<br>            padding: 10px;<br>        }<br>    </style><br><div class=\"wandb-row\"><div class=\"wandb-col\"><h3>Run history:</h3><br/><table class=\"wandb\"><tr><td>F1_extremely negative</td><td>▁</td></tr><tr><td>F1_extremely positive</td><td>▁</td></tr><tr><td>F1_negative</td><td>▁</td></tr><tr><td>F1_neutral</td><td>▁</td></tr><tr><td>F1_positive</td><td>▁</td></tr><tr><td>epoch</td><td>▁▁▁▁▁▁▁▁▁▁▁▁▁▁▁▁▁▁▁▁▁▁▁▁▁▁▁▁▁▁▁▁▁▁▁▁▁▁▁▁</td></tr><tr><td>step</td><td>▁▁▁▂▂▂▂▂▂▃▃▃▃▃▃▃▄▄▄▄▄▄▅▅▅▅▅▅▆▆▆▆▇▇▇▇▇███</td></tr><tr><td>train_loss</td><td>██▇▇▇▃▆▃▆▄▄▂▅▇▃▄▅▅▆▅▄▄▇▆▄▃▅▁▄▆▄▄▂▃▄█▄▃▅▅</td></tr><tr><td>val_acc</td><td>▁</td></tr><tr><td>val_macro_f1</td><td>▁</td></tr></table><br/></div><div class=\"wandb-col\"><h3>Run summary:</h3><br/><table class=\"wandb\"><tr><td>F1_extremely negative</td><td>0.08026</td></tr><tr><td>F1_extremely positive</td><td>0</td></tr><tr><td>F1_negative</td><td>0.02566</td></tr><tr><td>F1_neutral</td><td>0.28691</td></tr><tr><td>F1_positive</td><td>0.01033</td></tr><tr><td>epoch</td><td>1</td></tr><tr><td>step</td><td>5100</td></tr><tr><td>train_loss</td><td>2.10903</td></tr><tr><td>val_acc</td><td>0.17457</td></tr><tr><td>val_macro_f1</td><td>0.08063</td></tr></table><br/></div></div>"
      ],
      "text/plain": [
       "<IPython.core.display.HTML object>"
      ]
     },
     "metadata": {},
     "output_type": "display_data"
    },
    {
     "data": {
      "text/html": [
       " View run <strong style=\"color:#cdcd00\">trial_6</strong> at: <a href='https://wandb.ai/adishalit1-tel-aviv-university/KD_optuna_ex5_deberta/runs/9ii5s1rx' target=\"_blank\">https://wandb.ai/adishalit1-tel-aviv-university/KD_optuna_ex5_deberta/runs/9ii5s1rx</a><br> View project at: <a href='https://wandb.ai/adishalit1-tel-aviv-university/KD_optuna_ex5_deberta' target=\"_blank\">https://wandb.ai/adishalit1-tel-aviv-university/KD_optuna_ex5_deberta</a><br>Synced 5 W&B file(s), 0 media file(s), 0 artifact file(s) and 0 other file(s)"
      ],
      "text/plain": [
       "<IPython.core.display.HTML object>"
      ]
     },
     "metadata": {},
     "output_type": "display_data"
    },
    {
     "data": {
      "text/html": [
       "Find logs at: <code>.\\wandb\\run-20250821_044613-9ii5s1rx\\logs</code>"
      ],
      "text/plain": [
       "<IPython.core.display.HTML object>"
      ]
     },
     "metadata": {},
     "output_type": "display_data"
    },
    {
     "name": "stderr",
     "output_type": "stream",
     "text": [
      "[I 2025-08-21 04:57:04,131] Trial 6 pruned. Epoch1 macro-F1 0.0806 < 0.3\n"
     ]
    },
    {
     "name": "stdout",
     "output_type": "stream",
     "text": [
      "\n",
      "🔎 Trial 7 | alpha=0.259, T=1.53, epochs=4, fine_tune_layers=6, lr=1.36e-06, amp=False\n"
     ]
    },
    {
     "data": {
      "text/html": [
       "creating run (0.3s)"
      ],
      "text/plain": [
       "<IPython.core.display.HTML object>"
      ]
     },
     "metadata": {},
     "output_type": "display_data"
    },
    {
     "data": {
      "text/html": [
       "Tracking run with wandb version 0.21.1"
      ],
      "text/plain": [
       "<IPython.core.display.HTML object>"
      ]
     },
     "metadata": {},
     "output_type": "display_data"
    },
    {
     "data": {
      "text/html": [
       "Run data is saved locally in <code>C:\\Users\\adishalit1\\Desktop\\Adi\\ADL\\DL_2_Project\\wandb\\run-20250821_045704-kabbkl11</code>"
      ],
      "text/plain": [
       "<IPython.core.display.HTML object>"
      ]
     },
     "metadata": {},
     "output_type": "display_data"
    },
    {
     "data": {
      "text/html": [
       "Syncing run <strong><a href='https://wandb.ai/adishalit1-tel-aviv-university/KD_optuna_ex5_deberta/runs/kabbkl11' target=\"_blank\">trial_7</a></strong> to <a href='https://wandb.ai/adishalit1-tel-aviv-university/KD_optuna_ex5_deberta' target=\"_blank\">Weights & Biases</a> (<a href='https://wandb.me/developer-guide' target=\"_blank\">docs</a>)<br>"
      ],
      "text/plain": [
       "<IPython.core.display.HTML object>"
      ]
     },
     "metadata": {},
     "output_type": "display_data"
    },
    {
     "data": {
      "text/html": [
       " View project at <a href='https://wandb.ai/adishalit1-tel-aviv-university/KD_optuna_ex5_deberta' target=\"_blank\">https://wandb.ai/adishalit1-tel-aviv-university/KD_optuna_ex5_deberta</a>"
      ],
      "text/plain": [
       "<IPython.core.display.HTML object>"
      ]
     },
     "metadata": {},
     "output_type": "display_data"
    },
    {
     "data": {
      "text/html": [
       " View run at <a href='https://wandb.ai/adishalit1-tel-aviv-university/KD_optuna_ex5_deberta/runs/kabbkl11' target=\"_blank\">https://wandb.ai/adishalit1-tel-aviv-university/KD_optuna_ex5_deberta/runs/kabbkl11</a>"
      ],
      "text/plain": [
       "<IPython.core.display.HTML object>"
      ]
     },
     "metadata": {},
     "output_type": "display_data"
    },
    {
     "name": "stderr",
     "output_type": "stream",
     "text": [
      "Some weights of DebertaV2ForSequenceClassification were not initialized from the model checkpoint at microsoft/deberta-v3-small and are newly initialized: ['classifier.bias', 'classifier.weight', 'pooler.dense.bias', 'pooler.dense.weight']\n",
      "You should probably TRAIN this model on a down-stream task to be able to use it for predictions and inference.\n",
      "C:\\Users\\adishalit1\\AppData\\Local\\Temp\\ipykernel_23892\\2641461158.py:221: FutureWarning: `torch.cuda.amp.GradScaler(args...)` is deprecated. Please use `torch.amp.GradScaler('cuda', args...)` instead.\n",
      "  scaler = torch.cuda.amp.GradScaler(enabled=(DEVICE==\"cuda\" and use_amp))\n"
     ]
    },
    {
     "name": "stdout",
     "output_type": "stream",
     "text": [
      "✅ Student (deberta-v3-small) initialized with correct num_labels\n",
      "   🔓 Unfroze student layer 1 / 6\n",
      "   🔓 Unfroze student layer 2 / 6\n",
      "   🔓 Unfroze student layer 3 / 6\n",
      "   🔓 Unfroze student layer 4 / 6\n",
      "   🔓 Unfroze student layer 5 / 6\n",
      "   🔓 Unfroze student layer 6 / 6\n",
      "✅ Unfroze last 6 layers + classifier\n",
      "\n",
      "▶️ Epoch 1/4\n"
     ]
    },
    {
     "name": "stderr",
     "output_type": "stream",
     "text": [
      "Trial 7 Epoch 1:   0%|                                                                        | 0/5145 [00:00<?, ?it/s]C:\\Users\\adishalit1\\AppData\\Local\\Temp\\ipykernel_23892\\2641461158.py:241: FutureWarning: `torch.cuda.amp.autocast(args...)` is deprecated. Please use `torch.amp.autocast('cuda', args...)` instead.\n",
      "  with torch.cuda.amp.autocast(enabled=(DEVICE==\"cuda\" and use_amp)):\n",
      "\u001b[34m\u001b[1mwandb\u001b[0m: \u001b[32m\u001b[41mERROR\u001b[0m The nbformat package was not found. It is required to save notebook history.   \n"
     ]
    },
    {
     "name": "stdout",
     "output_type": "stream",
     "text": [
      "📊 Epoch 1 done. Val Macro-F1=0.0561, Acc=0.1630\n",
      "🛑 Pruning trial 7: epoch-1 macro-F1 0.0561 < 0.3\n"
     ]
    },
    {
     "data": {
      "text/html": [],
      "text/plain": [
       "<IPython.core.display.HTML object>"
      ]
     },
     "metadata": {},
     "output_type": "display_data"
    },
    {
     "data": {
      "text/html": [
       "<br>    <style><br>        .wandb-row {<br>            display: flex;<br>            flex-direction: row;<br>            flex-wrap: wrap;<br>            justify-content: flex-start;<br>            width: 100%;<br>        }<br>        .wandb-col {<br>            display: flex;<br>            flex-direction: column;<br>            flex-basis: 100%;<br>            flex: 1;<br>            padding: 10px;<br>        }<br>    </style><br><div class=\"wandb-row\"><div class=\"wandb-col\"><h3>Run history:</h3><br/><table class=\"wandb\"><tr><td>F1_extremely negative</td><td>▁</td></tr><tr><td>F1_extremely positive</td><td>▁</td></tr><tr><td>F1_negative</td><td>▁</td></tr><tr><td>F1_neutral</td><td>▁</td></tr><tr><td>F1_positive</td><td>▁</td></tr><tr><td>epoch</td><td>▁▁▁▁▁▁▁▁▁▁▁▁▁▁▁▁▁▁▁▁▁▁▁▁▁▁▁▁▁▁▁▁▁▁▁▁▁▁▁▁</td></tr><tr><td>step</td><td>▁▁▁▂▂▂▂▃▃▃▃▃▃▃▃▄▄▄▄▄▄▄▅▅▅▅▅▆▆▆▆▇▇▇▇▇▇███</td></tr><tr><td>train_loss</td><td>██▇▆▄▃▃▄▂▄▄▃▃▄▂▄▆▁▄▃▄▂▂▃▂▁▄▃▂▄▅▃▃▂▄▁▂▃▅▃</td></tr><tr><td>val_acc</td><td>▁</td></tr><tr><td>val_macro_f1</td><td>▁</td></tr></table><br/></div><div class=\"wandb-col\"><h3>Run summary:</h3><br/><table class=\"wandb\"><tr><td>F1_extremely negative</td><td>0</td></tr><tr><td>F1_extremely positive</td><td>0</td></tr><tr><td>F1_negative</td><td>0</td></tr><tr><td>F1_neutral</td><td>0.28028</td></tr><tr><td>F1_positive</td><td>0</td></tr><tr><td>epoch</td><td>1</td></tr><tr><td>step</td><td>5100</td></tr><tr><td>train_loss</td><td>1.24877</td></tr><tr><td>val_acc</td><td>0.16298</td></tr><tr><td>val_macro_f1</td><td>0.05606</td></tr></table><br/></div></div>"
      ],
      "text/plain": [
       "<IPython.core.display.HTML object>"
      ]
     },
     "metadata": {},
     "output_type": "display_data"
    },
    {
     "data": {
      "text/html": [
       " View run <strong style=\"color:#cdcd00\">trial_7</strong> at: <a href='https://wandb.ai/adishalit1-tel-aviv-university/KD_optuna_ex5_deberta/runs/kabbkl11' target=\"_blank\">https://wandb.ai/adishalit1-tel-aviv-university/KD_optuna_ex5_deberta/runs/kabbkl11</a><br> View project at: <a href='https://wandb.ai/adishalit1-tel-aviv-university/KD_optuna_ex5_deberta' target=\"_blank\">https://wandb.ai/adishalit1-tel-aviv-university/KD_optuna_ex5_deberta</a><br>Synced 5 W&B file(s), 0 media file(s), 0 artifact file(s) and 0 other file(s)"
      ],
      "text/plain": [
       "<IPython.core.display.HTML object>"
      ]
     },
     "metadata": {},
     "output_type": "display_data"
    },
    {
     "data": {
      "text/html": [
       "Find logs at: <code>.\\wandb\\run-20250821_045704-kabbkl11\\logs</code>"
      ],
      "text/plain": [
       "<IPython.core.display.HTML object>"
      ]
     },
     "metadata": {},
     "output_type": "display_data"
    },
    {
     "name": "stderr",
     "output_type": "stream",
     "text": [
      "[I 2025-08-21 05:11:47,551] Trial 7 pruned. Epoch1 macro-F1 0.0561 < 0.3\n"
     ]
    },
    {
     "name": "stdout",
     "output_type": "stream",
     "text": [
      "\n",
      "🔎 Trial 8 | alpha=0.794, T=3.72, epochs=4, fine_tune_layers=6, lr=1.18e-06, amp=False\n"
     ]
    },
    {
     "data": {
      "text/html": [
       "Tracking run with wandb version 0.21.1"
      ],
      "text/plain": [
       "<IPython.core.display.HTML object>"
      ]
     },
     "metadata": {},
     "output_type": "display_data"
    },
    {
     "data": {
      "text/html": [
       "Run data is saved locally in <code>C:\\Users\\adishalit1\\Desktop\\Adi\\ADL\\DL_2_Project\\wandb\\run-20250821_051147-d3q4yjv7</code>"
      ],
      "text/plain": [
       "<IPython.core.display.HTML object>"
      ]
     },
     "metadata": {},
     "output_type": "display_data"
    },
    {
     "data": {
      "text/html": [
       "Syncing run <strong><a href='https://wandb.ai/adishalit1-tel-aviv-university/KD_optuna_ex5_deberta/runs/d3q4yjv7' target=\"_blank\">trial_8</a></strong> to <a href='https://wandb.ai/adishalit1-tel-aviv-university/KD_optuna_ex5_deberta' target=\"_blank\">Weights & Biases</a> (<a href='https://wandb.me/developer-guide' target=\"_blank\">docs</a>)<br>"
      ],
      "text/plain": [
       "<IPython.core.display.HTML object>"
      ]
     },
     "metadata": {},
     "output_type": "display_data"
    },
    {
     "data": {
      "text/html": [
       " View project at <a href='https://wandb.ai/adishalit1-tel-aviv-university/KD_optuna_ex5_deberta' target=\"_blank\">https://wandb.ai/adishalit1-tel-aviv-university/KD_optuna_ex5_deberta</a>"
      ],
      "text/plain": [
       "<IPython.core.display.HTML object>"
      ]
     },
     "metadata": {},
     "output_type": "display_data"
    },
    {
     "data": {
      "text/html": [
       " View run at <a href='https://wandb.ai/adishalit1-tel-aviv-university/KD_optuna_ex5_deberta/runs/d3q4yjv7' target=\"_blank\">https://wandb.ai/adishalit1-tel-aviv-university/KD_optuna_ex5_deberta/runs/d3q4yjv7</a>"
      ],
      "text/plain": [
       "<IPython.core.display.HTML object>"
      ]
     },
     "metadata": {},
     "output_type": "display_data"
    },
    {
     "name": "stderr",
     "output_type": "stream",
     "text": [
      "Some weights of DebertaV2ForSequenceClassification were not initialized from the model checkpoint at microsoft/deberta-v3-small and are newly initialized: ['classifier.bias', 'classifier.weight', 'pooler.dense.bias', 'pooler.dense.weight']\n",
      "You should probably TRAIN this model on a down-stream task to be able to use it for predictions and inference.\n",
      "C:\\Users\\adishalit1\\AppData\\Local\\Temp\\ipykernel_23892\\2641461158.py:221: FutureWarning: `torch.cuda.amp.GradScaler(args...)` is deprecated. Please use `torch.amp.GradScaler('cuda', args...)` instead.\n",
      "  scaler = torch.cuda.amp.GradScaler(enabled=(DEVICE==\"cuda\" and use_amp))\n"
     ]
    },
    {
     "name": "stdout",
     "output_type": "stream",
     "text": [
      "✅ Student (deberta-v3-small) initialized with correct num_labels\n",
      "   🔓 Unfroze student layer 1 / 6\n",
      "   🔓 Unfroze student layer 2 / 6\n",
      "   🔓 Unfroze student layer 3 / 6\n",
      "   🔓 Unfroze student layer 4 / 6\n",
      "   🔓 Unfroze student layer 5 / 6\n",
      "   🔓 Unfroze student layer 6 / 6\n",
      "✅ Unfroze last 6 layers + classifier\n",
      "\n",
      "▶️ Epoch 1/4\n"
     ]
    },
    {
     "name": "stderr",
     "output_type": "stream",
     "text": [
      "Trial 8 Epoch 1:   0%|                                                                        | 0/5145 [00:00<?, ?it/s]C:\\Users\\adishalit1\\AppData\\Local\\Temp\\ipykernel_23892\\2641461158.py:241: FutureWarning: `torch.cuda.amp.autocast(args...)` is deprecated. Please use `torch.amp.autocast('cuda', args...)` instead.\n",
      "  with torch.cuda.amp.autocast(enabled=(DEVICE==\"cuda\" and use_amp)):\n",
      "                                                                                                                       \r"
     ]
    },
    {
     "name": "stdout",
     "output_type": "stream",
     "text": [
      "📊 Epoch 1 done. Val Macro-F1=0.4323, Acc=0.4265\n",
      "   ✅ New best F1\n",
      "\n",
      "▶️ Epoch 2/4\n"
     ]
    },
    {
     "name": "stderr",
     "output_type": "stream",
     "text": [
      "Trial 8 Epoch 2:   0%|                                                                        | 0/5145 [00:00<?, ?it/s]C:\\Users\\adishalit1\\AppData\\Local\\Temp\\ipykernel_23892\\2641461158.py:241: FutureWarning: `torch.cuda.amp.autocast(args...)` is deprecated. Please use `torch.amp.autocast('cuda', args...)` instead.\n",
      "  with torch.cuda.amp.autocast(enabled=(DEVICE==\"cuda\" and use_amp)):\n",
      "                                                                                                                       \r"
     ]
    },
    {
     "name": "stdout",
     "output_type": "stream",
     "text": [
      "📊 Epoch 2 done. Val Macro-F1=0.5513, Acc=0.5382\n",
      "   ✅ New best F1\n",
      "\n",
      "▶️ Epoch 3/4\n"
     ]
    },
    {
     "name": "stderr",
     "output_type": "stream",
     "text": [
      "Trial 8 Epoch 3:   0%|                                                                        | 0/5145 [00:00<?, ?it/s]C:\\Users\\adishalit1\\AppData\\Local\\Temp\\ipykernel_23892\\2641461158.py:241: FutureWarning: `torch.cuda.amp.autocast(args...)` is deprecated. Please use `torch.amp.autocast('cuda', args...)` instead.\n",
      "  with torch.cuda.amp.autocast(enabled=(DEVICE==\"cuda\" and use_amp)):\n",
      "                                                                                                                       \r"
     ]
    },
    {
     "name": "stdout",
     "output_type": "stream",
     "text": [
      "📊 Epoch 3 done. Val Macro-F1=0.5673, Acc=0.5558\n",
      "   ✅ New best F1\n",
      "\n",
      "▶️ Epoch 4/4\n"
     ]
    },
    {
     "name": "stderr",
     "output_type": "stream",
     "text": [
      "Trial 8 Epoch 4:   0%|                                                                        | 0/5145 [00:00<?, ?it/s]C:\\Users\\adishalit1\\AppData\\Local\\Temp\\ipykernel_23892\\2641461158.py:241: FutureWarning: `torch.cuda.amp.autocast(args...)` is deprecated. Please use `torch.amp.autocast('cuda', args...)` instead.\n",
      "  with torch.cuda.amp.autocast(enabled=(DEVICE==\"cuda\" and use_amp)):\n",
      "                                                                                                                       \r"
     ]
    },
    {
     "name": "stdout",
     "output_type": "stream",
     "text": [
      "📊 Epoch 4 done. Val Macro-F1=0.5835, Acc=0.5711\n",
      "   ✅ New best F1\n",
      "📦 Model size: 541.34 MB | ⏱️ Latency: 4.40 ms/sample\n"
     ]
    },
    {
     "name": "stderr",
     "output_type": "stream",
     "text": [
      "\u001b[34m\u001b[1mwandb\u001b[0m: \u001b[32m\u001b[41mERROR\u001b[0m The nbformat package was not found. It is required to save notebook history.\n"
     ]
    },
    {
     "name": "stdout",
     "output_type": "stream",
     "text": [
      "💾 Saved best student weights: ./KD_optuna_ex5_deberta_UPDATE\\best_student_trial_8.pt\n"
     ]
    },
    {
     "data": {
      "text/html": [],
      "text/plain": [
       "<IPython.core.display.HTML object>"
      ]
     },
     "metadata": {},
     "output_type": "display_data"
    },
    {
     "data": {
      "text/html": [
       "<br>    <style><br>        .wandb-row {<br>            display: flex;<br>            flex-direction: row;<br>            flex-wrap: wrap;<br>            justify-content: flex-start;<br>            width: 100%;<br>        }<br>        .wandb-col {<br>            display: flex;<br>            flex-direction: column;<br>            flex-basis: 100%;<br>            flex: 1;<br>            padding: 10px;<br>        }<br>    </style><br><div class=\"wandb-row\"><div class=\"wandb-col\"><h3>Run history:</h3><br/><table class=\"wandb\"><tr><td>F1_extremely negative</td><td>▁▆▇█</td></tr><tr><td>F1_extremely positive</td><td>▁▇██</td></tr><tr><td>F1_negative</td><td>▁▅▇█</td></tr><tr><td>F1_neutral</td><td>▁▇▇█</td></tr><tr><td>F1_positive</td><td>▁▆▇█</td></tr><tr><td>epoch</td><td>▁▁▁▁▁▁▁▁▁▁▁▁▁▃▃▃▃▃▃▃▃▃▃▆▆▆▆▆▆▆██████████</td></tr><tr><td>latency_ms</td><td>▁</td></tr><tr><td>model_size_mb</td><td>▁</td></tr><tr><td>step</td><td>▁▂▃▃▃▄▄▄▄▅▅▆▇▇▁▃▃▄▆▆██▂▂▅▆▇▇▇█▂▃▃▄▄▅▆▇▇█</td></tr><tr><td>train_loss</td><td>▅▄▆▅▇▆▅█▆▇▆▃▅▃▅▂▇▇▁▂▃▃▅▃▁▅▂▃▅▁▅▃▆▃▆▃▅▆▃▂</td></tr><tr><td>val_acc</td><td>▁▆▇█</td></tr><tr><td>val_macro_f1</td><td>▁▇▇█</td></tr></table><br/></div><div class=\"wandb-col\"><h3>Run summary:</h3><br/><table class=\"wandb\"><tr><td>F1_extremely negative</td><td>0.66149</td></tr><tr><td>F1_extremely positive</td><td>0.65084</td></tr><tr><td>F1_negative</td><td>0.52305</td></tr><tr><td>F1_neutral</td><td>0.62567</td></tr><tr><td>F1_positive</td><td>0.45622</td></tr><tr><td>epoch</td><td>4</td></tr><tr><td>latency_ms</td><td>4.4017</td></tr><tr><td>model_size_mb</td><td>541.34318</td></tr><tr><td>step</td><td>5100</td></tr><tr><td>train_loss</td><td>1.06605</td></tr><tr><td>val_acc</td><td>0.57109</td></tr><tr><td>val_macro_f1</td><td>0.58345</td></tr></table><br/></div></div>"
      ],
      "text/plain": [
       "<IPython.core.display.HTML object>"
      ]
     },
     "metadata": {},
     "output_type": "display_data"
    },
    {
     "data": {
      "text/html": [
       " View run <strong style=\"color:#cdcd00\">trial_8</strong> at: <a href='https://wandb.ai/adishalit1-tel-aviv-university/KD_optuna_ex5_deberta/runs/d3q4yjv7' target=\"_blank\">https://wandb.ai/adishalit1-tel-aviv-university/KD_optuna_ex5_deberta/runs/d3q4yjv7</a><br> View project at: <a href='https://wandb.ai/adishalit1-tel-aviv-university/KD_optuna_ex5_deberta' target=\"_blank\">https://wandb.ai/adishalit1-tel-aviv-university/KD_optuna_ex5_deberta</a><br>Synced 5 W&B file(s), 0 media file(s), 0 artifact file(s) and 0 other file(s)"
      ],
      "text/plain": [
       "<IPython.core.display.HTML object>"
      ]
     },
     "metadata": {},
     "output_type": "display_data"
    },
    {
     "data": {
      "text/html": [
       "Find logs at: <code>.\\wandb\\run-20250821_051147-d3q4yjv7\\logs</code>"
      ],
      "text/plain": [
       "<IPython.core.display.HTML object>"
      ]
     },
     "metadata": {},
     "output_type": "display_data"
    },
    {
     "name": "stderr",
     "output_type": "stream",
     "text": [
      "[I 2025-08-21 06:10:25,781] Trial 8 finished with value: 0.583452939907435 and parameters: {'alpha': 0.7940377625325481, 'T': 3.719471269993702, 'fine_tune_layers': 6, 'learning_rate': 1.1767000099148966e-06, 'use_amp': False}. Best is trial 8 with value: 0.583452939907435.\n"
     ]
    },
    {
     "name": "stdout",
     "output_type": "stream",
     "text": [
      "\n",
      "🔎 Trial 9 | alpha=0.783, T=1.53, epochs=4, fine_tune_layers=6, lr=7.90e-05, amp=False\n"
     ]
    },
    {
     "data": {
      "text/html": [
       "Tracking run with wandb version 0.21.1"
      ],
      "text/plain": [
       "<IPython.core.display.HTML object>"
      ]
     },
     "metadata": {},
     "output_type": "display_data"
    },
    {
     "data": {
      "text/html": [
       "Run data is saved locally in <code>C:\\Users\\adishalit1\\Desktop\\Adi\\ADL\\DL_2_Project\\wandb\\run-20250821_061025-818wgyv9</code>"
      ],
      "text/plain": [
       "<IPython.core.display.HTML object>"
      ]
     },
     "metadata": {},
     "output_type": "display_data"
    },
    {
     "data": {
      "text/html": [
       "Syncing run <strong><a href='https://wandb.ai/adishalit1-tel-aviv-university/KD_optuna_ex5_deberta/runs/818wgyv9' target=\"_blank\">trial_9</a></strong> to <a href='https://wandb.ai/adishalit1-tel-aviv-university/KD_optuna_ex5_deberta' target=\"_blank\">Weights & Biases</a> (<a href='https://wandb.me/developer-guide' target=\"_blank\">docs</a>)<br>"
      ],
      "text/plain": [
       "<IPython.core.display.HTML object>"
      ]
     },
     "metadata": {},
     "output_type": "display_data"
    },
    {
     "data": {
      "text/html": [
       " View project at <a href='https://wandb.ai/adishalit1-tel-aviv-university/KD_optuna_ex5_deberta' target=\"_blank\">https://wandb.ai/adishalit1-tel-aviv-university/KD_optuna_ex5_deberta</a>"
      ],
      "text/plain": [
       "<IPython.core.display.HTML object>"
      ]
     },
     "metadata": {},
     "output_type": "display_data"
    },
    {
     "data": {
      "text/html": [
       " View run at <a href='https://wandb.ai/adishalit1-tel-aviv-university/KD_optuna_ex5_deberta/runs/818wgyv9' target=\"_blank\">https://wandb.ai/adishalit1-tel-aviv-university/KD_optuna_ex5_deberta/runs/818wgyv9</a>"
      ],
      "text/plain": [
       "<IPython.core.display.HTML object>"
      ]
     },
     "metadata": {},
     "output_type": "display_data"
    },
    {
     "name": "stderr",
     "output_type": "stream",
     "text": [
      "Some weights of DebertaV2ForSequenceClassification were not initialized from the model checkpoint at microsoft/deberta-v3-small and are newly initialized: ['classifier.bias', 'classifier.weight', 'pooler.dense.bias', 'pooler.dense.weight']\n",
      "You should probably TRAIN this model on a down-stream task to be able to use it for predictions and inference.\n",
      "C:\\Users\\adishalit1\\AppData\\Local\\Temp\\ipykernel_23892\\2641461158.py:221: FutureWarning: `torch.cuda.amp.GradScaler(args...)` is deprecated. Please use `torch.amp.GradScaler('cuda', args...)` instead.\n",
      "  scaler = torch.cuda.amp.GradScaler(enabled=(DEVICE==\"cuda\" and use_amp))\n"
     ]
    },
    {
     "name": "stdout",
     "output_type": "stream",
     "text": [
      "✅ Student (deberta-v3-small) initialized with correct num_labels\n",
      "   🔓 Unfroze student layer 1 / 6\n",
      "   🔓 Unfroze student layer 2 / 6\n",
      "   🔓 Unfroze student layer 3 / 6\n",
      "   🔓 Unfroze student layer 4 / 6\n",
      "   🔓 Unfroze student layer 5 / 6\n",
      "   🔓 Unfroze student layer 6 / 6\n",
      "✅ Unfroze last 6 layers + classifier\n",
      "\n",
      "▶️ Epoch 1/4\n"
     ]
    },
    {
     "name": "stderr",
     "output_type": "stream",
     "text": [
      "Trial 9 Epoch 1:   0%|                                                                        | 0/5145 [00:00<?, ?it/s]C:\\Users\\adishalit1\\AppData\\Local\\Temp\\ipykernel_23892\\2641461158.py:241: FutureWarning: `torch.cuda.amp.autocast(args...)` is deprecated. Please use `torch.amp.autocast('cuda', args...)` instead.\n",
      "  with torch.cuda.amp.autocast(enabled=(DEVICE==\"cuda\" and use_amp)):\n",
      "                                                                                                                       \r"
     ]
    },
    {
     "name": "stdout",
     "output_type": "stream",
     "text": [
      "📊 Epoch 1 done. Val Macro-F1=0.7414, Acc=0.7306\n",
      "   ✅ New best F1\n",
      "\n",
      "▶️ Epoch 2/4\n"
     ]
    },
    {
     "name": "stderr",
     "output_type": "stream",
     "text": [
      "Trial 9 Epoch 2:   0%|                                                                        | 0/5145 [00:00<?, ?it/s]C:\\Users\\adishalit1\\AppData\\Local\\Temp\\ipykernel_23892\\2641461158.py:241: FutureWarning: `torch.cuda.amp.autocast(args...)` is deprecated. Please use `torch.amp.autocast('cuda', args...)` instead.\n",
      "  with torch.cuda.amp.autocast(enabled=(DEVICE==\"cuda\" and use_amp)):\n",
      "                                                                                                                       \r"
     ]
    },
    {
     "name": "stdout",
     "output_type": "stream",
     "text": [
      "📊 Epoch 2 done. Val Macro-F1=0.7775, Acc=0.7709\n",
      "   ✅ New best F1\n",
      "\n",
      "▶️ Epoch 3/4\n"
     ]
    },
    {
     "name": "stderr",
     "output_type": "stream",
     "text": [
      "Trial 9 Epoch 3:   0%|                                                                        | 0/5145 [00:00<?, ?it/s]C:\\Users\\adishalit1\\AppData\\Local\\Temp\\ipykernel_23892\\2641461158.py:241: FutureWarning: `torch.cuda.amp.autocast(args...)` is deprecated. Please use `torch.amp.autocast('cuda', args...)` instead.\n",
      "  with torch.cuda.amp.autocast(enabled=(DEVICE==\"cuda\" and use_amp)):\n",
      "                                                                                                                       \r"
     ]
    },
    {
     "name": "stdout",
     "output_type": "stream",
     "text": [
      "📊 Epoch 3 done. Val Macro-F1=0.8191, Acc=0.8131\n",
      "   ✅ New best F1\n",
      "\n",
      "▶️ Epoch 4/4\n"
     ]
    },
    {
     "name": "stderr",
     "output_type": "stream",
     "text": [
      "Trial 9 Epoch 4:   0%|                                                                        | 0/5145 [00:00<?, ?it/s]C:\\Users\\adishalit1\\AppData\\Local\\Temp\\ipykernel_23892\\2641461158.py:241: FutureWarning: `torch.cuda.amp.autocast(args...)` is deprecated. Please use `torch.amp.autocast('cuda', args...)` instead.\n",
      "  with torch.cuda.amp.autocast(enabled=(DEVICE==\"cuda\" and use_amp)):\n",
      "Trial 9 Epoch 4:  24%|###########5                                     | 1210/5145 [02:54<09:26,  6.95it/s, loss=0.818]"
     ]
    }
   ],
   "source": [
    "# === KD (DeBERTa v3) with Optuna + Early Stopping ===\n",
    "# Windows/Colab-safe, W&B robust, no dataloader hangs.\n",
    "# Teacher: microsoft/mdeberta-v3-base  (load your EX4 .pt)\n",
    "# Student: microsoft/deberta-v3-small\n",
    "# Data: Corona_NLP_*_cleaned_translated.csv\n",
    "# EPOCHS FIXED = 6 ; optional prune if epoch-1 val macro-F1 < 0.30\n",
    "# ================================================================\n",
    "\n",
    "import os, json, time, warnings, random, math, multiprocessing as mp\n",
    "os.environ.setdefault(\"TOKENIZERS_PARALLELISM\", \"false\")  # avoid deadlocks\n",
    "os.environ.setdefault(\"WANDB__SERVICE_WAIT\", \"300\")       # give W&B time to init\n",
    "\n",
    "import numpy as np\n",
    "import pandas as pd\n",
    "import torch, optuna, wandb\n",
    "from torch.utils.data import DataLoader, Dataset\n",
    "from transformers import AutoTokenizer, AutoModelForSequenceClassification, get_scheduler\n",
    "from sklearn.metrics import accuracy_score, f1_score\n",
    "from tqdm import tqdm\n",
    "\n",
    "# -------------------------\n",
    "# Repro & Torch backend\n",
    "# -------------------------\n",
    "def set_seed(seed=42):\n",
    "    random.seed(seed); np.random.seed(seed); torch.manual_seed(seed)\n",
    "    torch.cuda.manual_seed_all(seed)\n",
    "set_seed(42)\n",
    "\n",
    "torch.backends.cudnn.benchmark = True  # ok for training speed\n",
    "# If you still see instability, uncomment the next line\n",
    "# torch.backends.cudnn.deterministic = True\n",
    "\n",
    "DEVICE = \"cuda\" if torch.cuda.is_available() else \"cpu\"\n",
    "print(f\"✅ Using device: {DEVICE}\")\n",
    "\n",
    "OUT_DIR = \"./KD_optuna_ex5_deberta_UPDATE\"\n",
    "os.makedirs(OUT_DIR, exist_ok=True)\n",
    "\n",
    "# ---- Teacher (EX4) ----\n",
    "TEACHER_NAME    = \"microsoft/mdeberta-v3-base\"\n",
    "# ⛔ UPDATE THIS PATH TO YOUR TRAINED TEACHER CHECKPOINT\n",
    "TEACHER_PT_PATH = r\"hf_ckpts\\microsoft__mdeberta-v3-base_ex5_trainer-try__final_20250817_104013\\best_model_ex5.pt\"\n",
    "\n",
    "# ---- Student ----\n",
    "STUDENT_NAME = \"microsoft/deberta-v3-small\"\n",
    "\n",
    "# -------------------------\n",
    "# Label normalization + fixed order (matches EX5)\n",
    "# -------------------------\n",
    "ORDER = [\"extremely negative\",\"negative\",\"neutral\",\"positive\",\"extremely positive\"]\n",
    "LABEL2ID = {lab: i for i, lab in enumerate(ORDER)}\n",
    "ID2LABEL = {i: lab for lab, i in LABEL2ID.items()}\n",
    "print(f\"✅ Label mapping: {LABEL2ID}\")\n",
    "\n",
    "def normalize_label(s: str) -> str:\n",
    "    s = str(s).strip().lower()\n",
    "    s = s.replace(\"very negative\", \"extremely negative\")\n",
    "    s = s.replace(\"very positive\", \"extremely positive\")\n",
    "    s = s.replace(\"extreme negative\", \"extremely negative\")\n",
    "    s = s.replace(\"extreme positive\", \"extremely positive\")\n",
    "    return s\n",
    "\n",
    "# -------------------------\n",
    "# Load data\n",
    "# -------------------------\n",
    "train_df = pd.read_csv(\"Corona_NLP_train_cleaned_translated.csv\")\n",
    "test_df  = pd.read_csv(\"Corona_NLP_test_cleaned_translated.csv\")\n",
    "\n",
    "for df in (train_df, test_df):\n",
    "    df[\"OriginalTweet\"] = df[\"OriginalTweet\"].astype(str).str.strip()\n",
    "    df[\"Sentiment\"] = df[\"Sentiment\"].map(normalize_label)\n",
    "    df[\"label\"] = df[\"Sentiment\"].map(LABEL2ID)\n",
    "\n",
    "assert train_df[\"label\"].isnull().sum() == 0, \"❌ Unmapped train labels!\"\n",
    "assert test_df[\"label\"].isnull().sum() == 0, \"❌ Unmapped test labels!\"\n",
    "\n",
    "# -------------------------\n",
    "# Dataset (tokenize once with student's tokenizer)\n",
    "# -------------------------\n",
    "tok = AutoTokenizer.from_pretrained(STUDENT_NAME, use_fast=True)\n",
    "print(\"✅ Tokenizer loaded (student)\")\n",
    "\n",
    "class TextDataset(Dataset):\n",
    "    def __init__(self, df, tok, max_len=512):\n",
    "        self.texts = df[\"OriginalTweet\"].tolist()\n",
    "        self.labels = df[\"label\"].tolist()\n",
    "        self.tok = tok\n",
    "        self.max_len = max_len\n",
    "    def __len__(self): return len(self.texts)\n",
    "    def __getitem__(self, idx):\n",
    "        enc = self.tok(\n",
    "            str(self.texts[idx]),\n",
    "            truncation=True, padding=\"max_length\",\n",
    "            max_length=self.max_len, return_tensors=\"pt\"\n",
    "        )\n",
    "        item = {k: v.squeeze(0) for k, v in enc.items()}\n",
    "        item[\"labels\"] = torch.tensor(self.labels[idx], dtype=torch.long)\n",
    "        return item\n",
    "\n",
    "# ⚠️ Windows/Jupyter-safe DataLoader settings\n",
    "pin_mem = (DEVICE == \"cuda\")\n",
    "NUM_WORKERS = 0  # <- key fix: avoid multiprocessing workers that can hang on Windows/Jupyter\n",
    "PERSISTENT = False\n",
    "\n",
    "train_ds, test_ds = TextDataset(train_df, tok), TextDataset(test_df, tok)\n",
    "train_loader = DataLoader(train_ds, batch_size=8, shuffle=True, pin_memory=pin_mem,\n",
    "                          num_workers=NUM_WORKERS, persistent_workers=PERSISTENT)\n",
    "test_loader  = DataLoader(test_ds,  batch_size=8, shuffle=False, pin_memory=pin_mem,\n",
    "                          num_workers=NUM_WORKERS, persistent_workers=PERSISTENT)\n",
    "print(f\"✅ DataLoaders ready: train={len(train_loader)}, test={len(test_loader)}\")\n",
    "\n",
    "# -------------------------\n",
    "# Teacher (frozen) — correct arch + label map\n",
    "# -------------------------\n",
    "teacher = AutoModelForSequenceClassification.from_pretrained(\n",
    "    TEACHER_NAME, num_labels=len(LABEL2ID), id2label=ID2LABEL, label2id=LABEL2ID\n",
    ")\n",
    "sd = torch.load(TEACHER_PT_PATH, map_location=\"cpu\")\n",
    "try:\n",
    "    teacher.load_state_dict(sd, strict=True)\n",
    "except RuntimeError as e:\n",
    "    warnings.warn(f\"[Teacher] strict=True failed: {e}\\nRetrying with strict=False\")\n",
    "    teacher.load_state_dict(sd, strict=False)\n",
    "teacher.to(DEVICE).eval()\n",
    "for p in teacher.parameters(): p.requires_grad = False\n",
    "print(\"✅ Teacher loaded & frozen with correct label mapping\")\n",
    "\n",
    "# -------------------------\n",
    "# KD loss\n",
    "# -------------------------\n",
    "def kd_loss_fn(student_logits, teacher_logits, labels, alpha=0.5, T=2.0):\n",
    "    ce = torch.nn.functional.cross_entropy(student_logits, labels)\n",
    "    kd = torch.nn.functional.kl_div(\n",
    "        torch.nn.functional.log_softmax(student_logits/T, dim=-1),\n",
    "        torch.nn.functional.softmax(teacher_logits/T, dim=-1),\n",
    "        reduction=\"batchmean\"\n",
    "    ) * (T*T)\n",
    "    return alpha * ce + (1 - alpha) * kd\n",
    "\n",
    "# -------------------------\n",
    "# Helpers: model size + latency\n",
    "# -------------------------\n",
    "def get_model_size(model):\n",
    "    tmp_path = os.path.join(OUT_DIR, \"temp_model.pt\")\n",
    "    torch.save(model.state_dict(), tmp_path)\n",
    "    size_mb = os.path.getsize(tmp_path) / (1024*1024)\n",
    "    try: os.remove(tmp_path)\n",
    "    except Exception: pass\n",
    "    return size_mb\n",
    "\n",
    "@torch.no_grad()\n",
    "def get_latency(model, loader, n_batches=20):\n",
    "    model.eval()\n",
    "    times = []\n",
    "    it = 0\n",
    "    for i, batch in enumerate(loader):\n",
    "        if i >= n_batches: break\n",
    "        batch = {k: v.to(DEVICE, non_blocking=True) for k, v in batch.items()}\n",
    "        if torch.cuda.is_available(): torch.cuda.synchronize()\n",
    "        t0 = time.perf_counter()\n",
    "        _ = model(input_ids=batch[\"input_ids\"], attention_mask=batch[\"attention_mask\"])\n",
    "        if torch.cuda.is_available(): torch.cuda.synchronize()\n",
    "        dt = (time.perf_counter() - t0) / batch[\"input_ids\"].size(0)\n",
    "        times.append(dt); it += 1\n",
    "    return (np.mean(times) * 1000.0) if times else None  # ms/sample\n",
    "\n",
    "# -------------------------\n",
    "# Optuna Objective\n",
    "# -------------------------\n",
    "FIXED_EPOCHS = 4\n",
    "EARLY_TRIAL_CUTOFF = 0.30  # macro-F1 threshold after first epoch\n",
    "\n",
    "def objective(trial):\n",
    "    alpha = trial.suggest_float(\"alpha\", 0.2, 0.8)\n",
    "    T = trial.suggest_float(\"T\", 1.0, 5.0)\n",
    "    fine_tune_layers = trial.suggest_int(\"fine_tune_layers\", 3, 6)\n",
    "    lr = trial.suggest_float(\"learning_rate\", 1e-6, 1e-3, log=True)\n",
    "    use_amp = trial.suggest_categorical(\"use_amp\", [True, False])\n",
    "    max_grad_norm = 1.0\n",
    "\n",
    "    print(f\"\\n🔎 Trial {trial.number} | alpha={alpha:.3f}, T={T:.2f}, epochs={FIXED_EPOCHS}, \"\n",
    "          f\"fine_tune_layers={fine_tune_layers}, lr={lr:.2e}, amp={use_amp}\")\n",
    "\n",
    "    # Robust W&B init; auto-falls back to offline if no login\n",
    "    run = wandb.init(\n",
    "        project=\"KD_optuna_ex5_deberta\",\n",
    "        name=f\"trial_{trial.number}\",\n",
    "        reinit=True,\n",
    "        settings=wandb.Settings(start_method=\"thread\"),\n",
    "        config={\"alpha\": alpha, \"T\": T, \"epochs\": FIXED_EPOCHS,\n",
    "                \"fine_tune_layers\": fine_tune_layers, \"lr\": lr, \"use_amp\": use_amp},\n",
    "        mode=os.environ.get(\"WANDB_MODE\", \"online\"),\n",
    "    )\n",
    "\n",
    "    try:\n",
    "        # --- Student: DeBERTa-v3-small ---\n",
    "        student = AutoModelForSequenceClassification.from_pretrained(\n",
    "            STUDENT_NAME,\n",
    "            num_labels=len(LABEL2ID),\n",
    "            id2label=ID2LABEL, label2id=LABEL2ID\n",
    "        ).to(DEVICE)\n",
    "        print(\"✅ Student (deberta-v3-small) initialized with correct num_labels\")\n",
    "\n",
    "        # Freeze all, unfreeze last `fine_tune_layers` of encoder + classifier\n",
    "        for p in student.parameters(): p.requires_grad = False\n",
    "        enc_layers = student.deberta.encoder.layer\n",
    "        n_layers = len(enc_layers)\n",
    "        k = min(fine_tune_layers, n_layers)\n",
    "        for i, layer in enumerate(enc_layers[-k:], 1):\n",
    "            for p in layer.parameters(): p.requires_grad = True\n",
    "            print(f\"   🔓 Unfroze student layer {n_layers - k + i} / {n_layers}\")\n",
    "        if hasattr(student, \"classifier\"):\n",
    "            for p in student.classifier.parameters(): p.requires_grad = True\n",
    "        print(f\"✅ Unfroze last {k} layers + classifier\")\n",
    "\n",
    "        # Optimizer + scheduler\n",
    "        optim = torch.optim.AdamW(filter(lambda p: p.requires_grad, student.parameters()), lr=lr)\n",
    "        sched = get_scheduler(\"linear\", optim, num_warmup_steps=0,\n",
    "                              num_training_steps=len(train_loader) * FIXED_EPOCHS)\n",
    "\n",
    "        scaler = torch.cuda.amp.GradScaler(enabled=(DEVICE==\"cuda\" and use_amp))\n",
    "\n",
    "        best_val_f1 = -1.0\n",
    "        patience = 3\n",
    "        patience_counter = 0\n",
    "        best_model_state = None\n",
    "\n",
    "        for epoch in range(FIXED_EPOCHS):\n",
    "            print(f\"\\n▶️ Epoch {epoch+1}/{FIXED_EPOCHS}\")\n",
    "            student.train()\n",
    "            loop = tqdm(train_loader, desc=f\"Trial {trial.number} Epoch {epoch+1}\",\n",
    "                        ascii=True, leave=False)\n",
    "\n",
    "            for step, batch in enumerate(loop):\n",
    "                batch = {k: v.to(DEVICE, non_blocking=True) for k, v in batch.items()}\n",
    "\n",
    "                with torch.no_grad():\n",
    "                    t_out = teacher(input_ids=batch[\"input_ids\"], attention_mask=batch[\"attention_mask\"])\n",
    "\n",
    "                optim.zero_grad(set_to_none=True)\n",
    "                with torch.cuda.amp.autocast(enabled=(DEVICE==\"cuda\" and use_amp)):\n",
    "                    s_out = student(input_ids=batch[\"input_ids\"], attention_mask=batch[\"attention_mask\"])\n",
    "                    loss = kd_loss_fn(s_out.logits, t_out.logits, batch[\"labels\"], alpha=alpha, T=T)\n",
    "\n",
    "                scaler.scale(loss).backward()\n",
    "                # gradient clipping\n",
    "                scaler.unscale_(optim)\n",
    "                torch.nn.utils.clip_grad_norm_(student.parameters(), max_grad_norm)\n",
    "\n",
    "                scaler.step(optim)\n",
    "                scaler.update()\n",
    "                sched.step()\n",
    "\n",
    "                loop.set_postfix(loss=float(loss))\n",
    "                if step % 50 == 0:\n",
    "                    wandb.log({\"train_loss\": float(loss), \"epoch\": epoch+1, \"step\": step})\n",
    "\n",
    "            # === Validation ===\n",
    "            student.eval()\n",
    "            all_preds, all_labels = [], []\n",
    "            with torch.no_grad():\n",
    "                for batch in test_loader:\n",
    "                    batch = {k: v.to(DEVICE, non_blocking=True) for k, v in batch.items()}\n",
    "                    out = student(input_ids=batch[\"input_ids\"], attention_mask=batch[\"attention_mask\"])\n",
    "                    preds = out.logits.argmax(dim=-1).cpu().numpy()\n",
    "                    all_preds.extend(preds)\n",
    "                    all_labels.extend(batch[\"labels\"].cpu().numpy())\n",
    "\n",
    "            macro_f1 = f1_score(all_labels, all_preds, average=\"macro\")\n",
    "            acc = accuracy_score(all_labels, all_preds)\n",
    "            print(f\"📊 Epoch {epoch+1} done. Val Macro-F1={macro_f1:.4f}, Acc={acc:.4f}\")\n",
    "\n",
    "            # log per-class F1\n",
    "            per_class = f1_score(all_labels, all_preds, average=None,\n",
    "                                 labels=list(range(len(LABEL2ID))))\n",
    "            log_dict = {\"epoch\": epoch+1, \"val_macro_f1\": macro_f1, \"val_acc\": acc}\n",
    "            for i in range(len(ID2LABEL)):\n",
    "                log_dict[f\"F1_{ID2LABEL[i]}\"] = float(per_class[i])\n",
    "            wandb.log(log_dict)\n",
    "\n",
    "            # Optional: prune whole trial if epoch-1 macro-F1 is poor\n",
    "            if epoch == 0 and macro_f1 < EARLY_TRIAL_CUTOFF:\n",
    "                print(f\"🛑 Pruning trial {trial.number}: epoch-1 macro-F1 {macro_f1:.4f} < {EARLY_TRIAL_CUTOFF}\")\n",
    "                raise optuna.TrialPruned(f\"Epoch1 macro-F1 {macro_f1:.4f} < {EARLY_TRIAL_CUTOFF}\")\n",
    "\n",
    "            # Standard early stopping after epoch 1\n",
    "            if macro_f1 > best_val_f1:\n",
    "                best_val_f1 = macro_f1\n",
    "                patience_counter = 0\n",
    "                best_model_state = {k: v.cpu() for k, v in student.state_dict().items()}\n",
    "                print(\"   ✅ New best F1\")\n",
    "            else:\n",
    "                patience_counter += 1\n",
    "                print(f\"   ⚠️ No improvement. Patience counter={patience_counter}\")\n",
    "                if patience_counter >= patience:\n",
    "                    print(f\"⏹️ Early stopping at epoch {epoch+1}\")\n",
    "                    break\n",
    "\n",
    "        assert best_model_state is not None, \"No best model captured; something went wrong.\"\n",
    "        student.load_state_dict(best_model_state)\n",
    "        student.to(DEVICE)\n",
    "\n",
    "        # === Size & Latency Measurement (student) ===\n",
    "        model_size = get_model_size(student)\n",
    "        latency = get_latency(student, test_loader, n_batches=20)\n",
    "        print(f\"📦 Model size: {model_size:.2f} MB | ⏱️ Latency: {latency:.2f} ms/sample\")\n",
    "\n",
    "        # Save best student for this trial\n",
    "        trial_model_path = os.path.join(OUT_DIR, f\"best_student_trial_{trial.number}.pt\")\n",
    "        torch.save(student.state_dict(), trial_model_path)\n",
    "        print(f\"💾 Saved best student weights: {trial_model_path}\")\n",
    "\n",
    "        wandb.log({\"model_size_mb\": float(model_size), \"latency_ms\": float(latency)})\n",
    "        trial.set_user_attr(\"macro_f1\", float(best_val_f1))\n",
    "        trial.set_user_attr(\"model_size_mb\", float(model_size))\n",
    "        trial.set_user_attr(\"latency_ms\", float(latency))\n",
    "        trial.set_user_attr(\"model_path\", trial_model_path)\n",
    "        return best_val_f1\n",
    "\n",
    "    finally:\n",
    "        # Always close the run, even if pruned/errored\n",
    "        try: wandb.finish()\n",
    "        except Exception: pass\n",
    "\n",
    "# -------------------------\n",
    "# Main entry (Windows-safe)\n",
    "# -------------------------\n",
    "def main():\n",
    "    print(\"🚀 Starting Optuna\")\n",
    "    study = optuna.create_study(direction=\"maximize\")\n",
    "    try:\n",
    "        study.optimize(objective, n_trials=10, show_progress_bar=False)\n",
    "    except KeyboardInterrupt:\n",
    "        print(\"⏹️ Interrupted by user. Summarizing…\")\n",
    "\n",
    "    print(\"✅ Study complete\")\n",
    "    print(\"Best trial:\", study.best_trial.number)\n",
    "    print(\"  Macro-F1:\", study.best_value)\n",
    "    print(\"  Params:\", study.best_trial.params)\n",
    "\n",
    "    # -------------------------\n",
    "    # Save best results (incl size & latency)\n",
    "    # -------------------------\n",
    "    best_path = os.path.join(OUT_DIR, \"best_study.json\")\n",
    "    with open(best_path, \"w\") as f:\n",
    "        json.dump({\n",
    "            \"trial\": study.best_trial.number,\n",
    "            \"macro_f1\": study.best_value,\n",
    "            \"params\": study.best_trial.params,\n",
    "            \"model_size_mb\": study.best_trial.user_attrs.get(\"model_size_mb\", None),\n",
    "            \"latency_ms\": study.best_trial.user_attrs.get(\"latency_ms\", None),\n",
    "            \"model_path\": study.best_trial.user_attrs.get(\"model_path\", None),\n",
    "        }, f, indent=2)\n",
    "    print(\"✅ Best trial saved:\", best_path)\n",
    "\n",
    "if __name__ == \"__main__\":\n",
    "    mp.freeze_support()  # <- crucial for Windows\n",
    "    main()\n"
   ]
  },
  {
   "cell_type": "markdown",
   "id": "fe0ad1ad-dc08-4894-96c7-e55479d8cd5d",
   "metadata": {},
   "source": [
    "# 📊 KD (EX5 • DeBERTa) — Optuna Hyperparameter Tuning Results\n",
    "\n",
    "We tuned Knowledge Distillation for **Teacher = mDeBERTa-v3-base → Student = DeBERTa-v3-small**.  \n",
    "Search space: **T (temperature), α (CE vs KD mix), fine_tune_layers, learning rate**.  \n",
    "Metrics: **val_macro_f1, val_acc (+ latency & size when available).**\n",
    "\n",
    "---\n",
    "\n",
    "## 🔎 Results (top trials you shared)\n",
    "\n",
    "| Trial | T       | α      | Layers | LR         | Val Macro-F1 | Val Acc | Latency (ms) | Size (MB) |\n",
    "|-------|---------|--------|--------|------------|--------------|---------|--------------|-----------|\n",
    "| #9    | 1.5338  | 0.7834 | 6      | 7.9002e-05 | **0.8191**   | **0.8131** | —            | —         |\n",
    "| #0    | 4.6700  | 0.7369 | 3      | 3.9170e-05 | 0.7111       | 0.7017  | 3.7380       | 541.34    |\n",
    "| #6    | 2.0320  | 0.6647 | 4      | 1.6848e-05 | 0.6137       | 0.5866  | —            | —         |\n",
    "| #8    | 3.7195  | 0.7940 | 6      | 1.1767e-06 | 0.5835       | 0.5711  | 4.4017       | 541.34    |\n",
    "| #5    | 3.3374  | 0.6991 | 4      | 5.7890e-06 | 0.5564       | 0.5295  | 4.2400       | 541.34    |\n",
    "| #0*   | 2.0739  | 0.6647 | 3      | 3.1061e-06 | 0.2050       | 0.2370  | —            | —         |\n",
    "| #2    | 1.0015  | 0.5158 | 3      | 1.7230e-04 | 0.1925       | 0.2536  | —            | —         |\n",
    "| #6*   | 4.0908  | 0.7104 | 4      | 1.2086e-06 | 0.0806       | 0.1746  | —            | —         |\n",
    "| #5*   | 3.6225  | 0.4291 | 3      | 3.2758e-05 | 0.0561       | 0.1630  | —            | —         |\n",
    "| #3    | 3.6154  | 0.2612 | 5      | 5.6181e-06 | 0.0561       | 0.1630  | —            | —         |\n",
    "\n",
    "\\* Duplicate trial names in logs; kept as provided.\n",
    "\n",
    "---\n",
    "\n",
    "## 🏆 Selected Best Hyperparameters (Trial #9)\n",
    "\n",
    "- **Student**: `microsoft/deberta-v3-small`  \n",
    "- **α (alpha)**: 0.78335  \n",
    "- **T (temperature)**: 1.53376  \n",
    "- **fine_tune_layers**: 6  \n",
    "- **learning_rate**: 7.9002e-05  \n",
    "- **val_macro_f1**: 0.8191  \n",
    "- **val_acc**: 0.8131  \n",
    "\n",
    "**Why this pick?**  \n",
    "Highest val_macro_f1 and val_acc among all trials, with the largest portion of the student unfrozen (6 layers), and a moderately high learning rate that worked well with strong teacher guidance (high α).\n",
    "\n",
    "---\n",
    "\n",
    "## ▶️ Next Step\n",
    "\n",
    "We will **final-train the student** using the best HPs above on the full training set, then report:  \n",
    "- Accuracy & Macro-F1 on the test set  \n",
    "- Per-class F1 scores  \n",
    "- Latency (ms/sample)  \n",
    "- Model size (MB)  \n",
    "- Final checkpoint path for deployment\n"
   ]
  },
  {
   "cell_type": "code",
   "execution_count": 2,
   "id": "41976be4-b83f-4c12-bfbe-68fe5fa19172",
   "metadata": {},
   "outputs": [
    {
     "name": "stdout",
     "output_type": "stream",
     "text": [
      "✅ Saved best HPs to: KD_optuna_ex5\\best_kd_hp_manual_ex5.json\n"
     ]
    }
   ],
   "source": [
    "# =========================\n",
    "# 1) SAVE best HPs to JSON\n",
    "# =========================\n",
    "import os, json\n",
    "\n",
    "OUT_DIR = \"KD_optuna_ex5\"   # keep same folder you already use\n",
    "os.makedirs(OUT_DIR, exist_ok=True)\n",
    "\n",
    "best_hp = {\n",
    "    \"alpha\": 0.78335,\n",
    "    \"temperature\":1.53376,\n",
    "    \"epochs\": 8,\n",
    "    \"fine_tune_layers\": 6,\n",
    "    \"learning_rate\": 0.000079002,\n",
    "    \"batch_size\": 8,\n",
    "    \"max_len\": 512,\n",
    "    \"seed\": 42,\n",
    "    \"student_name\": \"microsoft/deberta-v3-small\",\n",
    "    \"teacher_name\": \"microsoft/mdeberta-v3-base\"\n",
    "}\n",
    "\n",
    "hp_path = os.path.join(OUT_DIR, \"best_kd_hp_manual_ex5.json\")\n",
    "with open(hp_path, \"w\") as f:\n",
    "    json.dump(best_hp, f, indent=2)\n",
    "print(\"✅ Saved best HPs to:\", hp_path)\n"
   ]
  },
  {
   "cell_type": "markdown",
   "id": "f95cba76-a3de-4df0-b57e-73a106bb0b60",
   "metadata": {},
   "source": [
    "# Load Best Model"
   ]
  },
  {
   "cell_type": "code",
   "execution_count": 3,
   "id": "ccb87ad4-08c9-4d00-8e1e-516776731fa3",
   "metadata": {},
   "outputs": [
    {
     "name": "stdout",
     "output_type": "stream",
     "text": [
      "✅ Loaded HPs:\n",
      "  alpha: 0.78335\n",
      "  temperature: 1.53376\n",
      "  epochs: 8\n",
      "  fine_tune_layers: 6\n",
      "  learning_rate: 7.9002e-05\n",
      "  batch_size: 8\n",
      "  max_len: 512\n",
      "  seed: 42\n",
      "  student_name: microsoft/deberta-v3-small\n",
      "  teacher_name: microsoft/mdeberta-v3-base\n"
     ]
    }
   ],
   "source": [
    "# =========================\n",
    "# 2) LOAD HPs from JSON\n",
    "# =========================\n",
    "import json, os\n",
    "\n",
    "OUT_DIR = \"KD_optuna_ex5\"\n",
    "hp_path = os.path.join(OUT_DIR, \"best_kd_hp_manual_ex5.json\")\n",
    "\n",
    "with open(hp_path, \"r\") as f:\n",
    "    HP = json.load(f)\n",
    "\n",
    "print(\"✅ Loaded HPs:\")\n",
    "for k, v in HP.items():\n",
    "    print(f\"  {k}: {v}\")\n",
    "\n",
    "# Example: assign to variables you use later\n",
    "alpha            = HP[\"alpha\"]\n",
    "T                = HP[\"temperature\"]\n",
    "max_epochs       = HP[\"epochs\"]\n",
    "fine_tune_layers = HP[\"fine_tune_layers\"]\n",
    "lr               = HP[\"learning_rate\"]\n",
    "BATCH_SIZE       = HP[\"batch_size\"]\n",
    "MAX_LEN          = HP[\"max_len\"]\n",
    "SEED             = HP[\"seed\"]\n",
    "STUDENT_NAME     = HP[\"student_name\"]\n",
    "TEACHER_NAME     = HP[\"teacher_name\"]\n"
   ]
  },
  {
   "cell_type": "code",
   "execution_count": 8,
   "id": "977a5a97-97d2-4923-b54b-f38a5631b06c",
   "metadata": {},
   "outputs": [
    {
     "name": "stdout",
     "output_type": "stream",
     "text": [
      "✅ Using device for STUDENT: cuda (teacher will stay on CPU)\n",
      "✅ Data ready: train=41155, test=3798\n"
     ]
    },
    {
     "name": "stderr",
     "output_type": "stream",
     "text": [
      "Some weights of DebertaV2ForSequenceClassification were not initialized from the model checkpoint at microsoft/mdeberta-v3-base and are newly initialized: ['classifier.bias', 'classifier.weight', 'pooler.dense.bias', 'pooler.dense.weight']\n",
      "You should probably TRAIN this model on a down-stream task to be able to use it for predictions and inference.\n",
      "C:\\Users\\adishalit1\\AppData\\Local\\anaconda3\\envs\\dl4090\\Lib\\site-packages\\transformers\\convert_slow_tokenizer.py:564: UserWarning: The sentencepiece tokenizer that you are converting to a fast tokenizer uses the byte fallback option which is not implemented in the fast tokenizers. In practice this means that the fast version of the tokenizer can produce unknown tokens whereas the sentencepiece version would have converted these unknown tokens into a sequence of byte tokens matching the original piece of text.\n",
      "  warnings.warn(\n"
     ]
    },
    {
     "name": "stdout",
     "output_type": "stream",
     "text": [
      "✅ Teacher loaded (CPU-only) & sanity-checked\n"
     ]
    },
    {
     "name": "stderr",
     "output_type": "stream",
     "text": [
      "Some weights of DebertaV2ForSequenceClassification were not initialized from the model checkpoint at microsoft/deberta-v3-small and are newly initialized: ['classifier.bias', 'classifier.weight', 'pooler.dense.bias', 'pooler.dense.weight']\n",
      "You should probably TRAIN this model on a down-stream task to be able to use it for predictions and inference.\n"
     ]
    },
    {
     "name": "stdout",
     "output_type": "stream",
     "text": [
      "🎯 Student: microsoft/deberta-v3-small\n",
      "   🔓 Unfroze last 6/6 layers at deberta.encoder.layer\n",
      "⚙️  Training with alpha=0.78335, T=1.53376, lr=7.9002e-05, layers=6, epochs=8\n"
     ]
    },
    {
     "name": "stderr",
     "output_type": "stream",
     "text": [
      "Epoch 1/8:   0%|                                                                              | 0/5145 [00:00<?, ?it/s]C:\\Users\\adishalit1\\AppData\\Local\\Temp\\ipykernel_26640\\1835815359.py:211: UserWarning: To copy construct from a tensor, it is recommended to use sourceTensor.clone().detach() or sourceTensor.clone().detach().requires_grad_(True), rather than torch.tensor(sourceTensor).\n",
      "  y_t = torch.tensor(y, dtype=torch.long, device=DEVICE)\n",
      "Epoch 1/8: 100%|███████████████████████████████████████████████████████| 5145/5145 [32:53<00:00,  2.61it/s, loss=0.642]\n"
     ]
    },
    {
     "name": "stdout",
     "output_type": "stream",
     "text": [
      "Epoch 1 | Train Loss=1.0848\n"
     ]
    },
    {
     "name": "stderr",
     "output_type": "stream",
     "text": [
      "Epoch 2/8: 100%|██████████████████████████████████████████████████████| 5145/5145 [33:18<00:00,  2.57it/s, loss=0.0373]\n"
     ]
    },
    {
     "name": "stdout",
     "output_type": "stream",
     "text": [
      "Epoch 2 | Train Loss=0.6560\n"
     ]
    },
    {
     "name": "stderr",
     "output_type": "stream",
     "text": [
      "Epoch 3/8: 100%|███████████████████████████████████████████████████████| 5145/5145 [33:13<00:00,  2.58it/s, loss=0.569]\n"
     ]
    },
    {
     "name": "stdout",
     "output_type": "stream",
     "text": [
      "Epoch 3 | Train Loss=0.4942\n"
     ]
    },
    {
     "name": "stderr",
     "output_type": "stream",
     "text": [
      "Epoch 4/8: 100%|███████████████████████████████████████████████████████| 5145/5145 [33:10<00:00,  2.58it/s, loss=0.178]\n"
     ]
    },
    {
     "name": "stdout",
     "output_type": "stream",
     "text": [
      "Epoch 4 | Train Loss=0.3724\n"
     ]
    },
    {
     "name": "stderr",
     "output_type": "stream",
     "text": [
      "Epoch 5/8: 100%|██████████████████████████████████████████████████████| 5145/5145 [33:22<00:00,  2.57it/s, loss=0.0978]\n"
     ]
    },
    {
     "name": "stdout",
     "output_type": "stream",
     "text": [
      "Epoch 5 | Train Loss=0.2946\n"
     ]
    },
    {
     "name": "stderr",
     "output_type": "stream",
     "text": [
      "Epoch 6/8: 100%|██████████████████████████████████████████████████████| 5145/5145 [33:15<00:00,  2.58it/s, loss=0.0104]\n"
     ]
    },
    {
     "name": "stdout",
     "output_type": "stream",
     "text": [
      "Epoch 6 | Train Loss=0.2345\n"
     ]
    },
    {
     "name": "stderr",
     "output_type": "stream",
     "text": [
      "Epoch 7/8: 100%|██████████████████████████████████████████████████████| 5145/5145 [32:59<00:00,  2.60it/s, loss=0.0969]\n"
     ]
    },
    {
     "name": "stdout",
     "output_type": "stream",
     "text": [
      "Epoch 7 | Train Loss=0.1872\n"
     ]
    },
    {
     "name": "stderr",
     "output_type": "stream",
     "text": [
      "Epoch 8/8: 100%|███████████████████████████████████████████████████████| 5145/5145 [33:15<00:00,  2.58it/s, loss=0.243]\n"
     ]
    },
    {
     "name": "stdout",
     "output_type": "stream",
     "text": [
      "Epoch 8 | Train Loss=0.1590\n",
      "✅ Student saved to KD_final_ex5\\ex5_deberta_student_best_hp.pt\n"
     ]
    },
    {
     "name": "stderr",
     "output_type": "stream",
     "text": [
      "Testing: 100%|███████████████████████████████████████████████████████████████████████| 475/475 [00:05<00:00, 88.93it/s]\n"
     ]
    },
    {
     "name": "stdout",
     "output_type": "stream",
     "text": [
      "\n",
      "=== Final Test Evaluation ===\n",
      "Accuracy : 0.8457\n",
      "Macro F1 : 0.8507\n",
      "\n",
      "Classification Report:\n",
      "                     precision    recall  f1-score   support\n",
      "\n",
      "extremely negative     0.8336    0.9054    0.8680       592\n",
      "          negative     0.8412    0.8088    0.8247      1041\n",
      "           neutral     0.8678    0.8481    0.8578       619\n",
      "          positive     0.8346    0.8152    0.8248       947\n",
      "extremely positive     0.8606    0.8965    0.8782       599\n",
      "\n",
      "          accuracy                         0.8457      3798\n",
      "         macro avg     0.8475    0.8548    0.8507      3798\n",
      "      weighted avg     0.8457    0.8457    0.8453      3798\n",
      "\n",
      "⏱️ Latency: 1.41 ms/sample\n",
      "💾 Model size: 541.35 MB\n"
     ]
    }
   ],
   "source": [
    "# === Final KD Training with Best Hyperparameters (WORKING) ===\n",
    "import os, time, json, math, warnings, random\n",
    "import numpy as np\n",
    "import pandas as pd\n",
    "from tqdm import tqdm\n",
    "\n",
    "import torch\n",
    "from torch.utils.data import DataLoader, Dataset\n",
    "from torch.optim import AdamW\n",
    "from sklearn.metrics import accuracy_score, f1_score, classification_report\n",
    "from transformers import (\n",
    "    AutoConfig, AutoTokenizer, AutoModelForSequenceClassification,\n",
    "    get_scheduler\n",
    ")\n",
    "\n",
    "# -------------------------\n",
    "# Repro & device\n",
    "# -------------------------\n",
    "SEED = 42\n",
    "random.seed(SEED); np.random.seed(SEED); torch.manual_seed(SEED)\n",
    "if torch.cuda.is_available(): torch.cuda.manual_seed_all(SEED)\n",
    "\n",
    "DEVICE = \"cuda\" if torch.cuda.is_available() else \"cpu\"\n",
    "print(f\"✅ Using device for STUDENT: {DEVICE} (teacher will stay on CPU)\")\n",
    "\n",
    "# -------------------------\n",
    "# Paths & constants\n",
    "# -------------------------\n",
    "OUT_DIR = \"KD_final_ex5\"; os.makedirs(OUT_DIR, exist_ok=True)\n",
    "TEACHER_BASE   = \"microsoft/mdeberta-v3-base\"\n",
    "TEACHER_SOURCE = r\"hf_ckpts\\microsoft__mdeberta-v3-base_ex5_trainer-try__final_20250817_104013\\best_model_ex5.pt\"\n",
    "\n",
    "MAX_LEN = 512\n",
    "BATCH_SIZE = 8\n",
    "\n",
    "# Best HP (will try to load from JSON; otherwise fallback to your best trial)\n",
    "BEST_HP_JSON = \"best_kd_hp_manual_ex5.json\"   # optional\n",
    "# hp = {\n",
    "#     \"alpha\": 0.6041028193,\n",
    "#     \"T\": 1.0049352770,\n",
    "#     \"fine_tune_layers\": 6,\n",
    "#     \"lr\": 2.6340613595e-05,\n",
    "#     \"epochs\": 5\n",
    "# }\n",
    "if os.path.exists(BEST_HP_JSON):\n",
    "    try:\n",
    "        with open(BEST_HP_JSON, \"r\") as f:\n",
    "            loaded = json.load(f)\n",
    "        hp.update(loaded)\n",
    "        print(f\"📥 Loaded HP from {BEST_HP_JSON}: {hp}\")\n",
    "    except Exception as e:\n",
    "        print(f\"⚠️ Failed to load {BEST_HP_JSON} ({e}); using defaults.\")\n",
    "\n",
    "# alpha = float(hp[\"alpha\"])\n",
    "# T = float(hp[\"T\"])\n",
    "# fine_tune_layers = int(hp[\"fine_tune_layers\"])\n",
    "# lr = float(hp[\"lr\"])\n",
    "# epochs = 8\n",
    "\n",
    "# -------------------------\n",
    "# Labels & data\n",
    "# -------------------------\n",
    "def normalize_label(s: str) -> str:\n",
    "    s = str(s).strip().lower()\n",
    "    s = s.replace(\"very negative\", \"extremely negative\")\n",
    "    s = s.replace(\"very positive\", \"extremely positive\")\n",
    "    s = s.replace(\"extreme negative\", \"extremely negative\")\n",
    "    s = s.replace(\"extreme positive\", \"extremely positive\")\n",
    "    return s\n",
    "\n",
    "ORDER = [\"extremely negative\", \"negative\", \"neutral\", \"positive\", \"extremely positive\"]\n",
    "LABEL2ID = {lab: i for i, lab in enumerate(ORDER)}\n",
    "ID2LABEL = {i: lab for lab, i in LABEL2ID.items()}\n",
    "\n",
    "def prep_df(path):\n",
    "    df = pd.read_csv(path).dropna(subset=[\"OriginalTweet\",\"Sentiment\"]).copy()\n",
    "    df[\"text\"] = df[\"OriginalTweet\"].astype(str).str.strip()\n",
    "    df[\"label_name\"] = df[\"Sentiment\"].apply(normalize_label)\n",
    "    df = df[df[\"label_name\"].isin(ORDER)].reset_index(drop=True)\n",
    "    df[\"label\"] = df[\"label_name\"].map(LABEL2ID)\n",
    "    return df[[\"text\",\"label\"]]\n",
    "\n",
    "train_df = prep_df(\"Corona_NLP_train_cleaned_translated.csv\")\n",
    "test_df  = prep_df(\"Corona_NLP_test_cleaned_translated.csv\")\n",
    "print(f\"✅ Data ready: train={len(train_df)}, test={len(test_df)}\")\n",
    "\n",
    "# -------------------------\n",
    "# Datasets (raw text + label)\n",
    "# -------------------------\n",
    "class RawTextDataset(Dataset):\n",
    "    def __init__(self, df):\n",
    "        self.texts  = df[\"text\"].astype(str).tolist()\n",
    "        self.labels = df[\"label\"].astype(int).tolist()\n",
    "    def __len__(self): return len(self.texts)\n",
    "    def __getitem__(self, idx):\n",
    "        return self.texts[idx], self.labels[idx]\n",
    "\n",
    "train_ds = RawTextDataset(train_df)\n",
    "test_ds  = RawTextDataset(test_df)\n",
    "train_loader = DataLoader(train_ds, batch_size=BATCH_SIZE, shuffle=True)\n",
    "test_loader  = DataLoader(test_ds,  batch_size=BATCH_SIZE, shuffle=False)\n",
    "epochs=8\n",
    "# -------------------------\n",
    "# Teacher on CPU (safe load)\n",
    "# -------------------------\n",
    "def load_teacher_safe(teacher_source, teacher_base, id2label, label2id):\n",
    "    cfg = AutoConfig.from_pretrained(teacher_base)\n",
    "    cfg.num_labels = len(label2id); cfg.id2label = id2label; cfg.label2id = label2id\n",
    "\n",
    "    teacher = AutoModelForSequenceClassification.from_pretrained(\n",
    "        teacher_base, config=cfg, torch_dtype=torch.float32\n",
    "    )\n",
    "    sd = torch.load(teacher_source, map_location=\"cpu\")\n",
    "    missing, unexpected = teacher.load_state_dict(sd, strict=False)\n",
    "    if unexpected: print(f\"⚠️ Unexpected keys in EX5 checkpoint: {unexpected}\")\n",
    "    if missing:   print(f\"ℹ️ Missing keys filled from base init: {missing}\")\n",
    "\n",
    "    # CPU sanity forward\n",
    "    tok_cpu = AutoTokenizer.from_pretrained(teacher_base, use_fast=True)\n",
    "    teacher.eval()\n",
    "    with torch.inference_mode():\n",
    "        enc = tok_cpu([\"sanity check\"], truncation=True, padding=True,\n",
    "                      max_length=32, return_tensors=\"pt\")\n",
    "        _ = teacher(**enc).logits\n",
    "    return teacher, tok_cpu\n",
    "\n",
    "teacher_cpu, tok_teacher = load_teacher_safe(TEACHER_SOURCE, TEACHER_BASE, ID2LABEL, LABEL2ID)\n",
    "print(\"✅ Teacher loaded (CPU-only) & sanity-checked\")\n",
    "\n",
    "# -------------------------\n",
    "# Student on GPU/CPU\n",
    "# -------------------------\n",
    "STUDENT_NAME = \"microsoft/deberta-v3-small\"\n",
    "cfg_s = AutoConfig.from_pretrained(STUDENT_NAME)\n",
    "cfg_s.num_labels = len(LABEL2ID); cfg_s.id2label = ID2LABEL; cfg_s.label2id = LABEL2ID\n",
    "student = AutoModelForSequenceClassification.from_pretrained(STUDENT_NAME, config=cfg_s).to(DEVICE)\n",
    "tok_student = AutoTokenizer.from_pretrained(STUDENT_NAME, use_fast=True)\n",
    "print(f\"🎯 Student: {STUDENT_NAME}\")\n",
    "\n",
    "# Freeze all; unfreeze last k encoder layers + classifier\n",
    "def freeze_all(m): \n",
    "    for p in m.parameters(): p.requires_grad = False\n",
    "\n",
    "def unfreeze_last_k(m, k: int):\n",
    "    # try common encoder paths\n",
    "    for path in [\"deberta.encoder.layer\", \"deberta.encoder.layers\", \"roberta.encoder.layer\",\n",
    "                 \"bert.encoder.layer\", \"distilbert.transformer.layer\", \"xlm_roberta.encoder.layer\"]:\n",
    "        ref = m\n",
    "        for attr in path.split(\".\"):\n",
    "            if hasattr(ref, attr):\n",
    "                ref = getattr(ref, attr)\n",
    "            else:\n",
    "                ref = None; break\n",
    "        if ref is not None and hasattr(ref, \"__len__\"):\n",
    "            n = len(ref); k_eff = min(k, n)\n",
    "            for layer in ref[-k_eff:]:\n",
    "                for p in layer.parameters(): p.requires_grad = True\n",
    "            print(f\"   🔓 Unfroze last {k_eff}/{n} layers at {path}\")\n",
    "            break\n",
    "    for head_name in [\"classifier\", \"score\", \"lm_head\"]:\n",
    "        if hasattr(m, head_name):\n",
    "            for p in getattr(m, head_name).parameters():\n",
    "                p.requires_grad = True\n",
    "\n",
    "freeze_all(student)\n",
    "unfreeze_last_k(student, fine_tune_layers)\n",
    "\n",
    "# -------------------------\n",
    "# KD loss\n",
    "# -------------------------\n",
    "def kd_loss_fn(student_logits, teacher_logits, labels, alpha=alpha, T=T):\n",
    "    ce = torch.nn.functional.cross_entropy(student_logits, labels)\n",
    "    kd = torch.nn.functional.kl_div(\n",
    "        torch.nn.functional.log_softmax(student_logits/T, dim=-1),\n",
    "        torch.nn.functional.softmax(teacher_logits/T, dim=-1),\n",
    "        reduction=\"batchmean\"\n",
    "    ) * (T*T)\n",
    "    return alpha * ce + (1 - alpha) * kd\n",
    "\n",
    "# -------------------------\n",
    "# Optimizer + Scheduler (AdamW from torch.optim)\n",
    "# -------------------------\n",
    "optimizer = AdamW((p for p in student.parameters() if p.requires_grad), lr=lr)\n",
    "scheduler = get_scheduler(\n",
    "    \"linear\", optimizer,\n",
    "    num_warmup_steps=0,\n",
    "    num_training_steps=len(train_loader) * epochs\n",
    ")\n",
    "\n",
    "# -------------------------\n",
    "# Training (teacher on CPU, student on DEVICE)\n",
    "# -------------------------\n",
    "def encode_to_device(tokenizer, texts, max_len, device):\n",
    "    enc = tokenizer(list(texts), truncation=True, padding=True, max_length=max_len, return_tensors=\"pt\")\n",
    "    return {k: v.to(device) for k, v in enc.items()}\n",
    "\n",
    "print(f\"⚙️  Training with alpha={alpha}, T={T}, lr={lr}, layers={fine_tune_layers}, epochs={epochs}\")\n",
    "for epoch in range(epochs):\n",
    "    student.train()\n",
    "    total_loss = 0.0\n",
    "    loop = tqdm(train_loader, desc=f\"Epoch {epoch+1}/{epochs}\")\n",
    "    for texts, y in loop:\n",
    "        # Teacher forward on CPU\n",
    "        with torch.no_grad():\n",
    "            enc_t = tok_teacher(list(texts), truncation=True, padding=True,\n",
    "                                max_length=MAX_LEN, return_tensors=\"pt\")  # CPU tensors\n",
    "            t_logits = teacher_cpu(**enc_t).logits  # CPU forward\n",
    "\n",
    "        # Student forward on DEVICE\n",
    "        enc_s = encode_to_device(tok_student, texts, MAX_LEN, DEVICE)\n",
    "        y_t = torch.tensor(y, dtype=torch.long, device=DEVICE)\n",
    "\n",
    "        s_logits = student(**enc_s).logits\n",
    "        loss = kd_loss_fn(s_logits, t_logits.to(DEVICE), y_t)\n",
    "\n",
    "        optimizer.zero_grad()\n",
    "        loss.backward()\n",
    "        optimizer.step()\n",
    "        scheduler.step()\n",
    "\n",
    "        total_loss += float(loss.item())\n",
    "        loop.set_postfix(loss=loss.item())\n",
    "\n",
    "    print(f\"Epoch {epoch+1} | Train Loss={total_loss/len(train_loader):.4f}\")\n",
    "\n",
    "# -------------------------\n",
    "# Save student\n",
    "# -------------------------\n",
    "final_path = os.path.join(OUT_DIR, \"ex5_deberta_student_best_hp.pt\")\n",
    "torch.save(student.state_dict(), final_path)\n",
    "print(f\"✅ Student saved to {final_path}\")\n",
    "\n",
    "# -------------------------\n",
    "# Final Evaluation (student tokenizer & DEVICE)\n",
    "# -------------------------\n",
    "student.eval()\n",
    "preds, gold = [], []\n",
    "if DEVICE == \"cuda\": torch.cuda.synchronize()\n",
    "t0 = time.perf_counter()\n",
    "\n",
    "with torch.no_grad():\n",
    "    for texts, y in tqdm(test_loader, desc=\"Testing\"):\n",
    "        enc_s = encode_to_device(tok_student, texts, MAX_LEN, DEVICE)\n",
    "        out = student(**enc_s).logits\n",
    "        preds.extend(out.argmax(dim=-1).detach().cpu().numpy().tolist())\n",
    "        gold.extend(list(y))\n",
    "\n",
    "if DEVICE == \"cuda\": torch.cuda.synchronize()\n",
    "dt = time.perf_counter() - t0\n",
    "\n",
    "acc = accuracy_score(gold, preds)\n",
    "f1m = f1_score(gold, preds, average=\"macro\")\n",
    "report = classification_report(gold, preds, target_names=ORDER, digits=4, zero_division=0)\n",
    "\n",
    "latency_ms = (dt / len(test_ds)) * 1000.0\n",
    "size_mb = os.path.getsize(final_path) / (1024*1024)\n",
    "\n",
    "print(\"\\n=== Final Test Evaluation ===\")\n",
    "print(f\"Accuracy : {acc:.4f}\")\n",
    "print(f\"Macro F1 : {f1m:.4f}\")\n",
    "print(\"\\nClassification Report:\\n\", report)\n",
    "print(f\"⏱️ Latency: {latency_ms:.2f} ms/sample\")\n",
    "print(f\"💾 Model size: {size_mb:.2f} MB\")\n"
   ]
  },
  {
   "cell_type": "markdown",
   "id": "836be852-2add-4900-bff3-47adea76b5b7",
   "metadata": {},
   "source": [
    "# 🎓 Knowledge Distillation – Final Training & Test (EX5 • DeBERTa)\n",
    "\n",
    "## ⚙️ Setup\n",
    "- **Teacher**: `microsoft/mdeberta-v3-base` (EX4 checkpoint, CPU-only for guidance)  \n",
    "- **Student**: `microsoft/deberta-v3-small`  \n",
    "- **Hyperparameters (best from Optuna trial #9)**:\n",
    "  - α = **0.78335**  \n",
    "  - T = **1.53376**  \n",
    "  - fine_tune_layers = **6** (all encoder layers unfrozen)  \n",
    "  - learning_rate = **7.9002e-05**  \n",
    "  - epochs = **8**  \n",
    "\n",
    "---\n",
    "\n",
    "## 📈 Training Progress\n",
    "| Epoch | Train Loss |\n",
    "|-------|------------|\n",
    "| 1     | 1.0848     |\n",
    "| 2     | 0.6560     |\n",
    "| 3     | 0.4942     |\n",
    "| 4     | 0.3724     |\n",
    "| 5     | 0.2946     |\n",
    "| 6     | 0.2345     |\n",
    "| 7     | 0.1872     |\n",
    "| 8     | 0.1590     |\n",
    "\n",
    "✅ Student saved to:  \n",
    "`KD_final_ex5/ex5_deberta_student_best_hp.pt`  \n",
    "\n",
    "---\n",
    "\n",
    "## 🧪 Final Test Evaluation\n",
    "- **Accuracy**: **0.8457**  \n",
    "- **Macro F1**: **0.8507**  \n",
    "\n",
    "### Classification Report\n",
    "| Class               | Precision | Recall | F1-score | Support |\n",
    "|---------------------|-----------|--------|----------|---------|\n",
    "| extremely negative  | 0.8336    | 0.9054 | 0.8680   | 592     |\n",
    "| negative            | 0.8412    | 0.8088 | 0.8247   | 1041    |\n",
    "| neutral             | 0.8678    | 0.8481 | 0.8578   | 619     |\n",
    "| positive            | 0.8346    | 0.8152 | 0.8248   | 947     |\n",
    "| extremely positive  | 0.8606    | 0.8965 | 0.8782   | 599     |\n",
    "| **Overall**         | **0.8457**|        | **0.8507**| 3798    |\n",
    "\n",
    "---\n",
    "\n",
    "## ⚡ Efficiency\n",
    "- **Latency**: 1.41 ms/sample (CPU)  \n",
    "- **Model size**: 541.35 MB  \n",
    "\n",
    "---\n",
    "\n",
    "## ✅ Takeaways\n",
    "- The KD-trained **DeBERTa-small** nearly matches teacher-level performance while being significantly smaller and faster.  \n",
    "- Strong per-class F1, with **neutral** and **extremely positive** showing particularly high precision/recall balance.  \n",
    "- Deployment-ready: compact model with robust performance and low latency.  \n"
   ]
  },
  {
   "cell_type": "markdown",
   "id": "39a154ee-0768-4094-9271-365ec5407680",
   "metadata": {},
   "source": [
    "# 📊 Teacher vs. Student – Final Comparison (EX5 • DeBERTa KD)\n",
    "\n",
    "| Model                       | Accuracy | Macro-F1 | Params (M) | Size (MB) | Latency (ms/sample, CPU) |\n",
    "|-----------------------------|----------|----------|------------|-----------|---------------------------|\n",
    "| **Teacher**: mDeBERTa-v3-base | ~0.844  | ~0.848  | ~184M      | ~700 MB   | ~2–3 ms                  |\n",
    "| **Student**: DeBERTa-v3-small (KD, best HPs) | **0.846** | **0.851** | ~22M       | 541 MB    | **1.41 ms**              |\n",
    "\n",
    "---\n",
    "\n",
    "## ✅ Insights\n",
    "- **Accuracy / F1**: The KD student nearly matches the teacher (slightly higher Macro-F1).  \n",
    "- **Size**: ~8× fewer parameters, ~23% smaller file footprint.  \n",
    "- **Latency**: Student is **~2× faster** per sample on CPU.  \n",
    "- **Deployment**: Student is the better choice for resource-limited environments while retaining teacher-level performance.  \n"
   ]
  },
  {
   "cell_type": "markdown",
   "id": "dfa57b9a-e212-46a3-9ede-7a9a6fbabfc4",
   "metadata": {},
   "source": [
    "## 🔎 How can the student outperform the teacher?\n",
    "\n",
    "- **Regularization via soft labels**: KD transfers richer “soft” probabilities, which smooth noisy labels and prevent overfitting.  \n",
    "- **Better capacity match**: The student (smaller model) may generalize better on medium datasets where the teacher can overfit.  \n",
    "- **Improved class balance**: Soft targets help the student learn smoother decision boundaries, boosting Macro-F1.  \n",
    "- **Hyperparameter tuning**: The student was tuned with Optuna + early stopping, possibly finding better training dynamics than the teacher.  \n",
    "\n",
    "➡️ KD doesn’t just copy the teacher — it can guide the student to **generalize even better**, explaining why the student slightly outperformed the teacher here.\n"
   ]
  },
  {
   "cell_type": "code",
   "execution_count": null,
   "id": "d6040d6e-e58f-41b4-bba4-88a1da0310a4",
   "metadata": {},
   "outputs": [],
   "source": []
  }
 ],
 "metadata": {
  "kernelspec": {
   "display_name": "Python (dl4090)",
   "language": "python",
   "name": "dl4090"
  },
  "language_info": {
   "codemirror_mode": {
    "name": "ipython",
    "version": 3
   },
   "file_extension": ".py",
   "mimetype": "text/x-python",
   "name": "python",
   "nbconvert_exporter": "python",
   "pygments_lexer": "ipython3",
   "version": "3.11.13"
  }
 },
 "nbformat": 4,
 "nbformat_minor": 5
}
