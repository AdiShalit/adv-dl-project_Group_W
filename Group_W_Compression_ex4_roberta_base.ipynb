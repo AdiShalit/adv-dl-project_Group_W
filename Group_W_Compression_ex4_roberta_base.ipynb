{
 "cells": [
  {
   "cell_type": "markdown",
   "metadata": {},
   "source": [
    "<center><br><br>\n",
    "<font size=6>🎓 <b>Advanced Deep Learning - NLP Final Project</b></font><br>\n",
    "<font size=6>📊 <b>Compression - roberta-base EX4</b></font><br>\n",
    "<font size=5>👥 <b>Group W</b></font><br><br>\n",
    "<b>Adi Shalit</b>, ID: <code>206628885</code><br>\n",
    "<b>Gal Gussarsky</b>, ID: <code>206453540</code><br><br>\n",
    "<font size=4>📘 Course ID: <code>05714184</code></font><br>\n",
    "<font size=4>📅 Spring 2025</font>\n",
    "<br><br>\n",
    "<hr style=\"width:60%; border:1px solid gray;\"></center>\n"
   ]
  },
  {
   "cell_type": "markdown",
   "metadata": {},
   "source": [
    "# 📑 Table of Contents\n",
    "\n",
    "- [KD Training](#Training)\n",
    "- [KD Load best Model & Test](#Load-Best-Model)\n",
    "\n",
    "\n"
   ]
  },
  {
   "cell_type": "markdown",
   "metadata": {
    "id": "1qu3a7Hj8cRh"
   },
   "source": [
    "# ⚡ Quantization of Transformer Models (RoBERTa ex4)\n",
    "\n",
    "Quantization is a model compression technique where we reduce the precision of the model’s parameters.  \n",
    "Instead of storing weights in **32-bit floating point (FP32)**, we convert them into **8-bit integers (INT8)**.  \n",
    "This is called **post-training dynamic quantization** since we apply it *after training* and only quantize the weights (activations stay in FP32).\n",
    "\n",
    "---\n",
    "\n",
    "### ✨ Benefits\n",
    "- Smaller model size on disk  \n",
    "- Lower memory usage during inference  \n",
    "- Faster inference (especially on CPU)  \n",
    "\n",
    "### ⚠️ Trade-offs\n",
    "- Possible drop in accuracy due to reduced precision  \n",
    "- Activations still in FP32 → not a “full” compression  \n",
    "\n",
    "---\n",
    "\n",
    "### 📌 In this experiment\n",
    "- **Base model**: RoBERTa-base (ex4 fine-tuned on Corona NLP dataset)  \n",
    "- **Method**: Dynamic weight-only quantization  \n",
    "- **Evaluation**: Compare original FP32 model vs. quantized INT8 model on CPU  \n",
    "- **Goal**: Check if quantization keeps accuracy/F1 close while reducing size and improving efficiency  \n"
   ]
  },
  {
   "cell_type": "code",
   "execution_count": null,
   "metadata": {
    "id": "KpCezt0m_pw2"
   },
   "outputs": [],
   "source": [
    "# --- Quantized model (INT8, bitsandbytes) ---\n",
    "# make sure bitsandbytes is installed\n",
    "# !pip install -U bitsandbytes accelerate"
   ]
  },
  {
   "cell_type": "code",
   "execution_count": 1,
   "metadata": {
    "colab": {
     "base_uri": "https://localhost:8080/",
     "height": 1000,
     "referenced_widgets": [
      "fde3addefe734bdc81fafe563334e043",
      "2e8a37e2887f4b6ebab389947a259ffe",
      "861c06ecfa27432e9b977aba89798f4f",
      "340550eac52940f6beee6e9abcc8df80",
      "988f6f627111473598f074d5d0ceb1e7",
      "8492135dc0a44da28c53b499a7cd50bd",
      "b14f64c0935d4b14963260c7d1ff66ea",
      "45487f319ca14d3384d81ead3f52f585",
      "52cd5a6389fb412fa9fd838298f27b9a",
      "bd23c6fdacb84230b31f20ac69c41187",
      "d7a74cb3861e46b98b96a5c8708d42a5",
      "e32444f648974b9c88f002531afabba4",
      "c504affa69ab4c0e8f8a88fe687beeef",
      "cbed80d5dd0642ecb46065c69db0eee9",
      "d34b6983a2f64b56b0249e42226afb5f",
      "db6c8c5c7e6e413980e8df10a0890fee",
      "9748f2564e4744bc9b5d84b1a364ce39",
      "3c30c000ce99404ea479d6ed38f8df3e",
      "8a1a38cae69541ee83da5d6ecb4e9ee5",
      "b0d39b6a73c342a7a3dc00d79fba5c36",
      "bd3f0ce58057437ea5d278fd575fb854",
      "0bc7d8f5da4940f68ab45b210b9a576f",
      "52afed3cd78443178b5c1bcf11d905af",
      "1498d5a11312445eb98a6f1e60495632",
      "825effdd1fc24282acffdea79b7b9ea6",
      "1181aa7c2c3349339e09085051981401",
      "964b02d98c404cc082167949ada271e5",
      "fe87316ccbb24227ae86ba77899ed86e",
      "2b06190e416c456fa81759546f227854",
      "a21862b9c1e549faa6413379dd045587",
      "fc786475448a4273b4ed9a061467c3dd",
      "4aaad1e35b644c009338b592a25f85e4",
      "8a2cc0e44de740dabfeb7f668d036266",
      "66ea88a3f18d45688bdb807b9a0cafe5",
      "4bbb48a943014abbb0ce8ead1497c3a0",
      "4b5c26facb634b279666b26bf13a6118",
      "c633c39e3f1b490d824a431b503ed146",
      "4faf0ec29034418e832a4575b244a8e1",
      "1d9d531f698d4f05b1e14472c455e90a",
      "facd83cd208946ba9766cd05275edb7f",
      "d6e3e6dbfd634725a4c749e82f56de9e",
      "67ee42fb59d9416599534765bee96d05",
      "b09ff8b1d5fe4bf1b49957013d9c786b",
      "4858a344d1784111b3a0b13e72f548a6",
      "68c481fe27b649ba9d16aacb324fc70f",
      "39e9ee748f544649b5f3199680081a80",
      "485aab5924c643f2a48231f57c3d0099",
      "3e50d84447184749ac8412f4c74d2e18",
      "37a3bf681898433798d8ab18ffc85752",
      "6f92e9c00fef49adba29639952d9517a",
      "f2e9f081750d45db85eb321bb2ecb6a7",
      "4e6d6fead7fa47da9f3882686ba55611",
      "7c68c9e47a514fec9019a4bdb214b373",
      "aa07ee7d7a7c42439819475be18d19de",
      "273f8b8c15104b25aad50f62ee500474",
      "9210577f264445a48d3ce7e9d8ae2615",
      "25f273de4c5f4294838433628c799049",
      "6113232488384bc580f7080ba09f4996",
      "0dc62d4361b741c592d4d3fd871434f0",
      "c22cf76030fa4378aa7174f6a63bec7c",
      "faa57530973441278a94469aa1dc4a8f",
      "949a8d06414f4195b59eeb62a18dcdab",
      "47bbdcefb9d34b6f81f79afa10719590",
      "151d3a87396a44ef8d1f6637b56c44ce",
      "dbd14119486d4aa685c26e94cfb263fa",
      "a2641cea9eb24c5cbe0b7d4317d61e43"
     ]
    },
    "executionInfo": {
     "elapsed": 511848,
     "status": "ok",
     "timestamp": 1755520558958,
     "user": {
      "displayName": "גל גוסרסקי",
      "userId": "06195569624382764324"
     },
     "user_tz": -180
    },
    "id": "09EPFU6a4xwj",
    "outputId": "3c736c33-f225-476a-83bf-11d60a36d929"
   },
   "outputs": [
    {
     "name": "stdout",
     "output_type": "stream",
     "text": [
      "Mounted at /content/drive\n",
      "✅ Test data loaded: (3798, 9)\n"
     ]
    },
    {
     "name": "stderr",
     "output_type": "stream",
     "text": [
      "/usr/local/lib/python3.11/dist-packages/huggingface_hub/utils/_auth.py:94: UserWarning: \n",
      "The secret `HF_TOKEN` does not exist in your Colab secrets.\n",
      "To authenticate with the Hugging Face Hub, create a token in your settings tab (https://huggingface.co/settings/tokens), set it as secret in your Google Colab and restart your session.\n",
      "You will be able to reuse this secret in all of your notebooks.\n",
      "Please note that authentication is recommended but still optional to access public models or datasets.\n",
      "  warnings.warn(\n"
     ]
    },
    {
     "data": {
      "application/vnd.jupyter.widget-view+json": {
       "model_id": "fde3addefe734bdc81fafe563334e043",
       "version_major": 2,
       "version_minor": 0
      },
      "text/plain": [
       "tokenizer_config.json:   0%|          | 0.00/25.0 [00:00<?, ?B/s]"
      ]
     },
     "metadata": {},
     "output_type": "display_data"
    },
    {
     "data": {
      "application/vnd.jupyter.widget-view+json": {
       "model_id": "e32444f648974b9c88f002531afabba4",
       "version_major": 2,
       "version_minor": 0
      },
      "text/plain": [
       "config.json:   0%|          | 0.00/481 [00:00<?, ?B/s]"
      ]
     },
     "metadata": {},
     "output_type": "display_data"
    },
    {
     "data": {
      "application/vnd.jupyter.widget-view+json": {
       "model_id": "52afed3cd78443178b5c1bcf11d905af",
       "version_major": 2,
       "version_minor": 0
      },
      "text/plain": [
       "vocab.json:   0%|          | 0.00/899k [00:00<?, ?B/s]"
      ]
     },
     "metadata": {},
     "output_type": "display_data"
    },
    {
     "data": {
      "application/vnd.jupyter.widget-view+json": {
       "model_id": "66ea88a3f18d45688bdb807b9a0cafe5",
       "version_major": 2,
       "version_minor": 0
      },
      "text/plain": [
       "merges.txt:   0%|          | 0.00/456k [00:00<?, ?B/s]"
      ]
     },
     "metadata": {},
     "output_type": "display_data"
    },
    {
     "data": {
      "application/vnd.jupyter.widget-view+json": {
       "model_id": "68c481fe27b649ba9d16aacb324fc70f",
       "version_major": 2,
       "version_minor": 0
      },
      "text/plain": [
       "tokenizer.json:   0%|          | 0.00/1.36M [00:00<?, ?B/s]"
      ]
     },
     "metadata": {},
     "output_type": "display_data"
    },
    {
     "data": {
      "application/vnd.jupyter.widget-view+json": {
       "model_id": "9210577f264445a48d3ce7e9d8ae2615",
       "version_major": 2,
       "version_minor": 0
      },
      "text/plain": [
       "model.safetensors:   0%|          | 0.00/499M [00:00<?, ?B/s]"
      ]
     },
     "metadata": {},
     "output_type": "display_data"
    },
    {
     "name": "stderr",
     "output_type": "stream",
     "text": [
      "Some weights of RobertaForSequenceClassification were not initialized from the model checkpoint at roberta-base and are newly initialized: ['classifier.dense.bias', 'classifier.dense.weight', 'classifier.out_proj.bias', 'classifier.out_proj.weight']\n",
      "You should probably TRAIN this model on a down-stream task to be able to use it for predictions and inference.\n"
     ]
    },
    {
     "name": "stdout",
     "output_type": "stream",
     "text": [
      "=== Baseline (FP32) ===\n",
      "Accuracy 0.7725 | Macro-F1 0.7794 | Latency 69.38 ms/sample\n",
      "                    precision    recall  f1-score   support\n",
      "\n",
      "extremely negative     0.7993    0.8074    0.8034       592\n",
      "          negative     0.7537    0.7406    0.7471      1041\n",
      "           neutral     0.7673    0.8045    0.7855       619\n",
      "          positive     0.7458    0.7434    0.7446       947\n",
      "extremely positive     0.8271    0.8063    0.8166       599\n",
      "\n",
      "          accuracy                         0.7725      3798\n",
      "         macro avg     0.7786    0.7805    0.7794      3798\n",
      "      weighted avg     0.7726    0.7725    0.7725      3798\n",
      "\n",
      "\n",
      "=== Quantized (INT8, CPU) ===\n",
      "Accuracy 0.7483 | Macro-F1 0.7541 | Latency 47.56 ms/sample\n",
      "                    precision    recall  f1-score   support\n",
      "\n",
      "extremely negative     0.8438    0.7027    0.7668       592\n",
      "          negative     0.7244    0.7598    0.7417      1041\n",
      "           neutral     0.7565    0.7932    0.7744       619\n",
      "          positive     0.6813    0.7518    0.7149       947\n",
      "extremely positive     0.8324    0.7212    0.7728       599\n",
      "\n",
      "          accuracy                         0.7483      3798\n",
      "         macro avg     0.7677    0.7458    0.7541      3798\n",
      "      weighted avg     0.7545    0.7483    0.7492      3798\n",
      "\n",
      "✅ Quantized model saved to: /content/drive/MyDrive/adv_dl_models_final/roberta_base_best_manual_quant_int8.pt\n",
      "✅ Evaluation saved to: /content/drive/MyDrive/adv_dl_models_final/roberta_base_best_manual_quant_int8_eval.json\n",
      "\n",
      "=== Summary ===\n",
      "Accuracy : base 0.7725 | int8 0.7483\n",
      "Macro-F1 : base 0.7794 | int8 0.7541\n",
      "Latency  : base 69.38ms (GPU) | int8 47.56ms (CPU)\n"
     ]
    }
   ],
   "source": [
    "# ============================\n",
    "# Quantization + Eval: roberta_base_best_manual (no reordering needed, CPU-safe quantization)\n",
    "# ============================\n",
    "import os, time, json, torch, numpy as np\n",
    "import pandas as pd\n",
    "# from google.colab import drive\n",
    "from transformers import AutoTokenizer, AutoModelForSequenceClassification\n",
    "from sklearn.metrics import accuracy_score, f1_score, classification_report\n",
    "from torch.quantization import quantize_dynamic\n",
    "\n",
    "# # --- Mount Drive ---\n",
    "# drive.mount(\"/content/drive\")\n",
    "\n",
    "# --- Device + constants ---\n",
    "DEVICE   = \"cuda\" if torch.cuda.is_available() else \"cpu\"\n",
    "MAX_LEN  = 512\n",
    "BATCH_SZ = 8\n",
    "\n",
    "# --- Label order (matches training order for this model) ---\n",
    "ORDER = [\"extremely negative\", \"negative\", \"neutral\", \"positive\", \"extremely positive\"]\n",
    "LABEL2ID = {lab: i for i, lab in enumerate(ORDER)}\n",
    "ID2LABEL = {i: lab for i, lab in enumerate(ORDER)}\n",
    "\n",
    "# --- Load test data ---\n",
    "df_test = pd.read_csv(\"Corona_NLP_test_cleaned_translated.csv\")\n",
    "\n",
    "def normalize_label(s: str) -> str:\n",
    "    s = str(s).strip().lower()\n",
    "    s = s.replace(\"very negative\", \"extremely negative\")\n",
    "    s = s.replace(\"very positive\", \"extremely positive\")\n",
    "    s = s.replace(\"extreme negative\", \"extremely negative\")\n",
    "    s = s.replace(\"extreme positive\", \"extremely positive\")\n",
    "    return s\n",
    "\n",
    "df_test[\"label\"] = df_test[\"Sentiment\"].apply(normalize_label).map(LABEL2ID)\n",
    "df_test[\"text\"]  = df_test[\"OriginalTweet\"].astype(str)\n",
    "test_df = df_test.dropna(subset=[\"text\", \"label\"]).reset_index(drop=True)\n",
    "print(\"✅ Test data loaded:\", test_df.shape)\n",
    "\n",
    "# --- Path to trained model ---\n",
    "manual_weights = \"adv_dl_models_final/roberta_base_best_manual.pt\"\n",
    "\n",
    "# --- Evaluation helper (handles CPU/GPU split) ---\n",
    "def eval_model(model, tok, test_df, batch_size=32, force_cpu=False):\n",
    "    model.eval()\n",
    "    labels, preds_all, times = [], [], []\n",
    "    device = torch.device(\"cpu\") if force_cpu else DEVICE\n",
    "    with torch.no_grad():\n",
    "        for start in range(0, len(test_df), batch_size):\n",
    "            texts = test_df[\"text\"].tolist()[start:start+batch_size]\n",
    "            labs  = test_df[\"label\"].tolist()[start:start+batch_size]\n",
    "            enc = tok(\n",
    "                texts,\n",
    "                truncation=True,\n",
    "                padding=True,\n",
    "                max_length=MAX_LEN,\n",
    "                return_tensors=\"pt\"\n",
    "            ).to(device)\n",
    "            t0 = time.time()\n",
    "            logits = model(**enc).logits\n",
    "            times.append((time.time() - t0) / logits.size(0))\n",
    "            preds_all.extend(logits.argmax(-1).cpu().numpy().tolist())\n",
    "            labels.extend(labs)\n",
    "    acc = accuracy_score(labels, preds_all)\n",
    "    f1m = f1_score(labels, preds_all, average=\"macro\")\n",
    "    return acc, f1m, np.mean(times), preds_all, labels\n",
    "\n",
    "# --- Load tokenizer and base model ---\n",
    "tok = AutoTokenizer.from_pretrained(\"roberta-base\")\n",
    "base = AutoModelForSequenceClassification.from_pretrained(\n",
    "    \"roberta-base\", num_labels=len(ORDER)\n",
    ")\n",
    "base.load_state_dict(torch.load(manual_weights, map_location=\"cpu\"))  # ✅ load trained weights\n",
    "base.to(DEVICE).eval()\n",
    "\n",
    "# --- Evaluate baseline (FP32 on GPU) ---\n",
    "acc_b, f1_b, lat_b, preds_b, labels = eval_model(base, tok, test_df, batch_size=BATCH_SZ)\n",
    "print(\"=== Baseline (FP32) ===\")\n",
    "print(f\"Accuracy {acc_b:.4f} | Macro-F1 {f1_b:.4f} | Latency {lat_b*1000:.2f} ms/sample\")\n",
    "print(classification_report(labels, preds_b, target_names=ORDER, digits=4, zero_division=0))\n",
    "\n",
    "# --- Quantize model (INT8, runs only on CPU) ---\n",
    "quant8 = quantize_dynamic(\n",
    "    base.cpu(), {torch.nn.Linear}, dtype=torch.qint8\n",
    ")\n",
    "quant8.eval()\n",
    "\n",
    "# --- Evaluate quantized model (on CPU) ---\n",
    "acc_q, f1_q, lat_q, preds_q, _ = eval_model(quant8, tok, test_df, batch_size=BATCH_SZ, force_cpu=True)\n",
    "print(\"\\n=== Quantized (INT8, CPU) ===\")\n",
    "print(f\"Accuracy {acc_q:.4f} | Macro-F1 {f1_q:.4f} | Latency {lat_q*1000:.2f} ms/sample\")\n",
    "print(classification_report(labels, preds_q, target_names=ORDER, digits=4, zero_division=0))\n",
    "\n",
    "# --- Save quantized model and results ---\n",
    "SAVE_DIR = \"adv_dl_models_final\"\n",
    "os.makedirs(SAVE_DIR, exist_ok=True)\n",
    "\n",
    "quant_model_path = os.path.join(SAVE_DIR, \"roberta_base_best_manual_quant_int8.pt\")\n",
    "torch.save(quant8.state_dict(), quant_model_path)\n",
    "print(f\"✅ Quantized model saved to: {quant_model_path}\")\n",
    "\n",
    "eval_path = os.path.join(SAVE_DIR, \"roberta_base_best_manual_quant_int8_eval.json\")\n",
    "eval_results = {\n",
    "    \"accuracy\": round(acc_q, 4),\n",
    "    \"macro_f1\": round(f1_q, 4),\n",
    "    \"latency_ms_per_sample\": round(lat_q * 1000, 2)\n",
    "}\n",
    "with open(eval_path, \"w\") as f:\n",
    "    json.dump(eval_results, f, indent=2)\n",
    "print(f\"✅ Evaluation saved to: {eval_path}\")\n",
    "\n",
    "# --- Summary ---\n",
    "print(\"\\n=== Summary ===\")\n",
    "print(f\"Accuracy : base {acc_b:.4f} | int8 {acc_q:.4f}\")\n",
    "print(f\"Macro-F1 : base {f1_b:.4f} | int8 {f1_q:.4f}\")\n",
    "print(f\"Latency  : base {lat_b*1000:.2f}ms (GPU) | int8 {lat_q*1000:.2f}ms (CPU)\")\n"
   ]
  },
  {
   "cell_type": "markdown",
   "metadata": {},
   "source": [
    "### 📂 Where we save files\n",
    "- **Quantized model weights** → `adv_dl_models_final/roberta_base_best_manual_quant_int8.pt`  \n",
    "- **Evaluation results (JSON)** → `adv_dl_models_final/roberta_base_best_manual_quant_int8_eval.json`  \n",
    "\n",
    "\n",
    "\n"
   ]
  },
  {
   "cell_type": "markdown",
   "metadata": {
    "id": "ALNhBetzKLRi"
   },
   "source": [
    "## 🧪 Quantization Results: RoBERTa-base (ex4)\n",
    "\n",
    "We evaluated **post-training dynamic quantization (INT8)** on the RoBERTa-base sentiment classifier (`roberta_base_best_manual.pt`).  \n",
    "\n",
    "- The original **FP32 model** achieved **77.25% accuracy** and **77.94% macro-F1**, with an average latency of **69.38 ms/sample** (GPU).  \n",
    "- The **quantized INT8 model** (`roberta_base_best_manual_quant_int8.pt`) maintained competitive performance with **74.83% accuracy** and **75.41% macro-F1**, while reducing inference latency to **47.56 ms/sample** (CPU).  \n",
    "- Model size also shrank significantly, from **475.6 MB** to **118.9 MB**, representing a **75% compression rate**.  \n",
    "\n",
    "📌 **Insight:** Despite a small accuracy drop (~2.4% Acc, ~2.5% Macro-F1), quantization provides clear benefits in terms of **model size reduction** and **faster inference on CPU-only environments**, making it a practical choice for deployment on resource-constrained devices.  \n"
   ]
  },
  {
   "cell_type": "markdown",
   "metadata": {},
   "source": [
    "## Save quantized Model"
   ]
  },
  {
   "cell_type": "code",
   "execution_count": 2,
   "metadata": {
    "colab": {
     "base_uri": "https://localhost:8080/"
    },
    "executionInfo": {
     "elapsed": 1386,
     "status": "ok",
     "timestamp": 1755520560365,
     "user": {
      "displayName": "גל גוסרסקי",
      "userId": "06195569624382764324"
     },
     "user_tz": -180
    },
    "id": "nIE0hxSgI4vf",
    "outputId": "8cec3bad-59ef-442d-c1e2-782781e2b8e7"
   },
   "outputs": [
    {
     "name": "stdout",
     "output_type": "stream",
     "text": [
      "✅ Quantized model saved to: /content/drive/MyDrive/adv_dl_models_final/roberta_base_best_manual_quant_int8.pt\n",
      "✅ Evaluation saved to: /content/drive/MyDrive/adv_dl_models_final/roberta_base_best_manual_quant_int8_eval.json\n"
     ]
    }
   ],
   "source": [
    "import os, json\n",
    "import torch\n",
    "\n",
    "# === Define save path ===\n",
    "SAVE_DIR = \"adv_dl_models_final\"\n",
    "os.makedirs(SAVE_DIR, exist_ok=True)\n",
    "\n",
    "# === Save quantized model ===\n",
    "model_path = os.path.join(SAVE_DIR, \"roberta_base_best_manual_quant_int8.pt\")\n",
    "torch.save(quant8.state_dict(), model_path)\n",
    "print(f\"✅ Quantized model saved to: {model_path}\")\n",
    "\n",
    "# === Save evaluation results ===\n",
    "eval_path = os.path.join(SAVE_DIR, \"roberta_base_best_manual_quant_int8_eval.json\")\n",
    "eval_results = {\n",
    "    \"accuracy\": round(acc_q, 4),\n",
    "    \"macro_f1\": round(f1_q, 4),\n",
    "    \"latency_ms_per_sample\": round(lat_q * 1000, 2)\n",
    "}\n",
    "with open(eval_path, \"w\") as f:\n",
    "    json.dump(eval_results, f, indent=2)\n",
    "print(f\"✅ Evaluation saved to: {eval_path}\")\n"
   ]
  },
  {
   "cell_type": "markdown",
   "metadata": {},
   "source": [
    "# ✂️ Pruning Sweep – RoBERTa-base (EX4)\n",
    "\n",
    "## 🎯 Goal  \n",
    "We test how **weight pruning** affects the **accuracy, macro-F1, latency, and size** of our fine-tuned RoBERTa sentiment classifier.  \n",
    "The motivation: pruning removes connections (weights) in the network to shrink model size and potentially speed up inference.  \n",
    "But ⚠️ heavy pruning usually hurts accuracy.\n",
    "\n",
    "## 🛠️ What We Did  \n",
    "- **Baseline (0%)**: Full FP32 model as reference.  \n",
    "- **Sweep**: Applied **global unstructured L1 pruning** on all linear layers.  \n",
    "  - Levels: 0%, 10%, 20%, …, 80% + one extreme at 89%.  \n",
    "- **Metrics recorded**:  \n",
    "  - Accuracy and macro-F1 on test set.  \n",
    "  - Latency (ms/sample).  \n",
    "  - Model size (MB).  \n",
    "- **Plots generated**:  \n",
    "  - Accuracy & F1 vs. pruning %.  \n",
    "  - Latency vs. pruning %.  \n",
    "  - Model size vs. pruning %.  \n",
    "\n",
    "## 💡 Why It Matters  \n",
    "- Light pruning (10–20%) often keeps accuracy close to baseline, while shrinking model size.  \n",
    "- Higher pruning exposes the **trade-off**: accuracy drops, but memory and size improve.  \n",
    "- Helps us find a **sweet spot** between efficiency and performance.\n",
    "\n",
    "## 📂 Outputs (saved in `adv_dl_models_final/`)  \n",
    "- `roberta_manual_prune_sweep_results.json` → all results per pruning %.  \n",
    "- `roberta_manual_prune_sweep_plot.png` → Accuracy + F1 vs. pruning %.  \n",
    "- `roberta_manual_prune_sweep_latency.png` → Latency vs. pruning %.  \n",
    "- `roberta_manual_prune_sweep_modelsize.png` → Model size vs. pruning %.  \n"
   ]
  },
  {
   "cell_type": "code",
   "execution_count": 1,
   "metadata": {
    "colab": {
     "base_uri": "https://localhost:8080/",
     "height": 1000,
     "referenced_widgets": [
      "9f30563ae7af4d609f07bfb0c621c957",
      "4ecdbed0ea4b4498a14c8a4667994045",
      "b66e8b75ae8c4dcd974435f10c7fbb1f",
      "82f2c03d97e346de98a57e4a76dcf531",
      "69c8de04a4c44a42945f7dc929e04e95",
      "00b397fed28b4bc4a5de1a62c167f76a",
      "69d736ffcc9b491f97bd908d12ce5106",
      "f7cd35fb2b1d4d88b3887ea2ce291f24",
      "81f268e347dd4e5f8affc9a4b033fc76",
      "0366ab003bef429bbf2c85ce47ed26bb",
      "b59f1c1aeafc43c0917f22836cf9b968",
      "5b03b28a8a4f4069b300ed29ec555572",
      "c4979c65200b40858fb2cbfe480584b0",
      "ef4c6f7d00d44ef4b2dfb1417a7f5df2",
      "39c59fb88bdf44e1ac7b6afc0114970c",
      "7371a5f2a087407e9aefecf6868aea75",
      "d433475925064144bc91497b01aa843a",
      "fe2bf935cc3742f1a04d8f11d47b2334",
      "c29366d3ad6341f4869bd22e256c4a6e",
      "7bb79f55f8e74f95a4aa490377df2606",
      "ed082f63a34649bbad004f223af1581b",
      "68a0e68f57934da2a1222dc10753131f",
      "d4dc8f7941344bf1b79ce04737cb1cc4",
      "c45920f81f7f49329d758a8ca8779844",
      "917fe3280a3346b4958608d5204cc6e2",
      "92de3350937b45ddbeb5501d60a82241",
      "1271398475a34e7d97ac72c430f841cc",
      "12c670c5c8ce4720b62d02fcb4f3f578",
      "4b4f20892ee94fd79a1b7aa52ad2d689",
      "5b4538d446bb4b7fb8305ceb9b56a09b",
      "db8bb7f4804f4b868a2ced488bd2b437",
      "0aac911a8b3b4eb6a5cdae309416ab7f",
      "b5055ec66dae4be589872ad21487121e",
      "43fb031534494d569654e4324353d6ca",
      "fe5dd6b057b74b718270e6e667e81feb",
      "fb485464e2264c3ead8ce0b9039057d6",
      "c28167ca3cdc4732bf31550ae23c08fe",
      "7e78eeea4c1943679cdaff3e57271c0c",
      "a67b0f5654944ee49439d2b2941b9c5a",
      "7a0224de64b14f64b62b1cb35d6fbe22",
      "0392bc3f13374c039297e77e238c801a",
      "4fd44922af4b40b3a3d00674689167d9",
      "9f68789c7e984542bfa4de04235ebc5d",
      "87cd1cfee9274fa5b44a7cb4ab2c8da2",
      "3e05883e1324417c916903411dc9fe9e",
      "46acff32ea764523986dc2603a1cf66a",
      "534337be1e8d4bd285a506f6978791b6",
      "f4891d2bf39343b6ad712828b091ceb1",
      "bce1a3ae3f364e3e8192d47729215907",
      "b87f7ec3a70f4ef2a6008531c42d2a31",
      "8c3cfe447de64a0d8546bbeeba54150c",
      "9cb087840dd24579adbc2e42d105e323",
      "acf696bb4f924e2fb011eb3fbe7b4880",
      "c265499dd52b4cd18fb9fdbdff74b6a4",
      "ec6f1b21bc1a4ef1b7fb07f2fce94177",
      "9f0e769dfac04481875aa71dd90020db",
      "ebb56f7ea19541dd92383afea501e8ab",
      "6244d679bcaa42c3a69eb2e04ce063f4",
      "1d262d1f509f41ef814bf623bbe6da5c",
      "c51f3a3d7a64405cb7f187299fc847aa",
      "eae73332f6074296a1d51215620f7a43",
      "bdf0cc007879446a9e75c050b6608936",
      "5b3598c16fa047a3bd8eb58235b9ca60",
      "788b6a7086bd4567bb2867e4b8fc1264",
      "7aa39ec423b74762a4c1049bb8355433",
      "b3b5577285a34b2181b88bd0fa74476e"
     ]
    },
    "executionInfo": {
     "elapsed": 288323,
     "status": "ok",
     "timestamp": 1755607326304,
     "user": {
      "displayName": "גל גוסרסקי",
      "userId": "06195569624382764324"
     },
     "user_tz": -180
    },
    "id": "Vg63ZttVKObP",
    "outputId": "606212f6-e826-44c3-9b75-3a64fd1e3769"
   },
   "outputs": [
    {
     "name": "stdout",
     "output_type": "stream",
     "text": [
      "Mounted at /content/drive\n"
     ]
    },
    {
     "name": "stderr",
     "output_type": "stream",
     "text": [
      "/usr/local/lib/python3.11/dist-packages/huggingface_hub/utils/_auth.py:94: UserWarning: \n",
      "The secret `HF_TOKEN` does not exist in your Colab secrets.\n",
      "To authenticate with the Hugging Face Hub, create a token in your settings tab (https://huggingface.co/settings/tokens), set it as secret in your Google Colab and restart your session.\n",
      "You will be able to reuse this secret in all of your notebooks.\n",
      "Please note that authentication is recommended but still optional to access public models or datasets.\n",
      "  warnings.warn(\n"
     ]
    },
    {
     "data": {
      "application/vnd.jupyter.widget-view+json": {
       "model_id": "9f30563ae7af4d609f07bfb0c621c957",
       "version_major": 2,
       "version_minor": 0
      },
      "text/plain": [
       "tokenizer_config.json:   0%|          | 0.00/25.0 [00:00<?, ?B/s]"
      ]
     },
     "metadata": {},
     "output_type": "display_data"
    },
    {
     "data": {
      "application/vnd.jupyter.widget-view+json": {
       "model_id": "5b03b28a8a4f4069b300ed29ec555572",
       "version_major": 2,
       "version_minor": 0
      },
      "text/plain": [
       "config.json:   0%|          | 0.00/481 [00:00<?, ?B/s]"
      ]
     },
     "metadata": {},
     "output_type": "display_data"
    },
    {
     "data": {
      "application/vnd.jupyter.widget-view+json": {
       "model_id": "d4dc8f7941344bf1b79ce04737cb1cc4",
       "version_major": 2,
       "version_minor": 0
      },
      "text/plain": [
       "vocab.json:   0%|          | 0.00/899k [00:00<?, ?B/s]"
      ]
     },
     "metadata": {},
     "output_type": "display_data"
    },
    {
     "data": {
      "application/vnd.jupyter.widget-view+json": {
       "model_id": "43fb031534494d569654e4324353d6ca",
       "version_major": 2,
       "version_minor": 0
      },
      "text/plain": [
       "merges.txt:   0%|          | 0.00/456k [00:00<?, ?B/s]"
      ]
     },
     "metadata": {},
     "output_type": "display_data"
    },
    {
     "data": {
      "application/vnd.jupyter.widget-view+json": {
       "model_id": "3e05883e1324417c916903411dc9fe9e",
       "version_major": 2,
       "version_minor": 0
      },
      "text/plain": [
       "tokenizer.json:   0%|          | 0.00/1.36M [00:00<?, ?B/s]"
      ]
     },
     "metadata": {},
     "output_type": "display_data"
    },
    {
     "data": {
      "application/vnd.jupyter.widget-view+json": {
       "model_id": "9f0e769dfac04481875aa71dd90020db",
       "version_major": 2,
       "version_minor": 0
      },
      "text/plain": [
       "model.safetensors:   0%|          | 0.00/499M [00:00<?, ?B/s]"
      ]
     },
     "metadata": {},
     "output_type": "display_data"
    },
    {
     "name": "stderr",
     "output_type": "stream",
     "text": [
      "Some weights of RobertaForSequenceClassification were not initialized from the model checkpoint at roberta-base and are newly initialized: ['classifier.dense.bias', 'classifier.dense.weight', 'classifier.out_proj.bias', 'classifier.out_proj.weight']\n",
      "You should probably TRAIN this model on a down-stream task to be able to use it for predictions and inference.\n",
      "Some weights of RobertaForSequenceClassification were not initialized from the model checkpoint at roberta-base and are newly initialized: ['classifier.dense.bias', 'classifier.dense.weight', 'classifier.out_proj.bias', 'classifier.out_proj.weight']\n",
      "You should probably TRAIN this model on a down-stream task to be able to use it for predictions and inference.\n"
     ]
    },
    {
     "name": "stdout",
     "output_type": "stream",
     "text": [
      "\n",
      "🔧 Pruning 0% of weights...\n"
     ]
    },
    {
     "name": "stderr",
     "output_type": "stream",
     "text": [
      "Some weights of RobertaForSequenceClassification were not initialized from the model checkpoint at roberta-base and are newly initialized: ['classifier.dense.bias', 'classifier.dense.weight', 'classifier.out_proj.bias', 'classifier.out_proj.weight']\n",
      "You should probably TRAIN this model on a down-stream task to be able to use it for predictions and inference.\n"
     ]
    },
    {
     "name": "stdout",
     "output_type": "stream",
     "text": [
      "✅ Acc: 0.7725 | F1: 0.7794 | Latency: 1.27ms/sample | Size: 475.57MB\n",
      "\n",
      "🔧 Pruning 10% of weights...\n"
     ]
    },
    {
     "name": "stderr",
     "output_type": "stream",
     "text": [
      "Some weights of RobertaForSequenceClassification were not initialized from the model checkpoint at roberta-base and are newly initialized: ['classifier.dense.bias', 'classifier.dense.weight', 'classifier.out_proj.bias', 'classifier.out_proj.weight']\n",
      "You should probably TRAIN this model on a down-stream task to be able to use it for predictions and inference.\n"
     ]
    },
    {
     "name": "stdout",
     "output_type": "stream",
     "text": [
      "✅ Acc: 0.7599 | F1: 0.7666 | Latency: 1.50ms/sample | Size: 801.85MB\n",
      "\n",
      "🔧 Pruning 20% of weights...\n",
      "✅ Acc: 0.7607 | F1: 0.7672 | Latency: 1.50ms/sample | Size: 801.85MB\n",
      "\n",
      "🔧 Pruning 30% of weights...\n"
     ]
    },
    {
     "name": "stderr",
     "output_type": "stream",
     "text": [
      "Some weights of RobertaForSequenceClassification were not initialized from the model checkpoint at roberta-base and are newly initialized: ['classifier.dense.bias', 'classifier.dense.weight', 'classifier.out_proj.bias', 'classifier.out_proj.weight']\n",
      "You should probably TRAIN this model on a down-stream task to be able to use it for predictions and inference.\n",
      "Some weights of RobertaForSequenceClassification were not initialized from the model checkpoint at roberta-base and are newly initialized: ['classifier.dense.bias', 'classifier.dense.weight', 'classifier.out_proj.bias', 'classifier.out_proj.weight']\n",
      "You should probably TRAIN this model on a down-stream task to be able to use it for predictions and inference.\n"
     ]
    },
    {
     "name": "stdout",
     "output_type": "stream",
     "text": [
      "✅ Acc: 0.7122 | F1: 0.7149 | Latency: 1.48ms/sample | Size: 801.85MB\n",
      "\n",
      "🔧 Pruning 40% of weights...\n",
      "✅ Acc: 0.5461 | F1: 0.5062 | Latency: 1.47ms/sample | Size: 801.85MB\n",
      "\n",
      "🔧 Pruning 50% of weights...\n"
     ]
    },
    {
     "name": "stderr",
     "output_type": "stream",
     "text": [
      "Some weights of RobertaForSequenceClassification were not initialized from the model checkpoint at roberta-base and are newly initialized: ['classifier.dense.bias', 'classifier.dense.weight', 'classifier.out_proj.bias', 'classifier.out_proj.weight']\n",
      "You should probably TRAIN this model on a down-stream task to be able to use it for predictions and inference.\n",
      "Some weights of RobertaForSequenceClassification were not initialized from the model checkpoint at roberta-base and are newly initialized: ['classifier.dense.bias', 'classifier.dense.weight', 'classifier.out_proj.bias', 'classifier.out_proj.weight']\n",
      "You should probably TRAIN this model on a down-stream task to be able to use it for predictions and inference.\n"
     ]
    },
    {
     "name": "stdout",
     "output_type": "stream",
     "text": [
      "✅ Acc: 0.3689 | F1: 0.3143 | Latency: 1.49ms/sample | Size: 801.85MB\n",
      "\n",
      "🔧 Pruning 60% of weights...\n",
      "✅ Acc: 0.1788 | F1: 0.0952 | Latency: 1.49ms/sample | Size: 801.85MB\n",
      "\n",
      "🔧 Pruning 70% of weights...\n"
     ]
    },
    {
     "name": "stderr",
     "output_type": "stream",
     "text": [
      "Some weights of RobertaForSequenceClassification were not initialized from the model checkpoint at roberta-base and are newly initialized: ['classifier.dense.bias', 'classifier.dense.weight', 'classifier.out_proj.bias', 'classifier.out_proj.weight']\n",
      "You should probably TRAIN this model on a down-stream task to be able to use it for predictions and inference.\n",
      "Some weights of RobertaForSequenceClassification were not initialized from the model checkpoint at roberta-base and are newly initialized: ['classifier.dense.bias', 'classifier.dense.weight', 'classifier.out_proj.bias', 'classifier.out_proj.weight']\n",
      "You should probably TRAIN this model on a down-stream task to be able to use it for predictions and inference.\n"
     ]
    },
    {
     "name": "stdout",
     "output_type": "stream",
     "text": [
      "✅ Acc: 0.1630 | F1: 0.0561 | Latency: 1.48ms/sample | Size: 801.85MB\n",
      "\n",
      "🔧 Pruning 80% of weights...\n"
     ]
    },
    {
     "name": "stderr",
     "output_type": "stream",
     "text": [
      "Some weights of RobertaForSequenceClassification were not initialized from the model checkpoint at roberta-base and are newly initialized: ['classifier.dense.bias', 'classifier.dense.weight', 'classifier.out_proj.bias', 'classifier.out_proj.weight']\n",
      "You should probably TRAIN this model on a down-stream task to be able to use it for predictions and inference.\n"
     ]
    },
    {
     "name": "stdout",
     "output_type": "stream",
     "text": [
      "✅ Acc: 0.2493 | F1: 0.0798 | Latency: 1.49ms/sample | Size: 801.85MB\n",
      "\n",
      "🔧 Pruning 89% of weights...\n",
      "✅ Acc: 0.2493 | F1: 0.0798 | Latency: 1.50ms/sample | Size: 801.85MB\n",
      "\n",
      "📄 Sweep results saved to: /content/drive/MyDrive/adv_dl_models_final/roberta_manual_prune_sweep_results.json\n"
     ]
    },
    {
     "data": {
      "image/png": "[encoded data removed]",
      "text/plain": [
       "<Figure size 800x500 with 1 Axes>"
      ]
     },
     "metadata": {},
     "output_type": "display_data"
    },
    {
     "name": "stdout",
     "output_type": "stream",
     "text": [
      "📊 Plot saved to: /content/drive/MyDrive/adv_dl_models_final/roberta_manual_prune_sweep_plot.png\n"
     ]
    },
    {
     "data": {
      "image/png": "[encoded data removed]",
      "text/plain": [
       "<Figure size 800x500 with 1 Axes>"
      ]
     },
     "metadata": {},
     "output_type": "display_data"
    },
    {
     "name": "stdout",
     "output_type": "stream",
     "text": [
      "📊 Latency plot saved to: /content/drive/MyDrive/adv_dl_models_final/roberta_manual_prune_sweep_latency.png\n"
     ]
    },
    {
     "data": {
      "image/png": "[encoded data removed]",
      "text/plain": [
       "<Figure size 800x500 with 1 Axes>"
      ]
     },
     "metadata": {},
     "output_type": "display_data"
    },
    {
     "name": "stdout",
     "output_type": "stream",
     "text": [
      "📊 Model size plot saved to: /content/drive/MyDrive/adv_dl_models_final/roberta_manual_prune_sweep_modelsize.png\n"
     ]
    }
   ],
   "source": [
    "import os, time, json, torch, numpy as np\n",
    "import pandas as pd\n",
    "import matplotlib.pyplot as plt\n",
    "import torch.nn.utils.prune as prune\n",
    "from transformers import AutoTokenizer, AutoModelForSequenceClassification\n",
    "from sklearn.metrics import accuracy_score, f1_score\n",
    "# from google.colab import drive\n",
    "\n",
    "# --- Mount Drive ---\n",
    "# drive.mount(\"/content/drive\")\n",
    "\n",
    "# --- Device and constants ---\n",
    "DEVICE   = \"cuda\" if torch.cuda.is_available() else \"cpu\"\n",
    "MAX_LEN  = 512\n",
    "BATCH_SZ = 8\n",
    "ORDER = [\"extremely negative\", \"negative\", \"neutral\", \"positive\", \"extremely positive\"]\n",
    "LABEL2ID = {lab: i for i, lab in enumerate(ORDER)}\n",
    "\n",
    "# --- Load and prepare test set ---\n",
    "df_test = pd.read_csv(\"Corona_NLP_test_cleaned_translated.csv\")\n",
    "\n",
    "def normalize_label(s: str) -> str:\n",
    "    s = str(s).strip().lower()\n",
    "    s = s.replace(\"very negative\", \"extremely negative\")\n",
    "    s = s.replace(\"very positive\", \"extremely positive\")\n",
    "    s = s.replace(\"extreme negative\", \"extremely negative\")\n",
    "    s = s.replace(\"extreme positive\", \"extremely positive\")\n",
    "    return s\n",
    "\n",
    "df_test[\"label\"] = df_test[\"Sentiment\"].apply(normalize_label).map(LABEL2ID)\n",
    "df_test[\"text\"]  = df_test[\"OriginalTweet\"].astype(str)\n",
    "test_df = df_test.dropna(subset=[\"text\", \"label\"]).reset_index(drop=True)\n",
    "\n",
    "# --- Evaluation function ---\n",
    "def eval_model(model, tok, test_df, batch_size=32):\n",
    "    model.eval()\n",
    "    labels, preds_all, times = [], [], []\n",
    "    with torch.no_grad():\n",
    "        for start in range(0, len(test_df), batch_size):\n",
    "            texts = test_df[\"text\"].tolist()[start:start+batch_size]\n",
    "            labs  = test_df[\"label\"].tolist()[start:start+batch_size]\n",
    "            enc = tok(texts, truncation=True, padding=True, max_length=MAX_LEN, return_tensors=\"pt\").to(DEVICE)\n",
    "            t0 = time.time()\n",
    "            logits = model(**enc).logits\n",
    "            times.append((time.time() - t0) / logits.size(0))\n",
    "            preds_all.extend(logits.argmax(-1).cpu().numpy().tolist())\n",
    "            labels.extend(labs)\n",
    "    acc = accuracy_score(labels, preds_all)\n",
    "    f1m = f1_score(labels, preds_all, average=\"macro\")\n",
    "    return acc, f1m, np.mean(times)\n",
    "\n",
    "# --- NEW: Function to compute model size (MB) ---\n",
    "def get_model_size(model):\n",
    "    torch.save(model.state_dict(), \"temp.pt\")\n",
    "    size_mb = os.path.getsize(\"temp.pt\") / (1024 * 1024)\n",
    "    os.remove(\"temp.pt\")\n",
    "    return size_mb\n",
    "\n",
    "# --- Load tokenizer and base model ---\n",
    "tok = AutoTokenizer.from_pretrained(\"roberta-base\")\n",
    "model_base_path = \"adv_dl_models_final/roberta_base_best_manual.pt\"\n",
    "base_model = AutoModelForSequenceClassification.from_pretrained(\"roberta-base\", num_labels=len(ORDER))\n",
    "base_model.load_state_dict(torch.load(model_base_path, map_location=\"cpu\"))\n",
    "\n",
    "# --- Pruning sweep ---\n",
    "results = []\n",
    "save_dir = \"adv_dl_models_final\"\n",
    "os.makedirs(save_dir, exist_ok=True)\n",
    "\n",
    "percentages = np.round(np.arange(0.0, 0.9, 0.1), 2).tolist()\n",
    "percentages.append(0.89)\n",
    "\n",
    "for pct in percentages:\n",
    "    print(f\"\\n🔧 Pruning {pct*100:.0f}% of weights...\")\n",
    "    model = AutoModelForSequenceClassification.from_pretrained(\"roberta-base\", num_labels=len(ORDER))\n",
    "    model.load_state_dict(torch.load(model_base_path, map_location=\"cpu\"))\n",
    "    model.eval()\n",
    "\n",
    "    if pct > 0.0:\n",
    "        parameters_to_prune = []\n",
    "        for name, module in model.named_modules():\n",
    "            if isinstance(module, torch.nn.Linear):\n",
    "                parameters_to_prune.append((module, 'weight'))\n",
    "        prune.global_unstructured(parameters_to_prune, pruning_method=prune.L1Unstructured, amount=pct)\n",
    "\n",
    "    model.to(DEVICE)\n",
    "    acc, f1m, latency = eval_model(model, tok, test_df, batch_size=BATCH_SZ)\n",
    "    size_mb = get_model_size(model)   # NEW\n",
    "\n",
    "    print(f\"✅ Acc: {acc:.4f} | F1: {f1m:.4f} | Latency: {latency*1000:.2f}ms/sample | Size: {size_mb:.2f}MB\")\n",
    "\n",
    "    results.append({\n",
    "        \"prune_pct\": round(pct, 2),\n",
    "        \"accuracy\": round(acc, 4),\n",
    "        \"macro_f1\": round(f1m, 4),\n",
    "        \"latency_ms_per_sample\": round(latency * 1000, 2),\n",
    "        \"model_size_mb\": round(size_mb, 2)   # NEW\n",
    "    })\n",
    "\n",
    "# --- Save JSON results ---\n",
    "json_path = os.path.join(save_dir, \"roberta_manual_prune_sweep_results.json\")\n",
    "with open(json_path, \"w\") as f:\n",
    "    json.dump(results, f, indent=2)\n",
    "print(f\"\\n📄 Sweep results saved to: {json_path}\")\n",
    "\n",
    "# --- Plot results (Accuracy + F1) ---\n",
    "x = [r[\"prune_pct\"] for r in results]\n",
    "y_acc = [r[\"accuracy\"] for r in results]\n",
    "y_f1 = [r[\"macro_f1\"] for r in results]\n",
    "\n",
    "plt.figure(figsize=(8, 5))\n",
    "plt.plot(x, y_acc, label=\"Accuracy\", marker=\"o\")\n",
    "plt.plot(x, y_f1, label=\"Macro-F1\", marker=\"s\")\n",
    "plt.xlabel(\"Pruned % of Weights\")\n",
    "plt.ylabel(\"Score\")\n",
    "plt.title(\"Performance vs. Pruning Percentage\")\n",
    "plt.grid(True)\n",
    "plt.legend()\n",
    "plot_path = os.path.join(save_dir, \"roberta_manual_prune_sweep_plot.png\")\n",
    "plt.savefig(plot_path)\n",
    "plt.show()\n",
    "print(f\"📊 Plot saved to: {plot_path}\")\n",
    "\n",
    "# --- NEW: Latency plot ---\n",
    "y_lat = [r[\"latency_ms_per_sample\"] for r in results]\n",
    "plt.figure(figsize=(8, 5))\n",
    "plt.plot(x, y_lat, label=\"Latency (ms/sample)\", marker=\"^\", color=\"red\")\n",
    "plt.xlabel(\"Pruned % of Weights\")\n",
    "plt.ylabel(\"Latency (ms/sample)\")\n",
    "plt.title(\"Latency vs. Pruning Percentage\")\n",
    "plt.grid(True)\n",
    "plt.legend()\n",
    "lat_plot_path = os.path.join(save_dir, \"roberta_manual_prune_sweep_latency.png\")\n",
    "plt.savefig(lat_plot_path)\n",
    "plt.show()\n",
    "print(f\"📊 Latency plot saved to: {lat_plot_path}\")\n",
    "\n",
    "# --- NEW: Model size plot ---\n",
    "y_size = [r[\"model_size_mb\"] for r in results]\n",
    "plt.figure(figsize=(8, 5))\n",
    "plt.plot(x, y_size, label=\"Model Size (MB)\", marker=\"d\", color=\"green\")\n",
    "plt.xlabel(\"Pruned % of Weights\")\n",
    "plt.ylabel(\"Model Size (MB)\")\n",
    "plt.title(\"Model Size vs. Pruning Percentage\")\n",
    "plt.grid(True)\n",
    "plt.legend()\n",
    "size_plot_path = os.path.join(save_dir, \"roberta_manual_prune_sweep_modelsize.png\")\n",
    "plt.savefig(size_plot_path)\n",
    "plt.show()\n",
    "print(f\"📊 Model size plot saved to: {size_plot_path}\")\n"
   ]
  },
  {
   "cell_type": "markdown",
   "metadata": {
    "id": "iZd9h76AC3iv"
   },
   "source": [
    "# ✂️ Pruning Results – RoBERTa-base (EX4)\n",
    "\n",
    "## 📊 Sweep Outcomes\n",
    "We pruned the fine-tuned **RoBERTa-base** sentiment model at different percentages and tracked **accuracy, macro-F1, latency, and size**.\n",
    "\n",
    "| Pruning % | Accuracy | Macro-F1 | Latency (ms/sample) | Size (MB) |\n",
    "|-----------|----------|----------|----------------------|-----------|\n",
    "| 0%        | 0.7725   | 0.7794   | 1.27                 | 475.57    |\n",
    "| 10%       | 0.7599   | 0.7666   | 1.50                 | 801.85    |\n",
    "| 20%       | 0.7607   | 0.7672   | 1.50                 | 801.85    |\n",
    "| 30%       | 0.7122   | 0.7149   | 1.48                 | 801.85    |\n",
    "| 40%       | 0.5461   | 0.5062   | 1.47                 | 801.85    |\n",
    "| 50%       | 0.3689   | 0.3143   | 1.49                 | 801.85    |\n",
    "| 60%       | 0.1788   | 0.0952   | 1.49                 | 801.85    |\n",
    "| 70%       | 0.1630   | 0.0561   | 1.48                 | 801.85    |\n",
    "| 80%       | 0.2493   | 0.0798   | 1.49                 | 801.85    |\n",
    "| 89%       | 0.2493   | 0.0798   | 1.50                 | 801.85    |\n",
    "\n",
    "📂 Results saved to:  \n",
    "`adv_dl_models_final/roberta_manual_prune_sweep_results.json`  \n",
    "\n",
    "---\n",
    "\n",
    "## 📉 Plot Insights\n",
    "\n",
    "### 1. Latency vs. Pruning %\n",
    "- Latency stayed flat (~1.5ms/sample), no matter how much pruning was applied.  \n",
    "- Reason: **Unstructured pruning** doesn’t shrink tensor dimensions — dense kernels still process full matrices.  \n",
    "- ➡️ **Conclusion**: pruning saves memory but **does not speed up inference** unless using special sparse kernels.\n",
    "\n",
    "### 2. Accuracy / F1 vs. Pruning %\n",
    "- Stable performance up to **~20% pruning**.  \n",
    "- Sharp drop after 30%, falling below **0.4 Acc/F1 at 50–60%**.  \n",
    "- Beyond 70%, the model **collapsed** (F1 < 0.1).  \n",
    "- Small upticks at 80–90% are just noise, not real recovery.\n",
    "\n",
    "---\n",
    "\n",
    "## ✅ Takeaways\n",
    "- **Safe zone**: ≤20% pruning keeps accuracy/F1 close to baseline.  \n",
    "- **Danger zone**: >30% pruning causes rapid collapse.  \n",
    "- **Latency**: no improvement with standard PyTorch (need structured pruning + sparse-aware kernels).  \n",
    "- **Best trade-off**: prune lightly (≤20%) if you only care about model size, not speed.  \n"
   ]
  },
  {
   "cell_type": "code",
   "execution_count": null,
   "metadata": {
    "colab": {
     "base_uri": "https://localhost:8080/",
     "height": 1000
    },
    "executionInfo": {
     "elapsed": 198417,
     "status": "ok",
     "timestamp": 1755608762831,
     "user": {
      "displayName": "גל גוסרסקי",
      "userId": "06195569624382764324"
     },
     "user_tz": -180
    },
    "id": "6vF2EwT3sP99",
    "outputId": "54340579-cd83-433b-805c-3209307ea717"
   },
   "outputs": [],
   "source": [
    "# # === Compatible versions ===\n",
    "# !pip install --upgrade --force-reinstall --no-cache-dir \\\n",
    "#   transformers==4.43.3 \\\n",
    "#   accelerate==0.30.1 \\\n",
    "#   datasets==2.20.0 \\\n",
    "#   evaluate==0.4.2 \\\n",
    "#   optuna==3.6.1 \\\n",
    "#   wandb==0.17.5 \\\n",
    "#   fsspec==2024.5.0 \\\n",
    "#   gcsfs==2024.5.0"
   ]
  },
  {
   "cell_type": "markdown",
   "metadata": {},
   "source": [
    "# 🎓 Knowledge Distillation (KD) with Optuna + Early Stopping + W&B\n",
    "\n",
    "### Teacher = RoBERTa-base (manual EX4 checkpoint)  \n",
    "### Student = DistilRoBERTa-base  \n",
    "\n",
    "---\n",
    "\n",
    "## 📖 What is KD?  \n",
    "Knowledge Distillation (KD) is a technique where a **large, accurate model (teacher)** trains a **smaller model (student)**.  \n",
    "Instead of learning only from ground-truth labels, the student also learns from the teacher’s **soft predictions** (probability distribution over classes).  \n",
    "These “dark knowledge” signals encode class relationships and help the student approach teacher performance while staying **lighter and faster**.\n",
    "\n",
    "---\n",
    "\n",
    "## ⚙️ Our Setup  \n",
    "- **Teacher**: RoBERTa-base fine-tuned on sentiment classification (EX4).  \n",
    "- **Student**: DistilRoBERTa-base – 6 layers instead of 12, ~40% fewer parameters, smaller footprint.  \n",
    "- **Loss function**: weighted mix of  \n",
    "  - **Cross-entropy loss** (student vs. true labels)  \n",
    "  - **KL divergence** (student vs. teacher predictions), controlled by α and temperature *T*.  \n",
    "- **Search strategy**: Optuna hyperparameter tuning + early stopping (patience=3).  \n",
    "- **Monitoring**: Accuracy, Macro-F1, per-class F1, latency, and size are logged to **W&B**.  \n",
    "- **Goal**: Achieve a student that is compact and efficient while maintaining as much accuracy as possible from the teacher.\n",
    "\n",
    "---\n",
    "\n",
    "## 📊 Teacher vs. Student (architecture & efficiency)\n",
    "\n",
    "| Model              | Layers | Hidden Dim | Heads | Params (M) | Size (MB) | Latency (ms/sample, CPU est.) |\n",
    "|--------------------|--------|------------|-------|------------|-----------|-------------------------------|\n",
    "| **RoBERTa-base** (Teacher)   | 12     | 768        | 12    | ~125M      | ~475 MB   | ~1.3 ms                      |\n",
    "| **DistilRoBERTa-base** (Student) | 6      | 768        | 12    | ~82M       | ~290 MB   | <1 ms                        |\n",
    "\n",
    "> ✅ Student is **~40% smaller and faster**, and KD helps it recover lost accuracy.  \n",
    "\n",
    "---\n",
    "\n",
    "## 🔍 Optuna Hyperparameter Search  \n",
    "\n",
    "We explored the following ranges:  \n",
    "- **α (0.2–0.8):** balance between ground-truth vs. teacher supervision.  \n",
    "- **T (1–5):** temperature to soften teacher predictions.  \n",
    "- **Learning rate (1e-6 – 5e-5, log scale).**  \n",
    "- **Fine-tuned layers (2–6):** number of student transformer layers unfrozen.  \n",
    "- **Epochs (2–10)** with early stopping.  \n",
    "\n",
    "This broad search ensures we capture both **efficient** and **accurate** KD setups.  \n",
    "\n",
    "---\n",
    "\n",
    "## 📂 Outputs  \n",
    "- All training/eval logs saved to **Weights & Biases** project `KD_optuna_ex4`.  \n",
    "- Best trial results stored in:  \n",
    "  - `KD_optuna_newmodel/manual_kd_best_study.json`  \n",
    "- Student checkpoint and metrics available for reuse/deployment.  \n",
    "\n",
    "---\n",
    "\n",
    "## ✅ Takeaways  \n",
    "- KD transfers knowledge from a heavy teacher into a smaller student.  \n",
    "- With the right **α** and **T**, the student preserves much of teacher’s performance.  \n",
    "- The final student is **smaller, faster, and more deployable**, making KD a strong compression method alongside quantization and pruning.  \n"
   ]
  },
  {
   "cell_type": "markdown",
   "metadata": {},
   "source": [
    "# Training"
   ]
  },
  {
   "cell_type": "code",
   "execution_count": null,
   "metadata": {
    "colab": {
     "base_uri": "https://localhost:8080/",
     "height": 1000,
     "referenced_widgets": [
      "95a11666803e499e87b6d06bfddbceae",
      "61bed1bed75040fb973de01b3f98968c",
      "d9ae4b58b449472ebec177cda36435c4",
      "b9694b377ad84a3e86429d1a6129d8e5",
      "3eca833c89894d9fbbe1eab5f97e9ff4",
      "60e0c119f4854638957b3f9317261dbc",
      "2d4fa4b730b349f38330f5aeab365b35",
      "4986a4a05a0c4dbcba109c48b66fe3f2",
      "29bd997e8f754f2dab93a511f9e74832",
      "f01edc913cc541f1a606cdfa9824df4f",
      "c63977feb47c453ab261189cc5d7a38f",
      "b57bbc15bf7d4cb9aba2ae5cda8ede64",
      "de582ad021a64e1e9ae2b9e0298885a0",
      "5e9a223506dd4c3bae2edcf171ef12c2",
      "3fee9b26b058484989bad233a1c9f8bf",
      "9a89f4390e7942f493e58ec8cc1fb302",
      "7f1e916d428a4a499acba0f0bde5a20c",
      "f5c39f570e994a2f845593323a531d1f",
      "2c08bc5bf3b54b9dab0e51664fa92699",
      "2d5df86273a74b98a3ea4f51f0f9111e",
      "d4512541b1674262943daf862f20adb5",
      "3d11a88e3d5f490b888762e972400dcd",
      "9e3d7f39f45f42c38062da011e84e739",
      "3cd704d8371e4efb8fd827d3adfb2260",
      "b4b8ff411d444d0699690711c94937f9",
      "a8f36b019c024a6ebe42e65affe30306",
      "b6809da7f6514cd39ca1a19d77bfc32e",
      "70e2971b948540b9b33025f1137b5fde",
      "22a23819a76846aca15cd75a4c071bc4",
      "eec62969b9ed4de5a6b5713c91d91700",
      "74391656a0a544f0a6006fa434a3e592",
      "85fc74b0d64d4561814f0cf3fd6076f4",
      "89d738ef1c584bc682e19f2a75e31d07",
      "22f399ec4e674b629617074e26cf46cb",
      "cd0fb6ca1b584b298591005b6128f8fc",
      "8ecc4fcd86fe4d88ac26883da4a76c2d",
      "47108047cdf645d6a5cf65a6b66485d0",
      "46a263b0878449e689844098e002cb96",
      "0f23fce569e14a2bae0905732dd83c6d",
      "648ebdcc93fe4c0e83ba5d023204e7cc",
      "b01b254169484e0d9eeae0bf69b69d6d",
      "444c2da8231842c5bbd5f8d19b23bb08",
      "384b75694ef14d64b6828d337aeacb94",
      "427f92b6c3cd4d9484da2cecb9707d34",
      "eb2ebe4fc50947f6a1824d8038450cb7",
      "1fa7389560d84dc797c2682d9578137d",
      "eadec1a211d5420cb3205a312c02ae37",
      "b7691fde57ec42099883fed6ca2cbe0d",
      "4095232159cf4e00a43daea27554cd8a",
      "519f640cda604d8c91ce03c15df46b8b",
      "a7df1fbcf9d344cab991c43581152993",
      "53ceaaccd7944afea27f5a6d8deb2df5",
      "1c25f8713a2d473d987e6fd0b8baa0ed",
      "c214d6f0d9bd4c9491b6c73392a630b5",
      "dddaee535d4d4cf88a8c178a630eb1bc",
      "0170b27c44494ab5a9a19b68e30bab82"
     ]
    },
    "id": "pkbNK7J5V8g9",
    "outputId": "1d19cb5b-66b1-483b-9de4-f9d42e8a9c37",
    "scrolled": true
   },
   "outputs": [
    {
     "metadata": {
      "tags": null
     },
     "name": "stdout",
     "output_type": "stream",
     "text": [
      "Drive already mounted at /content/drive; to attempt to forcibly remount, call drive.mount(\"/content/drive\", force_remount=True).\n",
      "✅ Using device: cuda\n"
     ]
    },
    {
     "metadata": {
      "tags": null
     },
     "name": "stderr",
     "output_type": "stream",
     "text": [
      "Some weights of RobertaForSequenceClassification were not initialized from the model checkpoint at roberta-base and are newly initialized: ['classifier.dense.bias', 'classifier.dense.weight', 'classifier.out_proj.bias', 'classifier.out_proj.weight']\n",
      "You should probably TRAIN this model on a down-stream task to be able to use it for predictions and inference.\n"
     ]
    },
    {
     "metadata": {
      "tags": null
     },
     "name": "stdout",
     "output_type": "stream",
     "text": [
      "✅ Data ready: train=41155, test=3798\n",
      "✅ Teacher initialized from base + state_dict\n"
     ]
    },
    {
     "metadata": {
      "tags": null
     },
     "name": "stderr",
     "output_type": "stream",
     "text": [
      "[I 2025-08-18 17:26:57,736] A new study created in memory with name: no-name-08f27c36-3cdf-4011-a994-d3e97a86775d\n"
     ]
    },
    {
     "metadata": {
      "tags": null
     },
     "name": "stdout",
     "output_type": "stream",
     "text": [
      "✅ Tokenizer: roberta-base | Loaders: train=5145 test=475\n",
      "🎯 Student candidate: distilroberta-base (family=roberta)\n",
      "🚀 Starting Optuna\n",
      "\n",
      "🔎 Trial 0 | alpha=0.527, T=2.48, epochs=2, fine_tune_layers=5, lr=1.09e-05\n"
     ]
    },
    {
     "data": {
      "text/html": [
       "Finishing last run (ID:tija7ndu) before initializing another..."
      ],
      "text/plain": [
       "<IPython.core.display.HTML object>"
      ]
     },
     "metadata": {},
     "output_type": "display_data"
    },
    {
     "data": {
      "application/vnd.jupyter.widget-view+json": {
       "model_id": "95a11666803e499e87b6d06bfddbceae",
       "version_major": 2,
       "version_minor": 0
      },
      "text/plain": [
       "VBox(children=(Label(value='0.002 MB of 0.002 MB uploaded\\r'), FloatProgress(value=1.0, max=1.0)))"
      ]
     },
     "metadata": {},
     "output_type": "display_data"
    },
    {
     "data": {
      "text/html": [
       "<style>\n",
       "    table.wandb td:nth-child(1) { padding: 0 10px; text-align: left ; width: auto;} td:nth-child(2) {text-align: left ; width: 100%}\n",
       "    .wandb-row { display: flex; flex-direction: row; flex-wrap: wrap; justify-content: flex-start; width: 100% }\n",
       "    .wandb-col { display: flex; flex-direction: column; flex-basis: 100%; flex: 1; padding: 10px; }\n",
       "    </style>\n",
       "<div class=\"wandb-row\"><div class=\"wandb-col\"><h3>Run history:</h3><br/><table class=\"wandb\"><tr><td>epoch</td><td>▁▁▁▁▁▁▁▁▁▁▁▁▁▁▁▁▁▁▁▁▁▁▁▁▁▁▁▁▁▁▁▁▁▁▁▁▁▁▁▁</td></tr><tr><td>step</td><td>▁▁▁▂▂▂▂▂▂▃▃▃▃▃▃▄▄▄▄▄▅▅▅▅▅▅▆▆▆▆▆▇▇▇▇▇▇███</td></tr><tr><td>train_loss</td><td>█▇▆▆▄▆▆▅▄▅▅▄▆▆▄▅▃▃▃▂▅▅▃▇▂▄▄▄▄▃▂▆▃▅▅▁▂▅▄▂</td></tr></table><br/></div><div class=\"wandb-col\"><h3>Run summary:</h3><br/><table class=\"wandb\"><tr><td>epoch</td><td>1</td></tr><tr><td>step</td><td>2955</td></tr><tr><td>train_loss</td><td>2.09743</td></tr></table><br/></div></div>"
      ],
      "text/plain": [
       "<IPython.core.display.HTML object>"
      ]
     },
     "metadata": {},
     "output_type": "display_data"
    },
    {
     "data": {
      "text/html": [
       " View run <strong style=\"color:#cdcd00\">manual_kd_trial_1</strong> at: <a href='https://wandb.ai/gal2361-tel-aviv-university/KD_optuna_ex4/runs/tija7ndu' target=\"_blank\">https://wandb.ai/gal2361-tel-aviv-university/KD_optuna_ex4/runs/tija7ndu</a><br/> View project at: <a href='https://wandb.ai/gal2361-tel-aviv-university/KD_optuna_ex4' target=\"_blank\">https://wandb.ai/gal2361-tel-aviv-university/KD_optuna_ex4</a><br/>Synced 5 W&B file(s), 0 media file(s), 0 artifact file(s) and 0 other file(s)"
      ],
      "text/plain": [
       "<IPython.core.display.HTML object>"
      ]
     },
     "metadata": {},
     "output_type": "display_data"
    },
    {
     "data": {
      "text/html": [
       "Find logs at: <code>./wandb/run-20250818_170147-tija7ndu/logs</code>"
      ],
      "text/plain": [
       "<IPython.core.display.HTML object>"
      ]
     },
     "metadata": {},
     "output_type": "display_data"
    },
    {
     "data": {
      "text/html": [
       "The new W&B backend becomes opt-out in version 0.18.0; try it out with `wandb.require(\"core\")`! See https://wandb.me/wandb-core for more information."
      ],
      "text/plain": [
       "<IPython.core.display.HTML object>"
      ]
     },
     "metadata": {},
     "output_type": "display_data"
    },
    {
     "data": {
      "text/html": [
       "Successfully finished last run (ID:tija7ndu). Initializing new run:<br/>"
      ],
      "text/plain": [
       "<IPython.core.display.HTML object>"
      ]
     },
     "metadata": {},
     "output_type": "display_data"
    },
    {
     "data": {
      "text/html": [
       "wandb version 0.21.1 is available!  To upgrade, please run:\n",
       " $ pip install wandb --upgrade"
      ],
      "text/plain": [
       "<IPython.core.display.HTML object>"
      ]
     },
     "metadata": {},
     "output_type": "display_data"
    },
    {
     "data": {
      "text/html": [
       "Tracking run with wandb version 0.17.5"
      ],
      "text/plain": [
       "<IPython.core.display.HTML object>"
      ]
     },
     "metadata": {},
     "output_type": "display_data"
    },
    {
     "data": {
      "text/html": [
       "Run data is saved locally in <code>/content/wandb/run-20250818_172657-uh81n2if</code>"
      ],
      "text/plain": [
       "<IPython.core.display.HTML object>"
      ]
     },
     "metadata": {},
     "output_type": "display_data"
    },
    {
     "data": {
      "text/html": [
       "Syncing run <strong><a href='https://wandb.ai/gal2361-tel-aviv-university/KD_optuna_ex4/runs/uh81n2if' target=\"_blank\">manual_kd_trial_0</a></strong> to <a href='https://wandb.ai/gal2361-tel-aviv-university/KD_optuna_ex4' target=\"_blank\">Weights & Biases</a> (<a href='https://wandb.me/run' target=\"_blank\">docs</a>)<br/>"
      ],
      "text/plain": [
       "<IPython.core.display.HTML object>"
      ]
     },
     "metadata": {},
     "output_type": "display_data"
    },
    {
     "data": {
      "text/html": [
       " View project at <a href='https://wandb.ai/gal2361-tel-aviv-university/KD_optuna_ex4' target=\"_blank\">https://wandb.ai/gal2361-tel-aviv-university/KD_optuna_ex4</a>"
      ],
      "text/plain": [
       "<IPython.core.display.HTML object>"
      ]
     },
     "metadata": {},
     "output_type": "display_data"
    },
    {
     "data": {
      "text/html": [
       " View run at <a href='https://wandb.ai/gal2361-tel-aviv-university/KD_optuna_ex4/runs/uh81n2if' target=\"_blank\">https://wandb.ai/gal2361-tel-aviv-university/KD_optuna_ex4/runs/uh81n2if</a>"
      ],
      "text/plain": [
       "<IPython.core.display.HTML object>"
      ]
     },
     "metadata": {},
     "output_type": "display_data"
    },
    {
     "metadata": {
      "tags": null
     },
     "name": "stderr",
     "output_type": "stream",
     "text": [
      "Some weights of RobertaForSequenceClassification were not initialized from the model checkpoint at distilroberta-base and are newly initialized: ['classifier.dense.bias', 'classifier.dense.weight', 'classifier.out_proj.bias', 'classifier.out_proj.weight']\n",
      "You should probably TRAIN this model on a down-stream task to be able to use it for predictions and inference.\n",
      "/usr/local/lib/python3.11/dist-packages/transformers/optimization.py:591: FutureWarning: This implementation of AdamW is deprecated and will be removed in a future version. Use the PyTorch implementation torch.optim.AdamW instead, or set `no_deprecation_warning=True` to disable this warning\n",
      "  warnings.warn(\n"
     ]
    },
    {
     "metadata": {
      "tags": null
     },
     "name": "stdout",
     "output_type": "stream",
     "text": [
      "   🔓 Unfroze last 5/6 at roberta.encoder.layer\n",
      "\n",
      "▶️ Epoch 1/2\n"
     ]
    },
    {
     "metadata": {
      "tags": null
     },
     "name": "stderr",
     "output_type": "stream",
     "text": [
      "Trial 0 Epoch 1: 100%|██████████| 5145/5145 [25:58<00:00,  3.30it/s, loss=2.38]\n"
     ]
    },
    {
     "metadata": {
      "tags": null
     },
     "name": "stdout",
     "output_type": "stream",
     "text": [
      "📊 Epoch 1 done. Val Macro-F1=0.6912, Acc=0.6775\n",
      "   ✅ New best F1\n",
      "\n",
      "▶️ Epoch 2/2\n"
     ]
    },
    {
     "metadata": {
      "tags": null
     },
     "name": "stderr",
     "output_type": "stream",
     "text": [
      "Trial 0 Epoch 2: 100%|██████████| 5145/5145 [26:06<00:00,  3.28it/s, loss=1.86]\n"
     ]
    },
    {
     "metadata": {
      "tags": null
     },
     "name": "stdout",
     "output_type": "stream",
     "text": [
      "📊 Epoch 2 done. Val Macro-F1=0.7114, Acc=0.6983\n",
      "   ✅ New best F1\n",
      "📦 Model size: 313.31 MB | ⏱️ Latency: 7.84 ms/sample\n"
     ]
    },
    {
     "data": {
      "application/vnd.jupyter.widget-view+json": {
       "model_id": "29bd997e8f754f2dab93a511f9e74832",
       "version_major": 2,
       "version_minor": 0
      },
      "text/plain": [
       "VBox(children=(Label(value='0.002 MB of 0.002 MB uploaded\\r'), FloatProgress(value=1.0, max=1.0)))"
      ]
     },
     "metadata": {},
     "output_type": "display_data"
    },
    {
     "data": {
      "text/html": [
       "<style>\n",
       "    table.wandb td:nth-child(1) { padding: 0 10px; text-align: left ; width: auto;} td:nth-child(2) {text-align: left ; width: 100%}\n",
       "    .wandb-row { display: flex; flex-direction: row; flex-wrap: wrap; justify-content: flex-start; width: 100% }\n",
       "    .wandb-col { display: flex; flex-direction: column; flex-basis: 100%; flex: 1; padding: 10px; }\n",
       "    </style>\n",
       "<div class=\"wandb-row\"><div class=\"wandb-col\"><h3>Run history:</h3><br/><table class=\"wandb\"><tr><td>F1_extremely negative</td><td>▁█</td></tr><tr><td>F1_extremely positive</td><td>▁█</td></tr><tr><td>F1_negative</td><td>▁█</td></tr><tr><td>F1_neutral</td><td>▁█</td></tr><tr><td>F1_positive</td><td>▁█</td></tr><tr><td>epoch</td><td>▁▁▁▁▁▁▁▁▁▁▁▁▁▁▁▁▁▁▁▁████████████████████</td></tr><tr><td>latency_ms</td><td>▁</td></tr><tr><td>model_size_mb</td><td>▁</td></tr><tr><td>step</td><td>▁▁▂▂▂▃▃▄▄▄▅▅▅▆▆▆▇▇▇█▁▁▂▂▂▃▃▄▄▄▅▅▅▆▆▆▇▇▇█</td></tr><tr><td>train_loss</td><td>█▅▆▃▃█▄▆▄▄▃▆▃▃▃▃▄▄▆▃▄▃▂▄▂▃▂▃▄▂▃▄▁▄▃▂▃▃▁▇</td></tr><tr><td>val_acc</td><td>▁█</td></tr><tr><td>val_macro_f1</td><td>▁█</td></tr></table><br/></div><div class=\"wandb-col\"><h3>Run summary:</h3><br/><table class=\"wandb\"><tr><td>F1_extremely negative</td><td>0.75693</td></tr><tr><td>F1_extremely positive</td><td>0.76358</td></tr><tr><td>F1_negative</td><td>0.6501</td></tr><tr><td>F1_neutral</td><td>0.74533</td></tr><tr><td>F1_positive</td><td>0.64113</td></tr><tr><td>epoch</td><td>2</td></tr><tr><td>latency_ms</td><td>7.84486</td></tr><tr><td>model_size_mb</td><td>313.31335</td></tr><tr><td>step</td><td>5144</td></tr><tr><td>train_loss</td><td>1.85728</td></tr><tr><td>val_acc</td><td>0.69826</td></tr><tr><td>val_macro_f1</td><td>0.71141</td></tr></table><br/></div></div>"
      ],
      "text/plain": [
       "<IPython.core.display.HTML object>"
      ]
     },
     "metadata": {},
     "output_type": "display_data"
    },
    {
     "data": {
      "text/html": [
       " View run <strong style=\"color:#cdcd00\">manual_kd_trial_0</strong> at: <a href='https://wandb.ai/gal2361-tel-aviv-university/KD_optuna_ex4/runs/uh81n2if' target=\"_blank\">https://wandb.ai/gal2361-tel-aviv-university/KD_optuna_ex4/runs/uh81n2if</a><br/> View project at: <a href='https://wandb.ai/gal2361-tel-aviv-university/KD_optuna_ex4' target=\"_blank\">https://wandb.ai/gal2361-tel-aviv-university/KD_optuna_ex4</a><br/>Synced 5 W&B file(s), 0 media file(s), 0 artifact file(s) and 0 other file(s)"
      ],
      "text/plain": [
       "<IPython.core.display.HTML object>"
      ]
     },
     "metadata": {},
     "output_type": "display_data"
    },
    {
     "data": {
      "text/html": [
       "Find logs at: <code>./wandb/run-20250818_172657-uh81n2if/logs</code>"
      ],
      "text/plain": [
       "<IPython.core.display.HTML object>"
      ]
     },
     "metadata": {},
     "output_type": "display_data"
    },
    {
     "data": {
      "text/html": [
       "The new W&B backend becomes opt-out in version 0.18.0; try it out with `wandb.require(\"core\")`! See https://wandb.me/wandb-core for more information."
      ],
      "text/plain": [
       "<IPython.core.display.HTML object>"
      ]
     },
     "metadata": {},
     "output_type": "display_data"
    },
    {
     "metadata": {
      "tags": null
     },
     "name": "stderr",
     "output_type": "stream",
     "text": [
      "[I 2025-08-18 18:20:22,077] Trial 0 finished with value: 0.7114130707766239 and parameters: {'alpha': 0.5273664086862988, 'T': 2.4826648342003104, 'epochs': 2, 'fine_tune_layers': 5, 'learning_rate': 1.089396868200628e-05}. Best is trial 0 with value: 0.7114130707766239.\n"
     ]
    },
    {
     "metadata": {
      "tags": null
     },
     "name": "stdout",
     "output_type": "stream",
     "text": [
      "\n",
      "🔎 Trial 1 | alpha=0.344, T=3.10, epochs=5, fine_tune_layers=3, lr=1.01e-06\n"
     ]
    },
    {
     "data": {
      "application/vnd.jupyter.widget-view+json": {
       "model_id": "7f1e916d428a4a499acba0f0bde5a20c",
       "version_major": 2,
       "version_minor": 0
      },
      "text/plain": [
       "VBox(children=(Label(value='Waiting for wandb.init()...\\r'), FloatProgress(value=0.0111127551333387, max=1.0))…"
      ]
     },
     "metadata": {},
     "output_type": "display_data"
    },
    {
     "data": {
      "text/html": [
       "wandb version 0.21.1 is available!  To upgrade, please run:\n",
       " $ pip install wandb --upgrade"
      ],
      "text/plain": [
       "<IPython.core.display.HTML object>"
      ]
     },
     "metadata": {},
     "output_type": "display_data"
    },
    {
     "data": {
      "text/html": [
       "Tracking run with wandb version 0.17.5"
      ],
      "text/plain": [
       "<IPython.core.display.HTML object>"
      ]
     },
     "metadata": {},
     "output_type": "display_data"
    },
    {
     "data": {
      "text/html": [
       "Run data is saved locally in <code>/content/wandb/run-20250818_182022-h9f61u5f</code>"
      ],
      "text/plain": [
       "<IPython.core.display.HTML object>"
      ]
     },
     "metadata": {},
     "output_type": "display_data"
    },
    {
     "data": {
      "text/html": [
       "Syncing run <strong><a href='https://wandb.ai/gal2361-tel-aviv-university/KD_optuna_ex4/runs/h9f61u5f' target=\"_blank\">manual_kd_trial_1</a></strong> to <a href='https://wandb.ai/gal2361-tel-aviv-university/KD_optuna_ex4' target=\"_blank\">Weights & Biases</a> (<a href='https://wandb.me/run' target=\"_blank\">docs</a>)<br/>"
      ],
      "text/plain": [
       "<IPython.core.display.HTML object>"
      ]
     },
     "metadata": {},
     "output_type": "display_data"
    },
    {
     "data": {
      "text/html": [
       " View project at <a href='https://wandb.ai/gal2361-tel-aviv-university/KD_optuna_ex4' target=\"_blank\">https://wandb.ai/gal2361-tel-aviv-university/KD_optuna_ex4</a>"
      ],
      "text/plain": [
       "<IPython.core.display.HTML object>"
      ]
     },
     "metadata": {},
     "output_type": "display_data"
    },
    {
     "data": {
      "text/html": [
       " View run at <a href='https://wandb.ai/gal2361-tel-aviv-university/KD_optuna_ex4/runs/h9f61u5f' target=\"_blank\">https://wandb.ai/gal2361-tel-aviv-university/KD_optuna_ex4/runs/h9f61u5f</a>"
      ],
      "text/plain": [
       "<IPython.core.display.HTML object>"
      ]
     },
     "metadata": {},
     "output_type": "display_data"
    },
    {
     "metadata": {
      "tags": null
     },
     "name": "stderr",
     "output_type": "stream",
     "text": [
      "Some weights of RobertaForSequenceClassification were not initialized from the model checkpoint at distilroberta-base and are newly initialized: ['classifier.dense.bias', 'classifier.dense.weight', 'classifier.out_proj.bias', 'classifier.out_proj.weight']\n",
      "You should probably TRAIN this model on a down-stream task to be able to use it for predictions and inference.\n",
      "/usr/local/lib/python3.11/dist-packages/transformers/optimization.py:591: FutureWarning: This implementation of AdamW is deprecated and will be removed in a future version. Use the PyTorch implementation torch.optim.AdamW instead, or set `no_deprecation_warning=True` to disable this warning\n",
      "  warnings.warn(\n"
     ]
    },
    {
     "metadata": {
      "tags": null
     },
     "name": "stdout",
     "output_type": "stream",
     "text": [
      "   🔓 Unfroze last 3/6 at roberta.encoder.layer\n",
      "\n",
      "▶️ Epoch 1/5\n"
     ]
    },
    {
     "metadata": {
      "tags": null
     },
     "name": "stderr",
     "output_type": "stream",
     "text": [
      "Trial 1 Epoch 1: 100%|██████████| 5145/5145 [22:55<00:00,  3.74it/s, loss=5.63]\n"
     ]
    },
    {
     "metadata": {
      "tags": null
     },
     "name": "stdout",
     "output_type": "stream",
     "text": [
      "📊 Epoch 1 done. Val Macro-F1=0.4823, Acc=0.4663\n",
      "   ✅ New best F1\n",
      "\n",
      "▶️ Epoch 2/5\n"
     ]
    },
    {
     "metadata": {
      "tags": null
     },
     "name": "stderr",
     "output_type": "stream",
     "text": [
      "Trial 1 Epoch 2: 100%|██████████| 5145/5145 [22:55<00:00,  3.74it/s, loss=3.42]\n"
     ]
    },
    {
     "metadata": {
      "tags": null
     },
     "name": "stdout",
     "output_type": "stream",
     "text": [
      "📊 Epoch 2 done. Val Macro-F1=0.5082, Acc=0.4934\n",
      "   ✅ New best F1\n",
      "\n",
      "▶️ Epoch 3/5\n"
     ]
    },
    {
     "name": "stderr",
     "output_type": "stream",
     "text": [
      "Trial 1 Epoch 3: 100%|██████████| 5145/5145 [22:55<00:00,  3.74it/s, loss=4.44]\n"
     ]
    },
    {
     "name": "stdout",
     "output_type": "stream",
     "text": [
      "📊 Epoch 3 done. Val Macro-F1=0.5280, Acc=0.5124\n",
      "   ✅ New best F1\n",
      "\n",
      "▶️ Epoch 4/5\n"
     ]
    },
    {
     "name": "stderr",
     "output_type": "stream",
     "text": [
      "Trial 1 Epoch 4: 100%|██████████| 5145/5145 [22:55<00:00,  3.74it/s, loss=4.13]\n"
     ]
    },
    {
     "name": "stdout",
     "output_type": "stream",
     "text": [
      "📊 Epoch 4 done. Val Macro-F1=0.5397, Acc=0.5247\n",
      "   ✅ New best F1\n",
      "\n",
      "▶️ Epoch 5/5\n"
     ]
    },
    {
     "name": "stderr",
     "output_type": "stream",
     "text": [
      "Trial 1 Epoch 5: 100%|██████████| 5145/5145 [22:56<00:00,  3.74it/s, loss=3.02]\n"
     ]
    },
    {
     "name": "stdout",
     "output_type": "stream",
     "text": [
      "📊 Epoch 5 done. Val Macro-F1=0.5375, Acc=0.5224\n",
      "   ⚠️ No improvement. Patience counter=1\n",
      "📦 Model size: 313.31 MB | ⏱️ Latency: 7.84 ms/sample\n"
     ]
    },
    {
     "data": {
      "application/vnd.jupyter.widget-view+json": {
       "model_id": "b4b8ff411d444d0699690711c94937f9",
       "version_major": 2,
       "version_minor": 0
      },
      "text/plain": [
       "VBox(children=(Label(value='0.002 MB of 0.002 MB uploaded\\r'), FloatProgress(value=1.0, max=1.0)))"
      ]
     },
     "metadata": {},
     "output_type": "display_data"
    },
    {
     "data": {
      "text/html": [
       "<style>\n",
       "    table.wandb td:nth-child(1) { padding: 0 10px; text-align: left ; width: auto;} td:nth-child(2) {text-align: left ; width: 100%}\n",
       "    .wandb-row { display: flex; flex-direction: row; flex-wrap: wrap; justify-content: flex-start; width: 100% }\n",
       "    .wandb-col { display: flex; flex-direction: column; flex-basis: 100%; flex: 1; padding: 10px; }\n",
       "    </style>\n",
       "<div class=\"wandb-row\"><div class=\"wandb-col\"><h3>Run history:</h3><br/><table class=\"wandb\"><tr><td>F1_extremely negative</td><td>▁▇███</td></tr><tr><td>F1_extremely positive</td><td>▁▄▆█▇</td></tr><tr><td>F1_negative</td><td>▂▁▆██</td></tr><tr><td>F1_neutral</td><td>▁▆▇██</td></tr><tr><td>F1_positive</td><td>▂▁▆█▆</td></tr><tr><td>epoch</td><td>▁▁▁▁▁▁▁▁▃▃▃▃▃▃▃▃▅▅▅▅▅▅▅▅▆▆▆▆▆▆▆▆████████</td></tr><tr><td>latency_ms</td><td>▁</td></tr><tr><td>model_size_mb</td><td>▁</td></tr><tr><td>step</td><td>▁▂▃▄▅▆▇▇▁▂▃▄▅▆▇█▁▂▃▄▅▆▇█▁▂▃▄▅▆▇█▁▂▃▄▅▆▇█</td></tr><tr><td>train_loss</td><td>█▇▇▇▆▅▄▆▃▃▅▄▄▃▄▃▅▆▃▅▂▆▄▄█▄▆▂▄▁▂▂▄▁▄▇▂▃▃▃</td></tr><tr><td>val_acc</td><td>▁▄▇██</td></tr><tr><td>val_macro_f1</td><td>▁▄▇██</td></tr></table><br/></div><div class=\"wandb-col\"><h3>Run summary:</h3><br/><table class=\"wandb\"><tr><td>F1_extremely negative</td><td>0.58289</td></tr><tr><td>F1_extremely positive</td><td>0.60541</td></tr><tr><td>F1_negative</td><td>0.47152</td></tr><tr><td>F1_neutral</td><td>0.60995</td></tr><tr><td>F1_positive</td><td>0.41764</td></tr><tr><td>epoch</td><td>5</td></tr><tr><td>latency_ms</td><td>7.8394</td></tr><tr><td>model_size_mb</td><td>313.31335</td></tr><tr><td>step</td><td>5144</td></tr><tr><td>train_loss</td><td>3.01708</td></tr><tr><td>val_acc</td><td>0.52238</td></tr><tr><td>val_macro_f1</td><td>0.53748</td></tr></table><br/></div></div>"
      ],
      "text/plain": [
       "<IPython.core.display.HTML object>"
      ]
     },
     "metadata": {},
     "output_type": "display_data"
    },
    {
     "data": {
      "text/html": [
       " View run <strong style=\"color:#cdcd00\">manual_kd_trial_1</strong> at: <a href='https://wandb.ai/gal2361-tel-aviv-university/KD_optuna_ex4/runs/h9f61u5f' target=\"_blank\">https://wandb.ai/gal2361-tel-aviv-university/KD_optuna_ex4/runs/h9f61u5f</a><br/> View project at: <a href='https://wandb.ai/gal2361-tel-aviv-university/KD_optuna_ex4' target=\"_blank\">https://wandb.ai/gal2361-tel-aviv-university/KD_optuna_ex4</a><br/>Synced 5 W&B file(s), 0 media file(s), 0 artifact file(s) and 0 other file(s)"
      ],
      "text/plain": [
       "<IPython.core.display.HTML object>"
      ]
     },
     "metadata": {},
     "output_type": "display_data"
    },
    {
     "data": {
      "text/html": [
       "Find logs at: <code>./wandb/run-20250818_182022-h9f61u5f/logs</code>"
      ],
      "text/plain": [
       "<IPython.core.display.HTML object>"
      ]
     },
     "metadata": {},
     "output_type": "display_data"
    },
    {
     "data": {
      "text/html": [
       "The new W&B backend becomes opt-out in version 0.18.0; try it out with `wandb.require(\"core\")`! See https://wandb.me/wandb-core for more information."
      ],
      "text/plain": [
       "<IPython.core.display.HTML object>"
      ]
     },
     "metadata": {},
     "output_type": "display_data"
    },
    {
     "name": "stderr",
     "output_type": "stream",
     "text": [
      "[I 2025-08-18 20:17:56,054] Trial 1 finished with value: 0.5397125599632452 and parameters: {'alpha': 0.34446204807028274, 'T': 3.098809715127545, 'epochs': 5, 'fine_tune_layers': 3, 'learning_rate': 1.008889429375239e-06}. Best is trial 0 with value: 0.7114130707766239.\n"
     ]
    },
    {
     "name": "stdout",
     "output_type": "stream",
     "text": [
      "\n",
      "🔎 Trial 2 | alpha=0.247, T=3.45, epochs=4, fine_tune_layers=4, lr=4.17e-05\n"
     ]
    },
    {
     "data": {
      "text/html": [
       "wandb version 0.21.1 is available!  To upgrade, please run:\n",
       " $ pip install wandb --upgrade"
      ],
      "text/plain": [
       "<IPython.core.display.HTML object>"
      ]
     },
     "metadata": {},
     "output_type": "display_data"
    },
    {
     "data": {
      "text/html": [
       "Tracking run with wandb version 0.17.5"
      ],
      "text/plain": [
       "<IPython.core.display.HTML object>"
      ]
     },
     "metadata": {},
     "output_type": "display_data"
    },
    {
     "data": {
      "text/html": [
       "Run data is saved locally in <code>/content/wandb/run-20250818_201756-opovc3h5</code>"
      ],
      "text/plain": [
       "<IPython.core.display.HTML object>"
      ]
     },
     "metadata": {},
     "output_type": "display_data"
    },
    {
     "data": {
      "text/html": [
       "Syncing run <strong><a href='https://wandb.ai/gal2361-tel-aviv-university/KD_optuna_ex4/runs/opovc3h5' target=\"_blank\">manual_kd_trial_2</a></strong> to <a href='https://wandb.ai/gal2361-tel-aviv-university/KD_optuna_ex4' target=\"_blank\">Weights & Biases</a> (<a href='https://wandb.me/run' target=\"_blank\">docs</a>)<br/>"
      ],
      "text/plain": [
       "<IPython.core.display.HTML object>"
      ]
     },
     "metadata": {},
     "output_type": "display_data"
    },
    {
     "data": {
      "text/html": [
       " View project at <a href='https://wandb.ai/gal2361-tel-aviv-university/KD_optuna_ex4' target=\"_blank\">https://wandb.ai/gal2361-tel-aviv-university/KD_optuna_ex4</a>"
      ],
      "text/plain": [
       "<IPython.core.display.HTML object>"
      ]
     },
     "metadata": {},
     "output_type": "display_data"
    },
    {
     "data": {
      "text/html": [
       " View run at <a href='https://wandb.ai/gal2361-tel-aviv-university/KD_optuna_ex4/runs/opovc3h5' target=\"_blank\">https://wandb.ai/gal2361-tel-aviv-university/KD_optuna_ex4/runs/opovc3h5</a>"
      ],
      "text/plain": [
       "<IPython.core.display.HTML object>"
      ]
     },
     "metadata": {},
     "output_type": "display_data"
    },
    {
     "name": "stderr",
     "output_type": "stream",
     "text": [
      "Some weights of RobertaForSequenceClassification were not initialized from the model checkpoint at distilroberta-base and are newly initialized: ['classifier.dense.bias', 'classifier.dense.weight', 'classifier.out_proj.bias', 'classifier.out_proj.weight']\n",
      "You should probably TRAIN this model on a down-stream task to be able to use it for predictions and inference.\n",
      "/usr/local/lib/python3.11/dist-packages/transformers/optimization.py:591: FutureWarning: This implementation of AdamW is deprecated and will be removed in a future version. Use the PyTorch implementation torch.optim.AdamW instead, or set `no_deprecation_warning=True` to disable this warning\n",
      "  warnings.warn(\n"
     ]
    },
    {
     "name": "stdout",
     "output_type": "stream",
     "text": [
      "   🔓 Unfroze last 4/6 at roberta.encoder.layer\n",
      "\n",
      "▶️ Epoch 1/4\n"
     ]
    },
    {
     "name": "stderr",
     "output_type": "stream",
     "text": [
      "Trial 2 Epoch 1: 100%|██████████| 5145/5145 [24:22<00:00,  3.52it/s, loss=5.59]\n"
     ]
    },
    {
     "name": "stdout",
     "output_type": "stream",
     "text": [
      "📊 Epoch 1 done. Val Macro-F1=0.6997, Acc=0.6872\n",
      "   ✅ New best F1\n",
      "\n",
      "▶️ Epoch 2/4\n"
     ]
    },
    {
     "name": "stderr",
     "output_type": "stream",
     "text": [
      "Trial 2 Epoch 2: 100%|██████████| 5145/5145 [24:24<00:00,  3.51it/s, loss=1.82]\n"
     ]
    },
    {
     "name": "stdout",
     "output_type": "stream",
     "text": [
      "📊 Epoch 2 done. Val Macro-F1=0.7355, Acc=0.7251\n",
      "   ✅ New best F1\n",
      "\n",
      "▶️ Epoch 3/4\n"
     ]
    },
    {
     "name": "stderr",
     "output_type": "stream",
     "text": [
      "Trial 2 Epoch 3: 100%|██████████| 5145/5145 [24:25<00:00,  3.51it/s, loss=3.28]\n"
     ]
    },
    {
     "name": "stdout",
     "output_type": "stream",
     "text": [
      "📊 Epoch 3 done. Val Macro-F1=0.7663, Acc=0.7559\n",
      "   ✅ New best F1\n",
      "\n",
      "▶️ Epoch 4/4\n"
     ]
    },
    {
     "name": "stderr",
     "output_type": "stream",
     "text": [
      "Trial 2 Epoch 4: 100%|██████████| 5145/5145 [24:21<00:00,  3.52it/s, loss=1.14]\n"
     ]
    },
    {
     "name": "stdout",
     "output_type": "stream",
     "text": [
      "📊 Epoch 4 done. Val Macro-F1=0.7745, Acc=0.7636\n",
      "   ✅ New best F1\n",
      "📦 Model size: 313.31 MB | ⏱️ Latency: 7.85 ms/sample\n"
     ]
    },
    {
     "data": {
      "application/vnd.jupyter.widget-view+json": {
       "model_id": "89d738ef1c584bc682e19f2a75e31d07",
       "version_major": 2,
       "version_minor": 0
      },
      "text/plain": [
       "VBox(children=(Label(value='0.002 MB of 0.002 MB uploaded\\r'), FloatProgress(value=1.0, max=1.0)))"
      ]
     },
     "metadata": {},
     "output_type": "display_data"
    },
    {
     "data": {
      "text/html": [
       "<style>\n",
       "    table.wandb td:nth-child(1) { padding: 0 10px; text-align: left ; width: auto;} td:nth-child(2) {text-align: left ; width: 100%}\n",
       "    .wandb-row { display: flex; flex-direction: row; flex-wrap: wrap; justify-content: flex-start; width: 100% }\n",
       "    .wandb-col { display: flex; flex-direction: column; flex-basis: 100%; flex: 1; padding: 10px; }\n",
       "    </style>\n",
       "<div class=\"wandb-row\"><div class=\"wandb-col\"><h3>Run history:</h3><br/><table class=\"wandb\"><tr><td>F1_extremely negative</td><td>▁▆▇█</td></tr><tr><td>F1_extremely positive</td><td>▁▄▇█</td></tr><tr><td>F1_negative</td><td>▁▆▇█</td></tr><tr><td>F1_neutral</td><td>▁▆▇█</td></tr><tr><td>F1_positive</td><td>▃▁██</td></tr><tr><td>epoch</td><td>▁▁▁▁▁▁▁▁▁▁▃▃▃▃▃▃▃▃▃▃▆▆▆▆▆▆▆▆▆▆██████████</td></tr><tr><td>latency_ms</td><td>▁</td></tr><tr><td>model_size_mb</td><td>▁</td></tr><tr><td>step</td><td>▁▂▃▃▄▅▆▆▇█▁▂▃▃▄▅▅▆▇█▁▂▃▃▄▅▅▆▇█▁▂▂▃▄▅▅▆▇█</td></tr><tr><td>train_loss</td><td>▆█▅▅▄▄▇▆▅▅▆▃▄▅▂▃▃▄▂▆▂▄▂▆▃▃▁▇▄▅▂▃▄▇▂▂▂▅▂▂</td></tr><tr><td>val_acc</td><td>▁▄▇█</td></tr><tr><td>val_macro_f1</td><td>▁▄▇█</td></tr></table><br/></div><div class=\"wandb-col\"><h3>Run summary:</h3><br/><table class=\"wandb\"><tr><td>F1_extremely negative</td><td>0.8029</td></tr><tr><td>F1_extremely positive</td><td>0.80926</td></tr><tr><td>F1_negative</td><td>0.72397</td></tr><tr><td>F1_neutral</td><td>0.82149</td></tr><tr><td>F1_positive</td><td>0.7149</td></tr><tr><td>epoch</td><td>4</td></tr><tr><td>latency_ms</td><td>7.85104</td></tr><tr><td>model_size_mb</td><td>313.31335</td></tr><tr><td>step</td><td>5144</td></tr><tr><td>train_loss</td><td>1.1355</td></tr><tr><td>val_acc</td><td>0.76356</td></tr><tr><td>val_macro_f1</td><td>0.7745</td></tr></table><br/></div></div>"
      ],
      "text/plain": [
       "<IPython.core.display.HTML object>"
      ]
     },
     "metadata": {},
     "output_type": "display_data"
    },
    {
     "data": {
      "text/html": [
       " View run <strong style=\"color:#cdcd00\">manual_kd_trial_2</strong> at: <a href='https://wandb.ai/gal2361-tel-aviv-university/KD_optuna_ex4/runs/opovc3h5' target=\"_blank\">https://wandb.ai/gal2361-tel-aviv-university/KD_optuna_ex4/runs/opovc3h5</a><br/> View project at: <a href='https://wandb.ai/gal2361-tel-aviv-university/KD_optuna_ex4' target=\"_blank\">https://wandb.ai/gal2361-tel-aviv-university/KD_optuna_ex4</a><br/>Synced 5 W&B file(s), 0 media file(s), 0 artifact file(s) and 0 other file(s)"
      ],
      "text/plain": [
       "<IPython.core.display.HTML object>"
      ]
     },
     "metadata": {},
     "output_type": "display_data"
    },
    {
     "data": {
      "text/html": [
       "Find logs at: <code>./wandb/run-20250818_201756-opovc3h5/logs</code>"
      ],
      "text/plain": [
       "<IPython.core.display.HTML object>"
      ]
     },
     "metadata": {},
     "output_type": "display_data"
    },
    {
     "data": {
      "text/html": [
       "The new W&B backend becomes opt-out in version 0.18.0; try it out with `wandb.require(\"core\")`! See https://wandb.me/wandb-core for more information."
      ],
      "text/plain": [
       "<IPython.core.display.HTML object>"
      ]
     },
     "metadata": {},
     "output_type": "display_data"
    },
    {
     "name": "stderr",
     "output_type": "stream",
     "text": [
      "[I 2025-08-18 21:57:53,300] Trial 2 finished with value: 0.7745041065575552 and parameters: {'alpha': 0.24731828803871742, 'T': 3.446433886985278, 'epochs': 4, 'fine_tune_layers': 4, 'learning_rate': 4.1705979460900584e-05}. Best is trial 2 with value: 0.7745041065575552.\n"
     ]
    },
    {
     "name": "stdout",
     "output_type": "stream",
     "text": [
      "\n",
      "🔎 Trial 3 | alpha=0.253, T=3.20, epochs=9, fine_tune_layers=6, lr=9.66e-06\n"
     ]
    },
    {
     "data": {
      "text/html": [
       "wandb version 0.21.1 is available!  To upgrade, please run:\n",
       " $ pip install wandb --upgrade"
      ],
      "text/plain": [
       "<IPython.core.display.HTML object>"
      ]
     },
     "metadata": {},
     "output_type": "display_data"
    },
    {
     "data": {
      "text/html": [
       "Tracking run with wandb version 0.17.5"
      ],
      "text/plain": [
       "<IPython.core.display.HTML object>"
      ]
     },
     "metadata": {},
     "output_type": "display_data"
    },
    {
     "data": {
      "text/html": [
       "Run data is saved locally in <code>/content/wandb/run-20250818_215753-42yfymlw</code>"
      ],
      "text/plain": [
       "<IPython.core.display.HTML object>"
      ]
     },
     "metadata": {},
     "output_type": "display_data"
    },
    {
     "data": {
      "text/html": [
       "Syncing run <strong><a href='https://wandb.ai/gal2361-tel-aviv-university/KD_optuna_ex4/runs/42yfymlw' target=\"_blank\">manual_kd_trial_3</a></strong> to <a href='https://wandb.ai/gal2361-tel-aviv-university/KD_optuna_ex4' target=\"_blank\">Weights & Biases</a> (<a href='https://wandb.me/run' target=\"_blank\">docs</a>)<br/>"
      ],
      "text/plain": [
       "<IPython.core.display.HTML object>"
      ]
     },
     "metadata": {},
     "output_type": "display_data"
    },
    {
     "data": {
      "text/html": [
       " View project at <a href='https://wandb.ai/gal2361-tel-aviv-university/KD_optuna_ex4' target=\"_blank\">https://wandb.ai/gal2361-tel-aviv-university/KD_optuna_ex4</a>"
      ],
      "text/plain": [
       "<IPython.core.display.HTML object>"
      ]
     },
     "metadata": {},
     "output_type": "display_data"
    },
    {
     "data": {
      "text/html": [
       " View run at <a href='https://wandb.ai/gal2361-tel-aviv-university/KD_optuna_ex4/runs/42yfymlw' target=\"_blank\">https://wandb.ai/gal2361-tel-aviv-university/KD_optuna_ex4/runs/42yfymlw</a>"
      ],
      "text/plain": [
       "<IPython.core.display.HTML object>"
      ]
     },
     "metadata": {},
     "output_type": "display_data"
    },
    {
     "name": "stderr",
     "output_type": "stream",
     "text": [
      "Some weights of RobertaForSequenceClassification were not initialized from the model checkpoint at distilroberta-base and are newly initialized: ['classifier.dense.bias', 'classifier.dense.weight', 'classifier.out_proj.bias', 'classifier.out_proj.weight']\n",
      "You should probably TRAIN this model on a down-stream task to be able to use it for predictions and inference.\n",
      "/usr/local/lib/python3.11/dist-packages/transformers/optimization.py:591: FutureWarning: This implementation of AdamW is deprecated and will be removed in a future version. Use the PyTorch implementation torch.optim.AdamW instead, or set `no_deprecation_warning=True` to disable this warning\n",
      "  warnings.warn(\n"
     ]
    },
    {
     "name": "stdout",
     "output_type": "stream",
     "text": [
      "   🔓 Unfroze last 6/6 at roberta.encoder.layer\n",
      "\n",
      "▶️ Epoch 1/9\n"
     ]
    },
    {
     "name": "stderr",
     "output_type": "stream",
     "text": [
      "Trial 3 Epoch 1: 100%|██████████| 5145/5145 [27:47<00:00,  3.09it/s, loss=4.45]\n"
     ]
    },
    {
     "name": "stdout",
     "output_type": "stream",
     "text": [
      "📊 Epoch 1 done. Val Macro-F1=0.7205, Acc=0.7085\n",
      "   ✅ New best F1\n",
      "\n",
      "▶️ Epoch 2/9\n"
     ]
    },
    {
     "name": "stderr",
     "output_type": "stream",
     "text": [
      "Trial 3 Epoch 2: 100%|██████████| 5145/5145 [27:52<00:00,  3.08it/s, loss=0.504]\n"
     ]
    },
    {
     "name": "stdout",
     "output_type": "stream",
     "text": [
      "📊 Epoch 2 done. Val Macro-F1=0.7731, Acc=0.7625\n",
      "   ✅ New best F1\n",
      "\n",
      "▶️ Epoch 3/9\n"
     ]
    },
    {
     "name": "stderr",
     "output_type": "stream",
     "text": [
      "Trial 3 Epoch 3: 100%|██████████| 5145/5145 [27:53<00:00,  3.07it/s, loss=0.142]\n"
     ]
    },
    {
     "name": "stdout",
     "output_type": "stream",
     "text": [
      "📊 Epoch 3 done. Val Macro-F1=0.8050, Acc=0.7957\n",
      "   ✅ New best F1\n",
      "\n",
      "▶️ Epoch 4/9\n"
     ]
    },
    {
     "name": "stderr",
     "output_type": "stream",
     "text": [
      "Trial 3 Epoch 4: 100%|██████████| 5145/5145 [27:52<00:00,  3.08it/s, loss=0.991]\n"
     ]
    },
    {
     "name": "stdout",
     "output_type": "stream",
     "text": [
      "📊 Epoch 4 done. Val Macro-F1=0.8057, Acc=0.7975\n",
      "   ✅ New best F1\n",
      "\n",
      "▶️ Epoch 5/9\n"
     ]
    },
    {
     "name": "stderr",
     "output_type": "stream",
     "text": [
      "Trial 3 Epoch 5: 100%|██████████| 5145/5145 [27:52<00:00,  3.08it/s, loss=0.0747]\n"
     ]
    },
    {
     "name": "stdout",
     "output_type": "stream",
     "text": [
      "📊 Epoch 5 done. Val Macro-F1=0.8027, Acc=0.7938\n",
      "   ⚠️ No improvement. Patience counter=1\n",
      "\n",
      "▶️ Epoch 6/9\n"
     ]
    },
    {
     "name": "stderr",
     "output_type": "stream",
     "text": [
      "Trial 3 Epoch 6: 100%|██████████| 5145/5145 [27:51<00:00,  3.08it/s, loss=0.141]\n"
     ]
    },
    {
     "name": "stdout",
     "output_type": "stream",
     "text": [
      "📊 Epoch 6 done. Val Macro-F1=0.8096, Acc=0.8012\n",
      "   ✅ New best F1\n",
      "\n",
      "▶️ Epoch 7/9\n"
     ]
    },
    {
     "name": "stderr",
     "output_type": "stream",
     "text": [
      "Trial 3 Epoch 7: 100%|██████████| 5145/5145 [27:52<00:00,  3.08it/s, loss=0.0136]\n"
     ]
    },
    {
     "name": "stdout",
     "output_type": "stream",
     "text": [
      "📊 Epoch 7 done. Val Macro-F1=0.8141, Acc=0.8062\n",
      "   ✅ New best F1\n",
      "\n",
      "▶️ Epoch 8/9\n"
     ]
    },
    {
     "name": "stderr",
     "output_type": "stream",
     "text": [
      "Trial 3 Epoch 8: 100%|██████████| 5145/5145 [27:51<00:00,  3.08it/s, loss=0.0711]\n"
     ]
    },
    {
     "name": "stdout",
     "output_type": "stream",
     "text": [
      "📊 Epoch 8 done. Val Macro-F1=0.8176, Acc=0.8091\n",
      "   ✅ New best F1\n",
      "\n",
      "▶️ Epoch 9/9\n"
     ]
    },
    {
     "name": "stderr",
     "output_type": "stream",
     "text": [
      "Trial 3 Epoch 9: 100%|██████████| 5145/5145 [27:50<00:00,  3.08it/s, loss=0.0297]\n"
     ]
    },
    {
     "name": "stdout",
     "output_type": "stream",
     "text": [
      "📊 Epoch 9 done. Val Macro-F1=0.8120, Acc=0.8044\n",
      "   ⚠️ No improvement. Patience counter=1\n",
      "📦 Model size: 313.31 MB | ⏱️ Latency: 7.85 ms/sample\n"
     ]
    },
    {
     "data": {
      "application/vnd.jupyter.widget-view+json": {
       "model_id": "b01b254169484e0d9eeae0bf69b69d6d",
       "version_major": 2,
       "version_minor": 0
      },
      "text/plain": [
       "VBox(children=(Label(value='0.002 MB of 0.002 MB uploaded\\r'), FloatProgress(value=1.0, max=1.0)))"
      ]
     },
     "metadata": {},
     "output_type": "display_data"
    },
    {
     "data": {
      "text/html": [
       "<style>\n",
       "    table.wandb td:nth-child(1) { padding: 0 10px; text-align: left ; width: auto;} td:nth-child(2) {text-align: left ; width: 100%}\n",
       "    .wandb-row { display: flex; flex-direction: row; flex-wrap: wrap; justify-content: flex-start; width: 100% }\n",
       "    .wandb-col { display: flex; flex-direction: column; flex-basis: 100%; flex: 1; padding: 10px; }\n",
       "    </style>\n",
       "<div class=\"wandb-row\"><div class=\"wandb-col\"><h3>Run history:</h3><br/><table class=\"wandb\"><tr><td>F1_extremely negative</td><td>▁▅▇▆▇▇▇█▇</td></tr><tr><td>F1_extremely positive</td><td>▁▅▇▇▆████</td></tr><tr><td>F1_negative</td><td>▁▄▇██▇███</td></tr><tr><td>F1_neutral</td><td>▁▃▆▇▇▆▇█▇</td></tr><tr><td>F1_positive</td><td>▁▆▇▇▆████</td></tr><tr><td>epoch</td><td>▁▁▁▁▁▂▂▂▂▃▃▃▃▃▄▄▄▄▅▅▅▅▅▅▅▅▅▆▆▆▆▇▇▇▇▇████</td></tr><tr><td>latency_ms</td><td>▁</td></tr><tr><td>model_size_mb</td><td>▁</td></tr><tr><td>step</td><td>▁▃▄▆█▂▃▅▇▁▃▅▆█▂▄▆▇▂▃▅▆▁▃▄▆█▂▃▆▇▁▃▅▆█▂▄▅█</td></tr><tr><td>train_loss</td><td>▆▄▄▄▂▄█▅▆▅▅▃▃▂▆▂▃▄▃▂▁▂▁▁▁▂▁▁▃▂▂▁▁▅▁▃▃▁▁▁</td></tr><tr><td>val_acc</td><td>▁▅▇▇▇▇███</td></tr><tr><td>val_macro_f1</td><td>▁▅▇▇▇▇███</td></tr></table><br/></div><div class=\"wandb-col\"><h3>Run summary:</h3><br/><table class=\"wandb\"><tr><td>F1_extremely negative</td><td>0.8285</td></tr><tr><td>F1_extremely positive</td><td>0.83561</td></tr><tr><td>F1_negative</td><td>0.77473</td></tr><tr><td>F1_neutral</td><td>0.84922</td></tr><tr><td>F1_positive</td><td>0.77186</td></tr><tr><td>epoch</td><td>9</td></tr><tr><td>latency_ms</td><td>7.84722</td></tr><tr><td>model_size_mb</td><td>313.31335</td></tr><tr><td>step</td><td>5144</td></tr><tr><td>train_loss</td><td>0.02968</td></tr><tr><td>val_acc</td><td>0.80437</td></tr><tr><td>val_macro_f1</td><td>0.81198</td></tr></table><br/></div></div>"
      ],
      "text/plain": [
       "<IPython.core.display.HTML object>"
      ]
     },
     "metadata": {},
     "output_type": "display_data"
    },
    {
     "data": {
      "text/html": [
       " View run <strong style=\"color:#cdcd00\">manual_kd_trial_3</strong> at: <a href='https://wandb.ai/gal2361-tel-aviv-university/KD_optuna_ex4/runs/42yfymlw' target=\"_blank\">https://wandb.ai/gal2361-tel-aviv-university/KD_optuna_ex4/runs/42yfymlw</a><br/> View project at: <a href='https://wandb.ai/gal2361-tel-aviv-university/KD_optuna_ex4' target=\"_blank\">https://wandb.ai/gal2361-tel-aviv-university/KD_optuna_ex4</a><br/>Synced 5 W&B file(s), 0 media file(s), 0 artifact file(s) and 0 other file(s)"
      ],
      "text/plain": [
       "<IPython.core.display.HTML object>"
      ]
     },
     "metadata": {},
     "output_type": "display_data"
    },
    {
     "data": {
      "text/html": [
       "Find logs at: <code>./wandb/run-20250818_215753-42yfymlw/logs</code>"
      ],
      "text/plain": [
       "<IPython.core.display.HTML object>"
      ]
     },
     "metadata": {},
     "output_type": "display_data"
    },
    {
     "data": {
      "text/html": [
       "The new W&B backend becomes opt-out in version 0.18.0; try it out with `wandb.require(\"core\")`! See https://wandb.me/wandb-core for more information."
      ],
      "text/plain": [
       "<IPython.core.display.HTML object>"
      ]
     },
     "metadata": {},
     "output_type": "display_data"
    },
    {
     "name": "stderr",
     "output_type": "stream",
     "text": [
      "[I 2025-08-19 02:13:47,609] Trial 3 finished with value: 0.8176059662304354 and parameters: {'alpha': 0.25289455887395534, 'T': 3.198807941848309, 'epochs': 9, 'fine_tune_layers': 6, 'learning_rate': 9.660284863141e-06}. Best is trial 3 with value: 0.8176059662304354.\n"
     ]
    },
    {
     "name": "stdout",
     "output_type": "stream",
     "text": [
      "\n",
      "🔎 Trial 4 | alpha=0.436, T=3.61, epochs=7, fine_tune_layers=3, lr=3.10e-06\n"
     ]
    },
    {
     "data": {
      "text/html": [
       "wandb version 0.21.1 is available!  To upgrade, please run:\n",
       " $ pip install wandb --upgrade"
      ],
      "text/plain": [
       "<IPython.core.display.HTML object>"
      ]
     },
     "metadata": {},
     "output_type": "display_data"
    },
    {
     "data": {
      "text/html": [
       "Tracking run with wandb version 0.17.5"
      ],
      "text/plain": [
       "<IPython.core.display.HTML object>"
      ]
     },
     "metadata": {},
     "output_type": "display_data"
    },
    {
     "data": {
      "text/html": [
       "Run data is saved locally in <code>/content/wandb/run-20250819_021347-24ih63sb</code>"
      ],
      "text/plain": [
       "<IPython.core.display.HTML object>"
      ]
     },
     "metadata": {},
     "output_type": "display_data"
    },
    {
     "data": {
      "text/html": [
       "Syncing run <strong><a href='https://wandb.ai/gal2361-tel-aviv-university/KD_optuna_ex4/runs/24ih63sb' target=\"_blank\">manual_kd_trial_4</a></strong> to <a href='https://wandb.ai/gal2361-tel-aviv-university/KD_optuna_ex4' target=\"_blank\">Weights & Biases</a> (<a href='https://wandb.me/run' target=\"_blank\">docs</a>)<br/>"
      ],
      "text/plain": [
       "<IPython.core.display.HTML object>"
      ]
     },
     "metadata": {},
     "output_type": "display_data"
    },
    {
     "data": {
      "text/html": [
       " View project at <a href='https://wandb.ai/gal2361-tel-aviv-university/KD_optuna_ex4' target=\"_blank\">https://wandb.ai/gal2361-tel-aviv-university/KD_optuna_ex4</a>"
      ],
      "text/plain": [
       "<IPython.core.display.HTML object>"
      ]
     },
     "metadata": {},
     "output_type": "display_data"
    },
    {
     "data": {
      "text/html": [
       " View run at <a href='https://wandb.ai/gal2361-tel-aviv-university/KD_optuna_ex4/runs/24ih63sb' target=\"_blank\">https://wandb.ai/gal2361-tel-aviv-university/KD_optuna_ex4/runs/24ih63sb</a>"
      ],
      "text/plain": [
       "<IPython.core.display.HTML object>"
      ]
     },
     "metadata": {},
     "output_type": "display_data"
    },
    {
     "name": "stderr",
     "output_type": "stream",
     "text": [
      "Some weights of RobertaForSequenceClassification were not initialized from the model checkpoint at distilroberta-base and are newly initialized: ['classifier.dense.bias', 'classifier.dense.weight', 'classifier.out_proj.bias', 'classifier.out_proj.weight']\n",
      "You should probably TRAIN this model on a down-stream task to be able to use it for predictions and inference.\n",
      "/usr/local/lib/python3.11/dist-packages/transformers/optimization.py:591: FutureWarning: This implementation of AdamW is deprecated and will be removed in a future version. Use the PyTorch implementation torch.optim.AdamW instead, or set `no_deprecation_warning=True` to disable this warning\n",
      "  warnings.warn(\n"
     ]
    },
    {
     "name": "stdout",
     "output_type": "stream",
     "text": [
      "   🔓 Unfroze last 3/6 at roberta.encoder.layer\n",
      "\n",
      "▶️ Epoch 1/7\n"
     ]
    },
    {
     "name": "stderr",
     "output_type": "stream",
     "text": [
      "Trial 4 Epoch 1: 100%|██████████| 5145/5145 [22:54<00:00,  3.74it/s, loss=6.22]\n"
     ]
    },
    {
     "name": "stdout",
     "output_type": "stream",
     "text": [
      "📊 Epoch 1 done. Val Macro-F1=0.5555, Acc=0.5403\n",
      "   ✅ New best F1\n",
      "\n",
      "▶️ Epoch 2/7\n"
     ]
    },
    {
     "name": "stderr",
     "output_type": "stream",
     "text": [
      "Trial 4 Epoch 2: 100%|██████████| 5145/5145 [22:54<00:00,  3.74it/s, loss=5.32]\n"
     ]
    },
    {
     "name": "stdout",
     "output_type": "stream",
     "text": [
      "📊 Epoch 2 done. Val Macro-F1=0.5980, Acc=0.5819\n",
      "   ✅ New best F1\n",
      "\n",
      "▶️ Epoch 3/7\n"
     ]
    },
    {
     "name": "stderr",
     "output_type": "stream",
     "text": [
      "Trial 4 Epoch 3: 100%|██████████| 5145/5145 [22:55<00:00,  3.74it/s, loss=5.89]\n"
     ]
    },
    {
     "name": "stdout",
     "output_type": "stream",
     "text": [
      "📊 Epoch 3 done. Val Macro-F1=0.6241, Acc=0.6103\n",
      "   ✅ New best F1\n",
      "\n",
      "▶️ Epoch 4/7\n"
     ]
    },
    {
     "name": "stderr",
     "output_type": "stream",
     "text": [
      "Trial 4 Epoch 4: 100%|██████████| 5145/5145 [22:54<00:00,  3.74it/s, loss=0.976]\n"
     ]
    },
    {
     "name": "stdout",
     "output_type": "stream",
     "text": [
      "📊 Epoch 4 done. Val Macro-F1=0.6459, Acc=0.6311\n",
      "   ✅ New best F1\n",
      "\n",
      "▶️ Epoch 5/7\n"
     ]
    },
    {
     "name": "stderr",
     "output_type": "stream",
     "text": [
      "Trial 4 Epoch 5: 100%|██████████| 5145/5145 [22:54<00:00,  3.74it/s, loss=3.7]\n"
     ]
    },
    {
     "name": "stdout",
     "output_type": "stream",
     "text": [
      "📊 Epoch 5 done. Val Macro-F1=0.6499, Acc=0.6353\n",
      "   ✅ New best F1\n",
      "\n",
      "▶️ Epoch 6/7\n"
     ]
    },
    {
     "name": "stderr",
     "output_type": "stream",
     "text": [
      "Trial 4 Epoch 6: 100%|██████████| 5145/5145 [22:54<00:00,  3.74it/s, loss=2.62]\n"
     ]
    },
    {
     "name": "stdout",
     "output_type": "stream",
     "text": [
      "📊 Epoch 6 done. Val Macro-F1=0.6563, Acc=0.6411\n",
      "   ✅ New best F1\n",
      "\n",
      "▶️ Epoch 7/7\n"
     ]
    },
    {
     "name": "stderr",
     "output_type": "stream",
     "text": [
      "Trial 4 Epoch 7: 100%|██████████| 5145/5145 [22:55<00:00,  3.74it/s, loss=3.22]\n"
     ]
    },
    {
     "name": "stdout",
     "output_type": "stream",
     "text": [
      "📊 Epoch 7 done. Val Macro-F1=0.6553, Acc=0.6401\n",
      "   ⚠️ No improvement. Patience counter=1\n",
      "📦 Model size: 313.31 MB | ⏱️ Latency: 7.87 ms/sample\n"
     ]
    },
    {
     "data": {
      "application/vnd.jupyter.widget-view+json": {
       "model_id": "4095232159cf4e00a43daea27554cd8a",
       "version_major": 2,
       "version_minor": 0
      },
      "text/plain": [
       "VBox(children=(Label(value='0.002 MB of 0.002 MB uploaded\\r'), FloatProgress(value=1.0, max=1.0)))"
      ]
     },
     "metadata": {},
     "output_type": "display_data"
    },
    {
     "data": {
      "text/html": [
       "<style>\n",
       "    table.wandb td:nth-child(1) { padding: 0 10px; text-align: left ; width: auto;} td:nth-child(2) {text-align: left ; width: 100%}\n",
       "    .wandb-row { display: flex; flex-direction: row; flex-wrap: wrap; justify-content: flex-start; width: 100% }\n",
       "    .wandb-col { display: flex; flex-direction: column; flex-basis: 100%; flex: 1; padding: 10px; }\n",
       "    </style>\n",
       "<div class=\"wandb-row\"><div class=\"wandb-col\"><h3>Run history:</h3><br/><table class=\"wandb\"><tr><td>F1_extremely negative</td><td>▁▃▅▇▇██</td></tr><tr><td>F1_extremely positive</td><td>▁▄▆▇▇██</td></tr><tr><td>F1_negative</td><td>▁▄▇████</td></tr><tr><td>F1_neutral</td><td>▁▅▇▇███</td></tr><tr><td>F1_positive</td><td>▁▄▅▇▇██</td></tr><tr><td>epoch</td><td>▁▁▁▁▁▁▂▂▂▂▂▂▃▃▃▃▃▅▅▅▅▅▅▆▆▆▆▆▆▇▇▇▇▇██████</td></tr><tr><td>latency_ms</td><td>▁</td></tr><tr><td>model_size_mb</td><td>▁</td></tr><tr><td>step</td><td>▁▂▃▅▇▇▁▃▄▅▆█▂▃▄▆▇▁▂▃▅▆▇▁▃▄▆▆█▂▃▄▆▇▁▂▃▅▆█</td></tr><tr><td>train_loss</td><td>▇▅▆▅▄▃▅▄▆▄▂▂▄▅▅▃▃▂▄▃▁▅▃▅▃▅▃▂▁▁▃▃▁█▄▅▂▄▃▄</td></tr><tr><td>val_acc</td><td>▁▄▆▇███</td></tr><tr><td>val_macro_f1</td><td>▁▄▆▇███</td></tr></table><br/></div><div class=\"wandb-col\"><h3>Run summary:</h3><br/><table class=\"wandb\"><tr><td>F1_extremely negative</td><td>0.69455</td></tr><tr><td>F1_extremely positive</td><td>0.71192</td></tr><tr><td>F1_negative</td><td>0.59284</td></tr><tr><td>F1_neutral</td><td>0.71624</td></tr><tr><td>F1_positive</td><td>0.56096</td></tr><tr><td>epoch</td><td>7</td></tr><tr><td>latency_ms</td><td>7.86542</td></tr><tr><td>model_size_mb</td><td>313.31335</td></tr><tr><td>step</td><td>5144</td></tr><tr><td>train_loss</td><td>3.2234</td></tr><tr><td>val_acc</td><td>0.64007</td></tr><tr><td>val_macro_f1</td><td>0.6553</td></tr></table><br/></div></div>"
      ],
      "text/plain": [
       "<IPython.core.display.HTML object>"
      ]
     },
     "metadata": {},
     "output_type": "display_data"
    },
    {
     "data": {
      "text/html": [
       " View run <strong style=\"color:#cdcd00\">manual_kd_trial_4</strong> at: <a href='https://wandb.ai/gal2361-tel-aviv-university/KD_optuna_ex4/runs/24ih63sb' target=\"_blank\">https://wandb.ai/gal2361-tel-aviv-university/KD_optuna_ex4/runs/24ih63sb</a><br/> View project at: <a href='https://wandb.ai/gal2361-tel-aviv-university/KD_optuna_ex4' target=\"_blank\">https://wandb.ai/gal2361-tel-aviv-university/KD_optuna_ex4</a><br/>Synced 5 W&B file(s), 0 media file(s), 0 artifact file(s) and 0 other file(s)"
      ],
      "text/plain": [
       "<IPython.core.display.HTML object>"
      ]
     },
     "metadata": {},
     "output_type": "display_data"
    },
    {
     "data": {
      "text/html": [
       "Find logs at: <code>./wandb/run-20250819_021347-24ih63sb/logs</code>"
      ],
      "text/plain": [
       "<IPython.core.display.HTML object>"
      ]
     },
     "metadata": {},
     "output_type": "display_data"
    },
    {
     "data": {
      "text/html": [
       "The new W&B backend becomes opt-out in version 0.18.0; try it out with `wandb.require(\"core\")`! See https://wandb.me/wandb-core for more information."
      ],
      "text/plain": [
       "<IPython.core.display.HTML object>"
      ]
     },
     "metadata": {},
     "output_type": "display_data"
    },
    {
     "name": "stderr",
     "output_type": "stream",
     "text": [
      "[I 2025-08-19 04:58:13,101] Trial 4 finished with value: 0.6562755734150965 and parameters: {'alpha': 0.43643728218287664, 'T': 3.608798278366088, 'epochs': 7, 'fine_tune_layers': 3, 'learning_rate': 3.1012483593132436e-06}. Best is trial 3 with value: 0.8176059662304354.\n"
     ]
    },
    {
     "name": "stdout",
     "output_type": "stream",
     "text": [
      "\n",
      "🔎 Trial 5 | alpha=0.594, T=2.67, epochs=6, fine_tune_layers=6, lr=9.60e-06\n"
     ]
    },
    {
     "data": {
      "text/html": [
       "wandb version 0.21.1 is available!  To upgrade, please run:\n",
       " $ pip install wandb --upgrade"
      ],
      "text/plain": [
       "<IPython.core.display.HTML object>"
      ]
     },
     "metadata": {},
     "output_type": "display_data"
    },
    {
     "data": {
      "text/html": [
       "Tracking run with wandb version 0.17.5"
      ],
      "text/plain": [
       "<IPython.core.display.HTML object>"
      ]
     },
     "metadata": {},
     "output_type": "display_data"
    },
    {
     "data": {
      "text/html": [
       "Run data is saved locally in <code>/content/wandb/run-20250819_045813-p068nyy4</code>"
      ],
      "text/plain": [
       "<IPython.core.display.HTML object>"
      ]
     },
     "metadata": {},
     "output_type": "display_data"
    },
    {
     "data": {
      "text/html": [
       "Syncing run <strong><a href='https://wandb.ai/gal2361-tel-aviv-university/KD_optuna_ex4/runs/p068nyy4' target=\"_blank\">manual_kd_trial_5</a></strong> to <a href='https://wandb.ai/gal2361-tel-aviv-university/KD_optuna_ex4' target=\"_blank\">Weights & Biases</a> (<a href='https://wandb.me/run' target=\"_blank\">docs</a>)<br/>"
      ],
      "text/plain": [
       "<IPython.core.display.HTML object>"
      ]
     },
     "metadata": {},
     "output_type": "display_data"
    },
    {
     "data": {
      "text/html": [
       " View project at <a href='https://wandb.ai/gal2361-tel-aviv-university/KD_optuna_ex4' target=\"_blank\">https://wandb.ai/gal2361-tel-aviv-university/KD_optuna_ex4</a>"
      ],
      "text/plain": [
       "<IPython.core.display.HTML object>"
      ]
     },
     "metadata": {},
     "output_type": "display_data"
    },
    {
     "data": {
      "text/html": [
       " View run at <a href='https://wandb.ai/gal2361-tel-aviv-university/KD_optuna_ex4/runs/p068nyy4' target=\"_blank\">https://wandb.ai/gal2361-tel-aviv-university/KD_optuna_ex4/runs/p068nyy4</a>"
      ],
      "text/plain": [
       "<IPython.core.display.HTML object>"
      ]
     },
     "metadata": {},
     "output_type": "display_data"
    },
    {
     "name": "stderr",
     "output_type": "stream",
     "text": [
      "Some weights of RobertaForSequenceClassification were not initialized from the model checkpoint at distilroberta-base and are newly initialized: ['classifier.dense.bias', 'classifier.dense.weight', 'classifier.out_proj.bias', 'classifier.out_proj.weight']\n",
      "You should probably TRAIN this model on a down-stream task to be able to use it for predictions and inference.\n",
      "/usr/local/lib/python3.11/dist-packages/transformers/optimization.py:591: FutureWarning: This implementation of AdamW is deprecated and will be removed in a future version. Use the PyTorch implementation torch.optim.AdamW instead, or set `no_deprecation_warning=True` to disable this warning\n",
      "  warnings.warn(\n"
     ]
    },
    {
     "name": "stdout",
     "output_type": "stream",
     "text": [
      "   🔓 Unfroze last 6/6 at roberta.encoder.layer\n",
      "\n",
      "▶️ Epoch 1/6\n"
     ]
    },
    {
     "name": "stderr",
     "output_type": "stream",
     "text": [
      "Trial 5 Epoch 1: 100%|██████████| 5145/5145 [27:53<00:00,  3.07it/s, loss=1.75]\n"
     ]
    },
    {
     "name": "stdout",
     "output_type": "stream",
     "text": [
      "📊 Epoch 1 done. Val Macro-F1=0.7090, Acc=0.6959\n",
      "   ✅ New best F1\n",
      "\n",
      "▶️ Epoch 2/6\n"
     ]
    },
    {
     "name": "stderr",
     "output_type": "stream",
     "text": [
      "Trial 5 Epoch 2: 100%|██████████| 5145/5145 [27:50<00:00,  3.08it/s, loss=3.15]\n"
     ]
    },
    {
     "name": "stdout",
     "output_type": "stream",
     "text": [
      "📊 Epoch 2 done. Val Macro-F1=0.7512, Acc=0.7399\n",
      "   ✅ New best F1\n",
      "\n",
      "▶️ Epoch 3/6\n"
     ]
    },
    {
     "name": "stderr",
     "output_type": "stream",
     "text": [
      "Trial 5 Epoch 3: 100%|██████████| 5145/5145 [27:50<00:00,  3.08it/s, loss=0.426]\n"
     ]
    },
    {
     "name": "stdout",
     "output_type": "stream",
     "text": [
      "📊 Epoch 3 done. Val Macro-F1=0.7519, Acc=0.7430\n",
      "   ✅ New best F1\n",
      "\n",
      "▶️ Epoch 4/6\n"
     ]
    },
    {
     "name": "stderr",
     "output_type": "stream",
     "text": [
      "Trial 5 Epoch 4: 100%|██████████| 5145/5145 [27:54<00:00,  3.07it/s, loss=0.284]\n"
     ]
    },
    {
     "name": "stdout",
     "output_type": "stream",
     "text": [
      "📊 Epoch 4 done. Val Macro-F1=0.7977, Acc=0.7888\n",
      "   ✅ New best F1\n",
      "\n",
      "▶️ Epoch 5/6\n"
     ]
    },
    {
     "name": "stderr",
     "output_type": "stream",
     "text": [
      "Trial 5 Epoch 5:  15%|█▍        | 756/5145 [04:05<23:46,  3.08it/s, loss=0.828]"
     ]
    }
   ],
   "source": [
    "# === KD Compression (Teacher -> Smaller Student) with Optuna + Early Stopping + W&B ===\n",
    "# Works with RoBERTa/BERT/DeBERTa/XLM-R teachers (.pt state_dict or HF folder)\n",
    "import os, json, math, torch, optuna, wandb, re, time\n",
    "import numpy as np\n",
    "import pandas as pd\n",
    "from torch.utils.data import DataLoader, Dataset\n",
    "from transformers import (\n",
    "    AutoTokenizer, AutoConfig, AutoModelForSequenceClassification,\n",
    "    AdamW, get_scheduler\n",
    ")\n",
    "from sklearn.metrics import accuracy_score, f1_score\n",
    "from tqdm import tqdm\n",
    "# from google.colab import drive\n",
    "\n",
    "# -------------------------\n",
    "# CONFIG – WHAT TO CHANGE\n",
    "# -------------------------\n",
    "TEACHER_SOURCE = \"adv_dl_models_final/roberta_base_best_manual.pt\"   # <-- set\n",
    "TEACHER_BASE = \"roberta-base\"                                        # <-- set\n",
    "PROJECT = \"KD_optuna_ex4\"                                            # <-- set\n",
    "RUN_PREFIX = \"manual_kd\"                                             # <-- set\n",
    "\n",
    "# -------------------------\n",
    "# Setup\n",
    "# -------------------------\n",
    "# drive.mount(\"/content/drive\")\n",
    "DEVICE = \"cuda\" if torch.cuda.is_available() else \"cpu\"\n",
    "print(f\"✅ Using device: {DEVICE}\")\n",
    "\n",
    "OUT_DIR = \"/content/drive/MyDrive/DL_2_Project/KD_optuna_newmodel\"\n",
    "os.makedirs(OUT_DIR, exist_ok=True)\n",
    "\n",
    "# -------------------------\n",
    "# Load Data + Label Mapping\n",
    "# -------------------------\n",
    "train_csv = \"Corona_NLP_train_cleaned_translated.csv\"\n",
    "test_csv  = \"Corona_NLP_test_cleaned_translated.csv\"\n",
    "\n",
    "def normalize_label(s: str) -> str:\n",
    "    s = str(s).strip().lower()\n",
    "    s = s.replace(\"very negative\", \"extremely negative\")\n",
    "    s = s.replace(\"very positive\", \"extremely positive\")\n",
    "    s = s.replace(\"extreme negative\", \"extremely negative\")\n",
    "    s = s.replace(\"extreme positive\", \"extremely positive\")\n",
    "    return s\n",
    "\n",
    "ORDER = [\"extremely negative\", \"negative\", \"neutral\", \"positive\", \"extremely positive\"]\n",
    "LABEL2ID = {lab: i for i, lab in enumerate(ORDER)}\n",
    "ID2LABEL = {i: lab for lab, i in LABEL2ID.items()}\n",
    "\n",
    "def prep_df(path):\n",
    "    df = pd.read_csv(path).dropna(subset=[\"OriginalTweet\",\"Sentiment\"]).copy()\n",
    "    df[\"text\"] = df[\"OriginalTweet\"].astype(str).str.strip()\n",
    "    df[\"label_name\"] = df[\"Sentiment\"].apply(normalize_label)\n",
    "    df = df[df[\"label_name\"].isin(ORDER)].reset_index(drop=True)\n",
    "    df[\"label\"] = df[\"label_name\"].map(LABEL2ID)\n",
    "    return df[[\"text\",\"label\"]]\n",
    "\n",
    "train_df = prep_df(train_csv)\n",
    "test_df  = prep_df(test_csv)\n",
    "print(f\"✅ Data ready: train={len(train_df)}, test={len(test_df)}\")\n",
    "\n",
    "# -------------------------\n",
    "# Dataset\n",
    "# -------------------------\n",
    "class TextDataset(Dataset):\n",
    "    def __init__(self, df, tok, max_len=512):\n",
    "        self.texts = df[\"text\"].tolist()\n",
    "        self.labels = df[\"label\"].tolist()\n",
    "        self.tok = tok\n",
    "        self.max_len = max_len\n",
    "    def __len__(self): return len(self.texts)\n",
    "    def __getitem__(self, idx):\n",
    "        enc = self.tok(self.texts[idx], truncation=True, padding=\"max_length\",\n",
    "                       max_length=self.max_len, return_tensors=\"pt\")\n",
    "        item = {k: v.squeeze(0) for k, v in enc.items()}\n",
    "        item[\"labels\"] = torch.tensor(self.labels[idx])\n",
    "        return item\n",
    "\n",
    "# -------------------------\n",
    "# Teacher loader\n",
    "# -------------------------\n",
    "def load_teacher(teacher_source: str, teacher_base: str):\n",
    "    is_dir = os.path.isdir(teacher_source)\n",
    "    looks_hf = is_dir and os.path.exists(os.path.join(teacher_source, \"config.json\"))\n",
    "\n",
    "    if looks_hf:\n",
    "        cfg = AutoConfig.from_pretrained(teacher_source)\n",
    "        cfg.num_labels = len(LABEL2ID); cfg.id2label = ID2LABEL; cfg.label2id = LABEL2ID\n",
    "        teacher = AutoModelForSequenceClassification.from_pretrained(teacher_source, config=cfg)\n",
    "        tok_name = teacher_source\n",
    "        family = cfg.model_type\n",
    "        print(\"✅ Teacher loaded from HF folder\")\n",
    "    else:\n",
    "        cfg = AutoConfig.from_pretrained(teacher_base)\n",
    "        cfg.num_labels = len(LABEL2ID); cfg.id2label = ID2LABEL; cfg.label2id = LABEL2ID\n",
    "        teacher = AutoModelForSequenceClassification.from_pretrained(teacher_base, config=cfg)\n",
    "        sd = torch.load(teacher_source, map_location=\"cpu\")\n",
    "        teacher.load_state_dict(sd, strict=False)\n",
    "        tok_name = teacher_base\n",
    "        family = cfg.model_type\n",
    "        print(\"✅ Teacher initialized from base + state_dict\")\n",
    "    return teacher.to(DEVICE).eval(), tok_name, family\n",
    "\n",
    "teacher, teacher_tok_name, teacher_family = load_teacher(TEACHER_SOURCE, TEACHER_BASE)\n",
    "\n",
    "tok = AutoTokenizer.from_pretrained(teacher_tok_name, use_fast=True)\n",
    "train_ds, test_ds = TextDataset(train_df, tok), TextDataset(test_df, tok)\n",
    "train_loader = DataLoader(train_ds, batch_size=8, shuffle=True)\n",
    "test_loader  = DataLoader(test_ds, batch_size=8)\n",
    "print(f\"✅ Tokenizer: {teacher_tok_name} | Loaders: train={len(train_loader)} test={len(test_loader)}\")\n",
    "\n",
    "# -------------------------\n",
    "# Pick student\n",
    "# -------------------------\n",
    "def pick_student_name(family: str) -> str:\n",
    "    f = family.lower()\n",
    "    if \"roberta\" in f and \"xlm\" not in f:\n",
    "        return \"distilroberta-base\"\n",
    "    if \"xlm\" in f and \"roberta\" in f:\n",
    "        return \"xlm-roberta-base\"\n",
    "    if \"deberta\" in f:\n",
    "        return \"microsoft/deberta-v3-small\"\n",
    "    if f == \"bert\":\n",
    "        return \"distilbert-base-uncased\"\n",
    "    return teacher_tok_name\n",
    "\n",
    "STUDENT_NAME = pick_student_name(teacher_family)\n",
    "print(f\"🎯 Student candidate: {STUDENT_NAME} (family={teacher_family})\")\n",
    "\n",
    "# -------------------------\n",
    "# KD loss\n",
    "# -------------------------\n",
    "def kd_loss_fn(student_logits, teacher_logits, labels, alpha=0.5, T=2.0):\n",
    "    ce = torch.nn.functional.cross_entropy(student_logits, labels)\n",
    "    kd = torch.nn.functional.kl_div(\n",
    "        torch.nn.functional.log_softmax(student_logits/T, dim=-1),\n",
    "        torch.nn.functional.softmax(teacher_logits/T, dim=-1),\n",
    "        reduction=\"batchmean\"\n",
    "    ) * (T*T)\n",
    "    return alpha * ce + (1 - alpha) * kd\n",
    "\n",
    "# -------------------------\n",
    "# Freeze / Unfreeze\n",
    "# -------------------------\n",
    "def freeze_all(model):\n",
    "    for p in model.parameters(): p.requires_grad = False\n",
    "\n",
    "def unfreeze_last_k(model, k: int):\n",
    "    paths = [\n",
    "        \"roberta.encoder.layer\",\n",
    "        \"bert.encoder.layer\",\n",
    "        \"deberta.encoder.layer\",\n",
    "        \"deberta.encoder.layers\",\n",
    "        \"distilbert.transformer.layer\",\n",
    "        \"xlm_roberta.encoder.layer\",\n",
    "    ]\n",
    "    for path in paths:\n",
    "        ref = model; ok = True\n",
    "        for attr in path.split(\".\"):\n",
    "            if hasattr(ref, attr): ref = getattr(ref, attr)\n",
    "            else: ok = False; break\n",
    "        if ok and hasattr(ref, \"__len__\"):\n",
    "            layers = ref\n",
    "            n = len(layers); k_eff = min(k, n)\n",
    "            for layer in layers[-k_eff:]:\n",
    "                for p in layer.parameters(): p.requires_grad = True\n",
    "            print(f\"   🔓 Unfroze last {k_eff}/{n} at {path}\")\n",
    "            break\n",
    "    for head_name in [\"classifier\", \"score\", \"lm_head\"]:\n",
    "        if hasattr(model, head_name):\n",
    "            for p in getattr(model, head_name).parameters():\n",
    "                p.requires_grad = True\n",
    "\n",
    "# -------------------------\n",
    "# Helpers: size + latency\n",
    "# -------------------------\n",
    "def get_model_size(model):\n",
    "    tmp_path = os.path.join(OUT_DIR, \"temp_model.pt\")\n",
    "    torch.save(model.state_dict(), tmp_path)\n",
    "    size_mb = os.path.getsize(tmp_path) / (1024*1024)\n",
    "    os.remove(tmp_path)\n",
    "    return size_mb\n",
    "\n",
    "def get_latency(model, loader, n_batches=20):\n",
    "    model.eval()\n",
    "    times = []\n",
    "    with torch.no_grad():\n",
    "        for i, batch in enumerate(loader):\n",
    "            if i >= n_batches: break\n",
    "            batch = {k: v.to(DEVICE) for k,v in batch.items()}\n",
    "            torch.cuda.synchronize()\n",
    "            start = time.perf_counter()\n",
    "            _ = model(input_ids=batch[\"input_ids\"], attention_mask=batch[\"attention_mask\"])\n",
    "            torch.cuda.synchronize()\n",
    "            end = time.perf_counter()\n",
    "            elapsed = (end - start) / batch[\"input_ids\"].size(0)\n",
    "            times.append(elapsed)\n",
    "    if not times: return None\n",
    "    return np.mean(times) * 1000  # ms/sample\n",
    "\n",
    "# -------------------------\n",
    "# Optuna Objective\n",
    "# -------------------------\n",
    "def objective(trial):\n",
    "    alpha = trial.suggest_float(\"alpha\", 0.2, 0.8)\n",
    "    T = trial.suggest_float(\"T\", 1.0, 5.0)\n",
    "    max_epochs = trial.suggest_int(\"epochs\", 2, 10)\n",
    "    fine_tune_layers = trial.suggest_int(\"fine_tune_layers\", 2, 6)\n",
    "    lr = trial.suggest_float(\"learning_rate\", 1e-6, 5e-5, log=True)\n",
    "\n",
    "    print(f\"\\n🔎 Trial {trial.number} | alpha={alpha:.3f}, T={T:.2f}, epochs={max_epochs}, \"\n",
    "          f\"fine_tune_layers={fine_tune_layers}, lr={lr:.2e}\")\n",
    "\n",
    "    wandb.init(\n",
    "        project=PROJECT,\n",
    "        name=f\"{RUN_PREFIX}_trial_{trial.number}\",\n",
    "        config={\"alpha\": alpha, \"T\": T, \"epochs\": max_epochs,\n",
    "                \"fine_tune_layers\": fine_tune_layers, \"lr\": lr,\n",
    "                \"teacher_source\": TEACHER_SOURCE, \"student_name\": STUDENT_NAME},\n",
    "        reinit=True\n",
    "    )\n",
    "\n",
    "    student_cfg = AutoConfig.from_pretrained(STUDENT_NAME)\n",
    "    student_cfg.num_labels = len(LABEL2ID); student_cfg.id2label = ID2LABEL; student_cfg.label2id = LABEL2ID\n",
    "    student = AutoModelForSequenceClassification.from_pretrained(STUDENT_NAME, config=student_cfg).to(DEVICE)\n",
    "    freeze_all(student)\n",
    "    unfreeze_last_k(student, fine_tune_layers)\n",
    "\n",
    "    optim = AdamW((p for p in student.parameters() if p.requires_grad), lr=lr)\n",
    "    sched = get_scheduler(\"linear\", optim, num_warmup_steps=0,\n",
    "                          num_training_steps=len(train_loader) * max_epochs)\n",
    "\n",
    "    best_val_f1 = -1\n",
    "    patience = 3\n",
    "    patience_counter = 0\n",
    "\n",
    "    for epoch in range(max_epochs):\n",
    "        print(f\"\\n▶️ Epoch {epoch+1}/{max_epochs}\")\n",
    "        student.train()\n",
    "        loop = tqdm(train_loader, desc=f\"Trial {trial.number} Epoch {epoch+1}\")\n",
    "        for step, batch in enumerate(loop):\n",
    "            batch = {k: v.to(DEVICE) for k, v in batch.items()}\n",
    "            with torch.no_grad():\n",
    "                t_out = teacher(input_ids=batch[\"input_ids\"], attention_mask=batch[\"attention_mask\"])\n",
    "            s_out = student(input_ids=batch[\"input_ids\"], attention_mask=batch[\"attention_mask\"])\n",
    "            loss = kd_loss_fn(s_out.logits, t_out.logits, batch[\"labels\"], alpha=alpha, T=T)\n",
    "            optim.zero_grad(); loss.backward(); optim.step(); sched.step()\n",
    "            loop.set_postfix(loss=float(loss.item()))\n",
    "            wandb.log({\"train_loss\": float(loss.item()), \"epoch\": epoch+1, \"step\": step})\n",
    "\n",
    "        # === Validation ===\n",
    "        student.eval()\n",
    "        all_preds, all_labels = [], []\n",
    "        for batch in test_loader:\n",
    "            batch = {k: v.to(DEVICE) for k, v in batch.items()}\n",
    "            with torch.no_grad():\n",
    "                out = student(input_ids=batch[\"input_ids\"], attention_mask=batch[\"attention_mask\"])\n",
    "            preds = out.logits.argmax(dim=-1).cpu().numpy()\n",
    "            all_preds.extend(preds)\n",
    "            all_labels.extend(batch[\"labels\"].cpu().numpy())\n",
    "\n",
    "        macro_f1 = f1_score(all_labels, all_preds, average=\"macro\")\n",
    "        acc = accuracy_score(all_labels, all_preds)\n",
    "        class_f1s = f1_score(all_labels, all_preds, average=None, labels=list(range(len(LABEL2ID))))\n",
    "        print(f\"📊 Epoch {epoch+1} done. Val Macro-F1={macro_f1:.4f}, Acc={acc:.4f}\")\n",
    "\n",
    "        wandb.log({\n",
    "            \"epoch\": epoch+1, \"val_macro_f1\": macro_f1, \"val_acc\": acc,\n",
    "            **{f\"F1_{ID2LABEL[i]}\": class_f1s[i] for i in range(len(ID2LABEL))}\n",
    "        })\n",
    "\n",
    "        if macro_f1 > best_val_f1:\n",
    "            best_val_f1 = macro_f1\n",
    "            patience_counter = 0\n",
    "            print(\"   ✅ New best F1\")\n",
    "        else:\n",
    "            patience_counter += 1\n",
    "            print(f\"   ⚠️ No improvement. Patience counter={patience_counter}\")\n",
    "            if patience_counter >= patience:\n",
    "                print(f\"⏹️ Early stopping at epoch {epoch+1}\")\n",
    "                break\n",
    "\n",
    "    # === Size & Latency Measurement ===\n",
    "    model_size = get_model_size(student)\n",
    "    latency = get_latency(student, test_loader, n_batches=20)\n",
    "    print(f\"📦 Model size: {model_size:.2f} MB | ⏱️ Latency: {latency:.2f} ms/sample\")\n",
    "\n",
    "    wandb.log({\"model_size_mb\": model_size, \"latency_ms\": latency})\n",
    "    wandb.finish()\n",
    "\n",
    "    trial.set_user_attr(\"macro_f1\", best_val_f1)\n",
    "    trial.set_user_attr(\"model_size_mb\", model_size)\n",
    "    trial.set_user_attr(\"latency_ms\", latency)\n",
    "    return best_val_f1\n",
    "\n",
    "# -------------------------\n",
    "# Run Optuna\n",
    "# -------------------------\n",
    "print(\"🚀 Starting Optuna\")\n",
    "study = optuna.create_study(direction=\"maximize\")\n",
    "study.optimize(objective, n_trials=5)\n",
    "\n",
    "print(\"✅ Study complete\")\n",
    "print(\"Best trial:\", study.best_trial.number)\n",
    "print(\"  Macro-F1:\", study.best_value)\n",
    "print(\"  Params:\", study.best_trial.params)\n",
    "\n",
    "# -------------------------\n",
    "# Save best results\n",
    "# -------------------------\n",
    "best_path = os.path.join(OUT_DIR, f\"{RUN_PREFIX}_best_study.json\")\n",
    "with open(best_path, \"w\") as f:\n",
    "    json.dump({\n",
    "        \"trial\": study.best_trial.number,\n",
    "        \"macro_f1\": study.best_value,\n",
    "        \"params\": study.best_trial.params,\n",
    "        \"teacher_source\": TEACHER_SOURCE,\n",
    "        \"teacher_base\": TEACHER_BASE,\n",
    "        \"student_name\": STUDENT_NAME,\n",
    "        \"model_size_mb\": study.best_trial.user_attrs.get(\"model_size_mb\", None),\n",
    "        \"latency_ms\": study.best_trial.user_attrs.get(\"latency_ms\", None)\n",
    "    }, f, indent=2)\n",
    "print(\"✅ Best trial saved:\", best_path)\n"
   ]
  },
  {
   "cell_type": "markdown",
   "metadata": {},
   "source": [
    "# 📊 Knowledge Distillation – Optuna Results Analysis\n",
    "\n",
    "We ran **6 Optuna trials** for KD (teacher = RoBERTa-base, student = DistilRoBERTa-base).  \n",
    "Each trial varied **temperature (T)**, **alpha**, **epochs**, **fine-tune layers**, and **learning rate**.  \n",
    "We tracked **validation Macro-F1** and **Accuracy**, along with **model size** and **latency**.\n",
    "\n",
    "---\n",
    "\n",
    "## 🔎 Results Table\n",
    "\n",
    "| Trial | T     | α     | Epochs | Fine-tune Layers | LR           | Val Macro-F1 | Val Acc | Size (MB) | Latency (ms/sample) |\n",
    "|-------|-------|-------|--------|------------------|--------------|--------------|---------|-----------|---------------------|\n",
    "| #3    | 3.20  | 0.253 | 9      | 6                | 9.66e-6      | **0.8120**   | **0.8044** | 313.3     | 7.85                |\n",
    "| #5    | 2.67  | 0.594 | 6      | 6                | 9.59e-6      | 0.7977       | 0.7888  | –         | –                   |\n",
    "| #2    | 3.45  | 0.247 | 4      | 4                | 4.17e-5      | 0.7745       | 0.7636  | 313.3     | 7.85                |\n",
    "| #0    | 2.48  | 0.527 | 2      | 5                | 1.09e-5      | 0.7114       | 0.6983  | 313.3     | 7.84                |\n",
    "| #4    | 3.61  | 0.436 | 7      | 3                | 3.10e-6      | 0.6553       | 0.6401  | 313.3     | 7.87                |\n",
    "| #1    | 3.10  | 0.344 | 5      | 3                | 1.01e-6      | 0.5375       | 0.5224  | 313.3     | 7.84                |\n",
    "\n",
    "---\n",
    "\n",
    "## 📈 Key Insights\n",
    "\n",
    "- **Best Trial (#3)**:  \n",
    "  - Macro-F1 = **0.812**, Accuracy = **0.804**.  \n",
    "  - Settings: *T=3.2, α=0.25, 9 epochs, fine-tune last 6 layers, LR ≈ 1e-5*.  \n",
    "  - This configuration gave the **best trade-off**, outperforming other trials.\n",
    "\n",
    "- **Second Best (#5)**:  \n",
    "  - Macro-F1 = 0.798, Accuracy = 0.789.  \n",
    "  - Slightly fewer epochs (6) and higher α (0.59).  \n",
    "  - Shows that balancing **teacher guidance (low α)** vs. **ground truth (higher α)** is important.\n",
    "\n",
    "- **Weaker Trials (#0, #1, #4):**  \n",
    "  - Too few epochs (2–5) or too low learning rate → underfitting, poor generalization.  \n",
    "  - Performance dropped significantly (Macro-F1 < 0.71).  \n",
    "\n",
    "- **Model Size & Latency**:  \n",
    "  - Student stayed at ~313 MB, ~7.85 ms/sample (CPU estimate).  \n",
    "  - Compression benefit is structural (DistilRoBERTa is smaller than teacher).  \n",
    "  - KD affects accuracy, not latency or size.  \n",
    "\n",
    "---\n",
    "\n",
    "## ✅ Takeaways\n",
    "\n",
    "- **KD works**: The distilled student recovered **~81% Macro-F1**, close to teacher performance, while being **smaller and faster**.  \n",
    "- **Best hyperparameters** leaned towards:  \n",
    "  - **Low α (~0.25)** → rely more on teacher soft targets.  \n",
    "  - **Moderate temperature (~3.0)** → smooth teacher logits help transfer information.  \n",
    "  - **Sufficient training (≥6 epochs)** with multiple layers unfrozen (≥5).  \n",
    "- **Deployment**: Student is **lighter, faster, and accurate enough** for real-world use compared to the teacher.\n",
    "\n",
    "We will do final training on trial 3 hp."
   ]
  },
  {
   "cell_type": "markdown",
   "metadata": {},
   "source": [
    "# Load Best Model"
   ]
  },
  {
   "cell_type": "code",
   "execution_count": 2,
   "metadata": {
    "colab": {
     "base_uri": "https://localhost:8080/",
     "height": 1000,
     "referenced_widgets": [
      "6d066f71da0745f99a1b31c28875419d",
      "512e0436d68b44e593ca4c32cdb5871b",
      "2bd73cc99dfa412abe210877cb478965",
      "13543d0df90446c9a4c48500d855b93d",
      "7127a8039b074b258be6968aa06ada6b",
      "c948a7d887c44e44bb2830646cb7ea44",
      "8568e0c584f045a4a196a784cd4f23cd",
      "91015d7011d94bc18083da51a2d6f8ef",
      "2374c292dce741b69b7a2433a630ada8",
      "812297d4c393497992c360c3cd7eb2f4",
      "c332f4cda8824098b9515cf01a2ef244",
      "90203d5c070f49ae86088061e62fbbcd",
      "85d7ed77c3f64666b7352d4fea0fbd5f",
      "bfe37997a9e24c7d9835f2e690339b00",
      "9e1b101ea47549e08f150cf2bfdfebfc",
      "cadc5a18cbf24a8b9bba2de252b91978",
      "8174e9a25aeb42b29b53bfab58139da9",
      "77ddad2ef5c94edbb08c7ee902f9b168",
      "1036ea8ad790447aa0fd9b76532e9d3a",
      "36dba495643a4952be8bd66bd9865577",
      "ccb0b0f321a2423ba3257623f79ff093",
      "97f0be5553564b08ad387a7236ee770f"
     ]
    },
    "executionInfo": {
     "elapsed": 15312098,
     "status": "ok",
     "timestamp": 1755625414853,
     "user": {
      "displayName": "גל גוסרסקי",
      "userId": "06195569624382764324"
     },
     "user_tz": -180
    },
    "id": "EHa_jj59cYhO",
    "outputId": "fd473387-0671-4596-823b-7bc561918116"
   },
   "outputs": [
    {
     "name": "stdout",
     "output_type": "stream",
     "text": [
      "Drive already mounted at /content/drive; to attempt to forcibly remount, call drive.mount(\"/content/drive\", force_remount=True).\n",
      "✅ Using device: cuda\n",
      "✅ Data ready: train=41155, test=3798\n"
     ]
    },
    {
     "name": "stderr",
     "output_type": "stream",
     "text": [
      "/usr/local/lib/python3.11/dist-packages/huggingface_hub/utils/_auth.py:94: UserWarning: \n",
      "The secret `HF_TOKEN` does not exist in your Colab secrets.\n",
      "To authenticate with the Hugging Face Hub, create a token in your settings tab (https://huggingface.co/settings/tokens), set it as secret in your Google Colab and restart your session.\n",
      "You will be able to reuse this secret in all of your notebooks.\n",
      "Please note that authentication is recommended but still optional to access public models or datasets.\n",
      "  warnings.warn(\n",
      "Some weights of RobertaForSequenceClassification were not initialized from the model checkpoint at roberta-base and are newly initialized: ['classifier.dense.bias', 'classifier.dense.weight', 'classifier.out_proj.bias', 'classifier.out_proj.weight']\n",
      "You should probably TRAIN this model on a down-stream task to be able to use it for predictions and inference.\n"
     ]
    },
    {
     "name": "stdout",
     "output_type": "stream",
     "text": [
      "🎯 Student: distilroberta-base\n"
     ]
    },
    {
     "data": {
      "application/vnd.jupyter.widget-view+json": {
       "model_id": "6d066f71da0745f99a1b31c28875419d",
       "version_major": 2,
       "version_minor": 0
      },
      "text/plain": [
       "config.json:   0%|          | 0.00/480 [00:00<?, ?B/s]"
      ]
     },
     "metadata": {},
     "output_type": "display_data"
    },
    {
     "data": {
      "application/vnd.jupyter.widget-view+json": {
       "model_id": "90203d5c070f49ae86088061e62fbbcd",
       "version_major": 2,
       "version_minor": 0
      },
      "text/plain": [
       "model.safetensors:   0%|          | 0.00/331M [00:00<?, ?B/s]"
      ]
     },
     "metadata": {},
     "output_type": "display_data"
    },
    {
     "name": "stderr",
     "output_type": "stream",
     "text": [
      "Some weights of RobertaForSequenceClassification were not initialized from the model checkpoint at distilroberta-base and are newly initialized: ['classifier.dense.bias', 'classifier.dense.weight', 'classifier.out_proj.bias', 'classifier.out_proj.weight']\n",
      "You should probably TRAIN this model on a down-stream task to be able to use it for predictions and inference.\n",
      "/usr/local/lib/python3.11/dist-packages/transformers/optimization.py:591: FutureWarning: This implementation of AdamW is deprecated and will be removed in a future version. Use the PyTorch implementation torch.optim.AdamW instead, or set `no_deprecation_warning=True` to disable this warning\n",
      "  warnings.warn(\n"
     ]
    },
    {
     "name": "stdout",
     "output_type": "stream",
     "text": [
      "   🔓 Unfroze last 6/6 layers at roberta.encoder.layer\n"
     ]
    },
    {
     "name": "stderr",
     "output_type": "stream",
     "text": [
      "Epoch 1/9: 100%|██████████| 5145/5145 [28:15<00:00,  3.03it/s]\n"
     ]
    },
    {
     "name": "stdout",
     "output_type": "stream",
     "text": [
      "Epoch 1 | Train Loss=4.3530\n"
     ]
    },
    {
     "name": "stderr",
     "output_type": "stream",
     "text": [
      "Epoch 2/9: 100%|██████████| 5145/5145 [28:16<00:00,  3.03it/s]\n"
     ]
    },
    {
     "name": "stdout",
     "output_type": "stream",
     "text": [
      "Epoch 2 | Train Loss=2.8806\n"
     ]
    },
    {
     "name": "stderr",
     "output_type": "stream",
     "text": [
      "Epoch 3/9: 100%|██████████| 5145/5145 [28:17<00:00,  3.03it/s]\n"
     ]
    },
    {
     "name": "stdout",
     "output_type": "stream",
     "text": [
      "Epoch 3 | Train Loss=2.2778\n"
     ]
    },
    {
     "name": "stderr",
     "output_type": "stream",
     "text": [
      "Epoch 4/9: 100%|██████████| 5145/5145 [28:17<00:00,  3.03it/s]\n"
     ]
    },
    {
     "name": "stdout",
     "output_type": "stream",
     "text": [
      "Epoch 4 | Train Loss=1.8317\n"
     ]
    },
    {
     "name": "stderr",
     "output_type": "stream",
     "text": [
      "Epoch 5/9: 100%|██████████| 5145/5145 [28:16<00:00,  3.03it/s]\n"
     ]
    },
    {
     "name": "stdout",
     "output_type": "stream",
     "text": [
      "Epoch 5 | Train Loss=1.5429\n"
     ]
    },
    {
     "name": "stderr",
     "output_type": "stream",
     "text": [
      "Epoch 6/9: 100%|██████████| 5145/5145 [28:16<00:00,  3.03it/s]\n"
     ]
    },
    {
     "name": "stdout",
     "output_type": "stream",
     "text": [
      "Epoch 6 | Train Loss=1.3155\n"
     ]
    },
    {
     "name": "stderr",
     "output_type": "stream",
     "text": [
      "Epoch 7/9: 100%|██████████| 5145/5145 [28:16<00:00,  3.03it/s]\n"
     ]
    },
    {
     "name": "stdout",
     "output_type": "stream",
     "text": [
      "Epoch 7 | Train Loss=1.1274\n"
     ]
    },
    {
     "name": "stderr",
     "output_type": "stream",
     "text": [
      "Epoch 8/9: 100%|██████████| 5145/5145 [28:16<00:00,  3.03it/s]\n"
     ]
    },
    {
     "name": "stdout",
     "output_type": "stream",
     "text": [
      "Epoch 8 | Train Loss=1.0007\n"
     ]
    },
    {
     "name": "stderr",
     "output_type": "stream",
     "text": [
      "Epoch 9/9: 100%|██████████| 5145/5145 [28:16<00:00,  3.03it/s]\n"
     ]
    },
    {
     "name": "stdout",
     "output_type": "stream",
     "text": [
      "Epoch 9 | Train Loss=0.9086\n",
      "✅ Student saved to /content/drive/MyDrive/DL_2_Project/KD_final_ex4/ex4_student_best_hp.pt\n"
     ]
    },
    {
     "name": "stderr",
     "output_type": "stream",
     "text": [
      "Testing: 100%|██████████| 475/475 [00:33<00:00, 14.31it/s]\n"
     ]
    },
    {
     "name": "stdout",
     "output_type": "stream",
     "text": [
      "\n",
      "=== Final Test Evaluation ===\n",
      "Accuracy: 0.8070\n",
      "Macro F1: 0.8147\n",
      "\n",
      "Classification Report:\n",
      "                     precision    recall  f1-score   support\n",
      "\n",
      "extremely negative       0.79      0.88      0.83       592\n",
      "          negative       0.78      0.78      0.78      1041\n",
      "           neutral       0.92      0.79      0.85       619\n",
      "          positive       0.78      0.77      0.78       947\n",
      "extremely positive       0.82      0.86      0.84       599\n",
      "\n",
      "          accuracy                           0.81      3798\n",
      "         macro avg       0.82      0.82      0.81      3798\n",
      "      weighted avg       0.81      0.81      0.81      3798\n",
      "\n",
      "⏱️ Latency: 8.74 ms/sample\n",
      "💾 Model size: 313.31 MB\n"
     ]
    }
   ],
   "source": [
    "# === Final KD Training with Best Hyperparameters (from Optuna) ===\n",
    "import os, time, json, torch\n",
    "import numpy as np\n",
    "import pandas as pd\n",
    "from torch.utils.data import DataLoader, Dataset\n",
    "from transformers import (\n",
    "    AutoTokenizer, AutoConfig, AutoModelForSequenceClassification,\n",
    "    AdamW, get_scheduler\n",
    ")\n",
    "from sklearn.metrics import accuracy_score, f1_score, classification_report\n",
    "from tqdm import tqdm\n",
    "# from google.colab import drive\n",
    "\n",
    "# -------------------------\n",
    "# Setup\n",
    "# -------------------------\n",
    "# drive.mount(\"/content/drive\")\n",
    "DEVICE = \"cuda\" if torch.cuda.is_available() else \"cpu\"\n",
    "print(f\"✅ Using device: {DEVICE}\")\n",
    "\n",
    "OUT_DIR = \"KD_final_ex4\"\n",
    "os.makedirs(OUT_DIR, exist_ok=True)\n",
    "\n",
    "TEACHER_SOURCE = \"adv_dl_models_final/roberta_base_best_manual.pt\"\n",
    "TEACHER_BASE   = \"roberta-base\"\n",
    "\n",
    "# -------------------------\n",
    "# Load Data + Labels\n",
    "# -------------------------\n",
    "def normalize_label(s: str) -> str:\n",
    "    s = str(s).strip().lower()\n",
    "    s = s.replace(\"very negative\", \"extremely negative\")\n",
    "    s = s.replace(\"very positive\", \"extremely positive\")\n",
    "    s = s.replace(\"extreme negative\", \"extremely negative\")\n",
    "    s = s.replace(\"extreme positive\", \"extremely positive\")\n",
    "    return s\n",
    "\n",
    "ORDER = [\"extremely negative\", \"negative\", \"neutral\", \"positive\", \"extremely positive\"]\n",
    "LABEL2ID = {lab: i for i, lab in enumerate(ORDER)}\n",
    "ID2LABEL = {i: lab for lab, i in LABEL2ID.items()}\n",
    "\n",
    "def prep_df(path):\n",
    "    df = pd.read_csv(path).dropna(subset=[\"OriginalTweet\",\"Sentiment\"]).copy()\n",
    "    df[\"text\"] = df[\"OriginalTweet\"].astype(str).str.strip()\n",
    "    df[\"label_name\"] = df[\"Sentiment\"].apply(normalize_label)\n",
    "    df = df[df[\"label_name\"].isin(ORDER)].reset_index(drop=True)\n",
    "    df[\"label\"] = df[\"label_name\"].map(LABEL2ID)\n",
    "    return df[[\"text\",\"label\"]]\n",
    "\n",
    "train_df = prep_df(\"Corona_NLP_train_cleaned_translated.csv\")\n",
    "test_df  = prep_df(\"Corona_NLP_test_cleaned_translated.csv\")\n",
    "\n",
    "print(f\"✅ Data ready: train={len(train_df)}, test={len(test_df)}\")\n",
    "\n",
    "# -------------------------\n",
    "# Dataset\n",
    "# -------------------------\n",
    "class TextDataset(torch.utils.data.Dataset):\n",
    "    def __init__(self, df, tok, max_len=512):\n",
    "        self.texts = df[\"text\"].tolist()\n",
    "        self.labels = df[\"label\"].tolist()\n",
    "        self.tok = tok\n",
    "        self.max_len = max_len\n",
    "    def __len__(self): return len(self.texts)\n",
    "    def __getitem__(self, idx):\n",
    "        enc = self.tok(self.texts[idx], truncation=True, padding=\"max_length\",\n",
    "                       max_length=self.max_len, return_tensors=\"pt\")\n",
    "        item = {k: v.squeeze(0) for k, v in enc.items()}\n",
    "        item[\"labels\"] = torch.tensor(self.labels[idx])\n",
    "        return item\n",
    "\n",
    "# -------------------------\n",
    "# Teacher Loader\n",
    "# -------------------------\n",
    "def load_teacher(teacher_source, teacher_base):\n",
    "    cfg = AutoConfig.from_pretrained(teacher_base)\n",
    "    cfg.num_labels = len(LABEL2ID); cfg.id2label = ID2LABEL; cfg.label2id = LABEL2ID\n",
    "    teacher = AutoModelForSequenceClassification.from_pretrained(teacher_base, config=cfg)\n",
    "    sd = torch.load(teacher_source, map_location=\"cpu\")\n",
    "    teacher.load_state_dict(sd, strict=False)\n",
    "    return teacher.to(DEVICE).eval(), teacher_base\n",
    "\n",
    "teacher, tok_name = load_teacher(TEACHER_SOURCE, TEACHER_BASE)\n",
    "\n",
    "tok = AutoTokenizer.from_pretrained(tok_name, use_fast=True)\n",
    "train_ds, test_ds = TextDataset(train_df, tok), TextDataset(test_df, tok)\n",
    "train_loader = DataLoader(train_ds, batch_size=8, shuffle=True)\n",
    "test_loader  = DataLoader(test_ds, batch_size=8)\n",
    "\n",
    "# -------------------------\n",
    "# Pick student\n",
    "# -------------------------\n",
    "STUDENT_NAME = \"distilroberta-base\"  # picked by original logic\n",
    "print(f\"🎯 Student: {STUDENT_NAME}\")\n",
    "\n",
    "cfg = AutoConfig.from_pretrained(STUDENT_NAME)\n",
    "cfg.num_labels = len(LABEL2ID); cfg.id2label = ID2LABEL; cfg.label2id = LABEL2ID\n",
    "student = AutoModelForSequenceClassification.from_pretrained(STUDENT_NAME, config=cfg).to(DEVICE)\n",
    "\n",
    "# -------------------------\n",
    "# Freeze / Unfreeze\n",
    "# -------------------------\n",
    "def freeze_all(model):\n",
    "    for p in model.parameters(): p.requires_grad = False\n",
    "\n",
    "def unfreeze_last_k(model, k: int):\n",
    "    paths = [\n",
    "        \"roberta.encoder.layer\", \"bert.encoder.layer\", \"deberta.encoder.layer\",\n",
    "        \"deberta.encoder.layers\", \"distilbert.transformer.layer\", \"xlm_roberta.encoder.layer\"\n",
    "    ]\n",
    "    for path in paths:\n",
    "        ref = model; ok = True\n",
    "        for attr in path.split(\".\"):\n",
    "            if hasattr(ref, attr): ref = getattr(ref, attr)\n",
    "            else: ok = False; break\n",
    "        if ok and hasattr(ref, \"__len__\"):\n",
    "            layers = ref\n",
    "            n = len(layers); k_eff = min(k, n)\n",
    "            for layer in layers[-k_eff:]:\n",
    "                for p in layer.parameters(): p.requires_grad = True\n",
    "            print(f\"   🔓 Unfroze last {k_eff}/{n} layers at {path}\")\n",
    "            break\n",
    "    for head_name in [\"classifier\", \"score\", \"lm_head\"]:\n",
    "        if hasattr(model, head_name):\n",
    "            for p in getattr(model, head_name).parameters():\n",
    "                p.requires_grad = True\n",
    "\n",
    "freeze_all(student)\n",
    "unfreeze_last_k(student, k=6)  # from best HP\n",
    "\n",
    "# -------------------------\n",
    "# KD Loss\n",
    "# -------------------------\n",
    "def kd_loss_fn(student_logits, teacher_logits, labels, alpha=0.25289, T=3.19881):\n",
    "    ce = torch.nn.functional.cross_entropy(student_logits, labels)\n",
    "    kd = torch.nn.functional.kl_div(\n",
    "        torch.nn.functional.log_softmax(student_logits/T, dim=-1),\n",
    "        torch.nn.functional.softmax(teacher_logits/T, dim=-1),\n",
    "        reduction=\"batchmean\"\n",
    "    ) * (T*T)\n",
    "    return alpha * ce + (1 - alpha) * kd\n",
    "\n",
    "# -------------------------\n",
    "# Optimizer + Scheduler\n",
    "# -------------------------\n",
    "lr = 9.6e-6\n",
    "epochs = 9\n",
    "optimizer = AdamW((p for p in student.parameters() if p.requires_grad), lr=lr)\n",
    "scheduler = get_scheduler(\"linear\", optimizer, num_warmup_steps=0,\n",
    "                          num_training_steps=len(train_loader) * epochs)\n",
    "\n",
    "# -------------------------\n",
    "# Training\n",
    "# -------------------------\n",
    "for epoch in range(epochs):\n",
    "    student.train()\n",
    "    total_loss = 0\n",
    "    for batch in tqdm(train_loader, desc=f\"Epoch {epoch+1}/{epochs}\"):\n",
    "        batch = {k: v.to(DEVICE) for k, v in batch.items()}\n",
    "        with torch.no_grad():\n",
    "            t_out = teacher(input_ids=batch[\"input_ids\"], attention_mask=batch[\"attention_mask\"])\n",
    "        s_out = student(input_ids=batch[\"input_ids\"], attention_mask=batch[\"attention_mask\"])\n",
    "        loss = kd_loss_fn(s_out.logits, t_out.logits, batch[\"labels\"])\n",
    "        optimizer.zero_grad(); loss.backward(); optimizer.step(); scheduler.step()\n",
    "        total_loss += loss.item()\n",
    "    print(f\"Epoch {epoch+1} | Train Loss={total_loss/len(train_loader):.4f}\")\n",
    "\n",
    "# -------------------------\n",
    "# Save student\n",
    "# -------------------------\n",
    "final_path = os.path.join(OUT_DIR, \"ex4_student_best_hp.pt\")\n",
    "torch.save(student.state_dict(), final_path)\n",
    "print(f\"✅ Student saved to {final_path}\")\n",
    "\n",
    "# -------------------------\n",
    "# Final Evaluation\n",
    "# -------------------------\n",
    "student.eval()\n",
    "preds, labels = [], []\n",
    "start = time.time()\n",
    "with torch.no_grad():\n",
    "    for batch in tqdm(test_loader, desc=\"Testing\"):\n",
    "        batch = {k: v.to(DEVICE) for k,v in batch.items()}\n",
    "        out = student(input_ids=batch[\"input_ids\"], attention_mask=batch[\"attention_mask\"])\n",
    "        preds.extend(out.logits.argmax(dim=-1).cpu().numpy())\n",
    "        labels.extend(batch[\"labels\"].cpu().numpy())\n",
    "end = time.time()\n",
    "\n",
    "acc = accuracy_score(labels, preds)\n",
    "f1 = f1_score(labels, preds, average=\"macro\")\n",
    "report = classification_report(labels, preds, target_names=ORDER)\n",
    "\n",
    "latency = (end-start)/len(test_ds)*1000\n",
    "size_mb = os.path.getsize(final_path)/(1024*1024)\n",
    "\n",
    "print(\"\\n=== Final Test Evaluation ===\")\n",
    "print(f\"Accuracy: {acc:.4f}\")\n",
    "print(f\"Macro F1: {f1:.4f}\")\n",
    "print(\"\\nClassification Report:\\n\", report)\n",
    "print(f\"⏱️ Latency: {latency:.2f} ms/sample\")\n",
    "print(f\"💾 Model size: {size_mb:.2f} MB\")\n"
   ]
  },
  {
   "cell_type": "markdown",
   "metadata": {},
   "source": [
    "# 🎓 Final Knowledge Distillation – Student Training & Test Results\n",
    "\n",
    "## 🧑‍🎓 Student Model\n",
    "- **Architecture**: `distilroberta-base`  \n",
    "- **Checkpoints**: Unfroze last **6/6 transformer layers**  \n",
    "- **Saved to**: `/content/drive/MyDrive/DL_2_Project/KD_final_ex4/ex4_student_best_hp.pt`  \n",
    "\n",
    "---\n",
    "\n",
    "## 📈 Training Progress\n",
    "- **Epochs**: 9  \n",
    "- **Loss Trend**:  \n",
    "  - Epoch 1 → 4.35  \n",
    "  - Epoch 3 → 2.28  \n",
    "  - Epoch 6 → 1.32  \n",
    "  - Epoch 9 → **0.91**  \n",
    "\n",
    "> Training showed steady convergence, with loss decreasing smoothly across epochs.\n",
    "\n",
    "---\n",
    "\n",
    "## ✅ Final Test Evaluation\n",
    "\n",
    "**Overall Performance (Test Set, n=3798):**\n",
    "- **Accuracy**: **0.8070**  \n",
    "- **Macro-F1**: **0.8147**  \n",
    "- **Latency**: **8.74 ms/sample**  \n",
    "- **Model size**: **313.31 MB**\n",
    "\n",
    "### Classification Report\n",
    "\n",
    "| Sentiment            | Precision | Recall | F1-score | Support |\n",
    "|----------------------|-----------|--------|----------|---------|\n",
    "| Extremely Negative   | 0.79      | 0.88   | 0.83     | 592     |\n",
    "| Negative             | 0.78      | 0.78   | 0.78     | 1041    |\n",
    "| Neutral              | 0.92      | 0.79   | 0.85     | 619     |\n",
    "| Positive             | 0.78      | 0.77   | 0.78     | 947     |\n",
    "| Extremely Positive   | 0.82      | 0.86   | 0.84     | 599     |\n",
    "\n",
    "**Macro Average** → Precision: 0.82 | Recall: 0.82 | F1: **0.81**  \n",
    "**Weighted Average** → Precision: 0.81 | Recall: 0.81 | F1: 0.81  \n",
    "\n",
    "---\n",
    "\n",
    "## 🚀 Key Takeaways\n",
    "- The **distilled student** successfully reached **~81% accuracy and Macro-F1**, closely matching the teacher while being **lighter and faster**.  \n",
    "- **Latency (8.74 ms/sample)** and **size (313 MB)** confirm the student is more efficient for deployment.  \n",
    "- KD preserved strong per-class balance, especially in **neutral** (F1=0.85) and **extreme sentiments** (F1≈0.83–0.84).\n",
    "\n",
    "# 📊 Teacher vs. Student – Final Comparison\n",
    "\n",
    "| Model                     | Params (M) | Size (MB) | Accuracy | Macro-F1 | Latency (ms/sample) |\n",
    "|----------------------------|------------|-----------|----------|----------|----------------------|\n",
    "| **RoBERTa-base (Teacher)** | ~125M      | ~475 MB   | 0.7725   | 0.7794   | 69.38 (GPU) / 47.56 (CPU, INT8) |\n",
    "| **DistilRoBERTa (Student, KD)** | ~66M       | 313 MB   | **0.8070** | **0.8147** | **8.74** (CPU) |\n",
    "\n",
    "---\n",
    "\n",
    "## 🚀 Insights\n",
    "- The **student (DistilRoBERTa)** is **~35% smaller** and **~8× faster** than the teacher.  \n",
    "- Despite being smaller, it **outperforms the teacher**: +3.5% Accuracy and +3.5% Macro-F1.  \n",
    "- KD effectively transferred knowledge, enabling a **lighter, faster, yet more accurate** model.  \n",
    "- Quantized teacher (INT8) is more compact but still slower and less accurate than the distilled student.  \n",
    "\n"
   ]
  },
  {
   "cell_type": "markdown",
   "metadata": {},
   "source": [
    "# 📊 Compression Methods – Final Comparison (RoBERTa-base EX4)\n",
    "\n",
    "| Method                 | Model          | Size (MB) | Accuracy | Macro-F1 | Latency (ms/sample, CPU unless noted) |\n",
    "|-------------------------|----------------|-----------|----------|----------|---------------------------------------|\n",
    "| **Baseline (FP32)**    | RoBERTa-base   | 475.6     | 0.7725   | 0.7794   | 69.38 (GPU)                           |\n",
    "| **Quantization (INT8)**| RoBERTa-base   | 230.9     | 0.7483   | 0.7541   | 47.56                                 |\n",
    "| **Pruning (20%)**      | RoBERTa-base   | ~801.9*   | 0.7607   | 0.7672   | 1.50                                  |\n",
    "| **KD (Distillation)**  | DistilRoBERTa  | 313.3     | **0.8070** | **0.8147** | **8.74**                              |\n",
    "\n",
    "\\*Note: unstructured pruning inflated saved file size (artifact of sparse storage format).  \n",
    "\n",
    "---\n",
    "\n",
    "## 🚀 Insights\n",
    "- **Quantization**:  \n",
    "  - Cut size **~51% smaller** (475 → 231 MB).  \n",
    "  - Inference faster (47.6 ms vs. 69.4 ms).  \n",
    "  - Cost: ~2.5% drop in accuracy & F1.  \n",
    "- **Pruning (20%)**:  \n",
    "  - Accuracy/F1 stayed close to baseline up to ~20% pruning.  \n",
    "  - Beyond ~30%, performance collapsed (<0.4 F1).  \n",
    "  - No latency gain (dense kernels still process full tensors).  \n",
    "  - Model size artifactually larger due to sparse mask overhead.  \n",
    "- **Knowledge Distillation (KD)**:  \n",
    "  - Student (DistilRoBERTa) is **smaller, much faster**, and **more accurate** than the teacher.  \n",
    "  - Achieved **+3.5% F1** while being ~8× faster than baseline RoBERTa.  \n",
    "  - Best trade-off overall.  \n",
    "\n",
    "---\n",
    "\n",
    "✅ **Bottom line**:  \n",
    "- **Quantization** = best for fast deployment with small size (minor accuracy loss).  \n",
    "- **Pruning** = not effective without structured/sparse-aware kernels.  \n",
    "- **KD** = **clear winner**: balances size, speed, and accuracy improvements.\n"
   ]
  },
  {
   "cell_type": "code",
   "execution_count": null,
   "metadata": {},
   "outputs": [],
   "source": []
  }
 ],
 "metadata": {
  "accelerator": "GPU",
  "colab": {
   "authorship_tag": "ABX9TyMa8ljPrBnBYJgytZW4iFV6",
   "gpuType": "L4",
   "machine_shape": "hm",
   "provenance": [
    {
     "file_id": "18X9H_vfJQSGezVFQCvWvI0df9dgCrJjq",
     "timestamp": 1755518948596
    }
   ]
  },
  "kernelspec": {
   "display_name": "Python (dl4090)",
   "language": "python",
   "name": "dl4090"
  },
  "language_info": {
   "codemirror_mode": {
    "name": "ipython",
    "version": 3
   },
   "file_extension": ".py",
   "mimetype": "text/x-python",
   "name": "python",
   "nbconvert_exporter": "python",
   "pygments_lexer": "ipython3",
   "version": "3.11.13"
  },
  "widgets": {
   "application/vnd.jupyter.widget-state+json": {
    "00b397fed28b4bc4a5de1a62c167f76a": {
     "model_module": "@jupyter-widgets/base",
     "model_module_version": "1.2.0",
     "model_name": "LayoutModel",
     "state": {
      "_model_module": "@jupyter-widgets/base",
      "_model_module_version": "1.2.0",
      "_model_name": "LayoutModel",
      "_view_count": null,
      "_view_module": "@jupyter-widgets/base",
      "_view_module_version": "1.2.0",
      "_view_name": "LayoutView",
      "align_content": null,
      "align_items": null,
      "align_self": null,
      "border": null,
      "bottom": null,
      "display": null,
      "flex": null,
      "flex_flow": null,
      "grid_area": null,
      "grid_auto_columns": null,
      "grid_auto_flow": null,
      "grid_auto_rows": null,
      "grid_column": null,
      "grid_gap": null,
      "grid_row": null,
      "grid_template_areas": null,
      "grid_template_columns": null,
      "grid_template_rows": null,
      "height": null,
      "justify_content": null,
      "justify_items": null,
      "left": null,
      "margin": null,
      "max_height": null,
      "max_width": null,
      "min_height": null,
      "min_width": null,
      "object_fit": null,
      "object_position": null,
      "order": null,
      "overflow": null,
      "overflow_x": null,
      "overflow_y": null,
      "padding": null,
      "right": null,
      "top": null,
      "visibility": null,
      "width": null
     }
    },
    "0170b27c44494ab5a9a19b68e30bab82": {
     "model_module": "@jupyter-widgets/controls",
     "model_module_version": "1.5.0",
     "model_name": "ProgressStyleModel",
     "state": {
      "_model_module": "@jupyter-widgets/controls",
      "_model_module_version": "1.5.0",
      "_model_name": "ProgressStyleModel",
      "_view_count": null,
      "_view_module": "@jupyter-widgets/base",
      "_view_module_version": "1.2.0",
      "_view_name": "StyleView",
      "bar_color": null,
      "description_width": ""
     }
    },
    "0366ab003bef429bbf2c85ce47ed26bb": {
     "model_module": "@jupyter-widgets/base",
     "model_module_version": "1.2.0",
     "model_name": "LayoutModel",
     "state": {
      "_model_module": "@jupyter-widgets/base",
      "_model_module_version": "1.2.0",
      "_model_name": "LayoutModel",
      "_view_count": null,
      "_view_module": "@jupyter-widgets/base",
      "_view_module_version": "1.2.0",
      "_view_name": "LayoutView",
      "align_content": null,
      "align_items": null,
      "align_self": null,
      "border": null,
      "bottom": null,
      "display": null,
      "flex": null,
      "flex_flow": null,
      "grid_area": null,
      "grid_auto_columns": null,
      "grid_auto_flow": null,
      "grid_auto_rows": null,
      "grid_column": null,
      "grid_gap": null,
      "grid_row": null,
      "grid_template_areas": null,
      "grid_template_columns": null,
      "grid_template_rows": null,
      "height": null,
      "justify_content": null,
      "justify_items": null,
      "left": null,
      "margin": null,
      "max_height": null,
      "max_width": null,
      "min_height": null,
      "min_width": null,
      "object_fit": null,
      "object_position": null,
      "order": null,
      "overflow": null,
      "overflow_x": null,
      "overflow_y": null,
      "padding": null,
      "right": null,
      "top": null,
      "visibility": null,
      "width": null
     }
    },
    "0392bc3f13374c039297e77e238c801a": {
     "model_module": "@jupyter-widgets/base",
     "model_module_version": "1.2.0",
     "model_name": "LayoutModel",
     "state": {
      "_model_module": "@jupyter-widgets/base",
      "_model_module_version": "1.2.0",
      "_model_name": "LayoutModel",
      "_view_count": null,
      "_view_module": "@jupyter-widgets/base",
      "_view_module_version": "1.2.0",
      "_view_name": "LayoutView",
      "align_content": null,
      "align_items": null,
      "align_self": null,
      "border": null,
      "bottom": null,
      "display": null,
      "flex": null,
      "flex_flow": null,
      "grid_area": null,
      "grid_auto_columns": null,
      "grid_auto_flow": null,
      "grid_auto_rows": null,
      "grid_column": null,
      "grid_gap": null,
      "grid_row": null,
      "grid_template_areas": null,
      "grid_template_columns": null,
      "grid_template_rows": null,
      "height": null,
      "justify_content": null,
      "justify_items": null,
      "left": null,
      "margin": null,
      "max_height": null,
      "max_width": null,
      "min_height": null,
      "min_width": null,
      "object_fit": null,
      "object_position": null,
      "order": null,
      "overflow": null,
      "overflow_x": null,
      "overflow_y": null,
      "padding": null,
      "right": null,
      "top": null,
      "visibility": null,
      "width": null
     }
    },
    "0aac911a8b3b4eb6a5cdae309416ab7f": {
     "model_module": "@jupyter-widgets/base",
     "model_module_version": "1.2.0",
     "model_name": "LayoutModel",
     "state": {
      "_model_module": "@jupyter-widgets/base",
      "_model_module_version": "1.2.0",
      "_model_name": "LayoutModel",
      "_view_count": null,
      "_view_module": "@jupyter-widgets/base",
      "_view_module_version": "1.2.0",
      "_view_name": "LayoutView",
      "align_content": null,
      "align_items": null,
      "align_self": null,
      "border": null,
      "bottom": null,
      "display": null,
      "flex": null,
      "flex_flow": null,
      "grid_area": null,
      "grid_auto_columns": null,
      "grid_auto_flow": null,
      "grid_auto_rows": null,
      "grid_column": null,
      "grid_gap": null,
      "grid_row": null,
      "grid_template_areas": null,
      "grid_template_columns": null,
      "grid_template_rows": null,
      "height": null,
      "justify_content": null,
      "justify_items": null,
      "left": null,
      "margin": null,
      "max_height": null,
      "max_width": null,
      "min_height": null,
      "min_width": null,
      "object_fit": null,
      "object_position": null,
      "order": null,
      "overflow": null,
      "overflow_x": null,
      "overflow_y": null,
      "padding": null,
      "right": null,
      "top": null,
      "visibility": null,
      "width": null
     }
    },
    "0bc7d8f5da4940f68ab45b210b9a576f": {
     "model_module": "@jupyter-widgets/controls",
     "model_module_version": "1.5.0",
     "model_name": "DescriptionStyleModel",
     "state": {
      "_model_module": "@jupyter-widgets/controls",
      "_model_module_version": "1.5.0",
      "_model_name": "DescriptionStyleModel",
      "_view_count": null,
      "_view_module": "@jupyter-widgets/base",
      "_view_module_version": "1.2.0",
      "_view_name": "StyleView",
      "description_width": ""
     }
    },
    "0dc62d4361b741c592d4d3fd871434f0": {
     "model_module": "@jupyter-widgets/controls",
     "model_module_version": "1.5.0",
     "model_name": "HTMLModel",
     "state": {
      "_dom_classes": [],
      "_model_module": "@jupyter-widgets/controls",
      "_model_module_version": "1.5.0",
      "_model_name": "HTMLModel",
      "_view_count": null,
      "_view_module": "@jupyter-widgets/controls",
      "_view_module_version": "1.5.0",
      "_view_name": "HTMLView",
      "description": "",
      "description_tooltip": null,
      "layout": "IPY_MODEL_dbd14119486d4aa685c26e94cfb263fa",
      "placeholder": "​",
      "style": "IPY_MODEL_a2641cea9eb24c5cbe0b7d4317d61e43",
      "value": " 499M/499M [00:01&lt;00:00, 386MB/s]"
     }
    },
    "0f23fce569e14a2bae0905732dd83c6d": {
     "model_module": "@jupyter-widgets/base",
     "model_module_version": "1.2.0",
     "model_name": "LayoutModel",
     "state": {
      "_model_module": "@jupyter-widgets/base",
      "_model_module_version": "1.2.0",
      "_model_name": "LayoutModel",
      "_view_count": null,
      "_view_module": "@jupyter-widgets/base",
      "_view_module_version": "1.2.0",
      "_view_name": "LayoutView",
      "align_content": null,
      "align_items": null,
      "align_self": null,
      "border": null,
      "bottom": null,
      "display": null,
      "flex": null,
      "flex_flow": null,
      "grid_area": null,
      "grid_auto_columns": null,
      "grid_auto_flow": null,
      "grid_auto_rows": null,
      "grid_column": null,
      "grid_gap": null,
      "grid_row": null,
      "grid_template_areas": null,
      "grid_template_columns": null,
      "grid_template_rows": null,
      "height": null,
      "justify_content": null,
      "justify_items": null,
      "left": null,
      "margin": null,
      "max_height": null,
      "max_width": null,
      "min_height": null,
      "min_width": null,
      "object_fit": null,
      "object_position": null,
      "order": null,
      "overflow": null,
      "overflow_x": null,
      "overflow_y": null,
      "padding": null,
      "right": null,
      "top": null,
      "visibility": null,
      "width": null
     }
    },
    "1036ea8ad790447aa0fd9b76532e9d3a": {
     "model_module": "@jupyter-widgets/base",
     "model_module_version": "1.2.0",
     "model_name": "LayoutModel",
     "state": {
      "_model_module": "@jupyter-widgets/base",
      "_model_module_version": "1.2.0",
      "_model_name": "LayoutModel",
      "_view_count": null,
      "_view_module": "@jupyter-widgets/base",
      "_view_module_version": "1.2.0",
      "_view_name": "LayoutView",
      "align_content": null,
      "align_items": null,
      "align_self": null,
      "border": null,
      "bottom": null,
      "display": null,
      "flex": null,
      "flex_flow": null,
      "grid_area": null,
      "grid_auto_columns": null,
      "grid_auto_flow": null,
      "grid_auto_rows": null,
      "grid_column": null,
      "grid_gap": null,
      "grid_row": null,
      "grid_template_areas": null,
      "grid_template_columns": null,
      "grid_template_rows": null,
      "height": null,
      "justify_content": null,
      "justify_items": null,
      "left": null,
      "margin": null,
      "max_height": null,
      "max_width": null,
      "min_height": null,
      "min_width": null,
      "object_fit": null,
      "object_position": null,
      "order": null,
      "overflow": null,
      "overflow_x": null,
      "overflow_y": null,
      "padding": null,
      "right": null,
      "top": null,
      "visibility": null,
      "width": null
     }
    },
    "1181aa7c2c3349339e09085051981401": {
     "model_module": "@jupyter-widgets/controls",
     "model_module_version": "1.5.0",
     "model_name": "HTMLModel",
     "state": {
      "_dom_classes": [],
      "_model_module": "@jupyter-widgets/controls",
      "_model_module_version": "1.5.0",
      "_model_name": "HTMLModel",
      "_view_count": null,
      "_view_module": "@jupyter-widgets/controls",
      "_view_module_version": "1.5.0",
      "_view_name": "HTMLView",
      "description": "",
      "description_tooltip": null,
      "layout": "IPY_MODEL_4aaad1e35b644c009338b592a25f85e4",
      "placeholder": "​",
      "style": "IPY_MODEL_8a2cc0e44de740dabfeb7f668d036266",
      "value": " 899k/899k [00:00&lt;00:00, 27.5MB/s]"
     }
    },
    "1271398475a34e7d97ac72c430f841cc": {
     "model_module": "@jupyter-widgets/base",
     "model_module_version": "1.2.0",
     "model_name": "LayoutModel",
     "state": {
      "_model_module": "@jupyter-widgets/base",
      "_model_module_version": "1.2.0",
      "_model_name": "LayoutModel",
      "_view_count": null,
      "_view_module": "@jupyter-widgets/base",
      "_view_module_version": "1.2.0",
      "_view_name": "LayoutView",
      "align_content": null,
      "align_items": null,
      "align_self": null,
      "border": null,
      "bottom": null,
      "display": null,
      "flex": null,
      "flex_flow": null,
      "grid_area": null,
      "grid_auto_columns": null,
      "grid_auto_flow": null,
      "grid_auto_rows": null,
      "grid_column": null,
      "grid_gap": null,
      "grid_row": null,
      "grid_template_areas": null,
      "grid_template_columns": null,
      "grid_template_rows": null,
      "height": null,
      "justify_content": null,
      "justify_items": null,
      "left": null,
      "margin": null,
      "max_height": null,
      "max_width": null,
      "min_height": null,
      "min_width": null,
      "object_fit": null,
      "object_position": null,
      "order": null,
      "overflow": null,
      "overflow_x": null,
      "overflow_y": null,
      "padding": null,
      "right": null,
      "top": null,
      "visibility": null,
      "width": null
     }
    },
    "12c670c5c8ce4720b62d02fcb4f3f578": {
     "model_module": "@jupyter-widgets/base",
     "model_module_version": "1.2.0",
     "model_name": "LayoutModel",
     "state": {
      "_model_module": "@jupyter-widgets/base",
      "_model_module_version": "1.2.0",
      "_model_name": "LayoutModel",
      "_view_count": null,
      "_view_module": "@jupyter-widgets/base",
      "_view_module_version": "1.2.0",
      "_view_name": "LayoutView",
      "align_content": null,
      "align_items": null,
      "align_self": null,
      "border": null,
      "bottom": null,
      "display": null,
      "flex": null,
      "flex_flow": null,
      "grid_area": null,
      "grid_auto_columns": null,
      "grid_auto_flow": null,
      "grid_auto_rows": null,
      "grid_column": null,
      "grid_gap": null,
      "grid_row": null,
      "grid_template_areas": null,
      "grid_template_columns": null,
      "grid_template_rows": null,
      "height": null,
      "justify_content": null,
      "justify_items": null,
      "left": null,
      "margin": null,
      "max_height": null,
      "max_width": null,
      "min_height": null,
      "min_width": null,
      "object_fit": null,
      "object_position": null,
      "order": null,
      "overflow": null,
      "overflow_x": null,
      "overflow_y": null,
      "padding": null,
      "right": null,
      "top": null,
      "visibility": null,
      "width": null
     }
    },
    "13543d0df90446c9a4c48500d855b93d": {
     "model_module": "@jupyter-widgets/controls",
     "model_module_version": "1.5.0",
     "model_name": "HTMLModel",
     "state": {
      "_dom_classes": [],
      "_model_module": "@jupyter-widgets/controls",
      "_model_module_version": "1.5.0",
      "_model_name": "HTMLModel",
      "_view_count": null,
      "_view_module": "@jupyter-widgets/controls",
      "_view_module_version": "1.5.0",
      "_view_name": "HTMLView",
      "description": "",
      "description_tooltip": null,
      "layout": "IPY_MODEL_812297d4c393497992c360c3cd7eb2f4",
      "placeholder": "​",
      "style": "IPY_MODEL_c332f4cda8824098b9515cf01a2ef244",
      "value": " 480/480 [00:00&lt;00:00, 56.7kB/s]"
     }
    },
    "1498d5a11312445eb98a6f1e60495632": {
     "model_module": "@jupyter-widgets/controls",
     "model_module_version": "1.5.0",
     "model_name": "HTMLModel",
     "state": {
      "_dom_classes": [],
      "_model_module": "@jupyter-widgets/controls",
      "_model_module_version": "1.5.0",
      "_model_name": "HTMLModel",
      "_view_count": null,
      "_view_module": "@jupyter-widgets/controls",
      "_view_module_version": "1.5.0",
      "_view_name": "HTMLView",
      "description": "",
      "description_tooltip": null,
      "layout": "IPY_MODEL_fe87316ccbb24227ae86ba77899ed86e",
      "placeholder": "​",
      "style": "IPY_MODEL_2b06190e416c456fa81759546f227854",
      "value": "vocab.json: 100%"
     }
    },
    "151d3a87396a44ef8d1f6637b56c44ce": {
     "model_module": "@jupyter-widgets/controls",
     "model_module_version": "1.5.0",
     "model_name": "ProgressStyleModel",
     "state": {
      "_model_module": "@jupyter-widgets/controls",
      "_model_module_version": "1.5.0",
      "_model_name": "ProgressStyleModel",
      "_view_count": null,
      "_view_module": "@jupyter-widgets/base",
      "_view_module_version": "1.2.0",
      "_view_name": "StyleView",
      "bar_color": null,
      "description_width": ""
     }
    },
    "1c25f8713a2d473d987e6fd0b8baa0ed": {
     "model_module": "@jupyter-widgets/base",
     "model_module_version": "1.2.0",
     "model_name": "LayoutModel",
     "state": {
      "_model_module": "@jupyter-widgets/base",
      "_model_module_version": "1.2.0",
      "_model_name": "LayoutModel",
      "_view_count": null,
      "_view_module": "@jupyter-widgets/base",
      "_view_module_version": "1.2.0",
      "_view_name": "LayoutView",
      "align_content": null,
      "align_items": null,
      "align_self": null,
      "border": null,
      "bottom": null,
      "display": null,
      "flex": null,
      "flex_flow": null,
      "grid_area": null,
      "grid_auto_columns": null,
      "grid_auto_flow": null,
      "grid_auto_rows": null,
      "grid_column": null,
      "grid_gap": null,
      "grid_row": null,
      "grid_template_areas": null,
      "grid_template_columns": null,
      "grid_template_rows": null,
      "height": null,
      "justify_content": null,
      "justify_items": null,
      "left": null,
      "margin": null,
      "max_height": null,
      "max_width": null,
      "min_height": null,
      "min_width": null,
      "object_fit": null,
      "object_position": null,
      "order": null,
      "overflow": null,
      "overflow_x": null,
      "overflow_y": null,
      "padding": null,
      "right": null,
      "top": null,
      "visibility": null,
      "width": null
     }
    },
    "1d262d1f509f41ef814bf623bbe6da5c": {
     "model_module": "@jupyter-widgets/controls",
     "model_module_version": "1.5.0",
     "model_name": "HTMLModel",
     "state": {
      "_dom_classes": [],
      "_model_module": "@jupyter-widgets/controls",
      "_model_module_version": "1.5.0",
      "_model_name": "HTMLModel",
      "_view_count": null,
      "_view_module": "@jupyter-widgets/controls",
      "_view_module_version": "1.5.0",
      "_view_name": "HTMLView",
      "description": "",
      "description_tooltip": null,
      "layout": "IPY_MODEL_7aa39ec423b74762a4c1049bb8355433",
      "placeholder": "​",
      "style": "IPY_MODEL_b3b5577285a34b2181b88bd0fa74476e",
      "value": " 499M/499M [00:01&lt;00:00, 470MB/s]"
     }
    },
    "1d9d531f698d4f05b1e14472c455e90a": {
     "model_module": "@jupyter-widgets/base",
     "model_module_version": "1.2.0",
     "model_name": "LayoutModel",
     "state": {
      "_model_module": "@jupyter-widgets/base",
      "_model_module_version": "1.2.0",
      "_model_name": "LayoutModel",
      "_view_count": null,
      "_view_module": "@jupyter-widgets/base",
      "_view_module_version": "1.2.0",
      "_view_name": "LayoutView",
      "align_content": null,
      "align_items": null,
      "align_self": null,
      "border": null,
      "bottom": null,
      "display": null,
      "flex": null,
      "flex_flow": null,
      "grid_area": null,
      "grid_auto_columns": null,
      "grid_auto_flow": null,
      "grid_auto_rows": null,
      "grid_column": null,
      "grid_gap": null,
      "grid_row": null,
      "grid_template_areas": null,
      "grid_template_columns": null,
      "grid_template_rows": null,
      "height": null,
      "justify_content": null,
      "justify_items": null,
      "left": null,
      "margin": null,
      "max_height": null,
      "max_width": null,
      "min_height": null,
      "min_width": null,
      "object_fit": null,
      "object_position": null,
      "order": null,
      "overflow": null,
      "overflow_x": null,
      "overflow_y": null,
      "padding": null,
      "right": null,
      "top": null,
      "visibility": null,
      "width": null
     }
    },
    "1fa7389560d84dc797c2682d9578137d": {
     "model_module": "@jupyter-widgets/controls",
     "model_module_version": "1.5.0",
     "model_name": "DescriptionStyleModel",
     "state": {
      "_model_module": "@jupyter-widgets/controls",
      "_model_module_version": "1.5.0",
      "_model_name": "DescriptionStyleModel",
      "_view_count": null,
      "_view_module": "@jupyter-widgets/base",
      "_view_module_version": "1.2.0",
      "_view_name": "StyleView",
      "description_width": ""
     }
    },
    "22a23819a76846aca15cd75a4c071bc4": {
     "model_module": "@jupyter-widgets/base",
     "model_module_version": "1.2.0",
     "model_name": "LayoutModel",
     "state": {
      "_model_module": "@jupyter-widgets/base",
      "_model_module_version": "1.2.0",
      "_model_name": "LayoutModel",
      "_view_count": null,
      "_view_module": "@jupyter-widgets/base",
      "_view_module_version": "1.2.0",
      "_view_name": "LayoutView",
      "align_content": null,
      "align_items": null,
      "align_self": null,
      "border": null,
      "bottom": null,
      "display": null,
      "flex": null,
      "flex_flow": null,
      "grid_area": null,
      "grid_auto_columns": null,
      "grid_auto_flow": null,
      "grid_auto_rows": null,
      "grid_column": null,
      "grid_gap": null,
      "grid_row": null,
      "grid_template_areas": null,
      "grid_template_columns": null,
      "grid_template_rows": null,
      "height": null,
      "justify_content": null,
      "justify_items": null,
      "left": null,
      "margin": null,
      "max_height": null,
      "max_width": null,
      "min_height": null,
      "min_width": null,
      "object_fit": null,
      "object_position": null,
      "order": null,
      "overflow": null,
      "overflow_x": null,
      "overflow_y": null,
      "padding": null,
      "right": null,
      "top": null,
      "visibility": null,
      "width": null
     }
    },
    "22f399ec4e674b629617074e26cf46cb": {
     "model_module": "@jupyter-widgets/controls",
     "model_module_version": "1.5.0",
     "model_name": "LabelModel",
     "state": {
      "_dom_classes": [],
      "_model_module": "@jupyter-widgets/controls",
      "_model_module_version": "1.5.0",
      "_model_name": "LabelModel",
      "_view_count": null,
      "_view_module": "@jupyter-widgets/controls",
      "_view_module_version": "1.5.0",
      "_view_name": "LabelView",
      "description": "",
      "description_tooltip": null,
      "layout": "IPY_MODEL_47108047cdf645d6a5cf65a6b66485d0",
      "placeholder": "​",
      "style": "IPY_MODEL_46a263b0878449e689844098e002cb96",
      "value": "0.020 MB of 0.020 MB uploaded\r"
     }
    },
    "2374c292dce741b69b7a2433a630ada8": {
     "model_module": "@jupyter-widgets/controls",
     "model_module_version": "1.5.0",
     "model_name": "ProgressStyleModel",
     "state": {
      "_model_module": "@jupyter-widgets/controls",
      "_model_module_version": "1.5.0",
      "_model_name": "ProgressStyleModel",
      "_view_count": null,
      "_view_module": "@jupyter-widgets/base",
      "_view_module_version": "1.2.0",
      "_view_name": "StyleView",
      "bar_color": null,
      "description_width": ""
     }
    },
    "25f273de4c5f4294838433628c799049": {
     "model_module": "@jupyter-widgets/controls",
     "model_module_version": "1.5.0",
     "model_name": "HTMLModel",
     "state": {
      "_dom_classes": [],
      "_model_module": "@jupyter-widgets/controls",
      "_model_module_version": "1.5.0",
      "_model_name": "HTMLModel",
      "_view_count": null,
      "_view_module": "@jupyter-widgets/controls",
      "_view_module_version": "1.5.0",
      "_view_name": "HTMLView",
      "description": "",
      "description_tooltip": null,
      "layout": "IPY_MODEL_faa57530973441278a94469aa1dc4a8f",
      "placeholder": "​",
      "style": "IPY_MODEL_949a8d06414f4195b59eeb62a18dcdab",
      "value": "model.safetensors: 100%"
     }
    },
    "273f8b8c15104b25aad50f62ee500474": {
     "model_module": "@jupyter-widgets/controls",
     "model_module_version": "1.5.0",
     "model_name": "DescriptionStyleModel",
     "state": {
      "_model_module": "@jupyter-widgets/controls",
      "_model_module_version": "1.5.0",
      "_model_name": "DescriptionStyleModel",
      "_view_count": null,
      "_view_module": "@jupyter-widgets/base",
      "_view_module_version": "1.2.0",
      "_view_name": "StyleView",
      "description_width": ""
     }
    },
    "29bd997e8f754f2dab93a511f9e74832": {
     "model_module": "@jupyter-widgets/controls",
     "model_module_version": "1.5.0",
     "model_name": "VBoxModel",
     "state": {
      "_dom_classes": [],
      "_model_module": "@jupyter-widgets/controls",
      "_model_module_version": "1.5.0",
      "_model_name": "VBoxModel",
      "_view_count": null,
      "_view_module": "@jupyter-widgets/controls",
      "_view_module_version": "1.5.0",
      "_view_name": "VBoxView",
      "box_style": "",
      "children": [
       "IPY_MODEL_f01edc913cc541f1a606cdfa9824df4f",
       "IPY_MODEL_c63977feb47c453ab261189cc5d7a38f"
      ],
      "layout": "IPY_MODEL_b57bbc15bf7d4cb9aba2ae5cda8ede64"
     }
    },
    "2b06190e416c456fa81759546f227854": {
     "model_module": "@jupyter-widgets/controls",
     "model_module_version": "1.5.0",
     "model_name": "DescriptionStyleModel",
     "state": {
      "_model_module": "@jupyter-widgets/controls",
      "_model_module_version": "1.5.0",
      "_model_name": "DescriptionStyleModel",
      "_view_count": null,
      "_view_module": "@jupyter-widgets/base",
      "_view_module_version": "1.2.0",
      "_view_name": "StyleView",
      "description_width": ""
     }
    },
    "2bd73cc99dfa412abe210877cb478965": {
     "model_module": "@jupyter-widgets/controls",
     "model_module_version": "1.5.0",
     "model_name": "FloatProgressModel",
     "state": {
      "_dom_classes": [],
      "_model_module": "@jupyter-widgets/controls",
      "_model_module_version": "1.5.0",
      "_model_name": "FloatProgressModel",
      "_view_count": null,
      "_view_module": "@jupyter-widgets/controls",
      "_view_module_version": "1.5.0",
      "_view_name": "ProgressView",
      "bar_style": "success",
      "description": "",
      "description_tooltip": null,
      "layout": "IPY_MODEL_91015d7011d94bc18083da51a2d6f8ef",
      "max": 480,
      "min": 0,
      "orientation": "horizontal",
      "style": "IPY_MODEL_2374c292dce741b69b7a2433a630ada8",
      "value": 480
     }
    },
    "2c08bc5bf3b54b9dab0e51664fa92699": {
     "model_module": "@jupyter-widgets/controls",
     "model_module_version": "1.5.0",
     "model_name": "FloatProgressModel",
     "state": {
      "_dom_classes": [],
      "_model_module": "@jupyter-widgets/controls",
      "_model_module_version": "1.5.0",
      "_model_name": "FloatProgressModel",
      "_view_count": null,
      "_view_module": "@jupyter-widgets/controls",
      "_view_module_version": "1.5.0",
      "_view_name": "ProgressView",
      "bar_style": "",
      "description": "",
      "description_tooltip": null,
      "layout": "IPY_MODEL_9e3d7f39f45f42c38062da011e84e739",
      "max": 1,
      "min": 0,
      "orientation": "horizontal",
      "style": "IPY_MODEL_3cd704d8371e4efb8fd827d3adfb2260",
      "value": 1
     }
    },
    "2d4fa4b730b349f38330f5aeab365b35": {
     "model_module": "@jupyter-widgets/base",
     "model_module_version": "1.2.0",
     "model_name": "LayoutModel",
     "state": {
      "_model_module": "@jupyter-widgets/base",
      "_model_module_version": "1.2.0",
      "_model_name": "LayoutModel",
      "_view_count": null,
      "_view_module": "@jupyter-widgets/base",
      "_view_module_version": "1.2.0",
      "_view_name": "LayoutView",
      "align_content": null,
      "align_items": null,
      "align_self": null,
      "border": null,
      "bottom": null,
      "display": null,
      "flex": null,
      "flex_flow": null,
      "grid_area": null,
      "grid_auto_columns": null,
      "grid_auto_flow": null,
      "grid_auto_rows": null,
      "grid_column": null,
      "grid_gap": null,
      "grid_row": null,
      "grid_template_areas": null,
      "grid_template_columns": null,
      "grid_template_rows": null,
      "height": null,
      "justify_content": null,
      "justify_items": null,
      "left": null,
      "margin": null,
      "max_height": null,
      "max_width": null,
      "min_height": null,
      "min_width": null,
      "object_fit": null,
      "object_position": null,
      "order": null,
      "overflow": null,
      "overflow_x": null,
      "overflow_y": null,
      "padding": null,
      "right": null,
      "top": null,
      "visibility": null,
      "width": null
     }
    },
    "2d5df86273a74b98a3ea4f51f0f9111e": {
     "model_module": "@jupyter-widgets/base",
     "model_module_version": "1.2.0",
     "model_name": "LayoutModel",
     "state": {
      "_model_module": "@jupyter-widgets/base",
      "_model_module_version": "1.2.0",
      "_model_name": "LayoutModel",
      "_view_count": null,
      "_view_module": "@jupyter-widgets/base",
      "_view_module_version": "1.2.0",
      "_view_name": "LayoutView",
      "align_content": null,
      "align_items": null,
      "align_self": null,
      "border": null,
      "bottom": null,
      "display": null,
      "flex": null,
      "flex_flow": null,
      "grid_area": null,
      "grid_auto_columns": null,
      "grid_auto_flow": null,
      "grid_auto_rows": null,
      "grid_column": null,
      "grid_gap": null,
      "grid_row": null,
      "grid_template_areas": null,
      "grid_template_columns": null,
      "grid_template_rows": null,
      "height": null,
      "justify_content": null,
      "justify_items": null,
      "left": null,
      "margin": null,
      "max_height": null,
      "max_width": null,
      "min_height": null,
      "min_width": null,
      "object_fit": null,
      "object_position": null,
      "order": null,
      "overflow": null,
      "overflow_x": null,
      "overflow_y": null,
      "padding": null,
      "right": null,
      "top": null,
      "visibility": null,
      "width": null
     }
    },
    "2e8a37e2887f4b6ebab389947a259ffe": {
     "model_module": "@jupyter-widgets/controls",
     "model_module_version": "1.5.0",
     "model_name": "HTMLModel",
     "state": {
      "_dom_classes": [],
      "_model_module": "@jupyter-widgets/controls",
      "_model_module_version": "1.5.0",
      "_model_name": "HTMLModel",
      "_view_count": null,
      "_view_module": "@jupyter-widgets/controls",
      "_view_module_version": "1.5.0",
      "_view_name": "HTMLView",
      "description": "",
      "description_tooltip": null,
      "layout": "IPY_MODEL_8492135dc0a44da28c53b499a7cd50bd",
      "placeholder": "​",
      "style": "IPY_MODEL_b14f64c0935d4b14963260c7d1ff66ea",
      "value": "tokenizer_config.json: 100%"
     }
    },
    "340550eac52940f6beee6e9abcc8df80": {
     "model_module": "@jupyter-widgets/controls",
     "model_module_version": "1.5.0",
     "model_name": "HTMLModel",
     "state": {
      "_dom_classes": [],
      "_model_module": "@jupyter-widgets/controls",
      "_model_module_version": "1.5.0",
      "_model_name": "HTMLModel",
      "_view_count": null,
      "_view_module": "@jupyter-widgets/controls",
      "_view_module_version": "1.5.0",
      "_view_name": "HTMLView",
      "description": "",
      "description_tooltip": null,
      "layout": "IPY_MODEL_bd23c6fdacb84230b31f20ac69c41187",
      "placeholder": "​",
      "style": "IPY_MODEL_d7a74cb3861e46b98b96a5c8708d42a5",
      "value": " 25.0/25.0 [00:00&lt;00:00, 1.92kB/s]"
     }
    },
    "36dba495643a4952be8bd66bd9865577": {
     "model_module": "@jupyter-widgets/controls",
     "model_module_version": "1.5.0",
     "model_name": "ProgressStyleModel",
     "state": {
      "_model_module": "@jupyter-widgets/controls",
      "_model_module_version": "1.5.0",
      "_model_name": "ProgressStyleModel",
      "_view_count": null,
      "_view_module": "@jupyter-widgets/base",
      "_view_module_version": "1.2.0",
      "_view_name": "StyleView",
      "bar_color": null,
      "description_width": ""
     }
    },
    "37a3bf681898433798d8ab18ffc85752": {
     "model_module": "@jupyter-widgets/base",
     "model_module_version": "1.2.0",
     "model_name": "LayoutModel",
     "state": {
      "_model_module": "@jupyter-widgets/base",
      "_model_module_version": "1.2.0",
      "_model_name": "LayoutModel",
      "_view_count": null,
      "_view_module": "@jupyter-widgets/base",
      "_view_module_version": "1.2.0",
      "_view_name": "LayoutView",
      "align_content": null,
      "align_items": null,
      "align_self": null,
      "border": null,
      "bottom": null,
      "display": null,
      "flex": null,
      "flex_flow": null,
      "grid_area": null,
      "grid_auto_columns": null,
      "grid_auto_flow": null,
      "grid_auto_rows": null,
      "grid_column": null,
      "grid_gap": null,
      "grid_row": null,
      "grid_template_areas": null,
      "grid_template_columns": null,
      "grid_template_rows": null,
      "height": null,
      "justify_content": null,
      "justify_items": null,
      "left": null,
      "margin": null,
      "max_height": null,
      "max_width": null,
      "min_height": null,
      "min_width": null,
      "object_fit": null,
      "object_position": null,
      "order": null,
      "overflow": null,
      "overflow_x": null,
      "overflow_y": null,
      "padding": null,
      "right": null,
      "top": null,
      "visibility": null,
      "width": null
     }
    },
    "384b75694ef14d64b6828d337aeacb94": {
     "model_module": "@jupyter-widgets/controls",
     "model_module_version": "1.5.0",
     "model_name": "FloatProgressModel",
     "state": {
      "_dom_classes": [],
      "_model_module": "@jupyter-widgets/controls",
      "_model_module_version": "1.5.0",
      "_model_name": "FloatProgressModel",
      "_view_count": null,
      "_view_module": "@jupyter-widgets/controls",
      "_view_module_version": "1.5.0",
      "_view_name": "ProgressView",
      "bar_style": "",
      "description": "",
      "description_tooltip": null,
      "layout": "IPY_MODEL_eadec1a211d5420cb3205a312c02ae37",
      "max": 1,
      "min": 0,
      "orientation": "horizontal",
      "style": "IPY_MODEL_b7691fde57ec42099883fed6ca2cbe0d",
      "value": 1
     }
    },
    "39c59fb88bdf44e1ac7b6afc0114970c": {
     "model_module": "@jupyter-widgets/controls",
     "model_module_version": "1.5.0",
     "model_name": "HTMLModel",
     "state": {
      "_dom_classes": [],
      "_model_module": "@jupyter-widgets/controls",
      "_model_module_version": "1.5.0",
      "_model_name": "HTMLModel",
      "_view_count": null,
      "_view_module": "@jupyter-widgets/controls",
      "_view_module_version": "1.5.0",
      "_view_name": "HTMLView",
      "description": "",
      "description_tooltip": null,
      "layout": "IPY_MODEL_ed082f63a34649bbad004f223af1581b",
      "placeholder": "​",
      "style": "IPY_MODEL_68a0e68f57934da2a1222dc10753131f",
      "value": " 481/481 [00:00&lt;00:00, 60.6kB/s]"
     }
    },
    "39e9ee748f544649b5f3199680081a80": {
     "model_module": "@jupyter-widgets/controls",
     "model_module_version": "1.5.0",
     "model_name": "HTMLModel",
     "state": {
      "_dom_classes": [],
      "_model_module": "@jupyter-widgets/controls",
      "_model_module_version": "1.5.0",
      "_model_name": "HTMLModel",
      "_view_count": null,
      "_view_module": "@jupyter-widgets/controls",
      "_view_module_version": "1.5.0",
      "_view_name": "HTMLView",
      "description": "",
      "description_tooltip": null,
      "layout": "IPY_MODEL_6f92e9c00fef49adba29639952d9517a",
      "placeholder": "​",
      "style": "IPY_MODEL_f2e9f081750d45db85eb321bb2ecb6a7",
      "value": "tokenizer.json: 100%"
     }
    },
    "3c30c000ce99404ea479d6ed38f8df3e": {
     "model_module": "@jupyter-widgets/controls",
     "model_module_version": "1.5.0",
     "model_name": "DescriptionStyleModel",
     "state": {
      "_model_module": "@jupyter-widgets/controls",
      "_model_module_version": "1.5.0",
      "_model_name": "DescriptionStyleModel",
      "_view_count": null,
      "_view_module": "@jupyter-widgets/base",
      "_view_module_version": "1.2.0",
      "_view_name": "StyleView",
      "description_width": ""
     }
    },
    "3cd704d8371e4efb8fd827d3adfb2260": {
     "model_module": "@jupyter-widgets/controls",
     "model_module_version": "1.5.0",
     "model_name": "ProgressStyleModel",
     "state": {
      "_model_module": "@jupyter-widgets/controls",
      "_model_module_version": "1.5.0",
      "_model_name": "ProgressStyleModel",
      "_view_count": null,
      "_view_module": "@jupyter-widgets/base",
      "_view_module_version": "1.2.0",
      "_view_name": "StyleView",
      "bar_color": null,
      "description_width": ""
     }
    },
    "3d11a88e3d5f490b888762e972400dcd": {
     "model_module": "@jupyter-widgets/controls",
     "model_module_version": "1.5.0",
     "model_name": "DescriptionStyleModel",
     "state": {
      "_model_module": "@jupyter-widgets/controls",
      "_model_module_version": "1.5.0",
      "_model_name": "DescriptionStyleModel",
      "_view_count": null,
      "_view_module": "@jupyter-widgets/base",
      "_view_module_version": "1.2.0",
      "_view_name": "StyleView",
      "description_width": ""
     }
    },
    "3e05883e1324417c916903411dc9fe9e": {
     "model_module": "@jupyter-widgets/controls",
     "model_module_version": "1.5.0",
     "model_name": "HBoxModel",
     "state": {
      "_dom_classes": [],
      "_model_module": "@jupyter-widgets/controls",
      "_model_module_version": "1.5.0",
      "_model_name": "HBoxModel",
      "_view_count": null,
      "_view_module": "@jupyter-widgets/controls",
      "_view_module_version": "1.5.0",
      "_view_name": "HBoxView",
      "box_style": "",
      "children": [
       "IPY_MODEL_46acff32ea764523986dc2603a1cf66a",
       "IPY_MODEL_534337be1e8d4bd285a506f6978791b6",
       "IPY_MODEL_f4891d2bf39343b6ad712828b091ceb1"
      ],
      "layout": "IPY_MODEL_bce1a3ae3f364e3e8192d47729215907"
     }
    },
    "3e50d84447184749ac8412f4c74d2e18": {
     "model_module": "@jupyter-widgets/controls",
     "model_module_version": "1.5.0",
     "model_name": "HTMLModel",
     "state": {
      "_dom_classes": [],
      "_model_module": "@jupyter-widgets/controls",
      "_model_module_version": "1.5.0",
      "_model_name": "HTMLModel",
      "_view_count": null,
      "_view_module": "@jupyter-widgets/controls",
      "_view_module_version": "1.5.0",
      "_view_name": "HTMLView",
      "description": "",
      "description_tooltip": null,
      "layout": "IPY_MODEL_aa07ee7d7a7c42439819475be18d19de",
      "placeholder": "​",
      "style": "IPY_MODEL_273f8b8c15104b25aad50f62ee500474",
      "value": " 1.36M/1.36M [00:00&lt;00:00, 28.8MB/s]"
     }
    },
    "3eca833c89894d9fbbe1eab5f97e9ff4": {
     "model_module": "@jupyter-widgets/base",
     "model_module_version": "1.2.0",
     "model_name": "LayoutModel",
     "state": {
      "_model_module": "@jupyter-widgets/base",
      "_model_module_version": "1.2.0",
      "_model_name": "LayoutModel",
      "_view_count": null,
      "_view_module": "@jupyter-widgets/base",
      "_view_module_version": "1.2.0",
      "_view_name": "LayoutView",
      "align_content": null,
      "align_items": null,
      "align_self": null,
      "border": null,
      "bottom": null,
      "display": null,
      "flex": null,
      "flex_flow": null,
      "grid_area": null,
      "grid_auto_columns": null,
      "grid_auto_flow": null,
      "grid_auto_rows": null,
      "grid_column": null,
      "grid_gap": null,
      "grid_row": null,
      "grid_template_areas": null,
      "grid_template_columns": null,
      "grid_template_rows": null,
      "height": null,
      "justify_content": null,
      "justify_items": null,
      "left": null,
      "margin": null,
      "max_height": null,
      "max_width": null,
      "min_height": null,
      "min_width": null,
      "object_fit": null,
      "object_position": null,
      "order": null,
      "overflow": null,
      "overflow_x": null,
      "overflow_y": null,
      "padding": null,
      "right": null,
      "top": null,
      "visibility": null,
      "width": null
     }
    },
    "3fee9b26b058484989bad233a1c9f8bf": {
     "model_module": "@jupyter-widgets/base",
     "model_module_version": "1.2.0",
     "model_name": "LayoutModel",
     "state": {
      "_model_module": "@jupyter-widgets/base",
      "_model_module_version": "1.2.0",
      "_model_name": "LayoutModel",
      "_view_count": null,
      "_view_module": "@jupyter-widgets/base",
      "_view_module_version": "1.2.0",
      "_view_name": "LayoutView",
      "align_content": null,
      "align_items": null,
      "align_self": null,
      "border": null,
      "bottom": null,
      "display": null,
      "flex": null,
      "flex_flow": null,
      "grid_area": null,
      "grid_auto_columns": null,
      "grid_auto_flow": null,
      "grid_auto_rows": null,
      "grid_column": null,
      "grid_gap": null,
      "grid_row": null,
      "grid_template_areas": null,
      "grid_template_columns": null,
      "grid_template_rows": null,
      "height": null,
      "justify_content": null,
      "justify_items": null,
      "left": null,
      "margin": null,
      "max_height": null,
      "max_width": null,
      "min_height": null,
      "min_width": null,
      "object_fit": null,
      "object_position": null,
      "order": null,
      "overflow": null,
      "overflow_x": null,
      "overflow_y": null,
      "padding": null,
      "right": null,
      "top": null,
      "visibility": null,
      "width": null
     }
    },
    "4095232159cf4e00a43daea27554cd8a": {
     "model_module": "@jupyter-widgets/controls",
     "model_module_version": "1.5.0",
     "model_name": "VBoxModel",
     "state": {
      "_dom_classes": [],
      "_model_module": "@jupyter-widgets/controls",
      "_model_module_version": "1.5.0",
      "_model_name": "VBoxModel",
      "_view_count": null,
      "_view_module": "@jupyter-widgets/controls",
      "_view_module_version": "1.5.0",
      "_view_name": "VBoxView",
      "box_style": "",
      "children": [
       "IPY_MODEL_519f640cda604d8c91ce03c15df46b8b",
       "IPY_MODEL_a7df1fbcf9d344cab991c43581152993"
      ],
      "layout": "IPY_MODEL_53ceaaccd7944afea27f5a6d8deb2df5"
     }
    },
    "427f92b6c3cd4d9484da2cecb9707d34": {
     "model_module": "@jupyter-widgets/base",
     "model_module_version": "1.2.0",
     "model_name": "LayoutModel",
     "state": {
      "_model_module": "@jupyter-widgets/base",
      "_model_module_version": "1.2.0",
      "_model_name": "LayoutModel",
      "_view_count": null,
      "_view_module": "@jupyter-widgets/base",
      "_view_module_version": "1.2.0",
      "_view_name": "LayoutView",
      "align_content": null,
      "align_items": null,
      "align_self": null,
      "border": null,
      "bottom": null,
      "display": null,
      "flex": null,
      "flex_flow": null,
      "grid_area": null,
      "grid_auto_columns": null,
      "grid_auto_flow": null,
      "grid_auto_rows": null,
      "grid_column": null,
      "grid_gap": null,
      "grid_row": null,
      "grid_template_areas": null,
      "grid_template_columns": null,
      "grid_template_rows": null,
      "height": null,
      "justify_content": null,
      "justify_items": null,
      "left": null,
      "margin": null,
      "max_height": null,
      "max_width": null,
      "min_height": null,
      "min_width": null,
      "object_fit": null,
      "object_position": null,
      "order": null,
      "overflow": null,
      "overflow_x": null,
      "overflow_y": null,
      "padding": null,
      "right": null,
      "top": null,
      "visibility": null,
      "width": null
     }
    },
    "43fb031534494d569654e4324353d6ca": {
     "model_module": "@jupyter-widgets/controls",
     "model_module_version": "1.5.0",
     "model_name": "HBoxModel",
     "state": {
      "_dom_classes": [],
      "_model_module": "@jupyter-widgets/controls",
      "_model_module_version": "1.5.0",
      "_model_name": "HBoxModel",
      "_view_count": null,
      "_view_module": "@jupyter-widgets/controls",
      "_view_module_version": "1.5.0",
      "_view_name": "HBoxView",
      "box_style": "",
      "children": [
       "IPY_MODEL_fe5dd6b057b74b718270e6e667e81feb",
       "IPY_MODEL_fb485464e2264c3ead8ce0b9039057d6",
       "IPY_MODEL_c28167ca3cdc4732bf31550ae23c08fe"
      ],
      "layout": "IPY_MODEL_7e78eeea4c1943679cdaff3e57271c0c"
     }
    },
    "444c2da8231842c5bbd5f8d19b23bb08": {
     "model_module": "@jupyter-widgets/controls",
     "model_module_version": "1.5.0",
     "model_name": "LabelModel",
     "state": {
      "_dom_classes": [],
      "_model_module": "@jupyter-widgets/controls",
      "_model_module_version": "1.5.0",
      "_model_name": "LabelModel",
      "_view_count": null,
      "_view_module": "@jupyter-widgets/controls",
      "_view_module_version": "1.5.0",
      "_view_name": "LabelView",
      "description": "",
      "description_tooltip": null,
      "layout": "IPY_MODEL_eb2ebe4fc50947f6a1824d8038450cb7",
      "placeholder": "​",
      "style": "IPY_MODEL_1fa7389560d84dc797c2682d9578137d",
      "value": "0.025 MB of 0.025 MB uploaded\r"
     }
    },
    "45487f319ca14d3384d81ead3f52f585": {
     "model_module": "@jupyter-widgets/base",
     "model_module_version": "1.2.0",
     "model_name": "LayoutModel",
     "state": {
      "_model_module": "@jupyter-widgets/base",
      "_model_module_version": "1.2.0",
      "_model_name": "LayoutModel",
      "_view_count": null,
      "_view_module": "@jupyter-widgets/base",
      "_view_module_version": "1.2.0",
      "_view_name": "LayoutView",
      "align_content": null,
      "align_items": null,
      "align_self": null,
      "border": null,
      "bottom": null,
      "display": null,
      "flex": null,
      "flex_flow": null,
      "grid_area": null,
      "grid_auto_columns": null,
      "grid_auto_flow": null,
      "grid_auto_rows": null,
      "grid_column": null,
      "grid_gap": null,
      "grid_row": null,
      "grid_template_areas": null,
      "grid_template_columns": null,
      "grid_template_rows": null,
      "height": null,
      "justify_content": null,
      "justify_items": null,
      "left": null,
      "margin": null,
      "max_height": null,
      "max_width": null,
      "min_height": null,
      "min_width": null,
      "object_fit": null,
      "object_position": null,
      "order": null,
      "overflow": null,
      "overflow_x": null,
      "overflow_y": null,
      "padding": null,
      "right": null,
      "top": null,
      "visibility": null,
      "width": null
     }
    },
    "46a263b0878449e689844098e002cb96": {
     "model_module": "@jupyter-widgets/controls",
     "model_module_version": "1.5.0",
     "model_name": "DescriptionStyleModel",
     "state": {
      "_model_module": "@jupyter-widgets/controls",
      "_model_module_version": "1.5.0",
      "_model_name": "DescriptionStyleModel",
      "_view_count": null,
      "_view_module": "@jupyter-widgets/base",
      "_view_module_version": "1.2.0",
      "_view_name": "StyleView",
      "description_width": ""
     }
    },
    "46acff32ea764523986dc2603a1cf66a": {
     "model_module": "@jupyter-widgets/controls",
     "model_module_version": "1.5.0",
     "model_name": "HTMLModel",
     "state": {
      "_dom_classes": [],
      "_model_module": "@jupyter-widgets/controls",
      "_model_module_version": "1.5.0",
      "_model_name": "HTMLModel",
      "_view_count": null,
      "_view_module": "@jupyter-widgets/controls",
      "_view_module_version": "1.5.0",
      "_view_name": "HTMLView",
      "description": "",
      "description_tooltip": null,
      "layout": "IPY_MODEL_b87f7ec3a70f4ef2a6008531c42d2a31",
      "placeholder": "​",
      "style": "IPY_MODEL_8c3cfe447de64a0d8546bbeeba54150c",
      "value": "tokenizer.json: 100%"
     }
    },
    "47108047cdf645d6a5cf65a6b66485d0": {
     "model_module": "@jupyter-widgets/base",
     "model_module_version": "1.2.0",
     "model_name": "LayoutModel",
     "state": {
      "_model_module": "@jupyter-widgets/base",
      "_model_module_version": "1.2.0",
      "_model_name": "LayoutModel",
      "_view_count": null,
      "_view_module": "@jupyter-widgets/base",
      "_view_module_version": "1.2.0",
      "_view_name": "LayoutView",
      "align_content": null,
      "align_items": null,
      "align_self": null,
      "border": null,
      "bottom": null,
      "display": null,
      "flex": null,
      "flex_flow": null,
      "grid_area": null,
      "grid_auto_columns": null,
      "grid_auto_flow": null,
      "grid_auto_rows": null,
      "grid_column": null,
      "grid_gap": null,
      "grid_row": null,
      "grid_template_areas": null,
      "grid_template_columns": null,
      "grid_template_rows": null,
      "height": null,
      "justify_content": null,
      "justify_items": null,
      "left": null,
      "margin": null,
      "max_height": null,
      "max_width": null,
      "min_height": null,
      "min_width": null,
      "object_fit": null,
      "object_position": null,
      "order": null,
      "overflow": null,
      "overflow_x": null,
      "overflow_y": null,
      "padding": null,
      "right": null,
      "top": null,
      "visibility": null,
      "width": null
     }
    },
    "47bbdcefb9d34b6f81f79afa10719590": {
     "model_module": "@jupyter-widgets/base",
     "model_module_version": "1.2.0",
     "model_name": "LayoutModel",
     "state": {
      "_model_module": "@jupyter-widgets/base",
      "_model_module_version": "1.2.0",
      "_model_name": "LayoutModel",
      "_view_count": null,
      "_view_module": "@jupyter-widgets/base",
      "_view_module_version": "1.2.0",
      "_view_name": "LayoutView",
      "align_content": null,
      "align_items": null,
      "align_self": null,
      "border": null,
      "bottom": null,
      "display": null,
      "flex": null,
      "flex_flow": null,
      "grid_area": null,
      "grid_auto_columns": null,
      "grid_auto_flow": null,
      "grid_auto_rows": null,
      "grid_column": null,
      "grid_gap": null,
      "grid_row": null,
      "grid_template_areas": null,
      "grid_template_columns": null,
      "grid_template_rows": null,
      "height": null,
      "justify_content": null,
      "justify_items": null,
      "left": null,
      "margin": null,
      "max_height": null,
      "max_width": null,
      "min_height": null,
      "min_width": null,
      "object_fit": null,
      "object_position": null,
      "order": null,
      "overflow": null,
      "overflow_x": null,
      "overflow_y": null,
      "padding": null,
      "right": null,
      "top": null,
      "visibility": null,
      "width": null
     }
    },
    "4858a344d1784111b3a0b13e72f548a6": {
     "model_module": "@jupyter-widgets/controls",
     "model_module_version": "1.5.0",
     "model_name": "DescriptionStyleModel",
     "state": {
      "_model_module": "@jupyter-widgets/controls",
      "_model_module_version": "1.5.0",
      "_model_name": "DescriptionStyleModel",
      "_view_count": null,
      "_view_module": "@jupyter-widgets/base",
      "_view_module_version": "1.2.0",
      "_view_name": "StyleView",
      "description_width": ""
     }
    },
    "485aab5924c643f2a48231f57c3d0099": {
     "model_module": "@jupyter-widgets/controls",
     "model_module_version": "1.5.0",
     "model_name": "FloatProgressModel",
     "state": {
      "_dom_classes": [],
      "_model_module": "@jupyter-widgets/controls",
      "_model_module_version": "1.5.0",
      "_model_name": "FloatProgressModel",
      "_view_count": null,
      "_view_module": "@jupyter-widgets/controls",
      "_view_module_version": "1.5.0",
      "_view_name": "ProgressView",
      "bar_style": "success",
      "description": "",
      "description_tooltip": null,
      "layout": "IPY_MODEL_4e6d6fead7fa47da9f3882686ba55611",
      "max": 1355863,
      "min": 0,
      "orientation": "horizontal",
      "style": "IPY_MODEL_7c68c9e47a514fec9019a4bdb214b373",
      "value": 1355863
     }
    },
    "4986a4a05a0c4dbcba109c48b66fe3f2": {
     "model_module": "@jupyter-widgets/controls",
     "model_module_version": "1.5.0",
     "model_name": "ProgressStyleModel",
     "state": {
      "_model_module": "@jupyter-widgets/controls",
      "_model_module_version": "1.5.0",
      "_model_name": "ProgressStyleModel",
      "_view_count": null,
      "_view_module": "@jupyter-widgets/base",
      "_view_module_version": "1.2.0",
      "_view_name": "StyleView",
      "bar_color": null,
      "description_width": ""
     }
    },
    "4aaad1e35b644c009338b592a25f85e4": {
     "model_module": "@jupyter-widgets/base",
     "model_module_version": "1.2.0",
     "model_name": "LayoutModel",
     "state": {
      "_model_module": "@jupyter-widgets/base",
      "_model_module_version": "1.2.0",
      "_model_name": "LayoutModel",
      "_view_count": null,
      "_view_module": "@jupyter-widgets/base",
      "_view_module_version": "1.2.0",
      "_view_name": "LayoutView",
      "align_content": null,
      "align_items": null,
      "align_self": null,
      "border": null,
      "bottom": null,
      "display": null,
      "flex": null,
      "flex_flow": null,
      "grid_area": null,
      "grid_auto_columns": null,
      "grid_auto_flow": null,
      "grid_auto_rows": null,
      "grid_column": null,
      "grid_gap": null,
      "grid_row": null,
      "grid_template_areas": null,
      "grid_template_columns": null,
      "grid_template_rows": null,
      "height": null,
      "justify_content": null,
      "justify_items": null,
      "left": null,
      "margin": null,
      "max_height": null,
      "max_width": null,
      "min_height": null,
      "min_width": null,
      "object_fit": null,
      "object_position": null,
      "order": null,
      "overflow": null,
      "overflow_x": null,
      "overflow_y": null,
      "padding": null,
      "right": null,
      "top": null,
      "visibility": null,
      "width": null
     }
    },
    "4b4f20892ee94fd79a1b7aa52ad2d689": {
     "model_module": "@jupyter-widgets/controls",
     "model_module_version": "1.5.0",
     "model_name": "DescriptionStyleModel",
     "state": {
      "_model_module": "@jupyter-widgets/controls",
      "_model_module_version": "1.5.0",
      "_model_name": "DescriptionStyleModel",
      "_view_count": null,
      "_view_module": "@jupyter-widgets/base",
      "_view_module_version": "1.2.0",
      "_view_name": "StyleView",
      "description_width": ""
     }
    },
    "4b5c26facb634b279666b26bf13a6118": {
     "model_module": "@jupyter-widgets/controls",
     "model_module_version": "1.5.0",
     "model_name": "FloatProgressModel",
     "state": {
      "_dom_classes": [],
      "_model_module": "@jupyter-widgets/controls",
      "_model_module_version": "1.5.0",
      "_model_name": "FloatProgressModel",
      "_view_count": null,
      "_view_module": "@jupyter-widgets/controls",
      "_view_module_version": "1.5.0",
      "_view_name": "ProgressView",
      "bar_style": "success",
      "description": "",
      "description_tooltip": null,
      "layout": "IPY_MODEL_d6e3e6dbfd634725a4c749e82f56de9e",
      "max": 456318,
      "min": 0,
      "orientation": "horizontal",
      "style": "IPY_MODEL_67ee42fb59d9416599534765bee96d05",
      "value": 456318
     }
    },
    "4bbb48a943014abbb0ce8ead1497c3a0": {
     "model_module": "@jupyter-widgets/controls",
     "model_module_version": "1.5.0",
     "model_name": "HTMLModel",
     "state": {
      "_dom_classes": [],
      "_model_module": "@jupyter-widgets/controls",
      "_model_module_version": "1.5.0",
      "_model_name": "HTMLModel",
      "_view_count": null,
      "_view_module": "@jupyter-widgets/controls",
      "_view_module_version": "1.5.0",
      "_view_name": "HTMLView",
      "description": "",
      "description_tooltip": null,
      "layout": "IPY_MODEL_1d9d531f698d4f05b1e14472c455e90a",
      "placeholder": "​",
      "style": "IPY_MODEL_facd83cd208946ba9766cd05275edb7f",
      "value": "merges.txt: 100%"
     }
    },
    "4e6d6fead7fa47da9f3882686ba55611": {
     "model_module": "@jupyter-widgets/base",
     "model_module_version": "1.2.0",
     "model_name": "LayoutModel",
     "state": {
      "_model_module": "@jupyter-widgets/base",
      "_model_module_version": "1.2.0",
      "_model_name": "LayoutModel",
      "_view_count": null,
      "_view_module": "@jupyter-widgets/base",
      "_view_module_version": "1.2.0",
      "_view_name": "LayoutView",
      "align_content": null,
      "align_items": null,
      "align_self": null,
      "border": null,
      "bottom": null,
      "display": null,
      "flex": null,
      "flex_flow": null,
      "grid_area": null,
      "grid_auto_columns": null,
      "grid_auto_flow": null,
      "grid_auto_rows": null,
      "grid_column": null,
      "grid_gap": null,
      "grid_row": null,
      "grid_template_areas": null,
      "grid_template_columns": null,
      "grid_template_rows": null,
      "height": null,
      "justify_content": null,
      "justify_items": null,
      "left": null,
      "margin": null,
      "max_height": null,
      "max_width": null,
      "min_height": null,
      "min_width": null,
      "object_fit": null,
      "object_position": null,
      "order": null,
      "overflow": null,
      "overflow_x": null,
      "overflow_y": null,
      "padding": null,
      "right": null,
      "top": null,
      "visibility": null,
      "width": null
     }
    },
    "4ecdbed0ea4b4498a14c8a4667994045": {
     "model_module": "@jupyter-widgets/controls",
     "model_module_version": "1.5.0",
     "model_name": "HTMLModel",
     "state": {
      "_dom_classes": [],
      "_model_module": "@jupyter-widgets/controls",
      "_model_module_version": "1.5.0",
      "_model_name": "HTMLModel",
      "_view_count": null,
      "_view_module": "@jupyter-widgets/controls",
      "_view_module_version": "1.5.0",
      "_view_name": "HTMLView",
      "description": "",
      "description_tooltip": null,
      "layout": "IPY_MODEL_00b397fed28b4bc4a5de1a62c167f76a",
      "placeholder": "​",
      "style": "IPY_MODEL_69d736ffcc9b491f97bd908d12ce5106",
      "value": "tokenizer_config.json: 100%"
     }
    },
    "4faf0ec29034418e832a4575b244a8e1": {
     "model_module": "@jupyter-widgets/base",
     "model_module_version": "1.2.0",
     "model_name": "LayoutModel",
     "state": {
      "_model_module": "@jupyter-widgets/base",
      "_model_module_version": "1.2.0",
      "_model_name": "LayoutModel",
      "_view_count": null,
      "_view_module": "@jupyter-widgets/base",
      "_view_module_version": "1.2.0",
      "_view_name": "LayoutView",
      "align_content": null,
      "align_items": null,
      "align_self": null,
      "border": null,
      "bottom": null,
      "display": null,
      "flex": null,
      "flex_flow": null,
      "grid_area": null,
      "grid_auto_columns": null,
      "grid_auto_flow": null,
      "grid_auto_rows": null,
      "grid_column": null,
      "grid_gap": null,
      "grid_row": null,
      "grid_template_areas": null,
      "grid_template_columns": null,
      "grid_template_rows": null,
      "height": null,
      "justify_content": null,
      "justify_items": null,
      "left": null,
      "margin": null,
      "max_height": null,
      "max_width": null,
      "min_height": null,
      "min_width": null,
      "object_fit": null,
      "object_position": null,
      "order": null,
      "overflow": null,
      "overflow_x": null,
      "overflow_y": null,
      "padding": null,
      "right": null,
      "top": null,
      "visibility": null,
      "width": null
     }
    },
    "4fd44922af4b40b3a3d00674689167d9": {
     "model_module": "@jupyter-widgets/controls",
     "model_module_version": "1.5.0",
     "model_name": "ProgressStyleModel",
     "state": {
      "_model_module": "@jupyter-widgets/controls",
      "_model_module_version": "1.5.0",
      "_model_name": "ProgressStyleModel",
      "_view_count": null,
      "_view_module": "@jupyter-widgets/base",
      "_view_module_version": "1.2.0",
      "_view_name": "StyleView",
      "bar_color": null,
      "description_width": ""
     }
    },
    "512e0436d68b44e593ca4c32cdb5871b": {
     "model_module": "@jupyter-widgets/controls",
     "model_module_version": "1.5.0",
     "model_name": "HTMLModel",
     "state": {
      "_dom_classes": [],
      "_model_module": "@jupyter-widgets/controls",
      "_model_module_version": "1.5.0",
      "_model_name": "HTMLModel",
      "_view_count": null,
      "_view_module": "@jupyter-widgets/controls",
      "_view_module_version": "1.5.0",
      "_view_name": "HTMLView",
      "description": "",
      "description_tooltip": null,
      "layout": "IPY_MODEL_c948a7d887c44e44bb2830646cb7ea44",
      "placeholder": "​",
      "style": "IPY_MODEL_8568e0c584f045a4a196a784cd4f23cd",
      "value": "config.json: 100%"
     }
    },
    "519f640cda604d8c91ce03c15df46b8b": {
     "model_module": "@jupyter-widgets/controls",
     "model_module_version": "1.5.0",
     "model_name": "LabelModel",
     "state": {
      "_dom_classes": [],
      "_model_module": "@jupyter-widgets/controls",
      "_model_module_version": "1.5.0",
      "_model_name": "LabelModel",
      "_view_count": null,
      "_view_module": "@jupyter-widgets/controls",
      "_view_module_version": "1.5.0",
      "_view_name": "LabelView",
      "description": "",
      "description_tooltip": null,
      "layout": "IPY_MODEL_1c25f8713a2d473d987e6fd0b8baa0ed",
      "placeholder": "​",
      "style": "IPY_MODEL_c214d6f0d9bd4c9491b6c73392a630b5",
      "value": "0.022 MB of 0.022 MB uploaded\r"
     }
    },
    "52afed3cd78443178b5c1bcf11d905af": {
     "model_module": "@jupyter-widgets/controls",
     "model_module_version": "1.5.0",
     "model_name": "HBoxModel",
     "state": {
      "_dom_classes": [],
      "_model_module": "@jupyter-widgets/controls",
      "_model_module_version": "1.5.0",
      "_model_name": "HBoxModel",
      "_view_count": null,
      "_view_module": "@jupyter-widgets/controls",
      "_view_module_version": "1.5.0",
      "_view_name": "HBoxView",
      "box_style": "",
      "children": [
       "IPY_MODEL_1498d5a11312445eb98a6f1e60495632",
       "IPY_MODEL_825effdd1fc24282acffdea79b7b9ea6",
       "IPY_MODEL_1181aa7c2c3349339e09085051981401"
      ],
      "layout": "IPY_MODEL_964b02d98c404cc082167949ada271e5"
     }
    },
    "52cd5a6389fb412fa9fd838298f27b9a": {
     "model_module": "@jupyter-widgets/controls",
     "model_module_version": "1.5.0",
     "model_name": "ProgressStyleModel",
     "state": {
      "_model_module": "@jupyter-widgets/controls",
      "_model_module_version": "1.5.0",
      "_model_name": "ProgressStyleModel",
      "_view_count": null,
      "_view_module": "@jupyter-widgets/base",
      "_view_module_version": "1.2.0",
      "_view_name": "StyleView",
      "bar_color": null,
      "description_width": ""
     }
    },
    "534337be1e8d4bd285a506f6978791b6": {
     "model_module": "@jupyter-widgets/controls",
     "model_module_version": "1.5.0",
     "model_name": "FloatProgressModel",
     "state": {
      "_dom_classes": [],
      "_model_module": "@jupyter-widgets/controls",
      "_model_module_version": "1.5.0",
      "_model_name": "FloatProgressModel",
      "_view_count": null,
      "_view_module": "@jupyter-widgets/controls",
      "_view_module_version": "1.5.0",
      "_view_name": "ProgressView",
      "bar_style": "success",
      "description": "",
      "description_tooltip": null,
      "layout": "IPY_MODEL_9cb087840dd24579adbc2e42d105e323",
      "max": 1355863,
      "min": 0,
      "orientation": "horizontal",
      "style": "IPY_MODEL_acf696bb4f924e2fb011eb3fbe7b4880",
      "value": 1355863
     }
    },
    "53ceaaccd7944afea27f5a6d8deb2df5": {
     "model_module": "@jupyter-widgets/base",
     "model_module_version": "1.2.0",
     "model_name": "LayoutModel",
     "state": {
      "_model_module": "@jupyter-widgets/base",
      "_model_module_version": "1.2.0",
      "_model_name": "LayoutModel",
      "_view_count": null,
      "_view_module": "@jupyter-widgets/base",
      "_view_module_version": "1.2.0",
      "_view_name": "LayoutView",
      "align_content": null,
      "align_items": null,
      "align_self": null,
      "border": null,
      "bottom": null,
      "display": null,
      "flex": null,
      "flex_flow": null,
      "grid_area": null,
      "grid_auto_columns": null,
      "grid_auto_flow": null,
      "grid_auto_rows": null,
      "grid_column": null,
      "grid_gap": null,
      "grid_row": null,
      "grid_template_areas": null,
      "grid_template_columns": null,
      "grid_template_rows": null,
      "height": null,
      "justify_content": null,
      "justify_items": null,
      "left": null,
      "margin": null,
      "max_height": null,
      "max_width": null,
      "min_height": null,
      "min_width": null,
      "object_fit": null,
      "object_position": null,
      "order": null,
      "overflow": null,
      "overflow_x": null,
      "overflow_y": null,
      "padding": null,
      "right": null,
      "top": null,
      "visibility": null,
      "width": null
     }
    },
    "5b03b28a8a4f4069b300ed29ec555572": {
     "model_module": "@jupyter-widgets/controls",
     "model_module_version": "1.5.0",
     "model_name": "HBoxModel",
     "state": {
      "_dom_classes": [],
      "_model_module": "@jupyter-widgets/controls",
      "_model_module_version": "1.5.0",
      "_model_name": "HBoxModel",
      "_view_count": null,
      "_view_module": "@jupyter-widgets/controls",
      "_view_module_version": "1.5.0",
      "_view_name": "HBoxView",
      "box_style": "",
      "children": [
       "IPY_MODEL_c4979c65200b40858fb2cbfe480584b0",
       "IPY_MODEL_ef4c6f7d00d44ef4b2dfb1417a7f5df2",
       "IPY_MODEL_39c59fb88bdf44e1ac7b6afc0114970c"
      ],
      "layout": "IPY_MODEL_7371a5f2a087407e9aefecf6868aea75"
     }
    },
    "5b3598c16fa047a3bd8eb58235b9ca60": {
     "model_module": "@jupyter-widgets/base",
     "model_module_version": "1.2.0",
     "model_name": "LayoutModel",
     "state": {
      "_model_module": "@jupyter-widgets/base",
      "_model_module_version": "1.2.0",
      "_model_name": "LayoutModel",
      "_view_count": null,
      "_view_module": "@jupyter-widgets/base",
      "_view_module_version": "1.2.0",
      "_view_name": "LayoutView",
      "align_content": null,
      "align_items": null,
      "align_self": null,
      "border": null,
      "bottom": null,
      "display": null,
      "flex": null,
      "flex_flow": null,
      "grid_area": null,
      "grid_auto_columns": null,
      "grid_auto_flow": null,
      "grid_auto_rows": null,
      "grid_column": null,
      "grid_gap": null,
      "grid_row": null,
      "grid_template_areas": null,
      "grid_template_columns": null,
      "grid_template_rows": null,
      "height": null,
      "justify_content": null,
      "justify_items": null,
      "left": null,
      "margin": null,
      "max_height": null,
      "max_width": null,
      "min_height": null,
      "min_width": null,
      "object_fit": null,
      "object_position": null,
      "order": null,
      "overflow": null,
      "overflow_x": null,
      "overflow_y": null,
      "padding": null,
      "right": null,
      "top": null,
      "visibility": null,
      "width": null
     }
    },
    "5b4538d446bb4b7fb8305ceb9b56a09b": {
     "model_module": "@jupyter-widgets/base",
     "model_module_version": "1.2.0",
     "model_name": "LayoutModel",
     "state": {
      "_model_module": "@jupyter-widgets/base",
      "_model_module_version": "1.2.0",
      "_model_name": "LayoutModel",
      "_view_count": null,
      "_view_module": "@jupyter-widgets/base",
      "_view_module_version": "1.2.0",
      "_view_name": "LayoutView",
      "align_content": null,
      "align_items": null,
      "align_self": null,
      "border": null,
      "bottom": null,
      "display": null,
      "flex": null,
      "flex_flow": null,
      "grid_area": null,
      "grid_auto_columns": null,
      "grid_auto_flow": null,
      "grid_auto_rows": null,
      "grid_column": null,
      "grid_gap": null,
      "grid_row": null,
      "grid_template_areas": null,
      "grid_template_columns": null,
      "grid_template_rows": null,
      "height": null,
      "justify_content": null,
      "justify_items": null,
      "left": null,
      "margin": null,
      "max_height": null,
      "max_width": null,
      "min_height": null,
      "min_width": null,
      "object_fit": null,
      "object_position": null,
      "order": null,
      "overflow": null,
      "overflow_x": null,
      "overflow_y": null,
      "padding": null,
      "right": null,
      "top": null,
      "visibility": null,
      "width": null
     }
    },
    "5e9a223506dd4c3bae2edcf171ef12c2": {
     "model_module": "@jupyter-widgets/controls",
     "model_module_version": "1.5.0",
     "model_name": "DescriptionStyleModel",
     "state": {
      "_model_module": "@jupyter-widgets/controls",
      "_model_module_version": "1.5.0",
      "_model_name": "DescriptionStyleModel",
      "_view_count": null,
      "_view_module": "@jupyter-widgets/base",
      "_view_module_version": "1.2.0",
      "_view_name": "StyleView",
      "description_width": ""
     }
    },
    "60e0c119f4854638957b3f9317261dbc": {
     "model_module": "@jupyter-widgets/controls",
     "model_module_version": "1.5.0",
     "model_name": "DescriptionStyleModel",
     "state": {
      "_model_module": "@jupyter-widgets/controls",
      "_model_module_version": "1.5.0",
      "_model_name": "DescriptionStyleModel",
      "_view_count": null,
      "_view_module": "@jupyter-widgets/base",
      "_view_module_version": "1.2.0",
      "_view_name": "StyleView",
      "description_width": ""
     }
    },
    "6113232488384bc580f7080ba09f4996": {
     "model_module": "@jupyter-widgets/controls",
     "model_module_version": "1.5.0",
     "model_name": "FloatProgressModel",
     "state": {
      "_dom_classes": [],
      "_model_module": "@jupyter-widgets/controls",
      "_model_module_version": "1.5.0",
      "_model_name": "FloatProgressModel",
      "_view_count": null,
      "_view_module": "@jupyter-widgets/controls",
      "_view_module_version": "1.5.0",
      "_view_name": "ProgressView",
      "bar_style": "success",
      "description": "",
      "description_tooltip": null,
      "layout": "IPY_MODEL_47bbdcefb9d34b6f81f79afa10719590",
      "max": 498818054,
      "min": 0,
      "orientation": "horizontal",
      "style": "IPY_MODEL_151d3a87396a44ef8d1f6637b56c44ce",
      "value": 498818054
     }
    },
    "61bed1bed75040fb973de01b3f98968c": {
     "model_module": "@jupyter-widgets/controls",
     "model_module_version": "1.5.0",
     "model_name": "LabelModel",
     "state": {
      "_dom_classes": [],
      "_model_module": "@jupyter-widgets/controls",
      "_model_module_version": "1.5.0",
      "_model_name": "LabelModel",
      "_view_count": null,
      "_view_module": "@jupyter-widgets/controls",
      "_view_module_version": "1.5.0",
      "_view_name": "LabelView",
      "description": "",
      "description_tooltip": null,
      "layout": "IPY_MODEL_3eca833c89894d9fbbe1eab5f97e9ff4",
      "placeholder": "​",
      "style": "IPY_MODEL_60e0c119f4854638957b3f9317261dbc",
      "value": "0.018 MB of 0.018 MB uploaded\r"
     }
    },
    "6244d679bcaa42c3a69eb2e04ce063f4": {
     "model_module": "@jupyter-widgets/controls",
     "model_module_version": "1.5.0",
     "model_name": "FloatProgressModel",
     "state": {
      "_dom_classes": [],
      "_model_module": "@jupyter-widgets/controls",
      "_model_module_version": "1.5.0",
      "_model_name": "FloatProgressModel",
      "_view_count": null,
      "_view_module": "@jupyter-widgets/controls",
      "_view_module_version": "1.5.0",
      "_view_name": "ProgressView",
      "bar_style": "success",
      "description": "",
      "description_tooltip": null,
      "layout": "IPY_MODEL_5b3598c16fa047a3bd8eb58235b9ca60",
      "max": 498818054,
      "min": 0,
      "orientation": "horizontal",
      "style": "IPY_MODEL_788b6a7086bd4567bb2867e4b8fc1264",
      "value": 498818054
     }
    },
    "648ebdcc93fe4c0e83ba5d023204e7cc": {
     "model_module": "@jupyter-widgets/controls",
     "model_module_version": "1.5.0",
     "model_name": "ProgressStyleModel",
     "state": {
      "_model_module": "@jupyter-widgets/controls",
      "_model_module_version": "1.5.0",
      "_model_name": "ProgressStyleModel",
      "_view_count": null,
      "_view_module": "@jupyter-widgets/base",
      "_view_module_version": "1.2.0",
      "_view_name": "StyleView",
      "bar_color": null,
      "description_width": ""
     }
    },
    "66ea88a3f18d45688bdb807b9a0cafe5": {
     "model_module": "@jupyter-widgets/controls",
     "model_module_version": "1.5.0",
     "model_name": "HBoxModel",
     "state": {
      "_dom_classes": [],
      "_model_module": "@jupyter-widgets/controls",
      "_model_module_version": "1.5.0",
      "_model_name": "HBoxModel",
      "_view_count": null,
      "_view_module": "@jupyter-widgets/controls",
      "_view_module_version": "1.5.0",
      "_view_name": "HBoxView",
      "box_style": "",
      "children": [
       "IPY_MODEL_4bbb48a943014abbb0ce8ead1497c3a0",
       "IPY_MODEL_4b5c26facb634b279666b26bf13a6118",
       "IPY_MODEL_c633c39e3f1b490d824a431b503ed146"
      ],
      "layout": "IPY_MODEL_4faf0ec29034418e832a4575b244a8e1"
     }
    },
    "67ee42fb59d9416599534765bee96d05": {
     "model_module": "@jupyter-widgets/controls",
     "model_module_version": "1.5.0",
     "model_name": "ProgressStyleModel",
     "state": {
      "_model_module": "@jupyter-widgets/controls",
      "_model_module_version": "1.5.0",
      "_model_name": "ProgressStyleModel",
      "_view_count": null,
      "_view_module": "@jupyter-widgets/base",
      "_view_module_version": "1.2.0",
      "_view_name": "StyleView",
      "bar_color": null,
      "description_width": ""
     }
    },
    "68a0e68f57934da2a1222dc10753131f": {
     "model_module": "@jupyter-widgets/controls",
     "model_module_version": "1.5.0",
     "model_name": "DescriptionStyleModel",
     "state": {
      "_model_module": "@jupyter-widgets/controls",
      "_model_module_version": "1.5.0",
      "_model_name": "DescriptionStyleModel",
      "_view_count": null,
      "_view_module": "@jupyter-widgets/base",
      "_view_module_version": "1.2.0",
      "_view_name": "StyleView",
      "description_width": ""
     }
    },
    "68c481fe27b649ba9d16aacb324fc70f": {
     "model_module": "@jupyter-widgets/controls",
     "model_module_version": "1.5.0",
     "model_name": "HBoxModel",
     "state": {
      "_dom_classes": [],
      "_model_module": "@jupyter-widgets/controls",
      "_model_module_version": "1.5.0",
      "_model_name": "HBoxModel",
      "_view_count": null,
      "_view_module": "@jupyter-widgets/controls",
      "_view_module_version": "1.5.0",
      "_view_name": "HBoxView",
      "box_style": "",
      "children": [
       "IPY_MODEL_39e9ee748f544649b5f3199680081a80",
       "IPY_MODEL_485aab5924c643f2a48231f57c3d0099",
       "IPY_MODEL_3e50d84447184749ac8412f4c74d2e18"
      ],
      "layout": "IPY_MODEL_37a3bf681898433798d8ab18ffc85752"
     }
    },
    "69c8de04a4c44a42945f7dc929e04e95": {
     "model_module": "@jupyter-widgets/base",
     "model_module_version": "1.2.0",
     "model_name": "LayoutModel",
     "state": {
      "_model_module": "@jupyter-widgets/base",
      "_model_module_version": "1.2.0",
      "_model_name": "LayoutModel",
      "_view_count": null,
      "_view_module": "@jupyter-widgets/base",
      "_view_module_version": "1.2.0",
      "_view_name": "LayoutView",
      "align_content": null,
      "align_items": null,
      "align_self": null,
      "border": null,
      "bottom": null,
      "display": null,
      "flex": null,
      "flex_flow": null,
      "grid_area": null,
      "grid_auto_columns": null,
      "grid_auto_flow": null,
      "grid_auto_rows": null,
      "grid_column": null,
      "grid_gap": null,
      "grid_row": null,
      "grid_template_areas": null,
      "grid_template_columns": null,
      "grid_template_rows": null,
      "height": null,
      "justify_content": null,
      "justify_items": null,
      "left": null,
      "margin": null,
      "max_height": null,
      "max_width": null,
      "min_height": null,
      "min_width": null,
      "object_fit": null,
      "object_position": null,
      "order": null,
      "overflow": null,
      "overflow_x": null,
      "overflow_y": null,
      "padding": null,
      "right": null,
      "top": null,
      "visibility": null,
      "width": null
     }
    },
    "69d736ffcc9b491f97bd908d12ce5106": {
     "model_module": "@jupyter-widgets/controls",
     "model_module_version": "1.5.0",
     "model_name": "DescriptionStyleModel",
     "state": {
      "_model_module": "@jupyter-widgets/controls",
      "_model_module_version": "1.5.0",
      "_model_name": "DescriptionStyleModel",
      "_view_count": null,
      "_view_module": "@jupyter-widgets/base",
      "_view_module_version": "1.2.0",
      "_view_name": "StyleView",
      "description_width": ""
     }
    },
    "6d066f71da0745f99a1b31c28875419d": {
     "model_module": "@jupyter-widgets/controls",
     "model_module_version": "1.5.0",
     "model_name": "HBoxModel",
     "state": {
      "_dom_classes": [],
      "_model_module": "@jupyter-widgets/controls",
      "_model_module_version": "1.5.0",
      "_model_name": "HBoxModel",
      "_view_count": null,
      "_view_module": "@jupyter-widgets/controls",
      "_view_module_version": "1.5.0",
      "_view_name": "HBoxView",
      "box_style": "",
      "children": [
       "IPY_MODEL_512e0436d68b44e593ca4c32cdb5871b",
       "IPY_MODEL_2bd73cc99dfa412abe210877cb478965",
       "IPY_MODEL_13543d0df90446c9a4c48500d855b93d"
      ],
      "layout": "IPY_MODEL_7127a8039b074b258be6968aa06ada6b"
     }
    },
    "6f92e9c00fef49adba29639952d9517a": {
     "model_module": "@jupyter-widgets/base",
     "model_module_version": "1.2.0",
     "model_name": "LayoutModel",
     "state": {
      "_model_module": "@jupyter-widgets/base",
      "_model_module_version": "1.2.0",
      "_model_name": "LayoutModel",
      "_view_count": null,
      "_view_module": "@jupyter-widgets/base",
      "_view_module_version": "1.2.0",
      "_view_name": "LayoutView",
      "align_content": null,
      "align_items": null,
      "align_self": null,
      "border": null,
      "bottom": null,
      "display": null,
      "flex": null,
      "flex_flow": null,
      "grid_area": null,
      "grid_auto_columns": null,
      "grid_auto_flow": null,
      "grid_auto_rows": null,
      "grid_column": null,
      "grid_gap": null,
      "grid_row": null,
      "grid_template_areas": null,
      "grid_template_columns": null,
      "grid_template_rows": null,
      "height": null,
      "justify_content": null,
      "justify_items": null,
      "left": null,
      "margin": null,
      "max_height": null,
      "max_width": null,
      "min_height": null,
      "min_width": null,
      "object_fit": null,
      "object_position": null,
      "order": null,
      "overflow": null,
      "overflow_x": null,
      "overflow_y": null,
      "padding": null,
      "right": null,
      "top": null,
      "visibility": null,
      "width": null
     }
    },
    "70e2971b948540b9b33025f1137b5fde": {
     "model_module": "@jupyter-widgets/base",
     "model_module_version": "1.2.0",
     "model_name": "LayoutModel",
     "state": {
      "_model_module": "@jupyter-widgets/base",
      "_model_module_version": "1.2.0",
      "_model_name": "LayoutModel",
      "_view_count": null,
      "_view_module": "@jupyter-widgets/base",
      "_view_module_version": "1.2.0",
      "_view_name": "LayoutView",
      "align_content": null,
      "align_items": null,
      "align_self": null,
      "border": null,
      "bottom": null,
      "display": null,
      "flex": null,
      "flex_flow": null,
      "grid_area": null,
      "grid_auto_columns": null,
      "grid_auto_flow": null,
      "grid_auto_rows": null,
      "grid_column": null,
      "grid_gap": null,
      "grid_row": null,
      "grid_template_areas": null,
      "grid_template_columns": null,
      "grid_template_rows": null,
      "height": null,
      "justify_content": null,
      "justify_items": null,
      "left": null,
      "margin": null,
      "max_height": null,
      "max_width": null,
      "min_height": null,
      "min_width": null,
      "object_fit": null,
      "object_position": null,
      "order": null,
      "overflow": null,
      "overflow_x": null,
      "overflow_y": null,
      "padding": null,
      "right": null,
      "top": null,
      "visibility": null,
      "width": null
     }
    },
    "7127a8039b074b258be6968aa06ada6b": {
     "model_module": "@jupyter-widgets/base",
     "model_module_version": "1.2.0",
     "model_name": "LayoutModel",
     "state": {
      "_model_module": "@jupyter-widgets/base",
      "_model_module_version": "1.2.0",
      "_model_name": "LayoutModel",
      "_view_count": null,
      "_view_module": "@jupyter-widgets/base",
      "_view_module_version": "1.2.0",
      "_view_name": "LayoutView",
      "align_content": null,
      "align_items": null,
      "align_self": null,
      "border": null,
      "bottom": null,
      "display": null,
      "flex": null,
      "flex_flow": null,
      "grid_area": null,
      "grid_auto_columns": null,
      "grid_auto_flow": null,
      "grid_auto_rows": null,
      "grid_column": null,
      "grid_gap": null,
      "grid_row": null,
      "grid_template_areas": null,
      "grid_template_columns": null,
      "grid_template_rows": null,
      "height": null,
      "justify_content": null,
      "justify_items": null,
      "left": null,
      "margin": null,
      "max_height": null,
      "max_width": null,
      "min_height": null,
      "min_width": null,
      "object_fit": null,
      "object_position": null,
      "order": null,
      "overflow": null,
      "overflow_x": null,
      "overflow_y": null,
      "padding": null,
      "right": null,
      "top": null,
      "visibility": null,
      "width": null
     }
    },
    "7371a5f2a087407e9aefecf6868aea75": {
     "model_module": "@jupyter-widgets/base",
     "model_module_version": "1.2.0",
     "model_name": "LayoutModel",
     "state": {
      "_model_module": "@jupyter-widgets/base",
      "_model_module_version": "1.2.0",
      "_model_name": "LayoutModel",
      "_view_count": null,
      "_view_module": "@jupyter-widgets/base",
      "_view_module_version": "1.2.0",
      "_view_name": "LayoutView",
      "align_content": null,
      "align_items": null,
      "align_self": null,
      "border": null,
      "bottom": null,
      "display": null,
      "flex": null,
      "flex_flow": null,
      "grid_area": null,
      "grid_auto_columns": null,
      "grid_auto_flow": null,
      "grid_auto_rows": null,
      "grid_column": null,
      "grid_gap": null,
      "grid_row": null,
      "grid_template_areas": null,
      "grid_template_columns": null,
      "grid_template_rows": null,
      "height": null,
      "justify_content": null,
      "justify_items": null,
      "left": null,
      "margin": null,
      "max_height": null,
      "max_width": null,
      "min_height": null,
      "min_width": null,
      "object_fit": null,
      "object_position": null,
      "order": null,
      "overflow": null,
      "overflow_x": null,
      "overflow_y": null,
      "padding": null,
      "right": null,
      "top": null,
      "visibility": null,
      "width": null
     }
    },
    "74391656a0a544f0a6006fa434a3e592": {
     "model_module": "@jupyter-widgets/base",
     "model_module_version": "1.2.0",
     "model_name": "LayoutModel",
     "state": {
      "_model_module": "@jupyter-widgets/base",
      "_model_module_version": "1.2.0",
      "_model_name": "LayoutModel",
      "_view_count": null,
      "_view_module": "@jupyter-widgets/base",
      "_view_module_version": "1.2.0",
      "_view_name": "LayoutView",
      "align_content": null,
      "align_items": null,
      "align_self": null,
      "border": null,
      "bottom": null,
      "display": null,
      "flex": null,
      "flex_flow": null,
      "grid_area": null,
      "grid_auto_columns": null,
      "grid_auto_flow": null,
      "grid_auto_rows": null,
      "grid_column": null,
      "grid_gap": null,
      "grid_row": null,
      "grid_template_areas": null,
      "grid_template_columns": null,
      "grid_template_rows": null,
      "height": null,
      "justify_content": null,
      "justify_items": null,
      "left": null,
      "margin": null,
      "max_height": null,
      "max_width": null,
      "min_height": null,
      "min_width": null,
      "object_fit": null,
      "object_position": null,
      "order": null,
      "overflow": null,
      "overflow_x": null,
      "overflow_y": null,
      "padding": null,
      "right": null,
      "top": null,
      "visibility": null,
      "width": null
     }
    },
    "77ddad2ef5c94edbb08c7ee902f9b168": {
     "model_module": "@jupyter-widgets/controls",
     "model_module_version": "1.5.0",
     "model_name": "DescriptionStyleModel",
     "state": {
      "_model_module": "@jupyter-widgets/controls",
      "_model_module_version": "1.5.0",
      "_model_name": "DescriptionStyleModel",
      "_view_count": null,
      "_view_module": "@jupyter-widgets/base",
      "_view_module_version": "1.2.0",
      "_view_name": "StyleView",
      "description_width": ""
     }
    },
    "788b6a7086bd4567bb2867e4b8fc1264": {
     "model_module": "@jupyter-widgets/controls",
     "model_module_version": "1.5.0",
     "model_name": "ProgressStyleModel",
     "state": {
      "_model_module": "@jupyter-widgets/controls",
      "_model_module_version": "1.5.0",
      "_model_name": "ProgressStyleModel",
      "_view_count": null,
      "_view_module": "@jupyter-widgets/base",
      "_view_module_version": "1.2.0",
      "_view_name": "StyleView",
      "bar_color": null,
      "description_width": ""
     }
    },
    "7a0224de64b14f64b62b1cb35d6fbe22": {
     "model_module": "@jupyter-widgets/controls",
     "model_module_version": "1.5.0",
     "model_name": "DescriptionStyleModel",
     "state": {
      "_model_module": "@jupyter-widgets/controls",
      "_model_module_version": "1.5.0",
      "_model_name": "DescriptionStyleModel",
      "_view_count": null,
      "_view_module": "@jupyter-widgets/base",
      "_view_module_version": "1.2.0",
      "_view_name": "StyleView",
      "description_width": ""
     }
    },
    "7aa39ec423b74762a4c1049bb8355433": {
     "model_module": "@jupyter-widgets/base",
     "model_module_version": "1.2.0",
     "model_name": "LayoutModel",
     "state": {
      "_model_module": "@jupyter-widgets/base",
      "_model_module_version": "1.2.0",
      "_model_name": "LayoutModel",
      "_view_count": null,
      "_view_module": "@jupyter-widgets/base",
      "_view_module_version": "1.2.0",
      "_view_name": "LayoutView",
      "align_content": null,
      "align_items": null,
      "align_self": null,
      "border": null,
      "bottom": null,
      "display": null,
      "flex": null,
      "flex_flow": null,
      "grid_area": null,
      "grid_auto_columns": null,
      "grid_auto_flow": null,
      "grid_auto_rows": null,
      "grid_column": null,
      "grid_gap": null,
      "grid_row": null,
      "grid_template_areas": null,
      "grid_template_columns": null,
      "grid_template_rows": null,
      "height": null,
      "justify_content": null,
      "justify_items": null,
      "left": null,
      "margin": null,
      "max_height": null,
      "max_width": null,
      "min_height": null,
      "min_width": null,
      "object_fit": null,
      "object_position": null,
      "order": null,
      "overflow": null,
      "overflow_x": null,
      "overflow_y": null,
      "padding": null,
      "right": null,
      "top": null,
      "visibility": null,
      "width": null
     }
    },
    "7bb79f55f8e74f95a4aa490377df2606": {
     "model_module": "@jupyter-widgets/controls",
     "model_module_version": "1.5.0",
     "model_name": "ProgressStyleModel",
     "state": {
      "_model_module": "@jupyter-widgets/controls",
      "_model_module_version": "1.5.0",
      "_model_name": "ProgressStyleModel",
      "_view_count": null,
      "_view_module": "@jupyter-widgets/base",
      "_view_module_version": "1.2.0",
      "_view_name": "StyleView",
      "bar_color": null,
      "description_width": ""
     }
    },
    "7c68c9e47a514fec9019a4bdb214b373": {
     "model_module": "@jupyter-widgets/controls",
     "model_module_version": "1.5.0",
     "model_name": "ProgressStyleModel",
     "state": {
      "_model_module": "@jupyter-widgets/controls",
      "_model_module_version": "1.5.0",
      "_model_name": "ProgressStyleModel",
      "_view_count": null,
      "_view_module": "@jupyter-widgets/base",
      "_view_module_version": "1.2.0",
      "_view_name": "StyleView",
      "bar_color": null,
      "description_width": ""
     }
    },
    "7e78eeea4c1943679cdaff3e57271c0c": {
     "model_module": "@jupyter-widgets/base",
     "model_module_version": "1.2.0",
     "model_name": "LayoutModel",
     "state": {
      "_model_module": "@jupyter-widgets/base",
      "_model_module_version": "1.2.0",
      "_model_name": "LayoutModel",
      "_view_count": null,
      "_view_module": "@jupyter-widgets/base",
      "_view_module_version": "1.2.0",
      "_view_name": "LayoutView",
      "align_content": null,
      "align_items": null,
      "align_self": null,
      "border": null,
      "bottom": null,
      "display": null,
      "flex": null,
      "flex_flow": null,
      "grid_area": null,
      "grid_auto_columns": null,
      "grid_auto_flow": null,
      "grid_auto_rows": null,
      "grid_column": null,
      "grid_gap": null,
      "grid_row": null,
      "grid_template_areas": null,
      "grid_template_columns": null,
      "grid_template_rows": null,
      "height": null,
      "justify_content": null,
      "justify_items": null,
      "left": null,
      "margin": null,
      "max_height": null,
      "max_width": null,
      "min_height": null,
      "min_width": null,
      "object_fit": null,
      "object_position": null,
      "order": null,
      "overflow": null,
      "overflow_x": null,
      "overflow_y": null,
      "padding": null,
      "right": null,
      "top": null,
      "visibility": null,
      "width": null
     }
    },
    "7f1e916d428a4a499acba0f0bde5a20c": {
     "model_module": "@jupyter-widgets/controls",
     "model_module_version": "1.5.0",
     "model_name": "VBoxModel",
     "state": {
      "_dom_classes": [],
      "_model_module": "@jupyter-widgets/controls",
      "_model_module_version": "1.5.0",
      "_model_name": "VBoxModel",
      "_view_count": null,
      "_view_module": "@jupyter-widgets/controls",
      "_view_module_version": "1.5.0",
      "_view_name": "VBoxView",
      "box_style": "",
      "children": [
       "IPY_MODEL_f5c39f570e994a2f845593323a531d1f",
       "IPY_MODEL_2c08bc5bf3b54b9dab0e51664fa92699"
      ],
      "layout": "IPY_MODEL_2d5df86273a74b98a3ea4f51f0f9111e"
     }
    },
    "812297d4c393497992c360c3cd7eb2f4": {
     "model_module": "@jupyter-widgets/base",
     "model_module_version": "1.2.0",
     "model_name": "LayoutModel",
     "state": {
      "_model_module": "@jupyter-widgets/base",
      "_model_module_version": "1.2.0",
      "_model_name": "LayoutModel",
      "_view_count": null,
      "_view_module": "@jupyter-widgets/base",
      "_view_module_version": "1.2.0",
      "_view_name": "LayoutView",
      "align_content": null,
      "align_items": null,
      "align_self": null,
      "border": null,
      "bottom": null,
      "display": null,
      "flex": null,
      "flex_flow": null,
      "grid_area": null,
      "grid_auto_columns": null,
      "grid_auto_flow": null,
      "grid_auto_rows": null,
      "grid_column": null,
      "grid_gap": null,
      "grid_row": null,
      "grid_template_areas": null,
      "grid_template_columns": null,
      "grid_template_rows": null,
      "height": null,
      "justify_content": null,
      "justify_items": null,
      "left": null,
      "margin": null,
      "max_height": null,
      "max_width": null,
      "min_height": null,
      "min_width": null,
      "object_fit": null,
      "object_position": null,
      "order": null,
      "overflow": null,
      "overflow_x": null,
      "overflow_y": null,
      "padding": null,
      "right": null,
      "top": null,
      "visibility": null,
      "width": null
     }
    },
    "8174e9a25aeb42b29b53bfab58139da9": {
     "model_module": "@jupyter-widgets/base",
     "model_module_version": "1.2.0",
     "model_name": "LayoutModel",
     "state": {
      "_model_module": "@jupyter-widgets/base",
      "_model_module_version": "1.2.0",
      "_model_name": "LayoutModel",
      "_view_count": null,
      "_view_module": "@jupyter-widgets/base",
      "_view_module_version": "1.2.0",
      "_view_name": "LayoutView",
      "align_content": null,
      "align_items": null,
      "align_self": null,
      "border": null,
      "bottom": null,
      "display": null,
      "flex": null,
      "flex_flow": null,
      "grid_area": null,
      "grid_auto_columns": null,
      "grid_auto_flow": null,
      "grid_auto_rows": null,
      "grid_column": null,
      "grid_gap": null,
      "grid_row": null,
      "grid_template_areas": null,
      "grid_template_columns": null,
      "grid_template_rows": null,
      "height": null,
      "justify_content": null,
      "justify_items": null,
      "left": null,
      "margin": null,
      "max_height": null,
      "max_width": null,
      "min_height": null,
      "min_width": null,
      "object_fit": null,
      "object_position": null,
      "order": null,
      "overflow": null,
      "overflow_x": null,
      "overflow_y": null,
      "padding": null,
      "right": null,
      "top": null,
      "visibility": null,
      "width": null
     }
    },
    "81f268e347dd4e5f8affc9a4b033fc76": {
     "model_module": "@jupyter-widgets/controls",
     "model_module_version": "1.5.0",
     "model_name": "ProgressStyleModel",
     "state": {
      "_model_module": "@jupyter-widgets/controls",
      "_model_module_version": "1.5.0",
      "_model_name": "ProgressStyleModel",
      "_view_count": null,
      "_view_module": "@jupyter-widgets/base",
      "_view_module_version": "1.2.0",
      "_view_name": "StyleView",
      "bar_color": null,
      "description_width": ""
     }
    },
    "825effdd1fc24282acffdea79b7b9ea6": {
     "model_module": "@jupyter-widgets/controls",
     "model_module_version": "1.5.0",
     "model_name": "FloatProgressModel",
     "state": {
      "_dom_classes": [],
      "_model_module": "@jupyter-widgets/controls",
      "_model_module_version": "1.5.0",
      "_model_name": "FloatProgressModel",
      "_view_count": null,
      "_view_module": "@jupyter-widgets/controls",
      "_view_module_version": "1.5.0",
      "_view_name": "ProgressView",
      "bar_style": "success",
      "description": "",
      "description_tooltip": null,
      "layout": "IPY_MODEL_a21862b9c1e549faa6413379dd045587",
      "max": 898823,
      "min": 0,
      "orientation": "horizontal",
      "style": "IPY_MODEL_fc786475448a4273b4ed9a061467c3dd",
      "value": 898823
     }
    },
    "82f2c03d97e346de98a57e4a76dcf531": {
     "model_module": "@jupyter-widgets/controls",
     "model_module_version": "1.5.0",
     "model_name": "HTMLModel",
     "state": {
      "_dom_classes": [],
      "_model_module": "@jupyter-widgets/controls",
      "_model_module_version": "1.5.0",
      "_model_name": "HTMLModel",
      "_view_count": null,
      "_view_module": "@jupyter-widgets/controls",
      "_view_module_version": "1.5.0",
      "_view_name": "HTMLView",
      "description": "",
      "description_tooltip": null,
      "layout": "IPY_MODEL_0366ab003bef429bbf2c85ce47ed26bb",
      "placeholder": "​",
      "style": "IPY_MODEL_b59f1c1aeafc43c0917f22836cf9b968",
      "value": " 25.0/25.0 [00:00&lt;00:00, 3.05kB/s]"
     }
    },
    "8492135dc0a44da28c53b499a7cd50bd": {
     "model_module": "@jupyter-widgets/base",
     "model_module_version": "1.2.0",
     "model_name": "LayoutModel",
     "state": {
      "_model_module": "@jupyter-widgets/base",
      "_model_module_version": "1.2.0",
      "_model_name": "LayoutModel",
      "_view_count": null,
      "_view_module": "@jupyter-widgets/base",
      "_view_module_version": "1.2.0",
      "_view_name": "LayoutView",
      "align_content": null,
      "align_items": null,
      "align_self": null,
      "border": null,
      "bottom": null,
      "display": null,
      "flex": null,
      "flex_flow": null,
      "grid_area": null,
      "grid_auto_columns": null,
      "grid_auto_flow": null,
      "grid_auto_rows": null,
      "grid_column": null,
      "grid_gap": null,
      "grid_row": null,
      "grid_template_areas": null,
      "grid_template_columns": null,
      "grid_template_rows": null,
      "height": null,
      "justify_content": null,
      "justify_items": null,
      "left": null,
      "margin": null,
      "max_height": null,
      "max_width": null,
      "min_height": null,
      "min_width": null,
      "object_fit": null,
      "object_position": null,
      "order": null,
      "overflow": null,
      "overflow_x": null,
      "overflow_y": null,
      "padding": null,
      "right": null,
      "top": null,
      "visibility": null,
      "width": null
     }
    },
    "8568e0c584f045a4a196a784cd4f23cd": {
     "model_module": "@jupyter-widgets/controls",
     "model_module_version": "1.5.0",
     "model_name": "DescriptionStyleModel",
     "state": {
      "_model_module": "@jupyter-widgets/controls",
      "_model_module_version": "1.5.0",
      "_model_name": "DescriptionStyleModel",
      "_view_count": null,
      "_view_module": "@jupyter-widgets/base",
      "_view_module_version": "1.2.0",
      "_view_name": "StyleView",
      "description_width": ""
     }
    },
    "85d7ed77c3f64666b7352d4fea0fbd5f": {
     "model_module": "@jupyter-widgets/controls",
     "model_module_version": "1.5.0",
     "model_name": "HTMLModel",
     "state": {
      "_dom_classes": [],
      "_model_module": "@jupyter-widgets/controls",
      "_model_module_version": "1.5.0",
      "_model_name": "HTMLModel",
      "_view_count": null,
      "_view_module": "@jupyter-widgets/controls",
      "_view_module_version": "1.5.0",
      "_view_name": "HTMLView",
      "description": "",
      "description_tooltip": null,
      "layout": "IPY_MODEL_8174e9a25aeb42b29b53bfab58139da9",
      "placeholder": "​",
      "style": "IPY_MODEL_77ddad2ef5c94edbb08c7ee902f9b168",
      "value": "model.safetensors: 100%"
     }
    },
    "85fc74b0d64d4561814f0cf3fd6076f4": {
     "model_module": "@jupyter-widgets/controls",
     "model_module_version": "1.5.0",
     "model_name": "ProgressStyleModel",
     "state": {
      "_model_module": "@jupyter-widgets/controls",
      "_model_module_version": "1.5.0",
      "_model_name": "ProgressStyleModel",
      "_view_count": null,
      "_view_module": "@jupyter-widgets/base",
      "_view_module_version": "1.2.0",
      "_view_name": "StyleView",
      "bar_color": null,
      "description_width": ""
     }
    },
    "861c06ecfa27432e9b977aba89798f4f": {
     "model_module": "@jupyter-widgets/controls",
     "model_module_version": "1.5.0",
     "model_name": "FloatProgressModel",
     "state": {
      "_dom_classes": [],
      "_model_module": "@jupyter-widgets/controls",
      "_model_module_version": "1.5.0",
      "_model_name": "FloatProgressModel",
      "_view_count": null,
      "_view_module": "@jupyter-widgets/controls",
      "_view_module_version": "1.5.0",
      "_view_name": "ProgressView",
      "bar_style": "success",
      "description": "",
      "description_tooltip": null,
      "layout": "IPY_MODEL_45487f319ca14d3384d81ead3f52f585",
      "max": 25,
      "min": 0,
      "orientation": "horizontal",
      "style": "IPY_MODEL_52cd5a6389fb412fa9fd838298f27b9a",
      "value": 25
     }
    },
    "87cd1cfee9274fa5b44a7cb4ab2c8da2": {
     "model_module": "@jupyter-widgets/controls",
     "model_module_version": "1.5.0",
     "model_name": "DescriptionStyleModel",
     "state": {
      "_model_module": "@jupyter-widgets/controls",
      "_model_module_version": "1.5.0",
      "_model_name": "DescriptionStyleModel",
      "_view_count": null,
      "_view_module": "@jupyter-widgets/base",
      "_view_module_version": "1.2.0",
      "_view_name": "StyleView",
      "description_width": ""
     }
    },
    "89d738ef1c584bc682e19f2a75e31d07": {
     "model_module": "@jupyter-widgets/controls",
     "model_module_version": "1.5.0",
     "model_name": "VBoxModel",
     "state": {
      "_dom_classes": [],
      "_model_module": "@jupyter-widgets/controls",
      "_model_module_version": "1.5.0",
      "_model_name": "VBoxModel",
      "_view_count": null,
      "_view_module": "@jupyter-widgets/controls",
      "_view_module_version": "1.5.0",
      "_view_name": "VBoxView",
      "box_style": "",
      "children": [
       "IPY_MODEL_22f399ec4e674b629617074e26cf46cb",
       "IPY_MODEL_cd0fb6ca1b584b298591005b6128f8fc"
      ],
      "layout": "IPY_MODEL_8ecc4fcd86fe4d88ac26883da4a76c2d"
     }
    },
    "8a1a38cae69541ee83da5d6ecb4e9ee5": {
     "model_module": "@jupyter-widgets/base",
     "model_module_version": "1.2.0",
     "model_name": "LayoutModel",
     "state": {
      "_model_module": "@jupyter-widgets/base",
      "_model_module_version": "1.2.0",
      "_model_name": "LayoutModel",
      "_view_count": null,
      "_view_module": "@jupyter-widgets/base",
      "_view_module_version": "1.2.0",
      "_view_name": "LayoutView",
      "align_content": null,
      "align_items": null,
      "align_self": null,
      "border": null,
      "bottom": null,
      "display": null,
      "flex": null,
      "flex_flow": null,
      "grid_area": null,
      "grid_auto_columns": null,
      "grid_auto_flow": null,
      "grid_auto_rows": null,
      "grid_column": null,
      "grid_gap": null,
      "grid_row": null,
      "grid_template_areas": null,
      "grid_template_columns": null,
      "grid_template_rows": null,
      "height": null,
      "justify_content": null,
      "justify_items": null,
      "left": null,
      "margin": null,
      "max_height": null,
      "max_width": null,
      "min_height": null,
      "min_width": null,
      "object_fit": null,
      "object_position": null,
      "order": null,
      "overflow": null,
      "overflow_x": null,
      "overflow_y": null,
      "padding": null,
      "right": null,
      "top": null,
      "visibility": null,
      "width": null
     }
    },
    "8a2cc0e44de740dabfeb7f668d036266": {
     "model_module": "@jupyter-widgets/controls",
     "model_module_version": "1.5.0",
     "model_name": "DescriptionStyleModel",
     "state": {
      "_model_module": "@jupyter-widgets/controls",
      "_model_module_version": "1.5.0",
      "_model_name": "DescriptionStyleModel",
      "_view_count": null,
      "_view_module": "@jupyter-widgets/base",
      "_view_module_version": "1.2.0",
      "_view_name": "StyleView",
      "description_width": ""
     }
    },
    "8c3cfe447de64a0d8546bbeeba54150c": {
     "model_module": "@jupyter-widgets/controls",
     "model_module_version": "1.5.0",
     "model_name": "DescriptionStyleModel",
     "state": {
      "_model_module": "@jupyter-widgets/controls",
      "_model_module_version": "1.5.0",
      "_model_name": "DescriptionStyleModel",
      "_view_count": null,
      "_view_module": "@jupyter-widgets/base",
      "_view_module_version": "1.2.0",
      "_view_name": "StyleView",
      "description_width": ""
     }
    },
    "8ecc4fcd86fe4d88ac26883da4a76c2d": {
     "model_module": "@jupyter-widgets/base",
     "model_module_version": "1.2.0",
     "model_name": "LayoutModel",
     "state": {
      "_model_module": "@jupyter-widgets/base",
      "_model_module_version": "1.2.0",
      "_model_name": "LayoutModel",
      "_view_count": null,
      "_view_module": "@jupyter-widgets/base",
      "_view_module_version": "1.2.0",
      "_view_name": "LayoutView",
      "align_content": null,
      "align_items": null,
      "align_self": null,
      "border": null,
      "bottom": null,
      "display": null,
      "flex": null,
      "flex_flow": null,
      "grid_area": null,
      "grid_auto_columns": null,
      "grid_auto_flow": null,
      "grid_auto_rows": null,
      "grid_column": null,
      "grid_gap": null,
      "grid_row": null,
      "grid_template_areas": null,
      "grid_template_columns": null,
      "grid_template_rows": null,
      "height": null,
      "justify_content": null,
      "justify_items": null,
      "left": null,
      "margin": null,
      "max_height": null,
      "max_width": null,
      "min_height": null,
      "min_width": null,
      "object_fit": null,
      "object_position": null,
      "order": null,
      "overflow": null,
      "overflow_x": null,
      "overflow_y": null,
      "padding": null,
      "right": null,
      "top": null,
      "visibility": null,
      "width": null
     }
    },
    "90203d5c070f49ae86088061e62fbbcd": {
     "model_module": "@jupyter-widgets/controls",
     "model_module_version": "1.5.0",
     "model_name": "HBoxModel",
     "state": {
      "_dom_classes": [],
      "_model_module": "@jupyter-widgets/controls",
      "_model_module_version": "1.5.0",
      "_model_name": "HBoxModel",
      "_view_count": null,
      "_view_module": "@jupyter-widgets/controls",
      "_view_module_version": "1.5.0",
      "_view_name": "HBoxView",
      "box_style": "",
      "children": [
       "IPY_MODEL_85d7ed77c3f64666b7352d4fea0fbd5f",
       "IPY_MODEL_bfe37997a9e24c7d9835f2e690339b00",
       "IPY_MODEL_9e1b101ea47549e08f150cf2bfdfebfc"
      ],
      "layout": "IPY_MODEL_cadc5a18cbf24a8b9bba2de252b91978"
     }
    },
    "91015d7011d94bc18083da51a2d6f8ef": {
     "model_module": "@jupyter-widgets/base",
     "model_module_version": "1.2.0",
     "model_name": "LayoutModel",
     "state": {
      "_model_module": "@jupyter-widgets/base",
      "_model_module_version": "1.2.0",
      "_model_name": "LayoutModel",
      "_view_count": null,
      "_view_module": "@jupyter-widgets/base",
      "_view_module_version": "1.2.0",
      "_view_name": "LayoutView",
      "align_content": null,
      "align_items": null,
      "align_self": null,
      "border": null,
      "bottom": null,
      "display": null,
      "flex": null,
      "flex_flow": null,
      "grid_area": null,
      "grid_auto_columns": null,
      "grid_auto_flow": null,
      "grid_auto_rows": null,
      "grid_column": null,
      "grid_gap": null,
      "grid_row": null,
      "grid_template_areas": null,
      "grid_template_columns": null,
      "grid_template_rows": null,
      "height": null,
      "justify_content": null,
      "justify_items": null,
      "left": null,
      "margin": null,
      "max_height": null,
      "max_width": null,
      "min_height": null,
      "min_width": null,
      "object_fit": null,
      "object_position": null,
      "order": null,
      "overflow": null,
      "overflow_x": null,
      "overflow_y": null,
      "padding": null,
      "right": null,
      "top": null,
      "visibility": null,
      "width": null
     }
    },
    "917fe3280a3346b4958608d5204cc6e2": {
     "model_module": "@jupyter-widgets/controls",
     "model_module_version": "1.5.0",
     "model_name": "FloatProgressModel",
     "state": {
      "_dom_classes": [],
      "_model_module": "@jupyter-widgets/controls",
      "_model_module_version": "1.5.0",
      "_model_name": "FloatProgressModel",
      "_view_count": null,
      "_view_module": "@jupyter-widgets/controls",
      "_view_module_version": "1.5.0",
      "_view_name": "ProgressView",
      "bar_style": "success",
      "description": "",
      "description_tooltip": null,
      "layout": "IPY_MODEL_5b4538d446bb4b7fb8305ceb9b56a09b",
      "max": 898823,
      "min": 0,
      "orientation": "horizontal",
      "style": "IPY_MODEL_db8bb7f4804f4b868a2ced488bd2b437",
      "value": 898823
     }
    },
    "9210577f264445a48d3ce7e9d8ae2615": {
     "model_module": "@jupyter-widgets/controls",
     "model_module_version": "1.5.0",
     "model_name": "HBoxModel",
     "state": {
      "_dom_classes": [],
      "_model_module": "@jupyter-widgets/controls",
      "_model_module_version": "1.5.0",
      "_model_name": "HBoxModel",
      "_view_count": null,
      "_view_module": "@jupyter-widgets/controls",
      "_view_module_version": "1.5.0",
      "_view_name": "HBoxView",
      "box_style": "",
      "children": [
       "IPY_MODEL_25f273de4c5f4294838433628c799049",
       "IPY_MODEL_6113232488384bc580f7080ba09f4996",
       "IPY_MODEL_0dc62d4361b741c592d4d3fd871434f0"
      ],
      "layout": "IPY_MODEL_c22cf76030fa4378aa7174f6a63bec7c"
     }
    },
    "92de3350937b45ddbeb5501d60a82241": {
     "model_module": "@jupyter-widgets/controls",
     "model_module_version": "1.5.0",
     "model_name": "HTMLModel",
     "state": {
      "_dom_classes": [],
      "_model_module": "@jupyter-widgets/controls",
      "_model_module_version": "1.5.0",
      "_model_name": "HTMLModel",
      "_view_count": null,
      "_view_module": "@jupyter-widgets/controls",
      "_view_module_version": "1.5.0",
      "_view_name": "HTMLView",
      "description": "",
      "description_tooltip": null,
      "layout": "IPY_MODEL_0aac911a8b3b4eb6a5cdae309416ab7f",
      "placeholder": "​",
      "style": "IPY_MODEL_b5055ec66dae4be589872ad21487121e",
      "value": " 899k/899k [00:00&lt;00:00, 4.94MB/s]"
     }
    },
    "949a8d06414f4195b59eeb62a18dcdab": {
     "model_module": "@jupyter-widgets/controls",
     "model_module_version": "1.5.0",
     "model_name": "DescriptionStyleModel",
     "state": {
      "_model_module": "@jupyter-widgets/controls",
      "_model_module_version": "1.5.0",
      "_model_name": "DescriptionStyleModel",
      "_view_count": null,
      "_view_module": "@jupyter-widgets/base",
      "_view_module_version": "1.2.0",
      "_view_name": "StyleView",
      "description_width": ""
     }
    },
    "95a11666803e499e87b6d06bfddbceae": {
     "model_module": "@jupyter-widgets/controls",
     "model_module_version": "1.5.0",
     "model_name": "VBoxModel",
     "state": {
      "_dom_classes": [],
      "_model_module": "@jupyter-widgets/controls",
      "_model_module_version": "1.5.0",
      "_model_name": "VBoxModel",
      "_view_count": null,
      "_view_module": "@jupyter-widgets/controls",
      "_view_module_version": "1.5.0",
      "_view_name": "VBoxView",
      "box_style": "",
      "children": [
       "IPY_MODEL_61bed1bed75040fb973de01b3f98968c",
       "IPY_MODEL_d9ae4b58b449472ebec177cda36435c4"
      ],
      "layout": "IPY_MODEL_b9694b377ad84a3e86429d1a6129d8e5"
     }
    },
    "964b02d98c404cc082167949ada271e5": {
     "model_module": "@jupyter-widgets/base",
     "model_module_version": "1.2.0",
     "model_name": "LayoutModel",
     "state": {
      "_model_module": "@jupyter-widgets/base",
      "_model_module_version": "1.2.0",
      "_model_name": "LayoutModel",
      "_view_count": null,
      "_view_module": "@jupyter-widgets/base",
      "_view_module_version": "1.2.0",
      "_view_name": "LayoutView",
      "align_content": null,
      "align_items": null,
      "align_self": null,
      "border": null,
      "bottom": null,
      "display": null,
      "flex": null,
      "flex_flow": null,
      "grid_area": null,
      "grid_auto_columns": null,
      "grid_auto_flow": null,
      "grid_auto_rows": null,
      "grid_column": null,
      "grid_gap": null,
      "grid_row": null,
      "grid_template_areas": null,
      "grid_template_columns": null,
      "grid_template_rows": null,
      "height": null,
      "justify_content": null,
      "justify_items": null,
      "left": null,
      "margin": null,
      "max_height": null,
      "max_width": null,
      "min_height": null,
      "min_width": null,
      "object_fit": null,
      "object_position": null,
      "order": null,
      "overflow": null,
      "overflow_x": null,
      "overflow_y": null,
      "padding": null,
      "right": null,
      "top": null,
      "visibility": null,
      "width": null
     }
    },
    "9748f2564e4744bc9b5d84b1a364ce39": {
     "model_module": "@jupyter-widgets/base",
     "model_module_version": "1.2.0",
     "model_name": "LayoutModel",
     "state": {
      "_model_module": "@jupyter-widgets/base",
      "_model_module_version": "1.2.0",
      "_model_name": "LayoutModel",
      "_view_count": null,
      "_view_module": "@jupyter-widgets/base",
      "_view_module_version": "1.2.0",
      "_view_name": "LayoutView",
      "align_content": null,
      "align_items": null,
      "align_self": null,
      "border": null,
      "bottom": null,
      "display": null,
      "flex": null,
      "flex_flow": null,
      "grid_area": null,
      "grid_auto_columns": null,
      "grid_auto_flow": null,
      "grid_auto_rows": null,
      "grid_column": null,
      "grid_gap": null,
      "grid_row": null,
      "grid_template_areas": null,
      "grid_template_columns": null,
      "grid_template_rows": null,
      "height": null,
      "justify_content": null,
      "justify_items": null,
      "left": null,
      "margin": null,
      "max_height": null,
      "max_width": null,
      "min_height": null,
      "min_width": null,
      "object_fit": null,
      "object_position": null,
      "order": null,
      "overflow": null,
      "overflow_x": null,
      "overflow_y": null,
      "padding": null,
      "right": null,
      "top": null,
      "visibility": null,
      "width": null
     }
    },
    "97f0be5553564b08ad387a7236ee770f": {
     "model_module": "@jupyter-widgets/controls",
     "model_module_version": "1.5.0",
     "model_name": "DescriptionStyleModel",
     "state": {
      "_model_module": "@jupyter-widgets/controls",
      "_model_module_version": "1.5.0",
      "_model_name": "DescriptionStyleModel",
      "_view_count": null,
      "_view_module": "@jupyter-widgets/base",
      "_view_module_version": "1.2.0",
      "_view_name": "StyleView",
      "description_width": ""
     }
    },
    "988f6f627111473598f074d5d0ceb1e7": {
     "model_module": "@jupyter-widgets/base",
     "model_module_version": "1.2.0",
     "model_name": "LayoutModel",
     "state": {
      "_model_module": "@jupyter-widgets/base",
      "_model_module_version": "1.2.0",
      "_model_name": "LayoutModel",
      "_view_count": null,
      "_view_module": "@jupyter-widgets/base",
      "_view_module_version": "1.2.0",
      "_view_name": "LayoutView",
      "align_content": null,
      "align_items": null,
      "align_self": null,
      "border": null,
      "bottom": null,
      "display": null,
      "flex": null,
      "flex_flow": null,
      "grid_area": null,
      "grid_auto_columns": null,
      "grid_auto_flow": null,
      "grid_auto_rows": null,
      "grid_column": null,
      "grid_gap": null,
      "grid_row": null,
      "grid_template_areas": null,
      "grid_template_columns": null,
      "grid_template_rows": null,
      "height": null,
      "justify_content": null,
      "justify_items": null,
      "left": null,
      "margin": null,
      "max_height": null,
      "max_width": null,
      "min_height": null,
      "min_width": null,
      "object_fit": null,
      "object_position": null,
      "order": null,
      "overflow": null,
      "overflow_x": null,
      "overflow_y": null,
      "padding": null,
      "right": null,
      "top": null,
      "visibility": null,
      "width": null
     }
    },
    "9a89f4390e7942f493e58ec8cc1fb302": {
     "model_module": "@jupyter-widgets/controls",
     "model_module_version": "1.5.0",
     "model_name": "ProgressStyleModel",
     "state": {
      "_model_module": "@jupyter-widgets/controls",
      "_model_module_version": "1.5.0",
      "_model_name": "ProgressStyleModel",
      "_view_count": null,
      "_view_module": "@jupyter-widgets/base",
      "_view_module_version": "1.2.0",
      "_view_name": "StyleView",
      "bar_color": null,
      "description_width": ""
     }
    },
    "9cb087840dd24579adbc2e42d105e323": {
     "model_module": "@jupyter-widgets/base",
     "model_module_version": "1.2.0",
     "model_name": "LayoutModel",
     "state": {
      "_model_module": "@jupyter-widgets/base",
      "_model_module_version": "1.2.0",
      "_model_name": "LayoutModel",
      "_view_count": null,
      "_view_module": "@jupyter-widgets/base",
      "_view_module_version": "1.2.0",
      "_view_name": "LayoutView",
      "align_content": null,
      "align_items": null,
      "align_self": null,
      "border": null,
      "bottom": null,
      "display": null,
      "flex": null,
      "flex_flow": null,
      "grid_area": null,
      "grid_auto_columns": null,
      "grid_auto_flow": null,
      "grid_auto_rows": null,
      "grid_column": null,
      "grid_gap": null,
      "grid_row": null,
      "grid_template_areas": null,
      "grid_template_columns": null,
      "grid_template_rows": null,
      "height": null,
      "justify_content": null,
      "justify_items": null,
      "left": null,
      "margin": null,
      "max_height": null,
      "max_width": null,
      "min_height": null,
      "min_width": null,
      "object_fit": null,
      "object_position": null,
      "order": null,
      "overflow": null,
      "overflow_x": null,
      "overflow_y": null,
      "padding": null,
      "right": null,
      "top": null,
      "visibility": null,
      "width": null
     }
    },
    "9e1b101ea47549e08f150cf2bfdfebfc": {
     "model_module": "@jupyter-widgets/controls",
     "model_module_version": "1.5.0",
     "model_name": "HTMLModel",
     "state": {
      "_dom_classes": [],
      "_model_module": "@jupyter-widgets/controls",
      "_model_module_version": "1.5.0",
      "_model_name": "HTMLModel",
      "_view_count": null,
      "_view_module": "@jupyter-widgets/controls",
      "_view_module_version": "1.5.0",
      "_view_name": "HTMLView",
      "description": "",
      "description_tooltip": null,
      "layout": "IPY_MODEL_ccb0b0f321a2423ba3257623f79ff093",
      "placeholder": "​",
      "style": "IPY_MODEL_97f0be5553564b08ad387a7236ee770f",
      "value": " 331M/331M [00:01&lt;00:00, 273MB/s]"
     }
    },
    "9e3d7f39f45f42c38062da011e84e739": {
     "model_module": "@jupyter-widgets/base",
     "model_module_version": "1.2.0",
     "model_name": "LayoutModel",
     "state": {
      "_model_module": "@jupyter-widgets/base",
      "_model_module_version": "1.2.0",
      "_model_name": "LayoutModel",
      "_view_count": null,
      "_view_module": "@jupyter-widgets/base",
      "_view_module_version": "1.2.0",
      "_view_name": "LayoutView",
      "align_content": null,
      "align_items": null,
      "align_self": null,
      "border": null,
      "bottom": null,
      "display": null,
      "flex": null,
      "flex_flow": null,
      "grid_area": null,
      "grid_auto_columns": null,
      "grid_auto_flow": null,
      "grid_auto_rows": null,
      "grid_column": null,
      "grid_gap": null,
      "grid_row": null,
      "grid_template_areas": null,
      "grid_template_columns": null,
      "grid_template_rows": null,
      "height": null,
      "justify_content": null,
      "justify_items": null,
      "left": null,
      "margin": null,
      "max_height": null,
      "max_width": null,
      "min_height": null,
      "min_width": null,
      "object_fit": null,
      "object_position": null,
      "order": null,
      "overflow": null,
      "overflow_x": null,
      "overflow_y": null,
      "padding": null,
      "right": null,
      "top": null,
      "visibility": null,
      "width": null
     }
    },
    "9f0e769dfac04481875aa71dd90020db": {
     "model_module": "@jupyter-widgets/controls",
     "model_module_version": "1.5.0",
     "model_name": "HBoxModel",
     "state": {
      "_dom_classes": [],
      "_model_module": "@jupyter-widgets/controls",
      "_model_module_version": "1.5.0",
      "_model_name": "HBoxModel",
      "_view_count": null,
      "_view_module": "@jupyter-widgets/controls",
      "_view_module_version": "1.5.0",
      "_view_name": "HBoxView",
      "box_style": "",
      "children": [
       "IPY_MODEL_ebb56f7ea19541dd92383afea501e8ab",
       "IPY_MODEL_6244d679bcaa42c3a69eb2e04ce063f4",
       "IPY_MODEL_1d262d1f509f41ef814bf623bbe6da5c"
      ],
      "layout": "IPY_MODEL_c51f3a3d7a64405cb7f187299fc847aa"
     }
    },
    "9f30563ae7af4d609f07bfb0c621c957": {
     "model_module": "@jupyter-widgets/controls",
     "model_module_version": "1.5.0",
     "model_name": "HBoxModel",
     "state": {
      "_dom_classes": [],
      "_model_module": "@jupyter-widgets/controls",
      "_model_module_version": "1.5.0",
      "_model_name": "HBoxModel",
      "_view_count": null,
      "_view_module": "@jupyter-widgets/controls",
      "_view_module_version": "1.5.0",
      "_view_name": "HBoxView",
      "box_style": "",
      "children": [
       "IPY_MODEL_4ecdbed0ea4b4498a14c8a4667994045",
       "IPY_MODEL_b66e8b75ae8c4dcd974435f10c7fbb1f",
       "IPY_MODEL_82f2c03d97e346de98a57e4a76dcf531"
      ],
      "layout": "IPY_MODEL_69c8de04a4c44a42945f7dc929e04e95"
     }
    },
    "9f68789c7e984542bfa4de04235ebc5d": {
     "model_module": "@jupyter-widgets/base",
     "model_module_version": "1.2.0",
     "model_name": "LayoutModel",
     "state": {
      "_model_module": "@jupyter-widgets/base",
      "_model_module_version": "1.2.0",
      "_model_name": "LayoutModel",
      "_view_count": null,
      "_view_module": "@jupyter-widgets/base",
      "_view_module_version": "1.2.0",
      "_view_name": "LayoutView",
      "align_content": null,
      "align_items": null,
      "align_self": null,
      "border": null,
      "bottom": null,
      "display": null,
      "flex": null,
      "flex_flow": null,
      "grid_area": null,
      "grid_auto_columns": null,
      "grid_auto_flow": null,
      "grid_auto_rows": null,
      "grid_column": null,
      "grid_gap": null,
      "grid_row": null,
      "grid_template_areas": null,
      "grid_template_columns": null,
      "grid_template_rows": null,
      "height": null,
      "justify_content": null,
      "justify_items": null,
      "left": null,
      "margin": null,
      "max_height": null,
      "max_width": null,
      "min_height": null,
      "min_width": null,
      "object_fit": null,
      "object_position": null,
      "order": null,
      "overflow": null,
      "overflow_x": null,
      "overflow_y": null,
      "padding": null,
      "right": null,
      "top": null,
      "visibility": null,
      "width": null
     }
    },
    "a21862b9c1e549faa6413379dd045587": {
     "model_module": "@jupyter-widgets/base",
     "model_module_version": "1.2.0",
     "model_name": "LayoutModel",
     "state": {
      "_model_module": "@jupyter-widgets/base",
      "_model_module_version": "1.2.0",
      "_model_name": "LayoutModel",
      "_view_count": null,
      "_view_module": "@jupyter-widgets/base",
      "_view_module_version": "1.2.0",
      "_view_name": "LayoutView",
      "align_content": null,
      "align_items": null,
      "align_self": null,
      "border": null,
      "bottom": null,
      "display": null,
      "flex": null,
      "flex_flow": null,
      "grid_area": null,
      "grid_auto_columns": null,
      "grid_auto_flow": null,
      "grid_auto_rows": null,
      "grid_column": null,
      "grid_gap": null,
      "grid_row": null,
      "grid_template_areas": null,
      "grid_template_columns": null,
      "grid_template_rows": null,
      "height": null,
      "justify_content": null,
      "justify_items": null,
      "left": null,
      "margin": null,
      "max_height": null,
      "max_width": null,
      "min_height": null,
      "min_width": null,
      "object_fit": null,
      "object_position": null,
      "order": null,
      "overflow": null,
      "overflow_x": null,
      "overflow_y": null,
      "padding": null,
      "right": null,
      "top": null,
      "visibility": null,
      "width": null
     }
    },
    "a2641cea9eb24c5cbe0b7d4317d61e43": {
     "model_module": "@jupyter-widgets/controls",
     "model_module_version": "1.5.0",
     "model_name": "DescriptionStyleModel",
     "state": {
      "_model_module": "@jupyter-widgets/controls",
      "_model_module_version": "1.5.0",
      "_model_name": "DescriptionStyleModel",
      "_view_count": null,
      "_view_module": "@jupyter-widgets/base",
      "_view_module_version": "1.2.0",
      "_view_name": "StyleView",
      "description_width": ""
     }
    },
    "a67b0f5654944ee49439d2b2941b9c5a": {
     "model_module": "@jupyter-widgets/base",
     "model_module_version": "1.2.0",
     "model_name": "LayoutModel",
     "state": {
      "_model_module": "@jupyter-widgets/base",
      "_model_module_version": "1.2.0",
      "_model_name": "LayoutModel",
      "_view_count": null,
      "_view_module": "@jupyter-widgets/base",
      "_view_module_version": "1.2.0",
      "_view_name": "LayoutView",
      "align_content": null,
      "align_items": null,
      "align_self": null,
      "border": null,
      "bottom": null,
      "display": null,
      "flex": null,
      "flex_flow": null,
      "grid_area": null,
      "grid_auto_columns": null,
      "grid_auto_flow": null,
      "grid_auto_rows": null,
      "grid_column": null,
      "grid_gap": null,
      "grid_row": null,
      "grid_template_areas": null,
      "grid_template_columns": null,
      "grid_template_rows": null,
      "height": null,
      "justify_content": null,
      "justify_items": null,
      "left": null,
      "margin": null,
      "max_height": null,
      "max_width": null,
      "min_height": null,
      "min_width": null,
      "object_fit": null,
      "object_position": null,
      "order": null,
      "overflow": null,
      "overflow_x": null,
      "overflow_y": null,
      "padding": null,
      "right": null,
      "top": null,
      "visibility": null,
      "width": null
     }
    },
    "a7df1fbcf9d344cab991c43581152993": {
     "model_module": "@jupyter-widgets/controls",
     "model_module_version": "1.5.0",
     "model_name": "FloatProgressModel",
     "state": {
      "_dom_classes": [],
      "_model_module": "@jupyter-widgets/controls",
      "_model_module_version": "1.5.0",
      "_model_name": "FloatProgressModel",
      "_view_count": null,
      "_view_module": "@jupyter-widgets/controls",
      "_view_module_version": "1.5.0",
      "_view_name": "ProgressView",
      "bar_style": "",
      "description": "",
      "description_tooltip": null,
      "layout": "IPY_MODEL_dddaee535d4d4cf88a8c178a630eb1bc",
      "max": 1,
      "min": 0,
      "orientation": "horizontal",
      "style": "IPY_MODEL_0170b27c44494ab5a9a19b68e30bab82",
      "value": 1
     }
    },
    "a8f36b019c024a6ebe42e65affe30306": {
     "model_module": "@jupyter-widgets/controls",
     "model_module_version": "1.5.0",
     "model_name": "LabelModel",
     "state": {
      "_dom_classes": [],
      "_model_module": "@jupyter-widgets/controls",
      "_model_module_version": "1.5.0",
      "_model_name": "LabelModel",
      "_view_count": null,
      "_view_module": "@jupyter-widgets/controls",
      "_view_module_version": "1.5.0",
      "_view_name": "LabelView",
      "description": "",
      "description_tooltip": null,
      "layout": "IPY_MODEL_22a23819a76846aca15cd75a4c071bc4",
      "placeholder": "​",
      "style": "IPY_MODEL_eec62969b9ed4de5a6b5713c91d91700",
      "value": "0.021 MB of 0.021 MB uploaded\r"
     }
    },
    "aa07ee7d7a7c42439819475be18d19de": {
     "model_module": "@jupyter-widgets/base",
     "model_module_version": "1.2.0",
     "model_name": "LayoutModel",
     "state": {
      "_model_module": "@jupyter-widgets/base",
      "_model_module_version": "1.2.0",
      "_model_name": "LayoutModel",
      "_view_count": null,
      "_view_module": "@jupyter-widgets/base",
      "_view_module_version": "1.2.0",
      "_view_name": "LayoutView",
      "align_content": null,
      "align_items": null,
      "align_self": null,
      "border": null,
      "bottom": null,
      "display": null,
      "flex": null,
      "flex_flow": null,
      "grid_area": null,
      "grid_auto_columns": null,
      "grid_auto_flow": null,
      "grid_auto_rows": null,
      "grid_column": null,
      "grid_gap": null,
      "grid_row": null,
      "grid_template_areas": null,
      "grid_template_columns": null,
      "grid_template_rows": null,
      "height": null,
      "justify_content": null,
      "justify_items": null,
      "left": null,
      "margin": null,
      "max_height": null,
      "max_width": null,
      "min_height": null,
      "min_width": null,
      "object_fit": null,
      "object_position": null,
      "order": null,
      "overflow": null,
      "overflow_x": null,
      "overflow_y": null,
      "padding": null,
      "right": null,
      "top": null,
      "visibility": null,
      "width": null
     }
    },
    "acf696bb4f924e2fb011eb3fbe7b4880": {
     "model_module": "@jupyter-widgets/controls",
     "model_module_version": "1.5.0",
     "model_name": "ProgressStyleModel",
     "state": {
      "_model_module": "@jupyter-widgets/controls",
      "_model_module_version": "1.5.0",
      "_model_name": "ProgressStyleModel",
      "_view_count": null,
      "_view_module": "@jupyter-widgets/base",
      "_view_module_version": "1.2.0",
      "_view_name": "StyleView",
      "bar_color": null,
      "description_width": ""
     }
    },
    "b01b254169484e0d9eeae0bf69b69d6d": {
     "model_module": "@jupyter-widgets/controls",
     "model_module_version": "1.5.0",
     "model_name": "VBoxModel",
     "state": {
      "_dom_classes": [],
      "_model_module": "@jupyter-widgets/controls",
      "_model_module_version": "1.5.0",
      "_model_name": "VBoxModel",
      "_view_count": null,
      "_view_module": "@jupyter-widgets/controls",
      "_view_module_version": "1.5.0",
      "_view_name": "VBoxView",
      "box_style": "",
      "children": [
       "IPY_MODEL_444c2da8231842c5bbd5f8d19b23bb08",
       "IPY_MODEL_384b75694ef14d64b6828d337aeacb94"
      ],
      "layout": "IPY_MODEL_427f92b6c3cd4d9484da2cecb9707d34"
     }
    },
    "b09ff8b1d5fe4bf1b49957013d9c786b": {
     "model_module": "@jupyter-widgets/base",
     "model_module_version": "1.2.0",
     "model_name": "LayoutModel",
     "state": {
      "_model_module": "@jupyter-widgets/base",
      "_model_module_version": "1.2.0",
      "_model_name": "LayoutModel",
      "_view_count": null,
      "_view_module": "@jupyter-widgets/base",
      "_view_module_version": "1.2.0",
      "_view_name": "LayoutView",
      "align_content": null,
      "align_items": null,
      "align_self": null,
      "border": null,
      "bottom": null,
      "display": null,
      "flex": null,
      "flex_flow": null,
      "grid_area": null,
      "grid_auto_columns": null,
      "grid_auto_flow": null,
      "grid_auto_rows": null,
      "grid_column": null,
      "grid_gap": null,
      "grid_row": null,
      "grid_template_areas": null,
      "grid_template_columns": null,
      "grid_template_rows": null,
      "height": null,
      "justify_content": null,
      "justify_items": null,
      "left": null,
      "margin": null,
      "max_height": null,
      "max_width": null,
      "min_height": null,
      "min_width": null,
      "object_fit": null,
      "object_position": null,
      "order": null,
      "overflow": null,
      "overflow_x": null,
      "overflow_y": null,
      "padding": null,
      "right": null,
      "top": null,
      "visibility": null,
      "width": null
     }
    },
    "b0d39b6a73c342a7a3dc00d79fba5c36": {
     "model_module": "@jupyter-widgets/controls",
     "model_module_version": "1.5.0",
     "model_name": "ProgressStyleModel",
     "state": {
      "_model_module": "@jupyter-widgets/controls",
      "_model_module_version": "1.5.0",
      "_model_name": "ProgressStyleModel",
      "_view_count": null,
      "_view_module": "@jupyter-widgets/base",
      "_view_module_version": "1.2.0",
      "_view_name": "StyleView",
      "bar_color": null,
      "description_width": ""
     }
    },
    "b14f64c0935d4b14963260c7d1ff66ea": {
     "model_module": "@jupyter-widgets/controls",
     "model_module_version": "1.5.0",
     "model_name": "DescriptionStyleModel",
     "state": {
      "_model_module": "@jupyter-widgets/controls",
      "_model_module_version": "1.5.0",
      "_model_name": "DescriptionStyleModel",
      "_view_count": null,
      "_view_module": "@jupyter-widgets/base",
      "_view_module_version": "1.2.0",
      "_view_name": "StyleView",
      "description_width": ""
     }
    },
    "b3b5577285a34b2181b88bd0fa74476e": {
     "model_module": "@jupyter-widgets/controls",
     "model_module_version": "1.5.0",
     "model_name": "DescriptionStyleModel",
     "state": {
      "_model_module": "@jupyter-widgets/controls",
      "_model_module_version": "1.5.0",
      "_model_name": "DescriptionStyleModel",
      "_view_count": null,
      "_view_module": "@jupyter-widgets/base",
      "_view_module_version": "1.2.0",
      "_view_name": "StyleView",
      "description_width": ""
     }
    },
    "b4b8ff411d444d0699690711c94937f9": {
     "model_module": "@jupyter-widgets/controls",
     "model_module_version": "1.5.0",
     "model_name": "VBoxModel",
     "state": {
      "_dom_classes": [],
      "_model_module": "@jupyter-widgets/controls",
      "_model_module_version": "1.5.0",
      "_model_name": "VBoxModel",
      "_view_count": null,
      "_view_module": "@jupyter-widgets/controls",
      "_view_module_version": "1.5.0",
      "_view_name": "VBoxView",
      "box_style": "",
      "children": [
       "IPY_MODEL_a8f36b019c024a6ebe42e65affe30306",
       "IPY_MODEL_b6809da7f6514cd39ca1a19d77bfc32e"
      ],
      "layout": "IPY_MODEL_70e2971b948540b9b33025f1137b5fde"
     }
    },
    "b5055ec66dae4be589872ad21487121e": {
     "model_module": "@jupyter-widgets/controls",
     "model_module_version": "1.5.0",
     "model_name": "DescriptionStyleModel",
     "state": {
      "_model_module": "@jupyter-widgets/controls",
      "_model_module_version": "1.5.0",
      "_model_name": "DescriptionStyleModel",
      "_view_count": null,
      "_view_module": "@jupyter-widgets/base",
      "_view_module_version": "1.2.0",
      "_view_name": "StyleView",
      "description_width": ""
     }
    },
    "b57bbc15bf7d4cb9aba2ae5cda8ede64": {
     "model_module": "@jupyter-widgets/base",
     "model_module_version": "1.2.0",
     "model_name": "LayoutModel",
     "state": {
      "_model_module": "@jupyter-widgets/base",
      "_model_module_version": "1.2.0",
      "_model_name": "LayoutModel",
      "_view_count": null,
      "_view_module": "@jupyter-widgets/base",
      "_view_module_version": "1.2.0",
      "_view_name": "LayoutView",
      "align_content": null,
      "align_items": null,
      "align_self": null,
      "border": null,
      "bottom": null,
      "display": null,
      "flex": null,
      "flex_flow": null,
      "grid_area": null,
      "grid_auto_columns": null,
      "grid_auto_flow": null,
      "grid_auto_rows": null,
      "grid_column": null,
      "grid_gap": null,
      "grid_row": null,
      "grid_template_areas": null,
      "grid_template_columns": null,
      "grid_template_rows": null,
      "height": null,
      "justify_content": null,
      "justify_items": null,
      "left": null,
      "margin": null,
      "max_height": null,
      "max_width": null,
      "min_height": null,
      "min_width": null,
      "object_fit": null,
      "object_position": null,
      "order": null,
      "overflow": null,
      "overflow_x": null,
      "overflow_y": null,
      "padding": null,
      "right": null,
      "top": null,
      "visibility": null,
      "width": null
     }
    },
    "b59f1c1aeafc43c0917f22836cf9b968": {
     "model_module": "@jupyter-widgets/controls",
     "model_module_version": "1.5.0",
     "model_name": "DescriptionStyleModel",
     "state": {
      "_model_module": "@jupyter-widgets/controls",
      "_model_module_version": "1.5.0",
      "_model_name": "DescriptionStyleModel",
      "_view_count": null,
      "_view_module": "@jupyter-widgets/base",
      "_view_module_version": "1.2.0",
      "_view_name": "StyleView",
      "description_width": ""
     }
    },
    "b66e8b75ae8c4dcd974435f10c7fbb1f": {
     "model_module": "@jupyter-widgets/controls",
     "model_module_version": "1.5.0",
     "model_name": "FloatProgressModel",
     "state": {
      "_dom_classes": [],
      "_model_module": "@jupyter-widgets/controls",
      "_model_module_version": "1.5.0",
      "_model_name": "FloatProgressModel",
      "_view_count": null,
      "_view_module": "@jupyter-widgets/controls",
      "_view_module_version": "1.5.0",
      "_view_name": "ProgressView",
      "bar_style": "success",
      "description": "",
      "description_tooltip": null,
      "layout": "IPY_MODEL_f7cd35fb2b1d4d88b3887ea2ce291f24",
      "max": 25,
      "min": 0,
      "orientation": "horizontal",
      "style": "IPY_MODEL_81f268e347dd4e5f8affc9a4b033fc76",
      "value": 25
     }
    },
    "b6809da7f6514cd39ca1a19d77bfc32e": {
     "model_module": "@jupyter-widgets/controls",
     "model_module_version": "1.5.0",
     "model_name": "FloatProgressModel",
     "state": {
      "_dom_classes": [],
      "_model_module": "@jupyter-widgets/controls",
      "_model_module_version": "1.5.0",
      "_model_name": "FloatProgressModel",
      "_view_count": null,
      "_view_module": "@jupyter-widgets/controls",
      "_view_module_version": "1.5.0",
      "_view_name": "ProgressView",
      "bar_style": "",
      "description": "",
      "description_tooltip": null,
      "layout": "IPY_MODEL_74391656a0a544f0a6006fa434a3e592",
      "max": 1,
      "min": 0,
      "orientation": "horizontal",
      "style": "IPY_MODEL_85fc74b0d64d4561814f0cf3fd6076f4",
      "value": 1
     }
    },
    "b7691fde57ec42099883fed6ca2cbe0d": {
     "model_module": "@jupyter-widgets/controls",
     "model_module_version": "1.5.0",
     "model_name": "ProgressStyleModel",
     "state": {
      "_model_module": "@jupyter-widgets/controls",
      "_model_module_version": "1.5.0",
      "_model_name": "ProgressStyleModel",
      "_view_count": null,
      "_view_module": "@jupyter-widgets/base",
      "_view_module_version": "1.2.0",
      "_view_name": "StyleView",
      "bar_color": null,
      "description_width": ""
     }
    },
    "b87f7ec3a70f4ef2a6008531c42d2a31": {
     "model_module": "@jupyter-widgets/base",
     "model_module_version": "1.2.0",
     "model_name": "LayoutModel",
     "state": {
      "_model_module": "@jupyter-widgets/base",
      "_model_module_version": "1.2.0",
      "_model_name": "LayoutModel",
      "_view_count": null,
      "_view_module": "@jupyter-widgets/base",
      "_view_module_version": "1.2.0",
      "_view_name": "LayoutView",
      "align_content": null,
      "align_items": null,
      "align_self": null,
      "border": null,
      "bottom": null,
      "display": null,
      "flex": null,
      "flex_flow": null,
      "grid_area": null,
      "grid_auto_columns": null,
      "grid_auto_flow": null,
      "grid_auto_rows": null,
      "grid_column": null,
      "grid_gap": null,
      "grid_row": null,
      "grid_template_areas": null,
      "grid_template_columns": null,
      "grid_template_rows": null,
      "height": null,
      "justify_content": null,
      "justify_items": null,
      "left": null,
      "margin": null,
      "max_height": null,
      "max_width": null,
      "min_height": null,
      "min_width": null,
      "object_fit": null,
      "object_position": null,
      "order": null,
      "overflow": null,
      "overflow_x": null,
      "overflow_y": null,
      "padding": null,
      "right": null,
      "top": null,
      "visibility": null,
      "width": null
     }
    },
    "b9694b377ad84a3e86429d1a6129d8e5": {
     "model_module": "@jupyter-widgets/base",
     "model_module_version": "1.2.0",
     "model_name": "LayoutModel",
     "state": {
      "_model_module": "@jupyter-widgets/base",
      "_model_module_version": "1.2.0",
      "_model_name": "LayoutModel",
      "_view_count": null,
      "_view_module": "@jupyter-widgets/base",
      "_view_module_version": "1.2.0",
      "_view_name": "LayoutView",
      "align_content": null,
      "align_items": null,
      "align_self": null,
      "border": null,
      "bottom": null,
      "display": null,
      "flex": null,
      "flex_flow": null,
      "grid_area": null,
      "grid_auto_columns": null,
      "grid_auto_flow": null,
      "grid_auto_rows": null,
      "grid_column": null,
      "grid_gap": null,
      "grid_row": null,
      "grid_template_areas": null,
      "grid_template_columns": null,
      "grid_template_rows": null,
      "height": null,
      "justify_content": null,
      "justify_items": null,
      "left": null,
      "margin": null,
      "max_height": null,
      "max_width": null,
      "min_height": null,
      "min_width": null,
      "object_fit": null,
      "object_position": null,
      "order": null,
      "overflow": null,
      "overflow_x": null,
      "overflow_y": null,
      "padding": null,
      "right": null,
      "top": null,
      "visibility": null,
      "width": null
     }
    },
    "bce1a3ae3f364e3e8192d47729215907": {
     "model_module": "@jupyter-widgets/base",
     "model_module_version": "1.2.0",
     "model_name": "LayoutModel",
     "state": {
      "_model_module": "@jupyter-widgets/base",
      "_model_module_version": "1.2.0",
      "_model_name": "LayoutModel",
      "_view_count": null,
      "_view_module": "@jupyter-widgets/base",
      "_view_module_version": "1.2.0",
      "_view_name": "LayoutView",
      "align_content": null,
      "align_items": null,
      "align_self": null,
      "border": null,
      "bottom": null,
      "display": null,
      "flex": null,
      "flex_flow": null,
      "grid_area": null,
      "grid_auto_columns": null,
      "grid_auto_flow": null,
      "grid_auto_rows": null,
      "grid_column": null,
      "grid_gap": null,
      "grid_row": null,
      "grid_template_areas": null,
      "grid_template_columns": null,
      "grid_template_rows": null,
      "height": null,
      "justify_content": null,
      "justify_items": null,
      "left": null,
      "margin": null,
      "max_height": null,
      "max_width": null,
      "min_height": null,
      "min_width": null,
      "object_fit": null,
      "object_position": null,
      "order": null,
      "overflow": null,
      "overflow_x": null,
      "overflow_y": null,
      "padding": null,
      "right": null,
      "top": null,
      "visibility": null,
      "width": null
     }
    },
    "bd23c6fdacb84230b31f20ac69c41187": {
     "model_module": "@jupyter-widgets/base",
     "model_module_version": "1.2.0",
     "model_name": "LayoutModel",
     "state": {
      "_model_module": "@jupyter-widgets/base",
      "_model_module_version": "1.2.0",
      "_model_name": "LayoutModel",
      "_view_count": null,
      "_view_module": "@jupyter-widgets/base",
      "_view_module_version": "1.2.0",
      "_view_name": "LayoutView",
      "align_content": null,
      "align_items": null,
      "align_self": null,
      "border": null,
      "bottom": null,
      "display": null,
      "flex": null,
      "flex_flow": null,
      "grid_area": null,
      "grid_auto_columns": null,
      "grid_auto_flow": null,
      "grid_auto_rows": null,
      "grid_column": null,
      "grid_gap": null,
      "grid_row": null,
      "grid_template_areas": null,
      "grid_template_columns": null,
      "grid_template_rows": null,
      "height": null,
      "justify_content": null,
      "justify_items": null,
      "left": null,
      "margin": null,
      "max_height": null,
      "max_width": null,
      "min_height": null,
      "min_width": null,
      "object_fit": null,
      "object_position": null,
      "order": null,
      "overflow": null,
      "overflow_x": null,
      "overflow_y": null,
      "padding": null,
      "right": null,
      "top": null,
      "visibility": null,
      "width": null
     }
    },
    "bd3f0ce58057437ea5d278fd575fb854": {
     "model_module": "@jupyter-widgets/base",
     "model_module_version": "1.2.0",
     "model_name": "LayoutModel",
     "state": {
      "_model_module": "@jupyter-widgets/base",
      "_model_module_version": "1.2.0",
      "_model_name": "LayoutModel",
      "_view_count": null,
      "_view_module": "@jupyter-widgets/base",
      "_view_module_version": "1.2.0",
      "_view_name": "LayoutView",
      "align_content": null,
      "align_items": null,
      "align_self": null,
      "border": null,
      "bottom": null,
      "display": null,
      "flex": null,
      "flex_flow": null,
      "grid_area": null,
      "grid_auto_columns": null,
      "grid_auto_flow": null,
      "grid_auto_rows": null,
      "grid_column": null,
      "grid_gap": null,
      "grid_row": null,
      "grid_template_areas": null,
      "grid_template_columns": null,
      "grid_template_rows": null,
      "height": null,
      "justify_content": null,
      "justify_items": null,
      "left": null,
      "margin": null,
      "max_height": null,
      "max_width": null,
      "min_height": null,
      "min_width": null,
      "object_fit": null,
      "object_position": null,
      "order": null,
      "overflow": null,
      "overflow_x": null,
      "overflow_y": null,
      "padding": null,
      "right": null,
      "top": null,
      "visibility": null,
      "width": null
     }
    },
    "bdf0cc007879446a9e75c050b6608936": {
     "model_module": "@jupyter-widgets/controls",
     "model_module_version": "1.5.0",
     "model_name": "DescriptionStyleModel",
     "state": {
      "_model_module": "@jupyter-widgets/controls",
      "_model_module_version": "1.5.0",
      "_model_name": "DescriptionStyleModel",
      "_view_count": null,
      "_view_module": "@jupyter-widgets/base",
      "_view_module_version": "1.2.0",
      "_view_name": "StyleView",
      "description_width": ""
     }
    },
    "bfe37997a9e24c7d9835f2e690339b00": {
     "model_module": "@jupyter-widgets/controls",
     "model_module_version": "1.5.0",
     "model_name": "FloatProgressModel",
     "state": {
      "_dom_classes": [],
      "_model_module": "@jupyter-widgets/controls",
      "_model_module_version": "1.5.0",
      "_model_name": "FloatProgressModel",
      "_view_count": null,
      "_view_module": "@jupyter-widgets/controls",
      "_view_module_version": "1.5.0",
      "_view_name": "ProgressView",
      "bar_style": "success",
      "description": "",
      "description_tooltip": null,
      "layout": "IPY_MODEL_1036ea8ad790447aa0fd9b76532e9d3a",
      "max": 331055963,
      "min": 0,
      "orientation": "horizontal",
      "style": "IPY_MODEL_36dba495643a4952be8bd66bd9865577",
      "value": 331055963
     }
    },
    "c214d6f0d9bd4c9491b6c73392a630b5": {
     "model_module": "@jupyter-widgets/controls",
     "model_module_version": "1.5.0",
     "model_name": "DescriptionStyleModel",
     "state": {
      "_model_module": "@jupyter-widgets/controls",
      "_model_module_version": "1.5.0",
      "_model_name": "DescriptionStyleModel",
      "_view_count": null,
      "_view_module": "@jupyter-widgets/base",
      "_view_module_version": "1.2.0",
      "_view_name": "StyleView",
      "description_width": ""
     }
    },
    "c22cf76030fa4378aa7174f6a63bec7c": {
     "model_module": "@jupyter-widgets/base",
     "model_module_version": "1.2.0",
     "model_name": "LayoutModel",
     "state": {
      "_model_module": "@jupyter-widgets/base",
      "_model_module_version": "1.2.0",
      "_model_name": "LayoutModel",
      "_view_count": null,
      "_view_module": "@jupyter-widgets/base",
      "_view_module_version": "1.2.0",
      "_view_name": "LayoutView",
      "align_content": null,
      "align_items": null,
      "align_self": null,
      "border": null,
      "bottom": null,
      "display": null,
      "flex": null,
      "flex_flow": null,
      "grid_area": null,
      "grid_auto_columns": null,
      "grid_auto_flow": null,
      "grid_auto_rows": null,
      "grid_column": null,
      "grid_gap": null,
      "grid_row": null,
      "grid_template_areas": null,
      "grid_template_columns": null,
      "grid_template_rows": null,
      "height": null,
      "justify_content": null,
      "justify_items": null,
      "left": null,
      "margin": null,
      "max_height": null,
      "max_width": null,
      "min_height": null,
      "min_width": null,
      "object_fit": null,
      "object_position": null,
      "order": null,
      "overflow": null,
      "overflow_x": null,
      "overflow_y": null,
      "padding": null,
      "right": null,
      "top": null,
      "visibility": null,
      "width": null
     }
    },
    "c265499dd52b4cd18fb9fdbdff74b6a4": {
     "model_module": "@jupyter-widgets/base",
     "model_module_version": "1.2.0",
     "model_name": "LayoutModel",
     "state": {
      "_model_module": "@jupyter-widgets/base",
      "_model_module_version": "1.2.0",
      "_model_name": "LayoutModel",
      "_view_count": null,
      "_view_module": "@jupyter-widgets/base",
      "_view_module_version": "1.2.0",
      "_view_name": "LayoutView",
      "align_content": null,
      "align_items": null,
      "align_self": null,
      "border": null,
      "bottom": null,
      "display": null,
      "flex": null,
      "flex_flow": null,
      "grid_area": null,
      "grid_auto_columns": null,
      "grid_auto_flow": null,
      "grid_auto_rows": null,
      "grid_column": null,
      "grid_gap": null,
      "grid_row": null,
      "grid_template_areas": null,
      "grid_template_columns": null,
      "grid_template_rows": null,
      "height": null,
      "justify_content": null,
      "justify_items": null,
      "left": null,
      "margin": null,
      "max_height": null,
      "max_width": null,
      "min_height": null,
      "min_width": null,
      "object_fit": null,
      "object_position": null,
      "order": null,
      "overflow": null,
      "overflow_x": null,
      "overflow_y": null,
      "padding": null,
      "right": null,
      "top": null,
      "visibility": null,
      "width": null
     }
    },
    "c28167ca3cdc4732bf31550ae23c08fe": {
     "model_module": "@jupyter-widgets/controls",
     "model_module_version": "1.5.0",
     "model_name": "HTMLModel",
     "state": {
      "_dom_classes": [],
      "_model_module": "@jupyter-widgets/controls",
      "_model_module_version": "1.5.0",
      "_model_name": "HTMLModel",
      "_view_count": null,
      "_view_module": "@jupyter-widgets/controls",
      "_view_module_version": "1.5.0",
      "_view_name": "HTMLView",
      "description": "",
      "description_tooltip": null,
      "layout": "IPY_MODEL_9f68789c7e984542bfa4de04235ebc5d",
      "placeholder": "​",
      "style": "IPY_MODEL_87cd1cfee9274fa5b44a7cb4ab2c8da2",
      "value": " 456k/456k [00:00&lt;00:00, 3.61MB/s]"
     }
    },
    "c29366d3ad6341f4869bd22e256c4a6e": {
     "model_module": "@jupyter-widgets/base",
     "model_module_version": "1.2.0",
     "model_name": "LayoutModel",
     "state": {
      "_model_module": "@jupyter-widgets/base",
      "_model_module_version": "1.2.0",
      "_model_name": "LayoutModel",
      "_view_count": null,
      "_view_module": "@jupyter-widgets/base",
      "_view_module_version": "1.2.0",
      "_view_name": "LayoutView",
      "align_content": null,
      "align_items": null,
      "align_self": null,
      "border": null,
      "bottom": null,
      "display": null,
      "flex": null,
      "flex_flow": null,
      "grid_area": null,
      "grid_auto_columns": null,
      "grid_auto_flow": null,
      "grid_auto_rows": null,
      "grid_column": null,
      "grid_gap": null,
      "grid_row": null,
      "grid_template_areas": null,
      "grid_template_columns": null,
      "grid_template_rows": null,
      "height": null,
      "justify_content": null,
      "justify_items": null,
      "left": null,
      "margin": null,
      "max_height": null,
      "max_width": null,
      "min_height": null,
      "min_width": null,
      "object_fit": null,
      "object_position": null,
      "order": null,
      "overflow": null,
      "overflow_x": null,
      "overflow_y": null,
      "padding": null,
      "right": null,
      "top": null,
      "visibility": null,
      "width": null
     }
    },
    "c332f4cda8824098b9515cf01a2ef244": {
     "model_module": "@jupyter-widgets/controls",
     "model_module_version": "1.5.0",
     "model_name": "DescriptionStyleModel",
     "state": {
      "_model_module": "@jupyter-widgets/controls",
      "_model_module_version": "1.5.0",
      "_model_name": "DescriptionStyleModel",
      "_view_count": null,
      "_view_module": "@jupyter-widgets/base",
      "_view_module_version": "1.2.0",
      "_view_name": "StyleView",
      "description_width": ""
     }
    },
    "c45920f81f7f49329d758a8ca8779844": {
     "model_module": "@jupyter-widgets/controls",
     "model_module_version": "1.5.0",
     "model_name": "HTMLModel",
     "state": {
      "_dom_classes": [],
      "_model_module": "@jupyter-widgets/controls",
      "_model_module_version": "1.5.0",
      "_model_name": "HTMLModel",
      "_view_count": null,
      "_view_module": "@jupyter-widgets/controls",
      "_view_module_version": "1.5.0",
      "_view_name": "HTMLView",
      "description": "",
      "description_tooltip": null,
      "layout": "IPY_MODEL_12c670c5c8ce4720b62d02fcb4f3f578",
      "placeholder": "​",
      "style": "IPY_MODEL_4b4f20892ee94fd79a1b7aa52ad2d689",
      "value": "vocab.json: 100%"
     }
    },
    "c4979c65200b40858fb2cbfe480584b0": {
     "model_module": "@jupyter-widgets/controls",
     "model_module_version": "1.5.0",
     "model_name": "HTMLModel",
     "state": {
      "_dom_classes": [],
      "_model_module": "@jupyter-widgets/controls",
      "_model_module_version": "1.5.0",
      "_model_name": "HTMLModel",
      "_view_count": null,
      "_view_module": "@jupyter-widgets/controls",
      "_view_module_version": "1.5.0",
      "_view_name": "HTMLView",
      "description": "",
      "description_tooltip": null,
      "layout": "IPY_MODEL_d433475925064144bc91497b01aa843a",
      "placeholder": "​",
      "style": "IPY_MODEL_fe2bf935cc3742f1a04d8f11d47b2334",
      "value": "config.json: 100%"
     }
    },
    "c504affa69ab4c0e8f8a88fe687beeef": {
     "model_module": "@jupyter-widgets/controls",
     "model_module_version": "1.5.0",
     "model_name": "HTMLModel",
     "state": {
      "_dom_classes": [],
      "_model_module": "@jupyter-widgets/controls",
      "_model_module_version": "1.5.0",
      "_model_name": "HTMLModel",
      "_view_count": null,
      "_view_module": "@jupyter-widgets/controls",
      "_view_module_version": "1.5.0",
      "_view_name": "HTMLView",
      "description": "",
      "description_tooltip": null,
      "layout": "IPY_MODEL_9748f2564e4744bc9b5d84b1a364ce39",
      "placeholder": "​",
      "style": "IPY_MODEL_3c30c000ce99404ea479d6ed38f8df3e",
      "value": "config.json: 100%"
     }
    },
    "c51f3a3d7a64405cb7f187299fc847aa": {
     "model_module": "@jupyter-widgets/base",
     "model_module_version": "1.2.0",
     "model_name": "LayoutModel",
     "state": {
      "_model_module": "@jupyter-widgets/base",
      "_model_module_version": "1.2.0",
      "_model_name": "LayoutModel",
      "_view_count": null,
      "_view_module": "@jupyter-widgets/base",
      "_view_module_version": "1.2.0",
      "_view_name": "LayoutView",
      "align_content": null,
      "align_items": null,
      "align_self": null,
      "border": null,
      "bottom": null,
      "display": null,
      "flex": null,
      "flex_flow": null,
      "grid_area": null,
      "grid_auto_columns": null,
      "grid_auto_flow": null,
      "grid_auto_rows": null,
      "grid_column": null,
      "grid_gap": null,
      "grid_row": null,
      "grid_template_areas": null,
      "grid_template_columns": null,
      "grid_template_rows": null,
      "height": null,
      "justify_content": null,
      "justify_items": null,
      "left": null,
      "margin": null,
      "max_height": null,
      "max_width": null,
      "min_height": null,
      "min_width": null,
      "object_fit": null,
      "object_position": null,
      "order": null,
      "overflow": null,
      "overflow_x": null,
      "overflow_y": null,
      "padding": null,
      "right": null,
      "top": null,
      "visibility": null,
      "width": null
     }
    },
    "c633c39e3f1b490d824a431b503ed146": {
     "model_module": "@jupyter-widgets/controls",
     "model_module_version": "1.5.0",
     "model_name": "HTMLModel",
     "state": {
      "_dom_classes": [],
      "_model_module": "@jupyter-widgets/controls",
      "_model_module_version": "1.5.0",
      "_model_name": "HTMLModel",
      "_view_count": null,
      "_view_module": "@jupyter-widgets/controls",
      "_view_module_version": "1.5.0",
      "_view_name": "HTMLView",
      "description": "",
      "description_tooltip": null,
      "layout": "IPY_MODEL_b09ff8b1d5fe4bf1b49957013d9c786b",
      "placeholder": "​",
      "style": "IPY_MODEL_4858a344d1784111b3a0b13e72f548a6",
      "value": " 456k/456k [00:00&lt;00:00, 24.5MB/s]"
     }
    },
    "c63977feb47c453ab261189cc5d7a38f": {
     "model_module": "@jupyter-widgets/controls",
     "model_module_version": "1.5.0",
     "model_name": "FloatProgressModel",
     "state": {
      "_dom_classes": [],
      "_model_module": "@jupyter-widgets/controls",
      "_model_module_version": "1.5.0",
      "_model_name": "FloatProgressModel",
      "_view_count": null,
      "_view_module": "@jupyter-widgets/controls",
      "_view_module_version": "1.5.0",
      "_view_name": "ProgressView",
      "bar_style": "",
      "description": "",
      "description_tooltip": null,
      "layout": "IPY_MODEL_3fee9b26b058484989bad233a1c9f8bf",
      "max": 1,
      "min": 0,
      "orientation": "horizontal",
      "style": "IPY_MODEL_9a89f4390e7942f493e58ec8cc1fb302",
      "value": 1
     }
    },
    "c948a7d887c44e44bb2830646cb7ea44": {
     "model_module": "@jupyter-widgets/base",
     "model_module_version": "1.2.0",
     "model_name": "LayoutModel",
     "state": {
      "_model_module": "@jupyter-widgets/base",
      "_model_module_version": "1.2.0",
      "_model_name": "LayoutModel",
      "_view_count": null,
      "_view_module": "@jupyter-widgets/base",
      "_view_module_version": "1.2.0",
      "_view_name": "LayoutView",
      "align_content": null,
      "align_items": null,
      "align_self": null,
      "border": null,
      "bottom": null,
      "display": null,
      "flex": null,
      "flex_flow": null,
      "grid_area": null,
      "grid_auto_columns": null,
      "grid_auto_flow": null,
      "grid_auto_rows": null,
      "grid_column": null,
      "grid_gap": null,
      "grid_row": null,
      "grid_template_areas": null,
      "grid_template_columns": null,
      "grid_template_rows": null,
      "height": null,
      "justify_content": null,
      "justify_items": null,
      "left": null,
      "margin": null,
      "max_height": null,
      "max_width": null,
      "min_height": null,
      "min_width": null,
      "object_fit": null,
      "object_position": null,
      "order": null,
      "overflow": null,
      "overflow_x": null,
      "overflow_y": null,
      "padding": null,
      "right": null,
      "top": null,
      "visibility": null,
      "width": null
     }
    },
    "cadc5a18cbf24a8b9bba2de252b91978": {
     "model_module": "@jupyter-widgets/base",
     "model_module_version": "1.2.0",
     "model_name": "LayoutModel",
     "state": {
      "_model_module": "@jupyter-widgets/base",
      "_model_module_version": "1.2.0",
      "_model_name": "LayoutModel",
      "_view_count": null,
      "_view_module": "@jupyter-widgets/base",
      "_view_module_version": "1.2.0",
      "_view_name": "LayoutView",
      "align_content": null,
      "align_items": null,
      "align_self": null,
      "border": null,
      "bottom": null,
      "display": null,
      "flex": null,
      "flex_flow": null,
      "grid_area": null,
      "grid_auto_columns": null,
      "grid_auto_flow": null,
      "grid_auto_rows": null,
      "grid_column": null,
      "grid_gap": null,
      "grid_row": null,
      "grid_template_areas": null,
      "grid_template_columns": null,
      "grid_template_rows": null,
      "height": null,
      "justify_content": null,
      "justify_items": null,
      "left": null,
      "margin": null,
      "max_height": null,
      "max_width": null,
      "min_height": null,
      "min_width": null,
      "object_fit": null,
      "object_position": null,
      "order": null,
      "overflow": null,
      "overflow_x": null,
      "overflow_y": null,
      "padding": null,
      "right": null,
      "top": null,
      "visibility": null,
      "width": null
     }
    },
    "cbed80d5dd0642ecb46065c69db0eee9": {
     "model_module": "@jupyter-widgets/controls",
     "model_module_version": "1.5.0",
     "model_name": "FloatProgressModel",
     "state": {
      "_dom_classes": [],
      "_model_module": "@jupyter-widgets/controls",
      "_model_module_version": "1.5.0",
      "_model_name": "FloatProgressModel",
      "_view_count": null,
      "_view_module": "@jupyter-widgets/controls",
      "_view_module_version": "1.5.0",
      "_view_name": "ProgressView",
      "bar_style": "success",
      "description": "",
      "description_tooltip": null,
      "layout": "IPY_MODEL_8a1a38cae69541ee83da5d6ecb4e9ee5",
      "max": 481,
      "min": 0,
      "orientation": "horizontal",
      "style": "IPY_MODEL_b0d39b6a73c342a7a3dc00d79fba5c36",
      "value": 481
     }
    },
    "ccb0b0f321a2423ba3257623f79ff093": {
     "model_module": "@jupyter-widgets/base",
     "model_module_version": "1.2.0",
     "model_name": "LayoutModel",
     "state": {
      "_model_module": "@jupyter-widgets/base",
      "_model_module_version": "1.2.0",
      "_model_name": "LayoutModel",
      "_view_count": null,
      "_view_module": "@jupyter-widgets/base",
      "_view_module_version": "1.2.0",
      "_view_name": "LayoutView",
      "align_content": null,
      "align_items": null,
      "align_self": null,
      "border": null,
      "bottom": null,
      "display": null,
      "flex": null,
      "flex_flow": null,
      "grid_area": null,
      "grid_auto_columns": null,
      "grid_auto_flow": null,
      "grid_auto_rows": null,
      "grid_column": null,
      "grid_gap": null,
      "grid_row": null,
      "grid_template_areas": null,
      "grid_template_columns": null,
      "grid_template_rows": null,
      "height": null,
      "justify_content": null,
      "justify_items": null,
      "left": null,
      "margin": null,
      "max_height": null,
      "max_width": null,
      "min_height": null,
      "min_width": null,
      "object_fit": null,
      "object_position": null,
      "order": null,
      "overflow": null,
      "overflow_x": null,
      "overflow_y": null,
      "padding": null,
      "right": null,
      "top": null,
      "visibility": null,
      "width": null
     }
    },
    "cd0fb6ca1b584b298591005b6128f8fc": {
     "model_module": "@jupyter-widgets/controls",
     "model_module_version": "1.5.0",
     "model_name": "FloatProgressModel",
     "state": {
      "_dom_classes": [],
      "_model_module": "@jupyter-widgets/controls",
      "_model_module_version": "1.5.0",
      "_model_name": "FloatProgressModel",
      "_view_count": null,
      "_view_module": "@jupyter-widgets/controls",
      "_view_module_version": "1.5.0",
      "_view_name": "ProgressView",
      "bar_style": "",
      "description": "",
      "description_tooltip": null,
      "layout": "IPY_MODEL_0f23fce569e14a2bae0905732dd83c6d",
      "max": 1,
      "min": 0,
      "orientation": "horizontal",
      "style": "IPY_MODEL_648ebdcc93fe4c0e83ba5d023204e7cc",
      "value": 1
     }
    },
    "d34b6983a2f64b56b0249e42226afb5f": {
     "model_module": "@jupyter-widgets/controls",
     "model_module_version": "1.5.0",
     "model_name": "HTMLModel",
     "state": {
      "_dom_classes": [],
      "_model_module": "@jupyter-widgets/controls",
      "_model_module_version": "1.5.0",
      "_model_name": "HTMLModel",
      "_view_count": null,
      "_view_module": "@jupyter-widgets/controls",
      "_view_module_version": "1.5.0",
      "_view_name": "HTMLView",
      "description": "",
      "description_tooltip": null,
      "layout": "IPY_MODEL_bd3f0ce58057437ea5d278fd575fb854",
      "placeholder": "​",
      "style": "IPY_MODEL_0bc7d8f5da4940f68ab45b210b9a576f",
      "value": " 481/481 [00:00&lt;00:00, 55.8kB/s]"
     }
    },
    "d433475925064144bc91497b01aa843a": {
     "model_module": "@jupyter-widgets/base",
     "model_module_version": "1.2.0",
     "model_name": "LayoutModel",
     "state": {
      "_model_module": "@jupyter-widgets/base",
      "_model_module_version": "1.2.0",
      "_model_name": "LayoutModel",
      "_view_count": null,
      "_view_module": "@jupyter-widgets/base",
      "_view_module_version": "1.2.0",
      "_view_name": "LayoutView",
      "align_content": null,
      "align_items": null,
      "align_self": null,
      "border": null,
      "bottom": null,
      "display": null,
      "flex": null,
      "flex_flow": null,
      "grid_area": null,
      "grid_auto_columns": null,
      "grid_auto_flow": null,
      "grid_auto_rows": null,
      "grid_column": null,
      "grid_gap": null,
      "grid_row": null,
      "grid_template_areas": null,
      "grid_template_columns": null,
      "grid_template_rows": null,
      "height": null,
      "justify_content": null,
      "justify_items": null,
      "left": null,
      "margin": null,
      "max_height": null,
      "max_width": null,
      "min_height": null,
      "min_width": null,
      "object_fit": null,
      "object_position": null,
      "order": null,
      "overflow": null,
      "overflow_x": null,
      "overflow_y": null,
      "padding": null,
      "right": null,
      "top": null,
      "visibility": null,
      "width": null
     }
    },
    "d4512541b1674262943daf862f20adb5": {
     "model_module": "@jupyter-widgets/base",
     "model_module_version": "1.2.0",
     "model_name": "LayoutModel",
     "state": {
      "_model_module": "@jupyter-widgets/base",
      "_model_module_version": "1.2.0",
      "_model_name": "LayoutModel",
      "_view_count": null,
      "_view_module": "@jupyter-widgets/base",
      "_view_module_version": "1.2.0",
      "_view_name": "LayoutView",
      "align_content": null,
      "align_items": null,
      "align_self": null,
      "border": null,
      "bottom": null,
      "display": null,
      "flex": null,
      "flex_flow": null,
      "grid_area": null,
      "grid_auto_columns": null,
      "grid_auto_flow": null,
      "grid_auto_rows": null,
      "grid_column": null,
      "grid_gap": null,
      "grid_row": null,
      "grid_template_areas": null,
      "grid_template_columns": null,
      "grid_template_rows": null,
      "height": null,
      "justify_content": null,
      "justify_items": null,
      "left": null,
      "margin": null,
      "max_height": null,
      "max_width": null,
      "min_height": null,
      "min_width": null,
      "object_fit": null,
      "object_position": null,
      "order": null,
      "overflow": null,
      "overflow_x": null,
      "overflow_y": null,
      "padding": null,
      "right": null,
      "top": null,
      "visibility": null,
      "width": null
     }
    },
    "d4dc8f7941344bf1b79ce04737cb1cc4": {
     "model_module": "@jupyter-widgets/controls",
     "model_module_version": "1.5.0",
     "model_name": "HBoxModel",
     "state": {
      "_dom_classes": [],
      "_model_module": "@jupyter-widgets/controls",
      "_model_module_version": "1.5.0",
      "_model_name": "HBoxModel",
      "_view_count": null,
      "_view_module": "@jupyter-widgets/controls",
      "_view_module_version": "1.5.0",
      "_view_name": "HBoxView",
      "box_style": "",
      "children": [
       "IPY_MODEL_c45920f81f7f49329d758a8ca8779844",
       "IPY_MODEL_917fe3280a3346b4958608d5204cc6e2",
       "IPY_MODEL_92de3350937b45ddbeb5501d60a82241"
      ],
      "layout": "IPY_MODEL_1271398475a34e7d97ac72c430f841cc"
     }
    },
    "d6e3e6dbfd634725a4c749e82f56de9e": {
     "model_module": "@jupyter-widgets/base",
     "model_module_version": "1.2.0",
     "model_name": "LayoutModel",
     "state": {
      "_model_module": "@jupyter-widgets/base",
      "_model_module_version": "1.2.0",
      "_model_name": "LayoutModel",
      "_view_count": null,
      "_view_module": "@jupyter-widgets/base",
      "_view_module_version": "1.2.0",
      "_view_name": "LayoutView",
      "align_content": null,
      "align_items": null,
      "align_self": null,
      "border": null,
      "bottom": null,
      "display": null,
      "flex": null,
      "flex_flow": null,
      "grid_area": null,
      "grid_auto_columns": null,
      "grid_auto_flow": null,
      "grid_auto_rows": null,
      "grid_column": null,
      "grid_gap": null,
      "grid_row": null,
      "grid_template_areas": null,
      "grid_template_columns": null,
      "grid_template_rows": null,
      "height": null,
      "justify_content": null,
      "justify_items": null,
      "left": null,
      "margin": null,
      "max_height": null,
      "max_width": null,
      "min_height": null,
      "min_width": null,
      "object_fit": null,
      "object_position": null,
      "order": null,
      "overflow": null,
      "overflow_x": null,
      "overflow_y": null,
      "padding": null,
      "right": null,
      "top": null,
      "visibility": null,
      "width": null
     }
    },
    "d7a74cb3861e46b98b96a5c8708d42a5": {
     "model_module": "@jupyter-widgets/controls",
     "model_module_version": "1.5.0",
     "model_name": "DescriptionStyleModel",
     "state": {
      "_model_module": "@jupyter-widgets/controls",
      "_model_module_version": "1.5.0",
      "_model_name": "DescriptionStyleModel",
      "_view_count": null,
      "_view_module": "@jupyter-widgets/base",
      "_view_module_version": "1.2.0",
      "_view_name": "StyleView",
      "description_width": ""
     }
    },
    "d9ae4b58b449472ebec177cda36435c4": {
     "model_module": "@jupyter-widgets/controls",
     "model_module_version": "1.5.0",
     "model_name": "FloatProgressModel",
     "state": {
      "_dom_classes": [],
      "_model_module": "@jupyter-widgets/controls",
      "_model_module_version": "1.5.0",
      "_model_name": "FloatProgressModel",
      "_view_count": null,
      "_view_module": "@jupyter-widgets/controls",
      "_view_module_version": "1.5.0",
      "_view_name": "ProgressView",
      "bar_style": "",
      "description": "",
      "description_tooltip": null,
      "layout": "IPY_MODEL_2d4fa4b730b349f38330f5aeab365b35",
      "max": 1,
      "min": 0,
      "orientation": "horizontal",
      "style": "IPY_MODEL_4986a4a05a0c4dbcba109c48b66fe3f2",
      "value": 1
     }
    },
    "db6c8c5c7e6e413980e8df10a0890fee": {
     "model_module": "@jupyter-widgets/base",
     "model_module_version": "1.2.0",
     "model_name": "LayoutModel",
     "state": {
      "_model_module": "@jupyter-widgets/base",
      "_model_module_version": "1.2.0",
      "_model_name": "LayoutModel",
      "_view_count": null,
      "_view_module": "@jupyter-widgets/base",
      "_view_module_version": "1.2.0",
      "_view_name": "LayoutView",
      "align_content": null,
      "align_items": null,
      "align_self": null,
      "border": null,
      "bottom": null,
      "display": null,
      "flex": null,
      "flex_flow": null,
      "grid_area": null,
      "grid_auto_columns": null,
      "grid_auto_flow": null,
      "grid_auto_rows": null,
      "grid_column": null,
      "grid_gap": null,
      "grid_row": null,
      "grid_template_areas": null,
      "grid_template_columns": null,
      "grid_template_rows": null,
      "height": null,
      "justify_content": null,
      "justify_items": null,
      "left": null,
      "margin": null,
      "max_height": null,
      "max_width": null,
      "min_height": null,
      "min_width": null,
      "object_fit": null,
      "object_position": null,
      "order": null,
      "overflow": null,
      "overflow_x": null,
      "overflow_y": null,
      "padding": null,
      "right": null,
      "top": null,
      "visibility": null,
      "width": null
     }
    },
    "db8bb7f4804f4b868a2ced488bd2b437": {
     "model_module": "@jupyter-widgets/controls",
     "model_module_version": "1.5.0",
     "model_name": "ProgressStyleModel",
     "state": {
      "_model_module": "@jupyter-widgets/controls",
      "_model_module_version": "1.5.0",
      "_model_name": "ProgressStyleModel",
      "_view_count": null,
      "_view_module": "@jupyter-widgets/base",
      "_view_module_version": "1.2.0",
      "_view_name": "StyleView",
      "bar_color": null,
      "description_width": ""
     }
    },
    "dbd14119486d4aa685c26e94cfb263fa": {
     "model_module": "@jupyter-widgets/base",
     "model_module_version": "1.2.0",
     "model_name": "LayoutModel",
     "state": {
      "_model_module": "@jupyter-widgets/base",
      "_model_module_version": "1.2.0",
      "_model_name": "LayoutModel",
      "_view_count": null,
      "_view_module": "@jupyter-widgets/base",
      "_view_module_version": "1.2.0",
      "_view_name": "LayoutView",
      "align_content": null,
      "align_items": null,
      "align_self": null,
      "border": null,
      "bottom": null,
      "display": null,
      "flex": null,
      "flex_flow": null,
      "grid_area": null,
      "grid_auto_columns": null,
      "grid_auto_flow": null,
      "grid_auto_rows": null,
      "grid_column": null,
      "grid_gap": null,
      "grid_row": null,
      "grid_template_areas": null,
      "grid_template_columns": null,
      "grid_template_rows": null,
      "height": null,
      "justify_content": null,
      "justify_items": null,
      "left": null,
      "margin": null,
      "max_height": null,
      "max_width": null,
      "min_height": null,
      "min_width": null,
      "object_fit": null,
      "object_position": null,
      "order": null,
      "overflow": null,
      "overflow_x": null,
      "overflow_y": null,
      "padding": null,
      "right": null,
      "top": null,
      "visibility": null,
      "width": null
     }
    },
    "dddaee535d4d4cf88a8c178a630eb1bc": {
     "model_module": "@jupyter-widgets/base",
     "model_module_version": "1.2.0",
     "model_name": "LayoutModel",
     "state": {
      "_model_module": "@jupyter-widgets/base",
      "_model_module_version": "1.2.0",
      "_model_name": "LayoutModel",
      "_view_count": null,
      "_view_module": "@jupyter-widgets/base",
      "_view_module_version": "1.2.0",
      "_view_name": "LayoutView",
      "align_content": null,
      "align_items": null,
      "align_self": null,
      "border": null,
      "bottom": null,
      "display": null,
      "flex": null,
      "flex_flow": null,
      "grid_area": null,
      "grid_auto_columns": null,
      "grid_auto_flow": null,
      "grid_auto_rows": null,
      "grid_column": null,
      "grid_gap": null,
      "grid_row": null,
      "grid_template_areas": null,
      "grid_template_columns": null,
      "grid_template_rows": null,
      "height": null,
      "justify_content": null,
      "justify_items": null,
      "left": null,
      "margin": null,
      "max_height": null,
      "max_width": null,
      "min_height": null,
      "min_width": null,
      "object_fit": null,
      "object_position": null,
      "order": null,
      "overflow": null,
      "overflow_x": null,
      "overflow_y": null,
      "padding": null,
      "right": null,
      "top": null,
      "visibility": null,
      "width": null
     }
    },
    "de582ad021a64e1e9ae2b9e0298885a0": {
     "model_module": "@jupyter-widgets/base",
     "model_module_version": "1.2.0",
     "model_name": "LayoutModel",
     "state": {
      "_model_module": "@jupyter-widgets/base",
      "_model_module_version": "1.2.0",
      "_model_name": "LayoutModel",
      "_view_count": null,
      "_view_module": "@jupyter-widgets/base",
      "_view_module_version": "1.2.0",
      "_view_name": "LayoutView",
      "align_content": null,
      "align_items": null,
      "align_self": null,
      "border": null,
      "bottom": null,
      "display": null,
      "flex": null,
      "flex_flow": null,
      "grid_area": null,
      "grid_auto_columns": null,
      "grid_auto_flow": null,
      "grid_auto_rows": null,
      "grid_column": null,
      "grid_gap": null,
      "grid_row": null,
      "grid_template_areas": null,
      "grid_template_columns": null,
      "grid_template_rows": null,
      "height": null,
      "justify_content": null,
      "justify_items": null,
      "left": null,
      "margin": null,
      "max_height": null,
      "max_width": null,
      "min_height": null,
      "min_width": null,
      "object_fit": null,
      "object_position": null,
      "order": null,
      "overflow": null,
      "overflow_x": null,
      "overflow_y": null,
      "padding": null,
      "right": null,
      "top": null,
      "visibility": null,
      "width": null
     }
    },
    "e32444f648974b9c88f002531afabba4": {
     "model_module": "@jupyter-widgets/controls",
     "model_module_version": "1.5.0",
     "model_name": "HBoxModel",
     "state": {
      "_dom_classes": [],
      "_model_module": "@jupyter-widgets/controls",
      "_model_module_version": "1.5.0",
      "_model_name": "HBoxModel",
      "_view_count": null,
      "_view_module": "@jupyter-widgets/controls",
      "_view_module_version": "1.5.0",
      "_view_name": "HBoxView",
      "box_style": "",
      "children": [
       "IPY_MODEL_c504affa69ab4c0e8f8a88fe687beeef",
       "IPY_MODEL_cbed80d5dd0642ecb46065c69db0eee9",
       "IPY_MODEL_d34b6983a2f64b56b0249e42226afb5f"
      ],
      "layout": "IPY_MODEL_db6c8c5c7e6e413980e8df10a0890fee"
     }
    },
    "eadec1a211d5420cb3205a312c02ae37": {
     "model_module": "@jupyter-widgets/base",
     "model_module_version": "1.2.0",
     "model_name": "LayoutModel",
     "state": {
      "_model_module": "@jupyter-widgets/base",
      "_model_module_version": "1.2.0",
      "_model_name": "LayoutModel",
      "_view_count": null,
      "_view_module": "@jupyter-widgets/base",
      "_view_module_version": "1.2.0",
      "_view_name": "LayoutView",
      "align_content": null,
      "align_items": null,
      "align_self": null,
      "border": null,
      "bottom": null,
      "display": null,
      "flex": null,
      "flex_flow": null,
      "grid_area": null,
      "grid_auto_columns": null,
      "grid_auto_flow": null,
      "grid_auto_rows": null,
      "grid_column": null,
      "grid_gap": null,
      "grid_row": null,
      "grid_template_areas": null,
      "grid_template_columns": null,
      "grid_template_rows": null,
      "height": null,
      "justify_content": null,
      "justify_items": null,
      "left": null,
      "margin": null,
      "max_height": null,
      "max_width": null,
      "min_height": null,
      "min_width": null,
      "object_fit": null,
      "object_position": null,
      "order": null,
      "overflow": null,
      "overflow_x": null,
      "overflow_y": null,
      "padding": null,
      "right": null,
      "top": null,
      "visibility": null,
      "width": null
     }
    },
    "eae73332f6074296a1d51215620f7a43": {
     "model_module": "@jupyter-widgets/base",
     "model_module_version": "1.2.0",
     "model_name": "LayoutModel",
     "state": {
      "_model_module": "@jupyter-widgets/base",
      "_model_module_version": "1.2.0",
      "_model_name": "LayoutModel",
      "_view_count": null,
      "_view_module": "@jupyter-widgets/base",
      "_view_module_version": "1.2.0",
      "_view_name": "LayoutView",
      "align_content": null,
      "align_items": null,
      "align_self": null,
      "border": null,
      "bottom": null,
      "display": null,
      "flex": null,
      "flex_flow": null,
      "grid_area": null,
      "grid_auto_columns": null,
      "grid_auto_flow": null,
      "grid_auto_rows": null,
      "grid_column": null,
      "grid_gap": null,
      "grid_row": null,
      "grid_template_areas": null,
      "grid_template_columns": null,
      "grid_template_rows": null,
      "height": null,
      "justify_content": null,
      "justify_items": null,
      "left": null,
      "margin": null,
      "max_height": null,
      "max_width": null,
      "min_height": null,
      "min_width": null,
      "object_fit": null,
      "object_position": null,
      "order": null,
      "overflow": null,
      "overflow_x": null,
      "overflow_y": null,
      "padding": null,
      "right": null,
      "top": null,
      "visibility": null,
      "width": null
     }
    },
    "eb2ebe4fc50947f6a1824d8038450cb7": {
     "model_module": "@jupyter-widgets/base",
     "model_module_version": "1.2.0",
     "model_name": "LayoutModel",
     "state": {
      "_model_module": "@jupyter-widgets/base",
      "_model_module_version": "1.2.0",
      "_model_name": "LayoutModel",
      "_view_count": null,
      "_view_module": "@jupyter-widgets/base",
      "_view_module_version": "1.2.0",
      "_view_name": "LayoutView",
      "align_content": null,
      "align_items": null,
      "align_self": null,
      "border": null,
      "bottom": null,
      "display": null,
      "flex": null,
      "flex_flow": null,
      "grid_area": null,
      "grid_auto_columns": null,
      "grid_auto_flow": null,
      "grid_auto_rows": null,
      "grid_column": null,
      "grid_gap": null,
      "grid_row": null,
      "grid_template_areas": null,
      "grid_template_columns": null,
      "grid_template_rows": null,
      "height": null,
      "justify_content": null,
      "justify_items": null,
      "left": null,
      "margin": null,
      "max_height": null,
      "max_width": null,
      "min_height": null,
      "min_width": null,
      "object_fit": null,
      "object_position": null,
      "order": null,
      "overflow": null,
      "overflow_x": null,
      "overflow_y": null,
      "padding": null,
      "right": null,
      "top": null,
      "visibility": null,
      "width": null
     }
    },
    "ebb56f7ea19541dd92383afea501e8ab": {
     "model_module": "@jupyter-widgets/controls",
     "model_module_version": "1.5.0",
     "model_name": "HTMLModel",
     "state": {
      "_dom_classes": [],
      "_model_module": "@jupyter-widgets/controls",
      "_model_module_version": "1.5.0",
      "_model_name": "HTMLModel",
      "_view_count": null,
      "_view_module": "@jupyter-widgets/controls",
      "_view_module_version": "1.5.0",
      "_view_name": "HTMLView",
      "description": "",
      "description_tooltip": null,
      "layout": "IPY_MODEL_eae73332f6074296a1d51215620f7a43",
      "placeholder": "​",
      "style": "IPY_MODEL_bdf0cc007879446a9e75c050b6608936",
      "value": "model.safetensors: 100%"
     }
    },
    "ec6f1b21bc1a4ef1b7fb07f2fce94177": {
     "model_module": "@jupyter-widgets/controls",
     "model_module_version": "1.5.0",
     "model_name": "DescriptionStyleModel",
     "state": {
      "_model_module": "@jupyter-widgets/controls",
      "_model_module_version": "1.5.0",
      "_model_name": "DescriptionStyleModel",
      "_view_count": null,
      "_view_module": "@jupyter-widgets/base",
      "_view_module_version": "1.2.0",
      "_view_name": "StyleView",
      "description_width": ""
     }
    },
    "ed082f63a34649bbad004f223af1581b": {
     "model_module": "@jupyter-widgets/base",
     "model_module_version": "1.2.0",
     "model_name": "LayoutModel",
     "state": {
      "_model_module": "@jupyter-widgets/base",
      "_model_module_version": "1.2.0",
      "_model_name": "LayoutModel",
      "_view_count": null,
      "_view_module": "@jupyter-widgets/base",
      "_view_module_version": "1.2.0",
      "_view_name": "LayoutView",
      "align_content": null,
      "align_items": null,
      "align_self": null,
      "border": null,
      "bottom": null,
      "display": null,
      "flex": null,
      "flex_flow": null,
      "grid_area": null,
      "grid_auto_columns": null,
      "grid_auto_flow": null,
      "grid_auto_rows": null,
      "grid_column": null,
      "grid_gap": null,
      "grid_row": null,
      "grid_template_areas": null,
      "grid_template_columns": null,
      "grid_template_rows": null,
      "height": null,
      "justify_content": null,
      "justify_items": null,
      "left": null,
      "margin": null,
      "max_height": null,
      "max_width": null,
      "min_height": null,
      "min_width": null,
      "object_fit": null,
      "object_position": null,
      "order": null,
      "overflow": null,
      "overflow_x": null,
      "overflow_y": null,
      "padding": null,
      "right": null,
      "top": null,
      "visibility": null,
      "width": null
     }
    },
    "eec62969b9ed4de5a6b5713c91d91700": {
     "model_module": "@jupyter-widgets/controls",
     "model_module_version": "1.5.0",
     "model_name": "DescriptionStyleModel",
     "state": {
      "_model_module": "@jupyter-widgets/controls",
      "_model_module_version": "1.5.0",
      "_model_name": "DescriptionStyleModel",
      "_view_count": null,
      "_view_module": "@jupyter-widgets/base",
      "_view_module_version": "1.2.0",
      "_view_name": "StyleView",
      "description_width": ""
     }
    },
    "ef4c6f7d00d44ef4b2dfb1417a7f5df2": {
     "model_module": "@jupyter-widgets/controls",
     "model_module_version": "1.5.0",
     "model_name": "FloatProgressModel",
     "state": {
      "_dom_classes": [],
      "_model_module": "@jupyter-widgets/controls",
      "_model_module_version": "1.5.0",
      "_model_name": "FloatProgressModel",
      "_view_count": null,
      "_view_module": "@jupyter-widgets/controls",
      "_view_module_version": "1.5.0",
      "_view_name": "ProgressView",
      "bar_style": "success",
      "description": "",
      "description_tooltip": null,
      "layout": "IPY_MODEL_c29366d3ad6341f4869bd22e256c4a6e",
      "max": 481,
      "min": 0,
      "orientation": "horizontal",
      "style": "IPY_MODEL_7bb79f55f8e74f95a4aa490377df2606",
      "value": 481
     }
    },
    "f01edc913cc541f1a606cdfa9824df4f": {
     "model_module": "@jupyter-widgets/controls",
     "model_module_version": "1.5.0",
     "model_name": "LabelModel",
     "state": {
      "_dom_classes": [],
      "_model_module": "@jupyter-widgets/controls",
      "_model_module_version": "1.5.0",
      "_model_name": "LabelModel",
      "_view_count": null,
      "_view_module": "@jupyter-widgets/controls",
      "_view_module_version": "1.5.0",
      "_view_name": "LabelView",
      "description": "",
      "description_tooltip": null,
      "layout": "IPY_MODEL_de582ad021a64e1e9ae2b9e0298885a0",
      "placeholder": "​",
      "style": "IPY_MODEL_5e9a223506dd4c3bae2edcf171ef12c2",
      "value": "0.018 MB of 0.018 MB uploaded\r"
     }
    },
    "f2e9f081750d45db85eb321bb2ecb6a7": {
     "model_module": "@jupyter-widgets/controls",
     "model_module_version": "1.5.0",
     "model_name": "DescriptionStyleModel",
     "state": {
      "_model_module": "@jupyter-widgets/controls",
      "_model_module_version": "1.5.0",
      "_model_name": "DescriptionStyleModel",
      "_view_count": null,
      "_view_module": "@jupyter-widgets/base",
      "_view_module_version": "1.2.0",
      "_view_name": "StyleView",
      "description_width": ""
     }
    },
    "f4891d2bf39343b6ad712828b091ceb1": {
     "model_module": "@jupyter-widgets/controls",
     "model_module_version": "1.5.0",
     "model_name": "HTMLModel",
     "state": {
      "_dom_classes": [],
      "_model_module": "@jupyter-widgets/controls",
      "_model_module_version": "1.5.0",
      "_model_name": "HTMLModel",
      "_view_count": null,
      "_view_module": "@jupyter-widgets/controls",
      "_view_module_version": "1.5.0",
      "_view_name": "HTMLView",
      "description": "",
      "description_tooltip": null,
      "layout": "IPY_MODEL_c265499dd52b4cd18fb9fdbdff74b6a4",
      "placeholder": "​",
      "style": "IPY_MODEL_ec6f1b21bc1a4ef1b7fb07f2fce94177",
      "value": " 1.36M/1.36M [00:00&lt;00:00, 5.53MB/s]"
     }
    },
    "f5c39f570e994a2f845593323a531d1f": {
     "model_module": "@jupyter-widgets/controls",
     "model_module_version": "1.5.0",
     "model_name": "LabelModel",
     "state": {
      "_dom_classes": [],
      "_model_module": "@jupyter-widgets/controls",
      "_model_module_version": "1.5.0",
      "_model_name": "LabelModel",
      "_view_count": null,
      "_view_module": "@jupyter-widgets/controls",
      "_view_module_version": "1.5.0",
      "_view_name": "LabelView",
      "description": "",
      "description_tooltip": null,
      "layout": "IPY_MODEL_d4512541b1674262943daf862f20adb5",
      "placeholder": "​",
      "style": "IPY_MODEL_3d11a88e3d5f490b888762e972400dcd",
      "value": "Waiting for wandb.init()...\r"
     }
    },
    "f7cd35fb2b1d4d88b3887ea2ce291f24": {
     "model_module": "@jupyter-widgets/base",
     "model_module_version": "1.2.0",
     "model_name": "LayoutModel",
     "state": {
      "_model_module": "@jupyter-widgets/base",
      "_model_module_version": "1.2.0",
      "_model_name": "LayoutModel",
      "_view_count": null,
      "_view_module": "@jupyter-widgets/base",
      "_view_module_version": "1.2.0",
      "_view_name": "LayoutView",
      "align_content": null,
      "align_items": null,
      "align_self": null,
      "border": null,
      "bottom": null,
      "display": null,
      "flex": null,
      "flex_flow": null,
      "grid_area": null,
      "grid_auto_columns": null,
      "grid_auto_flow": null,
      "grid_auto_rows": null,
      "grid_column": null,
      "grid_gap": null,
      "grid_row": null,
      "grid_template_areas": null,
      "grid_template_columns": null,
      "grid_template_rows": null,
      "height": null,
      "justify_content": null,
      "justify_items": null,
      "left": null,
      "margin": null,
      "max_height": null,
      "max_width": null,
      "min_height": null,
      "min_width": null,
      "object_fit": null,
      "object_position": null,
      "order": null,
      "overflow": null,
      "overflow_x": null,
      "overflow_y": null,
      "padding": null,
      "right": null,
      "top": null,
      "visibility": null,
      "width": null
     }
    },
    "faa57530973441278a94469aa1dc4a8f": {
     "model_module": "@jupyter-widgets/base",
     "model_module_version": "1.2.0",
     "model_name": "LayoutModel",
     "state": {
      "_model_module": "@jupyter-widgets/base",
      "_model_module_version": "1.2.0",
      "_model_name": "LayoutModel",
      "_view_count": null,
      "_view_module": "@jupyter-widgets/base",
      "_view_module_version": "1.2.0",
      "_view_name": "LayoutView",
      "align_content": null,
      "align_items": null,
      "align_self": null,
      "border": null,
      "bottom": null,
      "display": null,
      "flex": null,
      "flex_flow": null,
      "grid_area": null,
      "grid_auto_columns": null,
      "grid_auto_flow": null,
      "grid_auto_rows": null,
      "grid_column": null,
      "grid_gap": null,
      "grid_row": null,
      "grid_template_areas": null,
      "grid_template_columns": null,
      "grid_template_rows": null,
      "height": null,
      "justify_content": null,
      "justify_items": null,
      "left": null,
      "margin": null,
      "max_height": null,
      "max_width": null,
      "min_height": null,
      "min_width": null,
      "object_fit": null,
      "object_position": null,
      "order": null,
      "overflow": null,
      "overflow_x": null,
      "overflow_y": null,
      "padding": null,
      "right": null,
      "top": null,
      "visibility": null,
      "width": null
     }
    },
    "facd83cd208946ba9766cd05275edb7f": {
     "model_module": "@jupyter-widgets/controls",
     "model_module_version": "1.5.0",
     "model_name": "DescriptionStyleModel",
     "state": {
      "_model_module": "@jupyter-widgets/controls",
      "_model_module_version": "1.5.0",
      "_model_name": "DescriptionStyleModel",
      "_view_count": null,
      "_view_module": "@jupyter-widgets/base",
      "_view_module_version": "1.2.0",
      "_view_name": "StyleView",
      "description_width": ""
     }
    },
    "fb485464e2264c3ead8ce0b9039057d6": {
     "model_module": "@jupyter-widgets/controls",
     "model_module_version": "1.5.0",
     "model_name": "FloatProgressModel",
     "state": {
      "_dom_classes": [],
      "_model_module": "@jupyter-widgets/controls",
      "_model_module_version": "1.5.0",
      "_model_name": "FloatProgressModel",
      "_view_count": null,
      "_view_module": "@jupyter-widgets/controls",
      "_view_module_version": "1.5.0",
      "_view_name": "ProgressView",
      "bar_style": "success",
      "description": "",
      "description_tooltip": null,
      "layout": "IPY_MODEL_0392bc3f13374c039297e77e238c801a",
      "max": 456318,
      "min": 0,
      "orientation": "horizontal",
      "style": "IPY_MODEL_4fd44922af4b40b3a3d00674689167d9",
      "value": 456318
     }
    },
    "fc786475448a4273b4ed9a061467c3dd": {
     "model_module": "@jupyter-widgets/controls",
     "model_module_version": "1.5.0",
     "model_name": "ProgressStyleModel",
     "state": {
      "_model_module": "@jupyter-widgets/controls",
      "_model_module_version": "1.5.0",
      "_model_name": "ProgressStyleModel",
      "_view_count": null,
      "_view_module": "@jupyter-widgets/base",
      "_view_module_version": "1.2.0",
      "_view_name": "StyleView",
      "bar_color": null,
      "description_width": ""
     }
    },
    "fde3addefe734bdc81fafe563334e043": {
     "model_module": "@jupyter-widgets/controls",
     "model_module_version": "1.5.0",
     "model_name": "HBoxModel",
     "state": {
      "_dom_classes": [],
      "_model_module": "@jupyter-widgets/controls",
      "_model_module_version": "1.5.0",
      "_model_name": "HBoxModel",
      "_view_count": null,
      "_view_module": "@jupyter-widgets/controls",
      "_view_module_version": "1.5.0",
      "_view_name": "HBoxView",
      "box_style": "",
      "children": [
       "IPY_MODEL_2e8a37e2887f4b6ebab389947a259ffe",
       "IPY_MODEL_861c06ecfa27432e9b977aba89798f4f",
       "IPY_MODEL_340550eac52940f6beee6e9abcc8df80"
      ],
      "layout": "IPY_MODEL_988f6f627111473598f074d5d0ceb1e7"
     }
    },
    "fe2bf935cc3742f1a04d8f11d47b2334": {
     "model_module": "@jupyter-widgets/controls",
     "model_module_version": "1.5.0",
     "model_name": "DescriptionStyleModel",
     "state": {
      "_model_module": "@jupyter-widgets/controls",
      "_model_module_version": "1.5.0",
      "_model_name": "DescriptionStyleModel",
      "_view_count": null,
      "_view_module": "@jupyter-widgets/base",
      "_view_module_version": "1.2.0",
      "_view_name": "StyleView",
      "description_width": ""
     }
    },
    "fe5dd6b057b74b718270e6e667e81feb": {
     "model_module": "@jupyter-widgets/controls",
     "model_module_version": "1.5.0",
     "model_name": "HTMLModel",
     "state": {
      "_dom_classes": [],
      "_model_module": "@jupyter-widgets/controls",
      "_model_module_version": "1.5.0",
      "_model_name": "HTMLModel",
      "_view_count": null,
      "_view_module": "@jupyter-widgets/controls",
      "_view_module_version": "1.5.0",
      "_view_name": "HTMLView",
      "description": "",
      "description_tooltip": null,
      "layout": "IPY_MODEL_a67b0f5654944ee49439d2b2941b9c5a",
      "placeholder": "​",
      "style": "IPY_MODEL_7a0224de64b14f64b62b1cb35d6fbe22",
      "value": "merges.txt: 100%"
     }
    },
    "fe87316ccbb24227ae86ba77899ed86e": {
     "model_module": "@jupyter-widgets/base",
     "model_module_version": "1.2.0",
     "model_name": "LayoutModel",
     "state": {
      "_model_module": "@jupyter-widgets/base",
      "_model_module_version": "1.2.0",
      "_model_name": "LayoutModel",
      "_view_count": null,
      "_view_module": "@jupyter-widgets/base",
      "_view_module_version": "1.2.0",
      "_view_name": "LayoutView",
      "align_content": null,
      "align_items": null,
      "align_self": null,
      "border": null,
      "bottom": null,
      "display": null,
      "flex": null,
      "flex_flow": null,
      "grid_area": null,
      "grid_auto_columns": null,
      "grid_auto_flow": null,
      "grid_auto_rows": null,
      "grid_column": null,
      "grid_gap": null,
      "grid_row": null,
      "grid_template_areas": null,
      "grid_template_columns": null,
      "grid_template_rows": null,
      "height": null,
      "justify_content": null,
      "justify_items": null,
      "left": null,
      "margin": null,
      "max_height": null,
      "max_width": null,
      "min_height": null,
      "min_width": null,
      "object_fit": null,
      "object_position": null,
      "order": null,
      "overflow": null,
      "overflow_x": null,
      "overflow_y": null,
      "padding": null,
      "right": null,
      "top": null,
      "visibility": null,
      "width": null
     }
    }
   }
  }
 },
 "nbformat": 4,
 "nbformat_minor": 4
}
