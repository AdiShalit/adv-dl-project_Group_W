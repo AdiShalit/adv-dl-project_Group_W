{
 "cells": [
  {
   "cell_type": "markdown",
   "id": "1e26cd6d-cef7-4345-8908-be55632c87b7",
   "metadata": {},
   "source": [
    "<center><br><br>\n",
    "<font size=6>🎓 <b>Advanced Deep Learning - NLP Final Project</b></font><br>\n",
    "<font size=6>📊 <b>Compression - microsoft/mdeberta-v3-base EX4</b></font><br>\n",
    "<font size=5>👥 <b>Group W</b></font><br><br>\n",
    "<b>Adi Shalit</b>, ID: <code>206628885</code><br>\n",
    "<b>Gal Gussarsky</b>, ID: <code>206453540</code><br><br>\n",
    "<font size=4>📘 Course ID: <code>05714184</code></font><br>\n",
    "<font size=4>📅 Spring 2025</font>\n",
    "<br><br>\n",
    "<hr style=\"width:60%; border:1px solid gray;\"></center>\n"
   ]
  },
  {
   "cell_type": "markdown",
   "id": "a50b54fb-b0a1-4972-9a31-b5033b2035ba",
   "metadata": {},
   "source": [
    "# 📑 Table of Contents\n",
    "\n",
    "- [KD Training](#Training)\n",
    "- [KD Load best Model & Test](#Load-Best-Model)\n",
    "\n",
    "\n"
   ]
  },
  {
   "cell_type": "markdown",
   "id": "fae53c3a-099d-4ee6-9bcc-328777e5d2fd",
   "metadata": {},
   "source": [
    "# ⚡ Quantization of Transformer Models  \n",
    "\n",
    "Quantization is a technique that **compresses a model by reducing the precision of its weights and activations**.  \n",
    "Instead of using the standard 32-bit floating-point format (FP32), we convert certain layers to **8-bit integers (INT8)**.  \n",
    "\n",
    "✨ Benefits:  \n",
    "- Smaller model size  \n",
    "- Lower memory footprint  \n",
    "- Potentially faster inference on CPUs  \n",
    "\n",
    "⚠️ Trade-off:  \n",
    "- Possible **loss in accuracy**, since reducing precision may harm representational power.  \n",
    "\n",
    "---\n",
    "\n",
    "📌 In this experiment:  \n",
    "- **Base model**: `microsoft/mdeberta-v3-base` fine-tuned on sentiment classification (Corona NLP dataset).  \n",
    "- **Evaluation**: Compare **FP32 (CPU)** vs **INT8 (CPU)** performance.  \n",
    "- **Goal**: Check whether quantization maintains accuracy and F1 while improving latency and efficiency.  \n",
    "\n"
   ]
  },
  {
   "cell_type": "code",
   "execution_count": 1,
   "id": "initial_id",
   "metadata": {
    "ExecuteTime": {
     "end_time": "2025-08-20T14:27:09.037832Z",
     "start_time": "2025-08-20T14:27:08.121893Z"
    }
   },
   "outputs": [],
   "source": [
    "import pandas as pd\n",
    "from sklearn.model_selection import train_test_split\n",
    "# Load CSVs (your files have columns: ['UserName','ScreenName','Location','TweetAt','OriginalTweet','Sentiment'])\n",
    "TRAIN_CSV = \"Corona_NLP_train_cleaned_translated.csv\"   # or \"Corona_NLP_train.csv\"\n",
    "TEST_CSV  = \"Corona_NLP_test_cleaned_translated.csv\"    # or \"Corona_NLP_test.csv\"\n",
    "\n",
    "\n",
    "df_train = pd.read_csv(TRAIN_CSV, encoding=\"utf-8\", engine=\"python\")\n",
    "df_test  = pd.read_csv(TEST_CSV,  encoding=\"utf-8\", engine=\"python\")"
   ]
  },
  {
   "cell_type": "code",
   "execution_count": 2,
   "id": "98ab73e6-f92e-439f-aee2-8a963fc5c92b",
   "metadata": {},
   "outputs": [
    {
     "name": "stderr",
     "output_type": "stream",
     "text": [
      "C:\\Users\\adishalit1\\AppData\\Local\\anaconda3\\envs\\dl4090\\Lib\\site-packages\\tqdm\\auto.py:21: TqdmWarning: IProgress not found. Please update jupyter and ipywidgets. See https://ipywidgets.readthedocs.io/en/stable/user_install.html\n",
      "  from .autonotebook import tqdm as notebook_tqdm\n"
     ]
    },
    {
     "name": "stdout",
     "output_type": "stream",
     "text": [
      "✅ Test data loaded: (3798, 9)\n"
     ]
    },
    {
     "name": "stderr",
     "output_type": "stream",
     "text": [
      "C:\\Users\\adishalit1\\AppData\\Local\\anaconda3\\envs\\dl4090\\Lib\\site-packages\\transformers\\convert_slow_tokenizer.py:564: UserWarning: The sentencepiece tokenizer that you are converting to a fast tokenizer uses the byte fallback option which is not implemented in the fast tokenizers. In practice this means that the fast version of the tokenizer can produce unknown tokens whereas the sentencepiece version would have converted these unknown tokens into a sequence of byte tokens matching the original piece of text.\n",
      "  warnings.warn(\n",
      "Some weights of DebertaV2ForSequenceClassification were not initialized from the model checkpoint at microsoft/mdeberta-v3-base and are newly initialized: ['classifier.bias', 'classifier.weight', 'pooler.dense.bias', 'pooler.dense.weight']\n",
      "You should probably TRAIN this model on a down-stream task to be able to use it for predictions and inference.\n"
     ]
    },
    {
     "name": "stdout",
     "output_type": "stream",
     "text": [
      "=== Baseline (FP32, CPU) ===\n",
      "[CPU FP32] acc=0.8662 f1=0.8686 lat=28.43 ms/sample\n",
      "                    precision    recall  f1-score   support\n",
      "\n",
      "extremely negative     0.8957    0.8851    0.8904       592\n",
      "          negative     0.8512    0.8847    0.8676      1041\n",
      "           neutral     0.8477    0.8724    0.8599       619\n",
      "          positive     0.8741    0.8141    0.8431       947\n",
      "extremely positive     0.8725    0.8915    0.8819       599\n",
      "\n",
      "          accuracy                         0.8662      3798\n",
      "         macro avg     0.8683    0.8696    0.8686      3798\n",
      "      weighted avg     0.8667    0.8662    0.8661      3798\n",
      "\n",
      "\n",
      "=== Quantized (INT8, CPU) ===\n",
      "[CPU INT8] acc=0.3368 f1=0.2427 lat=30.60 ms/sample\n",
      "                    precision    recall  f1-score   support\n",
      "\n",
      "extremely negative     1.0000    0.0101    0.0201       592\n",
      "          negative     0.3663    0.3842    0.3751      1041\n",
      "           neutral     0.2973    0.8788    0.4443       619\n",
      "          positive     0.3746    0.3421    0.3576       947\n",
      "extremely positive     1.0000    0.0083    0.0166       599\n",
      "\n",
      "          accuracy                         0.3368      3798\n",
      "         macro avg     0.6076    0.3247    0.2427      3798\n",
      "      weighted avg     0.5558    0.3368    0.2701      3798\n",
      "\n",
      "✅ Quantized model saved to: adv_dl_models_final_deberta_ex4_quantization\\deberta_ex4_quantization_int8.pt\n",
      "✅ Evaluation saved to: adv_dl_models_final_deberta_ex4_quantization\\deberta_ex4_quantization_int8_eval.json\n",
      "\n",
      "=== Summary (CPU-only) ===\n",
      "Accuracy : FP32 0.8662 | INT8 0.3368\n",
      "Macro-F1 : FP32 0.8686 | INT8 0.2427\n",
      "Latency  : FP32 28.43 ms | INT8 30.60 ms\n"
     ]
    }
   ],
   "source": [
    "# ============================\n",
    "# Quantization + Eval: mdeberta-v3-base (CPU FP32 vs CPU INT8)\n",
    "# ============================\n",
    "import os, time, json, torch, numpy as np\n",
    "import pandas as pd\n",
    "from transformers import AutoTokenizer, AutoModelForSequenceClassification\n",
    "from sklearn.metrics import accuracy_score, f1_score, classification_report\n",
    "from torch.quantization import quantize_dynamic\n",
    "import torch.nn as nn\n",
    "\n",
    "# --- Quantized backend (x86) ---\n",
    "torch.backends.quantized.engine = \"fbgemm\"\n",
    "\n",
    "# --- Device + constants ---\n",
    "DEVICE   = \"cuda\" if torch.cuda.is_available() else \"cpu\"\n",
    "MAX_LEN  = 512\n",
    "BATCH_SZ = 8\n",
    "\n",
    "# --- Label order (matches training) ---\n",
    "ORDER = [\"extremely negative\", \"negative\", \"neutral\", \"positive\", \"extremely positive\"]\n",
    "LABEL2ID = {lab: i for i, lab in enumerate(ORDER)}\n",
    "ID2LABEL = {i: lab for i, lab in enumerate(ORDER)}\n",
    "\n",
    "# --- Load test data (assumes df_test exists; otherwise uncomment next line) ---\n",
    "# df_test = pd.read_csv(\"/content/drive/MyDrive/DL_2_Project/Corona_NLP_test_cleaned_translated.csv\")\n",
    "\n",
    "def normalize_label(s: str) -> str:\n",
    "    s = str(s).strip().lower()\n",
    "    s = s.replace(\"very negative\", \"extremely negative\")\n",
    "    s = s.replace(\"very positive\", \"extremely positive\")\n",
    "    s = s.replace(\"extreme negative\", \"extremely negative\")\n",
    "    s = s.replace(\"extreme positive\", \"extremely positive\")\n",
    "    return s\n",
    "\n",
    "df_test[\"label\"] = df_test[\"Sentiment\"].apply(normalize_label).map(LABEL2ID)\n",
    "df_test[\"text\"]  = df_test[\"OriginalTweet\"].astype(str)\n",
    "test_df = df_test.dropna(subset=[\"text\", \"label\"]).reset_index(drop=True)\n",
    "print(\"✅ Test data loaded:\", test_df.shape)\n",
    "\n",
    "# --- Path to trained model ---\n",
    "manual_weights = r\"ex_4_model\\microsoft__mdeberta-v3-base_full_ex_4_20250817_133620\\best_state_dict.pt\"\n",
    "\n",
    "# --- Evaluation helper (CPU/GPU aware) ---\n",
    "@torch.inference_mode()\n",
    "def eval_model(model, tok, test_df, batch_size=32, force_cpu=False):\n",
    "    model.eval()\n",
    "    labels, preds_all, times = [], [], []\n",
    "    device = torch.device(\"cpu\") if force_cpu else DEVICE\n",
    "    for start in range(0, len(test_df), batch_size):\n",
    "        texts = test_df[\"text\"].tolist()[start:start+batch_size]\n",
    "        labs  = test_df[\"label\"].tolist()[start:start+batch_size]\n",
    "        enc = tok(\n",
    "            texts,\n",
    "            truncation=True,\n",
    "            padding=True,\n",
    "            max_length=MAX_LEN,\n",
    "            return_tensors=\"pt\"\n",
    "        ).to(device)\n",
    "        if device.type == \"cuda\": torch.cuda.synchronize()\n",
    "        t0 = time.perf_counter()\n",
    "        logits = model(**enc).logits\n",
    "        if device.type == \"cuda\": torch.cuda.synchronize()\n",
    "        times.append((time.perf_counter() - t0) / logits.size(0))\n",
    "        preds_all.extend(logits.argmax(-1).cpu().numpy().tolist())\n",
    "        labels.extend(labs)\n",
    "    acc = accuracy_score(labels, preds_all)\n",
    "    f1m = f1_score(labels, preds_all, average=\"macro\")\n",
    "    return acc, f1m, float(np.mean(times)), preds_all, labels\n",
    "\n",
    "# --- Load tokenizer and CPU FP32 base model ---\n",
    "tok = AutoTokenizer.from_pretrained(\"microsoft/mdeberta-v3-base\")\n",
    "base_cpu = AutoModelForSequenceClassification.from_pretrained(\n",
    "    \"microsoft/mdeberta-v3-base\", num_labels=len(ORDER)\n",
    ")\n",
    "base_cpu.load_state_dict(torch.load(manual_weights, map_location=\"cpu\"))\n",
    "base_cpu = base_cpu.to(\"cpu\").eval()\n",
    "\n",
    "# --- Baseline on CPU FP32 ---\n",
    "acc_b, f1_b, lat_b, preds_b, labels = eval_model(base_cpu, tok, test_df, batch_size=BATCH_SZ, force_cpu=True)\n",
    "print(\"=== Baseline (FP32, CPU) ===\")\n",
    "print(f\"[CPU FP32] acc={acc_b:.4f} f1={f1_b:.4f} lat={lat_b*1000:.2f} ms/sample\")\n",
    "print(classification_report(labels, preds_b, target_names=ORDER, digits=4, zero_division=0))\n",
    "\n",
    "# --- Quantize model (INT8, CPU) ---\n",
    "quant8 = quantize_dynamic(\n",
    "    base_cpu, {nn.Linear}, dtype=torch.qint8\n",
    ").eval()\n",
    "\n",
    "# --- Evaluate quantized model (CPU INT8) ---\n",
    "acc_q, f1_q, lat_q, preds_q, _ = eval_model(quant8, tok, test_df, batch_size=BATCH_SZ, force_cpu=True)\n",
    "print(\"\\n=== Quantized (INT8, CPU) ===\")\n",
    "print(f\"[CPU INT8] acc={acc_q:.4f} f1={f1_q:.4f} lat={lat_q*1000:.2f} ms/sample\")\n",
    "print(classification_report(labels, preds_q, target_names=ORDER, digits=4, zero_division=0))\n",
    "\n",
    "# --- Save quantized model and results ---\n",
    "SAVE_DIR = \"adv_dl_models_final_deberta_ex4_quantization\"\n",
    "os.makedirs(SAVE_DIR, exist_ok=True)\n",
    "\n",
    "quant_model_path = os.path.join(SAVE_DIR, \"deberta_ex4_quantization_int8.pt\")\n",
    "torch.save(quant8.state_dict(), quant_model_path)\n",
    "print(f\"✅ Quantized model saved to: {quant_model_path}\")\n",
    "\n",
    "eval_path = os.path.join(SAVE_DIR, \"deberta_ex4_quantization_int8_eval.json\")\n",
    "eval_results = {\n",
    "    \"accuracy\": round(acc_q, 4),\n",
    "    \"macro_f1\": round(f1_q, 4),\n",
    "    \"latency_ms_per_sample\": round(lat_q * 1000, 2),\n",
    "    \"cpu_fp32_latency_ms_per_sample\": round(lat_b * 1000, 2),\n",
    "}\n",
    "with open(eval_path, \"w\") as f:\n",
    "    json.dump(eval_results, f, indent=2)\n",
    "print(f\"✅ Evaluation saved to: {eval_path}\")\n",
    "\n",
    "# --- Summary (CPU vs CPU) ---\n",
    "print(\"\\n=== Summary (CPU-only) ===\")\n",
    "print(f\"Accuracy : FP32 {acc_b:.4f} | INT8 {acc_q:.4f}\")\n",
    "print(f\"Macro-F1 : FP32 {f1_b:.4f} | INT8 {f1_q:.4f}\")\n",
    "print(f\"Latency  : FP32 {lat_b*1000:.2f} ms | INT8 {lat_q*1000:.2f} ms\")\n"
   ]
  },
  {
   "cell_type": "markdown",
   "id": "c25ee752-5895-4e57-a87a-22a9ed3630d5",
   "metadata": {},
   "source": [
    "# 🧪 Quantization – What We Ran, What We Saw, and How We Fixed It\n",
    "\n",
    "## 1) What the code does\n",
    "- **Loads** our fine‑tuned `mdeberta‑v3‑base` and the test set.\n",
    "- **Evaluates on CPU FP32** to get a fair latency baseline (ms/sample).\n",
    "- Applies **PyTorch dynamic INT8 quantization** (`quantize_dynamic` on `nn.Linear`) and **evaluates on CPU** again.\n",
    "- **Saves** the quantized weights and a JSON with accuracy/F1/latency.\n",
    "\n",
    "---\n",
    "\n",
    "## 2) Output (CPU‑only)\n",
    "- **FP32 (CPU):** Acc **0.8662**, Macro‑F1 **0.8686**, Latency **28.43 ms/sample**\n",
    "- **INT8 (CPU):** Acc **0.3368**, Macro‑F1 **0.2427**, Latency **30.60 ms/sample**\n",
    "\n",
    "**Analysis:** Accuracy/F1 **collapsed** and latency even got **slightly worse**. The classification report shows **near‑zero recall for the extreme classes** → the decision boundaries collapsed after quantization.\n",
    "\n",
    "---\n",
    "\n",
    "## 3) Why the INT8 model performed poorly\n",
    "- **Architecture sensitivity (DeBERTa):** Disentangled attention + relative position bias make **Q/K/V/O projections** highly sensitive to quantization noise. Naive dynamic INT8 on all `Linear` layers distorts attention logits → softmax collapses.\n",
    "- **Dynamic PTQ overhead:** INT8 inserts **quant↔dequant** boundaries around mixed‑precision layers (LayerNorm/embeddings stay FP32). With small batches, overhead can outweigh any speedup → **INT8 slower than FP32**.\n",
    "- **Uncalibrated activations:** Dynamic scaling per batch can pick poor ranges for spiky activations → unstable predictions.\n",
    "\n",
    "---\n",
    "\n",
    "## 4) What we changed (the actual fix we applied)\n",
    "- **Pin a fast INT8 backend + CPU tuning**\n",
    "  - `torch.backends.quantized.engine = \"fbgemm\"` (x86), `torch.set_num_threads(...)`\n",
    "  - **Warm‑up** both models before timing to stabilize kernels.\n",
    "- **Selective quantization for DeBERTa (safer)**\n",
    "  - Keep **attention projections** (`query/key/value/output.dense`) in **FP32**.\n",
    "  - Quantize **only the FFN linears** (`intermediate.dense`, `output.dense`) + **classifier head**.\n",
    "  - Function: `quantize_deberta_safely(...)` (see code).\n",
    "- (Optional next) **Shorter MAX_LEN on CPU** (e.g., 256/384) to reduce latency with minimal impact on F1.\n",
    "\n",
    "**Goal of the fix:** preserve attention integrity (avoid class collapse) while still shrinking/accelerating the heaviest MLP parts.\n",
    "\n",
    "---\n",
    "\n",
    "## 5) Expected next outcomes\n",
    "- **Accuracy/F1 recovery** (no more extreme‑class collapse).\n",
    "- **More stable latency**; on CPU, INT8 should help once overhead is reduced (selective quant + warmup + threads).\n",
    "- If further accuracy is needed: consider **static PTQ with calibration** or **QAT (quantization‑aware training)** on the FFN + head.\n",
    "\n"
   ]
  },
  {
   "cell_type": "code",
   "execution_count": 3,
   "id": "322ced77-e463-49d8-9ee7-ed3305e1094b",
   "metadata": {},
   "outputs": [
    {
     "name": "stderr",
     "output_type": "stream",
     "text": [
      "Some weights of DebertaV2ForSequenceClassification were not initialized from the model checkpoint at microsoft/mdeberta-v3-base and are newly initialized: ['classifier.bias', 'classifier.weight', 'pooler.dense.bias', 'pooler.dense.weight']\n",
      "You should probably TRAIN this model on a down-stream task to be able to use it for predictions and inference.\n"
     ]
    },
    {
     "name": "stdout",
     "output_type": "stream",
     "text": [
      "[CPU FP32] acc=0.8662 f1=0.8686 lat=29.49 ms/sample\n"
     ]
    }
   ],
   "source": [
    "# --- Baseline on CPU FP32 ---\n",
    "base_cpu = AutoModelForSequenceClassification.from_pretrained(\n",
    "    \"microsoft/mdeberta-v3-base\", num_labels=len(ORDER)\n",
    ")\n",
    "base_cpu.load_state_dict(torch.load(manual_weights, map_location=\"cpu\"))\n",
    "base_cpu.eval()\n",
    "acc_c, f1_c, lat_c, _, _ = eval_model(base_cpu, tok, test_df, batch_size=BATCH_SZ, force_cpu=True)\n",
    "print(f\"[CPU FP32] acc={acc_c:.4f} f1={f1_c:.4f} lat={lat_c*1000:.2f} ms/sample\")\n"
   ]
  },
  {
   "cell_type": "markdown",
   "id": "b0c63b59-7e38-4d4b-99ba-831a9571e08f",
   "metadata": {},
   "source": [
    "### Selective Quantization (DeBERTa)\n",
    "\n",
    "- Set quantization backend (`fbgemm`) and CPU threads for stable performance.  \n",
    "- Warm up model with dummy inputs to get reliable latency.  \n",
    "- Apply **dynamic quantization** only to classifier and FFN layers (intermediate/output), while keeping attention layers in FP32.  \n",
    "- This avoids the big accuracy drop we saw with full quantization, balancing **smaller size + faster inference** with stable performance.  \n"
   ]
  },
  {
   "cell_type": "code",
   "execution_count": 5,
   "id": "58fc17d3-293b-4cbe-97eb-dac380b2cfc9",
   "metadata": {},
   "outputs": [],
   "source": [
    "import torch\n",
    "torch.backends.quantized.engine = \"fbgemm\"   # x86; use \"qnnpack\" on ARM\n",
    "torch.set_num_threads(min(8, os.cpu_count() or 8))\n"
   ]
  },
  {
   "cell_type": "code",
   "execution_count": 7,
   "id": "b2e227fe-eca3-4d09-a0ba-eb4cdc818ee8",
   "metadata": {},
   "outputs": [],
   "source": [
    "#3) Warm up before timing\n",
    "def warmup(model, tok, texts=[\"hello\"]*BATCH_SZ):\n",
    "    with torch.no_grad():\n",
    "        for _ in range(5):\n",
    "            enc = tok(texts, truncation=True, padding=True, max_length=MAX_LEN, return_tensors=\"pt\")\n",
    "            _ = model(**enc).logits\n",
    "\n",
    "warmup(base_cpu, tok)\n",
    "warmup(quant8, tok)\n"
   ]
  },
  {
   "cell_type": "code",
   "execution_count": 9,
   "id": "5908a188-bf53-4b03-bef7-ead7807926da",
   "metadata": {},
   "outputs": [],
   "source": [
    "from torch import nn\n",
    "\n",
    "def quantize_deberta_safely(m: nn.Module) -> nn.Module:\n",
    "    m = m.to(\"cpu\").to(torch.float32).eval()\n",
    "    # 1) Quantize classifier head\n",
    "    m.classifier = quantize_dynamic(m.classifier, {nn.Linear}, dtype=torch.qint8).eval()\n",
    "\n",
    "    # 2) Quantize only FFNs inside each encoder layer: intermediate.dense and output.dense\n",
    "    for layer in m.deberta.encoder.layer:   # roberta? use m.roberta.encoder.layer\n",
    "        # attention.{self.{query,key,value}, output.dense}  --> keep FP32\n",
    "        # FFN: intermediate.dense and output.dense --> quantize\n",
    "        layer.intermediate.dense = quantize_dynamic(layer.intermediate.dense, {nn.Linear}, dtype=torch.qint8).eval()\n",
    "        layer.output.dense       = quantize_dynamic(layer.output.dense,       {nn.Linear}, dtype=torch.qint8).eval()\n",
    "    return m\n",
    "\n",
    "quant8 = quantize_deberta_safely(base_cpu)\n"
   ]
  },
  {
   "cell_type": "code",
   "execution_count": 10,
   "id": "f96136c7-a590-4d63-a23f-c42aae40eef7",
   "metadata": {},
   "outputs": [
    {
     "name": "stdout",
     "output_type": "stream",
     "text": [
      "[INT8@MAX_LEN=256] acc=0.8662 f1=0.8686 lat=40.1 ms/sample\n",
      "[INT8@MAX_LEN=384] acc=0.8662 f1=0.8686 lat=41.4 ms/sample\n",
      "[INT8@MAX_LEN=512] acc=0.8662 f1=0.8686 lat=41.4 ms/sample\n"
     ]
    }
   ],
   "source": [
    "for L in [256, 384, 512]:\n",
    "    MAX_LEN = L\n",
    "    acc, f1, lat, *_ = eval_model(quant8, tok, test_df, batch_size=BATCH_SZ, force_cpu=True)\n",
    "    print(f\"[INT8@MAX_LEN={L}] acc={acc:.4f} f1={f1:.4f} lat={lat*1000:.1f} ms/sample\")\n"
   ]
  },
  {
   "cell_type": "code",
   "execution_count": null,
   "id": "5366cbdacc1e7643",
   "metadata": {},
   "outputs": [],
   "source": [
    "import os, json\n",
    "import torch\n",
    "\n",
    "# === Define save path ===\n",
    "SAVE_DIR = \"/content/drive/MyDrive/adv_dl_models_final2_best\"\n",
    "os.makedirs(SAVE_DIR, exist_ok=True)\n",
    "\n",
    "# === Save quantized model ===\n",
    "model_path = os.path.join(SAVE_DIR, \"roberta_base_best_set2_quant_int8.pt\")\n",
    "torch.save(quant8.state_dict(), model_path)\n",
    "print(f\"✅ Quantized model saved to: {model_path}\")\n",
    "\n",
    "# === Save evaluation results ===\n",
    "eval_path = os.path.join(SAVE_DIR, \"roberta_base_best_set2_quant_int8_eval.json\")\n",
    "eval_results = {\n",
    "    \"accuracy\": round(acc_q, 4),\n",
    "    \"macro_f1\": round(f1_q, 4),\n",
    "    \"latency_ms_per_sample\": round(lat_q * 1000, 2)\n",
    "}\n",
    "with open(eval_path, \"w\") as f:\n",
    "    json.dump(eval_results, f, indent=2)\n",
    "print(f\"✅ Evaluation saved to: {eval_path}\")\n"
   ]
  },
  {
   "cell_type": "markdown",
   "id": "e2de9f6a-abe3-40da-b756-d360b55114e8",
   "metadata": {},
   "source": [
    "# ✂️ Pruning Sweep – mDeBERTa-v3 (EX4)\n",
    "\n",
    "## Goal  \n",
    "We test how pruning (removing weights) affects **accuracy, F1, latency, and size** of a fine-tuned **mDeBERTa-v3-base** model on EX4.  \n",
    "The idea: pruning should shrink the model and maybe speed it up, but too much pruning usually hurts performance.\n",
    "\n",
    "## What We Did  \n",
    "- **Baseline (0%)**: measured full model (FP32) → accuracy, macro-F1, latency.  \n",
    "- **Sweep**: applied global unstructured **L1 pruning** on all linear layers.  \n",
    "  - Pruning levels: 0%, 10%, …, 80% + an extra at 89%.  \n",
    "- **Evaluation**: test set accuracy, macro-F1, and per-sample latency.  \n",
    "- **Extras**:  \n",
    "  - Collapse guard → warns if model predicts mostly one class.  \n",
    "  - Plots for performance vs. pruning %, and also latency / model size trends.\n",
    "\n",
    "## Why This Matters  \n",
    "- Low pruning (10–20%) often keeps performance close to baseline.  \n",
    "- Higher pruning shows the **trade-off**: accuracy and F1 drop, but model size decreases.  \n",
    "- Results help decide the **sweet spot** between efficiency and performance.\n",
    "\n",
    "## Outputs  \n",
    "- JSON with results per pruning level.  \n",
    "- Plots for:  \n",
    "  - Accuracy/F1 vs. pruning %.  \n",
    "  - Latency vs. pruning %.  \n",
    "  - Model size vs. pruning %.  \n"
   ]
  },
  {
   "cell_type": "code",
   "execution_count": 8,
   "id": "afca1481d0ea8989",
   "metadata": {
    "ExecuteTime": {
     "end_time": "2025-08-18T16:50:26.808146Z",
     "start_time": "2025-08-18T16:46:15.238794Z"
    },
    "scrolled": true
   },
   "outputs": [
    {
     "name": "stdout",
     "output_type": "stream",
     "text": [
      "✅ Test data loaded: (3798, 9)\n"
     ]
    },
    {
     "name": "stderr",
     "output_type": "stream",
     "text": [
      "C:\\Users\\adishalit1\\AppData\\Local\\anaconda3\\envs\\dl4090\\Lib\\site-packages\\transformers\\convert_slow_tokenizer.py:564: UserWarning: The sentencepiece tokenizer that you are converting to a fast tokenizer uses the byte fallback option which is not implemented in the fast tokenizers. In practice this means that the fast version of the tokenizer can produce unknown tokens whereas the sentencepiece version would have converted these unknown tokens into a sequence of byte tokens matching the original piece of text.\n",
      "  warnings.warn(\n",
      "Some weights of DebertaV2ForSequenceClassification were not initialized from the model checkpoint at microsoft/mdeberta-v3-base and are newly initialized: ['classifier.bias', 'classifier.weight', 'pooler.dense.bias', 'pooler.dense.weight']\n",
      "You should probably TRAIN this model on a down-stream task to be able to use it for predictions and inference.\n"
     ]
    },
    {
     "name": "stdout",
     "output_type": "stream",
     "text": [
      "=== Baseline (FP32) ===\n",
      "Accuracy 0.8662 | Macro-F1 0.8686 | Latency 2.13 ms/sample\n",
      "                    precision    recall  f1-score   support\n",
      "\n",
      "extremely negative     0.8957    0.8851    0.8904       592\n",
      "          negative     0.8512    0.8847    0.8676      1041\n",
      "           neutral     0.8477    0.8724    0.8599       619\n",
      "          positive     0.8741    0.8141    0.8431       947\n",
      "extremely positive     0.8725    0.8915    0.8819       599\n",
      "\n",
      "          accuracy                         0.8662      3798\n",
      "         macro avg     0.8683    0.8696    0.8686      3798\n",
      "      weighted avg     0.8667    0.8662    0.8661      3798\n",
      "\n",
      "\n",
      "🔧 Pruning 0% of weights...\n"
     ]
    },
    {
     "name": "stderr",
     "output_type": "stream",
     "text": [
      "Some weights of DebertaV2ForSequenceClassification were not initialized from the model checkpoint at microsoft/mdeberta-v3-base and are newly initialized: ['classifier.bias', 'classifier.weight', 'pooler.dense.bias', 'pooler.dense.weight']\n",
      "You should probably TRAIN this model on a down-stream task to be able to use it for predictions and inference.\n"
     ]
    },
    {
     "name": "stdout",
     "output_type": "stream",
     "text": [
      "✅ Acc: 0.8662 | F1: 0.8686 | Latency: 2.11 ms/sample| Size: 1063.67MB\n",
      "\n",
      "🔧 Pruning 10% of weights...\n"
     ]
    },
    {
     "name": "stderr",
     "output_type": "stream",
     "text": [
      "Some weights of DebertaV2ForSequenceClassification were not initialized from the model checkpoint at microsoft/mdeberta-v3-base and are newly initialized: ['classifier.bias', 'classifier.weight', 'pooler.dense.bias', 'pooler.dense.weight']\n",
      "You should probably TRAIN this model on a down-stream task to be able to use it for predictions and inference.\n"
     ]
    },
    {
     "name": "stdout",
     "output_type": "stream",
     "text": [
      "✅ Acc: 0.8657 | F1: 0.8681 | Latency: 2.49 ms/sample| Size: 1389.96MB\n",
      "\n",
      "🔧 Pruning 20% of weights...\n"
     ]
    },
    {
     "name": "stderr",
     "output_type": "stream",
     "text": [
      "Some weights of DebertaV2ForSequenceClassification were not initialized from the model checkpoint at microsoft/mdeberta-v3-base and are newly initialized: ['classifier.bias', 'classifier.weight', 'pooler.dense.bias', 'pooler.dense.weight']\n",
      "You should probably TRAIN this model on a down-stream task to be able to use it for predictions and inference.\n"
     ]
    },
    {
     "name": "stdout",
     "output_type": "stream",
     "text": [
      "✅ Acc: 0.8597 | F1: 0.8619 | Latency: 2.60 ms/sample| Size: 1389.96MB\n",
      "\n",
      "🔧 Pruning 30% of weights...\n"
     ]
    },
    {
     "name": "stderr",
     "output_type": "stream",
     "text": [
      "Some weights of DebertaV2ForSequenceClassification were not initialized from the model checkpoint at microsoft/mdeberta-v3-base and are newly initialized: ['classifier.bias', 'classifier.weight', 'pooler.dense.bias', 'pooler.dense.weight']\n",
      "You should probably TRAIN this model on a down-stream task to be able to use it for predictions and inference.\n"
     ]
    },
    {
     "name": "stdout",
     "output_type": "stream",
     "text": [
      "✅ Acc: 0.8504 | F1: 0.8517 | Latency: 2.52 ms/sample| Size: 1389.96MB\n",
      "\n",
      "🔧 Pruning 40% of weights...\n"
     ]
    },
    {
     "name": "stderr",
     "output_type": "stream",
     "text": [
      "Some weights of DebertaV2ForSequenceClassification were not initialized from the model checkpoint at microsoft/mdeberta-v3-base and are newly initialized: ['classifier.bias', 'classifier.weight', 'pooler.dense.bias', 'pooler.dense.weight']\n",
      "You should probably TRAIN this model on a down-stream task to be able to use it for predictions and inference.\n"
     ]
    },
    {
     "name": "stdout",
     "output_type": "stream",
     "text": [
      "✅ Acc: 0.7938 | F1: 0.7845 | Latency: 2.53 ms/sample| Size: 1389.96MB\n",
      "\n",
      "🔧 Pruning 50% of weights...\n"
     ]
    },
    {
     "name": "stderr",
     "output_type": "stream",
     "text": [
      "Some weights of DebertaV2ForSequenceClassification were not initialized from the model checkpoint at microsoft/mdeberta-v3-base and are newly initialized: ['classifier.bias', 'classifier.weight', 'pooler.dense.bias', 'pooler.dense.weight']\n",
      "You should probably TRAIN this model on a down-stream task to be able to use it for predictions and inference.\n"
     ]
    },
    {
     "name": "stdout",
     "output_type": "stream",
     "text": [
      "✅ Acc: 0.5985 | F1: 0.5209 | Latency: 2.28 ms/sample| Size: 1389.96MB\n",
      "\n",
      "🔧 Pruning 60% of weights...\n"
     ]
    },
    {
     "name": "stderr",
     "output_type": "stream",
     "text": [
      "Some weights of DebertaV2ForSequenceClassification were not initialized from the model checkpoint at microsoft/mdeberta-v3-base and are newly initialized: ['classifier.bias', 'classifier.weight', 'pooler.dense.bias', 'pooler.dense.weight']\n",
      "You should probably TRAIN this model on a down-stream task to be able to use it for predictions and inference.\n"
     ]
    },
    {
     "name": "stdout",
     "output_type": "stream",
     "text": [
      "✅ Acc: 0.2683 | F1: 0.1796 | Latency: 2.53 ms/sample| Size: 1389.96MB\n",
      "\n",
      "🔧 Pruning 70% of weights...\n"
     ]
    },
    {
     "name": "stderr",
     "output_type": "stream",
     "text": [
      "Some weights of DebertaV2ForSequenceClassification were not initialized from the model checkpoint at microsoft/mdeberta-v3-base and are newly initialized: ['classifier.bias', 'classifier.weight', 'pooler.dense.bias', 'pooler.dense.weight']\n",
      "You should probably TRAIN this model on a down-stream task to be able to use it for predictions and inference.\n"
     ]
    },
    {
     "name": "stdout",
     "output_type": "stream",
     "text": [
      "⚠️  Prediction collapse detected: {1: 3798}\n",
      "✅ Acc: 0.2741 | F1: 0.0861 | Latency: 2.58 ms/sample| Size: 1389.96MB\n",
      "\n",
      "🔧 Pruning 80% of weights...\n"
     ]
    },
    {
     "name": "stderr",
     "output_type": "stream",
     "text": [
      "Some weights of DebertaV2ForSequenceClassification were not initialized from the model checkpoint at microsoft/mdeberta-v3-base and are newly initialized: ['classifier.bias', 'classifier.weight', 'pooler.dense.bias', 'pooler.dense.weight']\n",
      "You should probably TRAIN this model on a down-stream task to be able to use it for predictions and inference.\n"
     ]
    },
    {
     "name": "stdout",
     "output_type": "stream",
     "text": [
      "⚠️  Prediction collapse detected: {3: 3798}\n",
      "✅ Acc: 0.2493 | F1: 0.0798 | Latency: 2.71 ms/sample| Size: 1389.96MB\n",
      "\n",
      "🔧 Pruning 89% of weights...\n"
     ]
    },
    {
     "name": "stderr",
     "output_type": "stream",
     "text": [
      "Some weights of DebertaV2ForSequenceClassification were not initialized from the model checkpoint at microsoft/mdeberta-v3-base and are newly initialized: ['classifier.bias', 'classifier.weight', 'pooler.dense.bias', 'pooler.dense.weight']\n",
      "You should probably TRAIN this model on a down-stream task to be able to use it for predictions and inference.\n"
     ]
    },
    {
     "name": "stdout",
     "output_type": "stream",
     "text": [
      "⚠️  Prediction collapse detected: {3: 3798}\n",
      "✅ Acc: 0.2493 | F1: 0.0798 | Latency: 2.43 ms/sample| Size: 1389.96MB\n",
      "\n",
      "📄 Sweep results saved to: adv_dl_models_final2_best_EX4_COMP\\MDEBERTA_EX4_prune_sweep_results.json\n"
     ]
    },
    {
     "data": {
      "image/png": "[encoded data removed]",
      "text/plain": [
       "<Figure size 800x500 with 1 Axes>"
      ]
     },
     "metadata": {},
     "output_type": "display_data"
    },
    {
     "name": "stdout",
     "output_type": "stream",
     "text": [
      "📊 Plot saved to: adv_dl_models_final2_best_EX4_COMP\\mdeberta_ex4_prune_sweep_plot.png\n"
     ]
    },
    {
     "data": {
      "image/png": "[encoded data removed]",
      "text/plain": [
       "<Figure size 800x500 with 1 Axes>"
      ]
     },
     "metadata": {},
     "output_type": "display_data"
    },
    {
     "name": "stdout",
     "output_type": "stream",
     "text": [
      "📊 Latency plot saved to: adv_dl_models_final2_best_EX4_COMP\\deberta_manual_prune_sweep_latency_ex4.png\n"
     ]
    },
    {
     "data": {
      "image/png": "[encoded data removed]",
      "text/plain": [
       "<Figure size 800x500 with 1 Axes>"
      ]
     },
     "metadata": {},
     "output_type": "display_data"
    },
    {
     "name": "stdout",
     "output_type": "stream",
     "text": [
      "📊 Model size plot saved to: adv_dl_models_final2_best_EX4_COMP\\deberta_manual_prune_sweep_modelsize_ex4.png\n"
     ]
    }
   ],
   "source": [
    "# ============================\n",
    "# EX4 (mDeBERTa-v3-base) pruning sweep + eval  (NO logit reordering)\n",
    "# ============================\n",
    "import os, time, json, torch, numpy as np\n",
    "import pandas as pd\n",
    "import matplotlib.pyplot as plt\n",
    "import torch.nn.utils.prune as prune\n",
    "from transformers import AutoTokenizer, AutoModelForSequenceClassification\n",
    "from sklearn.metrics import accuracy_score, f1_score, classification_report\n",
    "from collections import Counter\n",
    "\n",
    "# # ---- SET THESE ----\n",
    "# EX4_PT_PATH   = r\"/path/to/your/ex4_checkpoint.pt\"   # <- your EX4 best .pt\n",
    "# TEST_CSV_PATH = r\"/path/to/Corona_NLP_test_cleaned_translated.csv\"\n",
    "# --- FILE PATHS (EDIT THESE) ---\n",
    "TEST_CSV_PATH = \"Corona_NLP_test_cleaned_translated.csv\"\n",
    "EX4_PT_PATH   = r\"ex_4_model\\microsoft__mdeberta-v3-base_full_ex_4_20250817_133620\\best_state_dict.pt\"\n",
    "# ---- Device & constants ----\n",
    "DEVICE   = \"cuda\" if torch.cuda.is_available() else \"cpu\"\n",
    "MAX_LEN  = 512\n",
    "BATCH_SZ = 8\n",
    "\n",
    "# Canonical label order (this is what EX4 trained with)\n",
    "ORDER = [\"extremely negative\", \"negative\", \"neutral\", \"positive\", \"extremely positive\"]\n",
    "LABEL2ID = {lab: i for i, lab in enumerate(ORDER)}\n",
    "\n",
    "OUT_DIR = \"/KD_optuna_ex4\"\n",
    "# Get Model Size\n",
    "def get_model_size(model):\n",
    "    tmp_path = os.path.join(OUT_DIR, \"temp_model.pt\")\n",
    "    torch.save(model.state_dict(), tmp_path)\n",
    "    size_mb = os.path.getsize(tmp_path) / (1024*1024)\n",
    "    os.remove(tmp_path)\n",
    "    return size_mb\n",
    "\n",
    "# ---- Data ----\n",
    "def normalize_label(s: str) -> str:\n",
    "    s = str(s).strip().lower()\n",
    "    s = s.replace(\"very negative\", \"extremely negative\")\n",
    "    s = s.replace(\"very positive\", \"extremely positive\")\n",
    "    s = s.replace(\"extreme negative\", \"extremely negative\")\n",
    "    s = s.replace(\"extreme positive\", \"extremely positive\")\n",
    "    return s\n",
    "\n",
    "df_test = pd.read_csv(TEST_CSV_PATH)\n",
    "df_test[\"label\"] = df_test[\"Sentiment\"].apply(normalize_label).map(LABEL2ID)\n",
    "df_test[\"text\"]  = df_test[\"OriginalTweet\"].astype(str)\n",
    "test_df = df_test.dropna(subset=[\"text\",\"label\"]).reset_index(drop=True)\n",
    "print(\"✅ Test data loaded:\", test_df.shape)\n",
    "\n",
    "# ---- Eval helper (NO reorder_map) ----\n",
    "@torch.no_grad()\n",
    "def eval_model(model, tok, test_df, batch_size=32):\n",
    "    model.eval()\n",
    "    labels, preds_all, times = [], [], []\n",
    "    for start in range(0, len(test_df), batch_size):\n",
    "        texts = test_df[\"text\"].tolist()[start:start+batch_size]\n",
    "        labs  = test_df[\"label\"].tolist()[start:start+batch_size]\n",
    "        enc = tok(texts, truncation=True, padding=True, max_length=MAX_LEN,\n",
    "                  return_tensors=\"pt\").to(DEVICE)\n",
    "        t0 = time.time()\n",
    "        logits = model(**enc).logits\n",
    "        times.append((time.time() - t0) / logits.size(0))\n",
    "        preds_all.extend(logits.argmax(-1).cpu().numpy().tolist())\n",
    "        labels.extend(labs)\n",
    "    # quick collapse guard\n",
    "    dist = Counter(preds_all)\n",
    "    if max(dist.values())/len(preds_all) > 0.9:\n",
    "        print(\"⚠️  Prediction collapse detected:\", dict(dist))\n",
    "    acc = accuracy_score(labels, preds_all)\n",
    "    f1m = f1_score(labels, preds_all, average=\"macro\")\n",
    "    return acc, f1m, float(np.mean(times)), preds_all, labels\n",
    "\n",
    "# ---- Load tokenizer & BASE model that matches EX4 ----\n",
    "tok = AutoTokenizer.from_pretrained(\"microsoft/mdeberta-v3-base\")\n",
    "base = AutoModelForSequenceClassification.from_pretrained(\n",
    "    \"microsoft/mdeberta-v3-base\", num_labels=len(ORDER)\n",
    ")\n",
    "state = torch.load(EX4_PT_PATH, map_location=\"cpu\")\n",
    "base.load_state_dict(state)          # <- your trained weights\n",
    "base.to(DEVICE).eval()\n",
    "\n",
    "# Baseline\n",
    "acc_b, f1_b, lat_b, preds_b, labels_b = eval_model(base, tok, test_df, batch_size=BATCH_SZ)\n",
    "print(\"=== Baseline (FP32) ===\")\n",
    "print(f\"Accuracy {acc_b:.4f} | Macro-F1 {f1_b:.4f} | Latency {lat_b*1000:.2f} ms/sample\")\n",
    "print(classification_report(labels_b, preds_b, target_names=ORDER, digits=4, zero_division=0))\n",
    "\n",
    "# ---- Pruning sweep ----\n",
    "results = []\n",
    "save_dir = \"adv_dl_models_final2_best_EX4_COMP\"\n",
    "os.makedirs(save_dir, exist_ok=True)\n",
    "\n",
    "percentages = np.round(np.arange(0.0, 0.9, 0.1), 2).tolist()  # [0.00 .. 0.80]\n",
    "percentages.append(0.89)\n",
    "\n",
    "for pct in percentages:\n",
    "    print(f\"\\n🔧 Pruning {pct*100:.0f}% of weights...\")\n",
    "    model = AutoModelForSequenceClassification.from_pretrained(\n",
    "        \"microsoft/mdeberta-v3-base\", num_labels=len(ORDER)\n",
    "    )\n",
    "    model.load_state_dict(torch.load(EX4_PT_PATH, map_location=\"cpu\"))\n",
    "    model.eval()\n",
    "\n",
    "    if pct > 0.0:\n",
    "        to_prune = []\n",
    "        for m in model.modules():\n",
    "            if isinstance(m, torch.nn.Linear):\n",
    "                to_prune.append((m, \"weight\"))\n",
    "        prune.global_unstructured(to_prune, pruning_method=prune.L1Unstructured, amount=pct)\n",
    "        # (optional) make pruning permanent if you want to save pruned weights:\n",
    "        # for m, _ in to_prune: prune.remove(m, \"weight\")\n",
    "\n",
    "    model.to(DEVICE)\n",
    "    acc, f1m, latency, preds, labels = eval_model(model, tok, test_df, batch_size=BATCH_SZ)\n",
    "    size_mb = get_model_size(model) \n",
    "    print(f\"✅ Acc: {acc:.4f} | F1: {f1m:.4f} | Latency: {latency*1000:.2f} ms/sample| Size: {size_mb:.2f}MB\")\n",
    "\n",
    "    results.append({\n",
    "        \"prune_pct\": round(pct, 2),\n",
    "        \"accuracy\": round(acc, 4),\n",
    "        \"macro_f1\": round(f1m, 4),\n",
    "        \"latency_ms_per_sample\": round(latency*1000, 2),\n",
    "        \"model_size_mb\": round(size_mb, 2)\n",
    "    })\n",
    "\n",
    "# ---- Save results ----\n",
    "json_path = os.path.join(save_dir, \"MDEBERTA_EX4_prune_sweep_results.json\")\n",
    "with open(json_path, \"w\") as f:\n",
    "    json.dump(results, f, indent=2)\n",
    "print(f\"\\n📄 Sweep results saved to: {json_path}\")\n",
    "\n",
    "# ---- Plot ----\n",
    "x = [r[\"prune_pct\"] for r in results]\n",
    "y_acc = [r[\"accuracy\"] for r in results]\n",
    "y_f1  = [r[\"macro_f1\"] for r in results]\n",
    "\n",
    "plt.figure(figsize=(8,5))\n",
    "plt.plot(x, y_acc, label=\"Accuracy\", marker=\"o\")\n",
    "plt.plot(x, y_f1,  label=\"Macro-F1\", marker=\"s\")\n",
    "plt.xlabel(\"Pruned % of Weights\"); plt.ylabel(\"Score\")\n",
    "plt.title(\"EX4 mDeBERTa-v3: Performance vs. Pruning Percentage\")\n",
    "plt.grid(True); plt.legend()\n",
    "plot_path = os.path.join(save_dir, \"mdeberta_ex4_prune_sweep_plot.png\")\n",
    "plt.savefig(plot_path, bbox_inches=\"tight\"); plt.show()\n",
    "print(f\"📊 Plot saved to: {plot_path}\")\n",
    "\n",
    "\n",
    "# --- NEW: Latency plot ---\n",
    "y_lat = [r[\"latency_ms_per_sample\"] for r in results]\n",
    "plt.figure(figsize=(8, 5))\n",
    "plt.plot(x, y_lat, label=\"Latency (ms/sample)\", marker=\"^\", color=\"red\")\n",
    "plt.xlabel(\"Pruned % of Weights\")\n",
    "plt.ylabel(\"Latency (ms/sample)\")\n",
    "plt.title(\"Latency vs. Pruning Percentage\")\n",
    "plt.grid(True)\n",
    "plt.legend()\n",
    "lat_plot_path = os.path.join(save_dir, \"deberta_manual_prune_sweep_latency_ex4.png\")\n",
    "plt.savefig(lat_plot_path)\n",
    "plt.show()\n",
    "print(f\"📊 Latency plot saved to: {lat_plot_path}\")\n",
    "\n",
    "# --- NEW: Model size plot ---\n",
    "y_size = [r[\"model_size_mb\"] for r in results]\n",
    "plt.figure(figsize=(8, 5))\n",
    "plt.plot(x, y_size, label=\"Model Size (MB)\", marker=\"d\", color=\"green\")\n",
    "plt.xlabel(\"Pruned % of Weights\")\n",
    "plt.ylabel(\"Model Size (MB)\")\n",
    "plt.title(\"Model Size vs. Pruning Percentage\")\n",
    "plt.grid(True)\n",
    "plt.legend()\n",
    "size_plot_path = os.path.join(save_dir, \"deberta_manual_prune_sweep_modelsize_ex4.png\")\n",
    "plt.savefig(size_plot_path)\n",
    "plt.show()\n",
    "print(f\"📊 Model size plot saved to: {size_plot_path}\")\n"
   ]
  },
  {
   "cell_type": "markdown",
   "id": "89085ca3-ff0f-41b3-aecd-0d15e7991126",
   "metadata": {
    "ExecuteTime": {
     "end_time": "2025-08-18T17:00:03.400182Z",
     "start_time": "2025-08-18T17:00:03.392677Z"
    }
   },
   "source": [
    "# 🌲 Pruning Sweep Results: mDeBERTa-v3 (EX4)\n",
    "\n",
    "## 📊 Baseline (Unpruned FP32)\n",
    "- **Accuracy**: 0.8662  \n",
    "- **Macro-F1**: 0.8686  \n",
    "- **Latency**: ~2.1 ms/sample  \n",
    "- **Model Size**: ~1060 MB  \n",
    "\n",
    "---\n",
    "\n",
    "## ✂️ Effect of Pruning\n",
    "\n",
    "| Pruned % | Accuracy | Macro-F1 | Latency (ms/sample) | Model Size (MB) | Notes |\n",
    "|---------:|---------:|---------:|---------------------|----------------:|-------|\n",
    "| 0%       | 0.8662   | 0.8686   | 2.1                 | 1060            | Baseline |\n",
    "| 10%      | ~0.865   | ~0.868   | 2.5                 | 1390            | Near-lossless |\n",
    "| 20%      | ~0.860   | ~0.862   | 2.6                 | 1390            | Still stable |\n",
    "| 30%      | ~0.850   | ~0.852   | 2.5                 | 1390            | Small decline |\n",
    "| 40%      | ~0.794   | ~0.785   | 2.5                 | 1390            | Start of sharp drop |\n",
    "| 50%      | ~0.599   | ~0.521   | 2.3                 | 1390            | Major collapse |\n",
    "| 60%+     | ≤0.27    | ≤0.18    | 2.4–2.7             | 1390            | Collapse zone |\n",
    "\n",
    "---\n",
    "\n",
    "## 📉 Observations\n",
    "- **Performance**: Stable until ~20% pruning, after which accuracy and F1 drop steeply. Beyond 50%, the model collapses (predicts mostly one class).  \n",
    "- **Latency**: Did **not improve** with pruning. In fact, it fluctuates around 2.3–2.7 ms/sample because PyTorch dense kernels don’t benefit from unstructured sparsity.  \n",
    "- **Model Size**: Jumps from ~1060 MB to ~1390 MB after pruning (due to the mask storage overhead in unstructured pruning). Size stays flat afterward.  \n",
    "\n",
    "---\n",
    "\n",
    "## 🖼️ Graphs\n",
    "- **Performance vs. Pruning**: Accuracy/F1 flat until ~20%, then collapses.  \n",
    "- **Latency vs. Pruning**: No consistent speedup; pruning does not reduce inference time.  \n",
    "- **Size vs. Pruning**: Counterintuitively increases due to pruning mask overhead.\n",
    "\n",
    "---\n",
    "\n",
    "## ✅ Takeaways\n",
    "- Safe pruning budget: **0–20%** (almost no performance loss).  \n",
    "- Beyond 40%, the model degrades rapidly.  \n",
    "- **Unstructured pruning is not effective** for reducing latency or size in practice.  \n",
    "\n",
    "👉 To really get benefits, we would need:\n",
    "- **Structured pruning** (whole heads/neurons).  \n",
    "- **Pruning-aware fine-tuning** to recover lost accuracy.  \n",
    "- **Sparse kernels** or optimized backends that exploit sparsity.  \n",
    "Due lack of time we will not continue exploration of other options."
   ]
  },
  {
   "cell_type": "markdown",
   "id": "d1b6aa63-25b0-49b5-80b6-22e0fc7b0b62",
   "metadata": {},
   "source": [
    "# Knowledge Distillation (KD) with Optuna + Early Stopping + W&B\n",
    "### Teacher = mDeBERTa-v3-base (EX4 checkpoint)  \n",
    "### Student = DeBERTa-v3-small\n",
    "\n",
    "---\n",
    "\n",
    "## 🎓 What is KD?\n",
    "Knowledge Distillation (KD) is a technique where a **large, accurate model (teacher)** guides the training of a **smaller, faster model (student)**.  \n",
    "The student learns not only from ground-truth labels but also from the teacher’s “soft” predictions (logits), which transfer richer knowledge about class similarities.  \n",
    "This allows the student to approximate the teacher’s performance while being **lighter, faster, and easier to deploy**.\n",
    "\n",
    "---\n",
    "\n",
    "## ⚙️ Our Strategy\n",
    "- **Teacher**: mDeBERTa-v3-base (trained in EX4).  \n",
    "- **Student**: DeBERTa-v3-small – a compact Transformer model with fewer layers, smaller hidden dimensions, and fewer attention heads.  \n",
    "  - Keeps DeBERTa’s innovations: **disentangled attention** (separating content vs. position) and **relative position bias** (better handling of token distances).  \n",
    "  - Targeted for **lower latency** and **smaller footprint** while maintaining strong accuracy.  \n",
    "- **Tuning**: We run **Optuna hyperparameter search** with **early stopping (patience=3)** to optimize KD settings (temperature, α, label smoothing, LR, etc.).  \n",
    "- **Monitoring**: We track performance (F1/Acc), latency (ms/sample), and model size (params + MB) in **Weights & Biases (W&B)**.  \n",
    "- **Goal**: Achieve a practical balance of **accuracy**, **speed**, and **compactness**, making the student model suitable for deployment on resource-limited environments.\n",
    "\n",
    "---\n",
    "\n",
    "## 📊 Teacher vs. Student (architecture & efficiency)\n",
    "\n",
    "| Model              | Layers | Hidden Dim | Attention Heads | Params (M) | Size (MB, fp32 est.) | Latency (ms/sample, CPU est.) |\n",
    "|--------------------|--------|------------|-----------------|------------|-----------------------|-------------------------------|\n",
    "| **mDeBERTa-v3-base** (Teacher) | 12     | 768        | 12              | ~184M      | ~700 MB              | ~2–3 ms                       |\n",
    "| **DeBERTa-v3-small** (Student) | 6      | 384        | 6               | ~22M       | ~85 MB               | <1 ms                         |\n",
    "\n",
    "> ✅ The student is ~8× smaller and much faster, while KD helps recover as much accuracy as possible from the teacher.\n",
    "\n",
    "---\n",
    "### Knowledge Distillation – First Optuna Run\n",
    "\n",
    "This was our **first sweep with Optuna** for KD hyperparameters.  \n",
    "The goal was to keep the ranges **broad but reasonable**, covering the main factors that influence student performance:\n",
    "\n",
    "- **α (alpha, 0.2–0.8):** balances the cross-entropy loss on ground truth vs. KL-divergence from the teacher.  \n",
    "- **T (temperature, 1.0–5.0):** controls softening of the teacher logits.  \n",
    "- **epochs (2–10):** allows both short and longer training schedules, to test sensitivity to early stopping.  \n",
    "- **fine_tune_layers (2–6):** number of last transformer layers unfrozen in the student; captures trade-off between speed and capacity.  \n",
    "- **learning rate (8e-6 – 7e-5, log-scale):** wide but typical range for transformer fine-tuning.  \n",
    "\n",
    "We chose these ranges to **explore stability and efficiency** without making the search too large.  \n",
    "This run serves as a **baseline Optuna search** to understand which hyperparameters matter most for our KD setup.\n"
   ]
  },
  {
   "cell_type": "markdown",
   "id": "25beee78-82b3-4b55-8de8-1cc272b4a3e8",
   "metadata": {},
   "source": [
    "# Training"
   ]
  },
  {
   "cell_type": "code",
   "execution_count": null,
   "id": "bf8407e3bbd77969",
   "metadata": {
    "ExecuteTime": {
     "start_time": "2025-08-19T08:02:50.815516Z"
    },
    "jupyter": {
     "is_executing": true
    }
   },
   "outputs": [
    {
     "name": "stderr",
     "output_type": "stream",
     "text": [
      "C:\\Users\\adishalit1\\AppData\\Local\\anaconda3\\envs\\dl4090\\Lib\\site-packages\\tqdm\\auto.py:21: TqdmWarning: IProgress not found. Please update jupyter and ipywidgets. See https://ipywidgets.readthedocs.io/en/stable/user_install.html\n",
      "  from .autonotebook import tqdm as notebook_tqdm\n"
     ]
    },
    {
     "name": "stdout",
     "output_type": "stream",
     "text": [
      "✅ Using device: cuda\n",
      "✅ Label mapping: {'neutral': 0, 'positive': 1, 'extremely negative': 2, 'negative': 3, 'extremely positive': 4}\n",
      "✅ DataLoaders ready: train=5145, test=475\n"
     ]
    },
    {
     "name": "stderr",
     "output_type": "stream",
     "text": [
      "C:\\Users\\adishalit1\\AppData\\Local\\anaconda3\\envs\\dl4090\\Lib\\site-packages\\transformers\\convert_slow_tokenizer.py:564: UserWarning: The sentencepiece tokenizer that you are converting to a fast tokenizer uses the byte fallback option which is not implemented in the fast tokenizers. In practice this means that the fast version of the tokenizer can produce unknown tokens whereas the sentencepiece version would have converted these unknown tokens into a sequence of byte tokens matching the original piece of text.\n",
      "  warnings.warn(\n"
     ]
    },
    {
     "name": "stdout",
     "output_type": "stream",
     "text": [
      "✅ Tokenizers loaded\n"
     ]
    },
    {
     "name": "stderr",
     "output_type": "stream",
     "text": [
      "Some weights of DebertaV2ForSequenceClassification were not initialized from the model checkpoint at microsoft/mdeberta-v3-base and are newly initialized: ['classifier.bias', 'classifier.weight', 'pooler.dense.bias', 'pooler.dense.weight']\n",
      "You should probably TRAIN this model on a down-stream task to be able to use it for predictions and inference.\n",
      "[I 2025-08-19 11:03:03,789] A new study created in memory with name: no-name-afed1fe3-500e-4fdb-b132-eaaf6989c530\n",
      "\u001b[34m\u001b[1mwandb\u001b[0m: \u001b[32m\u001b[41mERROR\u001b[0m Failed to detect the name of this notebook. You can set it manually with the WANDB_NOTEBOOK_NAME environment variable to enable code saving.\n"
     ]
    },
    {
     "name": "stdout",
     "output_type": "stream",
     "text": [
      "✅ Teacher loaded & frozen with correct label mapping\n",
      "🚀 Starting Optuna\n",
      "\n",
      "🔎 Trial 0 | alpha=0.6041028193320546, T=1.0049352770364188, epochs=5, fine_tune_layers=6, lr=2.6340613595278393e-05\n"
     ]
    },
    {
     "name": "stderr",
     "output_type": "stream",
     "text": [
      "\u001b[34m\u001b[1mwandb\u001b[0m: Currently logged in as: \u001b[33madishalit1\u001b[0m (\u001b[33madishalit1-tel-aviv-university\u001b[0m) to \u001b[32mhttps://api.wandb.ai\u001b[0m. Use \u001b[1m`wandb login --relogin`\u001b[0m to force relogin\n"
     ]
    },
    {
     "data": {
      "text/html": [
       "creating run (0.3s)"
      ],
      "text/plain": [
       "<IPython.core.display.HTML object>"
      ]
     },
     "metadata": {},
     "output_type": "display_data"
    },
    {
     "data": {
      "text/html": [
       "Tracking run with wandb version 0.21.1"
      ],
      "text/plain": [
       "<IPython.core.display.HTML object>"
      ]
     },
     "metadata": {},
     "output_type": "display_data"
    },
    {
     "data": {
      "text/html": [
       "Run data is saved locally in <code>C:\\Users\\adishalit1\\Desktop\\Adi\\ADL\\DL_2_Project\\wandb\\run-20250819_110304-4ro6c9u5</code>"
      ],
      "text/plain": [
       "<IPython.core.display.HTML object>"
      ]
     },
     "metadata": {},
     "output_type": "display_data"
    },
    {
     "data": {
      "text/html": [
       "Syncing run <strong><a href='https://wandb.ai/adishalit1-tel-aviv-university/KD_optuna_ex4_new/runs/4ro6c9u5' target=\"_blank\">trial_0</a></strong> to <a href='https://wandb.ai/adishalit1-tel-aviv-university/KD_optuna_ex4_new' target=\"_blank\">Weights & Biases</a> (<a href='https://wandb.me/developer-guide' target=\"_blank\">docs</a>)<br>"
      ],
      "text/plain": [
       "<IPython.core.display.HTML object>"
      ]
     },
     "metadata": {},
     "output_type": "display_data"
    },
    {
     "data": {
      "text/html": [
       " View project at <a href='https://wandb.ai/adishalit1-tel-aviv-university/KD_optuna_ex4_new' target=\"_blank\">https://wandb.ai/adishalit1-tel-aviv-university/KD_optuna_ex4_new</a>"
      ],
      "text/plain": [
       "<IPython.core.display.HTML object>"
      ]
     },
     "metadata": {},
     "output_type": "display_data"
    },
    {
     "data": {
      "text/html": [
       " View run at <a href='https://wandb.ai/adishalit1-tel-aviv-university/KD_optuna_ex4_new/runs/4ro6c9u5' target=\"_blank\">https://wandb.ai/adishalit1-tel-aviv-university/KD_optuna_ex4_new/runs/4ro6c9u5</a>"
      ],
      "text/plain": [
       "<IPython.core.display.HTML object>"
      ]
     },
     "metadata": {},
     "output_type": "display_data"
    },
    {
     "name": "stderr",
     "output_type": "stream",
     "text": [
      "Some weights of DebertaV2ForSequenceClassification were not initialized from the model checkpoint at microsoft/deberta-v3-small and are newly initialized: ['classifier.bias', 'classifier.weight', 'pooler.dense.bias', 'pooler.dense.weight']\n",
      "You should probably TRAIN this model on a down-stream task to be able to use it for predictions and inference.\n"
     ]
    },
    {
     "name": "stdout",
     "output_type": "stream",
     "text": [
      "✅ Student (deberta-v3-small) initialized with correct num_labels\n",
      "   🔓 Unfroze student layer 1 / 6\n",
      "   🔓 Unfroze student layer 2 / 6\n",
      "   🔓 Unfroze student layer 3 / 6\n",
      "   🔓 Unfroze student layer 4 / 6\n",
      "   🔓 Unfroze student layer 5 / 6\n",
      "   🔓 Unfroze student layer 6 / 6\n",
      "✅ Unfroze last 6 layers + classifier\n",
      "\n",
      "▶️ Epoch 1/5\n"
     ]
    },
    {
     "name": "stderr",
     "output_type": "stream",
     "text": [
      "Trial 0 Epoch 1:   0%|          | 0/5145 [00:00<?, ?it/s]C:\\Users\\adishalit1\\AppData\\Local\\Temp\\ipykernel_13536\\2207626295.py:203: UserWarning: To copy construct from a tensor, it is recommended to use sourceTensor.clone().detach() or sourceTensor.clone().detach().requires_grad_(True), rather than torch.tensor(sourceTensor).\n",
      "  labels_t = torch.tensor(labels, dtype=torch.long, device=DEVICE)\n",
      "Trial 0 Epoch 1:  22%|██▏       | 1109/5145 [00:40<02:24, 27.93it/s, loss=1.42] "
     ]
    }
   ],
   "source": [
    "# === KD with Optuna + Early Stopping (patience=3) + W&B logging + per-class F1 + PRINTS\n",
    "# Teacher: microsoft/mdeberta-v3-base  (load your EX4 .pt)\n",
    "# Student: microsoft/deberta-v3-small\n",
    "# HP kept identical to your template (alpha/T/epochs/fine_tune_layers/lr, bs=8)\n",
    "# ==============================================================================\n",
    "\n",
    "import os, json, torch, optuna, wandb, time, warnings\n",
    "import numpy as np\n",
    "import pandas as pd\n",
    "from torch.utils.data import DataLoader, Dataset\n",
    "from transformers import (\n",
    "    AutoTokenizer, AutoModelForSequenceClassification, get_scheduler\n",
    ")\n",
    "from sklearn.metrics import accuracy_score, f1_score\n",
    "from tqdm import tqdm\n",
    "\n",
    "# -------------------------\n",
    "# Setup\n",
    "# -------------------------\n",
    "DEVICE = \"cuda\" if torch.cuda.is_available() else \"cpu\"\n",
    "print(f\"✅ Using device: {DEVICE}\")\n",
    "\n",
    "OUT_DIR = \"/KD_optuna_ex4\"\n",
    "os.makedirs(OUT_DIR, exist_ok=True)\n",
    "\n",
    "# ---- Teacher (EX4) ----\n",
    "TEACHER_NAME    = \"microsoft/mdeberta-v3-base\"  # match your EX4 base arch\n",
    "TEACHER_PT_PATH = r\"ex_4_model\\microsoft__mdeberta-v3-base_full_ex_4_20250817_133620\\best_state_dict.pt\"\n",
    "\n",
    "# ---- Student ----\n",
    "STUDENT_NAME = \"microsoft/deberta-v3-small\"\n",
    "\n",
    "# -------------------------\n",
    "# Load Data + Label Mapping (canonical, deterministic)\n",
    "# -------------------------\n",
    "def normalize_label(s: str) -> str:\n",
    "    s = str(s).strip().lower()\n",
    "    s = s.replace(\"very negative\", \"extremely negative\")\n",
    "    s = s.replace(\"very positive\", \"extremely positive\")\n",
    "    s = s.replace(\"extreme negative\", \"extremely negative\")\n",
    "    s = s.replace(\"extreme positive\", \"extremely positive\")\n",
    "    return s\n",
    "\n",
    "# canonical order (Set2 style you used before)\n",
    "ORDER = [\"neutral\", \"positive\", \"extremely negative\", \"negative\", \"extremely positive\"]\n",
    "LABEL2ID = {lab: i for i, lab in enumerate(ORDER)}\n",
    "ID2LABEL = {i: lab for lab, i in LABEL2ID.items()}\n",
    "print(f\"✅ Label mapping: {LABEL2ID}\")\n",
    "\n",
    "train_df = pd.read_csv(\"Corona_NLP_train_cleaned_translated.csv\")\n",
    "test_df  = pd.read_csv(\"Corona_NLP_test_cleaned_translated.csv\")\n",
    "\n",
    "for df in (train_df, test_df):\n",
    "    df[\"OriginalTweet\"] = df[\"OriginalTweet\"].astype(str).str.strip()\n",
    "    df[\"Sentiment\"] = df[\"Sentiment\"].map(lambda x: normalize_label(x))\n",
    "    df[\"label\"] = df[\"Sentiment\"].map(LABEL2ID)\n",
    "\n",
    "assert train_df[\"label\"].isnull().sum() == 0, \"❌ Unmapped train labels!\"\n",
    "assert test_df[\"label\"].isnull().sum() == 0, \"❌ Unmapped test labels!\"\n",
    "\n",
    "# -------------------------\n",
    "# Dataset (return RAW text so we can tokenize with teacher+student separately)\n",
    "# -------------------------\n",
    "class TextDataset(Dataset):\n",
    "    def __init__(self, df):\n",
    "        self.texts = df[\"OriginalTweet\"].tolist()\n",
    "        self.labels = df[\"label\"].tolist()\n",
    "    def __len__(self): return len(self.texts)\n",
    "    def __getitem__(self, idx):\n",
    "        return self.texts[idx], int(self.labels[idx])\n",
    "\n",
    "train_ds, test_ds = TextDataset(train_df), TextDataset(test_df)\n",
    "train_loader = DataLoader(train_ds, batch_size=8, shuffle=True)\n",
    "test_loader  = DataLoader(test_ds, batch_size=8)\n",
    "print(f\"✅ DataLoaders ready: train={len(train_loader)}, test={len(test_loader)}\")\n",
    "\n",
    "# -------------------------\n",
    "# Tokenizers\n",
    "# -------------------------\n",
    "tok_teacher = AutoTokenizer.from_pretrained(TEACHER_NAME, use_fast=True)\n",
    "tok_student = AutoTokenizer.from_pretrained(STUDENT_NAME, use_fast=True)\n",
    "print(\"✅ Tokenizers loaded\")\n",
    "\n",
    "# -------------------------\n",
    "# Teacher (frozen) — correct arch + label map\n",
    "# -------------------------\n",
    "teacher = AutoModelForSequenceClassification.from_pretrained(\n",
    "    TEACHER_NAME, num_labels=len(LABEL2ID), id2label=ID2LABEL, label2id=LABEL2ID\n",
    ")\n",
    "sd = torch.load(TEACHER_PT_PATH, map_location=\"cpu\")\n",
    "try:\n",
    "    teacher.load_state_dict(sd, strict=True)\n",
    "except RuntimeError as e:\n",
    "    warnings.warn(f\"[Teacher] strict=True failed: {e}\\nRetrying with strict=False\")\n",
    "    teacher.load_state_dict(sd, strict=False)\n",
    "teacher.to(DEVICE).eval()\n",
    "for p in teacher.parameters():\n",
    "    p.requires_grad = False\n",
    "print(\"✅ Teacher loaded & frozen with correct label mapping\")\n",
    "\n",
    "# -------------------------\n",
    "# KD loss\n",
    "# -------------------------\n",
    "def kd_loss_fn(student_logits, teacher_logits, labels, alpha=0.5, T=2.0):\n",
    "    ce = torch.nn.functional.cross_entropy(student_logits, labels)\n",
    "    kd = torch.nn.functional.kl_div(\n",
    "        torch.nn.functional.log_softmax(student_logits/T, dim=-1),\n",
    "        torch.nn.functional.softmax(teacher_logits/T, dim=-1),\n",
    "        reduction=\"batchmean\"\n",
    "    ) * (T*T)\n",
    "    return alpha * ce + (1 - alpha) * kd\n",
    "\n",
    "# -------------------------\n",
    "# Helpers: model size + latency\n",
    "# -------------------------\n",
    "def get_model_size(model):\n",
    "    tmp_path = os.path.join(OUT_DIR, \"temp_model.pt\")\n",
    "    torch.save(model.state_dict(), tmp_path)\n",
    "    size_mb = os.path.getsize(tmp_path) / (1024*1024)\n",
    "    os.remove(tmp_path)\n",
    "    return size_mb\n",
    "\n",
    "@torch.no_grad()\n",
    "def get_latency(model, loader, tokenizer, max_len=512, n_batches=20):\n",
    "    model.eval()\n",
    "    times = []\n",
    "    for i, (texts, _) in enumerate(loader):\n",
    "        if i >= n_batches: break\n",
    "        enc = tokenizer(list(texts), truncation=True, padding=True, max_length=max_len, return_tensors=\"pt\").to(DEVICE)\n",
    "        if torch.cuda.is_available(): torch.cuda.synchronize()\n",
    "        t0 = time.perf_counter()\n",
    "        _ = model(**enc)\n",
    "        if torch.cuda.is_available(): torch.cuda.synchronize()\n",
    "        dt = (time.perf_counter() - t0) / enc[\"input_ids\"].size(0)\n",
    "        times.append(dt)\n",
    "    return (np.mean(times) * 1000.0) if times else None  # ms/sample\n",
    "\n",
    "# -------------------------\n",
    "# Optuna Objective\n",
    "# -------------------------\n",
    "def objective(trial):\n",
    "    # (keep SAME ranges as your code)\n",
    "    alpha = trial.suggest_float(\"alpha\", 0.2, 0.8)\n",
    "    T = trial.suggest_float(\"T\", 1.0, 5.0)\n",
    "    max_epochs = trial.suggest_int(\"epochs\", 2, 10)\n",
    "    fine_tune_layers = trial.suggest_int(\"fine_tune_layers\", 2, 6)\n",
    "    lr = trial.suggest_float(\"learning_rate\", 8e-6, 7e-5, log=True)\n",
    "\n",
    "    print(f\"\\n🔎 Trial {trial.number} | alpha={alpha}, T={T}, epochs={max_epochs}, \"\n",
    "          f\"fine_tune_layers={fine_tune_layers}, lr={lr}\")\n",
    "\n",
    "    wandb.init(\n",
    "        project=\"KD_optuna_ex4_new\",\n",
    "        name=f\"trial_{trial.number}\",\n",
    "        config={\"alpha\": alpha, \"T\": T, \"epochs\": max_epochs,\n",
    "                \"fine_tune_layers\": fine_tune_layers, \"lr\": lr}\n",
    "    )\n",
    "\n",
    "    # --- Student: DeBERTa-v3-small ---\n",
    "    student = AutoModelForSequenceClassification.from_pretrained(\n",
    "        STUDENT_NAME,\n",
    "        num_labels=len(LABEL2ID),\n",
    "        id2label=ID2LABEL, label2id=LABEL2ID\n",
    "    ).to(DEVICE)\n",
    "    print(\"✅ Student (deberta-v3-small) initialized with correct num_labels\")\n",
    "\n",
    "    # Freeze all, unfreeze last `fine_tune_layers` of encoder + classifier\n",
    "    for p in student.parameters():\n",
    "        p.requires_grad = False\n",
    "    # DeBERTa encoder path\n",
    "    enc_layers = student.deberta.encoder.layer\n",
    "    n_layers = len(enc_layers)\n",
    "    k = min(fine_tune_layers, n_layers)\n",
    "    for i, layer in enumerate(enc_layers[-k:], 1):\n",
    "        for p in layer.parameters(): p.requires_grad = True\n",
    "        print(f\"   🔓 Unfroze student layer {n_layers - k + i} / {n_layers}\")\n",
    "    # classifier head\n",
    "    if hasattr(student, \"classifier\"):\n",
    "        for p in student.classifier.parameters(): p.requires_grad = True\n",
    "    print(f\"✅ Unfroze last {k} layers + classifier\")\n",
    "\n",
    "    # --- OPTIM + SCHEDULER (replace AdamW => torch.optim.AdamW) ---\n",
    "    optim = torch.optim.AdamW(filter(lambda p: p.requires_grad, student.parameters()), lr=lr)\n",
    "    sched = get_scheduler(\"linear\", optim, num_warmup_steps=0,\n",
    "                          num_training_steps=len(train_loader) * max_epochs)\n",
    "\n",
    "    best_val_f1 = -1\n",
    "    patience = 3\n",
    "    patience_counter = 0\n",
    "\n",
    "    for epoch in range(max_epochs):\n",
    "        print(f\"\\n▶️ Epoch {epoch+1}/{max_epochs}\")\n",
    "        student.train()\n",
    "        loop = tqdm(train_loader, desc=f\"Trial {trial.number} Epoch {epoch+1}\")\n",
    "\n",
    "        for step, (texts, labels) in enumerate(loop):\n",
    "            # Tokenize with BOTH tokenizers (teacher & student)\n",
    "            with torch.no_grad():\n",
    "                enc_t = tok_teacher(list(texts), truncation=True, padding=True, max_length=512, return_tensors=\"pt\").to(DEVICE)\n",
    "                t_out = teacher(**enc_t)\n",
    "            enc_s = tok_student(list(texts), truncation=True, padding=True, max_length=512, return_tensors=\"pt\").to(DEVICE)\n",
    "\n",
    "            labels_t = torch.tensor(labels, dtype=torch.long, device=DEVICE)\n",
    "            s_out = student(**enc_s)\n",
    "\n",
    "            loss = kd_loss_fn(s_out.logits, t_out.logits, labels_t, alpha=alpha, T=T)\n",
    "            optim.zero_grad(); loss.backward(); optim.step(); sched.step()\n",
    "            loop.set_postfix(loss=loss.item())\n",
    "            wandb.log({\"train_loss\": loss.item(), \"epoch\": epoch+1, \"step\": step})\n",
    "\n",
    "        # === Validation ===\n",
    "        student.eval()\n",
    "        all_preds, all_labels = [], []\n",
    "        for texts, labels in test_loader:\n",
    "            with torch.no_grad():\n",
    "                enc = tok_student(list(texts), truncation=True, padding=True, max_length=512, return_tensors=\"pt\").to(DEVICE)\n",
    "                out = student(**enc)\n",
    "            preds = out.logits.argmax(dim=-1).cpu().numpy()\n",
    "            all_preds.extend(preds)\n",
    "            all_labels.extend(np.asarray(labels))\n",
    "\n",
    "        macro_f1 = f1_score(all_labels, all_preds, average=\"macro\")\n",
    "        acc = accuracy_score(all_labels, all_preds)\n",
    "        class_f1s = f1_score(all_labels, all_preds, average=None, labels=list(range(len(LABEL2ID))))\n",
    "        print(f\"📊 Epoch {epoch+1} done. Val Macro-F1={macro_f1:.4f}, Acc={acc:.4f}\")\n",
    "\n",
    "        wandb.log({\n",
    "            \"epoch\": epoch+1, \"val_macro_f1\": macro_f1, \"val_acc\": acc,\n",
    "            **{f\"F1_{ID2LABEL[i]}\": class_f1s[i] for i in range(len(ID2LABEL))}\n",
    "        })\n",
    "\n",
    "        if macro_f1 > best_val_f1:\n",
    "            best_val_f1 = macro_f1\n",
    "            patience_counter = 0\n",
    "            print(\"   ✅ New best F1\")\n",
    "        else:\n",
    "            patience_counter += 1\n",
    "            print(f\"   ⚠️ No improvement. Patience counter={patience_counter}\")\n",
    "            if patience_counter >= patience:\n",
    "                print(f\"⏹️ Early stopping at epoch {epoch+1}\")\n",
    "                break\n",
    "\n",
    "    # === Size & Latency Measurement (student) ===\n",
    "    model_size = get_model_size(student)\n",
    "    latency = get_latency(student, test_loader, tokenizer=tok_student, max_len=512, n_batches=20)\n",
    "    print(f\"📦 Model size: {model_size:.2f} MB | ⏱️ Latency: {latency:.2f} ms/sample\")\n",
    "\n",
    "    wandb.log({\"model_size_mb\": model_size, \"latency_ms\": latency})\n",
    "    wandb.finish()\n",
    "\n",
    "    trial.set_user_attr(\"macro_f1\", best_val_f1)\n",
    "    trial.set_user_attr(\"model_size_mb\", model_size)\n",
    "    trial.set_user_attr(\"latency_ms\", latency)\n",
    "    return best_val_f1\n",
    "\n",
    "# -------------------------\n",
    "# Run Optuna\n",
    "# -------------------------\n",
    "print(\"🚀 Starting Optuna\")\n",
    "study = optuna.create_study(direction=\"maximize\")\n",
    "study.optimize(objective, n_trials=10)\n",
    "\n",
    "print(\"✅ Study complete\")\n",
    "print(\"Best trial:\", study.best_trial.number)\n",
    "print(\"  Macro-F1:\", study.best_value)\n",
    "print(\"  Params:\", study.best_trial.params)\n",
    "\n",
    "# -------------------------\n",
    "# Save best results (incl size & latency)\n",
    "# -------------------------\n",
    "best_path = os.path.join(OUT_DIR, \"best_study_kd_new.json\")\n",
    "with open(best_path, \"w\") as f:\n",
    "    json.dump({\n",
    "        \"trial\": study.best_trial.number,\n",
    "        \"macro_f1\": study.best_value,\n",
    "        \"params\": study.best_trial.params,\n",
    "        \"model_size_mb\": study.best_trial.user_attrs.get(\"model_size_mb\", None),\n",
    "        \"latency_ms\": study.best_trial.user_attrs.get(\"latency_ms\", None)\n",
    "    }, f, indent=2)\n",
    "print(\"✅ Best trial saved:\", best_path)\n"
   ]
  },
  {
   "cell_type": "markdown",
   "id": "cd33170e-b1d8-42e3-a10f-73c4293719bc",
   "metadata": {},
   "source": [
    "# 🔑 Knowledge Distillation – First Optuna Run Results\n",
    "\n",
    "We performed an initial Optuna sweep to tune hyperparameters for the student model (DeBERTa-v3-small) distilled from the teacher (mDeBERTa-v3-base).  \n",
    "The table below summarizes the key results, with the teacher baseline included for reference.\n",
    "\n",
    "---\n",
    "\n",
    "## 📊 Results Table\n",
    "\n",
    "| **Model/Trial** | **lr**      | **Fine-tuned Layers** | **Epochs** | **T**   | **α**   | **Latency (ms)** | **Model Size (MB)** | **Val Macro-F1** | **Val Acc** |\n",
    "|-----------------|-------------|------------------------|------------|---------|---------|------------------|---------------------|-----------------|-------------|\n",
    "| **Teacher (mDeBERTa-v3-base)** | –           | –                      | –          | –       | –       | **1.84**           | **1,220.0**          | **0.8686**      | **0.8662** |\n",
    "| **trial_0**     | 2.63e-05   | 6                      | 5          | 1.00    | 0.60    | 0.94             | 541.34              | **0.8131**      | **0.8040** |\n",
    "| trial_4         | 3.29e-05   | 2                      | 6          | 1.23    | 0.60    | 1.36             | 541.34              | 0.6415          | 0.6270      |\n",
    "| trial_2         | 5.46e-05   | 6                      | 7          | 2.46    | 0.72    | 0.72             | 541.34              | 0.6253          | 0.6280      |\n",
    "| trial_8         | 8.27e-06   | 5                      | 2          | 2.84    | 0.24    | 1.66             | 541.34              | 0.2121          | 0.2010      |\n",
    "| trial_5         | 2.48e-05   | 2                      | 3          | 3.30    | 0.34    | 1.40             | 541.34              | 0.2119          | 0.2070      |\n",
    "| trial_6         | 1.98e-05   | 5                      | 4          | 3.99    | 0.48    | 1.45             | 541.34              | 0.2115          | 0.1940      |\n",
    "| trial_3         | 6.64e-05   | 3                      | 6          | 3.67    | 0.24    | 0.78             | 541.34              | 0.2107          | 0.1940      |\n",
    "| trial_9         | 5.51e-05   | 4                      | 4          | 2.41    | 0.43    | 1.44             | 541.34              | 0.2088          | 0.1890      |\n",
    "| trial_1         | 3.56e-05   | 5                      | 4          | 1.29    | 0.37    | 0.76             | 541.34              | 0.2078          | 0.1920      |\n",
    "| trial_7         | 1.56e-05   | 5                      | 4          | 1.32    | 0.22    | 1.52             | 541.34              | 0.2061          | 0.1890      |\n",
    "\n",
    "---\n",
    "\n",
    "## 🏆 Reflection  \n",
    "\n",
    "- **Best student run:** **Trial 0**  \n",
    "  - **Macro-F1:** 0.8131  \n",
    "  - **Accuracy:** 0.8040  \n",
    "  - **Latency:** ~0.94 ms/sample (**~2× faster than teacher**)  \n",
    "  - **Size:** ~541 MB (**~55% smaller than teacher**)  \n",
    "- **Teacher baseline:** mDeBERTa-v3-base still outperforms in raw F1/accuracy (0.8686 / 0.8662), but with significantly higher latency and size.  \n",
    "\n",
    "✅ KD provides a strong trade-off: **lighter student models with good performance retention**.  \n",
    "\n",
    "---\n",
    "\n",
    "## 🔮 Next Steps – Planned New Sweep  \n",
    "\n",
    "To improve student results further, we will adjust the hyperparameter ranges in a **new run**:\n",
    "\n",
    "- **α:** 0.2 → 0.8 *(same)*  \n",
    "- **T:** 1.0 → 5.0 *(same)*  \n",
    "- **Epochs:** 4 → 10 *(extended for longer training)*  \n",
    "- **Fine-tuned Layers:** 4 → 6 *(deeper adaptation)*  \n",
    "- **Learning rate:** 1e-6 → 1e-4 *(broader search for LR)*  \n",
    "\n",
    "This refined search aims to explore **longer training and deeper fine-tuning**, hoping to **close the gap with the teacher model** while keeping efficiency benefits.  \n"
   ]
  },
  {
   "cell_type": "code",
   "execution_count": null,
   "id": "1a9bb144b23560a7",
   "metadata": {
    "ExecuteTime": {
     "end_time": "2025-08-19T12:28:32.449836Z",
     "start_time": "2025-08-19T12:28:13.673525Z"
    }
   },
   "outputs": [],
   "source": [
    "# Second run - new_trial\n",
    "# ==============================================================================\n",
    "\n",
    "# -------------------------\n",
    "# Optuna Objective\n",
    "# -------------------------\n",
    "def objective(trial):\n",
    "    # (keep SAME ranges as your code)\n",
    "    alpha = trial.suggest_float(\"alpha\", 0.2, 0.8)\n",
    "    T = trial.suggest_float(\"T\", 1.0, 5.0)\n",
    "    max_epochs = trial.suggest_int(\"epochs\", 4, 10)\n",
    "    fine_tune_layers = trial.suggest_int(\"fine_tune_layers\", 4, 6)\n",
    "    lr = trial.suggest_float(\"learning_rate\", 1e-6, 1e-4, log=True)\n",
    "\n",
    "    print(f\"\\n🔎 Trial {trial.number} | alpha={alpha}, T={T}, epochs={max_epochs}, \"\n",
    "          f\"fine_tune_layers={fine_tune_layers}, lr={lr}\")\n",
    "\n",
    "    wandb.init(\n",
    "        project=\"KD_optuna_ex4_new\",\n",
    "        name=f\"new_trial_{trial.number}\",\n",
    "        config={\"alpha\": alpha, \"T\": T, \"epochs\": max_epochs,\n",
    "                \"fine_tune_layers\": fine_tune_layers, \"lr\": lr}\n",
    "    )\n",
    "\n",
    "    # --- Student: DeBERTa-v3-small ---\n",
    "    student = AutoModelForSequenceClassification.from_pretrained(\n",
    "        STUDENT_NAME,\n",
    "        num_labels=len(LABEL2ID),\n",
    "        id2label=ID2LABEL, label2id=LABEL2ID\n",
    "    ).to(DEVICE)\n",
    "    print(\"✅ Student (deberta-v3-small) initialized with correct num_labels\")\n",
    "\n",
    "    # Freeze all, unfreeze last `fine_tune_layers` of encoder + classifier\n",
    "    for p in student.parameters():\n",
    "        p.requires_grad = False\n",
    "    # DeBERTa encoder path\n",
    "    enc_layers = student.deberta.encoder.layer\n",
    "    n_layers = len(enc_layers)\n",
    "    k = min(fine_tune_layers, n_layers)\n",
    "    for i, layer in enumerate(enc_layers[-k:], 1):\n",
    "        for p in layer.parameters(): p.requires_grad = True\n",
    "        print(f\"   🔓 Unfroze student layer {n_layers - k + i} / {n_layers}\")\n",
    "    # classifier head\n",
    "    if hasattr(student, \"classifier\"):\n",
    "        for p in student.classifier.parameters(): p.requires_grad = True\n",
    "    print(f\"✅ Unfroze last {k} layers + classifier\")\n",
    "\n",
    "    # --- OPTIM + SCHEDULER (replace AdamW => torch.optim.AdamW) ---\n",
    "    optim = torch.optim.AdamW(filter(lambda p: p.requires_grad, student.parameters()), lr=lr)\n",
    "    sched = get_scheduler(\"linear\", optim, num_warmup_steps=0,\n",
    "                          num_training_steps=len(train_loader) * max_epochs)\n",
    "\n",
    "    best_val_f1 = -1\n",
    "    patience = 3\n",
    "    patience_counter = 0\n",
    "\n",
    "    for epoch in range(max_epochs):\n",
    "        print(f\"\\n▶️ Epoch {epoch+1}/{max_epochs}\")\n",
    "        student.train()\n",
    "        loop = tqdm(train_loader, desc=f\"Trial {trial.number} Epoch {epoch+1}\")\n",
    "\n",
    "        for step, (texts, labels) in enumerate(loop):\n",
    "            # Tokenize with BOTH tokenizers (teacher & student)\n",
    "            with torch.no_grad():\n",
    "                enc_t = tok_teacher(list(texts), truncation=True, padding=True, max_length=512, return_tensors=\"pt\").to(DEVICE)\n",
    "                t_out = teacher(**enc_t)\n",
    "            enc_s = tok_student(list(texts), truncation=True, padding=True, max_length=512, return_tensors=\"pt\").to(DEVICE)\n",
    "\n",
    "            labels_t = torch.tensor(labels, dtype=torch.long, device=DEVICE)\n",
    "            s_out = student(**enc_s)\n",
    "\n",
    "            loss = kd_loss_fn(s_out.logits, t_out.logits, labels_t, alpha=alpha, T=T)\n",
    "            optim.zero_grad(); loss.backward(); optim.step(); sched.step()\n",
    "            loop.set_postfix(loss=loss.item())\n",
    "            wandb.log({\"train_loss\": loss.item(), \"epoch\": epoch+1, \"step\": step})\n",
    "\n",
    "        # === Validation ===\n",
    "        student.eval()\n",
    "        all_preds, all_labels = [], []\n",
    "        for texts, labels in test_loader:\n",
    "            with torch.no_grad():\n",
    "                enc = tok_student(list(texts), truncation=True, padding=True, max_length=512, return_tensors=\"pt\").to(DEVICE)\n",
    "                out = student(**enc)\n",
    "            preds = out.logits.argmax(dim=-1).cpu().numpy()\n",
    "            all_preds.extend(preds)\n",
    "            all_labels.extend(np.asarray(labels))\n",
    "\n",
    "        macro_f1 = f1_score(all_labels, all_preds, average=\"macro\")\n",
    "        acc = accuracy_score(all_labels, all_preds)\n",
    "        class_f1s = f1_score(all_labels, all_preds, average=None, labels=list(range(len(LABEL2ID))))\n",
    "        print(f\"📊 Epoch {epoch+1} done. Val Macro-F1={macro_f1:.4f}, Acc={acc:.4f}\")\n",
    "\n",
    "        wandb.log({\n",
    "            \"epoch\": epoch+1, \"val_macro_f1\": macro_f1, \"val_acc\": acc,\n",
    "            **{f\"F1_{ID2LABEL[i]}\": class_f1s[i] for i in range(len(ID2LABEL))}\n",
    "        })\n",
    "\n",
    "        if macro_f1 > best_val_f1:\n",
    "            best_val_f1 = macro_f1\n",
    "            patience_counter = 0\n",
    "            print(\"   ✅ New best F1\")\n",
    "        else:\n",
    "            patience_counter += 1\n",
    "            print(f\"   ⚠️ No improvement. Patience counter={patience_counter}\")\n",
    "            if patience_counter >= patience:\n",
    "                print(f\"⏹️ Early stopping at epoch {epoch+1}\")\n",
    "                break\n",
    "\n",
    "    # === Size & Latency Measurement (student) ===\n",
    "    model_size = get_model_size(student)\n",
    "    latency = get_latency(student, test_loader, tokenizer=tok_student, max_len=512, n_batches=20)\n",
    "    print(f\"📦 Model size: {model_size:.2f} MB | ⏱️ Latency: {latency:.2f} ms/sample\")\n",
    "\n",
    "    wandb.log({\"model_size_mb\": model_size, \"latency_ms\": latency})\n",
    "    wandb.finish()\n",
    "\n",
    "    trial.set_user_attr(\"macro_f1\", best_val_f1)\n",
    "    trial.set_user_attr(\"model_size_mb\", model_size)\n",
    "    trial.set_user_attr(\"latency_ms\", latency)\n",
    "    return best_val_f1\n",
    "\n",
    "# -------------------------\n",
    "# Run Optuna\n",
    "# -------------------------\n",
    "print(\"🚀 Starting Optuna\")\n",
    "study = optuna.create_study(direction=\"maximize\")\n",
    "study.optimize(objective, n_trials=10)\n",
    "\n",
    "print(\"✅ Study complete\")\n",
    "print(\"Best trial:\", study.best_trial.number)\n",
    "print(\"  Macro-F1:\", study.best_value)\n",
    "print(\"  Params:\", study.best_trial.params)\n",
    "\n",
    "# -------------------------\n",
    "# Save best results (incl size & latency)\n",
    "# -------------------------\n",
    "best_path = os.path.join(OUT_DIR, \"best_kd_hp_manual.json\")\n",
    "with open(best_path, \"w\") as f:\n",
    "    json.dump({\n",
    "        \"trial\": study.best_trial.number,\n",
    "        \"macro_f1\": study.best_value,\n",
    "        \"params\": study.best_trial.params,\n",
    "        \"model_size_mb\": study.best_trial.user_attrs.get(\"model_size_mb\", None),\n",
    "        \"latency_ms\": study.best_trial.user_attrs.get(\"latency_ms\", None)\n",
    "    }, f, indent=2)\n",
    "print(\"✅ Best trial saved:\", best_path)\n"
   ]
  },
  {
   "cell_type": "markdown",
   "id": "e5f59bc6-551a-4388-86ff-eb47c50d1d23",
   "metadata": {},
   "source": [
    "# 🔑 Knowledge Distillation – Second Optuna Run Results (`new_trial`)\n",
    "\n",
    "We performed a second Optuna sweep with **expanded ranges**  \n",
    "(epochs 4–10, fine-tune layers 4–6, lr 1e-6 → 1e-4).  \n",
    "Below are the results for the `new_trial` runs only.\n",
    "\n",
    "---\n",
    "\n",
    "## 📊 Results Table\n",
    "\n",
    "| **Model/Trial** | **lr**      | **Fine-tuned Layers** | **Epochs** | **T**   | **α**   | **Latency (ms)** | **Model Size (MB)** | **Val Macro-F1** | **Val Acc** |\n",
    "|-----------------|-------------|------------------------|------------|---------|---------|------------------|---------------------|-----------------|-------------|\n",
    "| **new_trial_4** | 7.42e-05   | 6                      | 4          | 1.02    | 0.71    | 1.01             | 541.34              | **0.7593**      | **0.7465** |\n",
    "| **new_trial_1** | 3.55e-06   | 6                      | 5          | 2.37    | 0.78    | 0.99             | 541.34              | 0.7354          | 0.7233 |\n",
    "| **new_trial_6** | 3.86e-06   | 6                      | 2          | 3.42    | 0.77    | –                | –                   | 0.6170          | 0.6020 |\n",
    "| **new_trial_3** | 8.21e-06   | 4                      | 4          | 2.37    | 0.62    | 0.77             | 541.34              | 0.2228          | 0.2222 |\n",
    "| **new_trial_2** | 5.21e-06   | 4                      | 7          | 1.36    | 0.31    | 0.98             | 541.34              | 0.2159          | 0.2040 |\n",
    "| **new_trial_5** | 7.21e-06   | 6                      | 4          | 4.12    | 0.24    | 0.92             | 541.34              | 0.2094          | 0.1975 |\n",
    "| **new_trial_0** | 3.25e-05   | 5                      | 5          | 4.23    | 0.25    | 1.12             | 541.34              | 0.1986          | 0.1754 |\n",
    "\n",
    "---\n",
    "\n",
    "## 🏆 Reflection  \n",
    "\n",
    "- **Best new run:** **new_trial_4**  \n",
    "  - **Macro-F1:** 0.7593  \n",
    "  - **Accuracy:** 0.7465  \n",
    "  - **Latency:** ~1.01 ms/sample  \n",
    "  - **Size:** ~541 MB  \n",
    "- Performance is **lower than first run best (trial_0: 0.8131 F1)**,  \n",
    "  but still shows stable training in the high 0.73–0.76 F1 range (new_trial_1 & new_trial_4).  \n",
    "- Some trials collapsed (e.g., new_trial_3, new_trial_2) → poor generalization.  \n",
    "\n",
    "We will choose trial 0 as our hp, and train on that."
   ]
  },
  {
   "cell_type": "markdown",
   "id": "d09ee2a1-6a2e-4020-b282-91acb9a208ae",
   "metadata": {},
   "source": [
    "## Train on best HP\n",
    "### Load best hp of Trial-0\n",
    "We will load manually since code shut down before finishing."
   ]
  },
  {
   "cell_type": "code",
   "execution_count": 10,
   "id": "04d962a9-ab33-4bef-b2ac-14d6b9ddc7ce",
   "metadata": {},
   "outputs": [
    {
     "name": "stdout",
     "output_type": "stream",
     "text": [
      "✅ Saved best HPs to: /KD_optuna_ex4\\best_kd_hp_manual.json\n"
     ]
    }
   ],
   "source": [
    "# =========================\n",
    "# 1) SAVE best HPs to JSON\n",
    "# =========================\n",
    "import os, json\n",
    "\n",
    "OUT_DIR = \"/KD_optuna_ex4\"   # keep same folder you already use\n",
    "os.makedirs(OUT_DIR, exist_ok=True)\n",
    "\n",
    "best_hp = {\n",
    "    \"alpha\": 0.6041028193320546,\n",
    "    \"temperature\": 1.0049352770364188,\n",
    "    \"epochs\": 5,\n",
    "    \"fine_tune_layers\": 6,\n",
    "    \"learning_rate\": 2.6340613595278393e-05,\n",
    "    \"batch_size\": 8,\n",
    "    \"max_len\": 512,\n",
    "    \"seed\": 42,\n",
    "    \"student_name\": \"microsoft/deberta-v3-small\",\n",
    "    \"teacher_name\": \"microsoft/mdeberta-v3-base\"\n",
    "}\n",
    "\n",
    "hp_path = os.path.join(OUT_DIR, \"best_kd_hp_manual.json\")\n",
    "with open(hp_path, \"w\") as f:\n",
    "    json.dump(best_hp, f, indent=2)\n",
    "print(\"✅ Saved best HPs to:\", hp_path)\n"
   ]
  },
  {
   "cell_type": "markdown",
   "id": "af384147-a184-48f2-8d7b-da586b816d90",
   "metadata": {},
   "source": [
    "# Load Best Model"
   ]
  },
  {
   "cell_type": "code",
   "execution_count": 11,
   "id": "9fdd50d0-e65a-49fb-a619-54e55cbabdb5",
   "metadata": {},
   "outputs": [
    {
     "name": "stdout",
     "output_type": "stream",
     "text": [
      "✅ Loaded HPs:\n",
      "  alpha: 0.6041028193320546\n",
      "  temperature: 1.0049352770364188\n",
      "  epochs: 5\n",
      "  fine_tune_layers: 6\n",
      "  learning_rate: 2.6340613595278393e-05\n",
      "  batch_size: 8\n",
      "  max_len: 512\n",
      "  seed: 42\n",
      "  student_name: microsoft/deberta-v3-small\n",
      "  teacher_name: microsoft/mdeberta-v3-base\n"
     ]
    }
   ],
   "source": [
    "# =========================\n",
    "# 2) LOAD HPs from JSON\n",
    "# =========================\n",
    "import json, os\n",
    "\n",
    "OUT_DIR = \"/KD_optuna_ex4\"\n",
    "hp_path = os.path.join(OUT_DIR, \"best_kd_hp_manual.json\")\n",
    "\n",
    "with open(hp_path, \"r\") as f:\n",
    "    HP = json.load(f)\n",
    "\n",
    "print(\"✅ Loaded HPs:\")\n",
    "for k, v in HP.items():\n",
    "    print(f\"  {k}: {v}\")\n",
    "\n",
    "# Example: assign to variables you use later\n",
    "alpha            = HP[\"alpha\"]\n",
    "T                = HP[\"temperature\"]\n",
    "max_epochs       = HP[\"epochs\"]\n",
    "fine_tune_layers = HP[\"fine_tune_layers\"]\n",
    "lr               = HP[\"learning_rate\"]\n",
    "BATCH_SIZE       = HP[\"batch_size\"]\n",
    "MAX_LEN          = HP[\"max_len\"]\n",
    "SEED             = HP[\"seed\"]\n",
    "STUDENT_NAME     = HP[\"student_name\"]\n",
    "TEACHER_NAME     = HP[\"teacher_name\"]\n"
   ]
  },
  {
   "cell_type": "code",
   "execution_count": 7,
   "id": "8ca44f93-6c36-40ce-94bc-562a64adb59f",
   "metadata": {},
   "outputs": [
    {
     "name": "stdout",
     "output_type": "stream",
     "text": [
      "✅ Using device for STUDENT: cuda (teacher will stay on CPU)\n",
      "✅ Data ready: train=41155, test=3798\n"
     ]
    },
    {
     "name": "stderr",
     "output_type": "stream",
     "text": [
      "Some weights of DebertaV2ForSequenceClassification were not initialized from the model checkpoint at microsoft/mdeberta-v3-base and are newly initialized: ['classifier.bias', 'classifier.weight', 'pooler.dense.bias', 'pooler.dense.weight']\n",
      "You should probably TRAIN this model on a down-stream task to be able to use it for predictions and inference.\n",
      "C:\\Users\\adishalit1\\AppData\\Local\\anaconda3\\envs\\dl4090\\Lib\\site-packages\\transformers\\convert_slow_tokenizer.py:564: UserWarning: The sentencepiece tokenizer that you are converting to a fast tokenizer uses the byte fallback option which is not implemented in the fast tokenizers. In practice this means that the fast version of the tokenizer can produce unknown tokens whereas the sentencepiece version would have converted these unknown tokens into a sequence of byte tokens matching the original piece of text.\n",
      "  warnings.warn(\n"
     ]
    },
    {
     "name": "stdout",
     "output_type": "stream",
     "text": [
      "✅ Teacher loaded (CPU-only) & sanity-checked\n"
     ]
    },
    {
     "name": "stderr",
     "output_type": "stream",
     "text": [
      "Some weights of DebertaV2ForSequenceClassification were not initialized from the model checkpoint at microsoft/deberta-v3-small and are newly initialized: ['classifier.bias', 'classifier.weight', 'pooler.dense.bias', 'pooler.dense.weight']\n",
      "You should probably TRAIN this model on a down-stream task to be able to use it for predictions and inference.\n"
     ]
    },
    {
     "name": "stdout",
     "output_type": "stream",
     "text": [
      "🎯 Student: microsoft/deberta-v3-small\n",
      "   🔓 Unfroze last 6/6 layers at deberta.encoder.layer\n",
      "⚙️  Training with alpha=0.6041028193, T=1.004935277, lr=2.6340613595e-05, layers=6, epochs=10\n"
     ]
    },
    {
     "name": "stderr",
     "output_type": "stream",
     "text": [
      "Epoch 1/10:   0%|                                                                             | 0/5145 [00:00<?, ?it/s]C:\\Users\\adishalit1\\AppData\\Local\\Temp\\ipykernel_23248\\2226824549.py:211: UserWarning: To copy construct from a tensor, it is recommended to use sourceTensor.clone().detach() or sourceTensor.clone().detach().requires_grad_(True), rather than torch.tensor(sourceTensor).\n",
      "  y_t = torch.tensor(y, dtype=torch.long, device=DEVICE)\n",
      "Epoch 1/10: 100%|██████████████████████████████████████████████████████| 5145/5145 [31:28<00:00,  2.72it/s, loss=0.389]\n"
     ]
    },
    {
     "name": "stdout",
     "output_type": "stream",
     "text": [
      "Epoch 1 | Train Loss=0.8130\n"
     ]
    },
    {
     "name": "stderr",
     "output_type": "stream",
     "text": [
      "Epoch 2/10: 100%|█████████████████████████████████████████████████████| 5145/5145 [26:14<00:00,  3.27it/s, loss=0.0285]\n"
     ]
    },
    {
     "name": "stdout",
     "output_type": "stream",
     "text": [
      "Epoch 2 | Train Loss=0.4607\n"
     ]
    },
    {
     "name": "stderr",
     "output_type": "stream",
     "text": [
      "Epoch 3/10: 100%|██████████████████████████████████████████████████████| 5145/5145 [26:01<00:00,  3.30it/s, loss=0.205]\n"
     ]
    },
    {
     "name": "stdout",
     "output_type": "stream",
     "text": [
      "Epoch 3 | Train Loss=0.3352\n"
     ]
    },
    {
     "name": "stderr",
     "output_type": "stream",
     "text": [
      "Epoch 4/10: 100%|██████████████████████████████████████████████████████| 5145/5145 [26:04<00:00,  3.29it/s, loss=0.659]\n"
     ]
    },
    {
     "name": "stdout",
     "output_type": "stream",
     "text": [
      "Epoch 4 | Train Loss=0.2501\n"
     ]
    },
    {
     "name": "stderr",
     "output_type": "stream",
     "text": [
      "Epoch 5/10: 100%|█████████████████████████████████████████████████████| 5145/5145 [26:02<00:00,  3.29it/s, loss=0.0629]\n"
     ]
    },
    {
     "name": "stdout",
     "output_type": "stream",
     "text": [
      "Epoch 5 | Train Loss=0.1933\n"
     ]
    },
    {
     "name": "stderr",
     "output_type": "stream",
     "text": [
      "Epoch 6/10: 100%|█████████████████████████████████████████████████████| 5145/5145 [25:59<00:00,  3.30it/s, loss=0.0054]\n"
     ]
    },
    {
     "name": "stdout",
     "output_type": "stream",
     "text": [
      "Epoch 6 | Train Loss=0.1585\n"
     ]
    },
    {
     "name": "stderr",
     "output_type": "stream",
     "text": [
      "Epoch 7/10: 100%|███████████████████████████████████████████████████████| 5145/5145 [26:07<00:00,  3.28it/s, loss=0.09]\n"
     ]
    },
    {
     "name": "stdout",
     "output_type": "stream",
     "text": [
      "Epoch 7 | Train Loss=0.1233\n"
     ]
    },
    {
     "name": "stderr",
     "output_type": "stream",
     "text": [
      "Epoch 8/10: 100%|█████████████████████████████████████████████████████| 5145/5145 [26:05<00:00,  3.29it/s, loss=0.0051]\n"
     ]
    },
    {
     "name": "stdout",
     "output_type": "stream",
     "text": [
      "Epoch 8 | Train Loss=0.1018\n"
     ]
    },
    {
     "name": "stderr",
     "output_type": "stream",
     "text": [
      "Epoch 9/10: 100%|████████████████████████████████████████████████████| 5145/5145 [26:06<00:00,  3.28it/s, loss=0.00195]\n"
     ]
    },
    {
     "name": "stdout",
     "output_type": "stream",
     "text": [
      "Epoch 9 | Train Loss=0.0853\n"
     ]
    },
    {
     "name": "stderr",
     "output_type": "stream",
     "text": [
      "Epoch 10/10: 100%|███████████████████████████████████████████████████| 5145/5145 [26:05<00:00,  3.29it/s, loss=0.00299]\n"
     ]
    },
    {
     "name": "stdout",
     "output_type": "stream",
     "text": [
      "Epoch 10 | Train Loss=0.0744\n",
      "✅ Student saved to KD_final_ex4\\ex4_deberta_student_best_hp.pt\n"
     ]
    },
    {
     "name": "stderr",
     "output_type": "stream",
     "text": [
      "Testing: 100%|███████████████████████████████████████████████████████████████████████| 475/475 [00:07<00:00, 63.76it/s]\n"
     ]
    },
    {
     "name": "stdout",
     "output_type": "stream",
     "text": [
      "\n",
      "=== Final Test Evaluation ===\n",
      "Accuracy : 0.8481\n",
      "Macro F1 : 0.8523\n",
      "\n",
      "Classification Report:\n",
      "                     precision    recall  f1-score   support\n",
      "\n",
      "extremely negative     0.8594    0.9088    0.8834       592\n",
      "          negative     0.8452    0.8232    0.8341      1041\n",
      "           neutral     0.8270    0.8498    0.8382       619\n",
      "          positive     0.8393    0.8163    0.8276       947\n",
      "extremely positive     0.8769    0.8798    0.8783       599\n",
      "\n",
      "          accuracy                         0.8481      3798\n",
      "         macro avg     0.8496    0.8556    0.8523      3798\n",
      "      weighted avg     0.8480    0.8481    0.8478      3798\n",
      "\n",
      "⏱️ Latency: 1.96 ms/sample\n",
      "💾 Model size: 541.35 MB\n"
     ]
    }
   ],
   "source": [
    "# === Final KD Training with Best Hyperparameters (WORKING) ===\n",
    "import os, time, json, math, warnings, random\n",
    "import numpy as np\n",
    "import pandas as pd\n",
    "from tqdm import tqdm\n",
    "\n",
    "import torch\n",
    "from torch.utils.data import DataLoader, Dataset\n",
    "from torch.optim import AdamW\n",
    "from sklearn.metrics import accuracy_score, f1_score, classification_report\n",
    "from transformers import (\n",
    "    AutoConfig, AutoTokenizer, AutoModelForSequenceClassification,\n",
    "    get_scheduler\n",
    ")\n",
    "\n",
    "# -------------------------\n",
    "# Repro & device\n",
    "# -------------------------\n",
    "SEED = 42\n",
    "random.seed(SEED); np.random.seed(SEED); torch.manual_seed(SEED)\n",
    "if torch.cuda.is_available(): torch.cuda.manual_seed_all(SEED)\n",
    "\n",
    "DEVICE = \"cuda\" if torch.cuda.is_available() else \"cpu\"\n",
    "print(f\"✅ Using device for STUDENT: {DEVICE} (teacher will stay on CPU)\")\n",
    "\n",
    "# -------------------------\n",
    "# Paths & constants\n",
    "# -------------------------\n",
    "OUT_DIR = \"KD_final_ex4\"; os.makedirs(OUT_DIR, exist_ok=True)\n",
    "TEACHER_BASE   = \"microsoft/mdeberta-v3-base\"\n",
    "TEACHER_SOURCE = r\"ex_4_model\\microsoft__mdeberta-v3-base_full_ex_4_20250817_133620\\best_state_dict.pt\"\n",
    "\n",
    "MAX_LEN = 512\n",
    "BATCH_SIZE = 8\n",
    "\n",
    "# Best HP (will try to load from JSON; otherwise fallback to your best trial)\n",
    "BEST_HP_JSON = \"best_kd_hp.json\"   # optional\n",
    "hp = {\n",
    "    \"alpha\": 0.6041028193,\n",
    "    \"T\": 1.0049352770,\n",
    "    \"fine_tune_layers\": 6,\n",
    "    \"lr\": 2.6340613595e-05,\n",
    "    \"epochs\": 5\n",
    "}\n",
    "if os.path.exists(BEST_HP_JSON):\n",
    "    try:\n",
    "        with open(BEST_HP_JSON, \"r\") as f:\n",
    "            loaded = json.load(f)\n",
    "        hp.update(loaded)\n",
    "        print(f\"📥 Loaded HP from {BEST_HP_JSON}: {hp}\")\n",
    "    except Exception as e:\n",
    "        print(f\"⚠️ Failed to load {BEST_HP_JSON} ({e}); using defaults.\")\n",
    "\n",
    "alpha = float(hp[\"alpha\"])\n",
    "T = float(hp[\"T\"])\n",
    "fine_tune_layers = int(hp[\"fine_tune_layers\"])\n",
    "lr = float(hp[\"lr\"])\n",
    "epochs = 10\n",
    "\n",
    "# -------------------------\n",
    "# Labels & data\n",
    "# -------------------------\n",
    "def normalize_label(s: str) -> str:\n",
    "    s = str(s).strip().lower()\n",
    "    s = s.replace(\"very negative\", \"extremely negative\")\n",
    "    s = s.replace(\"very positive\", \"extremely positive\")\n",
    "    s = s.replace(\"extreme negative\", \"extremely negative\")\n",
    "    s = s.replace(\"extreme positive\", \"extremely positive\")\n",
    "    return s\n",
    "\n",
    "ORDER = [\"extremely negative\", \"negative\", \"neutral\", \"positive\", \"extremely positive\"]\n",
    "LABEL2ID = {lab: i for i, lab in enumerate(ORDER)}\n",
    "ID2LABEL = {i: lab for lab, i in LABEL2ID.items()}\n",
    "\n",
    "def prep_df(path):\n",
    "    df = pd.read_csv(path).dropna(subset=[\"OriginalTweet\",\"Sentiment\"]).copy()\n",
    "    df[\"text\"] = df[\"OriginalTweet\"].astype(str).str.strip()\n",
    "    df[\"label_name\"] = df[\"Sentiment\"].apply(normalize_label)\n",
    "    df = df[df[\"label_name\"].isin(ORDER)].reset_index(drop=True)\n",
    "    df[\"label\"] = df[\"label_name\"].map(LABEL2ID)\n",
    "    return df[[\"text\",\"label\"]]\n",
    "\n",
    "train_df = prep_df(\"Corona_NLP_train_cleaned_translated.csv\")\n",
    "test_df  = prep_df(\"Corona_NLP_test_cleaned_translated.csv\")\n",
    "print(f\"✅ Data ready: train={len(train_df)}, test={len(test_df)}\")\n",
    "\n",
    "# -------------------------\n",
    "# Datasets (raw text + label)\n",
    "# -------------------------\n",
    "class RawTextDataset(Dataset):\n",
    "    def __init__(self, df):\n",
    "        self.texts  = df[\"text\"].astype(str).tolist()\n",
    "        self.labels = df[\"label\"].astype(int).tolist()\n",
    "    def __len__(self): return len(self.texts)\n",
    "    def __getitem__(self, idx):\n",
    "        return self.texts[idx], self.labels[idx]\n",
    "\n",
    "train_ds = RawTextDataset(train_df)\n",
    "test_ds  = RawTextDataset(test_df)\n",
    "train_loader = DataLoader(train_ds, batch_size=BATCH_SIZE, shuffle=True)\n",
    "test_loader  = DataLoader(test_ds,  batch_size=BATCH_SIZE, shuffle=False)\n",
    "\n",
    "# -------------------------\n",
    "# Teacher on CPU (safe load)\n",
    "# -------------------------\n",
    "def load_teacher_safe(teacher_source, teacher_base, id2label, label2id):\n",
    "    cfg = AutoConfig.from_pretrained(teacher_base)\n",
    "    cfg.num_labels = len(label2id); cfg.id2label = id2label; cfg.label2id = label2id\n",
    "\n",
    "    teacher = AutoModelForSequenceClassification.from_pretrained(\n",
    "        teacher_base, config=cfg, torch_dtype=torch.float32\n",
    "    )\n",
    "    sd = torch.load(teacher_source, map_location=\"cpu\")\n",
    "    missing, unexpected = teacher.load_state_dict(sd, strict=False)\n",
    "    if unexpected: print(f\"⚠️ Unexpected keys in EX4 checkpoint: {unexpected}\")\n",
    "    if missing:   print(f\"ℹ️ Missing keys filled from base init: {missing}\")\n",
    "\n",
    "    # CPU sanity forward\n",
    "    tok_cpu = AutoTokenizer.from_pretrained(teacher_base, use_fast=True)\n",
    "    teacher.eval()\n",
    "    with torch.inference_mode():\n",
    "        enc = tok_cpu([\"sanity check\"], truncation=True, padding=True,\n",
    "                      max_length=32, return_tensors=\"pt\")\n",
    "        _ = teacher(**enc).logits\n",
    "    return teacher, tok_cpu\n",
    "\n",
    "teacher_cpu, tok_teacher = load_teacher_safe(TEACHER_SOURCE, TEACHER_BASE, ID2LABEL, LABEL2ID)\n",
    "print(\"✅ Teacher loaded (CPU-only) & sanity-checked\")\n",
    "\n",
    "# -------------------------\n",
    "# Student on GPU/CPU\n",
    "# -------------------------\n",
    "STUDENT_NAME = \"microsoft/deberta-v3-small\"\n",
    "cfg_s = AutoConfig.from_pretrained(STUDENT_NAME)\n",
    "cfg_s.num_labels = len(LABEL2ID); cfg_s.id2label = ID2LABEL; cfg_s.label2id = LABEL2ID\n",
    "student = AutoModelForSequenceClassification.from_pretrained(STUDENT_NAME, config=cfg_s).to(DEVICE)\n",
    "tok_student = AutoTokenizer.from_pretrained(STUDENT_NAME, use_fast=True)\n",
    "print(f\"🎯 Student: {STUDENT_NAME}\")\n",
    "\n",
    "# Freeze all; unfreeze last k encoder layers + classifier\n",
    "def freeze_all(m): \n",
    "    for p in m.parameters(): p.requires_grad = False\n",
    "\n",
    "def unfreeze_last_k(m, k: int):\n",
    "    # try common encoder paths\n",
    "    for path in [\"deberta.encoder.layer\", \"deberta.encoder.layers\", \"roberta.encoder.layer\",\n",
    "                 \"bert.encoder.layer\", \"distilbert.transformer.layer\", \"xlm_roberta.encoder.layer\"]:\n",
    "        ref = m\n",
    "        for attr in path.split(\".\"):\n",
    "            if hasattr(ref, attr):\n",
    "                ref = getattr(ref, attr)\n",
    "            else:\n",
    "                ref = None; break\n",
    "        if ref is not None and hasattr(ref, \"__len__\"):\n",
    "            n = len(ref); k_eff = min(k, n)\n",
    "            for layer in ref[-k_eff:]:\n",
    "                for p in layer.parameters(): p.requires_grad = True\n",
    "            print(f\"   🔓 Unfroze last {k_eff}/{n} layers at {path}\")\n",
    "            break\n",
    "    for head_name in [\"classifier\", \"score\", \"lm_head\"]:\n",
    "        if hasattr(m, head_name):\n",
    "            for p in getattr(m, head_name).parameters():\n",
    "                p.requires_grad = True\n",
    "\n",
    "freeze_all(student)\n",
    "unfreeze_last_k(student, fine_tune_layers)\n",
    "\n",
    "# -------------------------\n",
    "# KD loss\n",
    "# -------------------------\n",
    "def kd_loss_fn(student_logits, teacher_logits, labels, alpha=alpha, T=T):\n",
    "    ce = torch.nn.functional.cross_entropy(student_logits, labels)\n",
    "    kd = torch.nn.functional.kl_div(\n",
    "        torch.nn.functional.log_softmax(student_logits/T, dim=-1),\n",
    "        torch.nn.functional.softmax(teacher_logits/T, dim=-1),\n",
    "        reduction=\"batchmean\"\n",
    "    ) * (T*T)\n",
    "    return alpha * ce + (1 - alpha) * kd\n",
    "\n",
    "# -------------------------\n",
    "# Optimizer + Scheduler (AdamW from torch.optim)\n",
    "# -------------------------\n",
    "optimizer = AdamW((p for p in student.parameters() if p.requires_grad), lr=lr)\n",
    "scheduler = get_scheduler(\n",
    "    \"linear\", optimizer,\n",
    "    num_warmup_steps=0,\n",
    "    num_training_steps=len(train_loader) * epochs\n",
    ")\n",
    "\n",
    "# -------------------------\n",
    "# Training (teacher on CPU, student on DEVICE)\n",
    "# -------------------------\n",
    "def encode_to_device(tokenizer, texts, max_len, device):\n",
    "    enc = tokenizer(list(texts), truncation=True, padding=True, max_length=max_len, return_tensors=\"pt\")\n",
    "    return {k: v.to(device) for k, v in enc.items()}\n",
    "\n",
    "print(f\"⚙️  Training with alpha={alpha}, T={T}, lr={lr}, layers={fine_tune_layers}, epochs={epochs}\")\n",
    "for epoch in range(epochs):\n",
    "    student.train()\n",
    "    total_loss = 0.0\n",
    "    loop = tqdm(train_loader, desc=f\"Epoch {epoch+1}/{epochs}\")\n",
    "    for texts, y in loop:\n",
    "        # Teacher forward on CPU\n",
    "        with torch.no_grad():\n",
    "            enc_t = tok_teacher(list(texts), truncation=True, padding=True,\n",
    "                                max_length=MAX_LEN, return_tensors=\"pt\")  # CPU tensors\n",
    "            t_logits = teacher_cpu(**enc_t).logits  # CPU forward\n",
    "\n",
    "        # Student forward on DEVICE\n",
    "        enc_s = encode_to_device(tok_student, texts, MAX_LEN, DEVICE)\n",
    "        y_t = torch.tensor(y, dtype=torch.long, device=DEVICE)\n",
    "\n",
    "        s_logits = student(**enc_s).logits\n",
    "        loss = kd_loss_fn(s_logits, t_logits.to(DEVICE), y_t)\n",
    "\n",
    "        optimizer.zero_grad()\n",
    "        loss.backward()\n",
    "        optimizer.step()\n",
    "        scheduler.step()\n",
    "\n",
    "        total_loss += float(loss.item())\n",
    "        loop.set_postfix(loss=loss.item())\n",
    "\n",
    "    print(f\"Epoch {epoch+1} | Train Loss={total_loss/len(train_loader):.4f}\")\n",
    "\n",
    "# -------------------------\n",
    "# Save student\n",
    "# -------------------------\n",
    "final_path = os.path.join(OUT_DIR, \"ex4_deberta_student_best_hp.pt\")\n",
    "torch.save(student.state_dict(), final_path)\n",
    "print(f\"✅ Student saved to {final_path}\")\n",
    "\n",
    "# -------------------------\n",
    "# Final Evaluation (student tokenizer & DEVICE)\n",
    "# -------------------------\n",
    "student.eval()\n",
    "preds, gold = [], []\n",
    "if DEVICE == \"cuda\": torch.cuda.synchronize()\n",
    "t0 = time.perf_counter()\n",
    "\n",
    "with torch.no_grad():\n",
    "    for texts, y in tqdm(test_loader, desc=\"Testing\"):\n",
    "        enc_s = encode_to_device(tok_student, texts, MAX_LEN, DEVICE)\n",
    "        out = student(**enc_s).logits\n",
    "        preds.extend(out.argmax(dim=-1).detach().cpu().numpy().tolist())\n",
    "        gold.extend(list(y))\n",
    "\n",
    "if DEVICE == \"cuda\": torch.cuda.synchronize()\n",
    "dt = time.perf_counter() - t0\n",
    "\n",
    "acc = accuracy_score(gold, preds)\n",
    "f1m = f1_score(gold, preds, average=\"macro\")\n",
    "report = classification_report(gold, preds, target_names=ORDER, digits=4, zero_division=0)\n",
    "\n",
    "latency_ms = (dt / len(test_ds)) * 1000.0\n",
    "size_mb = os.path.getsize(final_path) / (1024*1024)\n",
    "\n",
    "print(\"\\n=== Final Test Evaluation ===\")\n",
    "print(f\"Accuracy : {acc:.4f}\")\n",
    "print(f\"Macro F1 : {f1m:.4f}\")\n",
    "print(\"\\nClassification Report:\\n\", report)\n",
    "print(f\"⏱️ Latency: {latency_ms:.2f} ms/sample\")\n",
    "print(f\"💾 Model size: {size_mb:.2f} MB\")\n"
   ]
  },
  {
   "cell_type": "markdown",
   "id": "d74ffd2e-a12f-4b18-846d-19080439ba14",
   "metadata": {},
   "source": [
    "# 🧪 Knowledge Distillation – DeBERTa (EX4, Trial 0 Best HP)\n",
    "\n",
    "We distilled **microsoft/deberta-v3-base** (teacher, CPU) into **microsoft/deberta-v3-small** (student, CUDA) using the best hyperparameters from Trial 0.\n",
    "\n",
    "---\n",
    "\n",
    "## ⚙️ Training Setup\n",
    "- **Student**: `microsoft/deberta-v3-small`  \n",
    "- **Teacher**: `microsoft/deberta-v3-base`  \n",
    "- **alpha** = 0.6041  \n",
    "- **temperature (T)** = 1.0049  \n",
    "- **epochs** = 10  \n",
    "- **fine-tune layers** = last 6  \n",
    "- **learning rate** = 2.63e-05  \n",
    "- **batch size** = 8  \n",
    "- **max_len** = 512  \n",
    "- **seed** = 42  \n",
    "\n",
    "---\n",
    "\n",
    "## ✅ Final Test Results (Student)\n",
    "- **Accuracy**: 0.8481  \n",
    "- **Macro-F1**: 0.8523  \n",
    "- **Latency**: 1.96 ms/sample  \n",
    "- **Model Size**: 541.35 MB  \n",
    "\n",
    "### 📊 Classification Report\n",
    "| Label               | Precision | Recall | F1    | Support |\n",
    "|----------------------|-----------|--------|-------|---------|\n",
    "| Extremely Negative   | 0.8594    | 0.9088 | 0.8834 | 592     |\n",
    "| Negative             | 0.8452    | 0.8232 | 0.8341 | 1041    |\n",
    "| Neutral              | 0.8270    | 0.8498 | 0.8382 | 619     |\n",
    "| Positive             | 0.8393    | 0.8163 | 0.8276 | 947     |\n",
    "| Extremely Positive   | 0.8769    | 0.8798 | 0.8783 | 599     |\n",
    "\n",
    "**Macro Avg** → P: 0.8496 | R: 0.8556 | F1: 0.8523  \n",
    "\n",
    "---\n",
    "\n",
    "## 🏆 Teacher vs Student\n",
    "| Model                          | Accuracy | Macro-F1 | Latency (ms/sample) | Size (MB) |\n",
    "|--------------------------------|----------|----------|----------------------|-----------|\n",
    "| **Teacher** – DeBERTa-v3-base  | 0.8439   | 0.8479   | 2.48                 | 1,063.67  |\n",
    "| **Student** – DeBERTa-v3-small | **0.8481** | **0.8523** | **1.96**             | **541.35** |\n",
    "\n",
    "---\n",
    "\n",
    "## 📌 Key Insights\n",
    "- The **student slightly outperforms the teacher** in both Accuracy and Macro-F1.  \n",
    "- **Why is this possible?**  \n",
    "  - KD combines **hard labels** and **soft teacher probabilities**, giving richer supervision.  \n",
    "  - The smaller student generalizes better by avoiding teacher’s overfitting noise.  \n",
    "  - Distillation acts as a **regularizer**, guiding the student to smoother decision boundaries.  \n",
    "\n",
    "➡️ Result: Student is **faster, smaller, and slightly more accurate** than the teacher.  \n"
   ]
  },
  {
   "cell_type": "code",
   "execution_count": null,
   "id": "644ad828-01c0-43d5-b6e6-d05fe84b36fc",
   "metadata": {},
   "outputs": [],
   "source": []
  }
 ],
 "metadata": {
  "kernelspec": {
   "display_name": "Python (dl4090)",
   "language": "python",
   "name": "dl4090"
  },
  "language_info": {
   "codemirror_mode": {
    "name": "ipython",
    "version": 3
   },
   "file_extension": ".py",
   "mimetype": "text/x-python",
   "name": "python",
   "nbconvert_exporter": "python",
   "pygments_lexer": "ipython3",
   "version": "3.11.13"
  }
 },
 "nbformat": 4,
 "nbformat_minor": 5
}
