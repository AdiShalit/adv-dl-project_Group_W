{
 "cells": [
  {
   "cell_type": "markdown",
   "metadata": {},
   "source": [
    "<center><br><br>\n",
    "<font size=6>🎓 <b>Advanced Deep Learning - NLP Final Project</b></font><br>\n",
    "<font size=6>⚖️  <b>Training - microsoft/mdeberta-v3-base EX5</b></font><br>\n",
    "<font size=5>👥 <b>Group W</b></font><br><br>\n",
    "<b>Adi Shalit</b>, ID: <code>206628885</code><br>\n",
    "<b>Gal Gussarsky</b>, ID: <code>206453540</code><br><br>\n",
    "<font size=4>📘 Course ID: <code>05714184</code></font><br>\n",
    "<font size=4>📅 Spring 2025</font>\n",
    "<br><br>\n",
    "<hr style=\"width:60%; border:1px solid gray;\"></center>\n"
   ]
  },
  {
   "cell_type": "markdown",
   "metadata": {},
   "source": [
    "# 📑 Table of Contents\n",
    "\n",
    "- [Training](#Training)\n",
    "- [ Load best Model & Test](#Load-Best-Model)\n",
    "\n",
    "\n"
   ]
  },
  {
   "cell_type": "code",
   "execution_count": null,
   "metadata": {
    "id": "7AXs5pow3pM7"
   },
   "outputs": [],
   "source": [
    "# # === Compatible versions ===\n",
    "# !pip install --upgrade --force-reinstall --no-cache-dir \\\n",
    "#   transformers==4.43.3 \\\n",
    "#   accelerate==0.30.1 \\\n",
    "#   datasets==2.20.0 \\\n",
    "#   evaluate==0.4.2 \\\n",
    "#   optuna==3.6.1 \\\n",
    "#   wandb==0.17.5 \\\n",
    "#   fsspec==2024.5.0 \\\n",
    "#   gcsfs==2024.5.0\n"
   ]
  },
  {
   "cell_type": "code",
   "execution_count": null,
   "metadata": {
    "id": "YdFHOu9D4DgK"
   },
   "outputs": [],
   "source": [
    "# !pip install transformers==4.44.2 accelerate==0.34.2\n",
    "\n",
    "# from transformers import Trainer\n",
    "# print(\"✅ Trainer import successful\")\n"
   ]
  },
  {
   "cell_type": "markdown",
   "metadata": {},
   "source": [
    "## Load Dataset & Imports"
   ]
  },
  {
   "cell_type": "code",
   "execution_count": 7,
   "metadata": {
    "id": "oGNoWBvQ4EL4"
   },
   "outputs": [
    {
     "name": "stdout",
     "output_type": "stream",
     "text": [
      "(41157, 7) (3798, 7)\n"
     ]
    },
    {
     "data": {
      "text/html": [
       "<div>\n",
       "<style scoped>\n",
       "    .dataframe tbody tr th:only-of-type {\n",
       "        vertical-align: middle;\n",
       "    }\n",
       "\n",
       "    .dataframe tbody tr th {\n",
       "        vertical-align: top;\n",
       "    }\n",
       "\n",
       "    .dataframe thead th {\n",
       "        text-align: right;\n",
       "    }\n",
       "</style>\n",
       "<table border=\"1\" class=\"dataframe\">\n",
       "  <thead>\n",
       "    <tr style=\"text-align: right;\">\n",
       "      <th></th>\n",
       "      <th>UserName</th>\n",
       "      <th>ScreenName</th>\n",
       "      <th>Location</th>\n",
       "      <th>TweetAt</th>\n",
       "      <th>OriginalTweet</th>\n",
       "      <th>Sentiment</th>\n",
       "      <th>DetectedLang</th>\n",
       "    </tr>\n",
       "  </thead>\n",
       "  <tbody>\n",
       "    <tr>\n",
       "      <th>0</th>\n",
       "      <td>3799</td>\n",
       "      <td>48751</td>\n",
       "      <td>London</td>\n",
       "      <td>16-03-2020</td>\n",
       "      <td>@MeNyrbie @Phil_Gahan @Chrisitv and and</td>\n",
       "      <td>Neutral</td>\n",
       "      <td>en</td>\n",
       "    </tr>\n",
       "    <tr>\n",
       "      <th>1</th>\n",
       "      <td>3800</td>\n",
       "      <td>48752</td>\n",
       "      <td>UK</td>\n",
       "      <td>16-03-2020</td>\n",
       "      <td>advice Talk to your neighbours family to excha...</td>\n",
       "      <td>Positive</td>\n",
       "      <td>en</td>\n",
       "    </tr>\n",
       "    <tr>\n",
       "      <th>2</th>\n",
       "      <td>3801</td>\n",
       "      <td>48753</td>\n",
       "      <td>Vagabonds</td>\n",
       "      <td>16-03-2020</td>\n",
       "      <td>covid Australia: Woolworths to give elderly, d...</td>\n",
       "      <td>Positive</td>\n",
       "      <td>en</td>\n",
       "    </tr>\n",
       "    <tr>\n",
       "      <th>3</th>\n",
       "      <td>3802</td>\n",
       "      <td>48754</td>\n",
       "      <td>NaN</td>\n",
       "      <td>16-03-2020</td>\n",
       "      <td>My food stock is not the only one which is emp...</td>\n",
       "      <td>Positive</td>\n",
       "      <td>en</td>\n",
       "    </tr>\n",
       "    <tr>\n",
       "      <th>4</th>\n",
       "      <td>3803</td>\n",
       "      <td>48755</td>\n",
       "      <td>NaN</td>\n",
       "      <td>16-03-2020</td>\n",
       "      <td>Me, ready to go at supermarket during the covi...</td>\n",
       "      <td>Extremely Negative</td>\n",
       "      <td>en</td>\n",
       "    </tr>\n",
       "  </tbody>\n",
       "</table>\n",
       "</div>"
      ],
      "text/plain": [
       "   UserName  ScreenName   Location     TweetAt  \\\n",
       "0      3799       48751     London  16-03-2020   \n",
       "1      3800       48752         UK  16-03-2020   \n",
       "2      3801       48753  Vagabonds  16-03-2020   \n",
       "3      3802       48754        NaN  16-03-2020   \n",
       "4      3803       48755        NaN  16-03-2020   \n",
       "\n",
       "                                       OriginalTweet           Sentiment  \\\n",
       "0            @MeNyrbie @Phil_Gahan @Chrisitv and and             Neutral   \n",
       "1  advice Talk to your neighbours family to excha...            Positive   \n",
       "2  covid Australia: Woolworths to give elderly, d...            Positive   \n",
       "3  My food stock is not the only one which is emp...            Positive   \n",
       "4  Me, ready to go at supermarket during the covi...  Extremely Negative   \n",
       "\n",
       "  DetectedLang  \n",
       "0           en  \n",
       "1           en  \n",
       "2           en  \n",
       "3           en  \n",
       "4           en  "
      ]
     },
     "execution_count": 7,
     "metadata": {},
     "output_type": "execute_result"
    }
   ],
   "source": [
    "\n",
    "\n",
    "# # -------------------------\n",
    "# # Colab Drive setup\n",
    "# # -------------------------\n",
    "# drive.mount(\"/content/drive\")\n",
    "# DRIVE_OUT_DIR = \"/content/drive/MyDrive/adv_dl_models2\"\n",
    "DRIVE_OUT_DIR = \"adv_dl_models2\"\n",
    "os.makedirs(DRIVE_OUT_DIR, exist_ok=True)\n",
    "\n",
    "train_path = \"Corona_NLP_train_cleaned_translated.csv\"\n",
    "test_path  = \"Corona_NLP_test_cleaned_translated.csv\"\n",
    "\n",
    "df_train = pd.read_csv(train_path)\n",
    "df_test  = pd.read_csv(test_path)\n",
    "\n",
    "print(df_train.shape, df_test.shape)\n",
    "df_train.head()\n"
   ]
  },
  {
   "cell_type": "markdown",
   "metadata": {
    "id": "RocHWm12Nzwv"
   },
   "source": [
    "# 📊 RoBERTa – Hyperparameter Exploration (Trainer + Optuna + W&B)\n",
    "\n",
    "In this stage, we continue our experimentation with **RoBERTa-base** for 5-class sentiment classification.  \n",
    "Based on our previous findings, **a higher number of unfrozen layers** tends to improve performance.  \n",
    "\n",
    "We now design a structured **Optuna hyperparameter search** to explore:\n",
    "- Learning rate (`1e-6 → 3e-5`)  \n",
    "- Weight decay (`1e-6 → 1e-2`)  \n",
    "- Batch sizes (`[4, 8, 16, 32]`)  \n",
    "- Number of unfrozen layers (`5 → 12`)  \n",
    "\n",
    "Training is managed through the **🤗 HuggingFace Trainer API**, with:  \n",
    "- **W&B logging** for live monitoring  \n",
    "- **Early stopping** (`patience=4`)  \n",
    "- **Fixed epochs = 12**  \n",
    "- Evaluation metric = **Macro F1**  \n",
    "\n",
    "This approach allows us to balance **model expressiveness** (more unfrozen layers) with **computational efficiency**, while ensuring reproducibility through deterministic seeding.  \n"
   ]
  },
  {
   "cell_type": "markdown",
   "metadata": {},
   "source": [
    "# Training"
   ]
  },
  {
   "cell_type": "code",
   "execution_count": 3,
   "metadata": {
    "colab": {
     "base_uri": "https://localhost:8080/",
     "height": 1000,
     "referenced_widgets": [
      "fdebf0f38fe74bea9aef2ec2e0ce69db",
      "4010738f32a7447eae8a0eb1a2f7c844",
      "f302ba7191784284b3bdea3b6abe83b0",
      "a29513d99be144efbd6f67df2be9385c",
      "b4a07acd10174b148a323257dcb905ff",
      "655d449bd6f543dcb9f5c6ddf5bd61d5",
      "98d4c1c47bc24e319fcf012b6b05cee8",
      "33f601662ae2470680b72e40e8650173",
      "d807b53faa61413fa0532986e54cafe6",
      "7ab7db0d8b4243909206dd5e21475585",
      "2ad250e270a147aebae37ef40d474a44",
      "dbad57f895e74bcdbe6e06359ef8c42d",
      "5bf6380e2fdd4fc884caa25f36add233",
      "a2da5d7b8ee341e5badde6bdddb2d729",
      "90362b04f18144e5af260162fd6b692d",
      "7aeb41e4eb984fbca3e975b66bdb3034",
      "7ea4de91a1824d0aa04e22bb2951aee6",
      "9e9c3068c227431d9c445c6e7fb9726e",
      "14185a334e93428a9942371779e624df",
      "039ca62f5bda4956b81f6d563aed799b",
      "dedee1104db34f12acd27a1d6ffb5e26",
      "fbe3cb361db645218e1d22602476ebe8",
      "d8f3d80e4b0549a6b2adc2f5fb55bbb7",
      "1a5bf12c59de411ca4be8bf29a9e4878",
      "ca3e5411b44c4f4aae4a02c96162b0f1",
      "3764b5b603ad465e8c04ec2175df3275",
      "5e92a9e70d9a43f1865e8906841f4dad",
      "8f1313fbe256495f8860f544c0b20181",
      "d4fee361cecb42e4a58c55496af697fc",
      "c649e307ac364fceafa52e8c34175ee3",
      "4de18202f4b34ac3910c93ed7fa39ae0",
      "544caf61b5ec4facbbfd8f8d1eb1760e",
      "8d5248be0d4c4694b01729335d8e1fb0",
      "474b4c7bcf704829b68b3ad41c6a9ced",
      "d03b4d6dc1e7491294eeaeb0201916b2",
      "51805f4910104d09abf4675c1e668926",
      "b6d044efae1b4a34b7cda8d7012dd589",
      "dcebef0a5dd24a009929092b23be232c",
      "4141527a5d8342b698143ba4a9460872",
      "bc888f7360e14eb8a35848bbc247813e",
      "e14c4cb27be246c49e2831488e3319db",
      "58182c2f3f4d4f0a85df887986758375",
      "5c525a73a655466bb5203e0fba3b6854",
      "7a47e275042c42cab7ea5c0f97ca33f6",
      "3bfc3f4411ec43e5ada4daecd4e61fbc",
      "135320bd23024ec185e7123b423b652c",
      "e873933517944b86b2fe53d7c2f59bb3",
      "8bb40f8b18364bb7813a44295f9b0b10",
      "96d99516dcb74492ae73cdad662d171e",
      "1758549a15d34461bd1e651e818a2e23",
      "d53a149de77e4e5db7ad43e7bf49cc4c",
      "8b94618202864ef7ae75d8a700bf05e6",
      "2d0e5e9f678b4df99775f9f84e65721f",
      "66eedd99458f4454b05e3c99bd4c9ce0",
      "5dda6ce4b1c24b108aa8688b19483208",
      "c9b3c625763448a8bc951f571d15f87e",
      "bec1d14928bc4f00b9cb82ad4d970458",
      "d2b7df4123d5450894fbb7d7fa522ffb",
      "a9ffebbcc53f4afd85d894eee4297d73",
      "cb3ffb251c0740cab6e71197b24867ca",
      "75bf9f405eac406988f65fbe374bfa93",
      "39bee8896c874cff94af5f2b447dddd8",
      "f81d4fd77a48491f9c3520a31ed5a9a0",
      "dad7de95677d40018179d916fd84fcc6",
      "592d71d1a3b44f03821e9669b077dd25",
      "677c2e6543224245890a642f6fd487c0",
      "97f842ca2da2431a85b2ec08229b4e33",
      "14652adb9d374d4fbfe25e5936da7a15",
      "52f3f3af9caa4ea2a56b6108fca862d0",
      "9444367dad52492da9a89ec7f4a09eea",
      "160c5713526a416ca4749847407b5492",
      "e312884949cc4c12887511b955ae4685",
      "f2a793fea969421bb2a78f71b7c9bfa7",
      "35b3c9eb299d487d93d2812c2e1c5f5b",
      "f48996ddefa84af28297ad7d07e0afa2",
      "a92aae908e914afb815d0a3dcc6e61ca",
      "3081002d6a3c48c38fb5f29a4f9ccb1c",
      "8bb205cbfec040eba967af2c3c07ae27",
      "4f15af160e1e4c44b60e1c187266f682",
      "78f52948d5bb4551822d9b5d4d98b7ac",
      "7f6cd4624edb4124b4db3b4c9bd7ac35",
      "75ae3e233f1144689e979a39c854e6b1",
      "a5db8e3e3eee49b5a5da233a90883da1",
      "1f0a22e2536e4c75ac34b1672dcecb8b",
      "108c93e7c5194e61bee76b4685bd550d",
      "d8f82645ca944a7b98b9c303ac659fed",
      "3e7f5da359db4cb7b7bebce3fcae3b92",
      "19b628c90ce84291b42d1fbdf02c1be4",
      "6d3f6c1480cb4ab59ce3efb60ef3a4cf",
      "bb0dfa4dc7c54f0b9166dfd666421020",
      "fdc95f3d63af4b5dabc53f81044ba816",
      "c8418a7bfc9a42fbab17913d9806ad23",
      "884713706d6f45f68029e5702e6e40e5",
      "e98a9231f63c4f15a990b45ec84c5a21",
      "6ae920ee922a4542b5639746fb56faab",
      "c42958e22848474e86922e4ccce62282",
      "816ad62e8431424c84c536d43ddd36a1",
      "1c27f5bed6ba4da9b05772cb5417524d",
      "9ef35f0504ca4d9581d490de9e9b32fd",
      "a576d7fa1fb54b42960757683420639d",
      "e22e9c2f11804141ada4e8d8d6a69dbc",
      "a84b606ca980434a8cb97a81f1a6fa2c",
      "62432c5f6c7943f5a4628c326e85bcde",
      "7cc9731214934dceb6170a7fb7f2f001",
      "ff5a7351db5a46a5a795113a794417b2",
      "a045cacae20a4faaac30e80de96bfb6f",
      "3f015cf4db714bb2b268bd7fe8714273",
      "a18c7741ba684be0887ac9064d004205",
      "d15c05fd84584d919b7b6c696ab6eb48",
      "bda01ea0f5354692a4c0a16b08de3d49",
      "10028c3d3468460b8fdb268c97b63d5d",
      "23a51f465ac942f39a53878165bbe31a",
      "4690cae37df04641acea988543a8338b",
      "1c6a656272e7406b8e2b0744a994b412",
      "7d60aff201b449deb80d9cb0bf3f17d8",
      "38add9f70eb942c583d387252f19d3ad",
      "83a3f6a7c0e842ae94efee8ea60d52e4",
      "d47de15041cd4af996297856165b642c",
      "bbc828de1120432d804ffe57c61cceb7",
      "5673d28b06b649f4a7d20e90535f39c7",
      "974748405b434e16bb1a347ef6a48f14",
      "8596dac2e024416f9ff5d0647f05495b",
      "45c4e37121094343a8581cd7051475ea",
      "ef72071073c94efdbbefb983629c594c",
      "1f301970f8e546a5ad615e8441758ec9",
      "07b9f7b39e1e434dab6df46c6c084aed",
      "2ce6a01ff08244d5841ffce5680919f2",
      "ee6a3559b5ee4865a26991c26d8c5d2d",
      "ff75bd3a3e54445fb792b7f397e29382",
      "eaadf361a796496da0594d4ec2a53c46",
      "8ea20ba555de4692ad772346793028a1",
      "501f20ebd5a943338deb7d403bc4ea9c",
      "a0be4ea118f54913b6339aa51f88d365",
      "34d503517e924978923b70a6932a331d",
      "6045cea3d8e049c68f14a4ffb41f80ee",
      "00a792b414744e7f8b275f60c203eab6",
      "f386993a107542e685b82e2be486befd",
      "a9b177d1001e4b0da9c9fb4d4607a013",
      "a8bff4d7a7524458855640ce5e203a62",
      "1635dd069c974473bd42ef5a0f7103fc",
      "6ce5aabe68e04bf3b70d84ffeb39a04c",
      "abbac15a6b504a8bb0d7f666512204d4",
      "5e517b22e0d640d5ba4007f0f03c3e9f",
      "2bc75dada8964721ad7c9ee854d7002d",
      "2a84dcdccf204067b7ce7b60ea6eb120",
      "5d2bf5dd0101456c8976a2889f2e9b73",
      "da7efe5ae12e457c9c3bdbbbfec88924",
      "d802b7420e6a4923aeec2314199cb7de",
      "1c42d39c1c824189883e3962e86cd756",
      "063ac2c7c1274b3faa144b18ad15b82a",
      "c36526bbb06d445180f72bc0cdb19cc0",
      "bf30fe3c19b24a8d92d351a553f2cf42",
      "80d2f9ad47e54a4c902d02f97cc89673",
      "9ee8c18585e143f885d6ad3c780c881f",
      "249aca50ce8f4b90ba41ed6135931f61",
      "656f4ad085504dd7b4c197c03c23c485",
      "31e334fdd35d4aceaf259deb045f8055",
      "d9714b0a047f4f789d2358e1e1177936",
      "8ff9829fe8bc48afa834b17624b48389",
      "23024be6e459421ebbe611b403a9f77a",
      "35e8fce86aaf4af6ae664c2439182881",
      "5009ad2382624a0d8207b59231a72bfa",
      "48302455d0ec4e47a6bd95a0b9f7e28d",
      "d9fe8268157b4acabbc8a5d47ce73827",
      "3f9b34dea29245c0adac17fd91bb619a",
      "206e4f5e3c9644a3b0841d7adfd1e7c8",
      "bcb14d8fd9214a5ea39da677ecec8f88",
      "9c149e26473446ed9c2e81df609a6375",
      "f48a66daefbf42629264ba3592ff5e2d",
      "968fa860afb04fd69290c34075e827e1",
      "4ae446d38769413cbba803fdaf3e45fe",
      "ab5c83bdc8d34414a7c6e9ff6d93f22a",
      "38463f7d61844f27bd67fa599b461773",
      "9e0a37b4c3ff419c81c161a7df93e267",
      "2f7849df28e54d2bbafce8ac7a197683",
      "8e2d2bf3351f4296af5f5ea7e80d2723",
      "77d80257503740f7a685c7555caa3595",
      "e390b213b2f944228cb6cf20ac650137",
      "fcfb1476be3c4ba58f0dab213810edfa",
      "999692bbafa54a7db9c1d7b2299f9471",
      "be8c7529076b4b8593ef3a888879baed",
      "c3e48bee8bfd4947bf810c147f5d84be",
      "9447f6d36217402fb5a346f0abee9561",
      "c85df5e0f4544f57ab74f4355149615f",
      "37f611ead0c547caaab2412146b3e3a9",
      "d4a613e3aed04485b51d5a53739c7ff0",
      "cfe7d6254b19428492d66f9a64e2d430",
      "9049c20f2937454fa28c5ad14dcccf0a",
      "0108bb200bd24401b76c8dab692fcc22",
      "9682aadc1b1140118bee0d77291fdff1",
      "977c4c344ff74f42a3835c262f23b973",
      "d60eea9a79f04c8180dd24e9cd59af20",
      "7cdf41a2ef554dc5a287e0f031260099",
      "1f31048ebbd2423f9220e6cdbb06d421",
      "facfc00cccd64702a1b0a76b54d4e383",
      "b7dfa1cdef1f46e2b52a60f7ac036379",
      "a05f3b5d898b4b73bdd9f6618d7ba292",
      "77b4d2fc6d1d4741ab377ea8793476e5",
      "df6c6ecc93744070a23519d5e7777902",
      "75045bbe824a49eaab36c3502221c6fa",
      "390160ff028445fa88dbdba3debeabaf",
      "f52604e8aafa4037bcaa16d72d7905e5",
      "970c5f084e2f4f1fb8697e519e499c16",
      "a55584bd7e3a458987b4ef92826b86f0",
      "563389dba3d3474795af7d4e87c99337",
      "cc90b11fc1cc49fcbdddde76dfd4a68c"
     ]
    },
    "executionInfo": {
     "elapsed": 39905269,
     "status": "error",
     "timestamp": 1755244479760,
     "user": {
      "displayName": "גל גוסרסקי",
      "userId": "06195569624382764324"
     },
     "user_tz": -180
    },
    "id": "C_lNLgbi4LK8",
    "outputId": "e3cd7d3e-ba57-4330-cdd4-09365683580e",
    "scrolled": true
   },
   "outputs": [
    {
     "metadata": {
      "tags": null
     },
     "name": "stdout",
     "output_type": "stream",
     "text": [
      "Train/Val/Test sizes: 37039/4116/3798\n"
     ]
    },
    {
     "metadata": {
      "tags": null
     },
     "name": "stderr",
     "output_type": "stream",
     "text": [
      "/usr/local/lib/python3.11/dist-packages/huggingface_hub/utils/_auth.py:94: UserWarning: \n",
      "The secret `HF_TOKEN` does not exist in your Colab secrets.\n",
      "To authenticate with the Hugging Face Hub, create a token in your settings tab (https://huggingface.co/settings/tokens), set it as secret in your Google Colab and restart your session.\n",
      "You will be able to reuse this secret in all of your notebooks.\n",
      "Please note that authentication is recommended but still optional to access public models or datasets.\n",
      "  warnings.warn(\n"
     ]
    },
    {
     "data": {
      "application/vnd.jupyter.widget-view+json": {
       "model_id": "fdebf0f38fe74bea9aef2ec2e0ce69db",
       "version_major": 2,
       "version_minor": 0
      },
      "text/plain": [
       "tokenizer_config.json:   0%|          | 0.00/25.0 [00:00<?, ?B/s]"
      ]
     },
     "metadata": {},
     "output_type": "display_data"
    },
    {
     "data": {
      "application/vnd.jupyter.widget-view+json": {
       "model_id": "dbad57f895e74bcdbe6e06359ef8c42d",
       "version_major": 2,
       "version_minor": 0
      },
      "text/plain": [
       "config.json:   0%|          | 0.00/481 [00:00<?, ?B/s]"
      ]
     },
     "metadata": {},
     "output_type": "display_data"
    },
    {
     "data": {
      "application/vnd.jupyter.widget-view+json": {
       "model_id": "d8f3d80e4b0549a6b2adc2f5fb55bbb7",
       "version_major": 2,
       "version_minor": 0
      },
      "text/plain": [
       "vocab.json:   0%|          | 0.00/899k [00:00<?, ?B/s]"
      ]
     },
     "metadata": {},
     "output_type": "display_data"
    },
    {
     "data": {
      "application/vnd.jupyter.widget-view+json": {
       "model_id": "474b4c7bcf704829b68b3ad41c6a9ced",
       "version_major": 2,
       "version_minor": 0
      },
      "text/plain": [
       "merges.txt:   0%|          | 0.00/456k [00:00<?, ?B/s]"
      ]
     },
     "metadata": {},
     "output_type": "display_data"
    },
    {
     "data": {
      "application/vnd.jupyter.widget-view+json": {
       "model_id": "3bfc3f4411ec43e5ada4daecd4e61fbc",
       "version_major": 2,
       "version_minor": 0
      },
      "text/plain": [
       "tokenizer.json:   0%|          | 0.00/1.36M [00:00<?, ?B/s]"
      ]
     },
     "metadata": {},
     "output_type": "display_data"
    },
    {
     "metadata": {
      "tags": null
     },
     "name": "stderr",
     "output_type": "stream",
     "text": [
      "/usr/local/lib/python3.11/dist-packages/transformers/tokenization_utils_base.py:1601: FutureWarning: `clean_up_tokenization_spaces` was not set. It will be set to `True` by default. This behavior will be depracted in transformers v4.45, and will be then set to `False` by default. For more details check this issue: https://github.com/huggingface/transformers/issues/31884\n",
      "  warnings.warn(\n"
     ]
    },
    {
     "data": {
      "application/vnd.jupyter.widget-view+json": {
       "model_id": "c9b3c625763448a8bc951f571d15f87e",
       "version_major": 2,
       "version_minor": 0
      },
      "text/plain": [
       "Map:   0%|          | 0/37039 [00:00<?, ? examples/s]"
      ]
     },
     "metadata": {},
     "output_type": "display_data"
    },
    {
     "data": {
      "application/vnd.jupyter.widget-view+json": {
       "model_id": "97f842ca2da2431a85b2ec08229b4e33",
       "version_major": 2,
       "version_minor": 0
      },
      "text/plain": [
       "Map:   0%|          | 0/4116 [00:00<?, ? examples/s]"
      ]
     },
     "metadata": {},
     "output_type": "display_data"
    },
    {
     "data": {
      "application/vnd.jupyter.widget-view+json": {
       "model_id": "8bb205cbfec040eba967af2c3c07ae27",
       "version_major": 2,
       "version_minor": 0
      },
      "text/plain": [
       "Map:   0%|          | 0/3798 [00:00<?, ? examples/s]"
      ]
     },
     "metadata": {},
     "output_type": "display_data"
    },
    {
     "metadata": {
      "tags": null
     },
     "name": "stdout",
     "output_type": "stream",
     "text": [
      "Loaded existing study: roberta-base_trainer_study\n",
      "Trials completed: 0 / 12 → remaining: 12\n"
     ]
    },
    {
     "data": {
      "application/vnd.jupyter.widget-view+json": {
       "model_id": "6d3f6c1480cb4ab59ce3efb60ef3a4cf",
       "version_major": 2,
       "version_minor": 0
      },
      "text/plain": [
       "  0%|          | 0/12 [00:00<?, ?it/s]"
      ]
     },
     "metadata": {},
     "output_type": "display_data"
    },
    {
     "data": {
      "application/javascript": [
       "\n",
       "        window._wandbApiKey = new Promise((resolve, reject) => {\n",
       "            function loadScript(url) {\n",
       "            return new Promise(function(resolve, reject) {\n",
       "                let newScript = document.createElement(\"script\");\n",
       "                newScript.onerror = reject;\n",
       "                newScript.onload = resolve;\n",
       "                document.body.appendChild(newScript);\n",
       "                newScript.src = url;\n",
       "            });\n",
       "            }\n",
       "            loadScript(\"https://cdn.jsdelivr.net/npm/postmate/build/postmate.min.js\").then(() => {\n",
       "            const iframe = document.createElement('iframe')\n",
       "            iframe.style.cssText = \"width:0;height:0;border:none\"\n",
       "            document.body.appendChild(iframe)\n",
       "            const handshake = new Postmate({\n",
       "                container: iframe,\n",
       "                url: 'https://wandb.ai/authorize'\n",
       "            });\n",
       "            const timeout = setTimeout(() => reject(\"Couldn't auto authenticate\"), 5000)\n",
       "            handshake.then(function(child) {\n",
       "                child.on('authorize', data => {\n",
       "                    clearTimeout(timeout)\n",
       "                    resolve(data)\n",
       "                });\n",
       "            });\n",
       "            })\n",
       "        });\n",
       "    "
      ],
      "text/plain": [
       "<IPython.core.display.Javascript object>"
      ]
     },
     "metadata": {},
     "output_type": "display_data"
    },
    {
     "metadata": {
      "tags": null
     },
     "name": "stderr",
     "output_type": "stream",
     "text": [
      "\u001b[34m\u001b[1mwandb\u001b[0m: Logging into wandb.ai. (Learn how to deploy a W&B server locally: https://wandb.me/wandb-server)\n",
      "\u001b[34m\u001b[1mwandb\u001b[0m: You can find your API key in your browser here: https://wandb.ai/authorize\n",
      "wandb: Paste an API key from your profile and hit enter, or press ctrl+c to quit:\u001b[34m\u001b[1mwandb\u001b[0m: Appending key for api.wandb.ai to your netrc file: /root/.netrc\n"
     ]
    },
    {
     "data": {
      "text/html": [
       "wandb version 0.21.1 is available!  To upgrade, please run:\n",
       " $ pip install wandb --upgrade"
      ],
      "text/plain": [
       "<IPython.core.display.HTML object>"
      ]
     },
     "metadata": {},
     "output_type": "display_data"
    },
    {
     "data": {
      "text/html": [
       "Tracking run with wandb version 0.17.5"
      ],
      "text/plain": [
       "<IPython.core.display.HTML object>"
      ]
     },
     "metadata": {},
     "output_type": "display_data"
    },
    {
     "data": {
      "text/html": [
       "Run data is saved locally in <code>/content/wandb/run-20250814_184603-7v42bp2j</code>"
      ],
      "text/plain": [
       "<IPython.core.display.HTML object>"
      ]
     },
     "metadata": {},
     "output_type": "display_data"
    },
    {
     "data": {
      "text/html": [
       "Syncing run <strong><a href='https://wandb.ai/gal2361-tel-aviv-university/adv-dl2-p1/runs/7v42bp2j' target=\"_blank\">roberta-base_trainer_trial_1</a></strong> to <a href='https://wandb.ai/gal2361-tel-aviv-university/adv-dl2-p1' target=\"_blank\">Weights & Biases</a> (<a href='https://wandb.me/run' target=\"_blank\">docs</a>)<br/>"
      ],
      "text/plain": [
       "<IPython.core.display.HTML object>"
      ]
     },
     "metadata": {},
     "output_type": "display_data"
    },
    {
     "data": {
      "text/html": [
       " View project at <a href='https://wandb.ai/gal2361-tel-aviv-university/adv-dl2-p1' target=\"_blank\">https://wandb.ai/gal2361-tel-aviv-university/adv-dl2-p1</a>"
      ],
      "text/plain": [
       "<IPython.core.display.HTML object>"
      ]
     },
     "metadata": {},
     "output_type": "display_data"
    },
    {
     "data": {
      "text/html": [
       " View run at <a href='https://wandb.ai/gal2361-tel-aviv-university/adv-dl2-p1/runs/7v42bp2j' target=\"_blank\">https://wandb.ai/gal2361-tel-aviv-university/adv-dl2-p1/runs/7v42bp2j</a>"
      ],
      "text/plain": [
       "<IPython.core.display.HTML object>"
      ]
     },
     "metadata": {},
     "output_type": "display_data"
    },
    {
     "data": {
      "application/vnd.jupyter.widget-view+json": {
       "model_id": "a576d7fa1fb54b42960757683420639d",
       "version_major": 2,
       "version_minor": 0
      },
      "text/plain": [
       "model.safetensors:   0%|          | 0.00/499M [00:00<?, ?B/s]"
      ]
     },
     "metadata": {},
     "output_type": "display_data"
    },
    {
     "metadata": {
      "tags": null
     },
     "name": "stderr",
     "output_type": "stream",
     "text": [
      "Some weights of RobertaForSequenceClassification were not initialized from the model checkpoint at roberta-base and are newly initialized: ['classifier.dense.bias', 'classifier.dense.weight', 'classifier.out_proj.bias', 'classifier.out_proj.weight']\n",
      "You should probably TRAIN this model on a down-stream task to be able to use it for predictions and inference.\n",
      "/usr/local/lib/python3.11/dist-packages/transformers/training_args.py:1525: FutureWarning: `evaluation_strategy` is deprecated and will be removed in version 4.46 of 🤗 Transformers. Use `eval_strategy` instead\n",
      "  warnings.warn(\n",
      "/usr/local/lib/python3.11/dist-packages/accelerate/accelerator.py:494: FutureWarning: `torch.cuda.amp.GradScaler(args...)` is deprecated. Please use `torch.amp.GradScaler('cuda', args...)` instead.\n",
      "  self.scaler = torch.cuda.amp.GradScaler(**kwargs)\n"
     ]
    },
    {
     "data": {
      "text/html": [
       "\n",
       "    <div>\n",
       "      \n",
       "      <progress value='55560' max='55560' style='width:300px; height:20px; vertical-align: middle;'></progress>\n",
       "      [55560/55560 47:19, Epoch 12/12]\n",
       "    </div>\n",
       "    <table border=\"1\" class=\"dataframe\">\n",
       "  <thead>\n",
       " <tr style=\"text-align: left;\">\n",
       "      <th>Epoch</th>\n",
       "      <th>Training Loss</th>\n",
       "      <th>Validation Loss</th>\n",
       "      <th>Accuracy</th>\n",
       "      <th>Precision Macro</th>\n",
       "      <th>Recall Macro</th>\n",
       "      <th>F1 Macro</th>\n",
       "    </tr>\n",
       "  </thead>\n",
       "  <tbody>\n",
       "    <tr>\n",
       "      <td>1</td>\n",
       "      <td>0.972000</td>\n",
       "      <td>1.078238</td>\n",
       "      <td>0.554665</td>\n",
       "      <td>0.566122</td>\n",
       "      <td>0.569002</td>\n",
       "      <td>0.566863</td>\n",
       "    </tr>\n",
       "    <tr>\n",
       "      <td>2</td>\n",
       "      <td>0.924400</td>\n",
       "      <td>0.950611</td>\n",
       "      <td>0.608844</td>\n",
       "      <td>0.630563</td>\n",
       "      <td>0.628744</td>\n",
       "      <td>0.621589</td>\n",
       "    </tr>\n",
       "    <tr>\n",
       "      <td>3</td>\n",
       "      <td>0.879900</td>\n",
       "      <td>0.907957</td>\n",
       "      <td>0.646501</td>\n",
       "      <td>0.666514</td>\n",
       "      <td>0.658884</td>\n",
       "      <td>0.659155</td>\n",
       "    </tr>\n",
       "    <tr>\n",
       "      <td>4</td>\n",
       "      <td>0.798000</td>\n",
       "      <td>0.852881</td>\n",
       "      <td>0.680272</td>\n",
       "      <td>0.692792</td>\n",
       "      <td>0.694896</td>\n",
       "      <td>0.690852</td>\n",
       "    </tr>\n",
       "    <tr>\n",
       "      <td>5</td>\n",
       "      <td>0.821300</td>\n",
       "      <td>0.828949</td>\n",
       "      <td>0.686346</td>\n",
       "      <td>0.697310</td>\n",
       "      <td>0.701441</td>\n",
       "      <td>0.696100</td>\n",
       "    </tr>\n",
       "    <tr>\n",
       "      <td>6</td>\n",
       "      <td>0.545900</td>\n",
       "      <td>0.829353</td>\n",
       "      <td>0.702381</td>\n",
       "      <td>0.715731</td>\n",
       "      <td>0.710187</td>\n",
       "      <td>0.711925</td>\n",
       "    </tr>\n",
       "    <tr>\n",
       "      <td>7</td>\n",
       "      <td>0.670600</td>\n",
       "      <td>0.861672</td>\n",
       "      <td>0.693878</td>\n",
       "      <td>0.706778</td>\n",
       "      <td>0.712204</td>\n",
       "      <td>0.703988</td>\n",
       "    </tr>\n",
       "    <tr>\n",
       "      <td>8</td>\n",
       "      <td>0.651200</td>\n",
       "      <td>0.857896</td>\n",
       "      <td>0.689990</td>\n",
       "      <td>0.697104</td>\n",
       "      <td>0.708709</td>\n",
       "      <td>0.699799</td>\n",
       "    </tr>\n",
       "    <tr>\n",
       "      <td>9</td>\n",
       "      <td>0.511500</td>\n",
       "      <td>0.854962</td>\n",
       "      <td>0.705782</td>\n",
       "      <td>0.716467</td>\n",
       "      <td>0.717280</td>\n",
       "      <td>0.714701</td>\n",
       "    </tr>\n",
       "    <tr>\n",
       "      <td>10</td>\n",
       "      <td>0.551800</td>\n",
       "      <td>0.887606</td>\n",
       "      <td>0.701409</td>\n",
       "      <td>0.707370</td>\n",
       "      <td>0.719800</td>\n",
       "      <td>0.709460</td>\n",
       "    </tr>\n",
       "    <tr>\n",
       "      <td>11</td>\n",
       "      <td>0.614100</td>\n",
       "      <td>0.868690</td>\n",
       "      <td>0.714043</td>\n",
       "      <td>0.722228</td>\n",
       "      <td>0.727011</td>\n",
       "      <td>0.723089</td>\n",
       "    </tr>\n",
       "    <tr>\n",
       "      <td>12</td>\n",
       "      <td>0.509000</td>\n",
       "      <td>0.880747</td>\n",
       "      <td>0.711127</td>\n",
       "      <td>0.718501</td>\n",
       "      <td>0.725919</td>\n",
       "      <td>0.719989</td>\n",
       "    </tr>\n",
       "  </tbody>\n",
       "</table><p>"
      ],
      "text/plain": [
       "<IPython.core.display.HTML object>"
      ]
     },
     "metadata": {},
     "output_type": "display_data"
    },
    {
     "data": {
      "text/html": [],
      "text/plain": [
       "<IPython.core.display.HTML object>"
      ]
     },
     "metadata": {},
     "output_type": "display_data"
    },
    {
     "data": {
      "application/vnd.jupyter.widget-view+json": {
       "model_id": "10028c3d3468460b8fdb268c97b63d5d",
       "version_major": 2,
       "version_minor": 0
      },
      "text/plain": [
       "VBox(children=(Label(value='0.005 MB of 0.005 MB uploaded\\r'), FloatProgress(value=1.0, max=1.0)))"
      ]
     },
     "metadata": {},
     "output_type": "display_data"
    },
    {
     "data": {
      "text/html": [
       "<style>\n",
       "    table.wandb td:nth-child(1) { padding: 0 10px; text-align: left ; width: auto;} td:nth-child(2) {text-align: left ; width: 100%}\n",
       "    .wandb-row { display: flex; flex-direction: row; flex-wrap: wrap; justify-content: flex-start; width: 100% }\n",
       "    .wandb-col { display: flex; flex-direction: column; flex-basis: 100%; flex: 1; padding: 10px; }\n",
       "    </style>\n",
       "<div class=\"wandb-row\"><div class=\"wandb-col\"><h3>Run history:</h3><br/><table class=\"wandb\"><tr><td>eval/accuracy</td><td>▁▃▅▇▇▇▇▇█▇███</td></tr><tr><td>eval/f1_macro</td><td>▁▃▅▇▇▇▇▇█▇███</td></tr><tr><td>eval/loss</td><td>█▄▃▂▁▁▂▂▂▃▂▂▂</td></tr><tr><td>eval/precision_macro</td><td>▁▄▆▇▇█▇▇█▇███</td></tr><tr><td>eval/recall_macro</td><td>▁▄▅▇▇▇▇▇█████</td></tr><tr><td>eval/runtime</td><td>▃▃▃█▅▃▄▃▁▃▃▄▆</td></tr><tr><td>eval/samples_per_second</td><td>▆▆▆▁▄▆▅▆█▆▆▄▃</td></tr><tr><td>eval/steps_per_second</td><td>▆▆▆▁▄▆▅▆█▆▆▄▃</td></tr><tr><td>test/accuracy</td><td>▁</td></tr><tr><td>test/f1_macro</td><td>▁</td></tr><tr><td>test/loss</td><td>▁</td></tr><tr><td>test/precision_macro</td><td>▁</td></tr><tr><td>test/recall_macro</td><td>▁</td></tr><tr><td>test/runtime</td><td>▁</td></tr><tr><td>test/samples_per_second</td><td>▁</td></tr><tr><td>test/steps_per_second</td><td>▁</td></tr><tr><td>train/epoch</td><td>▁▁▁▁▂▂▂▂▂▃▃▃▃▃▃▄▄▄▄▄▅▅▅▅▅▅▆▆▆▆▆▇▇▇▇▇▇███</td></tr><tr><td>train/global_step</td><td>▁▁▁▁▂▂▂▂▂▃▃▃▃▃▃▄▄▄▄▄▅▅▅▅▅▅▆▆▆▆▆▇▇▇▇▇▇███</td></tr><tr><td>train/grad_norm</td><td>▁▂▂▂▂▂▂▃▃▃▂▂▄▅▃▃▂▂▃▄▃▃▃▃▃▂▃▃▇▅▂▂▅▆▄▃▄█▂▄</td></tr><tr><td>train/learning_rate</td><td>▂▅████▇▇▇▇▇▆▆▆▆▆▅▅▅▅▅▄▄▄▄▄▄▃▃▃▃▃▂▂▂▂▂▁▁▁</td></tr><tr><td>train/loss</td><td>█▆▅▅▄▄▄▅▃▄▃▄▅▃▂▃▂▃▃▃▃▂▂▂▂▂▂▂▃▃▁▂▂▂▂▂▃▂▁▂</td></tr><tr><td>val/accuracy</td><td>▁</td></tr><tr><td>val/f1_macro</td><td>▁</td></tr><tr><td>val/precision_macro</td><td>▁</td></tr><tr><td>val/recall_macro</td><td>▁</td></tr></table><br/></div><div class=\"wandb-col\"><h3>Run summary:</h3><br/><table class=\"wandb\"><tr><td>best_checkpoint_path</td><td>/content/drive/MyDri...</td></tr><tr><td>eval/accuracy</td><td>0.71404</td></tr><tr><td>eval/f1_macro</td><td>0.72309</td></tr><tr><td>eval/loss</td><td>0.86869</td></tr><tr><td>eval/precision_macro</td><td>0.72223</td></tr><tr><td>eval/recall_macro</td><td>0.72701</td></tr><tr><td>eval/runtime</td><td>9.0067</td></tr><tr><td>eval/samples_per_second</td><td>456.992</td></tr><tr><td>eval/steps_per_second</td><td>57.179</td></tr><tr><td>test/accuracy</td><td>0.71404</td></tr><tr><td>test/f1_macro</td><td>0.72309</td></tr><tr><td>test/loss</td><td>0.86869</td></tr><tr><td>test/precision_macro</td><td>0.72223</td></tr><tr><td>test/recall_macro</td><td>0.72701</td></tr><tr><td>test/runtime</td><td>9.8238</td></tr><tr><td>test/samples_per_second</td><td>418.981</td></tr><tr><td>test/steps_per_second</td><td>52.423</td></tr><tr><td>total_flos</td><td>1.5153337667558136e+16</td></tr><tr><td>train/epoch</td><td>12.0</td></tr><tr><td>train/global_step</td><td>55560</td></tr><tr><td>train/grad_norm</td><td>85.70934</td></tr><tr><td>train/learning_rate</td><td>0.0</td></tr><tr><td>train/loss</td><td>0.509</td></tr><tr><td>train_loss</td><td>0.73299</td></tr><tr><td>train_runtime</td><td>2839.906</td></tr><tr><td>train_samples_per_second</td><td>156.508</td></tr><tr><td>train_steps_per_second</td><td>19.564</td></tr><tr><td>val/accuracy</td><td>0.71404</td></tr><tr><td>val/f1_macro</td><td>0.72309</td></tr><tr><td>val/precision_macro</td><td>0.72223</td></tr><tr><td>val/recall_macro</td><td>0.72701</td></tr></table><br/></div></div>"
      ],
      "text/plain": [
       "<IPython.core.display.HTML object>"
      ]
     },
     "metadata": {},
     "output_type": "display_data"
    },
    {
     "data": {
      "text/html": [
       " View run <strong style=\"color:#cdcd00\">roberta-base_trainer_trial_1</strong> at: <a href='https://wandb.ai/gal2361-tel-aviv-university/adv-dl2-p1/runs/7v42bp2j' target=\"_blank\">https://wandb.ai/gal2361-tel-aviv-university/adv-dl2-p1/runs/7v42bp2j</a><br/> View project at: <a href='https://wandb.ai/gal2361-tel-aviv-university/adv-dl2-p1' target=\"_blank\">https://wandb.ai/gal2361-tel-aviv-university/adv-dl2-p1</a><br/>Synced 5 W&B file(s), 1 media file(s), 1 artifact file(s) and 0 other file(s)"
      ],
      "text/plain": [
       "<IPython.core.display.HTML object>"
      ]
     },
     "metadata": {},
     "output_type": "display_data"
    },
    {
     "data": {
      "text/html": [
       "Find logs at: <code>./wandb/run-20250814_184603-7v42bp2j/logs</code>"
      ],
      "text/plain": [
       "<IPython.core.display.HTML object>"
      ]
     },
     "metadata": {},
     "output_type": "display_data"
    },
    {
     "data": {
      "text/html": [
       "The new W&B backend becomes opt-out in version 0.18.0; try it out with `wandb.require(\"core\")`! See https://wandb.me/wandb-core for more information."
      ],
      "text/plain": [
       "<IPython.core.display.HTML object>"
      ]
     },
     "metadata": {},
     "output_type": "display_data"
    },
    {
     "metadata": {
      "tags": null
     },
     "name": "stderr",
     "output_type": "stream",
     "text": [
      "\u001b[34m\u001b[1mwandb\u001b[0m: Currently logged in as: \u001b[33mgal2361\u001b[0m (\u001b[33mgal2361-tel-aviv-university\u001b[0m). Use \u001b[1m`wandb login --relogin`\u001b[0m to force relogin\n"
     ]
    },
    {
     "metadata": {
      "tags": null
     },
     "name": "stdout",
     "output_type": "stream",
     "text": [
      "[I 2025-08-14 19:34:00,418] Trial 1 finished with value: 0.7230890768291834 and parameters: {'lr': 5.835883872710637e-06, 'weight_decay': 0.0008934494049267515, 'batch_size': 8, 'unfreeze_last_k': 5}. Best is trial 1 with value: 0.7230890768291834.\n"
     ]
    },
    {
     "data": {
      "text/html": [
       "wandb version 0.21.1 is available!  To upgrade, please run:\n",
       " $ pip install wandb --upgrade"
      ],
      "text/plain": [
       "<IPython.core.display.HTML object>"
      ]
     },
     "metadata": {},
     "output_type": "display_data"
    },
    {
     "data": {
      "text/html": [
       "Tracking run with wandb version 0.17.5"
      ],
      "text/plain": [
       "<IPython.core.display.HTML object>"
      ]
     },
     "metadata": {},
     "output_type": "display_data"
    },
    {
     "data": {
      "text/html": [
       "Run data is saved locally in <code>/content/wandb/run-20250814_193400-4amo3zvs</code>"
      ],
      "text/plain": [
       "<IPython.core.display.HTML object>"
      ]
     },
     "metadata": {},
     "output_type": "display_data"
    },
    {
     "data": {
      "text/html": [
       "Syncing run <strong><a href='https://wandb.ai/gal2361-tel-aviv-university/adv-dl2-p1/runs/4amo3zvs' target=\"_blank\">roberta-base_trainer_trial_2</a></strong> to <a href='https://wandb.ai/gal2361-tel-aviv-university/adv-dl2-p1' target=\"_blank\">Weights & Biases</a> (<a href='https://wandb.me/run' target=\"_blank\">docs</a>)<br/>"
      ],
      "text/plain": [
       "<IPython.core.display.HTML object>"
      ]
     },
     "metadata": {},
     "output_type": "display_data"
    },
    {
     "data": {
      "text/html": [
       " View project at <a href='https://wandb.ai/gal2361-tel-aviv-university/adv-dl2-p1' target=\"_blank\">https://wandb.ai/gal2361-tel-aviv-university/adv-dl2-p1</a>"
      ],
      "text/plain": [
       "<IPython.core.display.HTML object>"
      ]
     },
     "metadata": {},
     "output_type": "display_data"
    },
    {
     "data": {
      "text/html": [
       " View run at <a href='https://wandb.ai/gal2361-tel-aviv-university/adv-dl2-p1/runs/4amo3zvs' target=\"_blank\">https://wandb.ai/gal2361-tel-aviv-university/adv-dl2-p1/runs/4amo3zvs</a>"
      ],
      "text/plain": [
       "<IPython.core.display.HTML object>"
      ]
     },
     "metadata": {},
     "output_type": "display_data"
    },
    {
     "metadata": {
      "tags": null
     },
     "name": "stderr",
     "output_type": "stream",
     "text": [
      "Some weights of RobertaForSequenceClassification were not initialized from the model checkpoint at roberta-base and are newly initialized: ['classifier.dense.bias', 'classifier.dense.weight', 'classifier.out_proj.bias', 'classifier.out_proj.weight']\n",
      "You should probably TRAIN this model on a down-stream task to be able to use it for predictions and inference.\n",
      "/usr/local/lib/python3.11/dist-packages/transformers/training_args.py:1525: FutureWarning: `evaluation_strategy` is deprecated and will be removed in version 4.46 of 🤗 Transformers. Use `eval_strategy` instead\n",
      "  warnings.warn(\n",
      "/usr/local/lib/python3.11/dist-packages/accelerate/accelerator.py:494: FutureWarning: `torch.cuda.amp.GradScaler(args...)` is deprecated. Please use `torch.amp.GradScaler('cuda', args...)` instead.\n",
      "  self.scaler = torch.cuda.amp.GradScaler(**kwargs)\n"
     ]
    },
    {
     "data": {
      "text/html": [
       "\n",
       "    <div>\n",
       "      \n",
       "      <progress value='55560' max='55560' style='width:300px; height:20px; vertical-align: middle;'></progress>\n",
       "      [55560/55560 1:08:15, Epoch 12/12]\n",
       "    </div>\n",
       "    <table border=\"1\" class=\"dataframe\">\n",
       "  <thead>\n",
       " <tr style=\"text-align: left;\">\n",
       "      <th>Epoch</th>\n",
       "      <th>Training Loss</th>\n",
       "      <th>Validation Loss</th>\n",
       "      <th>Accuracy</th>\n",
       "      <th>Precision Macro</th>\n",
       "      <th>Recall Macro</th>\n",
       "      <th>F1 Macro</th>\n",
       "    </tr>\n",
       "  </thead>\n",
       "  <tbody>\n",
       "    <tr>\n",
       "      <td>1</td>\n",
       "      <td>1.046900</td>\n",
       "      <td>1.145852</td>\n",
       "      <td>0.514577</td>\n",
       "      <td>0.522266</td>\n",
       "      <td>0.537180</td>\n",
       "      <td>0.527494</td>\n",
       "    </tr>\n",
       "    <tr>\n",
       "      <td>2</td>\n",
       "      <td>1.050700</td>\n",
       "      <td>0.988141</td>\n",
       "      <td>0.595238</td>\n",
       "      <td>0.621341</td>\n",
       "      <td>0.611203</td>\n",
       "      <td>0.610887</td>\n",
       "    </tr>\n",
       "    <tr>\n",
       "      <td>3</td>\n",
       "      <td>0.939000</td>\n",
       "      <td>0.928167</td>\n",
       "      <td>0.618319</td>\n",
       "      <td>0.639117</td>\n",
       "      <td>0.635329</td>\n",
       "      <td>0.633951</td>\n",
       "    </tr>\n",
       "    <tr>\n",
       "      <td>4</td>\n",
       "      <td>0.922300</td>\n",
       "      <td>0.889277</td>\n",
       "      <td>0.645773</td>\n",
       "      <td>0.661989</td>\n",
       "      <td>0.668792</td>\n",
       "      <td>0.659935</td>\n",
       "    </tr>\n",
       "    <tr>\n",
       "      <td>5</td>\n",
       "      <td>0.922200</td>\n",
       "      <td>0.841363</td>\n",
       "      <td>0.669582</td>\n",
       "      <td>0.684143</td>\n",
       "      <td>0.686229</td>\n",
       "      <td>0.681654</td>\n",
       "    </tr>\n",
       "    <tr>\n",
       "      <td>6</td>\n",
       "      <td>0.662800</td>\n",
       "      <td>0.813497</td>\n",
       "      <td>0.686346</td>\n",
       "      <td>0.699177</td>\n",
       "      <td>0.697007</td>\n",
       "      <td>0.697096</td>\n",
       "    </tr>\n",
       "    <tr>\n",
       "      <td>7</td>\n",
       "      <td>0.825300</td>\n",
       "      <td>0.818073</td>\n",
       "      <td>0.687075</td>\n",
       "      <td>0.698877</td>\n",
       "      <td>0.704734</td>\n",
       "      <td>0.698326</td>\n",
       "    </tr>\n",
       "    <tr>\n",
       "      <td>8</td>\n",
       "      <td>0.755900</td>\n",
       "      <td>0.821033</td>\n",
       "      <td>0.689990</td>\n",
       "      <td>0.698864</td>\n",
       "      <td>0.709897</td>\n",
       "      <td>0.700721</td>\n",
       "    </tr>\n",
       "    <tr>\n",
       "      <td>9</td>\n",
       "      <td>0.733800</td>\n",
       "      <td>0.791103</td>\n",
       "      <td>0.703596</td>\n",
       "      <td>0.715944</td>\n",
       "      <td>0.714711</td>\n",
       "      <td>0.713306</td>\n",
       "    </tr>\n",
       "    <tr>\n",
       "      <td>10</td>\n",
       "      <td>0.675500</td>\n",
       "      <td>0.808498</td>\n",
       "      <td>0.694849</td>\n",
       "      <td>0.704098</td>\n",
       "      <td>0.713795</td>\n",
       "      <td>0.704608</td>\n",
       "    </tr>\n",
       "    <tr>\n",
       "      <td>11</td>\n",
       "      <td>0.685800</td>\n",
       "      <td>0.782468</td>\n",
       "      <td>0.705539</td>\n",
       "      <td>0.714644</td>\n",
       "      <td>0.720049</td>\n",
       "      <td>0.715253</td>\n",
       "    </tr>\n",
       "    <tr>\n",
       "      <td>12</td>\n",
       "      <td>0.665600</td>\n",
       "      <td>0.797437</td>\n",
       "      <td>0.703596</td>\n",
       "      <td>0.711429</td>\n",
       "      <td>0.720861</td>\n",
       "      <td>0.713196</td>\n",
       "    </tr>\n",
       "  </tbody>\n",
       "</table><p>"
      ],
      "text/plain": [
       "<IPython.core.display.HTML object>"
      ]
     },
     "metadata": {},
     "output_type": "display_data"
    },
    {
     "data": {
      "text/html": [],
      "text/plain": [
       "<IPython.core.display.HTML object>"
      ]
     },
     "metadata": {},
     "output_type": "display_data"
    },
    {
     "data": {
      "application/vnd.jupyter.widget-view+json": {
       "model_id": "bbc828de1120432d804ffe57c61cceb7",
       "version_major": 2,
       "version_minor": 0
      },
      "text/plain": [
       "VBox(children=(Label(value='0.005 MB of 0.005 MB uploaded\\r'), FloatProgress(value=1.0, max=1.0)))"
      ]
     },
     "metadata": {},
     "output_type": "display_data"
    },
    {
     "data": {
      "text/html": [
       "<style>\n",
       "    table.wandb td:nth-child(1) { padding: 0 10px; text-align: left ; width: auto;} td:nth-child(2) {text-align: left ; width: 100%}\n",
       "    .wandb-row { display: flex; flex-direction: row; flex-wrap: wrap; justify-content: flex-start; width: 100% }\n",
       "    .wandb-col { display: flex; flex-direction: column; flex-basis: 100%; flex: 1; padding: 10px; }\n",
       "    </style>\n",
       "<div class=\"wandb-row\"><div class=\"wandb-col\"><h3>Run history:</h3><br/><table class=\"wandb\"><tr><td>eval/accuracy</td><td>▁▄▅▆▇▇▇▇█████</td></tr><tr><td>eval/f1_macro</td><td>▁▄▅▆▇▇▇▇█████</td></tr><tr><td>eval/loss</td><td>█▅▄▃▂▂▂▂▁▂▁▁▁</td></tr><tr><td>eval/precision_macro</td><td>▁▅▅▆▇▇▇▇█████</td></tr><tr><td>eval/recall_macro</td><td>▁▄▅▆▇▇▇██████</td></tr><tr><td>eval/runtime</td><td>▁▁▅▇▃▅█▆▃▆▅▄█</td></tr><tr><td>eval/samples_per_second</td><td>██▄▂▆▄▁▃▆▃▄▅▁</td></tr><tr><td>eval/steps_per_second</td><td>██▄▂▆▄▁▃▆▃▄▅▁</td></tr><tr><td>test/accuracy</td><td>▁</td></tr><tr><td>test/f1_macro</td><td>▁</td></tr><tr><td>test/loss</td><td>▁</td></tr><tr><td>test/precision_macro</td><td>▁</td></tr><tr><td>test/recall_macro</td><td>▁</td></tr><tr><td>test/runtime</td><td>▁</td></tr><tr><td>test/samples_per_second</td><td>▁</td></tr><tr><td>test/steps_per_second</td><td>▁</td></tr><tr><td>train/epoch</td><td>▁▁▁▁▂▂▂▂▂▃▃▃▃▃▃▄▄▄▄▄▅▅▅▅▅▅▆▆▆▆▆▇▇▇▇▇▇███</td></tr><tr><td>train/global_step</td><td>▁▁▁▁▂▂▂▂▂▃▃▃▃▃▃▄▄▄▄▄▅▅▅▅▅▅▆▆▆▆▆▇▇▇▇▇▇███</td></tr><tr><td>train/grad_norm</td><td>▁▁▂▃▂▃▃▃▅▄▂▃▅▆▄▃▃▃▄▅▃▄▆▄▂▃▂▇▄▄▄▄▃▄▅▃▄█▂▆</td></tr><tr><td>train/learning_rate</td><td>▂▅████▇▇▇▇▇▆▆▆▆▆▅▅▅▅▅▅▄▄▄▄▄▃▃▃▃▃▂▂▂▂▂▁▁▁</td></tr><tr><td>train/loss</td><td>█▇▅▅▄▅▄▄▃▃▃▄▄▂▂▂▂▂▂▂▃▂▂▂▁▁▁▂▂▂▁▂▂▁▁▂▃▂▁▁</td></tr><tr><td>val/accuracy</td><td>▁</td></tr><tr><td>val/f1_macro</td><td>▁</td></tr><tr><td>val/precision_macro</td><td>▁</td></tr><tr><td>val/recall_macro</td><td>▁</td></tr></table><br/></div><div class=\"wandb-col\"><h3>Run summary:</h3><br/><table class=\"wandb\"><tr><td>best_checkpoint_path</td><td>/content/drive/MyDri...</td></tr><tr><td>eval/accuracy</td><td>0.70554</td></tr><tr><td>eval/f1_macro</td><td>0.71525</td></tr><tr><td>eval/loss</td><td>0.78247</td></tr><tr><td>eval/precision_macro</td><td>0.71464</td></tr><tr><td>eval/recall_macro</td><td>0.72005</td></tr><tr><td>eval/runtime</td><td>9.2515</td></tr><tr><td>eval/samples_per_second</td><td>444.902</td></tr><tr><td>eval/steps_per_second</td><td>55.667</td></tr><tr><td>test/accuracy</td><td>0.70554</td></tr><tr><td>test/f1_macro</td><td>0.71525</td></tr><tr><td>test/loss</td><td>0.78247</td></tr><tr><td>test/precision_macro</td><td>0.71464</td></tr><tr><td>test/recall_macro</td><td>0.72005</td></tr><tr><td>test/runtime</td><td>9.9185</td></tr><tr><td>test/samples_per_second</td><td>414.984</td></tr><tr><td>test/steps_per_second</td><td>51.923</td></tr><tr><td>total_flos</td><td>1.5153337667558136e+16</td></tr><tr><td>train/epoch</td><td>12.0</td></tr><tr><td>train/global_step</td><td>55560</td></tr><tr><td>train/grad_norm</td><td>64.24417</td></tr><tr><td>train/learning_rate</td><td>0.0</td></tr><tr><td>train/loss</td><td>0.6656</td></tr><tr><td>train_loss</td><td>0.84254</td></tr><tr><td>train_runtime</td><td>4095.3025</td></tr><tr><td>train_samples_per_second</td><td>108.531</td></tr><tr><td>train_steps_per_second</td><td>13.567</td></tr><tr><td>val/accuracy</td><td>0.70554</td></tr><tr><td>val/f1_macro</td><td>0.71525</td></tr><tr><td>val/precision_macro</td><td>0.71464</td></tr><tr><td>val/recall_macro</td><td>0.72005</td></tr></table><br/></div></div>"
      ],
      "text/plain": [
       "<IPython.core.display.HTML object>"
      ]
     },
     "metadata": {},
     "output_type": "display_data"
    },
    {
     "data": {
      "text/html": [
       " View run <strong style=\"color:#cdcd00\">roberta-base_trainer_trial_2</strong> at: <a href='https://wandb.ai/gal2361-tel-aviv-university/adv-dl2-p1/runs/4amo3zvs' target=\"_blank\">https://wandb.ai/gal2361-tel-aviv-university/adv-dl2-p1/runs/4amo3zvs</a><br/> View project at: <a href='https://wandb.ai/gal2361-tel-aviv-university/adv-dl2-p1' target=\"_blank\">https://wandb.ai/gal2361-tel-aviv-university/adv-dl2-p1</a><br/>Synced 5 W&B file(s), 1 media file(s), 1 artifact file(s) and 0 other file(s)"
      ],
      "text/plain": [
       "<IPython.core.display.HTML object>"
      ]
     },
     "metadata": {},
     "output_type": "display_data"
    },
    {
     "data": {
      "text/html": [
       "Find logs at: <code>./wandb/run-20250814_193400-4amo3zvs/logs</code>"
      ],
      "text/plain": [
       "<IPython.core.display.HTML object>"
      ]
     },
     "metadata": {},
     "output_type": "display_data"
    },
    {
     "data": {
      "text/html": [
       "The new W&B backend becomes opt-out in version 0.18.0; try it out with `wandb.require(\"core\")`! See https://wandb.me/wandb-core for more information."
      ],
      "text/plain": [
       "<IPython.core.display.HTML object>"
      ]
     },
     "metadata": {},
     "output_type": "display_data"
    },
    {
     "metadata": {
      "tags": null
     },
     "name": "stdout",
     "output_type": "stream",
     "text": [
      "[I 2025-08-14 20:42:45,925] Trial 2 finished with value: 0.715253343829813 and parameters: {'lr': 1.6391467627791417e-06, 'weight_decay': 0.0011002739237243463, 'batch_size': 8, 'unfreeze_last_k': 9}. Best is trial 1 with value: 0.7230890768291834.\n"
     ]
    },
    {
     "data": {
      "text/html": [
       "wandb version 0.21.1 is available!  To upgrade, please run:\n",
       " $ pip install wandb --upgrade"
      ],
      "text/plain": [
       "<IPython.core.display.HTML object>"
      ]
     },
     "metadata": {},
     "output_type": "display_data"
    },
    {
     "data": {
      "text/html": [
       "Tracking run with wandb version 0.17.5"
      ],
      "text/plain": [
       "<IPython.core.display.HTML object>"
      ]
     },
     "metadata": {},
     "output_type": "display_data"
    },
    {
     "data": {
      "text/html": [
       "Run data is saved locally in <code>/content/wandb/run-20250814_204246-obc4wmnf</code>"
      ],
      "text/plain": [
       "<IPython.core.display.HTML object>"
      ]
     },
     "metadata": {},
     "output_type": "display_data"
    },
    {
     "data": {
      "text/html": [
       "Syncing run <strong><a href='https://wandb.ai/gal2361-tel-aviv-university/adv-dl2-p1/runs/obc4wmnf' target=\"_blank\">roberta-base_trainer_trial_3</a></strong> to <a href='https://wandb.ai/gal2361-tel-aviv-university/adv-dl2-p1' target=\"_blank\">Weights & Biases</a> (<a href='https://wandb.me/run' target=\"_blank\">docs</a>)<br/>"
      ],
      "text/plain": [
       "<IPython.core.display.HTML object>"
      ]
     },
     "metadata": {},
     "output_type": "display_data"
    },
    {
     "data": {
      "text/html": [
       " View project at <a href='https://wandb.ai/gal2361-tel-aviv-university/adv-dl2-p1' target=\"_blank\">https://wandb.ai/gal2361-tel-aviv-university/adv-dl2-p1</a>"
      ],
      "text/plain": [
       "<IPython.core.display.HTML object>"
      ]
     },
     "metadata": {},
     "output_type": "display_data"
    },
    {
     "data": {
      "text/html": [
       " View run at <a href='https://wandb.ai/gal2361-tel-aviv-university/adv-dl2-p1/runs/obc4wmnf' target=\"_blank\">https://wandb.ai/gal2361-tel-aviv-university/adv-dl2-p1/runs/obc4wmnf</a>"
      ],
      "text/plain": [
       "<IPython.core.display.HTML object>"
      ]
     },
     "metadata": {},
     "output_type": "display_data"
    },
    {
     "metadata": {
      "tags": null
     },
     "name": "stderr",
     "output_type": "stream",
     "text": [
      "Some weights of RobertaForSequenceClassification were not initialized from the model checkpoint at roberta-base and are newly initialized: ['classifier.dense.bias', 'classifier.dense.weight', 'classifier.out_proj.bias', 'classifier.out_proj.weight']\n",
      "You should probably TRAIN this model on a down-stream task to be able to use it for predictions and inference.\n",
      "/usr/local/lib/python3.11/dist-packages/transformers/training_args.py:1525: FutureWarning: `evaluation_strategy` is deprecated and will be removed in version 4.46 of 🤗 Transformers. Use `eval_strategy` instead\n",
      "  warnings.warn(\n",
      "/usr/local/lib/python3.11/dist-packages/accelerate/accelerator.py:494: FutureWarning: `torch.cuda.amp.GradScaler(args...)` is deprecated. Please use `torch.amp.GradScaler('cuda', args...)` instead.\n",
      "  self.scaler = torch.cuda.amp.GradScaler(**kwargs)\n"
     ]
    },
    {
     "data": {
      "text/html": [
       "\n",
       "    <div>\n",
       "      \n",
       "      <progress value='4838' max='55560' style='width:300px; height:20px; vertical-align: middle;'></progress>\n",
       "      [ 4838/55560 06:44 < 1:10:41, 11.96 it/s, Epoch 1.04/12]\n",
       "    </div>\n",
       "    <table border=\"1\" class=\"dataframe\">\n",
       "  <thead>\n",
       " <tr style=\"text-align: left;\">\n",
       "      <th>Epoch</th>\n",
       "      <th>Training Loss</th>\n",
       "      <th>Validation Loss</th>\n",
       "      <th>Accuracy</th>\n",
       "      <th>Precision Macro</th>\n",
       "      <th>Recall Macro</th>\n",
       "      <th>F1 Macro</th>\n",
       "    </tr>\n",
       "  </thead>\n",
       "  <tbody>\n",
       "    <tr>\n",
       "      <td>1</td>\n",
       "      <td>0.867100</td>\n",
       "      <td>0.875547</td>\n",
       "      <td>0.646501</td>\n",
       "      <td>0.674309</td>\n",
       "      <td>0.646659</td>\n",
       "      <td>0.658089</td>\n",
       "    </tr>\n",
       "  </tbody>\n",
       "</table><p>"
      ],
      "text/plain": [
       "<IPython.core.display.HTML object>"
      ]
     },
     "metadata": {},
     "output_type": "display_data"
    },
    {
     "data": {
      "text/html": [
       "\n",
       "    <div>\n",
       "      \n",
       "      <progress value='55560' max='55560' style='width:300px; height:20px; vertical-align: middle;'></progress>\n",
       "      [55560/55560 1:17:58, Epoch 12/12]\n",
       "    </div>\n",
       "    <table border=\"1\" class=\"dataframe\">\n",
       "  <thead>\n",
       " <tr style=\"text-align: left;\">\n",
       "      <th>Epoch</th>\n",
       "      <th>Training Loss</th>\n",
       "      <th>Validation Loss</th>\n",
       "      <th>Accuracy</th>\n",
       "      <th>Precision Macro</th>\n",
       "      <th>Recall Macro</th>\n",
       "      <th>F1 Macro</th>\n",
       "    </tr>\n",
       "  </thead>\n",
       "  <tbody>\n",
       "    <tr>\n",
       "      <td>1</td>\n",
       "      <td>0.867100</td>\n",
       "      <td>0.875547</td>\n",
       "      <td>0.646501</td>\n",
       "      <td>0.674309</td>\n",
       "      <td>0.646659</td>\n",
       "      <td>0.658089</td>\n",
       "    </tr>\n",
       "    <tr>\n",
       "      <td>2</td>\n",
       "      <td>0.699100</td>\n",
       "      <td>0.728902</td>\n",
       "      <td>0.714286</td>\n",
       "      <td>0.726535</td>\n",
       "      <td>0.729778</td>\n",
       "      <td>0.723987</td>\n",
       "    </tr>\n",
       "    <tr>\n",
       "      <td>3</td>\n",
       "      <td>0.668600</td>\n",
       "      <td>0.668399</td>\n",
       "      <td>0.758746</td>\n",
       "      <td>0.763314</td>\n",
       "      <td>0.774468</td>\n",
       "      <td>0.766116</td>\n",
       "    </tr>\n",
       "    <tr>\n",
       "      <td>4</td>\n",
       "      <td>0.619300</td>\n",
       "      <td>0.689840</td>\n",
       "      <td>0.757532</td>\n",
       "      <td>0.763579</td>\n",
       "      <td>0.782287</td>\n",
       "      <td>0.764567</td>\n",
       "    </tr>\n",
       "    <tr>\n",
       "      <td>5</td>\n",
       "      <td>0.626300</td>\n",
       "      <td>0.687948</td>\n",
       "      <td>0.770165</td>\n",
       "      <td>0.776087</td>\n",
       "      <td>0.791903</td>\n",
       "      <td>0.776212</td>\n",
       "    </tr>\n",
       "    <tr>\n",
       "      <td>6</td>\n",
       "      <td>0.372200</td>\n",
       "      <td>0.686736</td>\n",
       "      <td>0.803207</td>\n",
       "      <td>0.818717</td>\n",
       "      <td>0.805451</td>\n",
       "      <td>0.808361</td>\n",
       "    </tr>\n",
       "    <tr>\n",
       "      <td>7</td>\n",
       "      <td>0.408100</td>\n",
       "      <td>0.729888</td>\n",
       "      <td>0.801263</td>\n",
       "      <td>0.806671</td>\n",
       "      <td>0.814147</td>\n",
       "      <td>0.806222</td>\n",
       "    </tr>\n",
       "    <tr>\n",
       "      <td>8</td>\n",
       "      <td>0.473800</td>\n",
       "      <td>0.770124</td>\n",
       "      <td>0.815355</td>\n",
       "      <td>0.820916</td>\n",
       "      <td>0.824436</td>\n",
       "      <td>0.820624</td>\n",
       "    </tr>\n",
       "    <tr>\n",
       "      <td>9</td>\n",
       "      <td>0.357000</td>\n",
       "      <td>0.794534</td>\n",
       "      <td>0.815355</td>\n",
       "      <td>0.823050</td>\n",
       "      <td>0.821505</td>\n",
       "      <td>0.820365</td>\n",
       "    </tr>\n",
       "    <tr>\n",
       "      <td>10</td>\n",
       "      <td>0.366600</td>\n",
       "      <td>0.912848</td>\n",
       "      <td>0.814383</td>\n",
       "      <td>0.815042</td>\n",
       "      <td>0.829640</td>\n",
       "      <td>0.818832</td>\n",
       "    </tr>\n",
       "    <tr>\n",
       "      <td>11</td>\n",
       "      <td>0.381600</td>\n",
       "      <td>0.897628</td>\n",
       "      <td>0.814383</td>\n",
       "      <td>0.816046</td>\n",
       "      <td>0.827680</td>\n",
       "      <td>0.819133</td>\n",
       "    </tr>\n",
       "    <tr>\n",
       "      <td>12</td>\n",
       "      <td>0.374000</td>\n",
       "      <td>0.922534</td>\n",
       "      <td>0.818756</td>\n",
       "      <td>0.819898</td>\n",
       "      <td>0.831803</td>\n",
       "      <td>0.823158</td>\n",
       "    </tr>\n",
       "  </tbody>\n",
       "</table><p>"
      ],
      "text/plain": [
       "<IPython.core.display.HTML object>"
      ]
     },
     "metadata": {},
     "output_type": "display_data"
    },
    {
     "data": {
      "text/html": [],
      "text/plain": [
       "<IPython.core.display.HTML object>"
      ]
     },
     "metadata": {},
     "output_type": "display_data"
    },
    {
     "data": {
      "application/vnd.jupyter.widget-view+json": {
       "model_id": "2ce6a01ff08244d5841ffce5680919f2",
       "version_major": 2,
       "version_minor": 0
      },
      "text/plain": [
       "VBox(children=(Label(value='0.004 MB of 0.005 MB uploaded\\r'), FloatProgress(value=0.7804061126229851, max=1.0…"
      ]
     },
     "metadata": {},
     "output_type": "display_data"
    },
    {
     "data": {
      "text/html": [
       "<style>\n",
       "    table.wandb td:nth-child(1) { padding: 0 10px; text-align: left ; width: auto;} td:nth-child(2) {text-align: left ; width: 100%}\n",
       "    .wandb-row { display: flex; flex-direction: row; flex-wrap: wrap; justify-content: flex-start; width: 100% }\n",
       "    .wandb-col { display: flex; flex-direction: column; flex-basis: 100%; flex: 1; padding: 10px; }\n",
       "    </style>\n",
       "<div class=\"wandb-row\"><div class=\"wandb-col\"><h3>Run history:</h3><br/><table class=\"wandb\"><tr><td>eval/accuracy</td><td>▁▄▆▆▆▇▇██████</td></tr><tr><td>eval/f1_macro</td><td>▁▄▆▆▆▇▇██████</td></tr><tr><td>eval/loss</td><td>▇▃▁▂▂▂▃▄▄█▇██</td></tr><tr><td>eval/precision_macro</td><td>▁▃▅▅▆█▇██████</td></tr><tr><td>eval/recall_macro</td><td>▁▄▆▆▆▇▇██████</td></tr><tr><td>eval/runtime</td><td>▇█▃▁▄▄▆█▇▇▇▇▆</td></tr><tr><td>eval/samples_per_second</td><td>▂▁▆█▅▅▃▁▂▂▂▂▃</td></tr><tr><td>eval/steps_per_second</td><td>▂▁▆█▅▅▃▁▂▂▂▂▃</td></tr><tr><td>test/accuracy</td><td>▁</td></tr><tr><td>test/f1_macro</td><td>▁</td></tr><tr><td>test/loss</td><td>▁</td></tr><tr><td>test/precision_macro</td><td>▁</td></tr><tr><td>test/recall_macro</td><td>▁</td></tr><tr><td>test/runtime</td><td>▁</td></tr><tr><td>test/samples_per_second</td><td>▁</td></tr><tr><td>test/steps_per_second</td><td>▁</td></tr><tr><td>train/epoch</td><td>▁▁▁▁▂▂▂▂▂▃▃▃▃▃▃▄▄▄▄▄▅▅▅▅▅▅▆▆▆▆▆▇▇▇▇▇▇███</td></tr><tr><td>train/global_step</td><td>▁▁▁▁▂▂▂▂▂▃▃▃▃▃▃▄▄▄▄▄▅▅▅▅▅▅▆▆▆▆▆▇▇▇▇▇▇███</td></tr><tr><td>train/grad_norm</td><td>▁▂▂▂▂▂▃▂▃▂▁▂▃▁▃▄▂▁▂▃▄▃▅▁▂▂▃▆▅█▁▁▃▄▂▁▁▄▁▁</td></tr><tr><td>train/learning_rate</td><td>▂▅████▇▇▇▇▇▆▆▆▆▆▅▅▅▅▅▅▄▄▄▄▄▃▃▃▃▃▂▂▂▂▂▁▁▁</td></tr><tr><td>train/loss</td><td>█▆▅▅▄▄▃▄▃▃▃▃▃▂▂▂▂▂▂▂▂▂▂▂▂▂▂▂▂▂▁▂▁▁▁▁▁▂▁▂</td></tr><tr><td>val/accuracy</td><td>▁</td></tr><tr><td>val/f1_macro</td><td>▁</td></tr><tr><td>val/precision_macro</td><td>▁</td></tr><tr><td>val/recall_macro</td><td>▁</td></tr></table><br/></div><div class=\"wandb-col\"><h3>Run summary:</h3><br/><table class=\"wandb\"><tr><td>best_checkpoint_path</td><td>/content/drive/MyDri...</td></tr><tr><td>eval/accuracy</td><td>0.81876</td></tr><tr><td>eval/f1_macro</td><td>0.82316</td></tr><tr><td>eval/loss</td><td>0.92253</td></tr><tr><td>eval/precision_macro</td><td>0.8199</td></tr><tr><td>eval/recall_macro</td><td>0.8318</td></tr><tr><td>eval/runtime</td><td>9.0757</td></tr><tr><td>eval/samples_per_second</td><td>453.517</td></tr><tr><td>eval/steps_per_second</td><td>56.745</td></tr><tr><td>test/accuracy</td><td>0.81876</td></tr><tr><td>test/f1_macro</td><td>0.82316</td></tr><tr><td>test/loss</td><td>0.92253</td></tr><tr><td>test/precision_macro</td><td>0.8199</td></tr><tr><td>test/recall_macro</td><td>0.8318</td></tr><tr><td>test/runtime</td><td>9.8103</td></tr><tr><td>test/samples_per_second</td><td>419.561</td></tr><tr><td>test/steps_per_second</td><td>52.496</td></tr><tr><td>total_flos</td><td>1.5153337667558136e+16</td></tr><tr><td>train/epoch</td><td>12.0</td></tr><tr><td>train/global_step</td><td>55560</td></tr><tr><td>train/grad_norm</td><td>56.12802</td></tr><tr><td>train/learning_rate</td><td>0.0</td></tr><tr><td>train/loss</td><td>0.374</td></tr><tr><td>train_loss</td><td>0.51796</td></tr><tr><td>train_runtime</td><td>4678.982</td></tr><tr><td>train_samples_per_second</td><td>94.992</td></tr><tr><td>train_steps_per_second</td><td>11.874</td></tr><tr><td>val/accuracy</td><td>0.81876</td></tr><tr><td>val/f1_macro</td><td>0.82316</td></tr><tr><td>val/precision_macro</td><td>0.8199</td></tr><tr><td>val/recall_macro</td><td>0.8318</td></tr></table><br/></div></div>"
      ],
      "text/plain": [
       "<IPython.core.display.HTML object>"
      ]
     },
     "metadata": {},
     "output_type": "display_data"
    },
    {
     "data": {
      "text/html": [
       " View run <strong style=\"color:#cdcd00\">roberta-base_trainer_trial_3</strong> at: <a href='https://wandb.ai/gal2361-tel-aviv-university/adv-dl2-p1/runs/obc4wmnf' target=\"_blank\">https://wandb.ai/gal2361-tel-aviv-university/adv-dl2-p1/runs/obc4wmnf</a><br/> View project at: <a href='https://wandb.ai/gal2361-tel-aviv-university/adv-dl2-p1' target=\"_blank\">https://wandb.ai/gal2361-tel-aviv-university/adv-dl2-p1</a><br/>Synced 5 W&B file(s), 1 media file(s), 1 artifact file(s) and 0 other file(s)"
      ],
      "text/plain": [
       "<IPython.core.display.HTML object>"
      ]
     },
     "metadata": {},
     "output_type": "display_data"
    },
    {
     "data": {
      "text/html": [
       "Find logs at: <code>./wandb/run-20250814_204246-obc4wmnf/logs</code>"
      ],
      "text/plain": [
       "<IPython.core.display.HTML object>"
      ]
     },
     "metadata": {},
     "output_type": "display_data"
    },
    {
     "data": {
      "text/html": [
       "The new W&B backend becomes opt-out in version 0.18.0; try it out with `wandb.require(\"core\")`! See https://wandb.me/wandb-core for more information."
      ],
      "text/plain": [
       "<IPython.core.display.HTML object>"
      ]
     },
     "metadata": {},
     "output_type": "display_data"
    },
    {
     "name": "stdout",
     "output_type": "stream",
     "text": [
      "[I 2025-08-14 22:01:22,270] Trial 3 finished with value: 0.8231579905512977 and parameters: {'lr': 5.123320842724201e-06, 'weight_decay': 9.231200936608533e-05, 'batch_size': 8, 'unfreeze_last_k': 11}. Best is trial 3 with value: 0.8231579905512977.\n"
     ]
    },
    {
     "data": {
      "text/html": [
       "wandb version 0.21.1 is available!  To upgrade, please run:\n",
       " $ pip install wandb --upgrade"
      ],
      "text/plain": [
       "<IPython.core.display.HTML object>"
      ]
     },
     "metadata": {},
     "output_type": "display_data"
    },
    {
     "data": {
      "text/html": [
       "Tracking run with wandb version 0.17.5"
      ],
      "text/plain": [
       "<IPython.core.display.HTML object>"
      ]
     },
     "metadata": {},
     "output_type": "display_data"
    },
    {
     "data": {
      "text/html": [
       "Run data is saved locally in <code>/content/wandb/run-20250814_220122-cvpnj4a0</code>"
      ],
      "text/plain": [
       "<IPython.core.display.HTML object>"
      ]
     },
     "metadata": {},
     "output_type": "display_data"
    },
    {
     "data": {
      "text/html": [
       "Syncing run <strong><a href='https://wandb.ai/gal2361-tel-aviv-university/adv-dl2-p1/runs/cvpnj4a0' target=\"_blank\">roberta-base_trainer_trial_4</a></strong> to <a href='https://wandb.ai/gal2361-tel-aviv-university/adv-dl2-p1' target=\"_blank\">Weights & Biases</a> (<a href='https://wandb.me/run' target=\"_blank\">docs</a>)<br/>"
      ],
      "text/plain": [
       "<IPython.core.display.HTML object>"
      ]
     },
     "metadata": {},
     "output_type": "display_data"
    },
    {
     "data": {
      "text/html": [
       " View project at <a href='https://wandb.ai/gal2361-tel-aviv-university/adv-dl2-p1' target=\"_blank\">https://wandb.ai/gal2361-tel-aviv-university/adv-dl2-p1</a>"
      ],
      "text/plain": [
       "<IPython.core.display.HTML object>"
      ]
     },
     "metadata": {},
     "output_type": "display_data"
    },
    {
     "data": {
      "text/html": [
       " View run at <a href='https://wandb.ai/gal2361-tel-aviv-university/adv-dl2-p1/runs/cvpnj4a0' target=\"_blank\">https://wandb.ai/gal2361-tel-aviv-university/adv-dl2-p1/runs/cvpnj4a0</a>"
      ],
      "text/plain": [
       "<IPython.core.display.HTML object>"
      ]
     },
     "metadata": {},
     "output_type": "display_data"
    },
    {
     "name": "stderr",
     "output_type": "stream",
     "text": [
      "Some weights of RobertaForSequenceClassification were not initialized from the model checkpoint at roberta-base and are newly initialized: ['classifier.dense.bias', 'classifier.dense.weight', 'classifier.out_proj.bias', 'classifier.out_proj.weight']\n",
      "You should probably TRAIN this model on a down-stream task to be able to use it for predictions and inference.\n",
      "/usr/local/lib/python3.11/dist-packages/transformers/training_args.py:1525: FutureWarning: `evaluation_strategy` is deprecated and will be removed in version 4.46 of 🤗 Transformers. Use `eval_strategy` instead\n",
      "  warnings.warn(\n",
      "/usr/local/lib/python3.11/dist-packages/accelerate/accelerator.py:494: FutureWarning: `torch.cuda.amp.GradScaler(args...)` is deprecated. Please use `torch.amp.GradScaler('cuda', args...)` instead.\n",
      "  self.scaler = torch.cuda.amp.GradScaler(**kwargs)\n"
     ]
    },
    {
     "data": {
      "text/html": [
       "\n",
       "    <div>\n",
       "      \n",
       "      <progress value='27780' max='27780' style='width:300px; height:20px; vertical-align: middle;'></progress>\n",
       "      [27780/27780 37:22, Epoch 12/12]\n",
       "    </div>\n",
       "    <table border=\"1\" class=\"dataframe\">\n",
       "  <thead>\n",
       " <tr style=\"text-align: left;\">\n",
       "      <th>Epoch</th>\n",
       "      <th>Training Loss</th>\n",
       "      <th>Validation Loss</th>\n",
       "      <th>Accuracy</th>\n",
       "      <th>Precision Macro</th>\n",
       "      <th>Recall Macro</th>\n",
       "      <th>F1 Macro</th>\n",
       "    </tr>\n",
       "  </thead>\n",
       "  <tbody>\n",
       "    <tr>\n",
       "      <td>1</td>\n",
       "      <td>0.743400</td>\n",
       "      <td>0.792855</td>\n",
       "      <td>0.705782</td>\n",
       "      <td>0.717302</td>\n",
       "      <td>0.716255</td>\n",
       "      <td>0.713867</td>\n",
       "    </tr>\n",
       "    <tr>\n",
       "      <td>2</td>\n",
       "      <td>0.652200</td>\n",
       "      <td>0.588945</td>\n",
       "      <td>0.783285</td>\n",
       "      <td>0.792350</td>\n",
       "      <td>0.788532</td>\n",
       "      <td>0.789100</td>\n",
       "    </tr>\n",
       "    <tr>\n",
       "      <td>3</td>\n",
       "      <td>0.520100</td>\n",
       "      <td>0.583333</td>\n",
       "      <td>0.799320</td>\n",
       "      <td>0.804548</td>\n",
       "      <td>0.810992</td>\n",
       "      <td>0.805393</td>\n",
       "    </tr>\n",
       "    <tr>\n",
       "      <td>4</td>\n",
       "      <td>0.433200</td>\n",
       "      <td>0.557551</td>\n",
       "      <td>0.810496</td>\n",
       "      <td>0.814159</td>\n",
       "      <td>0.821272</td>\n",
       "      <td>0.815861</td>\n",
       "    </tr>\n",
       "    <tr>\n",
       "      <td>5</td>\n",
       "      <td>0.328800</td>\n",
       "      <td>0.556620</td>\n",
       "      <td>0.811710</td>\n",
       "      <td>0.817084</td>\n",
       "      <td>0.823239</td>\n",
       "      <td>0.817247</td>\n",
       "    </tr>\n",
       "    <tr>\n",
       "      <td>6</td>\n",
       "      <td>0.213800</td>\n",
       "      <td>0.692708</td>\n",
       "      <td>0.815841</td>\n",
       "      <td>0.823421</td>\n",
       "      <td>0.824121</td>\n",
       "      <td>0.821996</td>\n",
       "    </tr>\n",
       "    <tr>\n",
       "      <td>7</td>\n",
       "      <td>0.275600</td>\n",
       "      <td>0.776076</td>\n",
       "      <td>0.816084</td>\n",
       "      <td>0.818308</td>\n",
       "      <td>0.829803</td>\n",
       "      <td>0.821414</td>\n",
       "    </tr>\n",
       "    <tr>\n",
       "      <td>8</td>\n",
       "      <td>0.259100</td>\n",
       "      <td>0.817733</td>\n",
       "      <td>0.822157</td>\n",
       "      <td>0.824478</td>\n",
       "      <td>0.830605</td>\n",
       "      <td>0.826407</td>\n",
       "    </tr>\n",
       "    <tr>\n",
       "      <td>9</td>\n",
       "      <td>0.158600</td>\n",
       "      <td>0.906152</td>\n",
       "      <td>0.828717</td>\n",
       "      <td>0.825507</td>\n",
       "      <td>0.841344</td>\n",
       "      <td>0.831401</td>\n",
       "    </tr>\n",
       "    <tr>\n",
       "      <td>10</td>\n",
       "      <td>0.128900</td>\n",
       "      <td>1.060568</td>\n",
       "      <td>0.819242</td>\n",
       "      <td>0.818871</td>\n",
       "      <td>0.831360</td>\n",
       "      <td>0.822977</td>\n",
       "    </tr>\n",
       "    <tr>\n",
       "      <td>11</td>\n",
       "      <td>0.121000</td>\n",
       "      <td>1.074493</td>\n",
       "      <td>0.829203</td>\n",
       "      <td>0.829167</td>\n",
       "      <td>0.837218</td>\n",
       "      <td>0.832716</td>\n",
       "    </tr>\n",
       "    <tr>\n",
       "      <td>12</td>\n",
       "      <td>0.084600</td>\n",
       "      <td>1.152180</td>\n",
       "      <td>0.827745</td>\n",
       "      <td>0.826780</td>\n",
       "      <td>0.838435</td>\n",
       "      <td>0.831478</td>\n",
       "    </tr>\n",
       "  </tbody>\n",
       "</table><p>"
      ],
      "text/plain": [
       "<IPython.core.display.HTML object>"
      ]
     },
     "metadata": {},
     "output_type": "display_data"
    },
    {
     "data": {
      "text/html": [],
      "text/plain": [
       "<IPython.core.display.HTML object>"
      ]
     },
     "metadata": {},
     "output_type": "display_data"
    },
    {
     "data": {
      "application/vnd.jupyter.widget-view+json": {
       "model_id": "6045cea3d8e049c68f14a4ffb41f80ee",
       "version_major": 2,
       "version_minor": 0
      },
      "text/plain": [
       "VBox(children=(Label(value='0.005 MB of 0.005 MB uploaded\\r'), FloatProgress(value=1.0, max=1.0)))"
      ]
     },
     "metadata": {},
     "output_type": "display_data"
    },
    {
     "data": {
      "text/html": [
       "<style>\n",
       "    table.wandb td:nth-child(1) { padding: 0 10px; text-align: left ; width: auto;} td:nth-child(2) {text-align: left ; width: 100%}\n",
       "    .wandb-row { display: flex; flex-direction: row; flex-wrap: wrap; justify-content: flex-start; width: 100% }\n",
       "    .wandb-col { display: flex; flex-direction: column; flex-basis: 100%; flex: 1; padding: 10px; }\n",
       "    </style>\n",
       "<div class=\"wandb-row\"><div class=\"wandb-col\"><h3>Run history:</h3><br/><table class=\"wandb\"><tr><td>eval/accuracy</td><td>▁▅▆▇▇▇▇██▇███</td></tr><tr><td>eval/f1_macro</td><td>▁▅▆▇▇▇▇██▇███</td></tr><tr><td>eval/loss</td><td>▄▁▁▁▁▃▄▄▅▇▇█▇</td></tr><tr><td>eval/precision_macro</td><td>▁▆▆▇▇█▇██▇███</td></tr><tr><td>eval/recall_macro</td><td>▁▅▆▇▇▇▇▇█▇███</td></tr><tr><td>eval/runtime</td><td>▅▆█▅▄▃▄▄▄▅▅▃▁</td></tr><tr><td>eval/samples_per_second</td><td>▄▃▁▄▅▆▅▅▅▄▄▆█</td></tr><tr><td>eval/steps_per_second</td><td>▄▃▁▄▅▆▅▅▅▄▄▆█</td></tr><tr><td>test/accuracy</td><td>▁</td></tr><tr><td>test/f1_macro</td><td>▁</td></tr><tr><td>test/loss</td><td>▁</td></tr><tr><td>test/precision_macro</td><td>▁</td></tr><tr><td>test/recall_macro</td><td>▁</td></tr><tr><td>test/runtime</td><td>▁</td></tr><tr><td>test/samples_per_second</td><td>▁</td></tr><tr><td>test/steps_per_second</td><td>▁</td></tr><tr><td>train/epoch</td><td>▁▁▁▁▂▂▂▂▂▃▃▃▃▃▃▄▄▄▄▄▅▅▅▅▅▅▆▆▆▆▆▇▇▇▇▇▇███</td></tr><tr><td>train/global_step</td><td>▁▁▁▁▂▂▂▂▂▃▃▃▃▃▃▄▄▄▄▄▅▅▅▅▅▅▆▆▆▆▆▇▇▇▇▇▇███</td></tr><tr><td>train/grad_norm</td><td>▁▂▃▃▂▂▃▂▂▃▃▂▃▂▃▂▃▂▂▄▃▃▁▂▄▄▅▁▁▅▁▁▁▂▃▁▁█▁▁</td></tr><tr><td>train/learning_rate</td><td>▂▅████▇▇▇▇▇▆▆▆▆▆▅▅▅▅▅▄▄▄▄▄▄▃▃▃▃▃▂▂▂▂▂▁▁▁</td></tr><tr><td>train/loss</td><td>█▆▆▅▄▄▃▃▃▃▃▃▃▂▂▂▃▂▂▂▂▂▂▂▂▂▁▁▂▂▁▂▂▁▁▁▂▁▁▁</td></tr><tr><td>val/accuracy</td><td>▁</td></tr><tr><td>val/f1_macro</td><td>▁</td></tr><tr><td>val/precision_macro</td><td>▁</td></tr><tr><td>val/recall_macro</td><td>▁</td></tr></table><br/></div><div class=\"wandb-col\"><h3>Run summary:</h3><br/><table class=\"wandb\"><tr><td>best_checkpoint_path</td><td>/content/drive/MyDri...</td></tr><tr><td>eval/accuracy</td><td>0.8292</td></tr><tr><td>eval/f1_macro</td><td>0.83272</td></tr><tr><td>eval/loss</td><td>1.07449</td></tr><tr><td>eval/precision_macro</td><td>0.82917</td></tr><tr><td>eval/recall_macro</td><td>0.83722</td></tr><tr><td>eval/runtime</td><td>4.6656</td></tr><tr><td>eval/samples_per_second</td><td>882.198</td></tr><tr><td>eval/steps_per_second</td><td>55.298</td></tr><tr><td>test/accuracy</td><td>0.8292</td></tr><tr><td>test/f1_macro</td><td>0.83272</td></tr><tr><td>test/loss</td><td>1.07449</td></tr><tr><td>test/precision_macro</td><td>0.82917</td></tr><tr><td>test/recall_macro</td><td>0.83722</td></tr><tr><td>test/runtime</td><td>5.0807</td></tr><tr><td>test/samples_per_second</td><td>810.118</td></tr><tr><td>test/steps_per_second</td><td>50.78</td></tr><tr><td>total_flos</td><td>1.6302911110035792e+16</td></tr><tr><td>train/epoch</td><td>12.0</td></tr><tr><td>train/global_step</td><td>27780</td></tr><tr><td>train/grad_norm</td><td>6.40319</td></tr><tr><td>train/learning_rate</td><td>0.0</td></tr><tr><td>train/loss</td><td>0.0846</td></tr><tr><td>train_loss</td><td>0.35665</td></tr><tr><td>train_runtime</td><td>2242.433</td></tr><tr><td>train_samples_per_second</td><td>198.208</td></tr><tr><td>train_steps_per_second</td><td>12.388</td></tr><tr><td>val/accuracy</td><td>0.8292</td></tr><tr><td>val/f1_macro</td><td>0.83272</td></tr><tr><td>val/precision_macro</td><td>0.82917</td></tr><tr><td>val/recall_macro</td><td>0.83722</td></tr></table><br/></div></div>"
      ],
      "text/plain": [
       "<IPython.core.display.HTML object>"
      ]
     },
     "metadata": {},
     "output_type": "display_data"
    },
    {
     "data": {
      "text/html": [
       " View run <strong style=\"color:#cdcd00\">roberta-base_trainer_trial_4</strong> at: <a href='https://wandb.ai/gal2361-tel-aviv-university/adv-dl2-p1/runs/cvpnj4a0' target=\"_blank\">https://wandb.ai/gal2361-tel-aviv-university/adv-dl2-p1/runs/cvpnj4a0</a><br/> View project at: <a href='https://wandb.ai/gal2361-tel-aviv-university/adv-dl2-p1' target=\"_blank\">https://wandb.ai/gal2361-tel-aviv-university/adv-dl2-p1</a><br/>Synced 5 W&B file(s), 1 media file(s), 1 artifact file(s) and 0 other file(s)"
      ],
      "text/plain": [
       "<IPython.core.display.HTML object>"
      ]
     },
     "metadata": {},
     "output_type": "display_data"
    },
    {
     "data": {
      "text/html": [
       "Find logs at: <code>./wandb/run-20250814_220122-cvpnj4a0/logs</code>"
      ],
      "text/plain": [
       "<IPython.core.display.HTML object>"
      ]
     },
     "metadata": {},
     "output_type": "display_data"
    },
    {
     "data": {
      "text/html": [
       "The new W&B backend becomes opt-out in version 0.18.0; try it out with `wandb.require(\"core\")`! See https://wandb.me/wandb-core for more information."
      ],
      "text/plain": [
       "<IPython.core.display.HTML object>"
      ]
     },
     "metadata": {},
     "output_type": "display_data"
    },
    {
     "name": "stdout",
     "output_type": "stream",
     "text": [
      "[I 2025-08-14 22:39:10,471] Trial 4 finished with value: 0.8327161420298526 and parameters: {'lr': 2.116177565568772e-05, 'weight_decay': 0.0013266583844993018, 'batch_size': 16, 'unfreeze_last_k': 10}. Best is trial 4 with value: 0.8327161420298526.\n"
     ]
    },
    {
     "data": {
      "text/html": [
       "wandb version 0.21.1 is available!  To upgrade, please run:\n",
       " $ pip install wandb --upgrade"
      ],
      "text/plain": [
       "<IPython.core.display.HTML object>"
      ]
     },
     "metadata": {},
     "output_type": "display_data"
    },
    {
     "data": {
      "text/html": [
       "Tracking run with wandb version 0.17.5"
      ],
      "text/plain": [
       "<IPython.core.display.HTML object>"
      ]
     },
     "metadata": {},
     "output_type": "display_data"
    },
    {
     "data": {
      "text/html": [
       "Run data is saved locally in <code>/content/wandb/run-20250814_223910-gjxyq9bz</code>"
      ],
      "text/plain": [
       "<IPython.core.display.HTML object>"
      ]
     },
     "metadata": {},
     "output_type": "display_data"
    },
    {
     "data": {
      "text/html": [
       "Syncing run <strong><a href='https://wandb.ai/gal2361-tel-aviv-university/adv-dl2-p1/runs/gjxyq9bz' target=\"_blank\">roberta-base_trainer_trial_5</a></strong> to <a href='https://wandb.ai/gal2361-tel-aviv-university/adv-dl2-p1' target=\"_blank\">Weights & Biases</a> (<a href='https://wandb.me/run' target=\"_blank\">docs</a>)<br/>"
      ],
      "text/plain": [
       "<IPython.core.display.HTML object>"
      ]
     },
     "metadata": {},
     "output_type": "display_data"
    },
    {
     "data": {
      "text/html": [
       " View project at <a href='https://wandb.ai/gal2361-tel-aviv-university/adv-dl2-p1' target=\"_blank\">https://wandb.ai/gal2361-tel-aviv-university/adv-dl2-p1</a>"
      ],
      "text/plain": [
       "<IPython.core.display.HTML object>"
      ]
     },
     "metadata": {},
     "output_type": "display_data"
    },
    {
     "data": {
      "text/html": [
       " View run at <a href='https://wandb.ai/gal2361-tel-aviv-university/adv-dl2-p1/runs/gjxyq9bz' target=\"_blank\">https://wandb.ai/gal2361-tel-aviv-university/adv-dl2-p1/runs/gjxyq9bz</a>"
      ],
      "text/plain": [
       "<IPython.core.display.HTML object>"
      ]
     },
     "metadata": {},
     "output_type": "display_data"
    },
    {
     "name": "stderr",
     "output_type": "stream",
     "text": [
      "Some weights of RobertaForSequenceClassification were not initialized from the model checkpoint at roberta-base and are newly initialized: ['classifier.dense.bias', 'classifier.dense.weight', 'classifier.out_proj.bias', 'classifier.out_proj.weight']\n",
      "You should probably TRAIN this model on a down-stream task to be able to use it for predictions and inference.\n",
      "/usr/local/lib/python3.11/dist-packages/transformers/training_args.py:1525: FutureWarning: `evaluation_strategy` is deprecated and will be removed in version 4.46 of 🤗 Transformers. Use `eval_strategy` instead\n",
      "  warnings.warn(\n",
      "/usr/local/lib/python3.11/dist-packages/accelerate/accelerator.py:494: FutureWarning: `torch.cuda.amp.GradScaler(args...)` is deprecated. Please use `torch.amp.GradScaler('cuda', args...)` instead.\n",
      "  self.scaler = torch.cuda.amp.GradScaler(**kwargs)\n"
     ]
    },
    {
     "data": {
      "text/html": [
       "\n",
       "    <div>\n",
       "      \n",
       "      <progress value='55560' max='55560' style='width:300px; height:20px; vertical-align: middle;'></progress>\n",
       "      [55560/55560 1:12:15, Epoch 12/12]\n",
       "    </div>\n",
       "    <table border=\"1\" class=\"dataframe\">\n",
       "  <thead>\n",
       " <tr style=\"text-align: left;\">\n",
       "      <th>Epoch</th>\n",
       "      <th>Training Loss</th>\n",
       "      <th>Validation Loss</th>\n",
       "      <th>Accuracy</th>\n",
       "      <th>Precision Macro</th>\n",
       "      <th>Recall Macro</th>\n",
       "      <th>F1 Macro</th>\n",
       "    </tr>\n",
       "  </thead>\n",
       "  <tbody>\n",
       "    <tr>\n",
       "      <td>1</td>\n",
       "      <td>1.051200</td>\n",
       "      <td>1.157560</td>\n",
       "      <td>0.512148</td>\n",
       "      <td>0.524230</td>\n",
       "      <td>0.534084</td>\n",
       "      <td>0.526643</td>\n",
       "    </tr>\n",
       "    <tr>\n",
       "      <td>2</td>\n",
       "      <td>1.033900</td>\n",
       "      <td>0.986720</td>\n",
       "      <td>0.597911</td>\n",
       "      <td>0.621484</td>\n",
       "      <td>0.613514</td>\n",
       "      <td>0.612937</td>\n",
       "    </tr>\n",
       "    <tr>\n",
       "      <td>3</td>\n",
       "      <td>0.931700</td>\n",
       "      <td>0.916884</td>\n",
       "      <td>0.623421</td>\n",
       "      <td>0.642529</td>\n",
       "      <td>0.643142</td>\n",
       "      <td>0.639151</td>\n",
       "    </tr>\n",
       "    <tr>\n",
       "      <td>4</td>\n",
       "      <td>0.941800</td>\n",
       "      <td>0.882688</td>\n",
       "      <td>0.646016</td>\n",
       "      <td>0.660888</td>\n",
       "      <td>0.671607</td>\n",
       "      <td>0.660333</td>\n",
       "    </tr>\n",
       "    <tr>\n",
       "      <td>5</td>\n",
       "      <td>0.903300</td>\n",
       "      <td>0.827769</td>\n",
       "      <td>0.677600</td>\n",
       "      <td>0.691127</td>\n",
       "      <td>0.694638</td>\n",
       "      <td>0.689558</td>\n",
       "    </tr>\n",
       "    <tr>\n",
       "      <td>6</td>\n",
       "      <td>0.681600</td>\n",
       "      <td>0.796118</td>\n",
       "      <td>0.694849</td>\n",
       "      <td>0.708611</td>\n",
       "      <td>0.704615</td>\n",
       "      <td>0.705379</td>\n",
       "    </tr>\n",
       "    <tr>\n",
       "      <td>7</td>\n",
       "      <td>0.871000</td>\n",
       "      <td>0.791338</td>\n",
       "      <td>0.703110</td>\n",
       "      <td>0.714983</td>\n",
       "      <td>0.718725</td>\n",
       "      <td>0.713911</td>\n",
       "    </tr>\n",
       "    <tr>\n",
       "      <td>8</td>\n",
       "      <td>0.791800</td>\n",
       "      <td>0.803207</td>\n",
       "      <td>0.695335</td>\n",
       "      <td>0.705218</td>\n",
       "      <td>0.714801</td>\n",
       "      <td>0.706417</td>\n",
       "    </tr>\n",
       "    <tr>\n",
       "      <td>9</td>\n",
       "      <td>0.748300</td>\n",
       "      <td>0.772290</td>\n",
       "      <td>0.707483</td>\n",
       "      <td>0.719208</td>\n",
       "      <td>0.720044</td>\n",
       "      <td>0.717515</td>\n",
       "    </tr>\n",
       "    <tr>\n",
       "      <td>10</td>\n",
       "      <td>0.671400</td>\n",
       "      <td>0.786276</td>\n",
       "      <td>0.707969</td>\n",
       "      <td>0.718222</td>\n",
       "      <td>0.725588</td>\n",
       "      <td>0.718049</td>\n",
       "    </tr>\n",
       "    <tr>\n",
       "      <td>11</td>\n",
       "      <td>0.685900</td>\n",
       "      <td>0.765160</td>\n",
       "      <td>0.715500</td>\n",
       "      <td>0.724820</td>\n",
       "      <td>0.730566</td>\n",
       "      <td>0.725212</td>\n",
       "    </tr>\n",
       "    <tr>\n",
       "      <td>12</td>\n",
       "      <td>0.670900</td>\n",
       "      <td>0.775627</td>\n",
       "      <td>0.714043</td>\n",
       "      <td>0.722542</td>\n",
       "      <td>0.731350</td>\n",
       "      <td>0.724096</td>\n",
       "    </tr>\n",
       "  </tbody>\n",
       "</table><p>"
      ],
      "text/plain": [
       "<IPython.core.display.HTML object>"
      ]
     },
     "metadata": {},
     "output_type": "display_data"
    },
    {
     "data": {
      "text/html": [],
      "text/plain": [
       "<IPython.core.display.HTML object>"
      ]
     },
     "metadata": {},
     "output_type": "display_data"
    },
    {
     "data": {
      "application/vnd.jupyter.widget-view+json": {
       "model_id": "5e517b22e0d640d5ba4007f0f03c3e9f",
       "version_major": 2,
       "version_minor": 0
      },
      "text/plain": [
       "VBox(children=(Label(value='0.005 MB of 0.005 MB uploaded\\r'), FloatProgress(value=1.0, max=1.0)))"
      ]
     },
     "metadata": {},
     "output_type": "display_data"
    },
    {
     "data": {
      "text/html": [
       "<style>\n",
       "    table.wandb td:nth-child(1) { padding: 0 10px; text-align: left ; width: auto;} td:nth-child(2) {text-align: left ; width: 100%}\n",
       "    .wandb-row { display: flex; flex-direction: row; flex-wrap: wrap; justify-content: flex-start; width: 100% }\n",
       "    .wandb-col { display: flex; flex-direction: column; flex-basis: 100%; flex: 1; padding: 10px; }\n",
       "    </style>\n",
       "<div class=\"wandb-row\"><div class=\"wandb-col\"><h3>Run history:</h3><br/><table class=\"wandb\"><tr><td>eval/accuracy</td><td>▁▄▅▆▇▇█▇█████</td></tr><tr><td>eval/f1_macro</td><td>▁▄▅▆▇▇█▇█████</td></tr><tr><td>eval/loss</td><td>█▅▄▃▂▂▁▂▁▁▁▁▁</td></tr><tr><td>eval/precision_macro</td><td>▁▄▅▆▇▇█▇█████</td></tr><tr><td>eval/recall_macro</td><td>▁▄▅▆▇▇█▇█████</td></tr><tr><td>eval/runtime</td><td>▃▃▂▁▃▃▁▄▃▅▄█▅</td></tr><tr><td>eval/samples_per_second</td><td>▆▆▇█▆▆█▅▆▄▅▁▄</td></tr><tr><td>eval/steps_per_second</td><td>▆▆▇█▆▆█▅▆▄▅▁▄</td></tr><tr><td>test/accuracy</td><td>▁</td></tr><tr><td>test/f1_macro</td><td>▁</td></tr><tr><td>test/loss</td><td>▁</td></tr><tr><td>test/precision_macro</td><td>▁</td></tr><tr><td>test/recall_macro</td><td>▁</td></tr><tr><td>test/runtime</td><td>▁</td></tr><tr><td>test/samples_per_second</td><td>▁</td></tr><tr><td>test/steps_per_second</td><td>▁</td></tr><tr><td>train/epoch</td><td>▁▁▁▁▂▂▂▂▂▃▃▃▃▃▃▄▄▄▄▄▅▅▅▅▅▅▆▆▆▆▆▇▇▇▇▇▇███</td></tr><tr><td>train/global_step</td><td>▁▁▁▁▂▂▂▂▂▃▃▃▃▃▃▄▄▄▄▄▅▅▅▅▅▅▆▆▆▆▆▇▇▇▇▇▇███</td></tr><tr><td>train/grad_norm</td><td>▁▁▂▃▂▃▄▃▅▄▃▃▄▅▅▄▃▄▄▅▄▅▆▃▃▃▂█▃▄▄▄▃▅▄▄▄█▂▆</td></tr><tr><td>train/learning_rate</td><td>▂▅████▇▇▇▇▇▆▆▆▆▆▅▅▅▅▅▄▄▄▄▄▄▃▃▃▃▃▂▂▂▂▂▁▁▁</td></tr><tr><td>train/loss</td><td>██▆▅▄▅▄▄▃▃▃▄▃▃▃▂▂▂▂▂▃▂▂▂▁▁▁▂▂▂▂▂▂▂▁▂▃▂▁▁</td></tr><tr><td>val/accuracy</td><td>▁</td></tr><tr><td>val/f1_macro</td><td>▁</td></tr><tr><td>val/precision_macro</td><td>▁</td></tr><tr><td>val/recall_macro</td><td>▁</td></tr></table><br/></div><div class=\"wandb-col\"><h3>Run summary:</h3><br/><table class=\"wandb\"><tr><td>best_checkpoint_path</td><td>/content/drive/MyDri...</td></tr><tr><td>eval/accuracy</td><td>0.7155</td></tr><tr><td>eval/f1_macro</td><td>0.72521</td></tr><tr><td>eval/loss</td><td>0.76516</td></tr><tr><td>eval/precision_macro</td><td>0.72482</td></tr><tr><td>eval/recall_macro</td><td>0.73057</td></tr><tr><td>eval/runtime</td><td>9.0188</td></tr><tr><td>eval/samples_per_second</td><td>456.38</td></tr><tr><td>eval/steps_per_second</td><td>57.103</td></tr><tr><td>test/accuracy</td><td>0.7155</td></tr><tr><td>test/f1_macro</td><td>0.72521</td></tr><tr><td>test/loss</td><td>0.76516</td></tr><tr><td>test/precision_macro</td><td>0.72482</td></tr><tr><td>test/recall_macro</td><td>0.73057</td></tr><tr><td>test/runtime</td><td>9.6909</td></tr><tr><td>test/samples_per_second</td><td>424.73</td></tr><tr><td>test/steps_per_second</td><td>53.143</td></tr><tr><td>total_flos</td><td>1.5153337667558136e+16</td></tr><tr><td>train/epoch</td><td>12.0</td></tr><tr><td>train/global_step</td><td>55560</td></tr><tr><td>train/grad_norm</td><td>63.26667</td></tr><tr><td>train/learning_rate</td><td>0.0</td></tr><tr><td>train/loss</td><td>0.6709</td></tr><tr><td>train_loss</td><td>0.83494</td></tr><tr><td>train_runtime</td><td>4335.302</td></tr><tr><td>train_samples_per_second</td><td>102.523</td></tr><tr><td>train_steps_per_second</td><td>12.816</td></tr><tr><td>val/accuracy</td><td>0.7155</td></tr><tr><td>val/f1_macro</td><td>0.72521</td></tr><tr><td>val/precision_macro</td><td>0.72482</td></tr><tr><td>val/recall_macro</td><td>0.73057</td></tr></table><br/></div></div>"
      ],
      "text/plain": [
       "<IPython.core.display.HTML object>"
      ]
     },
     "metadata": {},
     "output_type": "display_data"
    },
    {
     "data": {
      "text/html": [
       " View run <strong style=\"color:#cdcd00\">roberta-base_trainer_trial_5</strong> at: <a href='https://wandb.ai/gal2361-tel-aviv-university/adv-dl2-p1/runs/gjxyq9bz' target=\"_blank\">https://wandb.ai/gal2361-tel-aviv-university/adv-dl2-p1/runs/gjxyq9bz</a><br/> View project at: <a href='https://wandb.ai/gal2361-tel-aviv-university/adv-dl2-p1' target=\"_blank\">https://wandb.ai/gal2361-tel-aviv-university/adv-dl2-p1</a><br/>Synced 5 W&B file(s), 1 media file(s), 1 artifact file(s) and 0 other file(s)"
      ],
      "text/plain": [
       "<IPython.core.display.HTML object>"
      ]
     },
     "metadata": {},
     "output_type": "display_data"
    },
    {
     "data": {
      "text/html": [
       "Find logs at: <code>./wandb/run-20250814_223910-gjxyq9bz/logs</code>"
      ],
      "text/plain": [
       "<IPython.core.display.HTML object>"
      ]
     },
     "metadata": {},
     "output_type": "display_data"
    },
    {
     "data": {
      "text/html": [
       "The new W&B backend becomes opt-out in version 0.18.0; try it out with `wandb.require(\"core\")`! See https://wandb.me/wandb-core for more information."
      ],
      "text/plain": [
       "<IPython.core.display.HTML object>"
      ]
     },
     "metadata": {},
     "output_type": "display_data"
    },
    {
     "name": "stdout",
     "output_type": "stream",
     "text": [
      "[I 2025-08-14 23:52:01,264] Trial 5 finished with value: 0.7252119789539709 and parameters: {'lr': 1.3832420864506064e-06, 'weight_decay': 2.5573086992434022e-05, 'batch_size': 8, 'unfreeze_last_k': 10}. Best is trial 4 with value: 0.8327161420298526.\n"
     ]
    },
    {
     "data": {
      "text/html": [
       "wandb version 0.21.1 is available!  To upgrade, please run:\n",
       " $ pip install wandb --upgrade"
      ],
      "text/plain": [
       "<IPython.core.display.HTML object>"
      ]
     },
     "metadata": {},
     "output_type": "display_data"
    },
    {
     "data": {
      "text/html": [
       "Tracking run with wandb version 0.17.5"
      ],
      "text/plain": [
       "<IPython.core.display.HTML object>"
      ]
     },
     "metadata": {},
     "output_type": "display_data"
    },
    {
     "data": {
      "text/html": [
       "Run data is saved locally in <code>/content/wandb/run-20250814_235201-t7opnf56</code>"
      ],
      "text/plain": [
       "<IPython.core.display.HTML object>"
      ]
     },
     "metadata": {},
     "output_type": "display_data"
    },
    {
     "data": {
      "text/html": [
       "Syncing run <strong><a href='https://wandb.ai/gal2361-tel-aviv-university/adv-dl2-p1/runs/t7opnf56' target=\"_blank\">roberta-base_trainer_trial_6</a></strong> to <a href='https://wandb.ai/gal2361-tel-aviv-university/adv-dl2-p1' target=\"_blank\">Weights & Biases</a> (<a href='https://wandb.me/run' target=\"_blank\">docs</a>)<br/>"
      ],
      "text/plain": [
       "<IPython.core.display.HTML object>"
      ]
     },
     "metadata": {},
     "output_type": "display_data"
    },
    {
     "data": {
      "text/html": [
       " View project at <a href='https://wandb.ai/gal2361-tel-aviv-university/adv-dl2-p1' target=\"_blank\">https://wandb.ai/gal2361-tel-aviv-university/adv-dl2-p1</a>"
      ],
      "text/plain": [
       "<IPython.core.display.HTML object>"
      ]
     },
     "metadata": {},
     "output_type": "display_data"
    },
    {
     "data": {
      "text/html": [
       " View run at <a href='https://wandb.ai/gal2361-tel-aviv-university/adv-dl2-p1/runs/t7opnf56' target=\"_blank\">https://wandb.ai/gal2361-tel-aviv-university/adv-dl2-p1/runs/t7opnf56</a>"
      ],
      "text/plain": [
       "<IPython.core.display.HTML object>"
      ]
     },
     "metadata": {},
     "output_type": "display_data"
    },
    {
     "name": "stderr",
     "output_type": "stream",
     "text": [
      "Some weights of RobertaForSequenceClassification were not initialized from the model checkpoint at roberta-base and are newly initialized: ['classifier.dense.bias', 'classifier.dense.weight', 'classifier.out_proj.bias', 'classifier.out_proj.weight']\n",
      "You should probably TRAIN this model on a down-stream task to be able to use it for predictions and inference.\n",
      "/usr/local/lib/python3.11/dist-packages/transformers/training_args.py:1525: FutureWarning: `evaluation_strategy` is deprecated and will be removed in version 4.46 of 🤗 Transformers. Use `eval_strategy` instead\n",
      "  warnings.warn(\n",
      "/usr/local/lib/python3.11/dist-packages/accelerate/accelerator.py:494: FutureWarning: `torch.cuda.amp.GradScaler(args...)` is deprecated. Please use `torch.amp.GradScaler('cuda', args...)` instead.\n",
      "  self.scaler = torch.cuda.amp.GradScaler(**kwargs)\n"
     ]
    },
    {
     "data": {
      "text/html": [
       "\n",
       "    <div>\n",
       "      \n",
       "      <progress value='55560' max='55560' style='width:300px; height:20px; vertical-align: middle;'></progress>\n",
       "      [55560/55560 47:03, Epoch 12/12]\n",
       "    </div>\n",
       "    <table border=\"1\" class=\"dataframe\">\n",
       "  <thead>\n",
       " <tr style=\"text-align: left;\">\n",
       "      <th>Epoch</th>\n",
       "      <th>Training Loss</th>\n",
       "      <th>Validation Loss</th>\n",
       "      <th>Accuracy</th>\n",
       "      <th>Precision Macro</th>\n",
       "      <th>Recall Macro</th>\n",
       "      <th>F1 Macro</th>\n",
       "    </tr>\n",
       "  </thead>\n",
       "  <tbody>\n",
       "    <tr>\n",
       "      <td>1</td>\n",
       "      <td>1.060300</td>\n",
       "      <td>1.198467</td>\n",
       "      <td>0.488095</td>\n",
       "      <td>0.501751</td>\n",
       "      <td>0.506170</td>\n",
       "      <td>0.500210</td>\n",
       "    </tr>\n",
       "    <tr>\n",
       "      <td>2</td>\n",
       "      <td>1.057300</td>\n",
       "      <td>1.073816</td>\n",
       "      <td>0.555879</td>\n",
       "      <td>0.571923</td>\n",
       "      <td>0.576505</td>\n",
       "      <td>0.570088</td>\n",
       "    </tr>\n",
       "    <tr>\n",
       "      <td>3</td>\n",
       "      <td>1.041300</td>\n",
       "      <td>1.006433</td>\n",
       "      <td>0.585520</td>\n",
       "      <td>0.597730</td>\n",
       "      <td>0.608663</td>\n",
       "      <td>0.598998</td>\n",
       "    </tr>\n",
       "    <tr>\n",
       "      <td>4</td>\n",
       "      <td>0.974700</td>\n",
       "      <td>0.975373</td>\n",
       "      <td>0.603256</td>\n",
       "      <td>0.616588</td>\n",
       "      <td>0.626096</td>\n",
       "      <td>0.616554</td>\n",
       "    </tr>\n",
       "    <tr>\n",
       "      <td>5</td>\n",
       "      <td>0.963700</td>\n",
       "      <td>0.942176</td>\n",
       "      <td>0.616861</td>\n",
       "      <td>0.628516</td>\n",
       "      <td>0.637750</td>\n",
       "      <td>0.630158</td>\n",
       "    </tr>\n",
       "    <tr>\n",
       "      <td>6</td>\n",
       "      <td>0.740800</td>\n",
       "      <td>0.929921</td>\n",
       "      <td>0.626093</td>\n",
       "      <td>0.635668</td>\n",
       "      <td>0.644987</td>\n",
       "      <td>0.638502</td>\n",
       "    </tr>\n",
       "    <tr>\n",
       "      <td>7</td>\n",
       "      <td>0.945100</td>\n",
       "      <td>0.923141</td>\n",
       "      <td>0.630466</td>\n",
       "      <td>0.642027</td>\n",
       "      <td>0.651980</td>\n",
       "      <td>0.642969</td>\n",
       "    </tr>\n",
       "    <tr>\n",
       "      <td>8</td>\n",
       "      <td>0.918600</td>\n",
       "      <td>0.915006</td>\n",
       "      <td>0.633382</td>\n",
       "      <td>0.644586</td>\n",
       "      <td>0.656223</td>\n",
       "      <td>0.645835</td>\n",
       "    </tr>\n",
       "    <tr>\n",
       "      <td>9</td>\n",
       "      <td>0.802600</td>\n",
       "      <td>0.894590</td>\n",
       "      <td>0.644315</td>\n",
       "      <td>0.653327</td>\n",
       "      <td>0.662094</td>\n",
       "      <td>0.655723</td>\n",
       "    </tr>\n",
       "    <tr>\n",
       "      <td>10</td>\n",
       "      <td>0.802500</td>\n",
       "      <td>0.904813</td>\n",
       "      <td>0.642128</td>\n",
       "      <td>0.652021</td>\n",
       "      <td>0.663348</td>\n",
       "      <td>0.653646</td>\n",
       "    </tr>\n",
       "    <tr>\n",
       "      <td>11</td>\n",
       "      <td>0.810500</td>\n",
       "      <td>0.893665</td>\n",
       "      <td>0.650146</td>\n",
       "      <td>0.660448</td>\n",
       "      <td>0.668196</td>\n",
       "      <td>0.661692</td>\n",
       "    </tr>\n",
       "    <tr>\n",
       "      <td>12</td>\n",
       "      <td>0.829700</td>\n",
       "      <td>0.895513</td>\n",
       "      <td>0.649903</td>\n",
       "      <td>0.659109</td>\n",
       "      <td>0.668905</td>\n",
       "      <td>0.661058</td>\n",
       "    </tr>\n",
       "  </tbody>\n",
       "</table><p>"
      ],
      "text/plain": [
       "<IPython.core.display.HTML object>"
      ]
     },
     "metadata": {},
     "output_type": "display_data"
    },
    {
     "data": {
      "text/html": [],
      "text/plain": [
       "<IPython.core.display.HTML object>"
      ]
     },
     "metadata": {},
     "output_type": "display_data"
    },
    {
     "data": {
      "application/vnd.jupyter.widget-view+json": {
       "model_id": "c36526bbb06d445180f72bc0cdb19cc0",
       "version_major": 2,
       "version_minor": 0
      },
      "text/plain": [
       "VBox(children=(Label(value='0.005 MB of 0.005 MB uploaded\\r'), FloatProgress(value=1.0, max=1.0)))"
      ]
     },
     "metadata": {},
     "output_type": "display_data"
    },
    {
     "data": {
      "text/html": [
       "<style>\n",
       "    table.wandb td:nth-child(1) { padding: 0 10px; text-align: left ; width: auto;} td:nth-child(2) {text-align: left ; width: 100%}\n",
       "    .wandb-row { display: flex; flex-direction: row; flex-wrap: wrap; justify-content: flex-start; width: 100% }\n",
       "    .wandb-col { display: flex; flex-direction: column; flex-basis: 100%; flex: 1; padding: 10px; }\n",
       "    </style>\n",
       "<div class=\"wandb-row\"><div class=\"wandb-col\"><h3>Run history:</h3><br/><table class=\"wandb\"><tr><td>eval/accuracy</td><td>▁▄▅▆▇▇▇▇█████</td></tr><tr><td>eval/f1_macro</td><td>▁▄▅▆▇▇▇▇█████</td></tr><tr><td>eval/loss</td><td>█▅▄▃▂▂▂▁▁▁▁▁▁</td></tr><tr><td>eval/precision_macro</td><td>▁▄▅▆▇▇▇▇█████</td></tr><tr><td>eval/recall_macro</td><td>▁▄▅▆▇▇▇▇█████</td></tr><tr><td>eval/runtime</td><td>▃█▂▁▂▃▄▅▃▅█▄▄</td></tr><tr><td>eval/samples_per_second</td><td>▆▁▇█▇▆▅▄▆▃▁▅▅</td></tr><tr><td>eval/steps_per_second</td><td>▆▁▇█▇▆▅▄▆▃▁▅▅</td></tr><tr><td>test/accuracy</td><td>▁</td></tr><tr><td>test/f1_macro</td><td>▁</td></tr><tr><td>test/loss</td><td>▁</td></tr><tr><td>test/precision_macro</td><td>▁</td></tr><tr><td>test/recall_macro</td><td>▁</td></tr><tr><td>test/runtime</td><td>▁</td></tr><tr><td>test/samples_per_second</td><td>▁</td></tr><tr><td>test/steps_per_second</td><td>▁</td></tr><tr><td>train/epoch</td><td>▁▁▁▁▂▂▂▂▂▃▃▃▃▃▃▄▄▄▄▄▅▅▅▅▅▅▆▆▆▆▆▇▇▇▇▇▇███</td></tr><tr><td>train/global_step</td><td>▁▁▁▁▂▂▂▂▂▃▃▃▃▃▃▄▄▄▄▄▅▅▅▅▅▅▆▆▆▆▆▇▇▇▇▇▇███</td></tr><tr><td>train/grad_norm</td><td>▁▁▃▃▂▄▃▄▇▃▃▄▅▆▄▅▅▄▃▅▄▆▆▅▄▄▄█▃▅▆▄▅▆▄▃▄█▂▆</td></tr><tr><td>train/learning_rate</td><td>▂▅████▇▇▇▇▇▆▆▆▆▆▅▅▅▅▅▅▄▄▄▄▄▃▃▃▃▃▂▂▂▂▂▁▁▁</td></tr><tr><td>train/loss</td><td>██▅▅▄▄▃▄▃▃▃▃▃▂▂▂▂▂▂▂▃▂▁▂▁▂▁▂▂▂▂▂▂▂▁▂▃▁▁▂</td></tr><tr><td>val/accuracy</td><td>▁</td></tr><tr><td>val/f1_macro</td><td>▁</td></tr><tr><td>val/precision_macro</td><td>▁</td></tr><tr><td>val/recall_macro</td><td>▁</td></tr></table><br/></div><div class=\"wandb-col\"><h3>Run summary:</h3><br/><table class=\"wandb\"><tr><td>best_checkpoint_path</td><td>/content/drive/MyDri...</td></tr><tr><td>eval/accuracy</td><td>0.65015</td></tr><tr><td>eval/f1_macro</td><td>0.66169</td></tr><tr><td>eval/loss</td><td>0.89367</td></tr><tr><td>eval/precision_macro</td><td>0.66045</td></tr><tr><td>eval/recall_macro</td><td>0.6682</td></tr><tr><td>eval/runtime</td><td>8.8685</td></tr><tr><td>eval/samples_per_second</td><td>464.113</td></tr><tr><td>eval/steps_per_second</td><td>58.07</td></tr><tr><td>test/accuracy</td><td>0.65015</td></tr><tr><td>test/f1_macro</td><td>0.66169</td></tr><tr><td>test/loss</td><td>0.89367</td></tr><tr><td>test/precision_macro</td><td>0.66045</td></tr><tr><td>test/recall_macro</td><td>0.6682</td></tr><tr><td>test/runtime</td><td>9.7189</td></tr><tr><td>test/samples_per_second</td><td>423.506</td></tr><tr><td>test/steps_per_second</td><td>52.99</td></tr><tr><td>total_flos</td><td>1.5153337667558136e+16</td></tr><tr><td>train/epoch</td><td>12.0</td></tr><tr><td>train/global_step</td><td>55560</td></tr><tr><td>train/grad_norm</td><td>54.23914</td></tr><tr><td>train/learning_rate</td><td>0.0</td></tr><tr><td>train/loss</td><td>0.8297</td></tr><tr><td>train_loss</td><td>0.9463</td></tr><tr><td>train_runtime</td><td>2823.6109</td></tr><tr><td>train_samples_per_second</td><td>157.411</td></tr><tr><td>train_steps_per_second</td><td>19.677</td></tr><tr><td>val/accuracy</td><td>0.65015</td></tr><tr><td>val/f1_macro</td><td>0.66169</td></tr><tr><td>val/precision_macro</td><td>0.66045</td></tr><tr><td>val/recall_macro</td><td>0.6682</td></tr></table><br/></div></div>"
      ],
      "text/plain": [
       "<IPython.core.display.HTML object>"
      ]
     },
     "metadata": {},
     "output_type": "display_data"
    },
    {
     "data": {
      "text/html": [
       " View run <strong style=\"color:#cdcd00\">roberta-base_trainer_trial_6</strong> at: <a href='https://wandb.ai/gal2361-tel-aviv-university/adv-dl2-p1/runs/t7opnf56' target=\"_blank\">https://wandb.ai/gal2361-tel-aviv-university/adv-dl2-p1/runs/t7opnf56</a><br/> View project at: <a href='https://wandb.ai/gal2361-tel-aviv-university/adv-dl2-p1' target=\"_blank\">https://wandb.ai/gal2361-tel-aviv-university/adv-dl2-p1</a><br/>Synced 5 W&B file(s), 1 media file(s), 1 artifact file(s) and 0 other file(s)"
      ],
      "text/plain": [
       "<IPython.core.display.HTML object>"
      ]
     },
     "metadata": {},
     "output_type": "display_data"
    },
    {
     "data": {
      "text/html": [
       "Find logs at: <code>./wandb/run-20250814_235201-t7opnf56/logs</code>"
      ],
      "text/plain": [
       "<IPython.core.display.HTML object>"
      ]
     },
     "metadata": {},
     "output_type": "display_data"
    },
    {
     "data": {
      "text/html": [
       "The new W&B backend becomes opt-out in version 0.18.0; try it out with `wandb.require(\"core\")`! See https://wandb.me/wandb-core for more information."
      ],
      "text/plain": [
       "<IPython.core.display.HTML object>"
      ]
     },
     "metadata": {},
     "output_type": "display_data"
    },
    {
     "name": "stdout",
     "output_type": "stream",
     "text": [
      "[I 2025-08-15 00:39:39,408] Trial 6 finished with value: 0.6616919266589616 and parameters: {'lr': 1.9943974355510454e-06, 'weight_decay': 4.239212460215961e-06, 'batch_size': 8, 'unfreeze_last_k': 5}. Best is trial 4 with value: 0.8327161420298526.\n"
     ]
    },
    {
     "data": {
      "text/html": [
       "wandb version 0.21.1 is available!  To upgrade, please run:\n",
       " $ pip install wandb --upgrade"
      ],
      "text/plain": [
       "<IPython.core.display.HTML object>"
      ]
     },
     "metadata": {},
     "output_type": "display_data"
    },
    {
     "data": {
      "text/html": [
       "Tracking run with wandb version 0.17.5"
      ],
      "text/plain": [
       "<IPython.core.display.HTML object>"
      ]
     },
     "metadata": {},
     "output_type": "display_data"
    },
    {
     "data": {
      "text/html": [
       "Run data is saved locally in <code>/content/wandb/run-20250815_003939-fxl6ux46</code>"
      ],
      "text/plain": [
       "<IPython.core.display.HTML object>"
      ]
     },
     "metadata": {},
     "output_type": "display_data"
    },
    {
     "data": {
      "text/html": [
       "Syncing run <strong><a href='https://wandb.ai/gal2361-tel-aviv-university/adv-dl2-p1/runs/fxl6ux46' target=\"_blank\">roberta-base_trainer_trial_7</a></strong> to <a href='https://wandb.ai/gal2361-tel-aviv-university/adv-dl2-p1' target=\"_blank\">Weights & Biases</a> (<a href='https://wandb.me/run' target=\"_blank\">docs</a>)<br/>"
      ],
      "text/plain": [
       "<IPython.core.display.HTML object>"
      ]
     },
     "metadata": {},
     "output_type": "display_data"
    },
    {
     "data": {
      "text/html": [
       " View project at <a href='https://wandb.ai/gal2361-tel-aviv-university/adv-dl2-p1' target=\"_blank\">https://wandb.ai/gal2361-tel-aviv-university/adv-dl2-p1</a>"
      ],
      "text/plain": [
       "<IPython.core.display.HTML object>"
      ]
     },
     "metadata": {},
     "output_type": "display_data"
    },
    {
     "data": {
      "text/html": [
       " View run at <a href='https://wandb.ai/gal2361-tel-aviv-university/adv-dl2-p1/runs/fxl6ux46' target=\"_blank\">https://wandb.ai/gal2361-tel-aviv-university/adv-dl2-p1/runs/fxl6ux46</a>"
      ],
      "text/plain": [
       "<IPython.core.display.HTML object>"
      ]
     },
     "metadata": {},
     "output_type": "display_data"
    },
    {
     "name": "stderr",
     "output_type": "stream",
     "text": [
      "Some weights of RobertaForSequenceClassification were not initialized from the model checkpoint at roberta-base and are newly initialized: ['classifier.dense.bias', 'classifier.dense.weight', 'classifier.out_proj.bias', 'classifier.out_proj.weight']\n",
      "You should probably TRAIN this model on a down-stream task to be able to use it for predictions and inference.\n",
      "/usr/local/lib/python3.11/dist-packages/transformers/training_args.py:1525: FutureWarning: `evaluation_strategy` is deprecated and will be removed in version 4.46 of 🤗 Transformers. Use `eval_strategy` instead\n",
      "  warnings.warn(\n",
      "/usr/local/lib/python3.11/dist-packages/accelerate/accelerator.py:494: FutureWarning: `torch.cuda.amp.GradScaler(args...)` is deprecated. Please use `torch.amp.GradScaler('cuda', args...)` instead.\n",
      "  self.scaler = torch.cuda.amp.GradScaler(**kwargs)\n"
     ]
    },
    {
     "data": {
      "text/html": [
       "\n",
       "    <div>\n",
       "      \n",
       "      <progress value='13896' max='13896' style='width:300px; height:20px; vertical-align: middle;'></progress>\n",
       "      [13896/13896 15:04, Epoch 12/12]\n",
       "    </div>\n",
       "    <table border=\"1\" class=\"dataframe\">\n",
       "  <thead>\n",
       " <tr style=\"text-align: left;\">\n",
       "      <th>Epoch</th>\n",
       "      <th>Training Loss</th>\n",
       "      <th>Validation Loss</th>\n",
       "      <th>Accuracy</th>\n",
       "      <th>Precision Macro</th>\n",
       "      <th>Recall Macro</th>\n",
       "      <th>F1 Macro</th>\n",
       "    </tr>\n",
       "  </thead>\n",
       "  <tbody>\n",
       "    <tr>\n",
       "      <td>1</td>\n",
       "      <td>0.920400</td>\n",
       "      <td>0.919224</td>\n",
       "      <td>0.632896</td>\n",
       "      <td>0.656238</td>\n",
       "      <td>0.634036</td>\n",
       "      <td>0.640768</td>\n",
       "    </tr>\n",
       "    <tr>\n",
       "      <td>2</td>\n",
       "      <td>0.700900</td>\n",
       "      <td>0.759350</td>\n",
       "      <td>0.709670</td>\n",
       "      <td>0.717965</td>\n",
       "      <td>0.719458</td>\n",
       "      <td>0.717644</td>\n",
       "    </tr>\n",
       "    <tr>\n",
       "      <td>3</td>\n",
       "      <td>0.701900</td>\n",
       "      <td>0.809576</td>\n",
       "      <td>0.687561</td>\n",
       "      <td>0.700733</td>\n",
       "      <td>0.713801</td>\n",
       "      <td>0.698638</td>\n",
       "    </tr>\n",
       "    <tr>\n",
       "      <td>4</td>\n",
       "      <td>0.570000</td>\n",
       "      <td>0.731240</td>\n",
       "      <td>0.730807</td>\n",
       "      <td>0.736123</td>\n",
       "      <td>0.749060</td>\n",
       "      <td>0.738482</td>\n",
       "    </tr>\n",
       "    <tr>\n",
       "      <td>5</td>\n",
       "      <td>0.482600</td>\n",
       "      <td>0.729205</td>\n",
       "      <td>0.748785</td>\n",
       "      <td>0.762394</td>\n",
       "      <td>0.760077</td>\n",
       "      <td>0.757755</td>\n",
       "    </tr>\n",
       "    <tr>\n",
       "      <td>6</td>\n",
       "      <td>0.365500</td>\n",
       "      <td>0.719578</td>\n",
       "      <td>0.762148</td>\n",
       "      <td>0.772645</td>\n",
       "      <td>0.769026</td>\n",
       "      <td>0.769253</td>\n",
       "    </tr>\n",
       "    <tr>\n",
       "      <td>7</td>\n",
       "      <td>0.373100</td>\n",
       "      <td>0.743991</td>\n",
       "      <td>0.764577</td>\n",
       "      <td>0.776139</td>\n",
       "      <td>0.771552</td>\n",
       "      <td>0.771904</td>\n",
       "    </tr>\n",
       "    <tr>\n",
       "      <td>8</td>\n",
       "      <td>0.269000</td>\n",
       "      <td>0.832721</td>\n",
       "      <td>0.755831</td>\n",
       "      <td>0.761845</td>\n",
       "      <td>0.772411</td>\n",
       "      <td>0.763516</td>\n",
       "    </tr>\n",
       "    <tr>\n",
       "      <td>9</td>\n",
       "      <td>0.252500</td>\n",
       "      <td>0.849646</td>\n",
       "      <td>0.759232</td>\n",
       "      <td>0.768776</td>\n",
       "      <td>0.769447</td>\n",
       "      <td>0.766702</td>\n",
       "    </tr>\n",
       "    <tr>\n",
       "      <td>10</td>\n",
       "      <td>0.188700</td>\n",
       "      <td>0.898493</td>\n",
       "      <td>0.768222</td>\n",
       "      <td>0.772241</td>\n",
       "      <td>0.779673</td>\n",
       "      <td>0.774207</td>\n",
       "    </tr>\n",
       "    <tr>\n",
       "      <td>11</td>\n",
       "      <td>0.210900</td>\n",
       "      <td>0.894794</td>\n",
       "      <td>0.772352</td>\n",
       "      <td>0.780053</td>\n",
       "      <td>0.778723</td>\n",
       "      <td>0.778504</td>\n",
       "    </tr>\n",
       "    <tr>\n",
       "      <td>12</td>\n",
       "      <td>0.167600</td>\n",
       "      <td>0.925525</td>\n",
       "      <td>0.769436</td>\n",
       "      <td>0.774252</td>\n",
       "      <td>0.780099</td>\n",
       "      <td>0.775738</td>\n",
       "    </tr>\n",
       "  </tbody>\n",
       "</table><p>"
      ],
      "text/plain": [
       "<IPython.core.display.HTML object>"
      ]
     },
     "metadata": {},
     "output_type": "display_data"
    },
    {
     "data": {
      "text/html": [],
      "text/plain": [
       "<IPython.core.display.HTML object>"
      ]
     },
     "metadata": {},
     "output_type": "display_data"
    },
    {
     "data": {
      "application/vnd.jupyter.widget-view+json": {
       "model_id": "8ff9829fe8bc48afa834b17624b48389",
       "version_major": 2,
       "version_minor": 0
      },
      "text/plain": [
       "VBox(children=(Label(value='0.005 MB of 0.032 MB uploaded\\r'), FloatProgress(value=0.14241882633303546, max=1.…"
      ]
     },
     "metadata": {},
     "output_type": "display_data"
    },
    {
     "data": {
      "text/html": [
       "<style>\n",
       "    table.wandb td:nth-child(1) { padding: 0 10px; text-align: left ; width: auto;} td:nth-child(2) {text-align: left ; width: 100%}\n",
       "    .wandb-row { display: flex; flex-direction: row; flex-wrap: wrap; justify-content: flex-start; width: 100% }\n",
       "    .wandb-col { display: flex; flex-direction: column; flex-basis: 100%; flex: 1; padding: 10px; }\n",
       "    </style>\n",
       "<div class=\"wandb-row\"><div class=\"wandb-col\"><h3>Run history:</h3><br/><table class=\"wandb\"><tr><td>eval/accuracy</td><td>▁▅▄▆▇▇█▇▇████</td></tr><tr><td>eval/f1_macro</td><td>▁▅▄▆▇██▇▇████</td></tr><tr><td>eval/loss</td><td>█▂▄▁▁▁▂▅▅▇▇█▇</td></tr><tr><td>eval/precision_macro</td><td>▁▄▄▆▇██▇▇████</td></tr><tr><td>eval/recall_macro</td><td>▁▅▅▇▇▇██▇████</td></tr><tr><td>eval/runtime</td><td>▂▃▄▄▁▄▁▄█▆▆▁▅</td></tr><tr><td>eval/samples_per_second</td><td>▇▆▅▅█▅█▅▁▃▃█▄</td></tr><tr><td>eval/steps_per_second</td><td>▇▆▅▅█▅█▅▁▃▃█▄</td></tr><tr><td>test/accuracy</td><td>▁</td></tr><tr><td>test/f1_macro</td><td>▁</td></tr><tr><td>test/loss</td><td>▁</td></tr><tr><td>test/precision_macro</td><td>▁</td></tr><tr><td>test/recall_macro</td><td>▁</td></tr><tr><td>test/runtime</td><td>▁</td></tr><tr><td>test/samples_per_second</td><td>▁</td></tr><tr><td>test/steps_per_second</td><td>▁</td></tr><tr><td>train/epoch</td><td>▁▁▁▁▂▂▂▂▂▃▃▃▃▃▃▄▄▄▄▄▅▅▅▅▅▅▆▆▆▆▆▇▇▇▇▇▇███</td></tr><tr><td>train/global_step</td><td>▁▁▁▁▂▂▂▂▂▃▃▃▃▃▃▄▄▄▄▄▅▅▅▅▅▅▆▆▆▆▆▇▇▇▇▇▇███</td></tr><tr><td>train/grad_norm</td><td>▁▅▃▃▅▂▄▄▄▄▃▆▅▅▃▅▅▅▃▆▄▅▃▄▄▅▆▆▄▅█▄▃▅▄▇▆▇▄▇</td></tr><tr><td>train/learning_rate</td><td>▂▅████▇▇▇▇▇▆▆▆▆▆▅▅▅▅▅▄▄▄▄▄▄▃▃▃▃▃▂▂▂▂▂▁▁▁</td></tr><tr><td>train/loss</td><td>█▆▆▅▄▄▄▄▄▄▃▃▃▃▂▃▃▂▂▂▂▂▂▂▂▂▂▁▂▂▁▁▁▁▁▁▁▁▁▁</td></tr><tr><td>val/accuracy</td><td>▁</td></tr><tr><td>val/f1_macro</td><td>▁</td></tr><tr><td>val/precision_macro</td><td>▁</td></tr><tr><td>val/recall_macro</td><td>▁</td></tr></table><br/></div><div class=\"wandb-col\"><h3>Run summary:</h3><br/><table class=\"wandb\"><tr><td>best_checkpoint_path</td><td>/content/drive/MyDri...</td></tr><tr><td>eval/accuracy</td><td>0.77235</td></tr><tr><td>eval/f1_macro</td><td>0.7785</td></tr><tr><td>eval/loss</td><td>0.89479</td></tr><tr><td>eval/precision_macro</td><td>0.78005</td></tr><tr><td>eval/recall_macro</td><td>0.77872</td></tr><tr><td>eval/runtime</td><td>2.915</td></tr><tr><td>eval/samples_per_second</td><td>1412.03</td></tr><tr><td>eval/steps_per_second</td><td>44.255</td></tr><tr><td>test/accuracy</td><td>0.77235</td></tr><tr><td>test/f1_macro</td><td>0.7785</td></tr><tr><td>test/loss</td><td>0.89479</td></tr><tr><td>test/precision_macro</td><td>0.78005</td></tr><tr><td>test/recall_macro</td><td>0.77872</td></tr><tr><td>test/runtime</td><td>3.0612</td></tr><tr><td>test/samples_per_second</td><td>1344.575</td></tr><tr><td>test/steps_per_second</td><td>42.14</td></tr><tr><td>total_flos</td><td>1.742423840879784e+16</td></tr><tr><td>train/epoch</td><td>12.0</td></tr><tr><td>train/global_step</td><td>13896</td></tr><tr><td>train/grad_norm</td><td>21.68695</td></tr><tr><td>train/learning_rate</td><td>0.0</td></tr><tr><td>train/loss</td><td>0.1676</td></tr><tr><td>train_loss</td><td>0.47107</td></tr><tr><td>train_runtime</td><td>904.3809</td></tr><tr><td>train_samples_per_second</td><td>491.461</td></tr><tr><td>train_steps_per_second</td><td>15.365</td></tr><tr><td>val/accuracy</td><td>0.77235</td></tr><tr><td>val/f1_macro</td><td>0.7785</td></tr><tr><td>val/precision_macro</td><td>0.78005</td></tr><tr><td>val/recall_macro</td><td>0.77872</td></tr></table><br/></div></div>"
      ],
      "text/plain": [
       "<IPython.core.display.HTML object>"
      ]
     },
     "metadata": {},
     "output_type": "display_data"
    },
    {
     "data": {
      "text/html": [
       " View run <strong style=\"color:#cdcd00\">roberta-base_trainer_trial_7</strong> at: <a href='https://wandb.ai/gal2361-tel-aviv-university/adv-dl2-p1/runs/fxl6ux46' target=\"_blank\">https://wandb.ai/gal2361-tel-aviv-university/adv-dl2-p1/runs/fxl6ux46</a><br/> View project at: <a href='https://wandb.ai/gal2361-tel-aviv-university/adv-dl2-p1' target=\"_blank\">https://wandb.ai/gal2361-tel-aviv-university/adv-dl2-p1</a><br/>Synced 5 W&B file(s), 1 media file(s), 1 artifact file(s) and 0 other file(s)"
      ],
      "text/plain": [
       "<IPython.core.display.HTML object>"
      ]
     },
     "metadata": {},
     "output_type": "display_data"
    },
    {
     "data": {
      "text/html": [
       "Find logs at: <code>./wandb/run-20250815_003939-fxl6ux46/logs</code>"
      ],
      "text/plain": [
       "<IPython.core.display.HTML object>"
      ]
     },
     "metadata": {},
     "output_type": "display_data"
    },
    {
     "data": {
      "text/html": [
       "The new W&B backend becomes opt-out in version 0.18.0; try it out with `wandb.require(\"core\")`! See https://wandb.me/wandb-core for more information."
      ],
      "text/plain": [
       "<IPython.core.display.HTML object>"
      ]
     },
     "metadata": {},
     "output_type": "display_data"
    },
    {
     "name": "stdout",
     "output_type": "stream",
     "text": [
      "[I 2025-08-15 00:55:05,309] Trial 7 finished with value: 0.7785041186605548 and parameters: {'lr': 2.610632474755213e-05, 'weight_decay': 0.0006673848938398822, 'batch_size': 32, 'unfreeze_last_k': 6}. Best is trial 4 with value: 0.8327161420298526.\n"
     ]
    },
    {
     "data": {
      "text/html": [
       "wandb version 0.21.1 is available!  To upgrade, please run:\n",
       " $ pip install wandb --upgrade"
      ],
      "text/plain": [
       "<IPython.core.display.HTML object>"
      ]
     },
     "metadata": {},
     "output_type": "display_data"
    },
    {
     "data": {
      "text/html": [
       "Tracking run with wandb version 0.17.5"
      ],
      "text/plain": [
       "<IPython.core.display.HTML object>"
      ]
     },
     "metadata": {},
     "output_type": "display_data"
    },
    {
     "data": {
      "text/html": [
       "Run data is saved locally in <code>/content/wandb/run-20250815_005505-38b0vevo</code>"
      ],
      "text/plain": [
       "<IPython.core.display.HTML object>"
      ]
     },
     "metadata": {},
     "output_type": "display_data"
    },
    {
     "data": {
      "text/html": [
       "Syncing run <strong><a href='https://wandb.ai/gal2361-tel-aviv-university/adv-dl2-p1/runs/38b0vevo' target=\"_blank\">roberta-base_trainer_trial_8</a></strong> to <a href='https://wandb.ai/gal2361-tel-aviv-university/adv-dl2-p1' target=\"_blank\">Weights & Biases</a> (<a href='https://wandb.me/run' target=\"_blank\">docs</a>)<br/>"
      ],
      "text/plain": [
       "<IPython.core.display.HTML object>"
      ]
     },
     "metadata": {},
     "output_type": "display_data"
    },
    {
     "data": {
      "text/html": [
       " View project at <a href='https://wandb.ai/gal2361-tel-aviv-university/adv-dl2-p1' target=\"_blank\">https://wandb.ai/gal2361-tel-aviv-university/adv-dl2-p1</a>"
      ],
      "text/plain": [
       "<IPython.core.display.HTML object>"
      ]
     },
     "metadata": {},
     "output_type": "display_data"
    },
    {
     "data": {
      "text/html": [
       " View run at <a href='https://wandb.ai/gal2361-tel-aviv-university/adv-dl2-p1/runs/38b0vevo' target=\"_blank\">https://wandb.ai/gal2361-tel-aviv-university/adv-dl2-p1/runs/38b0vevo</a>"
      ],
      "text/plain": [
       "<IPython.core.display.HTML object>"
      ]
     },
     "metadata": {},
     "output_type": "display_data"
    },
    {
     "name": "stderr",
     "output_type": "stream",
     "text": [
      "Some weights of RobertaForSequenceClassification were not initialized from the model checkpoint at roberta-base and are newly initialized: ['classifier.dense.bias', 'classifier.dense.weight', 'classifier.out_proj.bias', 'classifier.out_proj.weight']\n",
      "You should probably TRAIN this model on a down-stream task to be able to use it for predictions and inference.\n",
      "/usr/local/lib/python3.11/dist-packages/transformers/training_args.py:1525: FutureWarning: `evaluation_strategy` is deprecated and will be removed in version 4.46 of 🤗 Transformers. Use `eval_strategy` instead\n",
      "  warnings.warn(\n",
      "/usr/local/lib/python3.11/dist-packages/accelerate/accelerator.py:494: FutureWarning: `torch.cuda.amp.GradScaler(args...)` is deprecated. Please use `torch.amp.GradScaler('cuda', args...)` instead.\n",
      "  self.scaler = torch.cuda.amp.GradScaler(**kwargs)\n"
     ]
    },
    {
     "data": {
      "text/html": [
       "\n",
       "    <div>\n",
       "      \n",
       "      <progress value='111120' max='111120' style='width:300px; height:20px; vertical-align: middle;'></progress>\n",
       "      [111120/111120 2:12:06, Epoch 12/12]\n",
       "    </div>\n",
       "    <table border=\"1\" class=\"dataframe\">\n",
       "  <thead>\n",
       " <tr style=\"text-align: left;\">\n",
       "      <th>Epoch</th>\n",
       "      <th>Training Loss</th>\n",
       "      <th>Validation Loss</th>\n",
       "      <th>Accuracy</th>\n",
       "      <th>Precision Macro</th>\n",
       "      <th>Recall Macro</th>\n",
       "      <th>F1 Macro</th>\n",
       "    </tr>\n",
       "  </thead>\n",
       "  <tbody>\n",
       "    <tr>\n",
       "      <td>1</td>\n",
       "      <td>1.099100</td>\n",
       "      <td>1.139881</td>\n",
       "      <td>0.516035</td>\n",
       "      <td>0.544789</td>\n",
       "      <td>0.527688</td>\n",
       "      <td>0.528454</td>\n",
       "    </tr>\n",
       "    <tr>\n",
       "      <td>2</td>\n",
       "      <td>0.929400</td>\n",
       "      <td>0.955267</td>\n",
       "      <td>0.611516</td>\n",
       "      <td>0.640953</td>\n",
       "      <td>0.625935</td>\n",
       "      <td>0.625530</td>\n",
       "    </tr>\n",
       "    <tr>\n",
       "      <td>3</td>\n",
       "      <td>0.918100</td>\n",
       "      <td>0.883455</td>\n",
       "      <td>0.650875</td>\n",
       "      <td>0.667129</td>\n",
       "      <td>0.662939</td>\n",
       "      <td>0.664017</td>\n",
       "    </tr>\n",
       "    <tr>\n",
       "      <td>4</td>\n",
       "      <td>0.870000</td>\n",
       "      <td>0.827566</td>\n",
       "      <td>0.682216</td>\n",
       "      <td>0.699130</td>\n",
       "      <td>0.692230</td>\n",
       "      <td>0.693861</td>\n",
       "    </tr>\n",
       "    <tr>\n",
       "      <td>5</td>\n",
       "      <td>0.769100</td>\n",
       "      <td>0.822723</td>\n",
       "      <td>0.694606</td>\n",
       "      <td>0.706135</td>\n",
       "      <td>0.707371</td>\n",
       "      <td>0.704896</td>\n",
       "    </tr>\n",
       "    <tr>\n",
       "      <td>6</td>\n",
       "      <td>0.567000</td>\n",
       "      <td>0.824898</td>\n",
       "      <td>0.713071</td>\n",
       "      <td>0.726286</td>\n",
       "      <td>0.721222</td>\n",
       "      <td>0.722429</td>\n",
       "    </tr>\n",
       "    <tr>\n",
       "      <td>7</td>\n",
       "      <td>0.634600</td>\n",
       "      <td>0.829690</td>\n",
       "      <td>0.712828</td>\n",
       "      <td>0.726400</td>\n",
       "      <td>0.723155</td>\n",
       "      <td>0.721668</td>\n",
       "    </tr>\n",
       "    <tr>\n",
       "      <td>8</td>\n",
       "      <td>0.602000</td>\n",
       "      <td>0.879458</td>\n",
       "      <td>0.710155</td>\n",
       "      <td>0.718267</td>\n",
       "      <td>0.728095</td>\n",
       "      <td>0.719649</td>\n",
       "    </tr>\n",
       "    <tr>\n",
       "      <td>9</td>\n",
       "      <td>0.649300</td>\n",
       "      <td>0.857505</td>\n",
       "      <td>0.728134</td>\n",
       "      <td>0.738970</td>\n",
       "      <td>0.735374</td>\n",
       "      <td>0.736339</td>\n",
       "    </tr>\n",
       "    <tr>\n",
       "      <td>10</td>\n",
       "      <td>0.831200</td>\n",
       "      <td>0.929778</td>\n",
       "      <td>0.722303</td>\n",
       "      <td>0.731385</td>\n",
       "      <td>0.738010</td>\n",
       "      <td>0.730637</td>\n",
       "    </tr>\n",
       "    <tr>\n",
       "      <td>11</td>\n",
       "      <td>0.740400</td>\n",
       "      <td>0.904736</td>\n",
       "      <td>0.728377</td>\n",
       "      <td>0.734627</td>\n",
       "      <td>0.742127</td>\n",
       "      <td>0.736260</td>\n",
       "    </tr>\n",
       "    <tr>\n",
       "      <td>12</td>\n",
       "      <td>0.717200</td>\n",
       "      <td>0.924920</td>\n",
       "      <td>0.729349</td>\n",
       "      <td>0.737128</td>\n",
       "      <td>0.742312</td>\n",
       "      <td>0.737409</td>\n",
       "    </tr>\n",
       "  </tbody>\n",
       "</table><p>"
      ],
      "text/plain": [
       "<IPython.core.display.HTML object>"
      ]
     },
     "metadata": {},
     "output_type": "display_data"
    },
    {
     "data": {
      "text/html": [],
      "text/plain": [
       "<IPython.core.display.HTML object>"
      ]
     },
     "metadata": {},
     "output_type": "display_data"
    },
    {
     "data": {
      "application/vnd.jupyter.widget-view+json": {
       "model_id": "bcb14d8fd9214a5ea39da677ecec8f88",
       "version_major": 2,
       "version_minor": 0
      },
      "text/plain": [
       "VBox(children=(Label(value='0.005 MB of 0.005 MB uploaded\\r'), FloatProgress(value=1.0, max=1.0)))"
      ]
     },
     "metadata": {},
     "output_type": "display_data"
    },
    {
     "data": {
      "text/html": [
       "<style>\n",
       "    table.wandb td:nth-child(1) { padding: 0 10px; text-align: left ; width: auto;} td:nth-child(2) {text-align: left ; width: 100%}\n",
       "    .wandb-row { display: flex; flex-direction: row; flex-wrap: wrap; justify-content: flex-start; width: 100% }\n",
       "    .wandb-col { display: flex; flex-direction: column; flex-basis: 100%; flex: 1; padding: 10px; }\n",
       "    </style>\n",
       "<div class=\"wandb-row\"><div class=\"wandb-col\"><h3>Run history:</h3><br/><table class=\"wandb\"><tr><td>eval/accuracy</td><td>▁▄▅▆▇▇▇▇█████</td></tr><tr><td>eval/f1_macro</td><td>▁▄▆▇▇▇▇▇█████</td></tr><tr><td>eval/loss</td><td>█▄▂▁▁▁▁▂▂▃▃▃▃</td></tr><tr><td>eval/precision_macro</td><td>▁▄▅▇▇██▇█████</td></tr><tr><td>eval/recall_macro</td><td>▁▄▅▆▇▇▇██████</td></tr><tr><td>eval/runtime</td><td>▇▅█▅▂█▂▁▁▁▂▃▅</td></tr><tr><td>eval/samples_per_second</td><td>▁▄▁▄▇▁▇███▇▆▄</td></tr><tr><td>eval/steps_per_second</td><td>▁▄▁▄▇▁▇███▇▆▄</td></tr><tr><td>test/accuracy</td><td>▁</td></tr><tr><td>test/f1_macro</td><td>▁</td></tr><tr><td>test/loss</td><td>▁</td></tr><tr><td>test/precision_macro</td><td>▁</td></tr><tr><td>test/recall_macro</td><td>▁</td></tr><tr><td>test/runtime</td><td>▁</td></tr><tr><td>test/samples_per_second</td><td>▁</td></tr><tr><td>test/steps_per_second</td><td>▁</td></tr><tr><td>train/epoch</td><td>▁▁▁▁▂▂▂▂▂▃▃▃▃▃▃▄▄▄▄▄▅▅▅▅▅▅▆▆▆▆▆▇▇▇▇▇▇███</td></tr><tr><td>train/global_step</td><td>▁▁▁▁▂▂▂▂▂▃▃▃▃▃▃▄▄▄▄▄▅▅▅▅▅▅▆▆▆▆▆▇▇▇▇▇▇███</td></tr><tr><td>train/grad_norm</td><td>▁▂▂▁▃▂▂▂▃▃▂▂▂▂▂▃▃▂▂▂▄▂▅▃▆▂▅▅▂▂▂▁▆▅▄▁▄█▁▁</td></tr><tr><td>train/learning_rate</td><td>▂▅████▇▇▇▇▇▆▆▆▆▆▅▅▅▅▅▅▄▄▄▄▄▃▃▃▃▃▂▂▂▂▂▁▁▁</td></tr><tr><td>train/loss</td><td>█▇▆▆▅▄▄▄▄▄▃▅▄▂▃▃▃▃▄▃▃▂▃▃▂▂▂▂▃▂▂▂▃▂▂▃▃▂▁▂</td></tr><tr><td>val/accuracy</td><td>▁</td></tr><tr><td>val/f1_macro</td><td>▁</td></tr><tr><td>val/precision_macro</td><td>▁</td></tr><tr><td>val/recall_macro</td><td>▁</td></tr></table><br/></div><div class=\"wandb-col\"><h3>Run summary:</h3><br/><table class=\"wandb\"><tr><td>best_checkpoint_path</td><td>/content/drive/MyDri...</td></tr><tr><td>eval/accuracy</td><td>0.72935</td></tr><tr><td>eval/f1_macro</td><td>0.73741</td></tr><tr><td>eval/loss</td><td>0.92492</td></tr><tr><td>eval/precision_macro</td><td>0.73713</td></tr><tr><td>eval/recall_macro</td><td>0.74231</td></tr><tr><td>eval/runtime</td><td>17.2946</td></tr><tr><td>eval/samples_per_second</td><td>237.993</td></tr><tr><td>eval/steps_per_second</td><td>59.498</td></tr><tr><td>test/accuracy</td><td>0.72935</td></tr><tr><td>test/f1_macro</td><td>0.73741</td></tr><tr><td>test/loss</td><td>0.92492</td></tr><tr><td>test/precision_macro</td><td>0.73713</td></tr><tr><td>test/recall_macro</td><td>0.74231</td></tr><tr><td>test/runtime</td><td>18.8024</td></tr><tr><td>test/samples_per_second</td><td>218.908</td></tr><tr><td>test/steps_per_second</td><td>54.727</td></tr><tr><td>total_flos</td><td>1.3802565181736016e+16</td></tr><tr><td>train/epoch</td><td>12.0</td></tr><tr><td>train/global_step</td><td>111120</td></tr><tr><td>train/grad_norm</td><td>115.35234</td></tr><tr><td>train/learning_rate</td><td>0.0</td></tr><tr><td>train/loss</td><td>0.7172</td></tr><tr><td>train_loss</td><td>0.79874</td></tr><tr><td>train_runtime</td><td>7926.8164</td></tr><tr><td>train_samples_per_second</td><td>56.071</td></tr><tr><td>train_steps_per_second</td><td>14.018</td></tr><tr><td>val/accuracy</td><td>0.72935</td></tr><tr><td>val/f1_macro</td><td>0.73741</td></tr><tr><td>val/precision_macro</td><td>0.73713</td></tr><tr><td>val/recall_macro</td><td>0.74231</td></tr></table><br/></div></div>"
      ],
      "text/plain": [
       "<IPython.core.display.HTML object>"
      ]
     },
     "metadata": {},
     "output_type": "display_data"
    },
    {
     "data": {
      "text/html": [
       " View run <strong style=\"color:#cdcd00\">roberta-base_trainer_trial_8</strong> at: <a href='https://wandb.ai/gal2361-tel-aviv-university/adv-dl2-p1/runs/38b0vevo' target=\"_blank\">https://wandb.ai/gal2361-tel-aviv-university/adv-dl2-p1/runs/38b0vevo</a><br/> View project at: <a href='https://wandb.ai/gal2361-tel-aviv-university/adv-dl2-p1' target=\"_blank\">https://wandb.ai/gal2361-tel-aviv-university/adv-dl2-p1</a><br/>Synced 5 W&B file(s), 1 media file(s), 1 artifact file(s) and 0 other file(s)"
      ],
      "text/plain": [
       "<IPython.core.display.HTML object>"
      ]
     },
     "metadata": {},
     "output_type": "display_data"
    },
    {
     "data": {
      "text/html": [
       "Find logs at: <code>./wandb/run-20250815_005505-38b0vevo/logs</code>"
      ],
      "text/plain": [
       "<IPython.core.display.HTML object>"
      ]
     },
     "metadata": {},
     "output_type": "display_data"
    },
    {
     "data": {
      "text/html": [
       "The new W&B backend becomes opt-out in version 0.18.0; try it out with `wandb.require(\"core\")`! See https://wandb.me/wandb-core for more information."
      ],
      "text/plain": [
       "<IPython.core.display.HTML object>"
      ]
     },
     "metadata": {},
     "output_type": "display_data"
    },
    {
     "name": "stdout",
     "output_type": "stream",
     "text": [
      "[I 2025-08-15 03:08:04,260] Trial 8 finished with value: 0.7374090216508955 and parameters: {'lr': 1.7113059157800417e-06, 'weight_decay': 0.001555166316467969, 'batch_size': 4, 'unfreeze_last_k': 9}. Best is trial 4 with value: 0.8327161420298526.\n"
     ]
    },
    {
     "data": {
      "text/html": [
       "wandb version 0.21.1 is available!  To upgrade, please run:\n",
       " $ pip install wandb --upgrade"
      ],
      "text/plain": [
       "<IPython.core.display.HTML object>"
      ]
     },
     "metadata": {},
     "output_type": "display_data"
    },
    {
     "data": {
      "text/html": [
       "Tracking run with wandb version 0.17.5"
      ],
      "text/plain": [
       "<IPython.core.display.HTML object>"
      ]
     },
     "metadata": {},
     "output_type": "display_data"
    },
    {
     "data": {
      "text/html": [
       "Run data is saved locally in <code>/content/wandb/run-20250815_030804-b14ccf4z</code>"
      ],
      "text/plain": [
       "<IPython.core.display.HTML object>"
      ]
     },
     "metadata": {},
     "output_type": "display_data"
    },
    {
     "data": {
      "text/html": [
       "Syncing run <strong><a href='https://wandb.ai/gal2361-tel-aviv-university/adv-dl2-p1/runs/b14ccf4z' target=\"_blank\">roberta-base_trainer_trial_9</a></strong> to <a href='https://wandb.ai/gal2361-tel-aviv-university/adv-dl2-p1' target=\"_blank\">Weights & Biases</a> (<a href='https://wandb.me/run' target=\"_blank\">docs</a>)<br/>"
      ],
      "text/plain": [
       "<IPython.core.display.HTML object>"
      ]
     },
     "metadata": {},
     "output_type": "display_data"
    },
    {
     "data": {
      "text/html": [
       " View project at <a href='https://wandb.ai/gal2361-tel-aviv-university/adv-dl2-p1' target=\"_blank\">https://wandb.ai/gal2361-tel-aviv-university/adv-dl2-p1</a>"
      ],
      "text/plain": [
       "<IPython.core.display.HTML object>"
      ]
     },
     "metadata": {},
     "output_type": "display_data"
    },
    {
     "data": {
      "text/html": [
       " View run at <a href='https://wandb.ai/gal2361-tel-aviv-university/adv-dl2-p1/runs/b14ccf4z' target=\"_blank\">https://wandb.ai/gal2361-tel-aviv-university/adv-dl2-p1/runs/b14ccf4z</a>"
      ],
      "text/plain": [
       "<IPython.core.display.HTML object>"
      ]
     },
     "metadata": {},
     "output_type": "display_data"
    },
    {
     "name": "stderr",
     "output_type": "stream",
     "text": [
      "Some weights of RobertaForSequenceClassification were not initialized from the model checkpoint at roberta-base and are newly initialized: ['classifier.dense.bias', 'classifier.dense.weight', 'classifier.out_proj.bias', 'classifier.out_proj.weight']\n",
      "You should probably TRAIN this model on a down-stream task to be able to use it for predictions and inference.\n",
      "/usr/local/lib/python3.11/dist-packages/transformers/training_args.py:1525: FutureWarning: `evaluation_strategy` is deprecated and will be removed in version 4.46 of 🤗 Transformers. Use `eval_strategy` instead\n",
      "  warnings.warn(\n",
      "/usr/local/lib/python3.11/dist-packages/accelerate/accelerator.py:494: FutureWarning: `torch.cuda.amp.GradScaler(args...)` is deprecated. Please use `torch.amp.GradScaler('cuda', args...)` instead.\n",
      "  self.scaler = torch.cuda.amp.GradScaler(**kwargs)\n"
     ]
    },
    {
     "data": {
      "text/html": [
       "\n",
       "    <div>\n",
       "      \n",
       "      <progress value='111120' max='111120' style='width:300px; height:20px; vertical-align: middle;'></progress>\n",
       "      [111120/111120 1:43:06, Epoch 12/12]\n",
       "    </div>\n",
       "    <table border=\"1\" class=\"dataframe\">\n",
       "  <thead>\n",
       " <tr style=\"text-align: left;\">\n",
       "      <th>Epoch</th>\n",
       "      <th>Training Loss</th>\n",
       "      <th>Validation Loss</th>\n",
       "      <th>Accuracy</th>\n",
       "      <th>Precision Macro</th>\n",
       "      <th>Recall Macro</th>\n",
       "      <th>F1 Macro</th>\n",
       "    </tr>\n",
       "  </thead>\n",
       "  <tbody>\n",
       "    <tr>\n",
       "      <td>1</td>\n",
       "      <td>1.031100</td>\n",
       "      <td>1.054422</td>\n",
       "      <td>0.601798</td>\n",
       "      <td>0.653249</td>\n",
       "      <td>0.590407</td>\n",
       "      <td>0.601471</td>\n",
       "    </tr>\n",
       "    <tr>\n",
       "      <td>2</td>\n",
       "      <td>0.618700</td>\n",
       "      <td>0.871067</td>\n",
       "      <td>0.677114</td>\n",
       "      <td>0.692597</td>\n",
       "      <td>0.697299</td>\n",
       "      <td>0.688367</td>\n",
       "    </tr>\n",
       "    <tr>\n",
       "      <td>3</td>\n",
       "      <td>0.763500</td>\n",
       "      <td>0.922238</td>\n",
       "      <td>0.713071</td>\n",
       "      <td>0.728210</td>\n",
       "      <td>0.724411</td>\n",
       "      <td>0.722532</td>\n",
       "    </tr>\n",
       "    <tr>\n",
       "      <td>4</td>\n",
       "      <td>0.839000</td>\n",
       "      <td>0.913123</td>\n",
       "      <td>0.738824</td>\n",
       "      <td>0.753482</td>\n",
       "      <td>0.744495</td>\n",
       "      <td>0.746804</td>\n",
       "    </tr>\n",
       "    <tr>\n",
       "      <td>5</td>\n",
       "      <td>0.630200</td>\n",
       "      <td>1.049894</td>\n",
       "      <td>0.747328</td>\n",
       "      <td>0.754647</td>\n",
       "      <td>0.759797</td>\n",
       "      <td>0.753856</td>\n",
       "    </tr>\n",
       "    <tr>\n",
       "      <td>6</td>\n",
       "      <td>0.478400</td>\n",
       "      <td>1.128367</td>\n",
       "      <td>0.775996</td>\n",
       "      <td>0.790187</td>\n",
       "      <td>0.775669</td>\n",
       "      <td>0.781703</td>\n",
       "    </tr>\n",
       "    <tr>\n",
       "      <td>7</td>\n",
       "      <td>0.581500</td>\n",
       "      <td>1.340178</td>\n",
       "      <td>0.746356</td>\n",
       "      <td>0.756416</td>\n",
       "      <td>0.762277</td>\n",
       "      <td>0.754238</td>\n",
       "    </tr>\n",
       "    <tr>\n",
       "      <td>8</td>\n",
       "      <td>0.717100</td>\n",
       "      <td>1.419767</td>\n",
       "      <td>0.767250</td>\n",
       "      <td>0.773014</td>\n",
       "      <td>0.776471</td>\n",
       "      <td>0.773564</td>\n",
       "    </tr>\n",
       "    <tr>\n",
       "      <td>9</td>\n",
       "      <td>0.523800</td>\n",
       "      <td>1.395127</td>\n",
       "      <td>0.776239</td>\n",
       "      <td>0.781394</td>\n",
       "      <td>0.785156</td>\n",
       "      <td>0.782481</td>\n",
       "    </tr>\n",
       "    <tr>\n",
       "      <td>10</td>\n",
       "      <td>0.298800</td>\n",
       "      <td>1.568707</td>\n",
       "      <td>0.767979</td>\n",
       "      <td>0.772925</td>\n",
       "      <td>0.779721</td>\n",
       "      <td>0.774306</td>\n",
       "    </tr>\n",
       "    <tr>\n",
       "      <td>11</td>\n",
       "      <td>0.472100</td>\n",
       "      <td>1.578375</td>\n",
       "      <td>0.775996</td>\n",
       "      <td>0.780443</td>\n",
       "      <td>0.785719</td>\n",
       "      <td>0.782127</td>\n",
       "    </tr>\n",
       "    <tr>\n",
       "      <td>12</td>\n",
       "      <td>0.422100</td>\n",
       "      <td>1.621815</td>\n",
       "      <td>0.773081</td>\n",
       "      <td>0.778663</td>\n",
       "      <td>0.783550</td>\n",
       "      <td>0.779507</td>\n",
       "    </tr>\n",
       "  </tbody>\n",
       "</table><p>"
      ],
      "text/plain": [
       "<IPython.core.display.HTML object>"
      ]
     },
     "metadata": {},
     "output_type": "display_data"
    },
    {
     "data": {
      "text/html": [],
      "text/plain": [
       "<IPython.core.display.HTML object>"
      ]
     },
     "metadata": {},
     "output_type": "display_data"
    },
    {
     "data": {
      "application/vnd.jupyter.widget-view+json": {
       "model_id": "2f7849df28e54d2bbafce8ac7a197683",
       "version_major": 2,
       "version_minor": 0
      },
      "text/plain": [
       "VBox(children=(Label(value='0.005 MB of 0.005 MB uploaded\\r'), FloatProgress(value=1.0, max=1.0)))"
      ]
     },
     "metadata": {},
     "output_type": "display_data"
    },
    {
     "data": {
      "text/html": [
       "<style>\n",
       "    table.wandb td:nth-child(1) { padding: 0 10px; text-align: left ; width: auto;} td:nth-child(2) {text-align: left ; width: 100%}\n",
       "    .wandb-row { display: flex; flex-direction: row; flex-wrap: wrap; justify-content: flex-start; width: 100% }\n",
       "    .wandb-col { display: flex; flex-direction: column; flex-basis: 100%; flex: 1; padding: 10px; }\n",
       "    </style>\n",
       "<div class=\"wandb-row\"><div class=\"wandb-col\"><h3>Run history:</h3><br/><table class=\"wandb\"><tr><td>eval/accuracy</td><td>▁▄▅▆▇█▇██████</td></tr><tr><td>eval/f1_macro</td><td>▁▄▆▇▇█▇██████</td></tr><tr><td>eval/loss</td><td>▃▁▁▁▃▃▅▆▆███▆</td></tr><tr><td>eval/precision_macro</td><td>▁▃▅▆▆█▆▇█▇█▇█</td></tr><tr><td>eval/recall_macro</td><td>▁▅▆▇▇█▇██████</td></tr><tr><td>eval/runtime</td><td>▁▃▃▂▂▄██▇▇▇▇▇</td></tr><tr><td>eval/samples_per_second</td><td>█▆▆▇▆▅▁▁▂▂▂▂▂</td></tr><tr><td>eval/steps_per_second</td><td>█▆▆▇▆▅▁▁▂▂▂▂▂</td></tr><tr><td>test/accuracy</td><td>▁</td></tr><tr><td>test/f1_macro</td><td>▁</td></tr><tr><td>test/loss</td><td>▁</td></tr><tr><td>test/precision_macro</td><td>▁</td></tr><tr><td>test/recall_macro</td><td>▁</td></tr><tr><td>test/runtime</td><td>▁</td></tr><tr><td>test/samples_per_second</td><td>▁</td></tr><tr><td>test/steps_per_second</td><td>▁</td></tr><tr><td>train/epoch</td><td>▁▁▁▁▂▂▂▂▂▃▃▃▃▃▃▄▄▄▄▄▅▅▅▅▅▅▆▆▆▆▆▇▇▇▇▇▇███</td></tr><tr><td>train/global_step</td><td>▁▁▁▁▂▂▂▂▂▃▃▃▃▃▃▄▄▄▄▄▅▅▅▅▅▅▆▆▆▆▆▇▇▇▇▇▇███</td></tr><tr><td>train/grad_norm</td><td>▁▂▁▁▁▂▂▁▂▁▁▁▁▂▁▄▂▃▁▂▁▂▁▁▁▃▅▁▁▃▂▄▁▂▃▁▁█▁▁</td></tr><tr><td>train/learning_rate</td><td>▂▅████▇▇▇▇▇▆▆▆▆▆▅▅▅▅▅▅▄▄▄▄▄▃▃▃▃▃▂▂▂▂▂▁▁▁</td></tr><tr><td>train/loss</td><td>█▆▆▅▅▅▄▅▄▄▄▄▄▃▃▄▄▃▄▄▄▃▃▂▂▃▃▂▄▃▂▂▃▃▂▂▁▂▁▂</td></tr><tr><td>val/accuracy</td><td>▁</td></tr><tr><td>val/f1_macro</td><td>▁</td></tr><tr><td>val/precision_macro</td><td>▁</td></tr><tr><td>val/recall_macro</td><td>▁</td></tr></table><br/></div><div class=\"wandb-col\"><h3>Run summary:</h3><br/><table class=\"wandb\"><tr><td>best_checkpoint_path</td><td>/content/drive/MyDri...</td></tr><tr><td>eval/accuracy</td><td>0.77624</td></tr><tr><td>eval/f1_macro</td><td>0.78248</td></tr><tr><td>eval/loss</td><td>1.39513</td></tr><tr><td>eval/precision_macro</td><td>0.78139</td></tr><tr><td>eval/recall_macro</td><td>0.78516</td></tr><tr><td>eval/runtime</td><td>17.7644</td></tr><tr><td>eval/samples_per_second</td><td>231.699</td></tr><tr><td>eval/steps_per_second</td><td>57.925</td></tr><tr><td>test/accuracy</td><td>0.77624</td></tr><tr><td>test/f1_macro</td><td>0.78248</td></tr><tr><td>test/loss</td><td>1.39513</td></tr><tr><td>test/precision_macro</td><td>0.78139</td></tr><tr><td>test/recall_macro</td><td>0.78516</td></tr><tr><td>test/runtime</td><td>19.3225</td></tr><tr><td>test/samples_per_second</td><td>213.016</td></tr><tr><td>test/steps_per_second</td><td>53.254</td></tr><tr><td>total_flos</td><td>1.3802565181736016e+16</td></tr><tr><td>train/epoch</td><td>12.0</td></tr><tr><td>train/global_step</td><td>111120</td></tr><tr><td>train/grad_norm</td><td>1.19973</td></tr><tr><td>train/learning_rate</td><td>0.0</td></tr><tr><td>train/loss</td><td>0.4221</td></tr><tr><td>train_loss</td><td>0.59359</td></tr><tr><td>train_runtime</td><td>6186.3219</td></tr><tr><td>train_samples_per_second</td><td>71.847</td></tr><tr><td>train_steps_per_second</td><td>17.962</td></tr><tr><td>val/accuracy</td><td>0.77624</td></tr><tr><td>val/f1_macro</td><td>0.78248</td></tr><tr><td>val/precision_macro</td><td>0.78139</td></tr><tr><td>val/recall_macro</td><td>0.78516</td></tr></table><br/></div></div>"
      ],
      "text/plain": [
       "<IPython.core.display.HTML object>"
      ]
     },
     "metadata": {},
     "output_type": "display_data"
    },
    {
     "data": {
      "text/html": [
       " View run <strong style=\"color:#cdcd00\">roberta-base_trainer_trial_9</strong> at: <a href='https://wandb.ai/gal2361-tel-aviv-university/adv-dl2-p1/runs/b14ccf4z' target=\"_blank\">https://wandb.ai/gal2361-tel-aviv-university/adv-dl2-p1/runs/b14ccf4z</a><br/> View project at: <a href='https://wandb.ai/gal2361-tel-aviv-university/adv-dl2-p1' target=\"_blank\">https://wandb.ai/gal2361-tel-aviv-university/adv-dl2-p1</a><br/>Synced 5 W&B file(s), 1 media file(s), 1 artifact file(s) and 0 other file(s)"
      ],
      "text/plain": [
       "<IPython.core.display.HTML object>"
      ]
     },
     "metadata": {},
     "output_type": "display_data"
    },
    {
     "data": {
      "text/html": [
       "Find logs at: <code>./wandb/run-20250815_030804-b14ccf4z/logs</code>"
      ],
      "text/plain": [
       "<IPython.core.display.HTML object>"
      ]
     },
     "metadata": {},
     "output_type": "display_data"
    },
    {
     "data": {
      "text/html": [
       "The new W&B backend becomes opt-out in version 0.18.0; try it out with `wandb.require(\"core\")`! See https://wandb.me/wandb-core for more information."
      ],
      "text/plain": [
       "<IPython.core.display.HTML object>"
      ]
     },
     "metadata": {},
     "output_type": "display_data"
    },
    {
     "name": "stdout",
     "output_type": "stream",
     "text": [
      "[I 2025-08-15 04:52:02,621] Trial 9 finished with value: 0.7824809548211282 and parameters: {'lr': 1.1084018426692404e-05, 'weight_decay': 2.474978389432081e-06, 'batch_size': 4, 'unfreeze_last_k': 6}. Best is trial 4 with value: 0.8327161420298526.\n"
     ]
    },
    {
     "data": {
      "text/html": [
       "wandb version 0.21.1 is available!  To upgrade, please run:\n",
       " $ pip install wandb --upgrade"
      ],
      "text/plain": [
       "<IPython.core.display.HTML object>"
      ]
     },
     "metadata": {},
     "output_type": "display_data"
    },
    {
     "data": {
      "text/html": [
       "Tracking run with wandb version 0.17.5"
      ],
      "text/plain": [
       "<IPython.core.display.HTML object>"
      ]
     },
     "metadata": {},
     "output_type": "display_data"
    },
    {
     "data": {
      "text/html": [
       "Run data is saved locally in <code>/content/wandb/run-20250815_045202-z0g78i14</code>"
      ],
      "text/plain": [
       "<IPython.core.display.HTML object>"
      ]
     },
     "metadata": {},
     "output_type": "display_data"
    },
    {
     "data": {
      "text/html": [
       "Syncing run <strong><a href='https://wandb.ai/gal2361-tel-aviv-university/adv-dl2-p1/runs/z0g78i14' target=\"_blank\">roberta-base_trainer_trial_10</a></strong> to <a href='https://wandb.ai/gal2361-tel-aviv-university/adv-dl2-p1' target=\"_blank\">Weights & Biases</a> (<a href='https://wandb.me/run' target=\"_blank\">docs</a>)<br/>"
      ],
      "text/plain": [
       "<IPython.core.display.HTML object>"
      ]
     },
     "metadata": {},
     "output_type": "display_data"
    },
    {
     "data": {
      "text/html": [
       " View project at <a href='https://wandb.ai/gal2361-tel-aviv-university/adv-dl2-p1' target=\"_blank\">https://wandb.ai/gal2361-tel-aviv-university/adv-dl2-p1</a>"
      ],
      "text/plain": [
       "<IPython.core.display.HTML object>"
      ]
     },
     "metadata": {},
     "output_type": "display_data"
    },
    {
     "data": {
      "text/html": [
       " View run at <a href='https://wandb.ai/gal2361-tel-aviv-university/adv-dl2-p1/runs/z0g78i14' target=\"_blank\">https://wandb.ai/gal2361-tel-aviv-university/adv-dl2-p1/runs/z0g78i14</a>"
      ],
      "text/plain": [
       "<IPython.core.display.HTML object>"
      ]
     },
     "metadata": {},
     "output_type": "display_data"
    },
    {
     "name": "stderr",
     "output_type": "stream",
     "text": [
      "Some weights of RobertaForSequenceClassification were not initialized from the model checkpoint at roberta-base and are newly initialized: ['classifier.dense.bias', 'classifier.dense.weight', 'classifier.out_proj.bias', 'classifier.out_proj.weight']\n",
      "You should probably TRAIN this model on a down-stream task to be able to use it for predictions and inference.\n",
      "/usr/local/lib/python3.11/dist-packages/transformers/training_args.py:1525: FutureWarning: `evaluation_strategy` is deprecated and will be removed in version 4.46 of 🤗 Transformers. Use `eval_strategy` instead\n",
      "  warnings.warn(\n",
      "/usr/local/lib/python3.11/dist-packages/accelerate/accelerator.py:494: FutureWarning: `torch.cuda.amp.GradScaler(args...)` is deprecated. Please use `torch.amp.GradScaler('cuda', args...)` instead.\n",
      "  self.scaler = torch.cuda.amp.GradScaler(**kwargs)\n"
     ]
    },
    {
     "data": {
      "text/html": [
       "\n",
       "    <div>\n",
       "      \n",
       "      <progress value='111120' max='111120' style='width:300px; height:20px; vertical-align: middle;'></progress>\n",
       "      [111120/111120 1:34:39, Epoch 12/12]\n",
       "    </div>\n",
       "    <table border=\"1\" class=\"dataframe\">\n",
       "  <thead>\n",
       " <tr style=\"text-align: left;\">\n",
       "      <th>Epoch</th>\n",
       "      <th>Training Loss</th>\n",
       "      <th>Validation Loss</th>\n",
       "      <th>Accuracy</th>\n",
       "      <th>Precision Macro</th>\n",
       "      <th>Recall Macro</th>\n",
       "      <th>F1 Macro</th>\n",
       "    </tr>\n",
       "  </thead>\n",
       "  <tbody>\n",
       "    <tr>\n",
       "      <td>1</td>\n",
       "      <td>1.028500</td>\n",
       "      <td>1.031250</td>\n",
       "      <td>0.608601</td>\n",
       "      <td>0.642721</td>\n",
       "      <td>0.603249</td>\n",
       "      <td>0.611468</td>\n",
       "    </tr>\n",
       "    <tr>\n",
       "      <td>2</td>\n",
       "      <td>0.659400</td>\n",
       "      <td>0.880433</td>\n",
       "      <td>0.672012</td>\n",
       "      <td>0.688605</td>\n",
       "      <td>0.689598</td>\n",
       "      <td>0.683577</td>\n",
       "    </tr>\n",
       "    <tr>\n",
       "      <td>3</td>\n",
       "      <td>0.733000</td>\n",
       "      <td>0.962123</td>\n",
       "      <td>0.689504</td>\n",
       "      <td>0.709995</td>\n",
       "      <td>0.703495</td>\n",
       "      <td>0.701779</td>\n",
       "    </tr>\n",
       "    <tr>\n",
       "      <td>4</td>\n",
       "      <td>0.655300</td>\n",
       "      <td>0.937990</td>\n",
       "      <td>0.734694</td>\n",
       "      <td>0.761241</td>\n",
       "      <td>0.730076</td>\n",
       "      <td>0.740204</td>\n",
       "    </tr>\n",
       "    <tr>\n",
       "      <td>5</td>\n",
       "      <td>0.781100</td>\n",
       "      <td>1.119218</td>\n",
       "      <td>0.724490</td>\n",
       "      <td>0.731007</td>\n",
       "      <td>0.745081</td>\n",
       "      <td>0.732086</td>\n",
       "    </tr>\n",
       "    <tr>\n",
       "      <td>6</td>\n",
       "      <td>0.329700</td>\n",
       "      <td>1.279726</td>\n",
       "      <td>0.754130</td>\n",
       "      <td>0.765458</td>\n",
       "      <td>0.760240</td>\n",
       "      <td>0.761383</td>\n",
       "    </tr>\n",
       "    <tr>\n",
       "      <td>7</td>\n",
       "      <td>0.886000</td>\n",
       "      <td>1.349179</td>\n",
       "      <td>0.738824</td>\n",
       "      <td>0.749063</td>\n",
       "      <td>0.754582</td>\n",
       "      <td>0.748237</td>\n",
       "    </tr>\n",
       "    <tr>\n",
       "      <td>8</td>\n",
       "      <td>0.797200</td>\n",
       "      <td>1.527275</td>\n",
       "      <td>0.745627</td>\n",
       "      <td>0.753706</td>\n",
       "      <td>0.761328</td>\n",
       "      <td>0.754478</td>\n",
       "    </tr>\n",
       "    <tr>\n",
       "      <td>9</td>\n",
       "      <td>0.651400</td>\n",
       "      <td>1.528935</td>\n",
       "      <td>0.759475</td>\n",
       "      <td>0.766999</td>\n",
       "      <td>0.768055</td>\n",
       "      <td>0.766608</td>\n",
       "    </tr>\n",
       "    <tr>\n",
       "      <td>10</td>\n",
       "      <td>0.441400</td>\n",
       "      <td>1.737100</td>\n",
       "      <td>0.743683</td>\n",
       "      <td>0.748094</td>\n",
       "      <td>0.760741</td>\n",
       "      <td>0.750883</td>\n",
       "    </tr>\n",
       "    <tr>\n",
       "      <td>11</td>\n",
       "      <td>0.564200</td>\n",
       "      <td>1.744094</td>\n",
       "      <td>0.754859</td>\n",
       "      <td>0.760570</td>\n",
       "      <td>0.769199</td>\n",
       "      <td>0.762998</td>\n",
       "    </tr>\n",
       "    <tr>\n",
       "      <td>12</td>\n",
       "      <td>0.582400</td>\n",
       "      <td>1.762590</td>\n",
       "      <td>0.753644</td>\n",
       "      <td>0.758688</td>\n",
       "      <td>0.766618</td>\n",
       "      <td>0.760900</td>\n",
       "    </tr>\n",
       "  </tbody>\n",
       "</table><p>"
      ],
      "text/plain": [
       "<IPython.core.display.HTML object>"
      ]
     },
     "metadata": {},
     "output_type": "display_data"
    },
    {
     "data": {
      "text/html": [],
      "text/plain": [
       "<IPython.core.display.HTML object>"
      ]
     },
     "metadata": {},
     "output_type": "display_data"
    },
    {
     "data": {
      "application/vnd.jupyter.widget-view+json": {
       "model_id": "9447f6d36217402fb5a346f0abee9561",
       "version_major": 2,
       "version_minor": 0
      },
      "text/plain": [
       "VBox(children=(Label(value='0.005 MB of 0.032 MB uploaded\\r'), FloatProgress(value=0.14247439866634912, max=1.…"
      ]
     },
     "metadata": {},
     "output_type": "display_data"
    },
    {
     "data": {
      "text/html": [
       "<style>\n",
       "    table.wandb td:nth-child(1) { padding: 0 10px; text-align: left ; width: auto;} td:nth-child(2) {text-align: left ; width: 100%}\n",
       "    .wandb-row { display: flex; flex-direction: row; flex-wrap: wrap; justify-content: flex-start; width: 100% }\n",
       "    .wandb-col { display: flex; flex-direction: column; flex-basis: 100%; flex: 1; padding: 10px; }\n",
       "    </style>\n",
       "<div class=\"wandb-row\"><div class=\"wandb-col\"><h3>Run history:</h3><br/><table class=\"wandb\"><tr><td>eval/accuracy</td><td>▁▄▅▇▆█▇▇█▇███</td></tr><tr><td>eval/f1_macro</td><td>▁▄▅▇▆█▇▇█▇███</td></tr><tr><td>eval/loss</td><td>▂▁▂▁▃▄▅▆▆███▆</td></tr><tr><td>eval/precision_macro</td><td>▁▄▅█▆█▇▇█▇███</td></tr><tr><td>eval/recall_macro</td><td>▁▅▅▆▇█▇██████</td></tr><tr><td>eval/runtime</td><td>▂▂▁█▃▂▄▅▂▁▄▃▂</td></tr><tr><td>eval/samples_per_second</td><td>▇▇█▁▆▇▅▄▇█▄▆▇</td></tr><tr><td>eval/steps_per_second</td><td>▇▇█▁▆▇▅▄▇█▄▆▇</td></tr><tr><td>test/accuracy</td><td>▁</td></tr><tr><td>test/f1_macro</td><td>▁</td></tr><tr><td>test/loss</td><td>▁</td></tr><tr><td>test/precision_macro</td><td>▁</td></tr><tr><td>test/recall_macro</td><td>▁</td></tr><tr><td>test/runtime</td><td>▁</td></tr><tr><td>test/samples_per_second</td><td>▁</td></tr><tr><td>test/steps_per_second</td><td>▁</td></tr><tr><td>train/epoch</td><td>▁▁▁▁▂▂▂▂▂▃▃▃▃▃▃▄▄▄▄▄▅▅▅▅▅▅▆▆▆▆▆▇▇▇▇▇▇███</td></tr><tr><td>train/global_step</td><td>▁▁▁▁▂▂▂▂▂▃▃▃▃▃▃▄▄▄▄▄▅▅▅▅▅▅▆▆▆▆▆▇▇▇▇▇▇███</td></tr><tr><td>train/grad_norm</td><td>▁▂▁▁▁▂▂▃▃▂▁▁▁▅▁▃▁▅▁▄▂▂▂▁█▃▆▄▁▆▃▁▁▇▃▁▁▂▁▁</td></tr><tr><td>train/learning_rate</td><td>▂▅████▇▇▇▇▇▆▆▆▆▆▅▅▅▅▅▄▄▄▄▄▄▃▃▃▃▃▂▂▂▂▂▁▁▁</td></tr><tr><td>train/loss</td><td>█▇▆▅▅▅▄▅▅▅▄▄▄▃▃▄▃▃▄▄▄▃▂▂▃▃▃▃▅▄▂▃▂▃▂▃▁▁▂▃</td></tr><tr><td>val/accuracy</td><td>▁</td></tr><tr><td>val/f1_macro</td><td>▁</td></tr><tr><td>val/precision_macro</td><td>▁</td></tr><tr><td>val/recall_macro</td><td>▁</td></tr></table><br/></div><div class=\"wandb-col\"><h3>Run summary:</h3><br/><table class=\"wandb\"><tr><td>best_checkpoint_path</td><td>/content/drive/MyDri...</td></tr><tr><td>eval/accuracy</td><td>0.75948</td></tr><tr><td>eval/f1_macro</td><td>0.76661</td></tr><tr><td>eval/loss</td><td>1.52893</td></tr><tr><td>eval/precision_macro</td><td>0.767</td></tr><tr><td>eval/recall_macro</td><td>0.76806</td></tr><tr><td>eval/runtime</td><td>17.6731</td></tr><tr><td>eval/samples_per_second</td><td>232.897</td></tr><tr><td>eval/steps_per_second</td><td>58.224</td></tr><tr><td>test/accuracy</td><td>0.75948</td></tr><tr><td>test/f1_macro</td><td>0.76661</td></tr><tr><td>test/loss</td><td>1.52893</td></tr><tr><td>test/precision_macro</td><td>0.767</td></tr><tr><td>test/recall_macro</td><td>0.76806</td></tr><tr><td>test/runtime</td><td>19.0683</td></tr><tr><td>test/samples_per_second</td><td>215.855</td></tr><tr><td>test/steps_per_second</td><td>53.964</td></tr><tr><td>total_flos</td><td>1.3802565181736016e+16</td></tr><tr><td>train/epoch</td><td>12.0</td></tr><tr><td>train/global_step</td><td>111120</td></tr><tr><td>train/grad_norm</td><td>0.02261</td></tr><tr><td>train/learning_rate</td><td>0.0</td></tr><tr><td>train/loss</td><td>0.5824</td></tr><tr><td>train_loss</td><td>0.60364</td></tr><tr><td>train_runtime</td><td>5679.3877</td></tr><tr><td>train_samples_per_second</td><td>78.26</td></tr><tr><td>train_steps_per_second</td><td>19.565</td></tr><tr><td>val/accuracy</td><td>0.75948</td></tr><tr><td>val/f1_macro</td><td>0.76661</td></tr><tr><td>val/precision_macro</td><td>0.767</td></tr><tr><td>val/recall_macro</td><td>0.76806</td></tr></table><br/></div></div>"
      ],
      "text/plain": [
       "<IPython.core.display.HTML object>"
      ]
     },
     "metadata": {},
     "output_type": "display_data"
    },
    {
     "data": {
      "text/html": [
       " View run <strong style=\"color:#cdcd00\">roberta-base_trainer_trial_10</strong> at: <a href='https://wandb.ai/gal2361-tel-aviv-university/adv-dl2-p1/runs/z0g78i14' target=\"_blank\">https://wandb.ai/gal2361-tel-aviv-university/adv-dl2-p1/runs/z0g78i14</a><br/> View project at: <a href='https://wandb.ai/gal2361-tel-aviv-university/adv-dl2-p1' target=\"_blank\">https://wandb.ai/gal2361-tel-aviv-university/adv-dl2-p1</a><br/>Synced 5 W&B file(s), 1 media file(s), 1 artifact file(s) and 0 other file(s)"
      ],
      "text/plain": [
       "<IPython.core.display.HTML object>"
      ]
     },
     "metadata": {},
     "output_type": "display_data"
    },
    {
     "data": {
      "text/html": [
       "Find logs at: <code>./wandb/run-20250815_045202-z0g78i14/logs</code>"
      ],
      "text/plain": [
       "<IPython.core.display.HTML object>"
      ]
     },
     "metadata": {},
     "output_type": "display_data"
    },
    {
     "data": {
      "text/html": [
       "The new W&B backend becomes opt-out in version 0.18.0; try it out with `wandb.require(\"core\")`! See https://wandb.me/wandb-core for more information."
      ],
      "text/plain": [
       "<IPython.core.display.HTML object>"
      ]
     },
     "metadata": {},
     "output_type": "display_data"
    },
    {
     "name": "stdout",
     "output_type": "stream",
     "text": [
      "[I 2025-08-15 06:27:32,896] Trial 10 finished with value: 0.7666080469440132 and parameters: {'lr': 1.3091234039885813e-05, 'weight_decay': 2.5215428074811555e-05, 'batch_size': 4, 'unfreeze_last_k': 5}. Best is trial 4 with value: 0.8327161420298526.\n"
     ]
    },
    {
     "data": {
      "text/html": [
       "wandb version 0.21.1 is available!  To upgrade, please run:\n",
       " $ pip install wandb --upgrade"
      ],
      "text/plain": [
       "<IPython.core.display.HTML object>"
      ]
     },
     "metadata": {},
     "output_type": "display_data"
    },
    {
     "data": {
      "text/html": [
       "Tracking run with wandb version 0.17.5"
      ],
      "text/plain": [
       "<IPython.core.display.HTML object>"
      ]
     },
     "metadata": {},
     "output_type": "display_data"
    },
    {
     "data": {
      "text/html": [
       "Run data is saved locally in <code>/content/wandb/run-20250815_062733-42ghqpjq</code>"
      ],
      "text/plain": [
       "<IPython.core.display.HTML object>"
      ]
     },
     "metadata": {},
     "output_type": "display_data"
    },
    {
     "data": {
      "text/html": [
       "Syncing run <strong><a href='https://wandb.ai/gal2361-tel-aviv-university/adv-dl2-p1/runs/42ghqpjq' target=\"_blank\">roberta-base_trainer_trial_11</a></strong> to <a href='https://wandb.ai/gal2361-tel-aviv-university/adv-dl2-p1' target=\"_blank\">Weights & Biases</a> (<a href='https://wandb.me/run' target=\"_blank\">docs</a>)<br/>"
      ],
      "text/plain": [
       "<IPython.core.display.HTML object>"
      ]
     },
     "metadata": {},
     "output_type": "display_data"
    },
    {
     "data": {
      "text/html": [
       " View project at <a href='https://wandb.ai/gal2361-tel-aviv-university/adv-dl2-p1' target=\"_blank\">https://wandb.ai/gal2361-tel-aviv-university/adv-dl2-p1</a>"
      ],
      "text/plain": [
       "<IPython.core.display.HTML object>"
      ]
     },
     "metadata": {},
     "output_type": "display_data"
    },
    {
     "data": {
      "text/html": [
       " View run at <a href='https://wandb.ai/gal2361-tel-aviv-university/adv-dl2-p1/runs/42ghqpjq' target=\"_blank\">https://wandb.ai/gal2361-tel-aviv-university/adv-dl2-p1/runs/42ghqpjq</a>"
      ],
      "text/plain": [
       "<IPython.core.display.HTML object>"
      ]
     },
     "metadata": {},
     "output_type": "display_data"
    },
    {
     "name": "stderr",
     "output_type": "stream",
     "text": [
      "Some weights of RobertaForSequenceClassification were not initialized from the model checkpoint at roberta-base and are newly initialized: ['classifier.dense.bias', 'classifier.dense.weight', 'classifier.out_proj.bias', 'classifier.out_proj.weight']\n",
      "You should probably TRAIN this model on a down-stream task to be able to use it for predictions and inference.\n",
      "/usr/local/lib/python3.11/dist-packages/transformers/training_args.py:1525: FutureWarning: `evaluation_strategy` is deprecated and will be removed in version 4.46 of 🤗 Transformers. Use `eval_strategy` instead\n",
      "  warnings.warn(\n",
      "/usr/local/lib/python3.11/dist-packages/accelerate/accelerator.py:494: FutureWarning: `torch.cuda.amp.GradScaler(args...)` is deprecated. Please use `torch.amp.GradScaler('cuda', args...)` instead.\n",
      "  self.scaler = torch.cuda.amp.GradScaler(**kwargs)\n"
     ]
    },
    {
     "data": {
      "text/html": [
       "\n",
       "    <div>\n",
       "      \n",
       "      <progress value='27780' max='27780' style='width:300px; height:20px; vertical-align: middle;'></progress>\n",
       "      [27780/27780 43:01, Epoch 12/12]\n",
       "    </div>\n",
       "    <table border=\"1\" class=\"dataframe\">\n",
       "  <thead>\n",
       " <tr style=\"text-align: left;\">\n",
       "      <th>Epoch</th>\n",
       "      <th>Training Loss</th>\n",
       "      <th>Validation Loss</th>\n",
       "      <th>Accuracy</th>\n",
       "      <th>Precision Macro</th>\n",
       "      <th>Recall Macro</th>\n",
       "      <th>F1 Macro</th>\n",
       "    </tr>\n",
       "  </thead>\n",
       "  <tbody>\n",
       "    <tr>\n",
       "      <td>1</td>\n",
       "      <td>0.700000</td>\n",
       "      <td>0.656506</td>\n",
       "      <td>0.763848</td>\n",
       "      <td>0.777381</td>\n",
       "      <td>0.764887</td>\n",
       "      <td>0.770219</td>\n",
       "    </tr>\n",
       "    <tr>\n",
       "      <td>2</td>\n",
       "      <td>0.615500</td>\n",
       "      <td>0.523760</td>\n",
       "      <td>0.810253</td>\n",
       "      <td>0.814880</td>\n",
       "      <td>0.822592</td>\n",
       "      <td>0.816656</td>\n",
       "    </tr>\n",
       "    <tr>\n",
       "      <td>3</td>\n",
       "      <td>0.444700</td>\n",
       "      <td>0.535911</td>\n",
       "      <td>0.821914</td>\n",
       "      <td>0.837986</td>\n",
       "      <td>0.816906</td>\n",
       "      <td>0.825056</td>\n",
       "    </tr>\n",
       "    <tr>\n",
       "      <td>4</td>\n",
       "      <td>0.354500</td>\n",
       "      <td>0.557746</td>\n",
       "      <td>0.816812</td>\n",
       "      <td>0.816598</td>\n",
       "      <td>0.831938</td>\n",
       "      <td>0.822007</td>\n",
       "    </tr>\n",
       "    <tr>\n",
       "      <td>5</td>\n",
       "      <td>0.339800</td>\n",
       "      <td>0.584879</td>\n",
       "      <td>0.818999</td>\n",
       "      <td>0.817506</td>\n",
       "      <td>0.837052</td>\n",
       "      <td>0.823511</td>\n",
       "    </tr>\n",
       "    <tr>\n",
       "      <td>6</td>\n",
       "      <td>0.183400</td>\n",
       "      <td>0.693131</td>\n",
       "      <td>0.837707</td>\n",
       "      <td>0.837085</td>\n",
       "      <td>0.850727</td>\n",
       "      <td>0.841776</td>\n",
       "    </tr>\n",
       "    <tr>\n",
       "      <td>7</td>\n",
       "      <td>0.206400</td>\n",
       "      <td>0.741163</td>\n",
       "      <td>0.839650</td>\n",
       "      <td>0.836337</td>\n",
       "      <td>0.855700</td>\n",
       "      <td>0.842721</td>\n",
       "    </tr>\n",
       "    <tr>\n",
       "      <td>8</td>\n",
       "      <td>0.202100</td>\n",
       "      <td>0.794689</td>\n",
       "      <td>0.850826</td>\n",
       "      <td>0.848953</td>\n",
       "      <td>0.861540</td>\n",
       "      <td>0.854300</td>\n",
       "    </tr>\n",
       "    <tr>\n",
       "      <td>9</td>\n",
       "      <td>0.129200</td>\n",
       "      <td>0.757042</td>\n",
       "      <td>0.843052</td>\n",
       "      <td>0.841507</td>\n",
       "      <td>0.854244</td>\n",
       "      <td>0.846963</td>\n",
       "    </tr>\n",
       "    <tr>\n",
       "      <td>10</td>\n",
       "      <td>0.118900</td>\n",
       "      <td>0.845469</td>\n",
       "      <td>0.856657</td>\n",
       "      <td>0.856183</td>\n",
       "      <td>0.864783</td>\n",
       "      <td>0.860096</td>\n",
       "    </tr>\n",
       "    <tr>\n",
       "      <td>11</td>\n",
       "      <td>0.109600</td>\n",
       "      <td>0.926898</td>\n",
       "      <td>0.853013</td>\n",
       "      <td>0.850078</td>\n",
       "      <td>0.866892</td>\n",
       "      <td>0.856736</td>\n",
       "    </tr>\n",
       "    <tr>\n",
       "      <td>12</td>\n",
       "      <td>0.061500</td>\n",
       "      <td>0.945124</td>\n",
       "      <td>0.853984</td>\n",
       "      <td>0.851869</td>\n",
       "      <td>0.864362</td>\n",
       "      <td>0.857286</td>\n",
       "    </tr>\n",
       "  </tbody>\n",
       "</table><p>"
      ],
      "text/plain": [
       "<IPython.core.display.HTML object>"
      ]
     },
     "metadata": {},
     "output_type": "display_data"
    },
    {
     "data": {
      "text/html": [],
      "text/plain": [
       "<IPython.core.display.HTML object>"
      ]
     },
     "metadata": {},
     "output_type": "display_data"
    },
    {
     "data": {
      "application/vnd.jupyter.widget-view+json": {
       "model_id": "977c4c344ff74f42a3835c262f23b973",
       "version_major": 2,
       "version_minor": 0
      },
      "text/plain": [
       "VBox(children=(Label(value='0.005 MB of 0.005 MB uploaded\\r'), FloatProgress(value=1.0, max=1.0)))"
      ]
     },
     "metadata": {},
     "output_type": "display_data"
    },
    {
     "data": {
      "text/html": [
       "<style>\n",
       "    table.wandb td:nth-child(1) { padding: 0 10px; text-align: left ; width: auto;} td:nth-child(2) {text-align: left ; width: 100%}\n",
       "    .wandb-row { display: flex; flex-direction: row; flex-wrap: wrap; justify-content: flex-start; width: 100% }\n",
       "    .wandb-col { display: flex; flex-direction: column; flex-basis: 100%; flex: 1; padding: 10px; }\n",
       "    </style>\n",
       "<div class=\"wandb-row\"><div class=\"wandb-col\"><h3>Run history:</h3><br/><table class=\"wandb\"><tr><td>eval/accuracy</td><td>▁▄▅▅▅▇▇█▇████</td></tr><tr><td>eval/f1_macro</td><td>▁▅▅▅▅▇▇█▇████</td></tr><tr><td>eval/loss</td><td>▃▁▁▂▂▄▅▆▅▆██▆</td></tr><tr><td>eval/precision_macro</td><td>▁▄▆▄▅▆▆▇▇█▇██</td></tr><tr><td>eval/recall_macro</td><td>▁▅▅▆▆▇▇█▇████</td></tr><tr><td>eval/runtime</td><td>▂▁▂▂▃▄▃▂▅▆█▄▃</td></tr><tr><td>eval/samples_per_second</td><td>▇█▇▇▅▅▆▇▃▃▁▅▆</td></tr><tr><td>eval/steps_per_second</td><td>▇█▇▇▅▅▆▇▃▃▁▅▆</td></tr><tr><td>test/accuracy</td><td>▁</td></tr><tr><td>test/f1_macro</td><td>▁</td></tr><tr><td>test/loss</td><td>▁</td></tr><tr><td>test/precision_macro</td><td>▁</td></tr><tr><td>test/recall_macro</td><td>▁</td></tr><tr><td>test/runtime</td><td>▁</td></tr><tr><td>test/samples_per_second</td><td>▁</td></tr><tr><td>test/steps_per_second</td><td>▁</td></tr><tr><td>train/epoch</td><td>▁▁▁▁▂▂▂▂▂▃▃▃▃▃▃▄▄▄▄▄▅▅▅▅▅▅▆▆▆▆▆▇▇▇▇▇▇███</td></tr><tr><td>train/global_step</td><td>▁▁▁▁▂▂▂▂▂▃▃▃▃▃▃▄▄▄▄▄▅▅▅▅▅▅▆▆▆▆▆▇▇▇▇▇▇███</td></tr><tr><td>train/grad_norm</td><td>▂▂▂▃▂▂▂▂▁▂▂▂▃▂▂▂▃▂▂▆▄█▁▁▁▁▇▁▁▂▂▁▄▁▃▁▁▁▁▁</td></tr><tr><td>train/learning_rate</td><td>▂▅████▇▇▇▇▇▆▆▆▆▆▅▅▅▅▅▅▄▄▄▄▄▃▃▃▃▃▂▂▂▂▂▁▁▁</td></tr><tr><td>train/loss</td><td>█▅▅▅▄▄▃▃▃▃▂▂▂▂▂▂▂▂▂▂▂▂▂▂▂▂▂▁▁▁▁▁▁▁▁▁▁▁▁▁</td></tr><tr><td>val/accuracy</td><td>▁</td></tr><tr><td>val/f1_macro</td><td>▁</td></tr><tr><td>val/precision_macro</td><td>▁</td></tr><tr><td>val/recall_macro</td><td>▁</td></tr></table><br/></div><div class=\"wandb-col\"><h3>Run summary:</h3><br/><table class=\"wandb\"><tr><td>best_checkpoint_path</td><td>/content/drive/MyDri...</td></tr><tr><td>eval/accuracy</td><td>0.85666</td></tr><tr><td>eval/f1_macro</td><td>0.8601</td></tr><tr><td>eval/loss</td><td>0.84547</td></tr><tr><td>eval/precision_macro</td><td>0.85618</td></tr><tr><td>eval/recall_macro</td><td>0.86478</td></tr><tr><td>eval/runtime</td><td>4.9113</td></tr><tr><td>eval/samples_per_second</td><td>838.071</td></tr><tr><td>eval/steps_per_second</td><td>52.532</td></tr><tr><td>test/accuracy</td><td>0.85666</td></tr><tr><td>test/f1_macro</td><td>0.8601</td></tr><tr><td>test/loss</td><td>0.84547</td></tr><tr><td>test/precision_macro</td><td>0.85618</td></tr><tr><td>test/recall_macro</td><td>0.86478</td></tr><tr><td>test/runtime</td><td>5.3137</td></tr><tr><td>test/samples_per_second</td><td>774.602</td></tr><tr><td>test/steps_per_second</td><td>48.554</td></tr><tr><td>total_flos</td><td>1.6302911110035792e+16</td></tr><tr><td>train/epoch</td><td>12.0</td></tr><tr><td>train/global_step</td><td>27780</td></tr><tr><td>train/grad_norm</td><td>0.03472</td></tr><tr><td>train/learning_rate</td><td>0.0</td></tr><tr><td>train/loss</td><td>0.0615</td></tr><tr><td>train_loss</td><td>0.31042</td></tr><tr><td>train_runtime</td><td>2581.3181</td></tr><tr><td>train_samples_per_second</td><td>172.186</td></tr><tr><td>train_steps_per_second</td><td>10.762</td></tr><tr><td>val/accuracy</td><td>0.85666</td></tr><tr><td>val/f1_macro</td><td>0.8601</td></tr><tr><td>val/precision_macro</td><td>0.85618</td></tr><tr><td>val/recall_macro</td><td>0.86478</td></tr></table><br/></div></div>"
      ],
      "text/plain": [
       "<IPython.core.display.HTML object>"
      ]
     },
     "metadata": {},
     "output_type": "display_data"
    },
    {
     "data": {
      "text/html": [
       " View run <strong style=\"color:#cdcd00\">roberta-base_trainer_trial_11</strong> at: <a href='https://wandb.ai/gal2361-tel-aviv-university/adv-dl2-p1/runs/42ghqpjq' target=\"_blank\">https://wandb.ai/gal2361-tel-aviv-university/adv-dl2-p1/runs/42ghqpjq</a><br/> View project at: <a href='https://wandb.ai/gal2361-tel-aviv-university/adv-dl2-p1' target=\"_blank\">https://wandb.ai/gal2361-tel-aviv-university/adv-dl2-p1</a><br/>Synced 5 W&B file(s), 1 media file(s), 1 artifact file(s) and 0 other file(s)"
      ],
      "text/plain": [
       "<IPython.core.display.HTML object>"
      ]
     },
     "metadata": {},
     "output_type": "display_data"
    },
    {
     "data": {
      "text/html": [
       "Find logs at: <code>./wandb/run-20250815_062733-42ghqpjq/logs</code>"
      ],
      "text/plain": [
       "<IPython.core.display.HTML object>"
      ]
     },
     "metadata": {},
     "output_type": "display_data"
    },
    {
     "data": {
      "text/html": [
       "The new W&B backend becomes opt-out in version 0.18.0; try it out with `wandb.require(\"core\")`! See https://wandb.me/wandb-core for more information."
      ],
      "text/plain": [
       "<IPython.core.display.HTML object>"
      ]
     },
     "metadata": {},
     "output_type": "display_data"
    },
    {
     "name": "stdout",
     "output_type": "stream",
     "text": [
      "[I 2025-08-15 07:11:01,240] Trial 11 finished with value: 0.8600960158069137 and parameters: {'lr': 2.960627147251281e-05, 'weight_decay': 0.008806331558971375, 'batch_size': 16, 'unfreeze_last_k': 12}. Best is trial 11 with value: 0.8600960158069137.\n"
     ]
    },
    {
     "data": {
      "text/html": [
       "wandb version 0.21.1 is available!  To upgrade, please run:\n",
       " $ pip install wandb --upgrade"
      ],
      "text/plain": [
       "<IPython.core.display.HTML object>"
      ]
     },
     "metadata": {},
     "output_type": "display_data"
    },
    {
     "data": {
      "text/html": [
       "Tracking run with wandb version 0.17.5"
      ],
      "text/plain": [
       "<IPython.core.display.HTML object>"
      ]
     },
     "metadata": {},
     "output_type": "display_data"
    },
    {
     "data": {
      "text/html": [
       "Run data is saved locally in <code>/content/wandb/run-20250815_071101-jjeicgqj</code>"
      ],
      "text/plain": [
       "<IPython.core.display.HTML object>"
      ]
     },
     "metadata": {},
     "output_type": "display_data"
    },
    {
     "data": {
      "text/html": [
       "Syncing run <strong><a href='https://wandb.ai/gal2361-tel-aviv-university/adv-dl2-p1/runs/jjeicgqj' target=\"_blank\">roberta-base_trainer_trial_12</a></strong> to <a href='https://wandb.ai/gal2361-tel-aviv-university/adv-dl2-p1' target=\"_blank\">Weights & Biases</a> (<a href='https://wandb.me/run' target=\"_blank\">docs</a>)<br/>"
      ],
      "text/plain": [
       "<IPython.core.display.HTML object>"
      ]
     },
     "metadata": {},
     "output_type": "display_data"
    },
    {
     "data": {
      "text/html": [
       " View project at <a href='https://wandb.ai/gal2361-tel-aviv-university/adv-dl2-p1' target=\"_blank\">https://wandb.ai/gal2361-tel-aviv-university/adv-dl2-p1</a>"
      ],
      "text/plain": [
       "<IPython.core.display.HTML object>"
      ]
     },
     "metadata": {},
     "output_type": "display_data"
    },
    {
     "data": {
      "text/html": [
       " View run at <a href='https://wandb.ai/gal2361-tel-aviv-university/adv-dl2-p1/runs/jjeicgqj' target=\"_blank\">https://wandb.ai/gal2361-tel-aviv-university/adv-dl2-p1/runs/jjeicgqj</a>"
      ],
      "text/plain": [
       "<IPython.core.display.HTML object>"
      ]
     },
     "metadata": {},
     "output_type": "display_data"
    },
    {
     "name": "stderr",
     "output_type": "stream",
     "text": [
      "Some weights of RobertaForSequenceClassification were not initialized from the model checkpoint at roberta-base and are newly initialized: ['classifier.dense.bias', 'classifier.dense.weight', 'classifier.out_proj.bias', 'classifier.out_proj.weight']\n",
      "You should probably TRAIN this model on a down-stream task to be able to use it for predictions and inference.\n",
      "/usr/local/lib/python3.11/dist-packages/transformers/training_args.py:1525: FutureWarning: `evaluation_strategy` is deprecated and will be removed in version 4.46 of 🤗 Transformers. Use `eval_strategy` instead\n",
      "  warnings.warn(\n",
      "/usr/local/lib/python3.11/dist-packages/accelerate/accelerator.py:494: FutureWarning: `torch.cuda.amp.GradScaler(args...)` is deprecated. Please use `torch.amp.GradScaler('cuda', args...)` instead.\n",
      "  self.scaler = torch.cuda.amp.GradScaler(**kwargs)\n"
     ]
    },
    {
     "data": {
      "text/html": [
       "\n",
       "    <div>\n",
       "      \n",
       "      <progress value='27780' max='27780' style='width:300px; height:20px; vertical-align: middle;'></progress>\n",
       "      [27780/27780 43:04, Epoch 12/12]\n",
       "    </div>\n",
       "    <table border=\"1\" class=\"dataframe\">\n",
       "  <thead>\n",
       " <tr style=\"text-align: left;\">\n",
       "      <th>Epoch</th>\n",
       "      <th>Training Loss</th>\n",
       "      <th>Validation Loss</th>\n",
       "      <th>Accuracy</th>\n",
       "      <th>Precision Macro</th>\n",
       "      <th>Recall Macro</th>\n",
       "      <th>F1 Macro</th>\n",
       "    </tr>\n",
       "  </thead>\n",
       "  <tbody>\n",
       "    <tr>\n",
       "      <td>1</td>\n",
       "      <td>0.654600</td>\n",
       "      <td>0.701455</td>\n",
       "      <td>0.749271</td>\n",
       "      <td>0.778796</td>\n",
       "      <td>0.739522</td>\n",
       "      <td>0.753022</td>\n",
       "    </tr>\n",
       "    <tr>\n",
       "      <td>2</td>\n",
       "      <td>0.603400</td>\n",
       "      <td>0.518303</td>\n",
       "      <td>0.814140</td>\n",
       "      <td>0.824495</td>\n",
       "      <td>0.816419</td>\n",
       "      <td>0.819664</td>\n",
       "    </tr>\n",
       "    <tr>\n",
       "      <td>3</td>\n",
       "      <td>0.398500</td>\n",
       "      <td>0.599315</td>\n",
       "      <td>0.810496</td>\n",
       "      <td>0.825688</td>\n",
       "      <td>0.818536</td>\n",
       "      <td>0.818176</td>\n",
       "    </tr>\n",
       "    <tr>\n",
       "      <td>4</td>\n",
       "      <td>0.366200</td>\n",
       "      <td>0.521449</td>\n",
       "      <td>0.828474</td>\n",
       "      <td>0.829179</td>\n",
       "      <td>0.840511</td>\n",
       "      <td>0.833833</td>\n",
       "    </tr>\n",
       "    <tr>\n",
       "      <td>5</td>\n",
       "      <td>0.277200</td>\n",
       "      <td>0.551775</td>\n",
       "      <td>0.826045</td>\n",
       "      <td>0.832819</td>\n",
       "      <td>0.835618</td>\n",
       "      <td>0.832056</td>\n",
       "    </tr>\n",
       "    <tr>\n",
       "      <td>6</td>\n",
       "      <td>0.149500</td>\n",
       "      <td>0.647307</td>\n",
       "      <td>0.833576</td>\n",
       "      <td>0.836618</td>\n",
       "      <td>0.844950</td>\n",
       "      <td>0.838848</td>\n",
       "    </tr>\n",
       "    <tr>\n",
       "      <td>7</td>\n",
       "      <td>0.192000</td>\n",
       "      <td>0.829124</td>\n",
       "      <td>0.836249</td>\n",
       "      <td>0.834820</td>\n",
       "      <td>0.852045</td>\n",
       "      <td>0.840996</td>\n",
       "    </tr>\n",
       "    <tr>\n",
       "      <td>8</td>\n",
       "      <td>0.242400</td>\n",
       "      <td>0.841032</td>\n",
       "      <td>0.844266</td>\n",
       "      <td>0.843401</td>\n",
       "      <td>0.855675</td>\n",
       "      <td>0.848347</td>\n",
       "    </tr>\n",
       "    <tr>\n",
       "      <td>9</td>\n",
       "      <td>0.081800</td>\n",
       "      <td>0.881253</td>\n",
       "      <td>0.836735</td>\n",
       "      <td>0.840671</td>\n",
       "      <td>0.843932</td>\n",
       "      <td>0.840825</td>\n",
       "    </tr>\n",
       "    <tr>\n",
       "      <td>10</td>\n",
       "      <td>0.103600</td>\n",
       "      <td>0.956057</td>\n",
       "      <td>0.847182</td>\n",
       "      <td>0.846053</td>\n",
       "      <td>0.857261</td>\n",
       "      <td>0.851040</td>\n",
       "    </tr>\n",
       "    <tr>\n",
       "      <td>11</td>\n",
       "      <td>0.139300</td>\n",
       "      <td>0.969771</td>\n",
       "      <td>0.848882</td>\n",
       "      <td>0.848703</td>\n",
       "      <td>0.858537</td>\n",
       "      <td>0.852805</td>\n",
       "    </tr>\n",
       "    <tr>\n",
       "      <td>12</td>\n",
       "      <td>0.071400</td>\n",
       "      <td>1.021536</td>\n",
       "      <td>0.847182</td>\n",
       "      <td>0.846251</td>\n",
       "      <td>0.857011</td>\n",
       "      <td>0.850858</td>\n",
       "    </tr>\n",
       "  </tbody>\n",
       "</table><p>"
      ],
      "text/plain": [
       "<IPython.core.display.HTML object>"
      ]
     },
     "metadata": {},
     "output_type": "display_data"
    },
    {
     "data": {
      "text/html": [],
      "text/plain": [
       "<IPython.core.display.HTML object>"
      ]
     },
     "metadata": {},
     "output_type": "display_data"
    },
    {
     "data": {
      "application/vnd.jupyter.widget-view+json": {
       "model_id": "df6c6ecc93744070a23519d5e7777902",
       "version_major": 2,
       "version_minor": 0
      },
      "text/plain": [
       "VBox(children=(Label(value='0.005 MB of 0.005 MB uploaded\\r'), FloatProgress(value=1.0, max=1.0)))"
      ]
     },
     "metadata": {},
     "output_type": "display_data"
    },
    {
     "data": {
      "text/html": [
       "<style>\n",
       "    table.wandb td:nth-child(1) { padding: 0 10px; text-align: left ; width: auto;} td:nth-child(2) {text-align: left ; width: 100%}\n",
       "    .wandb-row { display: flex; flex-direction: row; flex-wrap: wrap; justify-content: flex-start; width: 100% }\n",
       "    .wandb-col { display: flex; flex-direction: column; flex-basis: 100%; flex: 1; padding: 10px; }\n",
       "    </style>\n",
       "<div class=\"wandb-row\"><div class=\"wandb-col\"><h3>Run history:</h3><br/><table class=\"wandb\"><tr><td>eval/accuracy</td><td>▁▆▅▇▆▇▇█▇████</td></tr><tr><td>eval/f1_macro</td><td>▁▆▆▇▇▇▇█▇████</td></tr><tr><td>eval/loss</td><td>▄▁▂▁▁▃▅▅▆▇▇█▇</td></tr><tr><td>eval/precision_macro</td><td>▁▆▆▆▆▇▇▇▇████</td></tr><tr><td>eval/recall_macro</td><td>▁▆▆▇▇▇██▇████</td></tr><tr><td>eval/runtime</td><td>▁▃▂▃▆▆▄▂▃▃▄██</td></tr><tr><td>eval/samples_per_second</td><td>█▆▇▆▃▃▅▇▆▆▅▁▁</td></tr><tr><td>eval/steps_per_second</td><td>█▆▇▆▃▃▅▇▆▆▅▁▁</td></tr><tr><td>test/accuracy</td><td>▁</td></tr><tr><td>test/f1_macro</td><td>▁</td></tr><tr><td>test/loss</td><td>▁</td></tr><tr><td>test/precision_macro</td><td>▁</td></tr><tr><td>test/recall_macro</td><td>▁</td></tr><tr><td>test/runtime</td><td>▁</td></tr><tr><td>test/samples_per_second</td><td>▁</td></tr><tr><td>test/steps_per_second</td><td>▁</td></tr><tr><td>train/epoch</td><td>▁▁▁▁▂▂▂▂▂▃▃▃▃▃▃▄▄▄▄▄▅▅▅▅▅▅▆▆▆▆▆▇▇▇▇▇▇███</td></tr><tr><td>train/global_step</td><td>▁▁▁▁▂▂▂▂▂▃▃▃▃▃▃▄▄▄▄▄▅▅▅▅▅▅▆▆▆▆▆▇▇▇▇▇▇███</td></tr><tr><td>train/grad_norm</td><td>▂▃▃▄▂▂▃▂▂▂▃▃▃▁▂▄▆▃▂▅▂▃▂▁▂▁█▄▁▁▁▁▂▁▃▁▁▁▁▁</td></tr><tr><td>train/learning_rate</td><td>▂▅████▇▇▇▇▇▆▆▆▆▆▅▅▅▅▅▅▄▄▄▄▄▃▃▃▃▃▂▂▂▂▂▁▁▁</td></tr><tr><td>train/loss</td><td>█▅▆▅▄▄▃▃▃▃▂▃▃▂▂▂▂▂▂▂▂▂▂▂▂▂▂▁▂▁▁▁▁▁▁▁▂▁▁▁</td></tr><tr><td>val/accuracy</td><td>▁</td></tr><tr><td>val/f1_macro</td><td>▁</td></tr><tr><td>val/precision_macro</td><td>▁</td></tr><tr><td>val/recall_macro</td><td>▁</td></tr></table><br/></div><div class=\"wandb-col\"><h3>Run summary:</h3><br/><table class=\"wandb\"><tr><td>best_checkpoint_path</td><td>/content/drive/MyDri...</td></tr><tr><td>eval/accuracy</td><td>0.84888</td></tr><tr><td>eval/f1_macro</td><td>0.85281</td></tr><tr><td>eval/loss</td><td>0.96977</td></tr><tr><td>eval/precision_macro</td><td>0.8487</td></tr><tr><td>eval/recall_macro</td><td>0.85854</td></tr><tr><td>eval/runtime</td><td>5.0738</td></tr><tr><td>eval/samples_per_second</td><td>811.226</td></tr><tr><td>eval/steps_per_second</td><td>50.849</td></tr><tr><td>test/accuracy</td><td>0.84888</td></tr><tr><td>test/f1_macro</td><td>0.85281</td></tr><tr><td>test/loss</td><td>0.96977</td></tr><tr><td>test/precision_macro</td><td>0.8487</td></tr><tr><td>test/recall_macro</td><td>0.85854</td></tr><tr><td>test/runtime</td><td>5.3543</td></tr><tr><td>test/samples_per_second</td><td>768.725</td></tr><tr><td>test/steps_per_second</td><td>48.185</td></tr><tr><td>total_flos</td><td>1.6302911110035792e+16</td></tr><tr><td>train/epoch</td><td>12.0</td></tr><tr><td>train/global_step</td><td>27780</td></tr><tr><td>train/grad_norm</td><td>0.01243</td></tr><tr><td>train/learning_rate</td><td>0.0</td></tr><tr><td>train/loss</td><td>0.0714</td></tr><tr><td>train_loss</td><td>0.305</td></tr><tr><td>train_runtime</td><td>2585.0298</td></tr><tr><td>train_samples_per_second</td><td>171.939</td></tr><tr><td>train_steps_per_second</td><td>10.746</td></tr><tr><td>val/accuracy</td><td>0.84888</td></tr><tr><td>val/f1_macro</td><td>0.85281</td></tr><tr><td>val/precision_macro</td><td>0.8487</td></tr><tr><td>val/recall_macro</td><td>0.85854</td></tr></table><br/></div></div>"
      ],
      "text/plain": [
       "<IPython.core.display.HTML object>"
      ]
     },
     "metadata": {},
     "output_type": "display_data"
    },
    {
     "data": {
      "text/html": [
       " View run <strong style=\"color:#cdcd00\">roberta-base_trainer_trial_12</strong> at: <a href='https://wandb.ai/gal2361-tel-aviv-university/adv-dl2-p1/runs/jjeicgqj' target=\"_blank\">https://wandb.ai/gal2361-tel-aviv-university/adv-dl2-p1/runs/jjeicgqj</a><br/> View project at: <a href='https://wandb.ai/gal2361-tel-aviv-university/adv-dl2-p1' target=\"_blank\">https://wandb.ai/gal2361-tel-aviv-university/adv-dl2-p1</a><br/>Synced 5 W&B file(s), 1 media file(s), 1 artifact file(s) and 0 other file(s)"
      ],
      "text/plain": [
       "<IPython.core.display.HTML object>"
      ]
     },
     "metadata": {},
     "output_type": "display_data"
    },
    {
     "data": {
      "text/html": [
       "Find logs at: <code>./wandb/run-20250815_071101-jjeicgqj/logs</code>"
      ],
      "text/plain": [
       "<IPython.core.display.HTML object>"
      ]
     },
     "metadata": {},
     "output_type": "display_data"
    },
    {
     "data": {
      "text/html": [
       "The new W&B backend becomes opt-out in version 0.18.0; try it out with `wandb.require(\"core\")`! See https://wandb.me/wandb-core for more information."
      ],
      "text/plain": [
       "<IPython.core.display.HTML object>"
      ]
     },
     "metadata": {},
     "output_type": "display_data"
    },
    {
     "name": "stdout",
     "output_type": "stream",
     "text": [
      "[I 2025-08-15 07:54:33,513] Trial 12 finished with value: 0.852805045977085 and parameters: {'lr': 2.892824570696833e-05, 'weight_decay': 0.00979168138442126, 'batch_size': 16, 'unfreeze_last_k': 12}. Best is trial 11 with value: 0.8600960158069137.\n",
      "Best trial: 11 F1_macro: 0.8600960158069137\n"
     ]
    },
    {
     "data": {
      "text/html": [
       "wandb version 0.21.1 is available!  To upgrade, please run:\n",
       " $ pip install wandb --upgrade"
      ],
      "text/plain": [
       "<IPython.core.display.HTML object>"
      ]
     },
     "metadata": {},
     "output_type": "display_data"
    },
    {
     "data": {
      "text/html": [
       "Tracking run with wandb version 0.17.5"
      ],
      "text/plain": [
       "<IPython.core.display.HTML object>"
      ]
     },
     "metadata": {},
     "output_type": "display_data"
    },
    {
     "data": {
      "text/html": [
       "Run data is saved locally in <code>/content/wandb/run-20250815_075433-c61p7plu</code>"
      ],
      "text/plain": [
       "<IPython.core.display.HTML object>"
      ]
     },
     "metadata": {},
     "output_type": "display_data"
    },
    {
     "data": {
      "text/html": [
       "Syncing run <strong><a href='https://wandb.ai/gal2361-tel-aviv-university/adv-dl2-p1/runs/c61p7plu' target=\"_blank\">roberta-base_trainer_best</a></strong> to <a href='https://wandb.ai/gal2361-tel-aviv-university/adv-dl2-p1' target=\"_blank\">Weights & Biases</a> (<a href='https://wandb.me/run' target=\"_blank\">docs</a>)<br/>"
      ],
      "text/plain": [
       "<IPython.core.display.HTML object>"
      ]
     },
     "metadata": {},
     "output_type": "display_data"
    },
    {
     "data": {
      "text/html": [
       " View project at <a href='https://wandb.ai/gal2361-tel-aviv-university/adv-dl2-p1' target=\"_blank\">https://wandb.ai/gal2361-tel-aviv-university/adv-dl2-p1</a>"
      ],
      "text/plain": [
       "<IPython.core.display.HTML object>"
      ]
     },
     "metadata": {},
     "output_type": "display_data"
    },
    {
     "data": {
      "text/html": [
       " View run at <a href='https://wandb.ai/gal2361-tel-aviv-university/adv-dl2-p1/runs/c61p7plu' target=\"_blank\">https://wandb.ai/gal2361-tel-aviv-university/adv-dl2-p1/runs/c61p7plu</a>"
      ],
      "text/plain": [
       "<IPython.core.display.HTML object>"
      ]
     },
     "metadata": {},
     "output_type": "display_data"
    },
    {
     "name": "stderr",
     "output_type": "stream",
     "text": [
      "Some weights of RobertaForSequenceClassification were not initialized from the model checkpoint at roberta-base and are newly initialized: ['classifier.dense.bias', 'classifier.dense.weight', 'classifier.out_proj.bias', 'classifier.out_proj.weight']\n",
      "You should probably TRAIN this model on a down-stream task to be able to use it for predictions and inference.\n"
     ]
    },
    {
     "ename": "KeyError",
     "evalue": "'warmup_ratio'",
     "output_type": "error",
     "traceback": [
      "\u001b[0;31m---------------------------------------------------------------------------\u001b[0m",
      "\u001b[0;31mKeyError\u001b[0m                                  Traceback (most recent call last)",
      "\u001b[0;32m/tmp/ipython-input-3914463228.py\u001b[0m in \u001b[0;36m<cell line: 0>\u001b[0;34m()\u001b[0m\n\u001b[1;32m    296\u001b[0m \u001b[0mwandb\u001b[0m\u001b[0;34m.\u001b[0m\u001b[0minit\u001b[0m\u001b[0;34m(\u001b[0m\u001b[0mproject\u001b[0m\u001b[0;34m=\u001b[0m\u001b[0mPROJECT\u001b[0m\u001b[0;34m,\u001b[0m \u001b[0mname\u001b[0m\u001b[0;34m=\u001b[0m\u001b[0mbest_run_name\u001b[0m\u001b[0;34m,\u001b[0m \u001b[0mconfig\u001b[0m\u001b[0;34m=\u001b[0m\u001b[0mbest_params\u001b[0m\u001b[0;34m,\u001b[0m \u001b[0mreinit\u001b[0m\u001b[0;34m=\u001b[0m\u001b[0;32mTrue\u001b[0m\u001b[0;34m)\u001b[0m\u001b[0;34m\u001b[0m\u001b[0;34m\u001b[0m\u001b[0m\n\u001b[1;32m    297\u001b[0m \u001b[0;34m\u001b[0m\u001b[0m\n\u001b[0;32m--> 298\u001b[0;31m \u001b[0mtrainer\u001b[0m \u001b[0;34m=\u001b[0m \u001b[0mmake_trainer\u001b[0m\u001b[0;34m(\u001b[0m\u001b[0mbest_params\u001b[0m\u001b[0;34m,\u001b[0m \u001b[0mbest_out_dir\u001b[0m\u001b[0;34m,\u001b[0m \u001b[0mbest_run_name\u001b[0m\u001b[0;34m)\u001b[0m\u001b[0;34m\u001b[0m\u001b[0;34m\u001b[0m\u001b[0m\n\u001b[0m\u001b[1;32m    299\u001b[0m \u001b[0mtrainer\u001b[0m\u001b[0;34m.\u001b[0m\u001b[0mtrain\u001b[0m\u001b[0;34m(\u001b[0m\u001b[0;34m)\u001b[0m\u001b[0;34m\u001b[0m\u001b[0;34m\u001b[0m\u001b[0m\n\u001b[1;32m    300\u001b[0m \u001b[0;34m\u001b[0m\u001b[0m\n",
      "\u001b[0;32m/tmp/ipython-input-3914463228.py\u001b[0m in \u001b[0;36mmake_trainer\u001b[0;34m(params, output_dir, run_name)\u001b[0m\n\u001b[1;32m    180\u001b[0m         \u001b[0mlearning_rate\u001b[0m\u001b[0;34m=\u001b[0m\u001b[0mfloat\u001b[0m\u001b[0;34m(\u001b[0m\u001b[0mparams\u001b[0m\u001b[0;34m[\u001b[0m\u001b[0;34m\"lr\"\u001b[0m\u001b[0;34m]\u001b[0m\u001b[0;34m)\u001b[0m\u001b[0;34m,\u001b[0m\u001b[0;34m\u001b[0m\u001b[0;34m\u001b[0m\u001b[0m\n\u001b[1;32m    181\u001b[0m         \u001b[0mweight_decay\u001b[0m\u001b[0;34m=\u001b[0m\u001b[0mfloat\u001b[0m\u001b[0;34m(\u001b[0m\u001b[0mparams\u001b[0m\u001b[0;34m[\u001b[0m\u001b[0;34m\"weight_decay\"\u001b[0m\u001b[0;34m]\u001b[0m\u001b[0;34m)\u001b[0m\u001b[0;34m,\u001b[0m\u001b[0;34m\u001b[0m\u001b[0;34m\u001b[0m\u001b[0m\n\u001b[0;32m--> 182\u001b[0;31m         \u001b[0mwarmup_ratio\u001b[0m\u001b[0;34m=\u001b[0m\u001b[0mfloat\u001b[0m\u001b[0;34m(\u001b[0m\u001b[0mparams\u001b[0m\u001b[0;34m[\u001b[0m\u001b[0;34m\"warmup_ratio\"\u001b[0m\u001b[0;34m]\u001b[0m\u001b[0;34m)\u001b[0m\u001b[0;34m,\u001b[0m\u001b[0;34m\u001b[0m\u001b[0;34m\u001b[0m\u001b[0m\n\u001b[0m\u001b[1;32m    183\u001b[0m         \u001b[0mper_device_train_batch_size\u001b[0m\u001b[0;34m=\u001b[0m\u001b[0mint\u001b[0m\u001b[0;34m(\u001b[0m\u001b[0mparams\u001b[0m\u001b[0;34m[\u001b[0m\u001b[0;34m\"per_device_train_batch_size\"\u001b[0m\u001b[0;34m]\u001b[0m\u001b[0;34m)\u001b[0m\u001b[0;34m,\u001b[0m\u001b[0;34m\u001b[0m\u001b[0;34m\u001b[0m\u001b[0m\n\u001b[1;32m    184\u001b[0m         \u001b[0mper_device_eval_batch_size\u001b[0m\u001b[0;34m=\u001b[0m\u001b[0mint\u001b[0m\u001b[0;34m(\u001b[0m\u001b[0mparams\u001b[0m\u001b[0;34m[\u001b[0m\u001b[0;34m\"per_device_eval_batch_size\"\u001b[0m\u001b[0;34m]\u001b[0m\u001b[0;34m)\u001b[0m\u001b[0;34m,\u001b[0m\u001b[0;34m\u001b[0m\u001b[0;34m\u001b[0m\u001b[0m\n",
      "\u001b[0;31mKeyError\u001b[0m: 'warmup_ratio'"
     ]
    }
   ],
   "source": [
    "# =========================\n",
    "# ADV DL – Part B: RoBERTa (Trainer API + Optuna + W&B)\n",
    "# Freeze base, unfreeze last k; 5-class sentiment\n",
    "# Expects df_train/df_test already loaded with columns: [\"OriginalTweet\",\"Sentiment\"]\n",
    "# =========================\n",
    "\n",
    "import os, math, random, time, json\n",
    "from typing import Dict, Any\n",
    "import numpy as np\n",
    "import pandas as pd\n",
    "from sklearn.metrics import accuracy_score, precision_recall_fscore_support, classification_report, confusion_matrix\n",
    "\n",
    "import torch\n",
    "from transformers import (\n",
    "    AutoTokenizer, AutoModelForSequenceClassification,\n",
    "    DataCollatorWithPadding, TrainingArguments, Trainer,\n",
    "    EarlyStoppingCallback\n",
    ")\n",
    "import optuna\n",
    "import wandb\n",
    "from datasets import Dataset, DatasetDict\n",
    "import numpy as np\n",
    "import datasets\n",
    "\n",
    "# Patch datasets' arrow → numpy conversion to be NumPy 2.x safe\n",
    "old_arrow_array_to_numpy = datasets.formatting.formatting.NumpyArrowExtractor._arrow_array_to_numpy\n",
    "\n",
    "def safe_arrow_array_to_numpy(self, pa_array):\n",
    "    return np.asarray(pa_array)  # allows copy when needed\n",
    "\n",
    "datasets.formatting.formatting.NumpyArrowExtractor._arrow_array_to_numpy = safe_arrow_array_to_numpy\n",
    "\n",
    "\n",
    "# -------------------------\n",
    "# Globals\n",
    "# -------------------------\n",
    "MODEL_NAME = \"roberta-base\"\n",
    "MAX_LEN = 512\n",
    "PROJECT = \"adv-dl2-p1\"\n",
    "BASE_RUN_NAME = \"roberta-base_trainer\"\n",
    "TRIALS = 12\n",
    "SEED = 42\n",
    "DEVICE = \"cuda\" if torch.cuda.is_available() else \"cpu\"\n",
    "\n",
    "def set_seed(seed=42):\n",
    "    random.seed(seed); np.random.seed(seed)\n",
    "    torch.manual_seed(seed); torch.cuda.manual_seed_all(seed)\n",
    "    torch.backends.cudnn.deterministic = True\n",
    "    torch.backends.cudnn.benchmark = False\n",
    "\n",
    "set_seed(SEED)\n",
    "\n",
    "# -------------------------\n",
    "# Labels (5 classes)\n",
    "# -------------------------\n",
    "CANON = {\n",
    "    \"extremely negative\": \"extremely negative\",\n",
    "    \"negative\": \"negative\",\n",
    "    \"neutral\": \"neutral\",\n",
    "    \"positive\": \"positive\",\n",
    "    \"extremely positive\": \"extremely positive\",\n",
    "}\n",
    "ORDER = [\"extremely negative\",\"negative\",\"neutral\",\"positive\",\"extremely positive\"]\n",
    "LABEL2ID = {lab: i for i, lab in enumerate(ORDER)}\n",
    "ID2LABEL = {i: lab for lab, i in LABEL2ID.items()}\n",
    "\n",
    "def normalize_label(s: str) -> str:\n",
    "    s = str(s).strip().lower()\n",
    "    s = s.replace(\"very negative\", \"extremely negative\")\n",
    "    s = s.replace(\"very positive\", \"extremely positive\")\n",
    "    s = s.replace(\"extreme negative\", \"extremely negative\")\n",
    "    s = s.replace(\"extreme positive\", \"extremely positive\")\n",
    "    return CANON.get(s, s)\n",
    "\n",
    "# -------------------------\n",
    "# Expect df_train/df_test preloaded\n",
    "# -------------------------\n",
    "assert \"OriginalTweet\" in df_train.columns and \"Sentiment\" in df_train.columns, \"df_train missing required columns\"\n",
    "assert \"OriginalTweet\" in df_test.columns and \"Sentiment\" in df_test.columns, \"df_test missing required columns\"\n",
    "\n",
    "def prep_df(df: pd.DataFrame) -> pd.DataFrame:\n",
    "    df = df.dropna(subset=[\"OriginalTweet\", \"Sentiment\"]).copy()\n",
    "    df[\"text\"] = df[\"OriginalTweet\"].astype(str).str.strip()\n",
    "    df[\"label_name\"] = df[\"Sentiment\"].apply(normalize_label)\n",
    "    df = df[df[\"label_name\"].isin(ORDER)].reset_index(drop=True)\n",
    "    df[\"label\"] = df[\"label_name\"].map(LABEL2ID)\n",
    "    return df[[\"text\",\"label\",\"label_name\"]]\n",
    "\n",
    "dftrain_ = prep_df(df_train)\n",
    "dftest_  = prep_df(df_test)\n",
    "\n",
    "# Stratified split\n",
    "from sklearn.model_selection import train_test_split\n",
    "train_df, val_df = train_test_split(\n",
    "    dftrain_, test_size=0.1, stratify=dftrain_[\"label\"], random_state=SEED\n",
    ")\n",
    "print(f\"Train/Val/Test sizes: {len(train_df)}/{len(val_df)}/{len(dftest_)}\")\n",
    "\n",
    "# -------------------------\n",
    "# HF Datasets + Tokenizer\n",
    "# -------------------------\n",
    "tokenizer = AutoTokenizer.from_pretrained(MODEL_NAME, use_fast=True)\n",
    "\n",
    "def tokenize_batch(batch):\n",
    "    return tokenizer(batch[\"text\"], truncation=True, max_length=MAX_LEN)\n",
    "\n",
    "ds_train = Dataset.from_pandas(train_df.reset_index(drop=True))\n",
    "ds_val   = Dataset.from_pandas(val_df.reset_index(drop=True))\n",
    "ds_test  = Dataset.from_pandas(dftest_.reset_index(drop=True))\n",
    "\n",
    "ds = DatasetDict({\"train\": ds_train, \"validation\": ds_val, \"test\": ds_test})\n",
    "ds = ds.remove_columns([c for c in ds[\"train\"].column_names if c not in [\"text\",\"label\"]])\n",
    "ds_tok = ds.map(tokenize_batch, batched=True, remove_columns=[\"text\"])\n",
    "ds_tok = ds_tok.rename_column(\"label\", \"labels\")   # Trainer expects 'labels'\n",
    "ds_tok.set_format(\"torch\")\n",
    "\n",
    "collator = DataCollatorWithPadding(tokenizer=tokenizer)\n",
    "\n",
    "# -------------------------\n",
    "# Model + freezing policy\n",
    "# -------------------------\n",
    "def build_model(unfreeze_last_k: int = 4) -> AutoModelForSequenceClassification:\n",
    "    model = AutoModelForSequenceClassification.from_pretrained(\n",
    "        MODEL_NAME, num_labels=len(ORDER), id2label=ID2LABEL, label2id=LABEL2ID\n",
    "    )\n",
    "    base = getattr(model, \"roberta\", None) or getattr(model, \"bert\", None)\n",
    "    if base is not None:\n",
    "        for p in base.parameters(): p.requires_grad = False  # freeze all\n",
    "        if hasattr(base, \"encoder\") and hasattr(base.encoder, \"layer\") and unfreeze_last_k > 0:\n",
    "            for layer in base.encoder.layer[-unfreeze_last_k:]:\n",
    "                for p in layer.parameters(): p.requires_grad = True\n",
    "    if hasattr(model, \"classifier\"):\n",
    "        for p in model.classifier.parameters(): p.requires_grad = True\n",
    "    return model\n",
    "\n",
    "# -------------------------\n",
    "# Metrics (pure sklearn to avoid evaluate/datasets mismatch)\n",
    "# -------------------------\n",
    "def compute_metrics(eval_pred):\n",
    "    logits, labels = eval_pred\n",
    "    preds = np.argmax(logits, axis=-1)\n",
    "    acc = accuracy_score(labels, preds)\n",
    "    p, r, f1, _ = precision_recall_fscore_support(labels, preds, average=\"macro\", zero_division=0)\n",
    "    return {\n",
    "        \"accuracy\": acc,\n",
    "        \"precision_macro\": p,\n",
    "        \"recall_macro\": r,\n",
    "        \"f1_macro\": f1,\n",
    "    }\n",
    "\n",
    "# -------------------------\n",
    "# W&B helper\n",
    "# -------------------------\n",
    "def log_conf_mat_to_wandb(y_true, y_pred, prefix=\"val\"):\n",
    "    table = wandb.plot.confusion_matrix(\n",
    "        y_true=y_true,\n",
    "        preds=y_pred,\n",
    "        class_names=[ID2LABEL[i] for i in range(len(ID2LABEL))]\n",
    "    )\n",
    "    wandb.log({f\"{prefix}/confusion_matrix\": table})\n",
    "\n",
    "# -------------------------\n",
    "# Optuna objective (wraps Trainer)\n",
    "# -------------------------\n",
    "FIXED_EPOCHS = 12\n",
    "PATIENCE = 4\n",
    "LOG_STEPS = 20\n",
    "\n",
    "def make_trainer(params: Dict[str, Any], output_dir: str, run_name: str) -> Trainer:\n",
    "    model = build_model(unfreeze_last_k=int(params[\"unfreeze_last_k\"]))\n",
    "    args = TrainingArguments(\n",
    "        output_dir=output_dir,\n",
    "        evaluation_strategy=\"epoch\",         # canonical name\n",
    "        save_strategy=\"epoch\",\n",
    "        load_best_model_at_end=True,\n",
    "        metric_for_best_model=\"eval_f1_macro\",  # Trainer prefixes eval metrics\n",
    "        greater_is_better=True,\n",
    "\n",
    "        num_train_epochs=FIXED_EPOCHS,\n",
    "        learning_rate=float(params[\"lr\"]),\n",
    "        weight_decay=float(params[\"weight_decay\"]),\n",
    "        warmup_ratio=float(params[\"warmup_ratio\"]),\n",
    "        per_device_train_batch_size=int(params[\"per_device_train_batch_size\"]),\n",
    "        per_device_eval_batch_size=int(params[\"per_device_eval_batch_size\"]),\n",
    "        gradient_accumulation_steps=int(params[\"gradient_accumulation_steps\"]),\n",
    "        fp16=torch.cuda.is_available(),\n",
    "\n",
    "        logging_steps=LOG_STEPS,\n",
    "        report_to=[\"wandb\"],\n",
    "        run_name=run_name,\n",
    "        seed=SEED,\n",
    "        save_total_limit=2,\n",
    "    )\n",
    "    trainer = Trainer(\n",
    "        model=model,\n",
    "        args=args,\n",
    "        train_dataset=ds_tok[\"train\"],\n",
    "        eval_dataset=ds_tok[\"validation\"],\n",
    "        tokenizer=tokenizer,\n",
    "        data_collator=collator,\n",
    "        compute_metrics=compute_metrics,\n",
    "        callbacks=[EarlyStoppingCallback(early_stopping_patience=PATIENCE)]\n",
    "    )\n",
    "    return trainer\n",
    "def objective(trial: optuna.trial.Trial) -> float:\n",
    "    params = {\n",
    "        \"lr\": trial.suggest_float(\"lr\", 1e-6, 3e-5, log=True),  # safer upper bound for more layers\n",
    "        \"weight_decay\": trial.suggest_float(\"weight_decay\", 1e-6, 1e-2, log=True),  # updated upper bound\n",
    "        \"warmup_ratio\": 0.06,  # fixed\n",
    "        \"batch_size\": trial.suggest_categorical(\"batch_size\", [4, 8, 16, 32]),  # single batch size for both train & eval\n",
    "        \"gradient_accumulation_steps\": 1,  # fixed\n",
    "        \"unfreeze_last_k\": trial.suggest_int(\"unfreeze_last_k\", 5, 12),  # between 5 and 12 layers unfrozen\n",
    "    }\n",
    "\n",
    "    run_name = f\"{BASE_RUN_NAME}_trial_{trial.number}\"\n",
    "    output_dir = os.path.join(DRIVE_OUT_DIR, run_name)\n",
    "\n",
    "    wandb.init(project=PROJECT, name=run_name, config=params, reinit=True)\n",
    "\n",
    "    # pass the same batch_size for both train & eval\n",
    "    trainer = make_trainer(\n",
    "        {\n",
    "            **params,\n",
    "            \"per_device_train_batch_size\": params[\"batch_size\"],\n",
    "            \"per_device_eval_batch_size\": params[\"batch_size\"],\n",
    "        },\n",
    "        output_dir,\n",
    "        run_name\n",
    "    )\n",
    "\n",
    "    _ = trainer.train()  # early stopping inside\n",
    "\n",
    "    # Evaluate (best model auto-loaded)\n",
    "    metrics = trainer.evaluate()\n",
    "    wandb.log({\n",
    "        \"val/accuracy\":        metrics.get(\"eval_accuracy\"),\n",
    "        \"val/precision_macro\": metrics.get(\"eval_precision_macro\"),\n",
    "        \"val/recall_macro\":    metrics.get(\"eval_recall_macro\"),\n",
    "        \"val/f1_macro\":        metrics.get(\"eval_f1_macro\"),\n",
    "    })\n",
    "\n",
    "    # Confusion matrix on validation\n",
    "    preds = trainer.predict(ds_tok[\"validation\"])\n",
    "    y_true = preds.label_ids\n",
    "    y_pred = np.argmax(preds.predictions, axis=-1)\n",
    "    log_conf_mat_to_wandb(y_true, y_pred, prefix=\"val\")\n",
    "\n",
    "    # Save best checkpoint path to W&B summary\n",
    "    best_dir = trainer.state.best_model_checkpoint\n",
    "    wandb.summary[\"best_checkpoint_path\"] = best_dir if best_dir else output_dir\n",
    "\n",
    "    wandb.finish()\n",
    "\n",
    "    # Return the metric Optuna maximizes\n",
    "    return float(metrics.get(\"eval_f1_macro\", 0.0))\n",
    "# -------------------------\n",
    "# Optuna search (RESUMABLE)\n",
    "# -------------------------\n",
    "storage_url = f\"sqlite:///{os.path.join(DRIVE_OUT_DIR, f'{BASE_RUN_NAME}_optuna.db')}\"\n",
    "study_name = f\"{BASE_RUN_NAME}_study\"\n",
    "\n",
    "try:\n",
    "    # load_study only needs study_name and storage\n",
    "    study = optuna.load_study(study_name=study_name, storage=storage_url)\n",
    "    print(f\"Loaded existing study: {study_name}\")\n",
    "except KeyError:\n",
    "    study = optuna.create_study(\n",
    "        study_name=study_name,\n",
    "        storage=storage_url,\n",
    "        direction=\"maximize\"\n",
    "    )\n",
    "    print(f\"Created new study: {study_name}\")\n",
    "\n",
    "completed = len([t for t in study.get_trials(deepcopy=False) if t.state == optuna.trial.TrialState.COMPLETE])\n",
    "remaining = max(0, TRIALS - completed)\n",
    "print(f\"Trials completed: {completed} / {TRIALS} → remaining: {remaining}\")\n",
    "\n",
    "if remaining > 0:\n",
    "    study.optimize(objective, n_trials=remaining, show_progress_bar=True)\n",
    "else:\n",
    "    print(\"Requested number of trials already completed; skipping optimization.\")\n",
    "\n",
    "print(\"Best trial:\", study.best_trial.number, \"F1_macro:\", study.best_value)\n",
    "\n",
    "best_params = study.best_params\n",
    "best_params[\"per_device_train_batch_size\"] = best_params[\"batch_size\"]\n",
    "best_params[\"per_device_eval_batch_size\"] = best_params[\"batch_size\"]\n",
    "\n",
    "\n",
    "\n",
    "# -------------------------\n",
    "# Retrain best config cleanly\n",
    "# -------------------------\n",
    "best_run_name = f\"{BASE_RUN_NAME}_best\"\n",
    "best_out_dir = os.path.join(DRIVE_OUT_DIR, best_run_name)\n",
    "wandb.init(project=PROJECT, name=best_run_name, config=best_params, reinit=True)\n",
    "\n",
    "trainer = make_trainer(best_params, best_out_dir, best_run_name)\n",
    "trainer.train()\n",
    "\n",
    "best_ckpt_dir = trainer.state.best_model_checkpoint or best_out_dir\n",
    "print(\"Best checkpoint directory:\", best_ckpt_dir)\n",
    "wandb.summary[\"best_checkpoint_path\"] = best_ckpt_dir\n",
    "\n",
    "# -------------------------\n",
    "# # Final TEST evaluation\n",
    "# # -------------------------\n",
    "# test_metrics = trainer.evaluate(ds_tok[\"test\"])\n",
    "\n",
    "# preds_test = trainer.predict(ds_tok[\"test\"])\n",
    "# y_true_test = preds_test.label_ids\n",
    "# y_pred_test = np.argmax(preds_test.predictions, axis=-1)\n",
    "\n",
    "# acc = accuracy_score(y_true_test, y_pred_test)\n",
    "# p, r, f1, _ = precision_recall_fscore_support(y_true_test, y_pred_test, average=\"macro\", zero_division=0)\n",
    "# print(f\"\\nTEST | acc={acc:.4f} | f1_macro={f1:.4f} | precision_macro={p:.4f} | recall_macro={r:.4f}\\n\")\n",
    "\n",
    "# print(\"Per-class report:\")\n",
    "# print(classification_report(\n",
    "#     y_true_test, y_pred_test,\n",
    "#     target_names=[ID2LABEL[i] for i in range(len(ORDER))],\n",
    "#     zero_division=0\n",
    "# ))\n",
    "\n",
    "# # Log to W&B\n",
    "# report = classification_report(\n",
    "#     y_true_test, y_pred_test,\n",
    "#     target_names=[ID2LABEL[i] for i in range(len(ORDER))],\n",
    "#     zero_division=0, output_dict=True\n",
    "# )\n",
    "\n",
    "# payload = {\n",
    "#     \"test/accuracy\": acc,\n",
    "#     \"test/precision_macro\": p,\n",
    "#     \"test/recall_macro\": r,\n",
    "#     \"test/f1_macro\": f1,\n",
    "# }\n",
    "# for cls_name in ORDER:\n",
    "#     if cls_name in report:\n",
    "#         payload[f\"test/{cls_name}/precision\"] = report[cls_name][\"precision\"]\n",
    "#         payload[f\"test/{cls_name}/recall\"]    = report[cls_name][\"recall\"]\n",
    "#         payload[f\"test/{cls_name}/f1\"]        = report[cls_name][\"f1-score\"]\n",
    "\n",
    "# wandb.log(payload)\n",
    "# table = wandb.plot.confusion_matrix(\n",
    "#     y_true=y_true_test,\n",
    "#     preds=y_pred_test,\n",
    "#     class_names=[ID2LABEL[i] for i in range(len(ID2LABEL))]\n",
    "# )\n",
    "# wandb.log({\"test/confusion_matrix\": table})\n",
    "# wandb.finish()\n",
    "\n",
    "# # Save the final best model weights to Drive\n",
    "# final_path = os.path.join(DRIVE_OUT_DIR, f\"best_{BASE_RUN_NAME}_trainer.pt\")\n",
    "# torch.save(trainer.model.state_dict(), final_path)\n",
    "# print(\"Saved best model state_dict to:\", final_path)\n"
   ]
  },
  {
   "cell_type": "markdown",
   "metadata": {
    "id": "tkmrxJaRw_HC"
   },
   "source": [
    "# ✅ Final Training – Best Optuna Trials\n",
    "\n",
    "We selected the **top-performing configurations** from our Optuna study for RoBERTa-base with high unfrozen layers.  \n",
    "\n",
    "### 🔬 Best Trials and Hyperparameters\n",
    "- **Trial 12** → `{'lr': 2.8928e-05, 'weight_decay': 9.79e-03, 'batch_size': 16, 'unfreeze_last_k': 12}`  \n",
    "  → **F1_macro = 0.8528**  \n",
    "\n",
    "- **Trial 11** → `{'lr': 2.9606e-05, 'weight_decay': 8.81e-03, 'batch_size': 16, 'unfreeze_last_k': 12}`  \n",
    "  → **F1_macro = 0.8601**  🏆 **Best**  \n",
    "\n",
    "- **Trial 4** → `{'lr': 2.1162e-05, 'weight_decay': 1.33e-03, 'batch_size': 16, 'unfreeze_last_k': 10}`  \n",
    "  → **F1_macro = 0.8327**  \n",
    "\n",
    "### 📈 Summary\n",
    "- The **best-performing trial was #11**, achieving **F1_macro = 0.8601**,  \n",
    "  confirming that **larger numbers of unfrozen layers (k=12)** and carefully tuned learning rates yield the strongest results.  \n",
    "- Both Trial 11 and Trial 12 converge to high performance with similar hyperparameters,  \n",
    "  while Trial 4 (with only 10 unfrozen layers) lagged behind.  \n",
    "\n",
    "➡️ We now compare all 3 models with **final evaluation**.  \n"
   ]
  },
  {
   "cell_type": "markdown",
   "metadata": {},
   "source": [
    "# Load Best Model"
   ]
  },
  {
   "cell_type": "code",
   "execution_count": 7,
   "metadata": {
    "colab": {
     "base_uri": "https://localhost:8080/",
     "height": 1000,
     "referenced_widgets": [
      "28d7627733c64cdca7df9f6434e066c7",
      "938529569b4942c69b391db0feadb9b2",
      "374f3a566063470fb7091af27778e409",
      "9cad7913a5c1469fa0355ed179a50ade",
      "b470bf4c4e384627b95af052cbc81dc9",
      "2600af6f105b4aa3afde73e8d493163e",
      "4d680b4f1f384091b533a2db9672137f",
      "c3c6acdf78724bb08c0d5d8ba4cafc31",
      "5f40072c8c5a494e945fd406d45fbc18",
      "7ec6b06916a74a7983343216da3036a2",
      "ae34d9e4fba741549e3321c31534896b",
      "4ecf3ad3bfe740198aae391c2d37f8fa",
      "2229d7b766654371a3952b81750d136f",
      "5bdedd6d3ddc4dff810cc002e867a2d7",
      "dcb28feac2e643cebaf6151b220d2d59",
      "840aa70427154ad0bb22d374a5f3ec43",
      "e83751b24bd24503a70cd1eea63d0d8c",
      "64d7407132684fea88b84c18182a7313",
      "f14d73a38118443f8ef11dfba80519f3",
      "2a59df75adb9429e96765ece2b463b0c",
      "cc7a436a74a447408c32d482729a4420",
      "7f406183e80b47d491ed1ef794cb41c2",
      "0641579cbbed4b3392540d2e0b62588e",
      "068f424a18f44002b35742a55614079d",
      "3e19ae3bb89d41859dc3401f12cb8f96",
      "57c61eaecd0c4cec87606063dc9b9014",
      "ee09535f51a64f41af3193a31697fe69",
      "b3a83d62b60542f3908e46f2e46c1f25",
      "eba513c9100741b9bdcc0b8b10291bd9",
      "60990d7dae01437198a6c4afa061ce65",
      "9a400a00aabc4f0692a0667dfc7a4f11",
      "455463dfe3c64a60ac8a4855ab6abc08",
      "b3233fd6e1744ce9812095a90adfa6c9"
     ]
    },
    "executionInfo": {
     "elapsed": 31201961,
     "status": "ok",
     "timestamp": 1755277659865,
     "user": {
      "displayName": "גל גוסרסקי",
      "userId": "06195569624382764324"
     },
     "user_tz": -180
    },
    "id": "15oT3nQWxDMa",
    "outputId": "20565c88-d02a-4fa1-c1a1-4ebf4082c8e3"
   },
   "outputs": [
    {
     "name": "stdout",
     "output_type": "stream",
     "text": [
      "Drive already mounted at /content/drive; to attempt to forcibly remount, call drive.mount(\"/content/drive\", force_remount=True).\n"
     ]
    },
    {
     "name": "stderr",
     "output_type": "stream",
     "text": [
      "/usr/local/lib/python3.11/dist-packages/transformers/tokenization_utils_base.py:1601: FutureWarning: `clean_up_tokenization_spaces` was not set. It will be set to `True` by default. This behavior will be depracted in transformers v4.45, and will be then set to `False` by default. For more details check this issue: https://github.com/huggingface/transformers/issues/31884\n",
      "  warnings.warn(\n"
     ]
    },
    {
     "data": {
      "application/vnd.jupyter.widget-view+json": {
       "model_id": "28d7627733c64cdca7df9f6434e066c7",
       "version_major": 2,
       "version_minor": 0
      },
      "text/plain": [
       "Map:   0%|          | 0/37039 [00:00<?, ? examples/s]"
      ]
     },
     "metadata": {},
     "output_type": "display_data"
    },
    {
     "data": {
      "application/vnd.jupyter.widget-view+json": {
       "model_id": "4ecf3ad3bfe740198aae391c2d37f8fa",
       "version_major": 2,
       "version_minor": 0
      },
      "text/plain": [
       "Map:   0%|          | 0/4116 [00:00<?, ? examples/s]"
      ]
     },
     "metadata": {},
     "output_type": "display_data"
    },
    {
     "data": {
      "application/vnd.jupyter.widget-view+json": {
       "model_id": "0641579cbbed4b3392540d2e0b62588e",
       "version_major": 2,
       "version_minor": 0
      },
      "text/plain": [
       "Map:   0%|          | 0/3798 [00:00<?, ? examples/s]"
      ]
     },
     "metadata": {},
     "output_type": "display_data"
    },
    {
     "name": "stdout",
     "output_type": "stream",
     "text": [
      "\n",
      "=== Training model 1 with params: {'lr': 2.892824570696833e-05, 'weight_decay': 0.00979168138442126, 'batch_size': 16, 'unfreeze_last_k': 12} ===\n"
     ]
    },
    {
     "name": "stderr",
     "output_type": "stream",
     "text": [
      "Some weights of RobertaForSequenceClassification were not initialized from the model checkpoint at roberta-base and are newly initialized: ['classifier.dense.bias', 'classifier.dense.weight', 'classifier.out_proj.bias', 'classifier.out_proj.weight']\n",
      "You should probably TRAIN this model on a down-stream task to be able to use it for predictions and inference.\n",
      "/usr/local/lib/python3.11/dist-packages/transformers/training_args.py:1525: FutureWarning: `evaluation_strategy` is deprecated and will be removed in version 4.46 of 🤗 Transformers. Use `eval_strategy` instead\n",
      "  warnings.warn(\n",
      "/usr/local/lib/python3.11/dist-packages/accelerate/accelerator.py:494: FutureWarning: `torch.cuda.amp.GradScaler(args...)` is deprecated. Please use `torch.amp.GradScaler('cuda', args...)` instead.\n",
      "  self.scaler = torch.cuda.amp.GradScaler(**kwargs)\n",
      "\u001b[34m\u001b[1mwandb\u001b[0m: \u001b[33mWARNING\u001b[0m The `run_name` is currently set to the same value as `TrainingArguments.output_dir`. If this was not intended, please specify a different run name by setting the `TrainingArguments.run_name` parameter.\n"
     ]
    },
    {
     "data": {
      "text/html": [
       "\n",
       "    <div>\n",
       "      \n",
       "      <progress value='27780' max='27780' style='width:300px; height:20px; vertical-align: middle;'></progress>\n",
       "      [27780/27780 3:26:47, Epoch 12/12]\n",
       "    </div>\n",
       "    <table border=\"1\" class=\"dataframe\">\n",
       "  <thead>\n",
       " <tr style=\"text-align: left;\">\n",
       "      <th>Epoch</th>\n",
       "      <th>Training Loss</th>\n",
       "      <th>Validation Loss</th>\n",
       "      <th>Accuracy</th>\n",
       "      <th>Precision</th>\n",
       "      <th>Recall</th>\n",
       "      <th>F1</th>\n",
       "    </tr>\n",
       "  </thead>\n",
       "  <tbody>\n",
       "    <tr>\n",
       "      <td>1</td>\n",
       "      <td>0.894200</td>\n",
       "      <td>0.635982</td>\n",
       "      <td>0.757775</td>\n",
       "      <td>0.761935</td>\n",
       "      <td>0.757775</td>\n",
       "      <td>0.756523</td>\n",
       "    </tr>\n",
       "    <tr>\n",
       "      <td>2</td>\n",
       "      <td>0.562100</td>\n",
       "      <td>0.583375</td>\n",
       "      <td>0.780612</td>\n",
       "      <td>0.788107</td>\n",
       "      <td>0.780612</td>\n",
       "      <td>0.779218</td>\n",
       "    </tr>\n",
       "    <tr>\n",
       "      <td>3</td>\n",
       "      <td>0.424100</td>\n",
       "      <td>0.532060</td>\n",
       "      <td>0.813168</td>\n",
       "      <td>0.820613</td>\n",
       "      <td>0.813168</td>\n",
       "      <td>0.812790</td>\n",
       "    </tr>\n",
       "    <tr>\n",
       "      <td>4</td>\n",
       "      <td>0.338600</td>\n",
       "      <td>0.606171</td>\n",
       "      <td>0.826045</td>\n",
       "      <td>0.831789</td>\n",
       "      <td>0.826045</td>\n",
       "      <td>0.826484</td>\n",
       "    </tr>\n",
       "    <tr>\n",
       "      <td>5</td>\n",
       "      <td>0.274300</td>\n",
       "      <td>0.574704</td>\n",
       "      <td>0.842323</td>\n",
       "      <td>0.845523</td>\n",
       "      <td>0.842323</td>\n",
       "      <td>0.842639</td>\n",
       "    </tr>\n",
       "    <tr>\n",
       "      <td>6</td>\n",
       "      <td>0.232600</td>\n",
       "      <td>0.702069</td>\n",
       "      <td>0.838678</td>\n",
       "      <td>0.840968</td>\n",
       "      <td>0.838678</td>\n",
       "      <td>0.838295</td>\n",
       "    </tr>\n",
       "    <tr>\n",
       "      <td>7</td>\n",
       "      <td>0.206400</td>\n",
       "      <td>0.706372</td>\n",
       "      <td>0.836978</td>\n",
       "      <td>0.838296</td>\n",
       "      <td>0.836978</td>\n",
       "      <td>0.836685</td>\n",
       "    </tr>\n",
       "    <tr>\n",
       "      <td>8</td>\n",
       "      <td>0.170300</td>\n",
       "      <td>0.823484</td>\n",
       "      <td>0.837707</td>\n",
       "      <td>0.837741</td>\n",
       "      <td>0.837707</td>\n",
       "      <td>0.837160</td>\n",
       "    </tr>\n",
       "    <tr>\n",
       "      <td>9</td>\n",
       "      <td>0.146200</td>\n",
       "      <td>0.830450</td>\n",
       "      <td>0.849611</td>\n",
       "      <td>0.851270</td>\n",
       "      <td>0.849611</td>\n",
       "      <td>0.849209</td>\n",
       "    </tr>\n",
       "    <tr>\n",
       "      <td>10</td>\n",
       "      <td>0.113700</td>\n",
       "      <td>0.946641</td>\n",
       "      <td>0.842080</td>\n",
       "      <td>0.844280</td>\n",
       "      <td>0.842080</td>\n",
       "      <td>0.841716</td>\n",
       "    </tr>\n",
       "    <tr>\n",
       "      <td>11</td>\n",
       "      <td>0.093900</td>\n",
       "      <td>0.964006</td>\n",
       "      <td>0.846210</td>\n",
       "      <td>0.848168</td>\n",
       "      <td>0.846210</td>\n",
       "      <td>0.845560</td>\n",
       "    </tr>\n",
       "    <tr>\n",
       "      <td>12</td>\n",
       "      <td>0.070600</td>\n",
       "      <td>1.007232</td>\n",
       "      <td>0.846939</td>\n",
       "      <td>0.848419</td>\n",
       "      <td>0.846939</td>\n",
       "      <td>0.846407</td>\n",
       "    </tr>\n",
       "  </tbody>\n",
       "</table><p>"
      ],
      "text/plain": [
       "<IPython.core.display.HTML object>"
      ]
     },
     "metadata": {},
     "output_type": "display_data"
    },
    {
     "data": {
      "text/html": [],
      "text/plain": [
       "<IPython.core.display.HTML object>"
      ]
     },
     "metadata": {},
     "output_type": "display_data"
    },
    {
     "name": "stdout",
     "output_type": "stream",
     "text": [
      "Test metrics for model 1: {'eval_loss': 0.9277804493904114, 'eval_accuracy': 0.8267509215376514, 'eval_precision': 0.8278203596672534, 'eval_recall': 0.8267509215376514, 'eval_f1': 0.8260394900565873, 'eval_runtime': 30.0954, 'eval_samples_per_second': 126.199, 'eval_steps_per_second': 7.908, 'epoch': 12.0}\n",
      "\n",
      "Classification report for model 1:\n",
      "\n",
      "                    precision    recall  f1-score   support\n",
      "\n",
      "           Neutral     0.8077    0.8481    0.8274       619\n",
      "          Positive     0.8181    0.7930    0.8054       947\n",
      "Extremely Negative     0.8050    0.9274    0.8619       592\n",
      "          Negative     0.8456    0.7733    0.8078      1041\n",
      "Extremely Positive     0.8557    0.8514    0.8536       599\n",
      "\n",
      "          accuracy                         0.8268      3798\n",
      "         macro avg     0.8264    0.8387    0.8312      3798\n",
      "      weighted avg     0.8278    0.8268    0.8260      3798\n",
      "\n",
      "Model 1 saved to /content/drive/MyDrive/adv_dl_models_final2_best/roberta_base_best_set1.pt\n",
      "\n",
      "=== Training model 2 with params: {'lr': 2.960627147251281e-05, 'weight_decay': 0.008806331558971375, 'batch_size': 16, 'unfreeze_last_k': 12} ===\n"
     ]
    },
    {
     "name": "stderr",
     "output_type": "stream",
     "text": [
      "Some weights of RobertaForSequenceClassification were not initialized from the model checkpoint at roberta-base and are newly initialized: ['classifier.dense.bias', 'classifier.dense.weight', 'classifier.out_proj.bias', 'classifier.out_proj.weight']\n",
      "You should probably TRAIN this model on a down-stream task to be able to use it for predictions and inference.\n",
      "/usr/local/lib/python3.11/dist-packages/transformers/training_args.py:1525: FutureWarning: `evaluation_strategy` is deprecated and will be removed in version 4.46 of 🤗 Transformers. Use `eval_strategy` instead\n",
      "  warnings.warn(\n",
      "/usr/local/lib/python3.11/dist-packages/accelerate/accelerator.py:494: FutureWarning: `torch.cuda.amp.GradScaler(args...)` is deprecated. Please use `torch.amp.GradScaler('cuda', args...)` instead.\n",
      "  self.scaler = torch.cuda.amp.GradScaler(**kwargs)\n"
     ]
    },
    {
     "data": {
      "text/html": [
       "\n",
       "    <div>\n",
       "      \n",
       "      <progress value='20835' max='27780' style='width:300px; height:20px; vertical-align: middle;'></progress>\n",
       "      [20835/27780 2:35:07 < 51:42, 2.24 it/s, Epoch 9/12]\n",
       "    </div>\n",
       "    <table border=\"1\" class=\"dataframe\">\n",
       "  <thead>\n",
       " <tr style=\"text-align: left;\">\n",
       "      <th>Epoch</th>\n",
       "      <th>Training Loss</th>\n",
       "      <th>Validation Loss</th>\n",
       "      <th>Accuracy</th>\n",
       "      <th>Precision</th>\n",
       "      <th>Recall</th>\n",
       "      <th>F1</th>\n",
       "    </tr>\n",
       "  </thead>\n",
       "  <tbody>\n",
       "    <tr>\n",
       "      <td>1</td>\n",
       "      <td>0.892900</td>\n",
       "      <td>0.625280</td>\n",
       "      <td>0.761905</td>\n",
       "      <td>0.768574</td>\n",
       "      <td>0.761905</td>\n",
       "      <td>0.761326</td>\n",
       "    </tr>\n",
       "    <tr>\n",
       "      <td>2</td>\n",
       "      <td>0.563800</td>\n",
       "      <td>0.575930</td>\n",
       "      <td>0.792517</td>\n",
       "      <td>0.798034</td>\n",
       "      <td>0.792517</td>\n",
       "      <td>0.791802</td>\n",
       "    </tr>\n",
       "    <tr>\n",
       "      <td>3</td>\n",
       "      <td>0.425900</td>\n",
       "      <td>0.472377</td>\n",
       "      <td>0.838678</td>\n",
       "      <td>0.841494</td>\n",
       "      <td>0.838678</td>\n",
       "      <td>0.838933</td>\n",
       "    </tr>\n",
       "    <tr>\n",
       "      <td>4</td>\n",
       "      <td>0.329900</td>\n",
       "      <td>0.536025</td>\n",
       "      <td>0.837949</td>\n",
       "      <td>0.841105</td>\n",
       "      <td>0.837949</td>\n",
       "      <td>0.837726</td>\n",
       "    </tr>\n",
       "    <tr>\n",
       "      <td>5</td>\n",
       "      <td>0.275800</td>\n",
       "      <td>0.579265</td>\n",
       "      <td>0.852770</td>\n",
       "      <td>0.855236</td>\n",
       "      <td>0.852770</td>\n",
       "      <td>0.853175</td>\n",
       "    </tr>\n",
       "    <tr>\n",
       "      <td>6</td>\n",
       "      <td>0.236600</td>\n",
       "      <td>0.669635</td>\n",
       "      <td>0.844509</td>\n",
       "      <td>0.845272</td>\n",
       "      <td>0.844509</td>\n",
       "      <td>0.844414</td>\n",
       "    </tr>\n",
       "    <tr>\n",
       "      <td>7</td>\n",
       "      <td>0.202400</td>\n",
       "      <td>0.731183</td>\n",
       "      <td>0.838921</td>\n",
       "      <td>0.839094</td>\n",
       "      <td>0.838921</td>\n",
       "      <td>0.838673</td>\n",
       "    </tr>\n",
       "    <tr>\n",
       "      <td>8</td>\n",
       "      <td>0.171500</td>\n",
       "      <td>0.816128</td>\n",
       "      <td>0.837707</td>\n",
       "      <td>0.838238</td>\n",
       "      <td>0.837707</td>\n",
       "      <td>0.837081</td>\n",
       "    </tr>\n",
       "    <tr>\n",
       "      <td>9</td>\n",
       "      <td>0.139800</td>\n",
       "      <td>0.835213</td>\n",
       "      <td>0.853013</td>\n",
       "      <td>0.855074</td>\n",
       "      <td>0.853013</td>\n",
       "      <td>0.852600</td>\n",
       "    </tr>\n",
       "  </tbody>\n",
       "</table><p>"
      ],
      "text/plain": [
       "<IPython.core.display.HTML object>"
      ]
     },
     "metadata": {},
     "output_type": "display_data"
    },
    {
     "data": {
      "text/html": [],
      "text/plain": [
       "<IPython.core.display.HTML object>"
      ]
     },
     "metadata": {},
     "output_type": "display_data"
    },
    {
     "name": "stdout",
     "output_type": "stream",
     "text": [
      "Test metrics for model 2: {'eval_loss': 0.6522133946418762, 'eval_accuracy': 0.8354397051079515, 'eval_precision': 0.839288564650419, 'eval_recall': 0.8354397051079515, 'eval_f1': 0.8358491465662637, 'eval_runtime': 30.0756, 'eval_samples_per_second': 126.282, 'eval_steps_per_second': 7.913, 'epoch': 9.0}\n",
      "\n",
      "Classification report for model 2:\n",
      "\n",
      "                    precision    recall  f1-score   support\n",
      "\n",
      "           Neutral     0.8910    0.8320    0.8605       619\n",
      "          Positive     0.7811    0.8627    0.8199       947\n",
      "Extremely Negative     0.8278    0.8767    0.8515       592\n",
      "          Negative     0.8223    0.8136    0.8180      1041\n",
      "Extremely Positive     0.9188    0.7930    0.8513       599\n",
      "\n",
      "          accuracy                         0.8354      3798\n",
      "         macro avg     0.8482    0.8356    0.8402      3798\n",
      "      weighted avg     0.8393    0.8354    0.8358      3798\n",
      "\n",
      "Model 2 saved to /content/drive/MyDrive/adv_dl_models_final2_best/roberta_base_best_set2.pt\n",
      "\n",
      "=== Training model 3 with params: {'lr': 2.116177565568772e-05, 'weight_decay': 0.0013266583844993018, 'batch_size': 16, 'unfreeze_last_k': 10} ===\n"
     ]
    },
    {
     "name": "stderr",
     "output_type": "stream",
     "text": [
      "Some weights of RobertaForSequenceClassification were not initialized from the model checkpoint at roberta-base and are newly initialized: ['classifier.dense.bias', 'classifier.dense.weight', 'classifier.out_proj.bias', 'classifier.out_proj.weight']\n",
      "You should probably TRAIN this model on a down-stream task to be able to use it for predictions and inference.\n",
      "/usr/local/lib/python3.11/dist-packages/transformers/training_args.py:1525: FutureWarning: `evaluation_strategy` is deprecated and will be removed in version 4.46 of 🤗 Transformers. Use `eval_strategy` instead\n",
      "  warnings.warn(\n",
      "/usr/local/lib/python3.11/dist-packages/accelerate/accelerator.py:494: FutureWarning: `torch.cuda.amp.GradScaler(args...)` is deprecated. Please use `torch.amp.GradScaler('cuda', args...)` instead.\n",
      "  self.scaler = torch.cuda.amp.GradScaler(**kwargs)\n"
     ]
    },
    {
     "data": {
      "text/html": [
       "\n",
       "    <div>\n",
       "      \n",
       "      <progress value='23150' max='27780' style='width:300px; height:20px; vertical-align: middle;'></progress>\n",
       "      [23150/27780 2:34:31 < 30:54, 2.50 it/s, Epoch 10/12]\n",
       "    </div>\n",
       "    <table border=\"1\" class=\"dataframe\">\n",
       "  <thead>\n",
       " <tr style=\"text-align: left;\">\n",
       "      <th>Epoch</th>\n",
       "      <th>Training Loss</th>\n",
       "      <th>Validation Loss</th>\n",
       "      <th>Accuracy</th>\n",
       "      <th>Precision</th>\n",
       "      <th>Recall</th>\n",
       "      <th>F1</th>\n",
       "    </tr>\n",
       "  </thead>\n",
       "  <tbody>\n",
       "    <tr>\n",
       "      <td>1</td>\n",
       "      <td>0.950100</td>\n",
       "      <td>0.858888</td>\n",
       "      <td>0.662779</td>\n",
       "      <td>0.689754</td>\n",
       "      <td>0.662779</td>\n",
       "      <td>0.657556</td>\n",
       "    </tr>\n",
       "    <tr>\n",
       "      <td>2</td>\n",
       "      <td>0.645100</td>\n",
       "      <td>0.633672</td>\n",
       "      <td>0.771866</td>\n",
       "      <td>0.780957</td>\n",
       "      <td>0.771866</td>\n",
       "      <td>0.770473</td>\n",
       "    </tr>\n",
       "    <tr>\n",
       "      <td>3</td>\n",
       "      <td>0.490400</td>\n",
       "      <td>0.588135</td>\n",
       "      <td>0.790330</td>\n",
       "      <td>0.800542</td>\n",
       "      <td>0.790330</td>\n",
       "      <td>0.791005</td>\n",
       "    </tr>\n",
       "    <tr>\n",
       "      <td>4</td>\n",
       "      <td>0.392100</td>\n",
       "      <td>0.520049</td>\n",
       "      <td>0.831633</td>\n",
       "      <td>0.834469</td>\n",
       "      <td>0.831633</td>\n",
       "      <td>0.832227</td>\n",
       "    </tr>\n",
       "    <tr>\n",
       "      <td>5</td>\n",
       "      <td>0.316900</td>\n",
       "      <td>0.575960</td>\n",
       "      <td>0.830661</td>\n",
       "      <td>0.832655</td>\n",
       "      <td>0.830661</td>\n",
       "      <td>0.830571</td>\n",
       "    </tr>\n",
       "    <tr>\n",
       "      <td>6</td>\n",
       "      <td>0.259700</td>\n",
       "      <td>0.613129</td>\n",
       "      <td>0.834791</td>\n",
       "      <td>0.837347</td>\n",
       "      <td>0.834791</td>\n",
       "      <td>0.835327</td>\n",
       "    </tr>\n",
       "    <tr>\n",
       "      <td>7</td>\n",
       "      <td>0.222800</td>\n",
       "      <td>0.797759</td>\n",
       "      <td>0.814140</td>\n",
       "      <td>0.820095</td>\n",
       "      <td>0.814140</td>\n",
       "      <td>0.813567</td>\n",
       "    </tr>\n",
       "    <tr>\n",
       "      <td>8</td>\n",
       "      <td>0.194300</td>\n",
       "      <td>0.805075</td>\n",
       "      <td>0.827745</td>\n",
       "      <td>0.828603</td>\n",
       "      <td>0.827745</td>\n",
       "      <td>0.827017</td>\n",
       "    </tr>\n",
       "    <tr>\n",
       "      <td>9</td>\n",
       "      <td>0.168200</td>\n",
       "      <td>0.922419</td>\n",
       "      <td>0.825316</td>\n",
       "      <td>0.826894</td>\n",
       "      <td>0.825316</td>\n",
       "      <td>0.824787</td>\n",
       "    </tr>\n",
       "    <tr>\n",
       "      <td>10</td>\n",
       "      <td>0.138600</td>\n",
       "      <td>1.022027</td>\n",
       "      <td>0.829689</td>\n",
       "      <td>0.831191</td>\n",
       "      <td>0.829689</td>\n",
       "      <td>0.829142</td>\n",
       "    </tr>\n",
       "  </tbody>\n",
       "</table><p>"
      ],
      "text/plain": [
       "<IPython.core.display.HTML object>"
      ]
     },
     "metadata": {},
     "output_type": "display_data"
    },
    {
     "data": {
      "text/html": [],
      "text/plain": [
       "<IPython.core.display.HTML object>"
      ]
     },
     "metadata": {},
     "output_type": "display_data"
    },
    {
     "name": "stdout",
     "output_type": "stream",
     "text": [
      "Test metrics for model 3: {'eval_loss': 0.7150322198867798, 'eval_accuracy': 0.8006845708267509, 'eval_precision': 0.8050816509396402, 'eval_recall': 0.8006845708267509, 'eval_f1': 0.8010498145434137, 'eval_runtime': 30.0834, 'eval_samples_per_second': 126.249, 'eval_steps_per_second': 7.911, 'epoch': 10.0}\n",
      "\n",
      "Classification report for model 3:\n",
      "\n",
      "                    precision    recall  f1-score   support\n",
      "\n",
      "           Neutral     0.8664    0.7754    0.8184       619\n",
      "          Positive     0.7483    0.8099    0.7779       947\n",
      "Extremely Negative     0.8052    0.8868    0.8441       592\n",
      "          Negative     0.7687    0.7791    0.7739      1041\n",
      "Extremely Positive     0.8945    0.7646    0.8245       599\n",
      "\n",
      "          accuracy                         0.8007      3798\n",
      "         macro avg     0.8166    0.8032    0.8077      3798\n",
      "      weighted avg     0.8051    0.8007    0.8010      3798\n",
      "\n",
      "Model 3 saved to /content/drive/MyDrive/adv_dl_models_final2_best/roberta_base_best_set3.pt\n"
     ]
    }
   ],
   "source": [
    "import os\n",
    "import torch\n",
    "import pandas as pd\n",
    "from transformers import RobertaTokenizer, RobertaForSequenceClassification, Trainer, TrainingArguments, EarlyStoppingCallback\n",
    "from datasets import Dataset\n",
    "from sklearn.model_selection import train_test_split\n",
    "from sklearn.metrics import accuracy_score, precision_recall_fscore_support, classification_report\n",
    "from google.colab import drive\n",
    "\n",
    "# ====== DRIVE SETUP ======\n",
    "# drive.mount(\"/content/drive\")\n",
    "# SAVE_DIR = \"/content/drive/MyDrive/adv_dl_models_final2_best\"\n",
    "SAVE_DIR = \"adv_dl_models_final2_best\"\n",
    "os.makedirs(SAVE_DIR, exist_ok=True)\n",
    "\n",
    "# ====== CLEANING FUNCTION ======\n",
    "def prep_df(df):\n",
    "    # Drop NaNs in text and label column\n",
    "    df = df.dropna(subset=[\"OriginalTweet\", \"Sentiment\"]).copy()\n",
    "    # Make sure text is string\n",
    "    df[\"OriginalTweet\"] = df[\"OriginalTweet\"].astype(str).str.strip()\n",
    "    return df\n",
    "\n",
    "df_train = prep_df(df_train)\n",
    "df_test = prep_df(df_test)\n",
    "\n",
    "# ====== MAP SENTIMENT TO LABELS ======\n",
    "label2id = {label: idx for idx, label in enumerate(df_train[\"Sentiment\"].unique())}\n",
    "id2label = {idx: label for label, idx in label2id.items()}\n",
    "\n",
    "df_train[\"label\"] = df_train[\"Sentiment\"].map(label2id)\n",
    "df_test[\"label\"]  = df_test[\"Sentiment\"].map(label2id)\n",
    "\n",
    "# ====== SPLIT ======\n",
    "df_train_split, df_val_split = train_test_split(\n",
    "    df_train,\n",
    "    test_size=0.1,\n",
    "    random_state=42,\n",
    "    stratify=df_train[\"label\"]\n",
    ")\n",
    "\n",
    "# ====== TOKENIZER ======\n",
    "tokenizer = RobertaTokenizer.from_pretrained(\"roberta-base\")\n",
    "\n",
    "def tokenize(batch):\n",
    "    return tokenizer(batch[\"OriginalTweet\"], padding=\"max_length\", truncation=True)\n",
    "\n",
    "train_dataset = Dataset.from_pandas(df_train_split).map(tokenize, batched=True)\n",
    "val_dataset   = Dataset.from_pandas(df_val_split).map(tokenize, batched=True)\n",
    "test_dataset  = Dataset.from_pandas(df_test).map(tokenize, batched=True)\n",
    "\n",
    "for ds in [train_dataset, val_dataset, test_dataset]:\n",
    "    ds.set_format(type=\"torch\", columns=[\"input_ids\", \"attention_mask\", \"label\"])\n",
    "\n",
    "# ====== METRICS ======\n",
    "def compute_metrics(eval_pred):\n",
    "    logits, labels = eval_pred\n",
    "    preds = torch.argmax(torch.tensor(logits), dim=-1)\n",
    "    acc = accuracy_score(labels, preds)\n",
    "    precision, recall, f1, _ = precision_recall_fscore_support(labels, preds, average='weighted')\n",
    "    return {\"accuracy\": acc, \"precision\": precision, \"recall\": recall, \"f1\": f1}\n",
    "\n",
    "# ====== BEST PARAMS ======\n",
    "best_params_list = [\n",
    "    {'lr': 2.892824570696833e-05, 'weight_decay': 0.00979168138442126, 'batch_size': 16, 'unfreeze_last_k': 12},\n",
    "    {'lr': 2.960627147251281e-05, 'weight_decay': 0.008806331558971375, 'batch_size': 16, 'unfreeze_last_k': 12},\n",
    "    {'lr': 2.116177565568772e-05, 'weight_decay': 0.0013266583844993018, 'batch_size': 16, 'unfreeze_last_k': 10}\n",
    "]\n",
    "\n",
    "# ====== TRAIN/EVAL LOOP ======\n",
    "for i, params in enumerate(best_params_list, start=1):\n",
    "    print(f\"\\n=== Training model {i} with params: {params} ===\")\n",
    "\n",
    "    # Load base model\n",
    "    model = RobertaForSequenceClassification.from_pretrained(\n",
    "        \"roberta-base\",\n",
    "        num_labels=len(label2id),\n",
    "        id2label=id2label,\n",
    "        label2id=label2id\n",
    "    )\n",
    "\n",
    "    # Freeze all except last k layers\n",
    "    for param in model.roberta.parameters():\n",
    "        param.requires_grad = False\n",
    "    for layer in model.roberta.encoder.layer[-params[\"unfreeze_last_k\"]:]:\n",
    "        for param in layer.parameters():\n",
    "            param.requires_grad = True\n",
    "\n",
    "    # Training args\n",
    "    training_args = TrainingArguments(\n",
    "        output_dir=f\"./results_model_{i}\",\n",
    "        evaluation_strategy=\"epoch\",\n",
    "        save_strategy=\"epoch\",\n",
    "        save_total_limit=1,\n",
    "        learning_rate=params[\"lr\"],\n",
    "        per_device_train_batch_size=params[\"batch_size\"],\n",
    "        per_device_eval_batch_size=params[\"batch_size\"],\n",
    "        weight_decay=params[\"weight_decay\"],\n",
    "        num_train_epochs=12,\n",
    "        load_best_model_at_end=True,\n",
    "        metric_for_best_model=\"f1\",\n",
    "        greater_is_better=True,\n",
    "        logging_dir=f\"./logs_model_{i}\",\n",
    "        logging_strategy=\"epoch\",\n",
    "        seed=42\n",
    "    )\n",
    "\n",
    "    trainer = Trainer(\n",
    "        model=model,\n",
    "        args=training_args,\n",
    "        train_dataset=train_dataset,\n",
    "        eval_dataset=val_dataset,\n",
    "        tokenizer=tokenizer,\n",
    "        compute_metrics=compute_metrics,\n",
    "        callbacks=[EarlyStoppingCallback(early_stopping_patience=4)]\n",
    "    )\n",
    "\n",
    "    # Train\n",
    "    trainer.train()\n",
    "\n",
    "    # Evaluate on test\n",
    "    test_metrics = trainer.evaluate(test_dataset)\n",
    "    print(f\"Test metrics for model {i}: {test_metrics}\")\n",
    "\n",
    "    # Per-class classification report\n",
    "    preds_output = trainer.predict(test_dataset)\n",
    "    y_true = preds_output.label_ids\n",
    "    y_pred = preds_output.predictions.argmax(axis=-1)\n",
    "    print(f\"\\nClassification report for model {i}:\\n\")\n",
    "    print(classification_report(\n",
    "        y_true, y_pred,\n",
    "        target_names=[id2label[idx] for idx in sorted(id2label.keys())],\n",
    "        digits=4\n",
    "    ))\n",
    "\n",
    "    # Save model weights\n",
    "    save_path = os.path.join(SAVE_DIR, f\"roberta_base_best_set{i}.pt\")\n",
    "    torch.save(model.state_dict(), save_path)\n",
    "    print(f\"Model {i} saved to {save_path}\")\n"
   ]
  },
  {
   "cell_type": "markdown",
   "metadata": {},
   "source": [
    "# 📊 Final RoBERTa Model Comparison\n",
    "\n",
    "| Model | Learning Rate | Weight Decay | Batch Size | Unfrozen Layers | Epochs | Accuracy | Precision | Recall | F1 Score |\n",
    "|-------|---------------|--------------|------------|-----------------|--------|----------|-----------|--------|----------|\n",
    "| **1** | 2.89e-05      | 9.79e-03     | 16         | 12              | 12     | 0.8268   | 0.8278    | 0.8268 | 0.8260   |\n",
    "| **2 🏆** | 2.96e-05      | 8.81e-03     | 16         | 12              | 9      | **0.8354** | **0.8393** | **0.8354** | **0.8358** |\n",
    "| **3** | 2.12e-05      | 1.33e-03     | 16         | 10              | 10     | 0.8007   | 0.8051    | 0.8007 | 0.8010   |\n",
    "\n",
    "---\n",
    "\n",
    "### 🔎 Key Insights\n",
    "- **Model 2** is the best: highest **Accuracy (83.5%)** and **F1 (0.836)**.  \n",
    "- **Model 1** is strong but slightly behind (82.6%).  \n",
    "- **Model 3** lags (80.1%), confirming that **fewer unfrozen layers (10) reduce performance**.\n"
   ]
  }
 ],
 "metadata": {
  "accelerator": "GPU",
  "colab": {
   "authorship_tag": "ABX9TyPgw4r889PRuIcpwyFseqVM",
   "gpuType": "L4",
   "machine_shape": "hm",
   "provenance": [
    {
     "file_id": "18ISx0DUZHpP00qHkovPAHCU-9vmPzTHv",
     "timestamp": 1755196247369
    }
   ]
  },
  "kernelspec": {
   "display_name": "Python (dl4090)",
   "language": "python",
   "name": "dl4090"
  },
  "language_info": {
   "codemirror_mode": {
    "name": "ipython",
    "version": 3
   },
   "file_extension": ".py",
   "mimetype": "text/x-python",
   "name": "python",
   "nbconvert_exporter": "python",
   "pygments_lexer": "ipython3",
   "version": "3.11.13"
  },
  "widgets": {
   "application/vnd.jupyter.widget-state+json": {
    "00a792b414744e7f8b275f60c203eab6": {
     "model_module": "@jupyter-widgets/controls",
     "model_module_version": "1.5.0",
     "model_name": "LabelModel",
     "state": {
      "_dom_classes": [],
      "_model_module": "@jupyter-widgets/controls",
      "_model_module_version": "1.5.0",
      "_model_name": "LabelModel",
      "_view_count": null,
      "_view_module": "@jupyter-widgets/controls",
      "_view_module_version": "1.5.0",
      "_view_name": "LabelView",
      "description": "",
      "description_tooltip": null,
      "layout": "IPY_MODEL_a8bff4d7a7524458855640ce5e203a62",
      "placeholder": "​",
      "style": "IPY_MODEL_1635dd069c974473bd42ef5a0f7103fc",
      "value": "0.032 MB of 0.032 MB uploaded\r"
     }
    },
    "0108bb200bd24401b76c8dab692fcc22": {
     "model_module": "@jupyter-widgets/base",
     "model_module_version": "1.2.0",
     "model_name": "LayoutModel",
     "state": {
      "_model_module": "@jupyter-widgets/base",
      "_model_module_version": "1.2.0",
      "_model_name": "LayoutModel",
      "_view_count": null,
      "_view_module": "@jupyter-widgets/base",
      "_view_module_version": "1.2.0",
      "_view_name": "LayoutView",
      "align_content": null,
      "align_items": null,
      "align_self": null,
      "border": null,
      "bottom": null,
      "display": null,
      "flex": null,
      "flex_flow": null,
      "grid_area": null,
      "grid_auto_columns": null,
      "grid_auto_flow": null,
      "grid_auto_rows": null,
      "grid_column": null,
      "grid_gap": null,
      "grid_row": null,
      "grid_template_areas": null,
      "grid_template_columns": null,
      "grid_template_rows": null,
      "height": null,
      "justify_content": null,
      "justify_items": null,
      "left": null,
      "margin": null,
      "max_height": null,
      "max_width": null,
      "min_height": null,
      "min_width": null,
      "object_fit": null,
      "object_position": null,
      "order": null,
      "overflow": null,
      "overflow_x": null,
      "overflow_y": null,
      "padding": null,
      "right": null,
      "top": null,
      "visibility": null,
      "width": null
     }
    },
    "039ca62f5bda4956b81f6d563aed799b": {
     "model_module": "@jupyter-widgets/controls",
     "model_module_version": "1.5.0",
     "model_name": "ProgressStyleModel",
     "state": {
      "_model_module": "@jupyter-widgets/controls",
      "_model_module_version": "1.5.0",
      "_model_name": "ProgressStyleModel",
      "_view_count": null,
      "_view_module": "@jupyter-widgets/base",
      "_view_module_version": "1.2.0",
      "_view_name": "StyleView",
      "bar_color": null,
      "description_width": ""
     }
    },
    "063ac2c7c1274b3faa144b18ad15b82a": {
     "model_module": "@jupyter-widgets/controls",
     "model_module_version": "1.5.0",
     "model_name": "ProgressStyleModel",
     "state": {
      "_model_module": "@jupyter-widgets/controls",
      "_model_module_version": "1.5.0",
      "_model_name": "ProgressStyleModel",
      "_view_count": null,
      "_view_module": "@jupyter-widgets/base",
      "_view_module_version": "1.2.0",
      "_view_name": "StyleView",
      "bar_color": null,
      "description_width": ""
     }
    },
    "0641579cbbed4b3392540d2e0b62588e": {
     "model_module": "@jupyter-widgets/controls",
     "model_module_version": "1.5.0",
     "model_name": "HBoxModel",
     "state": {
      "_dom_classes": [],
      "_model_module": "@jupyter-widgets/controls",
      "_model_module_version": "1.5.0",
      "_model_name": "HBoxModel",
      "_view_count": null,
      "_view_module": "@jupyter-widgets/controls",
      "_view_module_version": "1.5.0",
      "_view_name": "HBoxView",
      "box_style": "",
      "children": [
       "IPY_MODEL_068f424a18f44002b35742a55614079d",
       "IPY_MODEL_3e19ae3bb89d41859dc3401f12cb8f96",
       "IPY_MODEL_57c61eaecd0c4cec87606063dc9b9014"
      ],
      "layout": "IPY_MODEL_ee09535f51a64f41af3193a31697fe69"
     }
    },
    "068f424a18f44002b35742a55614079d": {
     "model_module": "@jupyter-widgets/controls",
     "model_module_version": "1.5.0",
     "model_name": "HTMLModel",
     "state": {
      "_dom_classes": [],
      "_model_module": "@jupyter-widgets/controls",
      "_model_module_version": "1.5.0",
      "_model_name": "HTMLModel",
      "_view_count": null,
      "_view_module": "@jupyter-widgets/controls",
      "_view_module_version": "1.5.0",
      "_view_name": "HTMLView",
      "description": "",
      "description_tooltip": null,
      "layout": "IPY_MODEL_b3a83d62b60542f3908e46f2e46c1f25",
      "placeholder": "​",
      "style": "IPY_MODEL_eba513c9100741b9bdcc0b8b10291bd9",
      "value": "Map: 100%"
     }
    },
    "07b9f7b39e1e434dab6df46c6c084aed": {
     "model_module": "@jupyter-widgets/controls",
     "model_module_version": "1.5.0",
     "model_name": "ProgressStyleModel",
     "state": {
      "_model_module": "@jupyter-widgets/controls",
      "_model_module_version": "1.5.0",
      "_model_name": "ProgressStyleModel",
      "_view_count": null,
      "_view_module": "@jupyter-widgets/base",
      "_view_module_version": "1.2.0",
      "_view_name": "StyleView",
      "bar_color": null,
      "description_width": ""
     }
    },
    "10028c3d3468460b8fdb268c97b63d5d": {
     "model_module": "@jupyter-widgets/controls",
     "model_module_version": "1.5.0",
     "model_name": "VBoxModel",
     "state": {
      "_dom_classes": [],
      "_model_module": "@jupyter-widgets/controls",
      "_model_module_version": "1.5.0",
      "_model_name": "VBoxModel",
      "_view_count": null,
      "_view_module": "@jupyter-widgets/controls",
      "_view_module_version": "1.5.0",
      "_view_name": "VBoxView",
      "box_style": "",
      "children": [
       "IPY_MODEL_23a51f465ac942f39a53878165bbe31a",
       "IPY_MODEL_4690cae37df04641acea988543a8338b"
      ],
      "layout": "IPY_MODEL_1c6a656272e7406b8e2b0744a994b412"
     }
    },
    "108c93e7c5194e61bee76b4685bd550d": {
     "model_module": "@jupyter-widgets/base",
     "model_module_version": "1.2.0",
     "model_name": "LayoutModel",
     "state": {
      "_model_module": "@jupyter-widgets/base",
      "_model_module_version": "1.2.0",
      "_model_name": "LayoutModel",
      "_view_count": null,
      "_view_module": "@jupyter-widgets/base",
      "_view_module_version": "1.2.0",
      "_view_name": "LayoutView",
      "align_content": null,
      "align_items": null,
      "align_self": null,
      "border": null,
      "bottom": null,
      "display": null,
      "flex": null,
      "flex_flow": null,
      "grid_area": null,
      "grid_auto_columns": null,
      "grid_auto_flow": null,
      "grid_auto_rows": null,
      "grid_column": null,
      "grid_gap": null,
      "grid_row": null,
      "grid_template_areas": null,
      "grid_template_columns": null,
      "grid_template_rows": null,
      "height": null,
      "justify_content": null,
      "justify_items": null,
      "left": null,
      "margin": null,
      "max_height": null,
      "max_width": null,
      "min_height": null,
      "min_width": null,
      "object_fit": null,
      "object_position": null,
      "order": null,
      "overflow": null,
      "overflow_x": null,
      "overflow_y": null,
      "padding": null,
      "right": null,
      "top": null,
      "visibility": null,
      "width": null
     }
    },
    "135320bd23024ec185e7123b423b652c": {
     "model_module": "@jupyter-widgets/controls",
     "model_module_version": "1.5.0",
     "model_name": "HTMLModel",
     "state": {
      "_dom_classes": [],
      "_model_module": "@jupyter-widgets/controls",
      "_model_module_version": "1.5.0",
      "_model_name": "HTMLModel",
      "_view_count": null,
      "_view_module": "@jupyter-widgets/controls",
      "_view_module_version": "1.5.0",
      "_view_name": "HTMLView",
      "description": "",
      "description_tooltip": null,
      "layout": "IPY_MODEL_1758549a15d34461bd1e651e818a2e23",
      "placeholder": "​",
      "style": "IPY_MODEL_d53a149de77e4e5db7ad43e7bf49cc4c",
      "value": "tokenizer.json: 100%"
     }
    },
    "14185a334e93428a9942371779e624df": {
     "model_module": "@jupyter-widgets/base",
     "model_module_version": "1.2.0",
     "model_name": "LayoutModel",
     "state": {
      "_model_module": "@jupyter-widgets/base",
      "_model_module_version": "1.2.0",
      "_model_name": "LayoutModel",
      "_view_count": null,
      "_view_module": "@jupyter-widgets/base",
      "_view_module_version": "1.2.0",
      "_view_name": "LayoutView",
      "align_content": null,
      "align_items": null,
      "align_self": null,
      "border": null,
      "bottom": null,
      "display": null,
      "flex": null,
      "flex_flow": null,
      "grid_area": null,
      "grid_auto_columns": null,
      "grid_auto_flow": null,
      "grid_auto_rows": null,
      "grid_column": null,
      "grid_gap": null,
      "grid_row": null,
      "grid_template_areas": null,
      "grid_template_columns": null,
      "grid_template_rows": null,
      "height": null,
      "justify_content": null,
      "justify_items": null,
      "left": null,
      "margin": null,
      "max_height": null,
      "max_width": null,
      "min_height": null,
      "min_width": null,
      "object_fit": null,
      "object_position": null,
      "order": null,
      "overflow": null,
      "overflow_x": null,
      "overflow_y": null,
      "padding": null,
      "right": null,
      "top": null,
      "visibility": null,
      "width": null
     }
    },
    "14652adb9d374d4fbfe25e5936da7a15": {
     "model_module": "@jupyter-widgets/controls",
     "model_module_version": "1.5.0",
     "model_name": "HTMLModel",
     "state": {
      "_dom_classes": [],
      "_model_module": "@jupyter-widgets/controls",
      "_model_module_version": "1.5.0",
      "_model_name": "HTMLModel",
      "_view_count": null,
      "_view_module": "@jupyter-widgets/controls",
      "_view_module_version": "1.5.0",
      "_view_name": "HTMLView",
      "description": "",
      "description_tooltip": null,
      "layout": "IPY_MODEL_e312884949cc4c12887511b955ae4685",
      "placeholder": "​",
      "style": "IPY_MODEL_f2a793fea969421bb2a78f71b7c9bfa7",
      "value": "Map: 100%"
     }
    },
    "160c5713526a416ca4749847407b5492": {
     "model_module": "@jupyter-widgets/base",
     "model_module_version": "1.2.0",
     "model_name": "LayoutModel",
     "state": {
      "_model_module": "@jupyter-widgets/base",
      "_model_module_version": "1.2.0",
      "_model_name": "LayoutModel",
      "_view_count": null,
      "_view_module": "@jupyter-widgets/base",
      "_view_module_version": "1.2.0",
      "_view_name": "LayoutView",
      "align_content": null,
      "align_items": null,
      "align_self": null,
      "border": null,
      "bottom": null,
      "display": null,
      "flex": null,
      "flex_flow": null,
      "grid_area": null,
      "grid_auto_columns": null,
      "grid_auto_flow": null,
      "grid_auto_rows": null,
      "grid_column": null,
      "grid_gap": null,
      "grid_row": null,
      "grid_template_areas": null,
      "grid_template_columns": null,
      "grid_template_rows": null,
      "height": null,
      "justify_content": null,
      "justify_items": null,
      "left": null,
      "margin": null,
      "max_height": null,
      "max_width": null,
      "min_height": null,
      "min_width": null,
      "object_fit": null,
      "object_position": null,
      "order": null,
      "overflow": null,
      "overflow_x": null,
      "overflow_y": null,
      "padding": null,
      "right": null,
      "top": null,
      "visibility": null,
      "width": null
     }
    },
    "1635dd069c974473bd42ef5a0f7103fc": {
     "model_module": "@jupyter-widgets/controls",
     "model_module_version": "1.5.0",
     "model_name": "DescriptionStyleModel",
     "state": {
      "_model_module": "@jupyter-widgets/controls",
      "_model_module_version": "1.5.0",
      "_model_name": "DescriptionStyleModel",
      "_view_count": null,
      "_view_module": "@jupyter-widgets/base",
      "_view_module_version": "1.2.0",
      "_view_name": "StyleView",
      "description_width": ""
     }
    },
    "1758549a15d34461bd1e651e818a2e23": {
     "model_module": "@jupyter-widgets/base",
     "model_module_version": "1.2.0",
     "model_name": "LayoutModel",
     "state": {
      "_model_module": "@jupyter-widgets/base",
      "_model_module_version": "1.2.0",
      "_model_name": "LayoutModel",
      "_view_count": null,
      "_view_module": "@jupyter-widgets/base",
      "_view_module_version": "1.2.0",
      "_view_name": "LayoutView",
      "align_content": null,
      "align_items": null,
      "align_self": null,
      "border": null,
      "bottom": null,
      "display": null,
      "flex": null,
      "flex_flow": null,
      "grid_area": null,
      "grid_auto_columns": null,
      "grid_auto_flow": null,
      "grid_auto_rows": null,
      "grid_column": null,
      "grid_gap": null,
      "grid_row": null,
      "grid_template_areas": null,
      "grid_template_columns": null,
      "grid_template_rows": null,
      "height": null,
      "justify_content": null,
      "justify_items": null,
      "left": null,
      "margin": null,
      "max_height": null,
      "max_width": null,
      "min_height": null,
      "min_width": null,
      "object_fit": null,
      "object_position": null,
      "order": null,
      "overflow": null,
      "overflow_x": null,
      "overflow_y": null,
      "padding": null,
      "right": null,
      "top": null,
      "visibility": null,
      "width": null
     }
    },
    "19b628c90ce84291b42d1fbdf02c1be4": {
     "model_module": "@jupyter-widgets/controls",
     "model_module_version": "1.5.0",
     "model_name": "DescriptionStyleModel",
     "state": {
      "_model_module": "@jupyter-widgets/controls",
      "_model_module_version": "1.5.0",
      "_model_name": "DescriptionStyleModel",
      "_view_count": null,
      "_view_module": "@jupyter-widgets/base",
      "_view_module_version": "1.2.0",
      "_view_name": "StyleView",
      "description_width": ""
     }
    },
    "1a5bf12c59de411ca4be8bf29a9e4878": {
     "model_module": "@jupyter-widgets/controls",
     "model_module_version": "1.5.0",
     "model_name": "HTMLModel",
     "state": {
      "_dom_classes": [],
      "_model_module": "@jupyter-widgets/controls",
      "_model_module_version": "1.5.0",
      "_model_name": "HTMLModel",
      "_view_count": null,
      "_view_module": "@jupyter-widgets/controls",
      "_view_module_version": "1.5.0",
      "_view_name": "HTMLView",
      "description": "",
      "description_tooltip": null,
      "layout": "IPY_MODEL_8f1313fbe256495f8860f544c0b20181",
      "placeholder": "​",
      "style": "IPY_MODEL_d4fee361cecb42e4a58c55496af697fc",
      "value": "vocab.json: 100%"
     }
    },
    "1c27f5bed6ba4da9b05772cb5417524d": {
     "model_module": "@jupyter-widgets/base",
     "model_module_version": "1.2.0",
     "model_name": "LayoutModel",
     "state": {
      "_model_module": "@jupyter-widgets/base",
      "_model_module_version": "1.2.0",
      "_model_name": "LayoutModel",
      "_view_count": null,
      "_view_module": "@jupyter-widgets/base",
      "_view_module_version": "1.2.0",
      "_view_name": "LayoutView",
      "align_content": null,
      "align_items": null,
      "align_self": null,
      "border": null,
      "bottom": null,
      "display": null,
      "flex": null,
      "flex_flow": null,
      "grid_area": null,
      "grid_auto_columns": null,
      "grid_auto_flow": null,
      "grid_auto_rows": null,
      "grid_column": null,
      "grid_gap": null,
      "grid_row": null,
      "grid_template_areas": null,
      "grid_template_columns": null,
      "grid_template_rows": null,
      "height": null,
      "justify_content": null,
      "justify_items": null,
      "left": null,
      "margin": null,
      "max_height": null,
      "max_width": null,
      "min_height": null,
      "min_width": null,
      "object_fit": null,
      "object_position": null,
      "order": null,
      "overflow": null,
      "overflow_x": null,
      "overflow_y": null,
      "padding": null,
      "right": null,
      "top": null,
      "visibility": null,
      "width": null
     }
    },
    "1c42d39c1c824189883e3962e86cd756": {
     "model_module": "@jupyter-widgets/base",
     "model_module_version": "1.2.0",
     "model_name": "LayoutModel",
     "state": {
      "_model_module": "@jupyter-widgets/base",
      "_model_module_version": "1.2.0",
      "_model_name": "LayoutModel",
      "_view_count": null,
      "_view_module": "@jupyter-widgets/base",
      "_view_module_version": "1.2.0",
      "_view_name": "LayoutView",
      "align_content": null,
      "align_items": null,
      "align_self": null,
      "border": null,
      "bottom": null,
      "display": null,
      "flex": null,
      "flex_flow": null,
      "grid_area": null,
      "grid_auto_columns": null,
      "grid_auto_flow": null,
      "grid_auto_rows": null,
      "grid_column": null,
      "grid_gap": null,
      "grid_row": null,
      "grid_template_areas": null,
      "grid_template_columns": null,
      "grid_template_rows": null,
      "height": null,
      "justify_content": null,
      "justify_items": null,
      "left": null,
      "margin": null,
      "max_height": null,
      "max_width": null,
      "min_height": null,
      "min_width": null,
      "object_fit": null,
      "object_position": null,
      "order": null,
      "overflow": null,
      "overflow_x": null,
      "overflow_y": null,
      "padding": null,
      "right": null,
      "top": null,
      "visibility": null,
      "width": null
     }
    },
    "1c6a656272e7406b8e2b0744a994b412": {
     "model_module": "@jupyter-widgets/base",
     "model_module_version": "1.2.0",
     "model_name": "LayoutModel",
     "state": {
      "_model_module": "@jupyter-widgets/base",
      "_model_module_version": "1.2.0",
      "_model_name": "LayoutModel",
      "_view_count": null,
      "_view_module": "@jupyter-widgets/base",
      "_view_module_version": "1.2.0",
      "_view_name": "LayoutView",
      "align_content": null,
      "align_items": null,
      "align_self": null,
      "border": null,
      "bottom": null,
      "display": null,
      "flex": null,
      "flex_flow": null,
      "grid_area": null,
      "grid_auto_columns": null,
      "grid_auto_flow": null,
      "grid_auto_rows": null,
      "grid_column": null,
      "grid_gap": null,
      "grid_row": null,
      "grid_template_areas": null,
      "grid_template_columns": null,
      "grid_template_rows": null,
      "height": null,
      "justify_content": null,
      "justify_items": null,
      "left": null,
      "margin": null,
      "max_height": null,
      "max_width": null,
      "min_height": null,
      "min_width": null,
      "object_fit": null,
      "object_position": null,
      "order": null,
      "overflow": null,
      "overflow_x": null,
      "overflow_y": null,
      "padding": null,
      "right": null,
      "top": null,
      "visibility": null,
      "width": null
     }
    },
    "1f0a22e2536e4c75ac34b1672dcecb8b": {
     "model_module": "@jupyter-widgets/controls",
     "model_module_version": "1.5.0",
     "model_name": "DescriptionStyleModel",
     "state": {
      "_model_module": "@jupyter-widgets/controls",
      "_model_module_version": "1.5.0",
      "_model_name": "DescriptionStyleModel",
      "_view_count": null,
      "_view_module": "@jupyter-widgets/base",
      "_view_module_version": "1.2.0",
      "_view_name": "StyleView",
      "description_width": ""
     }
    },
    "1f301970f8e546a5ad615e8441758ec9": {
     "model_module": "@jupyter-widgets/base",
     "model_module_version": "1.2.0",
     "model_name": "LayoutModel",
     "state": {
      "_model_module": "@jupyter-widgets/base",
      "_model_module_version": "1.2.0",
      "_model_name": "LayoutModel",
      "_view_count": null,
      "_view_module": "@jupyter-widgets/base",
      "_view_module_version": "1.2.0",
      "_view_name": "LayoutView",
      "align_content": null,
      "align_items": null,
      "align_self": null,
      "border": null,
      "bottom": null,
      "display": null,
      "flex": null,
      "flex_flow": null,
      "grid_area": null,
      "grid_auto_columns": null,
      "grid_auto_flow": null,
      "grid_auto_rows": null,
      "grid_column": null,
      "grid_gap": null,
      "grid_row": null,
      "grid_template_areas": null,
      "grid_template_columns": null,
      "grid_template_rows": null,
      "height": null,
      "justify_content": null,
      "justify_items": null,
      "left": null,
      "margin": null,
      "max_height": null,
      "max_width": null,
      "min_height": null,
      "min_width": null,
      "object_fit": null,
      "object_position": null,
      "order": null,
      "overflow": null,
      "overflow_x": null,
      "overflow_y": null,
      "padding": null,
      "right": null,
      "top": null,
      "visibility": null,
      "width": null
     }
    },
    "1f31048ebbd2423f9220e6cdbb06d421": {
     "model_module": "@jupyter-widgets/base",
     "model_module_version": "1.2.0",
     "model_name": "LayoutModel",
     "state": {
      "_model_module": "@jupyter-widgets/base",
      "_model_module_version": "1.2.0",
      "_model_name": "LayoutModel",
      "_view_count": null,
      "_view_module": "@jupyter-widgets/base",
      "_view_module_version": "1.2.0",
      "_view_name": "LayoutView",
      "align_content": null,
      "align_items": null,
      "align_self": null,
      "border": null,
      "bottom": null,
      "display": null,
      "flex": null,
      "flex_flow": null,
      "grid_area": null,
      "grid_auto_columns": null,
      "grid_auto_flow": null,
      "grid_auto_rows": null,
      "grid_column": null,
      "grid_gap": null,
      "grid_row": null,
      "grid_template_areas": null,
      "grid_template_columns": null,
      "grid_template_rows": null,
      "height": null,
      "justify_content": null,
      "justify_items": null,
      "left": null,
      "margin": null,
      "max_height": null,
      "max_width": null,
      "min_height": null,
      "min_width": null,
      "object_fit": null,
      "object_position": null,
      "order": null,
      "overflow": null,
      "overflow_x": null,
      "overflow_y": null,
      "padding": null,
      "right": null,
      "top": null,
      "visibility": null,
      "width": null
     }
    },
    "206e4f5e3c9644a3b0841d7adfd1e7c8": {
     "model_module": "@jupyter-widgets/controls",
     "model_module_version": "1.5.0",
     "model_name": "ProgressStyleModel",
     "state": {
      "_model_module": "@jupyter-widgets/controls",
      "_model_module_version": "1.5.0",
      "_model_name": "ProgressStyleModel",
      "_view_count": null,
      "_view_module": "@jupyter-widgets/base",
      "_view_module_version": "1.2.0",
      "_view_name": "StyleView",
      "bar_color": null,
      "description_width": ""
     }
    },
    "2229d7b766654371a3952b81750d136f": {
     "model_module": "@jupyter-widgets/controls",
     "model_module_version": "1.5.0",
     "model_name": "HTMLModel",
     "state": {
      "_dom_classes": [],
      "_model_module": "@jupyter-widgets/controls",
      "_model_module_version": "1.5.0",
      "_model_name": "HTMLModel",
      "_view_count": null,
      "_view_module": "@jupyter-widgets/controls",
      "_view_module_version": "1.5.0",
      "_view_name": "HTMLView",
      "description": "",
      "description_tooltip": null,
      "layout": "IPY_MODEL_e83751b24bd24503a70cd1eea63d0d8c",
      "placeholder": "​",
      "style": "IPY_MODEL_64d7407132684fea88b84c18182a7313",
      "value": "Map: 100%"
     }
    },
    "23024be6e459421ebbe611b403a9f77a": {
     "model_module": "@jupyter-widgets/controls",
     "model_module_version": "1.5.0",
     "model_name": "LabelModel",
     "state": {
      "_dom_classes": [],
      "_model_module": "@jupyter-widgets/controls",
      "_model_module_version": "1.5.0",
      "_model_name": "LabelModel",
      "_view_count": null,
      "_view_module": "@jupyter-widgets/controls",
      "_view_module_version": "1.5.0",
      "_view_name": "LabelView",
      "description": "",
      "description_tooltip": null,
      "layout": "IPY_MODEL_48302455d0ec4e47a6bd95a0b9f7e28d",
      "placeholder": "​",
      "style": "IPY_MODEL_d9fe8268157b4acabbc8a5d47ce73827",
      "value": "0.032 MB of 0.032 MB uploaded\r"
     }
    },
    "23a51f465ac942f39a53878165bbe31a": {
     "model_module": "@jupyter-widgets/controls",
     "model_module_version": "1.5.0",
     "model_name": "LabelModel",
     "state": {
      "_dom_classes": [],
      "_model_module": "@jupyter-widgets/controls",
      "_model_module_version": "1.5.0",
      "_model_name": "LabelModel",
      "_view_count": null,
      "_view_module": "@jupyter-widgets/controls",
      "_view_module_version": "1.5.0",
      "_view_name": "LabelView",
      "description": "",
      "description_tooltip": null,
      "layout": "IPY_MODEL_7d60aff201b449deb80d9cb0bf3f17d8",
      "placeholder": "​",
      "style": "IPY_MODEL_38add9f70eb942c583d387252f19d3ad",
      "value": "0.032 MB of 0.032 MB uploaded\r"
     }
    },
    "249aca50ce8f4b90ba41ed6135931f61": {
     "model_module": "@jupyter-widgets/base",
     "model_module_version": "1.2.0",
     "model_name": "LayoutModel",
     "state": {
      "_model_module": "@jupyter-widgets/base",
      "_model_module_version": "1.2.0",
      "_model_name": "LayoutModel",
      "_view_count": null,
      "_view_module": "@jupyter-widgets/base",
      "_view_module_version": "1.2.0",
      "_view_name": "LayoutView",
      "align_content": null,
      "align_items": null,
      "align_self": null,
      "border": null,
      "bottom": null,
      "display": null,
      "flex": null,
      "flex_flow": null,
      "grid_area": null,
      "grid_auto_columns": null,
      "grid_auto_flow": null,
      "grid_auto_rows": null,
      "grid_column": null,
      "grid_gap": null,
      "grid_row": null,
      "grid_template_areas": null,
      "grid_template_columns": null,
      "grid_template_rows": null,
      "height": null,
      "justify_content": null,
      "justify_items": null,
      "left": null,
      "margin": null,
      "max_height": null,
      "max_width": null,
      "min_height": null,
      "min_width": null,
      "object_fit": null,
      "object_position": null,
      "order": null,
      "overflow": null,
      "overflow_x": null,
      "overflow_y": null,
      "padding": null,
      "right": null,
      "top": null,
      "visibility": null,
      "width": null
     }
    },
    "2600af6f105b4aa3afde73e8d493163e": {
     "model_module": "@jupyter-widgets/base",
     "model_module_version": "1.2.0",
     "model_name": "LayoutModel",
     "state": {
      "_model_module": "@jupyter-widgets/base",
      "_model_module_version": "1.2.0",
      "_model_name": "LayoutModel",
      "_view_count": null,
      "_view_module": "@jupyter-widgets/base",
      "_view_module_version": "1.2.0",
      "_view_name": "LayoutView",
      "align_content": null,
      "align_items": null,
      "align_self": null,
      "border": null,
      "bottom": null,
      "display": null,
      "flex": null,
      "flex_flow": null,
      "grid_area": null,
      "grid_auto_columns": null,
      "grid_auto_flow": null,
      "grid_auto_rows": null,
      "grid_column": null,
      "grid_gap": null,
      "grid_row": null,
      "grid_template_areas": null,
      "grid_template_columns": null,
      "grid_template_rows": null,
      "height": null,
      "justify_content": null,
      "justify_items": null,
      "left": null,
      "margin": null,
      "max_height": null,
      "max_width": null,
      "min_height": null,
      "min_width": null,
      "object_fit": null,
      "object_position": null,
      "order": null,
      "overflow": null,
      "overflow_x": null,
      "overflow_y": null,
      "padding": null,
      "right": null,
      "top": null,
      "visibility": null,
      "width": null
     }
    },
    "28d7627733c64cdca7df9f6434e066c7": {
     "model_module": "@jupyter-widgets/controls",
     "model_module_version": "1.5.0",
     "model_name": "HBoxModel",
     "state": {
      "_dom_classes": [],
      "_model_module": "@jupyter-widgets/controls",
      "_model_module_version": "1.5.0",
      "_model_name": "HBoxModel",
      "_view_count": null,
      "_view_module": "@jupyter-widgets/controls",
      "_view_module_version": "1.5.0",
      "_view_name": "HBoxView",
      "box_style": "",
      "children": [
       "IPY_MODEL_938529569b4942c69b391db0feadb9b2",
       "IPY_MODEL_374f3a566063470fb7091af27778e409",
       "IPY_MODEL_9cad7913a5c1469fa0355ed179a50ade"
      ],
      "layout": "IPY_MODEL_b470bf4c4e384627b95af052cbc81dc9"
     }
    },
    "2a59df75adb9429e96765ece2b463b0c": {
     "model_module": "@jupyter-widgets/controls",
     "model_module_version": "1.5.0",
     "model_name": "ProgressStyleModel",
     "state": {
      "_model_module": "@jupyter-widgets/controls",
      "_model_module_version": "1.5.0",
      "_model_name": "ProgressStyleModel",
      "_view_count": null,
      "_view_module": "@jupyter-widgets/base",
      "_view_module_version": "1.2.0",
      "_view_name": "StyleView",
      "bar_color": null,
      "description_width": ""
     }
    },
    "2a84dcdccf204067b7ce7b60ea6eb120": {
     "model_module": "@jupyter-widgets/controls",
     "model_module_version": "1.5.0",
     "model_name": "FloatProgressModel",
     "state": {
      "_dom_classes": [],
      "_model_module": "@jupyter-widgets/controls",
      "_model_module_version": "1.5.0",
      "_model_name": "FloatProgressModel",
      "_view_count": null,
      "_view_module": "@jupyter-widgets/controls",
      "_view_module_version": "1.5.0",
      "_view_name": "ProgressView",
      "bar_style": "",
      "description": "",
      "description_tooltip": null,
      "layout": "IPY_MODEL_1c42d39c1c824189883e3962e86cd756",
      "max": 1,
      "min": 0,
      "orientation": "horizontal",
      "style": "IPY_MODEL_063ac2c7c1274b3faa144b18ad15b82a",
      "value": 1
     }
    },
    "2ad250e270a147aebae37ef40d474a44": {
     "model_module": "@jupyter-widgets/controls",
     "model_module_version": "1.5.0",
     "model_name": "DescriptionStyleModel",
     "state": {
      "_model_module": "@jupyter-widgets/controls",
      "_model_module_version": "1.5.0",
      "_model_name": "DescriptionStyleModel",
      "_view_count": null,
      "_view_module": "@jupyter-widgets/base",
      "_view_module_version": "1.2.0",
      "_view_name": "StyleView",
      "description_width": ""
     }
    },
    "2bc75dada8964721ad7c9ee854d7002d": {
     "model_module": "@jupyter-widgets/controls",
     "model_module_version": "1.5.0",
     "model_name": "LabelModel",
     "state": {
      "_dom_classes": [],
      "_model_module": "@jupyter-widgets/controls",
      "_model_module_version": "1.5.0",
      "_model_name": "LabelModel",
      "_view_count": null,
      "_view_module": "@jupyter-widgets/controls",
      "_view_module_version": "1.5.0",
      "_view_name": "LabelView",
      "description": "",
      "description_tooltip": null,
      "layout": "IPY_MODEL_da7efe5ae12e457c9c3bdbbbfec88924",
      "placeholder": "​",
      "style": "IPY_MODEL_d802b7420e6a4923aeec2314199cb7de",
      "value": "0.032 MB of 0.032 MB uploaded\r"
     }
    },
    "2ce6a01ff08244d5841ffce5680919f2": {
     "model_module": "@jupyter-widgets/controls",
     "model_module_version": "1.5.0",
     "model_name": "VBoxModel",
     "state": {
      "_dom_classes": [],
      "_model_module": "@jupyter-widgets/controls",
      "_model_module_version": "1.5.0",
      "_model_name": "VBoxModel",
      "_view_count": null,
      "_view_module": "@jupyter-widgets/controls",
      "_view_module_version": "1.5.0",
      "_view_name": "VBoxView",
      "box_style": "",
      "children": [
       "IPY_MODEL_ee6a3559b5ee4865a26991c26d8c5d2d",
       "IPY_MODEL_ff75bd3a3e54445fb792b7f397e29382"
      ],
      "layout": "IPY_MODEL_eaadf361a796496da0594d4ec2a53c46"
     }
    },
    "2d0e5e9f678b4df99775f9f84e65721f": {
     "model_module": "@jupyter-widgets/controls",
     "model_module_version": "1.5.0",
     "model_name": "ProgressStyleModel",
     "state": {
      "_model_module": "@jupyter-widgets/controls",
      "_model_module_version": "1.5.0",
      "_model_name": "ProgressStyleModel",
      "_view_count": null,
      "_view_module": "@jupyter-widgets/base",
      "_view_module_version": "1.2.0",
      "_view_name": "StyleView",
      "bar_color": null,
      "description_width": ""
     }
    },
    "2f7849df28e54d2bbafce8ac7a197683": {
     "model_module": "@jupyter-widgets/controls",
     "model_module_version": "1.5.0",
     "model_name": "VBoxModel",
     "state": {
      "_dom_classes": [],
      "_model_module": "@jupyter-widgets/controls",
      "_model_module_version": "1.5.0",
      "_model_name": "VBoxModel",
      "_view_count": null,
      "_view_module": "@jupyter-widgets/controls",
      "_view_module_version": "1.5.0",
      "_view_name": "VBoxView",
      "box_style": "",
      "children": [
       "IPY_MODEL_8e2d2bf3351f4296af5f5ea7e80d2723",
       "IPY_MODEL_77d80257503740f7a685c7555caa3595"
      ],
      "layout": "IPY_MODEL_e390b213b2f944228cb6cf20ac650137"
     }
    },
    "3081002d6a3c48c38fb5f29a4f9ccb1c": {
     "model_module": "@jupyter-widgets/controls",
     "model_module_version": "1.5.0",
     "model_name": "DescriptionStyleModel",
     "state": {
      "_model_module": "@jupyter-widgets/controls",
      "_model_module_version": "1.5.0",
      "_model_name": "DescriptionStyleModel",
      "_view_count": null,
      "_view_module": "@jupyter-widgets/base",
      "_view_module_version": "1.2.0",
      "_view_name": "StyleView",
      "description_width": ""
     }
    },
    "31e334fdd35d4aceaf259deb045f8055": {
     "model_module": "@jupyter-widgets/base",
     "model_module_version": "1.2.0",
     "model_name": "LayoutModel",
     "state": {
      "_model_module": "@jupyter-widgets/base",
      "_model_module_version": "1.2.0",
      "_model_name": "LayoutModel",
      "_view_count": null,
      "_view_module": "@jupyter-widgets/base",
      "_view_module_version": "1.2.0",
      "_view_name": "LayoutView",
      "align_content": null,
      "align_items": null,
      "align_self": null,
      "border": null,
      "bottom": null,
      "display": null,
      "flex": null,
      "flex_flow": null,
      "grid_area": null,
      "grid_auto_columns": null,
      "grid_auto_flow": null,
      "grid_auto_rows": null,
      "grid_column": null,
      "grid_gap": null,
      "grid_row": null,
      "grid_template_areas": null,
      "grid_template_columns": null,
      "grid_template_rows": null,
      "height": null,
      "justify_content": null,
      "justify_items": null,
      "left": null,
      "margin": null,
      "max_height": null,
      "max_width": null,
      "min_height": null,
      "min_width": null,
      "object_fit": null,
      "object_position": null,
      "order": null,
      "overflow": null,
      "overflow_x": null,
      "overflow_y": null,
      "padding": null,
      "right": null,
      "top": null,
      "visibility": null,
      "width": null
     }
    },
    "33f601662ae2470680b72e40e8650173": {
     "model_module": "@jupyter-widgets/base",
     "model_module_version": "1.2.0",
     "model_name": "LayoutModel",
     "state": {
      "_model_module": "@jupyter-widgets/base",
      "_model_module_version": "1.2.0",
      "_model_name": "LayoutModel",
      "_view_count": null,
      "_view_module": "@jupyter-widgets/base",
      "_view_module_version": "1.2.0",
      "_view_name": "LayoutView",
      "align_content": null,
      "align_items": null,
      "align_self": null,
      "border": null,
      "bottom": null,
      "display": null,
      "flex": null,
      "flex_flow": null,
      "grid_area": null,
      "grid_auto_columns": null,
      "grid_auto_flow": null,
      "grid_auto_rows": null,
      "grid_column": null,
      "grid_gap": null,
      "grid_row": null,
      "grid_template_areas": null,
      "grid_template_columns": null,
      "grid_template_rows": null,
      "height": null,
      "justify_content": null,
      "justify_items": null,
      "left": null,
      "margin": null,
      "max_height": null,
      "max_width": null,
      "min_height": null,
      "min_width": null,
      "object_fit": null,
      "object_position": null,
      "order": null,
      "overflow": null,
      "overflow_x": null,
      "overflow_y": null,
      "padding": null,
      "right": null,
      "top": null,
      "visibility": null,
      "width": null
     }
    },
    "34d503517e924978923b70a6932a331d": {
     "model_module": "@jupyter-widgets/controls",
     "model_module_version": "1.5.0",
     "model_name": "ProgressStyleModel",
     "state": {
      "_model_module": "@jupyter-widgets/controls",
      "_model_module_version": "1.5.0",
      "_model_name": "ProgressStyleModel",
      "_view_count": null,
      "_view_module": "@jupyter-widgets/base",
      "_view_module_version": "1.2.0",
      "_view_name": "StyleView",
      "bar_color": null,
      "description_width": ""
     }
    },
    "35b3c9eb299d487d93d2812c2e1c5f5b": {
     "model_module": "@jupyter-widgets/base",
     "model_module_version": "1.2.0",
     "model_name": "LayoutModel",
     "state": {
      "_model_module": "@jupyter-widgets/base",
      "_model_module_version": "1.2.0",
      "_model_name": "LayoutModel",
      "_view_count": null,
      "_view_module": "@jupyter-widgets/base",
      "_view_module_version": "1.2.0",
      "_view_name": "LayoutView",
      "align_content": null,
      "align_items": null,
      "align_self": null,
      "border": null,
      "bottom": null,
      "display": null,
      "flex": null,
      "flex_flow": null,
      "grid_area": null,
      "grid_auto_columns": null,
      "grid_auto_flow": null,
      "grid_auto_rows": null,
      "grid_column": null,
      "grid_gap": null,
      "grid_row": null,
      "grid_template_areas": null,
      "grid_template_columns": null,
      "grid_template_rows": null,
      "height": null,
      "justify_content": null,
      "justify_items": null,
      "left": null,
      "margin": null,
      "max_height": null,
      "max_width": null,
      "min_height": null,
      "min_width": null,
      "object_fit": null,
      "object_position": null,
      "order": null,
      "overflow": null,
      "overflow_x": null,
      "overflow_y": null,
      "padding": null,
      "right": null,
      "top": null,
      "visibility": null,
      "width": null
     }
    },
    "35e8fce86aaf4af6ae664c2439182881": {
     "model_module": "@jupyter-widgets/controls",
     "model_module_version": "1.5.0",
     "model_name": "FloatProgressModel",
     "state": {
      "_dom_classes": [],
      "_model_module": "@jupyter-widgets/controls",
      "_model_module_version": "1.5.0",
      "_model_name": "FloatProgressModel",
      "_view_count": null,
      "_view_module": "@jupyter-widgets/controls",
      "_view_module_version": "1.5.0",
      "_view_name": "ProgressView",
      "bar_style": "",
      "description": "",
      "description_tooltip": null,
      "layout": "IPY_MODEL_3f9b34dea29245c0adac17fd91bb619a",
      "max": 1,
      "min": 0,
      "orientation": "horizontal",
      "style": "IPY_MODEL_206e4f5e3c9644a3b0841d7adfd1e7c8",
      "value": 1
     }
    },
    "374f3a566063470fb7091af27778e409": {
     "model_module": "@jupyter-widgets/controls",
     "model_module_version": "1.5.0",
     "model_name": "FloatProgressModel",
     "state": {
      "_dom_classes": [],
      "_model_module": "@jupyter-widgets/controls",
      "_model_module_version": "1.5.0",
      "_model_name": "FloatProgressModel",
      "_view_count": null,
      "_view_module": "@jupyter-widgets/controls",
      "_view_module_version": "1.5.0",
      "_view_name": "ProgressView",
      "bar_style": "success",
      "description": "",
      "description_tooltip": null,
      "layout": "IPY_MODEL_c3c6acdf78724bb08c0d5d8ba4cafc31",
      "max": 37039,
      "min": 0,
      "orientation": "horizontal",
      "style": "IPY_MODEL_5f40072c8c5a494e945fd406d45fbc18",
      "value": 37039
     }
    },
    "3764b5b603ad465e8c04ec2175df3275": {
     "model_module": "@jupyter-widgets/controls",
     "model_module_version": "1.5.0",
     "model_name": "HTMLModel",
     "state": {
      "_dom_classes": [],
      "_model_module": "@jupyter-widgets/controls",
      "_model_module_version": "1.5.0",
      "_model_name": "HTMLModel",
      "_view_count": null,
      "_view_module": "@jupyter-widgets/controls",
      "_view_module_version": "1.5.0",
      "_view_name": "HTMLView",
      "description": "",
      "description_tooltip": null,
      "layout": "IPY_MODEL_544caf61b5ec4facbbfd8f8d1eb1760e",
      "placeholder": "​",
      "style": "IPY_MODEL_8d5248be0d4c4694b01729335d8e1fb0",
      "value": " 899k/899k [00:00&lt;00:00, 29.8MB/s]"
     }
    },
    "37f611ead0c547caaab2412146b3e3a9": {
     "model_module": "@jupyter-widgets/controls",
     "model_module_version": "1.5.0",
     "model_name": "FloatProgressModel",
     "state": {
      "_dom_classes": [],
      "_model_module": "@jupyter-widgets/controls",
      "_model_module_version": "1.5.0",
      "_model_name": "FloatProgressModel",
      "_view_count": null,
      "_view_module": "@jupyter-widgets/controls",
      "_view_module_version": "1.5.0",
      "_view_name": "ProgressView",
      "bar_style": "",
      "description": "",
      "description_tooltip": null,
      "layout": "IPY_MODEL_0108bb200bd24401b76c8dab692fcc22",
      "max": 1,
      "min": 0,
      "orientation": "horizontal",
      "style": "IPY_MODEL_9682aadc1b1140118bee0d77291fdff1",
      "value": 1
     }
    },
    "38463f7d61844f27bd67fa599b461773": {
     "model_module": "@jupyter-widgets/base",
     "model_module_version": "1.2.0",
     "model_name": "LayoutModel",
     "state": {
      "_model_module": "@jupyter-widgets/base",
      "_model_module_version": "1.2.0",
      "_model_name": "LayoutModel",
      "_view_count": null,
      "_view_module": "@jupyter-widgets/base",
      "_view_module_version": "1.2.0",
      "_view_name": "LayoutView",
      "align_content": null,
      "align_items": null,
      "align_self": null,
      "border": null,
      "bottom": null,
      "display": null,
      "flex": null,
      "flex_flow": null,
      "grid_area": null,
      "grid_auto_columns": null,
      "grid_auto_flow": null,
      "grid_auto_rows": null,
      "grid_column": null,
      "grid_gap": null,
      "grid_row": null,
      "grid_template_areas": null,
      "grid_template_columns": null,
      "grid_template_rows": null,
      "height": null,
      "justify_content": null,
      "justify_items": null,
      "left": null,
      "margin": null,
      "max_height": null,
      "max_width": null,
      "min_height": null,
      "min_width": null,
      "object_fit": null,
      "object_position": null,
      "order": null,
      "overflow": null,
      "overflow_x": null,
      "overflow_y": null,
      "padding": null,
      "right": null,
      "top": null,
      "visibility": null,
      "width": null
     }
    },
    "38add9f70eb942c583d387252f19d3ad": {
     "model_module": "@jupyter-widgets/controls",
     "model_module_version": "1.5.0",
     "model_name": "DescriptionStyleModel",
     "state": {
      "_model_module": "@jupyter-widgets/controls",
      "_model_module_version": "1.5.0",
      "_model_name": "DescriptionStyleModel",
      "_view_count": null,
      "_view_module": "@jupyter-widgets/base",
      "_view_module_version": "1.2.0",
      "_view_name": "StyleView",
      "description_width": ""
     }
    },
    "390160ff028445fa88dbdba3debeabaf": {
     "model_module": "@jupyter-widgets/controls",
     "model_module_version": "1.5.0",
     "model_name": "FloatProgressModel",
     "state": {
      "_dom_classes": [],
      "_model_module": "@jupyter-widgets/controls",
      "_model_module_version": "1.5.0",
      "_model_name": "FloatProgressModel",
      "_view_count": null,
      "_view_module": "@jupyter-widgets/controls",
      "_view_module_version": "1.5.0",
      "_view_name": "ProgressView",
      "bar_style": "",
      "description": "",
      "description_tooltip": null,
      "layout": "IPY_MODEL_563389dba3d3474795af7d4e87c99337",
      "max": 1,
      "min": 0,
      "orientation": "horizontal",
      "style": "IPY_MODEL_cc90b11fc1cc49fcbdddde76dfd4a68c",
      "value": 1
     }
    },
    "39bee8896c874cff94af5f2b447dddd8": {
     "model_module": "@jupyter-widgets/controls",
     "model_module_version": "1.5.0",
     "model_name": "DescriptionStyleModel",
     "state": {
      "_model_module": "@jupyter-widgets/controls",
      "_model_module_version": "1.5.0",
      "_model_name": "DescriptionStyleModel",
      "_view_count": null,
      "_view_module": "@jupyter-widgets/base",
      "_view_module_version": "1.2.0",
      "_view_name": "StyleView",
      "description_width": ""
     }
    },
    "3bfc3f4411ec43e5ada4daecd4e61fbc": {
     "model_module": "@jupyter-widgets/controls",
     "model_module_version": "1.5.0",
     "model_name": "HBoxModel",
     "state": {
      "_dom_classes": [],
      "_model_module": "@jupyter-widgets/controls",
      "_model_module_version": "1.5.0",
      "_model_name": "HBoxModel",
      "_view_count": null,
      "_view_module": "@jupyter-widgets/controls",
      "_view_module_version": "1.5.0",
      "_view_name": "HBoxView",
      "box_style": "",
      "children": [
       "IPY_MODEL_135320bd23024ec185e7123b423b652c",
       "IPY_MODEL_e873933517944b86b2fe53d7c2f59bb3",
       "IPY_MODEL_8bb40f8b18364bb7813a44295f9b0b10"
      ],
      "layout": "IPY_MODEL_96d99516dcb74492ae73cdad662d171e"
     }
    },
    "3e19ae3bb89d41859dc3401f12cb8f96": {
     "model_module": "@jupyter-widgets/controls",
     "model_module_version": "1.5.0",
     "model_name": "FloatProgressModel",
     "state": {
      "_dom_classes": [],
      "_model_module": "@jupyter-widgets/controls",
      "_model_module_version": "1.5.0",
      "_model_name": "FloatProgressModel",
      "_view_count": null,
      "_view_module": "@jupyter-widgets/controls",
      "_view_module_version": "1.5.0",
      "_view_name": "ProgressView",
      "bar_style": "success",
      "description": "",
      "description_tooltip": null,
      "layout": "IPY_MODEL_60990d7dae01437198a6c4afa061ce65",
      "max": 3798,
      "min": 0,
      "orientation": "horizontal",
      "style": "IPY_MODEL_9a400a00aabc4f0692a0667dfc7a4f11",
      "value": 3798
     }
    },
    "3e7f5da359db4cb7b7bebce3fcae3b92": {
     "model_module": "@jupyter-widgets/base",
     "model_module_version": "1.2.0",
     "model_name": "LayoutModel",
     "state": {
      "_model_module": "@jupyter-widgets/base",
      "_model_module_version": "1.2.0",
      "_model_name": "LayoutModel",
      "_view_count": null,
      "_view_module": "@jupyter-widgets/base",
      "_view_module_version": "1.2.0",
      "_view_name": "LayoutView",
      "align_content": null,
      "align_items": null,
      "align_self": null,
      "border": null,
      "bottom": null,
      "display": null,
      "flex": null,
      "flex_flow": null,
      "grid_area": null,
      "grid_auto_columns": null,
      "grid_auto_flow": null,
      "grid_auto_rows": null,
      "grid_column": null,
      "grid_gap": null,
      "grid_row": null,
      "grid_template_areas": null,
      "grid_template_columns": null,
      "grid_template_rows": null,
      "height": null,
      "justify_content": null,
      "justify_items": null,
      "left": null,
      "margin": null,
      "max_height": null,
      "max_width": null,
      "min_height": null,
      "min_width": null,
      "object_fit": null,
      "object_position": null,
      "order": null,
      "overflow": null,
      "overflow_x": null,
      "overflow_y": null,
      "padding": null,
      "right": null,
      "top": null,
      "visibility": null,
      "width": null
     }
    },
    "3f015cf4db714bb2b268bd7fe8714273": {
     "model_module": "@jupyter-widgets/base",
     "model_module_version": "1.2.0",
     "model_name": "LayoutModel",
     "state": {
      "_model_module": "@jupyter-widgets/base",
      "_model_module_version": "1.2.0",
      "_model_name": "LayoutModel",
      "_view_count": null,
      "_view_module": "@jupyter-widgets/base",
      "_view_module_version": "1.2.0",
      "_view_name": "LayoutView",
      "align_content": null,
      "align_items": null,
      "align_self": null,
      "border": null,
      "bottom": null,
      "display": null,
      "flex": null,
      "flex_flow": null,
      "grid_area": null,
      "grid_auto_columns": null,
      "grid_auto_flow": null,
      "grid_auto_rows": null,
      "grid_column": null,
      "grid_gap": null,
      "grid_row": null,
      "grid_template_areas": null,
      "grid_template_columns": null,
      "grid_template_rows": null,
      "height": null,
      "justify_content": null,
      "justify_items": null,
      "left": null,
      "margin": null,
      "max_height": null,
      "max_width": null,
      "min_height": null,
      "min_width": null,
      "object_fit": null,
      "object_position": null,
      "order": null,
      "overflow": null,
      "overflow_x": null,
      "overflow_y": null,
      "padding": null,
      "right": null,
      "top": null,
      "visibility": null,
      "width": null
     }
    },
    "3f9b34dea29245c0adac17fd91bb619a": {
     "model_module": "@jupyter-widgets/base",
     "model_module_version": "1.2.0",
     "model_name": "LayoutModel",
     "state": {
      "_model_module": "@jupyter-widgets/base",
      "_model_module_version": "1.2.0",
      "_model_name": "LayoutModel",
      "_view_count": null,
      "_view_module": "@jupyter-widgets/base",
      "_view_module_version": "1.2.0",
      "_view_name": "LayoutView",
      "align_content": null,
      "align_items": null,
      "align_self": null,
      "border": null,
      "bottom": null,
      "display": null,
      "flex": null,
      "flex_flow": null,
      "grid_area": null,
      "grid_auto_columns": null,
      "grid_auto_flow": null,
      "grid_auto_rows": null,
      "grid_column": null,
      "grid_gap": null,
      "grid_row": null,
      "grid_template_areas": null,
      "grid_template_columns": null,
      "grid_template_rows": null,
      "height": null,
      "justify_content": null,
      "justify_items": null,
      "left": null,
      "margin": null,
      "max_height": null,
      "max_width": null,
      "min_height": null,
      "min_width": null,
      "object_fit": null,
      "object_position": null,
      "order": null,
      "overflow": null,
      "overflow_x": null,
      "overflow_y": null,
      "padding": null,
      "right": null,
      "top": null,
      "visibility": null,
      "width": null
     }
    },
    "4010738f32a7447eae8a0eb1a2f7c844": {
     "model_module": "@jupyter-widgets/controls",
     "model_module_version": "1.5.0",
     "model_name": "HTMLModel",
     "state": {
      "_dom_classes": [],
      "_model_module": "@jupyter-widgets/controls",
      "_model_module_version": "1.5.0",
      "_model_name": "HTMLModel",
      "_view_count": null,
      "_view_module": "@jupyter-widgets/controls",
      "_view_module_version": "1.5.0",
      "_view_name": "HTMLView",
      "description": "",
      "description_tooltip": null,
      "layout": "IPY_MODEL_655d449bd6f543dcb9f5c6ddf5bd61d5",
      "placeholder": "​",
      "style": "IPY_MODEL_98d4c1c47bc24e319fcf012b6b05cee8",
      "value": "tokenizer_config.json: 100%"
     }
    },
    "4141527a5d8342b698143ba4a9460872": {
     "model_module": "@jupyter-widgets/base",
     "model_module_version": "1.2.0",
     "model_name": "LayoutModel",
     "state": {
      "_model_module": "@jupyter-widgets/base",
      "_model_module_version": "1.2.0",
      "_model_name": "LayoutModel",
      "_view_count": null,
      "_view_module": "@jupyter-widgets/base",
      "_view_module_version": "1.2.0",
      "_view_name": "LayoutView",
      "align_content": null,
      "align_items": null,
      "align_self": null,
      "border": null,
      "bottom": null,
      "display": null,
      "flex": null,
      "flex_flow": null,
      "grid_area": null,
      "grid_auto_columns": null,
      "grid_auto_flow": null,
      "grid_auto_rows": null,
      "grid_column": null,
      "grid_gap": null,
      "grid_row": null,
      "grid_template_areas": null,
      "grid_template_columns": null,
      "grid_template_rows": null,
      "height": null,
      "justify_content": null,
      "justify_items": null,
      "left": null,
      "margin": null,
      "max_height": null,
      "max_width": null,
      "min_height": null,
      "min_width": null,
      "object_fit": null,
      "object_position": null,
      "order": null,
      "overflow": null,
      "overflow_x": null,
      "overflow_y": null,
      "padding": null,
      "right": null,
      "top": null,
      "visibility": null,
      "width": null
     }
    },
    "455463dfe3c64a60ac8a4855ab6abc08": {
     "model_module": "@jupyter-widgets/base",
     "model_module_version": "1.2.0",
     "model_name": "LayoutModel",
     "state": {
      "_model_module": "@jupyter-widgets/base",
      "_model_module_version": "1.2.0",
      "_model_name": "LayoutModel",
      "_view_count": null,
      "_view_module": "@jupyter-widgets/base",
      "_view_module_version": "1.2.0",
      "_view_name": "LayoutView",
      "align_content": null,
      "align_items": null,
      "align_self": null,
      "border": null,
      "bottom": null,
      "display": null,
      "flex": null,
      "flex_flow": null,
      "grid_area": null,
      "grid_auto_columns": null,
      "grid_auto_flow": null,
      "grid_auto_rows": null,
      "grid_column": null,
      "grid_gap": null,
      "grid_row": null,
      "grid_template_areas": null,
      "grid_template_columns": null,
      "grid_template_rows": null,
      "height": null,
      "justify_content": null,
      "justify_items": null,
      "left": null,
      "margin": null,
      "max_height": null,
      "max_width": null,
      "min_height": null,
      "min_width": null,
      "object_fit": null,
      "object_position": null,
      "order": null,
      "overflow": null,
      "overflow_x": null,
      "overflow_y": null,
      "padding": null,
      "right": null,
      "top": null,
      "visibility": null,
      "width": null
     }
    },
    "45c4e37121094343a8581cd7051475ea": {
     "model_module": "@jupyter-widgets/base",
     "model_module_version": "1.2.0",
     "model_name": "LayoutModel",
     "state": {
      "_model_module": "@jupyter-widgets/base",
      "_model_module_version": "1.2.0",
      "_model_name": "LayoutModel",
      "_view_count": null,
      "_view_module": "@jupyter-widgets/base",
      "_view_module_version": "1.2.0",
      "_view_name": "LayoutView",
      "align_content": null,
      "align_items": null,
      "align_self": null,
      "border": null,
      "bottom": null,
      "display": null,
      "flex": null,
      "flex_flow": null,
      "grid_area": null,
      "grid_auto_columns": null,
      "grid_auto_flow": null,
      "grid_auto_rows": null,
      "grid_column": null,
      "grid_gap": null,
      "grid_row": null,
      "grid_template_areas": null,
      "grid_template_columns": null,
      "grid_template_rows": null,
      "height": null,
      "justify_content": null,
      "justify_items": null,
      "left": null,
      "margin": null,
      "max_height": null,
      "max_width": null,
      "min_height": null,
      "min_width": null,
      "object_fit": null,
      "object_position": null,
      "order": null,
      "overflow": null,
      "overflow_x": null,
      "overflow_y": null,
      "padding": null,
      "right": null,
      "top": null,
      "visibility": null,
      "width": null
     }
    },
    "4690cae37df04641acea988543a8338b": {
     "model_module": "@jupyter-widgets/controls",
     "model_module_version": "1.5.0",
     "model_name": "FloatProgressModel",
     "state": {
      "_dom_classes": [],
      "_model_module": "@jupyter-widgets/controls",
      "_model_module_version": "1.5.0",
      "_model_name": "FloatProgressModel",
      "_view_count": null,
      "_view_module": "@jupyter-widgets/controls",
      "_view_module_version": "1.5.0",
      "_view_name": "ProgressView",
      "bar_style": "",
      "description": "",
      "description_tooltip": null,
      "layout": "IPY_MODEL_83a3f6a7c0e842ae94efee8ea60d52e4",
      "max": 1,
      "min": 0,
      "orientation": "horizontal",
      "style": "IPY_MODEL_d47de15041cd4af996297856165b642c",
      "value": 1
     }
    },
    "474b4c7bcf704829b68b3ad41c6a9ced": {
     "model_module": "@jupyter-widgets/controls",
     "model_module_version": "1.5.0",
     "model_name": "HBoxModel",
     "state": {
      "_dom_classes": [],
      "_model_module": "@jupyter-widgets/controls",
      "_model_module_version": "1.5.0",
      "_model_name": "HBoxModel",
      "_view_count": null,
      "_view_module": "@jupyter-widgets/controls",
      "_view_module_version": "1.5.0",
      "_view_name": "HBoxView",
      "box_style": "",
      "children": [
       "IPY_MODEL_d03b4d6dc1e7491294eeaeb0201916b2",
       "IPY_MODEL_51805f4910104d09abf4675c1e668926",
       "IPY_MODEL_b6d044efae1b4a34b7cda8d7012dd589"
      ],
      "layout": "IPY_MODEL_dcebef0a5dd24a009929092b23be232c"
     }
    },
    "48302455d0ec4e47a6bd95a0b9f7e28d": {
     "model_module": "@jupyter-widgets/base",
     "model_module_version": "1.2.0",
     "model_name": "LayoutModel",
     "state": {
      "_model_module": "@jupyter-widgets/base",
      "_model_module_version": "1.2.0",
      "_model_name": "LayoutModel",
      "_view_count": null,
      "_view_module": "@jupyter-widgets/base",
      "_view_module_version": "1.2.0",
      "_view_name": "LayoutView",
      "align_content": null,
      "align_items": null,
      "align_self": null,
      "border": null,
      "bottom": null,
      "display": null,
      "flex": null,
      "flex_flow": null,
      "grid_area": null,
      "grid_auto_columns": null,
      "grid_auto_flow": null,
      "grid_auto_rows": null,
      "grid_column": null,
      "grid_gap": null,
      "grid_row": null,
      "grid_template_areas": null,
      "grid_template_columns": null,
      "grid_template_rows": null,
      "height": null,
      "justify_content": null,
      "justify_items": null,
      "left": null,
      "margin": null,
      "max_height": null,
      "max_width": null,
      "min_height": null,
      "min_width": null,
      "object_fit": null,
      "object_position": null,
      "order": null,
      "overflow": null,
      "overflow_x": null,
      "overflow_y": null,
      "padding": null,
      "right": null,
      "top": null,
      "visibility": null,
      "width": null
     }
    },
    "4ae446d38769413cbba803fdaf3e45fe": {
     "model_module": "@jupyter-widgets/base",
     "model_module_version": "1.2.0",
     "model_name": "LayoutModel",
     "state": {
      "_model_module": "@jupyter-widgets/base",
      "_model_module_version": "1.2.0",
      "_model_name": "LayoutModel",
      "_view_count": null,
      "_view_module": "@jupyter-widgets/base",
      "_view_module_version": "1.2.0",
      "_view_name": "LayoutView",
      "align_content": null,
      "align_items": null,
      "align_self": null,
      "border": null,
      "bottom": null,
      "display": null,
      "flex": null,
      "flex_flow": null,
      "grid_area": null,
      "grid_auto_columns": null,
      "grid_auto_flow": null,
      "grid_auto_rows": null,
      "grid_column": null,
      "grid_gap": null,
      "grid_row": null,
      "grid_template_areas": null,
      "grid_template_columns": null,
      "grid_template_rows": null,
      "height": null,
      "justify_content": null,
      "justify_items": null,
      "left": null,
      "margin": null,
      "max_height": null,
      "max_width": null,
      "min_height": null,
      "min_width": null,
      "object_fit": null,
      "object_position": null,
      "order": null,
      "overflow": null,
      "overflow_x": null,
      "overflow_y": null,
      "padding": null,
      "right": null,
      "top": null,
      "visibility": null,
      "width": null
     }
    },
    "4d680b4f1f384091b533a2db9672137f": {
     "model_module": "@jupyter-widgets/controls",
     "model_module_version": "1.5.0",
     "model_name": "DescriptionStyleModel",
     "state": {
      "_model_module": "@jupyter-widgets/controls",
      "_model_module_version": "1.5.0",
      "_model_name": "DescriptionStyleModel",
      "_view_count": null,
      "_view_module": "@jupyter-widgets/base",
      "_view_module_version": "1.2.0",
      "_view_name": "StyleView",
      "description_width": ""
     }
    },
    "4de18202f4b34ac3910c93ed7fa39ae0": {
     "model_module": "@jupyter-widgets/controls",
     "model_module_version": "1.5.0",
     "model_name": "ProgressStyleModel",
     "state": {
      "_model_module": "@jupyter-widgets/controls",
      "_model_module_version": "1.5.0",
      "_model_name": "ProgressStyleModel",
      "_view_count": null,
      "_view_module": "@jupyter-widgets/base",
      "_view_module_version": "1.2.0",
      "_view_name": "StyleView",
      "bar_color": null,
      "description_width": ""
     }
    },
    "4ecf3ad3bfe740198aae391c2d37f8fa": {
     "model_module": "@jupyter-widgets/controls",
     "model_module_version": "1.5.0",
     "model_name": "HBoxModel",
     "state": {
      "_dom_classes": [],
      "_model_module": "@jupyter-widgets/controls",
      "_model_module_version": "1.5.0",
      "_model_name": "HBoxModel",
      "_view_count": null,
      "_view_module": "@jupyter-widgets/controls",
      "_view_module_version": "1.5.0",
      "_view_name": "HBoxView",
      "box_style": "",
      "children": [
       "IPY_MODEL_2229d7b766654371a3952b81750d136f",
       "IPY_MODEL_5bdedd6d3ddc4dff810cc002e867a2d7",
       "IPY_MODEL_dcb28feac2e643cebaf6151b220d2d59"
      ],
      "layout": "IPY_MODEL_840aa70427154ad0bb22d374a5f3ec43"
     }
    },
    "4f15af160e1e4c44b60e1c187266f682": {
     "model_module": "@jupyter-widgets/controls",
     "model_module_version": "1.5.0",
     "model_name": "HTMLModel",
     "state": {
      "_dom_classes": [],
      "_model_module": "@jupyter-widgets/controls",
      "_model_module_version": "1.5.0",
      "_model_name": "HTMLModel",
      "_view_count": null,
      "_view_module": "@jupyter-widgets/controls",
      "_view_module_version": "1.5.0",
      "_view_name": "HTMLView",
      "description": "",
      "description_tooltip": null,
      "layout": "IPY_MODEL_a5db8e3e3eee49b5a5da233a90883da1",
      "placeholder": "​",
      "style": "IPY_MODEL_1f0a22e2536e4c75ac34b1672dcecb8b",
      "value": "Map: 100%"
     }
    },
    "5009ad2382624a0d8207b59231a72bfa": {
     "model_module": "@jupyter-widgets/base",
     "model_module_version": "1.2.0",
     "model_name": "LayoutModel",
     "state": {
      "_model_module": "@jupyter-widgets/base",
      "_model_module_version": "1.2.0",
      "_model_name": "LayoutModel",
      "_view_count": null,
      "_view_module": "@jupyter-widgets/base",
      "_view_module_version": "1.2.0",
      "_view_name": "LayoutView",
      "align_content": null,
      "align_items": null,
      "align_self": null,
      "border": null,
      "bottom": null,
      "display": null,
      "flex": null,
      "flex_flow": null,
      "grid_area": null,
      "grid_auto_columns": null,
      "grid_auto_flow": null,
      "grid_auto_rows": null,
      "grid_column": null,
      "grid_gap": null,
      "grid_row": null,
      "grid_template_areas": null,
      "grid_template_columns": null,
      "grid_template_rows": null,
      "height": null,
      "justify_content": null,
      "justify_items": null,
      "left": null,
      "margin": null,
      "max_height": null,
      "max_width": null,
      "min_height": null,
      "min_width": null,
      "object_fit": null,
      "object_position": null,
      "order": null,
      "overflow": null,
      "overflow_x": null,
      "overflow_y": null,
      "padding": null,
      "right": null,
      "top": null,
      "visibility": null,
      "width": null
     }
    },
    "501f20ebd5a943338deb7d403bc4ea9c": {
     "model_module": "@jupyter-widgets/controls",
     "model_module_version": "1.5.0",
     "model_name": "DescriptionStyleModel",
     "state": {
      "_model_module": "@jupyter-widgets/controls",
      "_model_module_version": "1.5.0",
      "_model_name": "DescriptionStyleModel",
      "_view_count": null,
      "_view_module": "@jupyter-widgets/base",
      "_view_module_version": "1.2.0",
      "_view_name": "StyleView",
      "description_width": ""
     }
    },
    "51805f4910104d09abf4675c1e668926": {
     "model_module": "@jupyter-widgets/controls",
     "model_module_version": "1.5.0",
     "model_name": "FloatProgressModel",
     "state": {
      "_dom_classes": [],
      "_model_module": "@jupyter-widgets/controls",
      "_model_module_version": "1.5.0",
      "_model_name": "FloatProgressModel",
      "_view_count": null,
      "_view_module": "@jupyter-widgets/controls",
      "_view_module_version": "1.5.0",
      "_view_name": "ProgressView",
      "bar_style": "success",
      "description": "",
      "description_tooltip": null,
      "layout": "IPY_MODEL_e14c4cb27be246c49e2831488e3319db",
      "max": 456318,
      "min": 0,
      "orientation": "horizontal",
      "style": "IPY_MODEL_58182c2f3f4d4f0a85df887986758375",
      "value": 456318
     }
    },
    "52f3f3af9caa4ea2a56b6108fca862d0": {
     "model_module": "@jupyter-widgets/controls",
     "model_module_version": "1.5.0",
     "model_name": "FloatProgressModel",
     "state": {
      "_dom_classes": [],
      "_model_module": "@jupyter-widgets/controls",
      "_model_module_version": "1.5.0",
      "_model_name": "FloatProgressModel",
      "_view_count": null,
      "_view_module": "@jupyter-widgets/controls",
      "_view_module_version": "1.5.0",
      "_view_name": "ProgressView",
      "bar_style": "success",
      "description": "",
      "description_tooltip": null,
      "layout": "IPY_MODEL_35b3c9eb299d487d93d2812c2e1c5f5b",
      "max": 4116,
      "min": 0,
      "orientation": "horizontal",
      "style": "IPY_MODEL_f48996ddefa84af28297ad7d07e0afa2",
      "value": 4116
     }
    },
    "544caf61b5ec4facbbfd8f8d1eb1760e": {
     "model_module": "@jupyter-widgets/base",
     "model_module_version": "1.2.0",
     "model_name": "LayoutModel",
     "state": {
      "_model_module": "@jupyter-widgets/base",
      "_model_module_version": "1.2.0",
      "_model_name": "LayoutModel",
      "_view_count": null,
      "_view_module": "@jupyter-widgets/base",
      "_view_module_version": "1.2.0",
      "_view_name": "LayoutView",
      "align_content": null,
      "align_items": null,
      "align_self": null,
      "border": null,
      "bottom": null,
      "display": null,
      "flex": null,
      "flex_flow": null,
      "grid_area": null,
      "grid_auto_columns": null,
      "grid_auto_flow": null,
      "grid_auto_rows": null,
      "grid_column": null,
      "grid_gap": null,
      "grid_row": null,
      "grid_template_areas": null,
      "grid_template_columns": null,
      "grid_template_rows": null,
      "height": null,
      "justify_content": null,
      "justify_items": null,
      "left": null,
      "margin": null,
      "max_height": null,
      "max_width": null,
      "min_height": null,
      "min_width": null,
      "object_fit": null,
      "object_position": null,
      "order": null,
      "overflow": null,
      "overflow_x": null,
      "overflow_y": null,
      "padding": null,
      "right": null,
      "top": null,
      "visibility": null,
      "width": null
     }
    },
    "563389dba3d3474795af7d4e87c99337": {
     "model_module": "@jupyter-widgets/base",
     "model_module_version": "1.2.0",
     "model_name": "LayoutModel",
     "state": {
      "_model_module": "@jupyter-widgets/base",
      "_model_module_version": "1.2.0",
      "_model_name": "LayoutModel",
      "_view_count": null,
      "_view_module": "@jupyter-widgets/base",
      "_view_module_version": "1.2.0",
      "_view_name": "LayoutView",
      "align_content": null,
      "align_items": null,
      "align_self": null,
      "border": null,
      "bottom": null,
      "display": null,
      "flex": null,
      "flex_flow": null,
      "grid_area": null,
      "grid_auto_columns": null,
      "grid_auto_flow": null,
      "grid_auto_rows": null,
      "grid_column": null,
      "grid_gap": null,
      "grid_row": null,
      "grid_template_areas": null,
      "grid_template_columns": null,
      "grid_template_rows": null,
      "height": null,
      "justify_content": null,
      "justify_items": null,
      "left": null,
      "margin": null,
      "max_height": null,
      "max_width": null,
      "min_height": null,
      "min_width": null,
      "object_fit": null,
      "object_position": null,
      "order": null,
      "overflow": null,
      "overflow_x": null,
      "overflow_y": null,
      "padding": null,
      "right": null,
      "top": null,
      "visibility": null,
      "width": null
     }
    },
    "5673d28b06b649f4a7d20e90535f39c7": {
     "model_module": "@jupyter-widgets/controls",
     "model_module_version": "1.5.0",
     "model_name": "LabelModel",
     "state": {
      "_dom_classes": [],
      "_model_module": "@jupyter-widgets/controls",
      "_model_module_version": "1.5.0",
      "_model_name": "LabelModel",
      "_view_count": null,
      "_view_module": "@jupyter-widgets/controls",
      "_view_module_version": "1.5.0",
      "_view_name": "LabelView",
      "description": "",
      "description_tooltip": null,
      "layout": "IPY_MODEL_45c4e37121094343a8581cd7051475ea",
      "placeholder": "​",
      "style": "IPY_MODEL_ef72071073c94efdbbefb983629c594c",
      "value": "0.032 MB of 0.032 MB uploaded\r"
     }
    },
    "57c61eaecd0c4cec87606063dc9b9014": {
     "model_module": "@jupyter-widgets/controls",
     "model_module_version": "1.5.0",
     "model_name": "HTMLModel",
     "state": {
      "_dom_classes": [],
      "_model_module": "@jupyter-widgets/controls",
      "_model_module_version": "1.5.0",
      "_model_name": "HTMLModel",
      "_view_count": null,
      "_view_module": "@jupyter-widgets/controls",
      "_view_module_version": "1.5.0",
      "_view_name": "HTMLView",
      "description": "",
      "description_tooltip": null,
      "layout": "IPY_MODEL_455463dfe3c64a60ac8a4855ab6abc08",
      "placeholder": "​",
      "style": "IPY_MODEL_b3233fd6e1744ce9812095a90adfa6c9",
      "value": " 3798/3798 [00:02&lt;00:00, 1911.95 examples/s]"
     }
    },
    "58182c2f3f4d4f0a85df887986758375": {
     "model_module": "@jupyter-widgets/controls",
     "model_module_version": "1.5.0",
     "model_name": "ProgressStyleModel",
     "state": {
      "_model_module": "@jupyter-widgets/controls",
      "_model_module_version": "1.5.0",
      "_model_name": "ProgressStyleModel",
      "_view_count": null,
      "_view_module": "@jupyter-widgets/base",
      "_view_module_version": "1.2.0",
      "_view_name": "StyleView",
      "bar_color": null,
      "description_width": ""
     }
    },
    "592d71d1a3b44f03821e9669b077dd25": {
     "model_module": "@jupyter-widgets/base",
     "model_module_version": "1.2.0",
     "model_name": "LayoutModel",
     "state": {
      "_model_module": "@jupyter-widgets/base",
      "_model_module_version": "1.2.0",
      "_model_name": "LayoutModel",
      "_view_count": null,
      "_view_module": "@jupyter-widgets/base",
      "_view_module_version": "1.2.0",
      "_view_name": "LayoutView",
      "align_content": null,
      "align_items": null,
      "align_self": null,
      "border": null,
      "bottom": null,
      "display": null,
      "flex": null,
      "flex_flow": null,
      "grid_area": null,
      "grid_auto_columns": null,
      "grid_auto_flow": null,
      "grid_auto_rows": null,
      "grid_column": null,
      "grid_gap": null,
      "grid_row": null,
      "grid_template_areas": null,
      "grid_template_columns": null,
      "grid_template_rows": null,
      "height": null,
      "justify_content": null,
      "justify_items": null,
      "left": null,
      "margin": null,
      "max_height": null,
      "max_width": null,
      "min_height": null,
      "min_width": null,
      "object_fit": null,
      "object_position": null,
      "order": null,
      "overflow": null,
      "overflow_x": null,
      "overflow_y": null,
      "padding": null,
      "right": null,
      "top": null,
      "visibility": null,
      "width": null
     }
    },
    "5bdedd6d3ddc4dff810cc002e867a2d7": {
     "model_module": "@jupyter-widgets/controls",
     "model_module_version": "1.5.0",
     "model_name": "FloatProgressModel",
     "state": {
      "_dom_classes": [],
      "_model_module": "@jupyter-widgets/controls",
      "_model_module_version": "1.5.0",
      "_model_name": "FloatProgressModel",
      "_view_count": null,
      "_view_module": "@jupyter-widgets/controls",
      "_view_module_version": "1.5.0",
      "_view_name": "ProgressView",
      "bar_style": "success",
      "description": "",
      "description_tooltip": null,
      "layout": "IPY_MODEL_f14d73a38118443f8ef11dfba80519f3",
      "max": 4116,
      "min": 0,
      "orientation": "horizontal",
      "style": "IPY_MODEL_2a59df75adb9429e96765ece2b463b0c",
      "value": 4116
     }
    },
    "5bf6380e2fdd4fc884caa25f36add233": {
     "model_module": "@jupyter-widgets/controls",
     "model_module_version": "1.5.0",
     "model_name": "HTMLModel",
     "state": {
      "_dom_classes": [],
      "_model_module": "@jupyter-widgets/controls",
      "_model_module_version": "1.5.0",
      "_model_name": "HTMLModel",
      "_view_count": null,
      "_view_module": "@jupyter-widgets/controls",
      "_view_module_version": "1.5.0",
      "_view_name": "HTMLView",
      "description": "",
      "description_tooltip": null,
      "layout": "IPY_MODEL_7ea4de91a1824d0aa04e22bb2951aee6",
      "placeholder": "​",
      "style": "IPY_MODEL_9e9c3068c227431d9c445c6e7fb9726e",
      "value": "config.json: 100%"
     }
    },
    "5c525a73a655466bb5203e0fba3b6854": {
     "model_module": "@jupyter-widgets/base",
     "model_module_version": "1.2.0",
     "model_name": "LayoutModel",
     "state": {
      "_model_module": "@jupyter-widgets/base",
      "_model_module_version": "1.2.0",
      "_model_name": "LayoutModel",
      "_view_count": null,
      "_view_module": "@jupyter-widgets/base",
      "_view_module_version": "1.2.0",
      "_view_name": "LayoutView",
      "align_content": null,
      "align_items": null,
      "align_self": null,
      "border": null,
      "bottom": null,
      "display": null,
      "flex": null,
      "flex_flow": null,
      "grid_area": null,
      "grid_auto_columns": null,
      "grid_auto_flow": null,
      "grid_auto_rows": null,
      "grid_column": null,
      "grid_gap": null,
      "grid_row": null,
      "grid_template_areas": null,
      "grid_template_columns": null,
      "grid_template_rows": null,
      "height": null,
      "justify_content": null,
      "justify_items": null,
      "left": null,
      "margin": null,
      "max_height": null,
      "max_width": null,
      "min_height": null,
      "min_width": null,
      "object_fit": null,
      "object_position": null,
      "order": null,
      "overflow": null,
      "overflow_x": null,
      "overflow_y": null,
      "padding": null,
      "right": null,
      "top": null,
      "visibility": null,
      "width": null
     }
    },
    "5d2bf5dd0101456c8976a2889f2e9b73": {
     "model_module": "@jupyter-widgets/base",
     "model_module_version": "1.2.0",
     "model_name": "LayoutModel",
     "state": {
      "_model_module": "@jupyter-widgets/base",
      "_model_module_version": "1.2.0",
      "_model_name": "LayoutModel",
      "_view_count": null,
      "_view_module": "@jupyter-widgets/base",
      "_view_module_version": "1.2.0",
      "_view_name": "LayoutView",
      "align_content": null,
      "align_items": null,
      "align_self": null,
      "border": null,
      "bottom": null,
      "display": null,
      "flex": null,
      "flex_flow": null,
      "grid_area": null,
      "grid_auto_columns": null,
      "grid_auto_flow": null,
      "grid_auto_rows": null,
      "grid_column": null,
      "grid_gap": null,
      "grid_row": null,
      "grid_template_areas": null,
      "grid_template_columns": null,
      "grid_template_rows": null,
      "height": null,
      "justify_content": null,
      "justify_items": null,
      "left": null,
      "margin": null,
      "max_height": null,
      "max_width": null,
      "min_height": null,
      "min_width": null,
      "object_fit": null,
      "object_position": null,
      "order": null,
      "overflow": null,
      "overflow_x": null,
      "overflow_y": null,
      "padding": null,
      "right": null,
      "top": null,
      "visibility": null,
      "width": null
     }
    },
    "5dda6ce4b1c24b108aa8688b19483208": {
     "model_module": "@jupyter-widgets/controls",
     "model_module_version": "1.5.0",
     "model_name": "DescriptionStyleModel",
     "state": {
      "_model_module": "@jupyter-widgets/controls",
      "_model_module_version": "1.5.0",
      "_model_name": "DescriptionStyleModel",
      "_view_count": null,
      "_view_module": "@jupyter-widgets/base",
      "_view_module_version": "1.2.0",
      "_view_name": "StyleView",
      "description_width": ""
     }
    },
    "5e517b22e0d640d5ba4007f0f03c3e9f": {
     "model_module": "@jupyter-widgets/controls",
     "model_module_version": "1.5.0",
     "model_name": "VBoxModel",
     "state": {
      "_dom_classes": [],
      "_model_module": "@jupyter-widgets/controls",
      "_model_module_version": "1.5.0",
      "_model_name": "VBoxModel",
      "_view_count": null,
      "_view_module": "@jupyter-widgets/controls",
      "_view_module_version": "1.5.0",
      "_view_name": "VBoxView",
      "box_style": "",
      "children": [
       "IPY_MODEL_2bc75dada8964721ad7c9ee854d7002d",
       "IPY_MODEL_2a84dcdccf204067b7ce7b60ea6eb120"
      ],
      "layout": "IPY_MODEL_5d2bf5dd0101456c8976a2889f2e9b73"
     }
    },
    "5e92a9e70d9a43f1865e8906841f4dad": {
     "model_module": "@jupyter-widgets/base",
     "model_module_version": "1.2.0",
     "model_name": "LayoutModel",
     "state": {
      "_model_module": "@jupyter-widgets/base",
      "_model_module_version": "1.2.0",
      "_model_name": "LayoutModel",
      "_view_count": null,
      "_view_module": "@jupyter-widgets/base",
      "_view_module_version": "1.2.0",
      "_view_name": "LayoutView",
      "align_content": null,
      "align_items": null,
      "align_self": null,
      "border": null,
      "bottom": null,
      "display": null,
      "flex": null,
      "flex_flow": null,
      "grid_area": null,
      "grid_auto_columns": null,
      "grid_auto_flow": null,
      "grid_auto_rows": null,
      "grid_column": null,
      "grid_gap": null,
      "grid_row": null,
      "grid_template_areas": null,
      "grid_template_columns": null,
      "grid_template_rows": null,
      "height": null,
      "justify_content": null,
      "justify_items": null,
      "left": null,
      "margin": null,
      "max_height": null,
      "max_width": null,
      "min_height": null,
      "min_width": null,
      "object_fit": null,
      "object_position": null,
      "order": null,
      "overflow": null,
      "overflow_x": null,
      "overflow_y": null,
      "padding": null,
      "right": null,
      "top": null,
      "visibility": null,
      "width": null
     }
    },
    "5f40072c8c5a494e945fd406d45fbc18": {
     "model_module": "@jupyter-widgets/controls",
     "model_module_version": "1.5.0",
     "model_name": "ProgressStyleModel",
     "state": {
      "_model_module": "@jupyter-widgets/controls",
      "_model_module_version": "1.5.0",
      "_model_name": "ProgressStyleModel",
      "_view_count": null,
      "_view_module": "@jupyter-widgets/base",
      "_view_module_version": "1.2.0",
      "_view_name": "StyleView",
      "bar_color": null,
      "description_width": ""
     }
    },
    "6045cea3d8e049c68f14a4ffb41f80ee": {
     "model_module": "@jupyter-widgets/controls",
     "model_module_version": "1.5.0",
     "model_name": "VBoxModel",
     "state": {
      "_dom_classes": [],
      "_model_module": "@jupyter-widgets/controls",
      "_model_module_version": "1.5.0",
      "_model_name": "VBoxModel",
      "_view_count": null,
      "_view_module": "@jupyter-widgets/controls",
      "_view_module_version": "1.5.0",
      "_view_name": "VBoxView",
      "box_style": "",
      "children": [
       "IPY_MODEL_00a792b414744e7f8b275f60c203eab6",
       "IPY_MODEL_f386993a107542e685b82e2be486befd"
      ],
      "layout": "IPY_MODEL_a9b177d1001e4b0da9c9fb4d4607a013"
     }
    },
    "60990d7dae01437198a6c4afa061ce65": {
     "model_module": "@jupyter-widgets/base",
     "model_module_version": "1.2.0",
     "model_name": "LayoutModel",
     "state": {
      "_model_module": "@jupyter-widgets/base",
      "_model_module_version": "1.2.0",
      "_model_name": "LayoutModel",
      "_view_count": null,
      "_view_module": "@jupyter-widgets/base",
      "_view_module_version": "1.2.0",
      "_view_name": "LayoutView",
      "align_content": null,
      "align_items": null,
      "align_self": null,
      "border": null,
      "bottom": null,
      "display": null,
      "flex": null,
      "flex_flow": null,
      "grid_area": null,
      "grid_auto_columns": null,
      "grid_auto_flow": null,
      "grid_auto_rows": null,
      "grid_column": null,
      "grid_gap": null,
      "grid_row": null,
      "grid_template_areas": null,
      "grid_template_columns": null,
      "grid_template_rows": null,
      "height": null,
      "justify_content": null,
      "justify_items": null,
      "left": null,
      "margin": null,
      "max_height": null,
      "max_width": null,
      "min_height": null,
      "min_width": null,
      "object_fit": null,
      "object_position": null,
      "order": null,
      "overflow": null,
      "overflow_x": null,
      "overflow_y": null,
      "padding": null,
      "right": null,
      "top": null,
      "visibility": null,
      "width": null
     }
    },
    "62432c5f6c7943f5a4628c326e85bcde": {
     "model_module": "@jupyter-widgets/controls",
     "model_module_version": "1.5.0",
     "model_name": "HTMLModel",
     "state": {
      "_dom_classes": [],
      "_model_module": "@jupyter-widgets/controls",
      "_model_module_version": "1.5.0",
      "_model_name": "HTMLModel",
      "_view_count": null,
      "_view_module": "@jupyter-widgets/controls",
      "_view_module_version": "1.5.0",
      "_view_name": "HTMLView",
      "description": "",
      "description_tooltip": null,
      "layout": "IPY_MODEL_d15c05fd84584d919b7b6c696ab6eb48",
      "placeholder": "​",
      "style": "IPY_MODEL_bda01ea0f5354692a4c0a16b08de3d49",
      "value": " 499M/499M [00:04&lt;00:00, 129MB/s]"
     }
    },
    "64d7407132684fea88b84c18182a7313": {
     "model_module": "@jupyter-widgets/controls",
     "model_module_version": "1.5.0",
     "model_name": "DescriptionStyleModel",
     "state": {
      "_model_module": "@jupyter-widgets/controls",
      "_model_module_version": "1.5.0",
      "_model_name": "DescriptionStyleModel",
      "_view_count": null,
      "_view_module": "@jupyter-widgets/base",
      "_view_module_version": "1.2.0",
      "_view_name": "StyleView",
      "description_width": ""
     }
    },
    "655d449bd6f543dcb9f5c6ddf5bd61d5": {
     "model_module": "@jupyter-widgets/base",
     "model_module_version": "1.2.0",
     "model_name": "LayoutModel",
     "state": {
      "_model_module": "@jupyter-widgets/base",
      "_model_module_version": "1.2.0",
      "_model_name": "LayoutModel",
      "_view_count": null,
      "_view_module": "@jupyter-widgets/base",
      "_view_module_version": "1.2.0",
      "_view_name": "LayoutView",
      "align_content": null,
      "align_items": null,
      "align_self": null,
      "border": null,
      "bottom": null,
      "display": null,
      "flex": null,
      "flex_flow": null,
      "grid_area": null,
      "grid_auto_columns": null,
      "grid_auto_flow": null,
      "grid_auto_rows": null,
      "grid_column": null,
      "grid_gap": null,
      "grid_row": null,
      "grid_template_areas": null,
      "grid_template_columns": null,
      "grid_template_rows": null,
      "height": null,
      "justify_content": null,
      "justify_items": null,
      "left": null,
      "margin": null,
      "max_height": null,
      "max_width": null,
      "min_height": null,
      "min_width": null,
      "object_fit": null,
      "object_position": null,
      "order": null,
      "overflow": null,
      "overflow_x": null,
      "overflow_y": null,
      "padding": null,
      "right": null,
      "top": null,
      "visibility": null,
      "width": null
     }
    },
    "656f4ad085504dd7b4c197c03c23c485": {
     "model_module": "@jupyter-widgets/controls",
     "model_module_version": "1.5.0",
     "model_name": "DescriptionStyleModel",
     "state": {
      "_model_module": "@jupyter-widgets/controls",
      "_model_module_version": "1.5.0",
      "_model_name": "DescriptionStyleModel",
      "_view_count": null,
      "_view_module": "@jupyter-widgets/base",
      "_view_module_version": "1.2.0",
      "_view_name": "StyleView",
      "description_width": ""
     }
    },
    "66eedd99458f4454b05e3c99bd4c9ce0": {
     "model_module": "@jupyter-widgets/base",
     "model_module_version": "1.2.0",
     "model_name": "LayoutModel",
     "state": {
      "_model_module": "@jupyter-widgets/base",
      "_model_module_version": "1.2.0",
      "_model_name": "LayoutModel",
      "_view_count": null,
      "_view_module": "@jupyter-widgets/base",
      "_view_module_version": "1.2.0",
      "_view_name": "LayoutView",
      "align_content": null,
      "align_items": null,
      "align_self": null,
      "border": null,
      "bottom": null,
      "display": null,
      "flex": null,
      "flex_flow": null,
      "grid_area": null,
      "grid_auto_columns": null,
      "grid_auto_flow": null,
      "grid_auto_rows": null,
      "grid_column": null,
      "grid_gap": null,
      "grid_row": null,
      "grid_template_areas": null,
      "grid_template_columns": null,
      "grid_template_rows": null,
      "height": null,
      "justify_content": null,
      "justify_items": null,
      "left": null,
      "margin": null,
      "max_height": null,
      "max_width": null,
      "min_height": null,
      "min_width": null,
      "object_fit": null,
      "object_position": null,
      "order": null,
      "overflow": null,
      "overflow_x": null,
      "overflow_y": null,
      "padding": null,
      "right": null,
      "top": null,
      "visibility": null,
      "width": null
     }
    },
    "677c2e6543224245890a642f6fd487c0": {
     "model_module": "@jupyter-widgets/controls",
     "model_module_version": "1.5.0",
     "model_name": "DescriptionStyleModel",
     "state": {
      "_model_module": "@jupyter-widgets/controls",
      "_model_module_version": "1.5.0",
      "_model_name": "DescriptionStyleModel",
      "_view_count": null,
      "_view_module": "@jupyter-widgets/base",
      "_view_module_version": "1.2.0",
      "_view_name": "StyleView",
      "description_width": ""
     }
    },
    "6ae920ee922a4542b5639746fb56faab": {
     "model_module": "@jupyter-widgets/controls",
     "model_module_version": "1.5.0",
     "model_name": "DescriptionStyleModel",
     "state": {
      "_model_module": "@jupyter-widgets/controls",
      "_model_module_version": "1.5.0",
      "_model_name": "DescriptionStyleModel",
      "_view_count": null,
      "_view_module": "@jupyter-widgets/base",
      "_view_module_version": "1.2.0",
      "_view_name": "StyleView",
      "description_width": ""
     }
    },
    "6ce5aabe68e04bf3b70d84ffeb39a04c": {
     "model_module": "@jupyter-widgets/base",
     "model_module_version": "1.2.0",
     "model_name": "LayoutModel",
     "state": {
      "_model_module": "@jupyter-widgets/base",
      "_model_module_version": "1.2.0",
      "_model_name": "LayoutModel",
      "_view_count": null,
      "_view_module": "@jupyter-widgets/base",
      "_view_module_version": "1.2.0",
      "_view_name": "LayoutView",
      "align_content": null,
      "align_items": null,
      "align_self": null,
      "border": null,
      "bottom": null,
      "display": null,
      "flex": null,
      "flex_flow": null,
      "grid_area": null,
      "grid_auto_columns": null,
      "grid_auto_flow": null,
      "grid_auto_rows": null,
      "grid_column": null,
      "grid_gap": null,
      "grid_row": null,
      "grid_template_areas": null,
      "grid_template_columns": null,
      "grid_template_rows": null,
      "height": null,
      "justify_content": null,
      "justify_items": null,
      "left": null,
      "margin": null,
      "max_height": null,
      "max_width": null,
      "min_height": null,
      "min_width": null,
      "object_fit": null,
      "object_position": null,
      "order": null,
      "overflow": null,
      "overflow_x": null,
      "overflow_y": null,
      "padding": null,
      "right": null,
      "top": null,
      "visibility": null,
      "width": null
     }
    },
    "6d3f6c1480cb4ab59ce3efb60ef3a4cf": {
     "model_module": "@jupyter-widgets/controls",
     "model_module_version": "1.5.0",
     "model_name": "HBoxModel",
     "state": {
      "_dom_classes": [],
      "_model_module": "@jupyter-widgets/controls",
      "_model_module_version": "1.5.0",
      "_model_name": "HBoxModel",
      "_view_count": null,
      "_view_module": "@jupyter-widgets/controls",
      "_view_module_version": "1.5.0",
      "_view_name": "HBoxView",
      "box_style": "",
      "children": [
       "IPY_MODEL_bb0dfa4dc7c54f0b9166dfd666421020",
       "IPY_MODEL_fdc95f3d63af4b5dabc53f81044ba816",
       "IPY_MODEL_c8418a7bfc9a42fbab17913d9806ad23"
      ],
      "layout": "IPY_MODEL_884713706d6f45f68029e5702e6e40e5"
     }
    },
    "75045bbe824a49eaab36c3502221c6fa": {
     "model_module": "@jupyter-widgets/controls",
     "model_module_version": "1.5.0",
     "model_name": "LabelModel",
     "state": {
      "_dom_classes": [],
      "_model_module": "@jupyter-widgets/controls",
      "_model_module_version": "1.5.0",
      "_model_name": "LabelModel",
      "_view_count": null,
      "_view_module": "@jupyter-widgets/controls",
      "_view_module_version": "1.5.0",
      "_view_name": "LabelView",
      "description": "",
      "description_tooltip": null,
      "layout": "IPY_MODEL_970c5f084e2f4f1fb8697e519e499c16",
      "placeholder": "​",
      "style": "IPY_MODEL_a55584bd7e3a458987b4ef92826b86f0",
      "value": "0.032 MB of 0.032 MB uploaded\r"
     }
    },
    "75ae3e233f1144689e979a39c854e6b1": {
     "model_module": "@jupyter-widgets/base",
     "model_module_version": "1.2.0",
     "model_name": "LayoutModel",
     "state": {
      "_model_module": "@jupyter-widgets/base",
      "_model_module_version": "1.2.0",
      "_model_name": "LayoutModel",
      "_view_count": null,
      "_view_module": "@jupyter-widgets/base",
      "_view_module_version": "1.2.0",
      "_view_name": "LayoutView",
      "align_content": null,
      "align_items": null,
      "align_self": null,
      "border": null,
      "bottom": null,
      "display": null,
      "flex": null,
      "flex_flow": null,
      "grid_area": null,
      "grid_auto_columns": null,
      "grid_auto_flow": null,
      "grid_auto_rows": null,
      "grid_column": null,
      "grid_gap": null,
      "grid_row": null,
      "grid_template_areas": null,
      "grid_template_columns": null,
      "grid_template_rows": null,
      "height": null,
      "justify_content": null,
      "justify_items": null,
      "left": null,
      "margin": null,
      "max_height": null,
      "max_width": null,
      "min_height": null,
      "min_width": null,
      "object_fit": null,
      "object_position": null,
      "order": null,
      "overflow": null,
      "overflow_x": null,
      "overflow_y": null,
      "padding": null,
      "right": null,
      "top": null,
      "visibility": null,
      "width": null
     }
    },
    "75bf9f405eac406988f65fbe374bfa93": {
     "model_module": "@jupyter-widgets/base",
     "model_module_version": "1.2.0",
     "model_name": "LayoutModel",
     "state": {
      "_model_module": "@jupyter-widgets/base",
      "_model_module_version": "1.2.0",
      "_model_name": "LayoutModel",
      "_view_count": null,
      "_view_module": "@jupyter-widgets/base",
      "_view_module_version": "1.2.0",
      "_view_name": "LayoutView",
      "align_content": null,
      "align_items": null,
      "align_self": null,
      "border": null,
      "bottom": null,
      "display": null,
      "flex": null,
      "flex_flow": null,
      "grid_area": null,
      "grid_auto_columns": null,
      "grid_auto_flow": null,
      "grid_auto_rows": null,
      "grid_column": null,
      "grid_gap": null,
      "grid_row": null,
      "grid_template_areas": null,
      "grid_template_columns": null,
      "grid_template_rows": null,
      "height": null,
      "justify_content": null,
      "justify_items": null,
      "left": null,
      "margin": null,
      "max_height": null,
      "max_width": null,
      "min_height": null,
      "min_width": null,
      "object_fit": null,
      "object_position": null,
      "order": null,
      "overflow": null,
      "overflow_x": null,
      "overflow_y": null,
      "padding": null,
      "right": null,
      "top": null,
      "visibility": null,
      "width": null
     }
    },
    "77b4d2fc6d1d4741ab377ea8793476e5": {
     "model_module": "@jupyter-widgets/controls",
     "model_module_version": "1.5.0",
     "model_name": "ProgressStyleModel",
     "state": {
      "_model_module": "@jupyter-widgets/controls",
      "_model_module_version": "1.5.0",
      "_model_name": "ProgressStyleModel",
      "_view_count": null,
      "_view_module": "@jupyter-widgets/base",
      "_view_module_version": "1.2.0",
      "_view_name": "StyleView",
      "bar_color": null,
      "description_width": ""
     }
    },
    "77d80257503740f7a685c7555caa3595": {
     "model_module": "@jupyter-widgets/controls",
     "model_module_version": "1.5.0",
     "model_name": "FloatProgressModel",
     "state": {
      "_dom_classes": [],
      "_model_module": "@jupyter-widgets/controls",
      "_model_module_version": "1.5.0",
      "_model_name": "FloatProgressModel",
      "_view_count": null,
      "_view_module": "@jupyter-widgets/controls",
      "_view_module_version": "1.5.0",
      "_view_name": "ProgressView",
      "bar_style": "",
      "description": "",
      "description_tooltip": null,
      "layout": "IPY_MODEL_be8c7529076b4b8593ef3a888879baed",
      "max": 1,
      "min": 0,
      "orientation": "horizontal",
      "style": "IPY_MODEL_c3e48bee8bfd4947bf810c147f5d84be",
      "value": 1
     }
    },
    "78f52948d5bb4551822d9b5d4d98b7ac": {
     "model_module": "@jupyter-widgets/controls",
     "model_module_version": "1.5.0",
     "model_name": "FloatProgressModel",
     "state": {
      "_dom_classes": [],
      "_model_module": "@jupyter-widgets/controls",
      "_model_module_version": "1.5.0",
      "_model_name": "FloatProgressModel",
      "_view_count": null,
      "_view_module": "@jupyter-widgets/controls",
      "_view_module_version": "1.5.0",
      "_view_name": "ProgressView",
      "bar_style": "success",
      "description": "",
      "description_tooltip": null,
      "layout": "IPY_MODEL_108c93e7c5194e61bee76b4685bd550d",
      "max": 3798,
      "min": 0,
      "orientation": "horizontal",
      "style": "IPY_MODEL_d8f82645ca944a7b98b9c303ac659fed",
      "value": 3798
     }
    },
    "7a47e275042c42cab7ea5c0f97ca33f6": {
     "model_module": "@jupyter-widgets/controls",
     "model_module_version": "1.5.0",
     "model_name": "DescriptionStyleModel",
     "state": {
      "_model_module": "@jupyter-widgets/controls",
      "_model_module_version": "1.5.0",
      "_model_name": "DescriptionStyleModel",
      "_view_count": null,
      "_view_module": "@jupyter-widgets/base",
      "_view_module_version": "1.2.0",
      "_view_name": "StyleView",
      "description_width": ""
     }
    },
    "7ab7db0d8b4243909206dd5e21475585": {
     "model_module": "@jupyter-widgets/base",
     "model_module_version": "1.2.0",
     "model_name": "LayoutModel",
     "state": {
      "_model_module": "@jupyter-widgets/base",
      "_model_module_version": "1.2.0",
      "_model_name": "LayoutModel",
      "_view_count": null,
      "_view_module": "@jupyter-widgets/base",
      "_view_module_version": "1.2.0",
      "_view_name": "LayoutView",
      "align_content": null,
      "align_items": null,
      "align_self": null,
      "border": null,
      "bottom": null,
      "display": null,
      "flex": null,
      "flex_flow": null,
      "grid_area": null,
      "grid_auto_columns": null,
      "grid_auto_flow": null,
      "grid_auto_rows": null,
      "grid_column": null,
      "grid_gap": null,
      "grid_row": null,
      "grid_template_areas": null,
      "grid_template_columns": null,
      "grid_template_rows": null,
      "height": null,
      "justify_content": null,
      "justify_items": null,
      "left": null,
      "margin": null,
      "max_height": null,
      "max_width": null,
      "min_height": null,
      "min_width": null,
      "object_fit": null,
      "object_position": null,
      "order": null,
      "overflow": null,
      "overflow_x": null,
      "overflow_y": null,
      "padding": null,
      "right": null,
      "top": null,
      "visibility": null,
      "width": null
     }
    },
    "7aeb41e4eb984fbca3e975b66bdb3034": {
     "model_module": "@jupyter-widgets/base",
     "model_module_version": "1.2.0",
     "model_name": "LayoutModel",
     "state": {
      "_model_module": "@jupyter-widgets/base",
      "_model_module_version": "1.2.0",
      "_model_name": "LayoutModel",
      "_view_count": null,
      "_view_module": "@jupyter-widgets/base",
      "_view_module_version": "1.2.0",
      "_view_name": "LayoutView",
      "align_content": null,
      "align_items": null,
      "align_self": null,
      "border": null,
      "bottom": null,
      "display": null,
      "flex": null,
      "flex_flow": null,
      "grid_area": null,
      "grid_auto_columns": null,
      "grid_auto_flow": null,
      "grid_auto_rows": null,
      "grid_column": null,
      "grid_gap": null,
      "grid_row": null,
      "grid_template_areas": null,
      "grid_template_columns": null,
      "grid_template_rows": null,
      "height": null,
      "justify_content": null,
      "justify_items": null,
      "left": null,
      "margin": null,
      "max_height": null,
      "max_width": null,
      "min_height": null,
      "min_width": null,
      "object_fit": null,
      "object_position": null,
      "order": null,
      "overflow": null,
      "overflow_x": null,
      "overflow_y": null,
      "padding": null,
      "right": null,
      "top": null,
      "visibility": null,
      "width": null
     }
    },
    "7cc9731214934dceb6170a7fb7f2f001": {
     "model_module": "@jupyter-widgets/base",
     "model_module_version": "1.2.0",
     "model_name": "LayoutModel",
     "state": {
      "_model_module": "@jupyter-widgets/base",
      "_model_module_version": "1.2.0",
      "_model_name": "LayoutModel",
      "_view_count": null,
      "_view_module": "@jupyter-widgets/base",
      "_view_module_version": "1.2.0",
      "_view_name": "LayoutView",
      "align_content": null,
      "align_items": null,
      "align_self": null,
      "border": null,
      "bottom": null,
      "display": null,
      "flex": null,
      "flex_flow": null,
      "grid_area": null,
      "grid_auto_columns": null,
      "grid_auto_flow": null,
      "grid_auto_rows": null,
      "grid_column": null,
      "grid_gap": null,
      "grid_row": null,
      "grid_template_areas": null,
      "grid_template_columns": null,
      "grid_template_rows": null,
      "height": null,
      "justify_content": null,
      "justify_items": null,
      "left": null,
      "margin": null,
      "max_height": null,
      "max_width": null,
      "min_height": null,
      "min_width": null,
      "object_fit": null,
      "object_position": null,
      "order": null,
      "overflow": null,
      "overflow_x": null,
      "overflow_y": null,
      "padding": null,
      "right": null,
      "top": null,
      "visibility": null,
      "width": null
     }
    },
    "7cdf41a2ef554dc5a287e0f031260099": {
     "model_module": "@jupyter-widgets/controls",
     "model_module_version": "1.5.0",
     "model_name": "FloatProgressModel",
     "state": {
      "_dom_classes": [],
      "_model_module": "@jupyter-widgets/controls",
      "_model_module_version": "1.5.0",
      "_model_name": "FloatProgressModel",
      "_view_count": null,
      "_view_module": "@jupyter-widgets/controls",
      "_view_module_version": "1.5.0",
      "_view_name": "ProgressView",
      "bar_style": "",
      "description": "",
      "description_tooltip": null,
      "layout": "IPY_MODEL_a05f3b5d898b4b73bdd9f6618d7ba292",
      "max": 1,
      "min": 0,
      "orientation": "horizontal",
      "style": "IPY_MODEL_77b4d2fc6d1d4741ab377ea8793476e5",
      "value": 1
     }
    },
    "7d60aff201b449deb80d9cb0bf3f17d8": {
     "model_module": "@jupyter-widgets/base",
     "model_module_version": "1.2.0",
     "model_name": "LayoutModel",
     "state": {
      "_model_module": "@jupyter-widgets/base",
      "_model_module_version": "1.2.0",
      "_model_name": "LayoutModel",
      "_view_count": null,
      "_view_module": "@jupyter-widgets/base",
      "_view_module_version": "1.2.0",
      "_view_name": "LayoutView",
      "align_content": null,
      "align_items": null,
      "align_self": null,
      "border": null,
      "bottom": null,
      "display": null,
      "flex": null,
      "flex_flow": null,
      "grid_area": null,
      "grid_auto_columns": null,
      "grid_auto_flow": null,
      "grid_auto_rows": null,
      "grid_column": null,
      "grid_gap": null,
      "grid_row": null,
      "grid_template_areas": null,
      "grid_template_columns": null,
      "grid_template_rows": null,
      "height": null,
      "justify_content": null,
      "justify_items": null,
      "left": null,
      "margin": null,
      "max_height": null,
      "max_width": null,
      "min_height": null,
      "min_width": null,
      "object_fit": null,
      "object_position": null,
      "order": null,
      "overflow": null,
      "overflow_x": null,
      "overflow_y": null,
      "padding": null,
      "right": null,
      "top": null,
      "visibility": null,
      "width": null
     }
    },
    "7ea4de91a1824d0aa04e22bb2951aee6": {
     "model_module": "@jupyter-widgets/base",
     "model_module_version": "1.2.0",
     "model_name": "LayoutModel",
     "state": {
      "_model_module": "@jupyter-widgets/base",
      "_model_module_version": "1.2.0",
      "_model_name": "LayoutModel",
      "_view_count": null,
      "_view_module": "@jupyter-widgets/base",
      "_view_module_version": "1.2.0",
      "_view_name": "LayoutView",
      "align_content": null,
      "align_items": null,
      "align_self": null,
      "border": null,
      "bottom": null,
      "display": null,
      "flex": null,
      "flex_flow": null,
      "grid_area": null,
      "grid_auto_columns": null,
      "grid_auto_flow": null,
      "grid_auto_rows": null,
      "grid_column": null,
      "grid_gap": null,
      "grid_row": null,
      "grid_template_areas": null,
      "grid_template_columns": null,
      "grid_template_rows": null,
      "height": null,
      "justify_content": null,
      "justify_items": null,
      "left": null,
      "margin": null,
      "max_height": null,
      "max_width": null,
      "min_height": null,
      "min_width": null,
      "object_fit": null,
      "object_position": null,
      "order": null,
      "overflow": null,
      "overflow_x": null,
      "overflow_y": null,
      "padding": null,
      "right": null,
      "top": null,
      "visibility": null,
      "width": null
     }
    },
    "7ec6b06916a74a7983343216da3036a2": {
     "model_module": "@jupyter-widgets/base",
     "model_module_version": "1.2.0",
     "model_name": "LayoutModel",
     "state": {
      "_model_module": "@jupyter-widgets/base",
      "_model_module_version": "1.2.0",
      "_model_name": "LayoutModel",
      "_view_count": null,
      "_view_module": "@jupyter-widgets/base",
      "_view_module_version": "1.2.0",
      "_view_name": "LayoutView",
      "align_content": null,
      "align_items": null,
      "align_self": null,
      "border": null,
      "bottom": null,
      "display": null,
      "flex": null,
      "flex_flow": null,
      "grid_area": null,
      "grid_auto_columns": null,
      "grid_auto_flow": null,
      "grid_auto_rows": null,
      "grid_column": null,
      "grid_gap": null,
      "grid_row": null,
      "grid_template_areas": null,
      "grid_template_columns": null,
      "grid_template_rows": null,
      "height": null,
      "justify_content": null,
      "justify_items": null,
      "left": null,
      "margin": null,
      "max_height": null,
      "max_width": null,
      "min_height": null,
      "min_width": null,
      "object_fit": null,
      "object_position": null,
      "order": null,
      "overflow": null,
      "overflow_x": null,
      "overflow_y": null,
      "padding": null,
      "right": null,
      "top": null,
      "visibility": null,
      "width": null
     }
    },
    "7f406183e80b47d491ed1ef794cb41c2": {
     "model_module": "@jupyter-widgets/controls",
     "model_module_version": "1.5.0",
     "model_name": "DescriptionStyleModel",
     "state": {
      "_model_module": "@jupyter-widgets/controls",
      "_model_module_version": "1.5.0",
      "_model_name": "DescriptionStyleModel",
      "_view_count": null,
      "_view_module": "@jupyter-widgets/base",
      "_view_module_version": "1.2.0",
      "_view_name": "StyleView",
      "description_width": ""
     }
    },
    "7f6cd4624edb4124b4db3b4c9bd7ac35": {
     "model_module": "@jupyter-widgets/controls",
     "model_module_version": "1.5.0",
     "model_name": "HTMLModel",
     "state": {
      "_dom_classes": [],
      "_model_module": "@jupyter-widgets/controls",
      "_model_module_version": "1.5.0",
      "_model_name": "HTMLModel",
      "_view_count": null,
      "_view_module": "@jupyter-widgets/controls",
      "_view_module_version": "1.5.0",
      "_view_name": "HTMLView",
      "description": "",
      "description_tooltip": null,
      "layout": "IPY_MODEL_3e7f5da359db4cb7b7bebce3fcae3b92",
      "placeholder": "​",
      "style": "IPY_MODEL_19b628c90ce84291b42d1fbdf02c1be4",
      "value": " 3798/3798 [00:00&lt;00:00, 18665.37 examples/s]"
     }
    },
    "80d2f9ad47e54a4c902d02f97cc89673": {
     "model_module": "@jupyter-widgets/controls",
     "model_module_version": "1.5.0",
     "model_name": "FloatProgressModel",
     "state": {
      "_dom_classes": [],
      "_model_module": "@jupyter-widgets/controls",
      "_model_module_version": "1.5.0",
      "_model_name": "FloatProgressModel",
      "_view_count": null,
      "_view_module": "@jupyter-widgets/controls",
      "_view_module_version": "1.5.0",
      "_view_name": "ProgressView",
      "bar_style": "",
      "description": "",
      "description_tooltip": null,
      "layout": "IPY_MODEL_31e334fdd35d4aceaf259deb045f8055",
      "max": 1,
      "min": 0,
      "orientation": "horizontal",
      "style": "IPY_MODEL_d9714b0a047f4f789d2358e1e1177936",
      "value": 1
     }
    },
    "816ad62e8431424c84c536d43ddd36a1": {
     "model_module": "@jupyter-widgets/controls",
     "model_module_version": "1.5.0",
     "model_name": "ProgressStyleModel",
     "state": {
      "_model_module": "@jupyter-widgets/controls",
      "_model_module_version": "1.5.0",
      "_model_name": "ProgressStyleModel",
      "_view_count": null,
      "_view_module": "@jupyter-widgets/base",
      "_view_module_version": "1.2.0",
      "_view_name": "StyleView",
      "bar_color": null,
      "description_width": ""
     }
    },
    "83a3f6a7c0e842ae94efee8ea60d52e4": {
     "model_module": "@jupyter-widgets/base",
     "model_module_version": "1.2.0",
     "model_name": "LayoutModel",
     "state": {
      "_model_module": "@jupyter-widgets/base",
      "_model_module_version": "1.2.0",
      "_model_name": "LayoutModel",
      "_view_count": null,
      "_view_module": "@jupyter-widgets/base",
      "_view_module_version": "1.2.0",
      "_view_name": "LayoutView",
      "align_content": null,
      "align_items": null,
      "align_self": null,
      "border": null,
      "bottom": null,
      "display": null,
      "flex": null,
      "flex_flow": null,
      "grid_area": null,
      "grid_auto_columns": null,
      "grid_auto_flow": null,
      "grid_auto_rows": null,
      "grid_column": null,
      "grid_gap": null,
      "grid_row": null,
      "grid_template_areas": null,
      "grid_template_columns": null,
      "grid_template_rows": null,
      "height": null,
      "justify_content": null,
      "justify_items": null,
      "left": null,
      "margin": null,
      "max_height": null,
      "max_width": null,
      "min_height": null,
      "min_width": null,
      "object_fit": null,
      "object_position": null,
      "order": null,
      "overflow": null,
      "overflow_x": null,
      "overflow_y": null,
      "padding": null,
      "right": null,
      "top": null,
      "visibility": null,
      "width": null
     }
    },
    "840aa70427154ad0bb22d374a5f3ec43": {
     "model_module": "@jupyter-widgets/base",
     "model_module_version": "1.2.0",
     "model_name": "LayoutModel",
     "state": {
      "_model_module": "@jupyter-widgets/base",
      "_model_module_version": "1.2.0",
      "_model_name": "LayoutModel",
      "_view_count": null,
      "_view_module": "@jupyter-widgets/base",
      "_view_module_version": "1.2.0",
      "_view_name": "LayoutView",
      "align_content": null,
      "align_items": null,
      "align_self": null,
      "border": null,
      "bottom": null,
      "display": null,
      "flex": null,
      "flex_flow": null,
      "grid_area": null,
      "grid_auto_columns": null,
      "grid_auto_flow": null,
      "grid_auto_rows": null,
      "grid_column": null,
      "grid_gap": null,
      "grid_row": null,
      "grid_template_areas": null,
      "grid_template_columns": null,
      "grid_template_rows": null,
      "height": null,
      "justify_content": null,
      "justify_items": null,
      "left": null,
      "margin": null,
      "max_height": null,
      "max_width": null,
      "min_height": null,
      "min_width": null,
      "object_fit": null,
      "object_position": null,
      "order": null,
      "overflow": null,
      "overflow_x": null,
      "overflow_y": null,
      "padding": null,
      "right": null,
      "top": null,
      "visibility": null,
      "width": null
     }
    },
    "8596dac2e024416f9ff5d0647f05495b": {
     "model_module": "@jupyter-widgets/base",
     "model_module_version": "1.2.0",
     "model_name": "LayoutModel",
     "state": {
      "_model_module": "@jupyter-widgets/base",
      "_model_module_version": "1.2.0",
      "_model_name": "LayoutModel",
      "_view_count": null,
      "_view_module": "@jupyter-widgets/base",
      "_view_module_version": "1.2.0",
      "_view_name": "LayoutView",
      "align_content": null,
      "align_items": null,
      "align_self": null,
      "border": null,
      "bottom": null,
      "display": null,
      "flex": null,
      "flex_flow": null,
      "grid_area": null,
      "grid_auto_columns": null,
      "grid_auto_flow": null,
      "grid_auto_rows": null,
      "grid_column": null,
      "grid_gap": null,
      "grid_row": null,
      "grid_template_areas": null,
      "grid_template_columns": null,
      "grid_template_rows": null,
      "height": null,
      "justify_content": null,
      "justify_items": null,
      "left": null,
      "margin": null,
      "max_height": null,
      "max_width": null,
      "min_height": null,
      "min_width": null,
      "object_fit": null,
      "object_position": null,
      "order": null,
      "overflow": null,
      "overflow_x": null,
      "overflow_y": null,
      "padding": null,
      "right": null,
      "top": null,
      "visibility": null,
      "width": null
     }
    },
    "884713706d6f45f68029e5702e6e40e5": {
     "model_module": "@jupyter-widgets/base",
     "model_module_version": "1.2.0",
     "model_name": "LayoutModel",
     "state": {
      "_model_module": "@jupyter-widgets/base",
      "_model_module_version": "1.2.0",
      "_model_name": "LayoutModel",
      "_view_count": null,
      "_view_module": "@jupyter-widgets/base",
      "_view_module_version": "1.2.0",
      "_view_name": "LayoutView",
      "align_content": null,
      "align_items": null,
      "align_self": null,
      "border": null,
      "bottom": null,
      "display": null,
      "flex": null,
      "flex_flow": null,
      "grid_area": null,
      "grid_auto_columns": null,
      "grid_auto_flow": null,
      "grid_auto_rows": null,
      "grid_column": null,
      "grid_gap": null,
      "grid_row": null,
      "grid_template_areas": null,
      "grid_template_columns": null,
      "grid_template_rows": null,
      "height": null,
      "justify_content": null,
      "justify_items": null,
      "left": null,
      "margin": null,
      "max_height": null,
      "max_width": null,
      "min_height": null,
      "min_width": null,
      "object_fit": null,
      "object_position": null,
      "order": null,
      "overflow": null,
      "overflow_x": null,
      "overflow_y": null,
      "padding": null,
      "right": null,
      "top": null,
      "visibility": null,
      "width": null
     }
    },
    "8b94618202864ef7ae75d8a700bf05e6": {
     "model_module": "@jupyter-widgets/base",
     "model_module_version": "1.2.0",
     "model_name": "LayoutModel",
     "state": {
      "_model_module": "@jupyter-widgets/base",
      "_model_module_version": "1.2.0",
      "_model_name": "LayoutModel",
      "_view_count": null,
      "_view_module": "@jupyter-widgets/base",
      "_view_module_version": "1.2.0",
      "_view_name": "LayoutView",
      "align_content": null,
      "align_items": null,
      "align_self": null,
      "border": null,
      "bottom": null,
      "display": null,
      "flex": null,
      "flex_flow": null,
      "grid_area": null,
      "grid_auto_columns": null,
      "grid_auto_flow": null,
      "grid_auto_rows": null,
      "grid_column": null,
      "grid_gap": null,
      "grid_row": null,
      "grid_template_areas": null,
      "grid_template_columns": null,
      "grid_template_rows": null,
      "height": null,
      "justify_content": null,
      "justify_items": null,
      "left": null,
      "margin": null,
      "max_height": null,
      "max_width": null,
      "min_height": null,
      "min_width": null,
      "object_fit": null,
      "object_position": null,
      "order": null,
      "overflow": null,
      "overflow_x": null,
      "overflow_y": null,
      "padding": null,
      "right": null,
      "top": null,
      "visibility": null,
      "width": null
     }
    },
    "8bb205cbfec040eba967af2c3c07ae27": {
     "model_module": "@jupyter-widgets/controls",
     "model_module_version": "1.5.0",
     "model_name": "HBoxModel",
     "state": {
      "_dom_classes": [],
      "_model_module": "@jupyter-widgets/controls",
      "_model_module_version": "1.5.0",
      "_model_name": "HBoxModel",
      "_view_count": null,
      "_view_module": "@jupyter-widgets/controls",
      "_view_module_version": "1.5.0",
      "_view_name": "HBoxView",
      "box_style": "",
      "children": [
       "IPY_MODEL_4f15af160e1e4c44b60e1c187266f682",
       "IPY_MODEL_78f52948d5bb4551822d9b5d4d98b7ac",
       "IPY_MODEL_7f6cd4624edb4124b4db3b4c9bd7ac35"
      ],
      "layout": "IPY_MODEL_75ae3e233f1144689e979a39c854e6b1"
     }
    },
    "8bb40f8b18364bb7813a44295f9b0b10": {
     "model_module": "@jupyter-widgets/controls",
     "model_module_version": "1.5.0",
     "model_name": "HTMLModel",
     "state": {
      "_dom_classes": [],
      "_model_module": "@jupyter-widgets/controls",
      "_model_module_version": "1.5.0",
      "_model_name": "HTMLModel",
      "_view_count": null,
      "_view_module": "@jupyter-widgets/controls",
      "_view_module_version": "1.5.0",
      "_view_name": "HTMLView",
      "description": "",
      "description_tooltip": null,
      "layout": "IPY_MODEL_66eedd99458f4454b05e3c99bd4c9ce0",
      "placeholder": "​",
      "style": "IPY_MODEL_5dda6ce4b1c24b108aa8688b19483208",
      "value": " 1.36M/1.36M [00:00&lt;00:00, 36.7MB/s]"
     }
    },
    "8d5248be0d4c4694b01729335d8e1fb0": {
     "model_module": "@jupyter-widgets/controls",
     "model_module_version": "1.5.0",
     "model_name": "DescriptionStyleModel",
     "state": {
      "_model_module": "@jupyter-widgets/controls",
      "_model_module_version": "1.5.0",
      "_model_name": "DescriptionStyleModel",
      "_view_count": null,
      "_view_module": "@jupyter-widgets/base",
      "_view_module_version": "1.2.0",
      "_view_name": "StyleView",
      "description_width": ""
     }
    },
    "8e2d2bf3351f4296af5f5ea7e80d2723": {
     "model_module": "@jupyter-widgets/controls",
     "model_module_version": "1.5.0",
     "model_name": "LabelModel",
     "state": {
      "_dom_classes": [],
      "_model_module": "@jupyter-widgets/controls",
      "_model_module_version": "1.5.0",
      "_model_name": "LabelModel",
      "_view_count": null,
      "_view_module": "@jupyter-widgets/controls",
      "_view_module_version": "1.5.0",
      "_view_name": "LabelView",
      "description": "",
      "description_tooltip": null,
      "layout": "IPY_MODEL_fcfb1476be3c4ba58f0dab213810edfa",
      "placeholder": "​",
      "style": "IPY_MODEL_999692bbafa54a7db9c1d7b2299f9471",
      "value": "0.032 MB of 0.032 MB uploaded\r"
     }
    },
    "8ea20ba555de4692ad772346793028a1": {
     "model_module": "@jupyter-widgets/base",
     "model_module_version": "1.2.0",
     "model_name": "LayoutModel",
     "state": {
      "_model_module": "@jupyter-widgets/base",
      "_model_module_version": "1.2.0",
      "_model_name": "LayoutModel",
      "_view_count": null,
      "_view_module": "@jupyter-widgets/base",
      "_view_module_version": "1.2.0",
      "_view_name": "LayoutView",
      "align_content": null,
      "align_items": null,
      "align_self": null,
      "border": null,
      "bottom": null,
      "display": null,
      "flex": null,
      "flex_flow": null,
      "grid_area": null,
      "grid_auto_columns": null,
      "grid_auto_flow": null,
      "grid_auto_rows": null,
      "grid_column": null,
      "grid_gap": null,
      "grid_row": null,
      "grid_template_areas": null,
      "grid_template_columns": null,
      "grid_template_rows": null,
      "height": null,
      "justify_content": null,
      "justify_items": null,
      "left": null,
      "margin": null,
      "max_height": null,
      "max_width": null,
      "min_height": null,
      "min_width": null,
      "object_fit": null,
      "object_position": null,
      "order": null,
      "overflow": null,
      "overflow_x": null,
      "overflow_y": null,
      "padding": null,
      "right": null,
      "top": null,
      "visibility": null,
      "width": null
     }
    },
    "8f1313fbe256495f8860f544c0b20181": {
     "model_module": "@jupyter-widgets/base",
     "model_module_version": "1.2.0",
     "model_name": "LayoutModel",
     "state": {
      "_model_module": "@jupyter-widgets/base",
      "_model_module_version": "1.2.0",
      "_model_name": "LayoutModel",
      "_view_count": null,
      "_view_module": "@jupyter-widgets/base",
      "_view_module_version": "1.2.0",
      "_view_name": "LayoutView",
      "align_content": null,
      "align_items": null,
      "align_self": null,
      "border": null,
      "bottom": null,
      "display": null,
      "flex": null,
      "flex_flow": null,
      "grid_area": null,
      "grid_auto_columns": null,
      "grid_auto_flow": null,
      "grid_auto_rows": null,
      "grid_column": null,
      "grid_gap": null,
      "grid_row": null,
      "grid_template_areas": null,
      "grid_template_columns": null,
      "grid_template_rows": null,
      "height": null,
      "justify_content": null,
      "justify_items": null,
      "left": null,
      "margin": null,
      "max_height": null,
      "max_width": null,
      "min_height": null,
      "min_width": null,
      "object_fit": null,
      "object_position": null,
      "order": null,
      "overflow": null,
      "overflow_x": null,
      "overflow_y": null,
      "padding": null,
      "right": null,
      "top": null,
      "visibility": null,
      "width": null
     }
    },
    "8ff9829fe8bc48afa834b17624b48389": {
     "model_module": "@jupyter-widgets/controls",
     "model_module_version": "1.5.0",
     "model_name": "VBoxModel",
     "state": {
      "_dom_classes": [],
      "_model_module": "@jupyter-widgets/controls",
      "_model_module_version": "1.5.0",
      "_model_name": "VBoxModel",
      "_view_count": null,
      "_view_module": "@jupyter-widgets/controls",
      "_view_module_version": "1.5.0",
      "_view_name": "VBoxView",
      "box_style": "",
      "children": [
       "IPY_MODEL_23024be6e459421ebbe611b403a9f77a",
       "IPY_MODEL_35e8fce86aaf4af6ae664c2439182881"
      ],
      "layout": "IPY_MODEL_5009ad2382624a0d8207b59231a72bfa"
     }
    },
    "90362b04f18144e5af260162fd6b692d": {
     "model_module": "@jupyter-widgets/controls",
     "model_module_version": "1.5.0",
     "model_name": "HTMLModel",
     "state": {
      "_dom_classes": [],
      "_model_module": "@jupyter-widgets/controls",
      "_model_module_version": "1.5.0",
      "_model_name": "HTMLModel",
      "_view_count": null,
      "_view_module": "@jupyter-widgets/controls",
      "_view_module_version": "1.5.0",
      "_view_name": "HTMLView",
      "description": "",
      "description_tooltip": null,
      "layout": "IPY_MODEL_dedee1104db34f12acd27a1d6ffb5e26",
      "placeholder": "​",
      "style": "IPY_MODEL_fbe3cb361db645218e1d22602476ebe8",
      "value": " 481/481 [00:00&lt;00:00, 54.6kB/s]"
     }
    },
    "9049c20f2937454fa28c5ad14dcccf0a": {
     "model_module": "@jupyter-widgets/controls",
     "model_module_version": "1.5.0",
     "model_name": "DescriptionStyleModel",
     "state": {
      "_model_module": "@jupyter-widgets/controls",
      "_model_module_version": "1.5.0",
      "_model_name": "DescriptionStyleModel",
      "_view_count": null,
      "_view_module": "@jupyter-widgets/base",
      "_view_module_version": "1.2.0",
      "_view_name": "StyleView",
      "description_width": ""
     }
    },
    "938529569b4942c69b391db0feadb9b2": {
     "model_module": "@jupyter-widgets/controls",
     "model_module_version": "1.5.0",
     "model_name": "HTMLModel",
     "state": {
      "_dom_classes": [],
      "_model_module": "@jupyter-widgets/controls",
      "_model_module_version": "1.5.0",
      "_model_name": "HTMLModel",
      "_view_count": null,
      "_view_module": "@jupyter-widgets/controls",
      "_view_module_version": "1.5.0",
      "_view_name": "HTMLView",
      "description": "",
      "description_tooltip": null,
      "layout": "IPY_MODEL_2600af6f105b4aa3afde73e8d493163e",
      "placeholder": "​",
      "style": "IPY_MODEL_4d680b4f1f384091b533a2db9672137f",
      "value": "Map: 100%"
     }
    },
    "9444367dad52492da9a89ec7f4a09eea": {
     "model_module": "@jupyter-widgets/controls",
     "model_module_version": "1.5.0",
     "model_name": "HTMLModel",
     "state": {
      "_dom_classes": [],
      "_model_module": "@jupyter-widgets/controls",
      "_model_module_version": "1.5.0",
      "_model_name": "HTMLModel",
      "_view_count": null,
      "_view_module": "@jupyter-widgets/controls",
      "_view_module_version": "1.5.0",
      "_view_name": "HTMLView",
      "description": "",
      "description_tooltip": null,
      "layout": "IPY_MODEL_a92aae908e914afb815d0a3dcc6e61ca",
      "placeholder": "​",
      "style": "IPY_MODEL_3081002d6a3c48c38fb5f29a4f9ccb1c",
      "value": " 4116/4116 [00:00&lt;00:00, 19343.51 examples/s]"
     }
    },
    "9447f6d36217402fb5a346f0abee9561": {
     "model_module": "@jupyter-widgets/controls",
     "model_module_version": "1.5.0",
     "model_name": "VBoxModel",
     "state": {
      "_dom_classes": [],
      "_model_module": "@jupyter-widgets/controls",
      "_model_module_version": "1.5.0",
      "_model_name": "VBoxModel",
      "_view_count": null,
      "_view_module": "@jupyter-widgets/controls",
      "_view_module_version": "1.5.0",
      "_view_name": "VBoxView",
      "box_style": "",
      "children": [
       "IPY_MODEL_c85df5e0f4544f57ab74f4355149615f",
       "IPY_MODEL_37f611ead0c547caaab2412146b3e3a9"
      ],
      "layout": "IPY_MODEL_d4a613e3aed04485b51d5a53739c7ff0"
     }
    },
    "9682aadc1b1140118bee0d77291fdff1": {
     "model_module": "@jupyter-widgets/controls",
     "model_module_version": "1.5.0",
     "model_name": "ProgressStyleModel",
     "state": {
      "_model_module": "@jupyter-widgets/controls",
      "_model_module_version": "1.5.0",
      "_model_name": "ProgressStyleModel",
      "_view_count": null,
      "_view_module": "@jupyter-widgets/base",
      "_view_module_version": "1.2.0",
      "_view_name": "StyleView",
      "bar_color": null,
      "description_width": ""
     }
    },
    "968fa860afb04fd69290c34075e827e1": {
     "model_module": "@jupyter-widgets/base",
     "model_module_version": "1.2.0",
     "model_name": "LayoutModel",
     "state": {
      "_model_module": "@jupyter-widgets/base",
      "_model_module_version": "1.2.0",
      "_model_name": "LayoutModel",
      "_view_count": null,
      "_view_module": "@jupyter-widgets/base",
      "_view_module_version": "1.2.0",
      "_view_name": "LayoutView",
      "align_content": null,
      "align_items": null,
      "align_self": null,
      "border": null,
      "bottom": null,
      "display": null,
      "flex": null,
      "flex_flow": null,
      "grid_area": null,
      "grid_auto_columns": null,
      "grid_auto_flow": null,
      "grid_auto_rows": null,
      "grid_column": null,
      "grid_gap": null,
      "grid_row": null,
      "grid_template_areas": null,
      "grid_template_columns": null,
      "grid_template_rows": null,
      "height": null,
      "justify_content": null,
      "justify_items": null,
      "left": null,
      "margin": null,
      "max_height": null,
      "max_width": null,
      "min_height": null,
      "min_width": null,
      "object_fit": null,
      "object_position": null,
      "order": null,
      "overflow": null,
      "overflow_x": null,
      "overflow_y": null,
      "padding": null,
      "right": null,
      "top": null,
      "visibility": null,
      "width": null
     }
    },
    "96d99516dcb74492ae73cdad662d171e": {
     "model_module": "@jupyter-widgets/base",
     "model_module_version": "1.2.0",
     "model_name": "LayoutModel",
     "state": {
      "_model_module": "@jupyter-widgets/base",
      "_model_module_version": "1.2.0",
      "_model_name": "LayoutModel",
      "_view_count": null,
      "_view_module": "@jupyter-widgets/base",
      "_view_module_version": "1.2.0",
      "_view_name": "LayoutView",
      "align_content": null,
      "align_items": null,
      "align_self": null,
      "border": null,
      "bottom": null,
      "display": null,
      "flex": null,
      "flex_flow": null,
      "grid_area": null,
      "grid_auto_columns": null,
      "grid_auto_flow": null,
      "grid_auto_rows": null,
      "grid_column": null,
      "grid_gap": null,
      "grid_row": null,
      "grid_template_areas": null,
      "grid_template_columns": null,
      "grid_template_rows": null,
      "height": null,
      "justify_content": null,
      "justify_items": null,
      "left": null,
      "margin": null,
      "max_height": null,
      "max_width": null,
      "min_height": null,
      "min_width": null,
      "object_fit": null,
      "object_position": null,
      "order": null,
      "overflow": null,
      "overflow_x": null,
      "overflow_y": null,
      "padding": null,
      "right": null,
      "top": null,
      "visibility": null,
      "width": null
     }
    },
    "970c5f084e2f4f1fb8697e519e499c16": {
     "model_module": "@jupyter-widgets/base",
     "model_module_version": "1.2.0",
     "model_name": "LayoutModel",
     "state": {
      "_model_module": "@jupyter-widgets/base",
      "_model_module_version": "1.2.0",
      "_model_name": "LayoutModel",
      "_view_count": null,
      "_view_module": "@jupyter-widgets/base",
      "_view_module_version": "1.2.0",
      "_view_name": "LayoutView",
      "align_content": null,
      "align_items": null,
      "align_self": null,
      "border": null,
      "bottom": null,
      "display": null,
      "flex": null,
      "flex_flow": null,
      "grid_area": null,
      "grid_auto_columns": null,
      "grid_auto_flow": null,
      "grid_auto_rows": null,
      "grid_column": null,
      "grid_gap": null,
      "grid_row": null,
      "grid_template_areas": null,
      "grid_template_columns": null,
      "grid_template_rows": null,
      "height": null,
      "justify_content": null,
      "justify_items": null,
      "left": null,
      "margin": null,
      "max_height": null,
      "max_width": null,
      "min_height": null,
      "min_width": null,
      "object_fit": null,
      "object_position": null,
      "order": null,
      "overflow": null,
      "overflow_x": null,
      "overflow_y": null,
      "padding": null,
      "right": null,
      "top": null,
      "visibility": null,
      "width": null
     }
    },
    "974748405b434e16bb1a347ef6a48f14": {
     "model_module": "@jupyter-widgets/controls",
     "model_module_version": "1.5.0",
     "model_name": "FloatProgressModel",
     "state": {
      "_dom_classes": [],
      "_model_module": "@jupyter-widgets/controls",
      "_model_module_version": "1.5.0",
      "_model_name": "FloatProgressModel",
      "_view_count": null,
      "_view_module": "@jupyter-widgets/controls",
      "_view_module_version": "1.5.0",
      "_view_name": "ProgressView",
      "bar_style": "",
      "description": "",
      "description_tooltip": null,
      "layout": "IPY_MODEL_1f301970f8e546a5ad615e8441758ec9",
      "max": 1,
      "min": 0,
      "orientation": "horizontal",
      "style": "IPY_MODEL_07b9f7b39e1e434dab6df46c6c084aed",
      "value": 1
     }
    },
    "977c4c344ff74f42a3835c262f23b973": {
     "model_module": "@jupyter-widgets/controls",
     "model_module_version": "1.5.0",
     "model_name": "VBoxModel",
     "state": {
      "_dom_classes": [],
      "_model_module": "@jupyter-widgets/controls",
      "_model_module_version": "1.5.0",
      "_model_name": "VBoxModel",
      "_view_count": null,
      "_view_module": "@jupyter-widgets/controls",
      "_view_module_version": "1.5.0",
      "_view_name": "VBoxView",
      "box_style": "",
      "children": [
       "IPY_MODEL_d60eea9a79f04c8180dd24e9cd59af20",
       "IPY_MODEL_7cdf41a2ef554dc5a287e0f031260099"
      ],
      "layout": "IPY_MODEL_1f31048ebbd2423f9220e6cdbb06d421"
     }
    },
    "97f842ca2da2431a85b2ec08229b4e33": {
     "model_module": "@jupyter-widgets/controls",
     "model_module_version": "1.5.0",
     "model_name": "HBoxModel",
     "state": {
      "_dom_classes": [],
      "_model_module": "@jupyter-widgets/controls",
      "_model_module_version": "1.5.0",
      "_model_name": "HBoxModel",
      "_view_count": null,
      "_view_module": "@jupyter-widgets/controls",
      "_view_module_version": "1.5.0",
      "_view_name": "HBoxView",
      "box_style": "",
      "children": [
       "IPY_MODEL_14652adb9d374d4fbfe25e5936da7a15",
       "IPY_MODEL_52f3f3af9caa4ea2a56b6108fca862d0",
       "IPY_MODEL_9444367dad52492da9a89ec7f4a09eea"
      ],
      "layout": "IPY_MODEL_160c5713526a416ca4749847407b5492"
     }
    },
    "98d4c1c47bc24e319fcf012b6b05cee8": {
     "model_module": "@jupyter-widgets/controls",
     "model_module_version": "1.5.0",
     "model_name": "DescriptionStyleModel",
     "state": {
      "_model_module": "@jupyter-widgets/controls",
      "_model_module_version": "1.5.0",
      "_model_name": "DescriptionStyleModel",
      "_view_count": null,
      "_view_module": "@jupyter-widgets/base",
      "_view_module_version": "1.2.0",
      "_view_name": "StyleView",
      "description_width": ""
     }
    },
    "999692bbafa54a7db9c1d7b2299f9471": {
     "model_module": "@jupyter-widgets/controls",
     "model_module_version": "1.5.0",
     "model_name": "DescriptionStyleModel",
     "state": {
      "_model_module": "@jupyter-widgets/controls",
      "_model_module_version": "1.5.0",
      "_model_name": "DescriptionStyleModel",
      "_view_count": null,
      "_view_module": "@jupyter-widgets/base",
      "_view_module_version": "1.2.0",
      "_view_name": "StyleView",
      "description_width": ""
     }
    },
    "9a400a00aabc4f0692a0667dfc7a4f11": {
     "model_module": "@jupyter-widgets/controls",
     "model_module_version": "1.5.0",
     "model_name": "ProgressStyleModel",
     "state": {
      "_model_module": "@jupyter-widgets/controls",
      "_model_module_version": "1.5.0",
      "_model_name": "ProgressStyleModel",
      "_view_count": null,
      "_view_module": "@jupyter-widgets/base",
      "_view_module_version": "1.2.0",
      "_view_name": "StyleView",
      "bar_color": null,
      "description_width": ""
     }
    },
    "9c149e26473446ed9c2e81df609a6375": {
     "model_module": "@jupyter-widgets/controls",
     "model_module_version": "1.5.0",
     "model_name": "LabelModel",
     "state": {
      "_dom_classes": [],
      "_model_module": "@jupyter-widgets/controls",
      "_model_module_version": "1.5.0",
      "_model_name": "LabelModel",
      "_view_count": null,
      "_view_module": "@jupyter-widgets/controls",
      "_view_module_version": "1.5.0",
      "_view_name": "LabelView",
      "description": "",
      "description_tooltip": null,
      "layout": "IPY_MODEL_4ae446d38769413cbba803fdaf3e45fe",
      "placeholder": "​",
      "style": "IPY_MODEL_ab5c83bdc8d34414a7c6e9ff6d93f22a",
      "value": "0.032 MB of 0.032 MB uploaded\r"
     }
    },
    "9cad7913a5c1469fa0355ed179a50ade": {
     "model_module": "@jupyter-widgets/controls",
     "model_module_version": "1.5.0",
     "model_name": "HTMLModel",
     "state": {
      "_dom_classes": [],
      "_model_module": "@jupyter-widgets/controls",
      "_model_module_version": "1.5.0",
      "_model_name": "HTMLModel",
      "_view_count": null,
      "_view_module": "@jupyter-widgets/controls",
      "_view_module_version": "1.5.0",
      "_view_name": "HTMLView",
      "description": "",
      "description_tooltip": null,
      "layout": "IPY_MODEL_7ec6b06916a74a7983343216da3036a2",
      "placeholder": "​",
      "style": "IPY_MODEL_ae34d9e4fba741549e3321c31534896b",
      "value": " 37039/37039 [00:17&lt;00:00, 2248.27 examples/s]"
     }
    },
    "9e0a37b4c3ff419c81c161a7df93e267": {
     "model_module": "@jupyter-widgets/controls",
     "model_module_version": "1.5.0",
     "model_name": "ProgressStyleModel",
     "state": {
      "_model_module": "@jupyter-widgets/controls",
      "_model_module_version": "1.5.0",
      "_model_name": "ProgressStyleModel",
      "_view_count": null,
      "_view_module": "@jupyter-widgets/base",
      "_view_module_version": "1.2.0",
      "_view_name": "StyleView",
      "bar_color": null,
      "description_width": ""
     }
    },
    "9e9c3068c227431d9c445c6e7fb9726e": {
     "model_module": "@jupyter-widgets/controls",
     "model_module_version": "1.5.0",
     "model_name": "DescriptionStyleModel",
     "state": {
      "_model_module": "@jupyter-widgets/controls",
      "_model_module_version": "1.5.0",
      "_model_name": "DescriptionStyleModel",
      "_view_count": null,
      "_view_module": "@jupyter-widgets/base",
      "_view_module_version": "1.2.0",
      "_view_name": "StyleView",
      "description_width": ""
     }
    },
    "9ee8c18585e143f885d6ad3c780c881f": {
     "model_module": "@jupyter-widgets/base",
     "model_module_version": "1.2.0",
     "model_name": "LayoutModel",
     "state": {
      "_model_module": "@jupyter-widgets/base",
      "_model_module_version": "1.2.0",
      "_model_name": "LayoutModel",
      "_view_count": null,
      "_view_module": "@jupyter-widgets/base",
      "_view_module_version": "1.2.0",
      "_view_name": "LayoutView",
      "align_content": null,
      "align_items": null,
      "align_self": null,
      "border": null,
      "bottom": null,
      "display": null,
      "flex": null,
      "flex_flow": null,
      "grid_area": null,
      "grid_auto_columns": null,
      "grid_auto_flow": null,
      "grid_auto_rows": null,
      "grid_column": null,
      "grid_gap": null,
      "grid_row": null,
      "grid_template_areas": null,
      "grid_template_columns": null,
      "grid_template_rows": null,
      "height": null,
      "justify_content": null,
      "justify_items": null,
      "left": null,
      "margin": null,
      "max_height": null,
      "max_width": null,
      "min_height": null,
      "min_width": null,
      "object_fit": null,
      "object_position": null,
      "order": null,
      "overflow": null,
      "overflow_x": null,
      "overflow_y": null,
      "padding": null,
      "right": null,
      "top": null,
      "visibility": null,
      "width": null
     }
    },
    "9ef35f0504ca4d9581d490de9e9b32fd": {
     "model_module": "@jupyter-widgets/controls",
     "model_module_version": "1.5.0",
     "model_name": "DescriptionStyleModel",
     "state": {
      "_model_module": "@jupyter-widgets/controls",
      "_model_module_version": "1.5.0",
      "_model_name": "DescriptionStyleModel",
      "_view_count": null,
      "_view_module": "@jupyter-widgets/base",
      "_view_module_version": "1.2.0",
      "_view_name": "StyleView",
      "description_width": ""
     }
    },
    "a045cacae20a4faaac30e80de96bfb6f": {
     "model_module": "@jupyter-widgets/controls",
     "model_module_version": "1.5.0",
     "model_name": "DescriptionStyleModel",
     "state": {
      "_model_module": "@jupyter-widgets/controls",
      "_model_module_version": "1.5.0",
      "_model_name": "DescriptionStyleModel",
      "_view_count": null,
      "_view_module": "@jupyter-widgets/base",
      "_view_module_version": "1.2.0",
      "_view_name": "StyleView",
      "description_width": ""
     }
    },
    "a05f3b5d898b4b73bdd9f6618d7ba292": {
     "model_module": "@jupyter-widgets/base",
     "model_module_version": "1.2.0",
     "model_name": "LayoutModel",
     "state": {
      "_model_module": "@jupyter-widgets/base",
      "_model_module_version": "1.2.0",
      "_model_name": "LayoutModel",
      "_view_count": null,
      "_view_module": "@jupyter-widgets/base",
      "_view_module_version": "1.2.0",
      "_view_name": "LayoutView",
      "align_content": null,
      "align_items": null,
      "align_self": null,
      "border": null,
      "bottom": null,
      "display": null,
      "flex": null,
      "flex_flow": null,
      "grid_area": null,
      "grid_auto_columns": null,
      "grid_auto_flow": null,
      "grid_auto_rows": null,
      "grid_column": null,
      "grid_gap": null,
      "grid_row": null,
      "grid_template_areas": null,
      "grid_template_columns": null,
      "grid_template_rows": null,
      "height": null,
      "justify_content": null,
      "justify_items": null,
      "left": null,
      "margin": null,
      "max_height": null,
      "max_width": null,
      "min_height": null,
      "min_width": null,
      "object_fit": null,
      "object_position": null,
      "order": null,
      "overflow": null,
      "overflow_x": null,
      "overflow_y": null,
      "padding": null,
      "right": null,
      "top": null,
      "visibility": null,
      "width": null
     }
    },
    "a0be4ea118f54913b6339aa51f88d365": {
     "model_module": "@jupyter-widgets/base",
     "model_module_version": "1.2.0",
     "model_name": "LayoutModel",
     "state": {
      "_model_module": "@jupyter-widgets/base",
      "_model_module_version": "1.2.0",
      "_model_name": "LayoutModel",
      "_view_count": null,
      "_view_module": "@jupyter-widgets/base",
      "_view_module_version": "1.2.0",
      "_view_name": "LayoutView",
      "align_content": null,
      "align_items": null,
      "align_self": null,
      "border": null,
      "bottom": null,
      "display": null,
      "flex": null,
      "flex_flow": null,
      "grid_area": null,
      "grid_auto_columns": null,
      "grid_auto_flow": null,
      "grid_auto_rows": null,
      "grid_column": null,
      "grid_gap": null,
      "grid_row": null,
      "grid_template_areas": null,
      "grid_template_columns": null,
      "grid_template_rows": null,
      "height": null,
      "justify_content": null,
      "justify_items": null,
      "left": null,
      "margin": null,
      "max_height": null,
      "max_width": null,
      "min_height": null,
      "min_width": null,
      "object_fit": null,
      "object_position": null,
      "order": null,
      "overflow": null,
      "overflow_x": null,
      "overflow_y": null,
      "padding": null,
      "right": null,
      "top": null,
      "visibility": null,
      "width": null
     }
    },
    "a18c7741ba684be0887ac9064d004205": {
     "model_module": "@jupyter-widgets/controls",
     "model_module_version": "1.5.0",
     "model_name": "ProgressStyleModel",
     "state": {
      "_model_module": "@jupyter-widgets/controls",
      "_model_module_version": "1.5.0",
      "_model_name": "ProgressStyleModel",
      "_view_count": null,
      "_view_module": "@jupyter-widgets/base",
      "_view_module_version": "1.2.0",
      "_view_name": "StyleView",
      "bar_color": null,
      "description_width": ""
     }
    },
    "a29513d99be144efbd6f67df2be9385c": {
     "model_module": "@jupyter-widgets/controls",
     "model_module_version": "1.5.0",
     "model_name": "HTMLModel",
     "state": {
      "_dom_classes": [],
      "_model_module": "@jupyter-widgets/controls",
      "_model_module_version": "1.5.0",
      "_model_name": "HTMLModel",
      "_view_count": null,
      "_view_module": "@jupyter-widgets/controls",
      "_view_module_version": "1.5.0",
      "_view_name": "HTMLView",
      "description": "",
      "description_tooltip": null,
      "layout": "IPY_MODEL_7ab7db0d8b4243909206dd5e21475585",
      "placeholder": "​",
      "style": "IPY_MODEL_2ad250e270a147aebae37ef40d474a44",
      "value": " 25.0/25.0 [00:00&lt;00:00, 2.55kB/s]"
     }
    },
    "a2da5d7b8ee341e5badde6bdddb2d729": {
     "model_module": "@jupyter-widgets/controls",
     "model_module_version": "1.5.0",
     "model_name": "FloatProgressModel",
     "state": {
      "_dom_classes": [],
      "_model_module": "@jupyter-widgets/controls",
      "_model_module_version": "1.5.0",
      "_model_name": "FloatProgressModel",
      "_view_count": null,
      "_view_module": "@jupyter-widgets/controls",
      "_view_module_version": "1.5.0",
      "_view_name": "ProgressView",
      "bar_style": "success",
      "description": "",
      "description_tooltip": null,
      "layout": "IPY_MODEL_14185a334e93428a9942371779e624df",
      "max": 481,
      "min": 0,
      "orientation": "horizontal",
      "style": "IPY_MODEL_039ca62f5bda4956b81f6d563aed799b",
      "value": 481
     }
    },
    "a55584bd7e3a458987b4ef92826b86f0": {
     "model_module": "@jupyter-widgets/controls",
     "model_module_version": "1.5.0",
     "model_name": "DescriptionStyleModel",
     "state": {
      "_model_module": "@jupyter-widgets/controls",
      "_model_module_version": "1.5.0",
      "_model_name": "DescriptionStyleModel",
      "_view_count": null,
      "_view_module": "@jupyter-widgets/base",
      "_view_module_version": "1.2.0",
      "_view_name": "StyleView",
      "description_width": ""
     }
    },
    "a576d7fa1fb54b42960757683420639d": {
     "model_module": "@jupyter-widgets/controls",
     "model_module_version": "1.5.0",
     "model_name": "HBoxModel",
     "state": {
      "_dom_classes": [],
      "_model_module": "@jupyter-widgets/controls",
      "_model_module_version": "1.5.0",
      "_model_name": "HBoxModel",
      "_view_count": null,
      "_view_module": "@jupyter-widgets/controls",
      "_view_module_version": "1.5.0",
      "_view_name": "HBoxView",
      "box_style": "",
      "children": [
       "IPY_MODEL_e22e9c2f11804141ada4e8d8d6a69dbc",
       "IPY_MODEL_a84b606ca980434a8cb97a81f1a6fa2c",
       "IPY_MODEL_62432c5f6c7943f5a4628c326e85bcde"
      ],
      "layout": "IPY_MODEL_7cc9731214934dceb6170a7fb7f2f001"
     }
    },
    "a5db8e3e3eee49b5a5da233a90883da1": {
     "model_module": "@jupyter-widgets/base",
     "model_module_version": "1.2.0",
     "model_name": "LayoutModel",
     "state": {
      "_model_module": "@jupyter-widgets/base",
      "_model_module_version": "1.2.0",
      "_model_name": "LayoutModel",
      "_view_count": null,
      "_view_module": "@jupyter-widgets/base",
      "_view_module_version": "1.2.0",
      "_view_name": "LayoutView",
      "align_content": null,
      "align_items": null,
      "align_self": null,
      "border": null,
      "bottom": null,
      "display": null,
      "flex": null,
      "flex_flow": null,
      "grid_area": null,
      "grid_auto_columns": null,
      "grid_auto_flow": null,
      "grid_auto_rows": null,
      "grid_column": null,
      "grid_gap": null,
      "grid_row": null,
      "grid_template_areas": null,
      "grid_template_columns": null,
      "grid_template_rows": null,
      "height": null,
      "justify_content": null,
      "justify_items": null,
      "left": null,
      "margin": null,
      "max_height": null,
      "max_width": null,
      "min_height": null,
      "min_width": null,
      "object_fit": null,
      "object_position": null,
      "order": null,
      "overflow": null,
      "overflow_x": null,
      "overflow_y": null,
      "padding": null,
      "right": null,
      "top": null,
      "visibility": null,
      "width": null
     }
    },
    "a84b606ca980434a8cb97a81f1a6fa2c": {
     "model_module": "@jupyter-widgets/controls",
     "model_module_version": "1.5.0",
     "model_name": "FloatProgressModel",
     "state": {
      "_dom_classes": [],
      "_model_module": "@jupyter-widgets/controls",
      "_model_module_version": "1.5.0",
      "_model_name": "FloatProgressModel",
      "_view_count": null,
      "_view_module": "@jupyter-widgets/controls",
      "_view_module_version": "1.5.0",
      "_view_name": "ProgressView",
      "bar_style": "success",
      "description": "",
      "description_tooltip": null,
      "layout": "IPY_MODEL_3f015cf4db714bb2b268bd7fe8714273",
      "max": 498818054,
      "min": 0,
      "orientation": "horizontal",
      "style": "IPY_MODEL_a18c7741ba684be0887ac9064d004205",
      "value": 498818054
     }
    },
    "a8bff4d7a7524458855640ce5e203a62": {
     "model_module": "@jupyter-widgets/base",
     "model_module_version": "1.2.0",
     "model_name": "LayoutModel",
     "state": {
      "_model_module": "@jupyter-widgets/base",
      "_model_module_version": "1.2.0",
      "_model_name": "LayoutModel",
      "_view_count": null,
      "_view_module": "@jupyter-widgets/base",
      "_view_module_version": "1.2.0",
      "_view_name": "LayoutView",
      "align_content": null,
      "align_items": null,
      "align_self": null,
      "border": null,
      "bottom": null,
      "display": null,
      "flex": null,
      "flex_flow": null,
      "grid_area": null,
      "grid_auto_columns": null,
      "grid_auto_flow": null,
      "grid_auto_rows": null,
      "grid_column": null,
      "grid_gap": null,
      "grid_row": null,
      "grid_template_areas": null,
      "grid_template_columns": null,
      "grid_template_rows": null,
      "height": null,
      "justify_content": null,
      "justify_items": null,
      "left": null,
      "margin": null,
      "max_height": null,
      "max_width": null,
      "min_height": null,
      "min_width": null,
      "object_fit": null,
      "object_position": null,
      "order": null,
      "overflow": null,
      "overflow_x": null,
      "overflow_y": null,
      "padding": null,
      "right": null,
      "top": null,
      "visibility": null,
      "width": null
     }
    },
    "a92aae908e914afb815d0a3dcc6e61ca": {
     "model_module": "@jupyter-widgets/base",
     "model_module_version": "1.2.0",
     "model_name": "LayoutModel",
     "state": {
      "_model_module": "@jupyter-widgets/base",
      "_model_module_version": "1.2.0",
      "_model_name": "LayoutModel",
      "_view_count": null,
      "_view_module": "@jupyter-widgets/base",
      "_view_module_version": "1.2.0",
      "_view_name": "LayoutView",
      "align_content": null,
      "align_items": null,
      "align_self": null,
      "border": null,
      "bottom": null,
      "display": null,
      "flex": null,
      "flex_flow": null,
      "grid_area": null,
      "grid_auto_columns": null,
      "grid_auto_flow": null,
      "grid_auto_rows": null,
      "grid_column": null,
      "grid_gap": null,
      "grid_row": null,
      "grid_template_areas": null,
      "grid_template_columns": null,
      "grid_template_rows": null,
      "height": null,
      "justify_content": null,
      "justify_items": null,
      "left": null,
      "margin": null,
      "max_height": null,
      "max_width": null,
      "min_height": null,
      "min_width": null,
      "object_fit": null,
      "object_position": null,
      "order": null,
      "overflow": null,
      "overflow_x": null,
      "overflow_y": null,
      "padding": null,
      "right": null,
      "top": null,
      "visibility": null,
      "width": null
     }
    },
    "a9b177d1001e4b0da9c9fb4d4607a013": {
     "model_module": "@jupyter-widgets/base",
     "model_module_version": "1.2.0",
     "model_name": "LayoutModel",
     "state": {
      "_model_module": "@jupyter-widgets/base",
      "_model_module_version": "1.2.0",
      "_model_name": "LayoutModel",
      "_view_count": null,
      "_view_module": "@jupyter-widgets/base",
      "_view_module_version": "1.2.0",
      "_view_name": "LayoutView",
      "align_content": null,
      "align_items": null,
      "align_self": null,
      "border": null,
      "bottom": null,
      "display": null,
      "flex": null,
      "flex_flow": null,
      "grid_area": null,
      "grid_auto_columns": null,
      "grid_auto_flow": null,
      "grid_auto_rows": null,
      "grid_column": null,
      "grid_gap": null,
      "grid_row": null,
      "grid_template_areas": null,
      "grid_template_columns": null,
      "grid_template_rows": null,
      "height": null,
      "justify_content": null,
      "justify_items": null,
      "left": null,
      "margin": null,
      "max_height": null,
      "max_width": null,
      "min_height": null,
      "min_width": null,
      "object_fit": null,
      "object_position": null,
      "order": null,
      "overflow": null,
      "overflow_x": null,
      "overflow_y": null,
      "padding": null,
      "right": null,
      "top": null,
      "visibility": null,
      "width": null
     }
    },
    "a9ffebbcc53f4afd85d894eee4297d73": {
     "model_module": "@jupyter-widgets/controls",
     "model_module_version": "1.5.0",
     "model_name": "HTMLModel",
     "state": {
      "_dom_classes": [],
      "_model_module": "@jupyter-widgets/controls",
      "_model_module_version": "1.5.0",
      "_model_name": "HTMLModel",
      "_view_count": null,
      "_view_module": "@jupyter-widgets/controls",
      "_view_module_version": "1.5.0",
      "_view_name": "HTMLView",
      "description": "",
      "description_tooltip": null,
      "layout": "IPY_MODEL_592d71d1a3b44f03821e9669b077dd25",
      "placeholder": "​",
      "style": "IPY_MODEL_677c2e6543224245890a642f6fd487c0",
      "value": " 37039/37039 [00:01&lt;00:00, 20418.80 examples/s]"
     }
    },
    "ab5c83bdc8d34414a7c6e9ff6d93f22a": {
     "model_module": "@jupyter-widgets/controls",
     "model_module_version": "1.5.0",
     "model_name": "DescriptionStyleModel",
     "state": {
      "_model_module": "@jupyter-widgets/controls",
      "_model_module_version": "1.5.0",
      "_model_name": "DescriptionStyleModel",
      "_view_count": null,
      "_view_module": "@jupyter-widgets/base",
      "_view_module_version": "1.2.0",
      "_view_name": "StyleView",
      "description_width": ""
     }
    },
    "abbac15a6b504a8bb0d7f666512204d4": {
     "model_module": "@jupyter-widgets/controls",
     "model_module_version": "1.5.0",
     "model_name": "ProgressStyleModel",
     "state": {
      "_model_module": "@jupyter-widgets/controls",
      "_model_module_version": "1.5.0",
      "_model_name": "ProgressStyleModel",
      "_view_count": null,
      "_view_module": "@jupyter-widgets/base",
      "_view_module_version": "1.2.0",
      "_view_name": "StyleView",
      "bar_color": null,
      "description_width": ""
     }
    },
    "ae34d9e4fba741549e3321c31534896b": {
     "model_module": "@jupyter-widgets/controls",
     "model_module_version": "1.5.0",
     "model_name": "DescriptionStyleModel",
     "state": {
      "_model_module": "@jupyter-widgets/controls",
      "_model_module_version": "1.5.0",
      "_model_name": "DescriptionStyleModel",
      "_view_count": null,
      "_view_module": "@jupyter-widgets/base",
      "_view_module_version": "1.2.0",
      "_view_name": "StyleView",
      "description_width": ""
     }
    },
    "b3233fd6e1744ce9812095a90adfa6c9": {
     "model_module": "@jupyter-widgets/controls",
     "model_module_version": "1.5.0",
     "model_name": "DescriptionStyleModel",
     "state": {
      "_model_module": "@jupyter-widgets/controls",
      "_model_module_version": "1.5.0",
      "_model_name": "DescriptionStyleModel",
      "_view_count": null,
      "_view_module": "@jupyter-widgets/base",
      "_view_module_version": "1.2.0",
      "_view_name": "StyleView",
      "description_width": ""
     }
    },
    "b3a83d62b60542f3908e46f2e46c1f25": {
     "model_module": "@jupyter-widgets/base",
     "model_module_version": "1.2.0",
     "model_name": "LayoutModel",
     "state": {
      "_model_module": "@jupyter-widgets/base",
      "_model_module_version": "1.2.0",
      "_model_name": "LayoutModel",
      "_view_count": null,
      "_view_module": "@jupyter-widgets/base",
      "_view_module_version": "1.2.0",
      "_view_name": "LayoutView",
      "align_content": null,
      "align_items": null,
      "align_self": null,
      "border": null,
      "bottom": null,
      "display": null,
      "flex": null,
      "flex_flow": null,
      "grid_area": null,
      "grid_auto_columns": null,
      "grid_auto_flow": null,
      "grid_auto_rows": null,
      "grid_column": null,
      "grid_gap": null,
      "grid_row": null,
      "grid_template_areas": null,
      "grid_template_columns": null,
      "grid_template_rows": null,
      "height": null,
      "justify_content": null,
      "justify_items": null,
      "left": null,
      "margin": null,
      "max_height": null,
      "max_width": null,
      "min_height": null,
      "min_width": null,
      "object_fit": null,
      "object_position": null,
      "order": null,
      "overflow": null,
      "overflow_x": null,
      "overflow_y": null,
      "padding": null,
      "right": null,
      "top": null,
      "visibility": null,
      "width": null
     }
    },
    "b470bf4c4e384627b95af052cbc81dc9": {
     "model_module": "@jupyter-widgets/base",
     "model_module_version": "1.2.0",
     "model_name": "LayoutModel",
     "state": {
      "_model_module": "@jupyter-widgets/base",
      "_model_module_version": "1.2.0",
      "_model_name": "LayoutModel",
      "_view_count": null,
      "_view_module": "@jupyter-widgets/base",
      "_view_module_version": "1.2.0",
      "_view_name": "LayoutView",
      "align_content": null,
      "align_items": null,
      "align_self": null,
      "border": null,
      "bottom": null,
      "display": null,
      "flex": null,
      "flex_flow": null,
      "grid_area": null,
      "grid_auto_columns": null,
      "grid_auto_flow": null,
      "grid_auto_rows": null,
      "grid_column": null,
      "grid_gap": null,
      "grid_row": null,
      "grid_template_areas": null,
      "grid_template_columns": null,
      "grid_template_rows": null,
      "height": null,
      "justify_content": null,
      "justify_items": null,
      "left": null,
      "margin": null,
      "max_height": null,
      "max_width": null,
      "min_height": null,
      "min_width": null,
      "object_fit": null,
      "object_position": null,
      "order": null,
      "overflow": null,
      "overflow_x": null,
      "overflow_y": null,
      "padding": null,
      "right": null,
      "top": null,
      "visibility": null,
      "width": null
     }
    },
    "b4a07acd10174b148a323257dcb905ff": {
     "model_module": "@jupyter-widgets/base",
     "model_module_version": "1.2.0",
     "model_name": "LayoutModel",
     "state": {
      "_model_module": "@jupyter-widgets/base",
      "_model_module_version": "1.2.0",
      "_model_name": "LayoutModel",
      "_view_count": null,
      "_view_module": "@jupyter-widgets/base",
      "_view_module_version": "1.2.0",
      "_view_name": "LayoutView",
      "align_content": null,
      "align_items": null,
      "align_self": null,
      "border": null,
      "bottom": null,
      "display": null,
      "flex": null,
      "flex_flow": null,
      "grid_area": null,
      "grid_auto_columns": null,
      "grid_auto_flow": null,
      "grid_auto_rows": null,
      "grid_column": null,
      "grid_gap": null,
      "grid_row": null,
      "grid_template_areas": null,
      "grid_template_columns": null,
      "grid_template_rows": null,
      "height": null,
      "justify_content": null,
      "justify_items": null,
      "left": null,
      "margin": null,
      "max_height": null,
      "max_width": null,
      "min_height": null,
      "min_width": null,
      "object_fit": null,
      "object_position": null,
      "order": null,
      "overflow": null,
      "overflow_x": null,
      "overflow_y": null,
      "padding": null,
      "right": null,
      "top": null,
      "visibility": null,
      "width": null
     }
    },
    "b6d044efae1b4a34b7cda8d7012dd589": {
     "model_module": "@jupyter-widgets/controls",
     "model_module_version": "1.5.0",
     "model_name": "HTMLModel",
     "state": {
      "_dom_classes": [],
      "_model_module": "@jupyter-widgets/controls",
      "_model_module_version": "1.5.0",
      "_model_name": "HTMLModel",
      "_view_count": null,
      "_view_module": "@jupyter-widgets/controls",
      "_view_module_version": "1.5.0",
      "_view_name": "HTMLView",
      "description": "",
      "description_tooltip": null,
      "layout": "IPY_MODEL_5c525a73a655466bb5203e0fba3b6854",
      "placeholder": "​",
      "style": "IPY_MODEL_7a47e275042c42cab7ea5c0f97ca33f6",
      "value": " 456k/456k [00:00&lt;00:00, 35.5MB/s]"
     }
    },
    "b7dfa1cdef1f46e2b52a60f7ac036379": {
     "model_module": "@jupyter-widgets/controls",
     "model_module_version": "1.5.0",
     "model_name": "DescriptionStyleModel",
     "state": {
      "_model_module": "@jupyter-widgets/controls",
      "_model_module_version": "1.5.0",
      "_model_name": "DescriptionStyleModel",
      "_view_count": null,
      "_view_module": "@jupyter-widgets/base",
      "_view_module_version": "1.2.0",
      "_view_name": "StyleView",
      "description_width": ""
     }
    },
    "bb0dfa4dc7c54f0b9166dfd666421020": {
     "model_module": "@jupyter-widgets/controls",
     "model_module_version": "1.5.0",
     "model_name": "HTMLModel",
     "state": {
      "_dom_classes": [],
      "_model_module": "@jupyter-widgets/controls",
      "_model_module_version": "1.5.0",
      "_model_name": "HTMLModel",
      "_view_count": null,
      "_view_module": "@jupyter-widgets/controls",
      "_view_module_version": "1.5.0",
      "_view_name": "HTMLView",
      "description": "",
      "description_tooltip": null,
      "layout": "IPY_MODEL_e98a9231f63c4f15a990b45ec84c5a21",
      "placeholder": "​",
      "style": "IPY_MODEL_6ae920ee922a4542b5639746fb56faab",
      "value": "Best trial: 11. Best value: 0.860096: 100%"
     }
    },
    "bbc828de1120432d804ffe57c61cceb7": {
     "model_module": "@jupyter-widgets/controls",
     "model_module_version": "1.5.0",
     "model_name": "VBoxModel",
     "state": {
      "_dom_classes": [],
      "_model_module": "@jupyter-widgets/controls",
      "_model_module_version": "1.5.0",
      "_model_name": "VBoxModel",
      "_view_count": null,
      "_view_module": "@jupyter-widgets/controls",
      "_view_module_version": "1.5.0",
      "_view_name": "VBoxView",
      "box_style": "",
      "children": [
       "IPY_MODEL_5673d28b06b649f4a7d20e90535f39c7",
       "IPY_MODEL_974748405b434e16bb1a347ef6a48f14"
      ],
      "layout": "IPY_MODEL_8596dac2e024416f9ff5d0647f05495b"
     }
    },
    "bc888f7360e14eb8a35848bbc247813e": {
     "model_module": "@jupyter-widgets/controls",
     "model_module_version": "1.5.0",
     "model_name": "DescriptionStyleModel",
     "state": {
      "_model_module": "@jupyter-widgets/controls",
      "_model_module_version": "1.5.0",
      "_model_name": "DescriptionStyleModel",
      "_view_count": null,
      "_view_module": "@jupyter-widgets/base",
      "_view_module_version": "1.2.0",
      "_view_name": "StyleView",
      "description_width": ""
     }
    },
    "bcb14d8fd9214a5ea39da677ecec8f88": {
     "model_module": "@jupyter-widgets/controls",
     "model_module_version": "1.5.0",
     "model_name": "VBoxModel",
     "state": {
      "_dom_classes": [],
      "_model_module": "@jupyter-widgets/controls",
      "_model_module_version": "1.5.0",
      "_model_name": "VBoxModel",
      "_view_count": null,
      "_view_module": "@jupyter-widgets/controls",
      "_view_module_version": "1.5.0",
      "_view_name": "VBoxView",
      "box_style": "",
      "children": [
       "IPY_MODEL_9c149e26473446ed9c2e81df609a6375",
       "IPY_MODEL_f48a66daefbf42629264ba3592ff5e2d"
      ],
      "layout": "IPY_MODEL_968fa860afb04fd69290c34075e827e1"
     }
    },
    "bda01ea0f5354692a4c0a16b08de3d49": {
     "model_module": "@jupyter-widgets/controls",
     "model_module_version": "1.5.0",
     "model_name": "DescriptionStyleModel",
     "state": {
      "_model_module": "@jupyter-widgets/controls",
      "_model_module_version": "1.5.0",
      "_model_name": "DescriptionStyleModel",
      "_view_count": null,
      "_view_module": "@jupyter-widgets/base",
      "_view_module_version": "1.2.0",
      "_view_name": "StyleView",
      "description_width": ""
     }
    },
    "be8c7529076b4b8593ef3a888879baed": {
     "model_module": "@jupyter-widgets/base",
     "model_module_version": "1.2.0",
     "model_name": "LayoutModel",
     "state": {
      "_model_module": "@jupyter-widgets/base",
      "_model_module_version": "1.2.0",
      "_model_name": "LayoutModel",
      "_view_count": null,
      "_view_module": "@jupyter-widgets/base",
      "_view_module_version": "1.2.0",
      "_view_name": "LayoutView",
      "align_content": null,
      "align_items": null,
      "align_self": null,
      "border": null,
      "bottom": null,
      "display": null,
      "flex": null,
      "flex_flow": null,
      "grid_area": null,
      "grid_auto_columns": null,
      "grid_auto_flow": null,
      "grid_auto_rows": null,
      "grid_column": null,
      "grid_gap": null,
      "grid_row": null,
      "grid_template_areas": null,
      "grid_template_columns": null,
      "grid_template_rows": null,
      "height": null,
      "justify_content": null,
      "justify_items": null,
      "left": null,
      "margin": null,
      "max_height": null,
      "max_width": null,
      "min_height": null,
      "min_width": null,
      "object_fit": null,
      "object_position": null,
      "order": null,
      "overflow": null,
      "overflow_x": null,
      "overflow_y": null,
      "padding": null,
      "right": null,
      "top": null,
      "visibility": null,
      "width": null
     }
    },
    "bec1d14928bc4f00b9cb82ad4d970458": {
     "model_module": "@jupyter-widgets/controls",
     "model_module_version": "1.5.0",
     "model_name": "HTMLModel",
     "state": {
      "_dom_classes": [],
      "_model_module": "@jupyter-widgets/controls",
      "_model_module_version": "1.5.0",
      "_model_name": "HTMLModel",
      "_view_count": null,
      "_view_module": "@jupyter-widgets/controls",
      "_view_module_version": "1.5.0",
      "_view_name": "HTMLView",
      "description": "",
      "description_tooltip": null,
      "layout": "IPY_MODEL_75bf9f405eac406988f65fbe374bfa93",
      "placeholder": "​",
      "style": "IPY_MODEL_39bee8896c874cff94af5f2b447dddd8",
      "value": "Map: 100%"
     }
    },
    "bf30fe3c19b24a8d92d351a553f2cf42": {
     "model_module": "@jupyter-widgets/controls",
     "model_module_version": "1.5.0",
     "model_name": "LabelModel",
     "state": {
      "_dom_classes": [],
      "_model_module": "@jupyter-widgets/controls",
      "_model_module_version": "1.5.0",
      "_model_name": "LabelModel",
      "_view_count": null,
      "_view_module": "@jupyter-widgets/controls",
      "_view_module_version": "1.5.0",
      "_view_name": "LabelView",
      "description": "",
      "description_tooltip": null,
      "layout": "IPY_MODEL_249aca50ce8f4b90ba41ed6135931f61",
      "placeholder": "​",
      "style": "IPY_MODEL_656f4ad085504dd7b4c197c03c23c485",
      "value": "0.032 MB of 0.032 MB uploaded\r"
     }
    },
    "c36526bbb06d445180f72bc0cdb19cc0": {
     "model_module": "@jupyter-widgets/controls",
     "model_module_version": "1.5.0",
     "model_name": "VBoxModel",
     "state": {
      "_dom_classes": [],
      "_model_module": "@jupyter-widgets/controls",
      "_model_module_version": "1.5.0",
      "_model_name": "VBoxModel",
      "_view_count": null,
      "_view_module": "@jupyter-widgets/controls",
      "_view_module_version": "1.5.0",
      "_view_name": "VBoxView",
      "box_style": "",
      "children": [
       "IPY_MODEL_bf30fe3c19b24a8d92d351a553f2cf42",
       "IPY_MODEL_80d2f9ad47e54a4c902d02f97cc89673"
      ],
      "layout": "IPY_MODEL_9ee8c18585e143f885d6ad3c780c881f"
     }
    },
    "c3c6acdf78724bb08c0d5d8ba4cafc31": {
     "model_module": "@jupyter-widgets/base",
     "model_module_version": "1.2.0",
     "model_name": "LayoutModel",
     "state": {
      "_model_module": "@jupyter-widgets/base",
      "_model_module_version": "1.2.0",
      "_model_name": "LayoutModel",
      "_view_count": null,
      "_view_module": "@jupyter-widgets/base",
      "_view_module_version": "1.2.0",
      "_view_name": "LayoutView",
      "align_content": null,
      "align_items": null,
      "align_self": null,
      "border": null,
      "bottom": null,
      "display": null,
      "flex": null,
      "flex_flow": null,
      "grid_area": null,
      "grid_auto_columns": null,
      "grid_auto_flow": null,
      "grid_auto_rows": null,
      "grid_column": null,
      "grid_gap": null,
      "grid_row": null,
      "grid_template_areas": null,
      "grid_template_columns": null,
      "grid_template_rows": null,
      "height": null,
      "justify_content": null,
      "justify_items": null,
      "left": null,
      "margin": null,
      "max_height": null,
      "max_width": null,
      "min_height": null,
      "min_width": null,
      "object_fit": null,
      "object_position": null,
      "order": null,
      "overflow": null,
      "overflow_x": null,
      "overflow_y": null,
      "padding": null,
      "right": null,
      "top": null,
      "visibility": null,
      "width": null
     }
    },
    "c3e48bee8bfd4947bf810c147f5d84be": {
     "model_module": "@jupyter-widgets/controls",
     "model_module_version": "1.5.0",
     "model_name": "ProgressStyleModel",
     "state": {
      "_model_module": "@jupyter-widgets/controls",
      "_model_module_version": "1.5.0",
      "_model_name": "ProgressStyleModel",
      "_view_count": null,
      "_view_module": "@jupyter-widgets/base",
      "_view_module_version": "1.2.0",
      "_view_name": "StyleView",
      "bar_color": null,
      "description_width": ""
     }
    },
    "c42958e22848474e86922e4ccce62282": {
     "model_module": "@jupyter-widgets/base",
     "model_module_version": "1.2.0",
     "model_name": "LayoutModel",
     "state": {
      "_model_module": "@jupyter-widgets/base",
      "_model_module_version": "1.2.0",
      "_model_name": "LayoutModel",
      "_view_count": null,
      "_view_module": "@jupyter-widgets/base",
      "_view_module_version": "1.2.0",
      "_view_name": "LayoutView",
      "align_content": null,
      "align_items": null,
      "align_self": null,
      "border": null,
      "bottom": null,
      "display": null,
      "flex": null,
      "flex_flow": null,
      "grid_area": null,
      "grid_auto_columns": null,
      "grid_auto_flow": null,
      "grid_auto_rows": null,
      "grid_column": null,
      "grid_gap": null,
      "grid_row": null,
      "grid_template_areas": null,
      "grid_template_columns": null,
      "grid_template_rows": null,
      "height": null,
      "justify_content": null,
      "justify_items": null,
      "left": null,
      "margin": null,
      "max_height": null,
      "max_width": null,
      "min_height": null,
      "min_width": null,
      "object_fit": null,
      "object_position": null,
      "order": null,
      "overflow": null,
      "overflow_x": null,
      "overflow_y": null,
      "padding": null,
      "right": null,
      "top": null,
      "visibility": null,
      "width": null
     }
    },
    "c649e307ac364fceafa52e8c34175ee3": {
     "model_module": "@jupyter-widgets/base",
     "model_module_version": "1.2.0",
     "model_name": "LayoutModel",
     "state": {
      "_model_module": "@jupyter-widgets/base",
      "_model_module_version": "1.2.0",
      "_model_name": "LayoutModel",
      "_view_count": null,
      "_view_module": "@jupyter-widgets/base",
      "_view_module_version": "1.2.0",
      "_view_name": "LayoutView",
      "align_content": null,
      "align_items": null,
      "align_self": null,
      "border": null,
      "bottom": null,
      "display": null,
      "flex": null,
      "flex_flow": null,
      "grid_area": null,
      "grid_auto_columns": null,
      "grid_auto_flow": null,
      "grid_auto_rows": null,
      "grid_column": null,
      "grid_gap": null,
      "grid_row": null,
      "grid_template_areas": null,
      "grid_template_columns": null,
      "grid_template_rows": null,
      "height": null,
      "justify_content": null,
      "justify_items": null,
      "left": null,
      "margin": null,
      "max_height": null,
      "max_width": null,
      "min_height": null,
      "min_width": null,
      "object_fit": null,
      "object_position": null,
      "order": null,
      "overflow": null,
      "overflow_x": null,
      "overflow_y": null,
      "padding": null,
      "right": null,
      "top": null,
      "visibility": null,
      "width": null
     }
    },
    "c8418a7bfc9a42fbab17913d9806ad23": {
     "model_module": "@jupyter-widgets/controls",
     "model_module_version": "1.5.0",
     "model_name": "HTMLModel",
     "state": {
      "_dom_classes": [],
      "_model_module": "@jupyter-widgets/controls",
      "_model_module_version": "1.5.0",
      "_model_name": "HTMLModel",
      "_view_count": null,
      "_view_module": "@jupyter-widgets/controls",
      "_view_module_version": "1.5.0",
      "_view_name": "HTMLView",
      "description": "",
      "description_tooltip": null,
      "layout": "IPY_MODEL_1c27f5bed6ba4da9b05772cb5417524d",
      "placeholder": "​",
      "style": "IPY_MODEL_9ef35f0504ca4d9581d490de9e9b32fd",
      "value": " 12/12 [13:09:46&lt;00:00, 3848.05s/it]"
     }
    },
    "c85df5e0f4544f57ab74f4355149615f": {
     "model_module": "@jupyter-widgets/controls",
     "model_module_version": "1.5.0",
     "model_name": "LabelModel",
     "state": {
      "_dom_classes": [],
      "_model_module": "@jupyter-widgets/controls",
      "_model_module_version": "1.5.0",
      "_model_name": "LabelModel",
      "_view_count": null,
      "_view_module": "@jupyter-widgets/controls",
      "_view_module_version": "1.5.0",
      "_view_name": "LabelView",
      "description": "",
      "description_tooltip": null,
      "layout": "IPY_MODEL_cfe7d6254b19428492d66f9a64e2d430",
      "placeholder": "​",
      "style": "IPY_MODEL_9049c20f2937454fa28c5ad14dcccf0a",
      "value": "0.032 MB of 0.032 MB uploaded\r"
     }
    },
    "c9b3c625763448a8bc951f571d15f87e": {
     "model_module": "@jupyter-widgets/controls",
     "model_module_version": "1.5.0",
     "model_name": "HBoxModel",
     "state": {
      "_dom_classes": [],
      "_model_module": "@jupyter-widgets/controls",
      "_model_module_version": "1.5.0",
      "_model_name": "HBoxModel",
      "_view_count": null,
      "_view_module": "@jupyter-widgets/controls",
      "_view_module_version": "1.5.0",
      "_view_name": "HBoxView",
      "box_style": "",
      "children": [
       "IPY_MODEL_bec1d14928bc4f00b9cb82ad4d970458",
       "IPY_MODEL_d2b7df4123d5450894fbb7d7fa522ffb",
       "IPY_MODEL_a9ffebbcc53f4afd85d894eee4297d73"
      ],
      "layout": "IPY_MODEL_cb3ffb251c0740cab6e71197b24867ca"
     }
    },
    "ca3e5411b44c4f4aae4a02c96162b0f1": {
     "model_module": "@jupyter-widgets/controls",
     "model_module_version": "1.5.0",
     "model_name": "FloatProgressModel",
     "state": {
      "_dom_classes": [],
      "_model_module": "@jupyter-widgets/controls",
      "_model_module_version": "1.5.0",
      "_model_name": "FloatProgressModel",
      "_view_count": null,
      "_view_module": "@jupyter-widgets/controls",
      "_view_module_version": "1.5.0",
      "_view_name": "ProgressView",
      "bar_style": "success",
      "description": "",
      "description_tooltip": null,
      "layout": "IPY_MODEL_c649e307ac364fceafa52e8c34175ee3",
      "max": 898823,
      "min": 0,
      "orientation": "horizontal",
      "style": "IPY_MODEL_4de18202f4b34ac3910c93ed7fa39ae0",
      "value": 898823
     }
    },
    "cb3ffb251c0740cab6e71197b24867ca": {
     "model_module": "@jupyter-widgets/base",
     "model_module_version": "1.2.0",
     "model_name": "LayoutModel",
     "state": {
      "_model_module": "@jupyter-widgets/base",
      "_model_module_version": "1.2.0",
      "_model_name": "LayoutModel",
      "_view_count": null,
      "_view_module": "@jupyter-widgets/base",
      "_view_module_version": "1.2.0",
      "_view_name": "LayoutView",
      "align_content": null,
      "align_items": null,
      "align_self": null,
      "border": null,
      "bottom": null,
      "display": null,
      "flex": null,
      "flex_flow": null,
      "grid_area": null,
      "grid_auto_columns": null,
      "grid_auto_flow": null,
      "grid_auto_rows": null,
      "grid_column": null,
      "grid_gap": null,
      "grid_row": null,
      "grid_template_areas": null,
      "grid_template_columns": null,
      "grid_template_rows": null,
      "height": null,
      "justify_content": null,
      "justify_items": null,
      "left": null,
      "margin": null,
      "max_height": null,
      "max_width": null,
      "min_height": null,
      "min_width": null,
      "object_fit": null,
      "object_position": null,
      "order": null,
      "overflow": null,
      "overflow_x": null,
      "overflow_y": null,
      "padding": null,
      "right": null,
      "top": null,
      "visibility": null,
      "width": null
     }
    },
    "cc7a436a74a447408c32d482729a4420": {
     "model_module": "@jupyter-widgets/base",
     "model_module_version": "1.2.0",
     "model_name": "LayoutModel",
     "state": {
      "_model_module": "@jupyter-widgets/base",
      "_model_module_version": "1.2.0",
      "_model_name": "LayoutModel",
      "_view_count": null,
      "_view_module": "@jupyter-widgets/base",
      "_view_module_version": "1.2.0",
      "_view_name": "LayoutView",
      "align_content": null,
      "align_items": null,
      "align_self": null,
      "border": null,
      "bottom": null,
      "display": null,
      "flex": null,
      "flex_flow": null,
      "grid_area": null,
      "grid_auto_columns": null,
      "grid_auto_flow": null,
      "grid_auto_rows": null,
      "grid_column": null,
      "grid_gap": null,
      "grid_row": null,
      "grid_template_areas": null,
      "grid_template_columns": null,
      "grid_template_rows": null,
      "height": null,
      "justify_content": null,
      "justify_items": null,
      "left": null,
      "margin": null,
      "max_height": null,
      "max_width": null,
      "min_height": null,
      "min_width": null,
      "object_fit": null,
      "object_position": null,
      "order": null,
      "overflow": null,
      "overflow_x": null,
      "overflow_y": null,
      "padding": null,
      "right": null,
      "top": null,
      "visibility": null,
      "width": null
     }
    },
    "cc90b11fc1cc49fcbdddde76dfd4a68c": {
     "model_module": "@jupyter-widgets/controls",
     "model_module_version": "1.5.0",
     "model_name": "ProgressStyleModel",
     "state": {
      "_model_module": "@jupyter-widgets/controls",
      "_model_module_version": "1.5.0",
      "_model_name": "ProgressStyleModel",
      "_view_count": null,
      "_view_module": "@jupyter-widgets/base",
      "_view_module_version": "1.2.0",
      "_view_name": "StyleView",
      "bar_color": null,
      "description_width": ""
     }
    },
    "cfe7d6254b19428492d66f9a64e2d430": {
     "model_module": "@jupyter-widgets/base",
     "model_module_version": "1.2.0",
     "model_name": "LayoutModel",
     "state": {
      "_model_module": "@jupyter-widgets/base",
      "_model_module_version": "1.2.0",
      "_model_name": "LayoutModel",
      "_view_count": null,
      "_view_module": "@jupyter-widgets/base",
      "_view_module_version": "1.2.0",
      "_view_name": "LayoutView",
      "align_content": null,
      "align_items": null,
      "align_self": null,
      "border": null,
      "bottom": null,
      "display": null,
      "flex": null,
      "flex_flow": null,
      "grid_area": null,
      "grid_auto_columns": null,
      "grid_auto_flow": null,
      "grid_auto_rows": null,
      "grid_column": null,
      "grid_gap": null,
      "grid_row": null,
      "grid_template_areas": null,
      "grid_template_columns": null,
      "grid_template_rows": null,
      "height": null,
      "justify_content": null,
      "justify_items": null,
      "left": null,
      "margin": null,
      "max_height": null,
      "max_width": null,
      "min_height": null,
      "min_width": null,
      "object_fit": null,
      "object_position": null,
      "order": null,
      "overflow": null,
      "overflow_x": null,
      "overflow_y": null,
      "padding": null,
      "right": null,
      "top": null,
      "visibility": null,
      "width": null
     }
    },
    "d03b4d6dc1e7491294eeaeb0201916b2": {
     "model_module": "@jupyter-widgets/controls",
     "model_module_version": "1.5.0",
     "model_name": "HTMLModel",
     "state": {
      "_dom_classes": [],
      "_model_module": "@jupyter-widgets/controls",
      "_model_module_version": "1.5.0",
      "_model_name": "HTMLModel",
      "_view_count": null,
      "_view_module": "@jupyter-widgets/controls",
      "_view_module_version": "1.5.0",
      "_view_name": "HTMLView",
      "description": "",
      "description_tooltip": null,
      "layout": "IPY_MODEL_4141527a5d8342b698143ba4a9460872",
      "placeholder": "​",
      "style": "IPY_MODEL_bc888f7360e14eb8a35848bbc247813e",
      "value": "merges.txt: 100%"
     }
    },
    "d15c05fd84584d919b7b6c696ab6eb48": {
     "model_module": "@jupyter-widgets/base",
     "model_module_version": "1.2.0",
     "model_name": "LayoutModel",
     "state": {
      "_model_module": "@jupyter-widgets/base",
      "_model_module_version": "1.2.0",
      "_model_name": "LayoutModel",
      "_view_count": null,
      "_view_module": "@jupyter-widgets/base",
      "_view_module_version": "1.2.0",
      "_view_name": "LayoutView",
      "align_content": null,
      "align_items": null,
      "align_self": null,
      "border": null,
      "bottom": null,
      "display": null,
      "flex": null,
      "flex_flow": null,
      "grid_area": null,
      "grid_auto_columns": null,
      "grid_auto_flow": null,
      "grid_auto_rows": null,
      "grid_column": null,
      "grid_gap": null,
      "grid_row": null,
      "grid_template_areas": null,
      "grid_template_columns": null,
      "grid_template_rows": null,
      "height": null,
      "justify_content": null,
      "justify_items": null,
      "left": null,
      "margin": null,
      "max_height": null,
      "max_width": null,
      "min_height": null,
      "min_width": null,
      "object_fit": null,
      "object_position": null,
      "order": null,
      "overflow": null,
      "overflow_x": null,
      "overflow_y": null,
      "padding": null,
      "right": null,
      "top": null,
      "visibility": null,
      "width": null
     }
    },
    "d2b7df4123d5450894fbb7d7fa522ffb": {
     "model_module": "@jupyter-widgets/controls",
     "model_module_version": "1.5.0",
     "model_name": "FloatProgressModel",
     "state": {
      "_dom_classes": [],
      "_model_module": "@jupyter-widgets/controls",
      "_model_module_version": "1.5.0",
      "_model_name": "FloatProgressModel",
      "_view_count": null,
      "_view_module": "@jupyter-widgets/controls",
      "_view_module_version": "1.5.0",
      "_view_name": "ProgressView",
      "bar_style": "success",
      "description": "",
      "description_tooltip": null,
      "layout": "IPY_MODEL_f81d4fd77a48491f9c3520a31ed5a9a0",
      "max": 37039,
      "min": 0,
      "orientation": "horizontal",
      "style": "IPY_MODEL_dad7de95677d40018179d916fd84fcc6",
      "value": 37039
     }
    },
    "d47de15041cd4af996297856165b642c": {
     "model_module": "@jupyter-widgets/controls",
     "model_module_version": "1.5.0",
     "model_name": "ProgressStyleModel",
     "state": {
      "_model_module": "@jupyter-widgets/controls",
      "_model_module_version": "1.5.0",
      "_model_name": "ProgressStyleModel",
      "_view_count": null,
      "_view_module": "@jupyter-widgets/base",
      "_view_module_version": "1.2.0",
      "_view_name": "StyleView",
      "bar_color": null,
      "description_width": ""
     }
    },
    "d4a613e3aed04485b51d5a53739c7ff0": {
     "model_module": "@jupyter-widgets/base",
     "model_module_version": "1.2.0",
     "model_name": "LayoutModel",
     "state": {
      "_model_module": "@jupyter-widgets/base",
      "_model_module_version": "1.2.0",
      "_model_name": "LayoutModel",
      "_view_count": null,
      "_view_module": "@jupyter-widgets/base",
      "_view_module_version": "1.2.0",
      "_view_name": "LayoutView",
      "align_content": null,
      "align_items": null,
      "align_self": null,
      "border": null,
      "bottom": null,
      "display": null,
      "flex": null,
      "flex_flow": null,
      "grid_area": null,
      "grid_auto_columns": null,
      "grid_auto_flow": null,
      "grid_auto_rows": null,
      "grid_column": null,
      "grid_gap": null,
      "grid_row": null,
      "grid_template_areas": null,
      "grid_template_columns": null,
      "grid_template_rows": null,
      "height": null,
      "justify_content": null,
      "justify_items": null,
      "left": null,
      "margin": null,
      "max_height": null,
      "max_width": null,
      "min_height": null,
      "min_width": null,
      "object_fit": null,
      "object_position": null,
      "order": null,
      "overflow": null,
      "overflow_x": null,
      "overflow_y": null,
      "padding": null,
      "right": null,
      "top": null,
      "visibility": null,
      "width": null
     }
    },
    "d4fee361cecb42e4a58c55496af697fc": {
     "model_module": "@jupyter-widgets/controls",
     "model_module_version": "1.5.0",
     "model_name": "DescriptionStyleModel",
     "state": {
      "_model_module": "@jupyter-widgets/controls",
      "_model_module_version": "1.5.0",
      "_model_name": "DescriptionStyleModel",
      "_view_count": null,
      "_view_module": "@jupyter-widgets/base",
      "_view_module_version": "1.2.0",
      "_view_name": "StyleView",
      "description_width": ""
     }
    },
    "d53a149de77e4e5db7ad43e7bf49cc4c": {
     "model_module": "@jupyter-widgets/controls",
     "model_module_version": "1.5.0",
     "model_name": "DescriptionStyleModel",
     "state": {
      "_model_module": "@jupyter-widgets/controls",
      "_model_module_version": "1.5.0",
      "_model_name": "DescriptionStyleModel",
      "_view_count": null,
      "_view_module": "@jupyter-widgets/base",
      "_view_module_version": "1.2.0",
      "_view_name": "StyleView",
      "description_width": ""
     }
    },
    "d60eea9a79f04c8180dd24e9cd59af20": {
     "model_module": "@jupyter-widgets/controls",
     "model_module_version": "1.5.0",
     "model_name": "LabelModel",
     "state": {
      "_dom_classes": [],
      "_model_module": "@jupyter-widgets/controls",
      "_model_module_version": "1.5.0",
      "_model_name": "LabelModel",
      "_view_count": null,
      "_view_module": "@jupyter-widgets/controls",
      "_view_module_version": "1.5.0",
      "_view_name": "LabelView",
      "description": "",
      "description_tooltip": null,
      "layout": "IPY_MODEL_facfc00cccd64702a1b0a76b54d4e383",
      "placeholder": "​",
      "style": "IPY_MODEL_b7dfa1cdef1f46e2b52a60f7ac036379",
      "value": "0.032 MB of 0.032 MB uploaded\r"
     }
    },
    "d802b7420e6a4923aeec2314199cb7de": {
     "model_module": "@jupyter-widgets/controls",
     "model_module_version": "1.5.0",
     "model_name": "DescriptionStyleModel",
     "state": {
      "_model_module": "@jupyter-widgets/controls",
      "_model_module_version": "1.5.0",
      "_model_name": "DescriptionStyleModel",
      "_view_count": null,
      "_view_module": "@jupyter-widgets/base",
      "_view_module_version": "1.2.0",
      "_view_name": "StyleView",
      "description_width": ""
     }
    },
    "d807b53faa61413fa0532986e54cafe6": {
     "model_module": "@jupyter-widgets/controls",
     "model_module_version": "1.5.0",
     "model_name": "ProgressStyleModel",
     "state": {
      "_model_module": "@jupyter-widgets/controls",
      "_model_module_version": "1.5.0",
      "_model_name": "ProgressStyleModel",
      "_view_count": null,
      "_view_module": "@jupyter-widgets/base",
      "_view_module_version": "1.2.0",
      "_view_name": "StyleView",
      "bar_color": null,
      "description_width": ""
     }
    },
    "d8f3d80e4b0549a6b2adc2f5fb55bbb7": {
     "model_module": "@jupyter-widgets/controls",
     "model_module_version": "1.5.0",
     "model_name": "HBoxModel",
     "state": {
      "_dom_classes": [],
      "_model_module": "@jupyter-widgets/controls",
      "_model_module_version": "1.5.0",
      "_model_name": "HBoxModel",
      "_view_count": null,
      "_view_module": "@jupyter-widgets/controls",
      "_view_module_version": "1.5.0",
      "_view_name": "HBoxView",
      "box_style": "",
      "children": [
       "IPY_MODEL_1a5bf12c59de411ca4be8bf29a9e4878",
       "IPY_MODEL_ca3e5411b44c4f4aae4a02c96162b0f1",
       "IPY_MODEL_3764b5b603ad465e8c04ec2175df3275"
      ],
      "layout": "IPY_MODEL_5e92a9e70d9a43f1865e8906841f4dad"
     }
    },
    "d8f82645ca944a7b98b9c303ac659fed": {
     "model_module": "@jupyter-widgets/controls",
     "model_module_version": "1.5.0",
     "model_name": "ProgressStyleModel",
     "state": {
      "_model_module": "@jupyter-widgets/controls",
      "_model_module_version": "1.5.0",
      "_model_name": "ProgressStyleModel",
      "_view_count": null,
      "_view_module": "@jupyter-widgets/base",
      "_view_module_version": "1.2.0",
      "_view_name": "StyleView",
      "bar_color": null,
      "description_width": ""
     }
    },
    "d9714b0a047f4f789d2358e1e1177936": {
     "model_module": "@jupyter-widgets/controls",
     "model_module_version": "1.5.0",
     "model_name": "ProgressStyleModel",
     "state": {
      "_model_module": "@jupyter-widgets/controls",
      "_model_module_version": "1.5.0",
      "_model_name": "ProgressStyleModel",
      "_view_count": null,
      "_view_module": "@jupyter-widgets/base",
      "_view_module_version": "1.2.0",
      "_view_name": "StyleView",
      "bar_color": null,
      "description_width": ""
     }
    },
    "d9fe8268157b4acabbc8a5d47ce73827": {
     "model_module": "@jupyter-widgets/controls",
     "model_module_version": "1.5.0",
     "model_name": "DescriptionStyleModel",
     "state": {
      "_model_module": "@jupyter-widgets/controls",
      "_model_module_version": "1.5.0",
      "_model_name": "DescriptionStyleModel",
      "_view_count": null,
      "_view_module": "@jupyter-widgets/base",
      "_view_module_version": "1.2.0",
      "_view_name": "StyleView",
      "description_width": ""
     }
    },
    "da7efe5ae12e457c9c3bdbbbfec88924": {
     "model_module": "@jupyter-widgets/base",
     "model_module_version": "1.2.0",
     "model_name": "LayoutModel",
     "state": {
      "_model_module": "@jupyter-widgets/base",
      "_model_module_version": "1.2.0",
      "_model_name": "LayoutModel",
      "_view_count": null,
      "_view_module": "@jupyter-widgets/base",
      "_view_module_version": "1.2.0",
      "_view_name": "LayoutView",
      "align_content": null,
      "align_items": null,
      "align_self": null,
      "border": null,
      "bottom": null,
      "display": null,
      "flex": null,
      "flex_flow": null,
      "grid_area": null,
      "grid_auto_columns": null,
      "grid_auto_flow": null,
      "grid_auto_rows": null,
      "grid_column": null,
      "grid_gap": null,
      "grid_row": null,
      "grid_template_areas": null,
      "grid_template_columns": null,
      "grid_template_rows": null,
      "height": null,
      "justify_content": null,
      "justify_items": null,
      "left": null,
      "margin": null,
      "max_height": null,
      "max_width": null,
      "min_height": null,
      "min_width": null,
      "object_fit": null,
      "object_position": null,
      "order": null,
      "overflow": null,
      "overflow_x": null,
      "overflow_y": null,
      "padding": null,
      "right": null,
      "top": null,
      "visibility": null,
      "width": null
     }
    },
    "dad7de95677d40018179d916fd84fcc6": {
     "model_module": "@jupyter-widgets/controls",
     "model_module_version": "1.5.0",
     "model_name": "ProgressStyleModel",
     "state": {
      "_model_module": "@jupyter-widgets/controls",
      "_model_module_version": "1.5.0",
      "_model_name": "ProgressStyleModel",
      "_view_count": null,
      "_view_module": "@jupyter-widgets/base",
      "_view_module_version": "1.2.0",
      "_view_name": "StyleView",
      "bar_color": null,
      "description_width": ""
     }
    },
    "dbad57f895e74bcdbe6e06359ef8c42d": {
     "model_module": "@jupyter-widgets/controls",
     "model_module_version": "1.5.0",
     "model_name": "HBoxModel",
     "state": {
      "_dom_classes": [],
      "_model_module": "@jupyter-widgets/controls",
      "_model_module_version": "1.5.0",
      "_model_name": "HBoxModel",
      "_view_count": null,
      "_view_module": "@jupyter-widgets/controls",
      "_view_module_version": "1.5.0",
      "_view_name": "HBoxView",
      "box_style": "",
      "children": [
       "IPY_MODEL_5bf6380e2fdd4fc884caa25f36add233",
       "IPY_MODEL_a2da5d7b8ee341e5badde6bdddb2d729",
       "IPY_MODEL_90362b04f18144e5af260162fd6b692d"
      ],
      "layout": "IPY_MODEL_7aeb41e4eb984fbca3e975b66bdb3034"
     }
    },
    "dcb28feac2e643cebaf6151b220d2d59": {
     "model_module": "@jupyter-widgets/controls",
     "model_module_version": "1.5.0",
     "model_name": "HTMLModel",
     "state": {
      "_dom_classes": [],
      "_model_module": "@jupyter-widgets/controls",
      "_model_module_version": "1.5.0",
      "_model_name": "HTMLModel",
      "_view_count": null,
      "_view_module": "@jupyter-widgets/controls",
      "_view_module_version": "1.5.0",
      "_view_name": "HTMLView",
      "description": "",
      "description_tooltip": null,
      "layout": "IPY_MODEL_cc7a436a74a447408c32d482729a4420",
      "placeholder": "​",
      "style": "IPY_MODEL_7f406183e80b47d491ed1ef794cb41c2",
      "value": " 4116/4116 [00:02&lt;00:00, 1906.17 examples/s]"
     }
    },
    "dcebef0a5dd24a009929092b23be232c": {
     "model_module": "@jupyter-widgets/base",
     "model_module_version": "1.2.0",
     "model_name": "LayoutModel",
     "state": {
      "_model_module": "@jupyter-widgets/base",
      "_model_module_version": "1.2.0",
      "_model_name": "LayoutModel",
      "_view_count": null,
      "_view_module": "@jupyter-widgets/base",
      "_view_module_version": "1.2.0",
      "_view_name": "LayoutView",
      "align_content": null,
      "align_items": null,
      "align_self": null,
      "border": null,
      "bottom": null,
      "display": null,
      "flex": null,
      "flex_flow": null,
      "grid_area": null,
      "grid_auto_columns": null,
      "grid_auto_flow": null,
      "grid_auto_rows": null,
      "grid_column": null,
      "grid_gap": null,
      "grid_row": null,
      "grid_template_areas": null,
      "grid_template_columns": null,
      "grid_template_rows": null,
      "height": null,
      "justify_content": null,
      "justify_items": null,
      "left": null,
      "margin": null,
      "max_height": null,
      "max_width": null,
      "min_height": null,
      "min_width": null,
      "object_fit": null,
      "object_position": null,
      "order": null,
      "overflow": null,
      "overflow_x": null,
      "overflow_y": null,
      "padding": null,
      "right": null,
      "top": null,
      "visibility": null,
      "width": null
     }
    },
    "dedee1104db34f12acd27a1d6ffb5e26": {
     "model_module": "@jupyter-widgets/base",
     "model_module_version": "1.2.0",
     "model_name": "LayoutModel",
     "state": {
      "_model_module": "@jupyter-widgets/base",
      "_model_module_version": "1.2.0",
      "_model_name": "LayoutModel",
      "_view_count": null,
      "_view_module": "@jupyter-widgets/base",
      "_view_module_version": "1.2.0",
      "_view_name": "LayoutView",
      "align_content": null,
      "align_items": null,
      "align_self": null,
      "border": null,
      "bottom": null,
      "display": null,
      "flex": null,
      "flex_flow": null,
      "grid_area": null,
      "grid_auto_columns": null,
      "grid_auto_flow": null,
      "grid_auto_rows": null,
      "grid_column": null,
      "grid_gap": null,
      "grid_row": null,
      "grid_template_areas": null,
      "grid_template_columns": null,
      "grid_template_rows": null,
      "height": null,
      "justify_content": null,
      "justify_items": null,
      "left": null,
      "margin": null,
      "max_height": null,
      "max_width": null,
      "min_height": null,
      "min_width": null,
      "object_fit": null,
      "object_position": null,
      "order": null,
      "overflow": null,
      "overflow_x": null,
      "overflow_y": null,
      "padding": null,
      "right": null,
      "top": null,
      "visibility": null,
      "width": null
     }
    },
    "df6c6ecc93744070a23519d5e7777902": {
     "model_module": "@jupyter-widgets/controls",
     "model_module_version": "1.5.0",
     "model_name": "VBoxModel",
     "state": {
      "_dom_classes": [],
      "_model_module": "@jupyter-widgets/controls",
      "_model_module_version": "1.5.0",
      "_model_name": "VBoxModel",
      "_view_count": null,
      "_view_module": "@jupyter-widgets/controls",
      "_view_module_version": "1.5.0",
      "_view_name": "VBoxView",
      "box_style": "",
      "children": [
       "IPY_MODEL_75045bbe824a49eaab36c3502221c6fa",
       "IPY_MODEL_390160ff028445fa88dbdba3debeabaf"
      ],
      "layout": "IPY_MODEL_f52604e8aafa4037bcaa16d72d7905e5"
     }
    },
    "e14c4cb27be246c49e2831488e3319db": {
     "model_module": "@jupyter-widgets/base",
     "model_module_version": "1.2.0",
     "model_name": "LayoutModel",
     "state": {
      "_model_module": "@jupyter-widgets/base",
      "_model_module_version": "1.2.0",
      "_model_name": "LayoutModel",
      "_view_count": null,
      "_view_module": "@jupyter-widgets/base",
      "_view_module_version": "1.2.0",
      "_view_name": "LayoutView",
      "align_content": null,
      "align_items": null,
      "align_self": null,
      "border": null,
      "bottom": null,
      "display": null,
      "flex": null,
      "flex_flow": null,
      "grid_area": null,
      "grid_auto_columns": null,
      "grid_auto_flow": null,
      "grid_auto_rows": null,
      "grid_column": null,
      "grid_gap": null,
      "grid_row": null,
      "grid_template_areas": null,
      "grid_template_columns": null,
      "grid_template_rows": null,
      "height": null,
      "justify_content": null,
      "justify_items": null,
      "left": null,
      "margin": null,
      "max_height": null,
      "max_width": null,
      "min_height": null,
      "min_width": null,
      "object_fit": null,
      "object_position": null,
      "order": null,
      "overflow": null,
      "overflow_x": null,
      "overflow_y": null,
      "padding": null,
      "right": null,
      "top": null,
      "visibility": null,
      "width": null
     }
    },
    "e22e9c2f11804141ada4e8d8d6a69dbc": {
     "model_module": "@jupyter-widgets/controls",
     "model_module_version": "1.5.0",
     "model_name": "HTMLModel",
     "state": {
      "_dom_classes": [],
      "_model_module": "@jupyter-widgets/controls",
      "_model_module_version": "1.5.0",
      "_model_name": "HTMLModel",
      "_view_count": null,
      "_view_module": "@jupyter-widgets/controls",
      "_view_module_version": "1.5.0",
      "_view_name": "HTMLView",
      "description": "",
      "description_tooltip": null,
      "layout": "IPY_MODEL_ff5a7351db5a46a5a795113a794417b2",
      "placeholder": "​",
      "style": "IPY_MODEL_a045cacae20a4faaac30e80de96bfb6f",
      "value": "model.safetensors: 100%"
     }
    },
    "e312884949cc4c12887511b955ae4685": {
     "model_module": "@jupyter-widgets/base",
     "model_module_version": "1.2.0",
     "model_name": "LayoutModel",
     "state": {
      "_model_module": "@jupyter-widgets/base",
      "_model_module_version": "1.2.0",
      "_model_name": "LayoutModel",
      "_view_count": null,
      "_view_module": "@jupyter-widgets/base",
      "_view_module_version": "1.2.0",
      "_view_name": "LayoutView",
      "align_content": null,
      "align_items": null,
      "align_self": null,
      "border": null,
      "bottom": null,
      "display": null,
      "flex": null,
      "flex_flow": null,
      "grid_area": null,
      "grid_auto_columns": null,
      "grid_auto_flow": null,
      "grid_auto_rows": null,
      "grid_column": null,
      "grid_gap": null,
      "grid_row": null,
      "grid_template_areas": null,
      "grid_template_columns": null,
      "grid_template_rows": null,
      "height": null,
      "justify_content": null,
      "justify_items": null,
      "left": null,
      "margin": null,
      "max_height": null,
      "max_width": null,
      "min_height": null,
      "min_width": null,
      "object_fit": null,
      "object_position": null,
      "order": null,
      "overflow": null,
      "overflow_x": null,
      "overflow_y": null,
      "padding": null,
      "right": null,
      "top": null,
      "visibility": null,
      "width": null
     }
    },
    "e390b213b2f944228cb6cf20ac650137": {
     "model_module": "@jupyter-widgets/base",
     "model_module_version": "1.2.0",
     "model_name": "LayoutModel",
     "state": {
      "_model_module": "@jupyter-widgets/base",
      "_model_module_version": "1.2.0",
      "_model_name": "LayoutModel",
      "_view_count": null,
      "_view_module": "@jupyter-widgets/base",
      "_view_module_version": "1.2.0",
      "_view_name": "LayoutView",
      "align_content": null,
      "align_items": null,
      "align_self": null,
      "border": null,
      "bottom": null,
      "display": null,
      "flex": null,
      "flex_flow": null,
      "grid_area": null,
      "grid_auto_columns": null,
      "grid_auto_flow": null,
      "grid_auto_rows": null,
      "grid_column": null,
      "grid_gap": null,
      "grid_row": null,
      "grid_template_areas": null,
      "grid_template_columns": null,
      "grid_template_rows": null,
      "height": null,
      "justify_content": null,
      "justify_items": null,
      "left": null,
      "margin": null,
      "max_height": null,
      "max_width": null,
      "min_height": null,
      "min_width": null,
      "object_fit": null,
      "object_position": null,
      "order": null,
      "overflow": null,
      "overflow_x": null,
      "overflow_y": null,
      "padding": null,
      "right": null,
      "top": null,
      "visibility": null,
      "width": null
     }
    },
    "e83751b24bd24503a70cd1eea63d0d8c": {
     "model_module": "@jupyter-widgets/base",
     "model_module_version": "1.2.0",
     "model_name": "LayoutModel",
     "state": {
      "_model_module": "@jupyter-widgets/base",
      "_model_module_version": "1.2.0",
      "_model_name": "LayoutModel",
      "_view_count": null,
      "_view_module": "@jupyter-widgets/base",
      "_view_module_version": "1.2.0",
      "_view_name": "LayoutView",
      "align_content": null,
      "align_items": null,
      "align_self": null,
      "border": null,
      "bottom": null,
      "display": null,
      "flex": null,
      "flex_flow": null,
      "grid_area": null,
      "grid_auto_columns": null,
      "grid_auto_flow": null,
      "grid_auto_rows": null,
      "grid_column": null,
      "grid_gap": null,
      "grid_row": null,
      "grid_template_areas": null,
      "grid_template_columns": null,
      "grid_template_rows": null,
      "height": null,
      "justify_content": null,
      "justify_items": null,
      "left": null,
      "margin": null,
      "max_height": null,
      "max_width": null,
      "min_height": null,
      "min_width": null,
      "object_fit": null,
      "object_position": null,
      "order": null,
      "overflow": null,
      "overflow_x": null,
      "overflow_y": null,
      "padding": null,
      "right": null,
      "top": null,
      "visibility": null,
      "width": null
     }
    },
    "e873933517944b86b2fe53d7c2f59bb3": {
     "model_module": "@jupyter-widgets/controls",
     "model_module_version": "1.5.0",
     "model_name": "FloatProgressModel",
     "state": {
      "_dom_classes": [],
      "_model_module": "@jupyter-widgets/controls",
      "_model_module_version": "1.5.0",
      "_model_name": "FloatProgressModel",
      "_view_count": null,
      "_view_module": "@jupyter-widgets/controls",
      "_view_module_version": "1.5.0",
      "_view_name": "ProgressView",
      "bar_style": "success",
      "description": "",
      "description_tooltip": null,
      "layout": "IPY_MODEL_8b94618202864ef7ae75d8a700bf05e6",
      "max": 1355863,
      "min": 0,
      "orientation": "horizontal",
      "style": "IPY_MODEL_2d0e5e9f678b4df99775f9f84e65721f",
      "value": 1355863
     }
    },
    "e98a9231f63c4f15a990b45ec84c5a21": {
     "model_module": "@jupyter-widgets/base",
     "model_module_version": "1.2.0",
     "model_name": "LayoutModel",
     "state": {
      "_model_module": "@jupyter-widgets/base",
      "_model_module_version": "1.2.0",
      "_model_name": "LayoutModel",
      "_view_count": null,
      "_view_module": "@jupyter-widgets/base",
      "_view_module_version": "1.2.0",
      "_view_name": "LayoutView",
      "align_content": null,
      "align_items": null,
      "align_self": null,
      "border": null,
      "bottom": null,
      "display": null,
      "flex": null,
      "flex_flow": null,
      "grid_area": null,
      "grid_auto_columns": null,
      "grid_auto_flow": null,
      "grid_auto_rows": null,
      "grid_column": null,
      "grid_gap": null,
      "grid_row": null,
      "grid_template_areas": null,
      "grid_template_columns": null,
      "grid_template_rows": null,
      "height": null,
      "justify_content": null,
      "justify_items": null,
      "left": null,
      "margin": null,
      "max_height": null,
      "max_width": null,
      "min_height": null,
      "min_width": null,
      "object_fit": null,
      "object_position": null,
      "order": null,
      "overflow": null,
      "overflow_x": null,
      "overflow_y": null,
      "padding": null,
      "right": null,
      "top": null,
      "visibility": null,
      "width": null
     }
    },
    "eaadf361a796496da0594d4ec2a53c46": {
     "model_module": "@jupyter-widgets/base",
     "model_module_version": "1.2.0",
     "model_name": "LayoutModel",
     "state": {
      "_model_module": "@jupyter-widgets/base",
      "_model_module_version": "1.2.0",
      "_model_name": "LayoutModel",
      "_view_count": null,
      "_view_module": "@jupyter-widgets/base",
      "_view_module_version": "1.2.0",
      "_view_name": "LayoutView",
      "align_content": null,
      "align_items": null,
      "align_self": null,
      "border": null,
      "bottom": null,
      "display": null,
      "flex": null,
      "flex_flow": null,
      "grid_area": null,
      "grid_auto_columns": null,
      "grid_auto_flow": null,
      "grid_auto_rows": null,
      "grid_column": null,
      "grid_gap": null,
      "grid_row": null,
      "grid_template_areas": null,
      "grid_template_columns": null,
      "grid_template_rows": null,
      "height": null,
      "justify_content": null,
      "justify_items": null,
      "left": null,
      "margin": null,
      "max_height": null,
      "max_width": null,
      "min_height": null,
      "min_width": null,
      "object_fit": null,
      "object_position": null,
      "order": null,
      "overflow": null,
      "overflow_x": null,
      "overflow_y": null,
      "padding": null,
      "right": null,
      "top": null,
      "visibility": null,
      "width": null
     }
    },
    "eba513c9100741b9bdcc0b8b10291bd9": {
     "model_module": "@jupyter-widgets/controls",
     "model_module_version": "1.5.0",
     "model_name": "DescriptionStyleModel",
     "state": {
      "_model_module": "@jupyter-widgets/controls",
      "_model_module_version": "1.5.0",
      "_model_name": "DescriptionStyleModel",
      "_view_count": null,
      "_view_module": "@jupyter-widgets/base",
      "_view_module_version": "1.2.0",
      "_view_name": "StyleView",
      "description_width": ""
     }
    },
    "ee09535f51a64f41af3193a31697fe69": {
     "model_module": "@jupyter-widgets/base",
     "model_module_version": "1.2.0",
     "model_name": "LayoutModel",
     "state": {
      "_model_module": "@jupyter-widgets/base",
      "_model_module_version": "1.2.0",
      "_model_name": "LayoutModel",
      "_view_count": null,
      "_view_module": "@jupyter-widgets/base",
      "_view_module_version": "1.2.0",
      "_view_name": "LayoutView",
      "align_content": null,
      "align_items": null,
      "align_self": null,
      "border": null,
      "bottom": null,
      "display": null,
      "flex": null,
      "flex_flow": null,
      "grid_area": null,
      "grid_auto_columns": null,
      "grid_auto_flow": null,
      "grid_auto_rows": null,
      "grid_column": null,
      "grid_gap": null,
      "grid_row": null,
      "grid_template_areas": null,
      "grid_template_columns": null,
      "grid_template_rows": null,
      "height": null,
      "justify_content": null,
      "justify_items": null,
      "left": null,
      "margin": null,
      "max_height": null,
      "max_width": null,
      "min_height": null,
      "min_width": null,
      "object_fit": null,
      "object_position": null,
      "order": null,
      "overflow": null,
      "overflow_x": null,
      "overflow_y": null,
      "padding": null,
      "right": null,
      "top": null,
      "visibility": null,
      "width": null
     }
    },
    "ee6a3559b5ee4865a26991c26d8c5d2d": {
     "model_module": "@jupyter-widgets/controls",
     "model_module_version": "1.5.0",
     "model_name": "LabelModel",
     "state": {
      "_dom_classes": [],
      "_model_module": "@jupyter-widgets/controls",
      "_model_module_version": "1.5.0",
      "_model_name": "LabelModel",
      "_view_count": null,
      "_view_module": "@jupyter-widgets/controls",
      "_view_module_version": "1.5.0",
      "_view_name": "LabelView",
      "description": "",
      "description_tooltip": null,
      "layout": "IPY_MODEL_8ea20ba555de4692ad772346793028a1",
      "placeholder": "​",
      "style": "IPY_MODEL_501f20ebd5a943338deb7d403bc4ea9c",
      "value": "0.032 MB of 0.032 MB uploaded\r"
     }
    },
    "ef72071073c94efdbbefb983629c594c": {
     "model_module": "@jupyter-widgets/controls",
     "model_module_version": "1.5.0",
     "model_name": "DescriptionStyleModel",
     "state": {
      "_model_module": "@jupyter-widgets/controls",
      "_model_module_version": "1.5.0",
      "_model_name": "DescriptionStyleModel",
      "_view_count": null,
      "_view_module": "@jupyter-widgets/base",
      "_view_module_version": "1.2.0",
      "_view_name": "StyleView",
      "description_width": ""
     }
    },
    "f14d73a38118443f8ef11dfba80519f3": {
     "model_module": "@jupyter-widgets/base",
     "model_module_version": "1.2.0",
     "model_name": "LayoutModel",
     "state": {
      "_model_module": "@jupyter-widgets/base",
      "_model_module_version": "1.2.0",
      "_model_name": "LayoutModel",
      "_view_count": null,
      "_view_module": "@jupyter-widgets/base",
      "_view_module_version": "1.2.0",
      "_view_name": "LayoutView",
      "align_content": null,
      "align_items": null,
      "align_self": null,
      "border": null,
      "bottom": null,
      "display": null,
      "flex": null,
      "flex_flow": null,
      "grid_area": null,
      "grid_auto_columns": null,
      "grid_auto_flow": null,
      "grid_auto_rows": null,
      "grid_column": null,
      "grid_gap": null,
      "grid_row": null,
      "grid_template_areas": null,
      "grid_template_columns": null,
      "grid_template_rows": null,
      "height": null,
      "justify_content": null,
      "justify_items": null,
      "left": null,
      "margin": null,
      "max_height": null,
      "max_width": null,
      "min_height": null,
      "min_width": null,
      "object_fit": null,
      "object_position": null,
      "order": null,
      "overflow": null,
      "overflow_x": null,
      "overflow_y": null,
      "padding": null,
      "right": null,
      "top": null,
      "visibility": null,
      "width": null
     }
    },
    "f2a793fea969421bb2a78f71b7c9bfa7": {
     "model_module": "@jupyter-widgets/controls",
     "model_module_version": "1.5.0",
     "model_name": "DescriptionStyleModel",
     "state": {
      "_model_module": "@jupyter-widgets/controls",
      "_model_module_version": "1.5.0",
      "_model_name": "DescriptionStyleModel",
      "_view_count": null,
      "_view_module": "@jupyter-widgets/base",
      "_view_module_version": "1.2.0",
      "_view_name": "StyleView",
      "description_width": ""
     }
    },
    "f302ba7191784284b3bdea3b6abe83b0": {
     "model_module": "@jupyter-widgets/controls",
     "model_module_version": "1.5.0",
     "model_name": "FloatProgressModel",
     "state": {
      "_dom_classes": [],
      "_model_module": "@jupyter-widgets/controls",
      "_model_module_version": "1.5.0",
      "_model_name": "FloatProgressModel",
      "_view_count": null,
      "_view_module": "@jupyter-widgets/controls",
      "_view_module_version": "1.5.0",
      "_view_name": "ProgressView",
      "bar_style": "success",
      "description": "",
      "description_tooltip": null,
      "layout": "IPY_MODEL_33f601662ae2470680b72e40e8650173",
      "max": 25,
      "min": 0,
      "orientation": "horizontal",
      "style": "IPY_MODEL_d807b53faa61413fa0532986e54cafe6",
      "value": 25
     }
    },
    "f386993a107542e685b82e2be486befd": {
     "model_module": "@jupyter-widgets/controls",
     "model_module_version": "1.5.0",
     "model_name": "FloatProgressModel",
     "state": {
      "_dom_classes": [],
      "_model_module": "@jupyter-widgets/controls",
      "_model_module_version": "1.5.0",
      "_model_name": "FloatProgressModel",
      "_view_count": null,
      "_view_module": "@jupyter-widgets/controls",
      "_view_module_version": "1.5.0",
      "_view_name": "ProgressView",
      "bar_style": "",
      "description": "",
      "description_tooltip": null,
      "layout": "IPY_MODEL_6ce5aabe68e04bf3b70d84ffeb39a04c",
      "max": 1,
      "min": 0,
      "orientation": "horizontal",
      "style": "IPY_MODEL_abbac15a6b504a8bb0d7f666512204d4",
      "value": 1
     }
    },
    "f48996ddefa84af28297ad7d07e0afa2": {
     "model_module": "@jupyter-widgets/controls",
     "model_module_version": "1.5.0",
     "model_name": "ProgressStyleModel",
     "state": {
      "_model_module": "@jupyter-widgets/controls",
      "_model_module_version": "1.5.0",
      "_model_name": "ProgressStyleModel",
      "_view_count": null,
      "_view_module": "@jupyter-widgets/base",
      "_view_module_version": "1.2.0",
      "_view_name": "StyleView",
      "bar_color": null,
      "description_width": ""
     }
    },
    "f48a66daefbf42629264ba3592ff5e2d": {
     "model_module": "@jupyter-widgets/controls",
     "model_module_version": "1.5.0",
     "model_name": "FloatProgressModel",
     "state": {
      "_dom_classes": [],
      "_model_module": "@jupyter-widgets/controls",
      "_model_module_version": "1.5.0",
      "_model_name": "FloatProgressModel",
      "_view_count": null,
      "_view_module": "@jupyter-widgets/controls",
      "_view_module_version": "1.5.0",
      "_view_name": "ProgressView",
      "bar_style": "",
      "description": "",
      "description_tooltip": null,
      "layout": "IPY_MODEL_38463f7d61844f27bd67fa599b461773",
      "max": 1,
      "min": 0,
      "orientation": "horizontal",
      "style": "IPY_MODEL_9e0a37b4c3ff419c81c161a7df93e267",
      "value": 1
     }
    },
    "f52604e8aafa4037bcaa16d72d7905e5": {
     "model_module": "@jupyter-widgets/base",
     "model_module_version": "1.2.0",
     "model_name": "LayoutModel",
     "state": {
      "_model_module": "@jupyter-widgets/base",
      "_model_module_version": "1.2.0",
      "_model_name": "LayoutModel",
      "_view_count": null,
      "_view_module": "@jupyter-widgets/base",
      "_view_module_version": "1.2.0",
      "_view_name": "LayoutView",
      "align_content": null,
      "align_items": null,
      "align_self": null,
      "border": null,
      "bottom": null,
      "display": null,
      "flex": null,
      "flex_flow": null,
      "grid_area": null,
      "grid_auto_columns": null,
      "grid_auto_flow": null,
      "grid_auto_rows": null,
      "grid_column": null,
      "grid_gap": null,
      "grid_row": null,
      "grid_template_areas": null,
      "grid_template_columns": null,
      "grid_template_rows": null,
      "height": null,
      "justify_content": null,
      "justify_items": null,
      "left": null,
      "margin": null,
      "max_height": null,
      "max_width": null,
      "min_height": null,
      "min_width": null,
      "object_fit": null,
      "object_position": null,
      "order": null,
      "overflow": null,
      "overflow_x": null,
      "overflow_y": null,
      "padding": null,
      "right": null,
      "top": null,
      "visibility": null,
      "width": null
     }
    },
    "f81d4fd77a48491f9c3520a31ed5a9a0": {
     "model_module": "@jupyter-widgets/base",
     "model_module_version": "1.2.0",
     "model_name": "LayoutModel",
     "state": {
      "_model_module": "@jupyter-widgets/base",
      "_model_module_version": "1.2.0",
      "_model_name": "LayoutModel",
      "_view_count": null,
      "_view_module": "@jupyter-widgets/base",
      "_view_module_version": "1.2.0",
      "_view_name": "LayoutView",
      "align_content": null,
      "align_items": null,
      "align_self": null,
      "border": null,
      "bottom": null,
      "display": null,
      "flex": null,
      "flex_flow": null,
      "grid_area": null,
      "grid_auto_columns": null,
      "grid_auto_flow": null,
      "grid_auto_rows": null,
      "grid_column": null,
      "grid_gap": null,
      "grid_row": null,
      "grid_template_areas": null,
      "grid_template_columns": null,
      "grid_template_rows": null,
      "height": null,
      "justify_content": null,
      "justify_items": null,
      "left": null,
      "margin": null,
      "max_height": null,
      "max_width": null,
      "min_height": null,
      "min_width": null,
      "object_fit": null,
      "object_position": null,
      "order": null,
      "overflow": null,
      "overflow_x": null,
      "overflow_y": null,
      "padding": null,
      "right": null,
      "top": null,
      "visibility": null,
      "width": null
     }
    },
    "facfc00cccd64702a1b0a76b54d4e383": {
     "model_module": "@jupyter-widgets/base",
     "model_module_version": "1.2.0",
     "model_name": "LayoutModel",
     "state": {
      "_model_module": "@jupyter-widgets/base",
      "_model_module_version": "1.2.0",
      "_model_name": "LayoutModel",
      "_view_count": null,
      "_view_module": "@jupyter-widgets/base",
      "_view_module_version": "1.2.0",
      "_view_name": "LayoutView",
      "align_content": null,
      "align_items": null,
      "align_self": null,
      "border": null,
      "bottom": null,
      "display": null,
      "flex": null,
      "flex_flow": null,
      "grid_area": null,
      "grid_auto_columns": null,
      "grid_auto_flow": null,
      "grid_auto_rows": null,
      "grid_column": null,
      "grid_gap": null,
      "grid_row": null,
      "grid_template_areas": null,
      "grid_template_columns": null,
      "grid_template_rows": null,
      "height": null,
      "justify_content": null,
      "justify_items": null,
      "left": null,
      "margin": null,
      "max_height": null,
      "max_width": null,
      "min_height": null,
      "min_width": null,
      "object_fit": null,
      "object_position": null,
      "order": null,
      "overflow": null,
      "overflow_x": null,
      "overflow_y": null,
      "padding": null,
      "right": null,
      "top": null,
      "visibility": null,
      "width": null
     }
    },
    "fbe3cb361db645218e1d22602476ebe8": {
     "model_module": "@jupyter-widgets/controls",
     "model_module_version": "1.5.0",
     "model_name": "DescriptionStyleModel",
     "state": {
      "_model_module": "@jupyter-widgets/controls",
      "_model_module_version": "1.5.0",
      "_model_name": "DescriptionStyleModel",
      "_view_count": null,
      "_view_module": "@jupyter-widgets/base",
      "_view_module_version": "1.2.0",
      "_view_name": "StyleView",
      "description_width": ""
     }
    },
    "fcfb1476be3c4ba58f0dab213810edfa": {
     "model_module": "@jupyter-widgets/base",
     "model_module_version": "1.2.0",
     "model_name": "LayoutModel",
     "state": {
      "_model_module": "@jupyter-widgets/base",
      "_model_module_version": "1.2.0",
      "_model_name": "LayoutModel",
      "_view_count": null,
      "_view_module": "@jupyter-widgets/base",
      "_view_module_version": "1.2.0",
      "_view_name": "LayoutView",
      "align_content": null,
      "align_items": null,
      "align_self": null,
      "border": null,
      "bottom": null,
      "display": null,
      "flex": null,
      "flex_flow": null,
      "grid_area": null,
      "grid_auto_columns": null,
      "grid_auto_flow": null,
      "grid_auto_rows": null,
      "grid_column": null,
      "grid_gap": null,
      "grid_row": null,
      "grid_template_areas": null,
      "grid_template_columns": null,
      "grid_template_rows": null,
      "height": null,
      "justify_content": null,
      "justify_items": null,
      "left": null,
      "margin": null,
      "max_height": null,
      "max_width": null,
      "min_height": null,
      "min_width": null,
      "object_fit": null,
      "object_position": null,
      "order": null,
      "overflow": null,
      "overflow_x": null,
      "overflow_y": null,
      "padding": null,
      "right": null,
      "top": null,
      "visibility": null,
      "width": null
     }
    },
    "fdc95f3d63af4b5dabc53f81044ba816": {
     "model_module": "@jupyter-widgets/controls",
     "model_module_version": "1.5.0",
     "model_name": "FloatProgressModel",
     "state": {
      "_dom_classes": [],
      "_model_module": "@jupyter-widgets/controls",
      "_model_module_version": "1.5.0",
      "_model_name": "FloatProgressModel",
      "_view_count": null,
      "_view_module": "@jupyter-widgets/controls",
      "_view_module_version": "1.5.0",
      "_view_name": "ProgressView",
      "bar_style": "success",
      "description": "",
      "description_tooltip": null,
      "layout": "IPY_MODEL_c42958e22848474e86922e4ccce62282",
      "max": 12,
      "min": 0,
      "orientation": "horizontal",
      "style": "IPY_MODEL_816ad62e8431424c84c536d43ddd36a1",
      "value": 12
     }
    },
    "fdebf0f38fe74bea9aef2ec2e0ce69db": {
     "model_module": "@jupyter-widgets/controls",
     "model_module_version": "1.5.0",
     "model_name": "HBoxModel",
     "state": {
      "_dom_classes": [],
      "_model_module": "@jupyter-widgets/controls",
      "_model_module_version": "1.5.0",
      "_model_name": "HBoxModel",
      "_view_count": null,
      "_view_module": "@jupyter-widgets/controls",
      "_view_module_version": "1.5.0",
      "_view_name": "HBoxView",
      "box_style": "",
      "children": [
       "IPY_MODEL_4010738f32a7447eae8a0eb1a2f7c844",
       "IPY_MODEL_f302ba7191784284b3bdea3b6abe83b0",
       "IPY_MODEL_a29513d99be144efbd6f67df2be9385c"
      ],
      "layout": "IPY_MODEL_b4a07acd10174b148a323257dcb905ff"
     }
    },
    "ff5a7351db5a46a5a795113a794417b2": {
     "model_module": "@jupyter-widgets/base",
     "model_module_version": "1.2.0",
     "model_name": "LayoutModel",
     "state": {
      "_model_module": "@jupyter-widgets/base",
      "_model_module_version": "1.2.0",
      "_model_name": "LayoutModel",
      "_view_count": null,
      "_view_module": "@jupyter-widgets/base",
      "_view_module_version": "1.2.0",
      "_view_name": "LayoutView",
      "align_content": null,
      "align_items": null,
      "align_self": null,
      "border": null,
      "bottom": null,
      "display": null,
      "flex": null,
      "flex_flow": null,
      "grid_area": null,
      "grid_auto_columns": null,
      "grid_auto_flow": null,
      "grid_auto_rows": null,
      "grid_column": null,
      "grid_gap": null,
      "grid_row": null,
      "grid_template_areas": null,
      "grid_template_columns": null,
      "grid_template_rows": null,
      "height": null,
      "justify_content": null,
      "justify_items": null,
      "left": null,
      "margin": null,
      "max_height": null,
      "max_width": null,
      "min_height": null,
      "min_width": null,
      "object_fit": null,
      "object_position": null,
      "order": null,
      "overflow": null,
      "overflow_x": null,
      "overflow_y": null,
      "padding": null,
      "right": null,
      "top": null,
      "visibility": null,
      "width": null
     }
    },
    "ff75bd3a3e54445fb792b7f397e29382": {
     "model_module": "@jupyter-widgets/controls",
     "model_module_version": "1.5.0",
     "model_name": "FloatProgressModel",
     "state": {
      "_dom_classes": [],
      "_model_module": "@jupyter-widgets/controls",
      "_model_module_version": "1.5.0",
      "_model_name": "FloatProgressModel",
      "_view_count": null,
      "_view_module": "@jupyter-widgets/controls",
      "_view_module_version": "1.5.0",
      "_view_name": "ProgressView",
      "bar_style": "",
      "description": "",
      "description_tooltip": null,
      "layout": "IPY_MODEL_a0be4ea118f54913b6339aa51f88d365",
      "max": 1,
      "min": 0,
      "orientation": "horizontal",
      "style": "IPY_MODEL_34d503517e924978923b70a6932a331d",
      "value": 1
     }
    }
   }
  }
 },
 "nbformat": 4,
 "nbformat_minor": 4
}
