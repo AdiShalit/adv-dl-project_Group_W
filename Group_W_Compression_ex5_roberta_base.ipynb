{
 "cells": [
  {
   "cell_type": "markdown",
   "metadata": {
    "id": "1qu3a7Hj8cRh"
   },
   "source": [
    "<center><br><br>\n",
    "<font size=6>🎓 <b>Advanced Deep Learning - NLP Final Project</b></font><br>\n",
    "<font size=6>📊 <b>Compression - roberta-base EX5</b></font><br>\n",
    "<font size=5>👥 <b>Group W</b></font><br><br>\n",
    "<b>Adi Shalit</b>, ID: <code>206628885</code><br>\n",
    "<b>Gal Gussarsky</b>, ID: <code>206453540</code><br><br>\n",
    "<font size=4>📘 Course ID: <code>05714184</code></font><br>\n",
    "<font size=4>📅 Spring 2025</font>\n",
    "<br><br>\n",
    "<hr style=\"width:60%; border:1px solid gray;\"></center>\n"
   ]
  },
  {
   "cell_type": "markdown",
   "metadata": {},
   "source": [
    "# 📑 Table of Contents\n",
    "\n",
    "- [KD Training](#Training)\n",
    "- [KD Load best Model & Test](#Load-Best-Model)\n",
    "\n",
    "\n"
   ]
  },
  {
   "cell_type": "code",
   "execution_count": null,
   "metadata": {
    "id": "KpCezt0m_pw2"
   },
   "outputs": [],
   "source": [
    "# --- Quantized model (INT8, bitsandbytes) ---\n",
    "# make sure bitsandbytes is installed\n",
    "# !pip install -U bitsandbytes accelerate"
   ]
  },
  {
   "cell_type": "markdown",
   "metadata": {},
   "source": [
    "# ⚡ Quantization + Evaluation – RoBERTa-base EX5 (Set2, Correct Label Order)\n",
    "\n",
    "We apply **post-training dynamic quantization (INT8)** to the fine-tuned **RoBERTa-base (EX5, set2)** model.  \n",
    "The goal is to reduce model size and speed up inference while keeping accuracy and F1 close to baseline.\n",
    "\n",
    "- **Dataset**: Corona_NLP test set (translated & cleaned).  \n",
    "- **Label handling**: logit reordering applied to match training label order (Set2).  \n",
    "- **Compression method**: `torch.quantization.quantize_dynamic` on all linear layers.  \n",
    "- **Metrics**: Accuracy, Macro-F1, Latency (ms/sample).  \n",
    "\n",
    "✅ **Outputs saved**:  \n",
    "- Baseline (FP32) evaluation report.  \n",
    "- Quantized (INT8) evaluation report.  \n",
    "- Side-by-side summary (Acc, F1, Latency).  \n"
   ]
  },
  {
   "cell_type": "code",
   "execution_count": null,
   "metadata": {
    "colab": {
     "base_uri": "https://localhost:8080/",
     "height": 993,
     "referenced_widgets": [
      "8476ae468ea348cfaa593f78460e988d",
      "641f3becbd35455b811c3e2a7b6420c9",
      "560345df66f64bdabfd55f9c598eba15",
      "9edb4f34928244debc744525b3b9c53c",
      "e5d0618961cd48b5a0780dcf3fa9ab9c",
      "02c363b4b0e947efa82661d60ac50671",
      "9d20a9cd6d6e413da1d11149f2cbd5da",
      "67079d4809114b168ff96baf553845bc",
      "6d505040361642778a7cce377e04f6f9",
      "a297e03518fe4f96bc43ca9a4392dda2",
      "47ccf46a57c14f928fb0df87def0d30a",
      "10736aaccb3a40f58572f40ca38fc884",
      "0aa32adb67784dfea587b0a162338256",
      "b7a12ad10ea942e8b96b65340e66a02e",
      "b7c2fb9b98b8475293a86b7ba4c969a2",
      "2f583680062b4e5cb298890cd5c2ad5c",
      "6c900a0c1f4840ca88af6c16ccf0cb29",
      "0b8e8a043a18436e89738e97f76c179d",
      "652339a1352743b1a8078573e4e824d5",
      "0874e954f78646c2b839a9bfd9055f54",
      "8f3aa224908b457eb934e60361ad8998",
      "f37a931403dd4847a15bee1337f947cd",
      "f2f94f9e5bca4d7cbbec78bed12ee025",
      "1e5a96d87c00423494a7877ad5b72dba",
      "12c75ab90ef9449d9fe3cf1c0624fe45",
      "9ca9ca4a58e5449f91615c00f92d41a1",
      "7dafb0bf56fc420a9e549227ed568296",
      "6f3897d1fdc44e31a6e3ddf35a2f0d64",
      "61068d16bd5c44e3a1d8fbd397563672",
      "e441b59eef3a45bc8bfe3fcc8b209bfc",
      "77b6210843eb43c5939679d63e63c061",
      "d8b293b6a7b8481ca9cc36206659b3da",
      "0f0eac5bb7544187929bf49328afeee6",
      "1f47f45829ab4988ab7d68c5ec971036",
      "7baf50cf3faa4160b8de5f110d1ed2f7",
      "bdb3793dd347438686d1a4a351fb5dd3",
      "45472bb4108b40538a81d4fb84170925",
      "e55f5534d39a4f22aabb879e16910eb5",
      "f96808fc44a44a00b9188f151967c20f",
      "02ce0f51c38c4a648ebeccac42529d13",
      "d2bc5ea8dd8e4715953b42720a695749",
      "f9569b29f3d648f38e20fb9d137637d2",
      "8295f753e0ec4940b69240e051a80f7e",
      "245f0a51494543e9a054eeee162920bb",
      "9ed7672b661f4bd48e34fd0e1e344f4d",
      "cc7f2693156c41448f79c8eced695c3c",
      "73e0bdf1a0814705bd807223c49f064d",
      "5407fa34ded6497c8b5ae29cb78a0611",
      "997ee2943861453b918e0e4a7edfb572",
      "938f299db4144929bd552ef9541aa191",
      "cffbcc86352c4748830aec72284de834",
      "d8adb442a51e48e69097541c26b0b686",
      "aeac7b481e914028b7242f3894bf7cdd",
      "8aa509c0809c413bb37e6b7345cb82dc",
      "d877af212b31448586f94dd31131e446",
      "d11b0d2e6abf44e19a586466e3891c8d",
      "bb5b369966be4d6093baae112d365d4f",
      "fb8b41742fca4a8eb1899e9fadfda47e",
      "703afedd2d8249e09d1994e7f7f09ff4",
      "6f2c853332be440e95db2697391f0709",
      "c054502a90554be49e696c5178bb98fb",
      "7d4725e58c284b1287ed9fe4c0d6ea7a",
      "b541ee68fc514d9aa7df2f86b1fd6f44",
      "c0ddaf94a4a8406d9bfba97e58c27456",
      "82629e96a32140a0ab10ab9866e037fb",
      "446d924ecb694a7d989a66580ec873e5"
     ]
    },
    "executionInfo": {
     "elapsed": 507578,
     "status": "ok",
     "timestamp": 1755525360709,
     "user": {
      "displayName": "גל גוסרסקי",
      "userId": "06195569624382764324"
     },
     "user_tz": -180
    },
    "id": "09EPFU6a4xwj",
    "outputId": "3dc63808-16bd-48c9-f782-84ed66baa21a"
   },
   "outputs": [
    {
     "name": "stdout",
     "output_type": "stream",
     "text": [
      "Mounted at /content/drive\n",
      "✅ Test data loaded: (3798, 9)\n"
     ]
    },
    {
     "name": "stderr",
     "output_type": "stream",
     "text": [
      "/usr/local/lib/python3.11/dist-packages/huggingface_hub/utils/_auth.py:94: UserWarning: \n",
      "The secret `HF_TOKEN` does not exist in your Colab secrets.\n",
      "To authenticate with the Hugging Face Hub, create a token in your settings tab (https://huggingface.co/settings/tokens), set it as secret in your Google Colab and restart your session.\n",
      "You will be able to reuse this secret in all of your notebooks.\n",
      "Please note that authentication is recommended but still optional to access public models or datasets.\n",
      "  warnings.warn(\n"
     ]
    },
    {
     "data": {
      "application/vnd.jupyter.widget-view+json": {
       "model_id": "8476ae468ea348cfaa593f78460e988d",
       "version_major": 2,
       "version_minor": 0
      },
      "text/plain": [
       "tokenizer_config.json:   0%|          | 0.00/25.0 [00:00<?, ?B/s]"
      ]
     },
     "metadata": {},
     "output_type": "display_data"
    },
    {
     "data": {
      "application/vnd.jupyter.widget-view+json": {
       "model_id": "10736aaccb3a40f58572f40ca38fc884",
       "version_major": 2,
       "version_minor": 0
      },
      "text/plain": [
       "config.json:   0%|          | 0.00/481 [00:00<?, ?B/s]"
      ]
     },
     "metadata": {},
     "output_type": "display_data"
    },
    {
     "data": {
      "application/vnd.jupyter.widget-view+json": {
       "model_id": "f2f94f9e5bca4d7cbbec78bed12ee025",
       "version_major": 2,
       "version_minor": 0
      },
      "text/plain": [
       "vocab.json:   0%|          | 0.00/899k [00:00<?, ?B/s]"
      ]
     },
     "metadata": {},
     "output_type": "display_data"
    },
    {
     "data": {
      "application/vnd.jupyter.widget-view+json": {
       "model_id": "1f47f45829ab4988ab7d68c5ec971036",
       "version_major": 2,
       "version_minor": 0
      },
      "text/plain": [
       "merges.txt:   0%|          | 0.00/456k [00:00<?, ?B/s]"
      ]
     },
     "metadata": {},
     "output_type": "display_data"
    },
    {
     "data": {
      "application/vnd.jupyter.widget-view+json": {
       "model_id": "9ed7672b661f4bd48e34fd0e1e344f4d",
       "version_major": 2,
       "version_minor": 0
      },
      "text/plain": [
       "tokenizer.json:   0%|          | 0.00/1.36M [00:00<?, ?B/s]"
      ]
     },
     "metadata": {},
     "output_type": "display_data"
    },
    {
     "data": {
      "application/vnd.jupyter.widget-view+json": {
       "model_id": "d11b0d2e6abf44e19a586466e3891c8d",
       "version_major": 2,
       "version_minor": 0
      },
      "text/plain": [
       "model.safetensors:   0%|          | 0.00/499M [00:00<?, ?B/s]"
      ]
     },
     "metadata": {},
     "output_type": "display_data"
    },
    {
     "name": "stderr",
     "output_type": "stream",
     "text": [
      "Some weights of RobertaForSequenceClassification were not initialized from the model checkpoint at roberta-base and are newly initialized: ['classifier.dense.bias', 'classifier.dense.weight', 'classifier.out_proj.bias', 'classifier.out_proj.weight']\n",
      "You should probably TRAIN this model on a down-stream task to be able to use it for predictions and inference.\n"
     ]
    },
    {
     "name": "stdout",
     "output_type": "stream",
     "text": [
      "=== Baseline (FP32) ===\n",
      "Accuracy 0.8354 | Macro-F1 0.8402 | Latency 65.00 ms/sample\n",
      "                    precision    recall  f1-score   support\n",
      "\n",
      "extremely negative     0.8278    0.8767    0.8515       592\n",
      "          negative     0.8223    0.8136    0.8180      1041\n",
      "           neutral     0.8910    0.8320    0.8605       619\n",
      "          positive     0.7811    0.8627    0.8199       947\n",
      "extremely positive     0.9188    0.7930    0.8513       599\n",
      "\n",
      "          accuracy                         0.8354      3798\n",
      "         macro avg     0.8482    0.8356    0.8402      3798\n",
      "      weighted avg     0.8393    0.8354    0.8358      3798\n",
      "\n",
      "\n",
      "=== Quantized (INT8) ===\n",
      "Accuracy 0.8236 | Macro-F1 0.8287 | Latency 47.81 ms/sample\n",
      "                    precision    recall  f1-score   support\n",
      "\n",
      "extremely negative     0.8398    0.8412    0.8405       592\n",
      "          negative     0.8013    0.8098    0.8055      1041\n",
      "           neutral     0.8855    0.8368    0.8605       619\n",
      "          positive     0.7516    0.8722    0.8074       947\n",
      "extremely positive     0.9446    0.7396    0.8296       599\n",
      "\n",
      "          accuracy                         0.8236      3798\n",
      "         macro avg     0.8446    0.8199    0.8287      3798\n",
      "      weighted avg     0.8312    0.8236    0.8242      3798\n",
      "\n",
      "\n",
      "=== Summary ===\n",
      "Accuracy : base 0.8354 | int8 0.8236\n",
      "Macro-F1 : base 0.8402 | int8 0.8287\n",
      "Latency  : base 65.00ms | int8 47.81ms per sample\n"
     ]
    }
   ],
   "source": [
    "# ============================\n",
    "# Quantization + Eval: roberta_ex5 (set2, correct label order)\n",
    "# ============================\n",
    "import os, time, torch, numpy as np\n",
    "import torch.nn.functional as F\n",
    "import pandas as pd\n",
    "# from google.colab import drive\n",
    "from transformers import AutoTokenizer, AutoModelForSequenceClassification\n",
    "from sklearn.metrics import accuracy_score, f1_score, classification_report\n",
    "from torch.quantization import quantize_dynamic\n",
    "\n",
    "# # --- Mount Drive ---\n",
    "# drive.mount(\"/content/drive\")\n",
    "\n",
    "# --- Device + constants ---\n",
    "DEVICE   = \"cuda\" if torch.cuda.is_available() else \"cpu\"\n",
    "MAX_LEN  = 512\n",
    "BATCH_SZ = 8\n",
    "\n",
    "# --- Label order mappings ---\n",
    "ORDER = [\"extremely negative\", \"negative\", \"neutral\", \"positive\", \"extremely positive\"]\n",
    "LABEL2ID = {lab: i for i, lab in enumerate(ORDER)}\n",
    "ID2LABEL = {i: lab for i, lab in enumerate(ORDER)}\n",
    "\n",
    "# --- TRAINING label order (Set 2, as used in training)\n",
    "TRAIN_ORDER_SET2 = [\"Neutral\", \"Positive\", \"Extremely Negative\", \"Negative\", \"Extremely Positive\"]\n",
    "TRAIN_ORDER_SET2 = [x.strip().lower() for x in TRAIN_ORDER_SET2]\n",
    "LOGIT_REORDER_MAP = [ORDER.index(label) for label in TRAIN_ORDER_SET2]\n",
    "\n",
    "# --- Load test data ---\n",
    "df_test = pd.read_csv(\"Corona_NLP_test_cleaned_translated.csv\")\n",
    "\n",
    "def normalize_label(s: str) -> str:\n",
    "    s = str(s).strip().lower()\n",
    "    s = s.replace(\"very negative\", \"extremely negative\")\n",
    "    s = s.replace(\"very positive\", \"extremely positive\")\n",
    "    s = s.replace(\"extreme negative\", \"extremely negative\")\n",
    "    s = s.replace(\"extreme positive\", \"extremely positive\")\n",
    "    return s\n",
    "\n",
    "df_test[\"label\"] = df_test[\"Sentiment\"].apply(normalize_label).map(LABEL2ID)\n",
    "df_test[\"text\"]  = df_test[\"OriginalTweet\"].astype(str)\n",
    "test_df = df_test.dropna(subset=[\"text\", \"label\"]).reset_index(drop=True)\n",
    "print(\"✅ Test data loaded:\", test_df.shape)\n",
    "\n",
    "# --- Your trained model weights ---\n",
    "rb2_weights = \"adv_dl_models_final2_best/roberta_base_best_set2.pt\"\n",
    "\n",
    "# --- Evaluation helper ---\n",
    "def eval_model(model, tok, test_df, batch_size=32, reorder_map=None):\n",
    "    model.eval()\n",
    "    labels, preds_all, times = [], [], []\n",
    "    with torch.no_grad():\n",
    "        for start in range(0, len(test_df), batch_size):\n",
    "            texts = test_df[\"text\"].tolist()[start:start+batch_size]\n",
    "            labs  = test_df[\"label\"].tolist()[start:start+batch_size]\n",
    "            enc = tok(texts, truncation=True, padding=True, max_length=MAX_LEN,\n",
    "                      return_tensors=\"pt\").to(DEVICE)\n",
    "            t0 = time.time()\n",
    "            logits = model(**enc).logits\n",
    "            if reorder_map is not None:\n",
    "                logits = logits[:, reorder_map]\n",
    "            times.append((time.time() - t0) / logits.size(0))\n",
    "            preds_all.extend(logits.argmax(-1).cpu().numpy().tolist())\n",
    "            labels.extend(labs)\n",
    "    acc = accuracy_score(labels, preds_all)\n",
    "    f1m = f1_score(labels, preds_all, average=\"macro\")\n",
    "    return acc, f1m, np.mean(times), preds_all, labels\n",
    "\n",
    "# --- Load tokenizer and base model ---\n",
    "tok = AutoTokenizer.from_pretrained(\"roberta-base\")\n",
    "base = AutoModelForSequenceClassification.from_pretrained(\n",
    "    \"roberta-base\", num_labels=len(ORDER)\n",
    ")\n",
    "base.load_state_dict(torch.load(rb2_weights, map_location=\"cpu\"))  # ✅ Load your trained weights\n",
    "base.to(DEVICE).eval()\n",
    "\n",
    "# --- Evaluate baseline (FP32) ---\n",
    "acc_b, f1_b, lat_b, preds_b, labels = eval_model(\n",
    "    base, tok, test_df, batch_size=BATCH_SZ, reorder_map=LOGIT_REORDER_MAP\n",
    ")\n",
    "print(\"=== Baseline (FP32) ===\")\n",
    "print(f\"Accuracy {acc_b:.4f} | Macro-F1 {f1_b:.4f} | Latency {lat_b*1000:.2f} ms/sample\")\n",
    "print(classification_report(labels, preds_b, target_names=ORDER, digits=4, zero_division=0))\n",
    "\n",
    "# --- Quantize model (INT8) ---\n",
    "quant8 = quantize_dynamic(\n",
    "    base.cpu(),              # must quantize on CPU\n",
    "    {torch.nn.Linear},       # quantize linear layers\n",
    "    dtype=torch.qint8\n",
    ")\n",
    "quant8.to(DEVICE).eval()\n",
    "\n",
    "# --- Evaluate quantized model ---\n",
    "acc_q, f1_q, lat_q, preds_q, _ = eval_model(\n",
    "    quant8, tok, test_df, batch_size=BATCH_SZ, reorder_map=LOGIT_REORDER_MAP\n",
    ")\n",
    "print(\"\\n=== Quantized (INT8) ===\")\n",
    "print(f\"Accuracy {acc_q:.4f} | Macro-F1 {f1_q:.4f} | Latency {lat_q*1000:.2f} ms/sample\")\n",
    "print(classification_report(labels, preds_q, target_names=ORDER, digits=4, zero_division=0))\n",
    "\n",
    "# --- Summary ---\n",
    "print(\"\\n=== Summary ===\")\n",
    "print(f\"Accuracy : base {acc_b:.4f} | int8 {acc_q:.4f}\")\n",
    "print(f\"Macro-F1 : base {f1_b:.4f} | int8 {f1_q:.4f}\")\n",
    "print(f\"Latency  : base {lat_b*1000:.2f}ms | int8 {lat_q*1000:.2f}ms per sample\")\n"
   ]
  },
  {
   "cell_type": "markdown",
   "metadata": {
    "id": "ALNhBetzKLRi"
   },
   "source": [
    "## 📊 Summary  \n",
    "| Model      | Accuracy | Macro-F1 | Latency (ms/sample) | Size (MB) |\n",
    "|------------|----------|----------|----------------------|-----------|\n",
    "| FP32 Base  | **0.8354** | **0.8402** | 65.00 | 475.6 |\n",
    "| INT8 Quant | 0.8236 | 0.8287 | **47.81** | 230.9 |\n",
    "\n",
    "---\n",
    "\n",
    "## ✨ Insights  \n",
    "- Quantization reduced model size by **51.4%** (475.6 MB → 230.9 MB).  \n",
    "- Inference became **~27% faster** (65.00 → 47.81 ms/sample).  \n",
    "- Only a **~1.2% drop in accuracy** and **~1.1% drop in macro-F1**.  \n",
    "\n",
    "👉 **Conclusion:** INT8 quantization is highly practical here – it halves storage and speeds up inference, while maintaining nearly the same classification performance. "
   ]
  },
  {
   "cell_type": "markdown",
   "metadata": {},
   "source": [
    "### Save Quantized Model"
   ]
  },
  {
   "cell_type": "code",
   "execution_count": null,
   "metadata": {
    "colab": {
     "base_uri": "https://localhost:8080/"
    },
    "executionInfo": {
     "elapsed": 13999,
     "status": "ok",
     "timestamp": 1755525374888,
     "user": {
      "displayName": "גל גוסרסקי",
      "userId": "06195569624382764324"
     },
     "user_tz": -180
    },
    "id": "nIE0hxSgI4vf",
    "outputId": "5c9ca896-0d10-4426-ed00-a3f5806b3a51"
   },
   "outputs": [
    {
     "name": "stdout",
     "output_type": "stream",
     "text": [
      "✅ Quantized model saved to: /content/drive/MyDrive/adv_dl_models_final2_best/roberta_base_best_set2_quant_int8.pt\n",
      "✅ Evaluation saved to: /content/drive/MyDrive/adv_dl_models_final2_best/roberta_base_best_set2_quant_int8_eval.json\n"
     ]
    }
   ],
   "source": [
    "import os, json\n",
    "import torch\n",
    "\n",
    "# === Define save path ===\n",
    "SAVE_DIR = \"adv_dl_models_final2_best\"\n",
    "os.makedirs(SAVE_DIR, exist_ok=True)\n",
    "\n",
    "# === Save quantized model ===\n",
    "model_path = os.path.join(SAVE_DIR, \"roberta_base_best_set2_quant_int8.pt\")\n",
    "torch.save(quant8.state_dict(), model_path)\n",
    "print(f\"✅ Quantized model saved to: {model_path}\")\n",
    "\n",
    "# === Save evaluation results ===\n",
    "eval_path = os.path.join(SAVE_DIR, \"roberta_base_best_set2_quant_int8_eval.json\")\n",
    "eval_results = {\n",
    "    \"accuracy\": round(acc_q, 4),\n",
    "    \"macro_f1\": round(f1_q, 4),\n",
    "    \"latency_ms_per_sample\": round(lat_q * 1000, 2)\n",
    "}\n",
    "with open(eval_path, \"w\") as f:\n",
    "    json.dump(eval_results, f, indent=2)\n",
    "print(f\"✅ Evaluation saved to: {eval_path}\")\n"
   ]
  },
  {
   "cell_type": "markdown",
   "metadata": {},
   "source": [
    "# ✂️ Pruning Sweep – RoBERTa-base (EX4)\n",
    "\n",
    "## 🎯 Goal  \n",
    "We test how **weight pruning** affects the **accuracy, macro-F1, latency, and size** of our fine-tuned RoBERTa sentiment classifier.  \n",
    "The motivation: pruning removes connections (weights) in the network to shrink model size and potentially speed up inference.  \n",
    "But ⚠️ heavy pruning usually hurts accuracy.\n",
    "\n",
    "## 🛠️ What We Did  \n",
    "- **Baseline (0%)**: Full FP32 model as reference.  \n",
    "- **Sweep**: Applied **global unstructured L1 pruning** on all linear layers.  \n",
    "  - Levels: 0%, 10%, 20%, …, 80% + one extreme at 89%.  \n",
    "- **Metrics recorded**:  \n",
    "  - Accuracy and macro-F1 on test set.  \n",
    "  - Latency (ms/sample).  \n",
    "  - Model size (MB).  \n",
    "- **Plots generated**:  \n",
    "  - Accuracy & F1 vs. pruning %.  \n",
    "  - Latency vs. pruning %.  \n",
    "  - Model size vs. pruning %.  \n",
    "\n",
    "## 💡 Why It Matters  \n",
    "- Light pruning (10–20%) often keeps accuracy close to baseline, while shrinking model size.  \n",
    "- Higher pruning exposes the **trade-off**: accuracy drops, but memory and size improve.  \n",
    "- Helps us find a **sweet spot** between efficiency and performance.\n",
    "\n",
    "## 📂 Outputs (saved in `adv_dl_models_final2_best`)  \n",
    "- `roberta_manual_prune_sweep_results.json` → all results per pruning %.  \n",
    "- `roberta_manual_prune_sweep_plot.png` → Accuracy + F1 vs. pruning %.  \n",
    "- `roberta_manual_prune_sweep_latency.png` → Latency vs. pruning %.  \n",
    "- `roberta_manual_prune_sweep_modelsize.png` → Model size vs. pruning %.  \n"
   ]
  },
  {
   "cell_type": "code",
   "execution_count": 1,
   "metadata": {
    "colab": {
     "base_uri": "https://localhost:8080/",
     "height": 1000,
     "referenced_widgets": [
      "13e5b22507b64dc783bdd74e681ab9fd",
      "5bd766b7e3a54618a0d2d1c7a9ccde33",
      "fa192685f99344c4b4ee9668edb501cd",
      "d21cd9d6d9314031ad50df4a01a0c787",
      "aa6cdb3d4f194e1a80d3748779c5ab0f",
      "0895ac7cd6fb46b38301822f0afdfa75",
      "d7a0f05ed78849f9bd9b2179a907a5b6",
      "1d460f85feb34b379a1cca568c71f165",
      "cb66cdd1fbd64083b7e843e8e0c52af1",
      "fcd0cccaac2945f283d5d3839ec88fe9",
      "ea6d76489b3145019294c6b4bea5ef43",
      "bb75fe504142469897cd755894cea361",
      "225a025139504e36b5c8ff6ac6275ef5",
      "479dc810976a4c72bdd266a77cc6dd89",
      "e67f43122d0a43ed838d19b7b85aa92a",
      "bd48e5029c234f34906907ba187e5681",
      "42432a336dc34443858f53b4fa8b900b",
      "8215a4b3d2cf4e2bbdab89826e8170ea",
      "6ffef70f62204f1d998ca829b7296db0",
      "d19e6407ce24445580c7cd27ef09aa70",
      "2d70669554624b7d8fc8a0ea2592c78c",
      "cf53d5bd7fe3493ea9105029ac0bd3b0",
      "cdad8a8ecf3044329ee0abcba5d0ce12",
      "2727425a0b2645d2948e0104143fdc88",
      "a259c1339a39432882c7784769ee58a5",
      "a7e025dcfd3b45458fae78a22099c26f",
      "4ac5b8a1c34c4a8b9ab0fb2bc390a154",
      "41aa33ddb09c4569856a48c265cd6c04",
      "37d11c7c99f145d6acdf2eddf08170cd",
      "f5f923f4065844f39b055d6b3c3f204d",
      "613899d34ec648579863eae7639a719f",
      "33aff5577a424489b0386c66a87386f4",
      "5311b182e9724805aab11afb27ba15ef",
      "984d7d4b68494cd7974ab93a852eaecf",
      "ae67f487c10d4f13964f61b0b15fa23d",
      "c0313af481704e2fa5af096a8ed58634",
      "26e3f51a7d44434293fb3e4aebdb99d3",
      "e52e57d5a95c445ea25351f302d5160d",
      "dba3ebce94d24130986c60763542c8d8",
      "55772b2250ff4b60833ef3a6f145a7ef",
      "6c6b177c58e34deab710a094aaaa909d",
      "2ac7f18d94f24c9eba612a973d249c7c",
      "dceea4777a1c4867a8d9926bce1c6ec7",
      "2b2d0a15e2a14a50892a823e72894e9d",
      "39e338e0d3a54abb87fd8b7a56a88971",
      "7a4c66f7b3b042678230a5e805beb3c5",
      "5ce56816dd524ce386a025585ad6a2e3",
      "1d6741e7c7d044ca917e1a85ae8bc94e",
      "3b0a243eb6954f038533a983e8f94ea8",
      "da83ff42c5a04716a2b21a08c2814ce3",
      "73c737558b1941fa8da501287eba5083",
      "81a2addd732f41f6adf1fd62d62d1d34",
      "054425ed56564f7ebfd92c87b25afc0a",
      "860d1976358f4bc0815a965da3b31370",
      "104011285f4b4bf580dc8a650e742a74",
      "772c1bdd7d6e4133917c9fdab56d27a3",
      "2f87d21efb934257892198a158056cff",
      "6f82af2af49f4ef0b369cd2f553e1ce0",
      "2015f23ffe084a09abfa6dfbd3814706",
      "e25a0ed32fd64e8a9d1fea29e51e3abc",
      "7438b125e7c5457aaf340e53f97e22f9",
      "c72c69a424c14a438ba4da2b0dcdfa16",
      "ea772edeee04462e8b2ead67c06539ea",
      "fec7ee4035d441a6990ee44d0e4b337a",
      "dd2ce5ecb7c340659287ea6c89584c5c",
      "b127727856514ec5aabad23409526c72"
     ]
    },
    "executionInfo": {
     "elapsed": 259193,
     "status": "ok",
     "timestamp": 1755607144174,
     "user": {
      "displayName": "גל גוסרסקי",
      "userId": "06195569624382764324"
     },
     "user_tz": -180
    },
    "id": "Vg63ZttVKObP",
    "outputId": "5943fa9c-ab35-4372-cf79-2af61fce1f4e"
   },
   "outputs": [
    {
     "name": "stdout",
     "output_type": "stream",
     "text": [
      "Mounted at /content/drive\n"
     ]
    },
    {
     "name": "stderr",
     "output_type": "stream",
     "text": [
      "/usr/local/lib/python3.11/dist-packages/huggingface_hub/utils/_auth.py:94: UserWarning: \n",
      "The secret `HF_TOKEN` does not exist in your Colab secrets.\n",
      "To authenticate with the Hugging Face Hub, create a token in your settings tab (https://huggingface.co/settings/tokens), set it as secret in your Google Colab and restart your session.\n",
      "You will be able to reuse this secret in all of your notebooks.\n",
      "Please note that authentication is recommended but still optional to access public models or datasets.\n",
      "  warnings.warn(\n"
     ]
    },
    {
     "data": {
      "application/vnd.jupyter.widget-view+json": {
       "model_id": "13e5b22507b64dc783bdd74e681ab9fd",
       "version_major": 2,
       "version_minor": 0
      },
      "text/plain": [
       "tokenizer_config.json:   0%|          | 0.00/25.0 [00:00<?, ?B/s]"
      ]
     },
     "metadata": {},
     "output_type": "display_data"
    },
    {
     "data": {
      "application/vnd.jupyter.widget-view+json": {
       "model_id": "bb75fe504142469897cd755894cea361",
       "version_major": 2,
       "version_minor": 0
      },
      "text/plain": [
       "config.json:   0%|          | 0.00/481 [00:00<?, ?B/s]"
      ]
     },
     "metadata": {},
     "output_type": "display_data"
    },
    {
     "data": {
      "application/vnd.jupyter.widget-view+json": {
       "model_id": "cdad8a8ecf3044329ee0abcba5d0ce12",
       "version_major": 2,
       "version_minor": 0
      },
      "text/plain": [
       "vocab.json:   0%|          | 0.00/899k [00:00<?, ?B/s]"
      ]
     },
     "metadata": {},
     "output_type": "display_data"
    },
    {
     "data": {
      "application/vnd.jupyter.widget-view+json": {
       "model_id": "984d7d4b68494cd7974ab93a852eaecf",
       "version_major": 2,
       "version_minor": 0
      },
      "text/plain": [
       "merges.txt:   0%|          | 0.00/456k [00:00<?, ?B/s]"
      ]
     },
     "metadata": {},
     "output_type": "display_data"
    },
    {
     "data": {
      "application/vnd.jupyter.widget-view+json": {
       "model_id": "39e338e0d3a54abb87fd8b7a56a88971",
       "version_major": 2,
       "version_minor": 0
      },
      "text/plain": [
       "tokenizer.json:   0%|          | 0.00/1.36M [00:00<?, ?B/s]"
      ]
     },
     "metadata": {},
     "output_type": "display_data"
    },
    {
     "data": {
      "application/vnd.jupyter.widget-view+json": {
       "model_id": "772c1bdd7d6e4133917c9fdab56d27a3",
       "version_major": 2,
       "version_minor": 0
      },
      "text/plain": [
       "model.safetensors:   0%|          | 0.00/499M [00:00<?, ?B/s]"
      ]
     },
     "metadata": {},
     "output_type": "display_data"
    },
    {
     "name": "stderr",
     "output_type": "stream",
     "text": [
      "Some weights of RobertaForSequenceClassification were not initialized from the model checkpoint at roberta-base and are newly initialized: ['classifier.dense.bias', 'classifier.dense.weight', 'classifier.out_proj.bias', 'classifier.out_proj.weight']\n",
      "You should probably TRAIN this model on a down-stream task to be able to use it for predictions and inference.\n"
     ]
    },
    {
     "name": "stdout",
     "output_type": "stream",
     "text": [
      "\n",
      "🔧 Pruning 0% of weights...\n"
     ]
    },
    {
     "name": "stderr",
     "output_type": "stream",
     "text": [
      "Some weights of RobertaForSequenceClassification were not initialized from the model checkpoint at roberta-base and are newly initialized: ['classifier.dense.bias', 'classifier.dense.weight', 'classifier.out_proj.bias', 'classifier.out_proj.weight']\n",
      "You should probably TRAIN this model on a down-stream task to be able to use it for predictions and inference.\n"
     ]
    },
    {
     "name": "stdout",
     "output_type": "stream",
     "text": [
      "✅ Acc: 0.8354 | F1: 0.8402 | Latency: 1.81ms/sample | Size: 498.68 MB\n",
      "\n",
      "🔧 Pruning 10% of weights...\n"
     ]
    },
    {
     "name": "stderr",
     "output_type": "stream",
     "text": [
      "Some weights of RobertaForSequenceClassification were not initialized from the model checkpoint at roberta-base and are newly initialized: ['classifier.dense.bias', 'classifier.dense.weight', 'classifier.out_proj.bias', 'classifier.out_proj.weight']\n",
      "You should probably TRAIN this model on a down-stream task to be able to use it for predictions and inference.\n"
     ]
    },
    {
     "name": "stdout",
     "output_type": "stream",
     "text": [
      "✅ Acc: 0.8307 | F1: 0.8367 | Latency: 2.08ms/sample | Size: 840.82 MB\n",
      "\n",
      "🔧 Pruning 20% of weights...\n"
     ]
    },
    {
     "name": "stderr",
     "output_type": "stream",
     "text": [
      "Some weights of RobertaForSequenceClassification were not initialized from the model checkpoint at roberta-base and are newly initialized: ['classifier.dense.bias', 'classifier.dense.weight', 'classifier.out_proj.bias', 'classifier.out_proj.weight']\n",
      "You should probably TRAIN this model on a down-stream task to be able to use it for predictions and inference.\n"
     ]
    },
    {
     "name": "stdout",
     "output_type": "stream",
     "text": [
      "✅ Acc: 0.8304 | F1: 0.8369 | Latency: 2.08ms/sample | Size: 840.82 MB\n",
      "\n",
      "🔧 Pruning 30% of weights...\n"
     ]
    },
    {
     "name": "stderr",
     "output_type": "stream",
     "text": [
      "Some weights of RobertaForSequenceClassification were not initialized from the model checkpoint at roberta-base and are newly initialized: ['classifier.dense.bias', 'classifier.dense.weight', 'classifier.out_proj.bias', 'classifier.out_proj.weight']\n",
      "You should probably TRAIN this model on a down-stream task to be able to use it for predictions and inference.\n"
     ]
    },
    {
     "name": "stdout",
     "output_type": "stream",
     "text": [
      "✅ Acc: 0.7894 | F1: 0.7942 | Latency: 2.08ms/sample | Size: 840.82 MB\n",
      "\n",
      "🔧 Pruning 40% of weights...\n"
     ]
    },
    {
     "name": "stderr",
     "output_type": "stream",
     "text": [
      "Some weights of RobertaForSequenceClassification were not initialized from the model checkpoint at roberta-base and are newly initialized: ['classifier.dense.bias', 'classifier.dense.weight', 'classifier.out_proj.bias', 'classifier.out_proj.weight']\n",
      "You should probably TRAIN this model on a down-stream task to be able to use it for predictions and inference.\n"
     ]
    },
    {
     "name": "stdout",
     "output_type": "stream",
     "text": [
      "✅ Acc: 0.6411 | F1: 0.5994 | Latency: 2.08ms/sample | Size: 840.82 MB\n",
      "\n",
      "🔧 Pruning 50% of weights...\n"
     ]
    },
    {
     "name": "stderr",
     "output_type": "stream",
     "text": [
      "Some weights of RobertaForSequenceClassification were not initialized from the model checkpoint at roberta-base and are newly initialized: ['classifier.dense.bias', 'classifier.dense.weight', 'classifier.out_proj.bias', 'classifier.out_proj.weight']\n",
      "You should probably TRAIN this model on a down-stream task to be able to use it for predictions and inference.\n"
     ]
    },
    {
     "name": "stdout",
     "output_type": "stream",
     "text": [
      "✅ Acc: 0.4776 | F1: 0.3522 | Latency: 2.08ms/sample | Size: 840.82 MB\n",
      "\n",
      "🔧 Pruning 60% of weights...\n"
     ]
    },
    {
     "name": "stderr",
     "output_type": "stream",
     "text": [
      "Some weights of RobertaForSequenceClassification were not initialized from the model checkpoint at roberta-base and are newly initialized: ['classifier.dense.bias', 'classifier.dense.weight', 'classifier.out_proj.bias', 'classifier.out_proj.weight']\n",
      "You should probably TRAIN this model on a down-stream task to be able to use it for predictions and inference.\n"
     ]
    },
    {
     "name": "stdout",
     "output_type": "stream",
     "text": [
      "✅ Acc: 0.2517 | F1: 0.0865 | Latency: 2.06ms/sample | Size: 840.82 MB\n",
      "\n",
      "🔧 Pruning 70% of weights...\n"
     ]
    },
    {
     "name": "stderr",
     "output_type": "stream",
     "text": [
      "Some weights of RobertaForSequenceClassification were not initialized from the model checkpoint at roberta-base and are newly initialized: ['classifier.dense.bias', 'classifier.dense.weight', 'classifier.out_proj.bias', 'classifier.out_proj.weight']\n",
      "You should probably TRAIN this model on a down-stream task to be able to use it for predictions and inference.\n"
     ]
    },
    {
     "name": "stdout",
     "output_type": "stream",
     "text": [
      "✅ Acc: 0.2493 | F1: 0.0798 | Latency: 2.07ms/sample | Size: 840.82 MB\n",
      "\n",
      "🔧 Pruning 80% of weights...\n"
     ]
    },
    {
     "name": "stderr",
     "output_type": "stream",
     "text": [
      "Some weights of RobertaForSequenceClassification were not initialized from the model checkpoint at roberta-base and are newly initialized: ['classifier.dense.bias', 'classifier.dense.weight', 'classifier.out_proj.bias', 'classifier.out_proj.weight']\n",
      "You should probably TRAIN this model on a down-stream task to be able to use it for predictions and inference.\n"
     ]
    },
    {
     "name": "stdout",
     "output_type": "stream",
     "text": [
      "✅ Acc: 0.2672 | F1: 0.1175 | Latency: 2.05ms/sample | Size: 840.82 MB\n",
      "\n",
      "🔧 Pruning 89% of weights...\n"
     ]
    },
    {
     "name": "stderr",
     "output_type": "stream",
     "text": [
      "Some weights of RobertaForSequenceClassification were not initialized from the model checkpoint at roberta-base and are newly initialized: ['classifier.dense.bias', 'classifier.dense.weight', 'classifier.out_proj.bias', 'classifier.out_proj.weight']\n",
      "You should probably TRAIN this model on a down-stream task to be able to use it for predictions and inference.\n"
     ]
    },
    {
     "name": "stdout",
     "output_type": "stream",
     "text": [
      "✅ Acc: 0.2493 | F1: 0.0798 | Latency: 2.04ms/sample | Size: 840.82 MB\n",
      "\n",
      "📄 Sweep results saved to: /content/drive/MyDrive/adv_dl_models_final2_best/roberta_prune_sweep_results.json\n"
     ]
    },
    {
     "data": {
      "image/png": "[encoded data removed]",
      "text/plain": [
       "<Figure size 800x500 with 1 Axes>"
      ]
     },
     "metadata": {},
     "output_type": "display_data"
    },
    {
     "name": "stdout",
     "output_type": "stream",
     "text": [
      "📊 Plot saved to: /content/drive/MyDrive/adv_dl_models_final2_best/roberta_prune_sweep_plot.png\n"
     ]
    },
    {
     "data": {
      "image/png": "[encoded data removed]",
      "text/plain": [
       "<Figure size 800x500 with 1 Axes>"
      ]
     },
     "metadata": {},
     "output_type": "display_data"
    },
    {
     "name": "stdout",
     "output_type": "stream",
     "text": [
      "📊 Size plot saved to: /content/drive/MyDrive/adv_dl_models_final2_best/roberta_prune_size_plot.png\n"
     ]
    },
    {
     "data": {
      "image/png": "[encoded data removed]",
      "text/plain": [
       "<Figure size 800x500 with 1 Axes>"
      ]
     },
     "metadata": {},
     "output_type": "display_data"
    },
    {
     "name": "stdout",
     "output_type": "stream",
     "text": [
      "📊 Plot saved to: /content/drive/MyDrive/adv_dl_models_final2_best/roberta_prune_sweep_plot.png\n"
     ]
    },
    {
     "data": {
      "image/png": "[encoded data removed]",
      "text/plain": [
       "<Figure size 800x500 with 1 Axes>"
      ]
     },
     "metadata": {},
     "output_type": "display_data"
    },
    {
     "name": "stdout",
     "output_type": "stream",
     "text": [
      "📊 Latency plot saved to: /content/drive/MyDrive/adv_dl_models_final2_best/roberta_prune_sweep_latency.png\n"
     ]
    }
   ],
   "source": [
    "import os, time, json, torch, numpy as np\n",
    "import pandas as pd\n",
    "import matplotlib.pyplot as plt\n",
    "import torch.nn.utils.prune as prune\n",
    "from transformers import AutoTokenizer, AutoModelForSequenceClassification\n",
    "from sklearn.metrics import accuracy_score, f1_score, classification_report\n",
    "# from google.colab import drive\n",
    "\n",
    "# # --- Mount Drive ---\n",
    "# drive.mount(\"/content/drive\")\n",
    "\n",
    "# --- Device and constants ---\n",
    "DEVICE   = \"cuda\" if torch.cuda.is_available() else \"cpu\"\n",
    "MAX_LEN  = 512\n",
    "BATCH_SZ = 8\n",
    "ORDER = [\"extremely negative\", \"negative\", \"neutral\", \"positive\", \"extremely positive\"]\n",
    "LABEL2ID = {lab: i for i, lab in enumerate(ORDER)}\n",
    "TRAIN_ORDER_SET2 = [\"Neutral\", \"Positive\", \"Extremely Negative\", \"Negative\", \"Extremely Positive\"]\n",
    "TRAIN_ORDER_SET2 = [x.strip().lower() for x in TRAIN_ORDER_SET2]\n",
    "LOGIT_REORDER_MAP = [ORDER.index(label) for label in TRAIN_ORDER_SET2]\n",
    "\n",
    "# --- Load and prepare test set ---\n",
    "df_test = pd.read_csv(\"Corona_NLP_test_cleaned_translated.csv\")\n",
    "\n",
    "def normalize_label(s: str) -> str:\n",
    "    s = str(s).strip().lower()\n",
    "    s = s.replace(\"very negative\", \"extremely negative\")\n",
    "    s = s.replace(\"very positive\", \"extremely positive\")\n",
    "    s = s.replace(\"extreme negative\", \"extremely negative\")\n",
    "    s = s.replace(\"extreme positive\", \"extremely positive\")\n",
    "    return s\n",
    "\n",
    "df_test[\"label\"] = df_test[\"Sentiment\"].apply(normalize_label).map(LABEL2ID)\n",
    "df_test[\"text\"]  = df_test[\"OriginalTweet\"].astype(str)\n",
    "test_df = df_test.dropna(subset=[\"text\", \"label\"]).reset_index(drop=True)\n",
    "\n",
    "# --- Evaluation function ---\n",
    "def eval_model(model, tok, test_df, batch_size=32, reorder_map=None):\n",
    "    model.eval()\n",
    "    labels, preds_all, times = [], [], []\n",
    "    with torch.no_grad():\n",
    "        for start in range(0, len(test_df), batch_size):\n",
    "            texts = test_df[\"text\"].tolist()[start:start+batch_size]\n",
    "            labs  = test_df[\"label\"].tolist()[start:start+batch_size]\n",
    "            enc = tok(texts, truncation=True, padding=True, max_length=MAX_LEN, return_tensors=\"pt\").to(DEVICE)\n",
    "            t0 = time.time()\n",
    "            logits = model(**enc).logits\n",
    "            if reorder_map is not None:\n",
    "                logits = logits[:, reorder_map]\n",
    "            times.append((time.time() - t0) / logits.size(0))\n",
    "            preds_all.extend(logits.argmax(-1).cpu().numpy().tolist())\n",
    "            labels.extend(labs)\n",
    "    acc = accuracy_score(labels, preds_all)\n",
    "    f1m = f1_score(labels, preds_all, average=\"macro\")\n",
    "    return acc, f1m, np.mean(times)\n",
    "\n",
    "# --- Model size function ---\n",
    "def get_model_size_mb(model, path=\"temp_model.pt\"):\n",
    "    torch.save(model.state_dict(), path)\n",
    "    size_mb = os.path.getsize(path) / 1e6\n",
    "    os.remove(path)\n",
    "    return size_mb\n",
    "\n",
    "# --- Load tokenizer and base model ---\n",
    "tok = AutoTokenizer.from_pretrained(\"roberta-base\")\n",
    "model_base_path = \"adv_dl_models_final2_best/roberta_base_best_set2.pt\"\n",
    "base_model = AutoModelForSequenceClassification.from_pretrained(\"roberta-base\", num_labels=len(ORDER))\n",
    "base_model.load_state_dict(torch.load(model_base_path, map_location=\"cpu\"))\n",
    "\n",
    "# --- Pruning sweep ---\n",
    "results = []\n",
    "save_dir = \"adv_dl_models_final2_best\"\n",
    "os.makedirs(save_dir, exist_ok=True)\n",
    "\n",
    "percentages = np.round(np.arange(0.0, 0.9, 0.1), 2).tolist()  # [0.0, 0.1, ..., 0.8]\n",
    "percentages.append(0.89)\n",
    "\n",
    "for pct in percentages:\n",
    "    print(f\"\\n🔧 Pruning {pct*100:.0f}% of weights...\")\n",
    "    model = AutoModelForSequenceClassification.from_pretrained(\"roberta-base\", num_labels=len(ORDER))\n",
    "    model.load_state_dict(torch.load(model_base_path, map_location=\"cpu\"))\n",
    "    model.eval()\n",
    "\n",
    "    if pct > 0.0:\n",
    "        parameters_to_prune = []\n",
    "        for name, module in model.named_modules():\n",
    "            if isinstance(module, torch.nn.Linear):\n",
    "                parameters_to_prune.append((module, 'weight'))\n",
    "        prune.global_unstructured(parameters_to_prune, pruning_method=prune.L1Unstructured, amount=pct)\n",
    "\n",
    "    model.to(DEVICE)\n",
    "    acc, f1m, latency = eval_model(model, tok, test_df, batch_size=BATCH_SZ, reorder_map=LOGIT_REORDER_MAP)\n",
    "    size_mb = get_model_size_mb(model)\n",
    "    print(f\"✅ Acc: {acc:.4f} | F1: {f1m:.4f} | Latency: {latency*1000:.2f}ms/sample | Size: {size_mb:.2f} MB\")\n",
    "\n",
    "    results.append({\n",
    "        \"prune_pct\": round(pct, 2),\n",
    "        \"accuracy\": round(acc, 4),\n",
    "        \"macro_f1\": round(f1m, 4),\n",
    "        \"latency_ms_per_sample\": round(latency * 1000, 2),\n",
    "        \"size_mb\": round(size_mb, 2)\n",
    "    })\n",
    "\n",
    "# --- Save JSON results ---\n",
    "json_path = os.path.join(save_dir, \"roberta_prune_sweep_results.json\")\n",
    "with open(json_path, \"w\") as f:\n",
    "    json.dump(results, f, indent=2)\n",
    "print(f\"\\n📄 Sweep results saved to: {json_path}\")\n",
    "\n",
    "# --- Plot results ---\n",
    "x = [r[\"prune_pct\"] for r in results]\n",
    "y_acc = [r[\"accuracy\"] for r in results]\n",
    "y_f1 = [r[\"macro_f1\"] for r in results]\n",
    "y_size = [r[\"size_mb\"] for r in results]\n",
    "\n",
    "plt.figure(figsize=(8, 5))\n",
    "plt.plot(x, y_acc, label=\"Accuracy\", marker=\"o\")\n",
    "plt.plot(x, y_f1, label=\"Macro-F1\", marker=\"s\")\n",
    "plt.xlabel(\"Pruned % of Weights\")\n",
    "plt.ylabel(\"Score\")\n",
    "plt.title(\"Performance vs. Pruning Percentage\")\n",
    "plt.grid(True)\n",
    "plt.legend()\n",
    "plot_path = os.path.join(save_dir, \"roberta_prune_sweep_plot.png\")\n",
    "plt.savefig(plot_path)\n",
    "plt.show()\n",
    "print(f\"📊 Plot saved to: {plot_path}\")\n",
    "\n",
    "# --- Extra plot: Model size ---\n",
    "plt.figure(figsize=(8, 5))\n",
    "plt.plot(x, y_size, label=\"Model Size (MB)\", marker=\"^\", color=\"red\")\n",
    "plt.xlabel(\"Pruned % of Weights\")\n",
    "plt.ylabel(\"Size (MB)\")\n",
    "plt.title(\"Model Size vs. Pruning Percentage\")\n",
    "plt.grid(True)\n",
    "plt.legend()\n",
    "size_plot_path = os.path.join(save_dir, \"roberta_prune_size_plot.png\")\n",
    "plt.savefig(size_plot_path)\n",
    "plt.show()\n",
    "print(f\"📊 Size plot saved to: {size_plot_path}\")\n",
    "\n",
    "\n",
    "# --- Plot results ---\n",
    "x = [r[\"prune_pct\"] for r in results]\n",
    "y_acc = [r[\"accuracy\"] for r in results]\n",
    "y_f1 = [r[\"macro_f1\"] for r in results]\n",
    "y_lat = [r[\"latency_ms_per_sample\"] for r in results]\n",
    "\n",
    "plt.figure(figsize=(8, 5))\n",
    "plt.plot(x, y_acc, label=\"Accuracy\", marker=\"o\")\n",
    "plt.plot(x, y_f1, label=\"Macro-F1\", marker=\"s\")\n",
    "plt.xlabel(\"Pruned % of Weights\")\n",
    "plt.ylabel(\"Score\")\n",
    "plt.title(\"Performance vs. Pruning Percentage\")\n",
    "plt.grid(True)\n",
    "plt.legend()\n",
    "plot_path = os.path.join(save_dir, \"roberta_prune_sweep_plot.png\")\n",
    "plt.savefig(plot_path)\n",
    "plt.show()\n",
    "print(f\"📊 Plot saved to: {plot_path}\")\n",
    "\n",
    "# --- Latency plot ---\n",
    "plt.figure(figsize=(8, 5))\n",
    "plt.plot(x, y_lat, label=\"Latency (ms/sample)\", marker=\"^\", color=\"red\")\n",
    "plt.xlabel(\"Pruned % of Weights\")\n",
    "plt.ylabel(\"Latency (ms/sample)\")\n",
    "plt.title(\"Latency vs. Pruning Percentage\")\n",
    "plt.grid(True)\n",
    "plt.legend()\n",
    "lat_plot_path = os.path.join(save_dir, \"roberta_prune_sweep_latency.png\")\n",
    "plt.savefig(lat_plot_path)\n",
    "plt.show()\n",
    "print(f\"📊 Latency plot saved to: {lat_plot_path}\")\n",
    "\n"
   ]
  },
  {
   "cell_type": "code",
   "execution_count": null,
   "metadata": {
    "colab": {
     "base_uri": "https://localhost:8080/",
     "height": 504
    },
    "executionInfo": {
     "elapsed": 39166,
     "status": "ok",
     "timestamp": 1755518121644,
     "user": {
      "displayName": "גל גוסרסקי",
      "userId": "06195569624382764324"
     },
     "user_tz": -180
    },
    "id": "a_DoSSk9BybX",
    "outputId": "0dbe0b56-e8e7-43eb-ae3e-d05d8cca9e88"
   },
   "outputs": [
    {
     "name": "stdout",
     "output_type": "stream",
     "text": [
      "Mounted at /content/drive\n"
     ]
    },
    {
     "data": {
      "image/png": "[encoded data removed]",
      "text/plain": [
       "<Figure size 800x500 with 1 Axes>"
      ]
     },
     "metadata": {},
     "output_type": "display_data"
    }
   ],
   "source": [
    "import json\n",
    "import matplotlib.pyplot as plt\n",
    "from google.colab import drive\n",
    "\n",
    "# --- Mount Drive ---\n",
    "# drive.mount(\"/content/drive\")\n",
    "# Path to your saved results\n",
    "json_path = \"adv_dl_models_final2_best/roberta_prune_sweep_results.json\"\n",
    "\n",
    "# Load results\n",
    "with open(json_path, \"r\") as f:\n",
    "    results = json.load(f)\n",
    "\n",
    "# Extract values\n",
    "x = [r[\"prune_pct\"] for r in results]\n",
    "lat = [r[\"latency_ms_per_sample\"] for r in results]\n",
    "\n",
    "# Plot\n",
    "plt.figure(figsize=(8,5))\n",
    "plt.plot(x, lat, marker=\"o\", label=\"Latency (ms/sample)\")\n",
    "plt.xlabel(\"Pruned % of Weights\")\n",
    "plt.ylabel(\"Latency (ms per sample)\")\n",
    "plt.title(\"Latency vs. Pruning Percentage\")\n",
    "plt.grid(True)\n",
    "plt.legend()\n",
    "plt.show()\n"
   ]
  },
  {
   "cell_type": "markdown",
   "metadata": {
    "id": "iZd9h76AC3iv"
   },
   "source": [
    "# ✂️ Pruning Results – RoBERTa-base (EX5)\n",
    "\n",
    "## 📊 Sweep Outcomes\n",
    "We pruned the fine-tuned **RoBERTa-base** (Set2) model at different percentages and tracked **accuracy, macro-F1, latency, and size**.\n",
    "\n",
    "| Pruning % | Accuracy | Macro-F1 | Latency (ms/sample) | Size (MB) |\n",
    "|-----------|----------|----------|----------------------|-----------|\n",
    "| 0%        | 0.8354   | 0.8402   | 1.81                 | 498.68    |\n",
    "| 10%       | 0.8307   | 0.8367   | 2.08                 | 840.82    |\n",
    "| 20%       | 0.8304   | 0.8369   | 2.08                 | 840.82    |\n",
    "| 30%       | 0.7894   | 0.7942   | 2.08                 | 840.82    |\n",
    "| 40%       | 0.6411   | 0.5994   | 2.08                 | 840.82    |\n",
    "| 50%       | 0.4776   | 0.3522   | 2.08                 | 840.82    |\n",
    "| 60%       | 0.2517   | 0.0865   | 2.06                 | 840.82    |\n",
    "| 70%       | 0.2493   | 0.0798   | 2.07                 | 840.82    |\n",
    "| 80%       | 0.2672   | 0.1175   | 2.05                 | 840.82    |\n",
    "| 89%       | 0.2493   | 0.0798   | 2.04                 | 840.82    |\n",
    "\n",
    "📂 Results saved to:  \n",
    "`adv_dl_models_final2_best/roberta_prune_sweep_results.json`  \n",
    "\n",
    "---\n",
    "\n",
    "## 📉 Plot Insights\n",
    "\n",
    "### 1. Latency vs. Pruning %\n",
    "- Latency remained flat (~2ms/sample) regardless of pruning.  \n",
    "- Reason: **Unstructured pruning** masks weights but keeps matrix dimensions intact, so kernels still process full tensors.  \n",
    "- ➡️ **Conclusion**: pruning doesn’t improve speed without sparse-aware kernels.\n",
    "\n",
    "### 2. Accuracy / F1 vs. Pruning %\n",
    "- Stable until **~20% pruning** (Acc/F1 ≈ baseline).  \n",
    "- Sharp collapse beyond 30%: accuracy dropped below **0.65 at 40%** and below **0.5 at 50%**.  \n",
    "- From 60% onward the model nearly collapsed (F1 < 0.1).  \n",
    "- The tiny uptick at 80% is noise, not a true recovery.\n",
    "\n",
    "---\n",
    "\n",
    "## ✅ Takeaways\n",
    "- **Safe zone**: ≤20% pruning → performance is near-baseline.  \n",
    "- **Danger zone**: >30% pruning → severe degradation.  \n",
    "- **Latency**: unchanged under vanilla PyTorch pruning.  \n",
    "- **Best trade-off**: prune lightly (≤20%) if you need **size reduction** with minimal accuracy loss.  \n",
    "\n",
    "\n",
    "\n",
    "## 🎯 Overall Summary\n",
    "\n",
    "Accuracy trade-off: Pruning up to ~20% is safe, beyond that accuracy collapses.\n",
    "\n",
    "Latency trade-off: Gains are minimal, unstructured pruning doesn’t help much for inference speed.\n",
    "\n",
    "Conclusion: Unstructured pruning is useful for model size reduction (storage), not for speed. For real speedups, structured pruning or sparse-aware runtimes are needed."
   ]
  },
  {
   "cell_type": "code",
   "execution_count": null,
   "metadata": {
    "colab": {
     "base_uri": "https://localhost:8080/",
     "height": 1000
    },
    "executionInfo": {
     "elapsed": 201484,
     "status": "ok",
     "timestamp": 1755608563966,
     "user": {
      "displayName": "גל גוסרסקי",
      "userId": "06195569624382764324"
     },
     "user_tz": -180
    },
    "id": "ATDG_DEgQsY_",
    "outputId": "b70ec140-1ef7-4246-c056-f4823ff628ae"
   },
   "outputs": [],
   "source": [
    "# # === Compatible versions ===\n",
    "# !pip install --upgrade --force-reinstall --no-cache-dir \\\n",
    "#   transformers==4.43.3 \\\n",
    "#   accelerate==0.30.1 \\\n",
    "#   datasets==2.20.0 \\\n",
    "#   evaluate==0.4.2 \\\n",
    "#   optuna==3.6.1 \\\n",
    "#   wandb==0.17.5 \\\n",
    "#   fsspec==2024.5.0 \\\n",
    "#   gcsfs==2024.5.0"
   ]
  },
  {
   "cell_type": "markdown",
   "metadata": {},
   "source": [
    "# 🎓 Knowledge Distillation (KD) with Optuna + Early Stopping + W&B (EX5)\n",
    "\n",
    "### Teacher = RoBERTa-base (Set2 checkpoint)  \n",
    "### Student = DistilRoBERTa-base  \n",
    "\n",
    "---\n",
    "\n",
    "## 📖 What is KD?  \n",
    "Knowledge Distillation (KD) transfers knowledge from a **large, accurate model (teacher)** to a **smaller, faster model (student)**.  \n",
    "The student doesn’t just learn from ground-truth labels but also from the teacher’s **soft probability distributions**, which encode inter-class similarities.  \n",
    "This helps the student reach teacher-like performance while being **lighter, faster, and easier to deploy**.\n",
    "\n",
    "---\n",
    "\n",
    "## ⚙️ Our Setup  \n",
    "- **Teacher**: Fine-tuned RoBERTa-base (Set2 sentiment classification).  \n",
    "- **Student**: DistilRoBERTa-base (6 layers, ~40% fewer params than RoBERTa).  \n",
    "- **Loss**:  \n",
    "  - **Cross-entropy loss** (student vs. true labels)  \n",
    "  - **KL divergence** (student vs. teacher logits), weighted by **α** and scaled by **temperature T**.  \n",
    "- **Optimization**:  \n",
    "  - Hyperparameter search via **Optuna** (10 trials).  \n",
    "  - **Early stopping** with patience=3.  \n",
    "- **Monitoring**: Accuracy, Macro-F1, per-class F1, latency, and size tracked with **Weights & Biases (W&B)**.  \n",
    "- **Goal**: A compressed student that is **smaller and faster** without losing much accuracy.  \n",
    "\n",
    "---\n",
    "\n",
    "## 📊 Teacher vs. Student (Efficiency)\n",
    "\n",
    "| Model              | Layers | Params (M) | Size (MB) | Latency (ms/sample) |\n",
    "|--------------------|--------|------------|-----------|----------------------|\n",
    "| **RoBERTa-base** (Teacher)   | 12     | ~125M      | ~498 MB   | ~1.8–2.0 ms         |\n",
    "| **DistilRoBERTa-base** (Student) | 6      | ~82M       | ~290 MB   | ~1.0 ms             |\n",
    "\n",
    "> ✅ The student is **~40% smaller** and faster. KD helps it recover lost accuracy compared to naïve fine-tuning.\n",
    "\n",
    "---\n",
    "\n",
    "## 🔍 Optuna Hyperparameter Search  \n",
    "We tuned:  \n",
    "- **α (0.2–0.8):** balance between teacher vs. ground-truth supervision.  \n",
    "- **T (1–5):** temperature for smoothing teacher predictions.  \n",
    "- **Learning rate (1e-6 – 5e-5, log scale).**  \n",
    "- **Fine-tuned layers (2–6):** number of DistilRoBERTa encoder layers unfrozen.  \n",
    "- **Epochs (2–10)** with early stopping.  \n",
    "\n",
    "---\n",
    "\n",
    "## 📂 Outputs  \n",
    "- Logs and metrics saved to W&B project `KD_optuna_ex5`.  \n",
    "- Best trial (JSON) with α, T, learning rate, epochs, size, and latency:  \n",
    "  - `KD_optuna_ex5/best_study.json`  \n",
    "- Student checkpoint available for downstream deployment.  \n",
    "\n",
    "---\n",
    "\n",
    "## ✅ Takeaways  \n",
    "- KD enables **DistilRoBERTa** to approach RoBERTa-base performance.  \n",
    "- The right **α–T combination** balances supervision from teacher vs. labels.  \n",
    "- The student is **much smaller and faster**, ideal for real-world inference.  \n",
    "- KD is an effective complement to **quantization** and **pruning** in the compression pipeline.  \n"
   ]
  },
  {
   "cell_type": "markdown",
   "metadata": {},
   "source": [
    "# Training"
   ]
  },
  {
   "cell_type": "code",
   "execution_count": null,
   "metadata": {
    "colab": {
     "base_uri": "https://localhost:8080/",
     "height": 1000,
     "referenced_widgets": [
      "18ebb87aa3844a20a6fe1daac52b96e8",
      "0e217050b7ec4fea862e9a1d75a4d87c",
      "1de6db5597b24c739df58c5ea07cf1ba",
      "c9a7e8790019489aa7735ce94e8b64da",
      "1e78e2498e8f4b3aa5fc941b0498e0eb",
      "51b31924c6f24fd09dcdb895d04658c6",
      "f81d964782b7454fa6cf3783f6a0428e",
      "d5a7440af9fd4192a0a214faab06ad30",
      "61db47b751d24c53a4c93f159b38c507",
      "8efd69d3821d4499b9fb5af8cfe9505e",
      "0a7af31b3a7f4092a766a2275369b583",
      "c9a2f400df5d4a28ab599c6f0ccceda9",
      "cfee40090c1c4172a9528fc3e88f6393",
      "ce8250fda3394383aedaf9ae7855d9ab",
      "214f4c5ff1524a3e971d5a55bcd805df",
      "290b388d2d2446ceb9c74babfbcdc503",
      "6aa805ba6e2d46c98172e4f8c7725114",
      "d6e0b3559be5474d8f0727a62a0adf61",
      "06bbae24e48741b887a55c582e7016d3",
      "a2b571675f70419b9963ea412a6231c2",
      "b2f4d7f1f7c1485293592ba950f7d636",
      "6a0f7d42174d4defb126171e0d3069eb",
      "885aedd574c14a009201d9a7a44f9888",
      "3120408a3fd34db888fe29eaeac26a86",
      "fc947b48b5c4461bb10156e54f83b1d9",
      "09745850bd4f4ed999a528e556ac459d",
      "9f8c38af51da408a8e78ad0ffa111e18",
      "8205cb8f8d3f4773a71be25799838514",
      "a8a5cc7dc1fb4b5ea92316b23c55acd4",
      "e7c3689c70754e0e86a7188f7960f523",
      "4a34dbd2087f4d08a3d8a5f0303a2898",
      "3b9d182cf8254078a10084e92f63c5f2",
      "fa82dba71aa74f259ebb85e9d5430e5d",
      "f14521a32e0840269b09a59b0917dfa9",
      "584795e068024b60a79ec368a898ed7a",
      "f5f2bc1d9dce4ebdaf4c4f3aaa5e5f25",
      "e96d59667c804777918ec5b62ac6f493",
      "b8bfe7b9973a47b580846c65db903bb6",
      "1445e57b4e074e5fb13b0984ad8b3230",
      "f546a30252d6453cbf758d2568cf8d34",
      "1b3a6e1c1c114ffeace5dc01ef32bc35",
      "4995e03af8f243b2b3f6da088d6b29a2",
      "7cd47e5a5ea44d83a4b21e869592bc66",
      "19a3badbc15c4ef78cca3f7a3687767b",
      "1cd53268763348f88ad6d65a4e3afc70",
      "dc0379efed47483c93cc59415d8d72f4",
      "f7131299a1134e84807dc13474db55dc",
      "29841e9e46034d7e83635068d70f9abd",
      "03b023d759ea4807b55d8b06dced5a1c",
      "2208184de4ac46c2997f81809f31dfef",
      "6a5d3730add844fcb0c327a35f1eb478",
      "49a90a89f02b4f4590bd90864fbeb404",
      "2b1865425d05402c839f8661147c0c64",
      "895c3429dfac4a25921831ae78030c3c",
      "1fe5e3f456044f8498852e4ce96802c9",
      "196fa283fd064789b7b68172e9b4a579",
      "6817390e76db4b96bafe3cefd0da1115",
      "653207817c114e96965c785c7bbcc8ce",
      "8b9b634add42413589b8613fe6e18b78",
      "356c58ae15c04397916ae4bce46c3150",
      "45d868f01d294e6c867167c6733758d6",
      "328129f5e7f04c2d8e1d24503e0e30c6",
      "fc22db951926427592ac0cc9beb46919",
      "2375fff5cf5d4575bbc00142542b1969",
      "066f8381b96e4b769e7dd92f956d3ae9",
      "e4ccb83306444c0a90fc7f5fc8c40750",
      "9f970140ad774694b01531e0a24b1903",
      "5e235e72ec2548ebb5486bac35e88c33",
      "dc6ec0bfdda44186bf0e283a02b27967",
      "5555f4fa6f63485991a62caa06641c9b",
      "cda5ec4e2a2f4e3bbec60201a7f315c7",
      "1b005c119d044ace9dd457f6b52cfcc1",
      "5947b93264774c42825080d5b1b4a87c",
      "dac01a2eff8f4688aaa69351ff61fac8",
      "c945bb0ba8ca44b0850692ba77a4ea14",
      "5fb07ce2a68f4368be62ca44e05ca547",
      "7d53766f303f425f96dd91ffc5017ddf",
      "ae377ce5cf2c40cda3f1c73ec877aac4",
      "37a8e80f8ef54ccb80dde56338da1a2e",
      "8ce5000e8b2a4297a1327710fa525349",
      "913cee813592402dab565af3078236f6",
      "c5d4118d634944b58c2ca4a1ec49aebd",
      "783f7ce82ace49d5ab4890e7bde1e37d",
      "23789341eec843219bf482bad9656976",
      "6ab592ebd6d74f10918016687ad1aead",
      "fd662faa71a447e983c74b8d4f84daba",
      "fc67445a27be40aea321975289fd6195",
      "440775984e554c0c8ebe2afde834aac4",
      "b5a27beac6f643ccbf52cef33735d80c",
      "6ce30ed87aa34ca38bc6589dd59b3bce",
      "be7607c2d5834549a579c283391cc27a",
      "50cda0c8d8e6409b9413081e893222a2",
      "9ae979f472a24a029152ee0228c5d25b",
      "0670009127f74697a9567b31d3ed6cea",
      "4a8592b0dd814f5f86f728d1728ab42c",
      "04285feb091e40da84a6fff824d91959",
      "de141ef5120a49758d4d6597c788e50c",
      "0849ac26a57c49fda490b3e367d0b876",
      "da5dd3bc8cdf4156aee20c8ae769ee10",
      "a6d5bcb523d747e4af6c033c3e356ea7",
      "1d938ce434c94837bc0e646b343f921e",
      "d9dacf2ad9be43ea9e9feddbd34e9abd",
      "9dd7b83289e247698eafecbe42777ae5",
      "c4d0ba44179245dc8f2f0315302c0966"
     ]
    },
    "executionInfo": {
     "elapsed": 45854565,
     "status": "ok",
     "timestamp": 1755583694510,
     "user": {
      "displayName": "גל גוסרסקי",
      "userId": "06195569624382764324"
     },
     "user_tz": -180
    },
    "id": "o6R8HRI9LIEp",
    "outputId": "59287015-68ef-4a4f-8568-9d47bba18267"
   },
   "outputs": [
    {
     "name": "stdout",
     "output_type": "stream",
     "text": [
      "Drive already mounted at /content/drive; to attempt to forcibly remount, call drive.mount(\"/content/drive\", force_remount=True).\n",
      "✅ Using device: cuda\n",
      "✅ Teacher path set: /content/drive/MyDrive/adv_dl_models_final2_best/roberta_base_best_set2.pt\n",
      "✅ Label mapping: {'Neutral': 0, 'Positive': 1, 'Extremely Negative': 2, 'Negative': 3, 'Extremely Positive': 4}\n",
      "✅ Tokenizer loaded\n",
      "✅ DataLoaders ready: train=5145, test=475\n"
     ]
    },
    {
     "name": "stderr",
     "output_type": "stream",
     "text": [
      "[I 2025-08-18 17:24:04,104] A new study created in memory with name: no-name-87c58f32-6a9a-4217-b48f-36067f2501c8\n"
     ]
    },
    {
     "name": "stdout",
     "output_type": "stream",
     "text": [
      "✅ Teacher loaded & frozen with correct label mapping\n",
      "🚀 Starting Optuna\n",
      "\n",
      "🔎 Trial 0 | alpha=0.7008698066570154, T=2.514980932547203, epochs=6, fine_tune_layers=3, lr=3.6709280903940954e-05\n"
     ]
    },
    {
     "data": {
      "text/html": [
       "Finishing last run (ID:myavafuo) before initializing another..."
      ],
      "text/plain": [
       "<IPython.core.display.HTML object>"
      ]
     },
     "metadata": {},
     "output_type": "display_data"
    },
    {
     "data": {
      "application/vnd.jupyter.widget-view+json": {
       "model_id": "18ebb87aa3844a20a6fe1daac52b96e8",
       "version_major": 2,
       "version_minor": 0
      },
      "text/plain": [
       "VBox(children=(Label(value='0.002 MB of 0.002 MB uploaded\\r'), FloatProgress(value=1.0, max=1.0)))"
      ]
     },
     "metadata": {},
     "output_type": "display_data"
    },
    {
     "data": {
      "text/html": [
       "<style>\n",
       "    table.wandb td:nth-child(1) { padding: 0 10px; text-align: left ; width: auto;} td:nth-child(2) {text-align: left ; width: 100%}\n",
       "    .wandb-row { display: flex; flex-direction: row; flex-wrap: wrap; justify-content: flex-start; width: 100% }\n",
       "    .wandb-col { display: flex; flex-direction: column; flex-basis: 100%; flex: 1; padding: 10px; }\n",
       "    </style>\n",
       "<div class=\"wandb-row\"><div class=\"wandb-col\"><h3>Run history:</h3><br/><table class=\"wandb\"><tr><td>F1_Extremely Negative</td><td>▁</td></tr><tr><td>F1_Extremely Positive</td><td>▁</td></tr><tr><td>F1_Negative</td><td>▁</td></tr><tr><td>F1_Neutral</td><td>▁</td></tr><tr><td>F1_Positive</td><td>▁</td></tr><tr><td>epoch</td><td>▁▁▁▁▁▁▁▁▁▁▁▁▁▁▁▁▁▁▁▁████████████████████</td></tr><tr><td>step</td><td>▁▁▂▂▃▃▃▄▄▄▅▅▅▆▆▇▇▇██▁▁▂▂▂▃▃▄▄▄▅▅▅▆▆▆▇▇██</td></tr><tr><td>train_loss</td><td>█▇▇▇▇▇▇▅▆█▇▄▆▅▅▅▅▄▂▅▃▂▄▃▃▃▂▃▂▁▂▆▅▇▆▂▃▃▂▃</td></tr><tr><td>val_acc</td><td>▁</td></tr><tr><td>val_macro_f1</td><td>▁</td></tr></table><br/></div><div class=\"wandb-col\"><h3>Run summary:</h3><br/><table class=\"wandb\"><tr><td>F1_Extremely Negative</td><td>0.57902</td></tr><tr><td>F1_Extremely Positive</td><td>0.59497</td></tr><tr><td>F1_Negative</td><td>0.44579</td></tr><tr><td>F1_Neutral</td><td>0.56071</td></tr><tr><td>F1_Positive</td><td>0.42415</td></tr><tr><td>epoch</td><td>2</td></tr><tr><td>step</td><td>5047</td></tr><tr><td>train_loss</td><td>3.40721</td></tr><tr><td>val_acc</td><td>0.50579</td></tr><tr><td>val_macro_f1</td><td>0.52093</td></tr></table><br/></div></div>"
      ],
      "text/plain": [
       "<IPython.core.display.HTML object>"
      ]
     },
     "metadata": {},
     "output_type": "display_data"
    },
    {
     "data": {
      "text/html": [
       " View run <strong style=\"color:#cdcd00\">trial_2</strong> at: <a href='https://wandb.ai/gal2361-tel-aviv-university/KD_optuna/runs/myavafuo' target=\"_blank\">https://wandb.ai/gal2361-tel-aviv-university/KD_optuna/runs/myavafuo</a><br/> View project at: <a href='https://wandb.ai/gal2361-tel-aviv-university/KD_optuna' target=\"_blank\">https://wandb.ai/gal2361-tel-aviv-university/KD_optuna</a><br/>Synced 5 W&B file(s), 0 media file(s), 0 artifact file(s) and 0 other file(s)"
      ],
      "text/plain": [
       "<IPython.core.display.HTML object>"
      ]
     },
     "metadata": {},
     "output_type": "display_data"
    },
    {
     "data": {
      "text/html": [
       "Find logs at: <code>./wandb/run-20250818_165309-myavafuo/logs</code>"
      ],
      "text/plain": [
       "<IPython.core.display.HTML object>"
      ]
     },
     "metadata": {},
     "output_type": "display_data"
    },
    {
     "data": {
      "text/html": [
       "The new W&B backend becomes opt-out in version 0.18.0; try it out with `wandb.require(\"core\")`! See https://wandb.me/wandb-core for more information."
      ],
      "text/plain": [
       "<IPython.core.display.HTML object>"
      ]
     },
     "metadata": {},
     "output_type": "display_data"
    },
    {
     "data": {
      "text/html": [
       "Successfully finished last run (ID:myavafuo). Initializing new run:<br/>"
      ],
      "text/plain": [
       "<IPython.core.display.HTML object>"
      ]
     },
     "metadata": {},
     "output_type": "display_data"
    },
    {
     "data": {
      "application/vnd.jupyter.widget-view+json": {
       "model_id": "61db47b751d24c53a4c93f159b38c507",
       "version_major": 2,
       "version_minor": 0
      },
      "text/plain": [
       "VBox(children=(Label(value='Waiting for wandb.init()...\\r'), FloatProgress(value=0.011113312966679384, max=1.0…"
      ]
     },
     "metadata": {},
     "output_type": "display_data"
    },
    {
     "data": {
      "text/html": [
       "wandb version 0.21.1 is available!  To upgrade, please run:\n",
       " $ pip install wandb --upgrade"
      ],
      "text/plain": [
       "<IPython.core.display.HTML object>"
      ]
     },
     "metadata": {},
     "output_type": "display_data"
    },
    {
     "data": {
      "text/html": [
       "Tracking run with wandb version 0.17.5"
      ],
      "text/plain": [
       "<IPython.core.display.HTML object>"
      ]
     },
     "metadata": {},
     "output_type": "display_data"
    },
    {
     "data": {
      "text/html": [
       "Run data is saved locally in <code>/content/wandb/run-20250818_172404-tuakerhj</code>"
      ],
      "text/plain": [
       "<IPython.core.display.HTML object>"
      ]
     },
     "metadata": {},
     "output_type": "display_data"
    },
    {
     "data": {
      "text/html": [
       "Syncing run <strong><a href='https://wandb.ai/gal2361-tel-aviv-university/KD_optuna/runs/tuakerhj' target=\"_blank\">trial_0</a></strong> to <a href='https://wandb.ai/gal2361-tel-aviv-university/KD_optuna' target=\"_blank\">Weights & Biases</a> (<a href='https://wandb.me/run' target=\"_blank\">docs</a>)<br/>"
      ],
      "text/plain": [
       "<IPython.core.display.HTML object>"
      ]
     },
     "metadata": {},
     "output_type": "display_data"
    },
    {
     "data": {
      "text/html": [
       " View project at <a href='https://wandb.ai/gal2361-tel-aviv-university/KD_optuna' target=\"_blank\">https://wandb.ai/gal2361-tel-aviv-university/KD_optuna</a>"
      ],
      "text/plain": [
       "<IPython.core.display.HTML object>"
      ]
     },
     "metadata": {},
     "output_type": "display_data"
    },
    {
     "data": {
      "text/html": [
       " View run at <a href='https://wandb.ai/gal2361-tel-aviv-university/KD_optuna/runs/tuakerhj' target=\"_blank\">https://wandb.ai/gal2361-tel-aviv-university/KD_optuna/runs/tuakerhj</a>"
      ],
      "text/plain": [
       "<IPython.core.display.HTML object>"
      ]
     },
     "metadata": {},
     "output_type": "display_data"
    },
    {
     "name": "stderr",
     "output_type": "stream",
     "text": [
      "Some weights of RobertaForSequenceClassification were not initialized from the model checkpoint at distilroberta-base and are newly initialized: ['classifier.dense.bias', 'classifier.dense.weight', 'classifier.out_proj.bias', 'classifier.out_proj.weight']\n",
      "You should probably TRAIN this model on a down-stream task to be able to use it for predictions and inference.\n",
      "/usr/local/lib/python3.11/dist-packages/transformers/optimization.py:591: FutureWarning: This implementation of AdamW is deprecated and will be removed in a future version. Use the PyTorch implementation torch.optim.AdamW instead, or set `no_deprecation_warning=True` to disable this warning\n",
      "  warnings.warn(\n"
     ]
    },
    {
     "name": "stdout",
     "output_type": "stream",
     "text": [
      "✅ Student (distilroberta-base) initialized with correct num_labels and matching tokenizer\n",
      "   🔓 Unfroze student layer 4 / 6\n",
      "   🔓 Unfroze student layer 5 / 6\n",
      "   🔓 Unfroze student layer 6 / 6\n",
      "✅ Unfroze last 3 layers + classifier\n",
      "\n",
      "▶️ Epoch 1/6\n"
     ]
    },
    {
     "name": "stderr",
     "output_type": "stream",
     "text": [
      "Trial 0 Epoch 1: 100%|██████████| 5145/5145 [10:50<00:00,  7.91it/s, loss=1.59]\n"
     ]
    },
    {
     "name": "stdout",
     "output_type": "stream",
     "text": [
      "📊 Epoch 1 done. Val Macro-F1=0.6875, Acc=0.6717\n",
      "   ✅ New best F1\n",
      "\n",
      "▶️ Epoch 2/6\n"
     ]
    },
    {
     "name": "stderr",
     "output_type": "stream",
     "text": [
      "Trial 0 Epoch 2: 100%|██████████| 5145/5145 [10:50<00:00,  7.91it/s, loss=0.769]\n"
     ]
    },
    {
     "name": "stdout",
     "output_type": "stream",
     "text": [
      "📊 Epoch 2 done. Val Macro-F1=0.7136, Acc=0.7009\n",
      "   ✅ New best F1\n",
      "\n",
      "▶️ Epoch 3/6\n"
     ]
    },
    {
     "name": "stderr",
     "output_type": "stream",
     "text": [
      "Trial 0 Epoch 3: 100%|██████████| 5145/5145 [10:49<00:00,  7.92it/s, loss=1.18]\n"
     ]
    },
    {
     "name": "stdout",
     "output_type": "stream",
     "text": [
      "📊 Epoch 3 done. Val Macro-F1=0.7582, Acc=0.7488\n",
      "   ✅ New best F1\n",
      "\n",
      "▶️ Epoch 4/6\n"
     ]
    },
    {
     "name": "stderr",
     "output_type": "stream",
     "text": [
      "Trial 0 Epoch 4: 100%|██████████| 5145/5145 [10:48<00:00,  7.93it/s, loss=2.17]\n"
     ]
    },
    {
     "name": "stdout",
     "output_type": "stream",
     "text": [
      "📊 Epoch 4 done. Val Macro-F1=0.7750, Acc=0.7646\n",
      "   ✅ New best F1\n",
      "\n",
      "▶️ Epoch 5/6\n"
     ]
    },
    {
     "name": "stderr",
     "output_type": "stream",
     "text": [
      "Trial 0 Epoch 5: 100%|██████████| 5145/5145 [10:49<00:00,  7.93it/s, loss=0.117]\n"
     ]
    },
    {
     "name": "stdout",
     "output_type": "stream",
     "text": [
      "📊 Epoch 5 done. Val Macro-F1=0.7678, Acc=0.7575\n",
      "   ⚠️ No improvement. Patience counter=1\n",
      "\n",
      "▶️ Epoch 6/6\n"
     ]
    },
    {
     "name": "stderr",
     "output_type": "stream",
     "text": [
      "Trial 0 Epoch 6: 100%|██████████| 5145/5145 [10:50<00:00,  7.91it/s, loss=1.95]\n"
     ]
    },
    {
     "name": "stdout",
     "output_type": "stream",
     "text": [
      "📊 Epoch 6 done. Val Macro-F1=0.7696, Acc=0.7586\n",
      "   ⚠️ No improvement. Patience counter=2\n",
      "📦 Model size: 313.31 MB | ⏱️ Latency: 3.75 ms/sample\n"
     ]
    },
    {
     "data": {
      "application/vnd.jupyter.widget-view+json": {
       "model_id": "6aa805ba6e2d46c98172e4f8c7725114",
       "version_major": 2,
       "version_minor": 0
      },
      "text/plain": [
       "VBox(children=(Label(value='0.002 MB of 0.002 MB uploaded\\r'), FloatProgress(value=1.0, max=1.0)))"
      ]
     },
     "metadata": {},
     "output_type": "display_data"
    },
    {
     "data": {
      "text/html": [
       "<style>\n",
       "    table.wandb td:nth-child(1) { padding: 0 10px; text-align: left ; width: auto;} td:nth-child(2) {text-align: left ; width: 100%}\n",
       "    .wandb-row { display: flex; flex-direction: row; flex-wrap: wrap; justify-content: flex-start; width: 100% }\n",
       "    .wandb-col { display: flex; flex-direction: column; flex-basis: 100%; flex: 1; padding: 10px; }\n",
       "    </style>\n",
       "<div class=\"wandb-row\"><div class=\"wandb-col\"><h3>Run history:</h3><br/><table class=\"wandb\"><tr><td>F1_Extremely Negative</td><td>▁▁████</td></tr><tr><td>F1_Extremely Positive</td><td>▁▄▂▇▆█</td></tr><tr><td>F1_Negative</td><td>▁▂██▇▇</td></tr><tr><td>F1_Neutral</td><td>▁▆▇███</td></tr><tr><td>F1_Positive</td><td>▁▃▇█▇▇</td></tr><tr><td>epoch</td><td>▁▁▁▁▁▁▁▂▂▂▂▂▂▂▄▄▄▄▄▄▅▅▅▅▅▅▅▇▇▇▇▇▇███████</td></tr><tr><td>latency_ms</td><td>▁</td></tr><tr><td>model_size_mb</td><td>▁</td></tr><tr><td>step</td><td>▁▂▃▄▆▇█▂▃▄▅▆▇█▂▃▄▅▆▇▁▃▄▅▆▇█▂▃▄▅▆▇▁▂▃▄▅▆█</td></tr><tr><td>train_loss</td><td>▇▄▅█▂▄▃▆▃▄▆▆▅▂▄▇▆▂▂▆█▃▂▃▂▁▁▂▅▄▂▁▃▃▂▁▄▁▄▁</td></tr><tr><td>val_acc</td><td>▁▃▇█▇█</td></tr><tr><td>val_macro_f1</td><td>▁▃▇█▇█</td></tr></table><br/></div><div class=\"wandb-col\"><h3>Run summary:</h3><br/><table class=\"wandb\"><tr><td>F1_Extremely Negative</td><td>0.7901</td></tr><tr><td>F1_Extremely Positive</td><td>0.8</td></tr><tr><td>F1_Negative</td><td>0.72452</td></tr><tr><td>F1_Neutral</td><td>0.82363</td></tr><tr><td>F1_Positive</td><td>0.70961</td></tr><tr><td>epoch</td><td>6</td></tr><tr><td>latency_ms</td><td>3.75251</td></tr><tr><td>model_size_mb</td><td>313.31335</td></tr><tr><td>step</td><td>5144</td></tr><tr><td>train_loss</td><td>1.94608</td></tr><tr><td>val_acc</td><td>0.75856</td></tr><tr><td>val_macro_f1</td><td>0.76957</td></tr></table><br/></div></div>"
      ],
      "text/plain": [
       "<IPython.core.display.HTML object>"
      ]
     },
     "metadata": {},
     "output_type": "display_data"
    },
    {
     "data": {
      "text/html": [
       " View run <strong style=\"color:#cdcd00\">trial_0</strong> at: <a href='https://wandb.ai/gal2361-tel-aviv-university/KD_optuna/runs/tuakerhj' target=\"_blank\">https://wandb.ai/gal2361-tel-aviv-university/KD_optuna/runs/tuakerhj</a><br/> View project at: <a href='https://wandb.ai/gal2361-tel-aviv-university/KD_optuna' target=\"_blank\">https://wandb.ai/gal2361-tel-aviv-university/KD_optuna</a><br/>Synced 5 W&B file(s), 0 media file(s), 0 artifact file(s) and 0 other file(s)"
      ],
      "text/plain": [
       "<IPython.core.display.HTML object>"
      ]
     },
     "metadata": {},
     "output_type": "display_data"
    },
    {
     "data": {
      "text/html": [
       "Find logs at: <code>./wandb/run-20250818_172404-tuakerhj/logs</code>"
      ],
      "text/plain": [
       "<IPython.core.display.HTML object>"
      ]
     },
     "metadata": {},
     "output_type": "display_data"
    },
    {
     "data": {
      "text/html": [
       "The new W&B backend becomes opt-out in version 0.18.0; try it out with `wandb.require(\"core\")`! See https://wandb.me/wandb-core for more information."
      ],
      "text/plain": [
       "<IPython.core.display.HTML object>"
      ]
     },
     "metadata": {},
     "output_type": "display_data"
    },
    {
     "name": "stderr",
     "output_type": "stream",
     "text": [
      "[I 2025-08-18 18:31:01,154] Trial 0 finished with value: 0.7749869372143101 and parameters: {'alpha': 0.7008698066570154, 'T': 2.514980932547203, 'epochs': 6, 'fine_tune_layers': 3, 'learning_rate': 3.6709280903940954e-05}. Best is trial 0 with value: 0.7749869372143101.\n"
     ]
    },
    {
     "name": "stdout",
     "output_type": "stream",
     "text": [
      "\n",
      "🔎 Trial 1 | alpha=0.5829613398595244, T=2.523451029830776, epochs=6, fine_tune_layers=2, lr=8.866033255955432e-06\n"
     ]
    },
    {
     "data": {
      "text/html": [
       "wandb version 0.21.1 is available!  To upgrade, please run:\n",
       " $ pip install wandb --upgrade"
      ],
      "text/plain": [
       "<IPython.core.display.HTML object>"
      ]
     },
     "metadata": {},
     "output_type": "display_data"
    },
    {
     "data": {
      "text/html": [
       "Tracking run with wandb version 0.17.5"
      ],
      "text/plain": [
       "<IPython.core.display.HTML object>"
      ]
     },
     "metadata": {},
     "output_type": "display_data"
    },
    {
     "data": {
      "text/html": [
       "Run data is saved locally in <code>/content/wandb/run-20250818_183101-wshazb2s</code>"
      ],
      "text/plain": [
       "<IPython.core.display.HTML object>"
      ]
     },
     "metadata": {},
     "output_type": "display_data"
    },
    {
     "data": {
      "text/html": [
       "Syncing run <strong><a href='https://wandb.ai/gal2361-tel-aviv-university/KD_optuna/runs/wshazb2s' target=\"_blank\">trial_1</a></strong> to <a href='https://wandb.ai/gal2361-tel-aviv-university/KD_optuna' target=\"_blank\">Weights & Biases</a> (<a href='https://wandb.me/run' target=\"_blank\">docs</a>)<br/>"
      ],
      "text/plain": [
       "<IPython.core.display.HTML object>"
      ]
     },
     "metadata": {},
     "output_type": "display_data"
    },
    {
     "data": {
      "text/html": [
       " View project at <a href='https://wandb.ai/gal2361-tel-aviv-university/KD_optuna' target=\"_blank\">https://wandb.ai/gal2361-tel-aviv-university/KD_optuna</a>"
      ],
      "text/plain": [
       "<IPython.core.display.HTML object>"
      ]
     },
     "metadata": {},
     "output_type": "display_data"
    },
    {
     "data": {
      "text/html": [
       " View run at <a href='https://wandb.ai/gal2361-tel-aviv-university/KD_optuna/runs/wshazb2s' target=\"_blank\">https://wandb.ai/gal2361-tel-aviv-university/KD_optuna/runs/wshazb2s</a>"
      ],
      "text/plain": [
       "<IPython.core.display.HTML object>"
      ]
     },
     "metadata": {},
     "output_type": "display_data"
    },
    {
     "name": "stderr",
     "output_type": "stream",
     "text": [
      "Some weights of RobertaForSequenceClassification were not initialized from the model checkpoint at distilroberta-base and are newly initialized: ['classifier.dense.bias', 'classifier.dense.weight', 'classifier.out_proj.bias', 'classifier.out_proj.weight']\n",
      "You should probably TRAIN this model on a down-stream task to be able to use it for predictions and inference.\n",
      "/usr/local/lib/python3.11/dist-packages/transformers/optimization.py:591: FutureWarning: This implementation of AdamW is deprecated and will be removed in a future version. Use the PyTorch implementation torch.optim.AdamW instead, or set `no_deprecation_warning=True` to disable this warning\n",
      "  warnings.warn(\n"
     ]
    },
    {
     "name": "stdout",
     "output_type": "stream",
     "text": [
      "✅ Student (distilroberta-base) initialized with correct num_labels and matching tokenizer\n",
      "   🔓 Unfroze student layer 5 / 6\n",
      "   🔓 Unfroze student layer 6 / 6\n",
      "✅ Unfroze last 2 layers + classifier\n",
      "\n",
      "▶️ Epoch 1/6\n"
     ]
    },
    {
     "name": "stderr",
     "output_type": "stream",
     "text": [
      "Trial 1 Epoch 1: 100%|██████████| 5145/5145 [09:59<00:00,  8.59it/s, loss=1.97]\n"
     ]
    },
    {
     "name": "stdout",
     "output_type": "stream",
     "text": [
      "📊 Epoch 1 done. Val Macro-F1=0.5822, Acc=0.5692\n",
      "   ✅ New best F1\n",
      "\n",
      "▶️ Epoch 2/6\n"
     ]
    },
    {
     "name": "stderr",
     "output_type": "stream",
     "text": [
      "Trial 1 Epoch 2: 100%|██████████| 5145/5145 [09:59<00:00,  8.59it/s, loss=1.05]\n"
     ]
    },
    {
     "name": "stdout",
     "output_type": "stream",
     "text": [
      "📊 Epoch 2 done. Val Macro-F1=0.6245, Acc=0.6064\n",
      "   ✅ New best F1\n",
      "\n",
      "▶️ Epoch 3/6\n"
     ]
    },
    {
     "name": "stderr",
     "output_type": "stream",
     "text": [
      "Trial 1 Epoch 3: 100%|██████████| 5145/5145 [09:59<00:00,  8.59it/s, loss=2.15]\n"
     ]
    },
    {
     "name": "stdout",
     "output_type": "stream",
     "text": [
      "📊 Epoch 3 done. Val Macro-F1=0.6538, Acc=0.6380\n",
      "   ✅ New best F1\n",
      "\n",
      "▶️ Epoch 4/6\n"
     ]
    },
    {
     "name": "stderr",
     "output_type": "stream",
     "text": [
      "Trial 1 Epoch 4: 100%|██████████| 5145/5145 [09:59<00:00,  8.59it/s, loss=1.55]\n"
     ]
    },
    {
     "name": "stdout",
     "output_type": "stream",
     "text": [
      "📊 Epoch 4 done. Val Macro-F1=0.6539, Acc=0.6388\n",
      "   ✅ New best F1\n",
      "\n",
      "▶️ Epoch 5/6\n"
     ]
    },
    {
     "name": "stderr",
     "output_type": "stream",
     "text": [
      "Trial 1 Epoch 5: 100%|██████████| 5145/5145 [09:59<00:00,  8.59it/s, loss=1.08]\n"
     ]
    },
    {
     "name": "stdout",
     "output_type": "stream",
     "text": [
      "📊 Epoch 5 done. Val Macro-F1=0.6521, Acc=0.6367\n",
      "   ⚠️ No improvement. Patience counter=1\n",
      "\n",
      "▶️ Epoch 6/6\n"
     ]
    },
    {
     "name": "stderr",
     "output_type": "stream",
     "text": [
      "Trial 1 Epoch 6: 100%|██████████| 5145/5145 [09:59<00:00,  8.58it/s, loss=1.22]\n"
     ]
    },
    {
     "name": "stdout",
     "output_type": "stream",
     "text": [
      "📊 Epoch 6 done. Val Macro-F1=0.6669, Acc=0.6522\n",
      "   ✅ New best F1\n",
      "📦 Model size: 313.31 MB | ⏱️ Latency: 3.75 ms/sample\n"
     ]
    },
    {
     "data": {
      "application/vnd.jupyter.widget-view+json": {
       "model_id": "fc947b48b5c4461bb10156e54f83b1d9",
       "version_major": 2,
       "version_minor": 0
      },
      "text/plain": [
       "VBox(children=(Label(value='0.002 MB of 0.002 MB uploaded\\r'), FloatProgress(value=1.0, max=1.0)))"
      ]
     },
     "metadata": {},
     "output_type": "display_data"
    },
    {
     "data": {
      "text/html": [
       "<style>\n",
       "    table.wandb td:nth-child(1) { padding: 0 10px; text-align: left ; width: auto;} td:nth-child(2) {text-align: left ; width: 100%}\n",
       "    .wandb-row { display: flex; flex-direction: row; flex-wrap: wrap; justify-content: flex-start; width: 100% }\n",
       "    .wandb-col { display: flex; flex-direction: column; flex-basis: 100%; flex: 1; padding: 10px; }\n",
       "    </style>\n",
       "<div class=\"wandb-row\"><div class=\"wandb-col\"><h3>Run history:</h3><br/><table class=\"wandb\"><tr><td>F1_Extremely Negative</td><td>▁▄▆▆▇█</td></tr><tr><td>F1_Extremely Positive</td><td>▁▅▇███</td></tr><tr><td>F1_Negative</td><td>▁▄▆▅▅█</td></tr><tr><td>F1_Neutral</td><td>▁▅█▇▇█</td></tr><tr><td>F1_Positive</td><td>▁▅████</td></tr><tr><td>epoch</td><td>▁▁▁▁▁▁▁▂▂▂▂▂▂▂▄▄▄▄▄▄▅▅▅▅▅▅▅▇▇▇▇▇▇███████</td></tr><tr><td>latency_ms</td><td>▁</td></tr><tr><td>model_size_mb</td><td>▁</td></tr><tr><td>step</td><td>▁▂▃▄▆▇█▂▃▄▅▆▇█▂▃▄▅▆▇▁▃▄▅▆▇█▂▃▄▅▆▇▁▂▃▄▅▆█</td></tr><tr><td>train_loss</td><td>█▄▅▄▄▃▅▆▅▅▄▃▃▃▄▂▄▃▅▆▂▅▂▄▂▄▃▃▅▅▂▂▂▅▃▂▄▂▆▁</td></tr><tr><td>val_acc</td><td>▁▄▇▇▇█</td></tr><tr><td>val_macro_f1</td><td>▁▄▇▇▇█</td></tr></table><br/></div><div class=\"wandb-col\"><h3>Run summary:</h3><br/><table class=\"wandb\"><tr><td>F1_Extremely Negative</td><td>0.71084</td></tr><tr><td>F1_Extremely Positive</td><td>0.71671</td></tr><tr><td>F1_Negative</td><td>0.6002</td></tr><tr><td>F1_Neutral</td><td>0.73603</td></tr><tr><td>F1_Positive</td><td>0.57081</td></tr><tr><td>epoch</td><td>6</td></tr><tr><td>latency_ms</td><td>3.74731</td></tr><tr><td>model_size_mb</td><td>313.31335</td></tr><tr><td>step</td><td>5144</td></tr><tr><td>train_loss</td><td>1.22089</td></tr><tr><td>val_acc</td><td>0.65219</td></tr><tr><td>val_macro_f1</td><td>0.66692</td></tr></table><br/></div></div>"
      ],
      "text/plain": [
       "<IPython.core.display.HTML object>"
      ]
     },
     "metadata": {},
     "output_type": "display_data"
    },
    {
     "data": {
      "text/html": [
       " View run <strong style=\"color:#cdcd00\">trial_1</strong> at: <a href='https://wandb.ai/gal2361-tel-aviv-university/KD_optuna/runs/wshazb2s' target=\"_blank\">https://wandb.ai/gal2361-tel-aviv-university/KD_optuna/runs/wshazb2s</a><br/> View project at: <a href='https://wandb.ai/gal2361-tel-aviv-university/KD_optuna' target=\"_blank\">https://wandb.ai/gal2361-tel-aviv-university/KD_optuna</a><br/>Synced 5 W&B file(s), 0 media file(s), 0 artifact file(s) and 0 other file(s)"
      ],
      "text/plain": [
       "<IPython.core.display.HTML object>"
      ]
     },
     "metadata": {},
     "output_type": "display_data"
    },
    {
     "data": {
      "text/html": [
       "Find logs at: <code>./wandb/run-20250818_183101-wshazb2s/logs</code>"
      ],
      "text/plain": [
       "<IPython.core.display.HTML object>"
      ]
     },
     "metadata": {},
     "output_type": "display_data"
    },
    {
     "data": {
      "text/html": [
       "The new W&B backend becomes opt-out in version 0.18.0; try it out with `wandb.require(\"core\")`! See https://wandb.me/wandb-core for more information."
      ],
      "text/plain": [
       "<IPython.core.display.HTML object>"
      ]
     },
     "metadata": {},
     "output_type": "display_data"
    },
    {
     "name": "stderr",
     "output_type": "stream",
     "text": [
      "[I 2025-08-18 19:32:43,288] Trial 1 finished with value: 0.6669174267684517 and parameters: {'alpha': 0.5829613398595244, 'T': 2.523451029830776, 'epochs': 6, 'fine_tune_layers': 2, 'learning_rate': 8.866033255955432e-06}. Best is trial 0 with value: 0.7749869372143101.\n"
     ]
    },
    {
     "name": "stdout",
     "output_type": "stream",
     "text": [
      "\n",
      "🔎 Trial 2 | alpha=0.3651052545062762, T=1.9702352539429193, epochs=8, fine_tune_layers=3, lr=4.1592522466910086e-05\n"
     ]
    },
    {
     "data": {
      "text/html": [
       "wandb version 0.21.1 is available!  To upgrade, please run:\n",
       " $ pip install wandb --upgrade"
      ],
      "text/plain": [
       "<IPython.core.display.HTML object>"
      ]
     },
     "metadata": {},
     "output_type": "display_data"
    },
    {
     "data": {
      "text/html": [
       "Tracking run with wandb version 0.17.5"
      ],
      "text/plain": [
       "<IPython.core.display.HTML object>"
      ]
     },
     "metadata": {},
     "output_type": "display_data"
    },
    {
     "data": {
      "text/html": [
       "Run data is saved locally in <code>/content/wandb/run-20250818_193243-094r2k3q</code>"
      ],
      "text/plain": [
       "<IPython.core.display.HTML object>"
      ]
     },
     "metadata": {},
     "output_type": "display_data"
    },
    {
     "data": {
      "text/html": [
       "Syncing run <strong><a href='https://wandb.ai/gal2361-tel-aviv-university/KD_optuna/runs/094r2k3q' target=\"_blank\">trial_2</a></strong> to <a href='https://wandb.ai/gal2361-tel-aviv-university/KD_optuna' target=\"_blank\">Weights & Biases</a> (<a href='https://wandb.me/run' target=\"_blank\">docs</a>)<br/>"
      ],
      "text/plain": [
       "<IPython.core.display.HTML object>"
      ]
     },
     "metadata": {},
     "output_type": "display_data"
    },
    {
     "data": {
      "text/html": [
       " View project at <a href='https://wandb.ai/gal2361-tel-aviv-university/KD_optuna' target=\"_blank\">https://wandb.ai/gal2361-tel-aviv-university/KD_optuna</a>"
      ],
      "text/plain": [
       "<IPython.core.display.HTML object>"
      ]
     },
     "metadata": {},
     "output_type": "display_data"
    },
    {
     "data": {
      "text/html": [
       " View run at <a href='https://wandb.ai/gal2361-tel-aviv-university/KD_optuna/runs/094r2k3q' target=\"_blank\">https://wandb.ai/gal2361-tel-aviv-university/KD_optuna/runs/094r2k3q</a>"
      ],
      "text/plain": [
       "<IPython.core.display.HTML object>"
      ]
     },
     "metadata": {},
     "output_type": "display_data"
    },
    {
     "name": "stderr",
     "output_type": "stream",
     "text": [
      "Some weights of RobertaForSequenceClassification were not initialized from the model checkpoint at distilroberta-base and are newly initialized: ['classifier.dense.bias', 'classifier.dense.weight', 'classifier.out_proj.bias', 'classifier.out_proj.weight']\n",
      "You should probably TRAIN this model on a down-stream task to be able to use it for predictions and inference.\n",
      "/usr/local/lib/python3.11/dist-packages/transformers/optimization.py:591: FutureWarning: This implementation of AdamW is deprecated and will be removed in a future version. Use the PyTorch implementation torch.optim.AdamW instead, or set `no_deprecation_warning=True` to disable this warning\n",
      "  warnings.warn(\n"
     ]
    },
    {
     "name": "stdout",
     "output_type": "stream",
     "text": [
      "✅ Student (distilroberta-base) initialized with correct num_labels and matching tokenizer\n",
      "   🔓 Unfroze student layer 4 / 6\n",
      "   🔓 Unfroze student layer 5 / 6\n",
      "   🔓 Unfroze student layer 6 / 6\n",
      "✅ Unfroze last 3 layers + classifier\n",
      "\n",
      "▶️ Epoch 1/8\n"
     ]
    },
    {
     "name": "stderr",
     "output_type": "stream",
     "text": [
      "Trial 2 Epoch 1: 100%|██████████| 5145/5145 [10:52<00:00,  7.89it/s, loss=1.1]\n"
     ]
    },
    {
     "name": "stdout",
     "output_type": "stream",
     "text": [
      "📊 Epoch 1 done. Val Macro-F1=0.6754, Acc=0.6656\n",
      "   ✅ New best F1\n",
      "\n",
      "▶️ Epoch 2/8\n"
     ]
    },
    {
     "name": "stderr",
     "output_type": "stream",
     "text": [
      "Trial 2 Epoch 2: 100%|██████████| 5145/5145 [10:51<00:00,  7.89it/s, loss=0.887]\n"
     ]
    },
    {
     "name": "stdout",
     "output_type": "stream",
     "text": [
      "📊 Epoch 2 done. Val Macro-F1=0.7223, Acc=0.7088\n",
      "   ✅ New best F1\n",
      "\n",
      "▶️ Epoch 3/8\n"
     ]
    },
    {
     "name": "stderr",
     "output_type": "stream",
     "text": [
      "Trial 2 Epoch 3: 100%|██████████| 5145/5145 [10:51<00:00,  7.90it/s, loss=0.0514]\n"
     ]
    },
    {
     "name": "stdout",
     "output_type": "stream",
     "text": [
      "📊 Epoch 3 done. Val Macro-F1=0.7560, Acc=0.7470\n",
      "   ✅ New best F1\n",
      "\n",
      "▶️ Epoch 4/8\n"
     ]
    },
    {
     "name": "stderr",
     "output_type": "stream",
     "text": [
      "Trial 2 Epoch 4: 100%|██████████| 5145/5145 [10:51<00:00,  7.90it/s, loss=1.25]\n"
     ]
    },
    {
     "name": "stdout",
     "output_type": "stream",
     "text": [
      "📊 Epoch 4 done. Val Macro-F1=0.7599, Acc=0.7491\n",
      "   ✅ New best F1\n",
      "\n",
      "▶️ Epoch 5/8\n"
     ]
    },
    {
     "name": "stderr",
     "output_type": "stream",
     "text": [
      "Trial 2 Epoch 5: 100%|██████████| 5145/5145 [10:52<00:00,  7.89it/s, loss=0.553]\n"
     ]
    },
    {
     "name": "stdout",
     "output_type": "stream",
     "text": [
      "📊 Epoch 5 done. Val Macro-F1=0.7652, Acc=0.7546\n",
      "   ✅ New best F1\n",
      "\n",
      "▶️ Epoch 6/8\n"
     ]
    },
    {
     "name": "stderr",
     "output_type": "stream",
     "text": [
      "Trial 2 Epoch 6: 100%|██████████| 5145/5145 [10:51<00:00,  7.89it/s, loss=0.0283]\n"
     ]
    },
    {
     "name": "stdout",
     "output_type": "stream",
     "text": [
      "📊 Epoch 6 done. Val Macro-F1=0.7644, Acc=0.7538\n",
      "   ⚠️ No improvement. Patience counter=1\n",
      "\n",
      "▶️ Epoch 7/8\n"
     ]
    },
    {
     "name": "stderr",
     "output_type": "stream",
     "text": [
      "Trial 2 Epoch 7: 100%|██████████| 5145/5145 [10:50<00:00,  7.91it/s, loss=0.168]\n"
     ]
    },
    {
     "name": "stdout",
     "output_type": "stream",
     "text": [
      "📊 Epoch 7 done. Val Macro-F1=0.7686, Acc=0.7588\n",
      "   ✅ New best F1\n",
      "\n",
      "▶️ Epoch 8/8\n"
     ]
    },
    {
     "name": "stderr",
     "output_type": "stream",
     "text": [
      "Trial 2 Epoch 8: 100%|██████████| 5145/5145 [10:49<00:00,  7.92it/s, loss=0.0163]\n"
     ]
    },
    {
     "name": "stdout",
     "output_type": "stream",
     "text": [
      "📊 Epoch 8 done. Val Macro-F1=0.7693, Acc=0.7596\n",
      "   ✅ New best F1\n",
      "📦 Model size: 313.31 MB | ⏱️ Latency: 3.72 ms/sample\n"
     ]
    },
    {
     "data": {
      "application/vnd.jupyter.widget-view+json": {
       "model_id": "fa82dba71aa74f259ebb85e9d5430e5d",
       "version_major": 2,
       "version_minor": 0
      },
      "text/plain": [
       "VBox(children=(Label(value='0.002 MB of 0.002 MB uploaded\\r'), FloatProgress(value=1.0, max=1.0)))"
      ]
     },
     "metadata": {},
     "output_type": "display_data"
    },
    {
     "data": {
      "text/html": [
       "<style>\n",
       "    table.wandb td:nth-child(1) { padding: 0 10px; text-align: left ; width: auto;} td:nth-child(2) {text-align: left ; width: 100%}\n",
       "    .wandb-row { display: flex; flex-direction: row; flex-wrap: wrap; justify-content: flex-start; width: 100% }\n",
       "    .wandb-col { display: flex; flex-direction: column; flex-basis: 100%; flex: 1; padding: 10px; }\n",
       "    </style>\n",
       "<div class=\"wandb-row\"><div class=\"wandb-col\"><h3>Run history:</h3><br/><table class=\"wandb\"><tr><td>F1_Extremely Negative</td><td>▁▄▄▇████</td></tr><tr><td>F1_Extremely Positive</td><td>▁▆▇██▇██</td></tr><tr><td>F1_Negative</td><td>▁▄█▆▇▇██</td></tr><tr><td>F1_Neutral</td><td>▁▄▇▇██▇▇</td></tr><tr><td>F1_Positive</td><td>▁▃▇▇▇▇██</td></tr><tr><td>epoch</td><td>▁▁▁▁▁▂▂▂▂▂▃▃▃▃▃▄▄▄▄▄▅▅▅▅▅▆▆▆▆▆▇▇▇▇▇█████</td></tr><tr><td>latency_ms</td><td>▁</td></tr><tr><td>model_size_mb</td><td>▁</td></tr><tr><td>step</td><td>▁▃▄▆▇▁▃▄▆▇▁▃▄▆▇▁▃▄▆▇▁▃▄▆▇▁▃▄▆▇▁▃▄▆▇▁▃▄▆█</td></tr><tr><td>train_loss</td><td>█▆▄▆▄▄▄▇▄▄▃▂▃▄▁▄▅▄▂▂▄▂▁▂▂▂▂▃▂▂▂▂▁▂▂▂▂▂▃▄</td></tr><tr><td>val_acc</td><td>▁▄▇▇████</td></tr><tr><td>val_macro_f1</td><td>▁▄▇▇████</td></tr></table><br/></div><div class=\"wandb-col\"><h3>Run summary:</h3><br/><table class=\"wandb\"><tr><td>F1_Extremely Negative</td><td>0.78977</td></tr><tr><td>F1_Extremely Positive</td><td>0.78297</td></tr><tr><td>F1_Negative</td><td>0.72929</td></tr><tr><td>F1_Neutral</td><td>0.82436</td></tr><tr><td>F1_Positive</td><td>0.72033</td></tr><tr><td>epoch</td><td>8</td></tr><tr><td>latency_ms</td><td>3.71833</td></tr><tr><td>model_size_mb</td><td>313.31335</td></tr><tr><td>step</td><td>5144</td></tr><tr><td>train_loss</td><td>0.01626</td></tr><tr><td>val_acc</td><td>0.75961</td></tr><tr><td>val_macro_f1</td><td>0.76934</td></tr></table><br/></div></div>"
      ],
      "text/plain": [
       "<IPython.core.display.HTML object>"
      ]
     },
     "metadata": {},
     "output_type": "display_data"
    },
    {
     "data": {
      "text/html": [
       " View run <strong style=\"color:#cdcd00\">trial_2</strong> at: <a href='https://wandb.ai/gal2361-tel-aviv-university/KD_optuna/runs/094r2k3q' target=\"_blank\">https://wandb.ai/gal2361-tel-aviv-university/KD_optuna/runs/094r2k3q</a><br/> View project at: <a href='https://wandb.ai/gal2361-tel-aviv-university/KD_optuna' target=\"_blank\">https://wandb.ai/gal2361-tel-aviv-university/KD_optuna</a><br/>Synced 5 W&B file(s), 0 media file(s), 0 artifact file(s) and 0 other file(s)"
      ],
      "text/plain": [
       "<IPython.core.display.HTML object>"
      ]
     },
     "metadata": {},
     "output_type": "display_data"
    },
    {
     "data": {
      "text/html": [
       "Find logs at: <code>./wandb/run-20250818_193243-094r2k3q/logs</code>"
      ],
      "text/plain": [
       "<IPython.core.display.HTML object>"
      ]
     },
     "metadata": {},
     "output_type": "display_data"
    },
    {
     "data": {
      "text/html": [
       "The new W&B backend becomes opt-out in version 0.18.0; try it out with `wandb.require(\"core\")`! See https://wandb.me/wandb-core for more information."
      ],
      "text/plain": [
       "<IPython.core.display.HTML object>"
      ]
     },
     "metadata": {},
     "output_type": "display_data"
    },
    {
     "name": "stderr",
     "output_type": "stream",
     "text": [
      "[I 2025-08-18 21:01:53,983] Trial 2 finished with value: 0.769343447729524 and parameters: {'alpha': 0.3651052545062762, 'T': 1.9702352539429193, 'epochs': 8, 'fine_tune_layers': 3, 'learning_rate': 4.1592522466910086e-05}. Best is trial 0 with value: 0.7749869372143101.\n"
     ]
    },
    {
     "name": "stdout",
     "output_type": "stream",
     "text": [
      "\n",
      "🔎 Trial 3 | alpha=0.2750709694136466, T=2.2774227192428484, epochs=4, fine_tune_layers=4, lr=1.116409401675503e-06\n"
     ]
    },
    {
     "data": {
      "text/html": [
       "wandb version 0.21.1 is available!  To upgrade, please run:\n",
       " $ pip install wandb --upgrade"
      ],
      "text/plain": [
       "<IPython.core.display.HTML object>"
      ]
     },
     "metadata": {},
     "output_type": "display_data"
    },
    {
     "data": {
      "text/html": [
       "Tracking run with wandb version 0.17.5"
      ],
      "text/plain": [
       "<IPython.core.display.HTML object>"
      ]
     },
     "metadata": {},
     "output_type": "display_data"
    },
    {
     "data": {
      "text/html": [
       "Run data is saved locally in <code>/content/wandb/run-20250818_210153-565sukeg</code>"
      ],
      "text/plain": [
       "<IPython.core.display.HTML object>"
      ]
     },
     "metadata": {},
     "output_type": "display_data"
    },
    {
     "data": {
      "text/html": [
       "Syncing run <strong><a href='https://wandb.ai/gal2361-tel-aviv-university/KD_optuna/runs/565sukeg' target=\"_blank\">trial_3</a></strong> to <a href='https://wandb.ai/gal2361-tel-aviv-university/KD_optuna' target=\"_blank\">Weights & Biases</a> (<a href='https://wandb.me/run' target=\"_blank\">docs</a>)<br/>"
      ],
      "text/plain": [
       "<IPython.core.display.HTML object>"
      ]
     },
     "metadata": {},
     "output_type": "display_data"
    },
    {
     "data": {
      "text/html": [
       " View project at <a href='https://wandb.ai/gal2361-tel-aviv-university/KD_optuna' target=\"_blank\">https://wandb.ai/gal2361-tel-aviv-university/KD_optuna</a>"
      ],
      "text/plain": [
       "<IPython.core.display.HTML object>"
      ]
     },
     "metadata": {},
     "output_type": "display_data"
    },
    {
     "data": {
      "text/html": [
       " View run at <a href='https://wandb.ai/gal2361-tel-aviv-university/KD_optuna/runs/565sukeg' target=\"_blank\">https://wandb.ai/gal2361-tel-aviv-university/KD_optuna/runs/565sukeg</a>"
      ],
      "text/plain": [
       "<IPython.core.display.HTML object>"
      ]
     },
     "metadata": {},
     "output_type": "display_data"
    },
    {
     "name": "stderr",
     "output_type": "stream",
     "text": [
      "Some weights of RobertaForSequenceClassification were not initialized from the model checkpoint at distilroberta-base and are newly initialized: ['classifier.dense.bias', 'classifier.dense.weight', 'classifier.out_proj.bias', 'classifier.out_proj.weight']\n",
      "You should probably TRAIN this model on a down-stream task to be able to use it for predictions and inference.\n",
      "/usr/local/lib/python3.11/dist-packages/transformers/optimization.py:591: FutureWarning: This implementation of AdamW is deprecated and will be removed in a future version. Use the PyTorch implementation torch.optim.AdamW instead, or set `no_deprecation_warning=True` to disable this warning\n",
      "  warnings.warn(\n"
     ]
    },
    {
     "name": "stdout",
     "output_type": "stream",
     "text": [
      "✅ Student (distilroberta-base) initialized with correct num_labels and matching tokenizer\n",
      "   🔓 Unfroze student layer 3 / 6\n",
      "   🔓 Unfroze student layer 4 / 6\n",
      "   🔓 Unfroze student layer 5 / 6\n",
      "   🔓 Unfroze student layer 6 / 6\n",
      "✅ Unfroze last 4 layers + classifier\n",
      "\n",
      "▶️ Epoch 1/4\n"
     ]
    },
    {
     "name": "stderr",
     "output_type": "stream",
     "text": [
      "Trial 3 Epoch 1: 100%|██████████| 5145/5145 [11:41<00:00,  7.34it/s, loss=3.83]\n"
     ]
    },
    {
     "name": "stdout",
     "output_type": "stream",
     "text": [
      "📊 Epoch 1 done. Val Macro-F1=0.5083, Acc=0.4939\n",
      "   ✅ New best F1\n",
      "\n",
      "▶️ Epoch 2/4\n"
     ]
    },
    {
     "name": "stderr",
     "output_type": "stream",
     "text": [
      "Trial 3 Epoch 2: 100%|██████████| 5145/5145 [11:40<00:00,  7.34it/s, loss=1.27]\n"
     ]
    },
    {
     "name": "stdout",
     "output_type": "stream",
     "text": [
      "📊 Epoch 2 done. Val Macro-F1=0.5452, Acc=0.5308\n",
      "   ✅ New best F1\n",
      "\n",
      "▶️ Epoch 3/4\n"
     ]
    },
    {
     "name": "stderr",
     "output_type": "stream",
     "text": [
      "Trial 3 Epoch 3: 100%|██████████| 5145/5145 [11:40<00:00,  7.35it/s, loss=2.46]\n"
     ]
    },
    {
     "name": "stdout",
     "output_type": "stream",
     "text": [
      "📊 Epoch 3 done. Val Macro-F1=0.5619, Acc=0.5471\n",
      "   ✅ New best F1\n",
      "\n",
      "▶️ Epoch 4/4\n"
     ]
    },
    {
     "name": "stderr",
     "output_type": "stream",
     "text": [
      "Trial 3 Epoch 4: 100%|██████████| 5145/5145 [11:42<00:00,  7.33it/s, loss=0.792]\n"
     ]
    },
    {
     "name": "stdout",
     "output_type": "stream",
     "text": [
      "📊 Epoch 4 done. Val Macro-F1=0.5669, Acc=0.5521\n",
      "   ✅ New best F1\n",
      "📦 Model size: 313.31 MB | ⏱️ Latency: 3.75 ms/sample\n"
     ]
    },
    {
     "data": {
      "application/vnd.jupyter.widget-view+json": {
       "model_id": "1b3a6e1c1c114ffeace5dc01ef32bc35",
       "version_major": 2,
       "version_minor": 0
      },
      "text/plain": [
       "VBox(children=(Label(value='0.002 MB of 0.002 MB uploaded\\r'), FloatProgress(value=1.0, max=1.0)))"
      ]
     },
     "metadata": {},
     "output_type": "display_data"
    },
    {
     "data": {
      "text/html": [
       "<style>\n",
       "    table.wandb td:nth-child(1) { padding: 0 10px; text-align: left ; width: auto;} td:nth-child(2) {text-align: left ; width: 100%}\n",
       "    .wandb-row { display: flex; flex-direction: row; flex-wrap: wrap; justify-content: flex-start; width: 100% }\n",
       "    .wandb-col { display: flex; flex-direction: column; flex-basis: 100%; flex: 1; padding: 10px; }\n",
       "    </style>\n",
       "<div class=\"wandb-row\"><div class=\"wandb-col\"><h3>Run history:</h3><br/><table class=\"wandb\"><tr><td>F1_Extremely Negative</td><td>▁▅▇█</td></tr><tr><td>F1_Extremely Positive</td><td>▁▆▇█</td></tr><tr><td>F1_Negative</td><td>▁▆██</td></tr><tr><td>F1_Neutral</td><td>▁▅▇█</td></tr><tr><td>F1_Positive</td><td>▁▅██</td></tr><tr><td>epoch</td><td>▁▁▁▁▁▁▁▁▁▁▃▃▃▃▃▃▃▃▃▃▆▆▆▆▆▆▆▆▆▆██████████</td></tr><tr><td>latency_ms</td><td>▁</td></tr><tr><td>model_size_mb</td><td>▁</td></tr><tr><td>step</td><td>▁▂▃▃▄▅▆▆▇█▁▂▃▃▄▅▅▆▇█▁▂▃▃▄▅▅▆▇█▁▂▂▃▄▅▅▆▇█</td></tr><tr><td>train_loss</td><td>█▆▆▇▅▅▃▆▄▃▂▃▄▃▂█▅▄▄▄▅▄▂▄▅▁▂▄▅▅▁▅▂▁▅▄▄▅▅▂</td></tr><tr><td>val_acc</td><td>▁▅▇█</td></tr><tr><td>val_macro_f1</td><td>▁▅▇█</td></tr></table><br/></div><div class=\"wandb-col\"><h3>Run summary:</h3><br/><table class=\"wandb\"><tr><td>F1_Extremely Negative</td><td>0.61045</td></tr><tr><td>F1_Extremely Positive</td><td>0.6185</td></tr><tr><td>F1_Negative</td><td>0.50586</td></tr><tr><td>F1_Neutral</td><td>0.63227</td></tr><tr><td>F1_Positive</td><td>0.4676</td></tr><tr><td>epoch</td><td>4</td></tr><tr><td>latency_ms</td><td>3.74668</td></tr><tr><td>model_size_mb</td><td>313.31335</td></tr><tr><td>step</td><td>5144</td></tr><tr><td>train_loss</td><td>0.79223</td></tr><tr><td>val_acc</td><td>0.55213</td></tr><tr><td>val_macro_f1</td><td>0.56694</td></tr></table><br/></div></div>"
      ],
      "text/plain": [
       "<IPython.core.display.HTML object>"
      ]
     },
     "metadata": {},
     "output_type": "display_data"
    },
    {
     "data": {
      "text/html": [
       " View run <strong style=\"color:#cdcd00\">trial_3</strong> at: <a href='https://wandb.ai/gal2361-tel-aviv-university/KD_optuna/runs/565sukeg' target=\"_blank\">https://wandb.ai/gal2361-tel-aviv-university/KD_optuna/runs/565sukeg</a><br/> View project at: <a href='https://wandb.ai/gal2361-tel-aviv-university/KD_optuna' target=\"_blank\">https://wandb.ai/gal2361-tel-aviv-university/KD_optuna</a><br/>Synced 5 W&B file(s), 0 media file(s), 0 artifact file(s) and 0 other file(s)"
      ],
      "text/plain": [
       "<IPython.core.display.HTML object>"
      ]
     },
     "metadata": {},
     "output_type": "display_data"
    },
    {
     "data": {
      "text/html": [
       "Find logs at: <code>./wandb/run-20250818_210153-565sukeg/logs</code>"
      ],
      "text/plain": [
       "<IPython.core.display.HTML object>"
      ]
     },
     "metadata": {},
     "output_type": "display_data"
    },
    {
     "data": {
      "text/html": [
       "The new W&B backend becomes opt-out in version 0.18.0; try it out with `wandb.require(\"core\")`! See https://wandb.me/wandb-core for more information."
      ],
      "text/plain": [
       "<IPython.core.display.HTML object>"
      ]
     },
     "metadata": {},
     "output_type": "display_data"
    },
    {
     "name": "stderr",
     "output_type": "stream",
     "text": [
      "[I 2025-08-18 21:49:50,781] Trial 3 finished with value: 0.5669361125796981 and parameters: {'alpha': 0.2750709694136466, 'T': 2.2774227192428484, 'epochs': 4, 'fine_tune_layers': 4, 'learning_rate': 1.116409401675503e-06}. Best is trial 0 with value: 0.7749869372143101.\n"
     ]
    },
    {
     "name": "stdout",
     "output_type": "stream",
     "text": [
      "\n",
      "🔎 Trial 4 | alpha=0.25263834571007676, T=1.0504772338456725, epochs=8, fine_tune_layers=3, lr=4.811175695766814e-06\n"
     ]
    },
    {
     "data": {
      "text/html": [
       "wandb version 0.21.1 is available!  To upgrade, please run:\n",
       " $ pip install wandb --upgrade"
      ],
      "text/plain": [
       "<IPython.core.display.HTML object>"
      ]
     },
     "metadata": {},
     "output_type": "display_data"
    },
    {
     "data": {
      "text/html": [
       "Tracking run with wandb version 0.17.5"
      ],
      "text/plain": [
       "<IPython.core.display.HTML object>"
      ]
     },
     "metadata": {},
     "output_type": "display_data"
    },
    {
     "data": {
      "text/html": [
       "Run data is saved locally in <code>/content/wandb/run-20250818_214950-wq2yxhoa</code>"
      ],
      "text/plain": [
       "<IPython.core.display.HTML object>"
      ]
     },
     "metadata": {},
     "output_type": "display_data"
    },
    {
     "data": {
      "text/html": [
       "Syncing run <strong><a href='https://wandb.ai/gal2361-tel-aviv-university/KD_optuna/runs/wq2yxhoa' target=\"_blank\">trial_4</a></strong> to <a href='https://wandb.ai/gal2361-tel-aviv-university/KD_optuna' target=\"_blank\">Weights & Biases</a> (<a href='https://wandb.me/run' target=\"_blank\">docs</a>)<br/>"
      ],
      "text/plain": [
       "<IPython.core.display.HTML object>"
      ]
     },
     "metadata": {},
     "output_type": "display_data"
    },
    {
     "data": {
      "text/html": [
       " View project at <a href='https://wandb.ai/gal2361-tel-aviv-university/KD_optuna' target=\"_blank\">https://wandb.ai/gal2361-tel-aviv-university/KD_optuna</a>"
      ],
      "text/plain": [
       "<IPython.core.display.HTML object>"
      ]
     },
     "metadata": {},
     "output_type": "display_data"
    },
    {
     "data": {
      "text/html": [
       " View run at <a href='https://wandb.ai/gal2361-tel-aviv-university/KD_optuna/runs/wq2yxhoa' target=\"_blank\">https://wandb.ai/gal2361-tel-aviv-university/KD_optuna/runs/wq2yxhoa</a>"
      ],
      "text/plain": [
       "<IPython.core.display.HTML object>"
      ]
     },
     "metadata": {},
     "output_type": "display_data"
    },
    {
     "name": "stderr",
     "output_type": "stream",
     "text": [
      "Some weights of RobertaForSequenceClassification were not initialized from the model checkpoint at distilroberta-base and are newly initialized: ['classifier.dense.bias', 'classifier.dense.weight', 'classifier.out_proj.bias', 'classifier.out_proj.weight']\n",
      "You should probably TRAIN this model on a down-stream task to be able to use it for predictions and inference.\n",
      "/usr/local/lib/python3.11/dist-packages/transformers/optimization.py:591: FutureWarning: This implementation of AdamW is deprecated and will be removed in a future version. Use the PyTorch implementation torch.optim.AdamW instead, or set `no_deprecation_warning=True` to disable this warning\n",
      "  warnings.warn(\n"
     ]
    },
    {
     "name": "stdout",
     "output_type": "stream",
     "text": [
      "✅ Student (distilroberta-base) initialized with correct num_labels and matching tokenizer\n",
      "   🔓 Unfroze student layer 4 / 6\n",
      "   🔓 Unfroze student layer 5 / 6\n",
      "   🔓 Unfroze student layer 6 / 6\n",
      "✅ Unfroze last 3 layers + classifier\n",
      "\n",
      "▶️ Epoch 1/8\n"
     ]
    },
    {
     "name": "stderr",
     "output_type": "stream",
     "text": [
      "Trial 4 Epoch 1: 100%|██████████| 5145/5145 [10:50<00:00,  7.91it/s, loss=1.19]\n"
     ]
    },
    {
     "name": "stdout",
     "output_type": "stream",
     "text": [
      "📊 Epoch 1 done. Val Macro-F1=0.5770, Acc=0.5621\n",
      "   ✅ New best F1\n",
      "\n",
      "▶️ Epoch 2/8\n"
     ]
    },
    {
     "name": "stderr",
     "output_type": "stream",
     "text": [
      "Trial 4 Epoch 2: 100%|██████████| 5145/5145 [10:50<00:00,  7.90it/s, loss=1.84]\n"
     ]
    },
    {
     "name": "stdout",
     "output_type": "stream",
     "text": [
      "📊 Epoch 2 done. Val Macro-F1=0.6181, Acc=0.6014\n",
      "   ✅ New best F1\n",
      "\n",
      "▶️ Epoch 3/8\n"
     ]
    },
    {
     "name": "stderr",
     "output_type": "stream",
     "text": [
      "Trial 4 Epoch 3: 100%|██████████| 5145/5145 [10:50<00:00,  7.91it/s, loss=0.367]\n"
     ]
    },
    {
     "name": "stdout",
     "output_type": "stream",
     "text": [
      "📊 Epoch 3 done. Val Macro-F1=0.6604, Acc=0.6456\n",
      "   ✅ New best F1\n",
      "\n",
      "▶️ Epoch 4/8\n"
     ]
    },
    {
     "name": "stderr",
     "output_type": "stream",
     "text": [
      "Trial 4 Epoch 4: 100%|██████████| 5145/5145 [10:50<00:00,  7.91it/s, loss=0.905]\n"
     ]
    },
    {
     "name": "stdout",
     "output_type": "stream",
     "text": [
      "📊 Epoch 4 done. Val Macro-F1=0.6618, Acc=0.6467\n",
      "   ✅ New best F1\n",
      "\n",
      "▶️ Epoch 5/8\n"
     ]
    },
    {
     "name": "stderr",
     "output_type": "stream",
     "text": [
      "Trial 4 Epoch 5: 100%|██████████| 5145/5145 [10:51<00:00,  7.90it/s, loss=0.856]\n"
     ]
    },
    {
     "name": "stdout",
     "output_type": "stream",
     "text": [
      "📊 Epoch 5 done. Val Macro-F1=0.6722, Acc=0.6580\n",
      "   ✅ New best F1\n",
      "\n",
      "▶️ Epoch 6/8\n"
     ]
    },
    {
     "name": "stderr",
     "output_type": "stream",
     "text": [
      "Trial 4 Epoch 6: 100%|██████████| 5145/5145 [10:50<00:00,  7.91it/s, loss=0.681]\n"
     ]
    },
    {
     "name": "stdout",
     "output_type": "stream",
     "text": [
      "📊 Epoch 6 done. Val Macro-F1=0.6793, Acc=0.6643\n",
      "   ✅ New best F1\n",
      "\n",
      "▶️ Epoch 7/8\n"
     ]
    },
    {
     "name": "stderr",
     "output_type": "stream",
     "text": [
      "Trial 4 Epoch 7: 100%|██████████| 5145/5145 [10:50<00:00,  7.90it/s, loss=0.615]\n"
     ]
    },
    {
     "name": "stdout",
     "output_type": "stream",
     "text": [
      "📊 Epoch 7 done. Val Macro-F1=0.6845, Acc=0.6706\n",
      "   ✅ New best F1\n",
      "\n",
      "▶️ Epoch 8/8\n"
     ]
    },
    {
     "name": "stderr",
     "output_type": "stream",
     "text": [
      "Trial 4 Epoch 8: 100%|██████████| 5145/5145 [10:50<00:00,  7.90it/s, loss=0.19]\n"
     ]
    },
    {
     "name": "stdout",
     "output_type": "stream",
     "text": [
      "📊 Epoch 8 done. Val Macro-F1=0.6906, Acc=0.6764\n",
      "   ✅ New best F1\n",
      "📦 Model size: 313.31 MB | ⏱️ Latency: 3.73 ms/sample\n"
     ]
    },
    {
     "data": {
      "application/vnd.jupyter.widget-view+json": {
       "model_id": "03b023d759ea4807b55d8b06dced5a1c",
       "version_major": 2,
       "version_minor": 0
      },
      "text/plain": [
       "VBox(children=(Label(value='0.002 MB of 0.002 MB uploaded\\r'), FloatProgress(value=1.0, max=1.0)))"
      ]
     },
     "metadata": {},
     "output_type": "display_data"
    },
    {
     "data": {
      "text/html": [
       "<style>\n",
       "    table.wandb td:nth-child(1) { padding: 0 10px; text-align: left ; width: auto;} td:nth-child(2) {text-align: left ; width: 100%}\n",
       "    .wandb-row { display: flex; flex-direction: row; flex-wrap: wrap; justify-content: flex-start; width: 100% }\n",
       "    .wandb-col { display: flex; flex-direction: column; flex-basis: 100%; flex: 1; padding: 10px; }\n",
       "    </style>\n",
       "<div class=\"wandb-row\"><div class=\"wandb-col\"><h3>Run history:</h3><br/><table class=\"wandb\"><tr><td>F1_Extremely Negative</td><td>▁▃▆▆▇▇██</td></tr><tr><td>F1_Extremely Positive</td><td>▁▄▅▆▇▇██</td></tr><tr><td>F1_Negative</td><td>▁▁▇▆▆▇██</td></tr><tr><td>F1_Neutral</td><td>▁▄▆▅▇█▇█</td></tr><tr><td>F1_Positive</td><td>▁▅▇▇▇▇▇█</td></tr><tr><td>epoch</td><td>▁▁▁▁▁▂▂▂▂▂▃▃▃▃▃▄▄▄▄▄▅▅▅▅▅▆▆▆▆▆▇▇▇▇▇█████</td></tr><tr><td>latency_ms</td><td>▁</td></tr><tr><td>model_size_mb</td><td>▁</td></tr><tr><td>step</td><td>▁▃▄▆▇▁▃▄▆▇▁▃▄▆▇▁▃▄▆▇▁▃▄▆▇▁▃▄▆▇▁▃▄▆▇▁▃▄▆█</td></tr><tr><td>train_loss</td><td>▄▇▅▅▃▂▄█▄▇▆▂▃▃▂▃▃▂▂▂▄▁▇▂▅▅▂▆▁▂▂▃▄▂▃▁▁▅▂▄</td></tr><tr><td>val_acc</td><td>▁▃▆▆▇▇██</td></tr><tr><td>val_macro_f1</td><td>▁▄▆▆▇▇██</td></tr></table><br/></div><div class=\"wandb-col\"><h3>Run summary:</h3><br/><table class=\"wandb\"><tr><td>F1_Extremely Negative</td><td>0.72616</td></tr><tr><td>F1_Extremely Positive</td><td>0.74751</td></tr><tr><td>F1_Negative</td><td>0.62556</td></tr><tr><td>F1_Neutral</td><td>0.7481</td></tr><tr><td>F1_Positive</td><td>0.60542</td></tr><tr><td>epoch</td><td>8</td></tr><tr><td>latency_ms</td><td>3.73208</td></tr><tr><td>model_size_mb</td><td>313.31335</td></tr><tr><td>step</td><td>5144</td></tr><tr><td>train_loss</td><td>0.19004</td></tr><tr><td>val_acc</td><td>0.67641</td></tr><tr><td>val_macro_f1</td><td>0.69055</td></tr></table><br/></div></div>"
      ],
      "text/plain": [
       "<IPython.core.display.HTML object>"
      ]
     },
     "metadata": {},
     "output_type": "display_data"
    },
    {
     "data": {
      "text/html": [
       " View run <strong style=\"color:#cdcd00\">trial_4</strong> at: <a href='https://wandb.ai/gal2361-tel-aviv-university/KD_optuna/runs/wq2yxhoa' target=\"_blank\">https://wandb.ai/gal2361-tel-aviv-university/KD_optuna/runs/wq2yxhoa</a><br/> View project at: <a href='https://wandb.ai/gal2361-tel-aviv-university/KD_optuna' target=\"_blank\">https://wandb.ai/gal2361-tel-aviv-university/KD_optuna</a><br/>Synced 5 W&B file(s), 0 media file(s), 0 artifact file(s) and 0 other file(s)"
      ],
      "text/plain": [
       "<IPython.core.display.HTML object>"
      ]
     },
     "metadata": {},
     "output_type": "display_data"
    },
    {
     "data": {
      "text/html": [
       "Find logs at: <code>./wandb/run-20250818_214950-wq2yxhoa/logs</code>"
      ],
      "text/plain": [
       "<IPython.core.display.HTML object>"
      ]
     },
     "metadata": {},
     "output_type": "display_data"
    },
    {
     "data": {
      "text/html": [
       "The new W&B backend becomes opt-out in version 0.18.0; try it out with `wandb.require(\"core\")`! See https://wandb.me/wandb-core for more information."
      ],
      "text/plain": [
       "<IPython.core.display.HTML object>"
      ]
     },
     "metadata": {},
     "output_type": "display_data"
    },
    {
     "name": "stderr",
     "output_type": "stream",
     "text": [
      "[I 2025-08-18 23:18:55,231] Trial 4 finished with value: 0.6905504631950918 and parameters: {'alpha': 0.25263834571007676, 'T': 1.0504772338456725, 'epochs': 8, 'fine_tune_layers': 3, 'learning_rate': 4.811175695766814e-06}. Best is trial 0 with value: 0.7749869372143101.\n"
     ]
    },
    {
     "name": "stdout",
     "output_type": "stream",
     "text": [
      "\n",
      "🔎 Trial 5 | alpha=0.26554840291478005, T=4.1930335830185665, epochs=5, fine_tune_layers=6, lr=2.818734886083092e-06\n"
     ]
    },
    {
     "data": {
      "text/html": [
       "wandb version 0.21.1 is available!  To upgrade, please run:\n",
       " $ pip install wandb --upgrade"
      ],
      "text/plain": [
       "<IPython.core.display.HTML object>"
      ]
     },
     "metadata": {},
     "output_type": "display_data"
    },
    {
     "data": {
      "text/html": [
       "Tracking run with wandb version 0.17.5"
      ],
      "text/plain": [
       "<IPython.core.display.HTML object>"
      ]
     },
     "metadata": {},
     "output_type": "display_data"
    },
    {
     "data": {
      "text/html": [
       "Run data is saved locally in <code>/content/wandb/run-20250818_231855-n6l88g1e</code>"
      ],
      "text/plain": [
       "<IPython.core.display.HTML object>"
      ]
     },
     "metadata": {},
     "output_type": "display_data"
    },
    {
     "data": {
      "text/html": [
       "Syncing run <strong><a href='https://wandb.ai/gal2361-tel-aviv-university/KD_optuna/runs/n6l88g1e' target=\"_blank\">trial_5</a></strong> to <a href='https://wandb.ai/gal2361-tel-aviv-university/KD_optuna' target=\"_blank\">Weights & Biases</a> (<a href='https://wandb.me/run' target=\"_blank\">docs</a>)<br/>"
      ],
      "text/plain": [
       "<IPython.core.display.HTML object>"
      ]
     },
     "metadata": {},
     "output_type": "display_data"
    },
    {
     "data": {
      "text/html": [
       " View project at <a href='https://wandb.ai/gal2361-tel-aviv-university/KD_optuna' target=\"_blank\">https://wandb.ai/gal2361-tel-aviv-university/KD_optuna</a>"
      ],
      "text/plain": [
       "<IPython.core.display.HTML object>"
      ]
     },
     "metadata": {},
     "output_type": "display_data"
    },
    {
     "data": {
      "text/html": [
       " View run at <a href='https://wandb.ai/gal2361-tel-aviv-university/KD_optuna/runs/n6l88g1e' target=\"_blank\">https://wandb.ai/gal2361-tel-aviv-university/KD_optuna/runs/n6l88g1e</a>"
      ],
      "text/plain": [
       "<IPython.core.display.HTML object>"
      ]
     },
     "metadata": {},
     "output_type": "display_data"
    },
    {
     "name": "stderr",
     "output_type": "stream",
     "text": [
      "Some weights of RobertaForSequenceClassification were not initialized from the model checkpoint at distilroberta-base and are newly initialized: ['classifier.dense.bias', 'classifier.dense.weight', 'classifier.out_proj.bias', 'classifier.out_proj.weight']\n",
      "You should probably TRAIN this model on a down-stream task to be able to use it for predictions and inference.\n",
      "/usr/local/lib/python3.11/dist-packages/transformers/optimization.py:591: FutureWarning: This implementation of AdamW is deprecated and will be removed in a future version. Use the PyTorch implementation torch.optim.AdamW instead, or set `no_deprecation_warning=True` to disable this warning\n",
      "  warnings.warn(\n"
     ]
    },
    {
     "name": "stdout",
     "output_type": "stream",
     "text": [
      "✅ Student (distilroberta-base) initialized with correct num_labels and matching tokenizer\n",
      "   🔓 Unfroze student layer 1 / 6\n",
      "   🔓 Unfroze student layer 2 / 6\n",
      "   🔓 Unfroze student layer 3 / 6\n",
      "   🔓 Unfroze student layer 4 / 6\n",
      "   🔓 Unfroze student layer 5 / 6\n",
      "   🔓 Unfroze student layer 6 / 6\n",
      "✅ Unfroze last 6 layers + classifier\n",
      "\n",
      "▶️ Epoch 1/5\n"
     ]
    },
    {
     "name": "stderr",
     "output_type": "stream",
     "text": [
      "Trial 5 Epoch 1: 100%|██████████| 5145/5145 [13:26<00:00,  6.38it/s, loss=2.28]\n"
     ]
    },
    {
     "name": "stdout",
     "output_type": "stream",
     "text": [
      "📊 Epoch 1 done. Val Macro-F1=0.6422, Acc=0.6272\n",
      "   ✅ New best F1\n",
      "\n",
      "▶️ Epoch 2/5\n"
     ]
    },
    {
     "name": "stderr",
     "output_type": "stream",
     "text": [
      "Trial 5 Epoch 2: 100%|██████████| 5145/5145 [13:26<00:00,  6.38it/s, loss=0.743]\n"
     ]
    },
    {
     "name": "stdout",
     "output_type": "stream",
     "text": [
      "📊 Epoch 2 done. Val Macro-F1=0.7027, Acc=0.6875\n",
      "   ✅ New best F1\n",
      "\n",
      "▶️ Epoch 3/5\n"
     ]
    },
    {
     "name": "stderr",
     "output_type": "stream",
     "text": [
      "Trial 5 Epoch 3: 100%|██████████| 5145/5145 [13:26<00:00,  6.38it/s, loss=1.38]\n"
     ]
    },
    {
     "name": "stdout",
     "output_type": "stream",
     "text": [
      "📊 Epoch 3 done. Val Macro-F1=0.7119, Acc=0.6983\n",
      "   ✅ New best F1\n",
      "\n",
      "▶️ Epoch 4/5\n"
     ]
    },
    {
     "name": "stderr",
     "output_type": "stream",
     "text": [
      "Trial 5 Epoch 4: 100%|██████████| 5145/5145 [13:27<00:00,  6.37it/s, loss=0.491]\n"
     ]
    },
    {
     "name": "stdout",
     "output_type": "stream",
     "text": [
      "📊 Epoch 4 done. Val Macro-F1=0.7301, Acc=0.7170\n",
      "   ✅ New best F1\n",
      "\n",
      "▶️ Epoch 5/5\n"
     ]
    },
    {
     "name": "stderr",
     "output_type": "stream",
     "text": [
      "Trial 5 Epoch 5: 100%|██████████| 5145/5145 [13:27<00:00,  6.37it/s, loss=3.75]\n"
     ]
    },
    {
     "name": "stdout",
     "output_type": "stream",
     "text": [
      "📊 Epoch 5 done. Val Macro-F1=0.7382, Acc=0.7256\n",
      "   ✅ New best F1\n",
      "📦 Model size: 313.31 MB | ⏱️ Latency: 3.74 ms/sample\n"
     ]
    },
    {
     "data": {
      "application/vnd.jupyter.widget-view+json": {
       "model_id": "6817390e76db4b96bafe3cefd0da1115",
       "version_major": 2,
       "version_minor": 0
      },
      "text/plain": [
       "VBox(children=(Label(value='0.019 MB of 0.019 MB uploaded\\r'), FloatProgress(value=1.0, max=1.0)))"
      ]
     },
     "metadata": {},
     "output_type": "display_data"
    },
    {
     "data": {
      "text/html": [
       "<style>\n",
       "    table.wandb td:nth-child(1) { padding: 0 10px; text-align: left ; width: auto;} td:nth-child(2) {text-align: left ; width: 100%}\n",
       "    .wandb-row { display: flex; flex-direction: row; flex-wrap: wrap; justify-content: flex-start; width: 100% }\n",
       "    .wandb-col { display: flex; flex-direction: column; flex-basis: 100%; flex: 1; padding: 10px; }\n",
       "    </style>\n",
       "<div class=\"wandb-row\"><div class=\"wandb-col\"><h3>Run history:</h3><br/><table class=\"wandb\"><tr><td>F1_Extremely Negative</td><td>▁▆▆▇█</td></tr><tr><td>F1_Extremely Positive</td><td>▁▅▆██</td></tr><tr><td>F1_Negative</td><td>▁▆▆▆█</td></tr><tr><td>F1_Neutral</td><td>▁▅▆██</td></tr><tr><td>F1_Positive</td><td>▁▆▆██</td></tr><tr><td>epoch</td><td>▁▁▁▁▁▁▁▁▃▃▃▃▃▃▃▃▅▅▅▅▅▅▅▅▆▆▆▆▆▆▆▆████████</td></tr><tr><td>latency_ms</td><td>▁</td></tr><tr><td>model_size_mb</td><td>▁</td></tr><tr><td>step</td><td>▁▂▃▄▅▆▇▇▁▂▃▄▅▆▇█▁▂▃▄▅▆▇█▁▂▃▄▅▆▇█▁▂▃▄▅▆▇█</td></tr><tr><td>train_loss</td><td>█▄█▄▄▅▄▂▂▃▂▄▃▂▄▃▃▃▃▃▃▃▁▇▁▂▆▂▃▁▂▁▂▃▄▃▃▂▂▂</td></tr><tr><td>val_acc</td><td>▁▅▆▇█</td></tr><tr><td>val_macro_f1</td><td>▁▅▆▇█</td></tr></table><br/></div><div class=\"wandb-col\"><h3>Run summary:</h3><br/><table class=\"wandb\"><tr><td>F1_Extremely Negative</td><td>0.78686</td></tr><tr><td>F1_Extremely Positive</td><td>0.78395</td></tr><tr><td>F1_Negative</td><td>0.68297</td></tr><tr><td>F1_Neutral</td><td>0.76149</td></tr><tr><td>F1_Positive</td><td>0.67561</td></tr><tr><td>epoch</td><td>5</td></tr><tr><td>latency_ms</td><td>3.74186</td></tr><tr><td>model_size_mb</td><td>313.31335</td></tr><tr><td>step</td><td>5144</td></tr><tr><td>train_loss</td><td>3.75159</td></tr><tr><td>val_acc</td><td>0.72565</td></tr><tr><td>val_macro_f1</td><td>0.73818</td></tr></table><br/></div></div>"
      ],
      "text/plain": [
       "<IPython.core.display.HTML object>"
      ]
     },
     "metadata": {},
     "output_type": "display_data"
    },
    {
     "data": {
      "text/html": [
       " View run <strong style=\"color:#cdcd00\">trial_5</strong> at: <a href='https://wandb.ai/gal2361-tel-aviv-university/KD_optuna/runs/n6l88g1e' target=\"_blank\">https://wandb.ai/gal2361-tel-aviv-university/KD_optuna/runs/n6l88g1e</a><br/> View project at: <a href='https://wandb.ai/gal2361-tel-aviv-university/KD_optuna' target=\"_blank\">https://wandb.ai/gal2361-tel-aviv-university/KD_optuna</a><br/>Synced 5 W&B file(s), 0 media file(s), 0 artifact file(s) and 0 other file(s)"
      ],
      "text/plain": [
       "<IPython.core.display.HTML object>"
      ]
     },
     "metadata": {},
     "output_type": "display_data"
    },
    {
     "data": {
      "text/html": [
       "Find logs at: <code>./wandb/run-20250818_231855-n6l88g1e/logs</code>"
      ],
      "text/plain": [
       "<IPython.core.display.HTML object>"
      ]
     },
     "metadata": {},
     "output_type": "display_data"
    },
    {
     "data": {
      "text/html": [
       "The new W&B backend becomes opt-out in version 0.18.0; try it out with `wandb.require(\"core\")`! See https://wandb.me/wandb-core for more information."
      ],
      "text/plain": [
       "<IPython.core.display.HTML object>"
      ]
     },
     "metadata": {},
     "output_type": "display_data"
    },
    {
     "name": "stderr",
     "output_type": "stream",
     "text": [
      "[I 2025-08-19 00:27:39,384] Trial 5 finished with value: 0.7381751368819958 and parameters: {'alpha': 0.26554840291478005, 'T': 4.1930335830185665, 'epochs': 5, 'fine_tune_layers': 6, 'learning_rate': 2.818734886083092e-06}. Best is trial 0 with value: 0.7749869372143101.\n"
     ]
    },
    {
     "name": "stdout",
     "output_type": "stream",
     "text": [
      "\n",
      "🔎 Trial 6 | alpha=0.7114100573071909, T=3.9042850836009335, epochs=10, fine_tune_layers=6, lr=3.649731328569074e-05\n"
     ]
    },
    {
     "data": {
      "text/html": [
       "wandb version 0.21.1 is available!  To upgrade, please run:\n",
       " $ pip install wandb --upgrade"
      ],
      "text/plain": [
       "<IPython.core.display.HTML object>"
      ]
     },
     "metadata": {},
     "output_type": "display_data"
    },
    {
     "data": {
      "text/html": [
       "Tracking run with wandb version 0.17.5"
      ],
      "text/plain": [
       "<IPython.core.display.HTML object>"
      ]
     },
     "metadata": {},
     "output_type": "display_data"
    },
    {
     "data": {
      "text/html": [
       "Run data is saved locally in <code>/content/wandb/run-20250819_002739-t1j4sxey</code>"
      ],
      "text/plain": [
       "<IPython.core.display.HTML object>"
      ]
     },
     "metadata": {},
     "output_type": "display_data"
    },
    {
     "data": {
      "text/html": [
       "Syncing run <strong><a href='https://wandb.ai/gal2361-tel-aviv-university/KD_optuna/runs/t1j4sxey' target=\"_blank\">trial_6</a></strong> to <a href='https://wandb.ai/gal2361-tel-aviv-university/KD_optuna' target=\"_blank\">Weights & Biases</a> (<a href='https://wandb.me/run' target=\"_blank\">docs</a>)<br/>"
      ],
      "text/plain": [
       "<IPython.core.display.HTML object>"
      ]
     },
     "metadata": {},
     "output_type": "display_data"
    },
    {
     "data": {
      "text/html": [
       " View project at <a href='https://wandb.ai/gal2361-tel-aviv-university/KD_optuna' target=\"_blank\">https://wandb.ai/gal2361-tel-aviv-university/KD_optuna</a>"
      ],
      "text/plain": [
       "<IPython.core.display.HTML object>"
      ]
     },
     "metadata": {},
     "output_type": "display_data"
    },
    {
     "data": {
      "text/html": [
       " View run at <a href='https://wandb.ai/gal2361-tel-aviv-university/KD_optuna/runs/t1j4sxey' target=\"_blank\">https://wandb.ai/gal2361-tel-aviv-university/KD_optuna/runs/t1j4sxey</a>"
      ],
      "text/plain": [
       "<IPython.core.display.HTML object>"
      ]
     },
     "metadata": {},
     "output_type": "display_data"
    },
    {
     "name": "stderr",
     "output_type": "stream",
     "text": [
      "Some weights of RobertaForSequenceClassification were not initialized from the model checkpoint at distilroberta-base and are newly initialized: ['classifier.dense.bias', 'classifier.dense.weight', 'classifier.out_proj.bias', 'classifier.out_proj.weight']\n",
      "You should probably TRAIN this model on a down-stream task to be able to use it for predictions and inference.\n",
      "/usr/local/lib/python3.11/dist-packages/transformers/optimization.py:591: FutureWarning: This implementation of AdamW is deprecated and will be removed in a future version. Use the PyTorch implementation torch.optim.AdamW instead, or set `no_deprecation_warning=True` to disable this warning\n",
      "  warnings.warn(\n"
     ]
    },
    {
     "name": "stdout",
     "output_type": "stream",
     "text": [
      "✅ Student (distilroberta-base) initialized with correct num_labels and matching tokenizer\n",
      "   🔓 Unfroze student layer 1 / 6\n",
      "   🔓 Unfroze student layer 2 / 6\n",
      "   🔓 Unfroze student layer 3 / 6\n",
      "   🔓 Unfroze student layer 4 / 6\n",
      "   🔓 Unfroze student layer 5 / 6\n",
      "   🔓 Unfroze student layer 6 / 6\n",
      "✅ Unfroze last 6 layers + classifier\n",
      "\n",
      "▶️ Epoch 1/10\n"
     ]
    },
    {
     "name": "stderr",
     "output_type": "stream",
     "text": [
      "Trial 6 Epoch 1: 100%|██████████| 5145/5145 [13:27<00:00,  6.37it/s, loss=1.44]\n"
     ]
    },
    {
     "name": "stdout",
     "output_type": "stream",
     "text": [
      "📊 Epoch 1 done. Val Macro-F1=0.7566, Acc=0.7470\n",
      "   ✅ New best F1\n",
      "\n",
      "▶️ Epoch 2/10\n"
     ]
    },
    {
     "name": "stderr",
     "output_type": "stream",
     "text": [
      "Trial 6 Epoch 2: 100%|██████████| 5145/5145 [13:27<00:00,  6.37it/s, loss=2.05]\n"
     ]
    },
    {
     "name": "stdout",
     "output_type": "stream",
     "text": [
      "📊 Epoch 2 done. Val Macro-F1=0.8002, Acc=0.7930\n",
      "   ✅ New best F1\n",
      "\n",
      "▶️ Epoch 3/10\n"
     ]
    },
    {
     "name": "stderr",
     "output_type": "stream",
     "text": [
      "Trial 6 Epoch 3: 100%|██████████| 5145/5145 [13:27<00:00,  6.37it/s, loss=0.494]\n"
     ]
    },
    {
     "name": "stdout",
     "output_type": "stream",
     "text": [
      "📊 Epoch 3 done. Val Macro-F1=0.8034, Acc=0.7957\n",
      "   ✅ New best F1\n",
      "\n",
      "▶️ Epoch 4/10\n"
     ]
    },
    {
     "name": "stderr",
     "output_type": "stream",
     "text": [
      "Trial 6 Epoch 4: 100%|██████████| 5145/5145 [13:27<00:00,  6.37it/s, loss=0.51]\n"
     ]
    },
    {
     "name": "stdout",
     "output_type": "stream",
     "text": [
      "📊 Epoch 4 done. Val Macro-F1=0.7599, Acc=0.7517\n",
      "   ⚠️ No improvement. Patience counter=1\n",
      "\n",
      "▶️ Epoch 5/10\n"
     ]
    },
    {
     "name": "stderr",
     "output_type": "stream",
     "text": [
      "Trial 6 Epoch 5: 100%|██████████| 5145/5145 [13:27<00:00,  6.37it/s, loss=0.0485]\n"
     ]
    },
    {
     "name": "stdout",
     "output_type": "stream",
     "text": [
      "📊 Epoch 5 done. Val Macro-F1=0.8157, Acc=0.8088\n",
      "   ✅ New best F1\n",
      "\n",
      "▶️ Epoch 6/10\n"
     ]
    },
    {
     "name": "stderr",
     "output_type": "stream",
     "text": [
      "Trial 6 Epoch 6: 100%|██████████| 5145/5145 [13:27<00:00,  6.37it/s, loss=0.0288]\n"
     ]
    },
    {
     "name": "stdout",
     "output_type": "stream",
     "text": [
      "📊 Epoch 6 done. Val Macro-F1=0.8060, Acc=0.7978\n",
      "   ⚠️ No improvement. Patience counter=1\n",
      "\n",
      "▶️ Epoch 7/10\n"
     ]
    },
    {
     "name": "stderr",
     "output_type": "stream",
     "text": [
      "Trial 6 Epoch 7: 100%|██████████| 5145/5145 [13:27<00:00,  6.37it/s, loss=0.0381]\n"
     ]
    },
    {
     "name": "stdout",
     "output_type": "stream",
     "text": [
      "📊 Epoch 7 done. Val Macro-F1=0.8234, Acc=0.8175\n",
      "   ✅ New best F1\n",
      "\n",
      "▶️ Epoch 8/10\n"
     ]
    },
    {
     "name": "stderr",
     "output_type": "stream",
     "text": [
      "Trial 6 Epoch 8: 100%|██████████| 5145/5145 [13:28<00:00,  6.37it/s, loss=0.785]\n"
     ]
    },
    {
     "name": "stdout",
     "output_type": "stream",
     "text": [
      "📊 Epoch 8 done. Val Macro-F1=0.8317, Acc=0.8265\n",
      "   ✅ New best F1\n",
      "\n",
      "▶️ Epoch 9/10\n"
     ]
    },
    {
     "name": "stderr",
     "output_type": "stream",
     "text": [
      "Trial 6 Epoch 9: 100%|██████████| 5145/5145 [13:28<00:00,  6.37it/s, loss=0.0187]\n"
     ]
    },
    {
     "name": "stdout",
     "output_type": "stream",
     "text": [
      "📊 Epoch 9 done. Val Macro-F1=0.8384, Acc=0.8339\n",
      "   ✅ New best F1\n",
      "\n",
      "▶️ Epoch 10/10\n"
     ]
    },
    {
     "name": "stderr",
     "output_type": "stream",
     "text": [
      "Trial 6 Epoch 10: 100%|██████████| 5145/5145 [13:27<00:00,  6.37it/s, loss=0.442]\n"
     ]
    },
    {
     "name": "stdout",
     "output_type": "stream",
     "text": [
      "📊 Epoch 10 done. Val Macro-F1=0.8296, Acc=0.8252\n",
      "   ⚠️ No improvement. Patience counter=1\n",
      "📦 Model size: 313.31 MB | ⏱️ Latency: 3.74 ms/sample\n"
     ]
    },
    {
     "data": {
      "application/vnd.jupyter.widget-view+json": {
       "model_id": "066f8381b96e4b769e7dd92f956d3ae9",
       "version_major": 2,
       "version_minor": 0
      },
      "text/plain": [
       "VBox(children=(Label(value='0.002 MB of 0.002 MB uploaded\\r'), FloatProgress(value=1.0, max=1.0)))"
      ]
     },
     "metadata": {},
     "output_type": "display_data"
    },
    {
     "data": {
      "text/html": [
       "<style>\n",
       "    table.wandb td:nth-child(1) { padding: 0 10px; text-align: left ; width: auto;} td:nth-child(2) {text-align: left ; width: 100%}\n",
       "    .wandb-row { display: flex; flex-direction: row; flex-wrap: wrap; justify-content: flex-start; width: 100% }\n",
       "    .wandb-col { display: flex; flex-direction: column; flex-basis: 100%; flex: 1; padding: 10px; }\n",
       "    </style>\n",
       "<div class=\"wandb-row\"><div class=\"wandb-col\"><h3>Run history:</h3><br/><table class=\"wandb\"><tr><td>F1_Extremely Negative</td><td>▁▄▆▁▆▆▆▆█▇</td></tr><tr><td>F1_Extremely Positive</td><td>▁▅▄▁▆▄▇██▇</td></tr><tr><td>F1_Negative</td><td>▁▅▅▁▅▆▆▇█▇</td></tr><tr><td>F1_Neutral</td><td>▁▆▆▇▇██▆▅▅</td></tr><tr><td>F1_Positive</td><td>▂▄▄▁▆▄▇███</td></tr><tr><td>epoch</td><td>▁▁▁▁▂▂▂▂▃▃▃▃▃▃▃▃▄▄▄▄▅▅▅▅▆▆▆▆▆▆▆▆▇▇▇▇████</td></tr><tr><td>latency_ms</td><td>▁</td></tr><tr><td>model_size_mb</td><td>▁</td></tr><tr><td>step</td><td>▁▃▅▇▁▃▅▇▁▃▅▇▁▃▅▇▁▃▅▇▁▃▅▇▁▃▆▇▂▃▆▇▂▃▆▇▂▃▆█</td></tr><tr><td>train_loss</td><td>▅▆▄█▃▄▁▅▄▅▃▃▂▁▁▁▁▂▁▃▁▃▂▃▁▂▁▁▂▁▁▁▁▁▁▂▁▁▂▁</td></tr><tr><td>val_acc</td><td>▁▅▅▁▆▅▇▇█▇</td></tr><tr><td>val_macro_f1</td><td>▁▅▅▁▆▅▇▇█▇</td></tr></table><br/></div><div class=\"wandb-col\"><h3>Run summary:</h3><br/><table class=\"wandb\"><tr><td>F1_Extremely Negative</td><td>0.85</td></tr><tr><td>F1_Extremely Positive</td><td>0.84603</td></tr><tr><td>F1_Negative</td><td>0.8054</td></tr><tr><td>F1_Neutral</td><td>0.84355</td></tr><tr><td>F1_Positive</td><td>0.80304</td></tr><tr><td>epoch</td><td>10</td></tr><tr><td>latency_ms</td><td>3.73742</td></tr><tr><td>model_size_mb</td><td>313.31335</td></tr><tr><td>step</td><td>5144</td></tr><tr><td>train_loss</td><td>0.44234</td></tr><tr><td>val_acc</td><td>0.82517</td></tr><tr><td>val_macro_f1</td><td>0.8296</td></tr></table><br/></div></div>"
      ],
      "text/plain": [
       "<IPython.core.display.HTML object>"
      ]
     },
     "metadata": {},
     "output_type": "display_data"
    },
    {
     "data": {
      "text/html": [
       " View run <strong style=\"color:#cdcd00\">trial_6</strong> at: <a href='https://wandb.ai/gal2361-tel-aviv-university/KD_optuna/runs/t1j4sxey' target=\"_blank\">https://wandb.ai/gal2361-tel-aviv-university/KD_optuna/runs/t1j4sxey</a><br/> View project at: <a href='https://wandb.ai/gal2361-tel-aviv-university/KD_optuna' target=\"_blank\">https://wandb.ai/gal2361-tel-aviv-university/KD_optuna</a><br/>Synced 5 W&B file(s), 0 media file(s), 0 artifact file(s) and 0 other file(s)"
      ],
      "text/plain": [
       "<IPython.core.display.HTML object>"
      ]
     },
     "metadata": {},
     "output_type": "display_data"
    },
    {
     "data": {
      "text/html": [
       "Find logs at: <code>./wandb/run-20250819_002739-t1j4sxey/logs</code>"
      ],
      "text/plain": [
       "<IPython.core.display.HTML object>"
      ]
     },
     "metadata": {},
     "output_type": "display_data"
    },
    {
     "data": {
      "text/html": [
       "The new W&B backend becomes opt-out in version 0.18.0; try it out with `wandb.require(\"core\")`! See https://wandb.me/wandb-core for more information."
      ],
      "text/plain": [
       "<IPython.core.display.HTML object>"
      ]
     },
     "metadata": {},
     "output_type": "display_data"
    },
    {
     "name": "stderr",
     "output_type": "stream",
     "text": [
      "[I 2025-08-19 02:45:11,984] Trial 6 finished with value: 0.8383730266970029 and parameters: {'alpha': 0.7114100573071909, 'T': 3.9042850836009335, 'epochs': 10, 'fine_tune_layers': 6, 'learning_rate': 3.649731328569074e-05}. Best is trial 6 with value: 0.8383730266970029.\n"
     ]
    },
    {
     "name": "stdout",
     "output_type": "stream",
     "text": [
      "\n",
      "🔎 Trial 7 | alpha=0.7981657665802553, T=3.228901262041499, epochs=4, fine_tune_layers=4, lr=1.7476367045079864e-06\n"
     ]
    },
    {
     "data": {
      "text/html": [
       "wandb version 0.21.1 is available!  To upgrade, please run:\n",
       " $ pip install wandb --upgrade"
      ],
      "text/plain": [
       "<IPython.core.display.HTML object>"
      ]
     },
     "metadata": {},
     "output_type": "display_data"
    },
    {
     "data": {
      "text/html": [
       "Tracking run with wandb version 0.17.5"
      ],
      "text/plain": [
       "<IPython.core.display.HTML object>"
      ]
     },
     "metadata": {},
     "output_type": "display_data"
    },
    {
     "data": {
      "text/html": [
       "Run data is saved locally in <code>/content/wandb/run-20250819_024511-xh1u6202</code>"
      ],
      "text/plain": [
       "<IPython.core.display.HTML object>"
      ]
     },
     "metadata": {},
     "output_type": "display_data"
    },
    {
     "data": {
      "text/html": [
       "Syncing run <strong><a href='https://wandb.ai/gal2361-tel-aviv-university/KD_optuna/runs/xh1u6202' target=\"_blank\">trial_7</a></strong> to <a href='https://wandb.ai/gal2361-tel-aviv-university/KD_optuna' target=\"_blank\">Weights & Biases</a> (<a href='https://wandb.me/run' target=\"_blank\">docs</a>)<br/>"
      ],
      "text/plain": [
       "<IPython.core.display.HTML object>"
      ]
     },
     "metadata": {},
     "output_type": "display_data"
    },
    {
     "data": {
      "text/html": [
       " View project at <a href='https://wandb.ai/gal2361-tel-aviv-university/KD_optuna' target=\"_blank\">https://wandb.ai/gal2361-tel-aviv-university/KD_optuna</a>"
      ],
      "text/plain": [
       "<IPython.core.display.HTML object>"
      ]
     },
     "metadata": {},
     "output_type": "display_data"
    },
    {
     "data": {
      "text/html": [
       " View run at <a href='https://wandb.ai/gal2361-tel-aviv-university/KD_optuna/runs/xh1u6202' target=\"_blank\">https://wandb.ai/gal2361-tel-aviv-university/KD_optuna/runs/xh1u6202</a>"
      ],
      "text/plain": [
       "<IPython.core.display.HTML object>"
      ]
     },
     "metadata": {},
     "output_type": "display_data"
    },
    {
     "name": "stderr",
     "output_type": "stream",
     "text": [
      "Some weights of RobertaForSequenceClassification were not initialized from the model checkpoint at distilroberta-base and are newly initialized: ['classifier.dense.bias', 'classifier.dense.weight', 'classifier.out_proj.bias', 'classifier.out_proj.weight']\n",
      "You should probably TRAIN this model on a down-stream task to be able to use it for predictions and inference.\n",
      "/usr/local/lib/python3.11/dist-packages/transformers/optimization.py:591: FutureWarning: This implementation of AdamW is deprecated and will be removed in a future version. Use the PyTorch implementation torch.optim.AdamW instead, or set `no_deprecation_warning=True` to disable this warning\n",
      "  warnings.warn(\n"
     ]
    },
    {
     "name": "stdout",
     "output_type": "stream",
     "text": [
      "✅ Student (distilroberta-base) initialized with correct num_labels and matching tokenizer\n",
      "   🔓 Unfroze student layer 3 / 6\n",
      "   🔓 Unfroze student layer 4 / 6\n",
      "   🔓 Unfroze student layer 5 / 6\n",
      "   🔓 Unfroze student layer 6 / 6\n",
      "✅ Unfroze last 4 layers + classifier\n",
      "\n",
      "▶️ Epoch 1/4\n"
     ]
    },
    {
     "name": "stderr",
     "output_type": "stream",
     "text": [
      "Trial 7 Epoch 1: 100%|██████████| 5145/5145 [11:44<00:00,  7.31it/s, loss=1.45]\n"
     ]
    },
    {
     "name": "stdout",
     "output_type": "stream",
     "text": [
      "📊 Epoch 1 done. Val Macro-F1=0.5477, Acc=0.5329\n",
      "   ✅ New best F1\n",
      "\n",
      "▶️ Epoch 2/4\n"
     ]
    },
    {
     "name": "stderr",
     "output_type": "stream",
     "text": [
      "Trial 7 Epoch 2: 100%|██████████| 5145/5145 [11:43<00:00,  7.31it/s, loss=1.08]\n"
     ]
    },
    {
     "name": "stdout",
     "output_type": "stream",
     "text": [
      "📊 Epoch 2 done. Val Macro-F1=0.5794, Acc=0.5640\n",
      "   ✅ New best F1\n",
      "\n",
      "▶️ Epoch 3/4\n"
     ]
    },
    {
     "name": "stderr",
     "output_type": "stream",
     "text": [
      "Trial 7 Epoch 3: 100%|██████████| 5145/5145 [11:43<00:00,  7.31it/s, loss=1.55]\n"
     ]
    },
    {
     "name": "stdout",
     "output_type": "stream",
     "text": [
      "📊 Epoch 3 done. Val Macro-F1=0.5991, Acc=0.5843\n",
      "   ✅ New best F1\n",
      "\n",
      "▶️ Epoch 4/4\n"
     ]
    },
    {
     "name": "stderr",
     "output_type": "stream",
     "text": [
      "Trial 7 Epoch 4: 100%|██████████| 5145/5145 [11:43<00:00,  7.31it/s, loss=1.16]\n"
     ]
    },
    {
     "name": "stdout",
     "output_type": "stream",
     "text": [
      "📊 Epoch 4 done. Val Macro-F1=0.6041, Acc=0.5890\n",
      "   ✅ New best F1\n",
      "📦 Model size: 313.31 MB | ⏱️ Latency: 3.74 ms/sample\n"
     ]
    },
    {
     "data": {
      "application/vnd.jupyter.widget-view+json": {
       "model_id": "5947b93264774c42825080d5b1b4a87c",
       "version_major": 2,
       "version_minor": 0
      },
      "text/plain": [
       "VBox(children=(Label(value='0.002 MB of 0.002 MB uploaded\\r'), FloatProgress(value=1.0, max=1.0)))"
      ]
     },
     "metadata": {},
     "output_type": "display_data"
    },
    {
     "data": {
      "text/html": [
       "<style>\n",
       "    table.wandb td:nth-child(1) { padding: 0 10px; text-align: left ; width: auto;} td:nth-child(2) {text-align: left ; width: 100%}\n",
       "    .wandb-row { display: flex; flex-direction: row; flex-wrap: wrap; justify-content: flex-start; width: 100% }\n",
       "    .wandb-col { display: flex; flex-direction: column; flex-basis: 100%; flex: 1; padding: 10px; }\n",
       "    </style>\n",
       "<div class=\"wandb-row\"><div class=\"wandb-col\"><h3>Run history:</h3><br/><table class=\"wandb\"><tr><td>F1_Extremely Negative</td><td>▁▅██</td></tr><tr><td>F1_Extremely Positive</td><td>▁▇██</td></tr><tr><td>F1_Negative</td><td>▁▄██</td></tr><tr><td>F1_Neutral</td><td>▁▅▇█</td></tr><tr><td>F1_Positive</td><td>▁▄▆█</td></tr><tr><td>epoch</td><td>▁▁▁▁▁▁▁▁▁▁▃▃▃▃▃▃▃▃▃▃▆▆▆▆▆▆▆▆▆▆██████████</td></tr><tr><td>latency_ms</td><td>▁</td></tr><tr><td>model_size_mb</td><td>▁</td></tr><tr><td>step</td><td>▁▂▃▃▄▅▆▆▇█▁▂▃▃▄▅▅▆▇█▁▂▃▃▄▅▅▆▇█▁▂▂▃▄▅▅▆▇█</td></tr><tr><td>train_loss</td><td>█▇▅▇▅▄▇▅▆▃▅▅▆▄▄▅▅▅▄▄▆▄▄▃▂▃▄▁▄▄▂▂▂▂▄▅▂▁▇▁</td></tr><tr><td>val_acc</td><td>▁▅▇█</td></tr><tr><td>val_macro_f1</td><td>▁▅▇█</td></tr></table><br/></div><div class=\"wandb-col\"><h3>Run summary:</h3><br/><table class=\"wandb\"><tr><td>F1_Extremely Negative</td><td>0.63778</td></tr><tr><td>F1_Extremely Positive</td><td>0.65162</td></tr><tr><td>F1_Negative</td><td>0.55441</td></tr><tr><td>F1_Neutral</td><td>0.66612</td></tr><tr><td>F1_Positive</td><td>0.51073</td></tr><tr><td>epoch</td><td>4</td></tr><tr><td>latency_ms</td><td>3.73684</td></tr><tr><td>model_size_mb</td><td>313.31335</td></tr><tr><td>step</td><td>5144</td></tr><tr><td>train_loss</td><td>1.1616</td></tr><tr><td>val_acc</td><td>0.58899</td></tr><tr><td>val_macro_f1</td><td>0.60413</td></tr></table><br/></div></div>"
      ],
      "text/plain": [
       "<IPython.core.display.HTML object>"
      ]
     },
     "metadata": {},
     "output_type": "display_data"
    },
    {
     "data": {
      "text/html": [
       " View run <strong style=\"color:#cdcd00\">trial_7</strong> at: <a href='https://wandb.ai/gal2361-tel-aviv-university/KD_optuna/runs/xh1u6202' target=\"_blank\">https://wandb.ai/gal2361-tel-aviv-university/KD_optuna/runs/xh1u6202</a><br/> View project at: <a href='https://wandb.ai/gal2361-tel-aviv-university/KD_optuna' target=\"_blank\">https://wandb.ai/gal2361-tel-aviv-university/KD_optuna</a><br/>Synced 5 W&B file(s), 0 media file(s), 0 artifact file(s) and 0 other file(s)"
      ],
      "text/plain": [
       "<IPython.core.display.HTML object>"
      ]
     },
     "metadata": {},
     "output_type": "display_data"
    },
    {
     "data": {
      "text/html": [
       "Find logs at: <code>./wandb/run-20250819_024511-xh1u6202/logs</code>"
      ],
      "text/plain": [
       "<IPython.core.display.HTML object>"
      ]
     },
     "metadata": {},
     "output_type": "display_data"
    },
    {
     "data": {
      "text/html": [
       "The new W&B backend becomes opt-out in version 0.18.0; try it out with `wandb.require(\"core\")`! See https://wandb.me/wandb-core for more information."
      ],
      "text/plain": [
       "<IPython.core.display.HTML object>"
      ]
     },
     "metadata": {},
     "output_type": "display_data"
    },
    {
     "name": "stderr",
     "output_type": "stream",
     "text": [
      "[I 2025-08-19 03:33:23,230] Trial 7 finished with value: 0.6041315991834153 and parameters: {'alpha': 0.7981657665802553, 'T': 3.228901262041499, 'epochs': 4, 'fine_tune_layers': 4, 'learning_rate': 1.7476367045079864e-06}. Best is trial 6 with value: 0.8383730266970029.\n"
     ]
    },
    {
     "name": "stdout",
     "output_type": "stream",
     "text": [
      "\n",
      "🔎 Trial 8 | alpha=0.7917585462476406, T=3.529677513201156, epochs=3, fine_tune_layers=2, lr=3.7158971638258945e-05\n"
     ]
    },
    {
     "data": {
      "text/html": [
       "wandb version 0.21.1 is available!  To upgrade, please run:\n",
       " $ pip install wandb --upgrade"
      ],
      "text/plain": [
       "<IPython.core.display.HTML object>"
      ]
     },
     "metadata": {},
     "output_type": "display_data"
    },
    {
     "data": {
      "text/html": [
       "Tracking run with wandb version 0.17.5"
      ],
      "text/plain": [
       "<IPython.core.display.HTML object>"
      ]
     },
     "metadata": {},
     "output_type": "display_data"
    },
    {
     "data": {
      "text/html": [
       "Run data is saved locally in <code>/content/wandb/run-20250819_033323-pc0788rd</code>"
      ],
      "text/plain": [
       "<IPython.core.display.HTML object>"
      ]
     },
     "metadata": {},
     "output_type": "display_data"
    },
    {
     "data": {
      "text/html": [
       "Syncing run <strong><a href='https://wandb.ai/gal2361-tel-aviv-university/KD_optuna/runs/pc0788rd' target=\"_blank\">trial_8</a></strong> to <a href='https://wandb.ai/gal2361-tel-aviv-university/KD_optuna' target=\"_blank\">Weights & Biases</a> (<a href='https://wandb.me/run' target=\"_blank\">docs</a>)<br/>"
      ],
      "text/plain": [
       "<IPython.core.display.HTML object>"
      ]
     },
     "metadata": {},
     "output_type": "display_data"
    },
    {
     "data": {
      "text/html": [
       " View project at <a href='https://wandb.ai/gal2361-tel-aviv-university/KD_optuna' target=\"_blank\">https://wandb.ai/gal2361-tel-aviv-university/KD_optuna</a>"
      ],
      "text/plain": [
       "<IPython.core.display.HTML object>"
      ]
     },
     "metadata": {},
     "output_type": "display_data"
    },
    {
     "data": {
      "text/html": [
       " View run at <a href='https://wandb.ai/gal2361-tel-aviv-university/KD_optuna/runs/pc0788rd' target=\"_blank\">https://wandb.ai/gal2361-tel-aviv-university/KD_optuna/runs/pc0788rd</a>"
      ],
      "text/plain": [
       "<IPython.core.display.HTML object>"
      ]
     },
     "metadata": {},
     "output_type": "display_data"
    },
    {
     "name": "stderr",
     "output_type": "stream",
     "text": [
      "Some weights of RobertaForSequenceClassification were not initialized from the model checkpoint at distilroberta-base and are newly initialized: ['classifier.dense.bias', 'classifier.dense.weight', 'classifier.out_proj.bias', 'classifier.out_proj.weight']\n",
      "You should probably TRAIN this model on a down-stream task to be able to use it for predictions and inference.\n",
      "/usr/local/lib/python3.11/dist-packages/transformers/optimization.py:591: FutureWarning: This implementation of AdamW is deprecated and will be removed in a future version. Use the PyTorch implementation torch.optim.AdamW instead, or set `no_deprecation_warning=True` to disable this warning\n",
      "  warnings.warn(\n"
     ]
    },
    {
     "name": "stdout",
     "output_type": "stream",
     "text": [
      "✅ Student (distilroberta-base) initialized with correct num_labels and matching tokenizer\n",
      "   🔓 Unfroze student layer 5 / 6\n",
      "   🔓 Unfroze student layer 6 / 6\n",
      "✅ Unfroze last 2 layers + classifier\n",
      "\n",
      "▶️ Epoch 1/3\n"
     ]
    },
    {
     "name": "stderr",
     "output_type": "stream",
     "text": [
      "Trial 8 Epoch 1: 100%|██████████| 5145/5145 [10:00<00:00,  8.57it/s, loss=1.51]\n"
     ]
    },
    {
     "name": "stdout",
     "output_type": "stream",
     "text": [
      "📊 Epoch 1 done. Val Macro-F1=0.6479, Acc=0.6330\n",
      "   ✅ New best F1\n",
      "\n",
      "▶️ Epoch 2/3\n"
     ]
    },
    {
     "name": "stderr",
     "output_type": "stream",
     "text": [
      "Trial 8 Epoch 2: 100%|██████████| 5145/5145 [09:59<00:00,  8.58it/s, loss=1.7]\n"
     ]
    },
    {
     "name": "stdout",
     "output_type": "stream",
     "text": [
      "📊 Epoch 2 done. Val Macro-F1=0.7020, Acc=0.6880\n",
      "   ✅ New best F1\n",
      "\n",
      "▶️ Epoch 3/3\n"
     ]
    },
    {
     "name": "stderr",
     "output_type": "stream",
     "text": [
      "Trial 8 Epoch 3: 100%|██████████| 5145/5145 [10:00<00:00,  8.57it/s, loss=0.294]\n"
     ]
    },
    {
     "name": "stdout",
     "output_type": "stream",
     "text": [
      "📊 Epoch 3 done. Val Macro-F1=0.7136, Acc=0.6993\n",
      "   ✅ New best F1\n",
      "📦 Model size: 313.31 MB | ⏱️ Latency: 3.74 ms/sample\n"
     ]
    },
    {
     "data": {
      "application/vnd.jupyter.widget-view+json": {
       "model_id": "913cee813592402dab565af3078236f6",
       "version_major": 2,
       "version_minor": 0
      },
      "text/plain": [
       "VBox(children=(Label(value='0.002 MB of 0.002 MB uploaded\\r'), FloatProgress(value=1.0, max=1.0)))"
      ]
     },
     "metadata": {},
     "output_type": "display_data"
    },
    {
     "data": {
      "text/html": [
       "<style>\n",
       "    table.wandb td:nth-child(1) { padding: 0 10px; text-align: left ; width: auto;} td:nth-child(2) {text-align: left ; width: 100%}\n",
       "    .wandb-row { display: flex; flex-direction: row; flex-wrap: wrap; justify-content: flex-start; width: 100% }\n",
       "    .wandb-col { display: flex; flex-direction: column; flex-basis: 100%; flex: 1; padding: 10px; }\n",
       "    </style>\n",
       "<div class=\"wandb-row\"><div class=\"wandb-col\"><h3>Run history:</h3><br/><table class=\"wandb\"><tr><td>F1_Extremely Negative</td><td>▁▇█</td></tr><tr><td>F1_Extremely Positive</td><td>▁▆█</td></tr><tr><td>F1_Negative</td><td>▁█▇</td></tr><tr><td>F1_Neutral</td><td>▁▅█</td></tr><tr><td>F1_Positive</td><td>▁▇█</td></tr><tr><td>epoch</td><td>▁▁▁▁▁▁▁▁▁▁▁▁▁▁▅▅▅▅▅▅▅▅▅▅▅▅▅█████████████</td></tr><tr><td>latency_ms</td><td>▁</td></tr><tr><td>model_size_mb</td><td>▁</td></tr><tr><td>step</td><td>▁▂▂▃▃▄▄▅▅▆▆▇▇█▁▂▂▃▃▄▅▅▆▆▇▇█▁▂▂▃▃▄▅▅▆▆▇▇█</td></tr><tr><td>train_loss</td><td>██▇▅▃▆▇▄▅▄▅▆▂▄█▄▇▃▄▆▄▄▄▆▂▄▃▂▃▄▂▄▄▃▂▆▁▄▃▅</td></tr><tr><td>val_acc</td><td>▁▇█</td></tr><tr><td>val_macro_f1</td><td>▁▇█</td></tr></table><br/></div><div class=\"wandb-col\"><h3>Run summary:</h3><br/><table class=\"wandb\"><tr><td>F1_Extremely Negative</td><td>0.74211</td></tr><tr><td>F1_Extremely Positive</td><td>0.75891</td></tr><tr><td>F1_Negative</td><td>0.64377</td></tr><tr><td>F1_Neutral</td><td>0.78125</td></tr><tr><td>F1_Positive</td><td>0.64211</td></tr><tr><td>epoch</td><td>3</td></tr><tr><td>latency_ms</td><td>3.73687</td></tr><tr><td>model_size_mb</td><td>313.31335</td></tr><tr><td>step</td><td>5144</td></tr><tr><td>train_loss</td><td>0.2935</td></tr><tr><td>val_acc</td><td>0.69932</td></tr><tr><td>val_macro_f1</td><td>0.71363</td></tr></table><br/></div></div>"
      ],
      "text/plain": [
       "<IPython.core.display.HTML object>"
      ]
     },
     "metadata": {},
     "output_type": "display_data"
    },
    {
     "data": {
      "text/html": [
       " View run <strong style=\"color:#cdcd00\">trial_8</strong> at: <a href='https://wandb.ai/gal2361-tel-aviv-university/KD_optuna/runs/pc0788rd' target=\"_blank\">https://wandb.ai/gal2361-tel-aviv-university/KD_optuna/runs/pc0788rd</a><br/> View project at: <a href='https://wandb.ai/gal2361-tel-aviv-university/KD_optuna' target=\"_blank\">https://wandb.ai/gal2361-tel-aviv-university/KD_optuna</a><br/>Synced 5 W&B file(s), 0 media file(s), 0 artifact file(s) and 0 other file(s)"
      ],
      "text/plain": [
       "<IPython.core.display.HTML object>"
      ]
     },
     "metadata": {},
     "output_type": "display_data"
    },
    {
     "data": {
      "text/html": [
       "Find logs at: <code>./wandb/run-20250819_033323-pc0788rd/logs</code>"
      ],
      "text/plain": [
       "<IPython.core.display.HTML object>"
      ]
     },
     "metadata": {},
     "output_type": "display_data"
    },
    {
     "data": {
      "text/html": [
       "The new W&B backend becomes opt-out in version 0.18.0; try it out with `wandb.require(\"core\")`! See https://wandb.me/wandb-core for more information."
      ],
      "text/plain": [
       "<IPython.core.display.HTML object>"
      ]
     },
     "metadata": {},
     "output_type": "display_data"
    },
    {
     "name": "stderr",
     "output_type": "stream",
     "text": [
      "[I 2025-08-19 04:04:22,165] Trial 8 finished with value: 0.7136278715722418 and parameters: {'alpha': 0.7917585462476406, 'T': 3.529677513201156, 'epochs': 3, 'fine_tune_layers': 2, 'learning_rate': 3.7158971638258945e-05}. Best is trial 6 with value: 0.8383730266970029.\n"
     ]
    },
    {
     "name": "stdout",
     "output_type": "stream",
     "text": [
      "\n",
      "🔎 Trial 9 | alpha=0.2417221832942504, T=2.360097490342662, epochs=9, fine_tune_layers=6, lr=3.2688071912282884e-06\n"
     ]
    },
    {
     "data": {
      "application/vnd.jupyter.widget-view+json": {
       "model_id": "b5a27beac6f643ccbf52cef33735d80c",
       "version_major": 2,
       "version_minor": 0
      },
      "text/plain": [
       "VBox(children=(Label(value='Waiting for wandb.init()...\\r'), FloatProgress(value=0.011113406699991578, max=1.0…"
      ]
     },
     "metadata": {},
     "output_type": "display_data"
    },
    {
     "data": {
      "text/html": [
       "wandb version 0.21.1 is available!  To upgrade, please run:\n",
       " $ pip install wandb --upgrade"
      ],
      "text/plain": [
       "<IPython.core.display.HTML object>"
      ]
     },
     "metadata": {},
     "output_type": "display_data"
    },
    {
     "data": {
      "text/html": [
       "Tracking run with wandb version 0.17.5"
      ],
      "text/plain": [
       "<IPython.core.display.HTML object>"
      ]
     },
     "metadata": {},
     "output_type": "display_data"
    },
    {
     "data": {
      "text/html": [
       "Run data is saved locally in <code>/content/wandb/run-20250819_040422-9aobzv43</code>"
      ],
      "text/plain": [
       "<IPython.core.display.HTML object>"
      ]
     },
     "metadata": {},
     "output_type": "display_data"
    },
    {
     "data": {
      "text/html": [
       "Syncing run <strong><a href='https://wandb.ai/gal2361-tel-aviv-university/KD_optuna/runs/9aobzv43' target=\"_blank\">trial_9</a></strong> to <a href='https://wandb.ai/gal2361-tel-aviv-university/KD_optuna' target=\"_blank\">Weights & Biases</a> (<a href='https://wandb.me/run' target=\"_blank\">docs</a>)<br/>"
      ],
      "text/plain": [
       "<IPython.core.display.HTML object>"
      ]
     },
     "metadata": {},
     "output_type": "display_data"
    },
    {
     "data": {
      "text/html": [
       " View project at <a href='https://wandb.ai/gal2361-tel-aviv-university/KD_optuna' target=\"_blank\">https://wandb.ai/gal2361-tel-aviv-university/KD_optuna</a>"
      ],
      "text/plain": [
       "<IPython.core.display.HTML object>"
      ]
     },
     "metadata": {},
     "output_type": "display_data"
    },
    {
     "data": {
      "text/html": [
       " View run at <a href='https://wandb.ai/gal2361-tel-aviv-university/KD_optuna/runs/9aobzv43' target=\"_blank\">https://wandb.ai/gal2361-tel-aviv-university/KD_optuna/runs/9aobzv43</a>"
      ],
      "text/plain": [
       "<IPython.core.display.HTML object>"
      ]
     },
     "metadata": {},
     "output_type": "display_data"
    },
    {
     "name": "stderr",
     "output_type": "stream",
     "text": [
      "Some weights of RobertaForSequenceClassification were not initialized from the model checkpoint at distilroberta-base and are newly initialized: ['classifier.dense.bias', 'classifier.dense.weight', 'classifier.out_proj.bias', 'classifier.out_proj.weight']\n",
      "You should probably TRAIN this model on a down-stream task to be able to use it for predictions and inference.\n",
      "/usr/local/lib/python3.11/dist-packages/transformers/optimization.py:591: FutureWarning: This implementation of AdamW is deprecated and will be removed in a future version. Use the PyTorch implementation torch.optim.AdamW instead, or set `no_deprecation_warning=True` to disable this warning\n",
      "  warnings.warn(\n"
     ]
    },
    {
     "name": "stdout",
     "output_type": "stream",
     "text": [
      "✅ Student (distilroberta-base) initialized with correct num_labels and matching tokenizer\n",
      "   🔓 Unfroze student layer 1 / 6\n",
      "   🔓 Unfroze student layer 2 / 6\n",
      "   🔓 Unfroze student layer 3 / 6\n",
      "   🔓 Unfroze student layer 4 / 6\n",
      "   🔓 Unfroze student layer 5 / 6\n",
      "   🔓 Unfroze student layer 6 / 6\n",
      "✅ Unfroze last 6 layers + classifier\n",
      "\n",
      "▶️ Epoch 1/9\n"
     ]
    },
    {
     "name": "stderr",
     "output_type": "stream",
     "text": [
      "Trial 9 Epoch 1: 100%|██████████| 5145/5145 [13:28<00:00,  6.36it/s, loss=1.47]\n"
     ]
    },
    {
     "name": "stdout",
     "output_type": "stream",
     "text": [
      "📊 Epoch 1 done. Val Macro-F1=0.6612, Acc=0.6459\n",
      "   ✅ New best F1\n",
      "\n",
      "▶️ Epoch 2/9\n"
     ]
    },
    {
     "name": "stderr",
     "output_type": "stream",
     "text": [
      "Trial 9 Epoch 2: 100%|██████████| 5145/5145 [13:28<00:00,  6.36it/s, loss=3.36]\n"
     ]
    },
    {
     "name": "stdout",
     "output_type": "stream",
     "text": [
      "📊 Epoch 2 done. Val Macro-F1=0.7187, Acc=0.7054\n",
      "   ✅ New best F1\n",
      "\n",
      "▶️ Epoch 3/9\n"
     ]
    },
    {
     "name": "stderr",
     "output_type": "stream",
     "text": [
      "Trial 9 Epoch 3: 100%|██████████| 5145/5145 [13:28<00:00,  6.36it/s, loss=0.786]\n"
     ]
    },
    {
     "name": "stdout",
     "output_type": "stream",
     "text": [
      "📊 Epoch 3 done. Val Macro-F1=0.7338, Acc=0.7212\n",
      "   ✅ New best F1\n",
      "\n",
      "▶️ Epoch 4/9\n"
     ]
    },
    {
     "name": "stderr",
     "output_type": "stream",
     "text": [
      "Trial 9 Epoch 4: 100%|██████████| 5145/5145 [13:28<00:00,  6.37it/s, loss=0.0302]\n"
     ]
    },
    {
     "name": "stdout",
     "output_type": "stream",
     "text": [
      "📊 Epoch 4 done. Val Macro-F1=0.7506, Acc=0.7385\n",
      "   ✅ New best F1\n",
      "\n",
      "▶️ Epoch 5/9\n"
     ]
    },
    {
     "name": "stderr",
     "output_type": "stream",
     "text": [
      "Trial 9 Epoch 5: 100%|██████████| 5145/5145 [13:28<00:00,  6.36it/s, loss=0.0821]\n"
     ]
    },
    {
     "name": "stdout",
     "output_type": "stream",
     "text": [
      "📊 Epoch 5 done. Val Macro-F1=0.7619, Acc=0.7501\n",
      "   ✅ New best F1\n",
      "\n",
      "▶️ Epoch 6/9\n"
     ]
    },
    {
     "name": "stderr",
     "output_type": "stream",
     "text": [
      "Trial 9 Epoch 6: 100%|██████████| 5145/5145 [13:29<00:00,  6.36it/s, loss=0.638]\n"
     ]
    },
    {
     "name": "stdout",
     "output_type": "stream",
     "text": [
      "📊 Epoch 6 done. Val Macro-F1=0.7667, Acc=0.7557\n",
      "   ✅ New best F1\n",
      "\n",
      "▶️ Epoch 7/9\n"
     ]
    },
    {
     "name": "stderr",
     "output_type": "stream",
     "text": [
      "Trial 9 Epoch 7: 100%|██████████| 5145/5145 [13:28<00:00,  6.36it/s, loss=0.886]\n"
     ]
    },
    {
     "name": "stdout",
     "output_type": "stream",
     "text": [
      "📊 Epoch 7 done. Val Macro-F1=0.7640, Acc=0.7536\n",
      "   ⚠️ No improvement. Patience counter=1\n",
      "\n",
      "▶️ Epoch 8/9\n"
     ]
    },
    {
     "name": "stderr",
     "output_type": "stream",
     "text": [
      "Trial 9 Epoch 8: 100%|██████████| 5145/5145 [13:28<00:00,  6.36it/s, loss=0.349]\n"
     ]
    },
    {
     "name": "stdout",
     "output_type": "stream",
     "text": [
      "📊 Epoch 8 done. Val Macro-F1=0.7758, Acc=0.7659\n",
      "   ✅ New best F1\n",
      "\n",
      "▶️ Epoch 9/9\n"
     ]
    },
    {
     "name": "stderr",
     "output_type": "stream",
     "text": [
      "Trial 9 Epoch 9: 100%|██████████| 5145/5145 [13:28<00:00,  6.36it/s, loss=0.852]\n"
     ]
    },
    {
     "name": "stdout",
     "output_type": "stream",
     "text": [
      "📊 Epoch 9 done. Val Macro-F1=0.7721, Acc=0.7620\n",
      "   ⚠️ No improvement. Patience counter=1\n",
      "📦 Model size: 313.31 MB | ⏱️ Latency: 3.75 ms/sample\n"
     ]
    },
    {
     "data": {
      "application/vnd.jupyter.widget-view+json": {
       "model_id": "de141ef5120a49758d4d6597c788e50c",
       "version_major": 2,
       "version_minor": 0
      },
      "text/plain": [
       "VBox(children=(Label(value='0.022 MB of 0.022 MB uploaded\\r'), FloatProgress(value=1.0, max=1.0)))"
      ]
     },
     "metadata": {},
     "output_type": "display_data"
    },
    {
     "data": {
      "text/html": [
       "<style>\n",
       "    table.wandb td:nth-child(1) { padding: 0 10px; text-align: left ; width: auto;} td:nth-child(2) {text-align: left ; width: 100%}\n",
       "    .wandb-row { display: flex; flex-direction: row; flex-wrap: wrap; justify-content: flex-start; width: 100% }\n",
       "    .wandb-col { display: flex; flex-direction: column; flex-basis: 100%; flex: 1; padding: 10px; }\n",
       "    </style>\n",
       "<div class=\"wandb-row\"><div class=\"wandb-col\"><h3>Run history:</h3><br/><table class=\"wandb\"><tr><td>F1_Extremely Negative</td><td>▁▅▅▇█▇▆█▇</td></tr><tr><td>F1_Extremely Positive</td><td>▁▅▆▇▇█▇██</td></tr><tr><td>F1_Negative</td><td>▁▄▅▆▇▇▇██</td></tr><tr><td>F1_Neutral</td><td>▁▃▆▆▇████</td></tr><tr><td>F1_Positive</td><td>▁▅▆▆▇████</td></tr><tr><td>epoch</td><td>▁▁▁▁▁▂▂▂▂▃▃▃▃▃▄▄▄▄▅▅▅▅▅▅▅▅▅▆▆▆▆▇▇▇▇▇████</td></tr><tr><td>latency_ms</td><td>▁</td></tr><tr><td>model_size_mb</td><td>▁</td></tr><tr><td>step</td><td>▁▃▄▆█▂▃▅▇▁▃▅▆█▂▄▆▇▂▃▅▆▁▃▄▆█▂▃▆▇▁▃▅▆█▂▄▅█</td></tr><tr><td>train_loss</td><td>█▆▃▅▇▆▇▂▇▃▃▃▄▂█▁▄▅▆▄▄▂▅▂▂▃▃▄▂▃▃▁▂▃▃▂▃▂▄▂</td></tr><tr><td>val_acc</td><td>▁▄▅▆▇▇▇██</td></tr><tr><td>val_macro_f1</td><td>▁▅▅▆▇▇▇██</td></tr></table><br/></div><div class=\"wandb-col\"><h3>Run summary:</h3><br/><table class=\"wandb\"><tr><td>F1_Extremely Negative</td><td>0.79213</td></tr><tr><td>F1_Extremely Positive</td><td>0.80731</td></tr><tr><td>F1_Negative</td><td>0.72149</td></tr><tr><td>F1_Neutral</td><td>0.81294</td></tr><tr><td>F1_Positive</td><td>0.72661</td></tr><tr><td>epoch</td><td>9</td></tr><tr><td>latency_ms</td><td>3.74584</td></tr><tr><td>model_size_mb</td><td>313.31335</td></tr><tr><td>step</td><td>5144</td></tr><tr><td>train_loss</td><td>0.85167</td></tr><tr><td>val_acc</td><td>0.76198</td></tr><tr><td>val_macro_f1</td><td>0.7721</td></tr></table><br/></div></div>"
      ],
      "text/plain": [
       "<IPython.core.display.HTML object>"
      ]
     },
     "metadata": {},
     "output_type": "display_data"
    },
    {
     "data": {
      "text/html": [
       " View run <strong style=\"color:#cdcd00\">trial_9</strong> at: <a href='https://wandb.ai/gal2361-tel-aviv-university/KD_optuna/runs/9aobzv43' target=\"_blank\">https://wandb.ai/gal2361-tel-aviv-university/KD_optuna/runs/9aobzv43</a><br/> View project at: <a href='https://wandb.ai/gal2361-tel-aviv-university/KD_optuna' target=\"_blank\">https://wandb.ai/gal2361-tel-aviv-university/KD_optuna</a><br/>Synced 5 W&B file(s), 0 media file(s), 0 artifact file(s) and 0 other file(s)"
      ],
      "text/plain": [
       "<IPython.core.display.HTML object>"
      ]
     },
     "metadata": {},
     "output_type": "display_data"
    },
    {
     "data": {
      "text/html": [
       "Find logs at: <code>./wandb/run-20250819_040422-9aobzv43/logs</code>"
      ],
      "text/plain": [
       "<IPython.core.display.HTML object>"
      ]
     },
     "metadata": {},
     "output_type": "display_data"
    },
    {
     "data": {
      "text/html": [
       "The new W&B backend becomes opt-out in version 0.18.0; try it out with `wandb.require(\"core\")`! See https://wandb.me/wandb-core for more information."
      ],
      "text/plain": [
       "<IPython.core.display.HTML object>"
      ]
     },
     "metadata": {},
     "output_type": "display_data"
    },
    {
     "name": "stderr",
     "output_type": "stream",
     "text": [
      "[I 2025-08-19 06:08:14,887] Trial 9 finished with value: 0.7758463044565802 and parameters: {'alpha': 0.2417221832942504, 'T': 2.360097490342662, 'epochs': 9, 'fine_tune_layers': 6, 'learning_rate': 3.2688071912282884e-06}. Best is trial 6 with value: 0.8383730266970029.\n"
     ]
    },
    {
     "name": "stdout",
     "output_type": "stream",
     "text": [
      "✅ Study complete\n",
      "Best trial: 6\n",
      "  Macro-F1: 0.8383730266970029\n",
      "  Params: {'alpha': 0.7114100573071909, 'T': 3.9042850836009335, 'epochs': 10, 'fine_tune_layers': 6, 'learning_rate': 3.649731328569074e-05}\n",
      "✅ Best trial saved: /content/drive/MyDrive/DL_2_Project/KD_optuna_ex5/best_study.json\n"
     ]
    }
   ],
   "source": [
    "# === KD with Optuna + Early Stopping (patience=3) + W&B logging + per-class F1 + PRINTS ===\n",
    "import os, json, torch, optuna, wandb, time\n",
    "import numpy as np\n",
    "import pandas as pd\n",
    "from torch.utils.data import DataLoader, Dataset\n",
    "from transformers import (\n",
    "    AutoTokenizer, AutoModelForSequenceClassification,\n",
    "    RobertaForSequenceClassification, RobertaConfig,\n",
    "    AdamW, get_scheduler\n",
    ")\n",
    "from sklearn.metrics import accuracy_score, f1_score\n",
    "from tqdm import tqdm\n",
    "# from google.colab import drive\n",
    "\n",
    "# -------------------------\n",
    "# Setup\n",
    "# -------------------------\n",
    "# drive.mount(\"/content/drive\")\n",
    "DEVICE = \"cuda\" if torch.cuda.is_available() else \"cpu\"\n",
    "print(f\"✅ Using device: {DEVICE}\")\n",
    "\n",
    "OUT_DIR = \"KD_optuna_ex5\"\n",
    "os.makedirs(OUT_DIR, exist_ok=True)\n",
    "\n",
    "TEACHER_PATH = \"adv_dl_models_final2_best/roberta_base_best_set2.pt\"\n",
    "print(f\"✅ Teacher path set: {TEACHER_PATH}\")\n",
    "\n",
    "# -------------------------\n",
    "# Load Data + Label Mapping\n",
    "# -------------------------\n",
    "train_df = pd.read_csv(\"Corona_NLP_train_cleaned_translated.csv\")\n",
    "test_df  = pd.read_csv(\"Corona_NLP_test_cleaned_translated.csv\")\n",
    "\n",
    "train_df = train_df.dropna(subset=[\"OriginalTweet\", \"Sentiment\"]).copy()\n",
    "train_df[\"OriginalTweet\"] = train_df[\"OriginalTweet\"].astype(str).str.strip()\n",
    "\n",
    "ORDER = train_df[\"Sentiment\"].unique().tolist()\n",
    "LABEL2ID = {label: i for i, label in enumerate(ORDER)}\n",
    "ID2LABEL = {i: label for label, i in LABEL2ID.items()}\n",
    "print(f\"✅ Label mapping: {LABEL2ID}\")\n",
    "\n",
    "train_df[\"label\"] = train_df[\"Sentiment\"].map(LABEL2ID)\n",
    "test_df[\"label\"]  = test_df[\"Sentiment\"].map(LABEL2ID)\n",
    "\n",
    "assert train_df[\"label\"].isnull().sum() == 0, \"❌ Unmapped train labels!\"\n",
    "assert test_df[\"label\"].isnull().sum() == 0, \"❌ Unmapped test labels!\"\n",
    "\n",
    "# -------------------------\n",
    "# Dataset\n",
    "# -------------------------\n",
    "class TextDataset(Dataset):\n",
    "    def __init__(self, df, tok, max_len=512):\n",
    "        self.texts = df[\"OriginalTweet\"].tolist()\n",
    "        self.labels = df[\"label\"].tolist()\n",
    "        self.tok = tok\n",
    "        self.max_len = max_len\n",
    "    def __len__(self): return len(self.texts)\n",
    "    def __getitem__(self, idx):\n",
    "        enc = self.tok(\n",
    "            str(self.texts[idx]),\n",
    "            truncation=True, padding=\"max_length\",\n",
    "            max_length=self.max_len, return_tensors=\"pt\"\n",
    "        )\n",
    "        item = {k: v.squeeze(0) for k, v in enc.items()}\n",
    "        item[\"labels\"] = torch.tensor(self.labels[idx])\n",
    "        return item\n",
    "\n",
    "tok = AutoTokenizer.from_pretrained(\"roberta-base\")\n",
    "print(\"✅ Tokenizer loaded\")\n",
    "\n",
    "train_ds, test_ds = TextDataset(train_df, tok), TextDataset(test_df, tok)\n",
    "train_loader = DataLoader(train_ds, batch_size=8, shuffle=True)\n",
    "test_loader  = DataLoader(test_ds, batch_size=8)\n",
    "print(f\"✅ DataLoaders ready: train={len(train_loader)}, test={len(test_loader)}\")\n",
    "\n",
    "# -------------------------\n",
    "# Teacher (frozen, custom label map fix)\n",
    "# -------------------------\n",
    "teacher_config = RobertaConfig.from_pretrained(\n",
    "    \"roberta-base\",\n",
    "    num_labels=len(LABEL2ID),\n",
    "    id2label=ID2LABEL,\n",
    "    label2id=LABEL2ID\n",
    ")\n",
    "teacher = RobertaForSequenceClassification(teacher_config)\n",
    "teacher.load_state_dict(torch.load(TEACHER_PATH, map_location=\"cpu\"))\n",
    "teacher.to(DEVICE).eval()\n",
    "print(\"✅ Teacher loaded & frozen with correct label mapping\")\n",
    "\n",
    "# -------------------------\n",
    "# KD loss\n",
    "# -------------------------\n",
    "def kd_loss_fn(student_logits, teacher_logits, labels, alpha=0.5, T=2.0):\n",
    "    ce = torch.nn.functional.cross_entropy(student_logits, labels)\n",
    "    kd = torch.nn.functional.kl_div(\n",
    "        torch.nn.functional.log_softmax(student_logits/T, dim=-1),\n",
    "        torch.nn.functional.softmax(teacher_logits/T, dim=-1),\n",
    "        reduction=\"batchmean\"\n",
    "    ) * (T*T)\n",
    "    return alpha * ce + (1 - alpha) * kd\n",
    "\n",
    "# -------------------------\n",
    "# Helpers: model size + latency\n",
    "# -------------------------\n",
    "def get_model_size(model):\n",
    "    tmp_path = os.path.join(OUT_DIR, \"temp_model.pt\")\n",
    "    torch.save(model.state_dict(), tmp_path)\n",
    "    size_mb = os.path.getsize(tmp_path) / (1024*1024)\n",
    "    os.remove(tmp_path)\n",
    "    return size_mb\n",
    "\n",
    "def get_latency(model, loader, n_batches=20):\n",
    "    model.eval()\n",
    "    times, total_samples = [], 0\n",
    "    with torch.no_grad():\n",
    "        for i, batch in enumerate(loader):\n",
    "            if i >= n_batches: break\n",
    "            batch = {k: v.to(DEVICE) for k,v in batch.items()}\n",
    "            torch.cuda.synchronize()\n",
    "            start = time.perf_counter()\n",
    "            _ = model(input_ids=batch[\"input_ids\"], attention_mask=batch[\"attention_mask\"])\n",
    "            torch.cuda.synchronize()\n",
    "            end = time.perf_counter()\n",
    "            elapsed = (end - start) / batch[\"input_ids\"].size(0)\n",
    "            times.append(elapsed)\n",
    "            total_samples += batch[\"input_ids\"].size(0)\n",
    "    if not times: return None\n",
    "    return np.mean(times) * 1000  # ms/sample\n",
    "\n",
    "# -------------------------\n",
    "# Optuna Objective\n",
    "# -------------------------\n",
    "def objective(trial):\n",
    "    alpha = trial.suggest_float(\"alpha\", 0.2, 0.8)\n",
    "    T = trial.suggest_float(\"T\", 1.0, 5.0)\n",
    "    max_epochs = trial.suggest_int(\"epochs\", 2, 10)\n",
    "    fine_tune_layers = trial.suggest_int(\"fine_tune_layers\", 2, 6)\n",
    "    lr = trial.suggest_float(\"learning_rate\", 1e-6, 5e-5, log=True)\n",
    "\n",
    "    print(f\"\\n🔎 Trial {trial.number} | alpha={alpha}, T={T}, epochs={max_epochs}, \"\n",
    "          f\"fine_tune_layers={fine_tune_layers}, lr={lr}\")\n",
    "\n",
    "    wandb.init(\n",
    "        project=\"KD_optuna\",\n",
    "        name=f\"trial_{trial.number}\",\n",
    "        config={\"alpha\": alpha, \"T\": T, \"epochs\": max_epochs,\n",
    "                \"fine_tune_layers\": fine_tune_layers, \"lr\": lr}\n",
    "    )\n",
    "\n",
    "    student = AutoModelForSequenceClassification.from_pretrained(\n",
    "        \"distilroberta-base\",\n",
    "        num_labels=len(LABEL2ID),\n",
    "        id2label=ID2LABEL, label2id=LABEL2ID\n",
    "    ).to(DEVICE)\n",
    "    print(\"✅ Student (distilroberta-base) initialized with correct num_labels and matching tokenizer\")\n",
    "\n",
    "    for param in student.parameters():\n",
    "        param.requires_grad = False\n",
    "    encoder_layers = student.roberta.encoder.layer\n",
    "    n_layers = len(encoder_layers)\n",
    "    k = min(fine_tune_layers, n_layers)\n",
    "    for i, layer in enumerate(encoder_layers[-k:], 1):\n",
    "        for p in layer.parameters():\n",
    "            p.requires_grad = True\n",
    "        print(f\"   🔓 Unfroze student layer {n_layers - k + i} / {n_layers}\")\n",
    "    if hasattr(student, \"classifier\"):\n",
    "        for p in student.classifier.parameters():\n",
    "            p.requires_grad = True\n",
    "    print(f\"✅ Unfroze last {k} layers + classifier\")\n",
    "\n",
    "    optim = AdamW(filter(lambda p: p.requires_grad, student.parameters()), lr=lr)\n",
    "    sched = get_scheduler(\"linear\", optim, num_warmup_steps=0,\n",
    "                          num_training_steps=len(train_loader) * max_epochs)\n",
    "\n",
    "    best_val_f1 = -1\n",
    "    patience = 3\n",
    "    patience_counter = 0\n",
    "\n",
    "    for epoch in range(max_epochs):\n",
    "        print(f\"\\n▶️ Epoch {epoch+1}/{max_epochs}\")\n",
    "        student.train()\n",
    "        loop = tqdm(train_loader, desc=f\"Trial {trial.number} Epoch {epoch+1}\")\n",
    "        for step, batch in enumerate(loop):\n",
    "            batch = {k: v.to(DEVICE) for k, v in batch.items()}\n",
    "            with torch.no_grad():\n",
    "                t_out = teacher(input_ids=batch[\"input_ids\"], attention_mask=batch[\"attention_mask\"])\n",
    "            s_out = student(input_ids=batch[\"input_ids\"], attention_mask=batch[\"attention_mask\"])\n",
    "            loss = kd_loss_fn(s_out.logits, t_out.logits, batch[\"labels\"], alpha=alpha, T=T)\n",
    "            optim.zero_grad(); loss.backward(); optim.step(); sched.step()\n",
    "            loop.set_postfix(loss=loss.item())\n",
    "            wandb.log({\"train_loss\": loss.item(), \"epoch\": epoch+1, \"step\": step})\n",
    "\n",
    "        # === Validation ===\n",
    "        student.eval()\n",
    "        all_preds, all_labels = [], []\n",
    "        for batch in test_loader:\n",
    "            batch = {k: v.to(DEVICE) for k, v in batch.items()}\n",
    "            with torch.no_grad():\n",
    "                out = student(input_ids=batch[\"input_ids\"], attention_mask=batch[\"attention_mask\"])\n",
    "            preds = out.logits.argmax(dim=-1).cpu().numpy()\n",
    "            all_preds.extend(preds)\n",
    "            all_labels.extend(batch[\"labels\"].cpu().numpy())\n",
    "\n",
    "        macro_f1 = f1_score(all_labels, all_preds, average=\"macro\")\n",
    "        acc = accuracy_score(all_labels, all_preds)\n",
    "        class_f1s = f1_score(all_labels, all_preds, average=None, labels=list(range(len(LABEL2ID))))\n",
    "        print(f\"📊 Epoch {epoch+1} done. Val Macro-F1={macro_f1:.4f}, Acc={acc:.4f}\")\n",
    "\n",
    "        wandb.log({\n",
    "            \"epoch\": epoch+1, \"val_macro_f1\": macro_f1, \"val_acc\": acc,\n",
    "            **{f\"F1_{ID2LABEL[i]}\": class_f1s[i] for i in range(len(ID2LABEL))}\n",
    "        })\n",
    "\n",
    "        if macro_f1 > best_val_f1:\n",
    "            best_val_f1 = macro_f1\n",
    "            patience_counter = 0\n",
    "            print(\"   ✅ New best F1\")\n",
    "        else:\n",
    "            patience_counter += 1\n",
    "            print(f\"   ⚠️ No improvement. Patience counter={patience_counter}\")\n",
    "            if patience_counter >= patience:\n",
    "                print(f\"⏹️ Early stopping at epoch {epoch+1}\")\n",
    "                break\n",
    "\n",
    "    # === Size & Latency Measurement ===\n",
    "    model_size = get_model_size(student)\n",
    "    latency = get_latency(student, test_loader, n_batches=20)\n",
    "    print(f\"📦 Model size: {model_size:.2f} MB | ⏱️ Latency: {latency:.2f} ms/sample\")\n",
    "\n",
    "    wandb.log({\"model_size_mb\": model_size, \"latency_ms\": latency})\n",
    "    wandb.finish()\n",
    "\n",
    "    trial.set_user_attr(\"macro_f1\", best_val_f1)\n",
    "    trial.set_user_attr(\"model_size_mb\", model_size)\n",
    "    trial.set_user_attr(\"latency_ms\", latency)\n",
    "    return best_val_f1\n",
    "\n",
    "# -------------------------\n",
    "# Run Optuna\n",
    "# -------------------------\n",
    "print(\"🚀 Starting Optuna\")\n",
    "study = optuna.create_study(direction=\"maximize\")\n",
    "study.optimize(objective, n_trials=10)\n",
    "\n",
    "print(\"✅ Study complete\")\n",
    "print(\"Best trial:\", study.best_trial.number)\n",
    "print(\"  Macro-F1:\", study.best_value)\n",
    "print(\"  Params:\", study.best_trial.params)\n",
    "\n",
    "# -------------------------\n",
    "# Save best results (incl size & latency)\n",
    "# -------------------------\n",
    "best_path = os.path.join(OUT_DIR, \"best_study.json\")\n",
    "with open(best_path, \"w\") as f:\n",
    "    json.dump({\n",
    "        \"trial\": study.best_trial.number,\n",
    "        \"macro_f1\": study.best_value,\n",
    "        \"params\": study.best_trial.params,\n",
    "        \"model_size_mb\": study.best_trial.user_attrs.get(\"model_size_mb\", None),\n",
    "        \"latency_ms\": study.best_trial.user_attrs.get(\"latency_ms\", None)\n",
    "    }, f, indent=2)\n",
    "print(\"✅ Best trial saved:\", best_path)\n"
   ]
  },
  {
   "cell_type": "markdown",
   "metadata": {
    "id": "k565rJOYZRa9"
   },
   "source": [
    "# 📊 Knowledge Distillation – Optuna Results Analysis (EX5)\n",
    "\n",
    "We ran **10 Optuna trials** for KD  \n",
    "(**teacher = RoBERTa-base, student = DistilRoBERTa-base**).  \n",
    "\n",
    "Each trial varied **temperature (T)**, **alpha**, **epochs**, **fine-tune layers**, and **learning rate**.  \n",
    "We tracked **validation Macro-F1**, **Accuracy**, **model size**, and **latency**.\n",
    "\n",
    "---\n",
    "\n",
    "## 🔎 Results Table\n",
    "\n",
    "| Trial | T     | α     | Epochs | Fine-tune Layers | LR            | Val Macro-F1 | Val Acc | Size (MB) | Latency (ms/sample) |\n",
    "|-------|-------|-------|--------|------------------|---------------|--------------|---------|-----------|---------------------|\n",
    "| #6    | 3.90  | 0.711 | 10     | 6                | 3.65e-05      | **0.8296**   | **0.8252** | 313.3     | 3.74                |\n",
    "| #9    | 2.36  | 0.242 | 9      | 6                | 3.27e-06      | 0.7721       | 0.7620  | 313.3     | 3.75                |\n",
    "| #0    | 2.51  | 0.701 | 6      | 3                | 3.67e-05      | 0.7696       | 0.7586  | 313.3     | 3.75                |\n",
    "| #2    | 1.97  | 0.365 | 8      | 3                | 4.16e-05      | 0.7693       | 0.7596  | 313.3     | 3.72                |\n",
    "| #5    | 4.19  | 0.266 | 5      | 6                | 2.82e-06      | 0.7382       | 0.7257  | 313.3     | 3.74                |\n",
    "| #8    | 3.53  | 0.792 | 3      | 2                | 3.72e-05      | 0.7136       | 0.6993  | 313.3     | 3.74                |\n",
    "| #4    | 1.05  | 0.253 | 8      | 3                | 4.81e-06      | 0.6906       | 0.6764  | 313.3     | 3.73                |\n",
    "| #1    | 2.52  | 0.583 | 6      | 2                | 8.87e-06      | 0.6669       | 0.6522  | 313.3     | 3.75                |\n",
    "| #7    | 3.23  | 0.798 | 4      | 4                | 1.75e-06      | 0.6041       | 0.5890  | 313.3     | 3.74                |\n",
    "| #3    | 2.28  | 0.275 | 4      | 4                | 1.12e-06      | 0.5669       | 0.5521  | 313.3     | 3.75                |\n",
    "\n",
    "---\n",
    "\n",
    "## 📈 Key Insights\n",
    "\n",
    "- **Best Trial (#6)**:  \n",
    "  - Macro-F1 = **0.830**, Accuracy = **0.825**.  \n",
    "  - Settings: *T ≈ 3.9, α ≈ 0.71, 10 epochs, fine-tune last 6 layers, LR ≈ 3.6e-5*.  \n",
    "  - Achieved the **highest performance** across all trials, chosen for **final training**.\n",
    "\n",
    "- **Runner-up (#9/#0/#2)**:  \n",
    "  - Macro-F1 ~0.77–0.77, Accuracy ~0.76.  \n",
    "  - Showed that fewer epochs or lower learning rate limited performance.  \n",
    "\n",
    "- **Weaker Trials (#7, #3):**  \n",
    "  - Shallow training (≤4 epochs) or extremely low LR led to collapse (<0.61 Macro-F1).  \n",
    "\n",
    "- **Model Size & Latency**:  \n",
    "  - Student stayed at **~313 MB**, **~3.7 ms/sample (CPU est.)**.  \n",
    "  - KD impacts accuracy, not model size/latency (since student arch is fixed).  \n",
    "\n",
    "---\n",
    "\n",
    "## ✅ Takeaways\n",
    "\n",
    "- **KD successfully compressed** the RoBERTa teacher into a smaller student, preserving strong performance.  \n",
    "- Best setup favors:  \n",
    "  - **Higher α (~0.7)** → more weight on ground-truth labels.  \n",
    "  - **Moderately high T (~4)** → smooth teacher logits aid transfer.  \n",
    "  - **Sufficient training (≥10 epochs)** with multiple unfrozen layers.  \n",
    "- **Final Choice**: Trial #6 hyperparameters for deployment.  \n"
   ]
  },
  {
   "cell_type": "markdown",
   "metadata": {},
   "source": [
    "# Load Best Model"
   ]
  },
  {
   "cell_type": "code",
   "execution_count": 17,
   "metadata": {
    "colab": {
     "base_uri": "https://localhost:8080/",
     "height": 1000,
     "referenced_widgets": [
      "5c21b032a8474dd1a4353d6dbf2955a0",
      "71033ab1baca4082a727896bcb02ebf9",
      "6a46d733f040474db06b591e5861df20",
      "a0f0604471034cfe9daab1c208446c23",
      "6ff6bef0c6144c67a46d66259304b195",
      "8035cc4a31b643c3a10f66255db0c975",
      "d0985bac60d0437a878e857242d488c5",
      "0e5320f58d2943c2893d417c47c160ad",
      "66cbd0a22fd141f5a32e5e00a2850308",
      "a2832ffce5844820b3252ee7361d2c5d",
      "c2576da846db4855a91fb8a661801618",
      "637f86ac331447c39bf4dcf54a1bfbdf",
      "b42ab6b829c94b8fbabcd3da8fba3b82",
      "926486ae42594ffa9e2b88e1d9069390",
      "4da0f7afe39141b3a8e69f373bc78b05",
      "954949652b0443e883547db608841fa4",
      "bca84aa1b061422aa211594f4dd6e54e",
      "aca3de56c0f14c938d73246d426491f7",
      "b1e1dbf39d114e32b0a3df95ab72ebe8",
      "708c7acb217c406fb4d65db6a0e1ded5",
      "b229adb84dbd46febb893a835faca4cd",
      "d6c23af7e53149058bfb2aa5ddbd1dba"
     ]
    },
    "executionInfo": {
     "elapsed": 16971719,
     "status": "ok",
     "timestamp": 1755631891828,
     "user": {
      "displayName": "גל גוסרסקי",
      "userId": "06195569624382764324"
     },
     "user_tz": -180
    },
    "id": "3NfdPQuhYT1B",
    "outputId": "1317a612-b4e2-4a21-c762-c961e08216d3"
   },
   "outputs": [
    {
     "name": "stdout",
     "output_type": "stream",
     "text": [
      "Drive already mounted at /content/drive; to attempt to forcibly remount, call drive.mount(\"/content/drive\", force_remount=True).\n",
      "✅ Using device: cuda\n"
     ]
    },
    {
     "name": "stderr",
     "output_type": "stream",
     "text": [
      "Some weights of RobertaForSequenceClassification were not initialized from the model checkpoint at roberta-base and are newly initialized: ['classifier.dense.bias', 'classifier.dense.weight', 'classifier.out_proj.bias', 'classifier.out_proj.weight']\n",
      "You should probably TRAIN this model on a down-stream task to be able to use it for predictions and inference.\n"
     ]
    },
    {
     "data": {
      "application/vnd.jupyter.widget-view+json": {
       "model_id": "5c21b032a8474dd1a4353d6dbf2955a0",
       "version_major": 2,
       "version_minor": 0
      },
      "text/plain": [
       "config.json:   0%|          | 0.00/480 [00:00<?, ?B/s]"
      ]
     },
     "metadata": {},
     "output_type": "display_data"
    },
    {
     "data": {
      "application/vnd.jupyter.widget-view+json": {
       "model_id": "637f86ac331447c39bf4dcf54a1bfbdf",
       "version_major": 2,
       "version_minor": 0
      },
      "text/plain": [
       "model.safetensors:   0%|          | 0.00/331M [00:00<?, ?B/s]"
      ]
     },
     "metadata": {},
     "output_type": "display_data"
    },
    {
     "name": "stderr",
     "output_type": "stream",
     "text": [
      "Some weights of RobertaForSequenceClassification were not initialized from the model checkpoint at distilroberta-base and are newly initialized: ['classifier.dense.bias', 'classifier.dense.weight', 'classifier.out_proj.bias', 'classifier.out_proj.weight']\n",
      "You should probably TRAIN this model on a down-stream task to be able to use it for predictions and inference.\n",
      "/usr/local/lib/python3.11/dist-packages/transformers/optimization.py:591: FutureWarning: This implementation of AdamW is deprecated and will be removed in a future version. Use the PyTorch implementation torch.optim.AdamW instead, or set `no_deprecation_warning=True` to disable this warning\n",
      "  warnings.warn(\n",
      "Epoch 1/10: 100%|██████████| 2573/2573 [27:36<00:00,  1.55it/s]\n"
     ]
    },
    {
     "name": "stdout",
     "output_type": "stream",
     "text": [
      "Epoch 1 Loss: 2.9292\n",
      "🧪 Epoch 1 Test Accuracy: 0.6319 | Macro F1: 0.6473\n"
     ]
    },
    {
     "name": "stderr",
     "output_type": "stream",
     "text": [
      "Epoch 2/10: 100%|██████████| 2573/2573 [27:41<00:00,  1.55it/s]\n"
     ]
    },
    {
     "name": "stdout",
     "output_type": "stream",
     "text": [
      "Epoch 2 Loss: 2.0236\n",
      "🧪 Epoch 2 Test Accuracy: 0.6617 | Macro F1: 0.6765\n"
     ]
    },
    {
     "name": "stderr",
     "output_type": "stream",
     "text": [
      "Epoch 3/10: 100%|██████████| 2573/2573 [27:40<00:00,  1.55it/s]\n"
     ]
    },
    {
     "name": "stdout",
     "output_type": "stream",
     "text": [
      "Epoch 3 Loss: 1.7070\n",
      "🧪 Epoch 3 Test Accuracy: 0.7101 | Macro F1: 0.7239\n"
     ]
    },
    {
     "name": "stderr",
     "output_type": "stream",
     "text": [
      "Epoch 4/10: 100%|██████████| 2573/2573 [27:40<00:00,  1.55it/s]\n"
     ]
    },
    {
     "name": "stdout",
     "output_type": "stream",
     "text": [
      "Epoch 4 Loss: 1.5085\n",
      "🧪 Epoch 4 Test Accuracy: 0.7367 | Macro F1: 0.7489\n"
     ]
    },
    {
     "name": "stderr",
     "output_type": "stream",
     "text": [
      "Epoch 5/10: 100%|██████████| 2573/2573 [27:40<00:00,  1.55it/s]\n"
     ]
    },
    {
     "name": "stdout",
     "output_type": "stream",
     "text": [
      "Epoch 5 Loss: 1.3658\n",
      "🧪 Epoch 5 Test Accuracy: 0.7446 | Macro F1: 0.7569\n"
     ]
    },
    {
     "name": "stderr",
     "output_type": "stream",
     "text": [
      "Epoch 6/10: 100%|██████████| 2573/2573 [27:40<00:00,  1.55it/s]\n"
     ]
    },
    {
     "name": "stdout",
     "output_type": "stream",
     "text": [
      "Epoch 6 Loss: 1.2588\n",
      "🧪 Epoch 6 Test Accuracy: 0.7483 | Macro F1: 0.7600\n"
     ]
    },
    {
     "name": "stderr",
     "output_type": "stream",
     "text": [
      "Epoch 7/10: 100%|██████████| 2573/2573 [27:40<00:00,  1.55it/s]\n"
     ]
    },
    {
     "name": "stdout",
     "output_type": "stream",
     "text": [
      "Epoch 7 Loss: 1.1879\n",
      "🧪 Epoch 7 Test Accuracy: 0.7533 | Macro F1: 0.7649\n"
     ]
    },
    {
     "name": "stderr",
     "output_type": "stream",
     "text": [
      "Epoch 8/10: 100%|██████████| 2573/2573 [27:41<00:00,  1.55it/s]\n"
     ]
    },
    {
     "name": "stdout",
     "output_type": "stream",
     "text": [
      "Epoch 8 Loss: 1.1197\n",
      "🧪 Epoch 8 Test Accuracy: 0.7665 | Macro F1: 0.7772\n"
     ]
    },
    {
     "name": "stderr",
     "output_type": "stream",
     "text": [
      "Epoch 9/10: 100%|██████████| 2573/2573 [27:40<00:00,  1.55it/s]\n"
     ]
    },
    {
     "name": "stdout",
     "output_type": "stream",
     "text": [
      "Epoch 9 Loss: 1.0818\n",
      "🧪 Epoch 9 Test Accuracy: 0.7591 | Macro F1: 0.7695\n"
     ]
    },
    {
     "name": "stderr",
     "output_type": "stream",
     "text": [
      "Epoch 10/10: 100%|██████████| 2573/2573 [27:40<00:00,  1.55it/s]\n"
     ]
    },
    {
     "name": "stdout",
     "output_type": "stream",
     "text": [
      "Epoch 10 Loss: 1.0569\n",
      "🧪 Epoch 10 Test Accuracy: 0.7607 | Macro F1: 0.7710\n",
      "🎉 Final student saved to /content/drive/MyDrive/DL_2_Project/KD_final_set2_student_distilroberta/distilroberta_ex5_student_final.pt\n"
     ]
    },
    {
     "name": "stderr",
     "output_type": "stream",
     "text": [
      "Final Evaluation: 100%|██████████| 238/238 [00:33<00:00,  7.17it/s]\n"
     ]
    },
    {
     "name": "stdout",
     "output_type": "stream",
     "text": [
      "\n",
      "=== Final Test Evaluation ===\n",
      "Accuracy: 0.7607\n",
      "Macro F1: 0.7710\n",
      "\n",
      "Classification Report:\n",
      "                     precision    recall  f1-score   support\n",
      "\n",
      "           Neutral       0.89      0.74      0.81       619\n",
      "          Positive       0.70      0.74      0.72       947\n",
      "Extremely Negative       0.75      0.86      0.80       592\n",
      "          Negative       0.74      0.70      0.72      1041\n",
      "Extremely Positive       0.80      0.81      0.81       599\n",
      "\n",
      "          accuracy                           0.76      3798\n",
      "         macro avg       0.78      0.77      0.77      3798\n",
      "      weighted avg       0.76      0.76      0.76      3798\n",
      "\n",
      "⏱️ Latency: 8.74 ms/sample\n",
      "💾 Model size: 313.32 MB\n"
     ]
    }
   ],
   "source": [
    "# === Final KD Training on Best Hyperparameters (per-epoch test eval) ===\n",
    "import os, time, json, torch\n",
    "import numpy as np\n",
    "import pandas as pd\n",
    "from torch.utils.data import DataLoader, Dataset\n",
    "from transformers import (\n",
    "    AutoTokenizer, AutoModelForSequenceClassification,\n",
    "    RobertaForSequenceClassification, AdamW, get_scheduler\n",
    ")\n",
    "from sklearn.metrics import accuracy_score, f1_score, classification_report\n",
    "from tqdm import tqdm\n",
    "# from google.colab import drive\n",
    "\n",
    "# -------------------------\n",
    "# Setup\n",
    "# -------------------------\n",
    "# drive.mount(\"/content/drive\")\n",
    "DEVICE = \"cuda\" if torch.cuda.is_available() else \"cpu\"\n",
    "print(f\"✅ Using device: {DEVICE}\")\n",
    "\n",
    "BASE_OUT_DIR = \"\"\n",
    "TEACHER_PATH = f\"{BASE_OUT_DIR}/adv_dl_models_final2_best/roberta_base_best_set2.pt\"\n",
    "FINAL_OUT_DIR = f\"{BASE_OUT_DIR}/KD_final_set2_student_distilroberta\"\n",
    "os.makedirs(FINAL_OUT_DIR, exist_ok=True)\n",
    "\n",
    "# -------------------------\n",
    "# Load Data\n",
    "# -------------------------\n",
    "train_df = pd.read_csv(f\"{BASE_OUT_DIR}/Corona_NLP_train_cleaned_translated.csv\")\n",
    "test_df  = pd.read_csv(f\"{BASE_OUT_DIR}/Corona_NLP_test_cleaned_translated.csv\")\n",
    "\n",
    "train_df = train_df.dropna(subset=[\"OriginalTweet\", \"Sentiment\"]).copy()\n",
    "test_df  = test_df.dropna(subset=[\"OriginalTweet\", \"Sentiment\"]).copy()\n",
    "\n",
    "train_df[\"OriginalTweet\"] = train_df[\"OriginalTweet\"].astype(str).str.strip()\n",
    "test_df[\"OriginalTweet\"]  = test_df[\"OriginalTweet\"].astype(str).str.strip()\n",
    "train_df[\"Sentiment\"] = train_df[\"Sentiment\"].astype(str).str.strip()\n",
    "test_df[\"Sentiment\"]  = test_df[\"Sentiment\"].astype(str).str.strip()\n",
    "\n",
    "TRAIN_ORDER_SET2 = [\"Neutral\", \"Positive\", \"Extremely Negative\", \"Negative\", \"Extremely Positive\"]\n",
    "LABEL2ID = {label: i for i, label in enumerate(TRAIN_ORDER_SET2)}\n",
    "ID2LABEL = {i: label for label, i in LABEL2ID.items()}\n",
    "\n",
    "train_df[\"label\"] = train_df[\"Sentiment\"].map(LABEL2ID)\n",
    "test_df[\"label\"]  = test_df[\"Sentiment\"].map(LABEL2ID)\n",
    "\n",
    "train_df = train_df[train_df[\"label\"].notna()].copy()\n",
    "test_df  = test_df[test_df[\"label\"].notna()].copy()\n",
    "train_df[\"label\"] = train_df[\"label\"].astype(int)\n",
    "test_df[\"label\"]  = test_df[\"label\"].astype(int)\n",
    "\n",
    "# -------------------------\n",
    "# Dataset\n",
    "# -------------------------\n",
    "class TextDataset(Dataset):\n",
    "    def __init__(self, df, tok, max_len=512):\n",
    "        self.texts = df[\"OriginalTweet\"].tolist()\n",
    "        self.labels = df[\"label\"].tolist()\n",
    "        self.tok = tok\n",
    "        self.max_len = max_len\n",
    "    def __len__(self): return len(self.texts)\n",
    "    def __getitem__(self, idx):\n",
    "        enc = self.tok(\n",
    "            self.texts[idx],\n",
    "            truncation=True, padding=\"max_length\",\n",
    "            max_length=self.max_len, return_tensors=\"pt\"\n",
    "        )\n",
    "        item = {k: v.squeeze(0) for k, v in enc.items()}\n",
    "        item[\"labels\"] = torch.tensor(self.labels[idx], dtype=torch.long)\n",
    "        return item\n",
    "\n",
    "# -------------------------\n",
    "# Tokenizer + Models\n",
    "# -------------------------\n",
    "tokenizer = AutoTokenizer.from_pretrained(\"roberta-base\")\n",
    "\n",
    "teacher = RobertaForSequenceClassification.from_pretrained(\"roberta-base\", num_labels=len(LABEL2ID))\n",
    "teacher.load_state_dict(torch.load(TEACHER_PATH, map_location=DEVICE))\n",
    "teacher.to(DEVICE).eval()\n",
    "\n",
    "student = AutoModelForSequenceClassification.from_pretrained(\n",
    "    \"distilroberta-base\",\n",
    "    num_labels=len(LABEL2ID),\n",
    "    id2label=ID2LABEL, label2id=LABEL2ID\n",
    ").to(DEVICE)\n",
    "\n",
    "# Freeze all except last 6 layers\n",
    "for param in student.parameters():\n",
    "    param.requires_grad = False\n",
    "for layer in student.roberta.encoder.layer[-6:]:\n",
    "    for param in layer.parameters():\n",
    "        param.requires_grad = True\n",
    "for param in student.classifier.parameters():\n",
    "    param.requires_grad = True\n",
    "\n",
    "# -------------------------\n",
    "# KD Loss (Optuna best)\n",
    "# -------------------------\n",
    "import torch.nn.functional as F\n",
    "T = 3.90429\n",
    "ALPHA = 0.71141\n",
    "def kd_loss(student_logits, teacher_logits, labels):\n",
    "    hard_loss = F.cross_entropy(student_logits, labels)\n",
    "    soft_loss = F.kl_div(\n",
    "        F.log_softmax(student_logits / T, dim=-1),\n",
    "        F.softmax(teacher_logits / T, dim=-1),\n",
    "        reduction=\"batchmean\"\n",
    "    ) * (T * T)\n",
    "    return ALPHA * soft_loss + (1 - ALPHA) * hard_loss\n",
    "\n",
    "# -------------------------\n",
    "# Dataloaders\n",
    "# -------------------------\n",
    "train_dataset = TextDataset(train_df, tokenizer)\n",
    "test_dataset  = TextDataset(test_df, tokenizer)\n",
    "train_loader = DataLoader(train_dataset, batch_size=16, shuffle=True)\n",
    "test_loader  = DataLoader(test_dataset, batch_size=16)\n",
    "\n",
    "# -------------------------\n",
    "# Optimizer + Scheduler\n",
    "# -------------------------\n",
    "optimizer = AdamW(filter(lambda p: p.requires_grad, student.parameters()), lr=3.64e-6)\n",
    "scheduler = get_scheduler(\n",
    "    \"linear\", optimizer,\n",
    "    num_warmup_steps=0,\n",
    "    num_training_steps=len(train_loader) * 10\n",
    ")\n",
    "\n",
    "# -------------------------\n",
    "# Train (Full 10 epochs with test eval after each)\n",
    "# -------------------------\n",
    "for epoch in range(10):\n",
    "    student.train()\n",
    "    total_loss = 0\n",
    "    for batch in tqdm(train_loader, desc=f\"Epoch {epoch+1}/10\"):\n",
    "        batch = {k: v.to(DEVICE) for k, v in batch.items()}\n",
    "        with torch.no_grad():\n",
    "            teacher_logits = teacher(\n",
    "                input_ids=batch[\"input_ids\"],\n",
    "                attention_mask=batch[\"attention_mask\"]\n",
    "            ).logits\n",
    "        student_logits = student(\n",
    "            input_ids=batch[\"input_ids\"],\n",
    "            attention_mask=batch[\"attention_mask\"]\n",
    "        ).logits\n",
    "\n",
    "        loss = kd_loss(student_logits, teacher_logits, batch[\"labels\"])\n",
    "        loss.backward()\n",
    "        optimizer.step()\n",
    "        scheduler.step()\n",
    "        optimizer.zero_grad()\n",
    "        total_loss += loss.item()\n",
    "    print(f\"Epoch {epoch+1} Loss: {total_loss/len(train_loader):.4f}\")\n",
    "\n",
    "    # === Eval on test ===\n",
    "    student.eval()\n",
    "    preds, labels = [], []\n",
    "    with torch.no_grad():\n",
    "        for batch in test_loader:\n",
    "            batch = {k: v.to(DEVICE) for k, v in batch.items()}\n",
    "            logits = student(input_ids=batch[\"input_ids\"], attention_mask=batch[\"attention_mask\"]).logits\n",
    "            preds.extend(torch.argmax(logits, dim=-1).cpu().numpy())\n",
    "            labels.extend(batch[\"labels\"].cpu().numpy())\n",
    "    acc = accuracy_score(labels, preds)\n",
    "    f1 = f1_score(labels, preds, average=\"macro\")\n",
    "    print(f\"🧪 Epoch {epoch+1} Test Accuracy: {acc:.4f} | Macro F1: {f1:.4f}\")\n",
    "\n",
    "# -------------------------\n",
    "# Save final student\n",
    "# -------------------------\n",
    "FINAL_PATH = os.path.join(FINAL_OUT_DIR, \"distilroberta_ex5_student_final.pt\")\n",
    "torch.save(student.state_dict(), FINAL_PATH)\n",
    "print(f\"🎉 Final student saved to {FINAL_PATH}\")\n",
    "\n",
    "# -------------------------\n",
    "# Final Evaluation (Full)\n",
    "# -------------------------\n",
    "student.eval()\n",
    "preds, labels = [], []\n",
    "\n",
    "start_time = time.time()\n",
    "with torch.no_grad():\n",
    "    for batch in tqdm(test_loader, desc=\"Final Evaluation\"):\n",
    "        batch = {k: v.to(DEVICE) for k, v in batch.items()}\n",
    "        logits = student(\n",
    "            input_ids=batch[\"input_ids\"],\n",
    "            attention_mask=batch[\"attention_mask\"]\n",
    "        ).logits\n",
    "        preds.extend(torch.argmax(logits, dim=-1).cpu().numpy())\n",
    "        labels.extend(batch[\"labels\"].cpu().numpy())\n",
    "end_time = time.time()\n",
    "\n",
    "acc = accuracy_score(labels, preds)\n",
    "macro_f1 = f1_score(labels, preds, average=\"macro\")\n",
    "report = classification_report(labels, preds, target_names=TRAIN_ORDER_SET2)\n",
    "latency = (end_time - start_time) / len(test_dataset) * 1000\n",
    "model_size_mb = os.path.getsize(FINAL_PATH) / (1024 * 1024)\n",
    "\n",
    "print(\"\\n=== Final Test Evaluation ===\")\n",
    "print(f\"Accuracy: {acc:.4f}\")\n",
    "print(f\"Macro F1: {macro_f1:.4f}\")\n",
    "print(\"\\nClassification Report:\\n\", report)\n",
    "print(f\"⏱️ Latency: {latency:.2f} ms/sample\")\n",
    "print(f\"💾 Model size: {model_size_mb:.2f} MB\")\n"
   ]
  },
  {
   "cell_type": "markdown",
   "metadata": {
    "id": "NVfTr3QJa1xa"
   },
   "source": [
    "# 🎓 Final Knowledge Distillation – Student Training & Test Results (EX5)\n",
    "\n",
    "## 🧑‍🎓 Student Model\n",
    "- **Architecture**: `distilroberta-base`  \n",
    "- **Checkpoints**: Unfroze last **6/6 transformer layers**  \n",
    "- **Saved to**: `/content/drive/MyDrive/DL_2_Project/KD_final_set2_student_distilroberta/distilroberta_ex5_student_final.pt`  \n",
    "\n",
    "---\n",
    "\n",
    "## 📈 Training Progress\n",
    "- **Epochs**: 10  \n",
    "- **Loss Trend**:  \n",
    "  - Epoch 1 → 2.93  \n",
    "  - Epoch 3 → 1.71  \n",
    "  - Epoch 6 → 1.26  \n",
    "  - Epoch 9 → 1.08  \n",
    "  - Epoch 10 → **1.06**  \n",
    "\n",
    "> Training converged smoothly with consistent improvements in Accuracy and Macro-F1 up to epoch 10.\n",
    "\n",
    "---\n",
    "\n",
    "## ✅ Final Test Evaluation\n",
    "\n",
    "**Overall Performance (Test Set, n=3798):**\n",
    "- **Accuracy**: **0.7607**  \n",
    "- **Macro-F1**: **0.7710**  \n",
    "- **Latency**: **8.74 ms/sample**  \n",
    "- **Model size**: **313.32 MB**\n",
    "\n",
    "### Classification Report\n",
    "\n",
    "| Sentiment            | Precision | Recall | F1-score | Support |\n",
    "|----------------------|-----------|--------|----------|---------|\n",
    "| Neutral              | 0.89      | 0.74   | 0.81     | 619     |\n",
    "| Positive             | 0.70      | 0.74   | 0.72     | 947     |\n",
    "| Extremely Negative   | 0.75      | 0.86   | 0.80     | 592     |\n",
    "| Negative             | 0.74      | 0.70   | 0.72     | 1041    |\n",
    "| Extremely Positive   | 0.80      | 0.81   | 0.81     | 599     |\n",
    "\n",
    "**Macro Average** → Precision: 0.78 | Recall: 0.77 | F1: **0.77**  \n",
    "**Weighted Average** → Precision: 0.76 | Recall: 0.76 | F1: 0.76  \n",
    "\n",
    "---\n",
    "\n",
    "## 📊 Teacher vs. Student – Final Comparison\n",
    "\n",
    "| Model                          | Params (M) | Size (MB) | Accuracy | Macro-F1 | Latency (ms/sample) |\n",
    "|--------------------------------|------------|-----------|----------|----------|----------------------|\n",
    "| **RoBERTa-base (Teacher)**     | ~125M      | ~475 MB   | 0.8354   | 0.8402   | 65.00 (FP32) / 47.81 (INT8) |\n",
    "| **DistilRoBERTa (Student, KD)**| ~66M       | 313 MB    | 0.7607   | 0.7710   | **8.74** (CPU)       |\n",
    "\n",
    "---\n",
    "\n",
    "## 🚀 Insights\n",
    "- The **student** is **~35% smaller** and **~7× faster** than the teacher, though accuracy/F1 dropped by ~7%.  \n",
    "- **KD preserved reasonable per-class balance**, especially for extreme sentiment classes (F1≈0.80–0.81).  \n",
    "- Compared to **quantization**, the KD student offers a **different trade-off**: smaller & faster, but less accurate than the teacher.  \n",
    "- KD remains a practical compression technique for deployment when efficiency is prioritized over peak accuracy.  \n"
   ]
  },
  {
   "cell_type": "code",
   "execution_count": null,
   "metadata": {},
   "outputs": [],
   "source": []
  }
 ],
 "metadata": {
  "accelerator": "GPU",
  "colab": {
   "authorship_tag": "ABX9TyPdGScZLErgYaISnm5fL0N6",
   "gpuType": "L4",
   "machine_shape": "hm",
   "provenance": []
  },
  "kernelspec": {
   "display_name": "Python (dl4090)",
   "language": "python",
   "name": "dl4090"
  },
  "language_info": {
   "codemirror_mode": {
    "name": "ipython",
    "version": 3
   },
   "file_extension": ".py",
   "mimetype": "text/x-python",
   "name": "python",
   "nbconvert_exporter": "python",
   "pygments_lexer": "ipython3",
   "version": "3.11.13"
  },
  "widgets": {
   "application/vnd.jupyter.widget-state+json": {
    "02c363b4b0e947efa82661d60ac50671": {
     "model_module": "@jupyter-widgets/base",
     "model_module_version": "1.2.0",
     "model_name": "LayoutModel",
     "state": {
      "_model_module": "@jupyter-widgets/base",
      "_model_module_version": "1.2.0",
      "_model_name": "LayoutModel",
      "_view_count": null,
      "_view_module": "@jupyter-widgets/base",
      "_view_module_version": "1.2.0",
      "_view_name": "LayoutView",
      "align_content": null,
      "align_items": null,
      "align_self": null,
      "border": null,
      "bottom": null,
      "display": null,
      "flex": null,
      "flex_flow": null,
      "grid_area": null,
      "grid_auto_columns": null,
      "grid_auto_flow": null,
      "grid_auto_rows": null,
      "grid_column": null,
      "grid_gap": null,
      "grid_row": null,
      "grid_template_areas": null,
      "grid_template_columns": null,
      "grid_template_rows": null,
      "height": null,
      "justify_content": null,
      "justify_items": null,
      "left": null,
      "margin": null,
      "max_height": null,
      "max_width": null,
      "min_height": null,
      "min_width": null,
      "object_fit": null,
      "object_position": null,
      "order": null,
      "overflow": null,
      "overflow_x": null,
      "overflow_y": null,
      "padding": null,
      "right": null,
      "top": null,
      "visibility": null,
      "width": null
     }
    },
    "02ce0f51c38c4a648ebeccac42529d13": {
     "model_module": "@jupyter-widgets/controls",
     "model_module_version": "1.5.0",
     "model_name": "DescriptionStyleModel",
     "state": {
      "_model_module": "@jupyter-widgets/controls",
      "_model_module_version": "1.5.0",
      "_model_name": "DescriptionStyleModel",
      "_view_count": null,
      "_view_module": "@jupyter-widgets/base",
      "_view_module_version": "1.2.0",
      "_view_name": "StyleView",
      "description_width": ""
     }
    },
    "03b023d759ea4807b55d8b06dced5a1c": {
     "model_module": "@jupyter-widgets/controls",
     "model_module_version": "1.5.0",
     "model_name": "VBoxModel",
     "state": {
      "_dom_classes": [],
      "_model_module": "@jupyter-widgets/controls",
      "_model_module_version": "1.5.0",
      "_model_name": "VBoxModel",
      "_view_count": null,
      "_view_module": "@jupyter-widgets/controls",
      "_view_module_version": "1.5.0",
      "_view_name": "VBoxView",
      "box_style": "",
      "children": [
       "IPY_MODEL_2208184de4ac46c2997f81809f31dfef",
       "IPY_MODEL_6a5d3730add844fcb0c327a35f1eb478"
      ],
      "layout": "IPY_MODEL_49a90a89f02b4f4590bd90864fbeb404"
     }
    },
    "04285feb091e40da84a6fff824d91959": {
     "model_module": "@jupyter-widgets/controls",
     "model_module_version": "1.5.0",
     "model_name": "ProgressStyleModel",
     "state": {
      "_model_module": "@jupyter-widgets/controls",
      "_model_module_version": "1.5.0",
      "_model_name": "ProgressStyleModel",
      "_view_count": null,
      "_view_module": "@jupyter-widgets/base",
      "_view_module_version": "1.2.0",
      "_view_name": "StyleView",
      "bar_color": null,
      "description_width": ""
     }
    },
    "054425ed56564f7ebfd92c87b25afc0a": {
     "model_module": "@jupyter-widgets/controls",
     "model_module_version": "1.5.0",
     "model_name": "ProgressStyleModel",
     "state": {
      "_model_module": "@jupyter-widgets/controls",
      "_model_module_version": "1.5.0",
      "_model_name": "ProgressStyleModel",
      "_view_count": null,
      "_view_module": "@jupyter-widgets/base",
      "_view_module_version": "1.2.0",
      "_view_name": "StyleView",
      "bar_color": null,
      "description_width": ""
     }
    },
    "066f8381b96e4b769e7dd92f956d3ae9": {
     "model_module": "@jupyter-widgets/controls",
     "model_module_version": "1.5.0",
     "model_name": "VBoxModel",
     "state": {
      "_dom_classes": [],
      "_model_module": "@jupyter-widgets/controls",
      "_model_module_version": "1.5.0",
      "_model_name": "VBoxModel",
      "_view_count": null,
      "_view_module": "@jupyter-widgets/controls",
      "_view_module_version": "1.5.0",
      "_view_name": "VBoxView",
      "box_style": "",
      "children": [
       "IPY_MODEL_e4ccb83306444c0a90fc7f5fc8c40750",
       "IPY_MODEL_9f970140ad774694b01531e0a24b1903"
      ],
      "layout": "IPY_MODEL_5e235e72ec2548ebb5486bac35e88c33"
     }
    },
    "0670009127f74697a9567b31d3ed6cea": {
     "model_module": "@jupyter-widgets/controls",
     "model_module_version": "1.5.0",
     "model_name": "DescriptionStyleModel",
     "state": {
      "_model_module": "@jupyter-widgets/controls",
      "_model_module_version": "1.5.0",
      "_model_name": "DescriptionStyleModel",
      "_view_count": null,
      "_view_module": "@jupyter-widgets/base",
      "_view_module_version": "1.2.0",
      "_view_name": "StyleView",
      "description_width": ""
     }
    },
    "06bbae24e48741b887a55c582e7016d3": {
     "model_module": "@jupyter-widgets/controls",
     "model_module_version": "1.5.0",
     "model_name": "FloatProgressModel",
     "state": {
      "_dom_classes": [],
      "_model_module": "@jupyter-widgets/controls",
      "_model_module_version": "1.5.0",
      "_model_name": "FloatProgressModel",
      "_view_count": null,
      "_view_module": "@jupyter-widgets/controls",
      "_view_module_version": "1.5.0",
      "_view_name": "ProgressView",
      "bar_style": "",
      "description": "",
      "description_tooltip": null,
      "layout": "IPY_MODEL_885aedd574c14a009201d9a7a44f9888",
      "max": 1,
      "min": 0,
      "orientation": "horizontal",
      "style": "IPY_MODEL_3120408a3fd34db888fe29eaeac26a86",
      "value": 1
     }
    },
    "0849ac26a57c49fda490b3e367d0b876": {
     "model_module": "@jupyter-widgets/controls",
     "model_module_version": "1.5.0",
     "model_name": "LabelModel",
     "state": {
      "_dom_classes": [],
      "_model_module": "@jupyter-widgets/controls",
      "_model_module_version": "1.5.0",
      "_model_name": "LabelModel",
      "_view_count": null,
      "_view_module": "@jupyter-widgets/controls",
      "_view_module_version": "1.5.0",
      "_view_name": "LabelView",
      "description": "",
      "description_tooltip": null,
      "layout": "IPY_MODEL_1d938ce434c94837bc0e646b343f921e",
      "placeholder": "​",
      "style": "IPY_MODEL_d9dacf2ad9be43ea9e9feddbd34e9abd",
      "value": "0.022 MB of 0.022 MB uploaded\r"
     }
    },
    "0874e954f78646c2b839a9bfd9055f54": {
     "model_module": "@jupyter-widgets/controls",
     "model_module_version": "1.5.0",
     "model_name": "ProgressStyleModel",
     "state": {
      "_model_module": "@jupyter-widgets/controls",
      "_model_module_version": "1.5.0",
      "_model_name": "ProgressStyleModel",
      "_view_count": null,
      "_view_module": "@jupyter-widgets/base",
      "_view_module_version": "1.2.0",
      "_view_name": "StyleView",
      "bar_color": null,
      "description_width": ""
     }
    },
    "0895ac7cd6fb46b38301822f0afdfa75": {
     "model_module": "@jupyter-widgets/base",
     "model_module_version": "1.2.0",
     "model_name": "LayoutModel",
     "state": {
      "_model_module": "@jupyter-widgets/base",
      "_model_module_version": "1.2.0",
      "_model_name": "LayoutModel",
      "_view_count": null,
      "_view_module": "@jupyter-widgets/base",
      "_view_module_version": "1.2.0",
      "_view_name": "LayoutView",
      "align_content": null,
      "align_items": null,
      "align_self": null,
      "border": null,
      "bottom": null,
      "display": null,
      "flex": null,
      "flex_flow": null,
      "grid_area": null,
      "grid_auto_columns": null,
      "grid_auto_flow": null,
      "grid_auto_rows": null,
      "grid_column": null,
      "grid_gap": null,
      "grid_row": null,
      "grid_template_areas": null,
      "grid_template_columns": null,
      "grid_template_rows": null,
      "height": null,
      "justify_content": null,
      "justify_items": null,
      "left": null,
      "margin": null,
      "max_height": null,
      "max_width": null,
      "min_height": null,
      "min_width": null,
      "object_fit": null,
      "object_position": null,
      "order": null,
      "overflow": null,
      "overflow_x": null,
      "overflow_y": null,
      "padding": null,
      "right": null,
      "top": null,
      "visibility": null,
      "width": null
     }
    },
    "09745850bd4f4ed999a528e556ac459d": {
     "model_module": "@jupyter-widgets/controls",
     "model_module_version": "1.5.0",
     "model_name": "LabelModel",
     "state": {
      "_dom_classes": [],
      "_model_module": "@jupyter-widgets/controls",
      "_model_module_version": "1.5.0",
      "_model_name": "LabelModel",
      "_view_count": null,
      "_view_module": "@jupyter-widgets/controls",
      "_view_module_version": "1.5.0",
      "_view_name": "LabelView",
      "description": "",
      "description_tooltip": null,
      "layout": "IPY_MODEL_a8a5cc7dc1fb4b5ea92316b23c55acd4",
      "placeholder": "​",
      "style": "IPY_MODEL_e7c3689c70754e0e86a7188f7960f523",
      "value": "0.019 MB of 0.019 MB uploaded\r"
     }
    },
    "0a7af31b3a7f4092a766a2275369b583": {
     "model_module": "@jupyter-widgets/controls",
     "model_module_version": "1.5.0",
     "model_name": "FloatProgressModel",
     "state": {
      "_dom_classes": [],
      "_model_module": "@jupyter-widgets/controls",
      "_model_module_version": "1.5.0",
      "_model_name": "FloatProgressModel",
      "_view_count": null,
      "_view_module": "@jupyter-widgets/controls",
      "_view_module_version": "1.5.0",
      "_view_name": "ProgressView",
      "bar_style": "",
      "description": "",
      "description_tooltip": null,
      "layout": "IPY_MODEL_214f4c5ff1524a3e971d5a55bcd805df",
      "max": 1,
      "min": 0,
      "orientation": "horizontal",
      "style": "IPY_MODEL_290b388d2d2446ceb9c74babfbcdc503",
      "value": 1
     }
    },
    "0aa32adb67784dfea587b0a162338256": {
     "model_module": "@jupyter-widgets/controls",
     "model_module_version": "1.5.0",
     "model_name": "HTMLModel",
     "state": {
      "_dom_classes": [],
      "_model_module": "@jupyter-widgets/controls",
      "_model_module_version": "1.5.0",
      "_model_name": "HTMLModel",
      "_view_count": null,
      "_view_module": "@jupyter-widgets/controls",
      "_view_module_version": "1.5.0",
      "_view_name": "HTMLView",
      "description": "",
      "description_tooltip": null,
      "layout": "IPY_MODEL_6c900a0c1f4840ca88af6c16ccf0cb29",
      "placeholder": "​",
      "style": "IPY_MODEL_0b8e8a043a18436e89738e97f76c179d",
      "value": "config.json: 100%"
     }
    },
    "0b8e8a043a18436e89738e97f76c179d": {
     "model_module": "@jupyter-widgets/controls",
     "model_module_version": "1.5.0",
     "model_name": "DescriptionStyleModel",
     "state": {
      "_model_module": "@jupyter-widgets/controls",
      "_model_module_version": "1.5.0",
      "_model_name": "DescriptionStyleModel",
      "_view_count": null,
      "_view_module": "@jupyter-widgets/base",
      "_view_module_version": "1.2.0",
      "_view_name": "StyleView",
      "description_width": ""
     }
    },
    "0e217050b7ec4fea862e9a1d75a4d87c": {
     "model_module": "@jupyter-widgets/controls",
     "model_module_version": "1.5.0",
     "model_name": "LabelModel",
     "state": {
      "_dom_classes": [],
      "_model_module": "@jupyter-widgets/controls",
      "_model_module_version": "1.5.0",
      "_model_name": "LabelModel",
      "_view_count": null,
      "_view_module": "@jupyter-widgets/controls",
      "_view_module_version": "1.5.0",
      "_view_name": "LabelView",
      "description": "",
      "description_tooltip": null,
      "layout": "IPY_MODEL_1e78e2498e8f4b3aa5fc941b0498e0eb",
      "placeholder": "​",
      "style": "IPY_MODEL_51b31924c6f24fd09dcdb895d04658c6",
      "value": "0.023 MB of 0.023 MB uploaded\r"
     }
    },
    "0e5320f58d2943c2893d417c47c160ad": {
     "model_module": "@jupyter-widgets/base",
     "model_module_version": "1.2.0",
     "model_name": "LayoutModel",
     "state": {
      "_model_module": "@jupyter-widgets/base",
      "_model_module_version": "1.2.0",
      "_model_name": "LayoutModel",
      "_view_count": null,
      "_view_module": "@jupyter-widgets/base",
      "_view_module_version": "1.2.0",
      "_view_name": "LayoutView",
      "align_content": null,
      "align_items": null,
      "align_self": null,
      "border": null,
      "bottom": null,
      "display": null,
      "flex": null,
      "flex_flow": null,
      "grid_area": null,
      "grid_auto_columns": null,
      "grid_auto_flow": null,
      "grid_auto_rows": null,
      "grid_column": null,
      "grid_gap": null,
      "grid_row": null,
      "grid_template_areas": null,
      "grid_template_columns": null,
      "grid_template_rows": null,
      "height": null,
      "justify_content": null,
      "justify_items": null,
      "left": null,
      "margin": null,
      "max_height": null,
      "max_width": null,
      "min_height": null,
      "min_width": null,
      "object_fit": null,
      "object_position": null,
      "order": null,
      "overflow": null,
      "overflow_x": null,
      "overflow_y": null,
      "padding": null,
      "right": null,
      "top": null,
      "visibility": null,
      "width": null
     }
    },
    "0f0eac5bb7544187929bf49328afeee6": {
     "model_module": "@jupyter-widgets/controls",
     "model_module_version": "1.5.0",
     "model_name": "DescriptionStyleModel",
     "state": {
      "_model_module": "@jupyter-widgets/controls",
      "_model_module_version": "1.5.0",
      "_model_name": "DescriptionStyleModel",
      "_view_count": null,
      "_view_module": "@jupyter-widgets/base",
      "_view_module_version": "1.2.0",
      "_view_name": "StyleView",
      "description_width": ""
     }
    },
    "104011285f4b4bf580dc8a650e742a74": {
     "model_module": "@jupyter-widgets/controls",
     "model_module_version": "1.5.0",
     "model_name": "DescriptionStyleModel",
     "state": {
      "_model_module": "@jupyter-widgets/controls",
      "_model_module_version": "1.5.0",
      "_model_name": "DescriptionStyleModel",
      "_view_count": null,
      "_view_module": "@jupyter-widgets/base",
      "_view_module_version": "1.2.0",
      "_view_name": "StyleView",
      "description_width": ""
     }
    },
    "10736aaccb3a40f58572f40ca38fc884": {
     "model_module": "@jupyter-widgets/controls",
     "model_module_version": "1.5.0",
     "model_name": "HBoxModel",
     "state": {
      "_dom_classes": [],
      "_model_module": "@jupyter-widgets/controls",
      "_model_module_version": "1.5.0",
      "_model_name": "HBoxModel",
      "_view_count": null,
      "_view_module": "@jupyter-widgets/controls",
      "_view_module_version": "1.5.0",
      "_view_name": "HBoxView",
      "box_style": "",
      "children": [
       "IPY_MODEL_0aa32adb67784dfea587b0a162338256",
       "IPY_MODEL_b7a12ad10ea942e8b96b65340e66a02e",
       "IPY_MODEL_b7c2fb9b98b8475293a86b7ba4c969a2"
      ],
      "layout": "IPY_MODEL_2f583680062b4e5cb298890cd5c2ad5c"
     }
    },
    "12c75ab90ef9449d9fe3cf1c0624fe45": {
     "model_module": "@jupyter-widgets/controls",
     "model_module_version": "1.5.0",
     "model_name": "FloatProgressModel",
     "state": {
      "_dom_classes": [],
      "_model_module": "@jupyter-widgets/controls",
      "_model_module_version": "1.5.0",
      "_model_name": "FloatProgressModel",
      "_view_count": null,
      "_view_module": "@jupyter-widgets/controls",
      "_view_module_version": "1.5.0",
      "_view_name": "ProgressView",
      "bar_style": "success",
      "description": "",
      "description_tooltip": null,
      "layout": "IPY_MODEL_e441b59eef3a45bc8bfe3fcc8b209bfc",
      "max": 898823,
      "min": 0,
      "orientation": "horizontal",
      "style": "IPY_MODEL_77b6210843eb43c5939679d63e63c061",
      "value": 898823
     }
    },
    "13e5b22507b64dc783bdd74e681ab9fd": {
     "model_module": "@jupyter-widgets/controls",
     "model_module_version": "1.5.0",
     "model_name": "HBoxModel",
     "state": {
      "_dom_classes": [],
      "_model_module": "@jupyter-widgets/controls",
      "_model_module_version": "1.5.0",
      "_model_name": "HBoxModel",
      "_view_count": null,
      "_view_module": "@jupyter-widgets/controls",
      "_view_module_version": "1.5.0",
      "_view_name": "HBoxView",
      "box_style": "",
      "children": [
       "IPY_MODEL_5bd766b7e3a54618a0d2d1c7a9ccde33",
       "IPY_MODEL_fa192685f99344c4b4ee9668edb501cd",
       "IPY_MODEL_d21cd9d6d9314031ad50df4a01a0c787"
      ],
      "layout": "IPY_MODEL_aa6cdb3d4f194e1a80d3748779c5ab0f"
     }
    },
    "1445e57b4e074e5fb13b0984ad8b3230": {
     "model_module": "@jupyter-widgets/base",
     "model_module_version": "1.2.0",
     "model_name": "LayoutModel",
     "state": {
      "_model_module": "@jupyter-widgets/base",
      "_model_module_version": "1.2.0",
      "_model_name": "LayoutModel",
      "_view_count": null,
      "_view_module": "@jupyter-widgets/base",
      "_view_module_version": "1.2.0",
      "_view_name": "LayoutView",
      "align_content": null,
      "align_items": null,
      "align_self": null,
      "border": null,
      "bottom": null,
      "display": null,
      "flex": null,
      "flex_flow": null,
      "grid_area": null,
      "grid_auto_columns": null,
      "grid_auto_flow": null,
      "grid_auto_rows": null,
      "grid_column": null,
      "grid_gap": null,
      "grid_row": null,
      "grid_template_areas": null,
      "grid_template_columns": null,
      "grid_template_rows": null,
      "height": null,
      "justify_content": null,
      "justify_items": null,
      "left": null,
      "margin": null,
      "max_height": null,
      "max_width": null,
      "min_height": null,
      "min_width": null,
      "object_fit": null,
      "object_position": null,
      "order": null,
      "overflow": null,
      "overflow_x": null,
      "overflow_y": null,
      "padding": null,
      "right": null,
      "top": null,
      "visibility": null,
      "width": null
     }
    },
    "18ebb87aa3844a20a6fe1daac52b96e8": {
     "model_module": "@jupyter-widgets/controls",
     "model_module_version": "1.5.0",
     "model_name": "VBoxModel",
     "state": {
      "_dom_classes": [],
      "_model_module": "@jupyter-widgets/controls",
      "_model_module_version": "1.5.0",
      "_model_name": "VBoxModel",
      "_view_count": null,
      "_view_module": "@jupyter-widgets/controls",
      "_view_module_version": "1.5.0",
      "_view_name": "VBoxView",
      "box_style": "",
      "children": [
       "IPY_MODEL_0e217050b7ec4fea862e9a1d75a4d87c",
       "IPY_MODEL_1de6db5597b24c739df58c5ea07cf1ba"
      ],
      "layout": "IPY_MODEL_c9a7e8790019489aa7735ce94e8b64da"
     }
    },
    "196fa283fd064789b7b68172e9b4a579": {
     "model_module": "@jupyter-widgets/controls",
     "model_module_version": "1.5.0",
     "model_name": "ProgressStyleModel",
     "state": {
      "_model_module": "@jupyter-widgets/controls",
      "_model_module_version": "1.5.0",
      "_model_name": "ProgressStyleModel",
      "_view_count": null,
      "_view_module": "@jupyter-widgets/base",
      "_view_module_version": "1.2.0",
      "_view_name": "StyleView",
      "bar_color": null,
      "description_width": ""
     }
    },
    "19a3badbc15c4ef78cca3f7a3687767b": {
     "model_module": "@jupyter-widgets/base",
     "model_module_version": "1.2.0",
     "model_name": "LayoutModel",
     "state": {
      "_model_module": "@jupyter-widgets/base",
      "_model_module_version": "1.2.0",
      "_model_name": "LayoutModel",
      "_view_count": null,
      "_view_module": "@jupyter-widgets/base",
      "_view_module_version": "1.2.0",
      "_view_name": "LayoutView",
      "align_content": null,
      "align_items": null,
      "align_self": null,
      "border": null,
      "bottom": null,
      "display": null,
      "flex": null,
      "flex_flow": null,
      "grid_area": null,
      "grid_auto_columns": null,
      "grid_auto_flow": null,
      "grid_auto_rows": null,
      "grid_column": null,
      "grid_gap": null,
      "grid_row": null,
      "grid_template_areas": null,
      "grid_template_columns": null,
      "grid_template_rows": null,
      "height": null,
      "justify_content": null,
      "justify_items": null,
      "left": null,
      "margin": null,
      "max_height": null,
      "max_width": null,
      "min_height": null,
      "min_width": null,
      "object_fit": null,
      "object_position": null,
      "order": null,
      "overflow": null,
      "overflow_x": null,
      "overflow_y": null,
      "padding": null,
      "right": null,
      "top": null,
      "visibility": null,
      "width": null
     }
    },
    "1b005c119d044ace9dd457f6b52cfcc1": {
     "model_module": "@jupyter-widgets/controls",
     "model_module_version": "1.5.0",
     "model_name": "ProgressStyleModel",
     "state": {
      "_model_module": "@jupyter-widgets/controls",
      "_model_module_version": "1.5.0",
      "_model_name": "ProgressStyleModel",
      "_view_count": null,
      "_view_module": "@jupyter-widgets/base",
      "_view_module_version": "1.2.0",
      "_view_name": "StyleView",
      "bar_color": null,
      "description_width": ""
     }
    },
    "1b3a6e1c1c114ffeace5dc01ef32bc35": {
     "model_module": "@jupyter-widgets/controls",
     "model_module_version": "1.5.0",
     "model_name": "VBoxModel",
     "state": {
      "_dom_classes": [],
      "_model_module": "@jupyter-widgets/controls",
      "_model_module_version": "1.5.0",
      "_model_name": "VBoxModel",
      "_view_count": null,
      "_view_module": "@jupyter-widgets/controls",
      "_view_module_version": "1.5.0",
      "_view_name": "VBoxView",
      "box_style": "",
      "children": [
       "IPY_MODEL_4995e03af8f243b2b3f6da088d6b29a2",
       "IPY_MODEL_7cd47e5a5ea44d83a4b21e869592bc66"
      ],
      "layout": "IPY_MODEL_19a3badbc15c4ef78cca3f7a3687767b"
     }
    },
    "1cd53268763348f88ad6d65a4e3afc70": {
     "model_module": "@jupyter-widgets/base",
     "model_module_version": "1.2.0",
     "model_name": "LayoutModel",
     "state": {
      "_model_module": "@jupyter-widgets/base",
      "_model_module_version": "1.2.0",
      "_model_name": "LayoutModel",
      "_view_count": null,
      "_view_module": "@jupyter-widgets/base",
      "_view_module_version": "1.2.0",
      "_view_name": "LayoutView",
      "align_content": null,
      "align_items": null,
      "align_self": null,
      "border": null,
      "bottom": null,
      "display": null,
      "flex": null,
      "flex_flow": null,
      "grid_area": null,
      "grid_auto_columns": null,
      "grid_auto_flow": null,
      "grid_auto_rows": null,
      "grid_column": null,
      "grid_gap": null,
      "grid_row": null,
      "grid_template_areas": null,
      "grid_template_columns": null,
      "grid_template_rows": null,
      "height": null,
      "justify_content": null,
      "justify_items": null,
      "left": null,
      "margin": null,
      "max_height": null,
      "max_width": null,
      "min_height": null,
      "min_width": null,
      "object_fit": null,
      "object_position": null,
      "order": null,
      "overflow": null,
      "overflow_x": null,
      "overflow_y": null,
      "padding": null,
      "right": null,
      "top": null,
      "visibility": null,
      "width": null
     }
    },
    "1d460f85feb34b379a1cca568c71f165": {
     "model_module": "@jupyter-widgets/base",
     "model_module_version": "1.2.0",
     "model_name": "LayoutModel",
     "state": {
      "_model_module": "@jupyter-widgets/base",
      "_model_module_version": "1.2.0",
      "_model_name": "LayoutModel",
      "_view_count": null,
      "_view_module": "@jupyter-widgets/base",
      "_view_module_version": "1.2.0",
      "_view_name": "LayoutView",
      "align_content": null,
      "align_items": null,
      "align_self": null,
      "border": null,
      "bottom": null,
      "display": null,
      "flex": null,
      "flex_flow": null,
      "grid_area": null,
      "grid_auto_columns": null,
      "grid_auto_flow": null,
      "grid_auto_rows": null,
      "grid_column": null,
      "grid_gap": null,
      "grid_row": null,
      "grid_template_areas": null,
      "grid_template_columns": null,
      "grid_template_rows": null,
      "height": null,
      "justify_content": null,
      "justify_items": null,
      "left": null,
      "margin": null,
      "max_height": null,
      "max_width": null,
      "min_height": null,
      "min_width": null,
      "object_fit": null,
      "object_position": null,
      "order": null,
      "overflow": null,
      "overflow_x": null,
      "overflow_y": null,
      "padding": null,
      "right": null,
      "top": null,
      "visibility": null,
      "width": null
     }
    },
    "1d6741e7c7d044ca917e1a85ae8bc94e": {
     "model_module": "@jupyter-widgets/controls",
     "model_module_version": "1.5.0",
     "model_name": "HTMLModel",
     "state": {
      "_dom_classes": [],
      "_model_module": "@jupyter-widgets/controls",
      "_model_module_version": "1.5.0",
      "_model_name": "HTMLModel",
      "_view_count": null,
      "_view_module": "@jupyter-widgets/controls",
      "_view_module_version": "1.5.0",
      "_view_name": "HTMLView",
      "description": "",
      "description_tooltip": null,
      "layout": "IPY_MODEL_860d1976358f4bc0815a965da3b31370",
      "placeholder": "​",
      "style": "IPY_MODEL_104011285f4b4bf580dc8a650e742a74",
      "value": " 1.36M/1.36M [00:00&lt;00:00, 6.52MB/s]"
     }
    },
    "1d938ce434c94837bc0e646b343f921e": {
     "model_module": "@jupyter-widgets/base",
     "model_module_version": "1.2.0",
     "model_name": "LayoutModel",
     "state": {
      "_model_module": "@jupyter-widgets/base",
      "_model_module_version": "1.2.0",
      "_model_name": "LayoutModel",
      "_view_count": null,
      "_view_module": "@jupyter-widgets/base",
      "_view_module_version": "1.2.0",
      "_view_name": "LayoutView",
      "align_content": null,
      "align_items": null,
      "align_self": null,
      "border": null,
      "bottom": null,
      "display": null,
      "flex": null,
      "flex_flow": null,
      "grid_area": null,
      "grid_auto_columns": null,
      "grid_auto_flow": null,
      "grid_auto_rows": null,
      "grid_column": null,
      "grid_gap": null,
      "grid_row": null,
      "grid_template_areas": null,
      "grid_template_columns": null,
      "grid_template_rows": null,
      "height": null,
      "justify_content": null,
      "justify_items": null,
      "left": null,
      "margin": null,
      "max_height": null,
      "max_width": null,
      "min_height": null,
      "min_width": null,
      "object_fit": null,
      "object_position": null,
      "order": null,
      "overflow": null,
      "overflow_x": null,
      "overflow_y": null,
      "padding": null,
      "right": null,
      "top": null,
      "visibility": null,
      "width": null
     }
    },
    "1de6db5597b24c739df58c5ea07cf1ba": {
     "model_module": "@jupyter-widgets/controls",
     "model_module_version": "1.5.0",
     "model_name": "FloatProgressModel",
     "state": {
      "_dom_classes": [],
      "_model_module": "@jupyter-widgets/controls",
      "_model_module_version": "1.5.0",
      "_model_name": "FloatProgressModel",
      "_view_count": null,
      "_view_module": "@jupyter-widgets/controls",
      "_view_module_version": "1.5.0",
      "_view_name": "ProgressView",
      "bar_style": "",
      "description": "",
      "description_tooltip": null,
      "layout": "IPY_MODEL_f81d964782b7454fa6cf3783f6a0428e",
      "max": 1,
      "min": 0,
      "orientation": "horizontal",
      "style": "IPY_MODEL_d5a7440af9fd4192a0a214faab06ad30",
      "value": 1
     }
    },
    "1e5a96d87c00423494a7877ad5b72dba": {
     "model_module": "@jupyter-widgets/controls",
     "model_module_version": "1.5.0",
     "model_name": "HTMLModel",
     "state": {
      "_dom_classes": [],
      "_model_module": "@jupyter-widgets/controls",
      "_model_module_version": "1.5.0",
      "_model_name": "HTMLModel",
      "_view_count": null,
      "_view_module": "@jupyter-widgets/controls",
      "_view_module_version": "1.5.0",
      "_view_name": "HTMLView",
      "description": "",
      "description_tooltip": null,
      "layout": "IPY_MODEL_6f3897d1fdc44e31a6e3ddf35a2f0d64",
      "placeholder": "​",
      "style": "IPY_MODEL_61068d16bd5c44e3a1d8fbd397563672",
      "value": "vocab.json: 100%"
     }
    },
    "1e78e2498e8f4b3aa5fc941b0498e0eb": {
     "model_module": "@jupyter-widgets/base",
     "model_module_version": "1.2.0",
     "model_name": "LayoutModel",
     "state": {
      "_model_module": "@jupyter-widgets/base",
      "_model_module_version": "1.2.0",
      "_model_name": "LayoutModel",
      "_view_count": null,
      "_view_module": "@jupyter-widgets/base",
      "_view_module_version": "1.2.0",
      "_view_name": "LayoutView",
      "align_content": null,
      "align_items": null,
      "align_self": null,
      "border": null,
      "bottom": null,
      "display": null,
      "flex": null,
      "flex_flow": null,
      "grid_area": null,
      "grid_auto_columns": null,
      "grid_auto_flow": null,
      "grid_auto_rows": null,
      "grid_column": null,
      "grid_gap": null,
      "grid_row": null,
      "grid_template_areas": null,
      "grid_template_columns": null,
      "grid_template_rows": null,
      "height": null,
      "justify_content": null,
      "justify_items": null,
      "left": null,
      "margin": null,
      "max_height": null,
      "max_width": null,
      "min_height": null,
      "min_width": null,
      "object_fit": null,
      "object_position": null,
      "order": null,
      "overflow": null,
      "overflow_x": null,
      "overflow_y": null,
      "padding": null,
      "right": null,
      "top": null,
      "visibility": null,
      "width": null
     }
    },
    "1f47f45829ab4988ab7d68c5ec971036": {
     "model_module": "@jupyter-widgets/controls",
     "model_module_version": "1.5.0",
     "model_name": "HBoxModel",
     "state": {
      "_dom_classes": [],
      "_model_module": "@jupyter-widgets/controls",
      "_model_module_version": "1.5.0",
      "_model_name": "HBoxModel",
      "_view_count": null,
      "_view_module": "@jupyter-widgets/controls",
      "_view_module_version": "1.5.0",
      "_view_name": "HBoxView",
      "box_style": "",
      "children": [
       "IPY_MODEL_7baf50cf3faa4160b8de5f110d1ed2f7",
       "IPY_MODEL_bdb3793dd347438686d1a4a351fb5dd3",
       "IPY_MODEL_45472bb4108b40538a81d4fb84170925"
      ],
      "layout": "IPY_MODEL_e55f5534d39a4f22aabb879e16910eb5"
     }
    },
    "1fe5e3f456044f8498852e4ce96802c9": {
     "model_module": "@jupyter-widgets/base",
     "model_module_version": "1.2.0",
     "model_name": "LayoutModel",
     "state": {
      "_model_module": "@jupyter-widgets/base",
      "_model_module_version": "1.2.0",
      "_model_name": "LayoutModel",
      "_view_count": null,
      "_view_module": "@jupyter-widgets/base",
      "_view_module_version": "1.2.0",
      "_view_name": "LayoutView",
      "align_content": null,
      "align_items": null,
      "align_self": null,
      "border": null,
      "bottom": null,
      "display": null,
      "flex": null,
      "flex_flow": null,
      "grid_area": null,
      "grid_auto_columns": null,
      "grid_auto_flow": null,
      "grid_auto_rows": null,
      "grid_column": null,
      "grid_gap": null,
      "grid_row": null,
      "grid_template_areas": null,
      "grid_template_columns": null,
      "grid_template_rows": null,
      "height": null,
      "justify_content": null,
      "justify_items": null,
      "left": null,
      "margin": null,
      "max_height": null,
      "max_width": null,
      "min_height": null,
      "min_width": null,
      "object_fit": null,
      "object_position": null,
      "order": null,
      "overflow": null,
      "overflow_x": null,
      "overflow_y": null,
      "padding": null,
      "right": null,
      "top": null,
      "visibility": null,
      "width": null
     }
    },
    "2015f23ffe084a09abfa6dfbd3814706": {
     "model_module": "@jupyter-widgets/controls",
     "model_module_version": "1.5.0",
     "model_name": "HTMLModel",
     "state": {
      "_dom_classes": [],
      "_model_module": "@jupyter-widgets/controls",
      "_model_module_version": "1.5.0",
      "_model_name": "HTMLModel",
      "_view_count": null,
      "_view_module": "@jupyter-widgets/controls",
      "_view_module_version": "1.5.0",
      "_view_name": "HTMLView",
      "description": "",
      "description_tooltip": null,
      "layout": "IPY_MODEL_dd2ce5ecb7c340659287ea6c89584c5c",
      "placeholder": "​",
      "style": "IPY_MODEL_b127727856514ec5aabad23409526c72",
      "value": " 499M/499M [00:02&lt;00:00, 296MB/s]"
     }
    },
    "214f4c5ff1524a3e971d5a55bcd805df": {
     "model_module": "@jupyter-widgets/base",
     "model_module_version": "1.2.0",
     "model_name": "LayoutModel",
     "state": {
      "_model_module": "@jupyter-widgets/base",
      "_model_module_version": "1.2.0",
      "_model_name": "LayoutModel",
      "_view_count": null,
      "_view_module": "@jupyter-widgets/base",
      "_view_module_version": "1.2.0",
      "_view_name": "LayoutView",
      "align_content": null,
      "align_items": null,
      "align_self": null,
      "border": null,
      "bottom": null,
      "display": null,
      "flex": null,
      "flex_flow": null,
      "grid_area": null,
      "grid_auto_columns": null,
      "grid_auto_flow": null,
      "grid_auto_rows": null,
      "grid_column": null,
      "grid_gap": null,
      "grid_row": null,
      "grid_template_areas": null,
      "grid_template_columns": null,
      "grid_template_rows": null,
      "height": null,
      "justify_content": null,
      "justify_items": null,
      "left": null,
      "margin": null,
      "max_height": null,
      "max_width": null,
      "min_height": null,
      "min_width": null,
      "object_fit": null,
      "object_position": null,
      "order": null,
      "overflow": null,
      "overflow_x": null,
      "overflow_y": null,
      "padding": null,
      "right": null,
      "top": null,
      "visibility": null,
      "width": null
     }
    },
    "2208184de4ac46c2997f81809f31dfef": {
     "model_module": "@jupyter-widgets/controls",
     "model_module_version": "1.5.0",
     "model_name": "LabelModel",
     "state": {
      "_dom_classes": [],
      "_model_module": "@jupyter-widgets/controls",
      "_model_module_version": "1.5.0",
      "_model_name": "LabelModel",
      "_view_count": null,
      "_view_module": "@jupyter-widgets/controls",
      "_view_module_version": "1.5.0",
      "_view_name": "LabelView",
      "description": "",
      "description_tooltip": null,
      "layout": "IPY_MODEL_2b1865425d05402c839f8661147c0c64",
      "placeholder": "​",
      "style": "IPY_MODEL_895c3429dfac4a25921831ae78030c3c",
      "value": "0.020 MB of 0.020 MB uploaded\r"
     }
    },
    "225a025139504e36b5c8ff6ac6275ef5": {
     "model_module": "@jupyter-widgets/controls",
     "model_module_version": "1.5.0",
     "model_name": "HTMLModel",
     "state": {
      "_dom_classes": [],
      "_model_module": "@jupyter-widgets/controls",
      "_model_module_version": "1.5.0",
      "_model_name": "HTMLModel",
      "_view_count": null,
      "_view_module": "@jupyter-widgets/controls",
      "_view_module_version": "1.5.0",
      "_view_name": "HTMLView",
      "description": "",
      "description_tooltip": null,
      "layout": "IPY_MODEL_42432a336dc34443858f53b4fa8b900b",
      "placeholder": "​",
      "style": "IPY_MODEL_8215a4b3d2cf4e2bbdab89826e8170ea",
      "value": "config.json: 100%"
     }
    },
    "2375fff5cf5d4575bbc00142542b1969": {
     "model_module": "@jupyter-widgets/controls",
     "model_module_version": "1.5.0",
     "model_name": "ProgressStyleModel",
     "state": {
      "_model_module": "@jupyter-widgets/controls",
      "_model_module_version": "1.5.0",
      "_model_name": "ProgressStyleModel",
      "_view_count": null,
      "_view_module": "@jupyter-widgets/base",
      "_view_module_version": "1.2.0",
      "_view_name": "StyleView",
      "bar_color": null,
      "description_width": ""
     }
    },
    "23789341eec843219bf482bad9656976": {
     "model_module": "@jupyter-widgets/base",
     "model_module_version": "1.2.0",
     "model_name": "LayoutModel",
     "state": {
      "_model_module": "@jupyter-widgets/base",
      "_model_module_version": "1.2.0",
      "_model_name": "LayoutModel",
      "_view_count": null,
      "_view_module": "@jupyter-widgets/base",
      "_view_module_version": "1.2.0",
      "_view_name": "LayoutView",
      "align_content": null,
      "align_items": null,
      "align_self": null,
      "border": null,
      "bottom": null,
      "display": null,
      "flex": null,
      "flex_flow": null,
      "grid_area": null,
      "grid_auto_columns": null,
      "grid_auto_flow": null,
      "grid_auto_rows": null,
      "grid_column": null,
      "grid_gap": null,
      "grid_row": null,
      "grid_template_areas": null,
      "grid_template_columns": null,
      "grid_template_rows": null,
      "height": null,
      "justify_content": null,
      "justify_items": null,
      "left": null,
      "margin": null,
      "max_height": null,
      "max_width": null,
      "min_height": null,
      "min_width": null,
      "object_fit": null,
      "object_position": null,
      "order": null,
      "overflow": null,
      "overflow_x": null,
      "overflow_y": null,
      "padding": null,
      "right": null,
      "top": null,
      "visibility": null,
      "width": null
     }
    },
    "245f0a51494543e9a054eeee162920bb": {
     "model_module": "@jupyter-widgets/controls",
     "model_module_version": "1.5.0",
     "model_name": "DescriptionStyleModel",
     "state": {
      "_model_module": "@jupyter-widgets/controls",
      "_model_module_version": "1.5.0",
      "_model_name": "DescriptionStyleModel",
      "_view_count": null,
      "_view_module": "@jupyter-widgets/base",
      "_view_module_version": "1.2.0",
      "_view_name": "StyleView",
      "description_width": ""
     }
    },
    "26e3f51a7d44434293fb3e4aebdb99d3": {
     "model_module": "@jupyter-widgets/controls",
     "model_module_version": "1.5.0",
     "model_name": "HTMLModel",
     "state": {
      "_dom_classes": [],
      "_model_module": "@jupyter-widgets/controls",
      "_model_module_version": "1.5.0",
      "_model_name": "HTMLModel",
      "_view_count": null,
      "_view_module": "@jupyter-widgets/controls",
      "_view_module_version": "1.5.0",
      "_view_name": "HTMLView",
      "description": "",
      "description_tooltip": null,
      "layout": "IPY_MODEL_dceea4777a1c4867a8d9926bce1c6ec7",
      "placeholder": "​",
      "style": "IPY_MODEL_2b2d0a15e2a14a50892a823e72894e9d",
      "value": " 456k/456k [00:00&lt;00:00, 45.5MB/s]"
     }
    },
    "2727425a0b2645d2948e0104143fdc88": {
     "model_module": "@jupyter-widgets/controls",
     "model_module_version": "1.5.0",
     "model_name": "HTMLModel",
     "state": {
      "_dom_classes": [],
      "_model_module": "@jupyter-widgets/controls",
      "_model_module_version": "1.5.0",
      "_model_name": "HTMLModel",
      "_view_count": null,
      "_view_module": "@jupyter-widgets/controls",
      "_view_module_version": "1.5.0",
      "_view_name": "HTMLView",
      "description": "",
      "description_tooltip": null,
      "layout": "IPY_MODEL_41aa33ddb09c4569856a48c265cd6c04",
      "placeholder": "​",
      "style": "IPY_MODEL_37d11c7c99f145d6acdf2eddf08170cd",
      "value": "vocab.json: 100%"
     }
    },
    "290b388d2d2446ceb9c74babfbcdc503": {
     "model_module": "@jupyter-widgets/controls",
     "model_module_version": "1.5.0",
     "model_name": "ProgressStyleModel",
     "state": {
      "_model_module": "@jupyter-widgets/controls",
      "_model_module_version": "1.5.0",
      "_model_name": "ProgressStyleModel",
      "_view_count": null,
      "_view_module": "@jupyter-widgets/base",
      "_view_module_version": "1.2.0",
      "_view_name": "StyleView",
      "bar_color": null,
      "description_width": ""
     }
    },
    "29841e9e46034d7e83635068d70f9abd": {
     "model_module": "@jupyter-widgets/controls",
     "model_module_version": "1.5.0",
     "model_name": "ProgressStyleModel",
     "state": {
      "_model_module": "@jupyter-widgets/controls",
      "_model_module_version": "1.5.0",
      "_model_name": "ProgressStyleModel",
      "_view_count": null,
      "_view_module": "@jupyter-widgets/base",
      "_view_module_version": "1.2.0",
      "_view_name": "StyleView",
      "bar_color": null,
      "description_width": ""
     }
    },
    "2ac7f18d94f24c9eba612a973d249c7c": {
     "model_module": "@jupyter-widgets/controls",
     "model_module_version": "1.5.0",
     "model_name": "ProgressStyleModel",
     "state": {
      "_model_module": "@jupyter-widgets/controls",
      "_model_module_version": "1.5.0",
      "_model_name": "ProgressStyleModel",
      "_view_count": null,
      "_view_module": "@jupyter-widgets/base",
      "_view_module_version": "1.2.0",
      "_view_name": "StyleView",
      "bar_color": null,
      "description_width": ""
     }
    },
    "2b1865425d05402c839f8661147c0c64": {
     "model_module": "@jupyter-widgets/base",
     "model_module_version": "1.2.0",
     "model_name": "LayoutModel",
     "state": {
      "_model_module": "@jupyter-widgets/base",
      "_model_module_version": "1.2.0",
      "_model_name": "LayoutModel",
      "_view_count": null,
      "_view_module": "@jupyter-widgets/base",
      "_view_module_version": "1.2.0",
      "_view_name": "LayoutView",
      "align_content": null,
      "align_items": null,
      "align_self": null,
      "border": null,
      "bottom": null,
      "display": null,
      "flex": null,
      "flex_flow": null,
      "grid_area": null,
      "grid_auto_columns": null,
      "grid_auto_flow": null,
      "grid_auto_rows": null,
      "grid_column": null,
      "grid_gap": null,
      "grid_row": null,
      "grid_template_areas": null,
      "grid_template_columns": null,
      "grid_template_rows": null,
      "height": null,
      "justify_content": null,
      "justify_items": null,
      "left": null,
      "margin": null,
      "max_height": null,
      "max_width": null,
      "min_height": null,
      "min_width": null,
      "object_fit": null,
      "object_position": null,
      "order": null,
      "overflow": null,
      "overflow_x": null,
      "overflow_y": null,
      "padding": null,
      "right": null,
      "top": null,
      "visibility": null,
      "width": null
     }
    },
    "2b2d0a15e2a14a50892a823e72894e9d": {
     "model_module": "@jupyter-widgets/controls",
     "model_module_version": "1.5.0",
     "model_name": "DescriptionStyleModel",
     "state": {
      "_model_module": "@jupyter-widgets/controls",
      "_model_module_version": "1.5.0",
      "_model_name": "DescriptionStyleModel",
      "_view_count": null,
      "_view_module": "@jupyter-widgets/base",
      "_view_module_version": "1.2.0",
      "_view_name": "StyleView",
      "description_width": ""
     }
    },
    "2d70669554624b7d8fc8a0ea2592c78c": {
     "model_module": "@jupyter-widgets/base",
     "model_module_version": "1.2.0",
     "model_name": "LayoutModel",
     "state": {
      "_model_module": "@jupyter-widgets/base",
      "_model_module_version": "1.2.0",
      "_model_name": "LayoutModel",
      "_view_count": null,
      "_view_module": "@jupyter-widgets/base",
      "_view_module_version": "1.2.0",
      "_view_name": "LayoutView",
      "align_content": null,
      "align_items": null,
      "align_self": null,
      "border": null,
      "bottom": null,
      "display": null,
      "flex": null,
      "flex_flow": null,
      "grid_area": null,
      "grid_auto_columns": null,
      "grid_auto_flow": null,
      "grid_auto_rows": null,
      "grid_column": null,
      "grid_gap": null,
      "grid_row": null,
      "grid_template_areas": null,
      "grid_template_columns": null,
      "grid_template_rows": null,
      "height": null,
      "justify_content": null,
      "justify_items": null,
      "left": null,
      "margin": null,
      "max_height": null,
      "max_width": null,
      "min_height": null,
      "min_width": null,
      "object_fit": null,
      "object_position": null,
      "order": null,
      "overflow": null,
      "overflow_x": null,
      "overflow_y": null,
      "padding": null,
      "right": null,
      "top": null,
      "visibility": null,
      "width": null
     }
    },
    "2f583680062b4e5cb298890cd5c2ad5c": {
     "model_module": "@jupyter-widgets/base",
     "model_module_version": "1.2.0",
     "model_name": "LayoutModel",
     "state": {
      "_model_module": "@jupyter-widgets/base",
      "_model_module_version": "1.2.0",
      "_model_name": "LayoutModel",
      "_view_count": null,
      "_view_module": "@jupyter-widgets/base",
      "_view_module_version": "1.2.0",
      "_view_name": "LayoutView",
      "align_content": null,
      "align_items": null,
      "align_self": null,
      "border": null,
      "bottom": null,
      "display": null,
      "flex": null,
      "flex_flow": null,
      "grid_area": null,
      "grid_auto_columns": null,
      "grid_auto_flow": null,
      "grid_auto_rows": null,
      "grid_column": null,
      "grid_gap": null,
      "grid_row": null,
      "grid_template_areas": null,
      "grid_template_columns": null,
      "grid_template_rows": null,
      "height": null,
      "justify_content": null,
      "justify_items": null,
      "left": null,
      "margin": null,
      "max_height": null,
      "max_width": null,
      "min_height": null,
      "min_width": null,
      "object_fit": null,
      "object_position": null,
      "order": null,
      "overflow": null,
      "overflow_x": null,
      "overflow_y": null,
      "padding": null,
      "right": null,
      "top": null,
      "visibility": null,
      "width": null
     }
    },
    "2f87d21efb934257892198a158056cff": {
     "model_module": "@jupyter-widgets/controls",
     "model_module_version": "1.5.0",
     "model_name": "HTMLModel",
     "state": {
      "_dom_classes": [],
      "_model_module": "@jupyter-widgets/controls",
      "_model_module_version": "1.5.0",
      "_model_name": "HTMLModel",
      "_view_count": null,
      "_view_module": "@jupyter-widgets/controls",
      "_view_module_version": "1.5.0",
      "_view_name": "HTMLView",
      "description": "",
      "description_tooltip": null,
      "layout": "IPY_MODEL_7438b125e7c5457aaf340e53f97e22f9",
      "placeholder": "​",
      "style": "IPY_MODEL_c72c69a424c14a438ba4da2b0dcdfa16",
      "value": "model.safetensors: 100%"
     }
    },
    "3120408a3fd34db888fe29eaeac26a86": {
     "model_module": "@jupyter-widgets/controls",
     "model_module_version": "1.5.0",
     "model_name": "ProgressStyleModel",
     "state": {
      "_model_module": "@jupyter-widgets/controls",
      "_model_module_version": "1.5.0",
      "_model_name": "ProgressStyleModel",
      "_view_count": null,
      "_view_module": "@jupyter-widgets/base",
      "_view_module_version": "1.2.0",
      "_view_name": "StyleView",
      "bar_color": null,
      "description_width": ""
     }
    },
    "328129f5e7f04c2d8e1d24503e0e30c6": {
     "model_module": "@jupyter-widgets/controls",
     "model_module_version": "1.5.0",
     "model_name": "DescriptionStyleModel",
     "state": {
      "_model_module": "@jupyter-widgets/controls",
      "_model_module_version": "1.5.0",
      "_model_name": "DescriptionStyleModel",
      "_view_count": null,
      "_view_module": "@jupyter-widgets/base",
      "_view_module_version": "1.2.0",
      "_view_name": "StyleView",
      "description_width": ""
     }
    },
    "33aff5577a424489b0386c66a87386f4": {
     "model_module": "@jupyter-widgets/base",
     "model_module_version": "1.2.0",
     "model_name": "LayoutModel",
     "state": {
      "_model_module": "@jupyter-widgets/base",
      "_model_module_version": "1.2.0",
      "_model_name": "LayoutModel",
      "_view_count": null,
      "_view_module": "@jupyter-widgets/base",
      "_view_module_version": "1.2.0",
      "_view_name": "LayoutView",
      "align_content": null,
      "align_items": null,
      "align_self": null,
      "border": null,
      "bottom": null,
      "display": null,
      "flex": null,
      "flex_flow": null,
      "grid_area": null,
      "grid_auto_columns": null,
      "grid_auto_flow": null,
      "grid_auto_rows": null,
      "grid_column": null,
      "grid_gap": null,
      "grid_row": null,
      "grid_template_areas": null,
      "grid_template_columns": null,
      "grid_template_rows": null,
      "height": null,
      "justify_content": null,
      "justify_items": null,
      "left": null,
      "margin": null,
      "max_height": null,
      "max_width": null,
      "min_height": null,
      "min_width": null,
      "object_fit": null,
      "object_position": null,
      "order": null,
      "overflow": null,
      "overflow_x": null,
      "overflow_y": null,
      "padding": null,
      "right": null,
      "top": null,
      "visibility": null,
      "width": null
     }
    },
    "356c58ae15c04397916ae4bce46c3150": {
     "model_module": "@jupyter-widgets/base",
     "model_module_version": "1.2.0",
     "model_name": "LayoutModel",
     "state": {
      "_model_module": "@jupyter-widgets/base",
      "_model_module_version": "1.2.0",
      "_model_name": "LayoutModel",
      "_view_count": null,
      "_view_module": "@jupyter-widgets/base",
      "_view_module_version": "1.2.0",
      "_view_name": "LayoutView",
      "align_content": null,
      "align_items": null,
      "align_self": null,
      "border": null,
      "bottom": null,
      "display": null,
      "flex": null,
      "flex_flow": null,
      "grid_area": null,
      "grid_auto_columns": null,
      "grid_auto_flow": null,
      "grid_auto_rows": null,
      "grid_column": null,
      "grid_gap": null,
      "grid_row": null,
      "grid_template_areas": null,
      "grid_template_columns": null,
      "grid_template_rows": null,
      "height": null,
      "justify_content": null,
      "justify_items": null,
      "left": null,
      "margin": null,
      "max_height": null,
      "max_width": null,
      "min_height": null,
      "min_width": null,
      "object_fit": null,
      "object_position": null,
      "order": null,
      "overflow": null,
      "overflow_x": null,
      "overflow_y": null,
      "padding": null,
      "right": null,
      "top": null,
      "visibility": null,
      "width": null
     }
    },
    "37a8e80f8ef54ccb80dde56338da1a2e": {
     "model_module": "@jupyter-widgets/base",
     "model_module_version": "1.2.0",
     "model_name": "LayoutModel",
     "state": {
      "_model_module": "@jupyter-widgets/base",
      "_model_module_version": "1.2.0",
      "_model_name": "LayoutModel",
      "_view_count": null,
      "_view_module": "@jupyter-widgets/base",
      "_view_module_version": "1.2.0",
      "_view_name": "LayoutView",
      "align_content": null,
      "align_items": null,
      "align_self": null,
      "border": null,
      "bottom": null,
      "display": null,
      "flex": null,
      "flex_flow": null,
      "grid_area": null,
      "grid_auto_columns": null,
      "grid_auto_flow": null,
      "grid_auto_rows": null,
      "grid_column": null,
      "grid_gap": null,
      "grid_row": null,
      "grid_template_areas": null,
      "grid_template_columns": null,
      "grid_template_rows": null,
      "height": null,
      "justify_content": null,
      "justify_items": null,
      "left": null,
      "margin": null,
      "max_height": null,
      "max_width": null,
      "min_height": null,
      "min_width": null,
      "object_fit": null,
      "object_position": null,
      "order": null,
      "overflow": null,
      "overflow_x": null,
      "overflow_y": null,
      "padding": null,
      "right": null,
      "top": null,
      "visibility": null,
      "width": null
     }
    },
    "37d11c7c99f145d6acdf2eddf08170cd": {
     "model_module": "@jupyter-widgets/controls",
     "model_module_version": "1.5.0",
     "model_name": "DescriptionStyleModel",
     "state": {
      "_model_module": "@jupyter-widgets/controls",
      "_model_module_version": "1.5.0",
      "_model_name": "DescriptionStyleModel",
      "_view_count": null,
      "_view_module": "@jupyter-widgets/base",
      "_view_module_version": "1.2.0",
      "_view_name": "StyleView",
      "description_width": ""
     }
    },
    "39e338e0d3a54abb87fd8b7a56a88971": {
     "model_module": "@jupyter-widgets/controls",
     "model_module_version": "1.5.0",
     "model_name": "HBoxModel",
     "state": {
      "_dom_classes": [],
      "_model_module": "@jupyter-widgets/controls",
      "_model_module_version": "1.5.0",
      "_model_name": "HBoxModel",
      "_view_count": null,
      "_view_module": "@jupyter-widgets/controls",
      "_view_module_version": "1.5.0",
      "_view_name": "HBoxView",
      "box_style": "",
      "children": [
       "IPY_MODEL_7a4c66f7b3b042678230a5e805beb3c5",
       "IPY_MODEL_5ce56816dd524ce386a025585ad6a2e3",
       "IPY_MODEL_1d6741e7c7d044ca917e1a85ae8bc94e"
      ],
      "layout": "IPY_MODEL_3b0a243eb6954f038533a983e8f94ea8"
     }
    },
    "3b0a243eb6954f038533a983e8f94ea8": {
     "model_module": "@jupyter-widgets/base",
     "model_module_version": "1.2.0",
     "model_name": "LayoutModel",
     "state": {
      "_model_module": "@jupyter-widgets/base",
      "_model_module_version": "1.2.0",
      "_model_name": "LayoutModel",
      "_view_count": null,
      "_view_module": "@jupyter-widgets/base",
      "_view_module_version": "1.2.0",
      "_view_name": "LayoutView",
      "align_content": null,
      "align_items": null,
      "align_self": null,
      "border": null,
      "bottom": null,
      "display": null,
      "flex": null,
      "flex_flow": null,
      "grid_area": null,
      "grid_auto_columns": null,
      "grid_auto_flow": null,
      "grid_auto_rows": null,
      "grid_column": null,
      "grid_gap": null,
      "grid_row": null,
      "grid_template_areas": null,
      "grid_template_columns": null,
      "grid_template_rows": null,
      "height": null,
      "justify_content": null,
      "justify_items": null,
      "left": null,
      "margin": null,
      "max_height": null,
      "max_width": null,
      "min_height": null,
      "min_width": null,
      "object_fit": null,
      "object_position": null,
      "order": null,
      "overflow": null,
      "overflow_x": null,
      "overflow_y": null,
      "padding": null,
      "right": null,
      "top": null,
      "visibility": null,
      "width": null
     }
    },
    "3b9d182cf8254078a10084e92f63c5f2": {
     "model_module": "@jupyter-widgets/controls",
     "model_module_version": "1.5.0",
     "model_name": "ProgressStyleModel",
     "state": {
      "_model_module": "@jupyter-widgets/controls",
      "_model_module_version": "1.5.0",
      "_model_name": "ProgressStyleModel",
      "_view_count": null,
      "_view_module": "@jupyter-widgets/base",
      "_view_module_version": "1.2.0",
      "_view_name": "StyleView",
      "bar_color": null,
      "description_width": ""
     }
    },
    "41aa33ddb09c4569856a48c265cd6c04": {
     "model_module": "@jupyter-widgets/base",
     "model_module_version": "1.2.0",
     "model_name": "LayoutModel",
     "state": {
      "_model_module": "@jupyter-widgets/base",
      "_model_module_version": "1.2.0",
      "_model_name": "LayoutModel",
      "_view_count": null,
      "_view_module": "@jupyter-widgets/base",
      "_view_module_version": "1.2.0",
      "_view_name": "LayoutView",
      "align_content": null,
      "align_items": null,
      "align_self": null,
      "border": null,
      "bottom": null,
      "display": null,
      "flex": null,
      "flex_flow": null,
      "grid_area": null,
      "grid_auto_columns": null,
      "grid_auto_flow": null,
      "grid_auto_rows": null,
      "grid_column": null,
      "grid_gap": null,
      "grid_row": null,
      "grid_template_areas": null,
      "grid_template_columns": null,
      "grid_template_rows": null,
      "height": null,
      "justify_content": null,
      "justify_items": null,
      "left": null,
      "margin": null,
      "max_height": null,
      "max_width": null,
      "min_height": null,
      "min_width": null,
      "object_fit": null,
      "object_position": null,
      "order": null,
      "overflow": null,
      "overflow_x": null,
      "overflow_y": null,
      "padding": null,
      "right": null,
      "top": null,
      "visibility": null,
      "width": null
     }
    },
    "42432a336dc34443858f53b4fa8b900b": {
     "model_module": "@jupyter-widgets/base",
     "model_module_version": "1.2.0",
     "model_name": "LayoutModel",
     "state": {
      "_model_module": "@jupyter-widgets/base",
      "_model_module_version": "1.2.0",
      "_model_name": "LayoutModel",
      "_view_count": null,
      "_view_module": "@jupyter-widgets/base",
      "_view_module_version": "1.2.0",
      "_view_name": "LayoutView",
      "align_content": null,
      "align_items": null,
      "align_self": null,
      "border": null,
      "bottom": null,
      "display": null,
      "flex": null,
      "flex_flow": null,
      "grid_area": null,
      "grid_auto_columns": null,
      "grid_auto_flow": null,
      "grid_auto_rows": null,
      "grid_column": null,
      "grid_gap": null,
      "grid_row": null,
      "grid_template_areas": null,
      "grid_template_columns": null,
      "grid_template_rows": null,
      "height": null,
      "justify_content": null,
      "justify_items": null,
      "left": null,
      "margin": null,
      "max_height": null,
      "max_width": null,
      "min_height": null,
      "min_width": null,
      "object_fit": null,
      "object_position": null,
      "order": null,
      "overflow": null,
      "overflow_x": null,
      "overflow_y": null,
      "padding": null,
      "right": null,
      "top": null,
      "visibility": null,
      "width": null
     }
    },
    "440775984e554c0c8ebe2afde834aac4": {
     "model_module": "@jupyter-widgets/controls",
     "model_module_version": "1.5.0",
     "model_name": "ProgressStyleModel",
     "state": {
      "_model_module": "@jupyter-widgets/controls",
      "_model_module_version": "1.5.0",
      "_model_name": "ProgressStyleModel",
      "_view_count": null,
      "_view_module": "@jupyter-widgets/base",
      "_view_module_version": "1.2.0",
      "_view_name": "StyleView",
      "bar_color": null,
      "description_width": ""
     }
    },
    "446d924ecb694a7d989a66580ec873e5": {
     "model_module": "@jupyter-widgets/controls",
     "model_module_version": "1.5.0",
     "model_name": "DescriptionStyleModel",
     "state": {
      "_model_module": "@jupyter-widgets/controls",
      "_model_module_version": "1.5.0",
      "_model_name": "DescriptionStyleModel",
      "_view_count": null,
      "_view_module": "@jupyter-widgets/base",
      "_view_module_version": "1.2.0",
      "_view_name": "StyleView",
      "description_width": ""
     }
    },
    "45472bb4108b40538a81d4fb84170925": {
     "model_module": "@jupyter-widgets/controls",
     "model_module_version": "1.5.0",
     "model_name": "HTMLModel",
     "state": {
      "_dom_classes": [],
      "_model_module": "@jupyter-widgets/controls",
      "_model_module_version": "1.5.0",
      "_model_name": "HTMLModel",
      "_view_count": null,
      "_view_module": "@jupyter-widgets/controls",
      "_view_module_version": "1.5.0",
      "_view_name": "HTMLView",
      "description": "",
      "description_tooltip": null,
      "layout": "IPY_MODEL_8295f753e0ec4940b69240e051a80f7e",
      "placeholder": "​",
      "style": "IPY_MODEL_245f0a51494543e9a054eeee162920bb",
      "value": " 456k/456k [00:00&lt;00:00, 7.56MB/s]"
     }
    },
    "45d868f01d294e6c867167c6733758d6": {
     "model_module": "@jupyter-widgets/base",
     "model_module_version": "1.2.0",
     "model_name": "LayoutModel",
     "state": {
      "_model_module": "@jupyter-widgets/base",
      "_model_module_version": "1.2.0",
      "_model_name": "LayoutModel",
      "_view_count": null,
      "_view_module": "@jupyter-widgets/base",
      "_view_module_version": "1.2.0",
      "_view_name": "LayoutView",
      "align_content": null,
      "align_items": null,
      "align_self": null,
      "border": null,
      "bottom": null,
      "display": null,
      "flex": null,
      "flex_flow": null,
      "grid_area": null,
      "grid_auto_columns": null,
      "grid_auto_flow": null,
      "grid_auto_rows": null,
      "grid_column": null,
      "grid_gap": null,
      "grid_row": null,
      "grid_template_areas": null,
      "grid_template_columns": null,
      "grid_template_rows": null,
      "height": null,
      "justify_content": null,
      "justify_items": null,
      "left": null,
      "margin": null,
      "max_height": null,
      "max_width": null,
      "min_height": null,
      "min_width": null,
      "object_fit": null,
      "object_position": null,
      "order": null,
      "overflow": null,
      "overflow_x": null,
      "overflow_y": null,
      "padding": null,
      "right": null,
      "top": null,
      "visibility": null,
      "width": null
     }
    },
    "479dc810976a4c72bdd266a77cc6dd89": {
     "model_module": "@jupyter-widgets/controls",
     "model_module_version": "1.5.0",
     "model_name": "FloatProgressModel",
     "state": {
      "_dom_classes": [],
      "_model_module": "@jupyter-widgets/controls",
      "_model_module_version": "1.5.0",
      "_model_name": "FloatProgressModel",
      "_view_count": null,
      "_view_module": "@jupyter-widgets/controls",
      "_view_module_version": "1.5.0",
      "_view_name": "ProgressView",
      "bar_style": "success",
      "description": "",
      "description_tooltip": null,
      "layout": "IPY_MODEL_6ffef70f62204f1d998ca829b7296db0",
      "max": 481,
      "min": 0,
      "orientation": "horizontal",
      "style": "IPY_MODEL_d19e6407ce24445580c7cd27ef09aa70",
      "value": 481
     }
    },
    "47ccf46a57c14f928fb0df87def0d30a": {
     "model_module": "@jupyter-widgets/controls",
     "model_module_version": "1.5.0",
     "model_name": "DescriptionStyleModel",
     "state": {
      "_model_module": "@jupyter-widgets/controls",
      "_model_module_version": "1.5.0",
      "_model_name": "DescriptionStyleModel",
      "_view_count": null,
      "_view_module": "@jupyter-widgets/base",
      "_view_module_version": "1.2.0",
      "_view_name": "StyleView",
      "description_width": ""
     }
    },
    "4995e03af8f243b2b3f6da088d6b29a2": {
     "model_module": "@jupyter-widgets/controls",
     "model_module_version": "1.5.0",
     "model_name": "LabelModel",
     "state": {
      "_dom_classes": [],
      "_model_module": "@jupyter-widgets/controls",
      "_model_module_version": "1.5.0",
      "_model_name": "LabelModel",
      "_view_count": null,
      "_view_module": "@jupyter-widgets/controls",
      "_view_module_version": "1.5.0",
      "_view_name": "LabelView",
      "description": "",
      "description_tooltip": null,
      "layout": "IPY_MODEL_1cd53268763348f88ad6d65a4e3afc70",
      "placeholder": "​",
      "style": "IPY_MODEL_dc0379efed47483c93cc59415d8d72f4",
      "value": "0.019 MB of 0.019 MB uploaded\r"
     }
    },
    "49a90a89f02b4f4590bd90864fbeb404": {
     "model_module": "@jupyter-widgets/base",
     "model_module_version": "1.2.0",
     "model_name": "LayoutModel",
     "state": {
      "_model_module": "@jupyter-widgets/base",
      "_model_module_version": "1.2.0",
      "_model_name": "LayoutModel",
      "_view_count": null,
      "_view_module": "@jupyter-widgets/base",
      "_view_module_version": "1.2.0",
      "_view_name": "LayoutView",
      "align_content": null,
      "align_items": null,
      "align_self": null,
      "border": null,
      "bottom": null,
      "display": null,
      "flex": null,
      "flex_flow": null,
      "grid_area": null,
      "grid_auto_columns": null,
      "grid_auto_flow": null,
      "grid_auto_rows": null,
      "grid_column": null,
      "grid_gap": null,
      "grid_row": null,
      "grid_template_areas": null,
      "grid_template_columns": null,
      "grid_template_rows": null,
      "height": null,
      "justify_content": null,
      "justify_items": null,
      "left": null,
      "margin": null,
      "max_height": null,
      "max_width": null,
      "min_height": null,
      "min_width": null,
      "object_fit": null,
      "object_position": null,
      "order": null,
      "overflow": null,
      "overflow_x": null,
      "overflow_y": null,
      "padding": null,
      "right": null,
      "top": null,
      "visibility": null,
      "width": null
     }
    },
    "4a34dbd2087f4d08a3d8a5f0303a2898": {
     "model_module": "@jupyter-widgets/base",
     "model_module_version": "1.2.0",
     "model_name": "LayoutModel",
     "state": {
      "_model_module": "@jupyter-widgets/base",
      "_model_module_version": "1.2.0",
      "_model_name": "LayoutModel",
      "_view_count": null,
      "_view_module": "@jupyter-widgets/base",
      "_view_module_version": "1.2.0",
      "_view_name": "LayoutView",
      "align_content": null,
      "align_items": null,
      "align_self": null,
      "border": null,
      "bottom": null,
      "display": null,
      "flex": null,
      "flex_flow": null,
      "grid_area": null,
      "grid_auto_columns": null,
      "grid_auto_flow": null,
      "grid_auto_rows": null,
      "grid_column": null,
      "grid_gap": null,
      "grid_row": null,
      "grid_template_areas": null,
      "grid_template_columns": null,
      "grid_template_rows": null,
      "height": null,
      "justify_content": null,
      "justify_items": null,
      "left": null,
      "margin": null,
      "max_height": null,
      "max_width": null,
      "min_height": null,
      "min_width": null,
      "object_fit": null,
      "object_position": null,
      "order": null,
      "overflow": null,
      "overflow_x": null,
      "overflow_y": null,
      "padding": null,
      "right": null,
      "top": null,
      "visibility": null,
      "width": null
     }
    },
    "4a8592b0dd814f5f86f728d1728ab42c": {
     "model_module": "@jupyter-widgets/base",
     "model_module_version": "1.2.0",
     "model_name": "LayoutModel",
     "state": {
      "_model_module": "@jupyter-widgets/base",
      "_model_module_version": "1.2.0",
      "_model_name": "LayoutModel",
      "_view_count": null,
      "_view_module": "@jupyter-widgets/base",
      "_view_module_version": "1.2.0",
      "_view_name": "LayoutView",
      "align_content": null,
      "align_items": null,
      "align_self": null,
      "border": null,
      "bottom": null,
      "display": null,
      "flex": null,
      "flex_flow": null,
      "grid_area": null,
      "grid_auto_columns": null,
      "grid_auto_flow": null,
      "grid_auto_rows": null,
      "grid_column": null,
      "grid_gap": null,
      "grid_row": null,
      "grid_template_areas": null,
      "grid_template_columns": null,
      "grid_template_rows": null,
      "height": null,
      "justify_content": null,
      "justify_items": null,
      "left": null,
      "margin": null,
      "max_height": null,
      "max_width": null,
      "min_height": null,
      "min_width": null,
      "object_fit": null,
      "object_position": null,
      "order": null,
      "overflow": null,
      "overflow_x": null,
      "overflow_y": null,
      "padding": null,
      "right": null,
      "top": null,
      "visibility": null,
      "width": null
     }
    },
    "4ac5b8a1c34c4a8b9ab0fb2bc390a154": {
     "model_module": "@jupyter-widgets/base",
     "model_module_version": "1.2.0",
     "model_name": "LayoutModel",
     "state": {
      "_model_module": "@jupyter-widgets/base",
      "_model_module_version": "1.2.0",
      "_model_name": "LayoutModel",
      "_view_count": null,
      "_view_module": "@jupyter-widgets/base",
      "_view_module_version": "1.2.0",
      "_view_name": "LayoutView",
      "align_content": null,
      "align_items": null,
      "align_self": null,
      "border": null,
      "bottom": null,
      "display": null,
      "flex": null,
      "flex_flow": null,
      "grid_area": null,
      "grid_auto_columns": null,
      "grid_auto_flow": null,
      "grid_auto_rows": null,
      "grid_column": null,
      "grid_gap": null,
      "grid_row": null,
      "grid_template_areas": null,
      "grid_template_columns": null,
      "grid_template_rows": null,
      "height": null,
      "justify_content": null,
      "justify_items": null,
      "left": null,
      "margin": null,
      "max_height": null,
      "max_width": null,
      "min_height": null,
      "min_width": null,
      "object_fit": null,
      "object_position": null,
      "order": null,
      "overflow": null,
      "overflow_x": null,
      "overflow_y": null,
      "padding": null,
      "right": null,
      "top": null,
      "visibility": null,
      "width": null
     }
    },
    "4da0f7afe39141b3a8e69f373bc78b05": {
     "model_module": "@jupyter-widgets/controls",
     "model_module_version": "1.5.0",
     "model_name": "HTMLModel",
     "state": {
      "_dom_classes": [],
      "_model_module": "@jupyter-widgets/controls",
      "_model_module_version": "1.5.0",
      "_model_name": "HTMLModel",
      "_view_count": null,
      "_view_module": "@jupyter-widgets/controls",
      "_view_module_version": "1.5.0",
      "_view_name": "HTMLView",
      "description": "",
      "description_tooltip": null,
      "layout": "IPY_MODEL_b229adb84dbd46febb893a835faca4cd",
      "placeholder": "​",
      "style": "IPY_MODEL_d6c23af7e53149058bfb2aa5ddbd1dba",
      "value": " 331M/331M [00:01&lt;00:00, 261MB/s]"
     }
    },
    "50cda0c8d8e6409b9413081e893222a2": {
     "model_module": "@jupyter-widgets/base",
     "model_module_version": "1.2.0",
     "model_name": "LayoutModel",
     "state": {
      "_model_module": "@jupyter-widgets/base",
      "_model_module_version": "1.2.0",
      "_model_name": "LayoutModel",
      "_view_count": null,
      "_view_module": "@jupyter-widgets/base",
      "_view_module_version": "1.2.0",
      "_view_name": "LayoutView",
      "align_content": null,
      "align_items": null,
      "align_self": null,
      "border": null,
      "bottom": null,
      "display": null,
      "flex": null,
      "flex_flow": null,
      "grid_area": null,
      "grid_auto_columns": null,
      "grid_auto_flow": null,
      "grid_auto_rows": null,
      "grid_column": null,
      "grid_gap": null,
      "grid_row": null,
      "grid_template_areas": null,
      "grid_template_columns": null,
      "grid_template_rows": null,
      "height": null,
      "justify_content": null,
      "justify_items": null,
      "left": null,
      "margin": null,
      "max_height": null,
      "max_width": null,
      "min_height": null,
      "min_width": null,
      "object_fit": null,
      "object_position": null,
      "order": null,
      "overflow": null,
      "overflow_x": null,
      "overflow_y": null,
      "padding": null,
      "right": null,
      "top": null,
      "visibility": null,
      "width": null
     }
    },
    "51b31924c6f24fd09dcdb895d04658c6": {
     "model_module": "@jupyter-widgets/controls",
     "model_module_version": "1.5.0",
     "model_name": "DescriptionStyleModel",
     "state": {
      "_model_module": "@jupyter-widgets/controls",
      "_model_module_version": "1.5.0",
      "_model_name": "DescriptionStyleModel",
      "_view_count": null,
      "_view_module": "@jupyter-widgets/base",
      "_view_module_version": "1.2.0",
      "_view_name": "StyleView",
      "description_width": ""
     }
    },
    "5311b182e9724805aab11afb27ba15ef": {
     "model_module": "@jupyter-widgets/controls",
     "model_module_version": "1.5.0",
     "model_name": "DescriptionStyleModel",
     "state": {
      "_model_module": "@jupyter-widgets/controls",
      "_model_module_version": "1.5.0",
      "_model_name": "DescriptionStyleModel",
      "_view_count": null,
      "_view_module": "@jupyter-widgets/base",
      "_view_module_version": "1.2.0",
      "_view_name": "StyleView",
      "description_width": ""
     }
    },
    "5407fa34ded6497c8b5ae29cb78a0611": {
     "model_module": "@jupyter-widgets/controls",
     "model_module_version": "1.5.0",
     "model_name": "HTMLModel",
     "state": {
      "_dom_classes": [],
      "_model_module": "@jupyter-widgets/controls",
      "_model_module_version": "1.5.0",
      "_model_name": "HTMLModel",
      "_view_count": null,
      "_view_module": "@jupyter-widgets/controls",
      "_view_module_version": "1.5.0",
      "_view_name": "HTMLView",
      "description": "",
      "description_tooltip": null,
      "layout": "IPY_MODEL_8aa509c0809c413bb37e6b7345cb82dc",
      "placeholder": "​",
      "style": "IPY_MODEL_d877af212b31448586f94dd31131e446",
      "value": " 1.36M/1.36M [00:00&lt;00:00, 41.3MB/s]"
     }
    },
    "5555f4fa6f63485991a62caa06641c9b": {
     "model_module": "@jupyter-widgets/controls",
     "model_module_version": "1.5.0",
     "model_name": "DescriptionStyleModel",
     "state": {
      "_model_module": "@jupyter-widgets/controls",
      "_model_module_version": "1.5.0",
      "_model_name": "DescriptionStyleModel",
      "_view_count": null,
      "_view_module": "@jupyter-widgets/base",
      "_view_module_version": "1.2.0",
      "_view_name": "StyleView",
      "description_width": ""
     }
    },
    "55772b2250ff4b60833ef3a6f145a7ef": {
     "model_module": "@jupyter-widgets/controls",
     "model_module_version": "1.5.0",
     "model_name": "DescriptionStyleModel",
     "state": {
      "_model_module": "@jupyter-widgets/controls",
      "_model_module_version": "1.5.0",
      "_model_name": "DescriptionStyleModel",
      "_view_count": null,
      "_view_module": "@jupyter-widgets/base",
      "_view_module_version": "1.2.0",
      "_view_name": "StyleView",
      "description_width": ""
     }
    },
    "560345df66f64bdabfd55f9c598eba15": {
     "model_module": "@jupyter-widgets/controls",
     "model_module_version": "1.5.0",
     "model_name": "FloatProgressModel",
     "state": {
      "_dom_classes": [],
      "_model_module": "@jupyter-widgets/controls",
      "_model_module_version": "1.5.0",
      "_model_name": "FloatProgressModel",
      "_view_count": null,
      "_view_module": "@jupyter-widgets/controls",
      "_view_module_version": "1.5.0",
      "_view_name": "ProgressView",
      "bar_style": "success",
      "description": "",
      "description_tooltip": null,
      "layout": "IPY_MODEL_67079d4809114b168ff96baf553845bc",
      "max": 25,
      "min": 0,
      "orientation": "horizontal",
      "style": "IPY_MODEL_6d505040361642778a7cce377e04f6f9",
      "value": 25
     }
    },
    "584795e068024b60a79ec368a898ed7a": {
     "model_module": "@jupyter-widgets/controls",
     "model_module_version": "1.5.0",
     "model_name": "FloatProgressModel",
     "state": {
      "_dom_classes": [],
      "_model_module": "@jupyter-widgets/controls",
      "_model_module_version": "1.5.0",
      "_model_name": "FloatProgressModel",
      "_view_count": null,
      "_view_module": "@jupyter-widgets/controls",
      "_view_module_version": "1.5.0",
      "_view_name": "ProgressView",
      "bar_style": "",
      "description": "",
      "description_tooltip": null,
      "layout": "IPY_MODEL_1445e57b4e074e5fb13b0984ad8b3230",
      "max": 1,
      "min": 0,
      "orientation": "horizontal",
      "style": "IPY_MODEL_f546a30252d6453cbf758d2568cf8d34",
      "value": 1
     }
    },
    "5947b93264774c42825080d5b1b4a87c": {
     "model_module": "@jupyter-widgets/controls",
     "model_module_version": "1.5.0",
     "model_name": "VBoxModel",
     "state": {
      "_dom_classes": [],
      "_model_module": "@jupyter-widgets/controls",
      "_model_module_version": "1.5.0",
      "_model_name": "VBoxModel",
      "_view_count": null,
      "_view_module": "@jupyter-widgets/controls",
      "_view_module_version": "1.5.0",
      "_view_name": "VBoxView",
      "box_style": "",
      "children": [
       "IPY_MODEL_dac01a2eff8f4688aaa69351ff61fac8",
       "IPY_MODEL_c945bb0ba8ca44b0850692ba77a4ea14"
      ],
      "layout": "IPY_MODEL_5fb07ce2a68f4368be62ca44e05ca547"
     }
    },
    "5bd766b7e3a54618a0d2d1c7a9ccde33": {
     "model_module": "@jupyter-widgets/controls",
     "model_module_version": "1.5.0",
     "model_name": "HTMLModel",
     "state": {
      "_dom_classes": [],
      "_model_module": "@jupyter-widgets/controls",
      "_model_module_version": "1.5.0",
      "_model_name": "HTMLModel",
      "_view_count": null,
      "_view_module": "@jupyter-widgets/controls",
      "_view_module_version": "1.5.0",
      "_view_name": "HTMLView",
      "description": "",
      "description_tooltip": null,
      "layout": "IPY_MODEL_0895ac7cd6fb46b38301822f0afdfa75",
      "placeholder": "​",
      "style": "IPY_MODEL_d7a0f05ed78849f9bd9b2179a907a5b6",
      "value": "tokenizer_config.json: 100%"
     }
    },
    "5c21b032a8474dd1a4353d6dbf2955a0": {
     "model_module": "@jupyter-widgets/controls",
     "model_module_version": "1.5.0",
     "model_name": "HBoxModel",
     "state": {
      "_dom_classes": [],
      "_model_module": "@jupyter-widgets/controls",
      "_model_module_version": "1.5.0",
      "_model_name": "HBoxModel",
      "_view_count": null,
      "_view_module": "@jupyter-widgets/controls",
      "_view_module_version": "1.5.0",
      "_view_name": "HBoxView",
      "box_style": "",
      "children": [
       "IPY_MODEL_71033ab1baca4082a727896bcb02ebf9",
       "IPY_MODEL_6a46d733f040474db06b591e5861df20",
       "IPY_MODEL_a0f0604471034cfe9daab1c208446c23"
      ],
      "layout": "IPY_MODEL_6ff6bef0c6144c67a46d66259304b195"
     }
    },
    "5ce56816dd524ce386a025585ad6a2e3": {
     "model_module": "@jupyter-widgets/controls",
     "model_module_version": "1.5.0",
     "model_name": "FloatProgressModel",
     "state": {
      "_dom_classes": [],
      "_model_module": "@jupyter-widgets/controls",
      "_model_module_version": "1.5.0",
      "_model_name": "FloatProgressModel",
      "_view_count": null,
      "_view_module": "@jupyter-widgets/controls",
      "_view_module_version": "1.5.0",
      "_view_name": "ProgressView",
      "bar_style": "success",
      "description": "",
      "description_tooltip": null,
      "layout": "IPY_MODEL_81a2addd732f41f6adf1fd62d62d1d34",
      "max": 1355863,
      "min": 0,
      "orientation": "horizontal",
      "style": "IPY_MODEL_054425ed56564f7ebfd92c87b25afc0a",
      "value": 1355863
     }
    },
    "5e235e72ec2548ebb5486bac35e88c33": {
     "model_module": "@jupyter-widgets/base",
     "model_module_version": "1.2.0",
     "model_name": "LayoutModel",
     "state": {
      "_model_module": "@jupyter-widgets/base",
      "_model_module_version": "1.2.0",
      "_model_name": "LayoutModel",
      "_view_count": null,
      "_view_module": "@jupyter-widgets/base",
      "_view_module_version": "1.2.0",
      "_view_name": "LayoutView",
      "align_content": null,
      "align_items": null,
      "align_self": null,
      "border": null,
      "bottom": null,
      "display": null,
      "flex": null,
      "flex_flow": null,
      "grid_area": null,
      "grid_auto_columns": null,
      "grid_auto_flow": null,
      "grid_auto_rows": null,
      "grid_column": null,
      "grid_gap": null,
      "grid_row": null,
      "grid_template_areas": null,
      "grid_template_columns": null,
      "grid_template_rows": null,
      "height": null,
      "justify_content": null,
      "justify_items": null,
      "left": null,
      "margin": null,
      "max_height": null,
      "max_width": null,
      "min_height": null,
      "min_width": null,
      "object_fit": null,
      "object_position": null,
      "order": null,
      "overflow": null,
      "overflow_x": null,
      "overflow_y": null,
      "padding": null,
      "right": null,
      "top": null,
      "visibility": null,
      "width": null
     }
    },
    "5fb07ce2a68f4368be62ca44e05ca547": {
     "model_module": "@jupyter-widgets/base",
     "model_module_version": "1.2.0",
     "model_name": "LayoutModel",
     "state": {
      "_model_module": "@jupyter-widgets/base",
      "_model_module_version": "1.2.0",
      "_model_name": "LayoutModel",
      "_view_count": null,
      "_view_module": "@jupyter-widgets/base",
      "_view_module_version": "1.2.0",
      "_view_name": "LayoutView",
      "align_content": null,
      "align_items": null,
      "align_self": null,
      "border": null,
      "bottom": null,
      "display": null,
      "flex": null,
      "flex_flow": null,
      "grid_area": null,
      "grid_auto_columns": null,
      "grid_auto_flow": null,
      "grid_auto_rows": null,
      "grid_column": null,
      "grid_gap": null,
      "grid_row": null,
      "grid_template_areas": null,
      "grid_template_columns": null,
      "grid_template_rows": null,
      "height": null,
      "justify_content": null,
      "justify_items": null,
      "left": null,
      "margin": null,
      "max_height": null,
      "max_width": null,
      "min_height": null,
      "min_width": null,
      "object_fit": null,
      "object_position": null,
      "order": null,
      "overflow": null,
      "overflow_x": null,
      "overflow_y": null,
      "padding": null,
      "right": null,
      "top": null,
      "visibility": null,
      "width": null
     }
    },
    "61068d16bd5c44e3a1d8fbd397563672": {
     "model_module": "@jupyter-widgets/controls",
     "model_module_version": "1.5.0",
     "model_name": "DescriptionStyleModel",
     "state": {
      "_model_module": "@jupyter-widgets/controls",
      "_model_module_version": "1.5.0",
      "_model_name": "DescriptionStyleModel",
      "_view_count": null,
      "_view_module": "@jupyter-widgets/base",
      "_view_module_version": "1.2.0",
      "_view_name": "StyleView",
      "description_width": ""
     }
    },
    "613899d34ec648579863eae7639a719f": {
     "model_module": "@jupyter-widgets/controls",
     "model_module_version": "1.5.0",
     "model_name": "ProgressStyleModel",
     "state": {
      "_model_module": "@jupyter-widgets/controls",
      "_model_module_version": "1.5.0",
      "_model_name": "ProgressStyleModel",
      "_view_count": null,
      "_view_module": "@jupyter-widgets/base",
      "_view_module_version": "1.2.0",
      "_view_name": "StyleView",
      "bar_color": null,
      "description_width": ""
     }
    },
    "61db47b751d24c53a4c93f159b38c507": {
     "model_module": "@jupyter-widgets/controls",
     "model_module_version": "1.5.0",
     "model_name": "VBoxModel",
     "state": {
      "_dom_classes": [],
      "_model_module": "@jupyter-widgets/controls",
      "_model_module_version": "1.5.0",
      "_model_name": "VBoxModel",
      "_view_count": null,
      "_view_module": "@jupyter-widgets/controls",
      "_view_module_version": "1.5.0",
      "_view_name": "VBoxView",
      "box_style": "",
      "children": [
       "IPY_MODEL_8efd69d3821d4499b9fb5af8cfe9505e",
       "IPY_MODEL_0a7af31b3a7f4092a766a2275369b583"
      ],
      "layout": "IPY_MODEL_c9a2f400df5d4a28ab599c6f0ccceda9"
     }
    },
    "637f86ac331447c39bf4dcf54a1bfbdf": {
     "model_module": "@jupyter-widgets/controls",
     "model_module_version": "1.5.0",
     "model_name": "HBoxModel",
     "state": {
      "_dom_classes": [],
      "_model_module": "@jupyter-widgets/controls",
      "_model_module_version": "1.5.0",
      "_model_name": "HBoxModel",
      "_view_count": null,
      "_view_module": "@jupyter-widgets/controls",
      "_view_module_version": "1.5.0",
      "_view_name": "HBoxView",
      "box_style": "",
      "children": [
       "IPY_MODEL_b42ab6b829c94b8fbabcd3da8fba3b82",
       "IPY_MODEL_926486ae42594ffa9e2b88e1d9069390",
       "IPY_MODEL_4da0f7afe39141b3a8e69f373bc78b05"
      ],
      "layout": "IPY_MODEL_954949652b0443e883547db608841fa4"
     }
    },
    "641f3becbd35455b811c3e2a7b6420c9": {
     "model_module": "@jupyter-widgets/controls",
     "model_module_version": "1.5.0",
     "model_name": "HTMLModel",
     "state": {
      "_dom_classes": [],
      "_model_module": "@jupyter-widgets/controls",
      "_model_module_version": "1.5.0",
      "_model_name": "HTMLModel",
      "_view_count": null,
      "_view_module": "@jupyter-widgets/controls",
      "_view_module_version": "1.5.0",
      "_view_name": "HTMLView",
      "description": "",
      "description_tooltip": null,
      "layout": "IPY_MODEL_02c363b4b0e947efa82661d60ac50671",
      "placeholder": "​",
      "style": "IPY_MODEL_9d20a9cd6d6e413da1d11149f2cbd5da",
      "value": "tokenizer_config.json: 100%"
     }
    },
    "652339a1352743b1a8078573e4e824d5": {
     "model_module": "@jupyter-widgets/base",
     "model_module_version": "1.2.0",
     "model_name": "LayoutModel",
     "state": {
      "_model_module": "@jupyter-widgets/base",
      "_model_module_version": "1.2.0",
      "_model_name": "LayoutModel",
      "_view_count": null,
      "_view_module": "@jupyter-widgets/base",
      "_view_module_version": "1.2.0",
      "_view_name": "LayoutView",
      "align_content": null,
      "align_items": null,
      "align_self": null,
      "border": null,
      "bottom": null,
      "display": null,
      "flex": null,
      "flex_flow": null,
      "grid_area": null,
      "grid_auto_columns": null,
      "grid_auto_flow": null,
      "grid_auto_rows": null,
      "grid_column": null,
      "grid_gap": null,
      "grid_row": null,
      "grid_template_areas": null,
      "grid_template_columns": null,
      "grid_template_rows": null,
      "height": null,
      "justify_content": null,
      "justify_items": null,
      "left": null,
      "margin": null,
      "max_height": null,
      "max_width": null,
      "min_height": null,
      "min_width": null,
      "object_fit": null,
      "object_position": null,
      "order": null,
      "overflow": null,
      "overflow_x": null,
      "overflow_y": null,
      "padding": null,
      "right": null,
      "top": null,
      "visibility": null,
      "width": null
     }
    },
    "653207817c114e96965c785c7bbcc8ce": {
     "model_module": "@jupyter-widgets/controls",
     "model_module_version": "1.5.0",
     "model_name": "LabelModel",
     "state": {
      "_dom_classes": [],
      "_model_module": "@jupyter-widgets/controls",
      "_model_module_version": "1.5.0",
      "_model_name": "LabelModel",
      "_view_count": null,
      "_view_module": "@jupyter-widgets/controls",
      "_view_module_version": "1.5.0",
      "_view_name": "LabelView",
      "description": "",
      "description_tooltip": null,
      "layout": "IPY_MODEL_45d868f01d294e6c867167c6733758d6",
      "placeholder": "​",
      "style": "IPY_MODEL_328129f5e7f04c2d8e1d24503e0e30c6",
      "value": "0.019 MB of 0.019 MB uploaded\r"
     }
    },
    "66cbd0a22fd141f5a32e5e00a2850308": {
     "model_module": "@jupyter-widgets/controls",
     "model_module_version": "1.5.0",
     "model_name": "ProgressStyleModel",
     "state": {
      "_model_module": "@jupyter-widgets/controls",
      "_model_module_version": "1.5.0",
      "_model_name": "ProgressStyleModel",
      "_view_count": null,
      "_view_module": "@jupyter-widgets/base",
      "_view_module_version": "1.2.0",
      "_view_name": "StyleView",
      "bar_color": null,
      "description_width": ""
     }
    },
    "67079d4809114b168ff96baf553845bc": {
     "model_module": "@jupyter-widgets/base",
     "model_module_version": "1.2.0",
     "model_name": "LayoutModel",
     "state": {
      "_model_module": "@jupyter-widgets/base",
      "_model_module_version": "1.2.0",
      "_model_name": "LayoutModel",
      "_view_count": null,
      "_view_module": "@jupyter-widgets/base",
      "_view_module_version": "1.2.0",
      "_view_name": "LayoutView",
      "align_content": null,
      "align_items": null,
      "align_self": null,
      "border": null,
      "bottom": null,
      "display": null,
      "flex": null,
      "flex_flow": null,
      "grid_area": null,
      "grid_auto_columns": null,
      "grid_auto_flow": null,
      "grid_auto_rows": null,
      "grid_column": null,
      "grid_gap": null,
      "grid_row": null,
      "grid_template_areas": null,
      "grid_template_columns": null,
      "grid_template_rows": null,
      "height": null,
      "justify_content": null,
      "justify_items": null,
      "left": null,
      "margin": null,
      "max_height": null,
      "max_width": null,
      "min_height": null,
      "min_width": null,
      "object_fit": null,
      "object_position": null,
      "order": null,
      "overflow": null,
      "overflow_x": null,
      "overflow_y": null,
      "padding": null,
      "right": null,
      "top": null,
      "visibility": null,
      "width": null
     }
    },
    "6817390e76db4b96bafe3cefd0da1115": {
     "model_module": "@jupyter-widgets/controls",
     "model_module_version": "1.5.0",
     "model_name": "VBoxModel",
     "state": {
      "_dom_classes": [],
      "_model_module": "@jupyter-widgets/controls",
      "_model_module_version": "1.5.0",
      "_model_name": "VBoxModel",
      "_view_count": null,
      "_view_module": "@jupyter-widgets/controls",
      "_view_module_version": "1.5.0",
      "_view_name": "VBoxView",
      "box_style": "",
      "children": [
       "IPY_MODEL_653207817c114e96965c785c7bbcc8ce",
       "IPY_MODEL_8b9b634add42413589b8613fe6e18b78"
      ],
      "layout": "IPY_MODEL_356c58ae15c04397916ae4bce46c3150"
     }
    },
    "6a0f7d42174d4defb126171e0d3069eb": {
     "model_module": "@jupyter-widgets/controls",
     "model_module_version": "1.5.0",
     "model_name": "DescriptionStyleModel",
     "state": {
      "_model_module": "@jupyter-widgets/controls",
      "_model_module_version": "1.5.0",
      "_model_name": "DescriptionStyleModel",
      "_view_count": null,
      "_view_module": "@jupyter-widgets/base",
      "_view_module_version": "1.2.0",
      "_view_name": "StyleView",
      "description_width": ""
     }
    },
    "6a46d733f040474db06b591e5861df20": {
     "model_module": "@jupyter-widgets/controls",
     "model_module_version": "1.5.0",
     "model_name": "FloatProgressModel",
     "state": {
      "_dom_classes": [],
      "_model_module": "@jupyter-widgets/controls",
      "_model_module_version": "1.5.0",
      "_model_name": "FloatProgressModel",
      "_view_count": null,
      "_view_module": "@jupyter-widgets/controls",
      "_view_module_version": "1.5.0",
      "_view_name": "ProgressView",
      "bar_style": "success",
      "description": "",
      "description_tooltip": null,
      "layout": "IPY_MODEL_0e5320f58d2943c2893d417c47c160ad",
      "max": 480,
      "min": 0,
      "orientation": "horizontal",
      "style": "IPY_MODEL_66cbd0a22fd141f5a32e5e00a2850308",
      "value": 480
     }
    },
    "6a5d3730add844fcb0c327a35f1eb478": {
     "model_module": "@jupyter-widgets/controls",
     "model_module_version": "1.5.0",
     "model_name": "FloatProgressModel",
     "state": {
      "_dom_classes": [],
      "_model_module": "@jupyter-widgets/controls",
      "_model_module_version": "1.5.0",
      "_model_name": "FloatProgressModel",
      "_view_count": null,
      "_view_module": "@jupyter-widgets/controls",
      "_view_module_version": "1.5.0",
      "_view_name": "ProgressView",
      "bar_style": "",
      "description": "",
      "description_tooltip": null,
      "layout": "IPY_MODEL_1fe5e3f456044f8498852e4ce96802c9",
      "max": 1,
      "min": 0,
      "orientation": "horizontal",
      "style": "IPY_MODEL_196fa283fd064789b7b68172e9b4a579",
      "value": 1
     }
    },
    "6aa805ba6e2d46c98172e4f8c7725114": {
     "model_module": "@jupyter-widgets/controls",
     "model_module_version": "1.5.0",
     "model_name": "VBoxModel",
     "state": {
      "_dom_classes": [],
      "_model_module": "@jupyter-widgets/controls",
      "_model_module_version": "1.5.0",
      "_model_name": "VBoxModel",
      "_view_count": null,
      "_view_module": "@jupyter-widgets/controls",
      "_view_module_version": "1.5.0",
      "_view_name": "VBoxView",
      "box_style": "",
      "children": [
       "IPY_MODEL_d6e0b3559be5474d8f0727a62a0adf61",
       "IPY_MODEL_06bbae24e48741b887a55c582e7016d3"
      ],
      "layout": "IPY_MODEL_a2b571675f70419b9963ea412a6231c2"
     }
    },
    "6ab592ebd6d74f10918016687ad1aead": {
     "model_module": "@jupyter-widgets/base",
     "model_module_version": "1.2.0",
     "model_name": "LayoutModel",
     "state": {
      "_model_module": "@jupyter-widgets/base",
      "_model_module_version": "1.2.0",
      "_model_name": "LayoutModel",
      "_view_count": null,
      "_view_module": "@jupyter-widgets/base",
      "_view_module_version": "1.2.0",
      "_view_name": "LayoutView",
      "align_content": null,
      "align_items": null,
      "align_self": null,
      "border": null,
      "bottom": null,
      "display": null,
      "flex": null,
      "flex_flow": null,
      "grid_area": null,
      "grid_auto_columns": null,
      "grid_auto_flow": null,
      "grid_auto_rows": null,
      "grid_column": null,
      "grid_gap": null,
      "grid_row": null,
      "grid_template_areas": null,
      "grid_template_columns": null,
      "grid_template_rows": null,
      "height": null,
      "justify_content": null,
      "justify_items": null,
      "left": null,
      "margin": null,
      "max_height": null,
      "max_width": null,
      "min_height": null,
      "min_width": null,
      "object_fit": null,
      "object_position": null,
      "order": null,
      "overflow": null,
      "overflow_x": null,
      "overflow_y": null,
      "padding": null,
      "right": null,
      "top": null,
      "visibility": null,
      "width": null
     }
    },
    "6c6b177c58e34deab710a094aaaa909d": {
     "model_module": "@jupyter-widgets/base",
     "model_module_version": "1.2.0",
     "model_name": "LayoutModel",
     "state": {
      "_model_module": "@jupyter-widgets/base",
      "_model_module_version": "1.2.0",
      "_model_name": "LayoutModel",
      "_view_count": null,
      "_view_module": "@jupyter-widgets/base",
      "_view_module_version": "1.2.0",
      "_view_name": "LayoutView",
      "align_content": null,
      "align_items": null,
      "align_self": null,
      "border": null,
      "bottom": null,
      "display": null,
      "flex": null,
      "flex_flow": null,
      "grid_area": null,
      "grid_auto_columns": null,
      "grid_auto_flow": null,
      "grid_auto_rows": null,
      "grid_column": null,
      "grid_gap": null,
      "grid_row": null,
      "grid_template_areas": null,
      "grid_template_columns": null,
      "grid_template_rows": null,
      "height": null,
      "justify_content": null,
      "justify_items": null,
      "left": null,
      "margin": null,
      "max_height": null,
      "max_width": null,
      "min_height": null,
      "min_width": null,
      "object_fit": null,
      "object_position": null,
      "order": null,
      "overflow": null,
      "overflow_x": null,
      "overflow_y": null,
      "padding": null,
      "right": null,
      "top": null,
      "visibility": null,
      "width": null
     }
    },
    "6c900a0c1f4840ca88af6c16ccf0cb29": {
     "model_module": "@jupyter-widgets/base",
     "model_module_version": "1.2.0",
     "model_name": "LayoutModel",
     "state": {
      "_model_module": "@jupyter-widgets/base",
      "_model_module_version": "1.2.0",
      "_model_name": "LayoutModel",
      "_view_count": null,
      "_view_module": "@jupyter-widgets/base",
      "_view_module_version": "1.2.0",
      "_view_name": "LayoutView",
      "align_content": null,
      "align_items": null,
      "align_self": null,
      "border": null,
      "bottom": null,
      "display": null,
      "flex": null,
      "flex_flow": null,
      "grid_area": null,
      "grid_auto_columns": null,
      "grid_auto_flow": null,
      "grid_auto_rows": null,
      "grid_column": null,
      "grid_gap": null,
      "grid_row": null,
      "grid_template_areas": null,
      "grid_template_columns": null,
      "grid_template_rows": null,
      "height": null,
      "justify_content": null,
      "justify_items": null,
      "left": null,
      "margin": null,
      "max_height": null,
      "max_width": null,
      "min_height": null,
      "min_width": null,
      "object_fit": null,
      "object_position": null,
      "order": null,
      "overflow": null,
      "overflow_x": null,
      "overflow_y": null,
      "padding": null,
      "right": null,
      "top": null,
      "visibility": null,
      "width": null
     }
    },
    "6ce30ed87aa34ca38bc6589dd59b3bce": {
     "model_module": "@jupyter-widgets/controls",
     "model_module_version": "1.5.0",
     "model_name": "LabelModel",
     "state": {
      "_dom_classes": [],
      "_model_module": "@jupyter-widgets/controls",
      "_model_module_version": "1.5.0",
      "_model_name": "LabelModel",
      "_view_count": null,
      "_view_module": "@jupyter-widgets/controls",
      "_view_module_version": "1.5.0",
      "_view_name": "LabelView",
      "description": "",
      "description_tooltip": null,
      "layout": "IPY_MODEL_9ae979f472a24a029152ee0228c5d25b",
      "placeholder": "​",
      "style": "IPY_MODEL_0670009127f74697a9567b31d3ed6cea",
      "value": "Waiting for wandb.init()...\r"
     }
    },
    "6d505040361642778a7cce377e04f6f9": {
     "model_module": "@jupyter-widgets/controls",
     "model_module_version": "1.5.0",
     "model_name": "ProgressStyleModel",
     "state": {
      "_model_module": "@jupyter-widgets/controls",
      "_model_module_version": "1.5.0",
      "_model_name": "ProgressStyleModel",
      "_view_count": null,
      "_view_module": "@jupyter-widgets/base",
      "_view_module_version": "1.2.0",
      "_view_name": "StyleView",
      "bar_color": null,
      "description_width": ""
     }
    },
    "6f2c853332be440e95db2697391f0709": {
     "model_module": "@jupyter-widgets/base",
     "model_module_version": "1.2.0",
     "model_name": "LayoutModel",
     "state": {
      "_model_module": "@jupyter-widgets/base",
      "_model_module_version": "1.2.0",
      "_model_name": "LayoutModel",
      "_view_count": null,
      "_view_module": "@jupyter-widgets/base",
      "_view_module_version": "1.2.0",
      "_view_name": "LayoutView",
      "align_content": null,
      "align_items": null,
      "align_self": null,
      "border": null,
      "bottom": null,
      "display": null,
      "flex": null,
      "flex_flow": null,
      "grid_area": null,
      "grid_auto_columns": null,
      "grid_auto_flow": null,
      "grid_auto_rows": null,
      "grid_column": null,
      "grid_gap": null,
      "grid_row": null,
      "grid_template_areas": null,
      "grid_template_columns": null,
      "grid_template_rows": null,
      "height": null,
      "justify_content": null,
      "justify_items": null,
      "left": null,
      "margin": null,
      "max_height": null,
      "max_width": null,
      "min_height": null,
      "min_width": null,
      "object_fit": null,
      "object_position": null,
      "order": null,
      "overflow": null,
      "overflow_x": null,
      "overflow_y": null,
      "padding": null,
      "right": null,
      "top": null,
      "visibility": null,
      "width": null
     }
    },
    "6f3897d1fdc44e31a6e3ddf35a2f0d64": {
     "model_module": "@jupyter-widgets/base",
     "model_module_version": "1.2.0",
     "model_name": "LayoutModel",
     "state": {
      "_model_module": "@jupyter-widgets/base",
      "_model_module_version": "1.2.0",
      "_model_name": "LayoutModel",
      "_view_count": null,
      "_view_module": "@jupyter-widgets/base",
      "_view_module_version": "1.2.0",
      "_view_name": "LayoutView",
      "align_content": null,
      "align_items": null,
      "align_self": null,
      "border": null,
      "bottom": null,
      "display": null,
      "flex": null,
      "flex_flow": null,
      "grid_area": null,
      "grid_auto_columns": null,
      "grid_auto_flow": null,
      "grid_auto_rows": null,
      "grid_column": null,
      "grid_gap": null,
      "grid_row": null,
      "grid_template_areas": null,
      "grid_template_columns": null,
      "grid_template_rows": null,
      "height": null,
      "justify_content": null,
      "justify_items": null,
      "left": null,
      "margin": null,
      "max_height": null,
      "max_width": null,
      "min_height": null,
      "min_width": null,
      "object_fit": null,
      "object_position": null,
      "order": null,
      "overflow": null,
      "overflow_x": null,
      "overflow_y": null,
      "padding": null,
      "right": null,
      "top": null,
      "visibility": null,
      "width": null
     }
    },
    "6f82af2af49f4ef0b369cd2f553e1ce0": {
     "model_module": "@jupyter-widgets/controls",
     "model_module_version": "1.5.0",
     "model_name": "FloatProgressModel",
     "state": {
      "_dom_classes": [],
      "_model_module": "@jupyter-widgets/controls",
      "_model_module_version": "1.5.0",
      "_model_name": "FloatProgressModel",
      "_view_count": null,
      "_view_module": "@jupyter-widgets/controls",
      "_view_module_version": "1.5.0",
      "_view_name": "ProgressView",
      "bar_style": "success",
      "description": "",
      "description_tooltip": null,
      "layout": "IPY_MODEL_ea772edeee04462e8b2ead67c06539ea",
      "max": 498818054,
      "min": 0,
      "orientation": "horizontal",
      "style": "IPY_MODEL_fec7ee4035d441a6990ee44d0e4b337a",
      "value": 498818054
     }
    },
    "6ff6bef0c6144c67a46d66259304b195": {
     "model_module": "@jupyter-widgets/base",
     "model_module_version": "1.2.0",
     "model_name": "LayoutModel",
     "state": {
      "_model_module": "@jupyter-widgets/base",
      "_model_module_version": "1.2.0",
      "_model_name": "LayoutModel",
      "_view_count": null,
      "_view_module": "@jupyter-widgets/base",
      "_view_module_version": "1.2.0",
      "_view_name": "LayoutView",
      "align_content": null,
      "align_items": null,
      "align_self": null,
      "border": null,
      "bottom": null,
      "display": null,
      "flex": null,
      "flex_flow": null,
      "grid_area": null,
      "grid_auto_columns": null,
      "grid_auto_flow": null,
      "grid_auto_rows": null,
      "grid_column": null,
      "grid_gap": null,
      "grid_row": null,
      "grid_template_areas": null,
      "grid_template_columns": null,
      "grid_template_rows": null,
      "height": null,
      "justify_content": null,
      "justify_items": null,
      "left": null,
      "margin": null,
      "max_height": null,
      "max_width": null,
      "min_height": null,
      "min_width": null,
      "object_fit": null,
      "object_position": null,
      "order": null,
      "overflow": null,
      "overflow_x": null,
      "overflow_y": null,
      "padding": null,
      "right": null,
      "top": null,
      "visibility": null,
      "width": null
     }
    },
    "6ffef70f62204f1d998ca829b7296db0": {
     "model_module": "@jupyter-widgets/base",
     "model_module_version": "1.2.0",
     "model_name": "LayoutModel",
     "state": {
      "_model_module": "@jupyter-widgets/base",
      "_model_module_version": "1.2.0",
      "_model_name": "LayoutModel",
      "_view_count": null,
      "_view_module": "@jupyter-widgets/base",
      "_view_module_version": "1.2.0",
      "_view_name": "LayoutView",
      "align_content": null,
      "align_items": null,
      "align_self": null,
      "border": null,
      "bottom": null,
      "display": null,
      "flex": null,
      "flex_flow": null,
      "grid_area": null,
      "grid_auto_columns": null,
      "grid_auto_flow": null,
      "grid_auto_rows": null,
      "grid_column": null,
      "grid_gap": null,
      "grid_row": null,
      "grid_template_areas": null,
      "grid_template_columns": null,
      "grid_template_rows": null,
      "height": null,
      "justify_content": null,
      "justify_items": null,
      "left": null,
      "margin": null,
      "max_height": null,
      "max_width": null,
      "min_height": null,
      "min_width": null,
      "object_fit": null,
      "object_position": null,
      "order": null,
      "overflow": null,
      "overflow_x": null,
      "overflow_y": null,
      "padding": null,
      "right": null,
      "top": null,
      "visibility": null,
      "width": null
     }
    },
    "703afedd2d8249e09d1994e7f7f09ff4": {
     "model_module": "@jupyter-widgets/controls",
     "model_module_version": "1.5.0",
     "model_name": "HTMLModel",
     "state": {
      "_dom_classes": [],
      "_model_module": "@jupyter-widgets/controls",
      "_model_module_version": "1.5.0",
      "_model_name": "HTMLModel",
      "_view_count": null,
      "_view_module": "@jupyter-widgets/controls",
      "_view_module_version": "1.5.0",
      "_view_name": "HTMLView",
      "description": "",
      "description_tooltip": null,
      "layout": "IPY_MODEL_82629e96a32140a0ab10ab9866e037fb",
      "placeholder": "​",
      "style": "IPY_MODEL_446d924ecb694a7d989a66580ec873e5",
      "value": " 499M/499M [00:02&lt;00:00, 278MB/s]"
     }
    },
    "708c7acb217c406fb4d65db6a0e1ded5": {
     "model_module": "@jupyter-widgets/controls",
     "model_module_version": "1.5.0",
     "model_name": "ProgressStyleModel",
     "state": {
      "_model_module": "@jupyter-widgets/controls",
      "_model_module_version": "1.5.0",
      "_model_name": "ProgressStyleModel",
      "_view_count": null,
      "_view_module": "@jupyter-widgets/base",
      "_view_module_version": "1.2.0",
      "_view_name": "StyleView",
      "bar_color": null,
      "description_width": ""
     }
    },
    "71033ab1baca4082a727896bcb02ebf9": {
     "model_module": "@jupyter-widgets/controls",
     "model_module_version": "1.5.0",
     "model_name": "HTMLModel",
     "state": {
      "_dom_classes": [],
      "_model_module": "@jupyter-widgets/controls",
      "_model_module_version": "1.5.0",
      "_model_name": "HTMLModel",
      "_view_count": null,
      "_view_module": "@jupyter-widgets/controls",
      "_view_module_version": "1.5.0",
      "_view_name": "HTMLView",
      "description": "",
      "description_tooltip": null,
      "layout": "IPY_MODEL_8035cc4a31b643c3a10f66255db0c975",
      "placeholder": "​",
      "style": "IPY_MODEL_d0985bac60d0437a878e857242d488c5",
      "value": "config.json: 100%"
     }
    },
    "73c737558b1941fa8da501287eba5083": {
     "model_module": "@jupyter-widgets/controls",
     "model_module_version": "1.5.0",
     "model_name": "DescriptionStyleModel",
     "state": {
      "_model_module": "@jupyter-widgets/controls",
      "_model_module_version": "1.5.0",
      "_model_name": "DescriptionStyleModel",
      "_view_count": null,
      "_view_module": "@jupyter-widgets/base",
      "_view_module_version": "1.2.0",
      "_view_name": "StyleView",
      "description_width": ""
     }
    },
    "73e0bdf1a0814705bd807223c49f064d": {
     "model_module": "@jupyter-widgets/controls",
     "model_module_version": "1.5.0",
     "model_name": "FloatProgressModel",
     "state": {
      "_dom_classes": [],
      "_model_module": "@jupyter-widgets/controls",
      "_model_module_version": "1.5.0",
      "_model_name": "FloatProgressModel",
      "_view_count": null,
      "_view_module": "@jupyter-widgets/controls",
      "_view_module_version": "1.5.0",
      "_view_name": "ProgressView",
      "bar_style": "success",
      "description": "",
      "description_tooltip": null,
      "layout": "IPY_MODEL_d8adb442a51e48e69097541c26b0b686",
      "max": 1355863,
      "min": 0,
      "orientation": "horizontal",
      "style": "IPY_MODEL_aeac7b481e914028b7242f3894bf7cdd",
      "value": 1355863
     }
    },
    "7438b125e7c5457aaf340e53f97e22f9": {
     "model_module": "@jupyter-widgets/base",
     "model_module_version": "1.2.0",
     "model_name": "LayoutModel",
     "state": {
      "_model_module": "@jupyter-widgets/base",
      "_model_module_version": "1.2.0",
      "_model_name": "LayoutModel",
      "_view_count": null,
      "_view_module": "@jupyter-widgets/base",
      "_view_module_version": "1.2.0",
      "_view_name": "LayoutView",
      "align_content": null,
      "align_items": null,
      "align_self": null,
      "border": null,
      "bottom": null,
      "display": null,
      "flex": null,
      "flex_flow": null,
      "grid_area": null,
      "grid_auto_columns": null,
      "grid_auto_flow": null,
      "grid_auto_rows": null,
      "grid_column": null,
      "grid_gap": null,
      "grid_row": null,
      "grid_template_areas": null,
      "grid_template_columns": null,
      "grid_template_rows": null,
      "height": null,
      "justify_content": null,
      "justify_items": null,
      "left": null,
      "margin": null,
      "max_height": null,
      "max_width": null,
      "min_height": null,
      "min_width": null,
      "object_fit": null,
      "object_position": null,
      "order": null,
      "overflow": null,
      "overflow_x": null,
      "overflow_y": null,
      "padding": null,
      "right": null,
      "top": null,
      "visibility": null,
      "width": null
     }
    },
    "772c1bdd7d6e4133917c9fdab56d27a3": {
     "model_module": "@jupyter-widgets/controls",
     "model_module_version": "1.5.0",
     "model_name": "HBoxModel",
     "state": {
      "_dom_classes": [],
      "_model_module": "@jupyter-widgets/controls",
      "_model_module_version": "1.5.0",
      "_model_name": "HBoxModel",
      "_view_count": null,
      "_view_module": "@jupyter-widgets/controls",
      "_view_module_version": "1.5.0",
      "_view_name": "HBoxView",
      "box_style": "",
      "children": [
       "IPY_MODEL_2f87d21efb934257892198a158056cff",
       "IPY_MODEL_6f82af2af49f4ef0b369cd2f553e1ce0",
       "IPY_MODEL_2015f23ffe084a09abfa6dfbd3814706"
      ],
      "layout": "IPY_MODEL_e25a0ed32fd64e8a9d1fea29e51e3abc"
     }
    },
    "77b6210843eb43c5939679d63e63c061": {
     "model_module": "@jupyter-widgets/controls",
     "model_module_version": "1.5.0",
     "model_name": "ProgressStyleModel",
     "state": {
      "_model_module": "@jupyter-widgets/controls",
      "_model_module_version": "1.5.0",
      "_model_name": "ProgressStyleModel",
      "_view_count": null,
      "_view_module": "@jupyter-widgets/base",
      "_view_module_version": "1.2.0",
      "_view_name": "StyleView",
      "bar_color": null,
      "description_width": ""
     }
    },
    "783f7ce82ace49d5ab4890e7bde1e37d": {
     "model_module": "@jupyter-widgets/controls",
     "model_module_version": "1.5.0",
     "model_name": "FloatProgressModel",
     "state": {
      "_dom_classes": [],
      "_model_module": "@jupyter-widgets/controls",
      "_model_module_version": "1.5.0",
      "_model_name": "FloatProgressModel",
      "_view_count": null,
      "_view_module": "@jupyter-widgets/controls",
      "_view_module_version": "1.5.0",
      "_view_name": "ProgressView",
      "bar_style": "",
      "description": "",
      "description_tooltip": null,
      "layout": "IPY_MODEL_fc67445a27be40aea321975289fd6195",
      "max": 1,
      "min": 0,
      "orientation": "horizontal",
      "style": "IPY_MODEL_440775984e554c0c8ebe2afde834aac4",
      "value": 1
     }
    },
    "7a4c66f7b3b042678230a5e805beb3c5": {
     "model_module": "@jupyter-widgets/controls",
     "model_module_version": "1.5.0",
     "model_name": "HTMLModel",
     "state": {
      "_dom_classes": [],
      "_model_module": "@jupyter-widgets/controls",
      "_model_module_version": "1.5.0",
      "_model_name": "HTMLModel",
      "_view_count": null,
      "_view_module": "@jupyter-widgets/controls",
      "_view_module_version": "1.5.0",
      "_view_name": "HTMLView",
      "description": "",
      "description_tooltip": null,
      "layout": "IPY_MODEL_da83ff42c5a04716a2b21a08c2814ce3",
      "placeholder": "​",
      "style": "IPY_MODEL_73c737558b1941fa8da501287eba5083",
      "value": "tokenizer.json: 100%"
     }
    },
    "7baf50cf3faa4160b8de5f110d1ed2f7": {
     "model_module": "@jupyter-widgets/controls",
     "model_module_version": "1.5.0",
     "model_name": "HTMLModel",
     "state": {
      "_dom_classes": [],
      "_model_module": "@jupyter-widgets/controls",
      "_model_module_version": "1.5.0",
      "_model_name": "HTMLModel",
      "_view_count": null,
      "_view_module": "@jupyter-widgets/controls",
      "_view_module_version": "1.5.0",
      "_view_name": "HTMLView",
      "description": "",
      "description_tooltip": null,
      "layout": "IPY_MODEL_f96808fc44a44a00b9188f151967c20f",
      "placeholder": "​",
      "style": "IPY_MODEL_02ce0f51c38c4a648ebeccac42529d13",
      "value": "merges.txt: 100%"
     }
    },
    "7cd47e5a5ea44d83a4b21e869592bc66": {
     "model_module": "@jupyter-widgets/controls",
     "model_module_version": "1.5.0",
     "model_name": "FloatProgressModel",
     "state": {
      "_dom_classes": [],
      "_model_module": "@jupyter-widgets/controls",
      "_model_module_version": "1.5.0",
      "_model_name": "FloatProgressModel",
      "_view_count": null,
      "_view_module": "@jupyter-widgets/controls",
      "_view_module_version": "1.5.0",
      "_view_name": "ProgressView",
      "bar_style": "",
      "description": "",
      "description_tooltip": null,
      "layout": "IPY_MODEL_f7131299a1134e84807dc13474db55dc",
      "max": 1,
      "min": 0,
      "orientation": "horizontal",
      "style": "IPY_MODEL_29841e9e46034d7e83635068d70f9abd",
      "value": 1
     }
    },
    "7d4725e58c284b1287ed9fe4c0d6ea7a": {
     "model_module": "@jupyter-widgets/controls",
     "model_module_version": "1.5.0",
     "model_name": "DescriptionStyleModel",
     "state": {
      "_model_module": "@jupyter-widgets/controls",
      "_model_module_version": "1.5.0",
      "_model_name": "DescriptionStyleModel",
      "_view_count": null,
      "_view_module": "@jupyter-widgets/base",
      "_view_module_version": "1.2.0",
      "_view_name": "StyleView",
      "description_width": ""
     }
    },
    "7d53766f303f425f96dd91ffc5017ddf": {
     "model_module": "@jupyter-widgets/base",
     "model_module_version": "1.2.0",
     "model_name": "LayoutModel",
     "state": {
      "_model_module": "@jupyter-widgets/base",
      "_model_module_version": "1.2.0",
      "_model_name": "LayoutModel",
      "_view_count": null,
      "_view_module": "@jupyter-widgets/base",
      "_view_module_version": "1.2.0",
      "_view_name": "LayoutView",
      "align_content": null,
      "align_items": null,
      "align_self": null,
      "border": null,
      "bottom": null,
      "display": null,
      "flex": null,
      "flex_flow": null,
      "grid_area": null,
      "grid_auto_columns": null,
      "grid_auto_flow": null,
      "grid_auto_rows": null,
      "grid_column": null,
      "grid_gap": null,
      "grid_row": null,
      "grid_template_areas": null,
      "grid_template_columns": null,
      "grid_template_rows": null,
      "height": null,
      "justify_content": null,
      "justify_items": null,
      "left": null,
      "margin": null,
      "max_height": null,
      "max_width": null,
      "min_height": null,
      "min_width": null,
      "object_fit": null,
      "object_position": null,
      "order": null,
      "overflow": null,
      "overflow_x": null,
      "overflow_y": null,
      "padding": null,
      "right": null,
      "top": null,
      "visibility": null,
      "width": null
     }
    },
    "7dafb0bf56fc420a9e549227ed568296": {
     "model_module": "@jupyter-widgets/base",
     "model_module_version": "1.2.0",
     "model_name": "LayoutModel",
     "state": {
      "_model_module": "@jupyter-widgets/base",
      "_model_module_version": "1.2.0",
      "_model_name": "LayoutModel",
      "_view_count": null,
      "_view_module": "@jupyter-widgets/base",
      "_view_module_version": "1.2.0",
      "_view_name": "LayoutView",
      "align_content": null,
      "align_items": null,
      "align_self": null,
      "border": null,
      "bottom": null,
      "display": null,
      "flex": null,
      "flex_flow": null,
      "grid_area": null,
      "grid_auto_columns": null,
      "grid_auto_flow": null,
      "grid_auto_rows": null,
      "grid_column": null,
      "grid_gap": null,
      "grid_row": null,
      "grid_template_areas": null,
      "grid_template_columns": null,
      "grid_template_rows": null,
      "height": null,
      "justify_content": null,
      "justify_items": null,
      "left": null,
      "margin": null,
      "max_height": null,
      "max_width": null,
      "min_height": null,
      "min_width": null,
      "object_fit": null,
      "object_position": null,
      "order": null,
      "overflow": null,
      "overflow_x": null,
      "overflow_y": null,
      "padding": null,
      "right": null,
      "top": null,
      "visibility": null,
      "width": null
     }
    },
    "8035cc4a31b643c3a10f66255db0c975": {
     "model_module": "@jupyter-widgets/base",
     "model_module_version": "1.2.0",
     "model_name": "LayoutModel",
     "state": {
      "_model_module": "@jupyter-widgets/base",
      "_model_module_version": "1.2.0",
      "_model_name": "LayoutModel",
      "_view_count": null,
      "_view_module": "@jupyter-widgets/base",
      "_view_module_version": "1.2.0",
      "_view_name": "LayoutView",
      "align_content": null,
      "align_items": null,
      "align_self": null,
      "border": null,
      "bottom": null,
      "display": null,
      "flex": null,
      "flex_flow": null,
      "grid_area": null,
      "grid_auto_columns": null,
      "grid_auto_flow": null,
      "grid_auto_rows": null,
      "grid_column": null,
      "grid_gap": null,
      "grid_row": null,
      "grid_template_areas": null,
      "grid_template_columns": null,
      "grid_template_rows": null,
      "height": null,
      "justify_content": null,
      "justify_items": null,
      "left": null,
      "margin": null,
      "max_height": null,
      "max_width": null,
      "min_height": null,
      "min_width": null,
      "object_fit": null,
      "object_position": null,
      "order": null,
      "overflow": null,
      "overflow_x": null,
      "overflow_y": null,
      "padding": null,
      "right": null,
      "top": null,
      "visibility": null,
      "width": null
     }
    },
    "81a2addd732f41f6adf1fd62d62d1d34": {
     "model_module": "@jupyter-widgets/base",
     "model_module_version": "1.2.0",
     "model_name": "LayoutModel",
     "state": {
      "_model_module": "@jupyter-widgets/base",
      "_model_module_version": "1.2.0",
      "_model_name": "LayoutModel",
      "_view_count": null,
      "_view_module": "@jupyter-widgets/base",
      "_view_module_version": "1.2.0",
      "_view_name": "LayoutView",
      "align_content": null,
      "align_items": null,
      "align_self": null,
      "border": null,
      "bottom": null,
      "display": null,
      "flex": null,
      "flex_flow": null,
      "grid_area": null,
      "grid_auto_columns": null,
      "grid_auto_flow": null,
      "grid_auto_rows": null,
      "grid_column": null,
      "grid_gap": null,
      "grid_row": null,
      "grid_template_areas": null,
      "grid_template_columns": null,
      "grid_template_rows": null,
      "height": null,
      "justify_content": null,
      "justify_items": null,
      "left": null,
      "margin": null,
      "max_height": null,
      "max_width": null,
      "min_height": null,
      "min_width": null,
      "object_fit": null,
      "object_position": null,
      "order": null,
      "overflow": null,
      "overflow_x": null,
      "overflow_y": null,
      "padding": null,
      "right": null,
      "top": null,
      "visibility": null,
      "width": null
     }
    },
    "8205cb8f8d3f4773a71be25799838514": {
     "model_module": "@jupyter-widgets/base",
     "model_module_version": "1.2.0",
     "model_name": "LayoutModel",
     "state": {
      "_model_module": "@jupyter-widgets/base",
      "_model_module_version": "1.2.0",
      "_model_name": "LayoutModel",
      "_view_count": null,
      "_view_module": "@jupyter-widgets/base",
      "_view_module_version": "1.2.0",
      "_view_name": "LayoutView",
      "align_content": null,
      "align_items": null,
      "align_self": null,
      "border": null,
      "bottom": null,
      "display": null,
      "flex": null,
      "flex_flow": null,
      "grid_area": null,
      "grid_auto_columns": null,
      "grid_auto_flow": null,
      "grid_auto_rows": null,
      "grid_column": null,
      "grid_gap": null,
      "grid_row": null,
      "grid_template_areas": null,
      "grid_template_columns": null,
      "grid_template_rows": null,
      "height": null,
      "justify_content": null,
      "justify_items": null,
      "left": null,
      "margin": null,
      "max_height": null,
      "max_width": null,
      "min_height": null,
      "min_width": null,
      "object_fit": null,
      "object_position": null,
      "order": null,
      "overflow": null,
      "overflow_x": null,
      "overflow_y": null,
      "padding": null,
      "right": null,
      "top": null,
      "visibility": null,
      "width": null
     }
    },
    "8215a4b3d2cf4e2bbdab89826e8170ea": {
     "model_module": "@jupyter-widgets/controls",
     "model_module_version": "1.5.0",
     "model_name": "DescriptionStyleModel",
     "state": {
      "_model_module": "@jupyter-widgets/controls",
      "_model_module_version": "1.5.0",
      "_model_name": "DescriptionStyleModel",
      "_view_count": null,
      "_view_module": "@jupyter-widgets/base",
      "_view_module_version": "1.2.0",
      "_view_name": "StyleView",
      "description_width": ""
     }
    },
    "82629e96a32140a0ab10ab9866e037fb": {
     "model_module": "@jupyter-widgets/base",
     "model_module_version": "1.2.0",
     "model_name": "LayoutModel",
     "state": {
      "_model_module": "@jupyter-widgets/base",
      "_model_module_version": "1.2.0",
      "_model_name": "LayoutModel",
      "_view_count": null,
      "_view_module": "@jupyter-widgets/base",
      "_view_module_version": "1.2.0",
      "_view_name": "LayoutView",
      "align_content": null,
      "align_items": null,
      "align_self": null,
      "border": null,
      "bottom": null,
      "display": null,
      "flex": null,
      "flex_flow": null,
      "grid_area": null,
      "grid_auto_columns": null,
      "grid_auto_flow": null,
      "grid_auto_rows": null,
      "grid_column": null,
      "grid_gap": null,
      "grid_row": null,
      "grid_template_areas": null,
      "grid_template_columns": null,
      "grid_template_rows": null,
      "height": null,
      "justify_content": null,
      "justify_items": null,
      "left": null,
      "margin": null,
      "max_height": null,
      "max_width": null,
      "min_height": null,
      "min_width": null,
      "object_fit": null,
      "object_position": null,
      "order": null,
      "overflow": null,
      "overflow_x": null,
      "overflow_y": null,
      "padding": null,
      "right": null,
      "top": null,
      "visibility": null,
      "width": null
     }
    },
    "8295f753e0ec4940b69240e051a80f7e": {
     "model_module": "@jupyter-widgets/base",
     "model_module_version": "1.2.0",
     "model_name": "LayoutModel",
     "state": {
      "_model_module": "@jupyter-widgets/base",
      "_model_module_version": "1.2.0",
      "_model_name": "LayoutModel",
      "_view_count": null,
      "_view_module": "@jupyter-widgets/base",
      "_view_module_version": "1.2.0",
      "_view_name": "LayoutView",
      "align_content": null,
      "align_items": null,
      "align_self": null,
      "border": null,
      "bottom": null,
      "display": null,
      "flex": null,
      "flex_flow": null,
      "grid_area": null,
      "grid_auto_columns": null,
      "grid_auto_flow": null,
      "grid_auto_rows": null,
      "grid_column": null,
      "grid_gap": null,
      "grid_row": null,
      "grid_template_areas": null,
      "grid_template_columns": null,
      "grid_template_rows": null,
      "height": null,
      "justify_content": null,
      "justify_items": null,
      "left": null,
      "margin": null,
      "max_height": null,
      "max_width": null,
      "min_height": null,
      "min_width": null,
      "object_fit": null,
      "object_position": null,
      "order": null,
      "overflow": null,
      "overflow_x": null,
      "overflow_y": null,
      "padding": null,
      "right": null,
      "top": null,
      "visibility": null,
      "width": null
     }
    },
    "8476ae468ea348cfaa593f78460e988d": {
     "model_module": "@jupyter-widgets/controls",
     "model_module_version": "1.5.0",
     "model_name": "HBoxModel",
     "state": {
      "_dom_classes": [],
      "_model_module": "@jupyter-widgets/controls",
      "_model_module_version": "1.5.0",
      "_model_name": "HBoxModel",
      "_view_count": null,
      "_view_module": "@jupyter-widgets/controls",
      "_view_module_version": "1.5.0",
      "_view_name": "HBoxView",
      "box_style": "",
      "children": [
       "IPY_MODEL_641f3becbd35455b811c3e2a7b6420c9",
       "IPY_MODEL_560345df66f64bdabfd55f9c598eba15",
       "IPY_MODEL_9edb4f34928244debc744525b3b9c53c"
      ],
      "layout": "IPY_MODEL_e5d0618961cd48b5a0780dcf3fa9ab9c"
     }
    },
    "860d1976358f4bc0815a965da3b31370": {
     "model_module": "@jupyter-widgets/base",
     "model_module_version": "1.2.0",
     "model_name": "LayoutModel",
     "state": {
      "_model_module": "@jupyter-widgets/base",
      "_model_module_version": "1.2.0",
      "_model_name": "LayoutModel",
      "_view_count": null,
      "_view_module": "@jupyter-widgets/base",
      "_view_module_version": "1.2.0",
      "_view_name": "LayoutView",
      "align_content": null,
      "align_items": null,
      "align_self": null,
      "border": null,
      "bottom": null,
      "display": null,
      "flex": null,
      "flex_flow": null,
      "grid_area": null,
      "grid_auto_columns": null,
      "grid_auto_flow": null,
      "grid_auto_rows": null,
      "grid_column": null,
      "grid_gap": null,
      "grid_row": null,
      "grid_template_areas": null,
      "grid_template_columns": null,
      "grid_template_rows": null,
      "height": null,
      "justify_content": null,
      "justify_items": null,
      "left": null,
      "margin": null,
      "max_height": null,
      "max_width": null,
      "min_height": null,
      "min_width": null,
      "object_fit": null,
      "object_position": null,
      "order": null,
      "overflow": null,
      "overflow_x": null,
      "overflow_y": null,
      "padding": null,
      "right": null,
      "top": null,
      "visibility": null,
      "width": null
     }
    },
    "885aedd574c14a009201d9a7a44f9888": {
     "model_module": "@jupyter-widgets/base",
     "model_module_version": "1.2.0",
     "model_name": "LayoutModel",
     "state": {
      "_model_module": "@jupyter-widgets/base",
      "_model_module_version": "1.2.0",
      "_model_name": "LayoutModel",
      "_view_count": null,
      "_view_module": "@jupyter-widgets/base",
      "_view_module_version": "1.2.0",
      "_view_name": "LayoutView",
      "align_content": null,
      "align_items": null,
      "align_self": null,
      "border": null,
      "bottom": null,
      "display": null,
      "flex": null,
      "flex_flow": null,
      "grid_area": null,
      "grid_auto_columns": null,
      "grid_auto_flow": null,
      "grid_auto_rows": null,
      "grid_column": null,
      "grid_gap": null,
      "grid_row": null,
      "grid_template_areas": null,
      "grid_template_columns": null,
      "grid_template_rows": null,
      "height": null,
      "justify_content": null,
      "justify_items": null,
      "left": null,
      "margin": null,
      "max_height": null,
      "max_width": null,
      "min_height": null,
      "min_width": null,
      "object_fit": null,
      "object_position": null,
      "order": null,
      "overflow": null,
      "overflow_x": null,
      "overflow_y": null,
      "padding": null,
      "right": null,
      "top": null,
      "visibility": null,
      "width": null
     }
    },
    "895c3429dfac4a25921831ae78030c3c": {
     "model_module": "@jupyter-widgets/controls",
     "model_module_version": "1.5.0",
     "model_name": "DescriptionStyleModel",
     "state": {
      "_model_module": "@jupyter-widgets/controls",
      "_model_module_version": "1.5.0",
      "_model_name": "DescriptionStyleModel",
      "_view_count": null,
      "_view_module": "@jupyter-widgets/base",
      "_view_module_version": "1.2.0",
      "_view_name": "StyleView",
      "description_width": ""
     }
    },
    "8aa509c0809c413bb37e6b7345cb82dc": {
     "model_module": "@jupyter-widgets/base",
     "model_module_version": "1.2.0",
     "model_name": "LayoutModel",
     "state": {
      "_model_module": "@jupyter-widgets/base",
      "_model_module_version": "1.2.0",
      "_model_name": "LayoutModel",
      "_view_count": null,
      "_view_module": "@jupyter-widgets/base",
      "_view_module_version": "1.2.0",
      "_view_name": "LayoutView",
      "align_content": null,
      "align_items": null,
      "align_self": null,
      "border": null,
      "bottom": null,
      "display": null,
      "flex": null,
      "flex_flow": null,
      "grid_area": null,
      "grid_auto_columns": null,
      "grid_auto_flow": null,
      "grid_auto_rows": null,
      "grid_column": null,
      "grid_gap": null,
      "grid_row": null,
      "grid_template_areas": null,
      "grid_template_columns": null,
      "grid_template_rows": null,
      "height": null,
      "justify_content": null,
      "justify_items": null,
      "left": null,
      "margin": null,
      "max_height": null,
      "max_width": null,
      "min_height": null,
      "min_width": null,
      "object_fit": null,
      "object_position": null,
      "order": null,
      "overflow": null,
      "overflow_x": null,
      "overflow_y": null,
      "padding": null,
      "right": null,
      "top": null,
      "visibility": null,
      "width": null
     }
    },
    "8b9b634add42413589b8613fe6e18b78": {
     "model_module": "@jupyter-widgets/controls",
     "model_module_version": "1.5.0",
     "model_name": "FloatProgressModel",
     "state": {
      "_dom_classes": [],
      "_model_module": "@jupyter-widgets/controls",
      "_model_module_version": "1.5.0",
      "_model_name": "FloatProgressModel",
      "_view_count": null,
      "_view_module": "@jupyter-widgets/controls",
      "_view_module_version": "1.5.0",
      "_view_name": "ProgressView",
      "bar_style": "",
      "description": "",
      "description_tooltip": null,
      "layout": "IPY_MODEL_fc22db951926427592ac0cc9beb46919",
      "max": 1,
      "min": 0,
      "orientation": "horizontal",
      "style": "IPY_MODEL_2375fff5cf5d4575bbc00142542b1969",
      "value": 1
     }
    },
    "8ce5000e8b2a4297a1327710fa525349": {
     "model_module": "@jupyter-widgets/controls",
     "model_module_version": "1.5.0",
     "model_name": "ProgressStyleModel",
     "state": {
      "_model_module": "@jupyter-widgets/controls",
      "_model_module_version": "1.5.0",
      "_model_name": "ProgressStyleModel",
      "_view_count": null,
      "_view_module": "@jupyter-widgets/base",
      "_view_module_version": "1.2.0",
      "_view_name": "StyleView",
      "bar_color": null,
      "description_width": ""
     }
    },
    "8efd69d3821d4499b9fb5af8cfe9505e": {
     "model_module": "@jupyter-widgets/controls",
     "model_module_version": "1.5.0",
     "model_name": "LabelModel",
     "state": {
      "_dom_classes": [],
      "_model_module": "@jupyter-widgets/controls",
      "_model_module_version": "1.5.0",
      "_model_name": "LabelModel",
      "_view_count": null,
      "_view_module": "@jupyter-widgets/controls",
      "_view_module_version": "1.5.0",
      "_view_name": "LabelView",
      "description": "",
      "description_tooltip": null,
      "layout": "IPY_MODEL_cfee40090c1c4172a9528fc3e88f6393",
      "placeholder": "​",
      "style": "IPY_MODEL_ce8250fda3394383aedaf9ae7855d9ab",
      "value": "Waiting for wandb.init()...\r"
     }
    },
    "8f3aa224908b457eb934e60361ad8998": {
     "model_module": "@jupyter-widgets/base",
     "model_module_version": "1.2.0",
     "model_name": "LayoutModel",
     "state": {
      "_model_module": "@jupyter-widgets/base",
      "_model_module_version": "1.2.0",
      "_model_name": "LayoutModel",
      "_view_count": null,
      "_view_module": "@jupyter-widgets/base",
      "_view_module_version": "1.2.0",
      "_view_name": "LayoutView",
      "align_content": null,
      "align_items": null,
      "align_self": null,
      "border": null,
      "bottom": null,
      "display": null,
      "flex": null,
      "flex_flow": null,
      "grid_area": null,
      "grid_auto_columns": null,
      "grid_auto_flow": null,
      "grid_auto_rows": null,
      "grid_column": null,
      "grid_gap": null,
      "grid_row": null,
      "grid_template_areas": null,
      "grid_template_columns": null,
      "grid_template_rows": null,
      "height": null,
      "justify_content": null,
      "justify_items": null,
      "left": null,
      "margin": null,
      "max_height": null,
      "max_width": null,
      "min_height": null,
      "min_width": null,
      "object_fit": null,
      "object_position": null,
      "order": null,
      "overflow": null,
      "overflow_x": null,
      "overflow_y": null,
      "padding": null,
      "right": null,
      "top": null,
      "visibility": null,
      "width": null
     }
    },
    "913cee813592402dab565af3078236f6": {
     "model_module": "@jupyter-widgets/controls",
     "model_module_version": "1.5.0",
     "model_name": "VBoxModel",
     "state": {
      "_dom_classes": [],
      "_model_module": "@jupyter-widgets/controls",
      "_model_module_version": "1.5.0",
      "_model_name": "VBoxModel",
      "_view_count": null,
      "_view_module": "@jupyter-widgets/controls",
      "_view_module_version": "1.5.0",
      "_view_name": "VBoxView",
      "box_style": "",
      "children": [
       "IPY_MODEL_c5d4118d634944b58c2ca4a1ec49aebd",
       "IPY_MODEL_783f7ce82ace49d5ab4890e7bde1e37d"
      ],
      "layout": "IPY_MODEL_23789341eec843219bf482bad9656976"
     }
    },
    "926486ae42594ffa9e2b88e1d9069390": {
     "model_module": "@jupyter-widgets/controls",
     "model_module_version": "1.5.0",
     "model_name": "FloatProgressModel",
     "state": {
      "_dom_classes": [],
      "_model_module": "@jupyter-widgets/controls",
      "_model_module_version": "1.5.0",
      "_model_name": "FloatProgressModel",
      "_view_count": null,
      "_view_module": "@jupyter-widgets/controls",
      "_view_module_version": "1.5.0",
      "_view_name": "ProgressView",
      "bar_style": "success",
      "description": "",
      "description_tooltip": null,
      "layout": "IPY_MODEL_b1e1dbf39d114e32b0a3df95ab72ebe8",
      "max": 331055963,
      "min": 0,
      "orientation": "horizontal",
      "style": "IPY_MODEL_708c7acb217c406fb4d65db6a0e1ded5",
      "value": 331055963
     }
    },
    "938f299db4144929bd552ef9541aa191": {
     "model_module": "@jupyter-widgets/base",
     "model_module_version": "1.2.0",
     "model_name": "LayoutModel",
     "state": {
      "_model_module": "@jupyter-widgets/base",
      "_model_module_version": "1.2.0",
      "_model_name": "LayoutModel",
      "_view_count": null,
      "_view_module": "@jupyter-widgets/base",
      "_view_module_version": "1.2.0",
      "_view_name": "LayoutView",
      "align_content": null,
      "align_items": null,
      "align_self": null,
      "border": null,
      "bottom": null,
      "display": null,
      "flex": null,
      "flex_flow": null,
      "grid_area": null,
      "grid_auto_columns": null,
      "grid_auto_flow": null,
      "grid_auto_rows": null,
      "grid_column": null,
      "grid_gap": null,
      "grid_row": null,
      "grid_template_areas": null,
      "grid_template_columns": null,
      "grid_template_rows": null,
      "height": null,
      "justify_content": null,
      "justify_items": null,
      "left": null,
      "margin": null,
      "max_height": null,
      "max_width": null,
      "min_height": null,
      "min_width": null,
      "object_fit": null,
      "object_position": null,
      "order": null,
      "overflow": null,
      "overflow_x": null,
      "overflow_y": null,
      "padding": null,
      "right": null,
      "top": null,
      "visibility": null,
      "width": null
     }
    },
    "954949652b0443e883547db608841fa4": {
     "model_module": "@jupyter-widgets/base",
     "model_module_version": "1.2.0",
     "model_name": "LayoutModel",
     "state": {
      "_model_module": "@jupyter-widgets/base",
      "_model_module_version": "1.2.0",
      "_model_name": "LayoutModel",
      "_view_count": null,
      "_view_module": "@jupyter-widgets/base",
      "_view_module_version": "1.2.0",
      "_view_name": "LayoutView",
      "align_content": null,
      "align_items": null,
      "align_self": null,
      "border": null,
      "bottom": null,
      "display": null,
      "flex": null,
      "flex_flow": null,
      "grid_area": null,
      "grid_auto_columns": null,
      "grid_auto_flow": null,
      "grid_auto_rows": null,
      "grid_column": null,
      "grid_gap": null,
      "grid_row": null,
      "grid_template_areas": null,
      "grid_template_columns": null,
      "grid_template_rows": null,
      "height": null,
      "justify_content": null,
      "justify_items": null,
      "left": null,
      "margin": null,
      "max_height": null,
      "max_width": null,
      "min_height": null,
      "min_width": null,
      "object_fit": null,
      "object_position": null,
      "order": null,
      "overflow": null,
      "overflow_x": null,
      "overflow_y": null,
      "padding": null,
      "right": null,
      "top": null,
      "visibility": null,
      "width": null
     }
    },
    "984d7d4b68494cd7974ab93a852eaecf": {
     "model_module": "@jupyter-widgets/controls",
     "model_module_version": "1.5.0",
     "model_name": "HBoxModel",
     "state": {
      "_dom_classes": [],
      "_model_module": "@jupyter-widgets/controls",
      "_model_module_version": "1.5.0",
      "_model_name": "HBoxModel",
      "_view_count": null,
      "_view_module": "@jupyter-widgets/controls",
      "_view_module_version": "1.5.0",
      "_view_name": "HBoxView",
      "box_style": "",
      "children": [
       "IPY_MODEL_ae67f487c10d4f13964f61b0b15fa23d",
       "IPY_MODEL_c0313af481704e2fa5af096a8ed58634",
       "IPY_MODEL_26e3f51a7d44434293fb3e4aebdb99d3"
      ],
      "layout": "IPY_MODEL_e52e57d5a95c445ea25351f302d5160d"
     }
    },
    "997ee2943861453b918e0e4a7edfb572": {
     "model_module": "@jupyter-widgets/base",
     "model_module_version": "1.2.0",
     "model_name": "LayoutModel",
     "state": {
      "_model_module": "@jupyter-widgets/base",
      "_model_module_version": "1.2.0",
      "_model_name": "LayoutModel",
      "_view_count": null,
      "_view_module": "@jupyter-widgets/base",
      "_view_module_version": "1.2.0",
      "_view_name": "LayoutView",
      "align_content": null,
      "align_items": null,
      "align_self": null,
      "border": null,
      "bottom": null,
      "display": null,
      "flex": null,
      "flex_flow": null,
      "grid_area": null,
      "grid_auto_columns": null,
      "grid_auto_flow": null,
      "grid_auto_rows": null,
      "grid_column": null,
      "grid_gap": null,
      "grid_row": null,
      "grid_template_areas": null,
      "grid_template_columns": null,
      "grid_template_rows": null,
      "height": null,
      "justify_content": null,
      "justify_items": null,
      "left": null,
      "margin": null,
      "max_height": null,
      "max_width": null,
      "min_height": null,
      "min_width": null,
      "object_fit": null,
      "object_position": null,
      "order": null,
      "overflow": null,
      "overflow_x": null,
      "overflow_y": null,
      "padding": null,
      "right": null,
      "top": null,
      "visibility": null,
      "width": null
     }
    },
    "9ae979f472a24a029152ee0228c5d25b": {
     "model_module": "@jupyter-widgets/base",
     "model_module_version": "1.2.0",
     "model_name": "LayoutModel",
     "state": {
      "_model_module": "@jupyter-widgets/base",
      "_model_module_version": "1.2.0",
      "_model_name": "LayoutModel",
      "_view_count": null,
      "_view_module": "@jupyter-widgets/base",
      "_view_module_version": "1.2.0",
      "_view_name": "LayoutView",
      "align_content": null,
      "align_items": null,
      "align_self": null,
      "border": null,
      "bottom": null,
      "display": null,
      "flex": null,
      "flex_flow": null,
      "grid_area": null,
      "grid_auto_columns": null,
      "grid_auto_flow": null,
      "grid_auto_rows": null,
      "grid_column": null,
      "grid_gap": null,
      "grid_row": null,
      "grid_template_areas": null,
      "grid_template_columns": null,
      "grid_template_rows": null,
      "height": null,
      "justify_content": null,
      "justify_items": null,
      "left": null,
      "margin": null,
      "max_height": null,
      "max_width": null,
      "min_height": null,
      "min_width": null,
      "object_fit": null,
      "object_position": null,
      "order": null,
      "overflow": null,
      "overflow_x": null,
      "overflow_y": null,
      "padding": null,
      "right": null,
      "top": null,
      "visibility": null,
      "width": null
     }
    },
    "9ca9ca4a58e5449f91615c00f92d41a1": {
     "model_module": "@jupyter-widgets/controls",
     "model_module_version": "1.5.0",
     "model_name": "HTMLModel",
     "state": {
      "_dom_classes": [],
      "_model_module": "@jupyter-widgets/controls",
      "_model_module_version": "1.5.0",
      "_model_name": "HTMLModel",
      "_view_count": null,
      "_view_module": "@jupyter-widgets/controls",
      "_view_module_version": "1.5.0",
      "_view_name": "HTMLView",
      "description": "",
      "description_tooltip": null,
      "layout": "IPY_MODEL_d8b293b6a7b8481ca9cc36206659b3da",
      "placeholder": "​",
      "style": "IPY_MODEL_0f0eac5bb7544187929bf49328afeee6",
      "value": " 899k/899k [00:00&lt;00:00, 5.66MB/s]"
     }
    },
    "9d20a9cd6d6e413da1d11149f2cbd5da": {
     "model_module": "@jupyter-widgets/controls",
     "model_module_version": "1.5.0",
     "model_name": "DescriptionStyleModel",
     "state": {
      "_model_module": "@jupyter-widgets/controls",
      "_model_module_version": "1.5.0",
      "_model_name": "DescriptionStyleModel",
      "_view_count": null,
      "_view_module": "@jupyter-widgets/base",
      "_view_module_version": "1.2.0",
      "_view_name": "StyleView",
      "description_width": ""
     }
    },
    "9dd7b83289e247698eafecbe42777ae5": {
     "model_module": "@jupyter-widgets/base",
     "model_module_version": "1.2.0",
     "model_name": "LayoutModel",
     "state": {
      "_model_module": "@jupyter-widgets/base",
      "_model_module_version": "1.2.0",
      "_model_name": "LayoutModel",
      "_view_count": null,
      "_view_module": "@jupyter-widgets/base",
      "_view_module_version": "1.2.0",
      "_view_name": "LayoutView",
      "align_content": null,
      "align_items": null,
      "align_self": null,
      "border": null,
      "bottom": null,
      "display": null,
      "flex": null,
      "flex_flow": null,
      "grid_area": null,
      "grid_auto_columns": null,
      "grid_auto_flow": null,
      "grid_auto_rows": null,
      "grid_column": null,
      "grid_gap": null,
      "grid_row": null,
      "grid_template_areas": null,
      "grid_template_columns": null,
      "grid_template_rows": null,
      "height": null,
      "justify_content": null,
      "justify_items": null,
      "left": null,
      "margin": null,
      "max_height": null,
      "max_width": null,
      "min_height": null,
      "min_width": null,
      "object_fit": null,
      "object_position": null,
      "order": null,
      "overflow": null,
      "overflow_x": null,
      "overflow_y": null,
      "padding": null,
      "right": null,
      "top": null,
      "visibility": null,
      "width": null
     }
    },
    "9ed7672b661f4bd48e34fd0e1e344f4d": {
     "model_module": "@jupyter-widgets/controls",
     "model_module_version": "1.5.0",
     "model_name": "HBoxModel",
     "state": {
      "_dom_classes": [],
      "_model_module": "@jupyter-widgets/controls",
      "_model_module_version": "1.5.0",
      "_model_name": "HBoxModel",
      "_view_count": null,
      "_view_module": "@jupyter-widgets/controls",
      "_view_module_version": "1.5.0",
      "_view_name": "HBoxView",
      "box_style": "",
      "children": [
       "IPY_MODEL_cc7f2693156c41448f79c8eced695c3c",
       "IPY_MODEL_73e0bdf1a0814705bd807223c49f064d",
       "IPY_MODEL_5407fa34ded6497c8b5ae29cb78a0611"
      ],
      "layout": "IPY_MODEL_997ee2943861453b918e0e4a7edfb572"
     }
    },
    "9edb4f34928244debc744525b3b9c53c": {
     "model_module": "@jupyter-widgets/controls",
     "model_module_version": "1.5.0",
     "model_name": "HTMLModel",
     "state": {
      "_dom_classes": [],
      "_model_module": "@jupyter-widgets/controls",
      "_model_module_version": "1.5.0",
      "_model_name": "HTMLModel",
      "_view_count": null,
      "_view_module": "@jupyter-widgets/controls",
      "_view_module_version": "1.5.0",
      "_view_name": "HTMLView",
      "description": "",
      "description_tooltip": null,
      "layout": "IPY_MODEL_a297e03518fe4f96bc43ca9a4392dda2",
      "placeholder": "​",
      "style": "IPY_MODEL_47ccf46a57c14f928fb0df87def0d30a",
      "value": " 25.0/25.0 [00:00&lt;00:00, 2.34kB/s]"
     }
    },
    "9f8c38af51da408a8e78ad0ffa111e18": {
     "model_module": "@jupyter-widgets/controls",
     "model_module_version": "1.5.0",
     "model_name": "FloatProgressModel",
     "state": {
      "_dom_classes": [],
      "_model_module": "@jupyter-widgets/controls",
      "_model_module_version": "1.5.0",
      "_model_name": "FloatProgressModel",
      "_view_count": null,
      "_view_module": "@jupyter-widgets/controls",
      "_view_module_version": "1.5.0",
      "_view_name": "ProgressView",
      "bar_style": "",
      "description": "",
      "description_tooltip": null,
      "layout": "IPY_MODEL_4a34dbd2087f4d08a3d8a5f0303a2898",
      "max": 1,
      "min": 0,
      "orientation": "horizontal",
      "style": "IPY_MODEL_3b9d182cf8254078a10084e92f63c5f2",
      "value": 1
     }
    },
    "9f970140ad774694b01531e0a24b1903": {
     "model_module": "@jupyter-widgets/controls",
     "model_module_version": "1.5.0",
     "model_name": "FloatProgressModel",
     "state": {
      "_dom_classes": [],
      "_model_module": "@jupyter-widgets/controls",
      "_model_module_version": "1.5.0",
      "_model_name": "FloatProgressModel",
      "_view_count": null,
      "_view_module": "@jupyter-widgets/controls",
      "_view_module_version": "1.5.0",
      "_view_name": "ProgressView",
      "bar_style": "",
      "description": "",
      "description_tooltip": null,
      "layout": "IPY_MODEL_cda5ec4e2a2f4e3bbec60201a7f315c7",
      "max": 1,
      "min": 0,
      "orientation": "horizontal",
      "style": "IPY_MODEL_1b005c119d044ace9dd457f6b52cfcc1",
      "value": 1
     }
    },
    "a0f0604471034cfe9daab1c208446c23": {
     "model_module": "@jupyter-widgets/controls",
     "model_module_version": "1.5.0",
     "model_name": "HTMLModel",
     "state": {
      "_dom_classes": [],
      "_model_module": "@jupyter-widgets/controls",
      "_model_module_version": "1.5.0",
      "_model_name": "HTMLModel",
      "_view_count": null,
      "_view_module": "@jupyter-widgets/controls",
      "_view_module_version": "1.5.0",
      "_view_name": "HTMLView",
      "description": "",
      "description_tooltip": null,
      "layout": "IPY_MODEL_a2832ffce5844820b3252ee7361d2c5d",
      "placeholder": "​",
      "style": "IPY_MODEL_c2576da846db4855a91fb8a661801618",
      "value": " 480/480 [00:00&lt;00:00, 61.2kB/s]"
     }
    },
    "a259c1339a39432882c7784769ee58a5": {
     "model_module": "@jupyter-widgets/controls",
     "model_module_version": "1.5.0",
     "model_name": "FloatProgressModel",
     "state": {
      "_dom_classes": [],
      "_model_module": "@jupyter-widgets/controls",
      "_model_module_version": "1.5.0",
      "_model_name": "FloatProgressModel",
      "_view_count": null,
      "_view_module": "@jupyter-widgets/controls",
      "_view_module_version": "1.5.0",
      "_view_name": "ProgressView",
      "bar_style": "success",
      "description": "",
      "description_tooltip": null,
      "layout": "IPY_MODEL_f5f923f4065844f39b055d6b3c3f204d",
      "max": 898823,
      "min": 0,
      "orientation": "horizontal",
      "style": "IPY_MODEL_613899d34ec648579863eae7639a719f",
      "value": 898823
     }
    },
    "a2832ffce5844820b3252ee7361d2c5d": {
     "model_module": "@jupyter-widgets/base",
     "model_module_version": "1.2.0",
     "model_name": "LayoutModel",
     "state": {
      "_model_module": "@jupyter-widgets/base",
      "_model_module_version": "1.2.0",
      "_model_name": "LayoutModel",
      "_view_count": null,
      "_view_module": "@jupyter-widgets/base",
      "_view_module_version": "1.2.0",
      "_view_name": "LayoutView",
      "align_content": null,
      "align_items": null,
      "align_self": null,
      "border": null,
      "bottom": null,
      "display": null,
      "flex": null,
      "flex_flow": null,
      "grid_area": null,
      "grid_auto_columns": null,
      "grid_auto_flow": null,
      "grid_auto_rows": null,
      "grid_column": null,
      "grid_gap": null,
      "grid_row": null,
      "grid_template_areas": null,
      "grid_template_columns": null,
      "grid_template_rows": null,
      "height": null,
      "justify_content": null,
      "justify_items": null,
      "left": null,
      "margin": null,
      "max_height": null,
      "max_width": null,
      "min_height": null,
      "min_width": null,
      "object_fit": null,
      "object_position": null,
      "order": null,
      "overflow": null,
      "overflow_x": null,
      "overflow_y": null,
      "padding": null,
      "right": null,
      "top": null,
      "visibility": null,
      "width": null
     }
    },
    "a297e03518fe4f96bc43ca9a4392dda2": {
     "model_module": "@jupyter-widgets/base",
     "model_module_version": "1.2.0",
     "model_name": "LayoutModel",
     "state": {
      "_model_module": "@jupyter-widgets/base",
      "_model_module_version": "1.2.0",
      "_model_name": "LayoutModel",
      "_view_count": null,
      "_view_module": "@jupyter-widgets/base",
      "_view_module_version": "1.2.0",
      "_view_name": "LayoutView",
      "align_content": null,
      "align_items": null,
      "align_self": null,
      "border": null,
      "bottom": null,
      "display": null,
      "flex": null,
      "flex_flow": null,
      "grid_area": null,
      "grid_auto_columns": null,
      "grid_auto_flow": null,
      "grid_auto_rows": null,
      "grid_column": null,
      "grid_gap": null,
      "grid_row": null,
      "grid_template_areas": null,
      "grid_template_columns": null,
      "grid_template_rows": null,
      "height": null,
      "justify_content": null,
      "justify_items": null,
      "left": null,
      "margin": null,
      "max_height": null,
      "max_width": null,
      "min_height": null,
      "min_width": null,
      "object_fit": null,
      "object_position": null,
      "order": null,
      "overflow": null,
      "overflow_x": null,
      "overflow_y": null,
      "padding": null,
      "right": null,
      "top": null,
      "visibility": null,
      "width": null
     }
    },
    "a2b571675f70419b9963ea412a6231c2": {
     "model_module": "@jupyter-widgets/base",
     "model_module_version": "1.2.0",
     "model_name": "LayoutModel",
     "state": {
      "_model_module": "@jupyter-widgets/base",
      "_model_module_version": "1.2.0",
      "_model_name": "LayoutModel",
      "_view_count": null,
      "_view_module": "@jupyter-widgets/base",
      "_view_module_version": "1.2.0",
      "_view_name": "LayoutView",
      "align_content": null,
      "align_items": null,
      "align_self": null,
      "border": null,
      "bottom": null,
      "display": null,
      "flex": null,
      "flex_flow": null,
      "grid_area": null,
      "grid_auto_columns": null,
      "grid_auto_flow": null,
      "grid_auto_rows": null,
      "grid_column": null,
      "grid_gap": null,
      "grid_row": null,
      "grid_template_areas": null,
      "grid_template_columns": null,
      "grid_template_rows": null,
      "height": null,
      "justify_content": null,
      "justify_items": null,
      "left": null,
      "margin": null,
      "max_height": null,
      "max_width": null,
      "min_height": null,
      "min_width": null,
      "object_fit": null,
      "object_position": null,
      "order": null,
      "overflow": null,
      "overflow_x": null,
      "overflow_y": null,
      "padding": null,
      "right": null,
      "top": null,
      "visibility": null,
      "width": null
     }
    },
    "a6d5bcb523d747e4af6c033c3e356ea7": {
     "model_module": "@jupyter-widgets/base",
     "model_module_version": "1.2.0",
     "model_name": "LayoutModel",
     "state": {
      "_model_module": "@jupyter-widgets/base",
      "_model_module_version": "1.2.0",
      "_model_name": "LayoutModel",
      "_view_count": null,
      "_view_module": "@jupyter-widgets/base",
      "_view_module_version": "1.2.0",
      "_view_name": "LayoutView",
      "align_content": null,
      "align_items": null,
      "align_self": null,
      "border": null,
      "bottom": null,
      "display": null,
      "flex": null,
      "flex_flow": null,
      "grid_area": null,
      "grid_auto_columns": null,
      "grid_auto_flow": null,
      "grid_auto_rows": null,
      "grid_column": null,
      "grid_gap": null,
      "grid_row": null,
      "grid_template_areas": null,
      "grid_template_columns": null,
      "grid_template_rows": null,
      "height": null,
      "justify_content": null,
      "justify_items": null,
      "left": null,
      "margin": null,
      "max_height": null,
      "max_width": null,
      "min_height": null,
      "min_width": null,
      "object_fit": null,
      "object_position": null,
      "order": null,
      "overflow": null,
      "overflow_x": null,
      "overflow_y": null,
      "padding": null,
      "right": null,
      "top": null,
      "visibility": null,
      "width": null
     }
    },
    "a7e025dcfd3b45458fae78a22099c26f": {
     "model_module": "@jupyter-widgets/controls",
     "model_module_version": "1.5.0",
     "model_name": "HTMLModel",
     "state": {
      "_dom_classes": [],
      "_model_module": "@jupyter-widgets/controls",
      "_model_module_version": "1.5.0",
      "_model_name": "HTMLModel",
      "_view_count": null,
      "_view_module": "@jupyter-widgets/controls",
      "_view_module_version": "1.5.0",
      "_view_name": "HTMLView",
      "description": "",
      "description_tooltip": null,
      "layout": "IPY_MODEL_33aff5577a424489b0386c66a87386f4",
      "placeholder": "​",
      "style": "IPY_MODEL_5311b182e9724805aab11afb27ba15ef",
      "value": " 899k/899k [00:00&lt;00:00, 2.05MB/s]"
     }
    },
    "a8a5cc7dc1fb4b5ea92316b23c55acd4": {
     "model_module": "@jupyter-widgets/base",
     "model_module_version": "1.2.0",
     "model_name": "LayoutModel",
     "state": {
      "_model_module": "@jupyter-widgets/base",
      "_model_module_version": "1.2.0",
      "_model_name": "LayoutModel",
      "_view_count": null,
      "_view_module": "@jupyter-widgets/base",
      "_view_module_version": "1.2.0",
      "_view_name": "LayoutView",
      "align_content": null,
      "align_items": null,
      "align_self": null,
      "border": null,
      "bottom": null,
      "display": null,
      "flex": null,
      "flex_flow": null,
      "grid_area": null,
      "grid_auto_columns": null,
      "grid_auto_flow": null,
      "grid_auto_rows": null,
      "grid_column": null,
      "grid_gap": null,
      "grid_row": null,
      "grid_template_areas": null,
      "grid_template_columns": null,
      "grid_template_rows": null,
      "height": null,
      "justify_content": null,
      "justify_items": null,
      "left": null,
      "margin": null,
      "max_height": null,
      "max_width": null,
      "min_height": null,
      "min_width": null,
      "object_fit": null,
      "object_position": null,
      "order": null,
      "overflow": null,
      "overflow_x": null,
      "overflow_y": null,
      "padding": null,
      "right": null,
      "top": null,
      "visibility": null,
      "width": null
     }
    },
    "aa6cdb3d4f194e1a80d3748779c5ab0f": {
     "model_module": "@jupyter-widgets/base",
     "model_module_version": "1.2.0",
     "model_name": "LayoutModel",
     "state": {
      "_model_module": "@jupyter-widgets/base",
      "_model_module_version": "1.2.0",
      "_model_name": "LayoutModel",
      "_view_count": null,
      "_view_module": "@jupyter-widgets/base",
      "_view_module_version": "1.2.0",
      "_view_name": "LayoutView",
      "align_content": null,
      "align_items": null,
      "align_self": null,
      "border": null,
      "bottom": null,
      "display": null,
      "flex": null,
      "flex_flow": null,
      "grid_area": null,
      "grid_auto_columns": null,
      "grid_auto_flow": null,
      "grid_auto_rows": null,
      "grid_column": null,
      "grid_gap": null,
      "grid_row": null,
      "grid_template_areas": null,
      "grid_template_columns": null,
      "grid_template_rows": null,
      "height": null,
      "justify_content": null,
      "justify_items": null,
      "left": null,
      "margin": null,
      "max_height": null,
      "max_width": null,
      "min_height": null,
      "min_width": null,
      "object_fit": null,
      "object_position": null,
      "order": null,
      "overflow": null,
      "overflow_x": null,
      "overflow_y": null,
      "padding": null,
      "right": null,
      "top": null,
      "visibility": null,
      "width": null
     }
    },
    "aca3de56c0f14c938d73246d426491f7": {
     "model_module": "@jupyter-widgets/controls",
     "model_module_version": "1.5.0",
     "model_name": "DescriptionStyleModel",
     "state": {
      "_model_module": "@jupyter-widgets/controls",
      "_model_module_version": "1.5.0",
      "_model_name": "DescriptionStyleModel",
      "_view_count": null,
      "_view_module": "@jupyter-widgets/base",
      "_view_module_version": "1.2.0",
      "_view_name": "StyleView",
      "description_width": ""
     }
    },
    "ae377ce5cf2c40cda3f1c73ec877aac4": {
     "model_module": "@jupyter-widgets/controls",
     "model_module_version": "1.5.0",
     "model_name": "DescriptionStyleModel",
     "state": {
      "_model_module": "@jupyter-widgets/controls",
      "_model_module_version": "1.5.0",
      "_model_name": "DescriptionStyleModel",
      "_view_count": null,
      "_view_module": "@jupyter-widgets/base",
      "_view_module_version": "1.2.0",
      "_view_name": "StyleView",
      "description_width": ""
     }
    },
    "ae67f487c10d4f13964f61b0b15fa23d": {
     "model_module": "@jupyter-widgets/controls",
     "model_module_version": "1.5.0",
     "model_name": "HTMLModel",
     "state": {
      "_dom_classes": [],
      "_model_module": "@jupyter-widgets/controls",
      "_model_module_version": "1.5.0",
      "_model_name": "HTMLModel",
      "_view_count": null,
      "_view_module": "@jupyter-widgets/controls",
      "_view_module_version": "1.5.0",
      "_view_name": "HTMLView",
      "description": "",
      "description_tooltip": null,
      "layout": "IPY_MODEL_dba3ebce94d24130986c60763542c8d8",
      "placeholder": "​",
      "style": "IPY_MODEL_55772b2250ff4b60833ef3a6f145a7ef",
      "value": "merges.txt: 100%"
     }
    },
    "aeac7b481e914028b7242f3894bf7cdd": {
     "model_module": "@jupyter-widgets/controls",
     "model_module_version": "1.5.0",
     "model_name": "ProgressStyleModel",
     "state": {
      "_model_module": "@jupyter-widgets/controls",
      "_model_module_version": "1.5.0",
      "_model_name": "ProgressStyleModel",
      "_view_count": null,
      "_view_module": "@jupyter-widgets/base",
      "_view_module_version": "1.2.0",
      "_view_name": "StyleView",
      "bar_color": null,
      "description_width": ""
     }
    },
    "b127727856514ec5aabad23409526c72": {
     "model_module": "@jupyter-widgets/controls",
     "model_module_version": "1.5.0",
     "model_name": "DescriptionStyleModel",
     "state": {
      "_model_module": "@jupyter-widgets/controls",
      "_model_module_version": "1.5.0",
      "_model_name": "DescriptionStyleModel",
      "_view_count": null,
      "_view_module": "@jupyter-widgets/base",
      "_view_module_version": "1.2.0",
      "_view_name": "StyleView",
      "description_width": ""
     }
    },
    "b1e1dbf39d114e32b0a3df95ab72ebe8": {
     "model_module": "@jupyter-widgets/base",
     "model_module_version": "1.2.0",
     "model_name": "LayoutModel",
     "state": {
      "_model_module": "@jupyter-widgets/base",
      "_model_module_version": "1.2.0",
      "_model_name": "LayoutModel",
      "_view_count": null,
      "_view_module": "@jupyter-widgets/base",
      "_view_module_version": "1.2.0",
      "_view_name": "LayoutView",
      "align_content": null,
      "align_items": null,
      "align_self": null,
      "border": null,
      "bottom": null,
      "display": null,
      "flex": null,
      "flex_flow": null,
      "grid_area": null,
      "grid_auto_columns": null,
      "grid_auto_flow": null,
      "grid_auto_rows": null,
      "grid_column": null,
      "grid_gap": null,
      "grid_row": null,
      "grid_template_areas": null,
      "grid_template_columns": null,
      "grid_template_rows": null,
      "height": null,
      "justify_content": null,
      "justify_items": null,
      "left": null,
      "margin": null,
      "max_height": null,
      "max_width": null,
      "min_height": null,
      "min_width": null,
      "object_fit": null,
      "object_position": null,
      "order": null,
      "overflow": null,
      "overflow_x": null,
      "overflow_y": null,
      "padding": null,
      "right": null,
      "top": null,
      "visibility": null,
      "width": null
     }
    },
    "b229adb84dbd46febb893a835faca4cd": {
     "model_module": "@jupyter-widgets/base",
     "model_module_version": "1.2.0",
     "model_name": "LayoutModel",
     "state": {
      "_model_module": "@jupyter-widgets/base",
      "_model_module_version": "1.2.0",
      "_model_name": "LayoutModel",
      "_view_count": null,
      "_view_module": "@jupyter-widgets/base",
      "_view_module_version": "1.2.0",
      "_view_name": "LayoutView",
      "align_content": null,
      "align_items": null,
      "align_self": null,
      "border": null,
      "bottom": null,
      "display": null,
      "flex": null,
      "flex_flow": null,
      "grid_area": null,
      "grid_auto_columns": null,
      "grid_auto_flow": null,
      "grid_auto_rows": null,
      "grid_column": null,
      "grid_gap": null,
      "grid_row": null,
      "grid_template_areas": null,
      "grid_template_columns": null,
      "grid_template_rows": null,
      "height": null,
      "justify_content": null,
      "justify_items": null,
      "left": null,
      "margin": null,
      "max_height": null,
      "max_width": null,
      "min_height": null,
      "min_width": null,
      "object_fit": null,
      "object_position": null,
      "order": null,
      "overflow": null,
      "overflow_x": null,
      "overflow_y": null,
      "padding": null,
      "right": null,
      "top": null,
      "visibility": null,
      "width": null
     }
    },
    "b2f4d7f1f7c1485293592ba950f7d636": {
     "model_module": "@jupyter-widgets/base",
     "model_module_version": "1.2.0",
     "model_name": "LayoutModel",
     "state": {
      "_model_module": "@jupyter-widgets/base",
      "_model_module_version": "1.2.0",
      "_model_name": "LayoutModel",
      "_view_count": null,
      "_view_module": "@jupyter-widgets/base",
      "_view_module_version": "1.2.0",
      "_view_name": "LayoutView",
      "align_content": null,
      "align_items": null,
      "align_self": null,
      "border": null,
      "bottom": null,
      "display": null,
      "flex": null,
      "flex_flow": null,
      "grid_area": null,
      "grid_auto_columns": null,
      "grid_auto_flow": null,
      "grid_auto_rows": null,
      "grid_column": null,
      "grid_gap": null,
      "grid_row": null,
      "grid_template_areas": null,
      "grid_template_columns": null,
      "grid_template_rows": null,
      "height": null,
      "justify_content": null,
      "justify_items": null,
      "left": null,
      "margin": null,
      "max_height": null,
      "max_width": null,
      "min_height": null,
      "min_width": null,
      "object_fit": null,
      "object_position": null,
      "order": null,
      "overflow": null,
      "overflow_x": null,
      "overflow_y": null,
      "padding": null,
      "right": null,
      "top": null,
      "visibility": null,
      "width": null
     }
    },
    "b42ab6b829c94b8fbabcd3da8fba3b82": {
     "model_module": "@jupyter-widgets/controls",
     "model_module_version": "1.5.0",
     "model_name": "HTMLModel",
     "state": {
      "_dom_classes": [],
      "_model_module": "@jupyter-widgets/controls",
      "_model_module_version": "1.5.0",
      "_model_name": "HTMLModel",
      "_view_count": null,
      "_view_module": "@jupyter-widgets/controls",
      "_view_module_version": "1.5.0",
      "_view_name": "HTMLView",
      "description": "",
      "description_tooltip": null,
      "layout": "IPY_MODEL_bca84aa1b061422aa211594f4dd6e54e",
      "placeholder": "​",
      "style": "IPY_MODEL_aca3de56c0f14c938d73246d426491f7",
      "value": "model.safetensors: 100%"
     }
    },
    "b541ee68fc514d9aa7df2f86b1fd6f44": {
     "model_module": "@jupyter-widgets/base",
     "model_module_version": "1.2.0",
     "model_name": "LayoutModel",
     "state": {
      "_model_module": "@jupyter-widgets/base",
      "_model_module_version": "1.2.0",
      "_model_name": "LayoutModel",
      "_view_count": null,
      "_view_module": "@jupyter-widgets/base",
      "_view_module_version": "1.2.0",
      "_view_name": "LayoutView",
      "align_content": null,
      "align_items": null,
      "align_self": null,
      "border": null,
      "bottom": null,
      "display": null,
      "flex": null,
      "flex_flow": null,
      "grid_area": null,
      "grid_auto_columns": null,
      "grid_auto_flow": null,
      "grid_auto_rows": null,
      "grid_column": null,
      "grid_gap": null,
      "grid_row": null,
      "grid_template_areas": null,
      "grid_template_columns": null,
      "grid_template_rows": null,
      "height": null,
      "justify_content": null,
      "justify_items": null,
      "left": null,
      "margin": null,
      "max_height": null,
      "max_width": null,
      "min_height": null,
      "min_width": null,
      "object_fit": null,
      "object_position": null,
      "order": null,
      "overflow": null,
      "overflow_x": null,
      "overflow_y": null,
      "padding": null,
      "right": null,
      "top": null,
      "visibility": null,
      "width": null
     }
    },
    "b5a27beac6f643ccbf52cef33735d80c": {
     "model_module": "@jupyter-widgets/controls",
     "model_module_version": "1.5.0",
     "model_name": "VBoxModel",
     "state": {
      "_dom_classes": [],
      "_model_module": "@jupyter-widgets/controls",
      "_model_module_version": "1.5.0",
      "_model_name": "VBoxModel",
      "_view_count": null,
      "_view_module": "@jupyter-widgets/controls",
      "_view_module_version": "1.5.0",
      "_view_name": "VBoxView",
      "box_style": "",
      "children": [
       "IPY_MODEL_6ce30ed87aa34ca38bc6589dd59b3bce",
       "IPY_MODEL_be7607c2d5834549a579c283391cc27a"
      ],
      "layout": "IPY_MODEL_50cda0c8d8e6409b9413081e893222a2"
     }
    },
    "b7a12ad10ea942e8b96b65340e66a02e": {
     "model_module": "@jupyter-widgets/controls",
     "model_module_version": "1.5.0",
     "model_name": "FloatProgressModel",
     "state": {
      "_dom_classes": [],
      "_model_module": "@jupyter-widgets/controls",
      "_model_module_version": "1.5.0",
      "_model_name": "FloatProgressModel",
      "_view_count": null,
      "_view_module": "@jupyter-widgets/controls",
      "_view_module_version": "1.5.0",
      "_view_name": "ProgressView",
      "bar_style": "success",
      "description": "",
      "description_tooltip": null,
      "layout": "IPY_MODEL_652339a1352743b1a8078573e4e824d5",
      "max": 481,
      "min": 0,
      "orientation": "horizontal",
      "style": "IPY_MODEL_0874e954f78646c2b839a9bfd9055f54",
      "value": 481
     }
    },
    "b7c2fb9b98b8475293a86b7ba4c969a2": {
     "model_module": "@jupyter-widgets/controls",
     "model_module_version": "1.5.0",
     "model_name": "HTMLModel",
     "state": {
      "_dom_classes": [],
      "_model_module": "@jupyter-widgets/controls",
      "_model_module_version": "1.5.0",
      "_model_name": "HTMLModel",
      "_view_count": null,
      "_view_module": "@jupyter-widgets/controls",
      "_view_module_version": "1.5.0",
      "_view_name": "HTMLView",
      "description": "",
      "description_tooltip": null,
      "layout": "IPY_MODEL_8f3aa224908b457eb934e60361ad8998",
      "placeholder": "​",
      "style": "IPY_MODEL_f37a931403dd4847a15bee1337f947cd",
      "value": " 481/481 [00:00&lt;00:00, 46.9kB/s]"
     }
    },
    "b8bfe7b9973a47b580846c65db903bb6": {
     "model_module": "@jupyter-widgets/controls",
     "model_module_version": "1.5.0",
     "model_name": "DescriptionStyleModel",
     "state": {
      "_model_module": "@jupyter-widgets/controls",
      "_model_module_version": "1.5.0",
      "_model_name": "DescriptionStyleModel",
      "_view_count": null,
      "_view_module": "@jupyter-widgets/base",
      "_view_module_version": "1.2.0",
      "_view_name": "StyleView",
      "description_width": ""
     }
    },
    "bb5b369966be4d6093baae112d365d4f": {
     "model_module": "@jupyter-widgets/controls",
     "model_module_version": "1.5.0",
     "model_name": "HTMLModel",
     "state": {
      "_dom_classes": [],
      "_model_module": "@jupyter-widgets/controls",
      "_model_module_version": "1.5.0",
      "_model_name": "HTMLModel",
      "_view_count": null,
      "_view_module": "@jupyter-widgets/controls",
      "_view_module_version": "1.5.0",
      "_view_name": "HTMLView",
      "description": "",
      "description_tooltip": null,
      "layout": "IPY_MODEL_c054502a90554be49e696c5178bb98fb",
      "placeholder": "​",
      "style": "IPY_MODEL_7d4725e58c284b1287ed9fe4c0d6ea7a",
      "value": "model.safetensors: 100%"
     }
    },
    "bb75fe504142469897cd755894cea361": {
     "model_module": "@jupyter-widgets/controls",
     "model_module_version": "1.5.0",
     "model_name": "HBoxModel",
     "state": {
      "_dom_classes": [],
      "_model_module": "@jupyter-widgets/controls",
      "_model_module_version": "1.5.0",
      "_model_name": "HBoxModel",
      "_view_count": null,
      "_view_module": "@jupyter-widgets/controls",
      "_view_module_version": "1.5.0",
      "_view_name": "HBoxView",
      "box_style": "",
      "children": [
       "IPY_MODEL_225a025139504e36b5c8ff6ac6275ef5",
       "IPY_MODEL_479dc810976a4c72bdd266a77cc6dd89",
       "IPY_MODEL_e67f43122d0a43ed838d19b7b85aa92a"
      ],
      "layout": "IPY_MODEL_bd48e5029c234f34906907ba187e5681"
     }
    },
    "bca84aa1b061422aa211594f4dd6e54e": {
     "model_module": "@jupyter-widgets/base",
     "model_module_version": "1.2.0",
     "model_name": "LayoutModel",
     "state": {
      "_model_module": "@jupyter-widgets/base",
      "_model_module_version": "1.2.0",
      "_model_name": "LayoutModel",
      "_view_count": null,
      "_view_module": "@jupyter-widgets/base",
      "_view_module_version": "1.2.0",
      "_view_name": "LayoutView",
      "align_content": null,
      "align_items": null,
      "align_self": null,
      "border": null,
      "bottom": null,
      "display": null,
      "flex": null,
      "flex_flow": null,
      "grid_area": null,
      "grid_auto_columns": null,
      "grid_auto_flow": null,
      "grid_auto_rows": null,
      "grid_column": null,
      "grid_gap": null,
      "grid_row": null,
      "grid_template_areas": null,
      "grid_template_columns": null,
      "grid_template_rows": null,
      "height": null,
      "justify_content": null,
      "justify_items": null,
      "left": null,
      "margin": null,
      "max_height": null,
      "max_width": null,
      "min_height": null,
      "min_width": null,
      "object_fit": null,
      "object_position": null,
      "order": null,
      "overflow": null,
      "overflow_x": null,
      "overflow_y": null,
      "padding": null,
      "right": null,
      "top": null,
      "visibility": null,
      "width": null
     }
    },
    "bd48e5029c234f34906907ba187e5681": {
     "model_module": "@jupyter-widgets/base",
     "model_module_version": "1.2.0",
     "model_name": "LayoutModel",
     "state": {
      "_model_module": "@jupyter-widgets/base",
      "_model_module_version": "1.2.0",
      "_model_name": "LayoutModel",
      "_view_count": null,
      "_view_module": "@jupyter-widgets/base",
      "_view_module_version": "1.2.0",
      "_view_name": "LayoutView",
      "align_content": null,
      "align_items": null,
      "align_self": null,
      "border": null,
      "bottom": null,
      "display": null,
      "flex": null,
      "flex_flow": null,
      "grid_area": null,
      "grid_auto_columns": null,
      "grid_auto_flow": null,
      "grid_auto_rows": null,
      "grid_column": null,
      "grid_gap": null,
      "grid_row": null,
      "grid_template_areas": null,
      "grid_template_columns": null,
      "grid_template_rows": null,
      "height": null,
      "justify_content": null,
      "justify_items": null,
      "left": null,
      "margin": null,
      "max_height": null,
      "max_width": null,
      "min_height": null,
      "min_width": null,
      "object_fit": null,
      "object_position": null,
      "order": null,
      "overflow": null,
      "overflow_x": null,
      "overflow_y": null,
      "padding": null,
      "right": null,
      "top": null,
      "visibility": null,
      "width": null
     }
    },
    "bdb3793dd347438686d1a4a351fb5dd3": {
     "model_module": "@jupyter-widgets/controls",
     "model_module_version": "1.5.0",
     "model_name": "FloatProgressModel",
     "state": {
      "_dom_classes": [],
      "_model_module": "@jupyter-widgets/controls",
      "_model_module_version": "1.5.0",
      "_model_name": "FloatProgressModel",
      "_view_count": null,
      "_view_module": "@jupyter-widgets/controls",
      "_view_module_version": "1.5.0",
      "_view_name": "ProgressView",
      "bar_style": "success",
      "description": "",
      "description_tooltip": null,
      "layout": "IPY_MODEL_d2bc5ea8dd8e4715953b42720a695749",
      "max": 456318,
      "min": 0,
      "orientation": "horizontal",
      "style": "IPY_MODEL_f9569b29f3d648f38e20fb9d137637d2",
      "value": 456318
     }
    },
    "be7607c2d5834549a579c283391cc27a": {
     "model_module": "@jupyter-widgets/controls",
     "model_module_version": "1.5.0",
     "model_name": "FloatProgressModel",
     "state": {
      "_dom_classes": [],
      "_model_module": "@jupyter-widgets/controls",
      "_model_module_version": "1.5.0",
      "_model_name": "FloatProgressModel",
      "_view_count": null,
      "_view_module": "@jupyter-widgets/controls",
      "_view_module_version": "1.5.0",
      "_view_name": "ProgressView",
      "bar_style": "",
      "description": "",
      "description_tooltip": null,
      "layout": "IPY_MODEL_4a8592b0dd814f5f86f728d1728ab42c",
      "max": 1,
      "min": 0,
      "orientation": "horizontal",
      "style": "IPY_MODEL_04285feb091e40da84a6fff824d91959",
      "value": 1
     }
    },
    "c0313af481704e2fa5af096a8ed58634": {
     "model_module": "@jupyter-widgets/controls",
     "model_module_version": "1.5.0",
     "model_name": "FloatProgressModel",
     "state": {
      "_dom_classes": [],
      "_model_module": "@jupyter-widgets/controls",
      "_model_module_version": "1.5.0",
      "_model_name": "FloatProgressModel",
      "_view_count": null,
      "_view_module": "@jupyter-widgets/controls",
      "_view_module_version": "1.5.0",
      "_view_name": "ProgressView",
      "bar_style": "success",
      "description": "",
      "description_tooltip": null,
      "layout": "IPY_MODEL_6c6b177c58e34deab710a094aaaa909d",
      "max": 456318,
      "min": 0,
      "orientation": "horizontal",
      "style": "IPY_MODEL_2ac7f18d94f24c9eba612a973d249c7c",
      "value": 456318
     }
    },
    "c054502a90554be49e696c5178bb98fb": {
     "model_module": "@jupyter-widgets/base",
     "model_module_version": "1.2.0",
     "model_name": "LayoutModel",
     "state": {
      "_model_module": "@jupyter-widgets/base",
      "_model_module_version": "1.2.0",
      "_model_name": "LayoutModel",
      "_view_count": null,
      "_view_module": "@jupyter-widgets/base",
      "_view_module_version": "1.2.0",
      "_view_name": "LayoutView",
      "align_content": null,
      "align_items": null,
      "align_self": null,
      "border": null,
      "bottom": null,
      "display": null,
      "flex": null,
      "flex_flow": null,
      "grid_area": null,
      "grid_auto_columns": null,
      "grid_auto_flow": null,
      "grid_auto_rows": null,
      "grid_column": null,
      "grid_gap": null,
      "grid_row": null,
      "grid_template_areas": null,
      "grid_template_columns": null,
      "grid_template_rows": null,
      "height": null,
      "justify_content": null,
      "justify_items": null,
      "left": null,
      "margin": null,
      "max_height": null,
      "max_width": null,
      "min_height": null,
      "min_width": null,
      "object_fit": null,
      "object_position": null,
      "order": null,
      "overflow": null,
      "overflow_x": null,
      "overflow_y": null,
      "padding": null,
      "right": null,
      "top": null,
      "visibility": null,
      "width": null
     }
    },
    "c0ddaf94a4a8406d9bfba97e58c27456": {
     "model_module": "@jupyter-widgets/controls",
     "model_module_version": "1.5.0",
     "model_name": "ProgressStyleModel",
     "state": {
      "_model_module": "@jupyter-widgets/controls",
      "_model_module_version": "1.5.0",
      "_model_name": "ProgressStyleModel",
      "_view_count": null,
      "_view_module": "@jupyter-widgets/base",
      "_view_module_version": "1.2.0",
      "_view_name": "StyleView",
      "bar_color": null,
      "description_width": ""
     }
    },
    "c2576da846db4855a91fb8a661801618": {
     "model_module": "@jupyter-widgets/controls",
     "model_module_version": "1.5.0",
     "model_name": "DescriptionStyleModel",
     "state": {
      "_model_module": "@jupyter-widgets/controls",
      "_model_module_version": "1.5.0",
      "_model_name": "DescriptionStyleModel",
      "_view_count": null,
      "_view_module": "@jupyter-widgets/base",
      "_view_module_version": "1.2.0",
      "_view_name": "StyleView",
      "description_width": ""
     }
    },
    "c4d0ba44179245dc8f2f0315302c0966": {
     "model_module": "@jupyter-widgets/controls",
     "model_module_version": "1.5.0",
     "model_name": "ProgressStyleModel",
     "state": {
      "_model_module": "@jupyter-widgets/controls",
      "_model_module_version": "1.5.0",
      "_model_name": "ProgressStyleModel",
      "_view_count": null,
      "_view_module": "@jupyter-widgets/base",
      "_view_module_version": "1.2.0",
      "_view_name": "StyleView",
      "bar_color": null,
      "description_width": ""
     }
    },
    "c5d4118d634944b58c2ca4a1ec49aebd": {
     "model_module": "@jupyter-widgets/controls",
     "model_module_version": "1.5.0",
     "model_name": "LabelModel",
     "state": {
      "_dom_classes": [],
      "_model_module": "@jupyter-widgets/controls",
      "_model_module_version": "1.5.0",
      "_model_name": "LabelModel",
      "_view_count": null,
      "_view_module": "@jupyter-widgets/controls",
      "_view_module_version": "1.5.0",
      "_view_name": "LabelView",
      "description": "",
      "description_tooltip": null,
      "layout": "IPY_MODEL_6ab592ebd6d74f10918016687ad1aead",
      "placeholder": "​",
      "style": "IPY_MODEL_fd662faa71a447e983c74b8d4f84daba",
      "value": "0.018 MB of 0.018 MB uploaded\r"
     }
    },
    "c72c69a424c14a438ba4da2b0dcdfa16": {
     "model_module": "@jupyter-widgets/controls",
     "model_module_version": "1.5.0",
     "model_name": "DescriptionStyleModel",
     "state": {
      "_model_module": "@jupyter-widgets/controls",
      "_model_module_version": "1.5.0",
      "_model_name": "DescriptionStyleModel",
      "_view_count": null,
      "_view_module": "@jupyter-widgets/base",
      "_view_module_version": "1.2.0",
      "_view_name": "StyleView",
      "description_width": ""
     }
    },
    "c945bb0ba8ca44b0850692ba77a4ea14": {
     "model_module": "@jupyter-widgets/controls",
     "model_module_version": "1.5.0",
     "model_name": "FloatProgressModel",
     "state": {
      "_dom_classes": [],
      "_model_module": "@jupyter-widgets/controls",
      "_model_module_version": "1.5.0",
      "_model_name": "FloatProgressModel",
      "_view_count": null,
      "_view_module": "@jupyter-widgets/controls",
      "_view_module_version": "1.5.0",
      "_view_name": "ProgressView",
      "bar_style": "",
      "description": "",
      "description_tooltip": null,
      "layout": "IPY_MODEL_37a8e80f8ef54ccb80dde56338da1a2e",
      "max": 1,
      "min": 0,
      "orientation": "horizontal",
      "style": "IPY_MODEL_8ce5000e8b2a4297a1327710fa525349",
      "value": 1
     }
    },
    "c9a2f400df5d4a28ab599c6f0ccceda9": {
     "model_module": "@jupyter-widgets/base",
     "model_module_version": "1.2.0",
     "model_name": "LayoutModel",
     "state": {
      "_model_module": "@jupyter-widgets/base",
      "_model_module_version": "1.2.0",
      "_model_name": "LayoutModel",
      "_view_count": null,
      "_view_module": "@jupyter-widgets/base",
      "_view_module_version": "1.2.0",
      "_view_name": "LayoutView",
      "align_content": null,
      "align_items": null,
      "align_self": null,
      "border": null,
      "bottom": null,
      "display": null,
      "flex": null,
      "flex_flow": null,
      "grid_area": null,
      "grid_auto_columns": null,
      "grid_auto_flow": null,
      "grid_auto_rows": null,
      "grid_column": null,
      "grid_gap": null,
      "grid_row": null,
      "grid_template_areas": null,
      "grid_template_columns": null,
      "grid_template_rows": null,
      "height": null,
      "justify_content": null,
      "justify_items": null,
      "left": null,
      "margin": null,
      "max_height": null,
      "max_width": null,
      "min_height": null,
      "min_width": null,
      "object_fit": null,
      "object_position": null,
      "order": null,
      "overflow": null,
      "overflow_x": null,
      "overflow_y": null,
      "padding": null,
      "right": null,
      "top": null,
      "visibility": null,
      "width": null
     }
    },
    "c9a7e8790019489aa7735ce94e8b64da": {
     "model_module": "@jupyter-widgets/base",
     "model_module_version": "1.2.0",
     "model_name": "LayoutModel",
     "state": {
      "_model_module": "@jupyter-widgets/base",
      "_model_module_version": "1.2.0",
      "_model_name": "LayoutModel",
      "_view_count": null,
      "_view_module": "@jupyter-widgets/base",
      "_view_module_version": "1.2.0",
      "_view_name": "LayoutView",
      "align_content": null,
      "align_items": null,
      "align_self": null,
      "border": null,
      "bottom": null,
      "display": null,
      "flex": null,
      "flex_flow": null,
      "grid_area": null,
      "grid_auto_columns": null,
      "grid_auto_flow": null,
      "grid_auto_rows": null,
      "grid_column": null,
      "grid_gap": null,
      "grid_row": null,
      "grid_template_areas": null,
      "grid_template_columns": null,
      "grid_template_rows": null,
      "height": null,
      "justify_content": null,
      "justify_items": null,
      "left": null,
      "margin": null,
      "max_height": null,
      "max_width": null,
      "min_height": null,
      "min_width": null,
      "object_fit": null,
      "object_position": null,
      "order": null,
      "overflow": null,
      "overflow_x": null,
      "overflow_y": null,
      "padding": null,
      "right": null,
      "top": null,
      "visibility": null,
      "width": null
     }
    },
    "cb66cdd1fbd64083b7e843e8e0c52af1": {
     "model_module": "@jupyter-widgets/controls",
     "model_module_version": "1.5.0",
     "model_name": "ProgressStyleModel",
     "state": {
      "_model_module": "@jupyter-widgets/controls",
      "_model_module_version": "1.5.0",
      "_model_name": "ProgressStyleModel",
      "_view_count": null,
      "_view_module": "@jupyter-widgets/base",
      "_view_module_version": "1.2.0",
      "_view_name": "StyleView",
      "bar_color": null,
      "description_width": ""
     }
    },
    "cc7f2693156c41448f79c8eced695c3c": {
     "model_module": "@jupyter-widgets/controls",
     "model_module_version": "1.5.0",
     "model_name": "HTMLModel",
     "state": {
      "_dom_classes": [],
      "_model_module": "@jupyter-widgets/controls",
      "_model_module_version": "1.5.0",
      "_model_name": "HTMLModel",
      "_view_count": null,
      "_view_module": "@jupyter-widgets/controls",
      "_view_module_version": "1.5.0",
      "_view_name": "HTMLView",
      "description": "",
      "description_tooltip": null,
      "layout": "IPY_MODEL_938f299db4144929bd552ef9541aa191",
      "placeholder": "​",
      "style": "IPY_MODEL_cffbcc86352c4748830aec72284de834",
      "value": "tokenizer.json: 100%"
     }
    },
    "cda5ec4e2a2f4e3bbec60201a7f315c7": {
     "model_module": "@jupyter-widgets/base",
     "model_module_version": "1.2.0",
     "model_name": "LayoutModel",
     "state": {
      "_model_module": "@jupyter-widgets/base",
      "_model_module_version": "1.2.0",
      "_model_name": "LayoutModel",
      "_view_count": null,
      "_view_module": "@jupyter-widgets/base",
      "_view_module_version": "1.2.0",
      "_view_name": "LayoutView",
      "align_content": null,
      "align_items": null,
      "align_self": null,
      "border": null,
      "bottom": null,
      "display": null,
      "flex": null,
      "flex_flow": null,
      "grid_area": null,
      "grid_auto_columns": null,
      "grid_auto_flow": null,
      "grid_auto_rows": null,
      "grid_column": null,
      "grid_gap": null,
      "grid_row": null,
      "grid_template_areas": null,
      "grid_template_columns": null,
      "grid_template_rows": null,
      "height": null,
      "justify_content": null,
      "justify_items": null,
      "left": null,
      "margin": null,
      "max_height": null,
      "max_width": null,
      "min_height": null,
      "min_width": null,
      "object_fit": null,
      "object_position": null,
      "order": null,
      "overflow": null,
      "overflow_x": null,
      "overflow_y": null,
      "padding": null,
      "right": null,
      "top": null,
      "visibility": null,
      "width": null
     }
    },
    "cdad8a8ecf3044329ee0abcba5d0ce12": {
     "model_module": "@jupyter-widgets/controls",
     "model_module_version": "1.5.0",
     "model_name": "HBoxModel",
     "state": {
      "_dom_classes": [],
      "_model_module": "@jupyter-widgets/controls",
      "_model_module_version": "1.5.0",
      "_model_name": "HBoxModel",
      "_view_count": null,
      "_view_module": "@jupyter-widgets/controls",
      "_view_module_version": "1.5.0",
      "_view_name": "HBoxView",
      "box_style": "",
      "children": [
       "IPY_MODEL_2727425a0b2645d2948e0104143fdc88",
       "IPY_MODEL_a259c1339a39432882c7784769ee58a5",
       "IPY_MODEL_a7e025dcfd3b45458fae78a22099c26f"
      ],
      "layout": "IPY_MODEL_4ac5b8a1c34c4a8b9ab0fb2bc390a154"
     }
    },
    "ce8250fda3394383aedaf9ae7855d9ab": {
     "model_module": "@jupyter-widgets/controls",
     "model_module_version": "1.5.0",
     "model_name": "DescriptionStyleModel",
     "state": {
      "_model_module": "@jupyter-widgets/controls",
      "_model_module_version": "1.5.0",
      "_model_name": "DescriptionStyleModel",
      "_view_count": null,
      "_view_module": "@jupyter-widgets/base",
      "_view_module_version": "1.2.0",
      "_view_name": "StyleView",
      "description_width": ""
     }
    },
    "cf53d5bd7fe3493ea9105029ac0bd3b0": {
     "model_module": "@jupyter-widgets/controls",
     "model_module_version": "1.5.0",
     "model_name": "DescriptionStyleModel",
     "state": {
      "_model_module": "@jupyter-widgets/controls",
      "_model_module_version": "1.5.0",
      "_model_name": "DescriptionStyleModel",
      "_view_count": null,
      "_view_module": "@jupyter-widgets/base",
      "_view_module_version": "1.2.0",
      "_view_name": "StyleView",
      "description_width": ""
     }
    },
    "cfee40090c1c4172a9528fc3e88f6393": {
     "model_module": "@jupyter-widgets/base",
     "model_module_version": "1.2.0",
     "model_name": "LayoutModel",
     "state": {
      "_model_module": "@jupyter-widgets/base",
      "_model_module_version": "1.2.0",
      "_model_name": "LayoutModel",
      "_view_count": null,
      "_view_module": "@jupyter-widgets/base",
      "_view_module_version": "1.2.0",
      "_view_name": "LayoutView",
      "align_content": null,
      "align_items": null,
      "align_self": null,
      "border": null,
      "bottom": null,
      "display": null,
      "flex": null,
      "flex_flow": null,
      "grid_area": null,
      "grid_auto_columns": null,
      "grid_auto_flow": null,
      "grid_auto_rows": null,
      "grid_column": null,
      "grid_gap": null,
      "grid_row": null,
      "grid_template_areas": null,
      "grid_template_columns": null,
      "grid_template_rows": null,
      "height": null,
      "justify_content": null,
      "justify_items": null,
      "left": null,
      "margin": null,
      "max_height": null,
      "max_width": null,
      "min_height": null,
      "min_width": null,
      "object_fit": null,
      "object_position": null,
      "order": null,
      "overflow": null,
      "overflow_x": null,
      "overflow_y": null,
      "padding": null,
      "right": null,
      "top": null,
      "visibility": null,
      "width": null
     }
    },
    "cffbcc86352c4748830aec72284de834": {
     "model_module": "@jupyter-widgets/controls",
     "model_module_version": "1.5.0",
     "model_name": "DescriptionStyleModel",
     "state": {
      "_model_module": "@jupyter-widgets/controls",
      "_model_module_version": "1.5.0",
      "_model_name": "DescriptionStyleModel",
      "_view_count": null,
      "_view_module": "@jupyter-widgets/base",
      "_view_module_version": "1.2.0",
      "_view_name": "StyleView",
      "description_width": ""
     }
    },
    "d0985bac60d0437a878e857242d488c5": {
     "model_module": "@jupyter-widgets/controls",
     "model_module_version": "1.5.0",
     "model_name": "DescriptionStyleModel",
     "state": {
      "_model_module": "@jupyter-widgets/controls",
      "_model_module_version": "1.5.0",
      "_model_name": "DescriptionStyleModel",
      "_view_count": null,
      "_view_module": "@jupyter-widgets/base",
      "_view_module_version": "1.2.0",
      "_view_name": "StyleView",
      "description_width": ""
     }
    },
    "d11b0d2e6abf44e19a586466e3891c8d": {
     "model_module": "@jupyter-widgets/controls",
     "model_module_version": "1.5.0",
     "model_name": "HBoxModel",
     "state": {
      "_dom_classes": [],
      "_model_module": "@jupyter-widgets/controls",
      "_model_module_version": "1.5.0",
      "_model_name": "HBoxModel",
      "_view_count": null,
      "_view_module": "@jupyter-widgets/controls",
      "_view_module_version": "1.5.0",
      "_view_name": "HBoxView",
      "box_style": "",
      "children": [
       "IPY_MODEL_bb5b369966be4d6093baae112d365d4f",
       "IPY_MODEL_fb8b41742fca4a8eb1899e9fadfda47e",
       "IPY_MODEL_703afedd2d8249e09d1994e7f7f09ff4"
      ],
      "layout": "IPY_MODEL_6f2c853332be440e95db2697391f0709"
     }
    },
    "d19e6407ce24445580c7cd27ef09aa70": {
     "model_module": "@jupyter-widgets/controls",
     "model_module_version": "1.5.0",
     "model_name": "ProgressStyleModel",
     "state": {
      "_model_module": "@jupyter-widgets/controls",
      "_model_module_version": "1.5.0",
      "_model_name": "ProgressStyleModel",
      "_view_count": null,
      "_view_module": "@jupyter-widgets/base",
      "_view_module_version": "1.2.0",
      "_view_name": "StyleView",
      "bar_color": null,
      "description_width": ""
     }
    },
    "d21cd9d6d9314031ad50df4a01a0c787": {
     "model_module": "@jupyter-widgets/controls",
     "model_module_version": "1.5.0",
     "model_name": "HTMLModel",
     "state": {
      "_dom_classes": [],
      "_model_module": "@jupyter-widgets/controls",
      "_model_module_version": "1.5.0",
      "_model_name": "HTMLModel",
      "_view_count": null,
      "_view_module": "@jupyter-widgets/controls",
      "_view_module_version": "1.5.0",
      "_view_name": "HTMLView",
      "description": "",
      "description_tooltip": null,
      "layout": "IPY_MODEL_fcd0cccaac2945f283d5d3839ec88fe9",
      "placeholder": "​",
      "style": "IPY_MODEL_ea6d76489b3145019294c6b4bea5ef43",
      "value": " 25.0/25.0 [00:00&lt;00:00, 3.07kB/s]"
     }
    },
    "d2bc5ea8dd8e4715953b42720a695749": {
     "model_module": "@jupyter-widgets/base",
     "model_module_version": "1.2.0",
     "model_name": "LayoutModel",
     "state": {
      "_model_module": "@jupyter-widgets/base",
      "_model_module_version": "1.2.0",
      "_model_name": "LayoutModel",
      "_view_count": null,
      "_view_module": "@jupyter-widgets/base",
      "_view_module_version": "1.2.0",
      "_view_name": "LayoutView",
      "align_content": null,
      "align_items": null,
      "align_self": null,
      "border": null,
      "bottom": null,
      "display": null,
      "flex": null,
      "flex_flow": null,
      "grid_area": null,
      "grid_auto_columns": null,
      "grid_auto_flow": null,
      "grid_auto_rows": null,
      "grid_column": null,
      "grid_gap": null,
      "grid_row": null,
      "grid_template_areas": null,
      "grid_template_columns": null,
      "grid_template_rows": null,
      "height": null,
      "justify_content": null,
      "justify_items": null,
      "left": null,
      "margin": null,
      "max_height": null,
      "max_width": null,
      "min_height": null,
      "min_width": null,
      "object_fit": null,
      "object_position": null,
      "order": null,
      "overflow": null,
      "overflow_x": null,
      "overflow_y": null,
      "padding": null,
      "right": null,
      "top": null,
      "visibility": null,
      "width": null
     }
    },
    "d5a7440af9fd4192a0a214faab06ad30": {
     "model_module": "@jupyter-widgets/controls",
     "model_module_version": "1.5.0",
     "model_name": "ProgressStyleModel",
     "state": {
      "_model_module": "@jupyter-widgets/controls",
      "_model_module_version": "1.5.0",
      "_model_name": "ProgressStyleModel",
      "_view_count": null,
      "_view_module": "@jupyter-widgets/base",
      "_view_module_version": "1.2.0",
      "_view_name": "StyleView",
      "bar_color": null,
      "description_width": ""
     }
    },
    "d6c23af7e53149058bfb2aa5ddbd1dba": {
     "model_module": "@jupyter-widgets/controls",
     "model_module_version": "1.5.0",
     "model_name": "DescriptionStyleModel",
     "state": {
      "_model_module": "@jupyter-widgets/controls",
      "_model_module_version": "1.5.0",
      "_model_name": "DescriptionStyleModel",
      "_view_count": null,
      "_view_module": "@jupyter-widgets/base",
      "_view_module_version": "1.2.0",
      "_view_name": "StyleView",
      "description_width": ""
     }
    },
    "d6e0b3559be5474d8f0727a62a0adf61": {
     "model_module": "@jupyter-widgets/controls",
     "model_module_version": "1.5.0",
     "model_name": "LabelModel",
     "state": {
      "_dom_classes": [],
      "_model_module": "@jupyter-widgets/controls",
      "_model_module_version": "1.5.0",
      "_model_name": "LabelModel",
      "_view_count": null,
      "_view_module": "@jupyter-widgets/controls",
      "_view_module_version": "1.5.0",
      "_view_name": "LabelView",
      "description": "",
      "description_tooltip": null,
      "layout": "IPY_MODEL_b2f4d7f1f7c1485293592ba950f7d636",
      "placeholder": "​",
      "style": "IPY_MODEL_6a0f7d42174d4defb126171e0d3069eb",
      "value": "0.019 MB of 0.019 MB uploaded\r"
     }
    },
    "d7a0f05ed78849f9bd9b2179a907a5b6": {
     "model_module": "@jupyter-widgets/controls",
     "model_module_version": "1.5.0",
     "model_name": "DescriptionStyleModel",
     "state": {
      "_model_module": "@jupyter-widgets/controls",
      "_model_module_version": "1.5.0",
      "_model_name": "DescriptionStyleModel",
      "_view_count": null,
      "_view_module": "@jupyter-widgets/base",
      "_view_module_version": "1.2.0",
      "_view_name": "StyleView",
      "description_width": ""
     }
    },
    "d877af212b31448586f94dd31131e446": {
     "model_module": "@jupyter-widgets/controls",
     "model_module_version": "1.5.0",
     "model_name": "DescriptionStyleModel",
     "state": {
      "_model_module": "@jupyter-widgets/controls",
      "_model_module_version": "1.5.0",
      "_model_name": "DescriptionStyleModel",
      "_view_count": null,
      "_view_module": "@jupyter-widgets/base",
      "_view_module_version": "1.2.0",
      "_view_name": "StyleView",
      "description_width": ""
     }
    },
    "d8adb442a51e48e69097541c26b0b686": {
     "model_module": "@jupyter-widgets/base",
     "model_module_version": "1.2.0",
     "model_name": "LayoutModel",
     "state": {
      "_model_module": "@jupyter-widgets/base",
      "_model_module_version": "1.2.0",
      "_model_name": "LayoutModel",
      "_view_count": null,
      "_view_module": "@jupyter-widgets/base",
      "_view_module_version": "1.2.0",
      "_view_name": "LayoutView",
      "align_content": null,
      "align_items": null,
      "align_self": null,
      "border": null,
      "bottom": null,
      "display": null,
      "flex": null,
      "flex_flow": null,
      "grid_area": null,
      "grid_auto_columns": null,
      "grid_auto_flow": null,
      "grid_auto_rows": null,
      "grid_column": null,
      "grid_gap": null,
      "grid_row": null,
      "grid_template_areas": null,
      "grid_template_columns": null,
      "grid_template_rows": null,
      "height": null,
      "justify_content": null,
      "justify_items": null,
      "left": null,
      "margin": null,
      "max_height": null,
      "max_width": null,
      "min_height": null,
      "min_width": null,
      "object_fit": null,
      "object_position": null,
      "order": null,
      "overflow": null,
      "overflow_x": null,
      "overflow_y": null,
      "padding": null,
      "right": null,
      "top": null,
      "visibility": null,
      "width": null
     }
    },
    "d8b293b6a7b8481ca9cc36206659b3da": {
     "model_module": "@jupyter-widgets/base",
     "model_module_version": "1.2.0",
     "model_name": "LayoutModel",
     "state": {
      "_model_module": "@jupyter-widgets/base",
      "_model_module_version": "1.2.0",
      "_model_name": "LayoutModel",
      "_view_count": null,
      "_view_module": "@jupyter-widgets/base",
      "_view_module_version": "1.2.0",
      "_view_name": "LayoutView",
      "align_content": null,
      "align_items": null,
      "align_self": null,
      "border": null,
      "bottom": null,
      "display": null,
      "flex": null,
      "flex_flow": null,
      "grid_area": null,
      "grid_auto_columns": null,
      "grid_auto_flow": null,
      "grid_auto_rows": null,
      "grid_column": null,
      "grid_gap": null,
      "grid_row": null,
      "grid_template_areas": null,
      "grid_template_columns": null,
      "grid_template_rows": null,
      "height": null,
      "justify_content": null,
      "justify_items": null,
      "left": null,
      "margin": null,
      "max_height": null,
      "max_width": null,
      "min_height": null,
      "min_width": null,
      "object_fit": null,
      "object_position": null,
      "order": null,
      "overflow": null,
      "overflow_x": null,
      "overflow_y": null,
      "padding": null,
      "right": null,
      "top": null,
      "visibility": null,
      "width": null
     }
    },
    "d9dacf2ad9be43ea9e9feddbd34e9abd": {
     "model_module": "@jupyter-widgets/controls",
     "model_module_version": "1.5.0",
     "model_name": "DescriptionStyleModel",
     "state": {
      "_model_module": "@jupyter-widgets/controls",
      "_model_module_version": "1.5.0",
      "_model_name": "DescriptionStyleModel",
      "_view_count": null,
      "_view_module": "@jupyter-widgets/base",
      "_view_module_version": "1.2.0",
      "_view_name": "StyleView",
      "description_width": ""
     }
    },
    "da5dd3bc8cdf4156aee20c8ae769ee10": {
     "model_module": "@jupyter-widgets/controls",
     "model_module_version": "1.5.0",
     "model_name": "FloatProgressModel",
     "state": {
      "_dom_classes": [],
      "_model_module": "@jupyter-widgets/controls",
      "_model_module_version": "1.5.0",
      "_model_name": "FloatProgressModel",
      "_view_count": null,
      "_view_module": "@jupyter-widgets/controls",
      "_view_module_version": "1.5.0",
      "_view_name": "ProgressView",
      "bar_style": "",
      "description": "",
      "description_tooltip": null,
      "layout": "IPY_MODEL_9dd7b83289e247698eafecbe42777ae5",
      "max": 1,
      "min": 0,
      "orientation": "horizontal",
      "style": "IPY_MODEL_c4d0ba44179245dc8f2f0315302c0966",
      "value": 1
     }
    },
    "da83ff42c5a04716a2b21a08c2814ce3": {
     "model_module": "@jupyter-widgets/base",
     "model_module_version": "1.2.0",
     "model_name": "LayoutModel",
     "state": {
      "_model_module": "@jupyter-widgets/base",
      "_model_module_version": "1.2.0",
      "_model_name": "LayoutModel",
      "_view_count": null,
      "_view_module": "@jupyter-widgets/base",
      "_view_module_version": "1.2.0",
      "_view_name": "LayoutView",
      "align_content": null,
      "align_items": null,
      "align_self": null,
      "border": null,
      "bottom": null,
      "display": null,
      "flex": null,
      "flex_flow": null,
      "grid_area": null,
      "grid_auto_columns": null,
      "grid_auto_flow": null,
      "grid_auto_rows": null,
      "grid_column": null,
      "grid_gap": null,
      "grid_row": null,
      "grid_template_areas": null,
      "grid_template_columns": null,
      "grid_template_rows": null,
      "height": null,
      "justify_content": null,
      "justify_items": null,
      "left": null,
      "margin": null,
      "max_height": null,
      "max_width": null,
      "min_height": null,
      "min_width": null,
      "object_fit": null,
      "object_position": null,
      "order": null,
      "overflow": null,
      "overflow_x": null,
      "overflow_y": null,
      "padding": null,
      "right": null,
      "top": null,
      "visibility": null,
      "width": null
     }
    },
    "dac01a2eff8f4688aaa69351ff61fac8": {
     "model_module": "@jupyter-widgets/controls",
     "model_module_version": "1.5.0",
     "model_name": "LabelModel",
     "state": {
      "_dom_classes": [],
      "_model_module": "@jupyter-widgets/controls",
      "_model_module_version": "1.5.0",
      "_model_name": "LabelModel",
      "_view_count": null,
      "_view_module": "@jupyter-widgets/controls",
      "_view_module_version": "1.5.0",
      "_view_name": "LabelView",
      "description": "",
      "description_tooltip": null,
      "layout": "IPY_MODEL_7d53766f303f425f96dd91ffc5017ddf",
      "placeholder": "​",
      "style": "IPY_MODEL_ae377ce5cf2c40cda3f1c73ec877aac4",
      "value": "0.018 MB of 0.018 MB uploaded\r"
     }
    },
    "dba3ebce94d24130986c60763542c8d8": {
     "model_module": "@jupyter-widgets/base",
     "model_module_version": "1.2.0",
     "model_name": "LayoutModel",
     "state": {
      "_model_module": "@jupyter-widgets/base",
      "_model_module_version": "1.2.0",
      "_model_name": "LayoutModel",
      "_view_count": null,
      "_view_module": "@jupyter-widgets/base",
      "_view_module_version": "1.2.0",
      "_view_name": "LayoutView",
      "align_content": null,
      "align_items": null,
      "align_self": null,
      "border": null,
      "bottom": null,
      "display": null,
      "flex": null,
      "flex_flow": null,
      "grid_area": null,
      "grid_auto_columns": null,
      "grid_auto_flow": null,
      "grid_auto_rows": null,
      "grid_column": null,
      "grid_gap": null,
      "grid_row": null,
      "grid_template_areas": null,
      "grid_template_columns": null,
      "grid_template_rows": null,
      "height": null,
      "justify_content": null,
      "justify_items": null,
      "left": null,
      "margin": null,
      "max_height": null,
      "max_width": null,
      "min_height": null,
      "min_width": null,
      "object_fit": null,
      "object_position": null,
      "order": null,
      "overflow": null,
      "overflow_x": null,
      "overflow_y": null,
      "padding": null,
      "right": null,
      "top": null,
      "visibility": null,
      "width": null
     }
    },
    "dc0379efed47483c93cc59415d8d72f4": {
     "model_module": "@jupyter-widgets/controls",
     "model_module_version": "1.5.0",
     "model_name": "DescriptionStyleModel",
     "state": {
      "_model_module": "@jupyter-widgets/controls",
      "_model_module_version": "1.5.0",
      "_model_name": "DescriptionStyleModel",
      "_view_count": null,
      "_view_module": "@jupyter-widgets/base",
      "_view_module_version": "1.2.0",
      "_view_name": "StyleView",
      "description_width": ""
     }
    },
    "dc6ec0bfdda44186bf0e283a02b27967": {
     "model_module": "@jupyter-widgets/base",
     "model_module_version": "1.2.0",
     "model_name": "LayoutModel",
     "state": {
      "_model_module": "@jupyter-widgets/base",
      "_model_module_version": "1.2.0",
      "_model_name": "LayoutModel",
      "_view_count": null,
      "_view_module": "@jupyter-widgets/base",
      "_view_module_version": "1.2.0",
      "_view_name": "LayoutView",
      "align_content": null,
      "align_items": null,
      "align_self": null,
      "border": null,
      "bottom": null,
      "display": null,
      "flex": null,
      "flex_flow": null,
      "grid_area": null,
      "grid_auto_columns": null,
      "grid_auto_flow": null,
      "grid_auto_rows": null,
      "grid_column": null,
      "grid_gap": null,
      "grid_row": null,
      "grid_template_areas": null,
      "grid_template_columns": null,
      "grid_template_rows": null,
      "height": null,
      "justify_content": null,
      "justify_items": null,
      "left": null,
      "margin": null,
      "max_height": null,
      "max_width": null,
      "min_height": null,
      "min_width": null,
      "object_fit": null,
      "object_position": null,
      "order": null,
      "overflow": null,
      "overflow_x": null,
      "overflow_y": null,
      "padding": null,
      "right": null,
      "top": null,
      "visibility": null,
      "width": null
     }
    },
    "dceea4777a1c4867a8d9926bce1c6ec7": {
     "model_module": "@jupyter-widgets/base",
     "model_module_version": "1.2.0",
     "model_name": "LayoutModel",
     "state": {
      "_model_module": "@jupyter-widgets/base",
      "_model_module_version": "1.2.0",
      "_model_name": "LayoutModel",
      "_view_count": null,
      "_view_module": "@jupyter-widgets/base",
      "_view_module_version": "1.2.0",
      "_view_name": "LayoutView",
      "align_content": null,
      "align_items": null,
      "align_self": null,
      "border": null,
      "bottom": null,
      "display": null,
      "flex": null,
      "flex_flow": null,
      "grid_area": null,
      "grid_auto_columns": null,
      "grid_auto_flow": null,
      "grid_auto_rows": null,
      "grid_column": null,
      "grid_gap": null,
      "grid_row": null,
      "grid_template_areas": null,
      "grid_template_columns": null,
      "grid_template_rows": null,
      "height": null,
      "justify_content": null,
      "justify_items": null,
      "left": null,
      "margin": null,
      "max_height": null,
      "max_width": null,
      "min_height": null,
      "min_width": null,
      "object_fit": null,
      "object_position": null,
      "order": null,
      "overflow": null,
      "overflow_x": null,
      "overflow_y": null,
      "padding": null,
      "right": null,
      "top": null,
      "visibility": null,
      "width": null
     }
    },
    "dd2ce5ecb7c340659287ea6c89584c5c": {
     "model_module": "@jupyter-widgets/base",
     "model_module_version": "1.2.0",
     "model_name": "LayoutModel",
     "state": {
      "_model_module": "@jupyter-widgets/base",
      "_model_module_version": "1.2.0",
      "_model_name": "LayoutModel",
      "_view_count": null,
      "_view_module": "@jupyter-widgets/base",
      "_view_module_version": "1.2.0",
      "_view_name": "LayoutView",
      "align_content": null,
      "align_items": null,
      "align_self": null,
      "border": null,
      "bottom": null,
      "display": null,
      "flex": null,
      "flex_flow": null,
      "grid_area": null,
      "grid_auto_columns": null,
      "grid_auto_flow": null,
      "grid_auto_rows": null,
      "grid_column": null,
      "grid_gap": null,
      "grid_row": null,
      "grid_template_areas": null,
      "grid_template_columns": null,
      "grid_template_rows": null,
      "height": null,
      "justify_content": null,
      "justify_items": null,
      "left": null,
      "margin": null,
      "max_height": null,
      "max_width": null,
      "min_height": null,
      "min_width": null,
      "object_fit": null,
      "object_position": null,
      "order": null,
      "overflow": null,
      "overflow_x": null,
      "overflow_y": null,
      "padding": null,
      "right": null,
      "top": null,
      "visibility": null,
      "width": null
     }
    },
    "de141ef5120a49758d4d6597c788e50c": {
     "model_module": "@jupyter-widgets/controls",
     "model_module_version": "1.5.0",
     "model_name": "VBoxModel",
     "state": {
      "_dom_classes": [],
      "_model_module": "@jupyter-widgets/controls",
      "_model_module_version": "1.5.0",
      "_model_name": "VBoxModel",
      "_view_count": null,
      "_view_module": "@jupyter-widgets/controls",
      "_view_module_version": "1.5.0",
      "_view_name": "VBoxView",
      "box_style": "",
      "children": [
       "IPY_MODEL_0849ac26a57c49fda490b3e367d0b876",
       "IPY_MODEL_da5dd3bc8cdf4156aee20c8ae769ee10"
      ],
      "layout": "IPY_MODEL_a6d5bcb523d747e4af6c033c3e356ea7"
     }
    },
    "e25a0ed32fd64e8a9d1fea29e51e3abc": {
     "model_module": "@jupyter-widgets/base",
     "model_module_version": "1.2.0",
     "model_name": "LayoutModel",
     "state": {
      "_model_module": "@jupyter-widgets/base",
      "_model_module_version": "1.2.0",
      "_model_name": "LayoutModel",
      "_view_count": null,
      "_view_module": "@jupyter-widgets/base",
      "_view_module_version": "1.2.0",
      "_view_name": "LayoutView",
      "align_content": null,
      "align_items": null,
      "align_self": null,
      "border": null,
      "bottom": null,
      "display": null,
      "flex": null,
      "flex_flow": null,
      "grid_area": null,
      "grid_auto_columns": null,
      "grid_auto_flow": null,
      "grid_auto_rows": null,
      "grid_column": null,
      "grid_gap": null,
      "grid_row": null,
      "grid_template_areas": null,
      "grid_template_columns": null,
      "grid_template_rows": null,
      "height": null,
      "justify_content": null,
      "justify_items": null,
      "left": null,
      "margin": null,
      "max_height": null,
      "max_width": null,
      "min_height": null,
      "min_width": null,
      "object_fit": null,
      "object_position": null,
      "order": null,
      "overflow": null,
      "overflow_x": null,
      "overflow_y": null,
      "padding": null,
      "right": null,
      "top": null,
      "visibility": null,
      "width": null
     }
    },
    "e441b59eef3a45bc8bfe3fcc8b209bfc": {
     "model_module": "@jupyter-widgets/base",
     "model_module_version": "1.2.0",
     "model_name": "LayoutModel",
     "state": {
      "_model_module": "@jupyter-widgets/base",
      "_model_module_version": "1.2.0",
      "_model_name": "LayoutModel",
      "_view_count": null,
      "_view_module": "@jupyter-widgets/base",
      "_view_module_version": "1.2.0",
      "_view_name": "LayoutView",
      "align_content": null,
      "align_items": null,
      "align_self": null,
      "border": null,
      "bottom": null,
      "display": null,
      "flex": null,
      "flex_flow": null,
      "grid_area": null,
      "grid_auto_columns": null,
      "grid_auto_flow": null,
      "grid_auto_rows": null,
      "grid_column": null,
      "grid_gap": null,
      "grid_row": null,
      "grid_template_areas": null,
      "grid_template_columns": null,
      "grid_template_rows": null,
      "height": null,
      "justify_content": null,
      "justify_items": null,
      "left": null,
      "margin": null,
      "max_height": null,
      "max_width": null,
      "min_height": null,
      "min_width": null,
      "object_fit": null,
      "object_position": null,
      "order": null,
      "overflow": null,
      "overflow_x": null,
      "overflow_y": null,
      "padding": null,
      "right": null,
      "top": null,
      "visibility": null,
      "width": null
     }
    },
    "e4ccb83306444c0a90fc7f5fc8c40750": {
     "model_module": "@jupyter-widgets/controls",
     "model_module_version": "1.5.0",
     "model_name": "LabelModel",
     "state": {
      "_dom_classes": [],
      "_model_module": "@jupyter-widgets/controls",
      "_model_module_version": "1.5.0",
      "_model_name": "LabelModel",
      "_view_count": null,
      "_view_module": "@jupyter-widgets/controls",
      "_view_module_version": "1.5.0",
      "_view_name": "LabelView",
      "description": "",
      "description_tooltip": null,
      "layout": "IPY_MODEL_dc6ec0bfdda44186bf0e283a02b27967",
      "placeholder": "​",
      "style": "IPY_MODEL_5555f4fa6f63485991a62caa06641c9b",
      "value": "0.022 MB of 0.022 MB uploaded\r"
     }
    },
    "e52e57d5a95c445ea25351f302d5160d": {
     "model_module": "@jupyter-widgets/base",
     "model_module_version": "1.2.0",
     "model_name": "LayoutModel",
     "state": {
      "_model_module": "@jupyter-widgets/base",
      "_model_module_version": "1.2.0",
      "_model_name": "LayoutModel",
      "_view_count": null,
      "_view_module": "@jupyter-widgets/base",
      "_view_module_version": "1.2.0",
      "_view_name": "LayoutView",
      "align_content": null,
      "align_items": null,
      "align_self": null,
      "border": null,
      "bottom": null,
      "display": null,
      "flex": null,
      "flex_flow": null,
      "grid_area": null,
      "grid_auto_columns": null,
      "grid_auto_flow": null,
      "grid_auto_rows": null,
      "grid_column": null,
      "grid_gap": null,
      "grid_row": null,
      "grid_template_areas": null,
      "grid_template_columns": null,
      "grid_template_rows": null,
      "height": null,
      "justify_content": null,
      "justify_items": null,
      "left": null,
      "margin": null,
      "max_height": null,
      "max_width": null,
      "min_height": null,
      "min_width": null,
      "object_fit": null,
      "object_position": null,
      "order": null,
      "overflow": null,
      "overflow_x": null,
      "overflow_y": null,
      "padding": null,
      "right": null,
      "top": null,
      "visibility": null,
      "width": null
     }
    },
    "e55f5534d39a4f22aabb879e16910eb5": {
     "model_module": "@jupyter-widgets/base",
     "model_module_version": "1.2.0",
     "model_name": "LayoutModel",
     "state": {
      "_model_module": "@jupyter-widgets/base",
      "_model_module_version": "1.2.0",
      "_model_name": "LayoutModel",
      "_view_count": null,
      "_view_module": "@jupyter-widgets/base",
      "_view_module_version": "1.2.0",
      "_view_name": "LayoutView",
      "align_content": null,
      "align_items": null,
      "align_self": null,
      "border": null,
      "bottom": null,
      "display": null,
      "flex": null,
      "flex_flow": null,
      "grid_area": null,
      "grid_auto_columns": null,
      "grid_auto_flow": null,
      "grid_auto_rows": null,
      "grid_column": null,
      "grid_gap": null,
      "grid_row": null,
      "grid_template_areas": null,
      "grid_template_columns": null,
      "grid_template_rows": null,
      "height": null,
      "justify_content": null,
      "justify_items": null,
      "left": null,
      "margin": null,
      "max_height": null,
      "max_width": null,
      "min_height": null,
      "min_width": null,
      "object_fit": null,
      "object_position": null,
      "order": null,
      "overflow": null,
      "overflow_x": null,
      "overflow_y": null,
      "padding": null,
      "right": null,
      "top": null,
      "visibility": null,
      "width": null
     }
    },
    "e5d0618961cd48b5a0780dcf3fa9ab9c": {
     "model_module": "@jupyter-widgets/base",
     "model_module_version": "1.2.0",
     "model_name": "LayoutModel",
     "state": {
      "_model_module": "@jupyter-widgets/base",
      "_model_module_version": "1.2.0",
      "_model_name": "LayoutModel",
      "_view_count": null,
      "_view_module": "@jupyter-widgets/base",
      "_view_module_version": "1.2.0",
      "_view_name": "LayoutView",
      "align_content": null,
      "align_items": null,
      "align_self": null,
      "border": null,
      "bottom": null,
      "display": null,
      "flex": null,
      "flex_flow": null,
      "grid_area": null,
      "grid_auto_columns": null,
      "grid_auto_flow": null,
      "grid_auto_rows": null,
      "grid_column": null,
      "grid_gap": null,
      "grid_row": null,
      "grid_template_areas": null,
      "grid_template_columns": null,
      "grid_template_rows": null,
      "height": null,
      "justify_content": null,
      "justify_items": null,
      "left": null,
      "margin": null,
      "max_height": null,
      "max_width": null,
      "min_height": null,
      "min_width": null,
      "object_fit": null,
      "object_position": null,
      "order": null,
      "overflow": null,
      "overflow_x": null,
      "overflow_y": null,
      "padding": null,
      "right": null,
      "top": null,
      "visibility": null,
      "width": null
     }
    },
    "e67f43122d0a43ed838d19b7b85aa92a": {
     "model_module": "@jupyter-widgets/controls",
     "model_module_version": "1.5.0",
     "model_name": "HTMLModel",
     "state": {
      "_dom_classes": [],
      "_model_module": "@jupyter-widgets/controls",
      "_model_module_version": "1.5.0",
      "_model_name": "HTMLModel",
      "_view_count": null,
      "_view_module": "@jupyter-widgets/controls",
      "_view_module_version": "1.5.0",
      "_view_name": "HTMLView",
      "description": "",
      "description_tooltip": null,
      "layout": "IPY_MODEL_2d70669554624b7d8fc8a0ea2592c78c",
      "placeholder": "​",
      "style": "IPY_MODEL_cf53d5bd7fe3493ea9105029ac0bd3b0",
      "value": " 481/481 [00:00&lt;00:00, 60.1kB/s]"
     }
    },
    "e7c3689c70754e0e86a7188f7960f523": {
     "model_module": "@jupyter-widgets/controls",
     "model_module_version": "1.5.0",
     "model_name": "DescriptionStyleModel",
     "state": {
      "_model_module": "@jupyter-widgets/controls",
      "_model_module_version": "1.5.0",
      "_model_name": "DescriptionStyleModel",
      "_view_count": null,
      "_view_module": "@jupyter-widgets/base",
      "_view_module_version": "1.2.0",
      "_view_name": "StyleView",
      "description_width": ""
     }
    },
    "e96d59667c804777918ec5b62ac6f493": {
     "model_module": "@jupyter-widgets/base",
     "model_module_version": "1.2.0",
     "model_name": "LayoutModel",
     "state": {
      "_model_module": "@jupyter-widgets/base",
      "_model_module_version": "1.2.0",
      "_model_name": "LayoutModel",
      "_view_count": null,
      "_view_module": "@jupyter-widgets/base",
      "_view_module_version": "1.2.0",
      "_view_name": "LayoutView",
      "align_content": null,
      "align_items": null,
      "align_self": null,
      "border": null,
      "bottom": null,
      "display": null,
      "flex": null,
      "flex_flow": null,
      "grid_area": null,
      "grid_auto_columns": null,
      "grid_auto_flow": null,
      "grid_auto_rows": null,
      "grid_column": null,
      "grid_gap": null,
      "grid_row": null,
      "grid_template_areas": null,
      "grid_template_columns": null,
      "grid_template_rows": null,
      "height": null,
      "justify_content": null,
      "justify_items": null,
      "left": null,
      "margin": null,
      "max_height": null,
      "max_width": null,
      "min_height": null,
      "min_width": null,
      "object_fit": null,
      "object_position": null,
      "order": null,
      "overflow": null,
      "overflow_x": null,
      "overflow_y": null,
      "padding": null,
      "right": null,
      "top": null,
      "visibility": null,
      "width": null
     }
    },
    "ea6d76489b3145019294c6b4bea5ef43": {
     "model_module": "@jupyter-widgets/controls",
     "model_module_version": "1.5.0",
     "model_name": "DescriptionStyleModel",
     "state": {
      "_model_module": "@jupyter-widgets/controls",
      "_model_module_version": "1.5.0",
      "_model_name": "DescriptionStyleModel",
      "_view_count": null,
      "_view_module": "@jupyter-widgets/base",
      "_view_module_version": "1.2.0",
      "_view_name": "StyleView",
      "description_width": ""
     }
    },
    "ea772edeee04462e8b2ead67c06539ea": {
     "model_module": "@jupyter-widgets/base",
     "model_module_version": "1.2.0",
     "model_name": "LayoutModel",
     "state": {
      "_model_module": "@jupyter-widgets/base",
      "_model_module_version": "1.2.0",
      "_model_name": "LayoutModel",
      "_view_count": null,
      "_view_module": "@jupyter-widgets/base",
      "_view_module_version": "1.2.0",
      "_view_name": "LayoutView",
      "align_content": null,
      "align_items": null,
      "align_self": null,
      "border": null,
      "bottom": null,
      "display": null,
      "flex": null,
      "flex_flow": null,
      "grid_area": null,
      "grid_auto_columns": null,
      "grid_auto_flow": null,
      "grid_auto_rows": null,
      "grid_column": null,
      "grid_gap": null,
      "grid_row": null,
      "grid_template_areas": null,
      "grid_template_columns": null,
      "grid_template_rows": null,
      "height": null,
      "justify_content": null,
      "justify_items": null,
      "left": null,
      "margin": null,
      "max_height": null,
      "max_width": null,
      "min_height": null,
      "min_width": null,
      "object_fit": null,
      "object_position": null,
      "order": null,
      "overflow": null,
      "overflow_x": null,
      "overflow_y": null,
      "padding": null,
      "right": null,
      "top": null,
      "visibility": null,
      "width": null
     }
    },
    "f14521a32e0840269b09a59b0917dfa9": {
     "model_module": "@jupyter-widgets/controls",
     "model_module_version": "1.5.0",
     "model_name": "LabelModel",
     "state": {
      "_dom_classes": [],
      "_model_module": "@jupyter-widgets/controls",
      "_model_module_version": "1.5.0",
      "_model_name": "LabelModel",
      "_view_count": null,
      "_view_module": "@jupyter-widgets/controls",
      "_view_module_version": "1.5.0",
      "_view_name": "LabelView",
      "description": "",
      "description_tooltip": null,
      "layout": "IPY_MODEL_e96d59667c804777918ec5b62ac6f493",
      "placeholder": "​",
      "style": "IPY_MODEL_b8bfe7b9973a47b580846c65db903bb6",
      "value": "0.020 MB of 0.020 MB uploaded\r"
     }
    },
    "f2f94f9e5bca4d7cbbec78bed12ee025": {
     "model_module": "@jupyter-widgets/controls",
     "model_module_version": "1.5.0",
     "model_name": "HBoxModel",
     "state": {
      "_dom_classes": [],
      "_model_module": "@jupyter-widgets/controls",
      "_model_module_version": "1.5.0",
      "_model_name": "HBoxModel",
      "_view_count": null,
      "_view_module": "@jupyter-widgets/controls",
      "_view_module_version": "1.5.0",
      "_view_name": "HBoxView",
      "box_style": "",
      "children": [
       "IPY_MODEL_1e5a96d87c00423494a7877ad5b72dba",
       "IPY_MODEL_12c75ab90ef9449d9fe3cf1c0624fe45",
       "IPY_MODEL_9ca9ca4a58e5449f91615c00f92d41a1"
      ],
      "layout": "IPY_MODEL_7dafb0bf56fc420a9e549227ed568296"
     }
    },
    "f37a931403dd4847a15bee1337f947cd": {
     "model_module": "@jupyter-widgets/controls",
     "model_module_version": "1.5.0",
     "model_name": "DescriptionStyleModel",
     "state": {
      "_model_module": "@jupyter-widgets/controls",
      "_model_module_version": "1.5.0",
      "_model_name": "DescriptionStyleModel",
      "_view_count": null,
      "_view_module": "@jupyter-widgets/base",
      "_view_module_version": "1.2.0",
      "_view_name": "StyleView",
      "description_width": ""
     }
    },
    "f546a30252d6453cbf758d2568cf8d34": {
     "model_module": "@jupyter-widgets/controls",
     "model_module_version": "1.5.0",
     "model_name": "ProgressStyleModel",
     "state": {
      "_model_module": "@jupyter-widgets/controls",
      "_model_module_version": "1.5.0",
      "_model_name": "ProgressStyleModel",
      "_view_count": null,
      "_view_module": "@jupyter-widgets/base",
      "_view_module_version": "1.2.0",
      "_view_name": "StyleView",
      "bar_color": null,
      "description_width": ""
     }
    },
    "f5f2bc1d9dce4ebdaf4c4f3aaa5e5f25": {
     "model_module": "@jupyter-widgets/base",
     "model_module_version": "1.2.0",
     "model_name": "LayoutModel",
     "state": {
      "_model_module": "@jupyter-widgets/base",
      "_model_module_version": "1.2.0",
      "_model_name": "LayoutModel",
      "_view_count": null,
      "_view_module": "@jupyter-widgets/base",
      "_view_module_version": "1.2.0",
      "_view_name": "LayoutView",
      "align_content": null,
      "align_items": null,
      "align_self": null,
      "border": null,
      "bottom": null,
      "display": null,
      "flex": null,
      "flex_flow": null,
      "grid_area": null,
      "grid_auto_columns": null,
      "grid_auto_flow": null,
      "grid_auto_rows": null,
      "grid_column": null,
      "grid_gap": null,
      "grid_row": null,
      "grid_template_areas": null,
      "grid_template_columns": null,
      "grid_template_rows": null,
      "height": null,
      "justify_content": null,
      "justify_items": null,
      "left": null,
      "margin": null,
      "max_height": null,
      "max_width": null,
      "min_height": null,
      "min_width": null,
      "object_fit": null,
      "object_position": null,
      "order": null,
      "overflow": null,
      "overflow_x": null,
      "overflow_y": null,
      "padding": null,
      "right": null,
      "top": null,
      "visibility": null,
      "width": null
     }
    },
    "f5f923f4065844f39b055d6b3c3f204d": {
     "model_module": "@jupyter-widgets/base",
     "model_module_version": "1.2.0",
     "model_name": "LayoutModel",
     "state": {
      "_model_module": "@jupyter-widgets/base",
      "_model_module_version": "1.2.0",
      "_model_name": "LayoutModel",
      "_view_count": null,
      "_view_module": "@jupyter-widgets/base",
      "_view_module_version": "1.2.0",
      "_view_name": "LayoutView",
      "align_content": null,
      "align_items": null,
      "align_self": null,
      "border": null,
      "bottom": null,
      "display": null,
      "flex": null,
      "flex_flow": null,
      "grid_area": null,
      "grid_auto_columns": null,
      "grid_auto_flow": null,
      "grid_auto_rows": null,
      "grid_column": null,
      "grid_gap": null,
      "grid_row": null,
      "grid_template_areas": null,
      "grid_template_columns": null,
      "grid_template_rows": null,
      "height": null,
      "justify_content": null,
      "justify_items": null,
      "left": null,
      "margin": null,
      "max_height": null,
      "max_width": null,
      "min_height": null,
      "min_width": null,
      "object_fit": null,
      "object_position": null,
      "order": null,
      "overflow": null,
      "overflow_x": null,
      "overflow_y": null,
      "padding": null,
      "right": null,
      "top": null,
      "visibility": null,
      "width": null
     }
    },
    "f7131299a1134e84807dc13474db55dc": {
     "model_module": "@jupyter-widgets/base",
     "model_module_version": "1.2.0",
     "model_name": "LayoutModel",
     "state": {
      "_model_module": "@jupyter-widgets/base",
      "_model_module_version": "1.2.0",
      "_model_name": "LayoutModel",
      "_view_count": null,
      "_view_module": "@jupyter-widgets/base",
      "_view_module_version": "1.2.0",
      "_view_name": "LayoutView",
      "align_content": null,
      "align_items": null,
      "align_self": null,
      "border": null,
      "bottom": null,
      "display": null,
      "flex": null,
      "flex_flow": null,
      "grid_area": null,
      "grid_auto_columns": null,
      "grid_auto_flow": null,
      "grid_auto_rows": null,
      "grid_column": null,
      "grid_gap": null,
      "grid_row": null,
      "grid_template_areas": null,
      "grid_template_columns": null,
      "grid_template_rows": null,
      "height": null,
      "justify_content": null,
      "justify_items": null,
      "left": null,
      "margin": null,
      "max_height": null,
      "max_width": null,
      "min_height": null,
      "min_width": null,
      "object_fit": null,
      "object_position": null,
      "order": null,
      "overflow": null,
      "overflow_x": null,
      "overflow_y": null,
      "padding": null,
      "right": null,
      "top": null,
      "visibility": null,
      "width": null
     }
    },
    "f81d964782b7454fa6cf3783f6a0428e": {
     "model_module": "@jupyter-widgets/base",
     "model_module_version": "1.2.0",
     "model_name": "LayoutModel",
     "state": {
      "_model_module": "@jupyter-widgets/base",
      "_model_module_version": "1.2.0",
      "_model_name": "LayoutModel",
      "_view_count": null,
      "_view_module": "@jupyter-widgets/base",
      "_view_module_version": "1.2.0",
      "_view_name": "LayoutView",
      "align_content": null,
      "align_items": null,
      "align_self": null,
      "border": null,
      "bottom": null,
      "display": null,
      "flex": null,
      "flex_flow": null,
      "grid_area": null,
      "grid_auto_columns": null,
      "grid_auto_flow": null,
      "grid_auto_rows": null,
      "grid_column": null,
      "grid_gap": null,
      "grid_row": null,
      "grid_template_areas": null,
      "grid_template_columns": null,
      "grid_template_rows": null,
      "height": null,
      "justify_content": null,
      "justify_items": null,
      "left": null,
      "margin": null,
      "max_height": null,
      "max_width": null,
      "min_height": null,
      "min_width": null,
      "object_fit": null,
      "object_position": null,
      "order": null,
      "overflow": null,
      "overflow_x": null,
      "overflow_y": null,
      "padding": null,
      "right": null,
      "top": null,
      "visibility": null,
      "width": null
     }
    },
    "f9569b29f3d648f38e20fb9d137637d2": {
     "model_module": "@jupyter-widgets/controls",
     "model_module_version": "1.5.0",
     "model_name": "ProgressStyleModel",
     "state": {
      "_model_module": "@jupyter-widgets/controls",
      "_model_module_version": "1.5.0",
      "_model_name": "ProgressStyleModel",
      "_view_count": null,
      "_view_module": "@jupyter-widgets/base",
      "_view_module_version": "1.2.0",
      "_view_name": "StyleView",
      "bar_color": null,
      "description_width": ""
     }
    },
    "f96808fc44a44a00b9188f151967c20f": {
     "model_module": "@jupyter-widgets/base",
     "model_module_version": "1.2.0",
     "model_name": "LayoutModel",
     "state": {
      "_model_module": "@jupyter-widgets/base",
      "_model_module_version": "1.2.0",
      "_model_name": "LayoutModel",
      "_view_count": null,
      "_view_module": "@jupyter-widgets/base",
      "_view_module_version": "1.2.0",
      "_view_name": "LayoutView",
      "align_content": null,
      "align_items": null,
      "align_self": null,
      "border": null,
      "bottom": null,
      "display": null,
      "flex": null,
      "flex_flow": null,
      "grid_area": null,
      "grid_auto_columns": null,
      "grid_auto_flow": null,
      "grid_auto_rows": null,
      "grid_column": null,
      "grid_gap": null,
      "grid_row": null,
      "grid_template_areas": null,
      "grid_template_columns": null,
      "grid_template_rows": null,
      "height": null,
      "justify_content": null,
      "justify_items": null,
      "left": null,
      "margin": null,
      "max_height": null,
      "max_width": null,
      "min_height": null,
      "min_width": null,
      "object_fit": null,
      "object_position": null,
      "order": null,
      "overflow": null,
      "overflow_x": null,
      "overflow_y": null,
      "padding": null,
      "right": null,
      "top": null,
      "visibility": null,
      "width": null
     }
    },
    "fa192685f99344c4b4ee9668edb501cd": {
     "model_module": "@jupyter-widgets/controls",
     "model_module_version": "1.5.0",
     "model_name": "FloatProgressModel",
     "state": {
      "_dom_classes": [],
      "_model_module": "@jupyter-widgets/controls",
      "_model_module_version": "1.5.0",
      "_model_name": "FloatProgressModel",
      "_view_count": null,
      "_view_module": "@jupyter-widgets/controls",
      "_view_module_version": "1.5.0",
      "_view_name": "ProgressView",
      "bar_style": "success",
      "description": "",
      "description_tooltip": null,
      "layout": "IPY_MODEL_1d460f85feb34b379a1cca568c71f165",
      "max": 25,
      "min": 0,
      "orientation": "horizontal",
      "style": "IPY_MODEL_cb66cdd1fbd64083b7e843e8e0c52af1",
      "value": 25
     }
    },
    "fa82dba71aa74f259ebb85e9d5430e5d": {
     "model_module": "@jupyter-widgets/controls",
     "model_module_version": "1.5.0",
     "model_name": "VBoxModel",
     "state": {
      "_dom_classes": [],
      "_model_module": "@jupyter-widgets/controls",
      "_model_module_version": "1.5.0",
      "_model_name": "VBoxModel",
      "_view_count": null,
      "_view_module": "@jupyter-widgets/controls",
      "_view_module_version": "1.5.0",
      "_view_name": "VBoxView",
      "box_style": "",
      "children": [
       "IPY_MODEL_f14521a32e0840269b09a59b0917dfa9",
       "IPY_MODEL_584795e068024b60a79ec368a898ed7a"
      ],
      "layout": "IPY_MODEL_f5f2bc1d9dce4ebdaf4c4f3aaa5e5f25"
     }
    },
    "fb8b41742fca4a8eb1899e9fadfda47e": {
     "model_module": "@jupyter-widgets/controls",
     "model_module_version": "1.5.0",
     "model_name": "FloatProgressModel",
     "state": {
      "_dom_classes": [],
      "_model_module": "@jupyter-widgets/controls",
      "_model_module_version": "1.5.0",
      "_model_name": "FloatProgressModel",
      "_view_count": null,
      "_view_module": "@jupyter-widgets/controls",
      "_view_module_version": "1.5.0",
      "_view_name": "ProgressView",
      "bar_style": "success",
      "description": "",
      "description_tooltip": null,
      "layout": "IPY_MODEL_b541ee68fc514d9aa7df2f86b1fd6f44",
      "max": 498818054,
      "min": 0,
      "orientation": "horizontal",
      "style": "IPY_MODEL_c0ddaf94a4a8406d9bfba97e58c27456",
      "value": 498818054
     }
    },
    "fc22db951926427592ac0cc9beb46919": {
     "model_module": "@jupyter-widgets/base",
     "model_module_version": "1.2.0",
     "model_name": "LayoutModel",
     "state": {
      "_model_module": "@jupyter-widgets/base",
      "_model_module_version": "1.2.0",
      "_model_name": "LayoutModel",
      "_view_count": null,
      "_view_module": "@jupyter-widgets/base",
      "_view_module_version": "1.2.0",
      "_view_name": "LayoutView",
      "align_content": null,
      "align_items": null,
      "align_self": null,
      "border": null,
      "bottom": null,
      "display": null,
      "flex": null,
      "flex_flow": null,
      "grid_area": null,
      "grid_auto_columns": null,
      "grid_auto_flow": null,
      "grid_auto_rows": null,
      "grid_column": null,
      "grid_gap": null,
      "grid_row": null,
      "grid_template_areas": null,
      "grid_template_columns": null,
      "grid_template_rows": null,
      "height": null,
      "justify_content": null,
      "justify_items": null,
      "left": null,
      "margin": null,
      "max_height": null,
      "max_width": null,
      "min_height": null,
      "min_width": null,
      "object_fit": null,
      "object_position": null,
      "order": null,
      "overflow": null,
      "overflow_x": null,
      "overflow_y": null,
      "padding": null,
      "right": null,
      "top": null,
      "visibility": null,
      "width": null
     }
    },
    "fc67445a27be40aea321975289fd6195": {
     "model_module": "@jupyter-widgets/base",
     "model_module_version": "1.2.0",
     "model_name": "LayoutModel",
     "state": {
      "_model_module": "@jupyter-widgets/base",
      "_model_module_version": "1.2.0",
      "_model_name": "LayoutModel",
      "_view_count": null,
      "_view_module": "@jupyter-widgets/base",
      "_view_module_version": "1.2.0",
      "_view_name": "LayoutView",
      "align_content": null,
      "align_items": null,
      "align_self": null,
      "border": null,
      "bottom": null,
      "display": null,
      "flex": null,
      "flex_flow": null,
      "grid_area": null,
      "grid_auto_columns": null,
      "grid_auto_flow": null,
      "grid_auto_rows": null,
      "grid_column": null,
      "grid_gap": null,
      "grid_row": null,
      "grid_template_areas": null,
      "grid_template_columns": null,
      "grid_template_rows": null,
      "height": null,
      "justify_content": null,
      "justify_items": null,
      "left": null,
      "margin": null,
      "max_height": null,
      "max_width": null,
      "min_height": null,
      "min_width": null,
      "object_fit": null,
      "object_position": null,
      "order": null,
      "overflow": null,
      "overflow_x": null,
      "overflow_y": null,
      "padding": null,
      "right": null,
      "top": null,
      "visibility": null,
      "width": null
     }
    },
    "fc947b48b5c4461bb10156e54f83b1d9": {
     "model_module": "@jupyter-widgets/controls",
     "model_module_version": "1.5.0",
     "model_name": "VBoxModel",
     "state": {
      "_dom_classes": [],
      "_model_module": "@jupyter-widgets/controls",
      "_model_module_version": "1.5.0",
      "_model_name": "VBoxModel",
      "_view_count": null,
      "_view_module": "@jupyter-widgets/controls",
      "_view_module_version": "1.5.0",
      "_view_name": "VBoxView",
      "box_style": "",
      "children": [
       "IPY_MODEL_09745850bd4f4ed999a528e556ac459d",
       "IPY_MODEL_9f8c38af51da408a8e78ad0ffa111e18"
      ],
      "layout": "IPY_MODEL_8205cb8f8d3f4773a71be25799838514"
     }
    },
    "fcd0cccaac2945f283d5d3839ec88fe9": {
     "model_module": "@jupyter-widgets/base",
     "model_module_version": "1.2.0",
     "model_name": "LayoutModel",
     "state": {
      "_model_module": "@jupyter-widgets/base",
      "_model_module_version": "1.2.0",
      "_model_name": "LayoutModel",
      "_view_count": null,
      "_view_module": "@jupyter-widgets/base",
      "_view_module_version": "1.2.0",
      "_view_name": "LayoutView",
      "align_content": null,
      "align_items": null,
      "align_self": null,
      "border": null,
      "bottom": null,
      "display": null,
      "flex": null,
      "flex_flow": null,
      "grid_area": null,
      "grid_auto_columns": null,
      "grid_auto_flow": null,
      "grid_auto_rows": null,
      "grid_column": null,
      "grid_gap": null,
      "grid_row": null,
      "grid_template_areas": null,
      "grid_template_columns": null,
      "grid_template_rows": null,
      "height": null,
      "justify_content": null,
      "justify_items": null,
      "left": null,
      "margin": null,
      "max_height": null,
      "max_width": null,
      "min_height": null,
      "min_width": null,
      "object_fit": null,
      "object_position": null,
      "order": null,
      "overflow": null,
      "overflow_x": null,
      "overflow_y": null,
      "padding": null,
      "right": null,
      "top": null,
      "visibility": null,
      "width": null
     }
    },
    "fd662faa71a447e983c74b8d4f84daba": {
     "model_module": "@jupyter-widgets/controls",
     "model_module_version": "1.5.0",
     "model_name": "DescriptionStyleModel",
     "state": {
      "_model_module": "@jupyter-widgets/controls",
      "_model_module_version": "1.5.0",
      "_model_name": "DescriptionStyleModel",
      "_view_count": null,
      "_view_module": "@jupyter-widgets/base",
      "_view_module_version": "1.2.0",
      "_view_name": "StyleView",
      "description_width": ""
     }
    },
    "fec7ee4035d441a6990ee44d0e4b337a": {
     "model_module": "@jupyter-widgets/controls",
     "model_module_version": "1.5.0",
     "model_name": "ProgressStyleModel",
     "state": {
      "_model_module": "@jupyter-widgets/controls",
      "_model_module_version": "1.5.0",
      "_model_name": "ProgressStyleModel",
      "_view_count": null,
      "_view_module": "@jupyter-widgets/base",
      "_view_module_version": "1.2.0",
      "_view_name": "StyleView",
      "bar_color": null,
      "description_width": ""
     }
    }
   }
  }
 },
 "nbformat": 4,
 "nbformat_minor": 4
}
